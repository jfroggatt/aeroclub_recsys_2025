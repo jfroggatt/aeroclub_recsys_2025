{
 "cells": [
  {
   "metadata": {},
   "cell_type": "code",
   "outputs": [],
   "execution_count": null,
   "source": [
    "import gc\n",
    "\n",
    "import polars as pl"
   ],
   "id": "7409b955294a3f70"
  },
  {
   "metadata": {},
   "cell_type": "code",
   "outputs": [],
   "execution_count": null,
   "source": "data = pl.read_parquet('/kaggle/input/aeroclub-recsys-2025/train.parquet').drop('selected')",
   "id": "848fd5fb134c0a5f"
  },
  {
   "metadata": {},
   "cell_type": "markdown",
   "source": "Confirm how weightMeasurementType affects the value in quantity",
   "id": "23c55fe9204db926"
  },
  {
   "cell_type": "code",
   "execution_count": null,
   "id": "initial_id",
   "metadata": {
    "collapsed": true
   },
   "outputs": [],
   "source": [
    "baggage_df = data.select([\"legs0_segments0_baggageAllowance_weightMeasurementType\", \"legs0_segments0_baggageAllowance_quantity\"])\n",
    "baggage_df_lazy = baggage_df.lazy()\n",
    "baggage_df_filtered = baggage_df_lazy.filter(~(pl.col(\"legs0_segments0_baggageAllowance_weightMeasurementType\").is_null()) & ~(pl.col(\"legs0_segments0_baggageAllowance_quantity\").is_null())).collect()"
   ]
  },
  {
   "metadata": {},
   "cell_type": "code",
   "outputs": [],
   "execution_count": null,
   "source": [
    "del baggage_df\n",
    "del baggage_df_lazy\n",
    "gc.collect()"
   ],
   "id": "a115b7645c437667"
  },
  {
   "metadata": {},
   "cell_type": "code",
   "outputs": [],
   "execution_count": null,
   "source": "baggage_df_filtered[\"legs0_segments0_baggageAllowance_weightMeasurementType\"].unique()",
   "id": "a563ac3ae2fc8d76"
  },
  {
   "metadata": {},
   "cell_type": "code",
   "outputs": [],
   "execution_count": null,
   "source": "baggage_df_filtered[\"legs0_segments0_baggageAllowance_quantity\"].unique()",
   "id": "53df282db64d8673"
  },
  {
   "metadata": {},
   "cell_type": "code",
   "outputs": [],
   "execution_count": null,
   "source": [
    "filtered_data = baggage_df_filtered.filter(pl.col(\"legs0_segments0_baggageAllowance_weightMeasurementType\") == 0)\n",
    "filtered_data[\"legs0_segments0_baggageAllowance_quantity\"].unique()"
   ],
   "id": "b83a1ee39df8b8cd"
  },
  {
   "metadata": {},
   "cell_type": "code",
   "outputs": [],
   "execution_count": null,
   "source": [
    "filtered_data = baggage_df_filtered.filter(pl.col(\"legs0_segments0_baggageAllowance_weightMeasurementType\") == 1)\n",
    "filtered_data[\"legs0_segments0_baggageAllowance_quantity\"].unique()"
   ],
   "id": "c616f809a463b693"
  }
 ],
 "metadata": {
  "kernelspec": {
   "display_name": "Python 3",
   "language": "python",
   "name": "python3"
  },
  "language_info": {
   "codemirror_mode": {
    "name": "ipython",
    "version": 2
   },
   "file_extension": ".py",
   "mimetype": "text/x-python",
   "name": "python",
   "nbconvert_exporter": "python",
   "pygments_lexer": "ipython2",
   "version": "2.7.6"
  }
 },
 "nbformat": 4,
 "nbformat_minor": 5
}
