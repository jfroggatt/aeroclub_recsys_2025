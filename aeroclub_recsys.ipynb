{
 "cells": [
  {
   "metadata": {},
   "cell_type": "markdown",
   "source": [
    "# CSCA-5632: Project Final\n",
    "## Airline Flight Search Ranker\n",
    "### Project Description\n",
    "The focus of this project is to build machine learning models that can rank and predict which flight options a customer will choose when presented with the flight search results. This is a group-wise ranking problem in that the target of the model is to rank the search results within each unique search session for each customer.\n",
    "\n",
    "The dataset is provided through a Kaggle competition, hosted by the Aeroclub IT ([FlightRank 2025: Aeroclub RecSysCup](#acknowledgements)). The data is provided as a parquet file containing approximately 18 million rows of flight search results for ~33 thousand customers over a seven month period. Given the size of the dataset, the project will be broken into multiple steps, each with a specific focus.\n",
    "\n",
    "The goal is to build a machine learning model, based on the historical data, that can rank the results of a flight search and predict based on the ranking of the search results. The model will be evaluated on a holdout set of data, and the final model will be used to rank the flight search results for the test set.\n",
    "\n",
    "The approach for this project is to perform the final predictions by breaking the problem into two parts:\n",
    "\n",
    "1. **Customer Clustering**: For the first part, we will use unsupervised learning to cluster the customers into groups based on profile, search, and behavioral features.\n",
    "2. **Flight Ranker**: For the second part, we will use a ranking model to predict the rank of the flight search results for each customer search session, with a separate model trained for each customer segment.\n",
    "\n",
    "The results will be evaluated using the HitRate@3 metric to compare the selected flight to the top 3 ranking search results for each search session.\n",
    "\n",
    "$HitRate@3 = \\frac{1}{|Q|} \\sum_{i=1}^{|Q|} 1(rank_i \\leq 3)$\n",
    "\n",
    "Where:\n",
    "* $|Q|$ is the number of searches within a search session\n",
    "* $rank_i$ is the rank of the $i^{th}$ search\n",
    "* $1(rank_i \\leq 3)$ is 1 if the correct flight is in the top-3, 0 otherwise\n",
    "\n",
    "### Project Setup\n",
    "Instructions for setting up the project can be found in [**README.md**](./README.md)\n",
    "\n",
    "\n",
    "### Project Summary\n",
    "A summary of the project and steps can be found in [**README.md**](./README.md)"
   ],
   "id": "8a77807f92f26ee"
  },
  {
   "metadata": {},
   "cell_type": "markdown",
   "source": [
    "## Table of Contents\n",
    "\n",
    "- [Imports](#imports)\n",
    "- [Data Source](#data-source)\n",
    "- [Exploratory Data Analysis](#exploratory-data-analysis)\n",
    "- [Customer Segmentation](#customer-segmentation)\n",
    "    - [Feature Engineering](#feature-engineering)\n",
    "    - [Models](#models)\n",
    "    - [Model Selection](#model-selection)\n",
    "- [Flight Ranking](#flight-ranking)\n",
    "    - [Feature Engineering](#feature-engineering-1)\n",
    "    - [Models](#models-1)\n",
    "    - [Model Selection](#model-selection-1)\n",
    "- [Final Results](#final-results)\n",
    "- [Next Steps](#next-steps)\n",
    "- [License](#license)\n",
    "- [Acknowledgements](#acknowledgements)"
   ],
   "id": "ff235a3292280b7c"
  },
  {
   "metadata": {},
   "cell_type": "markdown",
   "source": [
    "### Imports\n",
    "Import the libraries and functions needed for the project"
   ],
   "id": "9743265660c41e16"
  },
  {
   "metadata": {
    "ExecuteTime": {
     "end_time": "2025-09-26T22:25:32.764896Z",
     "start_time": "2025-09-26T22:25:31.965263Z"
    }
   },
   "cell_type": "code",
   "source": [
    "import gc\n",
    "import joblib\n",
    "import polars as pl\n",
    "import polars.selectors as cs\n",
    "\n",
    "import matplotlib.pyplot as plt\n",
    "import seaborn as sns\n",
    "from polars.polars import ColumnNotFoundError\n",
    "from sklearn.metrics import silhouette_score\n",
    "\n",
    "# project functions\n",
    "from src.utils import stratified_flight_count_split\n",
    "\n",
    "%load_ext autoreload\n",
    "%autoreload 2"
   ],
   "id": "fbc121e30a2defb3",
   "outputs": [],
   "execution_count": 1
  },
  {
   "metadata": {},
   "cell_type": "markdown",
   "source": [
    "### Dataset Source\n",
    "The dataset used for this project was provided by the [FlightRank 2025: Aeroclub RecSysCup](#acknowledgements) competition on [Kaggle](https://www.kaggle.com). The dataset files are too large to maintain within the [GitHut](https://github.com/jfroggatt/aeroclub_recsys_2025) project respository, so the competition project archive is downloaded to the local working directory, '/kaggle/input/aeroclub-recsys-2025/', and the `train.parquet` file is extracted. No other files are needed from the competition project archive."
   ],
   "id": "f14343b2850e502"
  },
  {
   "metadata": {
    "ExecuteTime": {
     "end_time": "2025-09-26T22:25:40.097131Z",
     "start_time": "2025-09-26T22:25:35.537573Z"
    }
   },
   "cell_type": "code",
   "source": [
    "# load train data file\n",
    "train_df = pl.read_parquet('/kaggle/input/aeroclub-recsys-2025/train.parquet')"
   ],
   "id": "20204af1762921bf",
   "outputs": [],
   "execution_count": 2
  },
  {
   "metadata": {},
   "cell_type": "markdown",
   "source": [
    "### Exploratory Data Analysis\n",
    "\n",
    "In this section, we will explore the flight search data set from the `train.parquet` project file.\n",
    "\n",
    "First, let's look at the shape, examine the first 100 rows of the data."
   ],
   "id": "87704a3ce2eaf081"
  },
  {
   "metadata": {
    "ExecuteTime": {
     "end_time": "2025-09-26T22:25:42.393551Z",
     "start_time": "2025-09-26T22:25:42.277676Z"
    }
   },
   "cell_type": "code",
   "source": [
    "print(f'train data shape: {train_df.shape}')\n",
    "train_df.head()"
   ],
   "id": "257969c53a7f70b9",
   "outputs": [
    {
     "name": "stdout",
     "output_type": "stream",
     "text": [
      "train data shape: (18145372, 127)\n"
     ]
    },
    {
     "data": {
      "text/plain": [
       "shape: (5, 127)\n",
       "┌─────┬────────┬───────────┬─────────────────┬───┬────────┬────────────┬──────────┬────────────────┐\n",
       "│ Id  ┆ bySelf ┆ companyID ┆ corporateTariff ┆ … ┆ taxes  ┆ totalPrice ┆ selected ┆ __index_level_ │\n",
       "│ --- ┆ ---    ┆ ---       ┆ Code            ┆   ┆ ---    ┆ ---        ┆ ---      ┆ 0__            │\n",
       "│ i64 ┆ bool   ┆ i64       ┆ ---             ┆   ┆ f64    ┆ f64        ┆ i64      ┆ ---            │\n",
       "│     ┆        ┆           ┆ i64             ┆   ┆        ┆            ┆          ┆ i64            │\n",
       "╞═════╪════════╪═══════════╪═════════════════╪═══╪════════╪════════════╪══════════╪════════════════╡\n",
       "│ 0   ┆ true   ┆ 57323     ┆ null            ┆ … ┆ 370.0  ┆ 16884.0    ┆ 1        ┆ 0              │\n",
       "│ 1   ┆ true   ┆ 57323     ┆ 123             ┆ … ┆ 2240.0 ┆ 51125.0    ┆ 0        ┆ 1              │\n",
       "│ 2   ┆ true   ┆ 57323     ┆ null            ┆ … ┆ 2240.0 ┆ 53695.0    ┆ 0        ┆ 2              │\n",
       "│ 3   ┆ true   ┆ 57323     ┆ 123             ┆ … ┆ 2240.0 ┆ 81880.0    ┆ 0        ┆ 3              │\n",
       "│ 4   ┆ true   ┆ 57323     ┆ null            ┆ … ┆ 2240.0 ┆ 86070.0    ┆ 0        ┆ 4              │\n",
       "└─────┴────────┴───────────┴─────────────────┴───┴────────┴────────────┴──────────┴────────────────┘"
      ],
      "text/html": [
       "<div><style>\n",
       ".dataframe > thead > tr,\n",
       ".dataframe > tbody > tr {\n",
       "  text-align: right;\n",
       "  white-space: pre-wrap;\n",
       "}\n",
       "</style>\n",
       "<small>shape: (5, 127)</small><table border=\"1\" class=\"dataframe\"><thead><tr><th>Id</th><th>bySelf</th><th>companyID</th><th>corporateTariffCode</th><th>frequentFlyer</th><th>nationality</th><th>isAccess3D</th><th>isVip</th><th>legs0_arrivalAt</th><th>legs0_departureAt</th><th>legs0_duration</th><th>legs0_segments0_aircraft_code</th><th>legs0_segments0_arrivalTo_airport_city_iata</th><th>legs0_segments0_arrivalTo_airport_iata</th><th>legs0_segments0_baggageAllowance_quantity</th><th>legs0_segments0_baggageAllowance_weightMeasurementType</th><th>legs0_segments0_cabinClass</th><th>legs0_segments0_departureFrom_airport_iata</th><th>legs0_segments0_duration</th><th>legs0_segments0_flightNumber</th><th>legs0_segments0_marketingCarrier_code</th><th>legs0_segments0_operatingCarrier_code</th><th>legs0_segments0_seatsAvailable</th><th>legs0_segments1_aircraft_code</th><th>legs0_segments1_arrivalTo_airport_city_iata</th><th>legs0_segments1_arrivalTo_airport_iata</th><th>legs0_segments1_baggageAllowance_quantity</th><th>legs0_segments1_baggageAllowance_weightMeasurementType</th><th>legs0_segments1_cabinClass</th><th>legs0_segments1_departureFrom_airport_iata</th><th>legs0_segments1_duration</th><th>legs0_segments1_flightNumber</th><th>legs0_segments1_marketingCarrier_code</th><th>legs0_segments1_operatingCarrier_code</th><th>legs0_segments1_seatsAvailable</th><th>legs0_segments2_aircraft_code</th><th>legs0_segments2_arrivalTo_airport_city_iata</th><th>&hellip;</th><th>legs1_segments2_baggageAllowance_weightMeasurementType</th><th>legs1_segments2_cabinClass</th><th>legs1_segments2_departureFrom_airport_iata</th><th>legs1_segments2_duration</th><th>legs1_segments2_flightNumber</th><th>legs1_segments2_marketingCarrier_code</th><th>legs1_segments2_operatingCarrier_code</th><th>legs1_segments2_seatsAvailable</th><th>legs1_segments3_aircraft_code</th><th>legs1_segments3_arrivalTo_airport_city_iata</th><th>legs1_segments3_arrivalTo_airport_iata</th><th>legs1_segments3_baggageAllowance_quantity</th><th>legs1_segments3_baggageAllowance_weightMeasurementType</th><th>legs1_segments3_cabinClass</th><th>legs1_segments3_departureFrom_airport_iata</th><th>legs1_segments3_duration</th><th>legs1_segments3_flightNumber</th><th>legs1_segments3_marketingCarrier_code</th><th>legs1_segments3_operatingCarrier_code</th><th>legs1_segments3_seatsAvailable</th><th>miniRules0_monetaryAmount</th><th>miniRules0_percentage</th><th>miniRules0_statusInfos</th><th>miniRules1_monetaryAmount</th><th>miniRules1_percentage</th><th>miniRules1_statusInfos</th><th>pricingInfo_isAccessTP</th><th>pricingInfo_passengerCount</th><th>profileId</th><th>ranker_id</th><th>requestDate</th><th>searchRoute</th><th>sex</th><th>taxes</th><th>totalPrice</th><th>selected</th><th>__index_level_0__</th></tr><tr><td>i64</td><td>bool</td><td>i64</td><td>i64</td><td>str</td><td>i64</td><td>bool</td><td>bool</td><td>str</td><td>str</td><td>str</td><td>str</td><td>str</td><td>str</td><td>f64</td><td>f64</td><td>f64</td><td>str</td><td>str</td><td>str</td><td>str</td><td>str</td><td>f64</td><td>str</td><td>str</td><td>str</td><td>f64</td><td>f64</td><td>f64</td><td>str</td><td>str</td><td>str</td><td>str</td><td>str</td><td>f64</td><td>str</td><td>str</td><td>&hellip;</td><td>f64</td><td>f64</td><td>str</td><td>str</td><td>str</td><td>str</td><td>str</td><td>f64</td><td>str</td><td>str</td><td>str</td><td>f64</td><td>f64</td><td>f64</td><td>str</td><td>str</td><td>str</td><td>str</td><td>str</td><td>f64</td><td>f64</td><td>f64</td><td>f64</td><td>f64</td><td>f64</td><td>f64</td><td>f64</td><td>i64</td><td>i64</td><td>str</td><td>datetime[ns]</td><td>str</td><td>bool</td><td>f64</td><td>f64</td><td>i64</td><td>i64</td></tr></thead><tbody><tr><td>0</td><td>true</td><td>57323</td><td>null</td><td>&quot;S7/SU/UT&quot;</td><td>36</td><td>false</td><td>false</td><td>&quot;2024-06-15T16:20:00&quot;</td><td>&quot;2024-06-15T15:40:00&quot;</td><td>&quot;02:40:00&quot;</td><td>&quot;YK2&quot;</td><td>&quot;KJA&quot;</td><td>&quot;KJA&quot;</td><td>1.0</td><td>0.0</td><td>1.0</td><td>&quot;TLK&quot;</td><td>&quot;02:40:00&quot;</td><td>&quot;216&quot;</td><td>&quot;KV&quot;</td><td>&quot;KV&quot;</td><td>9.0</td><td>null</td><td>null</td><td>null</td><td>null</td><td>null</td><td>null</td><td>null</td><td>null</td><td>null</td><td>null</td><td>null</td><td>null</td><td>null</td><td>null</td><td>&hellip;</td><td>null</td><td>null</td><td>null</td><td>null</td><td>null</td><td>null</td><td>null</td><td>null</td><td>null</td><td>null</td><td>null</td><td>null</td><td>null</td><td>null</td><td>null</td><td>null</td><td>null</td><td>null</td><td>null</td><td>null</td><td>null</td><td>null</td><td>null</td><td>null</td><td>null</td><td>null</td><td>1.0</td><td>1</td><td>2087645</td><td>&quot;98ce0dabf6964640b63079fbafd42c…</td><td>2024-05-17 03:03:08</td><td>&quot;TLKKJA/KJATLK&quot;</td><td>true</td><td>370.0</td><td>16884.0</td><td>1</td><td>0</td></tr><tr><td>1</td><td>true</td><td>57323</td><td>123</td><td>&quot;S7/SU/UT&quot;</td><td>36</td><td>true</td><td>false</td><td>&quot;2024-06-15T14:50:00&quot;</td><td>&quot;2024-06-15T09:25:00&quot;</td><td>&quot;07:25:00&quot;</td><td>&quot;E70&quot;</td><td>&quot;OVB&quot;</td><td>&quot;OVB&quot;</td><td>1.0</td><td>0.0</td><td>1.0</td><td>&quot;TLK&quot;</td><td>&quot;02:50:00&quot;</td><td>&quot;5358&quot;</td><td>&quot;S7&quot;</td><td>&quot;S7&quot;</td><td>4.0</td><td>&quot;E70&quot;</td><td>&quot;KJA&quot;</td><td>&quot;KJA&quot;</td><td>1.0</td><td>0.0</td><td>1.0</td><td>&quot;OVB&quot;</td><td>&quot;01:20:00&quot;</td><td>&quot;5311&quot;</td><td>&quot;S7&quot;</td><td>&quot;S7&quot;</td><td>4.0</td><td>null</td><td>null</td><td>&hellip;</td><td>null</td><td>null</td><td>null</td><td>null</td><td>null</td><td>null</td><td>null</td><td>null</td><td>null</td><td>null</td><td>null</td><td>null</td><td>null</td><td>null</td><td>null</td><td>null</td><td>null</td><td>null</td><td>null</td><td>null</td><td>2300.0</td><td>null</td><td>1.0</td><td>3500.0</td><td>null</td><td>1.0</td><td>1.0</td><td>1</td><td>2087645</td><td>&quot;98ce0dabf6964640b63079fbafd42c…</td><td>2024-05-17 03:03:08</td><td>&quot;TLKKJA/KJATLK&quot;</td><td>true</td><td>2240.0</td><td>51125.0</td><td>0</td><td>1</td></tr><tr><td>2</td><td>true</td><td>57323</td><td>null</td><td>&quot;S7/SU/UT&quot;</td><td>36</td><td>false</td><td>false</td><td>&quot;2024-06-15T14:50:00&quot;</td><td>&quot;2024-06-15T09:25:00&quot;</td><td>&quot;07:25:00&quot;</td><td>&quot;E70&quot;</td><td>&quot;OVB&quot;</td><td>&quot;OVB&quot;</td><td>1.0</td><td>0.0</td><td>1.0</td><td>&quot;TLK&quot;</td><td>&quot;02:50:00&quot;</td><td>&quot;5358&quot;</td><td>&quot;S7&quot;</td><td>&quot;S7&quot;</td><td>4.0</td><td>&quot;E70&quot;</td><td>&quot;KJA&quot;</td><td>&quot;KJA&quot;</td><td>1.0</td><td>0.0</td><td>1.0</td><td>&quot;OVB&quot;</td><td>&quot;01:20:00&quot;</td><td>&quot;5311&quot;</td><td>&quot;S7&quot;</td><td>&quot;S7&quot;</td><td>4.0</td><td>null</td><td>null</td><td>&hellip;</td><td>null</td><td>null</td><td>null</td><td>null</td><td>null</td><td>null</td><td>null</td><td>null</td><td>null</td><td>null</td><td>null</td><td>null</td><td>null</td><td>null</td><td>null</td><td>null</td><td>null</td><td>null</td><td>null</td><td>null</td><td>2300.0</td><td>null</td><td>1.0</td><td>3500.0</td><td>null</td><td>1.0</td><td>1.0</td><td>1</td><td>2087645</td><td>&quot;98ce0dabf6964640b63079fbafd42c…</td><td>2024-05-17 03:03:08</td><td>&quot;TLKKJA/KJATLK&quot;</td><td>true</td><td>2240.0</td><td>53695.0</td><td>0</td><td>2</td></tr><tr><td>3</td><td>true</td><td>57323</td><td>123</td><td>&quot;S7/SU/UT&quot;</td><td>36</td><td>true</td><td>false</td><td>&quot;2024-06-15T14:50:00&quot;</td><td>&quot;2024-06-15T09:25:00&quot;</td><td>&quot;07:25:00&quot;</td><td>&quot;E70&quot;</td><td>&quot;OVB&quot;</td><td>&quot;OVB&quot;</td><td>1.0</td><td>0.0</td><td>1.0</td><td>&quot;TLK&quot;</td><td>&quot;02:50:00&quot;</td><td>&quot;5358&quot;</td><td>&quot;S7&quot;</td><td>&quot;S7&quot;</td><td>4.0</td><td>&quot;E70&quot;</td><td>&quot;KJA&quot;</td><td>&quot;KJA&quot;</td><td>1.0</td><td>0.0</td><td>1.0</td><td>&quot;OVB&quot;</td><td>&quot;01:20:00&quot;</td><td>&quot;5311&quot;</td><td>&quot;S7&quot;</td><td>&quot;S7&quot;</td><td>4.0</td><td>null</td><td>null</td><td>&hellip;</td><td>null</td><td>null</td><td>null</td><td>null</td><td>null</td><td>null</td><td>null</td><td>null</td><td>null</td><td>null</td><td>null</td><td>null</td><td>null</td><td>null</td><td>null</td><td>null</td><td>null</td><td>null</td><td>null</td><td>null</td><td>0.0</td><td>null</td><td>1.0</td><td>0.0</td><td>null</td><td>1.0</td><td>1.0</td><td>1</td><td>2087645</td><td>&quot;98ce0dabf6964640b63079fbafd42c…</td><td>2024-05-17 03:03:08</td><td>&quot;TLKKJA/KJATLK&quot;</td><td>true</td><td>2240.0</td><td>81880.0</td><td>0</td><td>3</td></tr><tr><td>4</td><td>true</td><td>57323</td><td>null</td><td>&quot;S7/SU/UT&quot;</td><td>36</td><td>false</td><td>false</td><td>&quot;2024-06-15T14:50:00&quot;</td><td>&quot;2024-06-15T09:25:00&quot;</td><td>&quot;07:25:00&quot;</td><td>&quot;E70&quot;</td><td>&quot;OVB&quot;</td><td>&quot;OVB&quot;</td><td>1.0</td><td>0.0</td><td>1.0</td><td>&quot;TLK&quot;</td><td>&quot;02:50:00&quot;</td><td>&quot;5358&quot;</td><td>&quot;S7&quot;</td><td>&quot;S7&quot;</td><td>4.0</td><td>&quot;E70&quot;</td><td>&quot;KJA&quot;</td><td>&quot;KJA&quot;</td><td>1.0</td><td>0.0</td><td>1.0</td><td>&quot;OVB&quot;</td><td>&quot;01:20:00&quot;</td><td>&quot;5311&quot;</td><td>&quot;S7&quot;</td><td>&quot;S7&quot;</td><td>4.0</td><td>null</td><td>null</td><td>&hellip;</td><td>null</td><td>null</td><td>null</td><td>null</td><td>null</td><td>null</td><td>null</td><td>null</td><td>null</td><td>null</td><td>null</td><td>null</td><td>null</td><td>null</td><td>null</td><td>null</td><td>null</td><td>null</td><td>null</td><td>null</td><td>0.0</td><td>null</td><td>1.0</td><td>0.0</td><td>null</td><td>1.0</td><td>1.0</td><td>1</td><td>2087645</td><td>&quot;98ce0dabf6964640b63079fbafd42c…</td><td>2024-05-17 03:03:08</td><td>&quot;TLKKJA/KJATLK&quot;</td><td>true</td><td>2240.0</td><td>86070.0</td><td>0</td><td>4</td></tr></tbody></table></div>"
      ]
     },
     "execution_count": 3,
     "metadata": {},
     "output_type": "execute_result"
    }
   ],
   "execution_count": 3
  },
  {
   "metadata": {},
   "cell_type": "markdown",
   "source": "Let's look at the number of flight search responses, unique searches, and customers",
   "id": "872befd9af98d323"
  },
  {
   "metadata": {
    "ExecuteTime": {
     "end_time": "2025-09-26T22:25:46.704580Z",
     "start_time": "2025-09-26T22:25:46.128982Z"
    }
   },
   "cell_type": "code",
   "source": [
    "print(f'Number of flights: {len(train_df)}')\n",
    "print(f'Number of unique searches: {train_df[\"ranker_id\"].unique().count()}')\n",
    "print(f'Number of unique customers: {train_df[\"profileId\"].unique().count()}')"
   ],
   "id": "3f9badd281383239",
   "outputs": [
    {
     "name": "stdout",
     "output_type": "stream",
     "text": [
      "Number of flights: 18145372\n",
      "Number of unique searches: 105539\n",
      "Number of unique customers: 32922\n"
     ]
    }
   ],
   "execution_count": 4
  },
  {
   "metadata": {},
   "cell_type": "markdown",
   "source": "Let's see how many search sessions do not result in a selected flight.",
   "id": "a7431aae4280f849"
  },
  {
   "metadata": {
    "ExecuteTime": {
     "end_time": "2025-09-26T22:25:50.636740Z",
     "start_time": "2025-09-26T22:25:50.025928Z"
    }
   },
   "cell_type": "code",
   "source": [
    "sessions_without_selection = (\n",
    "    train_df.lazy()\n",
    "    .group_by('ranker_id')\n",
    "    .agg(pl.col('selected').max().alias('has_selection'))\n",
    "    .filter(pl.col('has_selection') != 1)\n",
    "    .select('ranker_id')\n",
    "    .collect()\n",
    ")\n",
    "\n",
    "print(f\"Number of sessions without selections: {len(sessions_without_selection)}\")"
   ],
   "id": "76109822fd3dc3e9",
   "outputs": [
    {
     "name": "stdout",
     "output_type": "stream",
     "text": [
      "Number of sessions without selections: 0\n"
     ]
    }
   ],
   "execution_count": 5
  },
  {
   "metadata": {},
   "cell_type": "markdown",
   "source": "Let's look at the distribution of the count of flight search results by unique search session",
   "id": "a6d4817b5b0b98"
  },
  {
   "metadata": {
    "ExecuteTime": {
     "end_time": "2025-09-23T16:34:12.767203Z",
     "start_time": "2025-09-23T16:33:59.312682Z"
    }
   },
   "cell_type": "code",
   "source": [
    "# Distribution of the flight counts per search\n",
    "flight_counts = train_df.group_by('ranker_id').len().sort(by='len', descending=True)\n",
    "\n",
    "flight_counts.head(100)"
   ],
   "id": "506ed387ac4e25f",
   "outputs": [
    {
     "data": {
      "text/plain": [
       "shape: (100, 2)\n",
       "┌─────────────────────────────────┬──────┐\n",
       "│ ranker_id                       ┆ len  │\n",
       "│ ---                             ┆ ---  │\n",
       "│ str                             ┆ u32  │\n",
       "╞═════════════════════════════════╪══════╡\n",
       "│ f9833fe7d58441c8a8feed74fec32a… ┆ 8236 │\n",
       "│ 796854b386874b40b4a8843f70a2b0… ┆ 7841 │\n",
       "│ 4d0bee7eede2454187405709ea1877… ┆ 7793 │\n",
       "│ db85d3d24c164a798b518be8fbce1f… ┆ 7678 │\n",
       "│ 92e54e4a04f94eec9c30a59cb729ed… ┆ 7676 │\n",
       "│ …                               ┆ …    │\n",
       "│ cc4bb1a67186494d8e9e896650ca09… ┆ 5900 │\n",
       "│ 8c9acffad7244c8d8538ceaf1ac8d9… ┆ 5896 │\n",
       "│ 60b3b8945eec402bb56a8ebdbd1b1e… ┆ 5895 │\n",
       "│ deaf507ac4ac484ab6e841cbee3432… ┆ 5895 │\n",
       "│ dbeed958e02e493497bc8f63f1452d… ┆ 5894 │\n",
       "└─────────────────────────────────┴──────┘"
      ],
      "text/html": [
       "<div><style>\n",
       ".dataframe > thead > tr,\n",
       ".dataframe > tbody > tr {\n",
       "  text-align: right;\n",
       "  white-space: pre-wrap;\n",
       "}\n",
       "</style>\n",
       "<small>shape: (100, 2)</small><table border=\"1\" class=\"dataframe\"><thead><tr><th>ranker_id</th><th>len</th></tr><tr><td>str</td><td>u32</td></tr></thead><tbody><tr><td>&quot;f9833fe7d58441c8a8feed74fec32a…</td><td>8236</td></tr><tr><td>&quot;796854b386874b40b4a8843f70a2b0…</td><td>7841</td></tr><tr><td>&quot;4d0bee7eede2454187405709ea1877…</td><td>7793</td></tr><tr><td>&quot;db85d3d24c164a798b518be8fbce1f…</td><td>7678</td></tr><tr><td>&quot;92e54e4a04f94eec9c30a59cb729ed…</td><td>7676</td></tr><tr><td>&hellip;</td><td>&hellip;</td></tr><tr><td>&quot;cc4bb1a67186494d8e9e896650ca09…</td><td>5900</td></tr><tr><td>&quot;8c9acffad7244c8d8538ceaf1ac8d9…</td><td>5896</td></tr><tr><td>&quot;60b3b8945eec402bb56a8ebdbd1b1e…</td><td>5895</td></tr><tr><td>&quot;deaf507ac4ac484ab6e841cbee3432…</td><td>5895</td></tr><tr><td>&quot;dbeed958e02e493497bc8f63f1452d…</td><td>5894</td></tr></tbody></table></div>"
      ]
     },
     "execution_count": 11,
     "metadata": {},
     "output_type": "execute_result"
    }
   ],
   "execution_count": 11
  },
  {
   "metadata": {
    "ExecuteTime": {
     "end_time": "2025-09-23T16:34:17.665751Z",
     "start_time": "2025-09-23T16:34:17.544775Z"
    }
   },
   "cell_type": "code",
   "source": "flight_counts.tail(100)",
   "id": "39771598a76f74f8",
   "outputs": [
    {
     "data": {
      "text/plain": [
       "shape: (100, 2)\n",
       "┌─────────────────────────────────┬─────┐\n",
       "│ ranker_id                       ┆ len │\n",
       "│ ---                             ┆ --- │\n",
       "│ str                             ┆ u32 │\n",
       "╞═════════════════════════════════╪═════╡\n",
       "│ 7790ee7dcfe743cdb225fdd1e43aba… ┆ 1   │\n",
       "│ 7ad050a1408348d9b905a3074ad48c… ┆ 1   │\n",
       "│ a5de7ab35f9c47d1b05431caa4fb9e… ┆ 1   │\n",
       "│ 4333e32a9be14b39a0a9104553591d… ┆ 1   │\n",
       "│ 357ef4c0fe3e43c7a80ffa6706acd7… ┆ 1   │\n",
       "│ …                               ┆ …   │\n",
       "│ b8f7dc6fea9b44a29f319e7af3f14f… ┆ 1   │\n",
       "│ 692ff1e2b52542d4b1d21d68ae7345… ┆ 1   │\n",
       "│ cb98d17675d54cc39a6ab6112ad936… ┆ 1   │\n",
       "│ 87af685d1312455e83871ab61018cb… ┆ 1   │\n",
       "│ e9deaf86fae945b98fe66c01d88e9f… ┆ 1   │\n",
       "└─────────────────────────────────┴─────┘"
      ],
      "text/html": [
       "<div><style>\n",
       ".dataframe > thead > tr,\n",
       ".dataframe > tbody > tr {\n",
       "  text-align: right;\n",
       "  white-space: pre-wrap;\n",
       "}\n",
       "</style>\n",
       "<small>shape: (100, 2)</small><table border=\"1\" class=\"dataframe\"><thead><tr><th>ranker_id</th><th>len</th></tr><tr><td>str</td><td>u32</td></tr></thead><tbody><tr><td>&quot;7790ee7dcfe743cdb225fdd1e43aba…</td><td>1</td></tr><tr><td>&quot;7ad050a1408348d9b905a3074ad48c…</td><td>1</td></tr><tr><td>&quot;a5de7ab35f9c47d1b05431caa4fb9e…</td><td>1</td></tr><tr><td>&quot;4333e32a9be14b39a0a9104553591d…</td><td>1</td></tr><tr><td>&quot;357ef4c0fe3e43c7a80ffa6706acd7…</td><td>1</td></tr><tr><td>&hellip;</td><td>&hellip;</td></tr><tr><td>&quot;b8f7dc6fea9b44a29f319e7af3f14f…</td><td>1</td></tr><tr><td>&quot;692ff1e2b52542d4b1d21d68ae7345…</td><td>1</td></tr><tr><td>&quot;cb98d17675d54cc39a6ab6112ad936…</td><td>1</td></tr><tr><td>&quot;87af685d1312455e83871ab61018cb…</td><td>1</td></tr><tr><td>&quot;e9deaf86fae945b98fe66c01d88e9f…</td><td>1</td></tr></tbody></table></div>"
      ]
     },
     "execution_count": 12,
     "metadata": {},
     "output_type": "execute_result"
    }
   ],
   "execution_count": 12
  },
  {
   "metadata": {
    "ExecuteTime": {
     "end_time": "2025-09-23T16:34:20.481620Z",
     "start_time": "2025-09-23T16:34:20.375191Z"
    }
   },
   "cell_type": "code",
   "source": [
    "# Check statistics of the flight counts per search\n",
    "flight_counts['len'].describe()"
   ],
   "id": "3e431cf3bdec594f",
   "outputs": [
    {
     "data": {
      "text/plain": [
       "shape: (9, 2)\n",
       "┌────────────┬────────────┐\n",
       "│ statistic  ┆ value      │\n",
       "│ ---        ┆ ---        │\n",
       "│ str        ┆ f64        │\n",
       "╞════════════╪════════════╡\n",
       "│ count      ┆ 105539.0   │\n",
       "│ null_count ┆ 0.0        │\n",
       "│ mean       ┆ 171.93049  │\n",
       "│ std        ┆ 445.940118 │\n",
       "│ min        ┆ 1.0        │\n",
       "│ 25%        ┆ 19.0       │\n",
       "│ 50%        ┆ 50.0       │\n",
       "│ 75%        ┆ 154.0      │\n",
       "│ max        ┆ 8236.0     │\n",
       "└────────────┴────────────┘"
      ],
      "text/html": [
       "<div><style>\n",
       ".dataframe > thead > tr,\n",
       ".dataframe > tbody > tr {\n",
       "  text-align: right;\n",
       "  white-space: pre-wrap;\n",
       "}\n",
       "</style>\n",
       "<small>shape: (9, 2)</small><table border=\"1\" class=\"dataframe\"><thead><tr><th>statistic</th><th>value</th></tr><tr><td>str</td><td>f64</td></tr></thead><tbody><tr><td>&quot;count&quot;</td><td>105539.0</td></tr><tr><td>&quot;null_count&quot;</td><td>0.0</td></tr><tr><td>&quot;mean&quot;</td><td>171.93049</td></tr><tr><td>&quot;std&quot;</td><td>445.940118</td></tr><tr><td>&quot;min&quot;</td><td>1.0</td></tr><tr><td>&quot;25%&quot;</td><td>19.0</td></tr><tr><td>&quot;50%&quot;</td><td>50.0</td></tr><tr><td>&quot;75%&quot;</td><td>154.0</td></tr><tr><td>&quot;max&quot;</td><td>8236.0</td></tr></tbody></table></div>"
      ]
     },
     "execution_count": 13,
     "metadata": {},
     "output_type": "execute_result"
    }
   ],
   "execution_count": 13
  },
  {
   "metadata": {
    "ExecuteTime": {
     "end_time": "2025-09-23T16:34:24.497784Z",
     "start_time": "2025-09-23T16:34:24.017386Z"
    }
   },
   "cell_type": "code",
   "source": [
    "# Plot the distribution of the flight counts per search\n",
    "plt.figure(figsize=(10, 6))\n",
    "sns.boxplot(flight_counts['len'])\n",
    "plt.title('Flight Counts per Search')\n",
    "plt.ylabel('Number of Flights')\n",
    "plt.show()"
   ],
   "id": "b45c8b63b95a45f6",
   "outputs": [
    {
     "data": {
      "text/plain": [
       "<Figure size 1000x600 with 1 Axes>"
      ],
      "image/png": "[encoded data removed]"
     },
     "metadata": {},
     "output_type": "display_data",
     "jetTransient": {
      "display_id": null
     }
    }
   ],
   "execution_count": 14
  },
  {
   "metadata": {
    "ExecuteTime": {
     "end_time": "2025-09-23T16:34:27.182891Z",
     "start_time": "2025-09-23T16:34:26.880006Z"
    }
   },
   "cell_type": "code",
   "source": [
    "plt.figure(figsize=(10, 6))\n",
    "sns.histplot(flight_counts['len'], bins=50, edgecolor='black', alpha=0.7)\n",
    "plt.title('Distribution of Flight Counts per Search')\n",
    "plt.xlabel('Number of Flights')\n",
    "plt.ylabel('Number of Searches')\n",
    "plt.show()"
   ],
   "id": "c6303692b128565c",
   "outputs": [
    {
     "data": {
      "text/plain": [
       "<Figure size 1000x600 with 1 Axes>"
      ],
      "image/png": "[encoded data removed]"
     },
     "metadata": {},
     "output_type": "display_data",
     "jetTransient": {
      "display_id": null
     }
    }
   ],
   "execution_count": 15
  },
  {
   "metadata": {},
   "cell_type": "markdown",
   "source": "While the number of flight search results per session is generally less than 150 (3rd Quartile), there are significantly large outliers that we will likely need to address.",
   "id": "344b8e1bcd0d8404"
  },
  {
   "metadata": {},
   "cell_type": "markdown",
   "source": "Let's look at the distribution of the number of flights searched per unique customer",
   "id": "edc379492be7e701"
  },
  {
   "metadata": {
    "ExecuteTime": {
     "end_time": "2025-09-23T16:38:55.462333Z",
     "start_time": "2025-09-23T16:38:55.078687Z"
    }
   },
   "cell_type": "code",
   "source": [
    "# Plot the distribution of number of flights searched per customer\n",
    "cust_flights_searched = train_df.lazy().group_by('profileId').len().sort(by='len', descending=True).collect()\n",
    "plt.figure(figsize=(10, 6))\n",
    "sns.boxplot(cust_flights_searched['len'])\n",
    "plt.title('Flights Searched per Customer')\n",
    "plt.ylabel('Number of Flights Searched')\n",
    "plt.show()"
   ],
   "id": "650294fcd358ff85",
   "outputs": [
    {
     "data": {
      "text/plain": [
       "<Figure size 1000x600 with 1 Axes>"
      ],
      "image/png": "[encoded data removed]"
     },
     "metadata": {},
     "output_type": "display_data",
     "jetTransient": {
      "display_id": null
     }
    }
   ],
   "execution_count": 4
  },
  {
   "metadata": {
    "ExecuteTime": {
     "end_time": "2025-09-23T16:39:00.603932Z",
     "start_time": "2025-09-23T16:39:00.340625Z"
    }
   },
   "cell_type": "code",
   "source": [
    "plt.figure(figsize=(10, 6))\n",
    "sns.histplot(cust_flights_searched['len'], bins=50, edgecolor='black', alpha=0.7)\n",
    "plt.title('Distribution of Flights Searched per Customer')\n",
    "plt.xlabel('Number of Flights Searched')\n",
    "plt.ylabel('Number of Customers')\n",
    "plt.show()"
   ],
   "id": "5cb4246488c56fda",
   "outputs": [
    {
     "data": {
      "text/plain": [
       "<Figure size 1000x600 with 1 Axes>"
      ],
      "image/png": "[encoded data removed]"
     },
     "metadata": {},
     "output_type": "display_data",
     "jetTransient": {
      "display_id": null
     }
    }
   ],
   "execution_count": 5
  },
  {
   "metadata": {
    "ExecuteTime": {
     "end_time": "2025-09-23T16:39:03.603926Z",
     "start_time": "2025-09-23T16:39:03.465475Z"
    }
   },
   "cell_type": "code",
   "source": "cust_flights_searched['len'].describe()",
   "id": "a517fb9236fddbf3",
   "outputs": [
    {
     "data": {
      "text/plain": [
       "shape: (9, 2)\n",
       "┌────────────┬─────────────┐\n",
       "│ statistic  ┆ value       │\n",
       "│ ---        ┆ ---         │\n",
       "│ str        ┆ f64         │\n",
       "╞════════════╪═════════════╡\n",
       "│ count      ┆ 32922.0     │\n",
       "│ null_count ┆ 0.0         │\n",
       "│ mean       ┆ 551.162505  │\n",
       "│ std        ┆ 1290.835383 │\n",
       "│ min        ┆ 1.0         │\n",
       "│ 25%        ┆ 53.0        │\n",
       "│ 50%        ┆ 168.0       │\n",
       "│ 75%        ┆ 505.0       │\n",
       "│ max        ┆ 28718.0     │\n",
       "└────────────┴─────────────┘"
      ],
      "text/html": [
       "<div><style>\n",
       ".dataframe > thead > tr,\n",
       ".dataframe > tbody > tr {\n",
       "  text-align: right;\n",
       "  white-space: pre-wrap;\n",
       "}\n",
       "</style>\n",
       "<small>shape: (9, 2)</small><table border=\"1\" class=\"dataframe\"><thead><tr><th>statistic</th><th>value</th></tr><tr><td>str</td><td>f64</td></tr></thead><tbody><tr><td>&quot;count&quot;</td><td>32922.0</td></tr><tr><td>&quot;null_count&quot;</td><td>0.0</td></tr><tr><td>&quot;mean&quot;</td><td>551.162505</td></tr><tr><td>&quot;std&quot;</td><td>1290.835383</td></tr><tr><td>&quot;min&quot;</td><td>1.0</td></tr><tr><td>&quot;25%&quot;</td><td>53.0</td></tr><tr><td>&quot;50%&quot;</td><td>168.0</td></tr><tr><td>&quot;75%&quot;</td><td>505.0</td></tr><tr><td>&quot;max&quot;</td><td>28718.0</td></tr></tbody></table></div>"
      ]
     },
     "execution_count": 6,
     "metadata": {},
     "output_type": "execute_result"
    }
   ],
   "execution_count": 6
  },
  {
   "metadata": {},
   "cell_type": "markdown",
   "source": "While the majority of customers generally have less than ~500 flight searches (3rd Quartile) there are definitely outliers here.",
   "id": "7bd612fabdf3f9af"
  },
  {
   "metadata": {},
   "cell_type": "markdown",
   "source": "We'll also look at the number of search sessions per customer",
   "id": "d0ee90e7bc6026ca"
  },
  {
   "metadata": {
    "ExecuteTime": {
     "end_time": "2025-09-23T16:39:15.636308Z",
     "start_time": "2025-09-23T16:39:14.510375Z"
    }
   },
   "cell_type": "code",
   "outputs": [
    {
     "data": {
      "text/plain": [
       "<Figure size 1000x600 with 1 Axes>"
      ],
      "image/png": "[encoded data removed]"
     },
     "metadata": {},
     "output_type": "display_data",
     "jetTransient": {
      "display_id": null
     }
    }
   ],
   "execution_count": 7,
   "source": [
    "# Plot the distribution of search sessions per customer\n",
    "cust_searches = train_df.lazy().group_by('profileId', 'ranker_id').len().sort(by='len', descending=True).collect()\n",
    "plt.figure(figsize=(10, 6))\n",
    "sns.boxplot(cust_searches['len'])\n",
    "plt.title('Search Sessions per Customer')\n",
    "plt.ylabel('Number of Search Sessions')\n",
    "plt.show()"
   ],
   "id": "a99d52890c408eb2"
  },
  {
   "metadata": {
    "ExecuteTime": {
     "end_time": "2025-09-23T16:39:22.817580Z",
     "start_time": "2025-09-23T16:39:22.512481Z"
    }
   },
   "cell_type": "code",
   "outputs": [
    {
     "data": {
      "text/plain": [
       "<Figure size 1000x600 with 1 Axes>"
      ],
      "image/png": "[encoded data removed]"
     },
     "metadata": {},
     "output_type": "display_data",
     "jetTransient": {
      "display_id": null
     }
    }
   ],
   "execution_count": 8,
   "source": [
    "plt.figure(figsize=(10, 6))\n",
    "sns.histplot(cust_searches['len'], bins=50, edgecolor='black', alpha=0.7)\n",
    "plt.title('Distribution of Search Sessions per Customer')\n",
    "plt.xlabel('Number of Search Sessions')\n",
    "plt.ylabel('Number of Customers')\n",
    "plt.show()"
   ],
   "id": "dbc0db387ec06f5d"
  },
  {
   "metadata": {
    "ExecuteTime": {
     "end_time": "2025-09-23T16:39:27.395098Z",
     "start_time": "2025-09-23T16:39:27.286904Z"
    }
   },
   "cell_type": "code",
   "outputs": [
    {
     "data": {
      "text/plain": [
       "shape: (9, 2)\n",
       "┌────────────┬────────────┐\n",
       "│ statistic  ┆ value      │\n",
       "│ ---        ┆ ---        │\n",
       "│ str        ┆ f64        │\n",
       "╞════════════╪════════════╡\n",
       "│ count      ┆ 105539.0   │\n",
       "│ null_count ┆ 0.0        │\n",
       "│ mean       ┆ 171.93049  │\n",
       "│ std        ┆ 445.940118 │\n",
       "│ min        ┆ 1.0        │\n",
       "│ 25%        ┆ 19.0       │\n",
       "│ 50%        ┆ 50.0       │\n",
       "│ 75%        ┆ 154.0      │\n",
       "│ max        ┆ 8236.0     │\n",
       "└────────────┴────────────┘"
      ],
      "text/html": [
       "<div><style>\n",
       ".dataframe > thead > tr,\n",
       ".dataframe > tbody > tr {\n",
       "  text-align: right;\n",
       "  white-space: pre-wrap;\n",
       "}\n",
       "</style>\n",
       "<small>shape: (9, 2)</small><table border=\"1\" class=\"dataframe\"><thead><tr><th>statistic</th><th>value</th></tr><tr><td>str</td><td>f64</td></tr></thead><tbody><tr><td>&quot;count&quot;</td><td>105539.0</td></tr><tr><td>&quot;null_count&quot;</td><td>0.0</td></tr><tr><td>&quot;mean&quot;</td><td>171.93049</td></tr><tr><td>&quot;std&quot;</td><td>445.940118</td></tr><tr><td>&quot;min&quot;</td><td>1.0</td></tr><tr><td>&quot;25%&quot;</td><td>19.0</td></tr><tr><td>&quot;50%&quot;</td><td>50.0</td></tr><tr><td>&quot;75%&quot;</td><td>154.0</td></tr><tr><td>&quot;max&quot;</td><td>8236.0</td></tr></tbody></table></div>"
      ]
     },
     "execution_count": 9,
     "metadata": {},
     "output_type": "execute_result"
    }
   ],
   "execution_count": 9,
   "source": "cust_searches['len'].describe()",
   "id": "c55bf27ee9bf86b1"
  },
  {
   "metadata": {},
   "cell_type": "markdown",
   "source": "The majority of customers have less than ~150 search sessions, with some significant outliers",
   "id": "a02c36c2db0d245"
  },
  {
   "metadata": {},
   "cell_type": "markdown",
   "source": "Now let's check the data types and attributes with NULL/Empty values.",
   "id": "28f6ed1fb0a7ab24"
  },
  {
   "metadata": {
    "ExecuteTime": {
     "end_time": "2025-09-23T00:11:36.187323Z",
     "start_time": "2025-09-23T00:11:36.078624Z"
    }
   },
   "cell_type": "code",
   "source": [
    "# Check data types\n",
    "pl.DataFrame({'data_type': [str(dtype) for dtype in train_df.schema.values()]}).group_by('data_type').len().sort('len', descending=True)"
   ],
   "id": "3770463b86cfc14d",
   "outputs": [
    {
     "data": {
      "text/plain": [
       "shape: (5, 2)\n",
       "┌─────────────────────────────────┬─────┐\n",
       "│ data_type                       ┆ len │\n",
       "│ ---                             ┆ --- │\n",
       "│ str                             ┆ u32 │\n",
       "╞═════════════════════════════════╪═════╡\n",
       "│ String                          ┆ 73  │\n",
       "│ Float64                         ┆ 41  │\n",
       "│ Int64                           ┆ 8   │\n",
       "│ Boolean                         ┆ 4   │\n",
       "│ Datetime(time_unit='ns', time_… ┆ 1   │\n",
       "└─────────────────────────────────┴─────┘"
      ],
      "text/html": [
       "<div><style>\n",
       ".dataframe > thead > tr,\n",
       ".dataframe > tbody > tr {\n",
       "  text-align: right;\n",
       "  white-space: pre-wrap;\n",
       "}\n",
       "</style>\n",
       "<small>shape: (5, 2)</small><table border=\"1\" class=\"dataframe\"><thead><tr><th>data_type</th><th>len</th></tr><tr><td>str</td><td>u32</td></tr></thead><tbody><tr><td>&quot;String&quot;</td><td>73</td></tr><tr><td>&quot;Float64&quot;</td><td>41</td></tr><tr><td>&quot;Int64&quot;</td><td>8</td></tr><tr><td>&quot;Boolean&quot;</td><td>4</td></tr><tr><td>&quot;Datetime(time_unit=&#x27;ns&#x27;, time_…</td><td>1</td></tr></tbody></table></div>"
      ]
     },
     "execution_count": 13,
     "metadata": {},
     "output_type": "execute_result"
    }
   ],
   "execution_count": 13
  },
  {
   "metadata": {
    "ExecuteTime": {
     "end_time": "2025-09-23T00:11:56.024634Z",
     "start_time": "2025-09-23T00:11:48.359586Z"
    }
   },
   "cell_type": "code",
   "source": [
    "# Determine the number and percentage of NULL/Empty values for each feature\n",
    "results = []\n",
    "for col in train_df.columns:\n",
    "    # Get null count\n",
    "    null_count = train_df.select(pl.col(col).is_null().sum()).item()\n",
    "    # Get empty string count\n",
    "    if train_df.schema[col] == pl.String:\n",
    "        empty_count = train_df.select((pl.col(col) == \"\").sum()).item()\n",
    "        missing_count = train_df.select((pl.col(col).is_null() | (pl.col(col) == \"\")).sum()).item()\n",
    "    else:\n",
    "        empty_count = 0\n",
    "        missing_count = null_count\n",
    "\n",
    "    results.append({\n",
    "        'column': col,\n",
    "        'data_type': str(train_df.schema[col]),\n",
    "        'null_count': null_count,\n",
    "        'empty_count': empty_count,\n",
    "        'missing_count': missing_count,\n",
    "        'missing_percentage': round(missing_count / len(train_df) * 100, 2)\n",
    "    })\n",
    "null_summary = pl.DataFrame(results)"
   ],
   "id": "2b4eb10ee520b203",
   "outputs": [],
   "execution_count": 14
  },
  {
   "metadata": {
    "ExecuteTime": {
     "end_time": "2025-09-23T00:12:03.151923Z",
     "start_time": "2025-09-23T00:12:03.030617Z"
    }
   },
   "cell_type": "code",
   "source": [
    "# features with no NULL/Empty values:\n",
    "null_summary.filter(pl.col('missing_count') == 0)"
   ],
   "id": "598871b26d02c3e7",
   "outputs": [
    {
     "data": {
      "text/plain": [
       "shape: (24, 6)\n",
       "┌───────────────────┬───────────┬────────────┬─────────────┬───────────────┬────────────────────┐\n",
       "│ column            ┆ data_type ┆ null_count ┆ empty_count ┆ missing_count ┆ missing_percentage │\n",
       "│ ---               ┆ ---       ┆ ---        ┆ ---         ┆ ---           ┆ ---                │\n",
       "│ str               ┆ str       ┆ i64        ┆ i64         ┆ i64           ┆ f64                │\n",
       "╞═══════════════════╪═══════════╪════════════╪═════════════╪═══════════════╪════════════════════╡\n",
       "│ Id                ┆ Int64     ┆ 0          ┆ 0           ┆ 0             ┆ 0.0                │\n",
       "│ bySelf            ┆ Boolean   ┆ 0          ┆ 0           ┆ 0             ┆ 0.0                │\n",
       "│ companyID         ┆ Int64     ┆ 0          ┆ 0           ┆ 0             ┆ 0.0                │\n",
       "│ nationality       ┆ Int64     ┆ 0          ┆ 0           ┆ 0             ┆ 0.0                │\n",
       "│ isAccess3D        ┆ Boolean   ┆ 0          ┆ 0           ┆ 0             ┆ 0.0                │\n",
       "│ …                 ┆ …         ┆ …          ┆ …           ┆ …             ┆ …                  │\n",
       "│ sex               ┆ Boolean   ┆ 0          ┆ 0           ┆ 0             ┆ 0.0                │\n",
       "│ taxes             ┆ Float64   ┆ 0          ┆ 0           ┆ 0             ┆ 0.0                │\n",
       "│ totalPrice        ┆ Float64   ┆ 0          ┆ 0           ┆ 0             ┆ 0.0                │\n",
       "│ selected          ┆ Int64     ┆ 0          ┆ 0           ┆ 0             ┆ 0.0                │\n",
       "│ __index_level_0__ ┆ Int64     ┆ 0          ┆ 0           ┆ 0             ┆ 0.0                │\n",
       "└───────────────────┴───────────┴────────────┴─────────────┴───────────────┴────────────────────┘"
      ],
      "text/html": [
       "<div><style>\n",
       ".dataframe > thead > tr,\n",
       ".dataframe > tbody > tr {\n",
       "  text-align: right;\n",
       "  white-space: pre-wrap;\n",
       "}\n",
       "</style>\n",
       "<small>shape: (24, 6)</small><table border=\"1\" class=\"dataframe\"><thead><tr><th>column</th><th>data_type</th><th>null_count</th><th>empty_count</th><th>missing_count</th><th>missing_percentage</th></tr><tr><td>str</td><td>str</td><td>i64</td><td>i64</td><td>i64</td><td>f64</td></tr></thead><tbody><tr><td>&quot;Id&quot;</td><td>&quot;Int64&quot;</td><td>0</td><td>0</td><td>0</td><td>0.0</td></tr><tr><td>&quot;bySelf&quot;</td><td>&quot;Boolean&quot;</td><td>0</td><td>0</td><td>0</td><td>0.0</td></tr><tr><td>&quot;companyID&quot;</td><td>&quot;Int64&quot;</td><td>0</td><td>0</td><td>0</td><td>0.0</td></tr><tr><td>&quot;nationality&quot;</td><td>&quot;Int64&quot;</td><td>0</td><td>0</td><td>0</td><td>0.0</td></tr><tr><td>&quot;isAccess3D&quot;</td><td>&quot;Boolean&quot;</td><td>0</td><td>0</td><td>0</td><td>0.0</td></tr><tr><td>&hellip;</td><td>&hellip;</td><td>&hellip;</td><td>&hellip;</td><td>&hellip;</td><td>&hellip;</td></tr><tr><td>&quot;sex&quot;</td><td>&quot;Boolean&quot;</td><td>0</td><td>0</td><td>0</td><td>0.0</td></tr><tr><td>&quot;taxes&quot;</td><td>&quot;Float64&quot;</td><td>0</td><td>0</td><td>0</td><td>0.0</td></tr><tr><td>&quot;totalPrice&quot;</td><td>&quot;Float64&quot;</td><td>0</td><td>0</td><td>0</td><td>0.0</td></tr><tr><td>&quot;selected&quot;</td><td>&quot;Int64&quot;</td><td>0</td><td>0</td><td>0</td><td>0.0</td></tr><tr><td>&quot;__index_level_0__&quot;</td><td>&quot;Int64&quot;</td><td>0</td><td>0</td><td>0</td><td>0.0</td></tr></tbody></table></div>"
      ]
     },
     "execution_count": 15,
     "metadata": {},
     "output_type": "execute_result"
    }
   ],
   "execution_count": 15
  },
  {
   "metadata": {
    "ExecuteTime": {
     "end_time": "2025-09-23T00:12:07.488428Z",
     "start_time": "2025-09-23T00:12:07.370673Z"
    }
   },
   "cell_type": "code",
   "source": [
    "# Features with NULL values < 10%\n",
    "null_summary.filter((pl.col('missing_count') > 0) & (pl.col('missing_percentage') < 10.0)).sort('missing_count')"
   ],
   "id": "303928e2f3089ba4",
   "outputs": [
    {
     "data": {
      "text/plain": [
       "shape: (12, 6)\n",
       "┌──────────────────────┬───────────┬────────────┬─────────────┬───────────────┬────────────────────┐\n",
       "│ column               ┆ data_type ┆ null_count ┆ empty_count ┆ missing_count ┆ missing_percentage │\n",
       "│ ---                  ┆ ---       ┆ ---        ┆ ---         ┆ ---           ┆ ---                │\n",
       "│ str                  ┆ str       ┆ i64        ┆ i64         ┆ i64           ┆ f64                │\n",
       "╞══════════════════════╪═══════════╪════════════╪═════════════╪═══════════════╪════════════════════╡\n",
       "│ legs0_segments0_arri ┆ String    ┆ 6          ┆ 2           ┆ 8             ┆ 0.0                │\n",
       "│ valTo_airp…          ┆           ┆            ┆             ┆               ┆                    │\n",
       "│ legs0_segments0_airc ┆ String    ┆ 14         ┆ 0           ┆ 14            ┆ 0.0                │\n",
       "│ raft_code            ┆           ┆            ┆             ┆               ┆                    │\n",
       "│ legs0_segments0_depa ┆ String    ┆ 2          ┆ 39          ┆ 41            ┆ 0.0                │\n",
       "│ rtureFrom_…          ┆           ┆            ┆             ┆               ┆                    │\n",
       "│ legs0_segments0_arri ┆ String    ┆ 113        ┆ 1           ┆ 114           ┆ 0.0                │\n",
       "│ valTo_airp…          ┆           ┆            ┆             ┆               ┆                    │\n",
       "│ legs0_segments0_bagg ┆ Float64   ┆ 1064       ┆ 0           ┆ 1064          ┆ 0.01               │\n",
       "│ ageAllowan…          ┆           ┆            ┆             ┆               ┆                    │\n",
       "│ …                    ┆ …         ┆ …          ┆ …           ┆ …             ┆ …                  │\n",
       "│ pricingInfo_isAccess ┆ Float64   ┆ 905045     ┆ 0           ┆ 905045        ┆ 4.99               │\n",
       "│ TP                   ┆           ┆            ┆             ┆               ┆                    │\n",
       "│ miniRules0_monetaryA ┆ Float64   ┆ 1395743    ┆ 0           ┆ 1395743       ┆ 7.69               │\n",
       "│ mount                ┆           ┆            ┆             ┆               ┆                    │\n",
       "│ miniRules1_monetaryA ┆ Float64   ┆ 1395743    ┆ 0           ┆ 1395743       ┆ 7.69               │\n",
       "│ mount                ┆           ┆            ┆             ┆               ┆                    │\n",
       "│ miniRules0_statusInf ┆ Float64   ┆ 1469953    ┆ 0           ┆ 1469953       ┆ 8.1                │\n",
       "│ os                   ┆           ┆            ┆             ┆               ┆                    │\n",
       "│ miniRules1_statusInf ┆ Float64   ┆ 1518169    ┆ 0           ┆ 1518169       ┆ 8.37               │\n",
       "│ os                   ┆           ┆            ┆             ┆               ┆                    │\n",
       "└──────────────────────┴───────────┴────────────┴─────────────┴───────────────┴────────────────────┘"
      ],
      "text/html": [
       "<div><style>\n",
       ".dataframe > thead > tr,\n",
       ".dataframe > tbody > tr {\n",
       "  text-align: right;\n",
       "  white-space: pre-wrap;\n",
       "}\n",
       "</style>\n",
       "<small>shape: (12, 6)</small><table border=\"1\" class=\"dataframe\"><thead><tr><th>column</th><th>data_type</th><th>null_count</th><th>empty_count</th><th>missing_count</th><th>missing_percentage</th></tr><tr><td>str</td><td>str</td><td>i64</td><td>i64</td><td>i64</td><td>f64</td></tr></thead><tbody><tr><td>&quot;legs0_segments0_arrivalTo_airp…</td><td>&quot;String&quot;</td><td>6</td><td>2</td><td>8</td><td>0.0</td></tr><tr><td>&quot;legs0_segments0_aircraft_code&quot;</td><td>&quot;String&quot;</td><td>14</td><td>0</td><td>14</td><td>0.0</td></tr><tr><td>&quot;legs0_segments0_departureFrom_…</td><td>&quot;String&quot;</td><td>2</td><td>39</td><td>41</td><td>0.0</td></tr><tr><td>&quot;legs0_segments0_arrivalTo_airp…</td><td>&quot;String&quot;</td><td>113</td><td>1</td><td>114</td><td>0.0</td></tr><tr><td>&quot;legs0_segments0_baggageAllowan…</td><td>&quot;Float64&quot;</td><td>1064</td><td>0</td><td>1064</td><td>0.01</td></tr><tr><td>&hellip;</td><td>&hellip;</td><td>&hellip;</td><td>&hellip;</td><td>&hellip;</td><td>&hellip;</td></tr><tr><td>&quot;pricingInfo_isAccessTP&quot;</td><td>&quot;Float64&quot;</td><td>905045</td><td>0</td><td>905045</td><td>4.99</td></tr><tr><td>&quot;miniRules0_monetaryAmount&quot;</td><td>&quot;Float64&quot;</td><td>1395743</td><td>0</td><td>1395743</td><td>7.69</td></tr><tr><td>&quot;miniRules1_monetaryAmount&quot;</td><td>&quot;Float64&quot;</td><td>1395743</td><td>0</td><td>1395743</td><td>7.69</td></tr><tr><td>&quot;miniRules0_statusInfos&quot;</td><td>&quot;Float64&quot;</td><td>1469953</td><td>0</td><td>1469953</td><td>8.1</td></tr><tr><td>&quot;miniRules1_statusInfos&quot;</td><td>&quot;Float64&quot;</td><td>1518169</td><td>0</td><td>1518169</td><td>8.37</td></tr></tbody></table></div>"
      ]
     },
     "execution_count": 16,
     "metadata": {},
     "output_type": "execute_result"
    }
   ],
   "execution_count": 16
  },
  {
   "metadata": {
    "ExecuteTime": {
     "end_time": "2025-09-23T00:12:08.744923Z",
     "start_time": "2025-09-23T00:12:08.631442Z"
    }
   },
   "cell_type": "code",
   "source": [
    "# Features with NULL/Empty values 10% - 50%\n",
    "null_summary.filter((pl.col('missing_percentage') >= 10.0) & (pl.col('missing_percentage') < 50.0)).sort('missing_count')"
   ],
   "id": "20c444ee804f78fe",
   "outputs": [
    {
     "data": {
      "text/plain": [
       "shape: (15, 6)\n",
       "┌──────────────────────┬───────────┬────────────┬─────────────┬───────────────┬────────────────────┐\n",
       "│ column               ┆ data_type ┆ null_count ┆ empty_count ┆ missing_count ┆ missing_percentage │\n",
       "│ ---                  ┆ ---       ┆ ---        ┆ ---         ┆ ---           ┆ ---                │\n",
       "│ str                  ┆ str       ┆ i64        ┆ i64         ┆ i64           ┆ f64                │\n",
       "╞══════════════════════╪═══════════╪════════════╪═════════════╪═══════════════╪════════════════════╡\n",
       "│ legs1_arrivalAt      ┆ String    ┆ 4387201    ┆ 0           ┆ 4387201       ┆ 24.18              │\n",
       "│ legs1_departureAt    ┆ String    ┆ 4387201    ┆ 0           ┆ 4387201       ┆ 24.18              │\n",
       "│ legs1_duration       ┆ String    ┆ 4387201    ┆ 0           ┆ 4387201       ┆ 24.18              │\n",
       "│ legs1_segments0_airc ┆ String    ┆ 4387201    ┆ 0           ┆ 4387201       ┆ 24.18              │\n",
       "│ raft_code            ┆           ┆            ┆             ┆               ┆                    │\n",
       "│ legs1_segments0_dura ┆ String    ┆ 4387201    ┆ 0           ┆ 4387201       ┆ 24.18              │\n",
       "│ tion                 ┆           ┆            ┆             ┆               ┆                    │\n",
       "│ …                    ┆ …         ┆ …          ┆ …           ┆ …             ┆ …                  │\n",
       "│ legs1_segments0_arri ┆ String    ┆ 4387237    ┆ 0           ┆ 4387237       ┆ 24.18              │\n",
       "│ valTo_airp…          ┆           ┆            ┆             ┆               ┆                    │\n",
       "│ legs1_segments0_cabi ┆ Float64   ┆ 4525013    ┆ 0           ┆ 4525013       ┆ 24.94              │\n",
       "│ nClass               ┆           ┆            ┆             ┆               ┆                    │\n",
       "│ legs1_segments0_bagg ┆ Float64   ┆ 4527297    ┆ 0           ┆ 4527297       ┆ 24.95              │\n",
       "│ ageAllowan…          ┆           ┆            ┆             ┆               ┆                    │\n",
       "│ legs1_segments0_bagg ┆ Float64   ┆ 4527297    ┆ 0           ┆ 4527297       ┆ 24.95              │\n",
       "│ ageAllowan…          ┆           ┆            ┆             ┆               ┆                    │\n",
       "│ legs1_segments0_seat ┆ Float64   ┆ 4580895    ┆ 0           ┆ 4580895       ┆ 25.25              │\n",
       "│ sAvailable           ┆           ┆            ┆             ┆               ┆                    │\n",
       "└──────────────────────┴───────────┴────────────┴─────────────┴───────────────┴────────────────────┘"
      ],
      "text/html": [
       "<div><style>\n",
       ".dataframe > thead > tr,\n",
       ".dataframe > tbody > tr {\n",
       "  text-align: right;\n",
       "  white-space: pre-wrap;\n",
       "}\n",
       "</style>\n",
       "<small>shape: (15, 6)</small><table border=\"1\" class=\"dataframe\"><thead><tr><th>column</th><th>data_type</th><th>null_count</th><th>empty_count</th><th>missing_count</th><th>missing_percentage</th></tr><tr><td>str</td><td>str</td><td>i64</td><td>i64</td><td>i64</td><td>f64</td></tr></thead><tbody><tr><td>&quot;legs1_arrivalAt&quot;</td><td>&quot;String&quot;</td><td>4387201</td><td>0</td><td>4387201</td><td>24.18</td></tr><tr><td>&quot;legs1_departureAt&quot;</td><td>&quot;String&quot;</td><td>4387201</td><td>0</td><td>4387201</td><td>24.18</td></tr><tr><td>&quot;legs1_duration&quot;</td><td>&quot;String&quot;</td><td>4387201</td><td>0</td><td>4387201</td><td>24.18</td></tr><tr><td>&quot;legs1_segments0_aircraft_code&quot;</td><td>&quot;String&quot;</td><td>4387201</td><td>0</td><td>4387201</td><td>24.18</td></tr><tr><td>&quot;legs1_segments0_duration&quot;</td><td>&quot;String&quot;</td><td>4387201</td><td>0</td><td>4387201</td><td>24.18</td></tr><tr><td>&hellip;</td><td>&hellip;</td><td>&hellip;</td><td>&hellip;</td><td>&hellip;</td><td>&hellip;</td></tr><tr><td>&quot;legs1_segments0_arrivalTo_airp…</td><td>&quot;String&quot;</td><td>4387237</td><td>0</td><td>4387237</td><td>24.18</td></tr><tr><td>&quot;legs1_segments0_cabinClass&quot;</td><td>&quot;Float64&quot;</td><td>4525013</td><td>0</td><td>4525013</td><td>24.94</td></tr><tr><td>&quot;legs1_segments0_baggageAllowan…</td><td>&quot;Float64&quot;</td><td>4527297</td><td>0</td><td>4527297</td><td>24.95</td></tr><tr><td>&quot;legs1_segments0_baggageAllowan…</td><td>&quot;Float64&quot;</td><td>4527297</td><td>0</td><td>4527297</td><td>24.95</td></tr><tr><td>&quot;legs1_segments0_seatsAvailable&quot;</td><td>&quot;Float64&quot;</td><td>4580895</td><td>0</td><td>4580895</td><td>25.25</td></tr></tbody></table></div>"
      ]
     },
     "execution_count": 17,
     "metadata": {},
     "output_type": "execute_result"
    }
   ],
   "execution_count": 17
  },
  {
   "metadata": {},
   "cell_type": "markdown",
   "source": "At first glance, I would suspect that the 24% related to missing legs1* features indicate one-way tickets.",
   "id": "35f5ce3bd55ca0a"
  },
  {
   "metadata": {
    "ExecuteTime": {
     "end_time": "2025-09-23T00:12:13.568246Z",
     "start_time": "2025-09-23T00:12:13.458608Z"
    }
   },
   "cell_type": "code",
   "source": [
    "# Features with NULL values > 50%\n",
    "null_summary.filter((pl.col('missing_percentage') >= 50.0)).sort('missing_count')"
   ],
   "id": "1d1482cabce5dbf2",
   "outputs": [
    {
     "data": {
      "text/plain": [
       "shape: (76, 6)\n",
       "┌──────────────────────┬───────────┬────────────┬─────────────┬───────────────┬────────────────────┐\n",
       "│ column               ┆ data_type ┆ null_count ┆ empty_count ┆ missing_count ┆ missing_percentage │\n",
       "│ ---                  ┆ ---       ┆ ---        ┆ ---         ┆ ---           ┆ ---                │\n",
       "│ str                  ┆ str       ┆ i64        ┆ i64         ┆ i64           ┆ f64                │\n",
       "╞══════════════════════╪═══════════╪════════════╪═════════════╪═══════════════╪════════════════════╡\n",
       "│ corporateTariffCode  ┆ Int64     ┆ 9233925    ┆ 0           ┆ 9233925       ┆ 50.89              │\n",
       "│ frequentFlyer        ┆ String    ┆ 12012727   ┆ 0           ┆ 12012727      ┆ 66.2               │\n",
       "│ legs0_segments1_arri ┆ String    ┆ 14311665   ┆ 0           ┆ 14311665      ┆ 78.87              │\n",
       "│ valTo_airp…          ┆           ┆            ┆             ┆               ┆                    │\n",
       "│ legs0_segments1_dura ┆ String    ┆ 14311665   ┆ 0           ┆ 14311665      ┆ 78.87              │\n",
       "│ tion                 ┆           ┆            ┆             ┆               ┆                    │\n",
       "│ legs0_segments1_flig ┆ String    ┆ 14311665   ┆ 0           ┆ 14311665      ┆ 78.87              │\n",
       "│ htNumber             ┆           ┆            ┆             ┆               ┆                    │\n",
       "│ …                    ┆ …         ┆ …          ┆ …           ┆ …             ┆ …                  │\n",
       "│ legs1_segments3_dura ┆ String    ┆ 18145366   ┆ 0           ┆ 18145366      ┆ 100.0              │\n",
       "│ tion                 ┆           ┆            ┆             ┆               ┆                    │\n",
       "│ legs1_segments3_flig ┆ String    ┆ 18145366   ┆ 0           ┆ 18145366      ┆ 100.0              │\n",
       "│ htNumber             ┆           ┆            ┆             ┆               ┆                    │\n",
       "│ legs1_segments3_mark ┆ String    ┆ 18145366   ┆ 0           ┆ 18145366      ┆ 100.0              │\n",
       "│ etingCarri…          ┆           ┆            ┆             ┆               ┆                    │\n",
       "│ legs1_segments3_oper ┆ String    ┆ 18145366   ┆ 0           ┆ 18145366      ┆ 100.0              │\n",
       "│ atingCarri…          ┆           ┆            ┆             ┆               ┆                    │\n",
       "│ legs1_segments3_seat ┆ Float64   ┆ 18145366   ┆ 0           ┆ 18145366      ┆ 100.0              │\n",
       "│ sAvailable           ┆           ┆            ┆             ┆               ┆                    │\n",
       "└──────────────────────┴───────────┴────────────┴─────────────┴───────────────┴────────────────────┘"
      ],
      "text/html": [
       "<div><style>\n",
       ".dataframe > thead > tr,\n",
       ".dataframe > tbody > tr {\n",
       "  text-align: right;\n",
       "  white-space: pre-wrap;\n",
       "}\n",
       "</style>\n",
       "<small>shape: (76, 6)</small><table border=\"1\" class=\"dataframe\"><thead><tr><th>column</th><th>data_type</th><th>null_count</th><th>empty_count</th><th>missing_count</th><th>missing_percentage</th></tr><tr><td>str</td><td>str</td><td>i64</td><td>i64</td><td>i64</td><td>f64</td></tr></thead><tbody><tr><td>&quot;corporateTariffCode&quot;</td><td>&quot;Int64&quot;</td><td>9233925</td><td>0</td><td>9233925</td><td>50.89</td></tr><tr><td>&quot;frequentFlyer&quot;</td><td>&quot;String&quot;</td><td>12012727</td><td>0</td><td>12012727</td><td>66.2</td></tr><tr><td>&quot;legs0_segments1_arrivalTo_airp…</td><td>&quot;String&quot;</td><td>14311665</td><td>0</td><td>14311665</td><td>78.87</td></tr><tr><td>&quot;legs0_segments1_duration&quot;</td><td>&quot;String&quot;</td><td>14311665</td><td>0</td><td>14311665</td><td>78.87</td></tr><tr><td>&quot;legs0_segments1_flightNumber&quot;</td><td>&quot;String&quot;</td><td>14311665</td><td>0</td><td>14311665</td><td>78.87</td></tr><tr><td>&hellip;</td><td>&hellip;</td><td>&hellip;</td><td>&hellip;</td><td>&hellip;</td><td>&hellip;</td></tr><tr><td>&quot;legs1_segments3_duration&quot;</td><td>&quot;String&quot;</td><td>18145366</td><td>0</td><td>18145366</td><td>100.0</td></tr><tr><td>&quot;legs1_segments3_flightNumber&quot;</td><td>&quot;String&quot;</td><td>18145366</td><td>0</td><td>18145366</td><td>100.0</td></tr><tr><td>&quot;legs1_segments3_marketingCarri…</td><td>&quot;String&quot;</td><td>18145366</td><td>0</td><td>18145366</td><td>100.0</td></tr><tr><td>&quot;legs1_segments3_operatingCarri…</td><td>&quot;String&quot;</td><td>18145366</td><td>0</td><td>18145366</td><td>100.0</td></tr><tr><td>&quot;legs1_segments3_seatsAvailable&quot;</td><td>&quot;Float64&quot;</td><td>18145366</td><td>0</td><td>18145366</td><td>100.0</td></tr></tbody></table></div>"
      ]
     },
     "execution_count": 18,
     "metadata": {},
     "output_type": "execute_result"
    }
   ],
   "execution_count": 18
  },
  {
   "metadata": {},
   "cell_type": "markdown",
   "source": "Here we see segments3 is 100% empty, meaning none of our flight search results have more than two layovers.",
   "id": "a9c58487c1bdc5a0"
  },
  {
   "metadata": {},
   "cell_type": "markdown",
   "source": [
    "Based on the inspection, some of these features are missing a large percentage of values. Given the description provided for the features, we will do the following:\n",
    "* corporateTariffCode (Corporate tariff code for businesss travel policies): impute to 0 (zero)\n",
    "* frequentFlyer (Frequent flyer program status): impute to 'NONE'\n",
    "* miniRules0_percentage (Percentage penalty for cancellation): impute to 0.0 (zero)\n",
    "* miniRules1_percentage (Percentage penalty for exchange): impute to 0.0 (zero)\n",
    "* legs[0,1]_segments[1-3]_* (flight segments): we will remove legs*_segments3_*, since none of the flights have more than two layovers. The remaining NULL values will be imputed to 0 or \"\", depending on the data type, as these will likely provide behavioral related matching."
   ],
   "id": "645baa446cf2fd0d"
  },
  {
   "metadata": {},
   "cell_type": "markdown",
   "source": "Let's look at carrier and frequent flyer codes.",
   "id": "bb5816654ff2caa4"
  },
  {
   "metadata": {
    "ExecuteTime": {
     "end_time": "2025-09-23T00:12:27.521629Z",
     "start_time": "2025-09-23T00:12:19.492822Z"
    }
   },
   "cell_type": "code",
   "source": [
    "# let's look at carrier codes\n",
    "unique_carrier_codes = (\n",
    "    train_df.select(cs.contains(\"Carrier_code\"))\n",
    "    .unpivot()\n",
    "    .select(\"value\")\n",
    "    .filter(pl.col(\"value\").is_not_null())\n",
    "    .unique().to_series().to_list()\n",
    ")\n",
    "print(unique_carrier_codes)"
   ],
   "id": "27a0cccde35714eb",
   "outputs": [
    {
     "name": "stdout",
     "output_type": "stream",
     "text": [
      "['QS', 'SA', 'V3', '2L', 'PR', 'VZ', '7T', 'KN', 'LH', 'TU', 'AD', 'HU', 'HH', 'AI', 'XC', 'YU', 'CY', 'JI', 'H1', 'UL', 'FB', 'VJ', 'U6', 'R6', 'XY', 'KM', 'ZN', 'AV', 'QR', 'TK', 'IX', 'AH', '8R', 'C3', 'A9', 'PI', 'HZ', 'VN', 'HO', 'SZ', 'N4', 'K6', 'B2', 'FZ', 'LA', 'EH', 'SG', 'G9', 'NH', 'JM', '0V', '8M', 'KB', 'TG', 'T5', '7C', 'AY', 'CX', 'TF', 'LY', 'DP', 'D2', 'JL', 'PK', 'TW', '3F', 'MH', 'TP', 'SN', 'WZ', 'WB', 'ИК', 'MF', 'WK', 'GF', 'YX', '6R', 'A3', 'OO', 'I2', 'OU', 'AT', 'SQ', 'QF', 'PW', 'IO', 'СЛ', 'A5', 'BG', 'LO', 'KA', '3U', 'BR', 'SM', 'GW', 'НИ', 'GA', 'N7', 'VA', 'ДЕ', 'Y7', '4G', 'OS', 'AA', 'BJ', 'KU', 'LV', 'СИ', '5F', '3K', 'FM', 'NX', 'PC', 'WY', '9F', 'A0', 'IZ', 'IQ', '5N', 'OK', 'KL', 'HY', 'AC', 'DY', 'OD', 'BL', 'ME', 'W2', 'BT', 'MQ', 'BA', 'J2', '9B', 'CA', 'KE', 'TC', 'KC', 'SV', 'FV', 'OZ', '7R', '4Y', 'WX', 'JJ', 'NL', 'DV', 'VF', 'AS', 'LX', 'X9', 'JU', 'A4', '5G', '6H', 'T7', 'I8', 'YW', '3L', 'ET', '2P', 'RT', 'TR', 'BI', '7G', 'EI', 'B6', 'F6', 'RM', 'ZF', 'GS', 'EE', 'UA', 'V7', 'CJ', 'AF', 'CI', 'ЮЭ', '4Z', 'LJ', 'LG', 'MU', 'F7', '4R', 'SK', 'RO', 'EO', 'DL', 'RE', 'CD', 'D8', 'I5', 'VL', 'OM', 'RJ', 'H9', 'ТГ', 'PG', 'EW', 'YC', 'VY', 'KQ', 'WS', 'UT', 'UO', 'XQ', 'QV', 'AZ', 'CL', 'NP', 'YK', 'S7', 'OV', 'KP', 'GM', 'MS', 'B7', 'EN', 'UK', '6E', 'DE', 'CM', 'IB', 'JD', 'KV', '2C', 'GQ', 'FY', 'HX', 'UX', 'EY', 'R3', 'ИГ', 'NI', 'ZH', 'EK', 'SU', 'HV', 'ВГ', '5O', 'CZ', 'G3', 'AM']\n"
     ]
    }
   ],
   "execution_count": 19
  },
  {
   "metadata": {
    "ExecuteTime": {
     "end_time": "2025-09-23T00:12:44.994571Z",
     "start_time": "2025-09-23T00:12:31.287901Z"
    }
   },
   "cell_type": "code",
   "source": [
    "carrier_cols = [col for col in train_df.columns if \"Carrier_code\" in col]\n",
    "carrier_code_counts = (\n",
    "    train_df\n",
    "    .select(pl.concat_list([pl.col(col) for col in carrier_cols]).alias(\"carrier_codes\"))\n",
    "    .select(pl.col(\"carrier_codes\").explode())\n",
    "    .filter(pl.col(\"carrier_codes\").is_not_null())\n",
    "    .select(pl.col(\"carrier_codes\").value_counts())\n",
    "    .unnest(\"carrier_codes\")\n",
    "    .sort(\"count\", descending=True)\n",
    "    .to_pandas()\n",
    ")\n",
    "\n",
    "print(carrier_code_counts)"
   ],
   "id": "a09693cd5f0c9c9c",
   "outputs": [
    {
     "name": "stdout",
     "output_type": "stream",
     "text": [
      "    carrier_codes     count\n",
      "0              SU  32936951\n",
      "1              FV  13793095\n",
      "2              S7   7072584\n",
      "3              U6   6108252\n",
      "4              TK   5200093\n",
      "..            ...       ...\n",
      "237            PK         1\n",
      "238            GQ         1\n",
      "239            XC         1\n",
      "240            GM         1\n",
      "241            K6         1\n",
      "\n",
      "[242 rows x 2 columns]\n"
     ]
    }
   ],
   "execution_count": 20
  },
  {
   "metadata": {
    "ExecuteTime": {
     "end_time": "2025-09-23T00:12:47.250328Z",
     "start_time": "2025-09-23T00:12:46.846369Z"
    }
   },
   "cell_type": "code",
   "source": [
    "# Show the top 20 carrier codes\n",
    "plt.figure(figsize=(15, 8))\n",
    "top_carriers = carrier_code_counts.head(20)\n",
    "sns.barplot(data=top_carriers, x=\"carrier_codes\", y=\"count\", palette=\"viridis\", hue=\"carrier_codes\")\n",
    "plt.title(\"Top 20 Carrier Codes by Frequency\")\n",
    "plt.xlabel(\"Carrier Code\")\n",
    "plt.ylabel(\"Frequency Count\")\n",
    "plt.xticks(rotation=45)\n",
    "plt.tight_layout()\n",
    "plt.show()"
   ],
   "id": "824b2ccd2502473f",
   "outputs": [
    {
     "data": {
      "text/plain": [
       "<Figure size 1500x800 with 1 Axes>"
      ],
      "image/png": "[encoded data removed]"
     },
     "metadata": {},
     "output_type": "display_data",
     "jetTransient": {
      "display_id": null
     }
    }
   ],
   "execution_count": 21
  },
  {
   "metadata": {
    "ExecuteTime": {
     "end_time": "2025-09-23T00:12:54.998669Z",
     "start_time": "2025-09-23T00:12:54.739261Z"
    }
   },
   "cell_type": "code",
   "source": [
    "# Show frequent flyer codes\n",
    "train_df['frequentFlyer'].unique()"
   ],
   "id": "5d35e49777a55c6c",
   "outputs": [
    {
     "data": {
      "text/plain": [
       "shape: (372,)\n",
       "Series: 'frequentFlyer' [str]\n",
       "[\n",
       "\t\"SU/U6/S7/UT\"\n",
       "\t\"SU/UT/DP\"\n",
       "\t\"SU/SU\"\n",
       "\t\"SU/QR\"\n",
       "\t\"SU/S7/6R/UT/U6\"\n",
       "\t…\n",
       "\t\"S7/B2/SU\"\n",
       "\t\"S7/DL/SU\"\n",
       "\t\"SU/TK/EY/LH\"\n",
       "\t\"DL/SU\"\n",
       "\t\"SU/5N/S7\"\n",
       "]"
      ],
      "text/html": [
       "<div><style>\n",
       ".dataframe > thead > tr,\n",
       ".dataframe > tbody > tr {\n",
       "  text-align: right;\n",
       "  white-space: pre-wrap;\n",
       "}\n",
       "</style>\n",
       "<small>shape: (372,)</small><table border=\"1\" class=\"dataframe\"><thead><tr><th>frequentFlyer</th></tr><tr><td>str</td></tr></thead><tbody><tr><td>&quot;SU/U6/S7/UT&quot;</td></tr><tr><td>&quot;SU/UT/DP&quot;</td></tr><tr><td>&quot;SU/SU&quot;</td></tr><tr><td>&quot;SU/QR&quot;</td></tr><tr><td>&quot;SU/S7/6R/UT/U6&quot;</td></tr><tr><td>&hellip;</td></tr><tr><td>&quot;S7/B2/SU&quot;</td></tr><tr><td>&quot;S7/DL/SU&quot;</td></tr><tr><td>&quot;SU/TK/EY/LH&quot;</td></tr><tr><td>&quot;DL/SU&quot;</td></tr><tr><td>&quot;SU/5N/S7&quot;</td></tr></tbody></table></div>"
      ]
     },
     "execution_count": 22,
     "metadata": {},
     "output_type": "execute_result"
    }
   ],
   "execution_count": 22
  },
  {
   "metadata": {
    "ExecuteTime": {
     "end_time": "2025-09-23T00:13:00.583498Z",
     "start_time": "2025-09-23T00:12:59.955070Z"
    }
   },
   "cell_type": "code",
   "source": [
    "# create a list of the unique frequent flyer codes\n",
    "unique_ff_codes = (\n",
    "    train_df.select(\"frequentFlyer\")\n",
    "    .filter(pl.col(\"frequentFlyer\").is_not_null())  # Remove nulls\n",
    "    .with_columns(\n",
    "        pl.col(\"frequentFlyer\").str.split(\"/\").alias(\"ff_codes\")  # Split by \"/\"\n",
    "    )\n",
    "    .select(\"ff_codes\")\n",
    "    .explode(\"ff_codes\")  # Flatten the lists into individual rows\n",
    "    .unique()  # Get unique codes\n",
    "    .sort(\"ff_codes\")  # Optional: sort them\n",
    "    .to_series()\n",
    "    .to_list()\n",
    ")\n",
    "print(unique_ff_codes)\n",
    "\n",
    "# let's see if any do not have an associated carrier code\n",
    "ff_not_in_carrier = set(unique_ff_codes) - set(unique_carrier_codes)\n",
    "print(\"\\nFF codes not in carrier list:\", ff_not_in_carrier)\n"
   ],
   "id": "d599e66a740e9748",
   "outputs": [
    {
     "name": "stdout",
     "output_type": "stream",
     "text": [
      "['- ЮТэйр ЗАО', '2G', '5N', '6R', '6W', '9X', 'A3', 'A4', 'AA', 'AB', 'AF', 'AI', 'AM', 'AT', 'AY', 'AZ', 'B2', 'BA', 'BD', 'C7', 'CA', 'CX', 'CZ', 'D2', 'D9', 'DL', 'DP', 'DV', 'EK', 'ET', 'EY', 'FV', 'FZ', 'GF', 'HU', 'HY', 'I8', 'J2', 'JP', 'JU', 'KC', 'KE', 'KL', 'LH', 'LO', 'LX', 'MS', 'MU', 'N4', 'OK', 'OS', 'OZ', 'PY', 'QR', 'R3', 'RT', 'S7', 'SK', 'SN', 'SQ', 'SU', 'SV', 'TK', 'U6', 'UA', 'UN', 'UT', 'VS', 'WY', 'Y7']\n",
      "\n",
      "FF codes not in carrier list: {'D9', '6W', 'PY', '2G', 'AB', 'C7', 'BD', 'VS', 'JP', '- ЮТэйр ЗАО', '9X', 'UN'}\n"
     ]
    }
   ],
   "execution_count": 23
  },
  {
   "metadata": {},
   "cell_type": "markdown",
   "source": [
    "Frequent Flyer codes to Airlines:\n",
    "* ЮТэйр ЗАО (translates to 'UTair JSC'):  UTair / UT\n",
    "* AB: Air Berlin / AB\n",
    "* D9: Daallo Airlines Somalia / D9\n",
    "* 2G: Northwest Seaplanes / None\n",
    "* UN: Transaero Airlines / UN (no longer in service)\n",
    "* JP: Adria Airways / JP (no longer in service)\n",
    "* 6W: Unknown\n",
    "* VS: Virgin Atlantic Airways / VS\n",
    "* BD: BMI British Midland / BD (integrated into British Airways)\n",
    "* C7: Cinnamon Air / C7\n",
    "* PY: Surinam Airways / PY\n",
    "* 9X: Air Columbia / Unknown\n",
    "\n",
    "So, translate 'ЮТэйр ЗАО' to UT and we'll keeps the others as they are."
   ],
   "id": "a35a20f6db560115"
  },
  {
   "metadata": {},
   "cell_type": "markdown",
   "source": "Let's take a look at the airport codes.",
   "id": "4f70bc7b9a6ffcff"
  },
  {
   "metadata": {
    "ExecuteTime": {
     "end_time": "2025-09-23T00:14:43.056189Z",
     "start_time": "2025-09-23T00:13:07.803883Z"
    }
   },
   "cell_type": "code",
   "source": [
    "iata_cols = [col for col in train_df.columns if \"_iata\" in col]\n",
    "\n",
    "unique_iata_codes = (\n",
    "    train_df\n",
    "    .select([\n",
    "        pl.concat_list([pl.col(col) for col in iata_cols])\n",
    "        .list.explode()\n",
    "        .drop_nulls()\n",
    "        .unique()\n",
    "        .alias('unique_iata_codes')\n",
    "    ])\n",
    "    .get_column('unique_iata_codes')\n",
    "    .to_list()\n",
    ")\n",
    "\n",
    "print(f\"Found {len(unique_iata_codes)} unique IATA codes\")\n",
    "print(unique_iata_codes)\n"
   ],
   "id": "2bfe79578a2ecece",
   "outputs": [
    {
     "name": "stdout",
     "output_type": "stream",
     "text": [
      "Found 679 unique IATA codes\n",
      "['EZV', 'SZX', 'RMO', '', 'YYZ', 'SKX', 'NYM', 'TGO', 'JJN', 'ZDN', 'PNR', 'IRT', 'UUA', 'FEG', 'WVB', 'KCK', 'NNM', 'AEP', 'JXA', 'ZYR', 'TAS', 'ECN', 'BUR', 'TOX', 'BPE', 'XIC', 'RAK', 'PEZ', 'CJB', 'LHR', 'IGU', 'XUZ', 'VCE', 'LOS', 'BDQ', 'LAD', 'AGP', 'ZVJ', 'ASB', 'LKO', 'BJS', 'KBR', 'DUB', 'VCP', 'TRV', 'BZX', 'SAW', 'MLE', 'BCN', 'UUS', 'HYN', 'REN', 'MIA', 'LYA', 'ZUH', 'LYG', 'FCO', 'AMS', 'KZN', 'BRE', 'JED', 'XIL', 'YJV', 'ADA', 'PKC', 'ASF', 'INC', 'HTA', 'LHW', 'VOG', 'GVA', 'IXB', 'OLZ', 'PTY', 'VNS', 'BQS', 'GZT', 'TSR', 'BRI', 'VKO', 'MSP', 'DYG', 'NCU', 'ATH', 'DLM', 'NUE', 'STR', 'VGA', 'BAK', 'YKS', 'YNJ', 'KPW', 'IAD', 'RIO', 'XSP', 'ODO', 'BHX', 'JNZ', 'BXU', 'AAE', 'GOI', 'HEL', 'LLV', 'BUD', 'BHZ', 'GOX', 'DDG', 'ZVR', 'ZIA', 'BLR', 'YBP', 'BTK', 'NGO', 'JGN', 'IJK', 'SZG', 'OSA', 'KQT', 'VVO', 'FUK', 'SVO', 'ARN', 'CGB', 'HLD', 'JGA', 'CTU', 'SEZ', 'DLU', 'EUN', 'SHJ', 'AER', 'HAM', 'SYX', 'XXQ', 'SCW', 'HMA', 'TYD', 'TLV', 'KGF', 'MXP', 'HAJ', 'IWA', 'MLG', 'TBW', 'NOZ', 'COV', 'HHL', 'LIS', 'HEK', 'SLL', 'SCO', 'DEN', 'SHA', 'HZD', 'SKP', 'SDU', 'ANK', 'TRN', 'XIX', 'NLU', 'KHV', 'KJA', 'LZO', 'REC', 'MDE', 'KRO', 'AUH', 'CCJ', 'SWA', 'QKU', 'MQF', 'ZAG', 'AGA', 'RIZ', 'MOW', 'LIM', 'RIX', 'USK', 'HFE', 'KYZ', 'GRZ', 'HGH', 'XVQ', 'BTH', 'MED', 'KUL', 'TOF', 'UDR', 'MAA', 'LJU', 'DHC', 'NIM', 'BEG', 'PPS', 'NBO', 'HTG', 'PLZ', 'IMR', 'CPH', 'LGK', 'HRB', 'ZWS', 'URC', 'OSI', 'TIV', 'YNT', 'OUD', 'ITM', 'TVS', 'YIW', 'BWN', 'SGN', 'KTM', 'WNZ', 'STO', 'DEL', 'PMI', 'FRU', 'PMF', 'RMZ', 'LUX', 'HER', 'ALG', 'EDI', 'ZRH', 'TNH', 'CJU', 'XVY', 'ADB', 'PYJ', 'WUB', 'BOG', 'JMK', 'DUR', 'ZLP', 'CIT', 'RAJ', 'CXR', 'SOF', 'DAR', 'HNY', 'ZSB', 'OAX', 'DTW', 'DIY', 'BKK', 'DVO', 'NLI', 'KGL', 'LYS', 'BRQ', 'ARH', 'WAW', 'IAO', 'SKD', 'VLC', 'CMN', 'KVX', 'IGT', 'KMG', 'CSX', 'CWB', 'LUN', 'KSZ', 'PXU', 'SZB', 'ULK', 'YJB', 'ORY', 'GES', 'NYA', 'LBV', 'KWL', 'LAX', 'EYA', 'HRG', 'VKT', 'DMS', 'ZFQ', 'VNO', 'SSH', 'JAI', 'KLF', 'HUI', 'SFO', 'BEY', 'NAG', 'DYU', 'SLY', 'SJW', 'CRL', 'SAO', 'UGC', 'WHA', 'MFM', 'CSY', 'DAD', 'PES', 'CGK', 'VII', 'GOJ', 'NAV', 'OVS', 'LED', 'PEN', 'LXA', 'PER', 'YTO', 'MLH', 'BGW', 'CHI', 'XRJ', 'ZHA', 'URJ', 'YVR', 'CEK', 'KVK', 'KGP', 'DMB', 'MYY', 'DOH', 'EWR', 'MLA', 'BKI', 'KIX', 'XTI', 'YNZ', 'ABA', 'HRE', 'UCT', 'ZNZ', 'MNL', 'TLS', 'HAK', 'CUN', 'BSB', 'MCX', 'HYD', 'TSA', 'MAD', 'ORN', 'LJG', 'AKX', 'SJO', 'LCY', 'NCE', 'KWI', 'BUE', 'PQC', 'OPO', 'CEE', 'MRS', 'DSN', 'PKX', 'ZYA', 'DWC', 'EVN', 'ULY', 'EYK', 'MPH', 'ZAQ', 'LFW', 'DFW', 'CGH', 'NGB', 'URA', 'VIL', 'GUW', 'KGD', 'SVX', 'HOU', 'ICN', 'ILO', 'XOC', 'INN', 'LLW', 'ZAD', 'WDS', 'DAC', 'GRV', 'HAN', 'JMU', 'EAP', 'DMK', 'ATQ', 'BHK', 'BCD', 'SHE', 'GVN', 'ALA', 'VUS', 'GMP', 'XIK', 'KCH', 'BAH', 'IAH', 'MUC', 'IXC', 'CPT', 'ULV', 'MJY', 'YJM', 'STN', 'QLS', 'SKG', 'LCA', 'UIH', 'TPE', 'TZX', 'XWC', 'ZDH', 'ATL', 'TNA', 'JGS', 'TIA', 'IZM', 'YCU', 'IMF', 'THR', 'ZBA', 'WUS', 'OSS', 'CZR', 'INP', 'KHI', 'CZL', 'IBZ', 'PHX', 'BRU', 'GDN', 'TIF', 'PNH', 'BQT', 'CLO', 'NYC', 'MMK', 'KCY', 'YTY', 'UIK', 'OSW', 'LGW', 'JKT', 'HKG', 'JHG', 'VEO', 'SGC', 'MIL', 'UDI', 'LGA', 'ADD', 'SAL', 'BOM', 'BUS', 'ABJ', 'KHH', 'NZG', 'CNF', 'OSL', 'SIA', 'CGR', 'FRA', 'UKX', 'NUX', 'BLZ', 'NNY', 'RTW', 'PHL', 'IBT', 'BGS', 'AMD', 'PFB', 'UUD', 'QPP', 'YUL', 'CLT', 'TFU', 'RHO', 'OGZ', 'HND', 'GYE', 'TJM', 'XMN', 'GRU', 'CDG', 'QKL', 'OUA', 'OHH', 'QQM', 'NNG', 'MSQ', 'KMW', 'KRK', 'WAS', 'ROM', 'VRN', 'OTP', 'DXB', 'NER', 'GYD', 'OMS', 'HET', 'QIN', 'TKM', 'FUG', 'KZO', 'WUH', 'TMJ', 'BAX', 'MJZ', 'TBS', 'SPU', 'NRT', 'PNQ', 'SEL', 'PMO', 'SJJ', 'CTA', 'LYI', 'FLR', 'TLL', 'CAN', 'KHN', 'BMV', 'DMM', 'NBC', 'NHA', 'CZX', 'PEE', 'PAR', 'DLC', 'IAR', 'NMA', 'ONT', 'UYN', 'HKT', 'FOC', 'KSN', 'TLK', 'MRV', 'OVB', 'KWE', 'PEK', 'DOY', 'PVG', 'HSN', 'DPS', 'BOD', 'NJC', 'WUX', 'DYR', 'CKY', 'PWE', 'UFA', 'TAO', 'HIA', 'YLX', 'BNX', 'BLQ', 'KUF', 'LON', 'BSL', 'DUS', 'NTG', 'MCT', 'WEH', 'BUH', 'CAC', 'SAN', 'VTZ', 'VGD', 'GDX', 'IST', 'AMM', 'LZY', 'LIN', 'ESB', 'UIO', 'BBI', 'USU', 'SIN', 'TYO', 'KSQ', 'IKA', 'NQZ', 'ULN', 'UBN', 'HMI', 'XNB', 'ZMU', 'NAP', 'WDH', 'YIH', 'DTT', 'EZE', 'TSN', 'VAN', 'ABV', 'MRU', 'ORD', 'CGQ', 'NKG', 'LBD', 'GIG', 'TAC', 'DME', 'QDU', 'XYG', 'KNY', 'BGY', 'JNB', 'DBV', 'BER', 'FIH', 'UKK', 'COK', 'DQA', 'CGY', 'BAV', 'NSK', 'BHY', 'YMQ', 'CFU', 'RGK', 'SYD', 'BKO', 'VTE', 'ASR', 'XNN', 'CCU', 'SEA', 'ESL', 'SXR', 'NOJ', 'KEJ', 'TGD', 'PUY', 'VIE', 'CEB', 'PUS', 'KYA', 'CMB', 'SZF', 'JFK', 'GME', 'AGY', 'JDZ', 'MTY', 'HSR', 'GAU', 'GOT', 'PKV', 'GSV', 'MBA', 'DLI', 'NAL', 'STW', 'TYN', 'BOS', 'XIY', 'RUH', 'CGO', 'PRG', 'VRA', 'HAV', 'ITU', 'BJV', 'AYT', 'IKT', 'QRO', 'TUN', 'MAN', 'MEX', 'JHB', 'XYD', 'CAI', 'CGN', 'CKG', 'SNA', 'NHR']\n"
     ]
    }
   ],
   "execution_count": 24
  },
  {
   "metadata": {},
   "cell_type": "markdown",
   "source": "Finally, let's look at the baggage feature",
   "id": "c4cc9abf2e77f59e"
  },
  {
   "metadata": {
    "ExecuteTime": {
     "end_time": "2025-09-23T00:15:58.131509Z",
     "start_time": "2025-09-23T00:15:58.006818Z"
    }
   },
   "cell_type": "code",
   "source": [
    "baggage_df = train_df.select([\"legs0_segments0_baggageAllowance_weightMeasurementType\", \"legs0_segments0_baggageAllowance_quantity\"])\n",
    "baggage_df_lazy = baggage_df.lazy()\n",
    "baggage_df_filtered = baggage_df_lazy.filter(~(pl.col(\"legs0_segments0_baggageAllowance_weightMeasurementType\").is_null()) & ~(pl.col(\"legs0_segments0_baggageAllowance_quantity\").is_null())).collect()"
   ],
   "id": "5c272a5a9a316e49",
   "outputs": [],
   "execution_count": 34
  },
  {
   "metadata": {
    "ExecuteTime": {
     "end_time": "2025-09-23T00:14:58.378799Z",
     "start_time": "2025-09-23T00:14:58.119344Z"
    }
   },
   "cell_type": "code",
   "source": "baggage_df_filtered[\"legs0_segments0_baggageAllowance_weightMeasurementType\"].unique()",
   "id": "12d77d88d58c8663",
   "outputs": [
    {
     "data": {
      "text/plain": [
       "shape: (2,)\n",
       "Series: 'legs0_segments0_baggageAllowance_weightMeasurementType' [f64]\n",
       "[\n",
       "\t0.0\n",
       "\t1.0\n",
       "]"
      ],
      "text/html": [
       "<div><style>\n",
       ".dataframe > thead > tr,\n",
       ".dataframe > tbody > tr {\n",
       "  text-align: right;\n",
       "  white-space: pre-wrap;\n",
       "}\n",
       "</style>\n",
       "<small>shape: (2,)</small><table border=\"1\" class=\"dataframe\"><thead><tr><th>legs0_segments0_baggageAllowance_weightMeasurementType</th></tr><tr><td>f64</td></tr></thead><tbody><tr><td>0.0</td></tr><tr><td>1.0</td></tr></tbody></table></div>"
      ]
     },
     "execution_count": 27,
     "metadata": {},
     "output_type": "execute_result"
    }
   ],
   "execution_count": 27
  },
  {
   "metadata": {
    "ExecuteTime": {
     "end_time": "2025-09-23T00:14:59.700215Z",
     "start_time": "2025-09-23T00:14:59.381928Z"
    }
   },
   "cell_type": "code",
   "source": "baggage_df_filtered[\"legs0_segments0_baggageAllowance_quantity\"].unique()",
   "id": "1f501671ea5b7919",
   "outputs": [
    {
     "data": {
      "text/plain": [
       "shape: (18,)\n",
       "Series: 'legs0_segments0_baggageAllowance_quantity' [f64]\n",
       "[\n",
       "\t0.0\n",
       "\t1.0\n",
       "\t2.0\n",
       "\t3.0\n",
       "\t10.0\n",
       "\t…\n",
       "\t40.0\n",
       "\t45.0\n",
       "\t46.0\n",
       "\t50.0\n",
       "\t60.0\n",
       "]"
      ],
      "text/html": [
       "<div><style>\n",
       ".dataframe > thead > tr,\n",
       ".dataframe > tbody > tr {\n",
       "  text-align: right;\n",
       "  white-space: pre-wrap;\n",
       "}\n",
       "</style>\n",
       "<small>shape: (18,)</small><table border=\"1\" class=\"dataframe\"><thead><tr><th>legs0_segments0_baggageAllowance_quantity</th></tr><tr><td>f64</td></tr></thead><tbody><tr><td>0.0</td></tr><tr><td>1.0</td></tr><tr><td>2.0</td></tr><tr><td>3.0</td></tr><tr><td>10.0</td></tr><tr><td>&hellip;</td></tr><tr><td>40.0</td></tr><tr><td>45.0</td></tr><tr><td>46.0</td></tr><tr><td>50.0</td></tr><tr><td>60.0</td></tr></tbody></table></div>"
      ]
     },
     "execution_count": 28,
     "metadata": {},
     "output_type": "execute_result"
    }
   ],
   "execution_count": 28
  },
  {
   "metadata": {
    "ExecuteTime": {
     "end_time": "2025-09-23T00:15:02.591798Z",
     "start_time": "2025-09-23T00:15:02.318233Z"
    }
   },
   "cell_type": "code",
   "source": [
    "filtered_data = baggage_df_filtered.filter(pl.col(\"legs0_segments0_baggageAllowance_weightMeasurementType\") == 0)\n",
    "filtered_data[\"legs0_segments0_baggageAllowance_quantity\"].unique()"
   ],
   "id": "52a490a83cd0d32d",
   "outputs": [
    {
     "data": {
      "text/plain": [
       "shape: (4,)\n",
       "Series: 'legs0_segments0_baggageAllowance_quantity' [f64]\n",
       "[\n",
       "\t0.0\n",
       "\t1.0\n",
       "\t2.0\n",
       "\t3.0\n",
       "]"
      ],
      "text/html": [
       "<div><style>\n",
       ".dataframe > thead > tr,\n",
       ".dataframe > tbody > tr {\n",
       "  text-align: right;\n",
       "  white-space: pre-wrap;\n",
       "}\n",
       "</style>\n",
       "<small>shape: (4,)</small><table border=\"1\" class=\"dataframe\"><thead><tr><th>legs0_segments0_baggageAllowance_quantity</th></tr><tr><td>f64</td></tr></thead><tbody><tr><td>0.0</td></tr><tr><td>1.0</td></tr><tr><td>2.0</td></tr><tr><td>3.0</td></tr></tbody></table></div>"
      ]
     },
     "execution_count": 29,
     "metadata": {},
     "output_type": "execute_result"
    }
   ],
   "execution_count": 29
  },
  {
   "metadata": {
    "ExecuteTime": {
     "end_time": "2025-09-23T00:15:03.387715Z",
     "start_time": "2025-09-23T00:15:03.254769Z"
    }
   },
   "cell_type": "code",
   "source": [
    "filtered_data = baggage_df_filtered.filter(pl.col(\"legs0_segments0_baggageAllowance_weightMeasurementType\") == 1)\n",
    "filtered_data[\"legs0_segments0_baggageAllowance_quantity\"].unique()"
   ],
   "id": "b6b2b7dc2758b2f7",
   "outputs": [
    {
     "data": {
      "text/plain": [
       "shape: (15,)\n",
       "Series: 'legs0_segments0_baggageAllowance_quantity' [f64]\n",
       "[\n",
       "\t0.0\n",
       "\t10.0\n",
       "\t15.0\n",
       "\t20.0\n",
       "\t23.0\n",
       "\t…\n",
       "\t40.0\n",
       "\t45.0\n",
       "\t46.0\n",
       "\t50.0\n",
       "\t60.0\n",
       "]"
      ],
      "text/html": [
       "<div><style>\n",
       ".dataframe > thead > tr,\n",
       ".dataframe > tbody > tr {\n",
       "  text-align: right;\n",
       "  white-space: pre-wrap;\n",
       "}\n",
       "</style>\n",
       "<small>shape: (15,)</small><table border=\"1\" class=\"dataframe\"><thead><tr><th>legs0_segments0_baggageAllowance_quantity</th></tr><tr><td>f64</td></tr></thead><tbody><tr><td>0.0</td></tr><tr><td>10.0</td></tr><tr><td>15.0</td></tr><tr><td>20.0</td></tr><tr><td>23.0</td></tr><tr><td>&hellip;</td></tr><tr><td>40.0</td></tr><tr><td>45.0</td></tr><tr><td>46.0</td></tr><tr><td>50.0</td></tr><tr><td>60.0</td></tr></tbody></table></div>"
      ]
     },
     "execution_count": 30,
     "metadata": {},
     "output_type": "execute_result"
    }
   ],
   "execution_count": 30
  },
  {
   "metadata": {},
   "cell_type": "markdown",
   "source": "Based on this, it looks like a MeasurementType = 0 indicates the Allowance_quantity is the number of bags limit, and when MeasurementType = 1, the Allowance_quanityt is a weight limit.",
   "id": "77f25250bba54b7e"
  },
  {
   "metadata": {
    "ExecuteTime": {
     "end_time": "2025-09-23T00:16:03.013970Z",
     "start_time": "2025-09-23T00:16:02.824589Z"
    }
   },
   "cell_type": "code",
   "source": [
    "# Let's clean-up the data objects we generated for the EDA process\n",
    "del baggage_df\n",
    "del baggage_df_filtered\n",
    "del baggage_df_lazy\n",
    "del carrier_code_counts\n",
    "del carrier_cols\n",
    "del cust_searches\n",
    "del ff_not_in_carrier\n",
    "del filtered_data\n",
    "del flight_counts\n",
    "del iata_cols\n",
    "del null_summary\n",
    "del results\n",
    "del top_carriers\n",
    "del unique_carrier_codes\n",
    "del unique_ff_codes\n",
    "del unique_iata_codes\n",
    "gc.collect()"
   ],
   "id": "7340dd9afe5a4f6e",
   "outputs": [
    {
     "data": {
      "text/plain": [
       "21256"
      ]
     },
     "execution_count": 35,
     "metadata": {},
     "output_type": "execute_result"
    }
   ],
   "execution_count": 35
  },
  {
   "metadata": {},
   "cell_type": "markdown",
   "source": "### Split Data into Training and Test Data Sets",
   "id": "34f9d779a84360e5"
  },
  {
   "metadata": {
    "ExecuteTime": {
     "end_time": "2025-09-26T22:27:45.837243Z",
     "start_time": "2025-09-26T22:26:31.492041Z"
    }
   },
   "cell_type": "code",
   "source": "train_df, test_df = stratified_flight_count_split(train_df)",
   "id": "30e8ff875ae94471",
   "outputs": [
    {
     "name": "stdout",
     "output_type": "stream",
     "text": [
      "Search size distribution:\n",
      "  large: 5,035 searches\n",
      "  medium: 13,896 searches\n",
      "  small: 30,360 searches\n",
      "  very_large: 3,141 searches\n",
      "  very_small: 53,107 searches\n",
      "\n",
      "Split results:\n",
      "Train searches: 84,429\n",
      "Test searches: 21,110\n",
      "Train rows: 14,517,539\n",
      "Test rows: 3,627,833\n",
      "\n",
      "Train set distribution:\n",
      "  large: 4,028 searches\n",
      "  medium: 11,116 searches\n",
      "  small: 24,288 searches\n",
      "  very_large: 2,512 searches\n",
      "  very_small: 42,485 searches\n",
      "\n",
      "Test set distribution:\n",
      "  large: 1,007 searches\n",
      "  medium: 2,780 searches\n",
      "  small: 6,072 searches\n",
      "  very_large: 629 searches\n",
      "  very_small: 10,622 searches\n"
     ]
    }
   ],
   "execution_count": 6
  },
  {
   "metadata": {},
   "cell_type": "markdown",
   "source": "Since the data set is so large, we will need to manage memory throughout the process. To assist with this, I am saving the training and test splits as parquet files that we can reload as needed without having to regenerate new splits.",
   "id": "8f07cfe761ed71b2"
  },
  {
   "metadata": {
    "ExecuteTime": {
     "end_time": "2025-09-26T22:28:18.987447Z",
     "start_time": "2025-09-26T22:27:51.790411Z"
    }
   },
   "cell_type": "code",
   "source": [
    "# Save the train/test splits\n",
    "train_df.write_parquet('data/train_df.parquet')\n",
    "test_df.write_parquet('data/test_df.parquet')\n",
    "\n",
    "# Remove test data from memory\n",
    "del test_df\n",
    "gc.collect()"
   ],
   "id": "aee88011a0d51e8",
   "outputs": [
    {
     "data": {
      "text/plain": [
       "79"
      ]
     },
     "execution_count": 7,
     "metadata": {},
     "output_type": "execute_result"
    }
   ],
   "execution_count": 7
  },
  {
   "metadata": {},
   "cell_type": "markdown",
   "source": [
    "### Customer Segmentation\n",
    "\n",
    "This section will perform the customer segmentation. The goal is to generate the groups of similar customers based on their profile attributes and search history. We will clean the data and engineer additional features to provide insights around flight search and selection behavior.\n",
    "\n",
    "The process for peforming the customer segmentation is as follows:\n",
    "1. Feature Engineering\n",
    "2. Remove outliers\n",
    "3. Feature encoding\n",
    "4. Feature scaling\n",
    "5. Dimensionality reduction\n",
    "6. Evaluate alternative clustering methods (Gaussian Mixture Model, DBScan, Agglomerative Clustering)\n",
    "7. Perform hyperparameter optimization\n",
    "8. Analyze the cluster results\n",
    "9. Add cluster labels to the customer data set\n",
    "10. Save customer features\n"
   ],
   "id": "8bb14691d0232d25"
  },
  {
   "metadata": {},
   "cell_type": "markdown",
   "source": "#### Imports for Customer Segmentation",
   "id": "d37b604c8c45c7cf"
  },
  {
   "metadata": {
    "ExecuteTime": {
     "end_time": "2025-09-27T16:23:28.361222Z",
     "start_time": "2025-09-27T16:23:28.233430Z"
    }
   },
   "cell_type": "code",
   "source": [
    "import gc\n",
    "import joblib\n",
    "import numpy as np\n",
    "import polars as pl\n",
    "\n",
    "# Import libraries and functions needed for Customer Clustering\n",
    "from sklearn.decomposition import PCA\n",
    "from sklearn.mixture import GaussianMixture\n",
    "from sklearn.preprocessing import RobustScaler\n",
    "\n",
    "# Import project functions\n",
    "from src.cluster_cust_data import (\n",
    "    encode_features, remove_outliers, alternative_clustering_methods, gen_optimum_num_clusters, generate_clusters,\n",
    "    analyze_clusters, predict_cluster_with_centroids\n",
    ")\n",
    "from src.cust_feature_eng import extract_customer_features\n",
    "from src.flt_feature_eng import extract_flight_features, prepare_combined_data\n",
    "from src.ranking import train_segment_based_ranker\n",
    "from src.ranking_eval import  test_lgb_ranker, test_segment_based_ranker\n",
    "\n",
    "%load_ext autoreload\n",
    "%autoreload 2"
   ],
   "id": "5136e71e221d4bf7",
   "outputs": [
    {
     "name": "stdout",
     "output_type": "stream",
     "text": [
      "The autoreload extension is already loaded. To reload it, use:\n",
      "  %reload_ext autoreload\n"
     ]
    }
   ],
   "execution_count": 18
  },
  {
   "metadata": {},
   "cell_type": "markdown",
   "source": "Load the training data set if not already loaded",
   "id": "808a0ec603a968c9"
  },
  {
   "metadata": {
    "ExecuteTime": {
     "end_time": "2025-09-26T23:31:06.843296Z",
     "start_time": "2025-09-26T23:31:03.790875Z"
    }
   },
   "cell_type": "code",
   "source": [
    "# Here we can check if train_df exists and load if we restarted the process at this point.\n",
    "try:\n",
    "    train_df.head()\n",
    "except NameError:\n",
    "    train_df = pl.read_parquet('data/train_df.parquet')\n",
    "    print(f'loaded train_df: {train_df.shape}')\n",
    "\n",
    "train_df.head(100)"
   ],
   "id": "1377d0f771b092fe",
   "outputs": [
    {
     "name": "stdout",
     "output_type": "stream",
     "text": [
      "loaded train_df: (14517539, 127)\n"
     ]
    },
    {
     "data": {
      "text/plain": [
       "shape: (100, 127)\n",
       "┌─────┬────────┬───────────┬─────────────────┬───┬────────┬────────────┬──────────┬────────────────┐\n",
       "│ Id  ┆ bySelf ┆ companyID ┆ corporateTariff ┆ … ┆ taxes  ┆ totalPrice ┆ selected ┆ __index_level_ │\n",
       "│ --- ┆ ---    ┆ ---       ┆ Code            ┆   ┆ ---    ┆ ---        ┆ ---      ┆ 0__            │\n",
       "│ i64 ┆ bool   ┆ i64       ┆ ---             ┆   ┆ f64    ┆ f64        ┆ i64      ┆ ---            │\n",
       "│     ┆        ┆           ┆ i64             ┆   ┆        ┆            ┆          ┆ i64            │\n",
       "╞═════╪════════╪═══════════╪═════════════════╪═══╪════════╪════════════╪══════════╪════════════════╡\n",
       "│ 40  ┆ true   ┆ 53407     ┆ null            ┆ … ┆ 2220.0 ┆ 16515.0    ┆ 0        ┆ 40             │\n",
       "│ 41  ┆ true   ┆ 53407     ┆ null            ┆ … ┆ 2485.0 ┆ 16525.0    ┆ 1        ┆ 41             │\n",
       "│ 42  ┆ true   ┆ 59096     ┆ null            ┆ … ┆ 1273.0 ┆ 38793.0    ┆ 0        ┆ 42             │\n",
       "│ 43  ┆ true   ┆ 59096     ┆ null            ┆ … ┆ 1273.0 ┆ 45533.0    ┆ 1        ┆ 43             │\n",
       "│ 44  ┆ true   ┆ 59096     ┆ null            ┆ … ┆ 1273.0 ┆ 63588.0    ┆ 0        ┆ 44             │\n",
       "│ …   ┆ …      ┆ …         ┆ …               ┆ … ┆ …      ┆ …          ┆ …        ┆ …              │\n",
       "│ 135 ┆ true   ┆ 59096     ┆ null            ┆ … ┆ 1385.0 ┆ 202535.0   ┆ 0        ┆ 135            │\n",
       "│ 136 ┆ true   ┆ 59096     ┆ null            ┆ … ┆ 515.0  ┆ 25405.0    ┆ 0        ┆ 136            │\n",
       "│ 137 ┆ true   ┆ 59096     ┆ null            ┆ … ┆ 515.0  ┆ 26905.0    ┆ 0        ┆ 137            │\n",
       "│ 138 ┆ true   ┆ 59096     ┆ null            ┆ … ┆ 955.0  ┆ 30835.0    ┆ 0        ┆ 138            │\n",
       "│ 139 ┆ true   ┆ 59096     ┆ null            ┆ … ┆ 955.0  ┆ 36040.0    ┆ 0        ┆ 139            │\n",
       "└─────┴────────┴───────────┴─────────────────┴───┴────────┴────────────┴──────────┴────────────────┘"
      ],
      "text/html": [
       "<div><style>\n",
       ".dataframe > thead > tr,\n",
       ".dataframe > tbody > tr {\n",
       "  text-align: right;\n",
       "  white-space: pre-wrap;\n",
       "}\n",
       "</style>\n",
       "<small>shape: (100, 127)</small><table border=\"1\" class=\"dataframe\"><thead><tr><th>Id</th><th>bySelf</th><th>companyID</th><th>corporateTariffCode</th><th>frequentFlyer</th><th>nationality</th><th>isAccess3D</th><th>isVip</th><th>legs0_arrivalAt</th><th>legs0_departureAt</th><th>legs0_duration</th><th>legs0_segments0_aircraft_code</th><th>legs0_segments0_arrivalTo_airport_city_iata</th><th>legs0_segments0_arrivalTo_airport_iata</th><th>legs0_segments0_baggageAllowance_quantity</th><th>legs0_segments0_baggageAllowance_weightMeasurementType</th><th>legs0_segments0_cabinClass</th><th>legs0_segments0_departureFrom_airport_iata</th><th>legs0_segments0_duration</th><th>legs0_segments0_flightNumber</th><th>legs0_segments0_marketingCarrier_code</th><th>legs0_segments0_operatingCarrier_code</th><th>legs0_segments0_seatsAvailable</th><th>legs0_segments1_aircraft_code</th><th>legs0_segments1_arrivalTo_airport_city_iata</th><th>legs0_segments1_arrivalTo_airport_iata</th><th>legs0_segments1_baggageAllowance_quantity</th><th>legs0_segments1_baggageAllowance_weightMeasurementType</th><th>legs0_segments1_cabinClass</th><th>legs0_segments1_departureFrom_airport_iata</th><th>legs0_segments1_duration</th><th>legs0_segments1_flightNumber</th><th>legs0_segments1_marketingCarrier_code</th><th>legs0_segments1_operatingCarrier_code</th><th>legs0_segments1_seatsAvailable</th><th>legs0_segments2_aircraft_code</th><th>legs0_segments2_arrivalTo_airport_city_iata</th><th>&hellip;</th><th>legs1_segments2_baggageAllowance_weightMeasurementType</th><th>legs1_segments2_cabinClass</th><th>legs1_segments2_departureFrom_airport_iata</th><th>legs1_segments2_duration</th><th>legs1_segments2_flightNumber</th><th>legs1_segments2_marketingCarrier_code</th><th>legs1_segments2_operatingCarrier_code</th><th>legs1_segments2_seatsAvailable</th><th>legs1_segments3_aircraft_code</th><th>legs1_segments3_arrivalTo_airport_city_iata</th><th>legs1_segments3_arrivalTo_airport_iata</th><th>legs1_segments3_baggageAllowance_quantity</th><th>legs1_segments3_baggageAllowance_weightMeasurementType</th><th>legs1_segments3_cabinClass</th><th>legs1_segments3_departureFrom_airport_iata</th><th>legs1_segments3_duration</th><th>legs1_segments3_flightNumber</th><th>legs1_segments3_marketingCarrier_code</th><th>legs1_segments3_operatingCarrier_code</th><th>legs1_segments3_seatsAvailable</th><th>miniRules0_monetaryAmount</th><th>miniRules0_percentage</th><th>miniRules0_statusInfos</th><th>miniRules1_monetaryAmount</th><th>miniRules1_percentage</th><th>miniRules1_statusInfos</th><th>pricingInfo_isAccessTP</th><th>pricingInfo_passengerCount</th><th>profileId</th><th>ranker_id</th><th>requestDate</th><th>searchRoute</th><th>sex</th><th>taxes</th><th>totalPrice</th><th>selected</th><th>__index_level_0__</th></tr><tr><td>i64</td><td>bool</td><td>i64</td><td>i64</td><td>str</td><td>i64</td><td>bool</td><td>bool</td><td>str</td><td>str</td><td>str</td><td>str</td><td>str</td><td>str</td><td>f64</td><td>f64</td><td>f64</td><td>str</td><td>str</td><td>str</td><td>str</td><td>str</td><td>f64</td><td>str</td><td>str</td><td>str</td><td>f64</td><td>f64</td><td>f64</td><td>str</td><td>str</td><td>str</td><td>str</td><td>str</td><td>f64</td><td>str</td><td>str</td><td>&hellip;</td><td>f64</td><td>f64</td><td>str</td><td>str</td><td>str</td><td>str</td><td>str</td><td>f64</td><td>str</td><td>str</td><td>str</td><td>f64</td><td>f64</td><td>f64</td><td>str</td><td>str</td><td>str</td><td>str</td><td>str</td><td>f64</td><td>f64</td><td>f64</td><td>f64</td><td>f64</td><td>f64</td><td>f64</td><td>f64</td><td>i64</td><td>i64</td><td>str</td><td>datetime[ns]</td><td>str</td><td>bool</td><td>f64</td><td>f64</td><td>i64</td><td>i64</td></tr></thead><tbody><tr><td>40</td><td>true</td><td>53407</td><td>null</td><td>null</td><td>36</td><td>false</td><td>false</td><td>&quot;2024-05-30T18:30:00&quot;</td><td>&quot;2024-05-30T16:00:00&quot;</td><td>&quot;02:30:00&quot;</td><td>&quot;AN4&quot;</td><td>&quot;IKT&quot;</td><td>&quot;IKT&quot;</td><td>20.0</td><td>1.0</td><td>1.0</td><td>&quot;ODO&quot;</td><td>&quot;02:30:00&quot;</td><td>&quot;142&quot;</td><td>&quot;IO&quot;</td><td>&quot;IO&quot;</td><td>6.0</td><td>null</td><td>null</td><td>null</td><td>null</td><td>null</td><td>null</td><td>null</td><td>null</td><td>null</td><td>null</td><td>null</td><td>null</td><td>null</td><td>null</td><td>&hellip;</td><td>null</td><td>null</td><td>null</td><td>null</td><td>null</td><td>null</td><td>null</td><td>null</td><td>null</td><td>null</td><td>null</td><td>null</td><td>null</td><td>null</td><td>null</td><td>null</td><td>null</td><td>null</td><td>null</td><td>null</td><td>null</td><td>null</td><td>null</td><td>null</td><td>null</td><td>null</td><td>1.0</td><td>1</td><td>2447853</td><td>&quot;7ec8ce3fdebd4c9699b03582ebd60d…</td><td>2024-05-17 03:10:04</td><td>&quot;ODOIKT&quot;</td><td>true</td><td>2220.0</td><td>16515.0</td><td>0</td><td>40</td></tr><tr><td>41</td><td>true</td><td>53407</td><td>null</td><td>null</td><td>36</td><td>false</td><td>false</td><td>&quot;2024-05-30T12:55:00&quot;</td><td>&quot;2024-05-30T10:40:00&quot;</td><td>&quot;02:15:00&quot;</td><td>&quot;AN4&quot;</td><td>&quot;IKT&quot;</td><td>&quot;IKT&quot;</td><td>20.0</td><td>1.0</td><td>1.0</td><td>&quot;ODO&quot;</td><td>&quot;02:15:00&quot;</td><td>&quot;898&quot;</td><td>&quot;ИК&quot;</td><td>&quot;ИК&quot;</td><td>9.0</td><td>null</td><td>null</td><td>null</td><td>null</td><td>null</td><td>null</td><td>null</td><td>null</td><td>null</td><td>null</td><td>null</td><td>null</td><td>null</td><td>null</td><td>&hellip;</td><td>null</td><td>null</td><td>null</td><td>null</td><td>null</td><td>null</td><td>null</td><td>null</td><td>null</td><td>null</td><td>null</td><td>null</td><td>null</td><td>null</td><td>null</td><td>null</td><td>null</td><td>null</td><td>null</td><td>null</td><td>null</td><td>null</td><td>null</td><td>null</td><td>null</td><td>null</td><td>1.0</td><td>1</td><td>2447853</td><td>&quot;7ec8ce3fdebd4c9699b03582ebd60d…</td><td>2024-05-17 03:10:04</td><td>&quot;ODOIKT&quot;</td><td>true</td><td>2485.0</td><td>16525.0</td><td>1</td><td>41</td></tr><tr><td>42</td><td>true</td><td>59096</td><td>null</td><td>null</td><td>36</td><td>false</td><td>false</td><td>&quot;2024-06-04T15:50:00&quot;</td><td>&quot;2024-06-04T11:25:00&quot;</td><td>&quot;09:25:00&quot;</td><td>&quot;E70&quot;</td><td>&quot;OVB&quot;</td><td>&quot;OVB&quot;</td><td>0.0</td><td>0.0</td><td>1.0</td><td>&quot;IKT&quot;</td><td>&quot;02:30:00&quot;</td><td>&quot;5230&quot;</td><td>&quot;S7&quot;</td><td>&quot;S7&quot;</td><td>9.0</td><td>&quot;73H&quot;</td><td>&quot;AER&quot;</td><td>&quot;AER&quot;</td><td>0.0</td><td>0.0</td><td>1.0</td><td>&quot;OVB&quot;</td><td>&quot;05:10:00&quot;</td><td>&quot;5105&quot;</td><td>&quot;S7&quot;</td><td>&quot;S7&quot;</td><td>9.0</td><td>null</td><td>null</td><td>&hellip;</td><td>null</td><td>null</td><td>null</td><td>null</td><td>null</td><td>null</td><td>null</td><td>null</td><td>null</td><td>null</td><td>null</td><td>null</td><td>null</td><td>null</td><td>null</td><td>null</td><td>null</td><td>null</td><td>null</td><td>null</td><td>4000.0</td><td>null</td><td>1.0</td><td>0.0</td><td>null</td><td>0.0</td><td>1.0</td><td>1</td><td>2384252</td><td>&quot;d2906d4d6a4a4b8ea7406a96080c7a…</td><td>2024-05-17 03:31:00</td><td>&quot;IKTAER&quot;</td><td>true</td><td>1273.0</td><td>38793.0</td><td>0</td><td>42</td></tr><tr><td>43</td><td>true</td><td>59096</td><td>null</td><td>null</td><td>36</td><td>false</td><td>false</td><td>&quot;2024-06-04T15:50:00&quot;</td><td>&quot;2024-06-04T11:25:00&quot;</td><td>&quot;09:25:00&quot;</td><td>&quot;E70&quot;</td><td>&quot;OVB&quot;</td><td>&quot;OVB&quot;</td><td>1.0</td><td>0.0</td><td>1.0</td><td>&quot;IKT&quot;</td><td>&quot;02:30:00&quot;</td><td>&quot;5230&quot;</td><td>&quot;S7&quot;</td><td>&quot;S7&quot;</td><td>9.0</td><td>&quot;73H&quot;</td><td>&quot;AER&quot;</td><td>&quot;AER&quot;</td><td>1.0</td><td>0.0</td><td>1.0</td><td>&quot;OVB&quot;</td><td>&quot;05:10:00&quot;</td><td>&quot;5105&quot;</td><td>&quot;S7&quot;</td><td>&quot;S7&quot;</td><td>9.0</td><td>null</td><td>null</td><td>&hellip;</td><td>null</td><td>null</td><td>null</td><td>null</td><td>null</td><td>null</td><td>null</td><td>null</td><td>null</td><td>null</td><td>null</td><td>null</td><td>null</td><td>null</td><td>null</td><td>null</td><td>null</td><td>null</td><td>null</td><td>null</td><td>2300.0</td><td>null</td><td>1.0</td><td>3500.0</td><td>null</td><td>1.0</td><td>1.0</td><td>1</td><td>2384252</td><td>&quot;d2906d4d6a4a4b8ea7406a96080c7a…</td><td>2024-05-17 03:31:00</td><td>&quot;IKTAER&quot;</td><td>true</td><td>1273.0</td><td>45533.0</td><td>1</td><td>43</td></tr><tr><td>44</td><td>true</td><td>59096</td><td>null</td><td>null</td><td>36</td><td>false</td><td>false</td><td>&quot;2024-06-04T15:50:00&quot;</td><td>&quot;2024-06-04T11:25:00&quot;</td><td>&quot;09:25:00&quot;</td><td>&quot;E70&quot;</td><td>&quot;OVB&quot;</td><td>&quot;OVB&quot;</td><td>1.0</td><td>0.0</td><td>1.0</td><td>&quot;IKT&quot;</td><td>&quot;02:30:00&quot;</td><td>&quot;5230&quot;</td><td>&quot;S7&quot;</td><td>&quot;S7&quot;</td><td>9.0</td><td>&quot;73H&quot;</td><td>&quot;AER&quot;</td><td>&quot;AER&quot;</td><td>1.0</td><td>0.0</td><td>1.0</td><td>&quot;OVB&quot;</td><td>&quot;05:10:00&quot;</td><td>&quot;5105&quot;</td><td>&quot;S7&quot;</td><td>&quot;S7&quot;</td><td>9.0</td><td>null</td><td>null</td><td>&hellip;</td><td>null</td><td>null</td><td>null</td><td>null</td><td>null</td><td>null</td><td>null</td><td>null</td><td>null</td><td>null</td><td>null</td><td>null</td><td>null</td><td>null</td><td>null</td><td>null</td><td>null</td><td>null</td><td>null</td><td>null</td><td>0.0</td><td>null</td><td>1.0</td><td>0.0</td><td>null</td><td>1.0</td><td>1.0</td><td>1</td><td>2384252</td><td>&quot;d2906d4d6a4a4b8ea7406a96080c7a…</td><td>2024-05-17 03:31:00</td><td>&quot;IKTAER&quot;</td><td>true</td><td>1273.0</td><td>63588.0</td><td>0</td><td>44</td></tr><tr><td>&hellip;</td><td>&hellip;</td><td>&hellip;</td><td>&hellip;</td><td>&hellip;</td><td>&hellip;</td><td>&hellip;</td><td>&hellip;</td><td>&hellip;</td><td>&hellip;</td><td>&hellip;</td><td>&hellip;</td><td>&hellip;</td><td>&hellip;</td><td>&hellip;</td><td>&hellip;</td><td>&hellip;</td><td>&hellip;</td><td>&hellip;</td><td>&hellip;</td><td>&hellip;</td><td>&hellip;</td><td>&hellip;</td><td>&hellip;</td><td>&hellip;</td><td>&hellip;</td><td>&hellip;</td><td>&hellip;</td><td>&hellip;</td><td>&hellip;</td><td>&hellip;</td><td>&hellip;</td><td>&hellip;</td><td>&hellip;</td><td>&hellip;</td><td>&hellip;</td><td>&hellip;</td><td>&hellip;</td><td>&hellip;</td><td>&hellip;</td><td>&hellip;</td><td>&hellip;</td><td>&hellip;</td><td>&hellip;</td><td>&hellip;</td><td>&hellip;</td><td>&hellip;</td><td>&hellip;</td><td>&hellip;</td><td>&hellip;</td><td>&hellip;</td><td>&hellip;</td><td>&hellip;</td><td>&hellip;</td><td>&hellip;</td><td>&hellip;</td><td>&hellip;</td><td>&hellip;</td><td>&hellip;</td><td>&hellip;</td><td>&hellip;</td><td>&hellip;</td><td>&hellip;</td><td>&hellip;</td><td>&hellip;</td><td>&hellip;</td><td>&hellip;</td><td>&hellip;</td><td>&hellip;</td><td>&hellip;</td><td>&hellip;</td><td>&hellip;</td><td>&hellip;</td><td>&hellip;</td><td>&hellip;</td></tr><tr><td>135</td><td>true</td><td>59096</td><td>null</td><td>null</td><td>36</td><td>false</td><td>false</td><td>&quot;2024-06-29T04:50:00&quot;</td><td>&quot;2024-06-28T16:35:00&quot;</td><td>&quot;16:15:00&quot;</td><td>&quot;773&quot;</td><td>&quot;MOW&quot;</td><td>&quot;SVO&quot;</td><td>2.0</td><td>0.0</td><td>2.0</td><td>&quot;GDX&quot;</td><td>&quot;07:35:00&quot;</td><td>&quot;6292&quot;</td><td>&quot;SU&quot;</td><td>&quot;FV&quot;</td><td>2.0</td><td>&quot;73H&quot;</td><td>&quot;OVB&quot;</td><td>&quot;OVB&quot;</td><td>2.0</td><td>0.0</td><td>2.0</td><td>&quot;SVO&quot;</td><td>&quot;04:10:00&quot;</td><td>&quot;1548&quot;</td><td>&quot;SU&quot;</td><td>&quot;SU&quot;</td><td>5.0</td><td>null</td><td>null</td><td>&hellip;</td><td>null</td><td>null</td><td>null</td><td>null</td><td>null</td><td>null</td><td>null</td><td>null</td><td>null</td><td>null</td><td>null</td><td>null</td><td>null</td><td>null</td><td>null</td><td>null</td><td>null</td><td>null</td><td>null</td><td>null</td><td>0.0</td><td>null</td><td>1.0</td><td>0.0</td><td>null</td><td>1.0</td><td>0.0</td><td>1</td><td>3380969</td><td>&quot;e0f9319a8b3048cdb1c974395e599e…</td><td>2024-05-17 04:02:26</td><td>&quot;GDXOVB&quot;</td><td>true</td><td>1385.0</td><td>202535.0</td><td>0</td><td>135</td></tr><tr><td>136</td><td>true</td><td>59096</td><td>null</td><td>null</td><td>36</td><td>false</td><td>false</td><td>&quot;2024-06-29T06:50:00&quot;</td><td>&quot;2024-06-28T16:35:00&quot;</td><td>&quot;18:15:00&quot;</td><td>&quot;773&quot;</td><td>&quot;MOW&quot;</td><td>&quot;SVO&quot;</td><td>1.0</td><td>0.0</td><td>1.0</td><td>&quot;GDX&quot;</td><td>&quot;07:35:00&quot;</td><td>&quot;6292&quot;</td><td>&quot;SU&quot;</td><td>&quot;FV&quot;</td><td>9.0</td><td>&quot;738&quot;</td><td>&quot;OVB&quot;</td><td>&quot;OVB&quot;</td><td>0.0</td><td>0.0</td><td>1.0</td><td>&quot;SVO&quot;</td><td>&quot;03:55:00&quot;</td><td>&quot;1237&quot;</td><td>&quot;5N&quot;</td><td>&quot;5N&quot;</td><td>9.0</td><td>null</td><td>null</td><td>&hellip;</td><td>null</td><td>null</td><td>null</td><td>null</td><td>null</td><td>null</td><td>null</td><td>null</td><td>null</td><td>null</td><td>null</td><td>null</td><td>null</td><td>null</td><td>null</td><td>null</td><td>null</td><td>null</td><td>null</td><td>null</td><td>4600.0</td><td>null</td><td>1.0</td><td>4600.0</td><td>null</td><td>1.0</td><td>1.0</td><td>1</td><td>3380969</td><td>&quot;e0f9319a8b3048cdb1c974395e599e…</td><td>2024-05-17 04:02:26</td><td>&quot;GDXOVB&quot;</td><td>true</td><td>515.0</td><td>25405.0</td><td>0</td><td>136</td></tr><tr><td>137</td><td>true</td><td>59096</td><td>null</td><td>null</td><td>36</td><td>false</td><td>false</td><td>&quot;2024-06-29T06:50:00&quot;</td><td>&quot;2024-06-28T16:35:00&quot;</td><td>&quot;18:15:00&quot;</td><td>&quot;773&quot;</td><td>&quot;MOW&quot;</td><td>&quot;SVO&quot;</td><td>1.0</td><td>0.0</td><td>1.0</td><td>&quot;GDX&quot;</td><td>&quot;07:35:00&quot;</td><td>&quot;6292&quot;</td><td>&quot;SU&quot;</td><td>&quot;FV&quot;</td><td>9.0</td><td>&quot;738&quot;</td><td>&quot;OVB&quot;</td><td>&quot;OVB&quot;</td><td>1.0</td><td>0.0</td><td>1.0</td><td>&quot;SVO&quot;</td><td>&quot;03:55:00&quot;</td><td>&quot;1237&quot;</td><td>&quot;5N&quot;</td><td>&quot;5N&quot;</td><td>9.0</td><td>null</td><td>null</td><td>&hellip;</td><td>null</td><td>null</td><td>null</td><td>null</td><td>null</td><td>null</td><td>null</td><td>null</td><td>null</td><td>null</td><td>null</td><td>null</td><td>null</td><td>null</td><td>null</td><td>null</td><td>null</td><td>null</td><td>null</td><td>null</td><td>4600.0</td><td>null</td><td>1.0</td><td>4600.0</td><td>null</td><td>1.0</td><td>1.0</td><td>1</td><td>3380969</td><td>&quot;e0f9319a8b3048cdb1c974395e599e…</td><td>2024-05-17 04:02:26</td><td>&quot;GDXOVB&quot;</td><td>true</td><td>515.0</td><td>26905.0</td><td>0</td><td>137</td></tr><tr><td>138</td><td>true</td><td>59096</td><td>null</td><td>null</td><td>36</td><td>false</td><td>false</td><td>&quot;2024-06-29T04:50:00&quot;</td><td>&quot;2024-06-28T14:30:00&quot;</td><td>&quot;18:20:00&quot;</td><td>&quot;773&quot;</td><td>&quot;MOW&quot;</td><td>&quot;SVO&quot;</td><td>0.0</td><td>0.0</td><td>1.0</td><td>&quot;GDX&quot;</td><td>&quot;07:40:00&quot;</td><td>&quot;6290&quot;</td><td>&quot;SU&quot;</td><td>&quot;FV&quot;</td><td>9.0</td><td>&quot;73H&quot;</td><td>&quot;OVB&quot;</td><td>&quot;OVB&quot;</td><td>0.0</td><td>0.0</td><td>1.0</td><td>&quot;SVO&quot;</td><td>&quot;04:10:00&quot;</td><td>&quot;1548&quot;</td><td>&quot;SU&quot;</td><td>&quot;SU&quot;</td><td>9.0</td><td>null</td><td>null</td><td>&hellip;</td><td>null</td><td>null</td><td>null</td><td>null</td><td>null</td><td>null</td><td>null</td><td>null</td><td>null</td><td>null</td><td>null</td><td>null</td><td>null</td><td>null</td><td>null</td><td>null</td><td>null</td><td>null</td><td>null</td><td>null</td><td>4600.0</td><td>null</td><td>1.0</td><td>0.0</td><td>null</td><td>0.0</td><td>1.0</td><td>1</td><td>3380969</td><td>&quot;e0f9319a8b3048cdb1c974395e599e…</td><td>2024-05-17 04:02:26</td><td>&quot;GDXOVB&quot;</td><td>true</td><td>955.0</td><td>30835.0</td><td>0</td><td>138</td></tr><tr><td>139</td><td>true</td><td>59096</td><td>null</td><td>null</td><td>36</td><td>false</td><td>false</td><td>&quot;2024-06-29T04:50:00&quot;</td><td>&quot;2024-06-28T14:30:00&quot;</td><td>&quot;18:20:00&quot;</td><td>&quot;773&quot;</td><td>&quot;MOW&quot;</td><td>&quot;SVO&quot;</td><td>1.0</td><td>0.0</td><td>1.0</td><td>&quot;GDX&quot;</td><td>&quot;07:40:00&quot;</td><td>&quot;6290&quot;</td><td>&quot;SU&quot;</td><td>&quot;FV&quot;</td><td>9.0</td><td>&quot;73H&quot;</td><td>&quot;OVB&quot;</td><td>&quot;OVB&quot;</td><td>1.0</td><td>0.0</td><td>1.0</td><td>&quot;SVO&quot;</td><td>&quot;04:10:00&quot;</td><td>&quot;1548&quot;</td><td>&quot;SU&quot;</td><td>&quot;SU&quot;</td><td>9.0</td><td>null</td><td>null</td><td>&hellip;</td><td>null</td><td>null</td><td>null</td><td>null</td><td>null</td><td>null</td><td>null</td><td>null</td><td>null</td><td>null</td><td>null</td><td>null</td><td>null</td><td>null</td><td>null</td><td>null</td><td>null</td><td>null</td><td>null</td><td>null</td><td>4600.0</td><td>null</td><td>1.0</td><td>4600.0</td><td>null</td><td>1.0</td><td>1.0</td><td>1</td><td>3380969</td><td>&quot;e0f9319a8b3048cdb1c974395e599e…</td><td>2024-05-17 04:02:26</td><td>&quot;GDXOVB&quot;</td><td>true</td><td>955.0</td><td>36040.0</td><td>0</td><td>139</td></tr></tbody></table></div>"
      ]
     },
     "execution_count": 2,
     "metadata": {},
     "output_type": "execute_result"
    }
   ],
   "execution_count": 2
  },
  {
   "metadata": {},
   "cell_type": "markdown",
   "source": [
    "#### Feature Engineering\n",
    "\n",
    "In the feature engineering step, we will aggregate the training data set by customer to generate customer profile and flight search and selection behavioral features with a goal of generating well defined customer segments for use in the flight ranking process. After evaluating the customer and flight related data, as well as some industry research, the following features will be used or generated:\n",
    "\n",
    "* Customer profile:\n",
    "    * company_id, sex, nationality, frequent_flyer, is_vip, by_self (all existing attributes)\n",
    "    * has_corp_codes, total_flights_searched, total_search_sessions, avg_searches_per_session, unique_routes_searched\n",
    "* Booking Lead Time:\n",
    "    * min_booking_lead_days, max_booking_lead_days, avg_booking_lead_days, median_booking_lead_days\n",
    "* Travel Preferences:\n",
    "    * most_common_departure_airport, unique_departure_airports, most_common_carrier, unique_carriers_used, round_trip_preference\n",
    "* Cabin Class Preferences:\n",
    "    * min_cabin_class, max_cabin_class, avg_cabin_class\n",
    "* Temporal Preferences:\n",
    "    * weekday_preference, return_weekday_preference, weekend_travel_rate, return_weekend_travel_rate, time_of_day_variance, night_flight_preference, redeye_flight_preference\n",
    "* Route Specific Preferences:\n",
    "    * route_loyalty, hub_preference, short_haul_preference, connection_tolerance, preferred_duration_quartile\n",
    "* Price Sensitivity:\n",
    "    * price_to_duration_sensitivity, avg_price_per_minute, price_per_minute_variance, price_position_preference, premium_economy_preference, consistent_price_tier (quartile), preferred_price_tier (quartile)\n",
    "* Service Preference:\n",
    "    * baggage_qty_preference, baggage_weight_preference,\n",
    "    * loyalty_program_utilization\n",
    "* Derived Metrics:\n",
    "    * convenience_priority_score, loyalty_vs_price_index, planning_consistency_score, luxury_index, search_intensity_per_route, lead_time_variance, lead_time_skew, carrier_diversity, airport_diversity, cabin_class_range, customer_tier\n",
    "* Interaction Features (to distiguish vip and corporate customers):\n",
    "    * vip_search_intensity, vip_carrier_diversity, vip_cabin_preference\n",
    "    * corp_search_volume, corp_roundtrip_preference, corp_planning_variance"
   ],
   "id": "19a368cd11ab47d3"
  },
  {
   "metadata": {
    "ExecuteTime": {
     "end_time": "2025-09-26T23:31:27.669517Z",
     "start_time": "2025-09-26T23:31:13.699240Z"
    }
   },
   "cell_type": "code",
   "source": [
    "# 1. Feature Engineering\n",
    "cust_data = extract_customer_features(train_df)\n",
    "print(f'Generated {len(cust_data.columns)} customer features for {len(cust_data)} customers')\n",
    "cust_data.head()"
   ],
   "id": "6595902c51644a2c",
   "outputs": [
    {
     "name": "stdout",
     "output_type": "stream",
     "text": [
      "Generated 63 customer features for 29991 customers\n"
     ]
    },
    {
     "data": {
      "text/plain": [
       "shape: (5, 63)\n",
       "┌───────────┬────────────┬─────┬────────────┬───┬────────────┬────────────┬────────────┬───────────┐\n",
       "│ profileId ┆ company_id ┆ sex ┆ nationalit ┆ … ┆ vip_cabin_ ┆ corp_searc ┆ corp_round ┆ corp_plan │\n",
       "│ ---       ┆ ---        ┆ --- ┆ y          ┆   ┆ preference ┆ h_volume   ┆ trip_pref  ┆ ning_vari │\n",
       "│ i64       ┆ i64        ┆ i8  ┆ ---        ┆   ┆ ---        ┆ ---        ┆ ---        ┆ ance      │\n",
       "│           ┆            ┆     ┆ i64        ┆   ┆ f64        ┆ i64        ┆ f64        ┆ ---       │\n",
       "│           ┆            ┆     ┆            ┆   ┆            ┆            ┆            ┆ i32       │\n",
       "╞═══════════╪════════════╪═════╪════════════╪═══╪════════════╪════════════╪════════════╪═══════════╡\n",
       "│ 3275557   ┆ 63398      ┆ 1   ┆ 36         ┆ … ┆ 0.0        ┆ 2          ┆ 0.0        ┆ 0         │\n",
       "│ 2709554   ┆ 16636      ┆ 0   ┆ 36         ┆ … ┆ 0.0        ┆ 0          ┆ 0.0        ┆ 0         │\n",
       "│ 2897662   ┆ 61295      ┆ 0   ┆ 36         ┆ … ┆ 0.0        ┆ 32         ┆ 1.0        ┆ 0         │\n",
       "│ 1642450   ┆ 52573      ┆ 1   ┆ 36         ┆ … ┆ 0.0        ┆ 1179       ┆ 0.8        ┆ 5         │\n",
       "│ 2996106   ┆ 42620      ┆ 1   ┆ 36         ┆ … ┆ 0.0        ┆ 220        ┆ 0.333333   ┆ 5         │\n",
       "└───────────┴────────────┴─────┴────────────┴───┴────────────┴────────────┴────────────┴───────────┘"
      ],
      "text/html": [
       "<div><style>\n",
       ".dataframe > thead > tr,\n",
       ".dataframe > tbody > tr {\n",
       "  text-align: right;\n",
       "  white-space: pre-wrap;\n",
       "}\n",
       "</style>\n",
       "<small>shape: (5, 63)</small><table border=\"1\" class=\"dataframe\"><thead><tr><th>profileId</th><th>company_id</th><th>sex</th><th>nationality</th><th>frequent_flyer</th><th>is_vip</th><th>by_self</th><th>has_corp_codes</th><th>total_flights_searched</th><th>total_search_sessions</th><th>avg_searches_per_session</th><th>unique_routes_searched</th><th>min_booking_lead_days</th><th>max_booking_lead_days</th><th>avg_booking_lead_days</th><th>median_booking_lead_days</th><th>most_common_departure_airport</th><th>unique_departure_airports</th><th>most_common_carrier</th><th>unique_carriers_used</th><th>roundtrip_preference</th><th>min_cabin_class</th><th>max_cabin_class</th><th>avg_cabin_class</th><th>weekday_preference</th><th>return_weekday_preference</th><th>weekend_travel_rate</th><th>return_weekend_travel_rate</th><th>time_of_day_variance</th><th>night_flight_preference</th><th>redeye_flight_preference</th><th>route_loyalty</th><th>hub_preference</th><th>short_haul_preference</th><th>connection_tolerance</th><th>preferred_duration_quartile</th><th>price_to_duration_sensitivity</th><th>avg_price_per_minute</th><th>price_per_minute_variance</th><th>price_position_preference</th><th>premium_economy_preference</th><th>consistent_price_tier</th><th>preferred_price_tier</th><th>baggage_qty_preference</th><th>baggage_weight_preference</th><th>loyalty_program_utilization</th><th>convenience_priority_score</th><th>loyalty_vs_price_index</th><th>planning_consistency_score</th><th>luxury_index</th><th>search_intensity_per_route</th><th>lead_time_variance</th><th>lead_time_skew</th><th>carrier_diversity</th><th>airport_diversity</th><th>cabin_class_range</th><th>customer_tier</th><th>vip_search_intensity</th><th>vip_carrier_diversity</th><th>vip_cabin_preference</th><th>corp_search_volume</th><th>corp_roundtrip_pref</th><th>corp_planning_variance</th></tr><tr><td>i64</td><td>i64</td><td>i8</td><td>i64</td><td>str</td><td>i8</td><td>i8</td><td>i8</td><td>u32</td><td>u32</td><td>f64</td><td>u32</td><td>i32</td><td>i32</td><td>f64</td><td>f64</td><td>str</td><td>u32</td><td>str</td><td>u32</td><td>f64</td><td>f64</td><td>f64</td><td>f64</td><td>i8</td><td>i8</td><td>f64</td><td>f64</td><td>f64</td><td>f64</td><td>f64</td><td>f64</td><td>f64</td><td>f64</td><td>f64</td><td>i32</td><td>f64</td><td>f64</td><td>f64</td><td>f64</td><td>f64</td><td>f64</td><td>i32</td><td>f64</td><td>f64</td><td>f64</td><td>f64</td><td>f64</td><td>f64</td><td>f64</td><td>f64</td><td>i32</td><td>f64</td><td>f64</td><td>f64</td><td>f64</td><td>i8</td><td>f64</td><td>f64</td><td>f64</td><td>i64</td><td>f64</td><td>i32</td></tr></thead><tbody><tr><td>3275557</td><td>63398</td><td>1</td><td>36</td><td>&quot;&quot;</td><td>0</td><td>1</td><td>1</td><td>2</td><td>1</td><td>2.0</td><td>1</td><td>5</td><td>5</td><td>5.0</td><td>5.0</td><td>&quot;PEZ&quot;</td><td>1</td><td>&quot;S7&quot;</td><td>1</td><td>0.0</td><td>1.0</td><td>1.0</td><td>1.0</td><td>3</td><td>-1</td><td>0.0</td><td>0.0</td><td>0.0</td><td>0.0</td><td>0.0</td><td>0.5</td><td>0.0</td><td>0.688889</td><td>1.0</td><td>1</td><td>0.0</td><td>87.4375</td><td>0.0</td><td>0.0</td><td>0.0</td><td>1.0</td><td>1</td><td>1.0</td><td>0.0</td><td>0.0</td><td>0.0</td><td>0.0</td><td>1.0</td><td>20.0</td><td>2.0</td><td>0</td><td>1.0</td><td>0.5</td><td>0.5</td><td>0.0</td><td>1</td><td>0.0</td><td>0.0</td><td>0.0</td><td>2</td><td>0.0</td><td>0</td></tr><tr><td>2709554</td><td>16636</td><td>0</td><td>36</td><td>&quot;SU&quot;</td><td>0</td><td>1</td><td>0</td><td>36</td><td>1</td><td>36.0</td><td>1</td><td>16</td><td>16</td><td>16.0</td><td>16.0</td><td>&quot;SVO&quot;</td><td>1</td><td>&quot;SU&quot;</td><td>1</td><td>1.0</td><td>1.0</td><td>1.0</td><td>1.0</td><td>1</td><td>7</td><td>0.0</td><td>1.0</td><td>0.0</td><td>0.0</td><td>0.0</td><td>0.972222</td><td>0.0</td><td>0.0</td><td>1.0</td><td>1</td><td>0.0</td><td>83.502222</td><td>0.0</td><td>54.285714</td><td>0.0</td><td>1.0</td><td>3</td><td>0.0</td><td>0.0</td><td>1.0</td><td>0.0</td><td>4.571429</td><td>1.0</td><td>47.142857</td><td>36.0</td><td>0</td><td>1.0</td><td>0.027778</td><td>0.027778</td><td>0.0</td><td>1</td><td>0.0</td><td>0.0</td><td>0.0</td><td>0</td><td>0.0</td><td>0</td></tr><tr><td>2897662</td><td>61295</td><td>0</td><td>36</td><td>&quot;&quot;</td><td>0</td><td>1</td><td>1</td><td>32</td><td>1</td><td>32.0</td><td>1</td><td>5</td><td>5</td><td>5.0</td><td>5.0</td><td>&quot;IJK&quot;</td><td>1</td><td>&quot;SU&quot;</td><td>1</td><td>1.0</td><td>1.0</td><td>1.0</td><td>1.0</td><td>2</td><td>5</td><td>0.0</td><td>1.0</td><td>0.0</td><td>0.0</td><td>0.0</td><td>0.96875</td><td>0.0</td><td>0.552778</td><td>1.0</td><td>1</td><td>0.0</td><td>63.017391</td><td>0.0</td><td>3.225806</td><td>0.0</td><td>1.0</td><td>1</td><td>1.0</td><td>0.0</td><td>0.0</td><td>0.0</td><td>-0.322581</td><td>1.0</td><td>21.612903</td><td>32.0</td><td>0</td><td>1.0</td><td>0.03125</td><td>0.03125</td><td>0.0</td><td>1</td><td>0.0</td><td>0.0</td><td>0.0</td><td>32</td><td>1.0</td><td>0</td></tr><tr><td>1642450</td><td>52573</td><td>1</td><td>36</td><td>&quot;&quot;</td><td>0</td><td>1</td><td>1</td><td>1179</td><td>10</td><td>117.9</td><td>2</td><td>3</td><td>8</td><td>4.5</td><td>4.0</td><td>&quot;KUF&quot;</td><td>1</td><td>&quot;SU&quot;</td><td>4</td><td>0.8</td><td>1.0</td><td>1.0</td><td>1.0</td><td>7</td><td>5</td><td>0.6</td><td>0.5</td><td>6.703233</td><td>0.0</td><td>0.0</td><td>0.998304</td><td>0.0</td><td>0.578056</td><td>1.0</td><td>1</td><td>0.528196</td><td>81.346213</td><td>36.056411</td><td>16.110642</td><td>0.0</td><td>0.718909</td><td>1</td><td>0.2</td><td>0.0</td><td>0.0</td><td>-54.391349</td><td>-1.611064</td><td>0.166667</td><td>28.055321</td><td>589.5</td><td>5</td><td>1.125</td><td>0.003393</td><td>0.000848</td><td>0.0</td><td>1</td><td>0.0</td><td>0.0</td><td>0.0</td><td>1179</td><td>0.8</td><td>5</td></tr><tr><td>2996106</td><td>42620</td><td>1</td><td>36</td><td>&quot;&quot;</td><td>0</td><td>1</td><td>1</td><td>220</td><td>3</td><td>73.333333</td><td>3</td><td>2</td><td>7</td><td>4.333333</td><td>4.0</td><td>&quot;TJM&quot;</td><td>3</td><td>&quot;S7&quot;</td><td>2</td><td>0.333333</td><td>1.0</td><td>1.0</td><td>1.0</td><td>1</td><td>2</td><td>0.0</td><td>0.0</td><td>9.643651</td><td>0.333333</td><td>0.333333</td><td>0.986364</td><td>0.0</td><td>0.552778</td><td>1.0</td><td>2</td><td>0.217082</td><td>96.315</td><td>39.770865</td><td>11.583333</td><td>0.0</td><td>0.80755</td><td>1</td><td>0.333333</td><td>0.0</td><td>0.0</td><td>-85.3511</td><td>-1.158333</td><td>0.166667</td><td>25.791667</td><td>73.333333</td><td>5</td><td>1.083333</td><td>0.009091</td><td>0.013636</td><td>0.0</td><td>1</td><td>0.0</td><td>0.0</td><td>0.0</td><td>220</td><td>0.333333</td><td>5</td></tr></tbody></table></div>"
      ]
     },
     "execution_count": 3,
     "metadata": {},
     "output_type": "execute_result"
    }
   ],
   "execution_count": 3
  },
  {
   "metadata": {},
   "cell_type": "markdown",
   "source": "Prepare features for training the unsupervised models",
   "id": "8c2ca2279bfd8db0"
  },
  {
   "metadata": {
    "ExecuteTime": {
     "end_time": "2025-09-26T23:31:33.779209Z",
     "start_time": "2025-09-26T23:31:33.241281Z"
    }
   },
   "cell_type": "code",
   "source": [
    "# 2. Remove outliers\n",
    "cust_data_cleaned, outlier_indices = remove_outliers(cust_data, contamination=0.05)"
   ],
   "id": "13101ba26f2ecea3",
   "outputs": [
    {
     "name": "stdout",
     "output_type": "stream",
     "text": [
      "Removed 1,500 outliers (5.0%)\n"
     ]
    }
   ],
   "execution_count": 4
  },
  {
   "metadata": {
    "ExecuteTime": {
     "end_time": "2025-09-26T23:31:37.366194Z",
     "start_time": "2025-09-26T23:31:37.201909Z"
    }
   },
   "cell_type": "code",
   "source": [
    "# 3. Feature encoding\n",
    "cust_data_encoded, encoders = encode_features(cust_data_cleaned)"
   ],
   "id": "50bc13f06bd001e0",
   "outputs": [],
   "execution_count": 5
  },
  {
   "metadata": {
    "ExecuteTime": {
     "end_time": "2025-09-26T23:31:40.309011Z",
     "start_time": "2025-09-26T23:31:40.153406Z"
    }
   },
   "cell_type": "code",
   "source": [
    "# 4. Feature scaling\n",
    "scaler = RobustScaler()\n",
    "scaled_features = scaler.fit_transform(cust_data_encoded.to_pandas())"
   ],
   "id": "4da3a61a5ceedfbd",
   "outputs": [],
   "execution_count": 6
  },
  {
   "metadata": {
    "ExecuteTime": {
     "end_time": "2025-09-26T23:31:43.322087Z",
     "start_time": "2025-09-26T23:31:43.209683Z"
    }
   },
   "cell_type": "code",
   "source": [
    "# 5. Dimensionality reduction\n",
    "n_components = 0.95  # retain components that explain 95% of variance\n",
    "# n_components = 15    # retain 30 components\n",
    "\n",
    "reducer = PCA(n_components=n_components, random_state=42)\n",
    "reduced_features = reducer.fit_transform(scaled_features)\n",
    "\n",
    "if hasattr(reducer, 'explained_variance_ratio_'):\n",
    "    total_variance = reducer.explained_variance_ratio_.sum()\n",
    "    print(f\"PCA retained {total_variance:.3f} of total variance with {reduced_features.shape[1]} components\")"
   ],
   "id": "9e67d2a4f2635db5",
   "outputs": [
    {
     "name": "stdout",
     "output_type": "stream",
     "text": [
      "PCA retained 0.950 of total variance with 9 components\n"
     ]
    }
   ],
   "execution_count": 7
  },
  {
   "metadata": {},
   "cell_type": "markdown",
   "source": "Now we will evaluate the Gaussian Mixture Model, DBScan, and Agglomerative Clustering methods on the Customer Features data",
   "id": "564a7855290f20dd"
  },
  {
   "metadata": {
    "ExecuteTime": {
     "end_time": "2025-09-26T23:37:06.392875Z",
     "start_time": "2025-09-26T23:31:48.289643Z"
    }
   },
   "cell_type": "code",
   "source": [
    "# 6. Try alternative clustering methods\n",
    "clustering_results = alternative_clustering_methods(reduced_features)\n",
    "\n",
    "# ... and show each method's best results\n",
    "for method, results in clustering_results.items():\n",
    "    print(f\"{method.upper():15s} | Silhouette: {results['silhouette']:.4f} | Clusters: {results['n_clusters']:2d}\")"
   ],
   "id": "ebb0b7ea7eb6fca0",
   "outputs": [
    {
     "name": "stdout",
     "output_type": "stream",
     "text": [
      "Testing Gaussian Mixture Models...\n",
      "Testing DBSCAN...\n",
      "eps: 0.50 | Clusters: 7 | Noise: 71.63% | Silhouette: 0.3412\n",
      "eps: 0.70 | Clusters: 8 | Noise: 55.23% | Silhouette: 0.5195\n",
      "eps: 1.00 | Clusters: 6 | Noise: 37.47% | Silhouette: 0.5708\n",
      "eps: 1.50 | Clusters: 9 | Noise: 22.58% | Silhouette: 0.5540\n",
      "Testing Agglomerative Clustering...\n",
      "GMM             | Silhouette: 0.0749 | Clusters: 15\n",
      "DBSCAN          | Silhouette: 0.5708 | Clusters:  6\n",
      "AGGLOMERATIVE   | Silhouette: 0.4583 | Clusters: 15\n"
     ]
    }
   ],
   "execution_count": 8
  },
  {
   "metadata": {},
   "cell_type": "markdown",
   "source": [
    "GMM performed poorly on this data set. DBSCAN fared pretty well and generated a reasonable set of clusters, but the noise ratio is higher than preferred. Out of the three methods, Agglomerative Clustering performed the best.\n",
    "\n",
    "As such, we will optimize the hyperparameter configuration and return the best model and results for our unsupervised learning method."
   ],
   "id": "9c37b1daaea61e4b"
  },
  {
   "metadata": {
    "ExecuteTime": {
     "end_time": "2025-09-27T00:31:13.284261Z",
     "start_time": "2025-09-26T23:37:38.221445Z"
    }
   },
   "cell_type": "code",
   "source": [
    "# 7. Perform hyperparameter optimization\n",
    "clustering_results = gen_optimum_num_clusters(reduced_features, min_clusters=4, max_clusters=16, step=1)\n",
    "\n",
    "# 7. Clustering results\n",
    "print(\"\\n🏆 CLUSTERING RESULTS:\")\n",
    "print(f\"  Clusters: {clustering_results['n_clusters']:2d}| Silhouette: {clustering_results['silhouette']:.4f} | \")"
   ],
   "id": "68613c41d19144f6",
   "outputs": [
    {
     "name": "stdout",
     "output_type": "stream",
     "text": [
      "n_clusters=4, linkage=ward, metric=euclidean: 0.6026\n",
      "n_clusters=5, linkage=ward, metric=euclidean: 0.6359\n",
      "n_clusters=6, linkage=ward, metric=euclidean: 0.6360\n",
      "n_clusters=7, linkage=ward, metric=euclidean: 0.6445\n",
      "n_clusters=8, linkage=ward, metric=euclidean: 0.6005\n",
      "n_clusters=9, linkage=ward, metric=euclidean: 0.4381\n",
      "n_clusters=10, linkage=ward, metric=euclidean: 0.4511\n",
      "n_clusters=11, linkage=ward, metric=euclidean: 0.4510\n",
      "n_clusters=12, linkage=ward, metric=euclidean: 0.4532\n",
      "n_clusters=13, linkage=ward, metric=euclidean: 0.4582\n",
      "n_clusters=14, linkage=ward, metric=euclidean: 0.4583\n",
      "n_clusters=15, linkage=ward, metric=euclidean: 0.4583\n",
      "n_clusters=16, linkage=ward, metric=euclidean: 0.3070\n",
      "n_clusters=4, linkage=complete, metric=euclidean: 0.9681\n",
      "n_clusters=5, linkage=complete, metric=euclidean: 0.9349\n",
      "n_clusters=6, linkage=complete, metric=euclidean: 0.9349\n",
      "n_clusters=7, linkage=complete, metric=euclidean: 0.9111\n",
      "n_clusters=8, linkage=complete, metric=euclidean: 0.8446\n",
      "n_clusters=9, linkage=complete, metric=euclidean: 0.8446\n",
      "n_clusters=10, linkage=complete, metric=euclidean: 0.8446\n",
      "n_clusters=11, linkage=complete, metric=euclidean: 0.8446\n",
      "n_clusters=12, linkage=complete, metric=euclidean: 0.8383\n",
      "n_clusters=13, linkage=complete, metric=euclidean: 0.7622\n",
      "n_clusters=14, linkage=complete, metric=euclidean: 0.7610\n",
      "n_clusters=15, linkage=complete, metric=euclidean: 0.7610\n",
      "n_clusters=16, linkage=complete, metric=euclidean: 0.7611\n",
      "n_clusters=4, linkage=complete, metric=manhattan: 0.8188\n",
      "n_clusters=5, linkage=complete, metric=manhattan: 0.8188\n",
      "n_clusters=6, linkage=complete, metric=manhattan: 0.8223\n",
      "n_clusters=7, linkage=complete, metric=manhattan: 0.8044\n",
      "n_clusters=8, linkage=complete, metric=manhattan: 0.8044\n",
      "n_clusters=9, linkage=complete, metric=manhattan: 0.7945\n",
      "n_clusters=10, linkage=complete, metric=manhattan: 0.7759\n",
      "n_clusters=11, linkage=complete, metric=manhattan: 0.2034\n",
      "n_clusters=12, linkage=complete, metric=manhattan: 0.2034\n",
      "n_clusters=13, linkage=complete, metric=manhattan: 0.2764\n",
      "n_clusters=14, linkage=complete, metric=manhattan: 0.2764\n",
      "n_clusters=15, linkage=complete, metric=manhattan: 0.2907\n",
      "n_clusters=16, linkage=complete, metric=manhattan: 0.2906\n",
      "n_clusters=4, linkage=complete, metric=cosine: 0.1517\n",
      "n_clusters=5, linkage=complete, metric=cosine: 0.2024\n",
      "n_clusters=6, linkage=complete, metric=cosine: 0.0322\n",
      "n_clusters=7, linkage=complete, metric=cosine: 0.0483\n",
      "n_clusters=8, linkage=complete, metric=cosine: 0.0353\n",
      "n_clusters=9, linkage=complete, metric=cosine: 0.0461\n",
      "n_clusters=10, linkage=complete, metric=cosine: 0.0580\n",
      "n_clusters=11, linkage=complete, metric=cosine: 0.1003\n",
      "n_clusters=12, linkage=complete, metric=cosine: 0.1017\n",
      "n_clusters=13, linkage=complete, metric=cosine: 0.0918\n",
      "n_clusters=14, linkage=complete, metric=cosine: 0.0954\n",
      "n_clusters=15, linkage=complete, metric=cosine: 0.0819\n",
      "n_clusters=16, linkage=complete, metric=cosine: 0.0869\n",
      "n_clusters=4, linkage=average, metric=euclidean: 0.9681\n",
      "n_clusters=5, linkage=average, metric=euclidean: 0.9232\n",
      "n_clusters=6, linkage=average, metric=euclidean: 0.9114\n",
      "n_clusters=7, linkage=average, metric=euclidean: 0.9114\n",
      "n_clusters=8, linkage=average, metric=euclidean: 0.9034\n",
      "n_clusters=9, linkage=average, metric=euclidean: 0.9033\n",
      "n_clusters=10, linkage=average, metric=euclidean: 0.9033\n",
      "n_clusters=11, linkage=average, metric=euclidean: 0.9031\n",
      "n_clusters=12, linkage=average, metric=euclidean: 0.8299\n",
      "n_clusters=13, linkage=average, metric=euclidean: 0.8121\n",
      "n_clusters=14, linkage=average, metric=euclidean: 0.8120\n",
      "n_clusters=15, linkage=average, metric=euclidean: 0.8117\n",
      "n_clusters=16, linkage=average, metric=euclidean: 0.8104\n",
      "n_clusters=4, linkage=average, metric=manhattan: 0.9681\n",
      "n_clusters=5, linkage=average, metric=manhattan: 0.9093\n",
      "n_clusters=6, linkage=average, metric=manhattan: 0.9114\n",
      "n_clusters=7, linkage=average, metric=manhattan: 0.9098\n",
      "n_clusters=8, linkage=average, metric=manhattan: 0.9097\n",
      "n_clusters=9, linkage=average, metric=manhattan: 0.8337\n",
      "n_clusters=10, linkage=average, metric=manhattan: 0.8338\n",
      "n_clusters=11, linkage=average, metric=manhattan: 0.8249\n",
      "n_clusters=12, linkage=average, metric=manhattan: 0.8249\n",
      "n_clusters=13, linkage=average, metric=manhattan: 0.8249\n",
      "n_clusters=14, linkage=average, metric=manhattan: 0.7567\n",
      "n_clusters=15, linkage=average, metric=manhattan: 0.7629\n",
      "n_clusters=16, linkage=average, metric=manhattan: 0.7629\n",
      "n_clusters=4, linkage=average, metric=cosine: 0.5907\n",
      "n_clusters=5, linkage=average, metric=cosine: 0.2424\n",
      "n_clusters=6, linkage=average, metric=cosine: 0.2509\n",
      "n_clusters=7, linkage=average, metric=cosine: 0.2685\n",
      "n_clusters=8, linkage=average, metric=cosine: 0.2438\n",
      "n_clusters=9, linkage=average, metric=cosine: 0.2290\n",
      "n_clusters=10, linkage=average, metric=cosine: 0.1451\n",
      "n_clusters=11, linkage=average, metric=cosine: 0.1473\n",
      "n_clusters=12, linkage=average, metric=cosine: 0.1501\n",
      "n_clusters=13, linkage=average, metric=cosine: 0.1496\n",
      "n_clusters=14, linkage=average, metric=cosine: 0.1492\n",
      "n_clusters=15, linkage=average, metric=cosine: 0.1487\n",
      "n_clusters=16, linkage=average, metric=cosine: 0.1475\n",
      "Best number of clusters: 4, with Silhouette score: 0.9681\n",
      "\n",
      "🏆 CLUSTERING RESULTS:\n",
      "  Clusters:  4| Silhouette: 0.9681 | \n"
     ]
    }
   ],
   "execution_count": 9
  },
  {
   "metadata": {
    "ExecuteTime": {
     "end_time": "2025-09-27T15:55:56.189846Z",
     "start_time": "2025-09-27T15:55:56.072517Z"
    }
   },
   "cell_type": "code",
   "source": "clustering_results",
   "id": "caaf50548f5553c5",
   "outputs": [
    {
     "data": {
      "text/plain": [
       "{'labels': array([0, 0, 0, ..., 0, 0, 0], shape=(28491,)),\n",
       " 'centroids': array([[-4.09819263e-01, -1.01283646e-03, -5.33896081e-04,\n",
       "         -8.38510502e-04, -2.12780057e-04, -5.89040848e-05,\n",
       "         -4.58161729e-05, -1.07372048e-04,  4.63044338e-05],\n",
       "        [ 6.66598484e+02,  2.69961934e+00,  5.32647089e-01,\n",
       "          1.60386127e+00,  2.11216086e+00, -9.26145150e-02,\n",
       "          8.20346135e-01, -2.00479744e-01,  2.16706027e-01],\n",
       "        [ 3.94929856e+02,  7.12692247e-01,  5.76055771e-01,\n",
       "          7.06690484e-01, -4.09120107e-02,  9.70978048e-02,\n",
       "         -8.25723020e-02,  1.44205985e-01, -4.98863777e-02],\n",
       "        [ 9.77253018e+02,  5.05230223e+00,  9.26183723e-01,\n",
       "          3.50942697e+00,  6.20365971e-01, -1.81603388e-01,\n",
       "          6.59709599e-01,  4.85252908e-01, -8.70673479e-01]]),\n",
       " 'model': AgglomerativeClustering(linkage='complete', n_clusters=4),\n",
       " 'silhouette': 0.9681101342773389,\n",
       " 'n_clusters': 4}"
      ]
     },
     "execution_count": 10,
     "metadata": {},
     "output_type": "execute_result"
    }
   ],
   "execution_count": 10
  },
  {
   "metadata": {
    "ExecuteTime": {
     "end_time": "2025-09-27T15:56:25.493250Z",
     "start_time": "2025-09-27T15:56:25.336529Z"
    }
   },
   "cell_type": "code",
   "source": [
    "# Analyze the cluster results\n",
    "analyze_clusters(cust_data_cleaned, clustering_results['labels'])"
   ],
   "id": "904c81e497a8aee0",
   "outputs": [
    {
     "name": "stdout",
     "output_type": "stream",
     "text": [
      "\n",
      "CLUSTER PROFILES:\n",
      "==================================================\n"
     ]
    },
    {
     "data": {
      "text/plain": [
       "   cluster  avg_flights_searched  vip_rate  roundtrip_rate  avg_lead_days  \\\n",
       "0        0            432.597400  0.003373        0.531282      15.013311   \n",
       "1        1            667.333333  1.000000        1.000000      12.250000   \n",
       "2        2            610.954545  1.000000        0.831818      10.617424   \n",
       "3        3            978.000000  1.000000        1.000000      14.000000   \n",
       "\n",
       "   avg_carriers  avg_cabin_class  avg_loyalty_utilization  \\\n",
       "0      1.412577         1.018713                 0.138753   \n",
       "1      1.333333         1.000000                 0.083333   \n",
       "2      1.181818         1.000000                 0.363636   \n",
       "3      1.000000         1.000000                 0.000000   \n",
       "\n",
       "   avg_price_position_preference  avg_preferred_price_tier  \\\n",
       "0                      21.507410                  1.491973   \n",
       "1                      26.390886                  1.666667   \n",
       "2                      27.918917                  1.636364   \n",
       "3                      31.064318                  2.000000   \n",
       "\n",
       "   avg_connection_tolerance  avg_weekend_travel_rate  \\\n",
       "0                  1.147152                 0.304719   \n",
       "1                  1.083333                 0.083333   \n",
       "2                  1.000000                 0.213636   \n",
       "3                  1.000000                 0.000000   \n",
       "\n",
       "   avg_night_flight_preference   size  \n",
       "0                     0.120502  28465  \n",
       "1                     0.000000      3  \n",
       "2                     0.000000     22  \n",
       "3                     0.000000      1  "
      ],
      "text/html": [
       "<div>\n",
       "<style scoped>\n",
       "    .dataframe tbody tr th:only-of-type {\n",
       "        vertical-align: middle;\n",
       "    }\n",
       "\n",
       "    .dataframe tbody tr th {\n",
       "        vertical-align: top;\n",
       "    }\n",
       "\n",
       "    .dataframe thead th {\n",
       "        text-align: right;\n",
       "    }\n",
       "</style>\n",
       "<table border=\"1\" class=\"dataframe\">\n",
       "  <thead>\n",
       "    <tr style=\"text-align: right;\">\n",
       "      <th></th>\n",
       "      <th>cluster</th>\n",
       "      <th>avg_flights_searched</th>\n",
       "      <th>vip_rate</th>\n",
       "      <th>roundtrip_rate</th>\n",
       "      <th>avg_lead_days</th>\n",
       "      <th>avg_carriers</th>\n",
       "      <th>avg_cabin_class</th>\n",
       "      <th>avg_loyalty_utilization</th>\n",
       "      <th>avg_price_position_preference</th>\n",
       "      <th>avg_preferred_price_tier</th>\n",
       "      <th>avg_connection_tolerance</th>\n",
       "      <th>avg_weekend_travel_rate</th>\n",
       "      <th>avg_night_flight_preference</th>\n",
       "      <th>size</th>\n",
       "    </tr>\n",
       "  </thead>\n",
       "  <tbody>\n",
       "    <tr>\n",
       "      <th>0</th>\n",
       "      <td>0</td>\n",
       "      <td>432.597400</td>\n",
       "      <td>0.003373</td>\n",
       "      <td>0.531282</td>\n",
       "      <td>15.013311</td>\n",
       "      <td>1.412577</td>\n",
       "      <td>1.018713</td>\n",
       "      <td>0.138753</td>\n",
       "      <td>21.507410</td>\n",
       "      <td>1.491973</td>\n",
       "      <td>1.147152</td>\n",
       "      <td>0.304719</td>\n",
       "      <td>0.120502</td>\n",
       "      <td>28465</td>\n",
       "    </tr>\n",
       "    <tr>\n",
       "      <th>1</th>\n",
       "      <td>1</td>\n",
       "      <td>667.333333</td>\n",
       "      <td>1.000000</td>\n",
       "      <td>1.000000</td>\n",
       "      <td>12.250000</td>\n",
       "      <td>1.333333</td>\n",
       "      <td>1.000000</td>\n",
       "      <td>0.083333</td>\n",
       "      <td>26.390886</td>\n",
       "      <td>1.666667</td>\n",
       "      <td>1.083333</td>\n",
       "      <td>0.083333</td>\n",
       "      <td>0.000000</td>\n",
       "      <td>3</td>\n",
       "    </tr>\n",
       "    <tr>\n",
       "      <th>2</th>\n",
       "      <td>2</td>\n",
       "      <td>610.954545</td>\n",
       "      <td>1.000000</td>\n",
       "      <td>0.831818</td>\n",
       "      <td>10.617424</td>\n",
       "      <td>1.181818</td>\n",
       "      <td>1.000000</td>\n",
       "      <td>0.363636</td>\n",
       "      <td>27.918917</td>\n",
       "      <td>1.636364</td>\n",
       "      <td>1.000000</td>\n",
       "      <td>0.213636</td>\n",
       "      <td>0.000000</td>\n",
       "      <td>22</td>\n",
       "    </tr>\n",
       "    <tr>\n",
       "      <th>3</th>\n",
       "      <td>3</td>\n",
       "      <td>978.000000</td>\n",
       "      <td>1.000000</td>\n",
       "      <td>1.000000</td>\n",
       "      <td>14.000000</td>\n",
       "      <td>1.000000</td>\n",
       "      <td>1.000000</td>\n",
       "      <td>0.000000</td>\n",
       "      <td>31.064318</td>\n",
       "      <td>2.000000</td>\n",
       "      <td>1.000000</td>\n",
       "      <td>0.000000</td>\n",
       "      <td>0.000000</td>\n",
       "      <td>1</td>\n",
       "    </tr>\n",
       "  </tbody>\n",
       "</table>\n",
       "</div>"
      ]
     },
     "execution_count": 11,
     "metadata": {},
     "output_type": "execute_result"
    }
   ],
   "execution_count": 11
  },
  {
   "metadata": {},
   "cell_type": "markdown",
   "source": [
    "While using linkage = 'complete' and metric = 'euclidean' (default) had the best silhoutte score with 4 clusters, the linkage = 'average' and metric = 'euclidean' performed more consistently across the range of clusters. My primary concern with the 4 clusters shown above, is that most customers are grouped in a single cluster with the other 3 clusters being very small. This leads me to believe that we might be overfitting the data and may also need to revisit the feature engineering and feature selection process.\n",
    "\n",
    "To evaluate the clustering in more detail, we will select some combinations of the metrics from the tuning and see how they perform on the test data set."
   ],
   "id": "62f04f8e6e02e1fa"
  },
  {
   "metadata": {
    "ExecuteTime": {
     "end_time": "2025-09-27T16:25:45.712349Z",
     "start_time": "2025-09-27T16:25:45.566597Z"
    }
   },
   "cell_type": "code",
   "source": [
    "# Save the current cleaned data and reduced feature set for easier re-use\n",
    "np.save('data/reduced_features.npy', reduced_features)\n",
    "cust_data_cleaned.write_parquet('data/cust_data_cleaned.parquet')"
   ],
   "id": "6fef8cb48f0b7d32",
   "outputs": [],
   "execution_count": 20
  },
  {
   "metadata": {
    "ExecuteTime": {
     "end_time": "2025-09-27T17:04:02.831722Z",
     "start_time": "2025-09-27T17:01:38.503594Z"
    }
   },
   "cell_type": "code",
   "source": [
    "# Let's generate and test several variations of the Agglomerative Cluster model\n",
    "agg1 = generate_clusters(reduced_features, n_clusters=6, linkage='average', metric='euclidean')\n",
    "agg2 = generate_clusters(reduced_features, n_clusters=10, linkage='average', metric='euclidean')\n",
    "agg3 = generate_clusters(reduced_features, n_clusters=7, linkage='complete', metric='euclidean')\n",
    "agg4 = generate_clusters(reduced_features, n_clusters=7, linkage='ward', metric='euclidean')"
   ],
   "id": "99a96610f7d7231d",
   "outputs": [],
   "execution_count": 26
  },
  {
   "metadata": {
    "ExecuteTime": {
     "end_time": "2025-09-27T17:13:31.235372Z",
     "start_time": "2025-09-27T17:13:26.521599Z"
    }
   },
   "cell_type": "code",
   "source": [
    "# get test data set and prepare it for clustering\n",
    "test_df = pl.read_parquet('data/test_df.parquet')\n",
    "# Feature engineering\n",
    "test_data = extract_customer_features(test_df)\n",
    "# Encode customer features\n",
    "test_data_encoded, _ = encode_features(test_data, encoders)\n",
    "# Scale customer features\n",
    "test_data_scaled = scaler.transform(test_data_encoded.to_pandas())\n",
    "# Dimensionality reduction\n",
    "test_data_reduced = reducer.transform(test_data_scaled)"
   ],
   "id": "b8801da6243e488f",
   "outputs": [],
   "execution_count": 27
  },
  {
   "metadata": {
    "ExecuteTime": {
     "end_time": "2025-09-27T17:13:50.098894Z",
     "start_time": "2025-09-27T17:13:39.792881Z"
    }
   },
   "cell_type": "code",
   "source": [
    "# Let's test the models on the test data set\n",
    "from sklearn.metrics import silhouette_score\n",
    "\n",
    "agg1_pred, _ = predict_cluster_with_centroids(test_data_reduced, agg1['centroids'])\n",
    "agg1_silhoutte = silhouette_score(test_data_reduced, agg1_pred)\n",
    "print(f'model 1 silhoutte score: {agg1_silhoutte:.4f}')\n",
    "\n",
    "agg2_pred, _ = predict_cluster_with_centroids(test_data_reduced, agg2['centroids'])\n",
    "agg2_silhoutte = silhouette_score(test_data_reduced, agg2_pred)\n",
    "print(f'model 2 silhoutte score: {agg2_silhoutte:.4f}')\n",
    "\n",
    "agg3_pred, _ = predict_cluster_with_centroids(test_data_reduced, agg3['centroids'])\n",
    "agg3_silhoutte = silhouette_score(test_data_reduced, agg3_pred)\n",
    "print(f'model 3 silhoutte score: {agg3_silhoutte:.4f}')\n",
    "\n",
    "agg4_pred, _ = predict_cluster_with_centroids(test_data_reduced, agg4['centroids'])\n",
    "agg4_silhoutte = silhouette_score(test_data_reduced, agg4_pred)\n",
    "print(f'model 4 silhoutte score: {agg4_silhoutte:.4f}')\n",
    "\n",
    "# run test data against the best model\n",
    "best_model_pred, _ = predict_cluster_with_centroids(test_data_reduced, clustering_results['centroids'])\n",
    "best_model_silhoutte = silhouette_score(test_data_reduced, best_model_pred)\n",
    "print(f'best model silhoutte score: {best_model_silhoutte:.4f}')"
   ],
   "id": "88b3fd3712d34bc5",
   "outputs": [
    {
     "name": "stdout",
     "output_type": "stream",
     "text": [
      "model 1 silhoutte score: 0.8406\n",
      "model 2 silhoutte score: 0.8422\n",
      "model 3 silhoutte score: 0.8388\n",
      "model 4 silhoutte score: 0.6867\n",
      "best model silhoutte score: 0.9518\n"
     ]
    }
   ],
   "execution_count": 28
  },
  {
   "metadata": {
    "ExecuteTime": {
     "end_time": "2025-09-27T17:22:23.854677Z",
     "start_time": "2025-09-27T17:22:23.741954Z"
    }
   },
   "cell_type": "code",
   "source": [
    "# Let's compare the clustering distribution results\n",
    "print(f'agg1 clusters:\\n{np.asarray(np.unique(agg1_pred, return_counts=True)).T}')\n",
    "print(f'agg2 clusters:\\n{np.asarray(np.unique(agg2_pred, return_counts=True)).T}')\n",
    "print(f'agg3 clusters:\\n{np.asarray(np.unique(agg3_pred, return_counts=True)).T}')\n",
    "print(f'agg4 clusters:\\n{np.asarray(np.unique(agg4_pred, return_counts=True)).T}')\n",
    "print(f'best model clusters:\\n{np.asarray(np.unique(best_model_pred, return_counts=True)).T}')"
   ],
   "id": "52034ead65392b6b",
   "outputs": [
    {
     "name": "stdout",
     "output_type": "stream",
     "text": [
      "agg1 clusters:\n",
      "[[    0    61]\n",
      " [    1   135]\n",
      " [    2     3]\n",
      " [    3    20]\n",
      " [    4    16]\n",
      " [    5 13562]]\n",
      "agg2 clusters:\n",
      "[[    0     3]\n",
      " [    1   128]\n",
      " [    2 13531]\n",
      " [    3    42]\n",
      " [    4    13]\n",
      " [    5     3]\n",
      " [    6    37]\n",
      " [    7    20]\n",
      " [    8    16]\n",
      " [    9     4]]\n",
      "agg3 clusters:\n",
      "[[    0 13585]\n",
      " [    1   109]\n",
      " [    2    26]\n",
      " [    3    20]\n",
      " [    4     9]\n",
      " [    5    45]\n",
      " [    6     3]]\n",
      "agg4 clusters:\n",
      "[[    0   743]\n",
      " [    1 11921]\n",
      " [    2   195]\n",
      " [    3    71]\n",
      " [    4   702]\n",
      " [    5    29]\n",
      " [    6   136]]\n",
      "best model clusters:\n",
      "[[    0 13671]\n",
      " [    1    16]\n",
      " [    2    90]\n",
      " [    3    20]]\n"
     ]
    }
   ],
   "execution_count": 30
  },
  {
   "metadata": {},
   "cell_type": "markdown",
   "source": [
    "In general, most customers reside in one large cluster. Model 4 showed the highest distribution, but has the lowest silhoutte score when evaluating the clustering.\n",
    "\n",
    "Based on the evaluation results, let's stick with the \"best\" 4-cluster model and move to the next steps."
   ],
   "id": "71808768e106f97c"
  },
  {
   "metadata": {
    "ExecuteTime": {
     "end_time": "2025-09-27T17:28:05.980998Z",
     "start_time": "2025-09-27T17:28:05.876245Z"
    }
   },
   "cell_type": "code",
   "source": [
    "# Add cluster labels to the customer data set\n",
    "cust_data_cleaned = cust_data_cleaned.with_columns(pl.Series('customer_segment', clustering_results['labels']))"
   ],
   "id": "55b94d4e209c3e32",
   "outputs": [],
   "execution_count": 31
  },
  {
   "metadata": {
    "ExecuteTime": {
     "end_time": "2025-09-27T17:28:38.517245Z",
     "start_time": "2025-09-27T17:28:38.375256Z"
    }
   },
   "cell_type": "code",
   "source": [
    "# Save customer features\n",
    "cust_data_cleaned.write_parquet('data/train_customer_features.parquet')"
   ],
   "id": "9d33f4a9dc69c94",
   "outputs": [],
   "execution_count": 34
  },
  {
   "metadata": {
    "ExecuteTime": {
     "end_time": "2025-09-27T17:28:44.363181Z",
     "start_time": "2025-09-27T17:28:44.256900Z"
    }
   },
   "cell_type": "code",
   "source": [
    "# Save the best Agglomerative model\n",
    "joblib.dump(clustering_results, 'data/agglomerative_model.joblib')\n",
    "\n",
    "# Save the data encoders/scaler/reducer\n",
    "joblib.dump({\n",
    "    'encoders': encoders,\n",
    "    'scaler': scaler,\n",
    "    'reducer': reducer\n",
    "}, 'data/data_encoders_scaler_reducer.joblib')"
   ],
   "id": "f6610cfd0e5220ac",
   "outputs": [
    {
     "data": {
      "text/plain": [
       "['data/data_encoders_scaler_reducer.joblib']"
      ]
     },
     "execution_count": 35,
     "metadata": {},
     "output_type": "execute_result"
    }
   ],
   "execution_count": 35
  },
  {
   "metadata": {
    "ExecuteTime": {
     "end_time": "2025-09-27T17:29:46.089781Z",
     "start_time": "2025-09-27T17:29:45.860541Z"
    }
   },
   "cell_type": "code",
   "source": [
    "# Remove unneeded objects to free memory\n",
    "del GaussianMixture\n",
    "del PCA\n",
    "del clustering_results\n",
    "del cust_data\n",
    "del cust_data_cleaned\n",
    "del cust_data_encoded\n",
    "del encoders\n",
    "del outlier_indices\n",
    "del reduced_features\n",
    "del reducer\n",
    "del results\n",
    "del scaled_features\n",
    "del scaler\n",
    "gc.collect()"
   ],
   "id": "dbbe50639ab8c600",
   "outputs": [
    {
     "data": {
      "text/plain": [
       "839"
      ]
     },
     "execution_count": 36,
     "metadata": {},
     "output_type": "execute_result"
    }
   ],
   "execution_count": 36
  },
  {
   "metadata": {
    "ExecuteTime": {
     "end_time": "2025-09-27T17:32:10.114648Z",
     "start_time": "2025-09-27T17:32:09.936092Z"
    }
   },
   "cell_type": "code",
   "source": [
    "# Remove the multiple testing objects too...\n",
    "del agg1\n",
    "del agg1_pred\n",
    "del agg1_silhoutte\n",
    "del agg2\n",
    "del agg2_pred\n",
    "del agg2_silhoutte\n",
    "del agg3\n",
    "del agg3_pred\n",
    "del agg3_silhoutte\n",
    "del agg4\n",
    "del agg4_pred\n",
    "del agg4_silhoutte\n",
    "del best_model_pred\n",
    "del best_model_silhoutte\n",
    "del test_df\n",
    "del test_data\n",
    "del test_data_encoded\n",
    "del test_data_reduced\n",
    "del test_data_scaled\n",
    "gc.collect()"
   ],
   "id": "b79b0a1c391fb3ea",
   "outputs": [
    {
     "data": {
      "text/plain": [
       "0"
      ]
     },
     "execution_count": 37,
     "metadata": {},
     "output_type": "execute_result"
    }
   ],
   "execution_count": 37
  },
  {
   "metadata": {},
   "cell_type": "markdown",
   "source": [
    "### Flight Ranking\n",
    "\n",
    "This section will perform the flight search results ranking. The goal is to predict the top 3 flights that meet the customer's selection behavior, based on the customer segmentation, flight features, and interactive features between the customer profile and flight data.\n",
    "\n",
    "The process will begin by cleaning the data and engineering additional features to provide insights around flight attributes. Customer features will be added to the updated flight feature set and interactive features will be generated to provide additional selection insight. Once all feature engineering is completed, the LightGBM model will be trained for ranking the ranking all flights within thier respective search session. A separate model will be trained for each customer segment, as well as a model trained on the entire data set. From this, we are looking to determine if the clustering of customers enhances the predictivec capabilites of the model, or if the combined data set with all customer features is better at identifying the differences.\n",
    "\n",
    "The process for peforming the ranking is as follows:\n",
    "1. Feature Engineering of flight features\n",
    "2. Prepare Training Data\n",
    "    * combine Customer features with Flight features\n",
    "    * generate interactive Customer/Flight features\n",
    "    * generate groups to support efficient training of LightGBM model for such a large data set\n",
    "        * grouping ensures that search sessions are not split across different groups for ranking.\n",
    "3. Train LightGBM model for ranking\n",
    "    * train a model for each customer segment\n",
    "    * train a model for the entire data set\n",
    "4. Evaluate the models on the Test Data\n",
    "5. Analyze the results\n"
   ],
   "id": "2e87cd415993ef7b"
  },
  {
   "metadata": {},
   "cell_type": "markdown",
   "source": [
    "#### Feature Engineering\n",
    "\n",
    "In the feature engineering step, we will generate additional features to generalize some features of the search session, such as is_roundtrip, as well as features that can assist in determining flight selection behaviors, such as is_weekend and carrier/frequent_flyer match. After evaluating the customer and flight related data, as well as some industry research, the following features will be used or generated:\n",
    "\n",
    "* Basic flight features\n",
    "    * is_access3D, is_roundtrip, route_origin, origin_is_major_hub, destination_is_major_hub\n",
    "* Flight segment features\n",
    "    * leg0_num_segments, leg1_num_segments, total_segments, leg0_flight_time_min, leg1_flight_time_min\n",
    "* Time related features\n",
    "    * booking_lead_days, leg0_duration_minutes (including layovers), leg1_duration_minutes (including layovers),\n",
    "    * trip_duration_minutes (including layovers),\n",
    "    * leg0_departure_hour, leg0_departure_weekday, leg0_arrival_hour, leg0_arrival_weekday,\n",
    "    * leg1_departure_hour, leg1_departure_weekday, leg1_arrival_hour, leg1_arrival_weekday,\n",
    "* Flight service features\n",
    "    * has_cancellation_fee, has_exchange_fee, max_cabin_class, baggage_allowance_qty, baggage_allowance_weight,\n",
    "    * avg_cabin_class, min_seats_available, total_seats_available\n",
    "* Carrier features\n",
    "    * unique_carriers, primary_carrier, marketing_carrier, aircraft_diversity, primary_aircraft\n",
    "* Derived flight features (based on other engineered features)\n",
    "    * is_daytime, is_weekend, is_redeye, has_connections\n",
    "* Windows based features (based on search session)\n",
    "    * price_percentile, price_rank_pct, price_ratio_to_min, route_popularity, route_popularity_log\n"
   ],
   "id": "3a5593f7cb491b86"
  },
  {
   "metadata": {
    "ExecuteTime": {
     "end_time": "2025-09-24T03:28:19.690827Z",
     "start_time": "2025-09-24T03:28:19.580963Z"
    }
   },
   "cell_type": "code",
   "source": [
    "# Load training data if not already loaded\n",
    "try:\n",
    "    train_df.head()\n",
    "except NameError:\n",
    "    train_df = pl.read_parquet('data/train_df.parquet')"
   ],
   "id": "31d8bc7bdf4aca59",
   "outputs": [],
   "execution_count": 35
  },
  {
   "metadata": {
    "ExecuteTime": {
     "end_time": "2025-09-24T03:30:16.781317Z",
     "start_time": "2025-09-24T03:28:21.888133Z"
    }
   },
   "cell_type": "code",
   "source": "train_df = extract_flight_features(train_df)",
   "id": "934de2df8f5e2fa8",
   "outputs": [],
   "execution_count": 36
  },
  {
   "metadata": {
    "ExecuteTime": {
     "end_time": "2025-09-24T03:31:50.870402Z",
     "start_time": "2025-09-24T03:31:50.689526Z"
    }
   },
   "cell_type": "code",
   "source": "train_df.head(100)",
   "id": "855fd6b86c1a1e47",
   "outputs": [
    {
     "data": {
      "text/plain": [
       "shape: (100, 60)\n",
       "┌─────┬────────────┬────────────┬────────────┬───┬────────────┬────────────┬───────────┬───────────┐\n",
       "│ Id  ┆ corporateT ┆ miniRules0 ┆ miniRules0 ┆ … ┆ is_daytime ┆ is_weekend ┆ is_redeye ┆ has_conne │\n",
       "│ --- ┆ ariffCode  ┆ _monetaryA ┆ _percentag ┆   ┆ ---        ┆ ---        ┆ ---       ┆ ctions    │\n",
       "│ i64 ┆ ---        ┆ mount      ┆ e          ┆   ┆ i8         ┆ i8         ┆ i8        ┆ ---       │\n",
       "│     ┆ i64        ┆ ---        ┆ ---        ┆   ┆            ┆            ┆           ┆ i8        │\n",
       "│     ┆            ┆ f64        ┆ f64        ┆   ┆            ┆            ┆           ┆           │\n",
       "╞═════╪════════════╪════════════╪════════════╪═══╪════════════╪════════════╪═══════════╪═══════════╡\n",
       "│ 0   ┆ 0          ┆ 0.0        ┆ 0.0        ┆ … ┆ 1          ┆ 1          ┆ 0         ┆ 1         │\n",
       "│ 1   ┆ 123        ┆ 2300.0     ┆ 0.0        ┆ … ┆ 1          ┆ 1          ┆ 0         ┆ 1         │\n",
       "│ 2   ┆ 0          ┆ 2300.0     ┆ 0.0        ┆ … ┆ 1          ┆ 1          ┆ 0         ┆ 1         │\n",
       "│ 3   ┆ 123        ┆ 0.0        ┆ 0.0        ┆ … ┆ 1          ┆ 1          ┆ 0         ┆ 1         │\n",
       "│ 4   ┆ 0          ┆ 0.0        ┆ 0.0        ┆ … ┆ 1          ┆ 1          ┆ 0         ┆ 1         │\n",
       "│ …   ┆ …          ┆ …          ┆ …          ┆ … ┆ …          ┆ …          ┆ …         ┆ …         │\n",
       "│ 159 ┆ 0          ┆ 4000.0     ┆ 0.0        ┆ … ┆ 1          ┆ 0          ┆ 1         ┆ 1         │\n",
       "│ 160 ┆ 131        ┆ 2300.0     ┆ 0.0        ┆ … ┆ 1          ┆ 0          ┆ 1         ┆ 1         │\n",
       "│ 161 ┆ 0          ┆ 2300.0     ┆ 0.0        ┆ … ┆ 1          ┆ 0          ┆ 1         ┆ 1         │\n",
       "│ 162 ┆ 131        ┆ 0.0        ┆ 0.0        ┆ … ┆ 1          ┆ 0          ┆ 1         ┆ 1         │\n",
       "│ 163 ┆ 0          ┆ 0.0        ┆ 0.0        ┆ … ┆ 1          ┆ 0          ┆ 1         ┆ 1         │\n",
       "└─────┴────────────┴────────────┴────────────┴───┴────────────┴────────────┴───────────┴───────────┘"
      ],
      "text/html": [
       "<div><style>\n",
       ".dataframe > thead > tr,\n",
       ".dataframe > tbody > tr {\n",
       "  text-align: right;\n",
       "  white-space: pre-wrap;\n",
       "}\n",
       "</style>\n",
       "<small>shape: (100, 60)</small><table border=\"1\" class=\"dataframe\"><thead><tr><th>Id</th><th>corporateTariffCode</th><th>miniRules0_monetaryAmount</th><th>miniRules0_percentage</th><th>miniRules0_statusInfos</th><th>miniRules1_monetaryAmount</th><th>miniRules1_percentage</th><th>miniRules1_statusInfos</th><th>pricingInfo_isAccessTP</th><th>pricingInfo_passengerCount</th><th>profileId</th><th>ranker_id</th><th>selected</th><th>price_percentile</th><th>price_rank_pct</th><th>price_ratio_to_min</th><th>route_popularity</th><th>route_popularity_log</th><th>is_access3D</th><th>is_roundtrip</th><th>route_origin</th><th>origin_is_major_hub</th><th>destination_is_major_hub</th><th>includes_major_hub</th><th>leg0_num_segments</th><th>leg1_num_segments</th><th>total_segments</th><th>leg0_flight_time_min</th><th>leg1_flight_time_min</th><th>booking_lead_days</th><th>leg0_duration_minutes</th><th>leg1_duration_minutes</th><th>trip_duration_minutes</th><th>leg0_departure_hour</th><th>leg0_departure_weekday</th><th>leg0_arrival_hour</th><th>leg0_arrival_weekday</th><th>leg1_departure_hour</th><th>leg1_arrival_hour</th><th>leg1_departure_weekday</th><th>leg1_arrival_weekday</th><th>has_cancellation_fee</th><th>has_exchange_fee</th><th>max_cabin_class</th><th>avg_cabin_class</th><th>min_seats_available</th><th>total_seats_available</th><th>baggage_allowance_quantity</th><th>baggage_allowance_weight</th><th>unique_carriers</th><th>primary_carrier</th><th>marketing_carrier</th><th>has_mkt_ff</th><th>has_op_ff</th><th>aircraft_diversity</th><th>primary_aircraft</th><th>is_daytime</th><th>is_weekend</th><th>is_redeye</th><th>has_connections</th></tr><tr><td>i64</td><td>i64</td><td>f64</td><td>f64</td><td>f64</td><td>f64</td><td>f64</td><td>f64</td><td>f64</td><td>i64</td><td>i64</td><td>str</td><td>i64</td><td>f64</td><td>f64</td><td>f64</td><td>u32</td><td>f64</td><td>i32</td><td>i8</td><td>str</td><td>i32</td><td>i32</td><td>i32</td><td>u32</td><td>u32</td><td>u32</td><td>i32</td><td>i32</td><td>i32</td><td>i32</td><td>i32</td><td>i32</td><td>i8</td><td>i8</td><td>i8</td><td>i8</td><td>i8</td><td>i8</td><td>i8</td><td>i8</td><td>i32</td><td>i32</td><td>f64</td><td>f64</td><td>f64</td><td>f64</td><td>f64</td><td>f64</td><td>u32</td><td>str</td><td>str</td><td>i32</td><td>i32</td><td>u32</td><td>str</td><td>i8</td><td>i8</td><td>i8</td><td>i8</td></tr></thead><tbody><tr><td>0</td><td>0</td><td>0.0</td><td>0.0</td><td>0.0</td><td>0.0</td><td>0.0</td><td>0.0</td><td>1.0</td><td>1</td><td>2087645</td><td>&quot;98ce0dabf6964640b63079fbafd42c…</td><td>1</td><td>0.0</td><td>0.04</td><td>1.0</td><td>25</td><td>3.258097</td><td>0</td><td>1</td><td>&quot;TLK&quot;</td><td>0</td><td>0</td><td>0</td><td>1</td><td>1</td><td>2</td><td>160</td><td>155</td><td>29</td><td>160</td><td>155</td><td>315</td><td>15</td><td>6</td><td>16</td><td>6</td><td>9</td><td>14</td><td>2</td><td>2</td><td>0</td><td>0</td><td>1.0</td><td>1.0</td><td>9.0</td><td>18.0</td><td>1.0</td><td>0.0</td><td>1</td><td>&quot;KV&quot;</td><td>&quot;KV&quot;</td><td>0</td><td>0</td><td>1</td><td>&quot;YK2&quot;</td><td>1</td><td>1</td><td>0</td><td>1</td></tr><tr><td>1</td><td>123</td><td>2300.0</td><td>0.0</td><td>1.0</td><td>3500.0</td><td>0.0</td><td>1.0</td><td>1.0</td><td>1</td><td>2087645</td><td>&quot;98ce0dabf6964640b63079fbafd42c…</td><td>0</td><td>4.166667</td><td>0.08</td><td>3.028015</td><td>25</td><td>3.258097</td><td>1</td><td>1</td><td>&quot;TLK&quot;</td><td>0</td><td>0</td><td>0</td><td>2</td><td>2</td><td>4</td><td>250</td><td>245</td><td>29</td><td>445</td><td>505</td><td>950</td><td>9</td><td>6</td><td>14</td><td>6</td><td>22</td><td>8</td><td>2</td><td>3</td><td>1</td><td>1</td><td>1.0</td><td>1.0</td><td>4.0</td><td>26.0</td><td>1.0</td><td>0.0</td><td>1</td><td>&quot;S7&quot;</td><td>&quot;S7&quot;</td><td>1</td><td>1</td><td>1</td><td>&quot;E70&quot;</td><td>1</td><td>1</td><td>0</td><td>1</td></tr><tr><td>2</td><td>0</td><td>2300.0</td><td>0.0</td><td>1.0</td><td>3500.0</td><td>0.0</td><td>1.0</td><td>1.0</td><td>1</td><td>2087645</td><td>&quot;98ce0dabf6964640b63079fbafd42c…</td><td>0</td><td>29.166667</td><td>0.32</td><td>3.18023</td><td>25</td><td>3.258097</td><td>0</td><td>1</td><td>&quot;TLK&quot;</td><td>0</td><td>0</td><td>0</td><td>2</td><td>2</td><td>4</td><td>250</td><td>245</td><td>29</td><td>445</td><td>505</td><td>950</td><td>9</td><td>6</td><td>14</td><td>6</td><td>22</td><td>8</td><td>2</td><td>3</td><td>1</td><td>1</td><td>1.0</td><td>1.0</td><td>4.0</td><td>26.0</td><td>1.0</td><td>0.0</td><td>1</td><td>&quot;S7&quot;</td><td>&quot;S7&quot;</td><td>1</td><td>1</td><td>1</td><td>&quot;E70&quot;</td><td>1</td><td>1</td><td>0</td><td>1</td></tr><tr><td>3</td><td>123</td><td>0.0</td><td>0.0</td><td>1.0</td><td>0.0</td><td>0.0</td><td>1.0</td><td>1.0</td><td>1</td><td>2087645</td><td>&quot;98ce0dabf6964640b63079fbafd42c…</td><td>0</td><td>54.166667</td><td>0.56</td><td>4.849562</td><td>25</td><td>3.258097</td><td>1</td><td>1</td><td>&quot;TLK&quot;</td><td>0</td><td>0</td><td>0</td><td>2</td><td>2</td><td>4</td><td>250</td><td>245</td><td>29</td><td>445</td><td>505</td><td>950</td><td>9</td><td>6</td><td>14</td><td>6</td><td>22</td><td>8</td><td>2</td><td>3</td><td>0</td><td>0</td><td>1.0</td><td>1.0</td><td>4.0</td><td>26.0</td><td>1.0</td><td>0.0</td><td>1</td><td>&quot;S7&quot;</td><td>&quot;S7&quot;</td><td>1</td><td>1</td><td>1</td><td>&quot;E70&quot;</td><td>1</td><td>1</td><td>0</td><td>1</td></tr><tr><td>4</td><td>0</td><td>0.0</td><td>0.0</td><td>1.0</td><td>0.0</td><td>0.0</td><td>1.0</td><td>1.0</td><td>1</td><td>2087645</td><td>&quot;98ce0dabf6964640b63079fbafd42c…</td><td>0</td><td>79.166667</td><td>0.8</td><td>5.097726</td><td>25</td><td>3.258097</td><td>0</td><td>1</td><td>&quot;TLK&quot;</td><td>0</td><td>0</td><td>0</td><td>2</td><td>2</td><td>4</td><td>250</td><td>245</td><td>29</td><td>445</td><td>505</td><td>950</td><td>9</td><td>6</td><td>14</td><td>6</td><td>22</td><td>8</td><td>2</td><td>3</td><td>0</td><td>0</td><td>1.0</td><td>1.0</td><td>4.0</td><td>26.0</td><td>1.0</td><td>0.0</td><td>1</td><td>&quot;S7&quot;</td><td>&quot;S7&quot;</td><td>1</td><td>1</td><td>1</td><td>&quot;E70&quot;</td><td>1</td><td>1</td><td>0</td><td>1</td></tr><tr><td>&hellip;</td><td>&hellip;</td><td>&hellip;</td><td>&hellip;</td><td>&hellip;</td><td>&hellip;</td><td>&hellip;</td><td>&hellip;</td><td>&hellip;</td><td>&hellip;</td><td>&hellip;</td><td>&hellip;</td><td>&hellip;</td><td>&hellip;</td><td>&hellip;</td><td>&hellip;</td><td>&hellip;</td><td>&hellip;</td><td>&hellip;</td><td>&hellip;</td><td>&hellip;</td><td>&hellip;</td><td>&hellip;</td><td>&hellip;</td><td>&hellip;</td><td>&hellip;</td><td>&hellip;</td><td>&hellip;</td><td>&hellip;</td><td>&hellip;</td><td>&hellip;</td><td>&hellip;</td><td>&hellip;</td><td>&hellip;</td><td>&hellip;</td><td>&hellip;</td><td>&hellip;</td><td>&hellip;</td><td>&hellip;</td><td>&hellip;</td><td>&hellip;</td><td>&hellip;</td><td>&hellip;</td><td>&hellip;</td><td>&hellip;</td><td>&hellip;</td><td>&hellip;</td><td>&hellip;</td><td>&hellip;</td><td>&hellip;</td><td>&hellip;</td><td>&hellip;</td><td>&hellip;</td><td>&hellip;</td><td>&hellip;</td><td>&hellip;</td><td>&hellip;</td><td>&hellip;</td><td>&hellip;</td><td>&hellip;</td></tr><tr><td>159</td><td>0</td><td>4000.0</td><td>0.0</td><td>1.0</td><td>0.0</td><td>0.0</td><td>0.0</td><td>1.0</td><td>1</td><td>2503394</td><td>&quot;e109b50aca4a43908dd146c55733e3…</td><td>0</td><td>46.875</td><td>0.484848</td><td>4.570697</td><td>6663</td><td>8.804475</td><td>0</td><td>0</td><td>&quot;KJA&quot;</td><td>0</td><td>0</td><td>0</td><td>2</td><td>0</td><td>2</td><td>225</td><td>0</td><td>6</td><td>395</td><td>0</td><td>395</td><td>19</td><td>4</td><td>3</td><td>5</td><td>0</td><td>0</td><td>0</td><td>0</td><td>1</td><td>0</td><td>1.0</td><td>1.0</td><td>9.0</td><td>18.0</td><td>0.0</td><td>0.0</td><td>1</td><td>&quot;S7&quot;</td><td>&quot;S7&quot;</td><td>0</td><td>0</td><td>1</td><td>&quot;E70&quot;</td><td>1</td><td>0</td><td>1</td><td>1</td></tr><tr><td>160</td><td>131</td><td>2300.0</td><td>0.0</td><td>1.0</td><td>3500.0</td><td>0.0</td><td>1.0</td><td>1.0</td><td>1</td><td>2503394</td><td>&quot;e109b50aca4a43908dd146c55733e3…</td><td>0</td><td>56.25</td><td>0.575758</td><td>5.286202</td><td>6663</td><td>8.804475</td><td>1</td><td>0</td><td>&quot;KJA&quot;</td><td>0</td><td>0</td><td>0</td><td>2</td><td>0</td><td>2</td><td>225</td><td>0</td><td>6</td><td>395</td><td>0</td><td>395</td><td>19</td><td>4</td><td>3</td><td>5</td><td>0</td><td>0</td><td>0</td><td>0</td><td>1</td><td>1</td><td>1.0</td><td>1.0</td><td>9.0</td><td>18.0</td><td>1.0</td><td>0.0</td><td>1</td><td>&quot;S7&quot;</td><td>&quot;S7&quot;</td><td>0</td><td>0</td><td>1</td><td>&quot;E70&quot;</td><td>1</td><td>0</td><td>1</td><td>1</td></tr><tr><td>161</td><td>0</td><td>2300.0</td><td>0.0</td><td>1.0</td><td>3500.0</td><td>0.0</td><td>1.0</td><td>1.0</td><td>1</td><td>2503394</td><td>&quot;e109b50aca4a43908dd146c55733e3…</td><td>0</td><td>65.625</td><td>0.666667</td><td>5.606259</td><td>6663</td><td>8.804475</td><td>0</td><td>0</td><td>&quot;KJA&quot;</td><td>0</td><td>0</td><td>0</td><td>2</td><td>0</td><td>2</td><td>225</td><td>0</td><td>6</td><td>395</td><td>0</td><td>395</td><td>19</td><td>4</td><td>3</td><td>5</td><td>0</td><td>0</td><td>0</td><td>0</td><td>1</td><td>1</td><td>1.0</td><td>1.0</td><td>9.0</td><td>18.0</td><td>1.0</td><td>0.0</td><td>1</td><td>&quot;S7&quot;</td><td>&quot;S7&quot;</td><td>0</td><td>0</td><td>1</td><td>&quot;E70&quot;</td><td>1</td><td>0</td><td>1</td><td>1</td></tr><tr><td>162</td><td>131</td><td>0.0</td><td>0.0</td><td>1.0</td><td>0.0</td><td>0.0</td><td>1.0</td><td>1.0</td><td>1</td><td>2503394</td><td>&quot;e109b50aca4a43908dd146c55733e3…</td><td>0</td><td>87.5</td><td>0.878788</td><td>9.115505</td><td>6663</td><td>8.804475</td><td>1</td><td>0</td><td>&quot;KJA&quot;</td><td>0</td><td>0</td><td>0</td><td>2</td><td>0</td><td>2</td><td>225</td><td>0</td><td>6</td><td>395</td><td>0</td><td>395</td><td>19</td><td>4</td><td>3</td><td>5</td><td>0</td><td>0</td><td>0</td><td>0</td><td>0</td><td>0</td><td>1.0</td><td>1.0</td><td>9.0</td><td>18.0</td><td>1.0</td><td>0.0</td><td>1</td><td>&quot;S7&quot;</td><td>&quot;S7&quot;</td><td>0</td><td>0</td><td>1</td><td>&quot;E70&quot;</td><td>1</td><td>0</td><td>1</td><td>1</td></tr><tr><td>163</td><td>0</td><td>0.0</td><td>0.0</td><td>1.0</td><td>0.0</td><td>0.0</td><td>1.0</td><td>1.0</td><td>1</td><td>2503394</td><td>&quot;e109b50aca4a43908dd146c55733e3…</td><td>0</td><td>93.75</td><td>0.939394</td><td>9.680228</td><td>6663</td><td>8.804475</td><td>0</td><td>0</td><td>&quot;KJA&quot;</td><td>0</td><td>0</td><td>0</td><td>2</td><td>0</td><td>2</td><td>225</td><td>0</td><td>6</td><td>395</td><td>0</td><td>395</td><td>19</td><td>4</td><td>3</td><td>5</td><td>0</td><td>0</td><td>0</td><td>0</td><td>0</td><td>0</td><td>1.0</td><td>1.0</td><td>9.0</td><td>18.0</td><td>1.0</td><td>0.0</td><td>1</td><td>&quot;S7&quot;</td><td>&quot;S7&quot;</td><td>0</td><td>0</td><td>1</td><td>&quot;E70&quot;</td><td>1</td><td>0</td><td>1</td><td>1</td></tr></tbody></table></div>"
      ]
     },
     "execution_count": 37,
     "metadata": {},
     "output_type": "execute_result"
    }
   ],
   "execution_count": 37
  },
  {
   "metadata": {
    "ExecuteTime": {
     "end_time": "2025-09-24T03:32:18.600704Z",
     "start_time": "2025-09-24T03:32:12.933072Z"
    }
   },
   "cell_type": "code",
   "source": [
    "# Save flight features for train data so that we can reuse it in iterative steps without having to regenerate the features.\n",
    "train_df.write_parquet('data/train_flight_features.parquet')"
   ],
   "id": "fcebc43c5c5ccd0a",
   "outputs": [],
   "execution_count": 38
  },
  {
   "metadata": {
    "ExecuteTime": {
     "end_time": "2025-09-24T03:43:24.618664Z",
     "start_time": "2025-09-24T03:43:24.505879Z"
    }
   },
   "cell_type": "code",
   "source": [
    "# Load training data with flight features if not loaded (supports iterative runs through the process steps)\n",
    "try:\n",
    "    train_df['is_roundtrip'][0]\n",
    "except NameError:\n",
    "    train_df = pl.read_parquet('data/train_flight_features.parquet')\n",
    "    print(f'loaded flight features from parquet file: {train_df.shape}')\n",
    "except pl.exceptions.ColumnNotFoundError:\n",
    "    # we have a train_df, but it does not have the engineered flight features\n",
    "    train_df = pl.read_parquet('data/train_flight_features.parquet')\n",
    "    print(f'incorrect train_df dataframe, loaded flight features from parquet file: {train_df.shape}')"
   ],
   "id": "be2deeaa49b75f8e",
   "outputs": [],
   "execution_count": 10
  },
  {
   "metadata": {},
   "cell_type": "markdown",
   "source": [
    "#### Prepare Training Data\n",
    "\n",
    "In this section we will:\n",
    "* Combine Customer features with Flight features\n",
    "* Generate interactive Customer/Flight features\n",
    "* Generate groups to support efficient training of LightGBM model for such a large data set\n",
    "    * grouping ensures that search sessions are not split across different groups for ranking.\n",
    "\n",
    "The additional interactive Customer/Flight features that will be generated are:\n",
    "* daytime_alignment, weekend_alignment, departure_weekday_match, return_departure_weekday_match, redeye_alignment,\n",
    "* price_preference_match, carrier_loyalty_match, carrier_ff_match"
   ],
   "id": "7bc9161638d370b0"
  },
  {
   "metadata": {
    "ExecuteTime": {
     "end_time": "2025-09-24T03:43:34.229498Z",
     "start_time": "2025-09-24T03:43:31.970681Z"
    }
   },
   "cell_type": "code",
   "source": [
    "# Prepare training data by combining customer features with flight features\n",
    "train_df = prepare_combined_data(train_df, pl.scan_parquet('data/train_customer_features.parquet'))  # loading cust_features lazy"
   ],
   "id": "aee684e73dda26a8",
   "outputs": [],
   "execution_count": 11
  },
  {
   "metadata": {
    "ExecuteTime": {
     "end_time": "2025-09-24T03:43:57.036847Z",
     "start_time": "2025-09-24T03:43:56.924520Z"
    }
   },
   "cell_type": "code",
   "source": [
    "print(f'shape of train_df: {train_df.shape}')\n",
    "train_df.head(100)"
   ],
   "id": "9a34f4cc686317b",
   "outputs": [
    {
     "name": "stdout",
     "output_type": "stream",
     "text": [
      "shape of train_df: (12474873, 130)\n"
     ]
    },
    {
     "data": {
      "text/plain": [
       "shape: (100, 130)\n",
       "┌─────┬────────────┬────────────┬────────────┬───┬────────────┬────────────┬───────────┬───────────┐\n",
       "│ Id  ┆ corporateT ┆ miniRules0 ┆ miniRules0 ┆ … ┆ redeye_ali ┆ price_pref ┆ carrier_l ┆ carrier_f │\n",
       "│ --- ┆ ariffCode  ┆ _monetaryA ┆ _percentag ┆   ┆ gnment     ┆ erence_mat ┆ oyalty_ma ┆ f_match   │\n",
       "│ i64 ┆ ---        ┆ mount      ┆ e          ┆   ┆ ---        ┆ ch         ┆ tch       ┆ ---       │\n",
       "│     ┆ i64        ┆ ---        ┆ ---        ┆   ┆ f64        ┆ ---        ┆ ---       ┆ i8        │\n",
       "│     ┆            ┆ f64        ┆ f64        ┆   ┆            ┆ f64        ┆ i8        ┆           │\n",
       "╞═════╪════════════╪════════════╪════════════╪═══╪════════════╪════════════╪═══════════╪═══════════╡\n",
       "│ 0   ┆ 0          ┆ 0.0        ┆ 0.0        ┆ … ┆ 0.0        ┆ 0.156863   ┆ 0         ┆ 0         │\n",
       "│ 1   ┆ 123        ┆ 2300.0     ┆ 0.0        ┆ … ┆ 0.0        ┆ 0.313725   ┆ 0         ┆ 1         │\n",
       "│ 2   ┆ 0          ┆ 2300.0     ┆ 0.0        ┆ … ┆ 0.0        ┆ 1.254902   ┆ 0         ┆ 1         │\n",
       "│ 3   ┆ 123        ┆ 0.0        ┆ 0.0        ┆ … ┆ 0.0        ┆ 2.196078   ┆ 0         ┆ 1         │\n",
       "│ 4   ┆ 0          ┆ 0.0        ┆ 0.0        ┆ … ┆ 0.0        ┆ 3.137255   ┆ 0         ┆ 1         │\n",
       "│ …   ┆ …          ┆ …          ┆ …          ┆ … ┆ …          ┆ …          ┆ …         ┆ …         │\n",
       "│ 159 ┆ 0          ┆ 4000.0     ┆ 0.0        ┆ … ┆ 0.0        ┆ 14.545455  ┆ 0         ┆ 0         │\n",
       "│ 160 ┆ 131        ┆ 2300.0     ┆ 0.0        ┆ … ┆ 0.0        ┆ 17.272727  ┆ 0         ┆ 0         │\n",
       "│ 161 ┆ 0          ┆ 2300.0     ┆ 0.0        ┆ … ┆ 0.0        ┆ 20.0       ┆ 0         ┆ 0         │\n",
       "│ 162 ┆ 131        ┆ 0.0        ┆ 0.0        ┆ … ┆ 0.0        ┆ 26.363636  ┆ 0         ┆ 0         │\n",
       "│ 163 ┆ 0          ┆ 0.0        ┆ 0.0        ┆ … ┆ 0.0        ┆ 28.181818  ┆ 0         ┆ 0         │\n",
       "└─────┴────────────┴────────────┴────────────┴───┴────────────┴────────────┴───────────┴───────────┘"
      ],
      "text/html": [
       "<div><style>\n",
       ".dataframe > thead > tr,\n",
       ".dataframe > tbody > tr {\n",
       "  text-align: right;\n",
       "  white-space: pre-wrap;\n",
       "}\n",
       "</style>\n",
       "<small>shape: (100, 130)</small><table border=\"1\" class=\"dataframe\"><thead><tr><th>Id</th><th>corporateTariffCode</th><th>miniRules0_monetaryAmount</th><th>miniRules0_percentage</th><th>miniRules0_statusInfos</th><th>miniRules1_monetaryAmount</th><th>miniRules1_percentage</th><th>miniRules1_statusInfos</th><th>pricingInfo_isAccessTP</th><th>pricingInfo_passengerCount</th><th>ranker_id</th><th>selected</th><th>price_percentile</th><th>price_rank_pct</th><th>price_ratio_to_min</th><th>route_popularity</th><th>route_popularity_log</th><th>is_access3D</th><th>is_roundtrip</th><th>route_origin</th><th>origin_is_major_hub</th><th>destination_is_major_hub</th><th>includes_major_hub</th><th>leg0_num_segments</th><th>leg1_num_segments</th><th>total_segments</th><th>leg0_flight_time_min</th><th>leg1_flight_time_min</th><th>booking_lead_days</th><th>leg0_duration_minutes</th><th>leg1_duration_minutes</th><th>trip_duration_minutes</th><th>leg0_departure_hour</th><th>leg0_departure_weekday</th><th>leg0_arrival_hour</th><th>leg0_arrival_weekday</th><th>leg1_departure_hour</th><th>&hellip;</th><th>preferred_duration_quartile</th><th>price_to_duration_sensitivity</th><th>avg_price_per_minute</th><th>price_per_minute_variance</th><th>price_position_preference</th><th>premium_economy_preference</th><th>consistent_price_tier</th><th>preferred_price_tier</th><th>baggage_qty_preference</th><th>baggage_weight_preference</th><th>loyalty_program_utilization</th><th>convenience_priority_score</th><th>loyalty_vs_price_index</th><th>planning_consistency_score</th><th>luxury_index</th><th>search_intensity_per_route</th><th>lead_time_variance</th><th>lead_time_skew</th><th>carrier_diversity</th><th>airport_diversity</th><th>cabin_class_range</th><th>customer_tier</th><th>vip_search_intensity</th><th>vip_carrier_diversity</th><th>vip_cabin_preference</th><th>corp_search_volume</th><th>corp_roundtrip_pref</th><th>corp_planning_variance</th><th>customer_segment</th><th>daytime_alignment</th><th>weekend_alignment</th><th>departure_weekday_match</th><th>return_departure_weekday_match</th><th>redeye_alignment</th><th>price_preference_match</th><th>carrier_loyalty_match</th><th>carrier_ff_match</th></tr><tr><td>i64</td><td>i64</td><td>f64</td><td>f64</td><td>f64</td><td>f64</td><td>f64</td><td>f64</td><td>f64</td><td>i64</td><td>str</td><td>i64</td><td>f64</td><td>f64</td><td>f64</td><td>u32</td><td>f64</td><td>i32</td><td>i8</td><td>str</td><td>i32</td><td>i32</td><td>i32</td><td>u32</td><td>u32</td><td>u32</td><td>i32</td><td>i32</td><td>i32</td><td>i32</td><td>i32</td><td>i32</td><td>i8</td><td>i8</td><td>i8</td><td>i8</td><td>i8</td><td>&hellip;</td><td>i32</td><td>f64</td><td>f64</td><td>f64</td><td>f64</td><td>f64</td><td>f64</td><td>i32</td><td>f64</td><td>f64</td><td>f64</td><td>f64</td><td>f64</td><td>f64</td><td>f64</td><td>f64</td><td>i32</td><td>f64</td><td>f64</td><td>f64</td><td>f64</td><td>i8</td><td>f64</td><td>f64</td><td>f64</td><td>i64</td><td>f64</td><td>i32</td><td>i64</td><td>f64</td><td>f64</td><td>i8</td><td>i8</td><td>f64</td><td>f64</td><td>i8</td><td>i8</td></tr></thead><tbody><tr><td>0</td><td>0</td><td>0.0</td><td>0.0</td><td>0.0</td><td>0.0</td><td>0.0</td><td>0.0</td><td>1.0</td><td>1</td><td>&quot;98ce0dabf6964640b63079fbafd42c…</td><td>1</td><td>0.0</td><td>0.04</td><td>1.0</td><td>25</td><td>3.258097</td><td>0</td><td>1</td><td>&quot;TLK&quot;</td><td>0</td><td>0</td><td>0</td><td>1</td><td>1</td><td>2</td><td>160</td><td>155</td><td>29</td><td>160</td><td>155</td><td>315</td><td>15</td><td>6</td><td>16</td><td>6</td><td>9</td><td>&hellip;</td><td>1</td><td>0.868215</td><td>58.347192</td><td>14.217692</td><td>3.921569</td><td>0.0</td><td>1.0</td><td>1</td><td>0.75</td><td>0.0</td><td>0.5</td><td>-34.903214</td><td>4.607843</td><td>0.055556</td><td>21.960784</td><td>23.5</td><td>17</td><td>1.054054</td><td>0.042553</td><td>0.031915</td><td>0.0</td><td>1</td><td>0.0</td><td>0.0</td><td>0.0</td><td>94</td><td>0.25</td><td>17</td><td>0</td><td>1.0</td><td>0.5</td><td>0</td><td>1</td><td>0.0</td><td>0.156863</td><td>0</td><td>0</td></tr><tr><td>1</td><td>123</td><td>2300.0</td><td>0.0</td><td>1.0</td><td>3500.0</td><td>0.0</td><td>1.0</td><td>1.0</td><td>1</td><td>&quot;98ce0dabf6964640b63079fbafd42c…</td><td>0</td><td>4.166667</td><td>0.08</td><td>3.028015</td><td>25</td><td>3.258097</td><td>1</td><td>1</td><td>&quot;TLK&quot;</td><td>0</td><td>0</td><td>0</td><td>2</td><td>2</td><td>4</td><td>250</td><td>245</td><td>29</td><td>445</td><td>505</td><td>950</td><td>9</td><td>6</td><td>14</td><td>6</td><td>22</td><td>&hellip;</td><td>1</td><td>0.868215</td><td>58.347192</td><td>14.217692</td><td>3.921569</td><td>0.0</td><td>1.0</td><td>1</td><td>0.75</td><td>0.0</td><td>0.5</td><td>-34.903214</td><td>4.607843</td><td>0.055556</td><td>21.960784</td><td>23.5</td><td>17</td><td>1.054054</td><td>0.042553</td><td>0.031915</td><td>0.0</td><td>1</td><td>0.0</td><td>0.0</td><td>0.0</td><td>94</td><td>0.25</td><td>17</td><td>0</td><td>1.0</td><td>0.5</td><td>0</td><td>1</td><td>0.0</td><td>0.313725</td><td>0</td><td>1</td></tr><tr><td>2</td><td>0</td><td>2300.0</td><td>0.0</td><td>1.0</td><td>3500.0</td><td>0.0</td><td>1.0</td><td>1.0</td><td>1</td><td>&quot;98ce0dabf6964640b63079fbafd42c…</td><td>0</td><td>29.166667</td><td>0.32</td><td>3.18023</td><td>25</td><td>3.258097</td><td>0</td><td>1</td><td>&quot;TLK&quot;</td><td>0</td><td>0</td><td>0</td><td>2</td><td>2</td><td>4</td><td>250</td><td>245</td><td>29</td><td>445</td><td>505</td><td>950</td><td>9</td><td>6</td><td>14</td><td>6</td><td>22</td><td>&hellip;</td><td>1</td><td>0.868215</td><td>58.347192</td><td>14.217692</td><td>3.921569</td><td>0.0</td><td>1.0</td><td>1</td><td>0.75</td><td>0.0</td><td>0.5</td><td>-34.903214</td><td>4.607843</td><td>0.055556</td><td>21.960784</td><td>23.5</td><td>17</td><td>1.054054</td><td>0.042553</td><td>0.031915</td><td>0.0</td><td>1</td><td>0.0</td><td>0.0</td><td>0.0</td><td>94</td><td>0.25</td><td>17</td><td>0</td><td>1.0</td><td>0.5</td><td>0</td><td>1</td><td>0.0</td><td>1.254902</td><td>0</td><td>1</td></tr><tr><td>3</td><td>123</td><td>0.0</td><td>0.0</td><td>1.0</td><td>0.0</td><td>0.0</td><td>1.0</td><td>1.0</td><td>1</td><td>&quot;98ce0dabf6964640b63079fbafd42c…</td><td>0</td><td>54.166667</td><td>0.56</td><td>4.849562</td><td>25</td><td>3.258097</td><td>1</td><td>1</td><td>&quot;TLK&quot;</td><td>0</td><td>0</td><td>0</td><td>2</td><td>2</td><td>4</td><td>250</td><td>245</td><td>29</td><td>445</td><td>505</td><td>950</td><td>9</td><td>6</td><td>14</td><td>6</td><td>22</td><td>&hellip;</td><td>1</td><td>0.868215</td><td>58.347192</td><td>14.217692</td><td>3.921569</td><td>0.0</td><td>1.0</td><td>1</td><td>0.75</td><td>0.0</td><td>0.5</td><td>-34.903214</td><td>4.607843</td><td>0.055556</td><td>21.960784</td><td>23.5</td><td>17</td><td>1.054054</td><td>0.042553</td><td>0.031915</td><td>0.0</td><td>1</td><td>0.0</td><td>0.0</td><td>0.0</td><td>94</td><td>0.25</td><td>17</td><td>0</td><td>1.0</td><td>0.5</td><td>0</td><td>1</td><td>0.0</td><td>2.196078</td><td>0</td><td>1</td></tr><tr><td>4</td><td>0</td><td>0.0</td><td>0.0</td><td>1.0</td><td>0.0</td><td>0.0</td><td>1.0</td><td>1.0</td><td>1</td><td>&quot;98ce0dabf6964640b63079fbafd42c…</td><td>0</td><td>79.166667</td><td>0.8</td><td>5.097726</td><td>25</td><td>3.258097</td><td>0</td><td>1</td><td>&quot;TLK&quot;</td><td>0</td><td>0</td><td>0</td><td>2</td><td>2</td><td>4</td><td>250</td><td>245</td><td>29</td><td>445</td><td>505</td><td>950</td><td>9</td><td>6</td><td>14</td><td>6</td><td>22</td><td>&hellip;</td><td>1</td><td>0.868215</td><td>58.347192</td><td>14.217692</td><td>3.921569</td><td>0.0</td><td>1.0</td><td>1</td><td>0.75</td><td>0.0</td><td>0.5</td><td>-34.903214</td><td>4.607843</td><td>0.055556</td><td>21.960784</td><td>23.5</td><td>17</td><td>1.054054</td><td>0.042553</td><td>0.031915</td><td>0.0</td><td>1</td><td>0.0</td><td>0.0</td><td>0.0</td><td>94</td><td>0.25</td><td>17</td><td>0</td><td>1.0</td><td>0.5</td><td>0</td><td>1</td><td>0.0</td><td>3.137255</td><td>0</td><td>1</td></tr><tr><td>&hellip;</td><td>&hellip;</td><td>&hellip;</td><td>&hellip;</td><td>&hellip;</td><td>&hellip;</td><td>&hellip;</td><td>&hellip;</td><td>&hellip;</td><td>&hellip;</td><td>&hellip;</td><td>&hellip;</td><td>&hellip;</td><td>&hellip;</td><td>&hellip;</td><td>&hellip;</td><td>&hellip;</td><td>&hellip;</td><td>&hellip;</td><td>&hellip;</td><td>&hellip;</td><td>&hellip;</td><td>&hellip;</td><td>&hellip;</td><td>&hellip;</td><td>&hellip;</td><td>&hellip;</td><td>&hellip;</td><td>&hellip;</td><td>&hellip;</td><td>&hellip;</td><td>&hellip;</td><td>&hellip;</td><td>&hellip;</td><td>&hellip;</td><td>&hellip;</td><td>&hellip;</td><td>&hellip;</td><td>&hellip;</td><td>&hellip;</td><td>&hellip;</td><td>&hellip;</td><td>&hellip;</td><td>&hellip;</td><td>&hellip;</td><td>&hellip;</td><td>&hellip;</td><td>&hellip;</td><td>&hellip;</td><td>&hellip;</td><td>&hellip;</td><td>&hellip;</td><td>&hellip;</td><td>&hellip;</td><td>&hellip;</td><td>&hellip;</td><td>&hellip;</td><td>&hellip;</td><td>&hellip;</td><td>&hellip;</td><td>&hellip;</td><td>&hellip;</td><td>&hellip;</td><td>&hellip;</td><td>&hellip;</td><td>&hellip;</td><td>&hellip;</td><td>&hellip;</td><td>&hellip;</td><td>&hellip;</td><td>&hellip;</td><td>&hellip;</td><td>&hellip;</td><td>&hellip;</td><td>&hellip;</td></tr><tr><td>159</td><td>0</td><td>4000.0</td><td>0.0</td><td>1.0</td><td>0.0</td><td>0.0</td><td>0.0</td><td>1.0</td><td>1</td><td>&quot;e109b50aca4a43908dd146c55733e3…</td><td>0</td><td>46.875</td><td>0.484848</td><td>4.570697</td><td>6663</td><td>8.804475</td><td>0</td><td>0</td><td>&quot;KJA&quot;</td><td>0</td><td>0</td><td>0</td><td>2</td><td>0</td><td>2</td><td>225</td><td>0</td><td>6</td><td>395</td><td>0</td><td>395</td><td>19</td><td>4</td><td>3</td><td>5</td><td>0</td><td>&hellip;</td><td>1</td><td>0.990021</td><td>65.686963</td><td>29.362849</td><td>30.0</td><td>0.2</td><td>0.494475</td><td>1</td><td>1.0</td><td>20.0</td><td>0.0</td><td>-10.149694</td><td>-3.0</td><td>0.142857</td><td>39.0</td><td>16.0</td><td>6</td><td>0.766667</td><td>0.046875</td><td>0.046875</td><td>1.0</td><td>1</td><td>0.0</td><td>0.0</td><td>0.0</td><td>64</td><td>0.0</td><td>6</td><td>0</td><td>1.0</td><td>0.0</td><td>0</td><td>0</td><td>0.0</td><td>14.545455</td><td>0</td><td>0</td></tr><tr><td>160</td><td>131</td><td>2300.0</td><td>0.0</td><td>1.0</td><td>3500.0</td><td>0.0</td><td>1.0</td><td>1.0</td><td>1</td><td>&quot;e109b50aca4a43908dd146c55733e3…</td><td>0</td><td>56.25</td><td>0.575758</td><td>5.286202</td><td>6663</td><td>8.804475</td><td>1</td><td>0</td><td>&quot;KJA&quot;</td><td>0</td><td>0</td><td>0</td><td>2</td><td>0</td><td>2</td><td>225</td><td>0</td><td>6</td><td>395</td><td>0</td><td>395</td><td>19</td><td>4</td><td>3</td><td>5</td><td>0</td><td>&hellip;</td><td>1</td><td>0.990021</td><td>65.686963</td><td>29.362849</td><td>30.0</td><td>0.2</td><td>0.494475</td><td>1</td><td>1.0</td><td>20.0</td><td>0.0</td><td>-10.149694</td><td>-3.0</td><td>0.142857</td><td>39.0</td><td>16.0</td><td>6</td><td>0.766667</td><td>0.046875</td><td>0.046875</td><td>1.0</td><td>1</td><td>0.0</td><td>0.0</td><td>0.0</td><td>64</td><td>0.0</td><td>6</td><td>0</td><td>1.0</td><td>0.0</td><td>0</td><td>0</td><td>0.0</td><td>17.272727</td><td>0</td><td>0</td></tr><tr><td>161</td><td>0</td><td>2300.0</td><td>0.0</td><td>1.0</td><td>3500.0</td><td>0.0</td><td>1.0</td><td>1.0</td><td>1</td><td>&quot;e109b50aca4a43908dd146c55733e3…</td><td>0</td><td>65.625</td><td>0.666667</td><td>5.606259</td><td>6663</td><td>8.804475</td><td>0</td><td>0</td><td>&quot;KJA&quot;</td><td>0</td><td>0</td><td>0</td><td>2</td><td>0</td><td>2</td><td>225</td><td>0</td><td>6</td><td>395</td><td>0</td><td>395</td><td>19</td><td>4</td><td>3</td><td>5</td><td>0</td><td>&hellip;</td><td>1</td><td>0.990021</td><td>65.686963</td><td>29.362849</td><td>30.0</td><td>0.2</td><td>0.494475</td><td>1</td><td>1.0</td><td>20.0</td><td>0.0</td><td>-10.149694</td><td>-3.0</td><td>0.142857</td><td>39.0</td><td>16.0</td><td>6</td><td>0.766667</td><td>0.046875</td><td>0.046875</td><td>1.0</td><td>1</td><td>0.0</td><td>0.0</td><td>0.0</td><td>64</td><td>0.0</td><td>6</td><td>0</td><td>1.0</td><td>0.0</td><td>0</td><td>0</td><td>0.0</td><td>20.0</td><td>0</td><td>0</td></tr><tr><td>162</td><td>131</td><td>0.0</td><td>0.0</td><td>1.0</td><td>0.0</td><td>0.0</td><td>1.0</td><td>1.0</td><td>1</td><td>&quot;e109b50aca4a43908dd146c55733e3…</td><td>0</td><td>87.5</td><td>0.878788</td><td>9.115505</td><td>6663</td><td>8.804475</td><td>1</td><td>0</td><td>&quot;KJA&quot;</td><td>0</td><td>0</td><td>0</td><td>2</td><td>0</td><td>2</td><td>225</td><td>0</td><td>6</td><td>395</td><td>0</td><td>395</td><td>19</td><td>4</td><td>3</td><td>5</td><td>0</td><td>&hellip;</td><td>1</td><td>0.990021</td><td>65.686963</td><td>29.362849</td><td>30.0</td><td>0.2</td><td>0.494475</td><td>1</td><td>1.0</td><td>20.0</td><td>0.0</td><td>-10.149694</td><td>-3.0</td><td>0.142857</td><td>39.0</td><td>16.0</td><td>6</td><td>0.766667</td><td>0.046875</td><td>0.046875</td><td>1.0</td><td>1</td><td>0.0</td><td>0.0</td><td>0.0</td><td>64</td><td>0.0</td><td>6</td><td>0</td><td>1.0</td><td>0.0</td><td>0</td><td>0</td><td>0.0</td><td>26.363636</td><td>0</td><td>0</td></tr><tr><td>163</td><td>0</td><td>0.0</td><td>0.0</td><td>1.0</td><td>0.0</td><td>0.0</td><td>1.0</td><td>1.0</td><td>1</td><td>&quot;e109b50aca4a43908dd146c55733e3…</td><td>0</td><td>93.75</td><td>0.939394</td><td>9.680228</td><td>6663</td><td>8.804475</td><td>0</td><td>0</td><td>&quot;KJA&quot;</td><td>0</td><td>0</td><td>0</td><td>2</td><td>0</td><td>2</td><td>225</td><td>0</td><td>6</td><td>395</td><td>0</td><td>395</td><td>19</td><td>4</td><td>3</td><td>5</td><td>0</td><td>&hellip;</td><td>1</td><td>0.990021</td><td>65.686963</td><td>29.362849</td><td>30.0</td><td>0.2</td><td>0.494475</td><td>1</td><td>1.0</td><td>20.0</td><td>0.0</td><td>-10.149694</td><td>-3.0</td><td>0.142857</td><td>39.0</td><td>16.0</td><td>6</td><td>0.766667</td><td>0.046875</td><td>0.046875</td><td>1.0</td><td>1</td><td>0.0</td><td>0.0</td><td>0.0</td><td>64</td><td>0.0</td><td>6</td><td>0</td><td>1.0</td><td>0.0</td><td>0</td><td>0</td><td>0.0</td><td>28.181818</td><td>0</td><td>0</td></tr></tbody></table></div>"
      ]
     },
     "execution_count": 13,
     "metadata": {},
     "output_type": "execute_result"
    }
   ],
   "execution_count": 13
  },
  {
   "metadata": {
    "ExecuteTime": {
     "end_time": "2025-09-24T03:44:29.562947Z",
     "start_time": "2025-09-24T03:44:21.855942Z"
    }
   },
   "cell_type": "code",
   "source": [
    "# save combined final training data set\n",
    "train_df.write_parquet('data/train_combined_features.parquet')"
   ],
   "id": "54d9f635d9ffc85f",
   "outputs": [],
   "execution_count": 14
  },
  {
   "metadata": {
    "ExecuteTime": {
     "end_time": "2025-09-24T03:44:31.869240Z",
     "start_time": "2025-09-24T03:44:31.640825Z"
    }
   },
   "cell_type": "code",
   "source": "train_df.group_by('customer_segment').len().select(['customer_segment', 'len']).rows()",
   "id": "1cf4523af4507ef",
   "outputs": [
    {
     "data": {
      "text/plain": [
       "[(0, 12454937), (3, 2025), (1, 2228), (2, 15683)]"
      ]
     },
     "execution_count": 15,
     "metadata": {},
     "output_type": "execute_result"
    }
   ],
   "execution_count": 15
  },
  {
   "metadata": {
    "ExecuteTime": {
     "end_time": "2025-09-24T18:22:27.662013Z",
     "start_time": "2025-09-24T18:22:26.978931Z"
    }
   },
   "cell_type": "code",
   "source": [
    "# quick overview of some stats for each customer segment\n",
    "segment_stats = (\n",
    "    train_df\n",
    "    .group_by(['customer_segment', 'ranker_id'])\n",
    "    .agg([\n",
    "        pl.col('total_flights_searched').sum().alias('session_flights_searched'),\n",
    "        pl.len().alias('number_of_search_sessions')\n",
    "    ])\n",
    "    .group_by('customer_segment')\n",
    "    .agg([\n",
    "        pl.len().alias('number_of_search_sessions'),                    # Count of search sessions\n",
    "        pl.col('session_flights_searched').sum().alias('total_segment_flights_searched'),\n",
    "        pl.col('session_flights_searched').min().alias('min_flights_per_search'),\n",
    "        pl.col('session_flights_searched').max().alias('max_flights_per_search'),\n",
    "        pl.col('session_flights_searched').mean().alias('avg_flights_per_search')\n",
    "    ])\n",
    "    .sort('customer_segment')\n",
    ")\n",
    "segment_stats"
   ],
   "id": "ee1881daf0a1786d",
   "outputs": [
    {
     "data": {
      "text/plain": [
       "shape: (4, 6)\n",
       "┌────────────────┬────────────────┬────────────────┬───────────────┬───────────────┬───────────────┐\n",
       "│ customer_segme ┆ number_of_sear ┆ total_segment_ ┆ min_flights_p ┆ max_flights_p ┆ avg_flights_p │\n",
       "│ nt             ┆ ch_sessions    ┆ flights_search ┆ er_search     ┆ er_search     ┆ er_search     │\n",
       "│ ---            ┆ ---            ┆ ed             ┆ ---           ┆ ---           ┆ ---           │\n",
       "│ i64            ┆ u32            ┆ ---            ┆ u32           ┆ u32           ┆ f64           │\n",
       "│                ┆                ┆ u32            ┆               ┆               ┆               │\n",
       "╞════════════════╪════════════════╪════════════════╪═══════════════╪═══════════════╪═══════════════╡\n",
       "│ 0              ┆ 74764          ┆ 2027535203     ┆ 1             ┆ 171819794     ┆ 486695.114908 │\n",
       "│ 1              ┆ 7              ┆ 1669528        ┆ 68970         ┆ 443556        ┆ 238504.0      │\n",
       "│ 2              ┆ 49             ┆ 9540023        ┆ 2241          ┆ 602752        ┆ 194694.346939 │\n",
       "│ 3              ┆ 3              ┆ 2052693        ┆ 477264        ┆ 1096209       ┆ 684231.0      │\n",
       "└────────────────┴────────────────┴────────────────┴───────────────┴───────────────┴───────────────┘"
      ],
      "text/html": [
       "<div><style>\n",
       ".dataframe > thead > tr,\n",
       ".dataframe > tbody > tr {\n",
       "  text-align: right;\n",
       "  white-space: pre-wrap;\n",
       "}\n",
       "</style>\n",
       "<small>shape: (4, 6)</small><table border=\"1\" class=\"dataframe\"><thead><tr><th>customer_segment</th><th>number_of_search_sessions</th><th>total_segment_flights_searched</th><th>min_flights_per_search</th><th>max_flights_per_search</th><th>avg_flights_per_search</th></tr><tr><td>i64</td><td>u32</td><td>u32</td><td>u32</td><td>u32</td><td>f64</td></tr></thead><tbody><tr><td>0</td><td>74764</td><td>2027535203</td><td>1</td><td>171819794</td><td>486695.114908</td></tr><tr><td>1</td><td>7</td><td>1669528</td><td>68970</td><td>443556</td><td>238504.0</td></tr><tr><td>2</td><td>49</td><td>9540023</td><td>2241</td><td>602752</td><td>194694.346939</td></tr><tr><td>3</td><td>3</td><td>2052693</td><td>477264</td><td>1096209</td><td>684231.0</td></tr></tbody></table></div>"
      ]
     },
     "execution_count": 19,
     "metadata": {},
     "output_type": "execute_result"
    }
   ],
   "execution_count": 19
  },
  {
   "metadata": {},
   "cell_type": "code",
   "outputs": [],
   "execution_count": null,
   "source": [
    "# load the final training data set if not already loaded (supports iterative runs through the process steps)\n",
    "try:\n",
    "    train_df.head()\n",
    "except NameError:\n",
    "    train_df = pl.read_parquet('data/train_combined_features.parquet')\n",
    "    print(f'loaded combined features from parquet file: {train_df.shape}')"
   ],
   "id": "3d5c9b060b45a94"
  },
  {
   "metadata": {},
   "cell_type": "markdown",
   "source": [
    "#### Ranker Model Training\n",
    "\n",
    "Here we will train the ranking models on the train final feature set. A model will be trained for each customer segment as well as a model trained on all data."
   ],
   "id": "e366b6cadda63e34"
  },
  {
   "metadata": {},
   "cell_type": "code",
   "outputs": [],
   "execution_count": null,
   "source": [
    "# Train LightGBM models for ranking\n",
    "ranker_models = train_segment_based_ranker(train_df)"
   ],
   "id": "4264a5c77cb28bcc"
  },
  {
   "metadata": {},
   "cell_type": "code",
   "outputs": [],
   "execution_count": null,
   "source": [
    "# Let's save the trained ranker models\n",
    "joblib.dump(ranker_models, 'data/segment_ranker_models.joblib')\n",
    "ranker_models"
   ],
   "id": "403db91171f90619"
  },
  {
   "metadata": {},
   "cell_type": "code",
   "outputs": [],
   "execution_count": null,
   "source": [
    "# Remove the feature dataframe to free up memory\n",
    "del train_df\n",
    "gc.collect()"
   ],
   "id": "5593f559192a6dd1"
  },
  {
   "metadata": {},
   "cell_type": "markdown",
   "source": [
    "### Evaluate Models on Test Data\n",
    "\n",
    "We will now evaluate the results of the customer segmentation, feature engineering, and ranker model training on the Test Data set.\n",
    "\n",
    "The process for performing the evaluation is:\n",
    "1. Load Test data set\n",
    "2. Perform customer feature engineering on the data\n",
    "3. Prepare Test data set for customer segmentation\n",
    "    * load the encoder, scaler, and reducer from the training process\n",
    "    * encode the customer features\n",
    "    * scale the customer features\n",
    "    * reduce the customer features\n",
    "4. Predict the customer segments based on model centriods\n",
    "    * load the clustering results from the training process\n",
    "    * predict the customer segments based on the model centroids\n",
    "    * add segment labels to the Test customer data set\n",
    "5. Perform flight feature engineering on the Test data set\n",
    "6. Prepare the Test data set for ranking\n",
    "    * combine Customer features with Flight features\n",
    "    * generate interactive Customer/Flight features\n",
    "7. Rank the flights for each customer segment\n",
    "8. Rank the flights for the entire data set"
   ],
   "id": "59f16f659a278919"
  },
  {
   "metadata": {},
   "cell_type": "code",
   "outputs": [],
   "execution_count": null,
   "source": [
    "# Get Test data set\n",
    "test_df = pl.read_parquet('data/test_df.parquet')\n",
    "test_df.head()"
   ],
   "id": "c525cb60da7830e9"
  },
  {
   "metadata": {},
   "cell_type": "code",
   "outputs": [],
   "execution_count": null,
   "source": [
    "# Customer Feature Engineering\n",
    "cust_data = extract_customer_features(test_df)\n",
    "print(f'Generated {len(cust_data.columns)} customer features for {len(cust_data)} customers')"
   ],
   "id": "4a49c1d9df653735"
  },
  {
   "metadata": {},
   "cell_type": "code",
   "outputs": [],
   "execution_count": null,
   "source": [
    "# Get the encoders, scaler, and reducer from the joblib file for the Train data clustering process\n",
    "data_encoders_scaler_reducer = joblib.load('data/data_encoders_scaler_reducer.joblib')\n",
    "print('loaded encoders, sclaer, reducer from joblib file')\n",
    "\n",
    "encoders = data_encoders_scaler_reducer['encoders']\n",
    "scaler = data_encoders_scaler_reducer['scaler']\n",
    "reducer = data_encoders_scaler_reducer['reducer']"
   ],
   "id": "514c4ea212730299"
  },
  {
   "metadata": {},
   "cell_type": "code",
   "outputs": [],
   "execution_count": null,
   "source": [
    "# Encode customer features\n",
    "cust_data_encoded, _ = encode_features(cust_data, encoders)"
   ],
   "id": "2e12704ba0728b54"
  },
  {
   "metadata": {},
   "cell_type": "code",
   "outputs": [],
   "execution_count": null,
   "source": [
    "# Scale customer features\n",
    "scaled_features = scaler.transform(cust_data_encoded.to_pandas())"
   ],
   "id": "d6aaa8d358b5eab6"
  },
  {
   "metadata": {},
   "cell_type": "code",
   "outputs": [],
   "execution_count": null,
   "source": [
    "# Dimensionality reduction\n",
    "reduced_features = reducer.transform(scaled_features)"
   ],
   "id": "36fda3e0357fb6de"
  },
  {
   "metadata": {},
   "cell_type": "code",
   "outputs": [],
   "execution_count": null,
   "source": [
    "# Load Agglomeratvie clustering results from Train to get model centroids\n",
    "clustering_results = joblib.load('data/agglomerative_model.joblib')\n",
    "print(f'Loaded Agglomerative Clustering results from joblib file for {clustering_results['n_clusters']} clusters')"
   ],
   "id": "852493363bb923f3"
  },
  {
   "metadata": {},
   "cell_type": "code",
   "outputs": [],
   "execution_count": null,
   "source": [
    "# Generate cluster label predictions for Test data\n",
    "cluster_segments = predict_cluster_with_centroids(reduced_features, clustering_results['centroids'])"
   ],
   "id": "1390501b75d198c9"
  },
  {
   "metadata": {},
   "cell_type": "code",
   "outputs": [],
   "execution_count": null,
   "source": [
    "# Add predicted cluster labels to the customer data\n",
    "cust_data = cust_data.with_columns(pl.Series('customer_segment', cluster_segments[0]))\n",
    "cust_data.head(1000)"
   ],
   "id": "b6ce3befe1adbddb"
  },
  {
   "metadata": {},
   "cell_type": "code",
   "outputs": [],
   "execution_count": null,
   "source": [
    "# Extract Flight Features\n",
    "test_df = extract_flight_features(test_df)"
   ],
   "id": "d55f22d8d4eb550e"
  },
  {
   "metadata": {},
   "cell_type": "code",
   "outputs": [],
   "execution_count": null,
   "source": [
    "# Combine customer and flight features data\n",
    "test_df = prepare_combined_data(test_df, cust_data)\n",
    "test_df.head(100)"
   ],
   "id": "26f0beb2c99d57a5"
  },
  {
   "metadata": {},
   "cell_type": "code",
   "outputs": [],
   "execution_count": null,
   "source": [
    "# Get models if not already loaded\n",
    "try:\n",
    "    ranker_models\n",
    "except NameError:\n",
    "    ranker_models = joblib.load('data/segment_ranker_models.joblib')"
   ],
   "id": "a801e51884b819a6"
  },
  {
   "metadata": {},
   "cell_type": "code",
   "outputs": [],
   "execution_count": null,
   "source": [
    "# Perform the flight ranking\n",
    "results, test_df = test_segment_based_ranker(ranker_models, test_df)"
   ],
   "id": "9f738d011f71659e"
  },
  {
   "metadata": {},
   "cell_type": "code",
   "outputs": [],
   "execution_count": null,
   "source": "test_df.head(100)",
   "id": "c1bb346da3726554"
  },
  {
   "metadata": {},
   "cell_type": "markdown",
   "source": [
    "#### Evaluate Flight Ranking Results\n",
    "\n",
    "Here we will evaluate the segment based flight ranking results using the HitRate@3 metric. For this metric, we are evaluating if the flight actually selected by the customer is in the top 3 of the resulting flight ranking predictions.\n",
    "\n",
    "$HitRate@3 = \\frac{1}{|Q|} \\sum_{i=1}^{|Q|} 1(rank_i \\leq 3)$\n",
    "\n",
    "Where:\n",
    "* $|Q|$ is the number of searches within a search session\n",
    "* $rank_i$ is the rank of the $i^{th}$ search\n",
    "* $1(rank_i \\leq 3)$ is 1 if the correct flight is in the top-3, 0 otherwise\n"
   ],
   "id": "696de4a044a3de69"
  },
  {
   "metadata": {},
   "cell_type": "code",
   "outputs": [],
   "execution_count": null,
   "source": [
    "# Evaluate overall hit rate for segmented prediction\n",
    "from src.ranking_eval import calculate_hit_rate_at_k\n",
    "\n",
    "y_true = test_df['selected'].to_numpy()\n",
    "y_pred = test_df['y_pred'].to_numpy()\n",
    "group_sizes = (\n",
    "        test_df\n",
    "        .group_by('ranker_id', maintain_order=True)\n",
    "        .len()\n",
    "        .select('len')\n",
    "        .to_numpy()\n",
    "        .flatten()\n",
    "    )\n",
    "ranker_ids = test_df['ranker_id'].unique().sort()\n",
    "hitrate, details = calculate_hit_rate_at_k(y_true, y_pred, group_sizes, ranker_ids, k=3)"
   ],
   "id": "3be4a088013c974b"
  },
  {
   "metadata": {},
   "cell_type": "code",
   "outputs": [],
   "execution_count": null,
   "source": "hitrate",
   "id": "43ab8118a784a083"
  },
  {
   "metadata": {},
   "cell_type": "markdown",
   "source": "Let's evaluate the results of running the Test data set against the model trained across all segments.",
   "id": "d2592cc8144d810"
  },
  {
   "metadata": {},
   "cell_type": "code",
   "outputs": [],
   "execution_count": null,
   "source": [
    "# Test if full model is better for predicting on segments with low results scores\n",
    "_ = test_lgb_ranker(ranker_models[99], test_df.filter(pl.col('customer_segment') == 7).drop('y_pred'))"
   ],
   "id": "6a392021d0ba6e04"
  },
  {
   "metadata": {},
   "cell_type": "code",
   "outputs": [],
   "execution_count": null,
   "source": "test_df = test_df.drop('y_pred')",
   "id": "b58d79fc33ec5352"
  },
  {
   "metadata": {},
   "cell_type": "code",
   "outputs": [],
   "execution_count": null,
   "source": [
    "# Except for segment 7, all other segments performed better under the full training model\n",
    "test_results = test_lgb_ranker(ranker_models[99], test_df, k=3, min_size=10)"
   ],
   "id": "25cea20866217b15"
  },
  {
   "metadata": {},
   "cell_type": "code",
   "outputs": [],
   "execution_count": null,
   "source": [
    "# Let's compare segmented prediction vs. general model hit rates, not counting groups smaller than 10 flights\n",
    "for i in range(len(ranker_models) - 1):\n",
    "    print(f'Results for segment {i} using segment model:')\n",
    "    _ = test_lgb_ranker(ranker_models[i], test_df.filter(pl.col('customer_segment') == i), k=3, min_size=10)\n",
    "    print(f'Results for segment {i} using general model:')\n",
    "    _ = test_lgb_ranker(ranker_models[99], test_df.filter(pl.col('customer_segment') == i), k=3, min_size=10)"
   ],
   "id": "3febf2638faaf1dc"
  },
  {
   "metadata": {
    "ExecuteTime": {
     "end_time": "2025-09-19T22:11:32.941877Z",
     "start_time": "2025-09-19T22:11:32.933550Z"
    }
   },
   "cell_type": "markdown",
   "source": [
    "## Acknowledgements\n",
    "\n",
    " - [FlightRank 2025: Aeroclub RecSys Cup](https://www.kaggle.com/competitions/aeroclub-recsys-2025)\n",
    " - [IEEE-CIS Fraud Detection Data Description](https://www.kaggle.com/c/ieee-fraud-detection/discussion/101203)\n",
    " - [Vesta Corporation](https://www.vesta.io/)\n",
    "    -  provided the competition project dataset files\n",
    " - [NT Project Summary: Part 3](https://www.kaggle.com/code/mariajunior/nt-project-summary-part-3/notebook)\n",
    "    -  provided some starting parameters for evaluating LightGBM\n",
    " - [readme.so Editor](https://readme.so/editor)\n",
    "    -  a handy online README.md editor by [Katherine Oelsner](https://www.katherineoelsner.com/)"
   ],
   "id": "2fcba4268e3f6645"
  },
  {
   "metadata": {},
   "cell_type": "code",
   "outputs": [],
   "execution_count": null,
   "source": "",
   "id": "c16570e09630e64"
  }
 ],
 "metadata": {
  "kernelspec": {
   "display_name": "Python 3",
   "language": "python",
   "name": "python3"
  },
  "language_info": {
   "codemirror_mode": {
    "name": "ipython",
    "version": 2
   },
   "file_extension": ".py",
   "mimetype": "text/x-python",
   "name": "python",
   "nbconvert_exporter": "python",
   "pygments_lexer": "ipython2",
   "version": "2.7.6"
  }
 },
 "nbformat": 4,
 "nbformat_minor": 5
}
