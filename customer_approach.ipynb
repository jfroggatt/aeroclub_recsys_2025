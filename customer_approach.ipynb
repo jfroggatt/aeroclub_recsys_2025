{
 "cells": [
  {
   "metadata": {},
   "cell_type": "markdown",
   "source": "### Imports",
   "id": "fee1b6cd2daa8d0f"
  },
  {
   "cell_type": "code",
   "id": "initial_id",
   "metadata": {
    "collapsed": true,
    "ExecuteTime": {
     "end_time": "2025-08-26T23:06:08.896140Z",
     "start_time": "2025-08-26T23:06:08.891349Z"
    }
   },
   "source": [
    "import gc\n",
    "import re\n",
    "from typing import List, Dict, Tuple\n",
    "\n",
    "import numpy as np\n",
    "import polars as pl\n",
    "import polars.selectors as cs"
   ],
   "outputs": [],
   "execution_count": 2
  },
  {
   "metadata": {},
   "cell_type": "markdown",
   "source": "### Training Data",
   "id": "8d3738c2184ad5c8"
  },
  {
   "metadata": {
    "ExecuteTime": {
     "end_time": "2025-08-27T01:35:01.805681Z",
     "start_time": "2025-08-27T01:34:50.843631Z"
    }
   },
   "cell_type": "code",
   "source": [
    "# data = pl.concat([train, pl.read_parquet('/kaggle/input/aeroclub-recsys-2025/test.parquet')])\n",
    "data = pl.read_parquet('/kaggle/input/aeroclub-recsys-2025/train.parquet')"
   ],
   "id": "53fdb480e9d9cf87",
   "outputs": [],
   "execution_count": 87
  },
  {
   "metadata": {
    "ExecuteTime": {
     "end_time": "2025-08-26T23:06:23.073781Z",
     "start_time": "2025-08-26T23:06:23.051153Z"
    }
   },
   "cell_type": "code",
   "source": "data.head(1000)",
   "id": "e0b7a933478bbe02",
   "outputs": [
    {
     "data": {
      "text/plain": [
       "shape: (1_000, 127)\n",
       "┌─────┬────────┬───────────┬─────────────────┬───┬────────┬────────────┬──────────┬────────────────┐\n",
       "│ Id  ┆ bySelf ┆ companyID ┆ corporateTariff ┆ … ┆ taxes  ┆ totalPrice ┆ selected ┆ __index_level_ │\n",
       "│ --- ┆ ---    ┆ ---       ┆ Code            ┆   ┆ ---    ┆ ---        ┆ ---      ┆ 0__            │\n",
       "│ i64 ┆ bool   ┆ i64       ┆ ---             ┆   ┆ f64    ┆ f64        ┆ i64      ┆ ---            │\n",
       "│     ┆        ┆           ┆ i64             ┆   ┆        ┆            ┆          ┆ i64            │\n",
       "╞═════╪════════╪═══════════╪═════════════════╪═══╪════════╪════════════╪══════════╪════════════════╡\n",
       "│ 0   ┆ true   ┆ 57323     ┆ null            ┆ … ┆ 370.0  ┆ 16884.0    ┆ 1        ┆ 0              │\n",
       "│ 1   ┆ true   ┆ 57323     ┆ 123             ┆ … ┆ 2240.0 ┆ 51125.0    ┆ 0        ┆ 1              │\n",
       "│ 2   ┆ true   ┆ 57323     ┆ null            ┆ … ┆ 2240.0 ┆ 53695.0    ┆ 0        ┆ 2              │\n",
       "│ 3   ┆ true   ┆ 57323     ┆ 123             ┆ … ┆ 2240.0 ┆ 81880.0    ┆ 0        ┆ 3              │\n",
       "│ 4   ┆ true   ┆ 57323     ┆ null            ┆ … ┆ 2240.0 ┆ 86070.0    ┆ 0        ┆ 4              │\n",
       "│ …   ┆ …      ┆ …         ┆ …               ┆ … ┆ …      ┆ …          ┆ …        ┆ …              │\n",
       "│ 995 ┆ true   ┆ 42622     ┆ null            ┆ … ┆ 2612.0 ┆ 54837.0    ┆ 0        ┆ 995            │\n",
       "│ 996 ┆ true   ┆ 42622     ┆ 115             ┆ … ┆ 2612.0 ┆ 71662.0    ┆ 0        ┆ 996            │\n",
       "│ 997 ┆ true   ┆ 42622     ┆ null            ┆ … ┆ 2612.0 ┆ 76067.0    ┆ 0        ┆ 997            │\n",
       "│ 998 ┆ true   ┆ 42622     ┆ 115             ┆ … ┆ 2612.0 ┆ 116322.0   ┆ 0        ┆ 998            │\n",
       "│ 999 ┆ true   ┆ 42622     ┆ null            ┆ … ┆ 2612.0 ┆ 123577.0   ┆ 0        ┆ 999            │\n",
       "└─────┴────────┴───────────┴─────────────────┴───┴────────┴────────────┴──────────┴────────────────┘"
      ],
      "text/html": [
       "<div><style>\n",
       ".dataframe > thead > tr,\n",
       ".dataframe > tbody > tr {\n",
       "  text-align: right;\n",
       "  white-space: pre-wrap;\n",
       "}\n",
       "</style>\n",
       "<small>shape: (1_000, 127)</small><table border=\"1\" class=\"dataframe\"><thead><tr><th>Id</th><th>bySelf</th><th>companyID</th><th>corporateTariffCode</th><th>frequentFlyer</th><th>nationality</th><th>isAccess3D</th><th>isVip</th><th>legs0_arrivalAt</th><th>legs0_departureAt</th><th>legs0_duration</th><th>legs0_segments0_aircraft_code</th><th>legs0_segments0_arrivalTo_airport_city_iata</th><th>legs0_segments0_arrivalTo_airport_iata</th><th>legs0_segments0_baggageAllowance_quantity</th><th>legs0_segments0_baggageAllowance_weightMeasurementType</th><th>legs0_segments0_cabinClass</th><th>legs0_segments0_departureFrom_airport_iata</th><th>legs0_segments0_duration</th><th>legs0_segments0_flightNumber</th><th>legs0_segments0_marketingCarrier_code</th><th>legs0_segments0_operatingCarrier_code</th><th>legs0_segments0_seatsAvailable</th><th>legs0_segments1_aircraft_code</th><th>legs0_segments1_arrivalTo_airport_city_iata</th><th>legs0_segments1_arrivalTo_airport_iata</th><th>legs0_segments1_baggageAllowance_quantity</th><th>legs0_segments1_baggageAllowance_weightMeasurementType</th><th>legs0_segments1_cabinClass</th><th>legs0_segments1_departureFrom_airport_iata</th><th>legs0_segments1_duration</th><th>legs0_segments1_flightNumber</th><th>legs0_segments1_marketingCarrier_code</th><th>legs0_segments1_operatingCarrier_code</th><th>legs0_segments1_seatsAvailable</th><th>legs0_segments2_aircraft_code</th><th>legs0_segments2_arrivalTo_airport_city_iata</th><th>&hellip;</th><th>legs1_segments2_baggageAllowance_weightMeasurementType</th><th>legs1_segments2_cabinClass</th><th>legs1_segments2_departureFrom_airport_iata</th><th>legs1_segments2_duration</th><th>legs1_segments2_flightNumber</th><th>legs1_segments2_marketingCarrier_code</th><th>legs1_segments2_operatingCarrier_code</th><th>legs1_segments2_seatsAvailable</th><th>legs1_segments3_aircraft_code</th><th>legs1_segments3_arrivalTo_airport_city_iata</th><th>legs1_segments3_arrivalTo_airport_iata</th><th>legs1_segments3_baggageAllowance_quantity</th><th>legs1_segments3_baggageAllowance_weightMeasurementType</th><th>legs1_segments3_cabinClass</th><th>legs1_segments3_departureFrom_airport_iata</th><th>legs1_segments3_duration</th><th>legs1_segments3_flightNumber</th><th>legs1_segments3_marketingCarrier_code</th><th>legs1_segments3_operatingCarrier_code</th><th>legs1_segments3_seatsAvailable</th><th>miniRules0_monetaryAmount</th><th>miniRules0_percentage</th><th>miniRules0_statusInfos</th><th>miniRules1_monetaryAmount</th><th>miniRules1_percentage</th><th>miniRules1_statusInfos</th><th>pricingInfo_isAccessTP</th><th>pricingInfo_passengerCount</th><th>profileId</th><th>ranker_id</th><th>requestDate</th><th>searchRoute</th><th>sex</th><th>taxes</th><th>totalPrice</th><th>selected</th><th>__index_level_0__</th></tr><tr><td>i64</td><td>bool</td><td>i64</td><td>i64</td><td>str</td><td>i64</td><td>bool</td><td>bool</td><td>str</td><td>str</td><td>str</td><td>str</td><td>str</td><td>str</td><td>f64</td><td>f64</td><td>f64</td><td>str</td><td>str</td><td>str</td><td>str</td><td>str</td><td>f64</td><td>str</td><td>str</td><td>str</td><td>f64</td><td>f64</td><td>f64</td><td>str</td><td>str</td><td>str</td><td>str</td><td>str</td><td>f64</td><td>str</td><td>str</td><td>&hellip;</td><td>f64</td><td>f64</td><td>str</td><td>str</td><td>str</td><td>str</td><td>str</td><td>f64</td><td>str</td><td>str</td><td>str</td><td>f64</td><td>f64</td><td>f64</td><td>str</td><td>str</td><td>str</td><td>str</td><td>str</td><td>f64</td><td>f64</td><td>f64</td><td>f64</td><td>f64</td><td>f64</td><td>f64</td><td>f64</td><td>i64</td><td>i64</td><td>str</td><td>datetime[ns]</td><td>str</td><td>bool</td><td>f64</td><td>f64</td><td>i64</td><td>i64</td></tr></thead><tbody><tr><td>0</td><td>true</td><td>57323</td><td>null</td><td>&quot;S7/SU/UT&quot;</td><td>36</td><td>false</td><td>false</td><td>&quot;2024-06-15T16:20:00&quot;</td><td>&quot;2024-06-15T15:40:00&quot;</td><td>&quot;02:40:00&quot;</td><td>&quot;YK2&quot;</td><td>&quot;KJA&quot;</td><td>&quot;KJA&quot;</td><td>1.0</td><td>0.0</td><td>1.0</td><td>&quot;TLK&quot;</td><td>&quot;02:40:00&quot;</td><td>&quot;216&quot;</td><td>&quot;KV&quot;</td><td>&quot;KV&quot;</td><td>9.0</td><td>null</td><td>null</td><td>null</td><td>null</td><td>null</td><td>null</td><td>null</td><td>null</td><td>null</td><td>null</td><td>null</td><td>null</td><td>null</td><td>null</td><td>&hellip;</td><td>null</td><td>null</td><td>null</td><td>null</td><td>null</td><td>null</td><td>null</td><td>null</td><td>null</td><td>null</td><td>null</td><td>null</td><td>null</td><td>null</td><td>null</td><td>null</td><td>null</td><td>null</td><td>null</td><td>null</td><td>null</td><td>null</td><td>null</td><td>null</td><td>null</td><td>null</td><td>1.0</td><td>1</td><td>2087645</td><td>&quot;98ce0dabf6964640b63079fbafd42c…</td><td>2024-05-17 03:03:08</td><td>&quot;TLKKJA/KJATLK&quot;</td><td>true</td><td>370.0</td><td>16884.0</td><td>1</td><td>0</td></tr><tr><td>1</td><td>true</td><td>57323</td><td>123</td><td>&quot;S7/SU/UT&quot;</td><td>36</td><td>true</td><td>false</td><td>&quot;2024-06-15T14:50:00&quot;</td><td>&quot;2024-06-15T09:25:00&quot;</td><td>&quot;07:25:00&quot;</td><td>&quot;E70&quot;</td><td>&quot;OVB&quot;</td><td>&quot;OVB&quot;</td><td>1.0</td><td>0.0</td><td>1.0</td><td>&quot;TLK&quot;</td><td>&quot;02:50:00&quot;</td><td>&quot;5358&quot;</td><td>&quot;S7&quot;</td><td>&quot;S7&quot;</td><td>4.0</td><td>&quot;E70&quot;</td><td>&quot;KJA&quot;</td><td>&quot;KJA&quot;</td><td>1.0</td><td>0.0</td><td>1.0</td><td>&quot;OVB&quot;</td><td>&quot;01:20:00&quot;</td><td>&quot;5311&quot;</td><td>&quot;S7&quot;</td><td>&quot;S7&quot;</td><td>4.0</td><td>null</td><td>null</td><td>&hellip;</td><td>null</td><td>null</td><td>null</td><td>null</td><td>null</td><td>null</td><td>null</td><td>null</td><td>null</td><td>null</td><td>null</td><td>null</td><td>null</td><td>null</td><td>null</td><td>null</td><td>null</td><td>null</td><td>null</td><td>null</td><td>2300.0</td><td>null</td><td>1.0</td><td>3500.0</td><td>null</td><td>1.0</td><td>1.0</td><td>1</td><td>2087645</td><td>&quot;98ce0dabf6964640b63079fbafd42c…</td><td>2024-05-17 03:03:08</td><td>&quot;TLKKJA/KJATLK&quot;</td><td>true</td><td>2240.0</td><td>51125.0</td><td>0</td><td>1</td></tr><tr><td>2</td><td>true</td><td>57323</td><td>null</td><td>&quot;S7/SU/UT&quot;</td><td>36</td><td>false</td><td>false</td><td>&quot;2024-06-15T14:50:00&quot;</td><td>&quot;2024-06-15T09:25:00&quot;</td><td>&quot;07:25:00&quot;</td><td>&quot;E70&quot;</td><td>&quot;OVB&quot;</td><td>&quot;OVB&quot;</td><td>1.0</td><td>0.0</td><td>1.0</td><td>&quot;TLK&quot;</td><td>&quot;02:50:00&quot;</td><td>&quot;5358&quot;</td><td>&quot;S7&quot;</td><td>&quot;S7&quot;</td><td>4.0</td><td>&quot;E70&quot;</td><td>&quot;KJA&quot;</td><td>&quot;KJA&quot;</td><td>1.0</td><td>0.0</td><td>1.0</td><td>&quot;OVB&quot;</td><td>&quot;01:20:00&quot;</td><td>&quot;5311&quot;</td><td>&quot;S7&quot;</td><td>&quot;S7&quot;</td><td>4.0</td><td>null</td><td>null</td><td>&hellip;</td><td>null</td><td>null</td><td>null</td><td>null</td><td>null</td><td>null</td><td>null</td><td>null</td><td>null</td><td>null</td><td>null</td><td>null</td><td>null</td><td>null</td><td>null</td><td>null</td><td>null</td><td>null</td><td>null</td><td>null</td><td>2300.0</td><td>null</td><td>1.0</td><td>3500.0</td><td>null</td><td>1.0</td><td>1.0</td><td>1</td><td>2087645</td><td>&quot;98ce0dabf6964640b63079fbafd42c…</td><td>2024-05-17 03:03:08</td><td>&quot;TLKKJA/KJATLK&quot;</td><td>true</td><td>2240.0</td><td>53695.0</td><td>0</td><td>2</td></tr><tr><td>3</td><td>true</td><td>57323</td><td>123</td><td>&quot;S7/SU/UT&quot;</td><td>36</td><td>true</td><td>false</td><td>&quot;2024-06-15T14:50:00&quot;</td><td>&quot;2024-06-15T09:25:00&quot;</td><td>&quot;07:25:00&quot;</td><td>&quot;E70&quot;</td><td>&quot;OVB&quot;</td><td>&quot;OVB&quot;</td><td>1.0</td><td>0.0</td><td>1.0</td><td>&quot;TLK&quot;</td><td>&quot;02:50:00&quot;</td><td>&quot;5358&quot;</td><td>&quot;S7&quot;</td><td>&quot;S7&quot;</td><td>4.0</td><td>&quot;E70&quot;</td><td>&quot;KJA&quot;</td><td>&quot;KJA&quot;</td><td>1.0</td><td>0.0</td><td>1.0</td><td>&quot;OVB&quot;</td><td>&quot;01:20:00&quot;</td><td>&quot;5311&quot;</td><td>&quot;S7&quot;</td><td>&quot;S7&quot;</td><td>4.0</td><td>null</td><td>null</td><td>&hellip;</td><td>null</td><td>null</td><td>null</td><td>null</td><td>null</td><td>null</td><td>null</td><td>null</td><td>null</td><td>null</td><td>null</td><td>null</td><td>null</td><td>null</td><td>null</td><td>null</td><td>null</td><td>null</td><td>null</td><td>null</td><td>0.0</td><td>null</td><td>1.0</td><td>0.0</td><td>null</td><td>1.0</td><td>1.0</td><td>1</td><td>2087645</td><td>&quot;98ce0dabf6964640b63079fbafd42c…</td><td>2024-05-17 03:03:08</td><td>&quot;TLKKJA/KJATLK&quot;</td><td>true</td><td>2240.0</td><td>81880.0</td><td>0</td><td>3</td></tr><tr><td>4</td><td>true</td><td>57323</td><td>null</td><td>&quot;S7/SU/UT&quot;</td><td>36</td><td>false</td><td>false</td><td>&quot;2024-06-15T14:50:00&quot;</td><td>&quot;2024-06-15T09:25:00&quot;</td><td>&quot;07:25:00&quot;</td><td>&quot;E70&quot;</td><td>&quot;OVB&quot;</td><td>&quot;OVB&quot;</td><td>1.0</td><td>0.0</td><td>1.0</td><td>&quot;TLK&quot;</td><td>&quot;02:50:00&quot;</td><td>&quot;5358&quot;</td><td>&quot;S7&quot;</td><td>&quot;S7&quot;</td><td>4.0</td><td>&quot;E70&quot;</td><td>&quot;KJA&quot;</td><td>&quot;KJA&quot;</td><td>1.0</td><td>0.0</td><td>1.0</td><td>&quot;OVB&quot;</td><td>&quot;01:20:00&quot;</td><td>&quot;5311&quot;</td><td>&quot;S7&quot;</td><td>&quot;S7&quot;</td><td>4.0</td><td>null</td><td>null</td><td>&hellip;</td><td>null</td><td>null</td><td>null</td><td>null</td><td>null</td><td>null</td><td>null</td><td>null</td><td>null</td><td>null</td><td>null</td><td>null</td><td>null</td><td>null</td><td>null</td><td>null</td><td>null</td><td>null</td><td>null</td><td>null</td><td>0.0</td><td>null</td><td>1.0</td><td>0.0</td><td>null</td><td>1.0</td><td>1.0</td><td>1</td><td>2087645</td><td>&quot;98ce0dabf6964640b63079fbafd42c…</td><td>2024-05-17 03:03:08</td><td>&quot;TLKKJA/KJATLK&quot;</td><td>true</td><td>2240.0</td><td>86070.0</td><td>0</td><td>4</td></tr><tr><td>&hellip;</td><td>&hellip;</td><td>&hellip;</td><td>&hellip;</td><td>&hellip;</td><td>&hellip;</td><td>&hellip;</td><td>&hellip;</td><td>&hellip;</td><td>&hellip;</td><td>&hellip;</td><td>&hellip;</td><td>&hellip;</td><td>&hellip;</td><td>&hellip;</td><td>&hellip;</td><td>&hellip;</td><td>&hellip;</td><td>&hellip;</td><td>&hellip;</td><td>&hellip;</td><td>&hellip;</td><td>&hellip;</td><td>&hellip;</td><td>&hellip;</td><td>&hellip;</td><td>&hellip;</td><td>&hellip;</td><td>&hellip;</td><td>&hellip;</td><td>&hellip;</td><td>&hellip;</td><td>&hellip;</td><td>&hellip;</td><td>&hellip;</td><td>&hellip;</td><td>&hellip;</td><td>&hellip;</td><td>&hellip;</td><td>&hellip;</td><td>&hellip;</td><td>&hellip;</td><td>&hellip;</td><td>&hellip;</td><td>&hellip;</td><td>&hellip;</td><td>&hellip;</td><td>&hellip;</td><td>&hellip;</td><td>&hellip;</td><td>&hellip;</td><td>&hellip;</td><td>&hellip;</td><td>&hellip;</td><td>&hellip;</td><td>&hellip;</td><td>&hellip;</td><td>&hellip;</td><td>&hellip;</td><td>&hellip;</td><td>&hellip;</td><td>&hellip;</td><td>&hellip;</td><td>&hellip;</td><td>&hellip;</td><td>&hellip;</td><td>&hellip;</td><td>&hellip;</td><td>&hellip;</td><td>&hellip;</td><td>&hellip;</td><td>&hellip;</td><td>&hellip;</td><td>&hellip;</td><td>&hellip;</td></tr><tr><td>995</td><td>true</td><td>42622</td><td>null</td><td>null</td><td>36</td><td>false</td><td>false</td><td>&quot;2024-05-21T07:15:00&quot;</td><td>&quot;2024-05-20T17:45:00&quot;</td><td>&quot;11:30:00&quot;</td><td>&quot;32A&quot;</td><td>&quot;MOW&quot;</td><td>&quot;DME&quot;</td><td>0.0</td><td>0.0</td><td>1.0</td><td>&quot;OVB&quot;</td><td>&quot;04:20:00&quot;</td><td>&quot;2516&quot;</td><td>&quot;S7&quot;</td><td>&quot;S7&quot;</td><td>9.0</td><td>&quot;32N&quot;</td><td>&quot;HTA&quot;</td><td>&quot;HTA&quot;</td><td>0.0</td><td>0.0</td><td>1.0</td><td>&quot;DME&quot;</td><td>&quot;06:10:00&quot;</td><td>&quot;3045&quot;</td><td>&quot;S7&quot;</td><td>&quot;S7&quot;</td><td>1.0</td><td>null</td><td>null</td><td>&hellip;</td><td>null</td><td>null</td><td>null</td><td>null</td><td>null</td><td>null</td><td>null</td><td>null</td><td>null</td><td>null</td><td>null</td><td>null</td><td>null</td><td>null</td><td>null</td><td>null</td><td>null</td><td>null</td><td>null</td><td>null</td><td>4000.0</td><td>null</td><td>1.0</td><td>0.0</td><td>null</td><td>0.0</td><td>0.0</td><td>1</td><td>2812817</td><td>&quot;1e9c2a3788a74ab7b80890ef712773…</td><td>2024-05-17 06:39:30</td><td>&quot;OVBHTA/HTAOVB&quot;</td><td>true</td><td>2612.0</td><td>54837.0</td><td>0</td><td>995</td></tr><tr><td>996</td><td>true</td><td>42622</td><td>115</td><td>null</td><td>36</td><td>true</td><td>false</td><td>&quot;2024-05-21T07:15:00&quot;</td><td>&quot;2024-05-20T17:45:00&quot;</td><td>&quot;11:30:00&quot;</td><td>&quot;32A&quot;</td><td>&quot;MOW&quot;</td><td>&quot;DME&quot;</td><td>1.0</td><td>0.0</td><td>1.0</td><td>&quot;OVB&quot;</td><td>&quot;04:20:00&quot;</td><td>&quot;2516&quot;</td><td>&quot;S7&quot;</td><td>&quot;S7&quot;</td><td>9.0</td><td>&quot;32N&quot;</td><td>&quot;HTA&quot;</td><td>&quot;HTA&quot;</td><td>1.0</td><td>0.0</td><td>1.0</td><td>&quot;DME&quot;</td><td>&quot;06:10:00&quot;</td><td>&quot;3045&quot;</td><td>&quot;S7&quot;</td><td>&quot;S7&quot;</td><td>1.0</td><td>null</td><td>null</td><td>&hellip;</td><td>null</td><td>null</td><td>null</td><td>null</td><td>null</td><td>null</td><td>null</td><td>null</td><td>null</td><td>null</td><td>null</td><td>null</td><td>null</td><td>null</td><td>null</td><td>null</td><td>null</td><td>null</td><td>null</td><td>null</td><td>2300.0</td><td>null</td><td>1.0</td><td>3500.0</td><td>null</td><td>1.0</td><td>0.0</td><td>1</td><td>2812817</td><td>&quot;1e9c2a3788a74ab7b80890ef712773…</td><td>2024-05-17 06:39:30</td><td>&quot;OVBHTA/HTAOVB&quot;</td><td>true</td><td>2612.0</td><td>71662.0</td><td>0</td><td>996</td></tr><tr><td>997</td><td>true</td><td>42622</td><td>null</td><td>null</td><td>36</td><td>false</td><td>false</td><td>&quot;2024-05-21T07:15:00&quot;</td><td>&quot;2024-05-20T17:45:00&quot;</td><td>&quot;11:30:00&quot;</td><td>&quot;32A&quot;</td><td>&quot;MOW&quot;</td><td>&quot;DME&quot;</td><td>1.0</td><td>0.0</td><td>1.0</td><td>&quot;OVB&quot;</td><td>&quot;04:20:00&quot;</td><td>&quot;2516&quot;</td><td>&quot;S7&quot;</td><td>&quot;S7&quot;</td><td>9.0</td><td>&quot;32N&quot;</td><td>&quot;HTA&quot;</td><td>&quot;HTA&quot;</td><td>1.0</td><td>0.0</td><td>1.0</td><td>&quot;DME&quot;</td><td>&quot;06:10:00&quot;</td><td>&quot;3045&quot;</td><td>&quot;S7&quot;</td><td>&quot;S7&quot;</td><td>1.0</td><td>null</td><td>null</td><td>&hellip;</td><td>null</td><td>null</td><td>null</td><td>null</td><td>null</td><td>null</td><td>null</td><td>null</td><td>null</td><td>null</td><td>null</td><td>null</td><td>null</td><td>null</td><td>null</td><td>null</td><td>null</td><td>null</td><td>null</td><td>null</td><td>2300.0</td><td>null</td><td>1.0</td><td>3500.0</td><td>null</td><td>1.0</td><td>0.0</td><td>1</td><td>2812817</td><td>&quot;1e9c2a3788a74ab7b80890ef712773…</td><td>2024-05-17 06:39:30</td><td>&quot;OVBHTA/HTAOVB&quot;</td><td>true</td><td>2612.0</td><td>76067.0</td><td>0</td><td>997</td></tr><tr><td>998</td><td>true</td><td>42622</td><td>115</td><td>null</td><td>36</td><td>true</td><td>false</td><td>&quot;2024-05-21T07:15:00&quot;</td><td>&quot;2024-05-20T17:45:00&quot;</td><td>&quot;11:30:00&quot;</td><td>&quot;32A&quot;</td><td>&quot;MOW&quot;</td><td>&quot;DME&quot;</td><td>1.0</td><td>0.0</td><td>1.0</td><td>&quot;OVB&quot;</td><td>&quot;04:20:00&quot;</td><td>&quot;2516&quot;</td><td>&quot;S7&quot;</td><td>&quot;S7&quot;</td><td>9.0</td><td>&quot;32N&quot;</td><td>&quot;HTA&quot;</td><td>&quot;HTA&quot;</td><td>1.0</td><td>0.0</td><td>1.0</td><td>&quot;DME&quot;</td><td>&quot;06:10:00&quot;</td><td>&quot;3045&quot;</td><td>&quot;S7&quot;</td><td>&quot;S7&quot;</td><td>1.0</td><td>null</td><td>null</td><td>&hellip;</td><td>null</td><td>null</td><td>null</td><td>null</td><td>null</td><td>null</td><td>null</td><td>null</td><td>null</td><td>null</td><td>null</td><td>null</td><td>null</td><td>null</td><td>null</td><td>null</td><td>null</td><td>null</td><td>null</td><td>null</td><td>0.0</td><td>null</td><td>1.0</td><td>0.0</td><td>null</td><td>1.0</td><td>0.0</td><td>1</td><td>2812817</td><td>&quot;1e9c2a3788a74ab7b80890ef712773…</td><td>2024-05-17 06:39:30</td><td>&quot;OVBHTA/HTAOVB&quot;</td><td>true</td><td>2612.0</td><td>116322.0</td><td>0</td><td>998</td></tr><tr><td>999</td><td>true</td><td>42622</td><td>null</td><td>null</td><td>36</td><td>false</td><td>false</td><td>&quot;2024-05-21T07:15:00&quot;</td><td>&quot;2024-05-20T17:45:00&quot;</td><td>&quot;11:30:00&quot;</td><td>&quot;32A&quot;</td><td>&quot;MOW&quot;</td><td>&quot;DME&quot;</td><td>1.0</td><td>0.0</td><td>1.0</td><td>&quot;OVB&quot;</td><td>&quot;04:20:00&quot;</td><td>&quot;2516&quot;</td><td>&quot;S7&quot;</td><td>&quot;S7&quot;</td><td>9.0</td><td>&quot;32N&quot;</td><td>&quot;HTA&quot;</td><td>&quot;HTA&quot;</td><td>1.0</td><td>0.0</td><td>1.0</td><td>&quot;DME&quot;</td><td>&quot;06:10:00&quot;</td><td>&quot;3045&quot;</td><td>&quot;S7&quot;</td><td>&quot;S7&quot;</td><td>1.0</td><td>null</td><td>null</td><td>&hellip;</td><td>null</td><td>null</td><td>null</td><td>null</td><td>null</td><td>null</td><td>null</td><td>null</td><td>null</td><td>null</td><td>null</td><td>null</td><td>null</td><td>null</td><td>null</td><td>null</td><td>null</td><td>null</td><td>null</td><td>null</td><td>0.0</td><td>null</td><td>1.0</td><td>0.0</td><td>null</td><td>1.0</td><td>0.0</td><td>1</td><td>2812817</td><td>&quot;1e9c2a3788a74ab7b80890ef712773…</td><td>2024-05-17 06:39:30</td><td>&quot;OVBHTA/HTAOVB&quot;</td><td>true</td><td>2612.0</td><td>123577.0</td><td>0</td><td>999</td></tr></tbody></table></div>"
      ]
     },
     "execution_count": 4,
     "metadata": {},
     "output_type": "execute_result"
    }
   ],
   "execution_count": 4
  },
  {
   "metadata": {
    "ExecuteTime": {
     "end_time": "2025-08-18T03:12:35.094788Z",
     "start_time": "2025-08-18T03:12:34.462245Z"
    }
   },
   "cell_type": "code",
   "source": [
    "code_counts = (data\n",
    "    .lazy()\n",
    "    .select(pl.col('frequentFlyer'))\n",
    "    .filter(pl.col('frequentFlyer').is_not_null())\n",
    "    .with_columns([pl.col('frequentFlyer').str.replace('- ЮТэйр ЗАО', 'UT')])\n",
    "    .select(pl.col('frequentFlyer').str.split('/').list.explode().alias('code'))\n",
    "    .group_by('code')\n",
    "    .agg(pl.len().alias('count'))\n",
    "    .with_columns([(pl.col('count') / pl.col('count').sum() * 100).alias('percentage')])\n",
    "    .sort('count', descending=True)\n",
    "    .collect()\n",
    ")\n",
    "code_counts"
   ],
   "id": "d44e28a2f1757aac",
   "outputs": [
    {
     "data": {
      "text/plain": [
       "shape: (69, 3)\n",
       "┌──────┬─────────┬────────────┐\n",
       "│ code ┆ count   ┆ percentage │\n",
       "│ ---  ┆ ---     ┆ ---        │\n",
       "│ str  ┆ u32     ┆ f64        │\n",
       "╞══════╪═════════╪════════════╡\n",
       "│ SU   ┆ 5879123 ┆ 63.985022  │\n",
       "│ S7   ┆ 1839799 ┆ 20.023323  │\n",
       "│ UT   ┆ 396461  ┆ 4.314855   │\n",
       "│ U6   ┆ 266287  ┆ 2.898116   │\n",
       "│ TK   ┆ 257099  ┆ 2.798119   │\n",
       "│ …    ┆ …       ┆ …          │\n",
       "│ 9X   ┆ 43      ┆ 0.000468   │\n",
       "│ A3   ┆ 30      ┆ 0.000327   │\n",
       "│ WY   ┆ 14      ┆ 0.000152   │\n",
       "│ RT   ┆ 1       ┆ 0.000011   │\n",
       "│ D9   ┆ 1       ┆ 0.000011   │\n",
       "└──────┴─────────┴────────────┘"
      ],
      "text/html": [
       "<div><style>\n",
       ".dataframe > thead > tr,\n",
       ".dataframe > tbody > tr {\n",
       "  text-align: right;\n",
       "  white-space: pre-wrap;\n",
       "}\n",
       "</style>\n",
       "<small>shape: (69, 3)</small><table border=\"1\" class=\"dataframe\"><thead><tr><th>code</th><th>count</th><th>percentage</th></tr><tr><td>str</td><td>u32</td><td>f64</td></tr></thead><tbody><tr><td>&quot;SU&quot;</td><td>5879123</td><td>63.985022</td></tr><tr><td>&quot;S7&quot;</td><td>1839799</td><td>20.023323</td></tr><tr><td>&quot;UT&quot;</td><td>396461</td><td>4.314855</td></tr><tr><td>&quot;U6&quot;</td><td>266287</td><td>2.898116</td></tr><tr><td>&quot;TK&quot;</td><td>257099</td><td>2.798119</td></tr><tr><td>&hellip;</td><td>&hellip;</td><td>&hellip;</td></tr><tr><td>&quot;9X&quot;</td><td>43</td><td>0.000468</td></tr><tr><td>&quot;A3&quot;</td><td>30</td><td>0.000327</td></tr><tr><td>&quot;WY&quot;</td><td>14</td><td>0.000152</td></tr><tr><td>&quot;RT&quot;</td><td>1</td><td>0.000011</td></tr><tr><td>&quot;D9&quot;</td><td>1</td><td>0.000011</td></tr></tbody></table></div>"
      ]
     },
     "execution_count": 32,
     "metadata": {},
     "output_type": "execute_result"
    }
   ],
   "execution_count": 32
  },
  {
   "metadata": {},
   "cell_type": "markdown",
   "source": "### Utilities",
   "id": "b0c89c99f0e7fb36"
  },
  {
   "metadata": {
    "ExecuteTime": {
     "end_time": "2025-08-26T23:06:34.749038Z",
     "start_time": "2025-08-26T23:06:34.741583Z"
    }
   },
   "cell_type": "code",
   "source": [
    "MAJOR_HUBS = ['ATL','DXB','DFW','HND','LHR','DEN','ORD','IST','PVG','ICN','CDG', 'JFK','CLT','MEX','SFO','EWR','MIA','BKK','GRU','HKG']\n",
    "\n",
    "def camel_to_snake(name):\n",
    "    \"\"\"Convert camelCase or PascalCase to snake_case\"\"\"\n",
    "    s1 = re.sub('(.)([A-Z][a-z]+)', r'\\1_\\2', name)\n",
    "    s2 = re.sub('([a-z0-9])([A-Z])', r'\\1_\\2', s1)\n",
    "    return s2.lower()\n",
    "\n",
    "\n",
    "def convert_columns_to_snake_case(df):\n",
    "    \"\"\"Convert all column names in a polars DataFrame to snake_case\"\"\"\n",
    "    return df.rename({col: camel_to_snake(col) for col in df.columns})\n",
    "\n",
    "\n",
    "def parse_duration_to_minutes(duration_col: str) -> pl.Expr:\n",
    "    \"\"\"Parse duration string to minutes (handles format like '2.04:20' - D.HH:MM).\"\"\"\n",
    "    return (\n",
    "        pl.when(pl.col(duration_col).is_not_null() & (pl.col(duration_col) != \"\"))\n",
    "        .then(\n",
    "            pl.when(pl.col(duration_col).str.contains(r'\\.'))\n",
    "            .then(\n",
    "                # Format: D.HH:MM:SS (e.g., \"1.00:30:00\", \"2.09:45:00\")\n",
    "                pl.col(duration_col).str.extract(r'^(\\d+)\\.(\\d{2}):(\\d{2}):(\\d{2})$', 1).cast(pl.Int32, strict=False).fill_null(0) * 1440 +  # Days\n",
    "                pl.col(duration_col).str.extract(r'^(\\d+)\\.(\\d{2}):(\\d{2}):(\\d{2})$', 2).cast(pl.Int32, strict=False).fill_null(0) * 60 +   # Hours\n",
    "                pl.col(duration_col).str.extract(r'^(\\d+)\\.(\\d{2}):(\\d{2}):(\\d{2})$', 3).cast(pl.Int32, strict=False).fill_null(0) +        # Minutes\n",
    "                (pl.col(duration_col).str.extract(r'^(\\d+)\\.(\\d{2}):(\\d{2}):(\\d{2})$', 4).cast(pl.Int32, strict=False).fill_null(0) / 60).round(0).cast(pl.Int32, strict=False)  # Seconds\n",
    "            )\n",
    "            .otherwise(\n",
    "                # Format: HH:MM:SS (e.g., \"07:25:00\", \"17:55:00\")\n",
    "                pl.col(duration_col).str.extract(r'^(\\d{2}):(\\d{2}):(\\d{2})$', 1).cast(pl.Int32, strict=False).fill_null(0) * 60 +   # Hours\n",
    "                pl.col(duration_col).str.extract(r'^(\\d{2}):(\\d{2}):(\\d{2})$', 2).cast(pl.Int32, strict=False).fill_null(0) +        # Minutes\n",
    "                (pl.col(duration_col).str.extract(r'^(\\d{2}):(\\d{2}):(\\d{2})$', 3).cast(pl.Int32, strict=False).fill_null(0) / 60).round(0).cast(pl.Int32, strict=False)  # Seconds\n",
    "            )\n",
    "        )\n",
    "        .otherwise(0)\n",
    "    )"
   ],
   "id": "8bf30151412e2a94",
   "outputs": [],
   "execution_count": 5
  },
  {
   "metadata": {},
   "cell_type": "markdown",
   "source": "### Engineer Customer Features",
   "id": "a806b9bf6beed247"
  },
  {
   "metadata": {
    "ExecuteTime": {
     "end_time": "2025-08-26T23:06:40.003197Z",
     "start_time": "2025-08-26T23:06:39.978455Z"
    }
   },
   "cell_type": "code",
   "source": [
    "# Customer attributes for clustering analysis\n",
    "\n",
    "# def get_cabin_class_columns(df: pl.DataFrame) -> List[str]:\n",
    "#     \"\"\"Get all cabin class columns from the dataframe.\"\"\"\n",
    "#     columns = df.columns\n",
    "#     return [col for col in columns if col.startswith('legs') and col.endswith('_cabinClass')]\n",
    "\n",
    "\n",
    "def create_customer_aggregation_features() -> List[pl.Expr]:\n",
    "    \"\"\"Create customer aggregation expressions for basic attributes and search behavior.\"\"\"\n",
    "    return [\n",
    "        # Basic customer attributes (take first non-null value per customer)\n",
    "        pl.col('companyID').drop_nulls().first().alias('company_id'),\n",
    "        pl.col('sex').drop_nulls().first().cast(pl.Int8).alias('sex'),\n",
    "        pl.col('nationality').drop_nulls().first().alias('nationality'),\n",
    "        pl.col('frequentFlyer').drop_nulls().first().str.replace('- ЮТэйр ЗАО', 'UT').fill_null('').alias('frequent_flyer'),\n",
    "        pl.col('isVip').drop_nulls().first().cast(pl.Int8).alias('is_vip'),\n",
    "        pl.col('bySelf').drop_nulls().first().cast(pl.Int8).alias('by_self'),\n",
    "        pl.col('corporateTariffCode').is_not_null().cast(pl.Int8).max().alias('has_corp_codes'),\n",
    "\n",
    "        # Search behavior metrics\n",
    "        pl.len().alias('total_searches'),\n",
    "        pl.col('legs1_departureAt').is_not_null().mean().alias('roundtrip_preference'),\n",
    "        pl.col('searchRoute').drop_nulls().n_unique().alias('unique_routes_searched'),\n",
    "    ]\n",
    "\n",
    "\n",
    "def create_booking_lead_time_features() -> List[pl.Expr]:\n",
    "    \"\"\"Create booking lead time statistics.\"\"\"\n",
    "    # Calculate booking lead time in days\n",
    "    booking_lead_expr = (\n",
    "        (pl.col('legs0_departureAt').str.to_datetime() -\n",
    "         pl.col('requestDate').cast(pl.Datetime)) / pl.duration(days=1)\n",
    "    ).cast(pl.Int32)\n",
    "\n",
    "    return [\n",
    "        booking_lead_expr.min().alias('min_booking_lead_days'),\n",
    "        booking_lead_expr.max().alias('max_booking_lead_days'),\n",
    "        booking_lead_expr.mean().alias('avg_booking_lead_days'),\n",
    "        booking_lead_expr.median().alias('median_booking_lead_days'),\n",
    "    ]\n",
    "\n",
    "\n",
    "def create_travel_preference_features() -> List[pl.Expr]:\n",
    "    \"\"\"Create travel preference features for most common airports and carriers.\"\"\"\n",
    "    return [\n",
    "        # Most common departure airport\n",
    "        pl.col('legs0_segments0_departureFrom_airport_iata').drop_nulls().mode().first().alias('most_common_departure_airport'),\n",
    "        pl.col('legs0_segments0_departureFrom_airport_iata').drop_nulls().n_unique().alias('unique_departure_airports'),\n",
    "\n",
    "        # Most common marketing carrier\n",
    "        pl.col('legs0_segments0_marketingCarrier_code').drop_nulls().mode().first().alias('most_common_carrier'),\n",
    "        pl.col('legs0_segments0_marketingCarrier_code').drop_nulls().n_unique().alias('unique_carriers_used'),\n",
    "    ]\n",
    "\n",
    "\n",
    "def create_cabin_class_features(cabin_class_cols: List[str]) -> List[pl.Expr]:\n",
    "    \"\"\"Create cabin class preference statistics.\"\"\"\n",
    "    if not cabin_class_cols:\n",
    "        # Return default values if no cabin class columns found\n",
    "        return [\n",
    "            pl.lit(None).alias('min_cabin_class'),\n",
    "            pl.lit(None).alias('max_cabin_class'),\n",
    "            pl.lit(None).alias('avg_cabin_class'),\n",
    "        ]\n",
    "\n",
    "    return [\n",
    "        # Cabin class statistics across all segments\n",
    "        pl.min_horizontal([pl.col(col) for col in cabin_class_cols]).min().alias('min_cabin_class'),\n",
    "        pl.max_horizontal([pl.col(col) for col in cabin_class_cols]).max().alias('max_cabin_class'),\n",
    "        pl.mean_horizontal([pl.col(col) for col in cabin_class_cols]).mean().alias('avg_cabin_class'),\n",
    "    ]\n",
    "\n",
    "\n",
    "def create_temporal_preference_features() -> List[pl.Expr]:\n",
    "    \"\"\"Create temporal preference features for departure patterns.\"\"\"\n",
    "    return [\n",
    "        # Weekday preference (most common day of week for departures)\n",
    "        pl.col('legs0_departureAt').str.to_datetime().dt.weekday()\n",
    "          .mode().first().alias('weekday_preference'),\n",
    "\n",
    "        # Weekend travel rate (percentage of weekend departures - 5=Sat, 6=Sun)\n",
    "        pl.col('legs0_departureAt').str.to_datetime().dt.weekday()\n",
    "          .map_elements(lambda x: 1 if x >= 5 else 0, return_dtype=pl.Int8)\n",
    "          .mean().alias('weekend_travel_rate'),\n",
    "\n",
    "        # Time of day variance (how consistent are their departure times)\n",
    "        pl.col('legs0_departureAt').str.to_datetime().dt.hour()\n",
    "          .std().alias('time_of_day_variance'),\n",
    "\n",
    "        # Night flight preference (flights departing 22:00-06:00)\n",
    "        pl.col('legs0_departureAt').str.to_datetime().dt.hour()\n",
    "          .map_elements(lambda x: 1 if (x >= 22 or x < 6) else 0, return_dtype=pl.Int8)\n",
    "          .mean().alias('night_flight_preference')\n",
    "    ]\n",
    "\n",
    "\n",
    "def create_route_specific_features() -> List[pl.Expr]:\n",
    "    \"\"\"Create features related to route preferences and characteristics.\"\"\"\n",
    "    return [\n",
    "        # Route loyalty\n",
    "        (1 - (pl.col('searchRoute').n_unique() / pl.len().clip(1, None))).alias('route_loyalty'),\n",
    "\n",
    "        # Hub preference (preference for major hub airports)\n",
    "        (\n",
    "            pl.col('legs0_segments0_departureFrom_airport_iata').is_in(MAJOR_HUBS) |\n",
    "            pl.col('legs0_segments0_arrivalTo_airport_iata').is_in(MAJOR_HUBS)\n",
    "        ).cast(pl.Int8).mean().alias('hub_preference'),\n",
    "\n",
    "        # Short haul preference\n",
    "        ((1 - (pl.col('leg0_duration_minutes').mean() / 180)) * 0.7 +\n",
    "         pl.when(pl.col('leg0_duration_minutes') <= 180).then(1).otherwise(0).mean() * 0.3)\n",
    "        .clip(0, 1).alias('short_haul_preference'),\n",
    "\n",
    "        # Connection tolerance (average segments)\n",
    "        pl.sum_horizontal([\n",
    "            pl.col(f'legs0_segments{i}_departureFrom_airport_iata').is_not_null().cast(pl.Int8)\n",
    "            for i in range(4)  # assuming max 4 segments\n",
    "        ]).mean().alias('connection_tolerance'),\n",
    "\n",
    "        # Preference for longer vs shorter flights (duration quartile preference)\n",
    "        pl.when(pl.col('leg0_duration_minutes') <= pl.col('leg0_duration_q25'))\n",
    "        .then(1)  # Short flights\n",
    "        .when(pl.col('leg0_duration_minutes') <= pl.col('leg0_duration_q50'))\n",
    "        .then(2)  # Medium-short flights\n",
    "        .when(pl.col('leg0_duration_minutes') <= pl.col('leg0_duration_q75'))\n",
    "        .then(3)  # Medium-long flights\n",
    "        .otherwise(4)  # Long flights\n",
    "        .mode().first().alias('preferred_duration_quartile')\n",
    "    ]\n",
    "\n",
    "\n",
    "def create_price_sensitivity_features() -> List[pl.Expr]:\n",
    "    \"\"\"Create features related to price sensitivity and patterns.\"\"\"\n",
    "    return [\n",
    "        # Basic correlation between price and duration\n",
    "        pl.corr(\n",
    "            pl.col('totalPrice'),\n",
    "            pl.col('trip_duration_minutes')\n",
    "        ).fill_null(0).alias('price_to_duration_sensitivity'),\n",
    "\n",
    "        # Price per minute metric (average across all flights)\n",
    "        (pl.col('totalPrice') / pl.col('trip_duration_minutes').clip(1, None)).mean().alias('avg_price_per_minute'),\n",
    "\n",
    "        # Consistency of price-per-minute (lower std = more consistent valuation)\n",
    "        (pl.col('totalPrice') / pl.col('trip_duration_minutes').clip(1, None)).std().fill_null(0).alias('price_per_minute_variance'),\n",
    "\n",
    "        # Price position within searches (percentile rank)\n",
    "        pl.col('price_percentile').mean().alias('price_position_preference'),\n",
    "\n",
    "        # Premium economy preference (assuming cabin class 2 is premium economy)\n",
    "        pl.mean_horizontal([\n",
    "            pl.col(f'legs0_segments{i}_cabinClass') == 2\n",
    "            for i in range(4)\n",
    "        ]).mean().alias('premium_economy_preference'),\n",
    "\n",
    "        # Consistent price tier\n",
    "        (1 - (\n",
    "            pl.when(pl.col('totalPrice') <= pl.col('price_q25'))\n",
    "            .then(1)  # Budget tier\n",
    "            .when(pl.col('totalPrice') <= pl.col('price_q50'))\n",
    "            .then(2)  # Economy tier\n",
    "            .when(pl.col('totalPrice') <= pl.col('price_q75'))\n",
    "            .then(3)  # Premium tier\n",
    "            .otherwise(4)  # Luxury tier\n",
    "            .std()\n",
    "            .fill_null(0)  # Handle null case\n",
    "            / 3\n",
    "        ).clip(0, 1)).alias('consistent_price_tier'),\n",
    "\n",
    "        # Most common price tier\n",
    "        pl.when(pl.col('totalPrice') <= pl.col('price_q25'))\n",
    "        .then(1)  # Budget tier\n",
    "        .when(pl.col('totalPrice') <= pl.col('price_q50'))\n",
    "        .then(2)  # Economy tier\n",
    "        .when(pl.col('totalPrice') <= pl.col('price_q75'))\n",
    "        .then(3)  # Premium tier\n",
    "        .otherwise(4)  # Luxury tier\n",
    "        .mode().first().alias('preferred_price_tier'),\n",
    "    ]\n",
    "\n",
    "\n",
    "def create_service_preference_features() -> List[pl.Expr]:\n",
    "    \"\"\"Create features related to service preferences.\"\"\"\n",
    "    # First get all the relevant column names for type and quantity\n",
    "    type_cols = [\n",
    "        f'legs{leg}_segments{seg}_baggageAllowance_weightMeasurementType'\n",
    "        for leg in range(2) for seg in range(4)\n",
    "    ]\n",
    "    qty_cols = [\n",
    "        f'legs{leg}_segments{seg}_baggageAllowance_quantity'\n",
    "        for leg in range(2) for seg in range(4)\n",
    "    ]\n",
    "\n",
    "    return [\n",
    "        # Baggage quantity preference (average of minimum bags allowed per flight option)\n",
    "        pl.min_horizontal([\n",
    "            pl.when(pl.col(type_col) == 0)\n",
    "            .then(pl.col(qty_col))\n",
    "            .otherwise(pl.lit(None))\n",
    "            for type_col, qty_col in zip(type_cols, qty_cols)\n",
    "        ]).mean().fill_null(0).alias('baggage_qty_preference'),\n",
    "\n",
    "        # Baggage weight preference (average of minimum weight allowed per flight option)\n",
    "        pl.min_horizontal([\n",
    "            pl.when(pl.col(type_col) == 1)\n",
    "            .then(pl.col(qty_col))\n",
    "            .otherwise(pl.lit(None))\n",
    "            for type_col, qty_col in zip(type_cols, qty_cols)\n",
    "        ]).mean().fill_null(0).fill_nan(0).alias('baggage_weight_preference'),\n",
    "\n",
    "        # Loyalty program utilization\n",
    "        pl.col('frequentFlyer').is_not_null().mean().alias('loyalty_program_utilization')\n",
    "    ]\n",
    "\n",
    "\n",
    "def create_derived_metrics() -> List[pl.Expr]:\n",
    "    \"\"\"Create complex derived metrics from combinations of features.\"\"\"\n",
    "    return [\n",
    "        # Convenience priority score (higher = more emphasis on convenient times)\n",
    "        ((1 - pl.col('time_of_day_variance')) * 10 +\n",
    "         pl.col('price_to_duration_sensitivity') * 5)\n",
    "        .alias('convenience_priority_score'),\n",
    "\n",
    "        # Loyalty vs price index (higher = more loyal, less price sensitive)\n",
    "        (pl.col('loyalty_program_utilization') * 10 -\n",
    "         pl.col('price_position_preference') / 10)\n",
    "        .alias('loyalty_vs_price_index'),\n",
    "\n",
    "        # Planning consistency score (inverse of lead time variance)\n",
    "        (1 / (pl.col('max_booking_lead_days') - pl.col('min_booking_lead_days') + 1))\n",
    "        .alias('planning_consistency_score'),\n",
    "\n",
    "        # Luxury index (combination of cabin class and price tier)\n",
    "        (pl.col('avg_cabin_class') * 20 +\n",
    "         pl.col('price_position_preference') / 2)\n",
    "        .alias('luxury_index'),\n",
    "\n",
    "        # Create advanced features\n",
    "        (pl.col('total_searches') / pl.col('unique_routes_searched').clip(1)).alias('search_intensity_per_route'),\n",
    "        (pl.col('max_booking_lead_days') - pl.col('min_booking_lead_days')).alias('lead_time_variance'),\n",
    "        (pl.col('avg_booking_lead_days') / pl.col('median_booking_lead_days').clip(1)).alias('lead_time_skew'),\n",
    "        (pl.col('unique_carriers_used') / pl.col('total_searches').clip(1)).alias('carrier_diversity'),\n",
    "        (pl.col('unique_departure_airports') / pl.col('total_searches').clip(1)).alias('airport_diversity'),\n",
    "        (pl.col('max_cabin_class') - pl.col('min_cabin_class')).alias('cabin_class_range'),\n",
    "        (pl.col('is_vip').cast(pl.Int8) * 2 + pl.col('has_corp_codes').is_not_null().cast(pl.Int8)).alias('customer_tier'),\n",
    "    ]\n",
    "\n",
    "\n",
    "def add_trip_duration(df: pl.DataFrame) -> pl.DataFrame:\n",
    "    \"\"\"Add trip duration to the DataFrame.\"\"\"\n",
    "    leg0_duration_minutes = parse_duration_to_minutes('legs0_duration')\n",
    "    leg1_duration_minutes = parse_duration_to_minutes('legs1_duration')\n",
    "    trip_duration_minutes = leg0_duration_minutes + leg1_duration_minutes\n",
    "\n",
    "    return df.with_columns([\n",
    "        leg0_duration_minutes.alias('leg0_duration_minutes'),\n",
    "        leg1_duration_minutes.alias('leg1_duration_minutes'),\n",
    "        trip_duration_minutes.alias('trip_duration_minutes'),\n",
    "    ])\n",
    "\n",
    "\n",
    "def create_windows_based_features(df) -> pl.DataFrame:\n",
    "    # Add window-based features like price_percentile if they don't exist\n",
    "    return (df.with_columns([\n",
    "        # calculate price percentile over search session\n",
    "        ((pl.col('totalPrice').rank(method='min').over('ranker_id') - 1) /\n",
    "        (pl.col('totalPrice').count().over('ranker_id') - 1) * 100)\n",
    "        .fill_null(50.0).alias('price_percentile'),\n",
    "\n",
    "        # calculate price quartiles over profileId\n",
    "        pl.col('totalPrice').quantile(0.25).over('profileId').alias('price_q25'),\n",
    "        pl.col('totalPrice').quantile(0.50).over('profileId').alias('price_q50'),\n",
    "        pl.col('totalPrice').quantile(0.75).over('profileId').alias('price_q75'),\n",
    "\n",
    "        # calculate leg0_duration quartiles over profileId\n",
    "        pl.col('leg0_duration_minutes').quantile(0.25).over('profileId').alias('leg0_duration_q25'),\n",
    "        pl.col('leg0_duration_minutes').quantile(0.50).over('profileId').alias('leg0_duration_q50'),\n",
    "        pl.col('leg0_duration_minutes').quantile(0.75).over('profileId').alias('leg0_duration_q75'),\n",
    "    ]))\n",
    "\n",
    "\n",
    "def create_interaction_features() -> List[pl.Expr]:\n",
    "    # Create customer/business interaction features\n",
    "    return [\n",
    "        # Create VIP interactions\n",
    "        (pl.col('search_intensity_per_route') * pl.col('is_vip')).alias('vip_search_intensity'),\n",
    "        (pl.col('carrier_diversity') * pl.col('is_vip')).alias('vip_carrier_diversity'),\n",
    "        (pl.col('avg_cabin_class') * pl.col('is_vip')).alias('vip_cabin_preference'),\n",
    "\n",
    "        # Create corporate interactions\n",
    "        (pl.col('total_searches') * pl.col('has_corp_codes')).alias('corp_search_volume'),\n",
    "        (pl.col('roundtrip_preference') * pl.col('has_corp_codes')).alias('corp_roundtrip_pref'),\n",
    "        (pl.col('lead_time_variance') * pl.col('has_corp_codes')).alias('corp_planning_variance'),\n",
    "    ]\n",
    "\n",
    "def extract_customer_features(df: pl.DataFrame) -> pl.DataFrame:\n",
    "    \"\"\"\n",
    "    Extract customer features for clustering analysis.\n",
    "    Aggregates by profileId to create customer-level features.\n",
    "    \"\"\"\n",
    "    # Check if already processed\n",
    "    if df.height > 0 and 'total_searches' in df.columns:\n",
    "        return df\n",
    "\n",
    "    # Get cabin class columns\n",
    "    cabin_class_cols = [col for col in df.columns if col.startswith('legs') and col.endswith('_cabinClass')]\n",
    "\n",
    "    # Create lazy frame and group by profileId\n",
    "    lazy_df = create_windows_based_features(add_trip_duration(df)).lazy().group_by('profileId')\n",
    "\n",
    "    # Apply customer feature groups\n",
    "    lazy_df = lazy_df.agg([\n",
    "        *create_customer_aggregation_features(),\n",
    "        *create_booking_lead_time_features(),\n",
    "        *create_travel_preference_features(),\n",
    "        *create_cabin_class_features(cabin_class_cols),\n",
    "        *create_temporal_preference_features(),\n",
    "        *create_route_specific_features(),\n",
    "        *create_price_sensitivity_features(),\n",
    "        *create_service_preference_features()\n",
    "    ])\n",
    "\n",
    "    # Materialize to generate the basic features\n",
    "    # base_features = customer_features.collect()\n",
    "\n",
    "    # Add the derived metrics that depend on the generated features\n",
    "    lazy_df = lazy_df.with_columns(create_derived_metrics())\n",
    "\n",
    "    # Add interactive features\n",
    "    lazy_df = lazy_df.with_columns(create_interaction_features())\n",
    "\n",
    "    # print(f\"Generated {len(enhanced_features.columns)} customer features for {len(enhanced_features)} customers\")\n",
    "    return lazy_df.collect().fill_null(0).fill_nan(0)"
   ],
   "id": "e03ccbc10cb46941",
   "outputs": [],
   "execution_count": 6
  },
  {
   "metadata": {
    "ExecuteTime": {
     "end_time": "2025-08-26T23:07:18.132689Z",
     "start_time": "2025-08-26T23:06:47.290099Z"
    }
   },
   "cell_type": "code",
   "source": [
    "cust_data = extract_customer_features(data)\n",
    "print(f'Generated {len(cust_data.columns)} customer features for {len(cust_data)} customers')"
   ],
   "id": "d575022b9db8a102",
   "outputs": [
    {
     "name": "stdout",
     "output_type": "stream",
     "text": [
      "Generated 58 customer features for 32922 customers\n"
     ]
    }
   ],
   "execution_count": 7
  },
  {
   "metadata": {
    "ExecuteTime": {
     "end_time": "2025-08-26T23:08:07.877918Z",
     "start_time": "2025-08-26T23:08:07.862408Z"
    }
   },
   "cell_type": "code",
   "source": "cust_data.head(100)",
   "id": "a8383ba70aa28872",
   "outputs": [
    {
     "data": {
      "text/plain": [
       "shape: (100, 58)\n",
       "┌───────────┬────────────┬─────┬────────────┬───┬────────────┬────────────┬────────────┬───────────┐\n",
       "│ profileId ┆ company_id ┆ sex ┆ nationalit ┆ … ┆ vip_cabin_ ┆ corp_searc ┆ corp_round ┆ corp_plan │\n",
       "│ ---       ┆ ---        ┆ --- ┆ y          ┆   ┆ preference ┆ h_volume   ┆ trip_pref  ┆ ning_vari │\n",
       "│ i64       ┆ i64        ┆ i8  ┆ ---        ┆   ┆ ---        ┆ ---        ┆ ---        ┆ ance      │\n",
       "│           ┆            ┆     ┆ i64        ┆   ┆ f64        ┆ i64        ┆ f64        ┆ ---       │\n",
       "│           ┆            ┆     ┆            ┆   ┆            ┆            ┆            ┆ i32       │\n",
       "╞═══════════╪════════════╪═════╪════════════╪═══╪════════════╪════════════╪════════════╪═══════════╡\n",
       "│ 3547026   ┆ 62262      ┆ 1   ┆ 36         ┆ … ┆ 0.0        ┆ 0          ┆ 0.0        ┆ 0         │\n",
       "│ 2468117   ┆ 42620      ┆ 1   ┆ 36         ┆ … ┆ 0.0        ┆ 517        ┆ 1.0        ┆ 1         │\n",
       "│ 3294975   ┆ 63398      ┆ 1   ┆ 36         ┆ … ┆ 0.0        ┆ 12         ┆ 1.0        ┆ 1         │\n",
       "│ 2547292   ┆ 58350      ┆ 1   ┆ 36         ┆ … ┆ 0.0        ┆ 0          ┆ 0.0        ┆ 0         │\n",
       "│ 2153918   ┆ 40253      ┆ 0   ┆ 36         ┆ … ┆ 0.0        ┆ 11         ┆ 0.0        ┆ 0         │\n",
       "│ …         ┆ …          ┆ …   ┆ …          ┆ … ┆ …          ┆ …          ┆ …          ┆ …         │\n",
       "│ 1119689   ┆ 27507      ┆ 1   ┆ 36         ┆ … ┆ 0.0        ┆ 35         ┆ 0.0        ┆ 4         │\n",
       "│ 3221567   ┆ 59457      ┆ 0   ┆ 36         ┆ … ┆ 0.0        ┆ 37         ┆ 1.0        ┆ 0         │\n",
       "│ 2444394   ┆ 53359      ┆ 1   ┆ 36         ┆ … ┆ 1.517241   ┆ 58         ┆ 0.0        ┆ 10        │\n",
       "│ 3602353   ┆ 58666      ┆ 0   ┆ 36         ┆ … ┆ 0.0        ┆ 304        ┆ 0.266447   ┆ 12        │\n",
       "│ 2018648   ┆ 36998      ┆ 1   ┆ 36         ┆ … ┆ 0.0        ┆ 0          ┆ 0.0        ┆ 0         │\n",
       "└───────────┴────────────┴─────┴────────────┴───┴────────────┴────────────┴────────────┴───────────┘"
      ],
      "text/html": [
       "<div><style>\n",
       ".dataframe > thead > tr,\n",
       ".dataframe > tbody > tr {\n",
       "  text-align: right;\n",
       "  white-space: pre-wrap;\n",
       "}\n",
       "</style>\n",
       "<small>shape: (100, 58)</small><table border=\"1\" class=\"dataframe\"><thead><tr><th>profileId</th><th>company_id</th><th>sex</th><th>nationality</th><th>frequent_flyer</th><th>is_vip</th><th>by_self</th><th>has_corp_codes</th><th>total_searches</th><th>roundtrip_preference</th><th>unique_routes_searched</th><th>min_booking_lead_days</th><th>max_booking_lead_days</th><th>avg_booking_lead_days</th><th>median_booking_lead_days</th><th>most_common_departure_airport</th><th>unique_departure_airports</th><th>most_common_carrier</th><th>unique_carriers_used</th><th>min_cabin_class</th><th>max_cabin_class</th><th>avg_cabin_class</th><th>weekday_preference</th><th>weekend_travel_rate</th><th>time_of_day_variance</th><th>night_flight_preference</th><th>route_loyalty</th><th>hub_preference</th><th>short_haul_preference</th><th>connection_tolerance</th><th>preferred_duration_quartile</th><th>price_to_duration_sensitivity</th><th>avg_price_per_minute</th><th>price_per_minute_variance</th><th>price_position_preference</th><th>premium_economy_preference</th><th>consistent_price_tier</th><th>preferred_price_tier</th><th>baggage_qty_preference</th><th>baggage_weight_preference</th><th>loyalty_program_utilization</th><th>convenience_priority_score</th><th>loyalty_vs_price_index</th><th>planning_consistency_score</th><th>luxury_index</th><th>search_intensity_per_route</th><th>lead_time_variance</th><th>lead_time_skew</th><th>carrier_diversity</th><th>airport_diversity</th><th>cabin_class_range</th><th>customer_tier</th><th>vip_search_intensity</th><th>vip_carrier_diversity</th><th>vip_cabin_preference</th><th>corp_search_volume</th><th>corp_roundtrip_pref</th><th>corp_planning_variance</th></tr><tr><td>i64</td><td>i64</td><td>i8</td><td>i64</td><td>str</td><td>i8</td><td>i8</td><td>i8</td><td>u32</td><td>f64</td><td>u32</td><td>i32</td><td>i32</td><td>f64</td><td>f64</td><td>str</td><td>u32</td><td>str</td><td>u32</td><td>f64</td><td>f64</td><td>f64</td><td>i8</td><td>f64</td><td>f64</td><td>f64</td><td>f64</td><td>f64</td><td>f64</td><td>f64</td><td>i32</td><td>f64</td><td>f64</td><td>f64</td><td>f64</td><td>f64</td><td>f64</td><td>i32</td><td>f64</td><td>f64</td><td>f64</td><td>f64</td><td>f64</td><td>f64</td><td>f64</td><td>f64</td><td>i32</td><td>f64</td><td>f64</td><td>f64</td><td>f64</td><td>i8</td><td>f64</td><td>f64</td><td>f64</td><td>i64</td><td>f64</td><td>i32</td></tr></thead><tbody><tr><td>3547026</td><td>62262</td><td>1</td><td>36</td><td>&quot;SU&quot;</td><td>0</td><td>1</td><td>0</td><td>464</td><td>1.0</td><td>1</td><td>30</td><td>31</td><td>30.549569</td><td>31.0</td><td>&quot;DME&quot;</td><td>4</td><td>&quot;U6&quot;</td><td>5</td><td>1.0</td><td>2.0</td><td>1.072917</td><td>4</td><td>0.0</td><td>6.617567</td><td>0.344828</td><td>0.997845</td><td>0.0</td><td>0.0</td><td>1.700431</td><td>1</td><td>0.154816</td><td>49.496154</td><td>61.528717</td><td>49.050421</td><td>0.067888</td><td>0.634882</td><td>3</td><td>0.918103</td><td>0.0</td><td>1.0</td><td>-55.401591</td><td>5.094958</td><td>0.5</td><td>45.983544</td><td>464.0</td><td>1</td><td>0.98547</td><td>0.010776</td><td>0.008621</td><td>1.0</td><td>1</td><td>0.0</td><td>0.0</td><td>0.0</td><td>0</td><td>0.0</td><td>0</td></tr><tr><td>2468117</td><td>42620</td><td>1</td><td>36</td><td>&quot;&quot;</td><td>0</td><td>1</td><td>1</td><td>517</td><td>1.0</td><td>1</td><td>1</td><td>2</td><td>1.448743</td><td>1.0</td><td>&quot;KUF&quot;</td><td>1</td><td>&quot;SU&quot;</td><td>7</td><td>1.0</td><td>1.0</td><td>1.0</td><td>3</td><td>0.0</td><td>5.138309</td><td>0.226306</td><td>0.998066</td><td>0.0</td><td>0.366226</td><td>1.05029</td><td>1</td><td>0.067044</td><td>114.55567</td><td>70.852326</td><td>49.775741</td><td>0.0</td><td>0.627839</td><td>1</td><td>0.479691</td><td>0.0</td><td>0.0</td><td>-41.047868</td><td>-4.977574</td><td>0.5</td><td>44.887871</td><td>517.0</td><td>1</td><td>1.448743</td><td>0.01354</td><td>0.001934</td><td>0.0</td><td>1</td><td>0.0</td><td>0.0</td><td>0.0</td><td>517</td><td>1.0</td><td>1</td></tr><tr><td>3294975</td><td>63398</td><td>1</td><td>36</td><td>&quot;&quot;</td><td>0</td><td>1</td><td>1</td><td>12</td><td>1.0</td><td>1</td><td>16</td><td>17</td><td>16.666667</td><td>17.0</td><td>&quot;PEZ&quot;</td><td>1</td><td>&quot;SU&quot;</td><td>1</td><td>1.0</td><td>1.0</td><td>1.0</td><td>5</td><td>1.0</td><td>4.748205</td><td>0.333333</td><td>0.916667</td><td>0.0</td><td>0.65</td><td>1.0</td><td>1</td><td>0.420958</td><td>121.35422</td><td>28.21127</td><td>50.0</td><td>0.0</td><td>0.589695</td><td>1</td><td>1.5</td><td>0.0</td><td>0.0</td><td>-35.377263</td><td>-5.0</td><td>0.5</td><td>45.0</td><td>12.0</td><td>1</td><td>0.980392</td><td>0.083333</td><td>0.083333</td><td>0.0</td><td>1</td><td>0.0</td><td>0.0</td><td>0.0</td><td>12</td><td>1.0</td><td>1</td></tr><tr><td>2547292</td><td>58350</td><td>1</td><td>36</td><td>&quot;&quot;</td><td>0</td><td>1</td><td>0</td><td>318</td><td>1.0</td><td>2</td><td>8</td><td>13</td><td>9.427673</td><td>8.0</td><td>&quot;OVB&quot;</td><td>1</td><td>&quot;S7&quot;</td><td>7</td><td>1.0</td><td>1.0</td><td>1.0</td><td>3</td><td>0.0</td><td>5.615115</td><td>0.075472</td><td>0.993711</td><td>0.0</td><td>0.0</td><td>1.0</td><td>2</td><td>0.105628</td><td>121.580331</td><td>45.047243</td><td>47.60402</td><td>0.0</td><td>0.625869</td><td>2</td><td>1.062893</td><td>0.0</td><td>0.0</td><td>-45.623005</td><td>-4.760402</td><td>0.166667</td><td>43.80201</td><td>159.0</td><td>5</td><td>1.178459</td><td>0.022013</td><td>0.003145</td><td>0.0</td><td>1</td><td>0.0</td><td>0.0</td><td>0.0</td><td>0</td><td>0.0</td><td>0</td></tr><tr><td>2153918</td><td>40253</td><td>0</td><td>36</td><td>&quot;&quot;</td><td>0</td><td>1</td><td>1</td><td>11</td><td>0.0</td><td>1</td><td>14</td><td>14</td><td>14.0</td><td>14.0</td><td>&quot;OVB&quot;</td><td>1</td><td>&quot;S7&quot;</td><td>1</td><td>1.0</td><td>1.0</td><td>1.0</td><td>1</td><td>0.0</td><td>3.744086</td><td>0.0</td><td>0.909091</td><td>0.0</td><td>0.0</td><td>1.818182</td><td>1</td><td>0.662494</td><td>46.663264</td><td>18.331365</td><td>47.272727</td><td>0.0</td><td>0.651845</td><td>1</td><td>0.636364</td><td>0.0</td><td>0.0</td><td>-24.128393</td><td>-4.727273</td><td>1.0</td><td>43.636364</td><td>11.0</td><td>0</td><td>1.0</td><td>0.090909</td><td>0.090909</td><td>0.0</td><td>1</td><td>0.0</td><td>0.0</td><td>0.0</td><td>11</td><td>0.0</td><td>0</td></tr><tr><td>&hellip;</td><td>&hellip;</td><td>&hellip;</td><td>&hellip;</td><td>&hellip;</td><td>&hellip;</td><td>&hellip;</td><td>&hellip;</td><td>&hellip;</td><td>&hellip;</td><td>&hellip;</td><td>&hellip;</td><td>&hellip;</td><td>&hellip;</td><td>&hellip;</td><td>&hellip;</td><td>&hellip;</td><td>&hellip;</td><td>&hellip;</td><td>&hellip;</td><td>&hellip;</td><td>&hellip;</td><td>&hellip;</td><td>&hellip;</td><td>&hellip;</td><td>&hellip;</td><td>&hellip;</td><td>&hellip;</td><td>&hellip;</td><td>&hellip;</td><td>&hellip;</td><td>&hellip;</td><td>&hellip;</td><td>&hellip;</td><td>&hellip;</td><td>&hellip;</td><td>&hellip;</td><td>&hellip;</td><td>&hellip;</td><td>&hellip;</td><td>&hellip;</td><td>&hellip;</td><td>&hellip;</td><td>&hellip;</td><td>&hellip;</td><td>&hellip;</td><td>&hellip;</td><td>&hellip;</td><td>&hellip;</td><td>&hellip;</td><td>&hellip;</td><td>&hellip;</td><td>&hellip;</td><td>&hellip;</td><td>&hellip;</td><td>&hellip;</td><td>&hellip;</td><td>&hellip;</td></tr><tr><td>1119689</td><td>27507</td><td>1</td><td>36</td><td>&quot;&quot;</td><td>0</td><td>1</td><td>1</td><td>35</td><td>0.0</td><td>2</td><td>5</td><td>9</td><td>7.428571</td><td>8.0</td><td>&quot;NBC&quot;</td><td>2</td><td>&quot;SU&quot;</td><td>3</td><td>1.0</td><td>1.0</td><td>1.0</td><td>4</td><td>0.0</td><td>5.661012</td><td>0.257143</td><td>0.942857</td><td>0.0</td><td>0.249524</td><td>1.057143</td><td>3</td><td>0.730338</td><td>75.117679</td><td>34.884892</td><td>48.268398</td><td>0.0</td><td>0.618348</td><td>1</td><td>0.857143</td><td>0.0</td><td>0.0</td><td>-42.95843</td><td>-4.82684</td><td>0.2</td><td>44.134199</td><td>17.5</td><td>4</td><td>0.928571</td><td>0.085714</td><td>0.057143</td><td>0.0</td><td>1</td><td>0.0</td><td>0.0</td><td>0.0</td><td>35</td><td>0.0</td><td>4</td></tr><tr><td>3221567</td><td>59457</td><td>0</td><td>36</td><td>&quot;SU/UT/S7&quot;</td><td>0</td><td>1</td><td>1</td><td>37</td><td>1.0</td><td>1</td><td>22</td><td>22</td><td>22.0</td><td>22.0</td><td>&quot;NJC&quot;</td><td>1</td><td>&quot;7R&quot;</td><td>4</td><td>1.0</td><td>1.0</td><td>1.0</td><td>3</td><td>0.0</td><td>2.088148</td><td>0.081081</td><td>0.972973</td><td>0.0</td><td>0.0</td><td>1.918919</td><td>1</td><td>0.006442</td><td>38.617445</td><td>20.45318</td><td>48.198198</td><td>0.0</td><td>0.611433</td><td>1</td><td>0.243243</td><td>0.0</td><td>1.0</td><td>-10.849265</td><td>5.18018</td><td>1.0</td><td>44.099099</td><td>37.0</td><td>0</td><td>1.0</td><td>0.108108</td><td>0.027027</td><td>0.0</td><td>1</td><td>0.0</td><td>0.0</td><td>0.0</td><td>37</td><td>1.0</td><td>0</td></tr><tr><td>2444394</td><td>53359</td><td>1</td><td>36</td><td>&quot;&quot;</td><td>1</td><td>1</td><td>1</td><td>58</td><td>0.0</td><td>2</td><td>42</td><td>52</td><td>44.206897</td><td>45.0</td><td>&quot;IKT&quot;</td><td>2</td><td>&quot;SU&quot;</td><td>4</td><td>1.0</td><td>4.0</td><td>1.517241</td><td>6</td><td>1.0</td><td>4.156824</td><td>0.224138</td><td>0.965517</td><td>0.0</td><td>0.0</td><td>1.310345</td><td>1</td><td>0.720128</td><td>75.185378</td><td>46.901084</td><td>48.761271</td><td>0.0</td><td>0.615406</td><td>1</td><td>1.017241</td><td>20.0</td><td>0.0</td><td>-27.967602</td><td>-4.876127</td><td>0.090909</td><td>54.725463</td><td>29.0</td><td>10</td><td>0.982375</td><td>0.068966</td><td>0.034483</td><td>3.0</td><td>3</td><td>29.0</td><td>0.068966</td><td>1.517241</td><td>58</td><td>0.0</td><td>10</td></tr><tr><td>3602353</td><td>58666</td><td>0</td><td>36</td><td>&quot;&quot;</td><td>0</td><td>1</td><td>1</td><td>304</td><td>0.266447</td><td>3</td><td>3</td><td>15</td><td>7.430921</td><td>3.0</td><td>&quot;LED&quot;</td><td>2</td><td>&quot;SU&quot;</td><td>3</td><td>1.0</td><td>1.0</td><td>1.0</td><td>1</td><td>0.394737</td><td>3.487683</td><td>0.0</td><td>0.990132</td><td>0.0</td><td>0.0</td><td>1.802632</td><td>1</td><td>0.440627</td><td>52.964282</td><td>28.222618</td><td>49.139627</td><td>0.0</td><td>0.622856</td><td>1</td><td>0.825658</td><td>0.0</td><td>0.0</td><td>-22.673694</td><td>-4.913963</td><td>0.076923</td><td>44.569814</td><td>101.333333</td><td>12</td><td>2.476974</td><td>0.009868</td><td>0.006579</td><td>0.0</td><td>1</td><td>0.0</td><td>0.0</td><td>0.0</td><td>304</td><td>0.266447</td><td>12</td></tr><tr><td>2018648</td><td>36998</td><td>1</td><td>36</td><td>&quot;&quot;</td><td>0</td><td>1</td><td>0</td><td>74</td><td>1.0</td><td>2</td><td>5</td><td>24</td><td>16.540541</td><td>10.0</td><td>&quot;SVO&quot;</td><td>2</td><td>&quot;SU&quot;</td><td>3</td><td>1.0</td><td>2.0</td><td>1.011261</td><td>1</td><td>0.0</td><td>6.011235</td><td>0.27027</td><td>0.972973</td><td>0.0</td><td>0.538739</td><td>1.013514</td><td>1</td><td>0.201169</td><td>76.785647</td><td>35.365029</td><td>48.841699</td><td>0.02027</td><td>0.624888</td><td>1</td><td>0.810811</td><td>0.0</td><td>0.0</td><td>-49.106508</td><td>-4.88417</td><td>0.05</td><td>44.646075</td><td>37.0</td><td>19</td><td>1.654054</td><td>0.040541</td><td>0.027027</td><td>1.0</td><td>1</td><td>0.0</td><td>0.0</td><td>0.0</td><td>0</td><td>0.0</td><td>0</td></tr></tbody></table></div>"
      ]
     },
     "execution_count": 8,
     "metadata": {},
     "output_type": "execute_result"
    }
   ],
   "execution_count": 8
  },
  {
   "metadata": {
    "ExecuteTime": {
     "end_time": "2025-08-16T20:47:23.133604Z",
     "start_time": "2025-08-16T20:47:23.077988Z"
    }
   },
   "cell_type": "code",
   "source": "data.filter(pl.col('profileId') == 1076167)",
   "id": "7f7824d5c0ca4c20",
   "outputs": [
    {
     "data": {
      "text/plain": [
       "shape: (1_005, 127)\n",
       "┌─────────┬────────┬───────────┬───────────────┬───┬────────┬────────────┬──────────┬──────────────┐\n",
       "│ Id      ┆ bySelf ┆ companyID ┆ corporateTari ┆ … ┆ taxes  ┆ totalPrice ┆ selected ┆ __index_leve │\n",
       "│ ---     ┆ ---    ┆ ---       ┆ ffCode        ┆   ┆ ---    ┆ ---        ┆ ---      ┆ l_0__        │\n",
       "│ i64     ┆ bool   ┆ i64       ┆ ---           ┆   ┆ f64    ┆ f64        ┆ i64      ┆ ---          │\n",
       "│         ┆        ┆           ┆ i64           ┆   ┆        ┆            ┆          ┆ i64          │\n",
       "╞═════════╪════════╪═══════════╪═══════════════╪═══╪════════╪════════════╪══════════╪══════════════╡\n",
       "│ 1456197 ┆ true   ┆ 43648     ┆ null          ┆ … ┆ 2352.0 ┆ 16471.0    ┆ 0        ┆ 1456197      │\n",
       "│ 1456198 ┆ true   ┆ 43648     ┆ null          ┆ … ┆ 605.0  ┆ 17494.0    ┆ 0        ┆ 1456198      │\n",
       "│ 1456199 ┆ true   ┆ 43648     ┆ null          ┆ … ┆ 550.0  ┆ 16548.0    ┆ 0        ┆ 1456199      │\n",
       "│ 1456200 ┆ true   ┆ 43648     ┆ null          ┆ … ┆ 550.0  ┆ 20248.0    ┆ 0        ┆ 1456200      │\n",
       "│ 1456201 ┆ true   ┆ 43648     ┆ null          ┆ … ┆ 550.0  ┆ 26398.0    ┆ 0        ┆ 1456201      │\n",
       "│ …       ┆ …      ┆ …         ┆ …             ┆ … ┆ …      ┆ …          ┆ …        ┆ …            │\n",
       "│ 1457197 ┆ true   ┆ 43648     ┆ null          ┆ … ┆ 1258.0 ┆ 41258.0    ┆ 0        ┆ 1457197      │\n",
       "│ 1457198 ┆ true   ┆ 43648     ┆ null          ┆ … ┆ 1258.0 ┆ 41458.0    ┆ 0        ┆ 1457198      │\n",
       "│ 1457199 ┆ true   ┆ 43648     ┆ null          ┆ … ┆ 1258.0 ┆ 54858.0    ┆ 0        ┆ 1457199      │\n",
       "│ 1457200 ┆ true   ┆ 43648     ┆ null          ┆ … ┆ 1258.0 ┆ 55258.0    ┆ 0        ┆ 1457200      │\n",
       "│ 1457201 ┆ true   ┆ 43648     ┆ null          ┆ … ┆ 1258.0 ┆ 83258.0    ┆ 0        ┆ 1457201      │\n",
       "└─────────┴────────┴───────────┴───────────────┴───┴────────┴────────────┴──────────┴──────────────┘"
      ],
      "text/html": [
       "<div><style>\n",
       ".dataframe > thead > tr,\n",
       ".dataframe > tbody > tr {\n",
       "  text-align: right;\n",
       "  white-space: pre-wrap;\n",
       "}\n",
       "</style>\n",
       "<small>shape: (1_005, 127)</small><table border=\"1\" class=\"dataframe\"><thead><tr><th>Id</th><th>bySelf</th><th>companyID</th><th>corporateTariffCode</th><th>frequentFlyer</th><th>nationality</th><th>isAccess3D</th><th>isVip</th><th>legs0_arrivalAt</th><th>legs0_departureAt</th><th>legs0_duration</th><th>legs0_segments0_aircraft_code</th><th>legs0_segments0_arrivalTo_airport_city_iata</th><th>legs0_segments0_arrivalTo_airport_iata</th><th>legs0_segments0_baggageAllowance_quantity</th><th>legs0_segments0_baggageAllowance_weightMeasurementType</th><th>legs0_segments0_cabinClass</th><th>legs0_segments0_departureFrom_airport_iata</th><th>legs0_segments0_duration</th><th>legs0_segments0_flightNumber</th><th>legs0_segments0_marketingCarrier_code</th><th>legs0_segments0_operatingCarrier_code</th><th>legs0_segments0_seatsAvailable</th><th>legs0_segments1_aircraft_code</th><th>legs0_segments1_arrivalTo_airport_city_iata</th><th>legs0_segments1_arrivalTo_airport_iata</th><th>legs0_segments1_baggageAllowance_quantity</th><th>legs0_segments1_baggageAllowance_weightMeasurementType</th><th>legs0_segments1_cabinClass</th><th>legs0_segments1_departureFrom_airport_iata</th><th>legs0_segments1_duration</th><th>legs0_segments1_flightNumber</th><th>legs0_segments1_marketingCarrier_code</th><th>legs0_segments1_operatingCarrier_code</th><th>legs0_segments1_seatsAvailable</th><th>legs0_segments2_aircraft_code</th><th>legs0_segments2_arrivalTo_airport_city_iata</th><th>&hellip;</th><th>legs1_segments2_baggageAllowance_weightMeasurementType</th><th>legs1_segments2_cabinClass</th><th>legs1_segments2_departureFrom_airport_iata</th><th>legs1_segments2_duration</th><th>legs1_segments2_flightNumber</th><th>legs1_segments2_marketingCarrier_code</th><th>legs1_segments2_operatingCarrier_code</th><th>legs1_segments2_seatsAvailable</th><th>legs1_segments3_aircraft_code</th><th>legs1_segments3_arrivalTo_airport_city_iata</th><th>legs1_segments3_arrivalTo_airport_iata</th><th>legs1_segments3_baggageAllowance_quantity</th><th>legs1_segments3_baggageAllowance_weightMeasurementType</th><th>legs1_segments3_cabinClass</th><th>legs1_segments3_departureFrom_airport_iata</th><th>legs1_segments3_duration</th><th>legs1_segments3_flightNumber</th><th>legs1_segments3_marketingCarrier_code</th><th>legs1_segments3_operatingCarrier_code</th><th>legs1_segments3_seatsAvailable</th><th>miniRules0_monetaryAmount</th><th>miniRules0_percentage</th><th>miniRules0_statusInfos</th><th>miniRules1_monetaryAmount</th><th>miniRules1_percentage</th><th>miniRules1_statusInfos</th><th>pricingInfo_isAccessTP</th><th>pricingInfo_passengerCount</th><th>profileId</th><th>ranker_id</th><th>requestDate</th><th>searchRoute</th><th>sex</th><th>taxes</th><th>totalPrice</th><th>selected</th><th>__index_level_0__</th></tr><tr><td>i64</td><td>bool</td><td>i64</td><td>i64</td><td>str</td><td>i64</td><td>bool</td><td>bool</td><td>str</td><td>str</td><td>str</td><td>str</td><td>str</td><td>str</td><td>f64</td><td>f64</td><td>f64</td><td>str</td><td>str</td><td>str</td><td>str</td><td>str</td><td>f64</td><td>str</td><td>str</td><td>str</td><td>f64</td><td>f64</td><td>f64</td><td>str</td><td>str</td><td>str</td><td>str</td><td>str</td><td>f64</td><td>str</td><td>str</td><td>&hellip;</td><td>f64</td><td>f64</td><td>str</td><td>str</td><td>str</td><td>str</td><td>str</td><td>f64</td><td>str</td><td>str</td><td>str</td><td>f64</td><td>f64</td><td>f64</td><td>str</td><td>str</td><td>str</td><td>str</td><td>str</td><td>f64</td><td>f64</td><td>f64</td><td>f64</td><td>f64</td><td>f64</td><td>f64</td><td>f64</td><td>i64</td><td>i64</td><td>str</td><td>datetime[ns]</td><td>str</td><td>bool</td><td>f64</td><td>f64</td><td>i64</td><td>i64</td></tr></thead><tbody><tr><td>1456197</td><td>true</td><td>43648</td><td>null</td><td>&quot;SU&quot;</td><td>36</td><td>false</td><td>false</td><td>&quot;2024-06-26T15:40:00&quot;</td><td>&quot;2024-06-26T14:00:00&quot;</td><td>&quot;02:40:00&quot;</td><td>&quot;73H&quot;</td><td>&quot;KGD&quot;</td><td>&quot;KGD&quot;</td><td>0.0</td><td>0.0</td><td>1.0</td><td>&quot;SVO&quot;</td><td>&quot;02:40:00&quot;</td><td>&quot;6835&quot;</td><td>&quot;DP&quot;</td><td>&quot;DP&quot;</td><td>1.0</td><td>null</td><td>null</td><td>null</td><td>null</td><td>null</td><td>null</td><td>null</td><td>null</td><td>null</td><td>null</td><td>null</td><td>null</td><td>null</td><td>null</td><td>&hellip;</td><td>null</td><td>null</td><td>null</td><td>null</td><td>null</td><td>null</td><td>null</td><td>null</td><td>null</td><td>null</td><td>null</td><td>null</td><td>null</td><td>null</td><td>null</td><td>null</td><td>null</td><td>null</td><td>null</td><td>null</td><td>null</td><td>null</td><td>null</td><td>null</td><td>null</td><td>null</td><td>1.0</td><td>1</td><td>1076167</td><td>&quot;3080ece7142443cc86655ac22dd609…</td><td>2024-06-07 15:27:54</td><td>&quot;MOWKGD/KGDMOW&quot;</td><td>false</td><td>2352.0</td><td>16471.0</td><td>0</td><td>1456197</td></tr><tr><td>1456198</td><td>true</td><td>43648</td><td>null</td><td>&quot;SU&quot;</td><td>36</td><td>false</td><td>false</td><td>&quot;2024-06-26T15:30:00&quot;</td><td>&quot;2024-06-26T13:55:00&quot;</td><td>&quot;02:35:00&quot;</td><td>&quot;738&quot;</td><td>&quot;KGD&quot;</td><td>&quot;KGD&quot;</td><td>0.0</td><td>0.0</td><td>1.0</td><td>&quot;SVO&quot;</td><td>&quot;02:35:00&quot;</td><td>&quot;253&quot;</td><td>&quot;5N&quot;</td><td>&quot;5N&quot;</td><td>9.0</td><td>null</td><td>null</td><td>null</td><td>null</td><td>null</td><td>null</td><td>null</td><td>null</td><td>null</td><td>null</td><td>null</td><td>null</td><td>null</td><td>null</td><td>&hellip;</td><td>null</td><td>null</td><td>null</td><td>null</td><td>null</td><td>null</td><td>null</td><td>null</td><td>null</td><td>null</td><td>null</td><td>null</td><td>null</td><td>null</td><td>null</td><td>null</td><td>null</td><td>null</td><td>null</td><td>null</td><td>null</td><td>null</td><td>null</td><td>null</td><td>null</td><td>null</td><td>1.0</td><td>1</td><td>1076167</td><td>&quot;3080ece7142443cc86655ac22dd609…</td><td>2024-06-07 15:27:54</td><td>&quot;MOWKGD/KGDMOW&quot;</td><td>false</td><td>605.0</td><td>17494.0</td><td>0</td><td>1456198</td></tr><tr><td>1456199</td><td>true</td><td>43648</td><td>null</td><td>&quot;SU&quot;</td><td>36</td><td>false</td><td>false</td><td>&quot;2024-06-26T15:40:00&quot;</td><td>&quot;2024-06-26T14:00:00&quot;</td><td>&quot;02:40:00&quot;</td><td>&quot;73H&quot;</td><td>&quot;KGD&quot;</td><td>&quot;KGD&quot;</td><td>0.0</td><td>0.0</td><td>1.0</td><td>&quot;SVO&quot;</td><td>&quot;02:40:00&quot;</td><td>&quot;6835&quot;</td><td>&quot;DP&quot;</td><td>&quot;DP&quot;</td><td>1.0</td><td>null</td><td>null</td><td>null</td><td>null</td><td>null</td><td>null</td><td>null</td><td>null</td><td>null</td><td>null</td><td>null</td><td>null</td><td>null</td><td>null</td><td>&hellip;</td><td>null</td><td>null</td><td>null</td><td>null</td><td>null</td><td>null</td><td>null</td><td>null</td><td>null</td><td>null</td><td>null</td><td>null</td><td>null</td><td>null</td><td>null</td><td>null</td><td>null</td><td>null</td><td>null</td><td>null</td><td>null</td><td>null</td><td>null</td><td>null</td><td>null</td><td>null</td><td>1.0</td><td>1</td><td>1076167</td><td>&quot;3080ece7142443cc86655ac22dd609…</td><td>2024-06-07 15:27:54</td><td>&quot;MOWKGD/KGDMOW&quot;</td><td>false</td><td>550.0</td><td>16548.0</td><td>0</td><td>1456199</td></tr><tr><td>1456200</td><td>true</td><td>43648</td><td>null</td><td>&quot;SU&quot;</td><td>36</td><td>false</td><td>false</td><td>&quot;2024-06-26T15:40:00&quot;</td><td>&quot;2024-06-26T14:00:00&quot;</td><td>&quot;02:40:00&quot;</td><td>&quot;73H&quot;</td><td>&quot;KGD&quot;</td><td>&quot;KGD&quot;</td><td>1.0</td><td>0.0</td><td>1.0</td><td>&quot;SVO&quot;</td><td>&quot;02:40:00&quot;</td><td>&quot;6835&quot;</td><td>&quot;DP&quot;</td><td>&quot;DP&quot;</td><td>1.0</td><td>null</td><td>null</td><td>null</td><td>null</td><td>null</td><td>null</td><td>null</td><td>null</td><td>null</td><td>null</td><td>null</td><td>null</td><td>null</td><td>null</td><td>&hellip;</td><td>null</td><td>null</td><td>null</td><td>null</td><td>null</td><td>null</td><td>null</td><td>null</td><td>null</td><td>null</td><td>null</td><td>null</td><td>null</td><td>null</td><td>null</td><td>null</td><td>null</td><td>null</td><td>null</td><td>null</td><td>null</td><td>null</td><td>null</td><td>null</td><td>null</td><td>null</td><td>1.0</td><td>1</td><td>1076167</td><td>&quot;3080ece7142443cc86655ac22dd609…</td><td>2024-06-07 15:27:54</td><td>&quot;MOWKGD/KGDMOW&quot;</td><td>false</td><td>550.0</td><td>20248.0</td><td>0</td><td>1456200</td></tr><tr><td>1456201</td><td>true</td><td>43648</td><td>null</td><td>&quot;SU&quot;</td><td>36</td><td>false</td><td>false</td><td>&quot;2024-06-26T15:40:00&quot;</td><td>&quot;2024-06-26T14:00:00&quot;</td><td>&quot;02:40:00&quot;</td><td>&quot;73H&quot;</td><td>&quot;KGD&quot;</td><td>&quot;KGD&quot;</td><td>1.0</td><td>0.0</td><td>1.0</td><td>&quot;SVO&quot;</td><td>&quot;02:40:00&quot;</td><td>&quot;6835&quot;</td><td>&quot;DP&quot;</td><td>&quot;DP&quot;</td><td>1.0</td><td>null</td><td>null</td><td>null</td><td>null</td><td>null</td><td>null</td><td>null</td><td>null</td><td>null</td><td>null</td><td>null</td><td>null</td><td>null</td><td>null</td><td>&hellip;</td><td>null</td><td>null</td><td>null</td><td>null</td><td>null</td><td>null</td><td>null</td><td>null</td><td>null</td><td>null</td><td>null</td><td>null</td><td>null</td><td>null</td><td>null</td><td>null</td><td>null</td><td>null</td><td>null</td><td>null</td><td>null</td><td>null</td><td>null</td><td>null</td><td>null</td><td>null</td><td>1.0</td><td>1</td><td>1076167</td><td>&quot;3080ece7142443cc86655ac22dd609…</td><td>2024-06-07 15:27:54</td><td>&quot;MOWKGD/KGDMOW&quot;</td><td>false</td><td>550.0</td><td>26398.0</td><td>0</td><td>1456201</td></tr><tr><td>&hellip;</td><td>&hellip;</td><td>&hellip;</td><td>&hellip;</td><td>&hellip;</td><td>&hellip;</td><td>&hellip;</td><td>&hellip;</td><td>&hellip;</td><td>&hellip;</td><td>&hellip;</td><td>&hellip;</td><td>&hellip;</td><td>&hellip;</td><td>&hellip;</td><td>&hellip;</td><td>&hellip;</td><td>&hellip;</td><td>&hellip;</td><td>&hellip;</td><td>&hellip;</td><td>&hellip;</td><td>&hellip;</td><td>&hellip;</td><td>&hellip;</td><td>&hellip;</td><td>&hellip;</td><td>&hellip;</td><td>&hellip;</td><td>&hellip;</td><td>&hellip;</td><td>&hellip;</td><td>&hellip;</td><td>&hellip;</td><td>&hellip;</td><td>&hellip;</td><td>&hellip;</td><td>&hellip;</td><td>&hellip;</td><td>&hellip;</td><td>&hellip;</td><td>&hellip;</td><td>&hellip;</td><td>&hellip;</td><td>&hellip;</td><td>&hellip;</td><td>&hellip;</td><td>&hellip;</td><td>&hellip;</td><td>&hellip;</td><td>&hellip;</td><td>&hellip;</td><td>&hellip;</td><td>&hellip;</td><td>&hellip;</td><td>&hellip;</td><td>&hellip;</td><td>&hellip;</td><td>&hellip;</td><td>&hellip;</td><td>&hellip;</td><td>&hellip;</td><td>&hellip;</td><td>&hellip;</td><td>&hellip;</td><td>&hellip;</td><td>&hellip;</td><td>&hellip;</td><td>&hellip;</td><td>&hellip;</td><td>&hellip;</td><td>&hellip;</td><td>&hellip;</td><td>&hellip;</td><td>&hellip;</td></tr><tr><td>1457197</td><td>true</td><td>43648</td><td>null</td><td>&quot;SU&quot;</td><td>36</td><td>false</td><td>false</td><td>&quot;2024-06-26T13:40:00&quot;</td><td>&quot;2024-06-26T12:05:00&quot;</td><td>&quot;02:35:00&quot;</td><td>&quot;32B&quot;</td><td>&quot;KGD&quot;</td><td>&quot;KGD&quot;</td><td>1.0</td><td>0.0</td><td>2.0</td><td>&quot;SVO&quot;</td><td>&quot;02:35:00&quot;</td><td>&quot;1018&quot;</td><td>&quot;SU&quot;</td><td>&quot;SU&quot;</td><td>1.0</td><td>null</td><td>null</td><td>null</td><td>null</td><td>null</td><td>null</td><td>null</td><td>null</td><td>null</td><td>null</td><td>null</td><td>null</td><td>null</td><td>null</td><td>&hellip;</td><td>null</td><td>null</td><td>null</td><td>null</td><td>null</td><td>null</td><td>null</td><td>null</td><td>null</td><td>null</td><td>null</td><td>null</td><td>null</td><td>null</td><td>null</td><td>null</td><td>null</td><td>null</td><td>null</td><td>null</td><td>2800.0</td><td>null</td><td>1.0</td><td>0.0</td><td>null</td><td>0.0</td><td>0.0</td><td>1</td><td>1076167</td><td>&quot;3080ece7142443cc86655ac22dd609…</td><td>2024-06-07 15:27:54</td><td>&quot;MOWKGD/KGDMOW&quot;</td><td>false</td><td>1258.0</td><td>41258.0</td><td>0</td><td>1457197</td></tr><tr><td>1457198</td><td>true</td><td>43648</td><td>null</td><td>&quot;SU&quot;</td><td>36</td><td>false</td><td>false</td><td>&quot;2024-06-26T13:40:00&quot;</td><td>&quot;2024-06-26T12:05:00&quot;</td><td>&quot;02:35:00&quot;</td><td>&quot;32B&quot;</td><td>&quot;KGD&quot;</td><td>&quot;KGD&quot;</td><td>1.0</td><td>0.0</td><td>4.0</td><td>&quot;SVO&quot;</td><td>&quot;02:35:00&quot;</td><td>&quot;1018&quot;</td><td>&quot;SU&quot;</td><td>&quot;SU&quot;</td><td>9.0</td><td>null</td><td>null</td><td>null</td><td>null</td><td>null</td><td>null</td><td>null</td><td>null</td><td>null</td><td>null</td><td>null</td><td>null</td><td>null</td><td>null</td><td>&hellip;</td><td>null</td><td>null</td><td>null</td><td>null</td><td>null</td><td>null</td><td>null</td><td>null</td><td>null</td><td>null</td><td>null</td><td>null</td><td>null</td><td>null</td><td>null</td><td>null</td><td>null</td><td>null</td><td>null</td><td>null</td><td>2800.0</td><td>null</td><td>1.0</td><td>2800.0</td><td>null</td><td>1.0</td><td>0.0</td><td>1</td><td>1076167</td><td>&quot;3080ece7142443cc86655ac22dd609…</td><td>2024-06-07 15:27:54</td><td>&quot;MOWKGD/KGDMOW&quot;</td><td>false</td><td>1258.0</td><td>41458.0</td><td>0</td><td>1457198</td></tr><tr><td>1457199</td><td>true</td><td>43648</td><td>null</td><td>&quot;SU&quot;</td><td>36</td><td>false</td><td>false</td><td>&quot;2024-06-26T13:40:00&quot;</td><td>&quot;2024-06-26T12:05:00&quot;</td><td>&quot;02:35:00&quot;</td><td>&quot;32B&quot;</td><td>&quot;KGD&quot;</td><td>&quot;KGD&quot;</td><td>2.0</td><td>0.0</td><td>4.0</td><td>&quot;SVO&quot;</td><td>&quot;02:35:00&quot;</td><td>&quot;1018&quot;</td><td>&quot;SU&quot;</td><td>&quot;SU&quot;</td><td>9.0</td><td>null</td><td>null</td><td>null</td><td>null</td><td>null</td><td>null</td><td>null</td><td>null</td><td>null</td><td>null</td><td>null</td><td>null</td><td>null</td><td>null</td><td>&hellip;</td><td>null</td><td>null</td><td>null</td><td>null</td><td>null</td><td>null</td><td>null</td><td>null</td><td>null</td><td>null</td><td>null</td><td>null</td><td>null</td><td>null</td><td>null</td><td>null</td><td>null</td><td>null</td><td>null</td><td>null</td><td>0.0</td><td>null</td><td>1.0</td><td>0.0</td><td>null</td><td>1.0</td><td>0.0</td><td>1</td><td>1076167</td><td>&quot;3080ece7142443cc86655ac22dd609…</td><td>2024-06-07 15:27:54</td><td>&quot;MOWKGD/KGDMOW&quot;</td><td>false</td><td>1258.0</td><td>54858.0</td><td>0</td><td>1457199</td></tr><tr><td>1457200</td><td>true</td><td>43648</td><td>null</td><td>&quot;SU&quot;</td><td>36</td><td>false</td><td>false</td><td>&quot;2024-06-26T13:40:00&quot;</td><td>&quot;2024-06-26T12:05:00&quot;</td><td>&quot;02:35:00&quot;</td><td>&quot;32B&quot;</td><td>&quot;KGD&quot;</td><td>&quot;KGD&quot;</td><td>2.0</td><td>0.0</td><td>2.0</td><td>&quot;SVO&quot;</td><td>&quot;02:35:00&quot;</td><td>&quot;1018&quot;</td><td>&quot;SU&quot;</td><td>&quot;SU&quot;</td><td>1.0</td><td>null</td><td>null</td><td>null</td><td>null</td><td>null</td><td>null</td><td>null</td><td>null</td><td>null</td><td>null</td><td>null</td><td>null</td><td>null</td><td>null</td><td>&hellip;</td><td>null</td><td>null</td><td>null</td><td>null</td><td>null</td><td>null</td><td>null</td><td>null</td><td>null</td><td>null</td><td>null</td><td>null</td><td>null</td><td>null</td><td>null</td><td>null</td><td>null</td><td>null</td><td>null</td><td>null</td><td>2800.0</td><td>null</td><td>1.0</td><td>2800.0</td><td>null</td><td>1.0</td><td>0.0</td><td>1</td><td>1076167</td><td>&quot;3080ece7142443cc86655ac22dd609…</td><td>2024-06-07 15:27:54</td><td>&quot;MOWKGD/KGDMOW&quot;</td><td>false</td><td>1258.0</td><td>55258.0</td><td>0</td><td>1457200</td></tr><tr><td>1457201</td><td>true</td><td>43648</td><td>null</td><td>&quot;SU&quot;</td><td>36</td><td>false</td><td>false</td><td>&quot;2024-06-26T13:40:00&quot;</td><td>&quot;2024-06-26T12:05:00&quot;</td><td>&quot;02:35:00&quot;</td><td>&quot;32B&quot;</td><td>&quot;KGD&quot;</td><td>&quot;KGD&quot;</td><td>2.0</td><td>0.0</td><td>2.0</td><td>&quot;SVO&quot;</td><td>&quot;02:35:00&quot;</td><td>&quot;1018&quot;</td><td>&quot;SU&quot;</td><td>&quot;SU&quot;</td><td>1.0</td><td>null</td><td>null</td><td>null</td><td>null</td><td>null</td><td>null</td><td>null</td><td>null</td><td>null</td><td>null</td><td>null</td><td>null</td><td>null</td><td>null</td><td>&hellip;</td><td>null</td><td>null</td><td>null</td><td>null</td><td>null</td><td>null</td><td>null</td><td>null</td><td>null</td><td>null</td><td>null</td><td>null</td><td>null</td><td>null</td><td>null</td><td>null</td><td>null</td><td>null</td><td>null</td><td>null</td><td>0.0</td><td>null</td><td>1.0</td><td>0.0</td><td>null</td><td>1.0</td><td>0.0</td><td>1</td><td>1076167</td><td>&quot;3080ece7142443cc86655ac22dd609…</td><td>2024-06-07 15:27:54</td><td>&quot;MOWKGD/KGDMOW&quot;</td><td>false</td><td>1258.0</td><td>83258.0</td><td>0</td><td>1457201</td></tr></tbody></table></div>"
      ]
     },
     "execution_count": 26,
     "metadata": {},
     "output_type": "execute_result"
    }
   ],
   "execution_count": 26
  },
  {
   "metadata": {
    "ExecuteTime": {
     "end_time": "2025-08-27T00:47:10.965550Z",
     "start_time": "2025-08-27T00:47:10.942031Z"
    }
   },
   "cell_type": "code",
   "source": [
    "from scipy.stats import zscore\n",
    "from sklearn.cluster import AgglomerativeClustering\n",
    "from sklearn.decomposition import PCA, TruncatedSVD\n",
    "from sklearn.ensemble import IsolationForest\n",
    "from sklearn.metrics import silhouette_score, calinski_harabasz_score, davies_bouldin_score\n",
    "from sklearn.preprocessing import StandardScaler, RobustScaler\n",
    "import umap\n",
    "\n",
    "\n",
    "def remove_outliers(df, method='isolation_forest', contamination=0.05):\n",
    "    \"\"\"Remove outliers using various methods\"\"\"\n",
    "\n",
    "    # Get numeric columns only\n",
    "    numeric_cols = [col for col, dtype in df.schema.items() if dtype.is_numeric()]\n",
    "    df_numeric = df.select(numeric_cols)\n",
    "\n",
    "    if method == 'isolation_forest':\n",
    "        iso_forest = IsolationForest(contamination=contamination, random_state=42)\n",
    "        outlier_labels = iso_forest.fit_predict(df_numeric.to_pandas())\n",
    "        mask = outlier_labels == 1\n",
    "\n",
    "    elif method == 'zscore':\n",
    "        # Remove rows where any feature has |z-score| > 3\n",
    "        df_pd = df_numeric.to_pandas()\n",
    "        z_scores = np.abs(zscore(df_pd, nan_policy='omit'))\n",
    "        mask = (z_scores < 3).all(axis=1)\n",
    "\n",
    "    elif method == 'iqr':\n",
    "        # Remove rows outside 1.5*IQR for any feature\n",
    "        df_pd = df_numeric.to_pandas()\n",
    "        Q1 = df_pd.quantile(0.25)\n",
    "        Q3 = df_pd.quantile(0.75)\n",
    "        IQR = Q3 - Q1\n",
    "        mask = ~((df_pd < (Q1 - 1.5 * IQR)) | (df_pd > (Q3 + 1.5 * IQR))).any(axis=1)\n",
    "\n",
    "    # Get outlier indices\n",
    "    outlier_indices = np.where(~mask)[0]\n",
    "\n",
    "    cleaned_df = df.filter(pl.Series('mask', mask))\n",
    "    print(f\"Removed {len(df) - len(cleaned_df):,} outliers ({(len(df) - len(cleaned_df))/len(df)*100:.1f}%)\")\n",
    "\n",
    "    return cleaned_df, outlier_indices\n",
    "\n",
    "def encode_features(df):\n",
    "    # Get categorical columns\n",
    "    categorical_cols = [col for col, dtype in df.schema.items() if not dtype.is_numeric() and col not in ['id', 'ranker_id', 'request_date']]\n",
    "\n",
    "    encoded_df = df.clone()\n",
    "    encoders = {}\n",
    "\n",
    "    for col in categorical_cols:\n",
    "        if col == 'frequent_flyer':\n",
    "            # Special handling for frequent flyer programs (list feature)\n",
    "            # Create binary features for most common programs\n",
    "            all_programs = []\n",
    "            for programs in df[col].to_list():\n",
    "                if isinstance(programs, list):\n",
    "                    all_programs.extend(programs)\n",
    "\n",
    "            from collections import Counter\n",
    "            top_programs = Counter(all_programs).most_common(10)\n",
    "\n",
    "            for program, _ in top_programs:\n",
    "                encoded_df = encoded_df.with_columns([\n",
    "                    pl.col(col).map_elements(\n",
    "                        lambda x: 1 if isinstance(x, list) and program in x else 0,\n",
    "                        return_dtype=pl.Int8\n",
    "                    ).alias(f'ff_{program}')\n",
    "                ])\n",
    "\n",
    "            # Add count of total programs\n",
    "            encoded_df = encoded_df.with_columns([\n",
    "                pl.col(col).map_elements(\n",
    "                    lambda x: len(x) if isinstance(x, list) else 0,\n",
    "                    return_dtype=pl.Int8\n",
    "                ).alias('ff_program_count')\n",
    "            ])\n",
    "\n",
    "        else:\n",
    "            # Target encoding for high-cardinality categoricals like airports/carriers\n",
    "            if col in ['most_common_departure_airport', 'most_common_carrier']:\n",
    "                # Use frequency encoding\n",
    "                value_counts = df[col].value_counts()\n",
    "                freq_map = {row[0]: row[1] for row in value_counts.rows()}\n",
    "\n",
    "                encoded_df = encoded_df.with_columns([\n",
    "                    pl.col(col).replace_strict(freq_map, default=0).alias(f'{col}_frequency')\n",
    "                ])\n",
    "            else:\n",
    "                # Standard label encoding for low-cardinality features\n",
    "                unique_values = df[col].fill_null('MISSING').unique().sort().to_list()\n",
    "                encoders[col] = {val: idx for idx, val in enumerate(unique_values)}\n",
    "\n",
    "                encoded_df = encoded_df.with_columns([\n",
    "                    pl.col(col).fill_null('MISSING').replace(encoders[col]).alias(f'{col}_encoded')\n",
    "\n",
    "                ])\n",
    "\n",
    "    # Remove original categorical columns\n",
    "    final_df = encoded_df.select(pl.exclude(categorical_cols + ['frequent_flyer', 'most_common_departure_airport', 'most_common_carrier']))\n",
    "\n",
    "    return final_df.fill_null(0), encoders\n",
    "\n",
    "def dimensionality_reduction(scaled_features, method='pca', n_components=50):\n",
    "    \"\"\"Apply dimensionality reduction before clustering\"\"\"\n",
    "\n",
    "    if method == 'pca':\n",
    "        reducer = PCA(n_components=n_components, random_state=42)\n",
    "\n",
    "    elif method == 'truncated_svd':\n",
    "        reducer = TruncatedSVD(n_components=n_components, random_state=42)\n",
    "\n",
    "    elif method == 'umap':\n",
    "        reducer = umap.UMAP(n_components=n_components, random_state=42, n_neighbors=15)\n",
    "\n",
    "    reduced_features = reducer.fit_transform(scaled_features)\n",
    "\n",
    "    if hasattr(reducer, 'explained_variance_ratio_'):\n",
    "        total_variance = reducer.explained_variance_ratio_.sum()\n",
    "        print(f\"{method.upper()} retained {total_variance:.3f} of total variance with {n_components} components\")\n",
    "\n",
    "    return reduced_features, reducer\n",
    "\n",
    "\n",
    "def generate_clusters(features, n_clusters=10):\n",
    "    agg = AgglomerativeClustering(n_clusters=n_clusters, linkage='ward')\n",
    "    agg_segments = agg.fit_predict(features)\n",
    "\n",
    "    # Create pseudo-centroids for use in prediction, since AgglomerativeClustering doesn't have centroids\n",
    "    unique_segments = np.unique(agg_segments)\n",
    "    centroids = []\n",
    "    for segment_id in unique_segments:\n",
    "        segment_mask = agg_segments == segment_id\n",
    "        centroid = features[segment_mask].mean(axis=0)\n",
    "        centroids.append(centroid)\n",
    "\n",
    "    centroids = np.array(centroids)\n",
    "\n",
    "    score = silhouette_score(features, agg_segments)\n",
    "\n",
    "    return {\n",
    "        \"labels\": agg_segments,\n",
    "        \"centroids\": centroids,\n",
    "        \"model\": agg,\n",
    "        \"silhouette\": score,\n",
    "        \"n_clusters\": n_clusters\n",
    "    }"
   ],
   "id": "b3af938cfbc435c8",
   "outputs": [],
   "execution_count": 64
  },
  {
   "metadata": {},
   "cell_type": "markdown",
   "source": "### Generate Customer Clusters",
   "id": "9a0af4bcb1de2d2f"
  },
  {
   "metadata": {
    "ExecuteTime": {
     "end_time": "2025-08-27T00:46:22.889582Z",
     "start_time": "2025-08-27T00:46:22.880584Z"
    }
   },
   "cell_type": "code",
   "source": [
    "def analyze_clusters(original_df, cluster_labels, outlier_indices=None):\n",
    "    \"\"\"Analyze the final clusters\"\"\"\n",
    "    # Add cluster labels to original dataframe for analysis\n",
    "    if original_df is not None:\n",
    "\n",
    "        # Check if sizes match\n",
    "        if len(cluster_labels) != (len(original_df) - (len(outlier_indices) if outlier_indices is not None else 0)):\n",
    "            print(f\"Warning: Cluster labels size ({len(cluster_labels)}) doesn't match DataFrame size ({len(original_df)})\")\n",
    "            print(\"This likely happened because outliers were removed during clustering and outlier indices not provided or incorrect.\")\n",
    "\n",
    "        else:\n",
    "            if outlier_indices is not None and len(outlier_indices) > 0:\n",
    "                mask = ~pl.Series(range(len(original_df))).is_in(outlier_indices)\n",
    "                analysis_df = original_df.filter(mask)\n",
    "            else:\n",
    "                analysis_df = original_df.head(len(cluster_labels))\n",
    "\n",
    "            # Now add cluster labels safely\n",
    "            analysis_df = analysis_df.with_columns(pl.Series('cluster', cluster_labels))\n",
    "\n",
    "            # Cluster profiling\n",
    "            print(\"\\n📊 CLUSTER PROFILES:\")\n",
    "            print(\"=\" * 50)\n",
    "\n",
    "            cluster_profiles = analysis_df.group_by('cluster').agg([\n",
    "                pl.col('total_searches').mean().alias('avg_searches'),\n",
    "                pl.col('is_vip').mean().alias('vip_rate'),\n",
    "                pl.col('roundtrip_preference').mean().alias('roundtrip_rate'),\n",
    "                pl.col('avg_booking_lead_days').mean().alias('avg_lead_days'),\n",
    "                pl.col('unique_carriers_used').mean().alias('avg_carriers'),\n",
    "                pl.len().alias('size')\n",
    "            ]).sort('cluster')\n",
    "\n",
    "            print(cluster_profiles)\n",
    "\n"
   ],
   "id": "1a659cd8790676b3",
   "outputs": [],
   "execution_count": 63
  },
  {
   "metadata": {
    "ExecuteTime": {
     "end_time": "2025-08-25T00:10:50.000825Z",
     "start_time": "2025-08-25T00:10:34.042274Z"
    }
   },
   "cell_type": "code",
   "source": [
    "# 1. Feature Engineering\n",
    "cust_data = extract_customer_features(data)"
   ],
   "id": "8965d9b2e68d1b2e",
   "outputs": [],
   "execution_count": 33
  },
  {
   "metadata": {
    "ExecuteTime": {
     "end_time": "2025-08-26T23:12:47.550299Z",
     "start_time": "2025-08-26T23:12:47.539215Z"
    }
   },
   "cell_type": "code",
   "source": "cust_data.head(100)",
   "id": "c3c8ad2f4e129215",
   "outputs": [
    {
     "data": {
      "text/plain": [
       "shape: (100, 58)\n",
       "┌───────────┬────────────┬─────┬────────────┬───┬────────────┬────────────┬────────────┬───────────┐\n",
       "│ profileId ┆ company_id ┆ sex ┆ nationalit ┆ … ┆ vip_cabin_ ┆ corp_searc ┆ corp_round ┆ corp_plan │\n",
       "│ ---       ┆ ---        ┆ --- ┆ y          ┆   ┆ preference ┆ h_volume   ┆ trip_pref  ┆ ning_vari │\n",
       "│ i64       ┆ i64        ┆ i8  ┆ ---        ┆   ┆ ---        ┆ ---        ┆ ---        ┆ ance      │\n",
       "│           ┆            ┆     ┆ i64        ┆   ┆ f64        ┆ i64        ┆ f64        ┆ ---       │\n",
       "│           ┆            ┆     ┆            ┆   ┆            ┆            ┆            ┆ i32       │\n",
       "╞═══════════╪════════════╪═════╪════════════╪═══╪════════════╪════════════╪════════════╪═══════════╡\n",
       "│ 3547026   ┆ 62262      ┆ 1   ┆ 36         ┆ … ┆ 0.0        ┆ 0          ┆ 0.0        ┆ 0         │\n",
       "│ 2468117   ┆ 42620      ┆ 1   ┆ 36         ┆ … ┆ 0.0        ┆ 517        ┆ 1.0        ┆ 1         │\n",
       "│ 3294975   ┆ 63398      ┆ 1   ┆ 36         ┆ … ┆ 0.0        ┆ 12         ┆ 1.0        ┆ 1         │\n",
       "│ 2547292   ┆ 58350      ┆ 1   ┆ 36         ┆ … ┆ 0.0        ┆ 0          ┆ 0.0        ┆ 0         │\n",
       "│ 2153918   ┆ 40253      ┆ 0   ┆ 36         ┆ … ┆ 0.0        ┆ 11         ┆ 0.0        ┆ 0         │\n",
       "│ …         ┆ …          ┆ …   ┆ …          ┆ … ┆ …          ┆ …          ┆ …          ┆ …         │\n",
       "│ 1119689   ┆ 27507      ┆ 1   ┆ 36         ┆ … ┆ 0.0        ┆ 35         ┆ 0.0        ┆ 4         │\n",
       "│ 3221567   ┆ 59457      ┆ 0   ┆ 36         ┆ … ┆ 0.0        ┆ 37         ┆ 1.0        ┆ 0         │\n",
       "│ 2444394   ┆ 53359      ┆ 1   ┆ 36         ┆ … ┆ 1.517241   ┆ 58         ┆ 0.0        ┆ 10        │\n",
       "│ 3602353   ┆ 58666      ┆ 0   ┆ 36         ┆ … ┆ 0.0        ┆ 304        ┆ 0.266447   ┆ 12        │\n",
       "│ 2018648   ┆ 36998      ┆ 1   ┆ 36         ┆ … ┆ 0.0        ┆ 0          ┆ 0.0        ┆ 0         │\n",
       "└───────────┴────────────┴─────┴────────────┴───┴────────────┴────────────┴────────────┴───────────┘"
      ],
      "text/html": [
       "<div><style>\n",
       ".dataframe > thead > tr,\n",
       ".dataframe > tbody > tr {\n",
       "  text-align: right;\n",
       "  white-space: pre-wrap;\n",
       "}\n",
       "</style>\n",
       "<small>shape: (100, 58)</small><table border=\"1\" class=\"dataframe\"><thead><tr><th>profileId</th><th>company_id</th><th>sex</th><th>nationality</th><th>frequent_flyer</th><th>is_vip</th><th>by_self</th><th>has_corp_codes</th><th>total_searches</th><th>roundtrip_preference</th><th>unique_routes_searched</th><th>min_booking_lead_days</th><th>max_booking_lead_days</th><th>avg_booking_lead_days</th><th>median_booking_lead_days</th><th>most_common_departure_airport</th><th>unique_departure_airports</th><th>most_common_carrier</th><th>unique_carriers_used</th><th>min_cabin_class</th><th>max_cabin_class</th><th>avg_cabin_class</th><th>weekday_preference</th><th>weekend_travel_rate</th><th>time_of_day_variance</th><th>night_flight_preference</th><th>route_loyalty</th><th>hub_preference</th><th>short_haul_preference</th><th>connection_tolerance</th><th>preferred_duration_quartile</th><th>price_to_duration_sensitivity</th><th>avg_price_per_minute</th><th>price_per_minute_variance</th><th>price_position_preference</th><th>premium_economy_preference</th><th>consistent_price_tier</th><th>preferred_price_tier</th><th>baggage_qty_preference</th><th>baggage_weight_preference</th><th>loyalty_program_utilization</th><th>convenience_priority_score</th><th>loyalty_vs_price_index</th><th>planning_consistency_score</th><th>luxury_index</th><th>search_intensity_per_route</th><th>lead_time_variance</th><th>lead_time_skew</th><th>carrier_diversity</th><th>airport_diversity</th><th>cabin_class_range</th><th>customer_tier</th><th>vip_search_intensity</th><th>vip_carrier_diversity</th><th>vip_cabin_preference</th><th>corp_search_volume</th><th>corp_roundtrip_pref</th><th>corp_planning_variance</th></tr><tr><td>i64</td><td>i64</td><td>i8</td><td>i64</td><td>str</td><td>i8</td><td>i8</td><td>i8</td><td>u32</td><td>f64</td><td>u32</td><td>i32</td><td>i32</td><td>f64</td><td>f64</td><td>str</td><td>u32</td><td>str</td><td>u32</td><td>f64</td><td>f64</td><td>f64</td><td>i8</td><td>f64</td><td>f64</td><td>f64</td><td>f64</td><td>f64</td><td>f64</td><td>f64</td><td>i32</td><td>f64</td><td>f64</td><td>f64</td><td>f64</td><td>f64</td><td>f64</td><td>i32</td><td>f64</td><td>f64</td><td>f64</td><td>f64</td><td>f64</td><td>f64</td><td>f64</td><td>f64</td><td>i32</td><td>f64</td><td>f64</td><td>f64</td><td>f64</td><td>i8</td><td>f64</td><td>f64</td><td>f64</td><td>i64</td><td>f64</td><td>i32</td></tr></thead><tbody><tr><td>3547026</td><td>62262</td><td>1</td><td>36</td><td>&quot;SU&quot;</td><td>0</td><td>1</td><td>0</td><td>464</td><td>1.0</td><td>1</td><td>30</td><td>31</td><td>30.549569</td><td>31.0</td><td>&quot;DME&quot;</td><td>4</td><td>&quot;U6&quot;</td><td>5</td><td>1.0</td><td>2.0</td><td>1.072917</td><td>4</td><td>0.0</td><td>6.617567</td><td>0.344828</td><td>0.997845</td><td>0.0</td><td>0.0</td><td>1.700431</td><td>1</td><td>0.154816</td><td>49.496154</td><td>61.528717</td><td>49.050421</td><td>0.067888</td><td>0.634882</td><td>3</td><td>0.918103</td><td>0.0</td><td>1.0</td><td>-55.401591</td><td>5.094958</td><td>0.5</td><td>45.983544</td><td>464.0</td><td>1</td><td>0.98547</td><td>0.010776</td><td>0.008621</td><td>1.0</td><td>1</td><td>0.0</td><td>0.0</td><td>0.0</td><td>0</td><td>0.0</td><td>0</td></tr><tr><td>2468117</td><td>42620</td><td>1</td><td>36</td><td>&quot;&quot;</td><td>0</td><td>1</td><td>1</td><td>517</td><td>1.0</td><td>1</td><td>1</td><td>2</td><td>1.448743</td><td>1.0</td><td>&quot;KUF&quot;</td><td>1</td><td>&quot;SU&quot;</td><td>7</td><td>1.0</td><td>1.0</td><td>1.0</td><td>3</td><td>0.0</td><td>5.138309</td><td>0.226306</td><td>0.998066</td><td>0.0</td><td>0.366226</td><td>1.05029</td><td>1</td><td>0.067044</td><td>114.55567</td><td>70.852326</td><td>49.775741</td><td>0.0</td><td>0.627839</td><td>1</td><td>0.479691</td><td>0.0</td><td>0.0</td><td>-41.047868</td><td>-4.977574</td><td>0.5</td><td>44.887871</td><td>517.0</td><td>1</td><td>1.448743</td><td>0.01354</td><td>0.001934</td><td>0.0</td><td>1</td><td>0.0</td><td>0.0</td><td>0.0</td><td>517</td><td>1.0</td><td>1</td></tr><tr><td>3294975</td><td>63398</td><td>1</td><td>36</td><td>&quot;&quot;</td><td>0</td><td>1</td><td>1</td><td>12</td><td>1.0</td><td>1</td><td>16</td><td>17</td><td>16.666667</td><td>17.0</td><td>&quot;PEZ&quot;</td><td>1</td><td>&quot;SU&quot;</td><td>1</td><td>1.0</td><td>1.0</td><td>1.0</td><td>5</td><td>1.0</td><td>4.748205</td><td>0.333333</td><td>0.916667</td><td>0.0</td><td>0.65</td><td>1.0</td><td>1</td><td>0.420958</td><td>121.35422</td><td>28.21127</td><td>50.0</td><td>0.0</td><td>0.589695</td><td>1</td><td>1.5</td><td>0.0</td><td>0.0</td><td>-35.377263</td><td>-5.0</td><td>0.5</td><td>45.0</td><td>12.0</td><td>1</td><td>0.980392</td><td>0.083333</td><td>0.083333</td><td>0.0</td><td>1</td><td>0.0</td><td>0.0</td><td>0.0</td><td>12</td><td>1.0</td><td>1</td></tr><tr><td>2547292</td><td>58350</td><td>1</td><td>36</td><td>&quot;&quot;</td><td>0</td><td>1</td><td>0</td><td>318</td><td>1.0</td><td>2</td><td>8</td><td>13</td><td>9.427673</td><td>8.0</td><td>&quot;OVB&quot;</td><td>1</td><td>&quot;S7&quot;</td><td>7</td><td>1.0</td><td>1.0</td><td>1.0</td><td>3</td><td>0.0</td><td>5.615115</td><td>0.075472</td><td>0.993711</td><td>0.0</td><td>0.0</td><td>1.0</td><td>2</td><td>0.105628</td><td>121.580331</td><td>45.047243</td><td>47.60402</td><td>0.0</td><td>0.625869</td><td>2</td><td>1.062893</td><td>0.0</td><td>0.0</td><td>-45.623005</td><td>-4.760402</td><td>0.166667</td><td>43.80201</td><td>159.0</td><td>5</td><td>1.178459</td><td>0.022013</td><td>0.003145</td><td>0.0</td><td>1</td><td>0.0</td><td>0.0</td><td>0.0</td><td>0</td><td>0.0</td><td>0</td></tr><tr><td>2153918</td><td>40253</td><td>0</td><td>36</td><td>&quot;&quot;</td><td>0</td><td>1</td><td>1</td><td>11</td><td>0.0</td><td>1</td><td>14</td><td>14</td><td>14.0</td><td>14.0</td><td>&quot;OVB&quot;</td><td>1</td><td>&quot;S7&quot;</td><td>1</td><td>1.0</td><td>1.0</td><td>1.0</td><td>1</td><td>0.0</td><td>3.744086</td><td>0.0</td><td>0.909091</td><td>0.0</td><td>0.0</td><td>1.818182</td><td>1</td><td>0.662494</td><td>46.663264</td><td>18.331365</td><td>47.272727</td><td>0.0</td><td>0.651845</td><td>1</td><td>0.636364</td><td>0.0</td><td>0.0</td><td>-24.128393</td><td>-4.727273</td><td>1.0</td><td>43.636364</td><td>11.0</td><td>0</td><td>1.0</td><td>0.090909</td><td>0.090909</td><td>0.0</td><td>1</td><td>0.0</td><td>0.0</td><td>0.0</td><td>11</td><td>0.0</td><td>0</td></tr><tr><td>&hellip;</td><td>&hellip;</td><td>&hellip;</td><td>&hellip;</td><td>&hellip;</td><td>&hellip;</td><td>&hellip;</td><td>&hellip;</td><td>&hellip;</td><td>&hellip;</td><td>&hellip;</td><td>&hellip;</td><td>&hellip;</td><td>&hellip;</td><td>&hellip;</td><td>&hellip;</td><td>&hellip;</td><td>&hellip;</td><td>&hellip;</td><td>&hellip;</td><td>&hellip;</td><td>&hellip;</td><td>&hellip;</td><td>&hellip;</td><td>&hellip;</td><td>&hellip;</td><td>&hellip;</td><td>&hellip;</td><td>&hellip;</td><td>&hellip;</td><td>&hellip;</td><td>&hellip;</td><td>&hellip;</td><td>&hellip;</td><td>&hellip;</td><td>&hellip;</td><td>&hellip;</td><td>&hellip;</td><td>&hellip;</td><td>&hellip;</td><td>&hellip;</td><td>&hellip;</td><td>&hellip;</td><td>&hellip;</td><td>&hellip;</td><td>&hellip;</td><td>&hellip;</td><td>&hellip;</td><td>&hellip;</td><td>&hellip;</td><td>&hellip;</td><td>&hellip;</td><td>&hellip;</td><td>&hellip;</td><td>&hellip;</td><td>&hellip;</td><td>&hellip;</td><td>&hellip;</td></tr><tr><td>1119689</td><td>27507</td><td>1</td><td>36</td><td>&quot;&quot;</td><td>0</td><td>1</td><td>1</td><td>35</td><td>0.0</td><td>2</td><td>5</td><td>9</td><td>7.428571</td><td>8.0</td><td>&quot;NBC&quot;</td><td>2</td><td>&quot;SU&quot;</td><td>3</td><td>1.0</td><td>1.0</td><td>1.0</td><td>4</td><td>0.0</td><td>5.661012</td><td>0.257143</td><td>0.942857</td><td>0.0</td><td>0.249524</td><td>1.057143</td><td>3</td><td>0.730338</td><td>75.117679</td><td>34.884892</td><td>48.268398</td><td>0.0</td><td>0.618348</td><td>1</td><td>0.857143</td><td>0.0</td><td>0.0</td><td>-42.95843</td><td>-4.82684</td><td>0.2</td><td>44.134199</td><td>17.5</td><td>4</td><td>0.928571</td><td>0.085714</td><td>0.057143</td><td>0.0</td><td>1</td><td>0.0</td><td>0.0</td><td>0.0</td><td>35</td><td>0.0</td><td>4</td></tr><tr><td>3221567</td><td>59457</td><td>0</td><td>36</td><td>&quot;SU/UT/S7&quot;</td><td>0</td><td>1</td><td>1</td><td>37</td><td>1.0</td><td>1</td><td>22</td><td>22</td><td>22.0</td><td>22.0</td><td>&quot;NJC&quot;</td><td>1</td><td>&quot;7R&quot;</td><td>4</td><td>1.0</td><td>1.0</td><td>1.0</td><td>3</td><td>0.0</td><td>2.088148</td><td>0.081081</td><td>0.972973</td><td>0.0</td><td>0.0</td><td>1.918919</td><td>1</td><td>0.006442</td><td>38.617445</td><td>20.45318</td><td>48.198198</td><td>0.0</td><td>0.611433</td><td>1</td><td>0.243243</td><td>0.0</td><td>1.0</td><td>-10.849265</td><td>5.18018</td><td>1.0</td><td>44.099099</td><td>37.0</td><td>0</td><td>1.0</td><td>0.108108</td><td>0.027027</td><td>0.0</td><td>1</td><td>0.0</td><td>0.0</td><td>0.0</td><td>37</td><td>1.0</td><td>0</td></tr><tr><td>2444394</td><td>53359</td><td>1</td><td>36</td><td>&quot;&quot;</td><td>1</td><td>1</td><td>1</td><td>58</td><td>0.0</td><td>2</td><td>42</td><td>52</td><td>44.206897</td><td>45.0</td><td>&quot;IKT&quot;</td><td>2</td><td>&quot;SU&quot;</td><td>4</td><td>1.0</td><td>4.0</td><td>1.517241</td><td>6</td><td>1.0</td><td>4.156824</td><td>0.224138</td><td>0.965517</td><td>0.0</td><td>0.0</td><td>1.310345</td><td>1</td><td>0.720128</td><td>75.185378</td><td>46.901084</td><td>48.761271</td><td>0.0</td><td>0.615406</td><td>1</td><td>1.017241</td><td>20.0</td><td>0.0</td><td>-27.967602</td><td>-4.876127</td><td>0.090909</td><td>54.725463</td><td>29.0</td><td>10</td><td>0.982375</td><td>0.068966</td><td>0.034483</td><td>3.0</td><td>3</td><td>29.0</td><td>0.068966</td><td>1.517241</td><td>58</td><td>0.0</td><td>10</td></tr><tr><td>3602353</td><td>58666</td><td>0</td><td>36</td><td>&quot;&quot;</td><td>0</td><td>1</td><td>1</td><td>304</td><td>0.266447</td><td>3</td><td>3</td><td>15</td><td>7.430921</td><td>3.0</td><td>&quot;LED&quot;</td><td>2</td><td>&quot;SU&quot;</td><td>3</td><td>1.0</td><td>1.0</td><td>1.0</td><td>1</td><td>0.394737</td><td>3.487683</td><td>0.0</td><td>0.990132</td><td>0.0</td><td>0.0</td><td>1.802632</td><td>1</td><td>0.440627</td><td>52.964282</td><td>28.222618</td><td>49.139627</td><td>0.0</td><td>0.622856</td><td>1</td><td>0.825658</td><td>0.0</td><td>0.0</td><td>-22.673694</td><td>-4.913963</td><td>0.076923</td><td>44.569814</td><td>101.333333</td><td>12</td><td>2.476974</td><td>0.009868</td><td>0.006579</td><td>0.0</td><td>1</td><td>0.0</td><td>0.0</td><td>0.0</td><td>304</td><td>0.266447</td><td>12</td></tr><tr><td>2018648</td><td>36998</td><td>1</td><td>36</td><td>&quot;&quot;</td><td>0</td><td>1</td><td>0</td><td>74</td><td>1.0</td><td>2</td><td>5</td><td>24</td><td>16.540541</td><td>10.0</td><td>&quot;SVO&quot;</td><td>2</td><td>&quot;SU&quot;</td><td>3</td><td>1.0</td><td>2.0</td><td>1.011261</td><td>1</td><td>0.0</td><td>6.011235</td><td>0.27027</td><td>0.972973</td><td>0.0</td><td>0.538739</td><td>1.013514</td><td>1</td><td>0.201169</td><td>76.785647</td><td>35.365029</td><td>48.841699</td><td>0.02027</td><td>0.624888</td><td>1</td><td>0.810811</td><td>0.0</td><td>0.0</td><td>-49.106508</td><td>-4.88417</td><td>0.05</td><td>44.646075</td><td>37.0</td><td>19</td><td>1.654054</td><td>0.040541</td><td>0.027027</td><td>1.0</td><td>1</td><td>0.0</td><td>0.0</td><td>0.0</td><td>0</td><td>0.0</td><td>0</td></tr></tbody></table></div>"
      ]
     },
     "execution_count": 12,
     "metadata": {},
     "output_type": "execute_result"
    }
   ],
   "execution_count": 12
  },
  {
   "metadata": {
    "ExecuteTime": {
     "end_time": "2025-08-25T00:12:49.939681Z",
     "start_time": "2025-08-25T00:12:49.890499Z"
    }
   },
   "cell_type": "code",
   "source": "data.filter(pl.col('profileId') == 3498928)",
   "id": "91861e9f9d82569c",
   "outputs": [
    {
     "data": {
      "text/plain": [
       "shape: (4, 127)\n",
       "┌──────────┬────────┬───────────┬──────────────┬───┬────────┬────────────┬──────────┬──────────────┐\n",
       "│ Id       ┆ bySelf ┆ companyID ┆ corporateTar ┆ … ┆ taxes  ┆ totalPrice ┆ selected ┆ __index_leve │\n",
       "│ ---      ┆ ---    ┆ ---       ┆ iffCode      ┆   ┆ ---    ┆ ---        ┆ ---      ┆ l_0__        │\n",
       "│ i64      ┆ bool   ┆ i64       ┆ ---          ┆   ┆ f64    ┆ f64        ┆ i64      ┆ ---          │\n",
       "│          ┆        ┆           ┆ i64          ┆   ┆        ┆            ┆          ┆ i64          │\n",
       "╞══════════╪════════╪═══════════╪══════════════╪═══╪════════╪════════════╪══════════╪══════════════╡\n",
       "│ 11483731 ┆ true   ┆ 36998     ┆ null         ┆ … ┆ 988.0  ┆ 18998.0    ┆ 0        ┆ 11483731     │\n",
       "│ 11483732 ┆ true   ┆ 36998     ┆ null         ┆ … ┆ 988.0  ┆ 51438.0    ┆ 0        ┆ 11483732     │\n",
       "│ 11483733 ┆ true   ┆ 36998     ┆ null         ┆ … ┆ 1222.0 ┆ 28472.0    ┆ 1        ┆ 11483733     │\n",
       "│ 11483734 ┆ true   ┆ 36998     ┆ null         ┆ … ┆ 1222.0 ┆ 47122.0    ┆ 0        ┆ 11483734     │\n",
       "└──────────┴────────┴───────────┴──────────────┴───┴────────┴────────────┴──────────┴──────────────┘"
      ],
      "text/html": [
       "<div><style>\n",
       ".dataframe > thead > tr,\n",
       ".dataframe > tbody > tr {\n",
       "  text-align: right;\n",
       "  white-space: pre-wrap;\n",
       "}\n",
       "</style>\n",
       "<small>shape: (4, 127)</small><table border=\"1\" class=\"dataframe\"><thead><tr><th>Id</th><th>bySelf</th><th>companyID</th><th>corporateTariffCode</th><th>frequentFlyer</th><th>nationality</th><th>isAccess3D</th><th>isVip</th><th>legs0_arrivalAt</th><th>legs0_departureAt</th><th>legs0_duration</th><th>legs0_segments0_aircraft_code</th><th>legs0_segments0_arrivalTo_airport_city_iata</th><th>legs0_segments0_arrivalTo_airport_iata</th><th>legs0_segments0_baggageAllowance_quantity</th><th>legs0_segments0_baggageAllowance_weightMeasurementType</th><th>legs0_segments0_cabinClass</th><th>legs0_segments0_departureFrom_airport_iata</th><th>legs0_segments0_duration</th><th>legs0_segments0_flightNumber</th><th>legs0_segments0_marketingCarrier_code</th><th>legs0_segments0_operatingCarrier_code</th><th>legs0_segments0_seatsAvailable</th><th>legs0_segments1_aircraft_code</th><th>legs0_segments1_arrivalTo_airport_city_iata</th><th>legs0_segments1_arrivalTo_airport_iata</th><th>legs0_segments1_baggageAllowance_quantity</th><th>legs0_segments1_baggageAllowance_weightMeasurementType</th><th>legs0_segments1_cabinClass</th><th>legs0_segments1_departureFrom_airport_iata</th><th>legs0_segments1_duration</th><th>legs0_segments1_flightNumber</th><th>legs0_segments1_marketingCarrier_code</th><th>legs0_segments1_operatingCarrier_code</th><th>legs0_segments1_seatsAvailable</th><th>legs0_segments2_aircraft_code</th><th>legs0_segments2_arrivalTo_airport_city_iata</th><th>&hellip;</th><th>legs1_segments2_baggageAllowance_weightMeasurementType</th><th>legs1_segments2_cabinClass</th><th>legs1_segments2_departureFrom_airport_iata</th><th>legs1_segments2_duration</th><th>legs1_segments2_flightNumber</th><th>legs1_segments2_marketingCarrier_code</th><th>legs1_segments2_operatingCarrier_code</th><th>legs1_segments2_seatsAvailable</th><th>legs1_segments3_aircraft_code</th><th>legs1_segments3_arrivalTo_airport_city_iata</th><th>legs1_segments3_arrivalTo_airport_iata</th><th>legs1_segments3_baggageAllowance_quantity</th><th>legs1_segments3_baggageAllowance_weightMeasurementType</th><th>legs1_segments3_cabinClass</th><th>legs1_segments3_departureFrom_airport_iata</th><th>legs1_segments3_duration</th><th>legs1_segments3_flightNumber</th><th>legs1_segments3_marketingCarrier_code</th><th>legs1_segments3_operatingCarrier_code</th><th>legs1_segments3_seatsAvailable</th><th>miniRules0_monetaryAmount</th><th>miniRules0_percentage</th><th>miniRules0_statusInfos</th><th>miniRules1_monetaryAmount</th><th>miniRules1_percentage</th><th>miniRules1_statusInfos</th><th>pricingInfo_isAccessTP</th><th>pricingInfo_passengerCount</th><th>profileId</th><th>ranker_id</th><th>requestDate</th><th>searchRoute</th><th>sex</th><th>taxes</th><th>totalPrice</th><th>selected</th><th>__index_level_0__</th></tr><tr><td>i64</td><td>bool</td><td>i64</td><td>i64</td><td>str</td><td>i64</td><td>bool</td><td>bool</td><td>str</td><td>str</td><td>str</td><td>str</td><td>str</td><td>str</td><td>f64</td><td>f64</td><td>f64</td><td>str</td><td>str</td><td>str</td><td>str</td><td>str</td><td>f64</td><td>str</td><td>str</td><td>str</td><td>f64</td><td>f64</td><td>f64</td><td>str</td><td>str</td><td>str</td><td>str</td><td>str</td><td>f64</td><td>str</td><td>str</td><td>&hellip;</td><td>f64</td><td>f64</td><td>str</td><td>str</td><td>str</td><td>str</td><td>str</td><td>f64</td><td>str</td><td>str</td><td>str</td><td>f64</td><td>f64</td><td>f64</td><td>str</td><td>str</td><td>str</td><td>str</td><td>str</td><td>f64</td><td>f64</td><td>f64</td><td>f64</td><td>f64</td><td>f64</td><td>f64</td><td>f64</td><td>i64</td><td>i64</td><td>str</td><td>datetime[ns]</td><td>str</td><td>bool</td><td>f64</td><td>f64</td><td>i64</td><td>i64</td></tr></thead><tbody><tr><td>11483731</td><td>true</td><td>36998</td><td>null</td><td>null</td><td>36</td><td>false</td><td>false</td><td>&quot;2024-09-24T05:40:00&quot;</td><td>&quot;2024-09-23T21:25:00&quot;</td><td>&quot;04:15:00&quot;</td><td>&quot;73H&quot;</td><td>&quot;NOZ&quot;</td><td>&quot;NOZ&quot;</td><td>1.0</td><td>0.0</td><td>1.0</td><td>&quot;DME&quot;</td><td>&quot;04:15:00&quot;</td><td>&quot;2625&quot;</td><td>&quot;S7&quot;</td><td>&quot;S7&quot;</td><td>9.0</td><td>null</td><td>null</td><td>null</td><td>null</td><td>null</td><td>null</td><td>null</td><td>null</td><td>null</td><td>null</td><td>null</td><td>null</td><td>null</td><td>null</td><td>&hellip;</td><td>null</td><td>null</td><td>null</td><td>null</td><td>null</td><td>null</td><td>null</td><td>null</td><td>null</td><td>null</td><td>null</td><td>null</td><td>null</td><td>null</td><td>null</td><td>null</td><td>null</td><td>null</td><td>null</td><td>null</td><td>2300.0</td><td>null</td><td>1.0</td><td>3500.0</td><td>null</td><td>1.0</td><td>1.0</td><td>1</td><td>3498928</td><td>&quot;023b61d7412b4d788cf04dc9fd5592…</td><td>2024-09-12 09:00:20</td><td>&quot;MOWNOZ/NOZMOW&quot;</td><td>true</td><td>988.0</td><td>18998.0</td><td>0</td><td>11483731</td></tr><tr><td>11483732</td><td>true</td><td>36998</td><td>null</td><td>null</td><td>36</td><td>false</td><td>false</td><td>&quot;2024-09-24T05:40:00&quot;</td><td>&quot;2024-09-23T21:25:00&quot;</td><td>&quot;04:15:00&quot;</td><td>&quot;73H&quot;</td><td>&quot;NOZ&quot;</td><td>&quot;NOZ&quot;</td><td>1.0</td><td>0.0</td><td>1.0</td><td>&quot;DME&quot;</td><td>&quot;04:15:00&quot;</td><td>&quot;2625&quot;</td><td>&quot;S7&quot;</td><td>&quot;S7&quot;</td><td>9.0</td><td>null</td><td>null</td><td>null</td><td>null</td><td>null</td><td>null</td><td>null</td><td>null</td><td>null</td><td>null</td><td>null</td><td>null</td><td>null</td><td>null</td><td>&hellip;</td><td>null</td><td>null</td><td>null</td><td>null</td><td>null</td><td>null</td><td>null</td><td>null</td><td>null</td><td>null</td><td>null</td><td>null</td><td>null</td><td>null</td><td>null</td><td>null</td><td>null</td><td>null</td><td>null</td><td>null</td><td>0.0</td><td>null</td><td>1.0</td><td>0.0</td><td>null</td><td>1.0</td><td>1.0</td><td>1</td><td>3498928</td><td>&quot;023b61d7412b4d788cf04dc9fd5592…</td><td>2024-09-12 09:00:20</td><td>&quot;MOWNOZ/NOZMOW&quot;</td><td>true</td><td>988.0</td><td>51438.0</td><td>0</td><td>11483732</td></tr><tr><td>11483733</td><td>true</td><td>36998</td><td>null</td><td>null</td><td>36</td><td>false</td><td>false</td><td>&quot;2024-09-24T06:45:00&quot;</td><td>&quot;2024-09-23T22:20:00&quot;</td><td>&quot;04:25:00&quot;</td><td>&quot;32A&quot;</td><td>&quot;NOZ&quot;</td><td>&quot;NOZ&quot;</td><td>1.0</td><td>0.0</td><td>1.0</td><td>&quot;SVO&quot;</td><td>&quot;04:25:00&quot;</td><td>&quot;1458&quot;</td><td>&quot;SU&quot;</td><td>&quot;SU&quot;</td><td>8.0</td><td>null</td><td>null</td><td>null</td><td>null</td><td>null</td><td>null</td><td>null</td><td>null</td><td>null</td><td>null</td><td>null</td><td>null</td><td>null</td><td>null</td><td>&hellip;</td><td>null</td><td>null</td><td>null</td><td>null</td><td>null</td><td>null</td><td>null</td><td>null</td><td>null</td><td>null</td><td>null</td><td>null</td><td>null</td><td>null</td><td>null</td><td>null</td><td>null</td><td>null</td><td>null</td><td>null</td><td>2800.0</td><td>null</td><td>1.0</td><td>2800.0</td><td>null</td><td>1.0</td><td>1.0</td><td>1</td><td>3498928</td><td>&quot;023b61d7412b4d788cf04dc9fd5592…</td><td>2024-09-12 09:00:20</td><td>&quot;MOWNOZ/NOZMOW&quot;</td><td>true</td><td>1222.0</td><td>28472.0</td><td>1</td><td>11483733</td></tr><tr><td>11483734</td><td>true</td><td>36998</td><td>null</td><td>null</td><td>36</td><td>false</td><td>false</td><td>&quot;2024-09-24T06:45:00&quot;</td><td>&quot;2024-09-23T22:20:00&quot;</td><td>&quot;04:25:00&quot;</td><td>&quot;32A&quot;</td><td>&quot;NOZ&quot;</td><td>&quot;NOZ&quot;</td><td>2.0</td><td>0.0</td><td>1.0</td><td>&quot;SVO&quot;</td><td>&quot;04:25:00&quot;</td><td>&quot;1458&quot;</td><td>&quot;SU&quot;</td><td>&quot;SU&quot;</td><td>8.0</td><td>null</td><td>null</td><td>null</td><td>null</td><td>null</td><td>null</td><td>null</td><td>null</td><td>null</td><td>null</td><td>null</td><td>null</td><td>null</td><td>null</td><td>&hellip;</td><td>null</td><td>null</td><td>null</td><td>null</td><td>null</td><td>null</td><td>null</td><td>null</td><td>null</td><td>null</td><td>null</td><td>null</td><td>null</td><td>null</td><td>null</td><td>null</td><td>null</td><td>null</td><td>null</td><td>null</td><td>0.0</td><td>null</td><td>1.0</td><td>0.0</td><td>null</td><td>1.0</td><td>1.0</td><td>1</td><td>3498928</td><td>&quot;023b61d7412b4d788cf04dc9fd5592…</td><td>2024-09-12 09:00:20</td><td>&quot;MOWNOZ/NOZMOW&quot;</td><td>true</td><td>1222.0</td><td>47122.0</td><td>0</td><td>11483734</td></tr></tbody></table></div>"
      ]
     },
     "execution_count": 35,
     "metadata": {},
     "output_type": "execute_result"
    }
   ],
   "execution_count": 35
  },
  {
   "metadata": {},
   "cell_type": "markdown",
   "source": "",
   "id": "9304276c99e67f0a"
  },
  {
   "metadata": {
    "ExecuteTime": {
     "end_time": "2025-08-26T23:13:08.796690Z",
     "start_time": "2025-08-26T23:13:08.743902Z"
    }
   },
   "cell_type": "code",
   "source": [
    "cust_eval = add_trip_duration(data.filter(pl.col('profileId') == 3498928))\n",
    "cust_eval"
   ],
   "id": "154fffae81337c40",
   "outputs": [
    {
     "data": {
      "text/plain": [
       "shape: (4, 130)\n",
       "┌──────────┬────────┬───────────┬────────────┬───┬────────────┬────────────┬───────────┬───────────┐\n",
       "│ Id       ┆ bySelf ┆ companyID ┆ corporateT ┆ … ┆ __index_le ┆ leg0_durat ┆ leg1_dura ┆ trip_dura │\n",
       "│ ---      ┆ ---    ┆ ---       ┆ ariffCode  ┆   ┆ vel_0__    ┆ ion_minute ┆ tion_minu ┆ tion_minu │\n",
       "│ i64      ┆ bool   ┆ i64       ┆ ---        ┆   ┆ ---        ┆ s          ┆ tes       ┆ tes       │\n",
       "│          ┆        ┆           ┆ i64        ┆   ┆ i64        ┆ ---        ┆ ---       ┆ ---       │\n",
       "│          ┆        ┆           ┆            ┆   ┆            ┆ i32        ┆ i32       ┆ i32       │\n",
       "╞══════════╪════════╪═══════════╪════════════╪═══╪════════════╪════════════╪═══════════╪═══════════╡\n",
       "│ 11483731 ┆ true   ┆ 36998     ┆ null       ┆ … ┆ 11483731   ┆ 255        ┆ 285       ┆ 540       │\n",
       "│ 11483732 ┆ true   ┆ 36998     ┆ null       ┆ … ┆ 11483732   ┆ 255        ┆ 285       ┆ 540       │\n",
       "│ 11483733 ┆ true   ┆ 36998     ┆ null       ┆ … ┆ 11483733   ┆ 265        ┆ 275       ┆ 540       │\n",
       "│ 11483734 ┆ true   ┆ 36998     ┆ null       ┆ … ┆ 11483734   ┆ 265        ┆ 275       ┆ 540       │\n",
       "└──────────┴────────┴───────────┴────────────┴───┴────────────┴────────────┴───────────┴───────────┘"
      ],
      "text/html": [
       "<div><style>\n",
       ".dataframe > thead > tr,\n",
       ".dataframe > tbody > tr {\n",
       "  text-align: right;\n",
       "  white-space: pre-wrap;\n",
       "}\n",
       "</style>\n",
       "<small>shape: (4, 130)</small><table border=\"1\" class=\"dataframe\"><thead><tr><th>Id</th><th>bySelf</th><th>companyID</th><th>corporateTariffCode</th><th>frequentFlyer</th><th>nationality</th><th>isAccess3D</th><th>isVip</th><th>legs0_arrivalAt</th><th>legs0_departureAt</th><th>legs0_duration</th><th>legs0_segments0_aircraft_code</th><th>legs0_segments0_arrivalTo_airport_city_iata</th><th>legs0_segments0_arrivalTo_airport_iata</th><th>legs0_segments0_baggageAllowance_quantity</th><th>legs0_segments0_baggageAllowance_weightMeasurementType</th><th>legs0_segments0_cabinClass</th><th>legs0_segments0_departureFrom_airport_iata</th><th>legs0_segments0_duration</th><th>legs0_segments0_flightNumber</th><th>legs0_segments0_marketingCarrier_code</th><th>legs0_segments0_operatingCarrier_code</th><th>legs0_segments0_seatsAvailable</th><th>legs0_segments1_aircraft_code</th><th>legs0_segments1_arrivalTo_airport_city_iata</th><th>legs0_segments1_arrivalTo_airport_iata</th><th>legs0_segments1_baggageAllowance_quantity</th><th>legs0_segments1_baggageAllowance_weightMeasurementType</th><th>legs0_segments1_cabinClass</th><th>legs0_segments1_departureFrom_airport_iata</th><th>legs0_segments1_duration</th><th>legs0_segments1_flightNumber</th><th>legs0_segments1_marketingCarrier_code</th><th>legs0_segments1_operatingCarrier_code</th><th>legs0_segments1_seatsAvailable</th><th>legs0_segments2_aircraft_code</th><th>legs0_segments2_arrivalTo_airport_city_iata</th><th>&hellip;</th><th>legs1_segments2_duration</th><th>legs1_segments2_flightNumber</th><th>legs1_segments2_marketingCarrier_code</th><th>legs1_segments2_operatingCarrier_code</th><th>legs1_segments2_seatsAvailable</th><th>legs1_segments3_aircraft_code</th><th>legs1_segments3_arrivalTo_airport_city_iata</th><th>legs1_segments3_arrivalTo_airport_iata</th><th>legs1_segments3_baggageAllowance_quantity</th><th>legs1_segments3_baggageAllowance_weightMeasurementType</th><th>legs1_segments3_cabinClass</th><th>legs1_segments3_departureFrom_airport_iata</th><th>legs1_segments3_duration</th><th>legs1_segments3_flightNumber</th><th>legs1_segments3_marketingCarrier_code</th><th>legs1_segments3_operatingCarrier_code</th><th>legs1_segments3_seatsAvailable</th><th>miniRules0_monetaryAmount</th><th>miniRules0_percentage</th><th>miniRules0_statusInfos</th><th>miniRules1_monetaryAmount</th><th>miniRules1_percentage</th><th>miniRules1_statusInfos</th><th>pricingInfo_isAccessTP</th><th>pricingInfo_passengerCount</th><th>profileId</th><th>ranker_id</th><th>requestDate</th><th>searchRoute</th><th>sex</th><th>taxes</th><th>totalPrice</th><th>selected</th><th>__index_level_0__</th><th>leg0_duration_minutes</th><th>leg1_duration_minutes</th><th>trip_duration_minutes</th></tr><tr><td>i64</td><td>bool</td><td>i64</td><td>i64</td><td>str</td><td>i64</td><td>bool</td><td>bool</td><td>str</td><td>str</td><td>str</td><td>str</td><td>str</td><td>str</td><td>f64</td><td>f64</td><td>f64</td><td>str</td><td>str</td><td>str</td><td>str</td><td>str</td><td>f64</td><td>str</td><td>str</td><td>str</td><td>f64</td><td>f64</td><td>f64</td><td>str</td><td>str</td><td>str</td><td>str</td><td>str</td><td>f64</td><td>str</td><td>str</td><td>&hellip;</td><td>str</td><td>str</td><td>str</td><td>str</td><td>f64</td><td>str</td><td>str</td><td>str</td><td>f64</td><td>f64</td><td>f64</td><td>str</td><td>str</td><td>str</td><td>str</td><td>str</td><td>f64</td><td>f64</td><td>f64</td><td>f64</td><td>f64</td><td>f64</td><td>f64</td><td>f64</td><td>i64</td><td>i64</td><td>str</td><td>datetime[ns]</td><td>str</td><td>bool</td><td>f64</td><td>f64</td><td>i64</td><td>i64</td><td>i32</td><td>i32</td><td>i32</td></tr></thead><tbody><tr><td>11483731</td><td>true</td><td>36998</td><td>null</td><td>null</td><td>36</td><td>false</td><td>false</td><td>&quot;2024-09-24T05:40:00&quot;</td><td>&quot;2024-09-23T21:25:00&quot;</td><td>&quot;04:15:00&quot;</td><td>&quot;73H&quot;</td><td>&quot;NOZ&quot;</td><td>&quot;NOZ&quot;</td><td>1.0</td><td>0.0</td><td>1.0</td><td>&quot;DME&quot;</td><td>&quot;04:15:00&quot;</td><td>&quot;2625&quot;</td><td>&quot;S7&quot;</td><td>&quot;S7&quot;</td><td>9.0</td><td>null</td><td>null</td><td>null</td><td>null</td><td>null</td><td>null</td><td>null</td><td>null</td><td>null</td><td>null</td><td>null</td><td>null</td><td>null</td><td>null</td><td>&hellip;</td><td>null</td><td>null</td><td>null</td><td>null</td><td>null</td><td>null</td><td>null</td><td>null</td><td>null</td><td>null</td><td>null</td><td>null</td><td>null</td><td>null</td><td>null</td><td>null</td><td>null</td><td>2300.0</td><td>null</td><td>1.0</td><td>3500.0</td><td>null</td><td>1.0</td><td>1.0</td><td>1</td><td>3498928</td><td>&quot;023b61d7412b4d788cf04dc9fd5592…</td><td>2024-09-12 09:00:20</td><td>&quot;MOWNOZ/NOZMOW&quot;</td><td>true</td><td>988.0</td><td>18998.0</td><td>0</td><td>11483731</td><td>255</td><td>285</td><td>540</td></tr><tr><td>11483732</td><td>true</td><td>36998</td><td>null</td><td>null</td><td>36</td><td>false</td><td>false</td><td>&quot;2024-09-24T05:40:00&quot;</td><td>&quot;2024-09-23T21:25:00&quot;</td><td>&quot;04:15:00&quot;</td><td>&quot;73H&quot;</td><td>&quot;NOZ&quot;</td><td>&quot;NOZ&quot;</td><td>1.0</td><td>0.0</td><td>1.0</td><td>&quot;DME&quot;</td><td>&quot;04:15:00&quot;</td><td>&quot;2625&quot;</td><td>&quot;S7&quot;</td><td>&quot;S7&quot;</td><td>9.0</td><td>null</td><td>null</td><td>null</td><td>null</td><td>null</td><td>null</td><td>null</td><td>null</td><td>null</td><td>null</td><td>null</td><td>null</td><td>null</td><td>null</td><td>&hellip;</td><td>null</td><td>null</td><td>null</td><td>null</td><td>null</td><td>null</td><td>null</td><td>null</td><td>null</td><td>null</td><td>null</td><td>null</td><td>null</td><td>null</td><td>null</td><td>null</td><td>null</td><td>0.0</td><td>null</td><td>1.0</td><td>0.0</td><td>null</td><td>1.0</td><td>1.0</td><td>1</td><td>3498928</td><td>&quot;023b61d7412b4d788cf04dc9fd5592…</td><td>2024-09-12 09:00:20</td><td>&quot;MOWNOZ/NOZMOW&quot;</td><td>true</td><td>988.0</td><td>51438.0</td><td>0</td><td>11483732</td><td>255</td><td>285</td><td>540</td></tr><tr><td>11483733</td><td>true</td><td>36998</td><td>null</td><td>null</td><td>36</td><td>false</td><td>false</td><td>&quot;2024-09-24T06:45:00&quot;</td><td>&quot;2024-09-23T22:20:00&quot;</td><td>&quot;04:25:00&quot;</td><td>&quot;32A&quot;</td><td>&quot;NOZ&quot;</td><td>&quot;NOZ&quot;</td><td>1.0</td><td>0.0</td><td>1.0</td><td>&quot;SVO&quot;</td><td>&quot;04:25:00&quot;</td><td>&quot;1458&quot;</td><td>&quot;SU&quot;</td><td>&quot;SU&quot;</td><td>8.0</td><td>null</td><td>null</td><td>null</td><td>null</td><td>null</td><td>null</td><td>null</td><td>null</td><td>null</td><td>null</td><td>null</td><td>null</td><td>null</td><td>null</td><td>&hellip;</td><td>null</td><td>null</td><td>null</td><td>null</td><td>null</td><td>null</td><td>null</td><td>null</td><td>null</td><td>null</td><td>null</td><td>null</td><td>null</td><td>null</td><td>null</td><td>null</td><td>null</td><td>2800.0</td><td>null</td><td>1.0</td><td>2800.0</td><td>null</td><td>1.0</td><td>1.0</td><td>1</td><td>3498928</td><td>&quot;023b61d7412b4d788cf04dc9fd5592…</td><td>2024-09-12 09:00:20</td><td>&quot;MOWNOZ/NOZMOW&quot;</td><td>true</td><td>1222.0</td><td>28472.0</td><td>1</td><td>11483733</td><td>265</td><td>275</td><td>540</td></tr><tr><td>11483734</td><td>true</td><td>36998</td><td>null</td><td>null</td><td>36</td><td>false</td><td>false</td><td>&quot;2024-09-24T06:45:00&quot;</td><td>&quot;2024-09-23T22:20:00&quot;</td><td>&quot;04:25:00&quot;</td><td>&quot;32A&quot;</td><td>&quot;NOZ&quot;</td><td>&quot;NOZ&quot;</td><td>2.0</td><td>0.0</td><td>1.0</td><td>&quot;SVO&quot;</td><td>&quot;04:25:00&quot;</td><td>&quot;1458&quot;</td><td>&quot;SU&quot;</td><td>&quot;SU&quot;</td><td>8.0</td><td>null</td><td>null</td><td>null</td><td>null</td><td>null</td><td>null</td><td>null</td><td>null</td><td>null</td><td>null</td><td>null</td><td>null</td><td>null</td><td>null</td><td>&hellip;</td><td>null</td><td>null</td><td>null</td><td>null</td><td>null</td><td>null</td><td>null</td><td>null</td><td>null</td><td>null</td><td>null</td><td>null</td><td>null</td><td>null</td><td>null</td><td>null</td><td>null</td><td>0.0</td><td>null</td><td>1.0</td><td>0.0</td><td>null</td><td>1.0</td><td>1.0</td><td>1</td><td>3498928</td><td>&quot;023b61d7412b4d788cf04dc9fd5592…</td><td>2024-09-12 09:00:20</td><td>&quot;MOWNOZ/NOZMOW&quot;</td><td>true</td><td>1222.0</td><td>47122.0</td><td>0</td><td>11483734</td><td>265</td><td>275</td><td>540</td></tr></tbody></table></div>"
      ]
     },
     "execution_count": 14,
     "metadata": {},
     "output_type": "execute_result"
    }
   ],
   "execution_count": 14
  },
  {
   "metadata": {
    "ExecuteTime": {
     "end_time": "2025-08-26T23:13:10.954661Z",
     "start_time": "2025-08-26T23:13:10.944242Z"
    }
   },
   "cell_type": "code",
   "source": [
    "cust_eval.select(\n",
    "    pl.corr(\n",
    "        pl.col('totalPrice'),\n",
    "        pl.col('trip_duration_minutes')\n",
    "    ).fill_null(0)\n",
    ")\n"
   ],
   "id": "c79b0a476aa9d0d8",
   "outputs": [
    {
     "data": {
      "text/plain": [
       "shape: (1, 1)\n",
       "┌────────────┐\n",
       "│ totalPrice │\n",
       "│ ---        │\n",
       "│ f64        │\n",
       "╞════════════╡\n",
       "│ NaN        │\n",
       "└────────────┘"
      ],
      "text/html": [
       "<div><style>\n",
       ".dataframe > thead > tr,\n",
       ".dataframe > tbody > tr {\n",
       "  text-align: right;\n",
       "  white-space: pre-wrap;\n",
       "}\n",
       "</style>\n",
       "<small>shape: (1, 1)</small><table border=\"1\" class=\"dataframe\"><thead><tr><th>totalPrice</th></tr><tr><td>f64</td></tr></thead><tbody><tr><td>NaN</td></tr></tbody></table></div>"
      ]
     },
     "execution_count": 15,
     "metadata": {},
     "output_type": "execute_result"
    }
   ],
   "execution_count": 15
  },
  {
   "metadata": {
    "ExecuteTime": {
     "end_time": "2025-08-27T00:35:17.036584Z",
     "start_time": "2025-08-27T00:35:16.449674Z"
    }
   },
   "cell_type": "code",
   "source": [
    "# 2. Remove outliers\n",
    "cust_data_cleaned, outlier_indices = remove_outliers(cust_data, method='isolation_forest')"
   ],
   "id": "a3eacfe8d2a77958",
   "outputs": [
    {
     "name": "stdout",
     "output_type": "stream",
     "text": [
      "Removed 1,647 outliers (5.0%)\n"
     ]
    }
   ],
   "execution_count": 56
  },
  {
   "metadata": {
    "ExecuteTime": {
     "end_time": "2025-08-27T00:35:17.875908Z",
     "start_time": "2025-08-27T00:35:17.850522Z"
    }
   },
   "cell_type": "code",
   "source": [
    "# 3. Advanced encoding\n",
    "cust_data_encoded, encoders = encode_features(cust_data_cleaned)"
   ],
   "id": "f754d74d2d0129d5",
   "outputs": [],
   "execution_count": 57
  },
  {
   "metadata": {
    "ExecuteTime": {
     "end_time": "2025-08-27T00:32:53.480042Z",
     "start_time": "2025-08-27T00:32:53.357517Z"
    }
   },
   "cell_type": "code",
   "source": [
    "# 2b/3b. Do not remove outliers\n",
    "outlier_indices = []\n",
    "cust_data_encoded, encoders = encode_features(cust_data)"
   ],
   "id": "ba388d7947cace17",
   "outputs": [],
   "execution_count": 49
  },
  {
   "metadata": {
    "ExecuteTime": {
     "end_time": "2025-08-27T00:35:20.731859Z",
     "start_time": "2025-08-27T00:35:20.663758Z"
    }
   },
   "cell_type": "code",
   "source": [
    "# 4. Feature scaling with robust scaler\n",
    "scaler = RobustScaler()  # Less sensitive to outliers than StandardScaler\n",
    "scaled_features = scaler.fit_transform(cust_data_encoded.to_pandas())"
   ],
   "id": "e48719148bc7a10b",
   "outputs": [],
   "execution_count": 58
  },
  {
   "metadata": {
    "ExecuteTime": {
     "end_time": "2025-08-27T00:35:21.505459Z",
     "start_time": "2025-08-27T00:35:21.499577Z"
    }
   },
   "cell_type": "code",
   "source": "scaled_features",
   "id": "26c2a23fa789598e",
   "outputs": [
    {
     "data": {
      "text/plain": [
       "array([[ 0.41393055,  0.48572388,  0.        , ...,  0.        ,\n",
       "         0.04952027, -1.17330046],\n",
       "       [-0.42016866, -0.61392901,  0.        , ...,  0.        ,\n",
       "        -0.02847416,  0.        ],\n",
       "       [ 0.21907117,  0.54932258,  0.        , ...,  0.        ,\n",
       "        -0.25750542,  0.        ],\n",
       "       ...,\n",
       "       [ 0.4427987 ,  0.20904714,  0.        , ...,  0.        ,\n",
       "        -0.2537914 ,  0.        ],\n",
       "       [-0.58191793,  0.16487515, -1.        , ...,  0.        ,\n",
       "         1.73909006,  0.        ],\n",
       "       [-0.18234297,  0.03538238,  0.        , ...,  0.        ,\n",
       "         1.73909006,  0.        ]], shape=(31275, 58))"
      ]
     },
     "execution_count": 59,
     "metadata": {},
     "output_type": "execute_result"
    }
   ],
   "execution_count": 59
  },
  {
   "metadata": {
    "ExecuteTime": {
     "end_time": "2025-08-27T00:33:05.841924Z",
     "start_time": "2025-08-27T00:33:05.833373Z"
    }
   },
   "cell_type": "code",
   "source": [
    "print(scaled_features)\n",
    "nan_mask = np.isnan(scaled_features)\n",
    "print(np.where(nan_mask.any(axis=1)))"
   ],
   "id": "b38dbecb222eb75e",
   "outputs": [
    {
     "name": "stdout",
     "output_type": "stream",
     "text": [
      "[[ 0.42854339  0.49577291  0.         ...  0.          0.01967695\n",
      "  -1.16689121]\n",
      " [-0.39939875 -0.60394155  0.         ...  0.         -0.06402349\n",
      "   0.        ]\n",
      " [ 0.2351224   0.55937517  0.         ...  0.         -0.2825257\n",
      "   0.        ]\n",
      " ...\n",
      " [ 0.45719844  0.21908068  0.         ...  0.         -0.27988253\n",
      "   0.        ]\n",
      " [-0.55995403  0.17490622 -1.         ...  0.          1.74214391\n",
      "   0.        ]\n",
      " [-0.16332862  0.04540619  0.         ...  0.          1.74214391\n",
      "   0.        ]]\n",
      "(array([], dtype=int64),)\n"
     ]
    }
   ],
   "execution_count": 52
  },
  {
   "metadata": {
    "ExecuteTime": {
     "end_time": "2025-08-27T00:35:25.865372Z",
     "start_time": "2025-08-27T00:35:25.845759Z"
    }
   },
   "cell_type": "code",
   "source": [
    "# 5. Dimensionality reduction\n",
    "n_components = 30\n",
    "reducer = PCA(n_components=n_components, random_state=42)\n",
    "reduced_features = reducer.fit_transform(scaled_features)\n",
    "\n",
    "if hasattr(reducer, 'explained_variance_ratio_'):\n",
    "    total_variance = reducer.explained_variance_ratio_.sum()\n",
    "    print(f\"PCA retained {total_variance:.3f} of total variance with {n_components} components\")"
   ],
   "id": "dc75d4987918a4b3",
   "outputs": [
    {
     "name": "stdout",
     "output_type": "stream",
     "text": [
      "PCA retained 0.999 of total variance with 30 components\n"
     ]
    }
   ],
   "execution_count": 60
  },
  {
   "metadata": {
    "ExecuteTime": {
     "end_time": "2025-08-27T00:36:25.610644Z",
     "start_time": "2025-08-27T00:35:40.397291Z"
    }
   },
   "cell_type": "code",
   "source": [
    "# 6. Apply clustering algorithm\n",
    "clustering_results = generate_clusters(reduced_features)\n",
    "\n",
    "# 7. Clustering results\n",
    "print(\"\\n🏆 CLUSTERING RESULTS:\")\n",
    "print(f\"  Clusters: {clustering_results['n_clusters']:2d}| Silhouette: {clustering_results['silhouette']:.4f} | \")"
   ],
   "id": "39229cc159f7b3b5",
   "outputs": [
    {
     "name": "stdout",
     "output_type": "stream",
     "text": [
      "\n",
      "🏆 CLUSTERING RESULTS:\n",
      "  Clusters: 10| Silhouette: 0.5476 | \n"
     ]
    }
   ],
   "execution_count": 61
  },
  {
   "metadata": {
    "ExecuteTime": {
     "end_time": "2025-08-27T00:47:29.544193Z",
     "start_time": "2025-08-27T00:47:29.512019Z"
    }
   },
   "cell_type": "code",
   "source": "analyze_clusters(cust_data, clustering_results['labels'], outlier_indices)",
   "id": "420bdbd5a24891d5",
   "outputs": [
    {
     "name": "stdout",
     "output_type": "stream",
     "text": [
      "\n",
      "📊 CLUSTER PROFILES:\n",
      "==================================================\n",
      "shape: (10, 7)\n",
      "┌─────────┬──────────────┬──────────┬────────────────┬───────────────┬──────────────┬───────┐\n",
      "│ cluster ┆ avg_searches ┆ vip_rate ┆ roundtrip_rate ┆ avg_lead_days ┆ avg_carriers ┆ size  │\n",
      "│ ---     ┆ ---          ┆ ---      ┆ ---            ┆ ---           ┆ ---          ┆ ---   │\n",
      "│ i64     ┆ f64          ┆ f64      ┆ f64            ┆ f64           ┆ f64          ┆ u32   │\n",
      "╞═════════╪══════════════╪══════════╪════════════════╪═══════════════╪══════════════╪═══════╡\n",
      "│ 0       ┆ 611.653556   ┆ 0.0      ┆ 0.51406        ┆ 15.942428     ┆ 9.076509     ┆ 3712  │\n",
      "│ 1       ┆ 324.402778   ┆ 1.0      ┆ 0.670224       ┆ 11.339924     ┆ 5.402778     ┆ 72    │\n",
      "│ 2       ┆ 454.712367   ┆ 0.002865 ┆ 0.572092       ┆ 14.694453     ┆ 4.668905     ┆ 22341 │\n",
      "│ 3       ┆ 622.083333   ┆ 1.0      ┆ 0.681143       ┆ 11.606121     ┆ 6.041667     ┆ 24    │\n",
      "│ 4       ┆ 1095.0       ┆ 1.0      ┆ 1.0            ┆ 15.543681     ┆ 6.333333     ┆ 3     │\n",
      "│ 5       ┆ 867.444444   ┆ 1.0      ┆ 0.938636       ┆ 13.698729     ┆ 7.333333     ┆ 18    │\n",
      "│ 6       ┆ 740.698348   ┆ 0.0      ┆ 0.677712       ┆ 16.188377     ┆ 5.399485     ┆ 4661  │\n",
      "│ 7       ┆ 7502.0       ┆ 1.0      ┆ 1.0            ┆ 11.844308     ┆ 4.0          ┆ 1     │\n",
      "│ 8       ┆ 205.151927   ┆ 0.0      ┆ 0.323294       ┆ 15.525968     ┆ 5.072562     ┆ 441   │\n",
      "│ 9       ┆ 2096.0       ┆ 1.0      ┆ 1.0            ┆ 20.774425     ┆ 8.0          ┆ 2     │\n",
      "└─────────┴──────────────┴──────────┴────────────────┴───────────────┴──────────────┴───────┘\n"
     ]
    }
   ],
   "execution_count": 65
  },
  {
   "metadata": {},
   "cell_type": "markdown",
   "source": "### Engineer Flight Features",
   "id": "848a02e6f5a92295"
  },
  {
   "metadata": {
    "ExecuteTime": {
     "end_time": "2025-08-26T23:41:25.796221Z",
     "start_time": "2025-08-26T23:41:25.773200Z"
    }
   },
   "cell_type": "code",
   "source": [
    "CUSTOMER_FEATURES = ['companyID', 'sex', 'nationality', 'isVip', 'bySelf']\n",
    "UNNEEDED_FEATURES = [\n",
    "    'frequentFlyer', 'frequent_flyer', 'isAccess3D', 'requestDate', 'searchRoute', 'ranker_id', 'totalPrice', 'taxes', 'legs0_arrivalAt', 'legs0_duration'\n",
    "]\n",
    "UNNEEDED_FEATURES_REGEX = r'^legs[01].*$|^leg0_duration_q.*$|^price_q.*$'\n",
    "POLARS_INDEX_COL = ['__index_level_0__']\n",
    "\n",
    "\n",
    "# function to get column groups for the flight segments features that will be used in engineering the new features\n",
    "def get_column_groups(df: pl.DataFrame) -> Dict[str, List[str]]:\n",
    "    columns = df.columns\n",
    "    return {\n",
    "        'leg0_duration': [col for col in columns if col.startswith('legs0_segments') and col.endswith('_duration')],\n",
    "        'leg1_duration': [col for col in columns if col.startswith('legs1_segments') and col.endswith('_duration')],\n",
    "        'mkt_carrier': [col for col in columns if col.endswith('marketingCarrier_code')],\n",
    "        'op_carrier': [col for col in columns if col.endswith('operatingCarrier_code')],\n",
    "        'aircraft': [col for col in columns if col.endswith('aircraft_code')],\n",
    "        'airport': [col for col in columns if 'airport_iata' in col or 'airport_city_iata' in col],\n",
    "        'seats_avail': [col for col in columns if col.endswith('seatsAvailable')],\n",
    "        'baggage_type': [col for col in columns if 'baggageAllowance_weightMeasurementType' in col],\n",
    "        'baggage_allowance': [col for col in columns if 'baggageAllowance_quantity' in col],\n",
    "        'cabin_class': [col for col in columns if 'cabinClass' in col]\n",
    "    }\n",
    "\n",
    "\n",
    "def create_basic_features(col_groups: Dict[str, List[str]]) -> List[pl.Expr]:\n",
    "    \"\"\"Create basic customer and route characteristics features.\"\"\"\n",
    "    return [\n",
    "        pl.col('isAccess3D').cast(pl.Int32).alias('is_access3D'),\n",
    "\n",
    "        # Normalized frequentFlyer program, addressing null values as null strings, and translating UT program\n",
    "        pl.col('frequentFlyer').str.replace('- ЮТэйр ЗАО', 'UT').fill_null('').alias('frequent_flyer'),\n",
    "\n",
    "        # Route characteristics\n",
    "        pl.col('legs1_departureAt').is_not_null().cast(pl.Int8).alias('is_roundtrip'),\n",
    "        pl.col('searchRoute').str.slice(0, 3).alias('route_origin'),\n",
    "\n",
    "        # Hub features\n",
    "        pl.col('searchRoute').str.slice(0, 3).is_in(MAJOR_HUBS).cast(pl.Int32).alias('origin_is_major_hub'),\n",
    "        pl.col('searchRoute').str.slice(3, 3).is_in(MAJOR_HUBS).cast(pl.Int32).alias('destination_is_major_hub'),\n",
    "        pl.max_horizontal([\n",
    "            pl.col(col).is_in(MAJOR_HUBS) for col in col_groups['airport']\n",
    "        ]).cast(pl.Int32).alias('includes_major_hub'),\n",
    "    ]\n",
    "\n",
    "\n",
    "def create_segment_features(col_groups: Dict[str, List[str]]) -> List[pl.Expr]:\n",
    "    \"\"\"Create flight segment related features.\"\"\"\n",
    "    return [\n",
    "        # Number of segments per leg\n",
    "        pl.concat_list([pl.col(col) for col in col_groups['leg0_duration']])\n",
    "        .list.drop_nulls().list.len().alias('leg0_num_segments'),\n",
    "\n",
    "        pl.concat_list([pl.col(col) for col in col_groups['leg1_duration']])\n",
    "        .list.drop_nulls().list.len().alias('leg1_num_segments'),\n",
    "\n",
    "        # Total segments\n",
    "        pl.sum_horizontal([pl.col(col).is_not_null() for col in col_groups['aircraft']])\n",
    "        .alias('total_segments'),\n",
    "\n",
    "        # Flight time in minutes (sum of segment durations)\n",
    "        pl.sum_horizontal([\n",
    "            parse_duration_to_minutes(col)\n",
    "            for col in col_groups['leg0_duration']\n",
    "        ]).alias('leg0_flight_time_min'),\n",
    "\n",
    "        pl.sum_horizontal([\n",
    "            parse_duration_to_minutes(col)\n",
    "            for col in col_groups['leg1_duration']\n",
    "        ]).alias('leg1_flight_time_min'),\n",
    "    ]\n",
    "\n",
    "\n",
    "def create_time_features() -> List[pl.Expr]:\n",
    "    \"\"\"Create time-based features.\"\"\"\n",
    "    return [\n",
    "        # Booking lead time\n",
    "        ((pl.col('legs0_departureAt').str.to_datetime() -\n",
    "            pl.col('requestDate').cast(pl.Datetime)) / pl.duration(days=1)).cast(pl.Int32).alias('booking_lead_days'),\n",
    "\n",
    "        # Trip duration features\n",
    "        parse_duration_to_minutes('legs0_duration').alias('leg0_duration_minutes'),\n",
    "        parse_duration_to_minutes('legs1_duration').alias('leg1_duration_minutes'),\n",
    "        (parse_duration_to_minutes('legs0_duration') + parse_duration_to_minutes('legs1_duration')).alias('trip_duration_minutes'),\n",
    "\n",
    "        # Departure/arrival hours\n",
    "        pl.col('legs0_departureAt').str.to_datetime().dt.hour().alias('leg0_departure_hour'),\n",
    "        pl.col('legs0_departureAt').str.to_datetime().dt.weekday().alias('leg0_departure_weekday'),\n",
    "        pl.col('legs0_arrivalAt').str.to_datetime().dt.hour().alias('leg0_arrival_hour'),\n",
    "        pl.col('legs0_arrivalAt').str.to_datetime().dt.weekday().alias('leg0_arrival_weekday'),\n",
    "        pl.col('legs1_departureAt').str.to_datetime().dt.hour().alias('leg1_departure_hour'),\n",
    "        pl.col('legs1_arrivalAt').str.to_datetime().dt.hour().alias('leg1_arrival_hour'),\n",
    "        pl.col('legs1_departureAt').str.to_datetime().dt.weekday().alias('leg1_departure_weekday'),\n",
    "        pl.col('legs1_arrivalAt').str.to_datetime().dt.weekday().alias('leg1_arrival_weekday'),\n",
    "    ]\n",
    "\n",
    "\n",
    "def create_carrier_features(col_groups: Dict[str, List[str]]) -> List[pl.Expr]:\n",
    "    \"\"\"Create carrier and aircraft features.\"\"\"\n",
    "    # Create combined carrier column group for carrier features\n",
    "    all_carrier_cols = col_groups['mkt_carrier'] + col_groups['op_carrier']\n",
    "\n",
    "    # Create frequent flyer matching expressions\n",
    "    ff_matches_mkt = [\n",
    "        pl.when(pl.col(col).is_not_null() & (pl.col(col) != ''))\n",
    "        .then(pl.col('frequent_flyer').str.contains(pl.col(col)))\n",
    "        .otherwise(False)\n",
    "        for col in col_groups['mkt_carrier']\n",
    "    ]\n",
    "    ff_matches_op = [\n",
    "        pl.when(pl.col(col).is_not_null() & (pl.col(col) != ''))\n",
    "        .then(pl.col('frequent_flyer').str.contains(pl.col(col)))\n",
    "        .otherwise(False)\n",
    "        for col in col_groups['op_carrier']\n",
    "    ]\n",
    "\n",
    "    return [\n",
    "        # Carrier features\n",
    "        pl.concat_list([pl.col(col) for col in all_carrier_cols])\n",
    "        .list.drop_nulls().list.unique().list.len().alias('unique_carriers'),\n",
    "\n",
    "        pl.coalesce([pl.col(col) for col in all_carrier_cols]).alias('primary_carrier'),\n",
    "        pl.col('legs0_segments0_marketingCarrier_code').alias('marketing_carrier'),\n",
    "\n",
    "        # Frequent flyer matching (check if FF programs match carriers)\n",
    "        pl.max_horizontal(ff_matches_mkt).cast(pl.Int32).alias('has_mkt_ff'),\n",
    "        pl.max_horizontal(ff_matches_op).cast(pl.Int32).alias('has_op_ff'),\n",
    "\n",
    "        # Aircraft features\n",
    "        pl.concat_list([pl.col(col) for col in col_groups['aircraft']])\n",
    "        .list.drop_nulls().list.unique().list.len().alias('aircraft_diversity'),\n",
    "\n",
    "        pl.coalesce([pl.col(col) for col in col_groups['aircraft']]).alias('primary_aircraft'),\n",
    "    ]\n",
    "\n",
    "\n",
    "def create_service_features(col_groups: Dict[str, List[str]]) -> List[pl.Expr]:\n",
    "    \"\"\"Create service-related features (fees, cabin, seats, baggage).\"\"\"\n",
    "    return [\n",
    "        # Cancellation/exchange fees\n",
    "        (\n",
    "            ((pl.col('miniRules0_monetaryAmount') > 0) & pl.col('miniRules0_monetaryAmount').is_not_null()) |\n",
    "            ((pl.col('miniRules0_percentage') > 0) & pl.col('miniRules0_percentage').is_not_null())\n",
    "        ).cast(pl.Int32).alias('has_cancellation_fee'),\n",
    "\n",
    "        (\n",
    "            ((pl.col('miniRules1_monetaryAmount') > 0) & pl.col('miniRules1_monetaryAmount').is_not_null()) |\n",
    "            ((pl.col('miniRules1_percentage') > 0) & pl.col('miniRules1_percentage').is_not_null())\n",
    "        ).cast(pl.Int32).alias('has_exchange_fee'),\n",
    "\n",
    "        # Cabin class features\n",
    "        pl.max_horizontal([pl.col(col) for col in col_groups['cabin_class']]).alias('max_cabin_class'),\n",
    "        pl.mean_horizontal([pl.col(col) for col in col_groups['cabin_class']]).alias('avg_cabin_class'),\n",
    "\n",
    "        # Seat availability (using for understanding popularity/scarcity)\n",
    "        pl.min_horizontal([pl.col(col) for col in col_groups['seats_avail']]).alias('min_seats_available'),\n",
    "        pl.sum_horizontal([pl.col(col).fill_null(0) for col in col_groups['seats_avail']]).alias('total_seats_available'),\n",
    "\n",
    "        # Baggage allowance\n",
    "        pl.min_horizontal([\n",
    "            pl.when(pl.col(type_col) == 0).then(pl.col(qty_col)).otherwise(pl.lit(None))\n",
    "            for type_col, qty_col in zip(col_groups['baggage_type'], col_groups['baggage_allowance'])\n",
    "        ]).fill_null(0).alias(\"baggage_allowance_quantity\"),\n",
    "\n",
    "        pl.min_horizontal([\n",
    "            pl.when(pl.col(type_col) == 1).then(pl.col(qty_col)).otherwise(pl.lit(None))\n",
    "            for type_col, qty_col in zip(col_groups['baggage_type'], col_groups['baggage_allowance'])\n",
    "        ]).fill_null(0).alias(\"baggage_allowance_weight\")\n",
    "    ]\n",
    "\n",
    "\n",
    "def add_route_popularity(lazy_df: pl.LazyFrame) -> pl.LazyFrame:\n",
    "    \"\"\"Add search route popularity features.\"\"\"\n",
    "    return lazy_df.with_columns([\n",
    "        pl.len().over('searchRoute').alias('route_popularity')\n",
    "    ]).with_columns([\n",
    "        pl.col('route_popularity').log1p().alias('route_popularity_log')\n",
    "    ])\n",
    "\n",
    "\n",
    "def create_window_based_flight_features(lazy_df: pl.LazyFrame) -> pl.LazyFrame:\n",
    "    return lazy_df.with_columns([\n",
    "        # calculate price percentile over search session\n",
    "        ((pl.col('totalPrice').rank(method='min').over('ranker_id') - 1) /\n",
    "        (pl.col('totalPrice').count().over('ranker_id') - 1) * 100)\n",
    "        .fill_null(50.0).alias('price_percentile'),\n",
    "\n",
    "        # Price features (always relative to search session)\n",
    "        (pl.col('totalPrice').rank(method='ordinal').over('ranker_id') /\n",
    "         pl.col('totalPrice').count().over('ranker_id')).alias('price_rank_pct'),\n",
    "        (pl.col('totalPrice') / pl.col('totalPrice').min().over('ranker_id')).alias('price_ratio_to_min'),\n",
    "    ]).with_columns([\n",
    "\n",
    "        # Route popularity features\n",
    "        pl.len().over('searchRoute').alias('route_popularity')\n",
    "    ]).with_columns([\n",
    "        pl.col('route_popularity').log1p().alias('route_popularity_log')\n",
    "    ])\n",
    "\n",
    "\n",
    "def create_derived_flight_features() -> List[pl.Expr]:\n",
    "    return [\n",
    "        pl.col('leg0_departure_hour').is_between(6, 22).cast(pl.Int8).alias('is_daytime'),\n",
    "        (pl.col('leg1_departure_weekday') >= 5).cast(pl.Int8).alias('is_weekend'),\n",
    "        (pl.col('leg0_departure_hour').is_between(6, 22) &\n",
    "         (~pl.col('leg0_arrival_hour').is_between(6, 22)))\n",
    "        .cast(pl.Int8).alias('is_redeye'),\n",
    "        (pl.col('total_segments') > 1).cast(pl.Int8).alias('has_connections'),\n",
    "    ]\n",
    "\n",
    "def extract_flight_features(df: pl.DataFrame) -> pl.DataFrame:\n",
    "    \"\"\" Create flight-level features\"\"\"\n",
    "    # Check if already processed\n",
    "    if df.height > 0 and 'total_duration_mins' in df.columns:\n",
    "        return df\n",
    "\n",
    "\n",
    "    # Get column groups\n",
    "    col_groups = get_column_groups(df)\n",
    "\n",
    "    # Start with lazy frame, dropping unnecessary columns\n",
    "    lazy_df = df.drop(CUSTOMER_FEATURES + POLARS_INDEX_COL, strict=False).lazy()\n",
    "    lazy_df = create_window_based_flight_features(lazy_df)\n",
    "\n",
    "    # Apply all feature groups\n",
    "    lazy_df = lazy_df.with_columns([\n",
    "        *create_basic_features(col_groups),\n",
    "        *create_segment_features(col_groups),\n",
    "        *create_time_features(),\n",
    "        *create_service_features(col_groups)\n",
    "    ])\n",
    "\n",
    "    # Add carrier features (requires frequent_flyer from create_basic_features() step)\n",
    "    lazy_df = lazy_df.with_columns(create_carrier_features(col_groups))\n",
    "\n",
    "    # Add derived features\n",
    "    lazy_df = lazy_df.with_columns(create_derived_flight_features())\n",
    "\n",
    "    # Add window based derived flight features\n",
    "    lazy_df = create_window_based_flight_features(lazy_df)\n",
    "\n",
    "    # Materialize to generate new features, drop unused features, and fill nulls\n",
    "    return (lazy_df\n",
    "            .collect()\n",
    "            .select(~cs.matches(UNNEEDED_FEATURES_REGEX) & ~cs.by_name(UNNEEDED_FEATURES))\n",
    "            .fill_null(0)\n",
    "            )\n"
   ],
   "id": "e12350661ea1aef",
   "outputs": [],
   "execution_count": 34
  },
  {
   "metadata": {
    "ExecuteTime": {
     "end_time": "2025-08-27T01:37:46.464434Z",
     "start_time": "2025-08-27T01:35:41.040447Z"
    }
   },
   "cell_type": "code",
   "source": "data = extract_flight_features(data)",
   "id": "a442e9536a45a9b9",
   "outputs": [],
   "execution_count": 88
  },
  {
   "metadata": {},
   "cell_type": "markdown",
   "source": [
    "### Prepare Training Data\n",
    "\n",
    "Now combining customer features with clustering segmentation results and flight features"
   ],
   "id": "5108e633dd82e57b"
  },
  {
   "metadata": {
    "ExecuteTime": {
     "end_time": "2025-08-27T01:39:26.731899Z",
     "start_time": "2025-08-27T01:39:26.721328Z"
    }
   },
   "cell_type": "code",
   "source": [
    "def prepare_training_data(cust_data, flight_features, cust_segments, outlier_indices=None):\n",
    "    # if outliers were removed for clustering, then remove them for training\n",
    "    if outlier_indices is not None and len(outlier_indices) > 0:\n",
    "        mask = ~pl.Series(range(len(cust_data))).is_in(outlier_indices)\n",
    "        cust_features = cust_data.filter(mask).lazy()\n",
    "    else:\n",
    "        cust_features = cust_data.lazy()\n",
    "\n",
    "    # Add the cluster labels to the customer features\n",
    "    cust_features = cust_features.with_columns([\n",
    "        pl.Series('customer_segment', cust_segments)\n",
    "    ])\n",
    "\n",
    "    # Join the customer features with the flight features, removing outlier profiles\n",
    "    flight_features = flight_features.lazy().join(cust_features, on='profileId', how='inner').drop(pl.col('profileId'))\n",
    "    flight_features = flight_features.with_columns([\n",
    "        (pl.col('is_daytime') * (1.0 - pl.col('night_flight_preference').fill_null(0.5))).alias('daytime_alignment'),\n",
    "        (pl.col('is_weekend') * pl.col('weekend_travel_rate').fill_null(0.5)).alias('weekend_alignment'),\n",
    "        (pl.col('price_rank_pct') * pl.col('price_position_preference').fill_null(0.5)).alias('price_preference_match'),\n",
    "        (pl.col('primary_carrier') == pl.col('most_common_carrier').fill_null('unknown')).cast(pl.Int8).alias('carrier_loyalty_match'),\n",
    "    ])\n",
    "\n",
    "    # Materialize the data\n",
    "    X = flight_features.collect()\n",
    "\n",
    "    # Get target label\n",
    "    y_true = X['selected'].to_numpy()\n",
    "\n",
    "    return X.drop(pl.col('selected')), y_true\n"
   ],
   "id": "a6766d3ee1c3b8b0",
   "outputs": [],
   "execution_count": 89
  },
  {
   "metadata": {
    "ExecuteTime": {
     "end_time": "2025-08-27T01:39:49.701432Z",
     "start_time": "2025-08-27T01:39:47.798318Z"
    }
   },
   "cell_type": "code",
   "source": "data, y_true = prepare_training_data(cust_data, data, clustering_results['labels'], outlier_indices)",
   "id": "f4039dd0c691dada",
   "outputs": [],
   "execution_count": 90
  },
  {
   "metadata": {
    "ExecuteTime": {
     "end_time": "2025-08-27T01:39:56.246506Z",
     "start_time": "2025-08-27T01:39:56.222978Z"
    }
   },
   "cell_type": "code",
   "source": "data.head(1000)",
   "id": "2b9bebefa220ee9a",
   "outputs": [
    {
     "data": {
      "text/plain": [
       "shape: (1_000, 119)\n",
       "┌──────┬────────────┬────────────┬────────────┬───┬────────────┬───────────┬───────────┬───────────┐\n",
       "│ Id   ┆ corporateT ┆ miniRules0 ┆ miniRules0 ┆ … ┆ daytime_al ┆ weekend_a ┆ price_pre ┆ carrier_l │\n",
       "│ ---  ┆ ariffCode  ┆ _monetaryA ┆ _percentag ┆   ┆ ignment    ┆ lignment  ┆ ference_m ┆ oyalty_ma │\n",
       "│ i64  ┆ ---        ┆ mount      ┆ e          ┆   ┆ ---        ┆ ---       ┆ atch      ┆ tch       │\n",
       "│      ┆ i64        ┆ ---        ┆ ---        ┆   ┆ f64        ┆ f64       ┆ ---       ┆ ---       │\n",
       "│      ┆            ┆ f64        ┆ f64        ┆   ┆            ┆           ┆ f64       ┆ i8        │\n",
       "╞══════╪════════════╪════════════╪════════════╪═══╪════════════╪═══════════╪═══════════╪═══════════╡\n",
       "│ 0    ┆ 0          ┆ 0.0        ┆ 0.0        ┆ … ┆ 1.0        ┆ 0.0       ┆ 1.80224   ┆ 0         │\n",
       "│ 1    ┆ 123        ┆ 2300.0     ┆ 0.0        ┆ … ┆ 1.0        ┆ 0.0       ┆ 3.60448   ┆ 1         │\n",
       "│ 2    ┆ 0          ┆ 2300.0     ┆ 0.0        ┆ … ┆ 1.0        ┆ 0.0       ┆ 14.417919 ┆ 1         │\n",
       "│ 3    ┆ 123        ┆ 0.0        ┆ 0.0        ┆ … ┆ 1.0        ┆ 0.0       ┆ 25.231359 ┆ 1         │\n",
       "│ 4    ┆ 0          ┆ 0.0        ┆ 0.0        ┆ … ┆ 1.0        ┆ 0.0       ┆ 36.044799 ┆ 1         │\n",
       "│ …    ┆ …          ┆ …          ┆ …          ┆ … ┆ …          ┆ …         ┆ …         ┆ …         │\n",
       "│ 997  ┆ 0          ┆ 2300.0     ┆ 0.0        ┆ … ┆ 0.488943   ┆ 0.0       ┆ 36.030413 ┆ 1         │\n",
       "│ 998  ┆ 115        ┆ 0.0        ┆ 0.0        ┆ … ┆ 0.488943   ┆ 0.0       ┆ 43.236495 ┆ 1         │\n",
       "│ 999  ┆ 0          ┆ 0.0        ┆ 0.0        ┆ … ┆ 0.488943   ┆ 0.0       ┆ 44.067966 ┆ 1         │\n",
       "│ 1000 ┆ 115        ┆ 4000.0     ┆ 0.0        ┆ … ┆ 0.488943   ┆ 0.0       ┆ 24.389818 ┆ 1         │\n",
       "│ 1001 ┆ 0          ┆ 4000.0     ┆ 0.0        ┆ … ┆ 0.488943   ┆ 0.0       ┆ 28.270016 ┆ 1         │\n",
       "└──────┴────────────┴────────────┴────────────┴───┴────────────┴───────────┴───────────┴───────────┘"
      ],
      "text/html": [
       "<div><style>\n",
       ".dataframe > thead > tr,\n",
       ".dataframe > tbody > tr {\n",
       "  text-align: right;\n",
       "  white-space: pre-wrap;\n",
       "}\n",
       "</style>\n",
       "<small>shape: (1_000, 119)</small><table border=\"1\" class=\"dataframe\"><thead><tr><th>Id</th><th>corporateTariffCode</th><th>miniRules0_monetaryAmount</th><th>miniRules0_percentage</th><th>miniRules0_statusInfos</th><th>miniRules1_monetaryAmount</th><th>miniRules1_percentage</th><th>miniRules1_statusInfos</th><th>pricingInfo_isAccessTP</th><th>pricingInfo_passengerCount</th><th>price_percentile</th><th>price_rank_pct</th><th>price_ratio_to_min</th><th>route_popularity</th><th>route_popularity_log</th><th>is_access3D</th><th>is_roundtrip</th><th>route_origin</th><th>origin_is_major_hub</th><th>destination_is_major_hub</th><th>includes_major_hub</th><th>leg0_num_segments</th><th>leg1_num_segments</th><th>total_segments</th><th>leg0_flight_time_min</th><th>leg1_flight_time_min</th><th>booking_lead_days</th><th>leg0_duration_minutes</th><th>leg1_duration_minutes</th><th>trip_duration_minutes</th><th>leg0_departure_hour</th><th>leg0_departure_weekday</th><th>leg0_arrival_hour</th><th>leg0_arrival_weekday</th><th>leg1_departure_hour</th><th>leg1_arrival_hour</th><th>leg1_departure_weekday</th><th>&hellip;</th><th>route_loyalty</th><th>hub_preference</th><th>short_haul_preference</th><th>connection_tolerance</th><th>preferred_duration_quartile</th><th>price_to_duration_sensitivity</th><th>avg_price_per_minute</th><th>price_per_minute_variance</th><th>price_position_preference</th><th>premium_economy_preference</th><th>consistent_price_tier</th><th>preferred_price_tier</th><th>baggage_qty_preference</th><th>baggage_weight_preference</th><th>loyalty_program_utilization</th><th>convenience_priority_score</th><th>loyalty_vs_price_index</th><th>planning_consistency_score</th><th>luxury_index</th><th>search_intensity_per_route</th><th>lead_time_variance</th><th>lead_time_skew</th><th>carrier_diversity</th><th>airport_diversity</th><th>cabin_class_range</th><th>customer_tier</th><th>vip_search_intensity</th><th>vip_carrier_diversity</th><th>vip_cabin_preference</th><th>corp_search_volume</th><th>corp_roundtrip_pref</th><th>corp_planning_variance</th><th>customer_segment</th><th>daytime_alignment</th><th>weekend_alignment</th><th>price_preference_match</th><th>carrier_loyalty_match</th></tr><tr><td>i64</td><td>i64</td><td>f64</td><td>f64</td><td>f64</td><td>f64</td><td>f64</td><td>f64</td><td>f64</td><td>i64</td><td>f64</td><td>f64</td><td>f64</td><td>u32</td><td>f64</td><td>i32</td><td>i8</td><td>str</td><td>i32</td><td>i32</td><td>i32</td><td>u32</td><td>u32</td><td>u32</td><td>i32</td><td>i32</td><td>i32</td><td>i32</td><td>i32</td><td>i32</td><td>i8</td><td>i8</td><td>i8</td><td>i8</td><td>i8</td><td>i8</td><td>i8</td><td>&hellip;</td><td>f64</td><td>f64</td><td>f64</td><td>f64</td><td>i32</td><td>f64</td><td>f64</td><td>f64</td><td>f64</td><td>f64</td><td>f64</td><td>i32</td><td>f64</td><td>f64</td><td>f64</td><td>f64</td><td>f64</td><td>f64</td><td>f64</td><td>f64</td><td>i32</td><td>f64</td><td>f64</td><td>f64</td><td>f64</td><td>i8</td><td>f64</td><td>f64</td><td>f64</td><td>i64</td><td>f64</td><td>i32</td><td>i64</td><td>f64</td><td>f64</td><td>f64</td><td>i8</td></tr></thead><tbody><tr><td>0</td><td>0</td><td>0.0</td><td>0.0</td><td>0.0</td><td>0.0</td><td>0.0</td><td>0.0</td><td>1.0</td><td>1</td><td>0.0</td><td>0.04</td><td>1.0</td><td>25</td><td>3.258097</td><td>0</td><td>1</td><td>&quot;TLK&quot;</td><td>0</td><td>0</td><td>0</td><td>1</td><td>1</td><td>2</td><td>160</td><td>155</td><td>29</td><td>160</td><td>155</td><td>315</td><td>15</td><td>6</td><td>16</td><td>6</td><td>9</td><td>14</td><td>2</td><td>&hellip;</td><td>0.962264</td><td>0.0</td><td>0.0</td><td>1.981132</td><td>1</td><td>-0.253891</td><td>93.370333</td><td>68.147027</td><td>45.055998</td><td>0.141509</td><td>0.619049</td><td>1</td><td>1.018868</td><td>0.0</td><td>1.0</td><td>-32.58008</td><td>5.4944</td><td>0.052632</td><td>45.358188</td><td>26.5</td><td>18</td><td>1.433237</td><td>0.056604</td><td>0.028302</td><td>1.0</td><td>1</td><td>0.0</td><td>0.0</td><td>0.0</td><td>106</td><td>0.235849</td><td>18</td><td>6</td><td>1.0</td><td>0.0</td><td>1.80224</td><td>0</td></tr><tr><td>1</td><td>123</td><td>2300.0</td><td>0.0</td><td>1.0</td><td>3500.0</td><td>0.0</td><td>1.0</td><td>1.0</td><td>1</td><td>4.166667</td><td>0.08</td><td>3.028015</td><td>25</td><td>3.258097</td><td>1</td><td>1</td><td>&quot;TLK&quot;</td><td>0</td><td>0</td><td>0</td><td>2</td><td>2</td><td>4</td><td>250</td><td>245</td><td>29</td><td>445</td><td>505</td><td>950</td><td>9</td><td>6</td><td>14</td><td>6</td><td>22</td><td>8</td><td>2</td><td>&hellip;</td><td>0.962264</td><td>0.0</td><td>0.0</td><td>1.981132</td><td>1</td><td>-0.253891</td><td>93.370333</td><td>68.147027</td><td>45.055998</td><td>0.141509</td><td>0.619049</td><td>1</td><td>1.018868</td><td>0.0</td><td>1.0</td><td>-32.58008</td><td>5.4944</td><td>0.052632</td><td>45.358188</td><td>26.5</td><td>18</td><td>1.433237</td><td>0.056604</td><td>0.028302</td><td>1.0</td><td>1</td><td>0.0</td><td>0.0</td><td>0.0</td><td>106</td><td>0.235849</td><td>18</td><td>6</td><td>1.0</td><td>0.0</td><td>3.60448</td><td>1</td></tr><tr><td>2</td><td>0</td><td>2300.0</td><td>0.0</td><td>1.0</td><td>3500.0</td><td>0.0</td><td>1.0</td><td>1.0</td><td>1</td><td>29.166667</td><td>0.32</td><td>3.18023</td><td>25</td><td>3.258097</td><td>0</td><td>1</td><td>&quot;TLK&quot;</td><td>0</td><td>0</td><td>0</td><td>2</td><td>2</td><td>4</td><td>250</td><td>245</td><td>29</td><td>445</td><td>505</td><td>950</td><td>9</td><td>6</td><td>14</td><td>6</td><td>22</td><td>8</td><td>2</td><td>&hellip;</td><td>0.962264</td><td>0.0</td><td>0.0</td><td>1.981132</td><td>1</td><td>-0.253891</td><td>93.370333</td><td>68.147027</td><td>45.055998</td><td>0.141509</td><td>0.619049</td><td>1</td><td>1.018868</td><td>0.0</td><td>1.0</td><td>-32.58008</td><td>5.4944</td><td>0.052632</td><td>45.358188</td><td>26.5</td><td>18</td><td>1.433237</td><td>0.056604</td><td>0.028302</td><td>1.0</td><td>1</td><td>0.0</td><td>0.0</td><td>0.0</td><td>106</td><td>0.235849</td><td>18</td><td>6</td><td>1.0</td><td>0.0</td><td>14.417919</td><td>1</td></tr><tr><td>3</td><td>123</td><td>0.0</td><td>0.0</td><td>1.0</td><td>0.0</td><td>0.0</td><td>1.0</td><td>1.0</td><td>1</td><td>54.166667</td><td>0.56</td><td>4.849562</td><td>25</td><td>3.258097</td><td>1</td><td>1</td><td>&quot;TLK&quot;</td><td>0</td><td>0</td><td>0</td><td>2</td><td>2</td><td>4</td><td>250</td><td>245</td><td>29</td><td>445</td><td>505</td><td>950</td><td>9</td><td>6</td><td>14</td><td>6</td><td>22</td><td>8</td><td>2</td><td>&hellip;</td><td>0.962264</td><td>0.0</td><td>0.0</td><td>1.981132</td><td>1</td><td>-0.253891</td><td>93.370333</td><td>68.147027</td><td>45.055998</td><td>0.141509</td><td>0.619049</td><td>1</td><td>1.018868</td><td>0.0</td><td>1.0</td><td>-32.58008</td><td>5.4944</td><td>0.052632</td><td>45.358188</td><td>26.5</td><td>18</td><td>1.433237</td><td>0.056604</td><td>0.028302</td><td>1.0</td><td>1</td><td>0.0</td><td>0.0</td><td>0.0</td><td>106</td><td>0.235849</td><td>18</td><td>6</td><td>1.0</td><td>0.0</td><td>25.231359</td><td>1</td></tr><tr><td>4</td><td>0</td><td>0.0</td><td>0.0</td><td>1.0</td><td>0.0</td><td>0.0</td><td>1.0</td><td>1.0</td><td>1</td><td>79.166667</td><td>0.8</td><td>5.097726</td><td>25</td><td>3.258097</td><td>0</td><td>1</td><td>&quot;TLK&quot;</td><td>0</td><td>0</td><td>0</td><td>2</td><td>2</td><td>4</td><td>250</td><td>245</td><td>29</td><td>445</td><td>505</td><td>950</td><td>9</td><td>6</td><td>14</td><td>6</td><td>22</td><td>8</td><td>2</td><td>&hellip;</td><td>0.962264</td><td>0.0</td><td>0.0</td><td>1.981132</td><td>1</td><td>-0.253891</td><td>93.370333</td><td>68.147027</td><td>45.055998</td><td>0.141509</td><td>0.619049</td><td>1</td><td>1.018868</td><td>0.0</td><td>1.0</td><td>-32.58008</td><td>5.4944</td><td>0.052632</td><td>45.358188</td><td>26.5</td><td>18</td><td>1.433237</td><td>0.056604</td><td>0.028302</td><td>1.0</td><td>1</td><td>0.0</td><td>0.0</td><td>0.0</td><td>106</td><td>0.235849</td><td>18</td><td>6</td><td>1.0</td><td>0.0</td><td>36.044799</td><td>1</td></tr><tr><td>&hellip;</td><td>&hellip;</td><td>&hellip;</td><td>&hellip;</td><td>&hellip;</td><td>&hellip;</td><td>&hellip;</td><td>&hellip;</td><td>&hellip;</td><td>&hellip;</td><td>&hellip;</td><td>&hellip;</td><td>&hellip;</td><td>&hellip;</td><td>&hellip;</td><td>&hellip;</td><td>&hellip;</td><td>&hellip;</td><td>&hellip;</td><td>&hellip;</td><td>&hellip;</td><td>&hellip;</td><td>&hellip;</td><td>&hellip;</td><td>&hellip;</td><td>&hellip;</td><td>&hellip;</td><td>&hellip;</td><td>&hellip;</td><td>&hellip;</td><td>&hellip;</td><td>&hellip;</td><td>&hellip;</td><td>&hellip;</td><td>&hellip;</td><td>&hellip;</td><td>&hellip;</td><td>&hellip;</td><td>&hellip;</td><td>&hellip;</td><td>&hellip;</td><td>&hellip;</td><td>&hellip;</td><td>&hellip;</td><td>&hellip;</td><td>&hellip;</td><td>&hellip;</td><td>&hellip;</td><td>&hellip;</td><td>&hellip;</td><td>&hellip;</td><td>&hellip;</td><td>&hellip;</td><td>&hellip;</td><td>&hellip;</td><td>&hellip;</td><td>&hellip;</td><td>&hellip;</td><td>&hellip;</td><td>&hellip;</td><td>&hellip;</td><td>&hellip;</td><td>&hellip;</td><td>&hellip;</td><td>&hellip;</td><td>&hellip;</td><td>&hellip;</td><td>&hellip;</td><td>&hellip;</td><td>&hellip;</td><td>&hellip;</td><td>&hellip;</td><td>&hellip;</td><td>&hellip;</td><td>&hellip;</td></tr><tr><td>997</td><td>0</td><td>2300.0</td><td>0.0</td><td>1.0</td><td>3500.0</td><td>0.0</td><td>1.0</td><td>0.0</td><td>1</td><td>72.47191</td><td>0.726257</td><td>3.73042</td><td>2913</td><td>7.977282</td><td>0</td><td>1</td><td>&quot;OVB&quot;</td><td>0</td><td>0</td><td>0</td><td>2</td><td>2</td><td>4</td><td>630</td><td>655</td><td>3</td><td>690</td><td>870</td><td>1560</td><td>17</td><td>1</td><td>7</td><td>2</td><td>8</td><td>20</td><td>3</td><td>&hellip;</td><td>0.992629</td><td>0.0</td><td>0.0</td><td>1.307125</td><td>2</td><td>0.340584</td><td>89.040997</td><td>65.866801</td><td>49.611107</td><td>0.093366</td><td>0.629478</td><td>3</td><td>0.678133</td><td>0.0</td><td>0.0</td><td>-68.478065</td><td>-4.961111</td><td>0.166667</td><td>48.228977</td><td>135.666667</td><td>5</td><td>0.772727</td><td>0.009828</td><td>0.002457</td><td>3.0</td><td>1</td><td>0.0</td><td>0.0</td><td>0.0</td><td>407</td><td>1.0</td><td>5</td><td>2</td><td>0.488943</td><td>0.0</td><td>36.030413</td><td>1</td></tr><tr><td>998</td><td>115</td><td>0.0</td><td>0.0</td><td>1.0</td><td>0.0</td><td>0.0</td><td>1.0</td><td>0.0</td><td>1</td><td>87.078652</td><td>0.871508</td><td>5.704576</td><td>2913</td><td>7.977282</td><td>1</td><td>1</td><td>&quot;OVB&quot;</td><td>0</td><td>0</td><td>0</td><td>2</td><td>2</td><td>4</td><td>630</td><td>655</td><td>3</td><td>690</td><td>870</td><td>1560</td><td>17</td><td>1</td><td>7</td><td>2</td><td>8</td><td>20</td><td>3</td><td>&hellip;</td><td>0.992629</td><td>0.0</td><td>0.0</td><td>1.307125</td><td>2</td><td>0.340584</td><td>89.040997</td><td>65.866801</td><td>49.611107</td><td>0.093366</td><td>0.629478</td><td>3</td><td>0.678133</td><td>0.0</td><td>0.0</td><td>-68.478065</td><td>-4.961111</td><td>0.166667</td><td>48.228977</td><td>135.666667</td><td>5</td><td>0.772727</td><td>0.009828</td><td>0.002457</td><td>3.0</td><td>1</td><td>0.0</td><td>0.0</td><td>0.0</td><td>407</td><td>1.0</td><td>5</td><td>2</td><td>0.488943</td><td>0.0</td><td>43.236495</td><td>1</td></tr><tr><td>999</td><td>0</td><td>0.0</td><td>0.0</td><td>1.0</td><td>0.0</td><td>0.0</td><td>1.0</td><td>0.0</td><td>1</td><td>88.764045</td><td>0.888268</td><td>6.06037</td><td>2913</td><td>7.977282</td><td>0</td><td>1</td><td>&quot;OVB&quot;</td><td>0</td><td>0</td><td>0</td><td>2</td><td>2</td><td>4</td><td>630</td><td>655</td><td>3</td><td>690</td><td>870</td><td>1560</td><td>17</td><td>1</td><td>7</td><td>2</td><td>8</td><td>20</td><td>3</td><td>&hellip;</td><td>0.992629</td><td>0.0</td><td>0.0</td><td>1.307125</td><td>2</td><td>0.340584</td><td>89.040997</td><td>65.866801</td><td>49.611107</td><td>0.093366</td><td>0.629478</td><td>3</td><td>0.678133</td><td>0.0</td><td>0.0</td><td>-68.478065</td><td>-4.961111</td><td>0.166667</td><td>48.228977</td><td>135.666667</td><td>5</td><td>0.772727</td><td>0.009828</td><td>0.002457</td><td>3.0</td><td>1</td><td>0.0</td><td>0.0</td><td>0.0</td><td>407</td><td>1.0</td><td>5</td><td>2</td><td>0.488943</td><td>0.0</td><td>44.067966</td><td>1</td></tr><tr><td>1000</td><td>115</td><td>4000.0</td><td>0.0</td><td>1.0</td><td>0.0</td><td>0.0</td><td>0.0</td><td>0.0</td><td>1</td><td>48.876404</td><td>0.49162</td><td>2.616203</td><td>2913</td><td>7.977282</td><td>1</td><td>1</td><td>&quot;OVB&quot;</td><td>0</td><td>0</td><td>0</td><td>2</td><td>2</td><td>4</td><td>630</td><td>655</td><td>3</td><td>690</td><td>905</td><td>1595</td><td>17</td><td>1</td><td>7</td><td>2</td><td>11</td><td>0</td><td>3</td><td>&hellip;</td><td>0.992629</td><td>0.0</td><td>0.0</td><td>1.307125</td><td>2</td><td>0.340584</td><td>89.040997</td><td>65.866801</td><td>49.611107</td><td>0.093366</td><td>0.629478</td><td>3</td><td>0.678133</td><td>0.0</td><td>0.0</td><td>-68.478065</td><td>-4.961111</td><td>0.166667</td><td>48.228977</td><td>135.666667</td><td>5</td><td>0.772727</td><td>0.009828</td><td>0.002457</td><td>3.0</td><td>1</td><td>0.0</td><td>0.0</td><td>0.0</td><td>407</td><td>1.0</td><td>5</td><td>2</td><td>0.488943</td><td>0.0</td><td>24.389818</td><td>1</td></tr><tr><td>1001</td><td>0</td><td>4000.0</td><td>0.0</td><td>1.0</td><td>0.0</td><td>0.0</td><td>0.0</td><td>0.0</td><td>1</td><td>56.741573</td><td>0.569832</td><td>2.774852</td><td>2913</td><td>7.977282</td><td>0</td><td>1</td><td>&quot;OVB&quot;</td><td>0</td><td>0</td><td>0</td><td>2</td><td>2</td><td>4</td><td>630</td><td>655</td><td>3</td><td>690</td><td>905</td><td>1595</td><td>17</td><td>1</td><td>7</td><td>2</td><td>11</td><td>0</td><td>3</td><td>&hellip;</td><td>0.992629</td><td>0.0</td><td>0.0</td><td>1.307125</td><td>2</td><td>0.340584</td><td>89.040997</td><td>65.866801</td><td>49.611107</td><td>0.093366</td><td>0.629478</td><td>3</td><td>0.678133</td><td>0.0</td><td>0.0</td><td>-68.478065</td><td>-4.961111</td><td>0.166667</td><td>48.228977</td><td>135.666667</td><td>5</td><td>0.772727</td><td>0.009828</td><td>0.002457</td><td>3.0</td><td>1</td><td>0.0</td><td>0.0</td><td>0.0</td><td>407</td><td>1.0</td><td>5</td><td>2</td><td>0.488943</td><td>0.0</td><td>28.270016</td><td>1</td></tr></tbody></table></div>"
      ]
     },
     "execution_count": 91,
     "metadata": {},
     "output_type": "execute_result"
    }
   ],
   "execution_count": 91
  },
  {
   "metadata": {
    "ExecuteTime": {
     "end_time": "2025-08-27T01:20:58.747382Z",
     "start_time": "2025-08-27T01:20:58.741848Z"
    }
   },
   "cell_type": "code",
   "source": "data.shape",
   "id": "cc48dba264e64bd",
   "outputs": [
    {
     "data": {
      "text/plain": [
       "(16040934, 120)"
      ]
     },
     "execution_count": 85,
     "metadata": {},
     "output_type": "execute_result"
    }
   ],
   "execution_count": 85
  },
  {
   "metadata": {},
   "cell_type": "code",
   "outputs": [],
   "execution_count": null,
   "source": [
    "# Create chunks for processing efficiency\n",
    "def get_chunks(data, chunk_size=10000):\n",
    "    X_chunks = []\n",
    "    y_chunks = []\n",
    "    group_chunks = []\n",
    "\n",
    "    # Get unique ranker_ids to avoid splitting searches across groups\n",
    "    ranker_ids = data.select('ranker_id').unique().sort('ranker_id')['ranker_id'].to_list()\n",
    "\n",
    "    for i in range(0, len(ranker_ids), chunk_size):\n",
    "        chunk_ranker_ids = ranker_ids[i:i + chunk_size]\n",
    "\n",
    "        # Filter chunk by ranker_ids\n",
    "        X_chunk = data.filter(pl.col('ranker_id').is_in(chunk_ranker_ids))\n",
    "\n",
    "        y_chunk = X_chunk.select('selected').to_numpy().ravel()\n",
    "        group_chunk = X_chunk.select('ranker_id').to_numpy().ravel()\n",
    "\n",
    "        X_chunks.append(X_chunk)\n",
    "        y_chunks.append(y_chunk)\n",
    "        group_chunks.append(group_chunk)\n",
    "\n",
    "    # Combine chunks\n",
    "    print(\"Combining chunks...\")\n",
    "    X = np.vstack(X_chunks)\n",
    "    y = np.concatenate(y_chunks)\n",
    "    groups = np.concatenate(group_chunks)\n",
    "\n",
    "    return np.concatenate(group_chunks)\n"
   ],
   "id": "6a60db00426c390"
  },
  {
   "metadata": {},
   "cell_type": "code",
   "outputs": [],
   "execution_count": null,
   "source": [
    "import lightgbm as lgb\n",
    "\n",
    "# Create group sizes for LightGBM ranking\n",
    "# unique_groups, group_sizes = np.unique(groups, return_counts=True)\n",
    "\n",
    "# LightGBM with memory-efficient settings\n",
    "lgb_model = lgb.LGBMRanker(\n",
    "    objective='lambdarank',\n",
    "    metric='ndcg',\n",
    "    boosting_type='gbdt',\n",
    "    num_leaves=31,\n",
    "    learning_rate=0.1,\n",
    "    feature_fraction=0.8,\n",
    "    bagging_fraction=0.8,\n",
    "    bagging_freq=5,\n",
    "    verbose=-1,\n",
    "    random_state=42,\n",
    "    n_jobs=4,\n",
    "    force_row_wise=True  # Memory efficient\n",
    ")\n",
    "\n",
    "lbg_model.fit(\n",
    "    X, y,\n",
    "    group=group_sizes,\n",
    "    callbacks=[lgb.early_stopping(50), lgb.log_evaluation(100)]\n",
    ")\n"
   ],
   "id": "cc47f01b6ee2a239"
  }
 ],
 "metadata": {
  "kernelspec": {
   "display_name": "Python 3",
   "language": "python",
   "name": "python3"
  },
  "language_info": {
   "codemirror_mode": {
    "name": "ipython",
    "version": 2
   },
   "file_extension": ".py",
   "mimetype": "text/x-python",
   "name": "python",
   "nbconvert_exporter": "python",
   "pygments_lexer": "ipython2",
   "version": "2.7.6"
  }
 },
 "nbformat": 4,
 "nbformat_minor": 5
}
