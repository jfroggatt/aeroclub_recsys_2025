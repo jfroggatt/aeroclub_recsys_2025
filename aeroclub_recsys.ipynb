{
 "cells": [
  {
   "metadata": {},
   "cell_type": "markdown",
   "source": [
    "# This is a sample Jupyter Notebook\n",
    "\n",
    "Below is an example of a code cell. \n",
    "Put your cursor into the cell and press Shift+Enter to execute it and select the next one, or click 'Run Cell' button.\n",
    "\n",
    "Press Double Shift to search everywhere for classes, files, tool windows, actions, and settings.\n",
    "\n",
    "To learn more about Jupyter Notebooks in PyCharm, see [help](https://www.jetbrains.com/help/pycharm/ipython-notebook-support.html).\n",
    "For an overview of PyCharm, go to Help -> Learn IDE features or refer to [our documentation](https://www.jetbrains.com/help/pycharm/getting-started.html)."
   ],
   "id": "8a77807f92f26ee"
  },
  {
   "metadata": {
    "ExecuteTime": {
     "end_time": "2025-08-13T20:04:41.187008Z",
     "start_time": "2025-08-13T20:04:39.377258Z"
    }
   },
   "cell_type": "code",
   "source": [
    "import gc\n",
    "import os\n",
    "import re\n",
    "from typing import List, Dict\n",
    "\n",
    "import numpy as np\n",
    "import pandas as pd\n",
    "import polars as pl\n",
    "import polars.selectors as cs\n",
    "\n",
    "from sklearn.cluster import KMeans, DBSCAN, MiniBatchKMeans\n",
    "from sklearn.decomposition import PCA\n",
    "from sklearn.ensemble import RandomForestClassifier, GradientBoostingClassifier\n",
    "from sklearn.metrics import classification_report, roc_auc_score\n",
    "from sklearn.model_selection import train_test_split, cross_val_score\n",
    "from sklearn.preprocessing import StandardScaler, LabelEncoder\n",
    "\n",
    "# import warnings\n",
    "# warnings.filterwarnings('ignore')"
   ],
   "id": "fbc121e30a2defb3",
   "outputs": [],
   "execution_count": 1
  },
  {
   "metadata": {
    "ExecuteTime": {
     "end_time": "2025-08-13T20:04:46.525057Z",
     "start_time": "2025-08-13T20:04:43.357441Z"
    }
   },
   "cell_type": "code",
   "source": [
    "# load files\n",
    "# train = pl.read_parquet('/kaggle/input/aeroclub-recsys-2025/train.parquet')\n",
    "# train_y = train['selected']\n",
    "# train = train.drop('selected')\n",
    "\n",
    "# data = pl.concat([train, pl.read_parquet('/kaggle/input/aeroclub-recsys-2025/test.parquet')])\n",
    "data = pl.read_parquet('/kaggle/input/aeroclub-recsys-2025/train.parquet').drop('selected')\n",
    "\n",
    "# del train\n",
    "gc.collect()\n",
    "# sample_submission = pl.read_parquet('/kaggle/input/aeroclub-recsys-2025/sample_submission.parquet')"
   ],
   "id": "20204af1762921bf",
   "outputs": [
    {
     "data": {
      "text/plain": [
       "64"
      ]
     },
     "execution_count": 2,
     "metadata": {},
     "output_type": "execute_result"
    }
   ],
   "execution_count": 2
  },
  {
   "metadata": {
    "ExecuteTime": {
     "end_time": "2025-08-13T20:04:54.588944Z",
     "start_time": "2025-08-13T20:04:54.579943Z"
    }
   },
   "cell_type": "code",
   "source": "data.head()",
   "id": "904deec5a1c5ec33",
   "outputs": [
    {
     "data": {
      "text/plain": [
       "shape: (5, 126)\n",
       "┌─────┬────────┬───────────┬───────────────────┬───┬──────┬────────┬────────────┬──────────────────┐\n",
       "│ Id  ┆ bySelf ┆ companyID ┆ corporateTariffCo ┆ … ┆ sex  ┆ taxes  ┆ totalPrice ┆ __index_level_0_ │\n",
       "│ --- ┆ ---    ┆ ---       ┆ de                ┆   ┆ ---  ┆ ---    ┆ ---        ┆ _                │\n",
       "│ i64 ┆ bool   ┆ i64       ┆ ---               ┆   ┆ bool ┆ f64    ┆ f64        ┆ ---              │\n",
       "│     ┆        ┆           ┆ i64               ┆   ┆      ┆        ┆            ┆ i64              │\n",
       "╞═════╪════════╪═══════════╪═══════════════════╪═══╪══════╪════════╪════════════╪══════════════════╡\n",
       "│ 0   ┆ true   ┆ 57323     ┆ null              ┆ … ┆ true ┆ 370.0  ┆ 16884.0    ┆ 0                │\n",
       "│ 1   ┆ true   ┆ 57323     ┆ 123               ┆ … ┆ true ┆ 2240.0 ┆ 51125.0    ┆ 1                │\n",
       "│ 2   ┆ true   ┆ 57323     ┆ null              ┆ … ┆ true ┆ 2240.0 ┆ 53695.0    ┆ 2                │\n",
       "│ 3   ┆ true   ┆ 57323     ┆ 123               ┆ … ┆ true ┆ 2240.0 ┆ 81880.0    ┆ 3                │\n",
       "│ 4   ┆ true   ┆ 57323     ┆ null              ┆ … ┆ true ┆ 2240.0 ┆ 86070.0    ┆ 4                │\n",
       "└─────┴────────┴───────────┴───────────────────┴───┴──────┴────────┴────────────┴──────────────────┘"
      ],
      "text/html": [
       "<div><style>\n",
       ".dataframe > thead > tr,\n",
       ".dataframe > tbody > tr {\n",
       "  text-align: right;\n",
       "  white-space: pre-wrap;\n",
       "}\n",
       "</style>\n",
       "<small>shape: (5, 126)</small><table border=\"1\" class=\"dataframe\"><thead><tr><th>Id</th><th>bySelf</th><th>companyID</th><th>corporateTariffCode</th><th>frequentFlyer</th><th>nationality</th><th>isAccess3D</th><th>isVip</th><th>legs0_arrivalAt</th><th>legs0_departureAt</th><th>legs0_duration</th><th>legs0_segments0_aircraft_code</th><th>legs0_segments0_arrivalTo_airport_city_iata</th><th>legs0_segments0_arrivalTo_airport_iata</th><th>legs0_segments0_baggageAllowance_quantity</th><th>legs0_segments0_baggageAllowance_weightMeasurementType</th><th>legs0_segments0_cabinClass</th><th>legs0_segments0_departureFrom_airport_iata</th><th>legs0_segments0_duration</th><th>legs0_segments0_flightNumber</th><th>legs0_segments0_marketingCarrier_code</th><th>legs0_segments0_operatingCarrier_code</th><th>legs0_segments0_seatsAvailable</th><th>legs0_segments1_aircraft_code</th><th>legs0_segments1_arrivalTo_airport_city_iata</th><th>legs0_segments1_arrivalTo_airport_iata</th><th>legs0_segments1_baggageAllowance_quantity</th><th>legs0_segments1_baggageAllowance_weightMeasurementType</th><th>legs0_segments1_cabinClass</th><th>legs0_segments1_departureFrom_airport_iata</th><th>legs0_segments1_duration</th><th>legs0_segments1_flightNumber</th><th>legs0_segments1_marketingCarrier_code</th><th>legs0_segments1_operatingCarrier_code</th><th>legs0_segments1_seatsAvailable</th><th>legs0_segments2_aircraft_code</th><th>legs0_segments2_arrivalTo_airport_city_iata</th><th>&hellip;</th><th>legs1_segments2_baggageAllowance_quantity</th><th>legs1_segments2_baggageAllowance_weightMeasurementType</th><th>legs1_segments2_cabinClass</th><th>legs1_segments2_departureFrom_airport_iata</th><th>legs1_segments2_duration</th><th>legs1_segments2_flightNumber</th><th>legs1_segments2_marketingCarrier_code</th><th>legs1_segments2_operatingCarrier_code</th><th>legs1_segments2_seatsAvailable</th><th>legs1_segments3_aircraft_code</th><th>legs1_segments3_arrivalTo_airport_city_iata</th><th>legs1_segments3_arrivalTo_airport_iata</th><th>legs1_segments3_baggageAllowance_quantity</th><th>legs1_segments3_baggageAllowance_weightMeasurementType</th><th>legs1_segments3_cabinClass</th><th>legs1_segments3_departureFrom_airport_iata</th><th>legs1_segments3_duration</th><th>legs1_segments3_flightNumber</th><th>legs1_segments3_marketingCarrier_code</th><th>legs1_segments3_operatingCarrier_code</th><th>legs1_segments3_seatsAvailable</th><th>miniRules0_monetaryAmount</th><th>miniRules0_percentage</th><th>miniRules0_statusInfos</th><th>miniRules1_monetaryAmount</th><th>miniRules1_percentage</th><th>miniRules1_statusInfos</th><th>pricingInfo_isAccessTP</th><th>pricingInfo_passengerCount</th><th>profileId</th><th>ranker_id</th><th>requestDate</th><th>searchRoute</th><th>sex</th><th>taxes</th><th>totalPrice</th><th>__index_level_0__</th></tr><tr><td>i64</td><td>bool</td><td>i64</td><td>i64</td><td>str</td><td>i64</td><td>bool</td><td>bool</td><td>str</td><td>str</td><td>str</td><td>str</td><td>str</td><td>str</td><td>f64</td><td>f64</td><td>f64</td><td>str</td><td>str</td><td>str</td><td>str</td><td>str</td><td>f64</td><td>str</td><td>str</td><td>str</td><td>f64</td><td>f64</td><td>f64</td><td>str</td><td>str</td><td>str</td><td>str</td><td>str</td><td>f64</td><td>str</td><td>str</td><td>&hellip;</td><td>f64</td><td>f64</td><td>f64</td><td>str</td><td>str</td><td>str</td><td>str</td><td>str</td><td>f64</td><td>str</td><td>str</td><td>str</td><td>f64</td><td>f64</td><td>f64</td><td>str</td><td>str</td><td>str</td><td>str</td><td>str</td><td>f64</td><td>f64</td><td>f64</td><td>f64</td><td>f64</td><td>f64</td><td>f64</td><td>f64</td><td>i64</td><td>i64</td><td>str</td><td>datetime[ns]</td><td>str</td><td>bool</td><td>f64</td><td>f64</td><td>i64</td></tr></thead><tbody><tr><td>0</td><td>true</td><td>57323</td><td>null</td><td>&quot;S7/SU/UT&quot;</td><td>36</td><td>false</td><td>false</td><td>&quot;2024-06-15T16:20:00&quot;</td><td>&quot;2024-06-15T15:40:00&quot;</td><td>&quot;02:40:00&quot;</td><td>&quot;YK2&quot;</td><td>&quot;KJA&quot;</td><td>&quot;KJA&quot;</td><td>1.0</td><td>0.0</td><td>1.0</td><td>&quot;TLK&quot;</td><td>&quot;02:40:00&quot;</td><td>&quot;216&quot;</td><td>&quot;KV&quot;</td><td>&quot;KV&quot;</td><td>9.0</td><td>null</td><td>null</td><td>null</td><td>null</td><td>null</td><td>null</td><td>null</td><td>null</td><td>null</td><td>null</td><td>null</td><td>null</td><td>null</td><td>null</td><td>&hellip;</td><td>null</td><td>null</td><td>null</td><td>null</td><td>null</td><td>null</td><td>null</td><td>null</td><td>null</td><td>null</td><td>null</td><td>null</td><td>null</td><td>null</td><td>null</td><td>null</td><td>null</td><td>null</td><td>null</td><td>null</td><td>null</td><td>null</td><td>null</td><td>null</td><td>null</td><td>null</td><td>null</td><td>1.0</td><td>1</td><td>2087645</td><td>&quot;98ce0dabf6964640b63079fbafd42c…</td><td>2024-05-17 03:03:08</td><td>&quot;TLKKJA/KJATLK&quot;</td><td>true</td><td>370.0</td><td>16884.0</td><td>0</td></tr><tr><td>1</td><td>true</td><td>57323</td><td>123</td><td>&quot;S7/SU/UT&quot;</td><td>36</td><td>true</td><td>false</td><td>&quot;2024-06-15T14:50:00&quot;</td><td>&quot;2024-06-15T09:25:00&quot;</td><td>&quot;07:25:00&quot;</td><td>&quot;E70&quot;</td><td>&quot;OVB&quot;</td><td>&quot;OVB&quot;</td><td>1.0</td><td>0.0</td><td>1.0</td><td>&quot;TLK&quot;</td><td>&quot;02:50:00&quot;</td><td>&quot;5358&quot;</td><td>&quot;S7&quot;</td><td>&quot;S7&quot;</td><td>4.0</td><td>&quot;E70&quot;</td><td>&quot;KJA&quot;</td><td>&quot;KJA&quot;</td><td>1.0</td><td>0.0</td><td>1.0</td><td>&quot;OVB&quot;</td><td>&quot;01:20:00&quot;</td><td>&quot;5311&quot;</td><td>&quot;S7&quot;</td><td>&quot;S7&quot;</td><td>4.0</td><td>null</td><td>null</td><td>&hellip;</td><td>null</td><td>null</td><td>null</td><td>null</td><td>null</td><td>null</td><td>null</td><td>null</td><td>null</td><td>null</td><td>null</td><td>null</td><td>null</td><td>null</td><td>null</td><td>null</td><td>null</td><td>null</td><td>null</td><td>null</td><td>null</td><td>2300.0</td><td>null</td><td>1.0</td><td>3500.0</td><td>null</td><td>1.0</td><td>1.0</td><td>1</td><td>2087645</td><td>&quot;98ce0dabf6964640b63079fbafd42c…</td><td>2024-05-17 03:03:08</td><td>&quot;TLKKJA/KJATLK&quot;</td><td>true</td><td>2240.0</td><td>51125.0</td><td>1</td></tr><tr><td>2</td><td>true</td><td>57323</td><td>null</td><td>&quot;S7/SU/UT&quot;</td><td>36</td><td>false</td><td>false</td><td>&quot;2024-06-15T14:50:00&quot;</td><td>&quot;2024-06-15T09:25:00&quot;</td><td>&quot;07:25:00&quot;</td><td>&quot;E70&quot;</td><td>&quot;OVB&quot;</td><td>&quot;OVB&quot;</td><td>1.0</td><td>0.0</td><td>1.0</td><td>&quot;TLK&quot;</td><td>&quot;02:50:00&quot;</td><td>&quot;5358&quot;</td><td>&quot;S7&quot;</td><td>&quot;S7&quot;</td><td>4.0</td><td>&quot;E70&quot;</td><td>&quot;KJA&quot;</td><td>&quot;KJA&quot;</td><td>1.0</td><td>0.0</td><td>1.0</td><td>&quot;OVB&quot;</td><td>&quot;01:20:00&quot;</td><td>&quot;5311&quot;</td><td>&quot;S7&quot;</td><td>&quot;S7&quot;</td><td>4.0</td><td>null</td><td>null</td><td>&hellip;</td><td>null</td><td>null</td><td>null</td><td>null</td><td>null</td><td>null</td><td>null</td><td>null</td><td>null</td><td>null</td><td>null</td><td>null</td><td>null</td><td>null</td><td>null</td><td>null</td><td>null</td><td>null</td><td>null</td><td>null</td><td>null</td><td>2300.0</td><td>null</td><td>1.0</td><td>3500.0</td><td>null</td><td>1.0</td><td>1.0</td><td>1</td><td>2087645</td><td>&quot;98ce0dabf6964640b63079fbafd42c…</td><td>2024-05-17 03:03:08</td><td>&quot;TLKKJA/KJATLK&quot;</td><td>true</td><td>2240.0</td><td>53695.0</td><td>2</td></tr><tr><td>3</td><td>true</td><td>57323</td><td>123</td><td>&quot;S7/SU/UT&quot;</td><td>36</td><td>true</td><td>false</td><td>&quot;2024-06-15T14:50:00&quot;</td><td>&quot;2024-06-15T09:25:00&quot;</td><td>&quot;07:25:00&quot;</td><td>&quot;E70&quot;</td><td>&quot;OVB&quot;</td><td>&quot;OVB&quot;</td><td>1.0</td><td>0.0</td><td>1.0</td><td>&quot;TLK&quot;</td><td>&quot;02:50:00&quot;</td><td>&quot;5358&quot;</td><td>&quot;S7&quot;</td><td>&quot;S7&quot;</td><td>4.0</td><td>&quot;E70&quot;</td><td>&quot;KJA&quot;</td><td>&quot;KJA&quot;</td><td>1.0</td><td>0.0</td><td>1.0</td><td>&quot;OVB&quot;</td><td>&quot;01:20:00&quot;</td><td>&quot;5311&quot;</td><td>&quot;S7&quot;</td><td>&quot;S7&quot;</td><td>4.0</td><td>null</td><td>null</td><td>&hellip;</td><td>null</td><td>null</td><td>null</td><td>null</td><td>null</td><td>null</td><td>null</td><td>null</td><td>null</td><td>null</td><td>null</td><td>null</td><td>null</td><td>null</td><td>null</td><td>null</td><td>null</td><td>null</td><td>null</td><td>null</td><td>null</td><td>0.0</td><td>null</td><td>1.0</td><td>0.0</td><td>null</td><td>1.0</td><td>1.0</td><td>1</td><td>2087645</td><td>&quot;98ce0dabf6964640b63079fbafd42c…</td><td>2024-05-17 03:03:08</td><td>&quot;TLKKJA/KJATLK&quot;</td><td>true</td><td>2240.0</td><td>81880.0</td><td>3</td></tr><tr><td>4</td><td>true</td><td>57323</td><td>null</td><td>&quot;S7/SU/UT&quot;</td><td>36</td><td>false</td><td>false</td><td>&quot;2024-06-15T14:50:00&quot;</td><td>&quot;2024-06-15T09:25:00&quot;</td><td>&quot;07:25:00&quot;</td><td>&quot;E70&quot;</td><td>&quot;OVB&quot;</td><td>&quot;OVB&quot;</td><td>1.0</td><td>0.0</td><td>1.0</td><td>&quot;TLK&quot;</td><td>&quot;02:50:00&quot;</td><td>&quot;5358&quot;</td><td>&quot;S7&quot;</td><td>&quot;S7&quot;</td><td>4.0</td><td>&quot;E70&quot;</td><td>&quot;KJA&quot;</td><td>&quot;KJA&quot;</td><td>1.0</td><td>0.0</td><td>1.0</td><td>&quot;OVB&quot;</td><td>&quot;01:20:00&quot;</td><td>&quot;5311&quot;</td><td>&quot;S7&quot;</td><td>&quot;S7&quot;</td><td>4.0</td><td>null</td><td>null</td><td>&hellip;</td><td>null</td><td>null</td><td>null</td><td>null</td><td>null</td><td>null</td><td>null</td><td>null</td><td>null</td><td>null</td><td>null</td><td>null</td><td>null</td><td>null</td><td>null</td><td>null</td><td>null</td><td>null</td><td>null</td><td>null</td><td>null</td><td>0.0</td><td>null</td><td>1.0</td><td>0.0</td><td>null</td><td>1.0</td><td>1.0</td><td>1</td><td>2087645</td><td>&quot;98ce0dabf6964640b63079fbafd42c…</td><td>2024-05-17 03:03:08</td><td>&quot;TLKKJA/KJATLK&quot;</td><td>true</td><td>2240.0</td><td>86070.0</td><td>4</td></tr></tbody></table></div>"
      ]
     },
     "execution_count": 3,
     "metadata": {},
     "output_type": "execute_result"
    }
   ],
   "execution_count": 3
  },
  {
   "metadata": {
    "ExecuteTime": {
     "end_time": "2025-08-13T20:04:57.206393Z",
     "start_time": "2025-08-13T20:04:57.196393Z"
    }
   },
   "cell_type": "code",
   "source": "data.tail()",
   "id": "40d8c2a8c4848be8",
   "outputs": [
    {
     "data": {
      "text/plain": [
       "shape: (5, 126)\n",
       "┌──────────┬────────┬───────────┬────────────────┬───┬──────┬────────┬────────────┬────────────────┐\n",
       "│ Id       ┆ bySelf ┆ companyID ┆ corporateTarif ┆ … ┆ sex  ┆ taxes  ┆ totalPrice ┆ __index_level_ │\n",
       "│ ---      ┆ ---    ┆ ---       ┆ fCode          ┆   ┆ ---  ┆ ---    ┆ ---        ┆ 0__            │\n",
       "│ i64      ┆ bool   ┆ i64       ┆ ---            ┆   ┆ bool ┆ f64    ┆ f64        ┆ ---            │\n",
       "│          ┆        ┆           ┆ i64            ┆   ┆      ┆        ┆            ┆ i64            │\n",
       "╞══════════╪════════╪═══════════╪════════════════╪═══╪══════╪════════╪════════════╪════════════════╡\n",
       "│ 18146427 ┆ true   ┆ 54154     ┆ 44             ┆ … ┆ true ┆ 5560.0 ┆ 30730.0    ┆ 18146427       │\n",
       "│ 18146428 ┆ true   ┆ 54154     ┆ 44             ┆ … ┆ true ┆ 5560.0 ┆ 27660.0    ┆ 18146428       │\n",
       "│ 18146429 ┆ true   ┆ 54154     ┆ 44             ┆ … ┆ true ┆ 5460.0 ┆ 24460.0    ┆ 18146429       │\n",
       "│ 18146430 ┆ true   ┆ 54154     ┆ 44             ┆ … ┆ true ┆ 5560.0 ┆ 25360.0    ┆ 18146430       │\n",
       "│ 18146431 ┆ true   ┆ 54154     ┆ 44             ┆ … ┆ true ┆ 5460.0 ┆ 22160.0    ┆ 18146431       │\n",
       "└──────────┴────────┴───────────┴────────────────┴───┴──────┴────────┴────────────┴────────────────┘"
      ],
      "text/html": [
       "<div><style>\n",
       ".dataframe > thead > tr,\n",
       ".dataframe > tbody > tr {\n",
       "  text-align: right;\n",
       "  white-space: pre-wrap;\n",
       "}\n",
       "</style>\n",
       "<small>shape: (5, 126)</small><table border=\"1\" class=\"dataframe\"><thead><tr><th>Id</th><th>bySelf</th><th>companyID</th><th>corporateTariffCode</th><th>frequentFlyer</th><th>nationality</th><th>isAccess3D</th><th>isVip</th><th>legs0_arrivalAt</th><th>legs0_departureAt</th><th>legs0_duration</th><th>legs0_segments0_aircraft_code</th><th>legs0_segments0_arrivalTo_airport_city_iata</th><th>legs0_segments0_arrivalTo_airport_iata</th><th>legs0_segments0_baggageAllowance_quantity</th><th>legs0_segments0_baggageAllowance_weightMeasurementType</th><th>legs0_segments0_cabinClass</th><th>legs0_segments0_departureFrom_airport_iata</th><th>legs0_segments0_duration</th><th>legs0_segments0_flightNumber</th><th>legs0_segments0_marketingCarrier_code</th><th>legs0_segments0_operatingCarrier_code</th><th>legs0_segments0_seatsAvailable</th><th>legs0_segments1_aircraft_code</th><th>legs0_segments1_arrivalTo_airport_city_iata</th><th>legs0_segments1_arrivalTo_airport_iata</th><th>legs0_segments1_baggageAllowance_quantity</th><th>legs0_segments1_baggageAllowance_weightMeasurementType</th><th>legs0_segments1_cabinClass</th><th>legs0_segments1_departureFrom_airport_iata</th><th>legs0_segments1_duration</th><th>legs0_segments1_flightNumber</th><th>legs0_segments1_marketingCarrier_code</th><th>legs0_segments1_operatingCarrier_code</th><th>legs0_segments1_seatsAvailable</th><th>legs0_segments2_aircraft_code</th><th>legs0_segments2_arrivalTo_airport_city_iata</th><th>&hellip;</th><th>legs1_segments2_baggageAllowance_quantity</th><th>legs1_segments2_baggageAllowance_weightMeasurementType</th><th>legs1_segments2_cabinClass</th><th>legs1_segments2_departureFrom_airport_iata</th><th>legs1_segments2_duration</th><th>legs1_segments2_flightNumber</th><th>legs1_segments2_marketingCarrier_code</th><th>legs1_segments2_operatingCarrier_code</th><th>legs1_segments2_seatsAvailable</th><th>legs1_segments3_aircraft_code</th><th>legs1_segments3_arrivalTo_airport_city_iata</th><th>legs1_segments3_arrivalTo_airport_iata</th><th>legs1_segments3_baggageAllowance_quantity</th><th>legs1_segments3_baggageAllowance_weightMeasurementType</th><th>legs1_segments3_cabinClass</th><th>legs1_segments3_departureFrom_airport_iata</th><th>legs1_segments3_duration</th><th>legs1_segments3_flightNumber</th><th>legs1_segments3_marketingCarrier_code</th><th>legs1_segments3_operatingCarrier_code</th><th>legs1_segments3_seatsAvailable</th><th>miniRules0_monetaryAmount</th><th>miniRules0_percentage</th><th>miniRules0_statusInfos</th><th>miniRules1_monetaryAmount</th><th>miniRules1_percentage</th><th>miniRules1_statusInfos</th><th>pricingInfo_isAccessTP</th><th>pricingInfo_passengerCount</th><th>profileId</th><th>ranker_id</th><th>requestDate</th><th>searchRoute</th><th>sex</th><th>taxes</th><th>totalPrice</th><th>__index_level_0__</th></tr><tr><td>i64</td><td>bool</td><td>i64</td><td>i64</td><td>str</td><td>i64</td><td>bool</td><td>bool</td><td>str</td><td>str</td><td>str</td><td>str</td><td>str</td><td>str</td><td>f64</td><td>f64</td><td>f64</td><td>str</td><td>str</td><td>str</td><td>str</td><td>str</td><td>f64</td><td>str</td><td>str</td><td>str</td><td>f64</td><td>f64</td><td>f64</td><td>str</td><td>str</td><td>str</td><td>str</td><td>str</td><td>f64</td><td>str</td><td>str</td><td>&hellip;</td><td>f64</td><td>f64</td><td>f64</td><td>str</td><td>str</td><td>str</td><td>str</td><td>str</td><td>f64</td><td>str</td><td>str</td><td>str</td><td>f64</td><td>f64</td><td>f64</td><td>str</td><td>str</td><td>str</td><td>str</td><td>str</td><td>f64</td><td>f64</td><td>f64</td><td>f64</td><td>f64</td><td>f64</td><td>f64</td><td>f64</td><td>i64</td><td>i64</td><td>str</td><td>datetime[ns]</td><td>str</td><td>bool</td><td>f64</td><td>f64</td><td>i64</td></tr></thead><tbody><tr><td>18146427</td><td>true</td><td>54154</td><td>44</td><td>null</td><td>36</td><td>true</td><td>false</td><td>&quot;2024-11-06T09:45:00&quot;</td><td>&quot;2024-11-05T20:50:00&quot;</td><td>&quot;10:55:00&quot;</td><td>&quot;738&quot;</td><td>&quot;SGC&quot;</td><td>&quot;SGC&quot;</td><td>0.0</td><td>0.0</td><td>1.0</td><td>&quot;VKO&quot;</td><td>&quot;03:20:00&quot;</td><td>&quot;247&quot;</td><td>&quot;UT&quot;</td><td>&quot;UT&quot;</td><td>3.0</td><td>&quot;AT7&quot;</td><td>&quot;SVX&quot;</td><td>&quot;SVX&quot;</td><td>0.0</td><td>0.0</td><td>1.0</td><td>&quot;SGC&quot;</td><td>&quot;02:30:00&quot;</td><td>&quot;111&quot;</td><td>&quot;UT&quot;</td><td>&quot;UT&quot;</td><td>5.0</td><td>null</td><td>null</td><td>&hellip;</td><td>null</td><td>null</td><td>null</td><td>null</td><td>null</td><td>null</td><td>null</td><td>null</td><td>null</td><td>null</td><td>null</td><td>null</td><td>null</td><td>null</td><td>null</td><td>null</td><td>null</td><td>null</td><td>null</td><td>null</td><td>null</td><td>24000.0</td><td>null</td><td>1.0</td><td>0.0</td><td>null</td><td>0.0</td><td>0.0</td><td>1</td><td>3046852</td><td>&quot;88f8c53a28bf4f438941fd67338009…</td><td>2024-10-29 12:46:20</td><td>&quot;MOWSVX/SVXMOW&quot;</td><td>true</td><td>5560.0</td><td>30730.0</td><td>18146427</td></tr><tr><td>18146428</td><td>true</td><td>54154</td><td>44</td><td>null</td><td>36</td><td>true</td><td>false</td><td>&quot;2024-11-05T20:00:00&quot;</td><td>&quot;2024-11-05T00:20:00&quot;</td><td>&quot;17:40:00&quot;</td><td>&quot;738&quot;</td><td>&quot;UFA&quot;</td><td>&quot;UFA&quot;</td><td>0.0</td><td>0.0</td><td>1.0</td><td>&quot;VKO&quot;</td><td>&quot;02:05:00&quot;</td><td>&quot;363&quot;</td><td>&quot;UT&quot;</td><td>&quot;UT&quot;</td><td>3.0</td><td>&quot;AT7&quot;</td><td>&quot;SVX&quot;</td><td>&quot;SVX&quot;</td><td>0.0</td><td>0.0</td><td>1.0</td><td>&quot;UFA&quot;</td><td>&quot;01:30:00&quot;</td><td>&quot;106&quot;</td><td>&quot;UT&quot;</td><td>&quot;UT&quot;</td><td>9.0</td><td>null</td><td>null</td><td>&hellip;</td><td>null</td><td>null</td><td>null</td><td>null</td><td>null</td><td>null</td><td>null</td><td>null</td><td>null</td><td>null</td><td>null</td><td>null</td><td>null</td><td>null</td><td>null</td><td>null</td><td>null</td><td>null</td><td>null</td><td>null</td><td>null</td><td>24000.0</td><td>null</td><td>1.0</td><td>0.0</td><td>null</td><td>0.0</td><td>0.0</td><td>1</td><td>3046852</td><td>&quot;88f8c53a28bf4f438941fd67338009…</td><td>2024-10-29 12:46:20</td><td>&quot;MOWSVX/SVXMOW&quot;</td><td>true</td><td>5560.0</td><td>27660.0</td><td>18146428</td></tr><tr><td>18146429</td><td>true</td><td>54154</td><td>44</td><td>null</td><td>36</td><td>true</td><td>false</td><td>&quot;2024-11-05T20:00:00&quot;</td><td>&quot;2024-11-05T00:20:00&quot;</td><td>&quot;17:40:00&quot;</td><td>&quot;738&quot;</td><td>&quot;UFA&quot;</td><td>&quot;UFA&quot;</td><td>0.0</td><td>0.0</td><td>1.0</td><td>&quot;VKO&quot;</td><td>&quot;02:05:00&quot;</td><td>&quot;363&quot;</td><td>&quot;UT&quot;</td><td>&quot;UT&quot;</td><td>3.0</td><td>&quot;AT7&quot;</td><td>&quot;SVX&quot;</td><td>&quot;SVX&quot;</td><td>0.0</td><td>0.0</td><td>1.0</td><td>&quot;UFA&quot;</td><td>&quot;01:30:00&quot;</td><td>&quot;106&quot;</td><td>&quot;UT&quot;</td><td>&quot;UT&quot;</td><td>9.0</td><td>null</td><td>null</td><td>&hellip;</td><td>null</td><td>null</td><td>null</td><td>null</td><td>null</td><td>null</td><td>null</td><td>null</td><td>null</td><td>null</td><td>null</td><td>null</td><td>null</td><td>null</td><td>null</td><td>null</td><td>null</td><td>null</td><td>null</td><td>null</td><td>null</td><td>24000.0</td><td>null</td><td>1.0</td><td>0.0</td><td>null</td><td>0.0</td><td>0.0</td><td>1</td><td>3046852</td><td>&quot;88f8c53a28bf4f438941fd67338009…</td><td>2024-10-29 12:46:20</td><td>&quot;MOWSVX/SVXMOW&quot;</td><td>true</td><td>5460.0</td><td>24460.0</td><td>18146429</td></tr><tr><td>18146430</td><td>true</td><td>54154</td><td>44</td><td>null</td><td>36</td><td>true</td><td>false</td><td>&quot;2024-11-06T17:10:00&quot;</td><td>&quot;2024-11-05T19:30:00&quot;</td><td>&quot;19:40:00&quot;</td><td>&quot;738&quot;</td><td>&quot;KUF&quot;</td><td>&quot;KUF&quot;</td><td>0.0</td><td>0.0</td><td>1.0</td><td>&quot;VKO&quot;</td><td>&quot;01:45:00&quot;</td><td>&quot;357&quot;</td><td>&quot;UT&quot;</td><td>&quot;UT&quot;</td><td>4.0</td><td>&quot;AT7&quot;</td><td>&quot;SVX&quot;</td><td>&quot;SVX&quot;</td><td>0.0</td><td>0.0</td><td>1.0</td><td>&quot;KUF&quot;</td><td>&quot;02:05:00&quot;</td><td>&quot;282&quot;</td><td>&quot;UT&quot;</td><td>&quot;UT&quot;</td><td>2.0</td><td>null</td><td>null</td><td>&hellip;</td><td>null</td><td>null</td><td>null</td><td>null</td><td>null</td><td>null</td><td>null</td><td>null</td><td>null</td><td>null</td><td>null</td><td>null</td><td>null</td><td>null</td><td>null</td><td>null</td><td>null</td><td>null</td><td>null</td><td>null</td><td>null</td><td>24000.0</td><td>null</td><td>1.0</td><td>0.0</td><td>null</td><td>0.0</td><td>0.0</td><td>1</td><td>3046852</td><td>&quot;88f8c53a28bf4f438941fd67338009…</td><td>2024-10-29 12:46:20</td><td>&quot;MOWSVX/SVXMOW&quot;</td><td>true</td><td>5560.0</td><td>25360.0</td><td>18146430</td></tr><tr><td>18146431</td><td>true</td><td>54154</td><td>44</td><td>null</td><td>36</td><td>true</td><td>false</td><td>&quot;2024-11-06T17:10:00&quot;</td><td>&quot;2024-11-05T19:30:00&quot;</td><td>&quot;19:40:00&quot;</td><td>&quot;738&quot;</td><td>&quot;KUF&quot;</td><td>&quot;KUF&quot;</td><td>0.0</td><td>0.0</td><td>1.0</td><td>&quot;VKO&quot;</td><td>&quot;01:45:00&quot;</td><td>&quot;357&quot;</td><td>&quot;UT&quot;</td><td>&quot;UT&quot;</td><td>9.0</td><td>&quot;AT7&quot;</td><td>&quot;SVX&quot;</td><td>&quot;SVX&quot;</td><td>0.0</td><td>0.0</td><td>1.0</td><td>&quot;KUF&quot;</td><td>&quot;02:05:00&quot;</td><td>&quot;282&quot;</td><td>&quot;UT&quot;</td><td>&quot;UT&quot;</td><td>2.0</td><td>null</td><td>null</td><td>&hellip;</td><td>null</td><td>null</td><td>null</td><td>null</td><td>null</td><td>null</td><td>null</td><td>null</td><td>null</td><td>null</td><td>null</td><td>null</td><td>null</td><td>null</td><td>null</td><td>null</td><td>null</td><td>null</td><td>null</td><td>null</td><td>null</td><td>24000.0</td><td>null</td><td>1.0</td><td>0.0</td><td>null</td><td>0.0</td><td>0.0</td><td>1</td><td>3046852</td><td>&quot;88f8c53a28bf4f438941fd67338009…</td><td>2024-10-29 12:46:20</td><td>&quot;MOWSVX/SVXMOW&quot;</td><td>true</td><td>5460.0</td><td>22160.0</td><td>18146431</td></tr></tbody></table></div>"
      ]
     },
     "execution_count": 4,
     "metadata": {},
     "output_type": "execute_result"
    }
   ],
   "execution_count": 4
  },
  {
   "metadata": {
    "ExecuteTime": {
     "end_time": "2025-08-13T20:04:59.513621Z",
     "start_time": "2025-08-13T20:04:59.507621Z"
    }
   },
   "cell_type": "code",
   "source": "data.shape",
   "id": "aada5ddbe67c146e",
   "outputs": [
    {
     "data": {
      "text/plain": [
       "(18145372, 126)"
      ]
     },
     "execution_count": 5,
     "metadata": {},
     "output_type": "execute_result"
    }
   ],
   "execution_count": 5
  },
  {
   "metadata": {
    "ExecuteTime": {
     "end_time": "2025-08-12T19:23:08.686719Z",
     "start_time": "2025-08-12T19:23:08.652159Z"
    }
   },
   "cell_type": "code",
   "source": [
    "# determine the number of null values for each feature\n",
    "results = []\n",
    "for col in data.columns:\n",
    "    null_count = data.select(pl.col(col).is_null().sum()).item()\n",
    "    results.append({\n",
    "        'column': col,\n",
    "        'data_type': str(data.schema[col]),\n",
    "        'null_count': null_count,\n",
    "        'null_percentage': round(null_count / len(data) * 100, 2)\n",
    "    })\n",
    "null_summary = pl.DataFrame(results)"
   ],
   "id": "2b4eb10ee520b203",
   "outputs": [],
   "execution_count": 5
  },
  {
   "metadata": {
    "ExecuteTime": {
     "end_time": "2025-08-12T19:23:09.353703Z",
     "start_time": "2025-08-12T19:23:09.343593Z"
    }
   },
   "cell_type": "code",
   "source": [
    "# features with no NULL values:\n",
    "null_summary.filter(pl.col('null_count') == 0)"
   ],
   "id": "598871b26d02c3e7",
   "outputs": [
    {
     "data": {
      "text/plain": [
       "shape: (23, 4)\n",
       "┌───────────────────┬───────────┬────────────┬─────────────────┐\n",
       "│ column            ┆ data_type ┆ null_count ┆ null_percentage │\n",
       "│ ---               ┆ ---       ┆ ---        ┆ ---             │\n",
       "│ str               ┆ str       ┆ i64        ┆ f64             │\n",
       "╞═══════════════════╪═══════════╪════════════╪═════════════════╡\n",
       "│ Id                ┆ Int64     ┆ 0          ┆ 0.0             │\n",
       "│ bySelf            ┆ Boolean   ┆ 0          ┆ 0.0             │\n",
       "│ companyID         ┆ Int64     ┆ 0          ┆ 0.0             │\n",
       "│ nationality       ┆ Int64     ┆ 0          ┆ 0.0             │\n",
       "│ isAccess3D        ┆ Boolean   ┆ 0          ┆ 0.0             │\n",
       "│ …                 ┆ …         ┆ …          ┆ …               │\n",
       "│ searchRoute       ┆ String    ┆ 0          ┆ 0.0             │\n",
       "│ sex               ┆ Boolean   ┆ 0          ┆ 0.0             │\n",
       "│ taxes             ┆ Float64   ┆ 0          ┆ 0.0             │\n",
       "│ totalPrice        ┆ Float64   ┆ 0          ┆ 0.0             │\n",
       "│ __index_level_0__ ┆ Int64     ┆ 0          ┆ 0.0             │\n",
       "└───────────────────┴───────────┴────────────┴─────────────────┘"
      ],
      "text/html": [
       "<div><style>\n",
       ".dataframe > thead > tr,\n",
       ".dataframe > tbody > tr {\n",
       "  text-align: right;\n",
       "  white-space: pre-wrap;\n",
       "}\n",
       "</style>\n",
       "<small>shape: (23, 4)</small><table border=\"1\" class=\"dataframe\"><thead><tr><th>column</th><th>data_type</th><th>null_count</th><th>null_percentage</th></tr><tr><td>str</td><td>str</td><td>i64</td><td>f64</td></tr></thead><tbody><tr><td>&quot;Id&quot;</td><td>&quot;Int64&quot;</td><td>0</td><td>0.0</td></tr><tr><td>&quot;bySelf&quot;</td><td>&quot;Boolean&quot;</td><td>0</td><td>0.0</td></tr><tr><td>&quot;companyID&quot;</td><td>&quot;Int64&quot;</td><td>0</td><td>0.0</td></tr><tr><td>&quot;nationality&quot;</td><td>&quot;Int64&quot;</td><td>0</td><td>0.0</td></tr><tr><td>&quot;isAccess3D&quot;</td><td>&quot;Boolean&quot;</td><td>0</td><td>0.0</td></tr><tr><td>&hellip;</td><td>&hellip;</td><td>&hellip;</td><td>&hellip;</td></tr><tr><td>&quot;searchRoute&quot;</td><td>&quot;String&quot;</td><td>0</td><td>0.0</td></tr><tr><td>&quot;sex&quot;</td><td>&quot;Boolean&quot;</td><td>0</td><td>0.0</td></tr><tr><td>&quot;taxes&quot;</td><td>&quot;Float64&quot;</td><td>0</td><td>0.0</td></tr><tr><td>&quot;totalPrice&quot;</td><td>&quot;Float64&quot;</td><td>0</td><td>0.0</td></tr><tr><td>&quot;__index_level_0__&quot;</td><td>&quot;Int64&quot;</td><td>0</td><td>0.0</td></tr></tbody></table></div>"
      ]
     },
     "execution_count": 6,
     "metadata": {},
     "output_type": "execute_result"
    }
   ],
   "execution_count": 6
  },
  {
   "metadata": {
    "ExecuteTime": {
     "end_time": "2025-08-11T20:47:43.181844Z",
     "start_time": "2025-08-11T20:47:43.158348Z"
    }
   },
   "cell_type": "code",
   "source": [
    "# features with NULL values < 10%\n",
    "null_summary.filter((pl.col(\"null_count\") > 0) & (pl.col(\"null_percentage\") < 10.0)).sort(\"null_count\")"
   ],
   "id": "303928e2f3089ba4",
   "outputs": [
    {
     "data": {
      "text/plain": [
       "shape: (12, 4)\n",
       "┌─────────────────────────────────┬───────────┬────────────┬─────────────────┐\n",
       "│ column                          ┆ data_type ┆ null_count ┆ null_percentage │\n",
       "│ ---                             ┆ ---       ┆ ---        ┆ ---             │\n",
       "│ str                             ┆ str       ┆ i64        ┆ f64             │\n",
       "╞═════════════════════════════════╪═══════════╪════════════╪═════════════════╡\n",
       "│ legs0_segments0_departureFrom_… ┆ String    ┆ 2          ┆ 0.0             │\n",
       "│ legs0_segments0_arrivalTo_airp… ┆ String    ┆ 6          ┆ 0.0             │\n",
       "│ legs0_segments0_aircraft_code   ┆ String    ┆ 14         ┆ 0.0             │\n",
       "│ legs0_segments0_arrivalTo_airp… ┆ String    ┆ 113        ┆ 0.0             │\n",
       "│ legs0_segments0_baggageAllowan… ┆ Float64   ┆ 1064       ┆ 0.01            │\n",
       "│ …                               ┆ …         ┆ …          ┆ …               │\n",
       "│ pricingInfo_isAccessTP          ┆ Float64   ┆ 905045     ┆ 4.99            │\n",
       "│ miniRules0_monetaryAmount       ┆ Float64   ┆ 1395743    ┆ 7.69            │\n",
       "│ miniRules1_monetaryAmount       ┆ Float64   ┆ 1395743    ┆ 7.69            │\n",
       "│ miniRules0_statusInfos          ┆ Float64   ┆ 1469953    ┆ 8.1             │\n",
       "│ miniRules1_statusInfos          ┆ Float64   ┆ 1518169    ┆ 8.37            │\n",
       "└─────────────────────────────────┴───────────┴────────────┴─────────────────┘"
      ],
      "text/html": [
       "<div><style>\n",
       ".dataframe > thead > tr,\n",
       ".dataframe > tbody > tr {\n",
       "  text-align: right;\n",
       "  white-space: pre-wrap;\n",
       "}\n",
       "</style>\n",
       "<small>shape: (12, 4)</small><table border=\"1\" class=\"dataframe\"><thead><tr><th>column</th><th>data_type</th><th>null_count</th><th>null_percentage</th></tr><tr><td>str</td><td>str</td><td>i64</td><td>f64</td></tr></thead><tbody><tr><td>&quot;legs0_segments0_departureFrom_…</td><td>&quot;String&quot;</td><td>2</td><td>0.0</td></tr><tr><td>&quot;legs0_segments0_arrivalTo_airp…</td><td>&quot;String&quot;</td><td>6</td><td>0.0</td></tr><tr><td>&quot;legs0_segments0_aircraft_code&quot;</td><td>&quot;String&quot;</td><td>14</td><td>0.0</td></tr><tr><td>&quot;legs0_segments0_arrivalTo_airp…</td><td>&quot;String&quot;</td><td>113</td><td>0.0</td></tr><tr><td>&quot;legs0_segments0_baggageAllowan…</td><td>&quot;Float64&quot;</td><td>1064</td><td>0.01</td></tr><tr><td>&hellip;</td><td>&hellip;</td><td>&hellip;</td><td>&hellip;</td></tr><tr><td>&quot;pricingInfo_isAccessTP&quot;</td><td>&quot;Float64&quot;</td><td>905045</td><td>4.99</td></tr><tr><td>&quot;miniRules0_monetaryAmount&quot;</td><td>&quot;Float64&quot;</td><td>1395743</td><td>7.69</td></tr><tr><td>&quot;miniRules1_monetaryAmount&quot;</td><td>&quot;Float64&quot;</td><td>1395743</td><td>7.69</td></tr><tr><td>&quot;miniRules0_statusInfos&quot;</td><td>&quot;Float64&quot;</td><td>1469953</td><td>8.1</td></tr><tr><td>&quot;miniRules1_statusInfos&quot;</td><td>&quot;Float64&quot;</td><td>1518169</td><td>8.37</td></tr></tbody></table></div>"
      ]
     },
     "execution_count": 7,
     "metadata": {},
     "output_type": "execute_result"
    }
   ],
   "execution_count": 7
  },
  {
   "metadata": {
    "ExecuteTime": {
     "end_time": "2025-08-11T20:47:44.192533Z",
     "start_time": "2025-08-11T20:47:44.179643Z"
    }
   },
   "cell_type": "code",
   "source": [
    "# features with NULL values 10% - 50%\n",
    "null_summary.filter((pl.col(\"null_percentage\") >= 10.0) & (pl.col(\"null_percentage\") < 50.0)).sort(\"null_count\")"
   ],
   "id": "20c444ee804f78fe",
   "outputs": [
    {
     "data": {
      "text/plain": [
       "shape: (15, 4)\n",
       "┌─────────────────────────────────┬───────────┬────────────┬─────────────────┐\n",
       "│ column                          ┆ data_type ┆ null_count ┆ null_percentage │\n",
       "│ ---                             ┆ ---       ┆ ---        ┆ ---             │\n",
       "│ str                             ┆ str       ┆ i64        ┆ f64             │\n",
       "╞═════════════════════════════════╪═══════════╪════════════╪═════════════════╡\n",
       "│ legs1_arrivalAt                 ┆ String    ┆ 4387201    ┆ 24.18           │\n",
       "│ legs1_departureAt               ┆ String    ┆ 4387201    ┆ 24.18           │\n",
       "│ legs1_duration                  ┆ String    ┆ 4387201    ┆ 24.18           │\n",
       "│ legs1_segments0_aircraft_code   ┆ String    ┆ 4387201    ┆ 24.18           │\n",
       "│ legs1_segments0_arrivalTo_airp… ┆ String    ┆ 4387201    ┆ 24.18           │\n",
       "│ …                               ┆ …         ┆ …          ┆ …               │\n",
       "│ legs1_segments0_arrivalTo_airp… ┆ String    ┆ 4387237    ┆ 24.18           │\n",
       "│ legs1_segments0_cabinClass      ┆ Float64   ┆ 4525013    ┆ 24.94           │\n",
       "│ legs1_segments0_baggageAllowan… ┆ Float64   ┆ 4527297    ┆ 24.95           │\n",
       "│ legs1_segments0_baggageAllowan… ┆ Float64   ┆ 4527297    ┆ 24.95           │\n",
       "│ legs1_segments0_seatsAvailable  ┆ Float64   ┆ 4580895    ┆ 25.25           │\n",
       "└─────────────────────────────────┴───────────┴────────────┴─────────────────┘"
      ],
      "text/html": [
       "<div><style>\n",
       ".dataframe > thead > tr,\n",
       ".dataframe > tbody > tr {\n",
       "  text-align: right;\n",
       "  white-space: pre-wrap;\n",
       "}\n",
       "</style>\n",
       "<small>shape: (15, 4)</small><table border=\"1\" class=\"dataframe\"><thead><tr><th>column</th><th>data_type</th><th>null_count</th><th>null_percentage</th></tr><tr><td>str</td><td>str</td><td>i64</td><td>f64</td></tr></thead><tbody><tr><td>&quot;legs1_arrivalAt&quot;</td><td>&quot;String&quot;</td><td>4387201</td><td>24.18</td></tr><tr><td>&quot;legs1_departureAt&quot;</td><td>&quot;String&quot;</td><td>4387201</td><td>24.18</td></tr><tr><td>&quot;legs1_duration&quot;</td><td>&quot;String&quot;</td><td>4387201</td><td>24.18</td></tr><tr><td>&quot;legs1_segments0_aircraft_code&quot;</td><td>&quot;String&quot;</td><td>4387201</td><td>24.18</td></tr><tr><td>&quot;legs1_segments0_arrivalTo_airp…</td><td>&quot;String&quot;</td><td>4387201</td><td>24.18</td></tr><tr><td>&hellip;</td><td>&hellip;</td><td>&hellip;</td><td>&hellip;</td></tr><tr><td>&quot;legs1_segments0_arrivalTo_airp…</td><td>&quot;String&quot;</td><td>4387237</td><td>24.18</td></tr><tr><td>&quot;legs1_segments0_cabinClass&quot;</td><td>&quot;Float64&quot;</td><td>4525013</td><td>24.94</td></tr><tr><td>&quot;legs1_segments0_baggageAllowan…</td><td>&quot;Float64&quot;</td><td>4527297</td><td>24.95</td></tr><tr><td>&quot;legs1_segments0_baggageAllowan…</td><td>&quot;Float64&quot;</td><td>4527297</td><td>24.95</td></tr><tr><td>&quot;legs1_segments0_seatsAvailable&quot;</td><td>&quot;Float64&quot;</td><td>4580895</td><td>25.25</td></tr></tbody></table></div>"
      ]
     },
     "execution_count": 8,
     "metadata": {},
     "output_type": "execute_result"
    }
   ],
   "execution_count": 8
  },
  {
   "metadata": {},
   "cell_type": "markdown",
   "source": "At first glance, I would suspect these nulls indicate one-way tickets. Might need to figure out how to handle return flight selection.",
   "id": "35f5ce3bd55ca0a"
  },
  {
   "metadata": {
    "ExecuteTime": {
     "end_time": "2025-08-11T20:47:46.802968Z",
     "start_time": "2025-08-11T20:47:46.794897Z"
    }
   },
   "cell_type": "code",
   "source": [
    "# features with NULL values > 50%\n",
    "null_summary.filter((pl.col(\"null_percentage\") >= 50.0)).sort(\"null_count\")"
   ],
   "id": "1d1482cabce5dbf2",
   "outputs": [
    {
     "data": {
      "text/plain": [
       "shape: (76, 4)\n",
       "┌─────────────────────────────────┬───────────┬────────────┬─────────────────┐\n",
       "│ column                          ┆ data_type ┆ null_count ┆ null_percentage │\n",
       "│ ---                             ┆ ---       ┆ ---        ┆ ---             │\n",
       "│ str                             ┆ str       ┆ i64        ┆ f64             │\n",
       "╞═════════════════════════════════╪═══════════╪════════════╪═════════════════╡\n",
       "│ corporateTariffCode             ┆ Int64     ┆ 9233925    ┆ 50.89           │\n",
       "│ frequentFlyer                   ┆ String    ┆ 12012727   ┆ 66.2            │\n",
       "│ legs0_segments1_arrivalTo_airp… ┆ String    ┆ 14311665   ┆ 78.87           │\n",
       "│ legs0_segments1_departureFrom_… ┆ String    ┆ 14311665   ┆ 78.87           │\n",
       "│ legs0_segments1_duration        ┆ String    ┆ 14311665   ┆ 78.87           │\n",
       "│ …                               ┆ …         ┆ …          ┆ …               │\n",
       "│ legs1_segments3_duration        ┆ String    ┆ 18145366   ┆ 100.0           │\n",
       "│ legs1_segments3_flightNumber    ┆ String    ┆ 18145366   ┆ 100.0           │\n",
       "│ legs1_segments3_marketingCarri… ┆ String    ┆ 18145366   ┆ 100.0           │\n",
       "│ legs1_segments3_operatingCarri… ┆ String    ┆ 18145366   ┆ 100.0           │\n",
       "│ legs1_segments3_seatsAvailable  ┆ Float64   ┆ 18145366   ┆ 100.0           │\n",
       "└─────────────────────────────────┴───────────┴────────────┴─────────────────┘"
      ],
      "text/html": [
       "<div><style>\n",
       ".dataframe > thead > tr,\n",
       ".dataframe > tbody > tr {\n",
       "  text-align: right;\n",
       "  white-space: pre-wrap;\n",
       "}\n",
       "</style>\n",
       "<small>shape: (76, 4)</small><table border=\"1\" class=\"dataframe\"><thead><tr><th>column</th><th>data_type</th><th>null_count</th><th>null_percentage</th></tr><tr><td>str</td><td>str</td><td>i64</td><td>f64</td></tr></thead><tbody><tr><td>&quot;corporateTariffCode&quot;</td><td>&quot;Int64&quot;</td><td>9233925</td><td>50.89</td></tr><tr><td>&quot;frequentFlyer&quot;</td><td>&quot;String&quot;</td><td>12012727</td><td>66.2</td></tr><tr><td>&quot;legs0_segments1_arrivalTo_airp…</td><td>&quot;String&quot;</td><td>14311665</td><td>78.87</td></tr><tr><td>&quot;legs0_segments1_departureFrom_…</td><td>&quot;String&quot;</td><td>14311665</td><td>78.87</td></tr><tr><td>&quot;legs0_segments1_duration&quot;</td><td>&quot;String&quot;</td><td>14311665</td><td>78.87</td></tr><tr><td>&hellip;</td><td>&hellip;</td><td>&hellip;</td><td>&hellip;</td></tr><tr><td>&quot;legs1_segments3_duration&quot;</td><td>&quot;String&quot;</td><td>18145366</td><td>100.0</td></tr><tr><td>&quot;legs1_segments3_flightNumber&quot;</td><td>&quot;String&quot;</td><td>18145366</td><td>100.0</td></tr><tr><td>&quot;legs1_segments3_marketingCarri…</td><td>&quot;String&quot;</td><td>18145366</td><td>100.0</td></tr><tr><td>&quot;legs1_segments3_operatingCarri…</td><td>&quot;String&quot;</td><td>18145366</td><td>100.0</td></tr><tr><td>&quot;legs1_segments3_seatsAvailable&quot;</td><td>&quot;Float64&quot;</td><td>18145366</td><td>100.0</td></tr></tbody></table></div>"
      ]
     },
     "execution_count": 9,
     "metadata": {},
     "output_type": "execute_result"
    }
   ],
   "execution_count": 9
  },
  {
   "metadata": {},
   "cell_type": "markdown",
   "source": [
    "These features are missing a large percentage of values. Given the description provided, we will do the following:\n",
    "* corporateTariffCode (Corporate tariff code for businesss travel policies): impute to 0 (zero)\n",
    "* frequentFlyer (Frequent flyer program status): impute to 'NONE'\n",
    "* miniRules0_percentage (Percentage penalty for cancellation): impute to 0.0 (zero)\n",
    "* miniRules1_percentage (Percentage penalty for exchange): impute to 0.0 (zero)\n",
    "* legs[0,1]_segments[1-3]_* (flight segments): evaluate whether to ignore all but segment 1 or impute from segment 1"
   ],
   "id": "645baa446cf2fd0d"
  },
  {
   "metadata": {
    "ExecuteTime": {
     "end_time": "2025-08-12T18:55:48.222869Z",
     "start_time": "2025-08-12T18:55:47.955145Z"
    }
   },
   "cell_type": "code",
   "source": [
    "# check how many unique search sessions there are\n",
    "print(f\"unique sessions (ranker_id): {data['ranker_id'].unique().count()}\")"
   ],
   "id": "f06e7ea94678144d",
   "outputs": [
    {
     "name": "stdout",
     "output_type": "stream",
     "text": [
      "unique sessions (ranker_id): 105539\n"
     ]
    }
   ],
   "execution_count": 5
  },
  {
   "metadata": {
    "ExecuteTime": {
     "end_time": "2025-08-12T18:55:48.841996Z",
     "start_time": "2025-08-12T18:55:48.686284Z"
    }
   },
   "cell_type": "code",
   "source": [
    "# check how many unique customers\n",
    "print(f\"unique customers: {data['profileId'].unique().count()}\")"
   ],
   "id": "6e12216899b3984",
   "outputs": [
    {
     "name": "stdout",
     "output_type": "stream",
     "text": [
      "unique customers: 32922\n"
     ]
    }
   ],
   "execution_count": 6
  },
  {
   "metadata": {
    "ExecuteTime": {
     "end_time": "2025-08-12T16:50:16.584676Z",
     "start_time": "2025-08-12T16:50:12.922588Z"
    }
   },
   "cell_type": "code",
   "source": [
    "# let's look at carrier codes\n",
    "unique_carrier_codes = (\n",
    "    data.select(cs.contains(\"Carrier_code\"))\n",
    "    .unpivot()\n",
    "    .select(\"value\")\n",
    "    .filter(pl.col(\"value\").is_not_null())\n",
    "    .unique().to_series().to_list()\n",
    ")\n",
    "print(unique_carrier_codes)"
   ],
   "id": "27a0cccde35714eb",
   "outputs": [
    {
     "name": "stdout",
     "output_type": "stream",
     "text": [
      "['WK', 'BL', '2C', 'UL', '7C', 'EN', 'EW', 'NI', 'AD', 'UX', 'J2', 'KN', 'VZ', 'T7', '4R', 'СИ', 'LJ', 'AI', 'YK', 'S7', 'AT', 'AH', 'OO', 'OS', 'PI', '9F', 'OK', 'AM', 'W2', 'LX', 'OU', 'BA', 'SU', 'ME', 'R6', 'UO', 'OD', 'I2', 'DL', 'TU', 'OM', 'KB', 'CM', 'AA', 'DP', 'SQ', 'UK', 'NP', 'OZ', 'UT', 'SZ', '4Z', 'ИК', 'AY', '0V', 'ТГ', 'SK', 'OV', 'KQ', 'A5', 'I5', 'DV', 'GS', 'CZ', 'JM', 'JD', 'R3', 'QF', 'QR', 'GM', 'KP', '3U', 'A9', 'WB', 'V7', 'LA', 'KE', 'ZF', 'IQ', 'GW', 'LG', 'HZ', 'HX', 'ZN', 'YC', '3L', 'VN', 'VJ', 'EI', 'MQ', '8M', 'UA', 'ЮЭ', 'D2', 'MU', 'LO', 'MF', '9B', 'TR', '5N', '2P', 'H9', 'CA', 'VA', '5F', 'MS', 'CI', 'TW', 'KA', 'SA', 'IZ', 'SN', 'YX', 'SV', 'WS', '7G', 'IB', 'U6', '6H', '4G', 'PW', 'RE', 'BG', 'HO', 'GQ', 'AZ', 'EY', 'IO', 'D8', 'JL', 'FV', 'CJ', 'YU', 'V3', 'HV', 'GF', 'GA', 'WZ', 'VF', 'СЛ', 'B2', 'AV', 'PK', 'TG', 'BT', 'ET', 'B6', '7T', 'K6', 'Y7', '6E', 'F6', 'PC', '2L', 'KC', 'NX', 'CD', 'NL', 'LY', 'RO', 'HU', 'KU', 'FZ', 'TK', 'ZH', 'BI', 'BR', 'T5', 'JI', 'CL', 'MH', 'KL', 'VY', 'RM', 'WY', 'AS', 'N4', 'C3', 'XC', 'LV', 'FY', '5O', 'A4', 'HY', 'LH', 'FM', 'TP', 'XQ', 'HH', 'PG', 'N7', 'VL', 'QS', 'SG', 'RJ', 'KV', 'ДЕ', '6R', '3K', 'AF', 'RT', '3F', 'BJ', 'CX', 'EE', 'PR', 'QV', 'CY', 'НИ', 'DY', 'ВГ', 'DE', 'TF', 'AC', 'SM', 'JU', 'F7', 'B7', 'XY', 'JJ', 'NH', 'ИГ', 'H1', 'G9', 'A3', '7R', 'EH', 'A0', 'I8', 'EK', 'G3', '5G', 'EO', 'YW', '8R', 'IX', 'TC', 'X9', 'KM', 'WX', 'FB', '4Y']\n"
     ]
    }
   ],
   "execution_count": 7
  },
  {
   "metadata": {
    "jupyter": {
     "is_executing": true
    },
    "ExecuteTime": {
     "end_time": "2025-08-11T02:06:26.684052300Z",
     "start_time": "2025-08-11T02:01:19.325150Z"
    }
   },
   "cell_type": "code",
   "source": [
    "carrier_cols = [col for col in data.columns if \"Carrier_code\" in col]\n",
    "unique_carrier_codes = (\n",
    "    data\n",
    "    .select(\n",
    "        pl.concat_list([pl.col(col) for col in carrier_cols])\n",
    "        .alias(\"carrier_codes\")\n",
    "    )\n",
    "    .select(\n",
    "        pl.col(\"carrier_codes\")\n",
    "        .list.explode()\n",
    "        .filter(pl.col(\"carrier_codes\").is_not_null())\n",
    "        .unique()\n",
    "    )\n",
    "    .to_series()\n",
    "    .to_list()\n",
    ")\n",
    "print(unique_carrier_codes)"
   ],
   "id": "a09693cd5f0c9c9c",
   "outputs": [],
   "execution_count": null
  },
  {
   "metadata": {
    "ExecuteTime": {
     "end_time": "2025-08-09T22:44:18.615401Z",
     "start_time": "2025-08-09T22:44:18.279321Z"
    }
   },
   "cell_type": "code",
   "outputs": [
    {
     "data": {
      "text/plain": [
       "shape: (372,)\n",
       "Series: 'frequentFlyer' [str]\n",
       "[\n",
       "\t\"SU/U6/S7\"\n",
       "\t\"- ЮТэйр ЗАО\"\n",
       "\t\"SU/UT/S7/DL/LH\"\n",
       "\t\"SU/DP/S7/UT\"\n",
       "\t\"SU/S7/UT\"\n",
       "\t…\n",
       "\t\"UT/S7/U6/SU\"\n",
       "\t\"SU/AI\"\n",
       "\t\"KC/C7/SU\"\n",
       "\t\"SU/S7/DL\"\n",
       "\t\"SU/AB\"\n",
       "]"
      ],
      "text/html": [
       "<div><style>\n",
       ".dataframe > thead > tr,\n",
       ".dataframe > tbody > tr {\n",
       "  text-align: right;\n",
       "  white-space: pre-wrap;\n",
       "}\n",
       "</style>\n",
       "<small>shape: (372,)</small><table border=\"1\" class=\"dataframe\"><thead><tr><th>frequentFlyer</th></tr><tr><td>str</td></tr></thead><tbody><tr><td>&quot;SU/U6/S7&quot;</td></tr><tr><td>&quot;- ЮТэйр ЗАО&quot;</td></tr><tr><td>&quot;SU/UT/S7/DL/LH&quot;</td></tr><tr><td>&quot;SU/DP/S7/UT&quot;</td></tr><tr><td>&quot;SU/S7/UT&quot;</td></tr><tr><td>&hellip;</td></tr><tr><td>&quot;UT/S7/U6/SU&quot;</td></tr><tr><td>&quot;SU/AI&quot;</td></tr><tr><td>&quot;KC/C7/SU&quot;</td></tr><tr><td>&quot;SU/S7/DL&quot;</td></tr><tr><td>&quot;SU/AB&quot;</td></tr></tbody></table></div>"
      ]
     },
     "execution_count": 25,
     "metadata": {},
     "output_type": "execute_result"
    }
   ],
   "execution_count": 25,
   "source": "data['frequentFlyer'].unique()",
   "id": "5d35e49777a55c6c"
  },
  {
   "metadata": {},
   "cell_type": "markdown",
   "source": "Frequent flyer code '- ЮТэйр ЗАО' translates to 'UTair JSC', which has no matching carrier under carrier codes.",
   "id": "104edcc068fd273e"
  },
  {
   "metadata": {
    "ExecuteTime": {
     "end_time": "2025-08-09T22:56:32.085441Z",
     "start_time": "2025-08-09T22:56:31.648382Z"
    }
   },
   "cell_type": "code",
   "source": [
    "# create a list of the unique frequent flyer codes\n",
    "unique_ff_codes = (\n",
    "    data.select(\"frequentFlyer\")\n",
    "    .filter(pl.col(\"frequentFlyer\").is_not_null())  # Remove nulls\n",
    "    .with_columns(\n",
    "        pl.col(\"frequentFlyer\").str.split(\"/\").alias(\"ff_codes\")  # Split by \"/\"\n",
    "    )\n",
    "    .select(\"ff_codes\")\n",
    "    .explode(\"ff_codes\")  # Flatten the lists into individual rows\n",
    "    .unique()  # Get unique codes\n",
    "    .sort(\"ff_codes\")  # Optional: sort them\n",
    "    .to_series()\n",
    "    .to_list()\n",
    ")\n",
    "print(unique_ff_codes)\n",
    "\n",
    "# let's see if any do not have an associated carrier code\n",
    "ff_not_in_carrier = set(unique_ff_codes) - set(unique_carrier_codes)\n",
    "print(\"FF codes not in carrier list:\", ff_not_in_carrier)\n"
   ],
   "id": "d599e66a740e9748",
   "outputs": [
    {
     "name": "stdout",
     "output_type": "stream",
     "text": [
      "['- ЮТэйр ЗАО', '2G', '5N', '6R', '6W', '9X', 'A3', 'A4', 'AA', 'AB', 'AF', 'AI', 'AM', 'AT', 'AY', 'AZ', 'B2', 'BA', 'BD', 'C7', 'CA', 'CX', 'CZ', 'D2', 'D9', 'DL', 'DP', 'DV', 'EK', 'ET', 'EY', 'FV', 'FZ', 'GF', 'HU', 'HY', 'I8', 'J2', 'JP', 'JU', 'KC', 'KE', 'KL', 'LH', 'LO', 'LX', 'MS', 'MU', 'N4', 'OK', 'OS', 'OZ', 'PY', 'QR', 'R3', 'RT', 'S7', 'SK', 'SN', 'SQ', 'SU', 'SV', 'TK', 'U6', 'UA', 'UN', 'UT', 'VS', 'WY', 'Y7']\n",
      "FF codes not in carrier list: {'AB', 'D9', '2G', 'UN', '- ЮТэйр ЗАО', 'JP', '6W', 'VS', 'BD', 'C7', 'PY', '9X'}\n"
     ]
    }
   ],
   "execution_count": 27
  },
  {
   "metadata": {},
   "cell_type": "markdown",
   "source": [
    "Frequent Flyer codes to Airlines:\n",
    "* ЮТэйр ЗАО (translates to 'UTair JSC'):  UTair / UT\n",
    "* AB: Air Berlin / AB\n",
    "* D9: Daallo Airlines Somalia / D9\n",
    "* 2G: Northwest Seaplanes / None\n",
    "* UN: Transaero Airlines / UN (no longer in service)\n",
    "* JP: Adria Airways / JP (no longer in service)\n",
    "* 6W: Unknown\n",
    "* VS: Virgin Atlantic Airways / VS\n",
    "* BD: BMI British Midland / BD (integrated into British Airways)\n",
    "* C7: Cinnamon Air / C7\n",
    "* PY: Surinam Airways / PY\n",
    "* 9X: Air Columbia / Unknown\n",
    "\n",
    "So, translate 'ЮТэйр ЗАО' to UT and we'll drop any that don't match an airline IATA code"
   ],
   "id": "a35a20f6db560115"
  },
  {
   "metadata": {
    "ExecuteTime": {
     "end_time": "2025-08-12T17:28:20.708585Z",
     "start_time": "2025-08-12T17:27:09.476034Z"
    }
   },
   "cell_type": "code",
   "source": [
    "iata_cols = [col for col in data.columns if \"_iata\" in col]\n",
    "\n",
    "unique_iata_codes = (\n",
    "    data\n",
    "    .select([\n",
    "        pl.concat_list([pl.col(col) for col in iata_cols])\n",
    "        .list.explode()\n",
    "        .drop_nulls()\n",
    "        .unique()\n",
    "        .alias('unique_iata_codes')\n",
    "    ])\n",
    "    .get_column('unique_iata_codes')\n",
    "    .to_list()\n",
    ")\n",
    "\n",
    "print(f\"Found {len(unique_iata_codes)} unique IATA codes\")\n",
    "print(unique_iata_codes)\n"
   ],
   "id": "2bfe79578a2ecece",
   "outputs": [
    {
     "name": "stdout",
     "output_type": "stream",
     "text": [
      "Found 679 unique IATA codes\n",
      "['STW', 'PNH', 'BWN', 'TIF', 'LZY', 'TJM', 'MOW', 'AUH', 'GES', 'CGN', 'OMS', 'SSH', 'EYK', 'YUL', 'DQA', 'CRL', 'XYD', 'LLV', 'KYZ', 'ASB', 'DOY', 'DUR', 'VAN', 'MAD', 'JMK', 'CZL', 'NAL', 'XIY', 'QDU', 'KVX', 'LUN', 'KHV', 'UYN', 'KRK', 'VCP', 'KSQ', 'NOZ', 'ANK', 'ASF', 'KWI', 'IST', 'ORY', 'TMJ', 'NNM', 'NYC', 'EAP', 'SEZ', 'KCY', 'CCU', 'MBA', 'BKO', 'GOX', 'KZN', 'XWC', 'BPE', 'IWA', 'SKG', 'BUS', 'URC', 'LJG', 'BSL', 'VRA', 'NAP', 'HHL', 'BRE', 'BQT', 'ESL', 'VOG', 'ALG', 'QIN', 'DAD', 'IRT', 'KNY', 'BUR', 'GRZ', 'PRG', 'HLD', 'SGN', 'SJW', 'XVQ', 'ADB', 'SHA', 'DYG', 'HOU', 'VRN', 'BLQ', 'OLZ', 'WAW', 'WHA', 'AER', 'PNR', 'HFE', 'KRO', 'NCE', 'JHB', 'HYN', 'PYJ', 'BAH', 'LOS', 'PKV', 'ZVJ', 'SYX', 'SEL', 'WNZ', 'BAK', 'UKX', 'MUC', 'NZG', 'YTO', 'KHH', 'PHL', 'ZDN', 'UCT', 'BZX', 'SHE', 'HMA', 'TSA', 'CIT', 'AGY', 'JGS', 'VNO', 'KUF', 'SCO', 'RAK', 'VCE', 'ZFQ', 'SIN', 'DMS', 'CGR', 'WVB', 'ATL', 'TAS', 'DUB', 'ZYR', 'SZB', 'HSN', 'UGC', 'TYD', 'ADA', 'ATH', 'GRV', 'MLH', 'EZV', 'SZG', 'LUX', 'BKI', 'JNB', 'PEE', 'KVK', 'IMR', 'OUA', 'BDQ', 'CLT', 'FIH', 'KUL', 'LXA', 'EVN', 'SKP', 'PKX', 'ARH', 'JHG', 'CKY', 'DDG', 'CFU', 'PEN', 'XXQ', 'LGA', 'VLC', 'LON', 'AMM', 'BLR', 'SZX', 'WUX', 'DYU', 'CAI', 'UIH', 'NCU', 'RUH', 'VGA', 'GMP', 'BKK', 'CPT', 'TGO', 'HET', 'SWA', 'XIL', 'NNY', 'DLC', 'CJU', 'SDU', 'VKT', 'IAR', 'OUD', 'GSV', 'TRN', 'OHH', 'BSB', 'SHJ', 'PMO', 'TLS', 'LFW', 'VII', 'MEX', 'LGW', 'SYD', 'PLZ', 'BRQ', 'NLI', 'TIA', 'YNT', 'HEL', 'AYT', 'REC', 'USK', 'ORD', 'KPW', 'EDI', 'DUS', 'ABV', 'PEK', 'DYR', 'LLW', 'ALA', 'TKM', 'ZUH', 'ULY', 'DFW', 'AGP', 'IXB', 'STN', 'KBR', 'HKT', 'GYD', 'DSN', 'ZVR', 'NIM', 'NLU', 'KMG', 'GUW', 'ULV', 'KWL', 'ULK', 'GVA', 'WUS', 'BGY', 'SNA', 'NSK', 'SVX', 'YJB', 'OVS', 'CUN', 'LYG', 'TSR', 'KMW', 'OTP', 'GVN', 'BRU', 'MMK', 'IGT', 'ORN', 'BBI', 'NER', 'PVG', 'CMB', 'FOC', 'KGF', 'ZIA', 'TBW', 'DAR', 'JDZ', 'SGC', 'SLL', 'HRB', 'QQM', 'RIO', 'WEH', 'YLX', 'MRU', 'NQZ', 'KQT', 'OPO', 'DLM', 'DLU', 'ZNZ', 'PAR', 'XRJ', 'TOF', 'BGW', 'NGO', 'YKS', 'NBO', 'SAL', 'GOI', 'GOJ', 'NKG', 'CGH', 'CNF', 'XUZ', 'HAV', 'GAU', 'ZLP', 'ESB', 'TUN', 'CDG', 'AGA', 'LGK', 'URJ', 'LCA', 'YIH', 'ZDH', 'ODO', 'MPH', 'UDR', 'VTZ', 'SKD', 'XSP', 'HAK', 'STR', 'ARN', 'ABA', 'REN', 'CXR', 'XIK', 'SIA', 'PES', 'DMM', 'MIL', 'VIE', 'ZHA', 'CSX', 'HTG', 'HTA', 'KZO', 'BUD', 'ZWS', 'XNN', 'JGA', 'SKX', 'NRT', 'CGY', 'TIV', 'SZF', 'NYA', 'IKT', 'SOF', 'TYO', 'MNL', 'PPS', 'PNQ', 'YJM', 'WAS', 'MDE', 'UFA', 'KYA', 'UUS', 'TLK', 'JAI', 'GRU', 'SAO', 'ILO', 'BEG', 'PFB', 'BGS', 'CHI', 'IKA', 'ZBA', 'MQF', 'JXA', 'YIW', 'HGH', 'KGL', 'ULN', 'KTM', 'TRV', 'FEG', 'PTY', 'LIS', 'CZR', 'THR', 'CEK', 'GDN', 'OSA', 'OSL', 'KIX', 'LHR', 'DEN', 'AKX', 'TVS', 'YNJ', 'MRS', 'LIM', 'INP', 'BOS', 'KHN', 'PKC', 'BAV', 'BEY', 'HZD', 'NAV', 'LHW', 'NBC', 'XVY', 'FUG', 'TNH', 'KLF', 'LYS', 'SVO', 'IZM', 'INC', 'IAO', 'CKG', 'DBV', 'DMK', 'DMB', 'CGO', 'HUI', 'BER', 'VIL', 'NGB', 'VUS', 'BXU', 'HEK', 'VEO', '', 'IBT', 'UIK', 'BUH', 'RGK', 'QPP', 'HIA', 'DTT', 'MCX', 'YTY', 'KGD', 'VTE', 'YJV', 'BJV', 'SFO', 'NJC', 'FCO', 'OSS', 'MLG', 'GME', 'CZX', 'BQS', 'MCT', 'HER', 'CGQ', 'KSZ', 'VVO', 'MJY', 'SJO', 'CSY', 'RIX', 'PUS', 'URA', 'IBZ', 'KJA', 'GOT', 'SXR', 'MRV', 'XMN', 'MLE', 'BHX', 'ZAD', 'USU', 'ITM', 'BOM', 'ZAQ', 'EWR', 'GIG', 'SPU', 'PWE', 'XNB', 'LIN', 'NYM', 'CTU', 'KCH', 'XOC', 'WDH', 'LAD', 'TLV', 'YMQ', 'TPE', 'EZE', 'TOX', 'LAX', 'PMI', 'FLR', 'RAJ', 'ROM', 'HAN', 'PMF', 'LBD', 'KWE', 'HNY', 'VKO', 'GDX', 'LBV', 'DEL', 'PQC', 'SAN', 'IMF', 'GYE', 'CWB', 'ECN', 'NUX', 'OAX', 'TFU', 'IGU', 'INN', 'ASR', 'MSQ', 'UUD', 'DHC', 'BCN', 'ZAG', 'HYD', 'ABJ', 'WUH', 'LCY', 'JMU', 'HKG', 'NHR', 'DVO', 'DLI', 'JGN', 'EYA', 'RMZ', 'ADD', 'MFM', 'BOD', 'LKO', 'CJB', 'GZT', 'LJU', 'SCW', 'OSW', 'BHY', 'KEJ', 'TNA', 'KGP', 'BLZ', 'AMD', 'WDS', 'ONT', 'PXU', 'ZSB', 'PUY', 'FUK', 'QLS', 'HSR', 'TAO', 'BTH', 'LED', 'CGB', 'SLY', 'CEE', 'TZX', 'DME', 'HAM', 'LYI', 'ITU', 'COK', 'TLL', 'DTW', 'MAN', 'BUE', 'MSP', 'JKT', 'YVR', 'ICN', 'HRG', 'XIC', 'OGZ', 'XIX', 'IAH', 'BAX', 'JFK', 'BRI', 'AMS', 'KHI', 'YNZ', 'RIZ', 'BJS', 'VNS', 'SAW', 'BMV', 'QKL', 'CGK', 'MLA', 'SJJ', 'TBS', 'UDI', 'BCD', 'STO', 'CCJ', 'HMI', 'QRO', 'LZO', 'EUN', 'UBN', 'KCK', 'ZRH', 'LYA', 'AEP', 'JED', 'NHA', 'FRA', 'HAJ', 'UKK', 'MED', 'MYY', 'BNX', 'ZMU', 'TSN', 'CMN', 'DWC', 'RHO', 'RTW', 'PEZ', 'VGD', 'FRU', 'MTY', 'OVB', 'COV', 'RMO', 'DAC', 'MAA', 'AAE', 'XTI', 'NMA', 'MXP', 'HRE', 'XYG', 'ZYA', 'NAG', 'TGD', 'BTK', 'IJK', 'PER', 'DIY', 'UIO', 'DOH', 'CTA', 'YCU', 'QKU', 'HND', 'NOJ', 'YYZ', 'WUB', 'BHK', 'MIA', 'ATQ', 'NUE', 'IXC', 'DPS', 'JNZ', 'TAC', 'DXB', 'CEB', 'KSN', 'CAN', 'OSI', 'SEA', 'NTG', 'TYN', 'YBP', 'JJN', 'NNG', 'PHX', 'MJZ', 'CLO', 'IAD', 'CAC', 'CPH', 'BHZ', 'UUA', 'BOG']\n"
     ]
    }
   ],
   "execution_count": 15
  },
  {
   "metadata": {},
   "cell_type": "markdown",
   "source": [
    "Clean-up\n",
    "1."
   ],
   "id": "8bb14691d0232d25"
  },
  {
   "metadata": {
    "ExecuteTime": {
     "end_time": "2025-08-13T20:35:55.746135Z",
     "start_time": "2025-08-13T20:35:55.720941Z"
    }
   },
   "cell_type": "code",
   "source": [
    "# Variables/Lists used for flight feature engineering and extraction\n",
    "CUSTOMER_FEATURES = ['profileId', 'companyID', 'sex', 'nationality', 'bySelf']\n",
    "POLARS_INDEX_COL = ['__index_level_0__']\n",
    "UNUSED_FLIGHT_FEATURES = [\n",
    "    'legs0_arrivalAt', 'legs0_departureAt', 'legs1_arrivalAt', 'legs1_departureAt',\n",
    "    'legs0_duration', 'legs1_duration', 'searchRoute',\n",
    "    'isVip', 'isAccess3D', 'frequentFlyer', 'ff_normalized',\n",
    "    r'^legs[01]_segments.*$'\n",
    "]\n",
    "MAJOR_HUBS = [\n",
    "    'ATL','DXB','DFW','HND','LHR','DEN','ORD','IST','PVG','ICN','CDG', 'JFK','CLT','MEX','SFO','EWR','MIA','BKK','GRU','HKG'\n",
    "]\n",
    "\n",
    "\n",
    "# function to get column groups for the flight segments features that will be used in engineering the new features\n",
    "def get_column_groups(df: pl.DataFrame) -> Dict[str, List[str]]:\n",
    "    columns = df.columns\n",
    "    return {\n",
    "        'leg0_duration': [col for col in columns if col.startswith('legs0_segments') and col.endswith('_duration')],\n",
    "        'leg1_duration': [col for col in columns if col.startswith('legs1_segments') and col.endswith('_duration')],\n",
    "        'mkt_carrier': [col for col in columns if col.endswith('marketingCarrier_code')],\n",
    "        'op_carrier': [col for col in columns if col.endswith('operatingCarrier_code')],\n",
    "        'aircraft': [col for col in columns if col.endswith('aircraft_code')],\n",
    "        'airport': [col for col in columns if 'airport_iata' in col or 'airport_city_iata' in col],\n",
    "        'seats_avail': [col for col in columns if col.endswith('seatsAvailable')],\n",
    "        'baggage_type': [col for col in columns if 'baggageAllowance_weightMeasurementType' in col],\n",
    "        'baggage_allowance': [col for col in columns if 'baggageAllowance_quantity' in col],\n",
    "        'cabin_class': [col for col in columns if 'cabinClass' in col]\n",
    "    }\n",
    "\n",
    "\n",
    "## Creating functions that return Polars expressions, so the feature engineering can be modularized and performed 'lazy' ##\n",
    "def parse_duration_to_minutes(duration_col: str) -> pl.Expr:\n",
    "    \"\"\"Parse duration string to minutes (handles format like '1.02:30:00').\"\"\"\n",
    "    return (\n",
    "        pl.when(pl.col(duration_col).is_not_null())\n",
    "        .then(\n",
    "            pl.col(duration_col).str.extract(r'^(?:(\\d+)\\.)?', 1).fill_null('0').cast(pl.Int32) * 1440 +\n",
    "            pl.col(duration_col).str.extract(r'(\\d+):(\\d+):(\\d+)$', 1).fill_null('0').cast(pl.Int32) * 60 +\n",
    "            pl.col(duration_col).str.extract(r'(\\d+):(\\d+):(\\d+)$', 2).fill_null('0').cast(pl.Int32) +\n",
    "            (pl.col(duration_col).str.extract(r'(\\d+):(\\d+):(\\d+)$', 3).fill_null('0').cast(pl.Int32) / 60).round(0)\n",
    "        )\n",
    "        .otherwise(0)\n",
    "    )\n",
    "\n",
    "\n",
    "def create_basic_features(col_groups: Dict[str, List[str]]) -> List[pl.Expr]:\n",
    "    \"\"\"Create basic customer and route characteristics features.\"\"\"\n",
    "    return [\n",
    "        # Customer flag features to boolean\n",
    "        pl.col('isVip').cast(pl.Int32).alias('is_vip'),\n",
    "        pl.col('isAccess3D').cast(pl.Int32).alias('is_access3D'),\n",
    "\n",
    "        # Normalized frequentFlyer program, addressing null values as null strings, and translating UT program\n",
    "        pl.col('frequentFlyer').str.replace('- ЮТэйр ЗАО', 'UT').fill_null('').alias('ff_normalized'),\n",
    "\n",
    "        # Route characteristics\n",
    "        pl.col('legs1_departureAt').is_not_null().cast(pl.Int32).alias('is_roundtrip'),\n",
    "        pl.col('searchRoute').str.slice(0, 3).alias('route_origin'),\n",
    "\n",
    "        # Hub features\n",
    "        pl.col('searchRoute').str.slice(0, 3).is_in(MAJOR_HUBS).cast(pl.Int32).alias('origin_is_major_hub'),\n",
    "        pl.col('searchRoute').str.slice(3, 3).is_in(MAJOR_HUBS).cast(pl.Int32).alias('destination_is_major_hub'),\n",
    "        pl.max_horizontal([\n",
    "            pl.col(col).is_in(MAJOR_HUBS) for col in col_groups['airport']\n",
    "        ]).cast(pl.Int32).alias('includes_major_hub'),\n",
    "    ]\n",
    "\n",
    "\n",
    "def create_segment_features(col_groups: Dict[str, List[str]]) -> List[pl.Expr]:\n",
    "    \"\"\"Create flight segment related features.\"\"\"\n",
    "    return [\n",
    "        # Number of segments per leg\n",
    "        pl.concat_list([pl.col(col) for col in col_groups['leg0_duration']])\n",
    "        .list.drop_nulls().list.len().alias('leg0_num_segments'),\n",
    "\n",
    "        pl.concat_list([pl.col(col) for col in col_groups['leg1_duration']])\n",
    "        .list.drop_nulls().list.len().alias('leg1_num_segments'),\n",
    "\n",
    "        # Total segments\n",
    "        pl.sum_horizontal([pl.col(col).is_not_null() for col in col_groups['aircraft']])\n",
    "        .alias('total_segments'),\n",
    "\n",
    "        # Flight time in minutes (sum of segment durations)\n",
    "        pl.sum_horizontal([\n",
    "            pl.col(col).str.extract(r'^(\\d+):(\\d+)', 1).cast(pl.Int32, strict=False).fill_null(0).mul(60)\n",
    "            .add(pl.col(col).str.extract(r'^(\\d+):(\\d+)', 2).cast(pl.Int32, strict=False).fill_null(0))\n",
    "            for col in col_groups['leg0_duration']\n",
    "        ]).alias('leg0_flight_time_min'),\n",
    "\n",
    "        pl.sum_horizontal([\n",
    "            pl.col(col).str.extract(r'^(\\d+):(\\d+)', 1).cast(pl.Int32, strict=False).fill_null(0).mul(60)\n",
    "            .add(pl.col(col).str.extract(r'^(\\d+):(\\d+)', 2).cast(pl.Int32, strict=False).fill_null(0))\n",
    "            for col in col_groups['leg1_duration']\n",
    "        ]).alias('leg1_flight_time_min'),\n",
    "    ]\n",
    "\n",
    "\n",
    "def create_time_features() -> List[pl.Expr]:\n",
    "    \"\"\"Create time-based features.\"\"\"\n",
    "    return [\n",
    "        # Booking lead time\n",
    "        ((pl.col('legs0_departureAt').str.to_datetime().cast(pl.Datetime) -\n",
    "          pl.col('requestDate').cast(pl.Datetime)) / pl.duration(minutes=1))\n",
    "        .cast(pl.Int32).alias('booking_lead_time_min'),\n",
    "\n",
    "        # Duration features\n",
    "        parse_duration_to_minutes('legs0_duration').alias('leg0_duration_min'),\n",
    "        parse_duration_to_minutes('legs1_duration').alias('leg1_duration_min'),\n",
    "\n",
    "        # Departure/arrival hours\n",
    "        pl.col('legs0_departureAt').str.to_datetime().dt.hour().alias('leg0_departure_hour'),\n",
    "        pl.col('legs0_arrivalAt').str.to_datetime().dt.hour().alias('leg0_arrival_hour'),\n",
    "        pl.col('legs1_departureAt').str.to_datetime().dt.hour().alias('leg1_departure_hour'),\n",
    "        pl.col('legs1_arrivalAt').str.to_datetime().dt.hour().alias('leg1_arrival_hour'),\n",
    "    ]\n",
    "\n",
    "\n",
    "def create_carrier_features(col_groups: Dict[str, List[str]]) -> List[pl.Expr]:\n",
    "    \"\"\"Create carrier and aircraft features.\"\"\"\n",
    "    # Create combined carrier column group for carrier features\n",
    "    all_carrier_cols = col_groups['mkt_carrier'] + col_groups['op_carrier']\n",
    "\n",
    "    # Create frequent flyer matching expressions\n",
    "    ff_matches_mkt = [\n",
    "        pl.when(pl.col(col).is_not_null() & (pl.col(col) != ''))\n",
    "        .then(pl.col('ff_normalized').str.contains(pl.col(col)))\n",
    "        .otherwise(False)\n",
    "        for col in col_groups['mkt_carrier']\n",
    "    ]\n",
    "    ff_matches_op = [\n",
    "        pl.when(pl.col(col).is_not_null() & (pl.col(col) != ''))\n",
    "        .then(pl.col('ff_normalized').str.contains(pl.col(col)))\n",
    "        .otherwise(False)\n",
    "        for col in col_groups['op_carrier']\n",
    "    ]\n",
    "\n",
    "    return [\n",
    "        # Carrier features\n",
    "        pl.concat_list([pl.col(col) for col in all_carrier_cols])\n",
    "        .list.drop_nulls().list.unique().list.len().alias('unique_carriers'),\n",
    "\n",
    "        pl.coalesce([pl.col(col) for col in all_carrier_cols]).alias('primary_carrier'),\n",
    "        pl.col('legs0_segments0_marketingCarrier_code').alias('marketing_carrier'),\n",
    "\n",
    "        # Frequent flyer matching (check if FF programs match carriers)\n",
    "        pl.max_horizontal(ff_matches_mkt).cast(pl.Int32).alias('has_mkt_ff'),\n",
    "        pl.max_horizontal(ff_matches_op).cast(pl.Int32).alias('has_op_ff'),\n",
    "\n",
    "        # Aircraft features\n",
    "        pl.concat_list([pl.col(col) for col in col_groups['aircraft']])\n",
    "        .list.drop_nulls().list.unique().list.len().alias('aircraft_diversity'),\n",
    "\n",
    "        pl.coalesce([pl.col(col) for col in col_groups['aircraft']]).alias('primary_aircraft'),\n",
    "    ]\n",
    "\n",
    "\n",
    "def create_service_features(col_groups: Dict[str, List[str]]) -> List[pl.Expr]:\n",
    "    \"\"\"Create service-related features (fees, cabin, seats, baggage).\"\"\"\n",
    "    return [\n",
    "        # Cancellation/exchange fees\n",
    "        (\n",
    "            ((pl.col('miniRules0_monetaryAmount') > 0) & pl.col('miniRules0_monetaryAmount').is_not_null()) |\n",
    "            ((pl.col('miniRules0_percentage') > 0) & pl.col('miniRules0_percentage').is_not_null())\n",
    "        ).cast(pl.Int32).alias('has_cancellation_fee'),\n",
    "\n",
    "        (\n",
    "            ((pl.col('miniRules1_monetaryAmount') > 0) & pl.col('miniRules1_monetaryAmount').is_not_null()) |\n",
    "            ((pl.col('miniRules1_percentage') > 0) & pl.col('miniRules1_percentage').is_not_null())\n",
    "        ).cast(pl.Int32).alias('has_exchange_fee'),\n",
    "\n",
    "        # Cabin class features\n",
    "        pl.max_horizontal([pl.col(col) for col in col_groups['cabin_class']]).alias('max_cabin_class'),\n",
    "        pl.mean_horizontal([pl.col(col) for col in col_groups['cabin_class']]).alias('avg_cabin_class'),\n",
    "\n",
    "        # Seat availability (using for understanding popularity/scarcity)\n",
    "        pl.min_horizontal([pl.col(col) for col in col_groups['seats_avail']]).alias('min_seats_available'),\n",
    "        pl.sum_horizontal([pl.col(col).fill_null(0) for col in col_groups['seats_avail']]).alias('total_seats_available'),\n",
    "\n",
    "        # Baggage allowance\n",
    "        pl.min_horizontal([\n",
    "            pl.when(pl.col(type_col) == 0).then(pl.col(qty_col)).otherwise(pl.lit(None))\n",
    "            for type_col, qty_col in zip(col_groups['baggage_type'], col_groups['baggage_allowance'])\n",
    "        ]).fill_null(0).alias(\"baggage_allowance_quantity\"),\n",
    "\n",
    "        pl.min_horizontal([\n",
    "            pl.when(pl.col(type_col) == 1).then(pl.col(qty_col)).otherwise(pl.lit(None))\n",
    "            for type_col, qty_col in zip(col_groups['baggage_type'], col_groups['baggage_allowance'])\n",
    "        ]).fill_null(0).alias(\"baggage_allowance_weight\")\n",
    "    ]\n",
    "\n",
    "\n",
    "def add_route_popularity(lazy_df: pl.LazyFrame) -> pl.LazyFrame:\n",
    "    \"\"\"Add search route popularity features.\"\"\"\n",
    "    return lazy_df.with_columns([\n",
    "        pl.len().over('searchRoute').alias('route_popularity')\n",
    "    ]).with_columns([\n",
    "        pl.col('route_popularity').log1p().alias('route_popularity_log')\n",
    "    ])\n",
    "\n",
    "\n",
    "def extract_flight_features(df: pl.DataFrame) -> pl.DataFrame:\n",
    "    \"\"\" Aggregate function for processing feature extraction functions\"\"\"\n",
    "    # Determine if dataframe already processed by checking for a calculated feature\n",
    "    if 'total_duration' in df.columns:\n",
    "        return df\n",
    "\n",
    "    # Get column groups\n",
    "    col_groups = get_column_groups(df)\n",
    "\n",
    "    # Start with lazy frame, dropping unnecessary columns\n",
    "    lazy_df = df.drop(CUSTOMER_FEATURES + POLARS_INDEX_COL, strict=False).lazy()\n",
    "\n",
    "    # Apply all feature groups\n",
    "    lazy_df = lazy_df.with_columns([\n",
    "        *create_basic_features(col_groups),\n",
    "        *create_segment_features(col_groups),\n",
    "        *create_time_features(),\n",
    "        *create_service_features(col_groups)\n",
    "    ])\n",
    "\n",
    "    # Add carrier features (requires ff_normalized from create_basic_features() step)\n",
    "    lazy_df = lazy_df.with_columns(create_carrier_features(col_groups))\n",
    "\n",
    "    # Add total duration (depends on leg durations calculated in create_time_features() above)\n",
    "    lazy_df = lazy_df.with_columns([\n",
    "        pl.when(pl.col('leg1_duration_min').is_null())\n",
    "        .then(pl.col('leg0_duration_min'))\n",
    "        .otherwise(pl.col('leg0_duration_min') + pl.col('leg1_duration_min'))\n",
    "        .alias('total_duration')\n",
    "    ])\n",
    "\n",
    "    # Add route popularity\n",
    "    lazy_df = add_route_popularity(lazy_df)\n",
    "\n",
    "    # Materialize to generate new features, drop unused features, and fill nulls\n",
    "    return (lazy_df\n",
    "            .select(pl.exclude(UNUSED_FLIGHT_FEATURES))\n",
    "            .fill_null(0)\n",
    "            .collect())\n"
   ],
   "id": "fc52114a8c325d39",
   "outputs": [],
   "execution_count": 13
  },
  {
   "metadata": {
    "ExecuteTime": {
     "end_time": "2025-08-13T20:37:55.405787Z",
     "start_time": "2025-08-13T20:35:57.242658Z"
    }
   },
   "cell_type": "code",
   "source": "data = extract_flight_features(data)",
   "id": "9c21329734700dba",
   "outputs": [],
   "execution_count": 14
  },
  {
   "metadata": {
    "ExecuteTime": {
     "end_time": "2025-08-13T20:38:00.559332Z",
     "start_time": "2025-08-13T20:38:00.532450Z"
    }
   },
   "cell_type": "code",
   "source": "data.head(300)",
   "id": "29e44e976f093f08",
   "outputs": [
    {
     "data": {
      "text/plain": [
       "shape: (300, 54)\n",
       "┌─────┬─────────────┬─────────────┬───────┬───┬─────────────┬────────────┬────────────┬────────────┐\n",
       "│ Id  ┆ corporateTa ┆ frequentFly ┆ isVip ┆ … ┆ primary_air ┆ total_dura ┆ route_popu ┆ route_popu │\n",
       "│ --- ┆ riffCode    ┆ er          ┆ ---   ┆   ┆ craft       ┆ tion       ┆ larity     ┆ larity_log │\n",
       "│ i64 ┆ ---         ┆ ---         ┆ bool  ┆   ┆ ---         ┆ ---        ┆ ---        ┆ ---        │\n",
       "│     ┆ i64         ┆ str         ┆       ┆   ┆ str         ┆ f64        ┆ u32        ┆ f64        │\n",
       "╞═════╪═════════════╪═════════════╪═══════╪═══╪═════════════╪════════════╪════════════╪════════════╡\n",
       "│ 0   ┆ 0           ┆ S7/SU/UT    ┆ false ┆ … ┆ YK2         ┆ 315.0      ┆ 25         ┆ 3.258097   │\n",
       "│ 1   ┆ 123         ┆ S7/SU/UT    ┆ false ┆ … ┆ E70         ┆ 950.0      ┆ 25         ┆ 3.258097   │\n",
       "│ 2   ┆ 0           ┆ S7/SU/UT    ┆ false ┆ … ┆ E70         ┆ 950.0      ┆ 25         ┆ 3.258097   │\n",
       "│ 3   ┆ 123         ┆ S7/SU/UT    ┆ false ┆ … ┆ E70         ┆ 950.0      ┆ 25         ┆ 3.258097   │\n",
       "│ 4   ┆ 0           ┆ S7/SU/UT    ┆ false ┆ … ┆ E70         ┆ 950.0      ┆ 25         ┆ 3.258097   │\n",
       "│ …   ┆ …           ┆ …           ┆ …     ┆ … ┆ …           ┆ …          ┆ …          ┆ …          │\n",
       "│ 295 ┆ 0           ┆ null        ┆ false ┆ … ┆ E70         ┆ 80.0       ┆ 4522       ┆ 8.416931   │\n",
       "│ 296 ┆ 115         ┆ null        ┆ false ┆ … ┆ E70         ┆ 80.0       ┆ 4522       ┆ 8.416931   │\n",
       "│ 297 ┆ 0           ┆ null        ┆ false ┆ … ┆ E70         ┆ 80.0       ┆ 4522       ┆ 8.416931   │\n",
       "│ 298 ┆ 115         ┆ null        ┆ false ┆ … ┆ E70         ┆ 80.0       ┆ 4522       ┆ 8.416931   │\n",
       "│ 299 ┆ 0           ┆ null        ┆ false ┆ … ┆ E70         ┆ 80.0       ┆ 4522       ┆ 8.416931   │\n",
       "└─────┴─────────────┴─────────────┴───────┴───┴─────────────┴────────────┴────────────┴────────────┘"
      ],
      "text/html": [
       "<div><style>\n",
       ".dataframe > thead > tr,\n",
       ".dataframe > tbody > tr {\n",
       "  text-align: right;\n",
       "  white-space: pre-wrap;\n",
       "}\n",
       "</style>\n",
       "<small>shape: (300, 54)</small><table border=\"1\" class=\"dataframe\"><thead><tr><th>Id</th><th>corporateTariffCode</th><th>frequentFlyer</th><th>isVip</th><th>miniRules0_monetaryAmount</th><th>miniRules0_percentage</th><th>miniRules0_statusInfos</th><th>miniRules1_monetaryAmount</th><th>miniRules1_percentage</th><th>miniRules1_statusInfos</th><th>pricingInfo_isAccessTP</th><th>pricingInfo_passengerCount</th><th>ranker_id</th><th>requestDate</th><th>taxes</th><th>totalPrice</th><th>is_vip</th><th>is_access3D</th><th>ff_normalized</th><th>is_roundtrip</th><th>route_origin</th><th>origin_is_major_hub</th><th>destination_is_major_hub</th><th>includes_major_hub</th><th>leg0_num_segments</th><th>leg1_num_segments</th><th>total_segments</th><th>leg0_flight_time_min</th><th>leg1_flight_time_min</th><th>booking_lead_time_min</th><th>leg0_duration_min</th><th>leg1_duration_min</th><th>leg0_departure_hour</th><th>leg0_arrival_hour</th><th>leg1_departure_hour</th><th>leg1_arrival_hour</th><th>has_cancellation_fee</th><th>has_exchange_fee</th><th>max_cabin_class</th><th>avg_cabin_class</th><th>min_seats_available</th><th>total_seats_available</th><th>baggage_allowance_quantity</th><th>baggage_allowance_weight</th><th>unique_carriers</th><th>primary_carrier</th><th>marketing_carrier</th><th>has_mkt_ff</th><th>has_op_ff</th><th>aircraft_diversity</th><th>primary_aircraft</th><th>total_duration</th><th>route_popularity</th><th>route_popularity_log</th></tr><tr><td>i64</td><td>i64</td><td>str</td><td>bool</td><td>f64</td><td>f64</td><td>f64</td><td>f64</td><td>f64</td><td>f64</td><td>f64</td><td>i64</td><td>str</td><td>datetime[ns]</td><td>f64</td><td>f64</td><td>i32</td><td>i32</td><td>str</td><td>i32</td><td>str</td><td>i32</td><td>i32</td><td>i32</td><td>u32</td><td>u32</td><td>u32</td><td>i32</td><td>i32</td><td>i32</td><td>f64</td><td>f64</td><td>i8</td><td>i8</td><td>i8</td><td>i8</td><td>i32</td><td>i32</td><td>f64</td><td>f64</td><td>f64</td><td>f64</td><td>f64</td><td>f64</td><td>u32</td><td>str</td><td>str</td><td>i32</td><td>i32</td><td>u32</td><td>str</td><td>f64</td><td>u32</td><td>f64</td></tr></thead><tbody><tr><td>0</td><td>0</td><td>&quot;S7/SU/UT&quot;</td><td>false</td><td>0.0</td><td>0.0</td><td>0.0</td><td>0.0</td><td>0.0</td><td>0.0</td><td>1.0</td><td>1</td><td>&quot;98ce0dabf6964640b63079fbafd42c…</td><td>2024-05-17 03:03:08</td><td>370.0</td><td>16884.0</td><td>0</td><td>0</td><td>&quot;S7/SU/UT&quot;</td><td>1</td><td>&quot;TLK&quot;</td><td>0</td><td>0</td><td>0</td><td>1</td><td>1</td><td>2</td><td>160</td><td>155</td><td>42516</td><td>160.0</td><td>155.0</td><td>15</td><td>16</td><td>9</td><td>14</td><td>0</td><td>0</td><td>1.0</td><td>1.0</td><td>9.0</td><td>18.0</td><td>1.0</td><td>0.0</td><td>1</td><td>&quot;KV&quot;</td><td>&quot;KV&quot;</td><td>0</td><td>0</td><td>1</td><td>&quot;YK2&quot;</td><td>315.0</td><td>25</td><td>3.258097</td></tr><tr><td>1</td><td>123</td><td>&quot;S7/SU/UT&quot;</td><td>false</td><td>2300.0</td><td>0.0</td><td>1.0</td><td>3500.0</td><td>0.0</td><td>1.0</td><td>1.0</td><td>1</td><td>&quot;98ce0dabf6964640b63079fbafd42c…</td><td>2024-05-17 03:03:08</td><td>2240.0</td><td>51125.0</td><td>0</td><td>1</td><td>&quot;S7/SU/UT&quot;</td><td>1</td><td>&quot;TLK&quot;</td><td>0</td><td>0</td><td>0</td><td>2</td><td>2</td><td>4</td><td>250</td><td>245</td><td>42141</td><td>445.0</td><td>505.0</td><td>9</td><td>14</td><td>22</td><td>8</td><td>1</td><td>1</td><td>1.0</td><td>1.0</td><td>4.0</td><td>26.0</td><td>1.0</td><td>0.0</td><td>1</td><td>&quot;S7&quot;</td><td>&quot;S7&quot;</td><td>1</td><td>1</td><td>1</td><td>&quot;E70&quot;</td><td>950.0</td><td>25</td><td>3.258097</td></tr><tr><td>2</td><td>0</td><td>&quot;S7/SU/UT&quot;</td><td>false</td><td>2300.0</td><td>0.0</td><td>1.0</td><td>3500.0</td><td>0.0</td><td>1.0</td><td>1.0</td><td>1</td><td>&quot;98ce0dabf6964640b63079fbafd42c…</td><td>2024-05-17 03:03:08</td><td>2240.0</td><td>53695.0</td><td>0</td><td>0</td><td>&quot;S7/SU/UT&quot;</td><td>1</td><td>&quot;TLK&quot;</td><td>0</td><td>0</td><td>0</td><td>2</td><td>2</td><td>4</td><td>250</td><td>245</td><td>42141</td><td>445.0</td><td>505.0</td><td>9</td><td>14</td><td>22</td><td>8</td><td>1</td><td>1</td><td>1.0</td><td>1.0</td><td>4.0</td><td>26.0</td><td>1.0</td><td>0.0</td><td>1</td><td>&quot;S7&quot;</td><td>&quot;S7&quot;</td><td>1</td><td>1</td><td>1</td><td>&quot;E70&quot;</td><td>950.0</td><td>25</td><td>3.258097</td></tr><tr><td>3</td><td>123</td><td>&quot;S7/SU/UT&quot;</td><td>false</td><td>0.0</td><td>0.0</td><td>1.0</td><td>0.0</td><td>0.0</td><td>1.0</td><td>1.0</td><td>1</td><td>&quot;98ce0dabf6964640b63079fbafd42c…</td><td>2024-05-17 03:03:08</td><td>2240.0</td><td>81880.0</td><td>0</td><td>1</td><td>&quot;S7/SU/UT&quot;</td><td>1</td><td>&quot;TLK&quot;</td><td>0</td><td>0</td><td>0</td><td>2</td><td>2</td><td>4</td><td>250</td><td>245</td><td>42141</td><td>445.0</td><td>505.0</td><td>9</td><td>14</td><td>22</td><td>8</td><td>0</td><td>0</td><td>1.0</td><td>1.0</td><td>4.0</td><td>26.0</td><td>1.0</td><td>0.0</td><td>1</td><td>&quot;S7&quot;</td><td>&quot;S7&quot;</td><td>1</td><td>1</td><td>1</td><td>&quot;E70&quot;</td><td>950.0</td><td>25</td><td>3.258097</td></tr><tr><td>4</td><td>0</td><td>&quot;S7/SU/UT&quot;</td><td>false</td><td>0.0</td><td>0.0</td><td>1.0</td><td>0.0</td><td>0.0</td><td>1.0</td><td>1.0</td><td>1</td><td>&quot;98ce0dabf6964640b63079fbafd42c…</td><td>2024-05-17 03:03:08</td><td>2240.0</td><td>86070.0</td><td>0</td><td>0</td><td>&quot;S7/SU/UT&quot;</td><td>1</td><td>&quot;TLK&quot;</td><td>0</td><td>0</td><td>0</td><td>2</td><td>2</td><td>4</td><td>250</td><td>245</td><td>42141</td><td>445.0</td><td>505.0</td><td>9</td><td>14</td><td>22</td><td>8</td><td>0</td><td>0</td><td>1.0</td><td>1.0</td><td>4.0</td><td>26.0</td><td>1.0</td><td>0.0</td><td>1</td><td>&quot;S7&quot;</td><td>&quot;S7&quot;</td><td>1</td><td>1</td><td>1</td><td>&quot;E70&quot;</td><td>950.0</td><td>25</td><td>3.258097</td></tr><tr><td>&hellip;</td><td>&hellip;</td><td>&hellip;</td><td>&hellip;</td><td>&hellip;</td><td>&hellip;</td><td>&hellip;</td><td>&hellip;</td><td>&hellip;</td><td>&hellip;</td><td>&hellip;</td><td>&hellip;</td><td>&hellip;</td><td>&hellip;</td><td>&hellip;</td><td>&hellip;</td><td>&hellip;</td><td>&hellip;</td><td>&hellip;</td><td>&hellip;</td><td>&hellip;</td><td>&hellip;</td><td>&hellip;</td><td>&hellip;</td><td>&hellip;</td><td>&hellip;</td><td>&hellip;</td><td>&hellip;</td><td>&hellip;</td><td>&hellip;</td><td>&hellip;</td><td>&hellip;</td><td>&hellip;</td><td>&hellip;</td><td>&hellip;</td><td>&hellip;</td><td>&hellip;</td><td>&hellip;</td><td>&hellip;</td><td>&hellip;</td><td>&hellip;</td><td>&hellip;</td><td>&hellip;</td><td>&hellip;</td><td>&hellip;</td><td>&hellip;</td><td>&hellip;</td><td>&hellip;</td><td>&hellip;</td><td>&hellip;</td><td>&hellip;</td><td>&hellip;</td><td>&hellip;</td><td>&hellip;</td></tr><tr><td>295</td><td>0</td><td>null</td><td>false</td><td>2300.0</td><td>0.0</td><td>1.0</td><td>3500.0</td><td>0.0</td><td>1.0</td><td>1.0</td><td>1</td><td>&quot;0e51002eda914a39a9309cecf0a659…</td><td>2024-05-17 04:47:52</td><td>720.0</td><td>7420.0</td><td>0</td><td>0</td><td>&quot;&quot;</td><td>0</td><td>&quot;OVB&quot;</td><td>0</td><td>0</td><td>0</td><td>1</td><td>0</td><td>1</td><td>80</td><td>0</td><td>22372</td><td>80.0</td><td>0.0</td><td>17</td><td>19</td><td>0</td><td>0</td><td>1</td><td>1</td><td>1.0</td><td>1.0</td><td>9.0</td><td>9.0</td><td>1.0</td><td>0.0</td><td>1</td><td>&quot;S7&quot;</td><td>&quot;S7&quot;</td><td>0</td><td>0</td><td>1</td><td>&quot;E70&quot;</td><td>80.0</td><td>4522</td><td>8.416931</td></tr><tr><td>296</td><td>115</td><td>null</td><td>false</td><td>0.0</td><td>0.0</td><td>1.0</td><td>0.0</td><td>0.0</td><td>1.0</td><td>0.0</td><td>1</td><td>&quot;0e51002eda914a39a9309cecf0a659…</td><td>2024-05-17 04:47:52</td><td>720.0</td><td>17040.0</td><td>0</td><td>1</td><td>&quot;&quot;</td><td>0</td><td>&quot;OVB&quot;</td><td>0</td><td>0</td><td>0</td><td>1</td><td>0</td><td>1</td><td>80</td><td>0</td><td>22372</td><td>80.0</td><td>0.0</td><td>17</td><td>19</td><td>0</td><td>0</td><td>0</td><td>0</td><td>1.0</td><td>1.0</td><td>9.0</td><td>9.0</td><td>1.0</td><td>0.0</td><td>1</td><td>&quot;S7&quot;</td><td>&quot;S7&quot;</td><td>0</td><td>0</td><td>1</td><td>&quot;E70&quot;</td><td>80.0</td><td>4522</td><td>8.416931</td></tr><tr><td>297</td><td>0</td><td>null</td><td>false</td><td>0.0</td><td>0.0</td><td>1.0</td><td>0.0</td><td>0.0</td><td>1.0</td><td>0.0</td><td>1</td><td>&quot;0e51002eda914a39a9309cecf0a659…</td><td>2024-05-17 04:47:52</td><td>720.0</td><td>18080.0</td><td>0</td><td>0</td><td>&quot;&quot;</td><td>0</td><td>&quot;OVB&quot;</td><td>0</td><td>0</td><td>0</td><td>1</td><td>0</td><td>1</td><td>80</td><td>0</td><td>22372</td><td>80.0</td><td>0.0</td><td>17</td><td>19</td><td>0</td><td>0</td><td>0</td><td>0</td><td>1.0</td><td>1.0</td><td>9.0</td><td>9.0</td><td>1.0</td><td>0.0</td><td>1</td><td>&quot;S7&quot;</td><td>&quot;S7&quot;</td><td>0</td><td>0</td><td>1</td><td>&quot;E70&quot;</td><td>80.0</td><td>4522</td><td>8.416931</td></tr><tr><td>298</td><td>115</td><td>null</td><td>false</td><td>4000.0</td><td>0.0</td><td>1.0</td><td>0.0</td><td>0.0</td><td>0.0</td><td>1.0</td><td>1</td><td>&quot;0e51002eda914a39a9309cecf0a659…</td><td>2024-05-17 04:47:52</td><td>720.0</td><td>5185.0</td><td>0</td><td>1</td><td>&quot;&quot;</td><td>0</td><td>&quot;OVB&quot;</td><td>0</td><td>0</td><td>0</td><td>1</td><td>0</td><td>1</td><td>80</td><td>0</td><td>22467</td><td>80.0</td><td>0.0</td><td>19</td><td>20</td><td>0</td><td>0</td><td>1</td><td>0</td><td>1.0</td><td>1.0</td><td>9.0</td><td>9.0</td><td>0.0</td><td>0.0</td><td>1</td><td>&quot;S7&quot;</td><td>&quot;S7&quot;</td><td>0</td><td>0</td><td>1</td><td>&quot;E70&quot;</td><td>80.0</td><td>4522</td><td>8.416931</td></tr><tr><td>299</td><td>0</td><td>null</td><td>false</td><td>4000.0</td><td>0.0</td><td>1.0</td><td>0.0</td><td>0.0</td><td>0.0</td><td>1.0</td><td>1</td><td>&quot;0e51002eda914a39a9309cecf0a659…</td><td>2024-05-17 04:47:52</td><td>720.0</td><td>5470.0</td><td>0</td><td>0</td><td>&quot;&quot;</td><td>0</td><td>&quot;OVB&quot;</td><td>0</td><td>0</td><td>0</td><td>1</td><td>0</td><td>1</td><td>80</td><td>0</td><td>22467</td><td>80.0</td><td>0.0</td><td>19</td><td>20</td><td>0</td><td>0</td><td>1</td><td>0</td><td>1.0</td><td>1.0</td><td>9.0</td><td>9.0</td><td>0.0</td><td>0.0</td><td>1</td><td>&quot;S7&quot;</td><td>&quot;S7&quot;</td><td>0</td><td>0</td><td>1</td><td>&quot;E70&quot;</td><td>80.0</td><td>4522</td><td>8.416931</td></tr></tbody></table></div>"
      ]
     },
     "execution_count": 15,
     "metadata": {},
     "output_type": "execute_result"
    }
   ],
   "execution_count": 15
  },
  {
   "metadata": {
    "ExecuteTime": {
     "end_time": "2025-08-13T20:42:53.806438Z",
     "start_time": "2025-08-13T20:42:53.676884Z"
    }
   },
   "cell_type": "code",
   "source": "data.filter(pl.col('includes_major_hub') == 1).limit(20)",
   "id": "663ce9c8892c6041",
   "outputs": [
    {
     "data": {
      "text/plain": [
       "shape: (20, 54)\n",
       "┌──────┬─────────────┬─────────────┬───────┬───┬────────────┬────────────┬────────────┬────────────┐\n",
       "│ Id   ┆ corporateTa ┆ frequentFly ┆ isVip ┆ … ┆ primary_ai ┆ total_dura ┆ route_popu ┆ route_popu │\n",
       "│ ---  ┆ riffCode    ┆ er          ┆ ---   ┆   ┆ rcraft     ┆ tion       ┆ larity     ┆ larity_log │\n",
       "│ i64  ┆ ---         ┆ ---         ┆ bool  ┆   ┆ ---        ┆ ---        ┆ ---        ┆ ---        │\n",
       "│      ┆ i64         ┆ str         ┆       ┆   ┆ str        ┆ f64        ┆ u32        ┆ f64        │\n",
       "╞══════╪═════════════╪═════════════╪═══════╪═══╪════════════╪════════════╪════════════╪════════════╡\n",
       "│ 2742 ┆ 0           ┆ null        ┆ false ┆ … ┆ 73H        ┆ 585.0      ┆ 248307     ┆ 12.422425  │\n",
       "│ 2743 ┆ 0           ┆ null        ┆ false ┆ … ┆ 73H        ┆ 585.0      ┆ 248307     ┆ 12.422425  │\n",
       "│ 2744 ┆ 0           ┆ null        ┆ false ┆ … ┆ 73H        ┆ 585.0      ┆ 248307     ┆ 12.422425  │\n",
       "│ 2745 ┆ 0           ┆ null        ┆ false ┆ … ┆ 333        ┆ 465.0      ┆ 248307     ┆ 12.422425  │\n",
       "│ 2746 ┆ 0           ┆ null        ┆ false ┆ … ┆ 333        ┆ 465.0      ┆ 248307     ┆ 12.422425  │\n",
       "│ …    ┆ …           ┆ …           ┆ …     ┆ … ┆ …          ┆ …          ┆ …          ┆ …          │\n",
       "│ 2757 ┆ 0           ┆ null        ┆ false ┆ … ┆ 73H        ┆ 595.0      ┆ 248307     ┆ 12.422425  │\n",
       "│ 2758 ┆ 0           ┆ null        ┆ false ┆ … ┆ 73H        ┆ 595.0      ┆ 248307     ┆ 12.422425  │\n",
       "│ 2759 ┆ 0           ┆ null        ┆ false ┆ … ┆ 73H        ┆ 595.0      ┆ 248307     ┆ 12.422425  │\n",
       "│ 2760 ┆ 0           ┆ null        ┆ false ┆ … ┆ 73H        ┆ 595.0      ┆ 248307     ┆ 12.422425  │\n",
       "│ 2761 ┆ 0           ┆ null        ┆ false ┆ … ┆ 73H        ┆ 595.0      ┆ 248307     ┆ 12.422425  │\n",
       "└──────┴─────────────┴─────────────┴───────┴───┴────────────┴────────────┴────────────┴────────────┘"
      ],
      "text/html": [
       "<div><style>\n",
       ".dataframe > thead > tr,\n",
       ".dataframe > tbody > tr {\n",
       "  text-align: right;\n",
       "  white-space: pre-wrap;\n",
       "}\n",
       "</style>\n",
       "<small>shape: (20, 54)</small><table border=\"1\" class=\"dataframe\"><thead><tr><th>Id</th><th>corporateTariffCode</th><th>frequentFlyer</th><th>isVip</th><th>miniRules0_monetaryAmount</th><th>miniRules0_percentage</th><th>miniRules0_statusInfos</th><th>miniRules1_monetaryAmount</th><th>miniRules1_percentage</th><th>miniRules1_statusInfos</th><th>pricingInfo_isAccessTP</th><th>pricingInfo_passengerCount</th><th>ranker_id</th><th>requestDate</th><th>taxes</th><th>totalPrice</th><th>is_vip</th><th>is_access3D</th><th>ff_normalized</th><th>is_roundtrip</th><th>route_origin</th><th>origin_is_major_hub</th><th>destination_is_major_hub</th><th>includes_major_hub</th><th>leg0_num_segments</th><th>leg1_num_segments</th><th>total_segments</th><th>leg0_flight_time_min</th><th>leg1_flight_time_min</th><th>booking_lead_time_min</th><th>leg0_duration_min</th><th>leg1_duration_min</th><th>leg0_departure_hour</th><th>leg0_arrival_hour</th><th>leg1_departure_hour</th><th>leg1_arrival_hour</th><th>has_cancellation_fee</th><th>has_exchange_fee</th><th>max_cabin_class</th><th>avg_cabin_class</th><th>min_seats_available</th><th>total_seats_available</th><th>baggage_allowance_quantity</th><th>baggage_allowance_weight</th><th>unique_carriers</th><th>primary_carrier</th><th>marketing_carrier</th><th>has_mkt_ff</th><th>has_op_ff</th><th>aircraft_diversity</th><th>primary_aircraft</th><th>total_duration</th><th>route_popularity</th><th>route_popularity_log</th></tr><tr><td>i64</td><td>i64</td><td>str</td><td>bool</td><td>f64</td><td>f64</td><td>f64</td><td>f64</td><td>f64</td><td>f64</td><td>f64</td><td>i64</td><td>str</td><td>datetime[ns]</td><td>f64</td><td>f64</td><td>i32</td><td>i32</td><td>str</td><td>i32</td><td>str</td><td>i32</td><td>i32</td><td>i32</td><td>u32</td><td>u32</td><td>u32</td><td>i32</td><td>i32</td><td>i32</td><td>f64</td><td>f64</td><td>i8</td><td>i8</td><td>i8</td><td>i8</td><td>i32</td><td>i32</td><td>f64</td><td>f64</td><td>f64</td><td>f64</td><td>f64</td><td>f64</td><td>u32</td><td>str</td><td>str</td><td>i32</td><td>i32</td><td>u32</td><td>str</td><td>f64</td><td>u32</td><td>f64</td></tr></thead><tbody><tr><td>2742</td><td>0</td><td>null</td><td>false</td><td>0.0</td><td>0.0</td><td>0.0</td><td>0.0</td><td>0.0</td><td>0.0</td><td>0.0</td><td>1</td><td>&quot;23e784fb9fad452591eea495fdec14…</td><td>2024-05-17 08:00:43</td><td>550.0</td><td>17480.0</td><td>0</td><td>0</td><td>&quot;&quot;</td><td>1</td><td>&quot;MOW&quot;</td><td>0</td><td>1</td><td>1</td><td>1</td><td>1</td><td>2</td><td>310</td><td>275</td><td>5749</td><td>310.0</td><td>275.0</td><td>7</td><td>13</td><td>13</td><td>18</td><td>0</td><td>0</td><td>1.0</td><td>1.0</td><td>5.0</td><td>14.0</td><td>0.0</td><td>0.0</td><td>1</td><td>&quot;DP&quot;</td><td>&quot;DP&quot;</td><td>0</td><td>0</td><td>1</td><td>&quot;73H&quot;</td><td>585.0</td><td>248307</td><td>12.422425</td></tr><tr><td>2743</td><td>0</td><td>null</td><td>false</td><td>0.0</td><td>0.0</td><td>0.0</td><td>0.0</td><td>0.0</td><td>0.0</td><td>0.0</td><td>1</td><td>&quot;23e784fb9fad452591eea495fdec14…</td><td>2024-05-17 08:00:43</td><td>550.0</td><td>20845.0</td><td>0</td><td>0</td><td>&quot;&quot;</td><td>1</td><td>&quot;MOW&quot;</td><td>0</td><td>1</td><td>1</td><td>1</td><td>1</td><td>2</td><td>310</td><td>275</td><td>5749</td><td>310.0</td><td>275.0</td><td>7</td><td>13</td><td>13</td><td>18</td><td>0</td><td>0</td><td>1.0</td><td>1.0</td><td>5.0</td><td>14.0</td><td>1.0</td><td>0.0</td><td>1</td><td>&quot;DP&quot;</td><td>&quot;DP&quot;</td><td>0</td><td>0</td><td>1</td><td>&quot;73H&quot;</td><td>585.0</td><td>248307</td><td>12.422425</td></tr><tr><td>2744</td><td>0</td><td>null</td><td>false</td><td>0.0</td><td>0.0</td><td>0.0</td><td>0.0</td><td>0.0</td><td>0.0</td><td>0.0</td><td>1</td><td>&quot;23e784fb9fad452591eea495fdec14…</td><td>2024-05-17 08:00:43</td><td>550.0</td><td>27085.0</td><td>0</td><td>0</td><td>&quot;&quot;</td><td>1</td><td>&quot;MOW&quot;</td><td>0</td><td>1</td><td>1</td><td>1</td><td>1</td><td>2</td><td>310</td><td>275</td><td>5749</td><td>310.0</td><td>275.0</td><td>7</td><td>13</td><td>13</td><td>18</td><td>0</td><td>0</td><td>1.0</td><td>1.0</td><td>5.0</td><td>14.0</td><td>1.0</td><td>0.0</td><td>1</td><td>&quot;DP&quot;</td><td>&quot;DP&quot;</td><td>0</td><td>0</td><td>1</td><td>&quot;73H&quot;</td><td>585.0</td><td>248307</td><td>12.422425</td></tr><tr><td>2745</td><td>0</td><td>null</td><td>false</td><td>0.0</td><td>0.0</td><td>0.0</td><td>0.0</td><td>0.0</td><td>0.0</td><td>0.0</td><td>1</td><td>&quot;23e784fb9fad452591eea495fdec14…</td><td>2024-05-17 08:00:43</td><td>19449.0</td><td>43704.0</td><td>0</td><td>0</td><td>&quot;&quot;</td><td>1</td><td>&quot;MOW&quot;</td><td>0</td><td>1</td><td>1</td><td>1</td><td>1</td><td>2</td><td>240</td><td>225</td><td>6454</td><td>240.0</td><td>225.0</td><td>19</td><td>23</td><td>9</td><td>13</td><td>0</td><td>0</td><td>1.0</td><td>1.0</td><td>9.0</td><td>18.0</td><td>0.0</td><td>0.0</td><td>1</td><td>&quot;TK&quot;</td><td>&quot;TK&quot;</td><td>0</td><td>0</td><td>1</td><td>&quot;333&quot;</td><td>465.0</td><td>248307</td><td>12.422425</td></tr><tr><td>2746</td><td>0</td><td>null</td><td>false</td><td>0.0</td><td>0.0</td><td>0.0</td><td>0.0</td><td>0.0</td><td>0.0</td><td>0.0</td><td>1</td><td>&quot;23e784fb9fad452591eea495fdec14…</td><td>2024-05-17 08:00:43</td><td>19449.0</td><td>49644.0</td><td>0</td><td>0</td><td>&quot;&quot;</td><td>1</td><td>&quot;MOW&quot;</td><td>0</td><td>1</td><td>1</td><td>1</td><td>1</td><td>2</td><td>240</td><td>225</td><td>6454</td><td>240.0</td><td>225.0</td><td>19</td><td>23</td><td>9</td><td>13</td><td>0</td><td>0</td><td>1.0</td><td>1.0</td><td>9.0</td><td>18.0</td><td>0.0</td><td>23.0</td><td>1</td><td>&quot;TK&quot;</td><td>&quot;TK&quot;</td><td>0</td><td>0</td><td>1</td><td>&quot;333&quot;</td><td>465.0</td><td>248307</td><td>12.422425</td></tr><tr><td>&hellip;</td><td>&hellip;</td><td>&hellip;</td><td>&hellip;</td><td>&hellip;</td><td>&hellip;</td><td>&hellip;</td><td>&hellip;</td><td>&hellip;</td><td>&hellip;</td><td>&hellip;</td><td>&hellip;</td><td>&hellip;</td><td>&hellip;</td><td>&hellip;</td><td>&hellip;</td><td>&hellip;</td><td>&hellip;</td><td>&hellip;</td><td>&hellip;</td><td>&hellip;</td><td>&hellip;</td><td>&hellip;</td><td>&hellip;</td><td>&hellip;</td><td>&hellip;</td><td>&hellip;</td><td>&hellip;</td><td>&hellip;</td><td>&hellip;</td><td>&hellip;</td><td>&hellip;</td><td>&hellip;</td><td>&hellip;</td><td>&hellip;</td><td>&hellip;</td><td>&hellip;</td><td>&hellip;</td><td>&hellip;</td><td>&hellip;</td><td>&hellip;</td><td>&hellip;</td><td>&hellip;</td><td>&hellip;</td><td>&hellip;</td><td>&hellip;</td><td>&hellip;</td><td>&hellip;</td><td>&hellip;</td><td>&hellip;</td><td>&hellip;</td><td>&hellip;</td><td>&hellip;</td><td>&hellip;</td></tr><tr><td>2757</td><td>0</td><td>null</td><td>false</td><td>0.0</td><td>0.0</td><td>0.0</td><td>0.0</td><td>0.0</td><td>0.0</td><td>0.0</td><td>1</td><td>&quot;23e784fb9fad452591eea495fdec14…</td><td>2024-05-17 08:00:43</td><td>550.0</td><td>17480.0</td><td>0</td><td>0</td><td>&quot;&quot;</td><td>1</td><td>&quot;MOW&quot;</td><td>0</td><td>1</td><td>1</td><td>1</td><td>1</td><td>2</td><td>310</td><td>285</td><td>5749</td><td>310.0</td><td>285.0</td><td>7</td><td>13</td><td>18</td><td>23</td><td>0</td><td>0</td><td>1.0</td><td>1.0</td><td>3.0</td><td>8.0</td><td>0.0</td><td>0.0</td><td>1</td><td>&quot;DP&quot;</td><td>&quot;DP&quot;</td><td>0</td><td>0</td><td>1</td><td>&quot;73H&quot;</td><td>595.0</td><td>248307</td><td>12.422425</td></tr><tr><td>2758</td><td>0</td><td>null</td><td>false</td><td>0.0</td><td>0.0</td><td>0.0</td><td>0.0</td><td>0.0</td><td>0.0</td><td>0.0</td><td>1</td><td>&quot;23e784fb9fad452591eea495fdec14…</td><td>2024-05-17 08:00:43</td><td>550.0</td><td>20845.0</td><td>0</td><td>0</td><td>&quot;&quot;</td><td>1</td><td>&quot;MOW&quot;</td><td>0</td><td>1</td><td>1</td><td>1</td><td>1</td><td>2</td><td>310</td><td>285</td><td>5749</td><td>310.0</td><td>285.0</td><td>7</td><td>13</td><td>18</td><td>23</td><td>0</td><td>0</td><td>1.0</td><td>1.0</td><td>3.0</td><td>8.0</td><td>1.0</td><td>0.0</td><td>1</td><td>&quot;DP&quot;</td><td>&quot;DP&quot;</td><td>0</td><td>0</td><td>1</td><td>&quot;73H&quot;</td><td>595.0</td><td>248307</td><td>12.422425</td></tr><tr><td>2759</td><td>0</td><td>null</td><td>false</td><td>0.0</td><td>0.0</td><td>0.0</td><td>0.0</td><td>0.0</td><td>0.0</td><td>0.0</td><td>1</td><td>&quot;23e784fb9fad452591eea495fdec14…</td><td>2024-05-17 08:00:43</td><td>550.0</td><td>27085.0</td><td>0</td><td>0</td><td>&quot;&quot;</td><td>1</td><td>&quot;MOW&quot;</td><td>0</td><td>1</td><td>1</td><td>1</td><td>1</td><td>2</td><td>310</td><td>285</td><td>5749</td><td>310.0</td><td>285.0</td><td>7</td><td>13</td><td>18</td><td>23</td><td>0</td><td>0</td><td>1.0</td><td>1.0</td><td>3.0</td><td>8.0</td><td>1.0</td><td>0.0</td><td>1</td><td>&quot;DP&quot;</td><td>&quot;DP&quot;</td><td>0</td><td>0</td><td>1</td><td>&quot;73H&quot;</td><td>595.0</td><td>248307</td><td>12.422425</td></tr><tr><td>2760</td><td>0</td><td>null</td><td>false</td><td>0.0</td><td>0.0</td><td>0.0</td><td>0.0</td><td>0.0</td><td>0.0</td><td>0.0</td><td>1</td><td>&quot;23e784fb9fad452591eea495fdec14…</td><td>2024-05-17 08:00:43</td><td>550.0</td><td>17480.0</td><td>0</td><td>0</td><td>&quot;&quot;</td><td>1</td><td>&quot;MOW&quot;</td><td>0</td><td>1</td><td>1</td><td>1</td><td>1</td><td>2</td><td>310</td><td>285</td><td>5804</td><td>310.0</td><td>285.0</td><td>8</td><td>13</td><td>18</td><td>23</td><td>0</td><td>0</td><td>1.0</td><td>1.0</td><td>2.0</td><td>5.0</td><td>0.0</td><td>0.0</td><td>1</td><td>&quot;DP&quot;</td><td>&quot;DP&quot;</td><td>0</td><td>0</td><td>1</td><td>&quot;73H&quot;</td><td>595.0</td><td>248307</td><td>12.422425</td></tr><tr><td>2761</td><td>0</td><td>null</td><td>false</td><td>0.0</td><td>0.0</td><td>0.0</td><td>0.0</td><td>0.0</td><td>0.0</td><td>0.0</td><td>1</td><td>&quot;23e784fb9fad452591eea495fdec14…</td><td>2024-05-17 08:00:43</td><td>550.0</td><td>20845.0</td><td>0</td><td>0</td><td>&quot;&quot;</td><td>1</td><td>&quot;MOW&quot;</td><td>0</td><td>1</td><td>1</td><td>1</td><td>1</td><td>2</td><td>310</td><td>285</td><td>5804</td><td>310.0</td><td>285.0</td><td>8</td><td>13</td><td>18</td><td>23</td><td>0</td><td>0</td><td>1.0</td><td>1.0</td><td>2.0</td><td>5.0</td><td>1.0</td><td>0.0</td><td>1</td><td>&quot;DP&quot;</td><td>&quot;DP&quot;</td><td>0</td><td>0</td><td>1</td><td>&quot;73H&quot;</td><td>595.0</td><td>248307</td><td>12.422425</td></tr></tbody></table></div>"
      ]
     },
     "execution_count": 17,
     "metadata": {},
     "output_type": "execute_result"
    }
   ],
   "execution_count": 17
  },
  {
   "metadata": {
    "ExecuteTime": {
     "end_time": "2025-08-12T23:59:17.869242Z",
     "start_time": "2025-08-12T23:59:17.858473Z"
    }
   },
   "cell_type": "code",
   "source": [
    "def add_search_price_features(df):\n",
    "\n",
    "    lazy_df = df.lazy().with_columns([\n",
    "        # Basic ranking and percentile features\n",
    "        pl.col('totalPrice').rank(method='min').over('ranker_id').alias('price_rank'),\n",
    "\n",
    "        # Price percentile (0-100, lower = cheaper)\n",
    "        ((pl.col('totalPrice').rank(method='min').over('ranker_id') - 1) /\n",
    "         (pl.col('totalPrice').count().over('ranker_id') - 1) * 100)\n",
    "        .fill_null(50.0).alias('price_percentile'),\n",
    "\n",
    "        # Z-score within search group\n",
    "        pl.when(pl.col('totalPrice').std().over('ranker_id') > 0)\n",
    "        .then(\n",
    "            (pl.col('totalPrice') - pl.col('totalPrice').mean().over('ranker_id')) /\n",
    "            pl.col('totalPrice').std().over('ranker_id')\n",
    "        )\n",
    "        .otherwise(0.0)\n",
    "        .alias('price_zscore'),\n",
    "\n",
    "        # Group statistics for ratio calculations\n",
    "        pl.col('totalPrice').min().over('ranker_id').alias('_min_price'),\n",
    "        pl.col('totalPrice').max().over('ranker_id').alias('_max_price'),\n",
    "        pl.col('totalPrice').median().over('ranker_id').alias('_median_price'),\n",
    "        pl.col('totalPrice').mean().over('ranker_id').alias('_mean_price'),\n",
    "        pl.col('totalPrice').std().over('ranker_id').alias('_std_price'),\n",
    "        pl.col('totalPrice').count().over('ranker_id').alias('options_count'),\n",
    "\n",
    "    ]).with_columns([\n",
    "        # Ratio features\n",
    "        (pl.col('totalPrice') / pl.col('_min_price')).alias('price_ratio_to_min'),\n",
    "        (pl.col('totalPrice') / pl.col('_max_price')).alias('price_ratio_to_max'),\n",
    "        (pl.col('totalPrice') / pl.col('_median_price')).alias('price_ratio_to_median'),\n",
    "\n",
    "        # Binary position features\n",
    "        (pl.col('totalPrice') == pl.col('_min_price')).cast(pl.Int32).alias('is_cheapest'),\n",
    "        (pl.col('totalPrice') == pl.col('_max_price')).cast(pl.Int32).alias('is_most_expensive'),\n",
    "        (pl.col('totalPrice') < pl.col('_median_price')).cast(pl.Int32).alias('is_below_median'),\n",
    "\n",
    "        # Price range and variability\n",
    "        (pl.col('_max_price') - pl.col('_min_price')).alias('price_range'),\n",
    "        pl.col('_std_price').alias('price_std'),\n",
    "\n",
    "        # Coefficient of variation\n",
    "        pl.when(pl.col('_mean_price') > 0)\n",
    "        .then(pl.col('_std_price') / pl.col('_mean_price'))\n",
    "        .otherwise(0.0)\n",
    "        .alias('price_cv'),\n",
    "\n",
    "    ]).with_columns([\n",
    "        # Sort prices to calculate price gap\n",
    "        pl.col('totalPrice').sort().over('ranker_id').alias('_sorted_prices'),\n",
    "\n",
    "    ]).with_columns([\n",
    "        # Calculate price gap using window functions\n",
    "        pl.when(pl.col('price_rank') < pl.col('options_count'))\n",
    "        .then(\n",
    "            # Get the next higher price in the sorted list\n",
    "            pl.col('_sorted_prices').shift(-1).over('ranker_id') - pl.col('totalPrice')\n",
    "        )\n",
    "        .otherwise(0.0)\n",
    "        .alias('price_gap_to_next_cheapest')\n",
    "\n",
    "    ]).drop(['^_.*$']).fill_null(0)  # Remove the temporary columns\n",
    "\n",
    "    return lazy_df.collect()"
   ],
   "id": "bebca0c9ed10d22b",
   "outputs": [],
   "execution_count": 7
  },
  {
   "metadata": {
    "ExecuteTime": {
     "end_time": "2025-08-12T23:59:25.903633Z",
     "start_time": "2025-08-12T23:59:20.162633Z"
    }
   },
   "cell_type": "code",
   "source": "data = add_search_price_features(data)",
   "id": "ca3129f9d0164247",
   "outputs": [],
   "execution_count": 8
  },
  {
   "metadata": {
    "ExecuteTime": {
     "end_time": "2025-08-12T23:59:28.476330Z",
     "start_time": "2025-08-12T23:59:28.465249Z"
    }
   },
   "cell_type": "code",
   "source": [
    "print(f\"shape: {data.shape}\")\n",
    "print(f\"data types: {data.dtypes}\")\n",
    "data.head(20)"
   ],
   "id": "8002f2099264ae85",
   "outputs": [
    {
     "name": "stdout",
     "output_type": "stream",
     "text": [
      "shape: (18145372, 62)\n",
      "data types: [Int64, Float64, Float64, Float64, Float64, Float64, Float64, Float64, Int64, String, Datetime(time_unit='ns', time_zone=None), String, Float64, Float64, Int32, UInt32, UInt32, UInt32, String, String, Int32, Int32, Int32, Int32, Float64, Float64, Int32, Int32, Int8, Int8, Int8, Int8, Int32, Int32, UInt32, String, String, UInt32, String, Float64, Float64, Float64, Float64, Float64, Float64, Float64, UInt32, Float64, UInt32, Float64, Float64, UInt32, Float64, Float64, Float64, Int32, Int32, Int32, Float64, Float64, Float64, Float64]\n"
     ]
    },
    {
     "data": {
      "text/plain": [
       "shape: (20, 62)\n",
       "┌─────┬────────────┬────────────┬────────────┬───┬────────────┬────────────┬──────────┬────────────┐\n",
       "│ Id  ┆ miniRules0 ┆ miniRules0 ┆ miniRules0 ┆ … ┆ price_rang ┆ price_std  ┆ price_cv ┆ price_gap_ │\n",
       "│ --- ┆ _monetaryA ┆ _percentag ┆ _statusInf ┆   ┆ e          ┆ ---        ┆ ---      ┆ to_next_ch │\n",
       "│ i64 ┆ mount      ┆ e          ┆ os         ┆   ┆ ---        ┆ f64        ┆ f64      ┆ eapest     │\n",
       "│     ┆ ---        ┆ ---        ┆ ---        ┆   ┆ f64        ┆            ┆          ┆ ---        │\n",
       "│     ┆ f64        ┆ f64        ┆ f64        ┆   ┆            ┆            ┆          ┆ f64        │\n",
       "╞═════╪════════════╪════════════╪════════════╪═══╪════════════╪════════════╪══════════╪════════════╡\n",
       "│ 0   ┆ 0.0        ┆ 0.0        ┆ 0.0        ┆ … ┆ 69186.0    ┆ 18905.2881 ┆ 0.285837 ┆ 34241.0    │\n",
       "│ 1   ┆ 2300.0     ┆ 0.0        ┆ 1.0        ┆ … ┆ 69186.0    ┆ 18905.2881 ┆ 0.285837 ┆ 0.0        │\n",
       "│ 2   ┆ 2300.0     ┆ 0.0        ┆ 1.0        ┆ … ┆ 69186.0    ┆ 18905.2881 ┆ 0.285837 ┆ -2570.0    │\n",
       "│ 3   ┆ 0.0        ┆ 0.0        ┆ 1.0        ┆ … ┆ 69186.0    ┆ 18905.2881 ┆ 0.285837 ┆ -30755.0   │\n",
       "│ 4   ┆ 0.0        ┆ 0.0        ┆ 1.0        ┆ … ┆ 69186.0    ┆ 18905.2881 ┆ 0.285837 ┆ -34945.0   │\n",
       "│ …   ┆ …          ┆ …          ┆ …          ┆ … ┆ …          ┆ …          ┆ …        ┆ …          │\n",
       "│ 15  ┆ 0.0        ┆ 0.0        ┆ 1.0        ┆ … ┆ 69186.0    ┆ 18905.2881 ┆ 0.285837 ┆ 0.0        │\n",
       "│ 16  ┆ 0.0        ┆ 0.0        ┆ 1.0        ┆ … ┆ 69186.0    ┆ 18905.2881 ┆ 0.285837 ┆ -4190.0    │\n",
       "│ 17  ┆ 2300.0     ┆ 0.0        ┆ 1.0        ┆ … ┆ 69186.0    ┆ 18905.2881 ┆ 0.285837 ┆ 30755.0    │\n",
       "│ 18  ┆ 2300.0     ┆ 0.0        ┆ 1.0        ┆ … ┆ 69186.0    ┆ 18905.2881 ┆ 0.285837 ┆ 32375.0    │\n",
       "│ 19  ┆ 0.0        ┆ 0.0        ┆ 1.0        ┆ … ┆ 69186.0    ┆ 18905.2881 ┆ 0.285837 ┆ 4190.0     │\n",
       "└─────┴────────────┴────────────┴────────────┴───┴────────────┴────────────┴──────────┴────────────┘"
      ],
      "text/html": [
       "<div><style>\n",
       ".dataframe > thead > tr,\n",
       ".dataframe > tbody > tr {\n",
       "  text-align: right;\n",
       "  white-space: pre-wrap;\n",
       "}\n",
       "</style>\n",
       "<small>shape: (20, 62)</small><table border=\"1\" class=\"dataframe\"><thead><tr><th>Id</th><th>miniRules0_monetaryAmount</th><th>miniRules0_percentage</th><th>miniRules0_statusInfos</th><th>miniRules1_monetaryAmount</th><th>miniRules1_percentage</th><th>miniRules1_statusInfos</th><th>pricingInfo_isAccessTP</th><th>pricingInfo_passengerCount</th><th>ranker_id</th><th>requestDate</th><th>searchRoute</th><th>taxes</th><th>totalPrice</th><th>is_roundtrip</th><th>leg0_num_segments</th><th>leg1_num_segments</th><th>total_segments</th><th>route_origin</th><th>route_destination</th><th>origin_is_major_hub</th><th>destination_is_major_hub</th><th>includes_major_hub</th><th>booking_lead_time_min</th><th>leg0_duration_min</th><th>leg1_duration_min</th><th>leg0_flight_time_min</th><th>leg1_flight_time_min</th><th>leg0_departure_hour</th><th>leg0_arrival_hour</th><th>leg1_departure_hour</th><th>leg1_arrival_hour</th><th>has_cancellation_fee</th><th>has_exchange_fee</th><th>unique_carriers</th><th>primary_carrier</th><th>marketing_carrier</th><th>aircraft_diversity</th><th>primary_aircraft</th><th>max_cabin_class</th><th>avg_cabin_class</th><th>min_seats_available</th><th>total_seats_available</th><th>baggage_allowance_quantity</th><th>baggage_allowance_weight</th><th>total_duration</th><th>route_popularity</th><th>route_popularity_log</th><th>price_rank</th><th>price_percentile</th><th>price_zscore</th><th>options_count</th><th>price_ratio_to_min</th><th>price_ratio_to_max</th><th>price_ratio_to_median</th><th>is_cheapest</th><th>is_most_expensive</th><th>is_below_median</th><th>price_range</th><th>price_std</th><th>price_cv</th><th>price_gap_to_next_cheapest</th></tr><tr><td>i64</td><td>f64</td><td>f64</td><td>f64</td><td>f64</td><td>f64</td><td>f64</td><td>f64</td><td>i64</td><td>str</td><td>datetime[ns]</td><td>str</td><td>f64</td><td>f64</td><td>i32</td><td>u32</td><td>u32</td><td>u32</td><td>str</td><td>str</td><td>i32</td><td>i32</td><td>i32</td><td>i32</td><td>f64</td><td>f64</td><td>i32</td><td>i32</td><td>i8</td><td>i8</td><td>i8</td><td>i8</td><td>i32</td><td>i32</td><td>u32</td><td>str</td><td>str</td><td>u32</td><td>str</td><td>f64</td><td>f64</td><td>f64</td><td>f64</td><td>f64</td><td>f64</td><td>f64</td><td>u32</td><td>f64</td><td>u32</td><td>f64</td><td>f64</td><td>u32</td><td>f64</td><td>f64</td><td>f64</td><td>i32</td><td>i32</td><td>i32</td><td>f64</td><td>f64</td><td>f64</td><td>f64</td></tr></thead><tbody><tr><td>0</td><td>0.0</td><td>0.0</td><td>0.0</td><td>0.0</td><td>0.0</td><td>0.0</td><td>1.0</td><td>1</td><td>&quot;98ce0dabf6964640b63079fbafd42c…</td><td>2024-05-17 03:03:08</td><td>&quot;TLKKJA/KJATLK&quot;</td><td>370.0</td><td>16884.0</td><td>1</td><td>1</td><td>1</td><td>2</td><td>&quot;TLK&quot;</td><td>&quot;KJA&quot;</td><td>0</td><td>0</td><td>0</td><td>42516</td><td>160.0</td><td>155.0</td><td>160</td><td>155</td><td>15</td><td>16</td><td>9</td><td>14</td><td>0</td><td>0</td><td>1</td><td>&quot;KV&quot;</td><td>&quot;KV&quot;</td><td>1</td><td>&quot;YK2&quot;</td><td>1.0</td><td>1.0</td><td>9.0</td><td>18.0</td><td>1.0</td><td>0.0</td><td>315.0</td><td>25</td><td>3.258097</td><td>1</td><td>0.0</td><td>-2.605417</td><td>25</td><td>1.0</td><td>0.196166</td><td>0.314443</td><td>1</td><td>0</td><td>1</td><td>69186.0</td><td>18905.2881</td><td>0.285837</td><td>34241.0</td></tr><tr><td>1</td><td>2300.0</td><td>0.0</td><td>1.0</td><td>3500.0</td><td>0.0</td><td>1.0</td><td>1.0</td><td>1</td><td>&quot;98ce0dabf6964640b63079fbafd42c…</td><td>2024-05-17 03:03:08</td><td>&quot;TLKKJA/KJATLK&quot;</td><td>2240.0</td><td>51125.0</td><td>1</td><td>2</td><td>2</td><td>4</td><td>&quot;TLK&quot;</td><td>&quot;KJA&quot;</td><td>0</td><td>0</td><td>0</td><td>42141</td><td>445.0</td><td>505.0</td><td>250</td><td>245</td><td>9</td><td>14</td><td>22</td><td>8</td><td>1</td><td>1</td><td>1</td><td>&quot;S7&quot;</td><td>&quot;S7&quot;</td><td>1</td><td>&quot;E70&quot;</td><td>1.0</td><td>1.0</td><td>4.0</td><td>26.0</td><td>1.0</td><td>0.0</td><td>950.0</td><td>25</td><td>3.258097</td><td>2</td><td>4.166667</td><td>-0.794231</td><td>25</td><td>3.028015</td><td>0.593993</td><td>0.952137</td><td>0</td><td>0</td><td>1</td><td>69186.0</td><td>18905.2881</td><td>0.285837</td><td>0.0</td></tr><tr><td>2</td><td>2300.0</td><td>0.0</td><td>1.0</td><td>3500.0</td><td>0.0</td><td>1.0</td><td>1.0</td><td>1</td><td>&quot;98ce0dabf6964640b63079fbafd42c…</td><td>2024-05-17 03:03:08</td><td>&quot;TLKKJA/KJATLK&quot;</td><td>2240.0</td><td>53695.0</td><td>1</td><td>2</td><td>2</td><td>4</td><td>&quot;TLK&quot;</td><td>&quot;KJA&quot;</td><td>0</td><td>0</td><td>0</td><td>42141</td><td>445.0</td><td>505.0</td><td>250</td><td>245</td><td>9</td><td>14</td><td>22</td><td>8</td><td>1</td><td>1</td><td>1</td><td>&quot;S7&quot;</td><td>&quot;S7&quot;</td><td>1</td><td>&quot;E70&quot;</td><td>1.0</td><td>1.0</td><td>4.0</td><td>26.0</td><td>1.0</td><td>0.0</td><td>950.0</td><td>25</td><td>3.258097</td><td>8</td><td>29.166667</td><td>-0.65829</td><td>25</td><td>3.18023</td><td>0.623853</td><td>1.0</td><td>0</td><td>0</td><td>0</td><td>69186.0</td><td>18905.2881</td><td>0.285837</td><td>-2570.0</td></tr><tr><td>3</td><td>0.0</td><td>0.0</td><td>1.0</td><td>0.0</td><td>0.0</td><td>1.0</td><td>1.0</td><td>1</td><td>&quot;98ce0dabf6964640b63079fbafd42c…</td><td>2024-05-17 03:03:08</td><td>&quot;TLKKJA/KJATLK&quot;</td><td>2240.0</td><td>81880.0</td><td>1</td><td>2</td><td>2</td><td>4</td><td>&quot;TLK&quot;</td><td>&quot;KJA&quot;</td><td>0</td><td>0</td><td>0</td><td>42141</td><td>445.0</td><td>505.0</td><td>250</td><td>245</td><td>9</td><td>14</td><td>22</td><td>8</td><td>0</td><td>0</td><td>1</td><td>&quot;S7&quot;</td><td>&quot;S7&quot;</td><td>1</td><td>&quot;E70&quot;</td><td>1.0</td><td>1.0</td><td>4.0</td><td>26.0</td><td>1.0</td><td>0.0</td><td>950.0</td><td>25</td><td>3.258097</td><td>14</td><td>54.166667</td><td>0.832563</td><td>25</td><td>4.849562</td><td>0.951319</td><td>1.524909</td><td>0</td><td>0</td><td>0</td><td>69186.0</td><td>18905.2881</td><td>0.285837</td><td>-30755.0</td></tr><tr><td>4</td><td>0.0</td><td>0.0</td><td>1.0</td><td>0.0</td><td>0.0</td><td>1.0</td><td>1.0</td><td>1</td><td>&quot;98ce0dabf6964640b63079fbafd42c…</td><td>2024-05-17 03:03:08</td><td>&quot;TLKKJA/KJATLK&quot;</td><td>2240.0</td><td>86070.0</td><td>1</td><td>2</td><td>2</td><td>4</td><td>&quot;TLK&quot;</td><td>&quot;KJA&quot;</td><td>0</td><td>0</td><td>0</td><td>42141</td><td>445.0</td><td>505.0</td><td>250</td><td>245</td><td>9</td><td>14</td><td>22</td><td>8</td><td>0</td><td>0</td><td>1</td><td>&quot;S7&quot;</td><td>&quot;S7&quot;</td><td>1</td><td>&quot;E70&quot;</td><td>1.0</td><td>1.0</td><td>4.0</td><td>26.0</td><td>1.0</td><td>0.0</td><td>950.0</td><td>25</td><td>3.258097</td><td>20</td><td>79.166667</td><td>1.054194</td><td>25</td><td>5.097726</td><td>1.0</td><td>1.602943</td><td>0</td><td>1</td><td>0</td><td>69186.0</td><td>18905.2881</td><td>0.285837</td><td>-34945.0</td></tr><tr><td>&hellip;</td><td>&hellip;</td><td>&hellip;</td><td>&hellip;</td><td>&hellip;</td><td>&hellip;</td><td>&hellip;</td><td>&hellip;</td><td>&hellip;</td><td>&hellip;</td><td>&hellip;</td><td>&hellip;</td><td>&hellip;</td><td>&hellip;</td><td>&hellip;</td><td>&hellip;</td><td>&hellip;</td><td>&hellip;</td><td>&hellip;</td><td>&hellip;</td><td>&hellip;</td><td>&hellip;</td><td>&hellip;</td><td>&hellip;</td><td>&hellip;</td><td>&hellip;</td><td>&hellip;</td><td>&hellip;</td><td>&hellip;</td><td>&hellip;</td><td>&hellip;</td><td>&hellip;</td><td>&hellip;</td><td>&hellip;</td><td>&hellip;</td><td>&hellip;</td><td>&hellip;</td><td>&hellip;</td><td>&hellip;</td><td>&hellip;</td><td>&hellip;</td><td>&hellip;</td><td>&hellip;</td><td>&hellip;</td><td>&hellip;</td><td>&hellip;</td><td>&hellip;</td><td>&hellip;</td><td>&hellip;</td><td>&hellip;</td><td>&hellip;</td><td>&hellip;</td><td>&hellip;</td><td>&hellip;</td><td>&hellip;</td><td>&hellip;</td><td>&hellip;</td><td>&hellip;</td><td>&hellip;</td><td>&hellip;</td><td>&hellip;</td><td>&hellip;</td></tr><tr><td>15</td><td>0.0</td><td>0.0</td><td>1.0</td><td>0.0</td><td>0.0</td><td>1.0</td><td>1.0</td><td>1</td><td>&quot;98ce0dabf6964640b63079fbafd42c…</td><td>2024-05-17 03:03:08</td><td>&quot;TLKKJA/KJATLK&quot;</td><td>2240.0</td><td>81880.0</td><td>1</td><td>2</td><td>2</td><td>4</td><td>&quot;TLK&quot;</td><td>&quot;KJA&quot;</td><td>0</td><td>0</td><td>0</td><td>42141</td><td>445.0</td><td>755.0</td><td>250</td><td>245</td><td>9</td><td>14</td><td>17</td><td>8</td><td>0</td><td>0</td><td>1</td><td>&quot;S7&quot;</td><td>&quot;S7&quot;</td><td>1</td><td>&quot;E70&quot;</td><td>1.0</td><td>1.0</td><td>4.0</td><td>26.0</td><td>1.0</td><td>0.0</td><td>1200.0</td><td>25</td><td>3.258097</td><td>14</td><td>54.166667</td><td>0.832563</td><td>25</td><td>4.849562</td><td>0.951319</td><td>1.524909</td><td>0</td><td>0</td><td>0</td><td>69186.0</td><td>18905.2881</td><td>0.285837</td><td>0.0</td></tr><tr><td>16</td><td>0.0</td><td>0.0</td><td>1.0</td><td>0.0</td><td>0.0</td><td>1.0</td><td>1.0</td><td>1</td><td>&quot;98ce0dabf6964640b63079fbafd42c…</td><td>2024-05-17 03:03:08</td><td>&quot;TLKKJA/KJATLK&quot;</td><td>2240.0</td><td>86070.0</td><td>1</td><td>2</td><td>2</td><td>4</td><td>&quot;TLK&quot;</td><td>&quot;KJA&quot;</td><td>0</td><td>0</td><td>0</td><td>42141</td><td>445.0</td><td>755.0</td><td>250</td><td>245</td><td>9</td><td>14</td><td>17</td><td>8</td><td>0</td><td>0</td><td>1</td><td>&quot;S7&quot;</td><td>&quot;S7&quot;</td><td>1</td><td>&quot;E70&quot;</td><td>1.0</td><td>1.0</td><td>4.0</td><td>26.0</td><td>1.0</td><td>0.0</td><td>1200.0</td><td>25</td><td>3.258097</td><td>20</td><td>79.166667</td><td>1.054194</td><td>25</td><td>5.097726</td><td>1.0</td><td>1.602943</td><td>0</td><td>1</td><td>0</td><td>69186.0</td><td>18905.2881</td><td>0.285837</td><td>-4190.0</td></tr><tr><td>17</td><td>2300.0</td><td>0.0</td><td>1.0</td><td>3500.0</td><td>0.0</td><td>1.0</td><td>1.0</td><td>1</td><td>&quot;98ce0dabf6964640b63079fbafd42c…</td><td>2024-05-17 03:03:08</td><td>&quot;TLKKJA/KJATLK&quot;</td><td>2240.0</td><td>51125.0</td><td>1</td><td>2</td><td>2</td><td>4</td><td>&quot;TLK&quot;</td><td>&quot;KJA&quot;</td><td>0</td><td>0</td><td>0</td><td>42141</td><td>595.0</td><td>655.0</td><td>250</td><td>245</td><td>9</td><td>17</td><td>19</td><td>8</td><td>1</td><td>1</td><td>1</td><td>&quot;S7&quot;</td><td>&quot;S7&quot;</td><td>1</td><td>&quot;E70&quot;</td><td>1.0</td><td>1.0</td><td>4.0</td><td>26.0</td><td>1.0</td><td>0.0</td><td>1250.0</td><td>25</td><td>3.258097</td><td>2</td><td>4.166667</td><td>-0.794231</td><td>25</td><td>3.028015</td><td>0.593993</td><td>0.952137</td><td>0</td><td>0</td><td>1</td><td>69186.0</td><td>18905.2881</td><td>0.285837</td><td>30755.0</td></tr><tr><td>18</td><td>2300.0</td><td>0.0</td><td>1.0</td><td>3500.0</td><td>0.0</td><td>1.0</td><td>1.0</td><td>1</td><td>&quot;98ce0dabf6964640b63079fbafd42c…</td><td>2024-05-17 03:03:08</td><td>&quot;TLKKJA/KJATLK&quot;</td><td>2240.0</td><td>53695.0</td><td>1</td><td>2</td><td>2</td><td>4</td><td>&quot;TLK&quot;</td><td>&quot;KJA&quot;</td><td>0</td><td>0</td><td>0</td><td>42141</td><td>595.0</td><td>655.0</td><td>250</td><td>245</td><td>9</td><td>17</td><td>19</td><td>8</td><td>1</td><td>1</td><td>1</td><td>&quot;S7&quot;</td><td>&quot;S7&quot;</td><td>1</td><td>&quot;E70&quot;</td><td>1.0</td><td>1.0</td><td>4.0</td><td>26.0</td><td>1.0</td><td>0.0</td><td>1250.0</td><td>25</td><td>3.258097</td><td>8</td><td>29.166667</td><td>-0.65829</td><td>25</td><td>3.18023</td><td>0.623853</td><td>1.0</td><td>0</td><td>0</td><td>0</td><td>69186.0</td><td>18905.2881</td><td>0.285837</td><td>32375.0</td></tr><tr><td>19</td><td>0.0</td><td>0.0</td><td>1.0</td><td>0.0</td><td>0.0</td><td>1.0</td><td>1.0</td><td>1</td><td>&quot;98ce0dabf6964640b63079fbafd42c…</td><td>2024-05-17 03:03:08</td><td>&quot;TLKKJA/KJATLK&quot;</td><td>2240.0</td><td>81880.0</td><td>1</td><td>2</td><td>2</td><td>4</td><td>&quot;TLK&quot;</td><td>&quot;KJA&quot;</td><td>0</td><td>0</td><td>0</td><td>42141</td><td>595.0</td><td>655.0</td><td>250</td><td>245</td><td>9</td><td>17</td><td>19</td><td>8</td><td>0</td><td>0</td><td>1</td><td>&quot;S7&quot;</td><td>&quot;S7&quot;</td><td>1</td><td>&quot;E70&quot;</td><td>1.0</td><td>1.0</td><td>4.0</td><td>26.0</td><td>1.0</td><td>0.0</td><td>1250.0</td><td>25</td><td>3.258097</td><td>14</td><td>54.166667</td><td>0.832563</td><td>25</td><td>4.849562</td><td>0.951319</td><td>1.524909</td><td>0</td><td>0</td><td>0</td><td>69186.0</td><td>18905.2881</td><td>0.285837</td><td>4190.0</td></tr></tbody></table></div>"
      ]
     },
     "execution_count": 9,
     "metadata": {},
     "output_type": "execute_result"
    }
   ],
   "execution_count": 9
  },
  {
   "metadata": {
    "ExecuteTime": {
     "end_time": "2025-08-12T23:59:37.116976Z",
     "start_time": "2025-08-12T23:59:37.110407Z"
    }
   },
   "cell_type": "code",
   "source": [
    "def camel_to_snake(name):\n",
    "    \"\"\"Convert camelCase or PascalCase to snake_case\"\"\"\n",
    "    s1 = re.sub('(.)([A-Z][a-z]+)', r'\\1_\\2', name)\n",
    "    s2 = re.sub('([a-z0-9])([A-Z])', r'\\1_\\2', s1)\n",
    "    return s2.lower()\n",
    "\n",
    "def convert_columns_to_snake_case(df):\n",
    "    \"\"\"Convert all column names in a polars DataFrame to snake_case\"\"\"\n",
    "    return df.rename({col: camel_to_snake(col) for col in df.columns})"
   ],
   "id": "f9c91f4a143719d9",
   "outputs": [],
   "execution_count": 10
  },
  {
   "metadata": {
    "ExecuteTime": {
     "end_time": "2025-08-12T23:59:49.009177Z",
     "start_time": "2025-08-12T23:59:48.995507Z"
    }
   },
   "cell_type": "code",
   "source": [
    "data = convert_columns_to_snake_case(data)\n",
    "data.head(100)"
   ],
   "id": "74dd9a8de3e0d23f",
   "outputs": [
    {
     "data": {
      "text/plain": [
       "shape: (100, 62)\n",
       "┌─────┬────────────┬────────────┬────────────┬───┬────────────┬────────────┬──────────┬────────────┐\n",
       "│ id  ┆ mini_rules ┆ mini_rules ┆ mini_rules ┆ … ┆ price_rang ┆ price_std  ┆ price_cv ┆ price_gap_ │\n",
       "│ --- ┆ 0_monetary ┆ 0_percenta ┆ 0_status_i ┆   ┆ e          ┆ ---        ┆ ---      ┆ to_next_ch │\n",
       "│ i64 ┆ _amount    ┆ ge         ┆ nfos       ┆   ┆ ---        ┆ f64        ┆ f64      ┆ eapest     │\n",
       "│     ┆ ---        ┆ ---        ┆ ---        ┆   ┆ f64        ┆            ┆          ┆ ---        │\n",
       "│     ┆ f64        ┆ f64        ┆ f64        ┆   ┆            ┆            ┆          ┆ f64        │\n",
       "╞═════╪════════════╪════════════╪════════════╪═══╪════════════╪════════════╪══════════╪════════════╡\n",
       "│ 0   ┆ 0.0        ┆ 0.0        ┆ 0.0        ┆ … ┆ 69186.0    ┆ 18905.2881 ┆ 0.285837 ┆ 34241.0    │\n",
       "│ 1   ┆ 2300.0     ┆ 0.0        ┆ 1.0        ┆ … ┆ 69186.0    ┆ 18905.2881 ┆ 0.285837 ┆ 0.0        │\n",
       "│ 2   ┆ 2300.0     ┆ 0.0        ┆ 1.0        ┆ … ┆ 69186.0    ┆ 18905.2881 ┆ 0.285837 ┆ -2570.0    │\n",
       "│ 3   ┆ 0.0        ┆ 0.0        ┆ 1.0        ┆ … ┆ 69186.0    ┆ 18905.2881 ┆ 0.285837 ┆ -30755.0   │\n",
       "│ 4   ┆ 0.0        ┆ 0.0        ┆ 1.0        ┆ … ┆ 69186.0    ┆ 18905.2881 ┆ 0.285837 ┆ -34945.0   │\n",
       "│ …   ┆ …          ┆ …          ┆ …          ┆ … ┆ …          ┆ …          ┆ …        ┆ …          │\n",
       "│ 95  ┆ 2300.0     ┆ 0.0        ┆ 1.0        ┆ … ┆ 159624.0   ┆ 46232.1221 ┆ 0.843193 ┆ 3305.0     │\n",
       "│     ┆            ┆            ┆            ┆   ┆            ┆ 67         ┆          ┆            │\n",
       "│ 96  ┆ 4000.0     ┆ 0.0        ┆ 1.0        ┆ … ┆ 159624.0   ┆ 46232.1221 ┆ 0.843193 ┆ 3815.0     │\n",
       "│     ┆            ┆            ┆            ┆   ┆            ┆ 67         ┆          ┆            │\n",
       "│ 97  ┆ 4000.0     ┆ 0.0        ┆ 1.0        ┆ … ┆ 159624.0   ┆ 46232.1221 ┆ 0.843193 ┆ 21460.0    │\n",
       "│     ┆            ┆            ┆            ┆   ┆            ┆ 67         ┆          ┆            │\n",
       "│ 98  ┆ 2300.0     ┆ 0.0        ┆ 1.0        ┆ … ┆ 159624.0   ┆ 46232.1221 ┆ 0.843193 ┆ 2060.0     │\n",
       "│     ┆            ┆            ┆            ┆   ┆            ┆ 67         ┆          ┆            │\n",
       "│ 99  ┆ 0.0        ┆ 0.0        ┆ 1.0        ┆ … ┆ 159624.0   ┆ 46232.1221 ┆ 0.843193 ┆ 2810.0     │\n",
       "│     ┆            ┆            ┆            ┆   ┆            ┆ 67         ┆          ┆            │\n",
       "└─────┴────────────┴────────────┴────────────┴───┴────────────┴────────────┴──────────┴────────────┘"
      ],
      "text/html": [
       "<div><style>\n",
       ".dataframe > thead > tr,\n",
       ".dataframe > tbody > tr {\n",
       "  text-align: right;\n",
       "  white-space: pre-wrap;\n",
       "}\n",
       "</style>\n",
       "<small>shape: (100, 62)</small><table border=\"1\" class=\"dataframe\"><thead><tr><th>id</th><th>mini_rules0_monetary_amount</th><th>mini_rules0_percentage</th><th>mini_rules0_status_infos</th><th>mini_rules1_monetary_amount</th><th>mini_rules1_percentage</th><th>mini_rules1_status_infos</th><th>pricing_info_is_access_tp</th><th>pricing_info_passenger_count</th><th>ranker_id</th><th>request_date</th><th>search_route</th><th>taxes</th><th>total_price</th><th>is_roundtrip</th><th>leg0_num_segments</th><th>leg1_num_segments</th><th>total_segments</th><th>route_origin</th><th>route_destination</th><th>origin_is_major_hub</th><th>destination_is_major_hub</th><th>includes_major_hub</th><th>booking_lead_time_min</th><th>leg0_duration_min</th><th>leg1_duration_min</th><th>leg0_flight_time_min</th><th>leg1_flight_time_min</th><th>leg0_departure_hour</th><th>leg0_arrival_hour</th><th>leg1_departure_hour</th><th>leg1_arrival_hour</th><th>has_cancellation_fee</th><th>has_exchange_fee</th><th>unique_carriers</th><th>primary_carrier</th><th>marketing_carrier</th><th>aircraft_diversity</th><th>primary_aircraft</th><th>max_cabin_class</th><th>avg_cabin_class</th><th>min_seats_available</th><th>total_seats_available</th><th>baggage_allowance_quantity</th><th>baggage_allowance_weight</th><th>total_duration</th><th>route_popularity</th><th>route_popularity_log</th><th>price_rank</th><th>price_percentile</th><th>price_zscore</th><th>options_count</th><th>price_ratio_to_min</th><th>price_ratio_to_max</th><th>price_ratio_to_median</th><th>is_cheapest</th><th>is_most_expensive</th><th>is_below_median</th><th>price_range</th><th>price_std</th><th>price_cv</th><th>price_gap_to_next_cheapest</th></tr><tr><td>i64</td><td>f64</td><td>f64</td><td>f64</td><td>f64</td><td>f64</td><td>f64</td><td>f64</td><td>i64</td><td>str</td><td>datetime[ns]</td><td>str</td><td>f64</td><td>f64</td><td>i32</td><td>u32</td><td>u32</td><td>u32</td><td>str</td><td>str</td><td>i32</td><td>i32</td><td>i32</td><td>i32</td><td>f64</td><td>f64</td><td>i32</td><td>i32</td><td>i8</td><td>i8</td><td>i8</td><td>i8</td><td>i32</td><td>i32</td><td>u32</td><td>str</td><td>str</td><td>u32</td><td>str</td><td>f64</td><td>f64</td><td>f64</td><td>f64</td><td>f64</td><td>f64</td><td>f64</td><td>u32</td><td>f64</td><td>u32</td><td>f64</td><td>f64</td><td>u32</td><td>f64</td><td>f64</td><td>f64</td><td>i32</td><td>i32</td><td>i32</td><td>f64</td><td>f64</td><td>f64</td><td>f64</td></tr></thead><tbody><tr><td>0</td><td>0.0</td><td>0.0</td><td>0.0</td><td>0.0</td><td>0.0</td><td>0.0</td><td>1.0</td><td>1</td><td>&quot;98ce0dabf6964640b63079fbafd42c…</td><td>2024-05-17 03:03:08</td><td>&quot;TLKKJA/KJATLK&quot;</td><td>370.0</td><td>16884.0</td><td>1</td><td>1</td><td>1</td><td>2</td><td>&quot;TLK&quot;</td><td>&quot;KJA&quot;</td><td>0</td><td>0</td><td>0</td><td>42516</td><td>160.0</td><td>155.0</td><td>160</td><td>155</td><td>15</td><td>16</td><td>9</td><td>14</td><td>0</td><td>0</td><td>1</td><td>&quot;KV&quot;</td><td>&quot;KV&quot;</td><td>1</td><td>&quot;YK2&quot;</td><td>1.0</td><td>1.0</td><td>9.0</td><td>18.0</td><td>1.0</td><td>0.0</td><td>315.0</td><td>25</td><td>3.258097</td><td>1</td><td>0.0</td><td>-2.605417</td><td>25</td><td>1.0</td><td>0.196166</td><td>0.314443</td><td>1</td><td>0</td><td>1</td><td>69186.0</td><td>18905.2881</td><td>0.285837</td><td>34241.0</td></tr><tr><td>1</td><td>2300.0</td><td>0.0</td><td>1.0</td><td>3500.0</td><td>0.0</td><td>1.0</td><td>1.0</td><td>1</td><td>&quot;98ce0dabf6964640b63079fbafd42c…</td><td>2024-05-17 03:03:08</td><td>&quot;TLKKJA/KJATLK&quot;</td><td>2240.0</td><td>51125.0</td><td>1</td><td>2</td><td>2</td><td>4</td><td>&quot;TLK&quot;</td><td>&quot;KJA&quot;</td><td>0</td><td>0</td><td>0</td><td>42141</td><td>445.0</td><td>505.0</td><td>250</td><td>245</td><td>9</td><td>14</td><td>22</td><td>8</td><td>1</td><td>1</td><td>1</td><td>&quot;S7&quot;</td><td>&quot;S7&quot;</td><td>1</td><td>&quot;E70&quot;</td><td>1.0</td><td>1.0</td><td>4.0</td><td>26.0</td><td>1.0</td><td>0.0</td><td>950.0</td><td>25</td><td>3.258097</td><td>2</td><td>4.166667</td><td>-0.794231</td><td>25</td><td>3.028015</td><td>0.593993</td><td>0.952137</td><td>0</td><td>0</td><td>1</td><td>69186.0</td><td>18905.2881</td><td>0.285837</td><td>0.0</td></tr><tr><td>2</td><td>2300.0</td><td>0.0</td><td>1.0</td><td>3500.0</td><td>0.0</td><td>1.0</td><td>1.0</td><td>1</td><td>&quot;98ce0dabf6964640b63079fbafd42c…</td><td>2024-05-17 03:03:08</td><td>&quot;TLKKJA/KJATLK&quot;</td><td>2240.0</td><td>53695.0</td><td>1</td><td>2</td><td>2</td><td>4</td><td>&quot;TLK&quot;</td><td>&quot;KJA&quot;</td><td>0</td><td>0</td><td>0</td><td>42141</td><td>445.0</td><td>505.0</td><td>250</td><td>245</td><td>9</td><td>14</td><td>22</td><td>8</td><td>1</td><td>1</td><td>1</td><td>&quot;S7&quot;</td><td>&quot;S7&quot;</td><td>1</td><td>&quot;E70&quot;</td><td>1.0</td><td>1.0</td><td>4.0</td><td>26.0</td><td>1.0</td><td>0.0</td><td>950.0</td><td>25</td><td>3.258097</td><td>8</td><td>29.166667</td><td>-0.65829</td><td>25</td><td>3.18023</td><td>0.623853</td><td>1.0</td><td>0</td><td>0</td><td>0</td><td>69186.0</td><td>18905.2881</td><td>0.285837</td><td>-2570.0</td></tr><tr><td>3</td><td>0.0</td><td>0.0</td><td>1.0</td><td>0.0</td><td>0.0</td><td>1.0</td><td>1.0</td><td>1</td><td>&quot;98ce0dabf6964640b63079fbafd42c…</td><td>2024-05-17 03:03:08</td><td>&quot;TLKKJA/KJATLK&quot;</td><td>2240.0</td><td>81880.0</td><td>1</td><td>2</td><td>2</td><td>4</td><td>&quot;TLK&quot;</td><td>&quot;KJA&quot;</td><td>0</td><td>0</td><td>0</td><td>42141</td><td>445.0</td><td>505.0</td><td>250</td><td>245</td><td>9</td><td>14</td><td>22</td><td>8</td><td>0</td><td>0</td><td>1</td><td>&quot;S7&quot;</td><td>&quot;S7&quot;</td><td>1</td><td>&quot;E70&quot;</td><td>1.0</td><td>1.0</td><td>4.0</td><td>26.0</td><td>1.0</td><td>0.0</td><td>950.0</td><td>25</td><td>3.258097</td><td>14</td><td>54.166667</td><td>0.832563</td><td>25</td><td>4.849562</td><td>0.951319</td><td>1.524909</td><td>0</td><td>0</td><td>0</td><td>69186.0</td><td>18905.2881</td><td>0.285837</td><td>-30755.0</td></tr><tr><td>4</td><td>0.0</td><td>0.0</td><td>1.0</td><td>0.0</td><td>0.0</td><td>1.0</td><td>1.0</td><td>1</td><td>&quot;98ce0dabf6964640b63079fbafd42c…</td><td>2024-05-17 03:03:08</td><td>&quot;TLKKJA/KJATLK&quot;</td><td>2240.0</td><td>86070.0</td><td>1</td><td>2</td><td>2</td><td>4</td><td>&quot;TLK&quot;</td><td>&quot;KJA&quot;</td><td>0</td><td>0</td><td>0</td><td>42141</td><td>445.0</td><td>505.0</td><td>250</td><td>245</td><td>9</td><td>14</td><td>22</td><td>8</td><td>0</td><td>0</td><td>1</td><td>&quot;S7&quot;</td><td>&quot;S7&quot;</td><td>1</td><td>&quot;E70&quot;</td><td>1.0</td><td>1.0</td><td>4.0</td><td>26.0</td><td>1.0</td><td>0.0</td><td>950.0</td><td>25</td><td>3.258097</td><td>20</td><td>79.166667</td><td>1.054194</td><td>25</td><td>5.097726</td><td>1.0</td><td>1.602943</td><td>0</td><td>1</td><td>0</td><td>69186.0</td><td>18905.2881</td><td>0.285837</td><td>-34945.0</td></tr><tr><td>&hellip;</td><td>&hellip;</td><td>&hellip;</td><td>&hellip;</td><td>&hellip;</td><td>&hellip;</td><td>&hellip;</td><td>&hellip;</td><td>&hellip;</td><td>&hellip;</td><td>&hellip;</td><td>&hellip;</td><td>&hellip;</td><td>&hellip;</td><td>&hellip;</td><td>&hellip;</td><td>&hellip;</td><td>&hellip;</td><td>&hellip;</td><td>&hellip;</td><td>&hellip;</td><td>&hellip;</td><td>&hellip;</td><td>&hellip;</td><td>&hellip;</td><td>&hellip;</td><td>&hellip;</td><td>&hellip;</td><td>&hellip;</td><td>&hellip;</td><td>&hellip;</td><td>&hellip;</td><td>&hellip;</td><td>&hellip;</td><td>&hellip;</td><td>&hellip;</td><td>&hellip;</td><td>&hellip;</td><td>&hellip;</td><td>&hellip;</td><td>&hellip;</td><td>&hellip;</td><td>&hellip;</td><td>&hellip;</td><td>&hellip;</td><td>&hellip;</td><td>&hellip;</td><td>&hellip;</td><td>&hellip;</td><td>&hellip;</td><td>&hellip;</td><td>&hellip;</td><td>&hellip;</td><td>&hellip;</td><td>&hellip;</td><td>&hellip;</td><td>&hellip;</td><td>&hellip;</td><td>&hellip;</td><td>&hellip;</td><td>&hellip;</td><td>&hellip;</td></tr><tr><td>95</td><td>2300.0</td><td>0.0</td><td>1.0</td><td>3500.0</td><td>0.0</td><td>1.0</td><td>0.0</td><td>1</td><td>&quot;e04b757602824a4dbe227f1e67dbdb…</td><td>2024-05-17 03:40:53</td><td>&quot;KHVUUS&quot;</td><td>1235.0</td><td>89570.0</td><td>0</td><td>2</td><td>0</td><td>2</td><td>&quot;KHV&quot;</td><td>&quot;UUS&quot;</td><td>0</td><td>0</td><td>0</td><td>4584</td><td>1410.0</td><td>0.0</td><td>645</td><td>0</td><td>8</td><td>8</td><td>0</td><td>0</td><td>1</td><td>1</td><td>1</td><td>&quot;S7&quot;</td><td>&quot;S7&quot;</td><td>1</td><td>&quot;321&quot;</td><td>2.0</td><td>1.5</td><td>3.0</td><td>12.0</td><td>1.0</td><td>0.0</td><td>1410.0</td><td>291</td><td>5.676754</td><td>26</td><td>75.757576</td><td>0.75143</td><td>34</td><td>12.361303</td><td>0.536765</td><td>2.543482</td><td>0</td><td>0</td><td>0</td><td>159624.0</td><td>46232.122167</td><td>0.843193</td><td>3305.0</td></tr><tr><td>96</td><td>4000.0</td><td>0.0</td><td>1.0</td><td>0.0</td><td>0.0</td><td>0.0</td><td>0.0</td><td>1</td><td>&quot;e04b757602824a4dbe227f1e67dbdb…</td><td>2024-05-17 03:40:53</td><td>&quot;KHVUUS&quot;</td><td>1235.0</td><td>92875.0</td><td>0</td><td>2</td><td>0</td><td>2</td><td>&quot;KHV&quot;</td><td>&quot;UUS&quot;</td><td>0</td><td>0</td><td>0</td><td>4584</td><td>1410.0</td><td>0.0</td><td>645</td><td>0</td><td>8</td><td>8</td><td>0</td><td>0</td><td>1</td><td>0</td><td>1</td><td>&quot;S7&quot;</td><td>&quot;S7&quot;</td><td>1</td><td>&quot;321&quot;</td><td>2.0</td><td>2.0</td><td>3.0</td><td>6.0</td><td>1.0</td><td>0.0</td><td>1410.0</td><td>291</td><td>5.676754</td><td>27</td><td>78.787879</td><td>0.822917</td><td>34</td><td>12.817417</td><td>0.556571</td><td>2.637333</td><td>0</td><td>0</td><td>0</td><td>159624.0</td><td>46232.122167</td><td>0.843193</td><td>3815.0</td></tr><tr><td>97</td><td>4000.0</td><td>0.0</td><td>1.0</td><td>0.0</td><td>0.0</td><td>0.0</td><td>0.0</td><td>1</td><td>&quot;e04b757602824a4dbe227f1e67dbdb…</td><td>2024-05-17 03:40:53</td><td>&quot;KHVUUS&quot;</td><td>1235.0</td><td>96690.0</td><td>0</td><td>2</td><td>0</td><td>2</td><td>&quot;KHV&quot;</td><td>&quot;UUS&quot;</td><td>0</td><td>0</td><td>0</td><td>4584</td><td>1410.0</td><td>0.0</td><td>645</td><td>0</td><td>8</td><td>8</td><td>0</td><td>0</td><td>1</td><td>0</td><td>1</td><td>&quot;S7&quot;</td><td>&quot;S7&quot;</td><td>1</td><td>&quot;321&quot;</td><td>2.0</td><td>2.0</td><td>3.0</td><td>6.0</td><td>1.0</td><td>0.0</td><td>1410.0</td><td>291</td><td>5.676754</td><td>28</td><td>81.818182</td><td>0.905436</td><td>34</td><td>13.343914</td><td>0.579433</td><td>2.745666</td><td>0</td><td>0</td><td>0</td><td>159624.0</td><td>46232.122167</td><td>0.843193</td><td>21460.0</td></tr><tr><td>98</td><td>2300.0</td><td>0.0</td><td>1.0</td><td>3500.0</td><td>0.0</td><td>1.0</td><td>0.0</td><td>1</td><td>&quot;e04b757602824a4dbe227f1e67dbdb…</td><td>2024-05-17 03:40:53</td><td>&quot;KHVUUS&quot;</td><td>1235.0</td><td>118150.0</td><td>0</td><td>2</td><td>0</td><td>2</td><td>&quot;KHV&quot;</td><td>&quot;UUS&quot;</td><td>0</td><td>0</td><td>0</td><td>4584</td><td>1410.0</td><td>0.0</td><td>645</td><td>0</td><td>8</td><td>8</td><td>0</td><td>0</td><td>1</td><td>1</td><td>1</td><td>&quot;S7&quot;</td><td>&quot;S7&quot;</td><td>1</td><td>&quot;321&quot;</td><td>2.0</td><td>2.0</td><td>3.0</td><td>6.0</td><td>1.0</td><td>0.0</td><td>1410.0</td><td>291</td><td>5.676754</td><td>29</td><td>84.848485</td><td>1.369615</td><td>34</td><td>16.305548</td><td>0.708036</td><td>3.355057</td><td>0</td><td>0</td><td>0</td><td>159624.0</td><td>46232.122167</td><td>0.843193</td><td>2060.0</td></tr><tr><td>99</td><td>0.0</td><td>0.0</td><td>1.0</td><td>0.0</td><td>0.0</td><td>1.0</td><td>0.0</td><td>1</td><td>&quot;e04b757602824a4dbe227f1e67dbdb…</td><td>2024-05-17 03:40:53</td><td>&quot;KHVUUS&quot;</td><td>1235.0</td><td>120210.0</td><td>0</td><td>2</td><td>0</td><td>2</td><td>&quot;KHV&quot;</td><td>&quot;UUS&quot;</td><td>0</td><td>0</td><td>0</td><td>4584</td><td>1410.0</td><td>0.0</td><td>645</td><td>0</td><td>8</td><td>8</td><td>0</td><td>0</td><td>0</td><td>0</td><td>1</td><td>&quot;S7&quot;</td><td>&quot;S7&quot;</td><td>1</td><td>&quot;321&quot;</td><td>2.0</td><td>2.0</td><td>3.0</td><td>3.0</td><td>2.0</td><td>0.0</td><td>1410.0</td><td>291</td><td>5.676754</td><td>30</td><td>87.878788</td><td>1.414173</td><td>34</td><td>16.589843</td><td>0.720381</td><td>3.413554</td><td>0</td><td>0</td><td>0</td><td>159624.0</td><td>46232.122167</td><td>0.843193</td><td>2810.0</td></tr></tbody></table></div>"
      ]
     },
     "execution_count": 11,
     "metadata": {},
     "output_type": "execute_result"
    }
   ],
   "execution_count": 11
  },
  {
   "metadata": {
    "ExecuteTime": {
     "end_time": "2025-08-12T23:59:56.089579Z",
     "start_time": "2025-08-12T23:59:56.083605Z"
    }
   },
   "cell_type": "code",
   "source": [
    "def prepare_features_for_clustering(df):\n",
    "    # Features to drop\n",
    "    drop_cols = ['id', 'ranker_id', 'request_date', 'search_route']\n",
    "\n",
    "    # Identify categorical features (non-numeric columns)\n",
    "    categorical_features = [col for col, dtype in df.schema.items() if not dtype.is_numeric()]\n",
    "\n",
    "    # Using lazy computations to avoid memory issues\n",
    "    lazy_df = df.lazy()\n",
    "\n",
    "    # Encode categorical features\n",
    "    encoding_expressions = []\n",
    "    encoders = {}  # Mapping of feature name to encoding dictionary so we can evaluate cluster assignments\n",
    "\n",
    "    for feature in categorical_features:\n",
    "        # Get unique values for the feature\n",
    "        unique_values = df[feature].fill_null('MISSING').unique().sort().to_list()\n",
    "\n",
    "        # Create mapping dictionary\n",
    "        encoders[feature] = {val: idx for idx, val in enumerate(unique_values)}\n",
    "\n",
    "        # Convert to categorical then to physical (integer codes)\n",
    "        encoding_expr = (\n",
    "            pl.col(feature)\n",
    "            .fill_null('MISSING')\n",
    "            .cast(pl.Categorical)\n",
    "            .to_physical()\n",
    "            .alias(f'{feature}_encoded')\n",
    "        )\n",
    "        encoding_expressions.append(encoding_expr)\n",
    "\n",
    "    # Apply encodings and exclude original categorical features\n",
    "    result_df = lazy_df.with_columns(encoding_expressions).select(pl.exclude(categorical_features + drop_cols)).fill_null(0).collect()\n",
    "\n",
    "    return result_df, encoders"
   ],
   "id": "1aa2b3186cf0a8f2",
   "outputs": [],
   "execution_count": 12
  },
  {
   "metadata": {
    "ExecuteTime": {
     "end_time": "2025-08-13T00:01:56.219180Z",
     "start_time": "2025-08-13T00:01:30.736517Z"
    }
   },
   "cell_type": "code",
   "source": [
    "# Encode categorical features\n",
    "clustering_df, encoders = prepare_features_for_clustering(data)\n",
    "\n",
    "# Convert to Pandas DataFrame for StandardScaler\n",
    "clustering_pd_df = clustering_df.to_pandas().fillna(0)"
   ],
   "id": "6819795c9c74a383",
   "outputs": [],
   "execution_count": 13
  },
  {
   "metadata": {
    "ExecuteTime": {
     "end_time": "2025-08-13T00:02:31.390050Z",
     "start_time": "2025-08-13T00:02:05.909677Z"
    }
   },
   "cell_type": "code",
   "source": [
    "# Scale the features for use with KMeans\n",
    "scaler = StandardScaler()\n",
    "features_scaled = scaler.fit_transform(clustering_pd_df)\n",
    "\n",
    "del clustering_pd_df\n",
    "gc.collect()"
   ],
   "id": "b9ba19ec833317b2",
   "outputs": [
    {
     "data": {
      "text/plain": [
       "64"
      ]
     },
     "execution_count": 14,
     "metadata": {},
     "output_type": "execute_result"
    }
   ],
   "execution_count": 14
  },
  {
   "metadata": {
    "ExecuteTime": {
     "end_time": "2025-08-13T00:03:17.792663Z",
     "start_time": "2025-08-13T00:03:10.024809Z"
    }
   },
   "cell_type": "code",
   "source": [
    "# Use MiniBatchKMeans to cluster the data (more efficient for very large datasets)\n",
    "kmeans = MiniBatchKMeans(n_clusters=30, batch_size=50000, random_state=42)\n",
    "clusters = kmeans.fit_predict(features_scaled)"
   ],
   "id": "df917d1b118ab832",
   "outputs": [],
   "execution_count": 15
  },
  {
   "metadata": {
    "ExecuteTime": {
     "end_time": "2025-08-13T00:17:51.644609Z",
     "start_time": "2025-08-13T00:17:51.634287Z"
    }
   },
   "cell_type": "code",
   "source": [
    "def interpret_clusters(original_df, clusters, n_clusters_to_show=10):\n",
    "    # Add clusters to Polars dataframe\n",
    "    df_with_clusters = original_df.with_columns([\n",
    "        pl.Series(\"cluster\", clusters)\n",
    "    ])\n",
    "\n",
    "    print(f\"=== Cluster Analysis ===\")\n",
    "    print(f\"Total clusters: {len(np.unique(clusters))}\")\n",
    "    print(f\"Dataset size: {len(df_with_clusters):,} rows\")\n",
    "\n",
    "    for cluster_id in range(min(n_clusters_to_show, len(np.unique(clusters)))):\n",
    "        # Filter to cluster using Polars\n",
    "        cluster_data = df_with_clusters.filter(pl.col(\"cluster\") == cluster_id)\n",
    "        cluster_size = len(cluster_data)\n",
    "\n",
    "        print(f\"\\n{'='*50}\")\n",
    "        print(f\"CLUSTER {cluster_id} ({cluster_size:,} flights, {cluster_size/len(df_with_clusters)*100:.1f}%)\")\n",
    "        print(f\"{'='*50}\")\n",
    "\n",
    "        # Show top categorical features using Polars operations\n",
    "        if 'search_route' in cluster_data.columns:\n",
    "            print(f\"\\nTop Routes:\")\n",
    "            top_routes = cluster_data.group_by('search_route').agg(pl.len().alias('count')).sort('count', descending=True).head()\n",
    "            for row in top_routes.iter_rows(named=True):\n",
    "                route, count = row['search_route'], row['count']\n",
    "                pct = count/cluster_size*100\n",
    "                print(f\"  {route}: {count:,} ({pct:.1f}%)\")\n",
    "\n",
    "        if 'primary_carrier' in cluster_data.columns:\n",
    "            print(f\"\\nTop Carriers:\")\n",
    "            top_carriers = cluster_data.group_by('primary_carrier').agg(pl.len().alias('count')).sort('count', descending=True).head()\n",
    "            for row in top_carriers.iter_rows(named=True):\n",
    "                carrier, count = row['primary_carrier'], row['count']\n",
    "                pct = count/cluster_size*100\n",
    "                print(f\"  {carrier}: {count:,} ({pct:.1f}%)\")\n",
    "\n",
    "        # Numerical statistics using Polars\n",
    "        print(f\"\\nFlight Characteristics:\")\n",
    "        stats = cluster_data.select([\n",
    "            pl.col('total_price').mean().alias('avg_price'),\n",
    "            pl.col('total_price').median().alias('med_price'),\n",
    "            pl.col('total_duration').mean().alias('avg_duration'),\n",
    "            pl.col('total_segments').mean().alias('avg_segments'),\n",
    "            pl.col('is_roundtrip').mean().alias('roundtrip_pct')\n",
    "        ]).to_pandas().iloc[0]\n",
    "\n",
    "        print(f\"  Avg Price: ${stats['avg_price']:,.0f} (${stats['med_price']:,.0f} median)\")\n",
    "        print(f\"  Avg Duration: {stats['avg_duration']:.0f} min ({stats['avg_duration']/60:.1f} hrs)\")\n",
    "        print(f\"  Avg Segments: {stats['avg_segments']:.1f}\")\n",
    "        print(f\"  Roundtrip: {stats['roundtrip_pct']*100:.1f}%\")\n"
   ],
   "id": "a4ca6f5de27f091d",
   "outputs": [],
   "execution_count": 22
  },
  {
   "metadata": {
    "ExecuteTime": {
     "end_time": "2025-08-13T00:17:58.295714Z",
     "start_time": "2025-08-13T00:17:56.317761Z"
    }
   },
   "cell_type": "code",
   "source": "interpret_clusters(data, clusters, n_clusters_to_show=10)\n",
   "id": "961a5426bf92c944",
   "outputs": [
    {
     "name": "stdout",
     "output_type": "stream",
     "text": [
      "=== Cluster Analysis ===\n",
      "Total clusters: 30\n",
      "Dataset size: 18,145,372 rows\n",
      "\n",
      "==================================================\n",
      "CLUSTER 0 (1,231,022 flights, 6.8%)\n",
      "==================================================\n",
      "\n",
      "Top Routes:\n",
      "  MOWAER/AERMOW: 219,045 (17.8%)\n",
      "  LEDMOW/MOWLED: 123,356 (10.0%)\n",
      "  MOWSVX/SVXMOW: 101,697 (8.3%)\n",
      "  AERMOW/MOWAER: 93,442 (7.6%)\n",
      "  MOWLED/LEDMOW: 82,685 (6.7%)\n",
      "\n",
      "Top Carriers:\n",
      "  SU: 986,866 (80.2%)\n",
      "  U6: 136,022 (11.0%)\n",
      "  S7: 98,700 (8.0%)\n",
      "  DP: 2,605 (0.2%)\n",
      "  UT: 2,482 (0.2%)\n",
      "\n",
      "Flight Characteristics:\n",
      "  Avg Price: $36,733 ($31,940 median)\n",
      "  Avg Duration: 324 min (5.4 hrs)\n",
      "  Avg Segments: 2.0\n",
      "  Roundtrip: 100.0%\n",
      "\n",
      "==================================================\n",
      "CLUSTER 1 (286,178 flights, 1.6%)\n",
      "==================================================\n",
      "\n",
      "Top Routes:\n",
      "  MOWSHA/SHAMOW: 36,286 (12.7%)\n",
      "  MOWPAR/PARMOW: 28,380 (9.9%)\n",
      "  MOWCAN/CANMOW: 18,593 (6.5%)\n",
      "  MOWVCE/VCEMOW: 16,761 (5.9%)\n",
      "  MOWTAS/TASMOW: 13,518 (4.7%)\n",
      "\n",
      "Top Carriers:\n",
      "  TK: 121,554 (42.5%)\n",
      "  EK: 64,737 (22.6%)\n",
      "  QR: 20,626 (7.2%)\n",
      "  MU: 20,568 (7.2%)\n",
      "  CA: 16,752 (5.9%)\n",
      "\n",
      "Flight Characteristics:\n",
      "  Avg Price: $159,229 ($130,940 median)\n",
      "  Avg Duration: 2514 min (41.9 hrs)\n",
      "  Avg Segments: 4.1\n",
      "  Roundtrip: 96.3%\n",
      "\n",
      "==================================================\n",
      "CLUSTER 2 (409,404 flights, 2.3%)\n",
      "==================================================\n",
      "\n",
      "Top Routes:\n",
      "  MOWLED: 57,126 (14.0%)\n",
      "  LEDMOW: 55,943 (13.7%)\n",
      "  AERMOW: 34,488 (8.4%)\n",
      "  MOWAER: 33,482 (8.2%)\n",
      "  SVXMOW: 12,689 (3.1%)\n",
      "\n",
      "Top Carriers:\n",
      "  DP: 149,891 (36.6%)\n",
      "  5N: 43,776 (10.7%)\n",
      "  U6: 43,042 (10.5%)\n",
      "  SU: 35,727 (8.7%)\n",
      "  N4: 34,967 (8.5%)\n",
      "\n",
      "Flight Characteristics:\n",
      "  Avg Price: $13,342 ($11,020 median)\n",
      "  Avg Duration: 218 min (3.6 hrs)\n",
      "  Avg Segments: 1.1\n",
      "  Roundtrip: 0.0%\n",
      "\n",
      "==================================================\n",
      "CLUSTER 3 (415,787 flights, 2.3%)\n",
      "==================================================\n",
      "\n",
      "Top Routes:\n",
      "  MOWLED/LEDMOW: 94,215 (22.7%)\n",
      "  LEDMOW/MOWLED: 75,424 (18.1%)\n",
      "  MOWSVX/SVXMOW: 33,334 (8.0%)\n",
      "  SVXMOW/MOWSVX: 32,984 (7.9%)\n",
      "  MOWKZN/KZNMOW: 15,158 (3.6%)\n",
      "\n",
      "Top Carriers:\n",
      "  SU: 356,135 (85.7%)\n",
      "  U6: 30,086 (7.2%)\n",
      "  S7: 22,961 (5.5%)\n",
      "  A4: 2,060 (0.5%)\n",
      "  TK: 1,697 (0.4%)\n",
      "\n",
      "Flight Characteristics:\n",
      "  Avg Price: $102,540 ($97,268 median)\n",
      "  Avg Duration: 273 min (4.5 hrs)\n",
      "  Avg Segments: 2.0\n",
      "  Roundtrip: 95.1%\n",
      "\n",
      "==================================================\n",
      "CLUSTER 4 (2,079,969 flights, 11.5%)\n",
      "==================================================\n",
      "\n",
      "Top Routes:\n",
      "  MOWLED/LEDMOW: 1,442,885 (69.4%)\n",
      "  LEDMOW/MOWLED: 637,084 (30.6%)\n",
      "\n",
      "Top Carriers:\n",
      "  SU: 2,074,501 (99.7%)\n",
      "  S7: 2,198 (0.1%)\n",
      "  UT: 1,858 (0.1%)\n",
      "  DP: 1,108 (0.1%)\n",
      "  A4: 265 (0.0%)\n",
      "\n",
      "Flight Characteristics:\n",
      "  Avg Price: $11,077 ($10,369 median)\n",
      "  Avg Duration: 183 min (3.0 hrs)\n",
      "  Avg Segments: 2.0\n",
      "  Roundtrip: 100.0%\n",
      "\n",
      "==================================================\n",
      "CLUSTER 5 (434,469 flights, 2.4%)\n",
      "==================================================\n",
      "\n",
      "Top Routes:\n",
      "  MOWSHA/SHAMOW: 55,960 (12.9%)\n",
      "  VVOMOW/MOWVVO: 32,092 (7.4%)\n",
      "  BQSMOW/MOWBQS: 25,970 (6.0%)\n",
      "  KHVAER/AERKHV: 18,210 (4.2%)\n",
      "  MOWHGH/HGHMOW: 17,889 (4.1%)\n",
      "\n",
      "Top Carriers:\n",
      "  U6: 147,154 (33.9%)\n",
      "  S7: 86,043 (19.8%)\n",
      "  CA: 46,154 (10.6%)\n",
      "  CZ: 32,256 (7.4%)\n",
      "  SU: 31,335 (7.2%)\n",
      "\n",
      "Flight Characteristics:\n",
      "  Avg Price: $80,655 ($73,055 median)\n",
      "  Avg Duration: 2923 min (48.7 hrs)\n",
      "  Avg Segments: 4.2\n",
      "  Roundtrip: 100.0%\n",
      "\n",
      "==================================================\n",
      "CLUSTER 6 (1,006,456 flights, 5.5%)\n",
      "==================================================\n",
      "\n",
      "Top Routes:\n",
      "  LEDMOW/MOWLED: 195,175 (19.4%)\n",
      "  MOWLED/LEDMOW: 170,309 (16.9%)\n",
      "  MOWAER/AERMOW: 77,459 (7.7%)\n",
      "  MOWSVX/SVXMOW: 55,544 (5.5%)\n",
      "  SVXMOW/MOWSVX: 46,536 (4.6%)\n",
      "\n",
      "Top Carriers:\n",
      "  SU: 907,936 (90.2%)\n",
      "  S7: 62,228 (6.2%)\n",
      "  UT: 30,831 (3.1%)\n",
      "  HY: 2,327 (0.2%)\n",
      "  DV: 1,123 (0.1%)\n",
      "\n",
      "Flight Characteristics:\n",
      "  Avg Price: $18,745 ($15,624 median)\n",
      "  Avg Duration: 289 min (4.8 hrs)\n",
      "  Avg Segments: 2.0\n",
      "  Roundtrip: 100.0%\n",
      "\n",
      "==================================================\n",
      "CLUSTER 7 (354,601 flights, 2.0%)\n",
      "==================================================\n",
      "\n",
      "Top Routes:\n",
      "  SVXMOW/MOWSVX: 23,526 (6.6%)\n",
      "  MOWSVX/SVXMOW: 20,701 (5.8%)\n",
      "  KUFMOW/MOWKUF: 15,086 (4.3%)\n",
      "  OVBMOW/MOWOVB: 13,132 (3.7%)\n",
      "  MOWKGD/KGDMOW: 11,530 (3.3%)\n",
      "\n",
      "Top Carriers:\n",
      "  SU: 291,746 (82.3%)\n",
      "  S7: 33,269 (9.4%)\n",
      "  U6: 16,620 (4.7%)\n",
      "  B2: 5,148 (1.5%)\n",
      "  UT: 3,077 (0.9%)\n",
      "\n",
      "Flight Characteristics:\n",
      "  Avg Price: $93,200 ($80,451 median)\n",
      "  Avg Duration: 434 min (7.2 hrs)\n",
      "  Avg Segments: 2.4\n",
      "  Roundtrip: 99.7%\n",
      "\n",
      "==================================================\n",
      "CLUSTER 8 (667,156 flights, 3.7%)\n",
      "==================================================\n",
      "\n",
      "Top Routes:\n",
      "  MOWLED: 215,313 (32.3%)\n",
      "  LEDMOW: 208,267 (31.2%)\n",
      "  AERMOW: 31,702 (4.8%)\n",
      "  MOWAER: 29,332 (4.4%)\n",
      "  SVXMOW: 15,616 (2.3%)\n",
      "\n",
      "Top Carriers:\n",
      "  SU: 541,137 (81.1%)\n",
      "  U6: 57,640 (8.6%)\n",
      "  S7: 35,284 (5.3%)\n",
      "  UT: 22,323 (3.3%)\n",
      "  A4: 3,164 (0.5%)\n",
      "\n",
      "Flight Characteristics:\n",
      "  Avg Price: $12,870 ($9,642 median)\n",
      "  Avg Duration: 127 min (2.1 hrs)\n",
      "  Avg Segments: 1.0\n",
      "  Roundtrip: 0.0%\n",
      "\n",
      "==================================================\n",
      "CLUSTER 9 (64,440 flights, 0.4%)\n",
      "==================================================\n",
      "\n",
      "Top Routes:\n",
      "  ISTMOW: 24,562 (38.1%)\n",
      "  DXBMOW: 5,392 (8.4%)\n",
      "  ISTMOW/MOWIST: 5,137 (8.0%)\n",
      "  BKKDAD/DADBKK: 1,364 (2.1%)\n",
      "  ISTSPU/SPUIST: 1,296 (2.0%)\n",
      "\n",
      "Top Carriers:\n",
      "  TK: 15,632 (24.3%)\n",
      "  SU: 7,781 (12.1%)\n",
      "  EK: 4,358 (6.8%)\n",
      "  J2: 3,954 (6.1%)\n",
      "  QR: 3,773 (5.9%)\n",
      "\n",
      "Flight Characteristics:\n",
      "  Avg Price: $110,350 ($63,090 median)\n",
      "  Avg Duration: 977 min (16.3 hrs)\n",
      "  Avg Segments: 2.3\n",
      "  Roundtrip: 33.6%\n"
     ]
    }
   ],
   "execution_count": 23
  },
  {
   "metadata": {},
   "cell_type": "code",
   "outputs": [],
   "execution_count": null,
   "source": [
    "class FlightSelectionPredictor:\n",
    "    def __init__(self, n_flight_clusters=20, n_customer_clusters=10):\n",
    "        self.n_flight_clusters = n_flight_clusters\n",
    "        self.n_customer_clusters = n_customer_clusters\n",
    "\n",
    "        # Clustering models\n",
    "        self.flight_clusterer = KMeans(n_clusters=n_flight_clusters, random_state=42)\n",
    "        self.customer_clusterer = KMeans(n_clusters=n_customer_clusters, random_state=42)\n",
    "\n",
    "        # Scalers\n",
    "        self.flight_scaler = StandardScaler()\n",
    "        self.customer_scaler = StandardScaler()\n",
    "\n",
    "        # Prediction model\n",
    "        self.predictor = GradientBoostingClassifier(n_estimators=200, random_state=42)\n",
    "\n",
    "        # Label encoders for categorical variables\n",
    "        self.label_encoders = {}\n",
    "\n",
    "    def extract_flight_features(self, df):\n",
    "        \"\"\"Extract and engineer flight-specific features\"\"\"\n",
    "        features = pd.DataFrame(index=df.index)\n",
    "\n",
    "        # Basic flight info\n",
    "        features['total_price'] = df['totalPrice']\n",
    "        features['taxes'] = df['taxes']\n",
    "        features['passenger_count'] = df['pricingInfo_passengerCount']\n",
    "\n",
    "        # Duration features (convert to minutes)\n",
    "        features['leg0_duration_min'] = pd.to_timedelta(df['legs0_duration']).dt.total_seconds() / 60\n",
    "        features['leg1_duration_min'] = pd.to_timedelta(df['legs1_duration']).dt.total_seconds() / 60\n",
    "        features['total_duration'] = features['leg0_duration_min'] + features['leg1_duration_min']\n",
    "\n",
    "        # Time features\n",
    "        features['leg0_departure_hour'] = pd.to_datetime(df['legs0_departureAt']).dt.hour\n",
    "        features['leg0_arrival_hour'] = pd.to_datetime(df['legs0_arrivalAt']).dt.hour\n",
    "        features['leg1_departure_hour'] = pd.to_datetime(df['legs1_departureAt']).dt.hour\n",
    "        features['leg1_arrival_hour'] = pd.to_datetime(df['legs1_arrivalAt']).dt.hour\n",
    "\n",
    "        # Number of segments (connections)\n",
    "        features['leg0_segments'] = (~df['legs0_segments1_aircraft_code'].isna()).astype(int) + 1\n",
    "        features['leg1_segments'] = (~df['legs1_segments1_aircraft_code'].isna()).astype(int) + 1\n",
    "        features['total_segments'] = features['leg0_segments'] + features['leg1_segments']\n",
    "\n",
    "        # Carrier diversity (different airlines)\n",
    "        carriers = []\n",
    "        for i in range(4):  # up to 4 segments per leg\n",
    "            for leg in ['legs0', 'legs1']:\n",
    "                carrier_col = f'{leg}_segments{i}_marketingCarrier_code'\n",
    "                if carrier_col in df.columns:\n",
    "                    carriers.append(df[carrier_col])\n",
    "\n",
    "        if carriers:\n",
    "            carrier_df = pd.concat(carriers, axis=1)\n",
    "            features['unique_carriers'] = carrier_df.nunique(axis=1)\n",
    "        else:\n",
    "            features['unique_carriers'] = 1\n",
    "\n",
    "        # Seat availability (proxy for popularity/scarcity)\n",
    "        seat_cols = [col for col in df.columns if 'seatsAvailable' in col]\n",
    "        if seat_cols:\n",
    "            features['min_seats_available'] = df[seat_cols].min(axis=1)\n",
    "            features['total_seats_available'] = df[seat_cols].sum(axis=1)\n",
    "\n",
    "        # Baggage allowance\n",
    "        baggage_cols = [col for col in df.columns if 'baggageAllowance_quantity' in col]\n",
    "        if baggage_cols:\n",
    "            features['total_baggage'] = df[baggage_cols].sum(axis=1)\n",
    "\n",
    "        # Cabin class (assuming 1=economy, higher=premium)\n",
    "        cabin_cols = [col for col in df.columns if 'cabinClass' in col]\n",
    "        if cabin_cols:\n",
    "            features['max_cabin_class'] = df[cabin_cols].max(axis=1)\n",
    "            features['avg_cabin_class'] = df[cabin_cols].mean(axis=1)\n",
    "\n",
    "        # Pricing rules complexity\n",
    "        features['has_cancellation_fee'] = (df['miniRules0_monetaryAmount'] > 0).astype(int)\n",
    "        features['has_change_fee'] = (df['miniRules1_monetaryAmount'] > 0).astype(int)\n",
    "\n",
    "        # Fill missing values\n",
    "        features = features.fillna(0)\n",
    "\n",
    "        return features\n",
    "\n",
    "    def extract_customer_features(self, df):\n",
    "        \"\"\"Extract customer-specific features\"\"\"\n",
    "        features = pd.DataFrame(index=df.index)\n",
    "\n",
    "        # Basic customer info\n",
    "        features['by_self'] = df['bySelf'].astype(int)\n",
    "        features['frequent_flyer'] = (~df['frequentFlyer'].isna()).astype(int)\n",
    "        features['nationality'] = df['nationality']\n",
    "        features['is_access_3d'] = df['isAccess3D'].astype(int)\n",
    "        features['is_vip'] = df['isVip'].astype(int)\n",
    "        features['sex'] = df['sex'].astype(int)\n",
    "        features['company_id'] = df['companyID'].fillna(-1)\n",
    "        features['has_corporate_tariff'] = (~df['corporateTariffCode'].isna()).astype(int)\n",
    "\n",
    "        # Request timing\n",
    "        features['request_date'] = pd.to_datetime(df['requestDate'])\n",
    "        features['request_hour'] = features['request_date'].dt.hour\n",
    "        features['request_day_of_week'] = features['request_date'].dt.dayofweek\n",
    "        features['days_in_advance'] = (pd.to_datetime(df['legs0_departureAt']) - features['request_date']).dt.days\n",
    "\n",
    "        # Route complexity\n",
    "        features['search_route'] = df['searchRoute']\n",
    "\n",
    "        return features.drop('request_date', axis=1)\n",
    "\n",
    "    def fit_flight_clusters(self, flight_features):\n",
    "        \"\"\"Cluster flights based on their characteristics\"\"\"\n",
    "        # Scale features\n",
    "        scaled_features = self.flight_scaler.fit_transform(flight_features)\n",
    "\n",
    "        # Fit clustering\n",
    "        flight_clusters = self.flight_clusterer.fit_predict(scaled_features)\n",
    "\n",
    "        return flight_clusters\n",
    "\n",
    "    def fit_customer_clusters(self, customer_features):\n",
    "        \"\"\"Cluster customers based on their characteristics\"\"\"\n",
    "        # Encode categorical variables\n",
    "        encoded_features = customer_features.copy()\n",
    "\n",
    "        categorical_cols = ['search_route']\n",
    "        for col in categorical_cols:\n",
    "            if col in encoded_features.columns:\n",
    "                if col not in self.label_encoders:\n",
    "                    self.label_encoders[col] = LabelEncoder()\n",
    "                encoded_features[col] = self.label_encoders[col].fit_transform(encoded_features[col].astype(str))\n",
    "\n",
    "        # Scale features\n",
    "        scaled_features = self.customer_scaler.fit_transform(encoded_features)\n",
    "\n",
    "        # Fit clustering\n",
    "        customer_clusters = self.customer_clusterer.fit_predict(scaled_features)\n",
    "\n",
    "        return customer_clusters\n",
    "\n",
    "    def create_customer_flight_preferences(self, df, customer_clusters, flight_clusters):\n",
    "        \"\"\"Create features representing customer preferences within flight clusters\"\"\"\n",
    "        preference_features = pd.DataFrame(index=df.index)\n",
    "\n",
    "        # Group by customer cluster and calculate flight cluster preferences\n",
    "        for customer_cluster in range(self.n_customer_clusters):\n",
    "            customer_mask = customer_clusters == customer_cluster\n",
    "            customer_data = df[customer_mask]\n",
    "\n",
    "            # Calculate selection rates for each flight cluster within this customer cluster\n",
    "            for flight_cluster in range(self.n_flight_clusters):\n",
    "                flight_mask = flight_clusters[customer_mask] == flight_cluster\n",
    "\n",
    "                if flight_mask.sum() > 0:\n",
    "                    # This would need actual selection data - for now, using price as proxy\n",
    "                    selection_rate = 1.0 / (1.0 + customer_data[flight_mask]['totalPrice'].mean() / 10000)\n",
    "                else:\n",
    "                    selection_rate = 0.0\n",
    "\n",
    "                preference_features[f'customer_cluster_{customer_cluster}_flight_cluster_{flight_cluster}_pref'] = \\\n",
    "                    ((customer_clusters == customer_cluster) & (flight_clusters == flight_cluster)).astype(float) * selection_rate\n",
    "\n",
    "        return preference_features\n",
    "\n",
    "    def fit(self, df, selections=None):\n",
    "        \"\"\"Fit the complete model\"\"\"\n",
    "        print(\"Extracting flight features...\")\n",
    "        flight_features = self.extract_flight_features(df)\n",
    "\n",
    "        print(\"Extracting customer features...\")\n",
    "        customer_features = self.extract_customer_features(df)\n",
    "\n",
    "        print(\"Clustering flights...\")\n",
    "        flight_clusters = self.fit_flight_clusters(flight_features)\n",
    "\n",
    "        print(\"Clustering customers...\")\n",
    "        customer_clusters = self.fit_customer_clusters(customer_features)\n",
    "\n",
    "        print(\"Creating preference features...\")\n",
    "        preference_features = self.create_customer_flight_preferences(df, customer_clusters, flight_clusters)\n",
    "\n",
    "        # Combine all features\n",
    "        all_features = pd.concat([\n",
    "            flight_features,\n",
    "            customer_features,\n",
    "            preference_features,\n",
    "            pd.Series(flight_clusters, name='flight_cluster', index=df.index),\n",
    "            pd.Series(customer_clusters, name='customer_cluster', index=df.index)\n",
    "        ], axis=1)\n",
    "\n",
    "        # If we have selection data, train the predictor\n",
    "        if selections is not None:\n",
    "            print(\"Training prediction model...\")\n",
    "            # For now, create synthetic selection data based on price (lower price = higher selection probability)\n",
    "            # In practice, you'd use your actual selection data\n",
    "            y = (df['totalPrice'] < df['totalPrice'].median()).astype(int)\n",
    "\n",
    "            X_train, X_test, y_train, y_test = train_test_split(\n",
    "                all_features, y, test_size=0.2, random_state=42, stratify=y\n",
    "            )\n",
    "\n",
    "            self.predictor.fit(X_train, y_train)\n",
    "\n",
    "            # Evaluate\n",
    "            train_score = self.predictor.score(X_train, y_train)\n",
    "            test_score = self.predictor.score(X_test, y_test)\n",
    "\n",
    "            print(f\"Training accuracy: {train_score:.3f}\")\n",
    "            print(f\"Test accuracy: {test_score:.3f}\")\n",
    "\n",
    "            # Feature importance\n",
    "            feature_importance = pd.DataFrame({\n",
    "                'feature': all_features.columns,\n",
    "                'importance': self.predictor.feature_importances_\n",
    "            }).sort_values('importance', ascending=False)\n",
    "\n",
    "            print(\"\\nTop 10 most important features:\")\n",
    "            print(feature_importance.head(10))\n",
    "\n",
    "        self.is_fitted = True\n",
    "        return self\n",
    "\n",
    "    def predict_probabilities(self, df):\n",
    "        \"\"\"Predict selection probabilities for flights\"\"\"\n",
    "        if not hasattr(self, 'is_fitted'):\n",
    "            raise ValueError(\"Model must be fitted before making predictions\")\n",
    "\n",
    "        # Extract features using the same process as training\n",
    "        flight_features = self.extract_flight_features(df)\n",
    "        customer_features = self.extract_customer_features(df)\n",
    "\n",
    "        # Apply clustering\n",
    "        scaled_flight_features = self.flight_scaler.transform(flight_features)\n",
    "        flight_clusters = self.flight_clusterer.predict(scaled_flight_features)\n",
    "\n",
    "        # Encode categorical variables in customer features\n",
    "        encoded_customer_features = customer_features.copy()\n",
    "        for col, encoder in self.label_encoders.items():\n",
    "            if col in encoded_customer_features.columns:\n",
    "                encoded_customer_features[col] = encoder.transform(encoded_customer_features[col].astype(str))\n",
    "\n",
    "        scaled_customer_features = self.customer_scaler.transform(encoded_customer_features)\n",
    "        customer_clusters = self.customer_clusterer.predict(scaled_customer_features)\n",
    "\n",
    "        # Create preference features\n",
    "        preference_features = self.create_customer_flight_preferences(df, customer_clusters, flight_clusters)\n",
    "\n",
    "        # Combine features\n",
    "        all_features = pd.concat([\n",
    "            flight_features,\n",
    "            customer_features,\n",
    "            preference_features,\n",
    "            pd.Series(flight_clusters, name='flight_cluster', index=df.index),\n",
    "            pd.Series(customer_clusters, name='customer_cluster', index=df.index)\n",
    "        ], axis=1)\n",
    "\n",
    "        # Predict probabilities\n",
    "        probabilities = self.predictor.predict_proba(all_features)[:, 1]\n",
    "\n",
    "        return probabilities\n",
    "\n",
    "# Example usage\n",
    "def example_usage():\n",
    "    \"\"\"Example of how to use the FlightSelectionPredictor\"\"\"\n",
    "\n",
    "    # Load your data\n",
    "    # df = pd.read_csv('your_flight_data.csv')\n",
    "\n",
    "    # Initialize and fit the model\n",
    "    predictor = FlightSelectionPredictor(n_flight_clusters=15, n_customer_clusters=8)\n",
    "\n",
    "    # Fit the model (you'd pass actual selection data here)\n",
    "    # predictor.fit(df, selections=your_selection_data)\n",
    "\n",
    "    # Make predictions for new flight options\n",
    "    # probabilities = predictor.predict_probabilities(new_flight_options)\n",
    "\n",
    "    print(\"Model setup complete. Use predictor.fit() with your data to train the model.\")\n",
    "\n",
    "if __name__ == \"__main__\":\n",
    "    example_usage()"
   ],
   "id": "ab4f2ab059065a18"
  }
 ],
 "metadata": {
  "kernelspec": {
   "display_name": "Python 3",
   "language": "python",
   "name": "python3"
  },
  "language_info": {
   "codemirror_mode": {
    "name": "ipython",
    "version": 2
   },
   "file_extension": ".py",
   "mimetype": "text/x-python",
   "name": "python",
   "nbconvert_exporter": "python",
   "pygments_lexer": "ipython2",
   "version": "2.7.6"
  }
 },
 "nbformat": 4,
 "nbformat_minor": 5
}
