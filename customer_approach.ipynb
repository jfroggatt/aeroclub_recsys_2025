{
 "cells": [
  {
   "metadata": {},
   "cell_type": "markdown",
   "source": "### Imports",
   "id": "fee1b6cd2daa8d0f"
  },
  {
   "cell_type": "code",
   "id": "initial_id",
   "metadata": {
    "collapsed": true,
    "ExecuteTime": {
     "end_time": "2025-09-01T20:14:19.995549Z",
     "start_time": "2025-09-01T20:14:14.400945Z"
    }
   },
   "source": [
    "import gc\n",
    "import re\n",
    "from typing import List, Dict, Tuple\n",
    "import uuid\n",
    "\n",
    "import numpy as np\n",
    "import polars as pl\n",
    "import polars.selectors as cs\n",
    "\n",
    "import lightgbm as lgb\n",
    "from scipy.stats import zscore\n",
    "from sklearn.cluster import AgglomerativeClustering, DBSCAN\n",
    "from sklearn.decomposition import PCA, TruncatedSVD\n",
    "from sklearn.ensemble import IsolationForest\n",
    "from sklearn.metrics import silhouette_score, calinski_harabasz_score, davies_bouldin_score\n",
    "from sklearn.mixture import GaussianMixture\n",
    "from sklearn.model_selection import train_test_split\n",
    "from sklearn.neighbors import NearestNeighbors\n",
    "from sklearn.preprocessing import StandardScaler, RobustScaler\n",
    "import umap"
   ],
   "outputs": [],
   "execution_count": 1
  },
  {
   "metadata": {},
   "cell_type": "markdown",
   "source": "### Get the Training Data Set",
   "id": "8d3738c2184ad5c8"
  },
  {
   "metadata": {
    "ExecuteTime": {
     "end_time": "2025-09-01T20:14:34.384527Z",
     "start_time": "2025-09-01T20:14:31.560674Z"
    }
   },
   "cell_type": "code",
   "source": [
    "# data = pl.concat([train, pl.read_parquet('/kaggle/input/aeroclub-recsys-2025/test.parquet')])\n",
    "data = pl.read_parquet('/kaggle/input/aeroclub-recsys-2025/train.parquet')"
   ],
   "id": "53fdb480e9d9cf87",
   "outputs": [],
   "execution_count": 2
  },
  {
   "metadata": {
    "ExecuteTime": {
     "end_time": "2025-09-01T20:14:37.600918Z",
     "start_time": "2025-09-01T20:14:37.576174Z"
    }
   },
   "cell_type": "code",
   "source": "data.head(1000)",
   "id": "e0b7a933478bbe02",
   "outputs": [
    {
     "data": {
      "text/plain": [
       "shape: (1_000, 127)\n",
       "┌─────┬────────┬───────────┬─────────────────┬───┬────────┬────────────┬──────────┬────────────────┐\n",
       "│ Id  ┆ bySelf ┆ companyID ┆ corporateTariff ┆ … ┆ taxes  ┆ totalPrice ┆ selected ┆ __index_level_ │\n",
       "│ --- ┆ ---    ┆ ---       ┆ Code            ┆   ┆ ---    ┆ ---        ┆ ---      ┆ 0__            │\n",
       "│ i64 ┆ bool   ┆ i64       ┆ ---             ┆   ┆ f64    ┆ f64        ┆ i64      ┆ ---            │\n",
       "│     ┆        ┆           ┆ i64             ┆   ┆        ┆            ┆          ┆ i64            │\n",
       "╞═════╪════════╪═══════════╪═════════════════╪═══╪════════╪════════════╪══════════╪════════════════╡\n",
       "│ 0   ┆ true   ┆ 57323     ┆ null            ┆ … ┆ 370.0  ┆ 16884.0    ┆ 1        ┆ 0              │\n",
       "│ 1   ┆ true   ┆ 57323     ┆ 123             ┆ … ┆ 2240.0 ┆ 51125.0    ┆ 0        ┆ 1              │\n",
       "│ 2   ┆ true   ┆ 57323     ┆ null            ┆ … ┆ 2240.0 ┆ 53695.0    ┆ 0        ┆ 2              │\n",
       "│ 3   ┆ true   ┆ 57323     ┆ 123             ┆ … ┆ 2240.0 ┆ 81880.0    ┆ 0        ┆ 3              │\n",
       "│ 4   ┆ true   ┆ 57323     ┆ null            ┆ … ┆ 2240.0 ┆ 86070.0    ┆ 0        ┆ 4              │\n",
       "│ …   ┆ …      ┆ …         ┆ …               ┆ … ┆ …      ┆ …          ┆ …        ┆ …              │\n",
       "│ 995 ┆ true   ┆ 42622     ┆ null            ┆ … ┆ 2612.0 ┆ 54837.0    ┆ 0        ┆ 995            │\n",
       "│ 996 ┆ true   ┆ 42622     ┆ 115             ┆ … ┆ 2612.0 ┆ 71662.0    ┆ 0        ┆ 996            │\n",
       "│ 997 ┆ true   ┆ 42622     ┆ null            ┆ … ┆ 2612.0 ┆ 76067.0    ┆ 0        ┆ 997            │\n",
       "│ 998 ┆ true   ┆ 42622     ┆ 115             ┆ … ┆ 2612.0 ┆ 116322.0   ┆ 0        ┆ 998            │\n",
       "│ 999 ┆ true   ┆ 42622     ┆ null            ┆ … ┆ 2612.0 ┆ 123577.0   ┆ 0        ┆ 999            │\n",
       "└─────┴────────┴───────────┴─────────────────┴───┴────────┴────────────┴──────────┴────────────────┘"
      ],
      "text/html": [
       "<div><style>\n",
       ".dataframe > thead > tr,\n",
       ".dataframe > tbody > tr {\n",
       "  text-align: right;\n",
       "  white-space: pre-wrap;\n",
       "}\n",
       "</style>\n",
       "<small>shape: (1_000, 127)</small><table border=\"1\" class=\"dataframe\"><thead><tr><th>Id</th><th>bySelf</th><th>companyID</th><th>corporateTariffCode</th><th>frequentFlyer</th><th>nationality</th><th>isAccess3D</th><th>isVip</th><th>legs0_arrivalAt</th><th>legs0_departureAt</th><th>legs0_duration</th><th>legs0_segments0_aircraft_code</th><th>legs0_segments0_arrivalTo_airport_city_iata</th><th>legs0_segments0_arrivalTo_airport_iata</th><th>legs0_segments0_baggageAllowance_quantity</th><th>legs0_segments0_baggageAllowance_weightMeasurementType</th><th>legs0_segments0_cabinClass</th><th>legs0_segments0_departureFrom_airport_iata</th><th>legs0_segments0_duration</th><th>legs0_segments0_flightNumber</th><th>legs0_segments0_marketingCarrier_code</th><th>legs0_segments0_operatingCarrier_code</th><th>legs0_segments0_seatsAvailable</th><th>legs0_segments1_aircraft_code</th><th>legs0_segments1_arrivalTo_airport_city_iata</th><th>legs0_segments1_arrivalTo_airport_iata</th><th>legs0_segments1_baggageAllowance_quantity</th><th>legs0_segments1_baggageAllowance_weightMeasurementType</th><th>legs0_segments1_cabinClass</th><th>legs0_segments1_departureFrom_airport_iata</th><th>legs0_segments1_duration</th><th>legs0_segments1_flightNumber</th><th>legs0_segments1_marketingCarrier_code</th><th>legs0_segments1_operatingCarrier_code</th><th>legs0_segments1_seatsAvailable</th><th>legs0_segments2_aircraft_code</th><th>legs0_segments2_arrivalTo_airport_city_iata</th><th>&hellip;</th><th>legs1_segments2_baggageAllowance_weightMeasurementType</th><th>legs1_segments2_cabinClass</th><th>legs1_segments2_departureFrom_airport_iata</th><th>legs1_segments2_duration</th><th>legs1_segments2_flightNumber</th><th>legs1_segments2_marketingCarrier_code</th><th>legs1_segments2_operatingCarrier_code</th><th>legs1_segments2_seatsAvailable</th><th>legs1_segments3_aircraft_code</th><th>legs1_segments3_arrivalTo_airport_city_iata</th><th>legs1_segments3_arrivalTo_airport_iata</th><th>legs1_segments3_baggageAllowance_quantity</th><th>legs1_segments3_baggageAllowance_weightMeasurementType</th><th>legs1_segments3_cabinClass</th><th>legs1_segments3_departureFrom_airport_iata</th><th>legs1_segments3_duration</th><th>legs1_segments3_flightNumber</th><th>legs1_segments3_marketingCarrier_code</th><th>legs1_segments3_operatingCarrier_code</th><th>legs1_segments3_seatsAvailable</th><th>miniRules0_monetaryAmount</th><th>miniRules0_percentage</th><th>miniRules0_statusInfos</th><th>miniRules1_monetaryAmount</th><th>miniRules1_percentage</th><th>miniRules1_statusInfos</th><th>pricingInfo_isAccessTP</th><th>pricingInfo_passengerCount</th><th>profileId</th><th>ranker_id</th><th>requestDate</th><th>searchRoute</th><th>sex</th><th>taxes</th><th>totalPrice</th><th>selected</th><th>__index_level_0__</th></tr><tr><td>i64</td><td>bool</td><td>i64</td><td>i64</td><td>str</td><td>i64</td><td>bool</td><td>bool</td><td>str</td><td>str</td><td>str</td><td>str</td><td>str</td><td>str</td><td>f64</td><td>f64</td><td>f64</td><td>str</td><td>str</td><td>str</td><td>str</td><td>str</td><td>f64</td><td>str</td><td>str</td><td>str</td><td>f64</td><td>f64</td><td>f64</td><td>str</td><td>str</td><td>str</td><td>str</td><td>str</td><td>f64</td><td>str</td><td>str</td><td>&hellip;</td><td>f64</td><td>f64</td><td>str</td><td>str</td><td>str</td><td>str</td><td>str</td><td>f64</td><td>str</td><td>str</td><td>str</td><td>f64</td><td>f64</td><td>f64</td><td>str</td><td>str</td><td>str</td><td>str</td><td>str</td><td>f64</td><td>f64</td><td>f64</td><td>f64</td><td>f64</td><td>f64</td><td>f64</td><td>f64</td><td>i64</td><td>i64</td><td>str</td><td>datetime[ns]</td><td>str</td><td>bool</td><td>f64</td><td>f64</td><td>i64</td><td>i64</td></tr></thead><tbody><tr><td>0</td><td>true</td><td>57323</td><td>null</td><td>&quot;S7/SU/UT&quot;</td><td>36</td><td>false</td><td>false</td><td>&quot;2024-06-15T16:20:00&quot;</td><td>&quot;2024-06-15T15:40:00&quot;</td><td>&quot;02:40:00&quot;</td><td>&quot;YK2&quot;</td><td>&quot;KJA&quot;</td><td>&quot;KJA&quot;</td><td>1.0</td><td>0.0</td><td>1.0</td><td>&quot;TLK&quot;</td><td>&quot;02:40:00&quot;</td><td>&quot;216&quot;</td><td>&quot;KV&quot;</td><td>&quot;KV&quot;</td><td>9.0</td><td>null</td><td>null</td><td>null</td><td>null</td><td>null</td><td>null</td><td>null</td><td>null</td><td>null</td><td>null</td><td>null</td><td>null</td><td>null</td><td>null</td><td>&hellip;</td><td>null</td><td>null</td><td>null</td><td>null</td><td>null</td><td>null</td><td>null</td><td>null</td><td>null</td><td>null</td><td>null</td><td>null</td><td>null</td><td>null</td><td>null</td><td>null</td><td>null</td><td>null</td><td>null</td><td>null</td><td>null</td><td>null</td><td>null</td><td>null</td><td>null</td><td>null</td><td>1.0</td><td>1</td><td>2087645</td><td>&quot;98ce0dabf6964640b63079fbafd42c…</td><td>2024-05-17 03:03:08</td><td>&quot;TLKKJA/KJATLK&quot;</td><td>true</td><td>370.0</td><td>16884.0</td><td>1</td><td>0</td></tr><tr><td>1</td><td>true</td><td>57323</td><td>123</td><td>&quot;S7/SU/UT&quot;</td><td>36</td><td>true</td><td>false</td><td>&quot;2024-06-15T14:50:00&quot;</td><td>&quot;2024-06-15T09:25:00&quot;</td><td>&quot;07:25:00&quot;</td><td>&quot;E70&quot;</td><td>&quot;OVB&quot;</td><td>&quot;OVB&quot;</td><td>1.0</td><td>0.0</td><td>1.0</td><td>&quot;TLK&quot;</td><td>&quot;02:50:00&quot;</td><td>&quot;5358&quot;</td><td>&quot;S7&quot;</td><td>&quot;S7&quot;</td><td>4.0</td><td>&quot;E70&quot;</td><td>&quot;KJA&quot;</td><td>&quot;KJA&quot;</td><td>1.0</td><td>0.0</td><td>1.0</td><td>&quot;OVB&quot;</td><td>&quot;01:20:00&quot;</td><td>&quot;5311&quot;</td><td>&quot;S7&quot;</td><td>&quot;S7&quot;</td><td>4.0</td><td>null</td><td>null</td><td>&hellip;</td><td>null</td><td>null</td><td>null</td><td>null</td><td>null</td><td>null</td><td>null</td><td>null</td><td>null</td><td>null</td><td>null</td><td>null</td><td>null</td><td>null</td><td>null</td><td>null</td><td>null</td><td>null</td><td>null</td><td>null</td><td>2300.0</td><td>null</td><td>1.0</td><td>3500.0</td><td>null</td><td>1.0</td><td>1.0</td><td>1</td><td>2087645</td><td>&quot;98ce0dabf6964640b63079fbafd42c…</td><td>2024-05-17 03:03:08</td><td>&quot;TLKKJA/KJATLK&quot;</td><td>true</td><td>2240.0</td><td>51125.0</td><td>0</td><td>1</td></tr><tr><td>2</td><td>true</td><td>57323</td><td>null</td><td>&quot;S7/SU/UT&quot;</td><td>36</td><td>false</td><td>false</td><td>&quot;2024-06-15T14:50:00&quot;</td><td>&quot;2024-06-15T09:25:00&quot;</td><td>&quot;07:25:00&quot;</td><td>&quot;E70&quot;</td><td>&quot;OVB&quot;</td><td>&quot;OVB&quot;</td><td>1.0</td><td>0.0</td><td>1.0</td><td>&quot;TLK&quot;</td><td>&quot;02:50:00&quot;</td><td>&quot;5358&quot;</td><td>&quot;S7&quot;</td><td>&quot;S7&quot;</td><td>4.0</td><td>&quot;E70&quot;</td><td>&quot;KJA&quot;</td><td>&quot;KJA&quot;</td><td>1.0</td><td>0.0</td><td>1.0</td><td>&quot;OVB&quot;</td><td>&quot;01:20:00&quot;</td><td>&quot;5311&quot;</td><td>&quot;S7&quot;</td><td>&quot;S7&quot;</td><td>4.0</td><td>null</td><td>null</td><td>&hellip;</td><td>null</td><td>null</td><td>null</td><td>null</td><td>null</td><td>null</td><td>null</td><td>null</td><td>null</td><td>null</td><td>null</td><td>null</td><td>null</td><td>null</td><td>null</td><td>null</td><td>null</td><td>null</td><td>null</td><td>null</td><td>2300.0</td><td>null</td><td>1.0</td><td>3500.0</td><td>null</td><td>1.0</td><td>1.0</td><td>1</td><td>2087645</td><td>&quot;98ce0dabf6964640b63079fbafd42c…</td><td>2024-05-17 03:03:08</td><td>&quot;TLKKJA/KJATLK&quot;</td><td>true</td><td>2240.0</td><td>53695.0</td><td>0</td><td>2</td></tr><tr><td>3</td><td>true</td><td>57323</td><td>123</td><td>&quot;S7/SU/UT&quot;</td><td>36</td><td>true</td><td>false</td><td>&quot;2024-06-15T14:50:00&quot;</td><td>&quot;2024-06-15T09:25:00&quot;</td><td>&quot;07:25:00&quot;</td><td>&quot;E70&quot;</td><td>&quot;OVB&quot;</td><td>&quot;OVB&quot;</td><td>1.0</td><td>0.0</td><td>1.0</td><td>&quot;TLK&quot;</td><td>&quot;02:50:00&quot;</td><td>&quot;5358&quot;</td><td>&quot;S7&quot;</td><td>&quot;S7&quot;</td><td>4.0</td><td>&quot;E70&quot;</td><td>&quot;KJA&quot;</td><td>&quot;KJA&quot;</td><td>1.0</td><td>0.0</td><td>1.0</td><td>&quot;OVB&quot;</td><td>&quot;01:20:00&quot;</td><td>&quot;5311&quot;</td><td>&quot;S7&quot;</td><td>&quot;S7&quot;</td><td>4.0</td><td>null</td><td>null</td><td>&hellip;</td><td>null</td><td>null</td><td>null</td><td>null</td><td>null</td><td>null</td><td>null</td><td>null</td><td>null</td><td>null</td><td>null</td><td>null</td><td>null</td><td>null</td><td>null</td><td>null</td><td>null</td><td>null</td><td>null</td><td>null</td><td>0.0</td><td>null</td><td>1.0</td><td>0.0</td><td>null</td><td>1.0</td><td>1.0</td><td>1</td><td>2087645</td><td>&quot;98ce0dabf6964640b63079fbafd42c…</td><td>2024-05-17 03:03:08</td><td>&quot;TLKKJA/KJATLK&quot;</td><td>true</td><td>2240.0</td><td>81880.0</td><td>0</td><td>3</td></tr><tr><td>4</td><td>true</td><td>57323</td><td>null</td><td>&quot;S7/SU/UT&quot;</td><td>36</td><td>false</td><td>false</td><td>&quot;2024-06-15T14:50:00&quot;</td><td>&quot;2024-06-15T09:25:00&quot;</td><td>&quot;07:25:00&quot;</td><td>&quot;E70&quot;</td><td>&quot;OVB&quot;</td><td>&quot;OVB&quot;</td><td>1.0</td><td>0.0</td><td>1.0</td><td>&quot;TLK&quot;</td><td>&quot;02:50:00&quot;</td><td>&quot;5358&quot;</td><td>&quot;S7&quot;</td><td>&quot;S7&quot;</td><td>4.0</td><td>&quot;E70&quot;</td><td>&quot;KJA&quot;</td><td>&quot;KJA&quot;</td><td>1.0</td><td>0.0</td><td>1.0</td><td>&quot;OVB&quot;</td><td>&quot;01:20:00&quot;</td><td>&quot;5311&quot;</td><td>&quot;S7&quot;</td><td>&quot;S7&quot;</td><td>4.0</td><td>null</td><td>null</td><td>&hellip;</td><td>null</td><td>null</td><td>null</td><td>null</td><td>null</td><td>null</td><td>null</td><td>null</td><td>null</td><td>null</td><td>null</td><td>null</td><td>null</td><td>null</td><td>null</td><td>null</td><td>null</td><td>null</td><td>null</td><td>null</td><td>0.0</td><td>null</td><td>1.0</td><td>0.0</td><td>null</td><td>1.0</td><td>1.0</td><td>1</td><td>2087645</td><td>&quot;98ce0dabf6964640b63079fbafd42c…</td><td>2024-05-17 03:03:08</td><td>&quot;TLKKJA/KJATLK&quot;</td><td>true</td><td>2240.0</td><td>86070.0</td><td>0</td><td>4</td></tr><tr><td>&hellip;</td><td>&hellip;</td><td>&hellip;</td><td>&hellip;</td><td>&hellip;</td><td>&hellip;</td><td>&hellip;</td><td>&hellip;</td><td>&hellip;</td><td>&hellip;</td><td>&hellip;</td><td>&hellip;</td><td>&hellip;</td><td>&hellip;</td><td>&hellip;</td><td>&hellip;</td><td>&hellip;</td><td>&hellip;</td><td>&hellip;</td><td>&hellip;</td><td>&hellip;</td><td>&hellip;</td><td>&hellip;</td><td>&hellip;</td><td>&hellip;</td><td>&hellip;</td><td>&hellip;</td><td>&hellip;</td><td>&hellip;</td><td>&hellip;</td><td>&hellip;</td><td>&hellip;</td><td>&hellip;</td><td>&hellip;</td><td>&hellip;</td><td>&hellip;</td><td>&hellip;</td><td>&hellip;</td><td>&hellip;</td><td>&hellip;</td><td>&hellip;</td><td>&hellip;</td><td>&hellip;</td><td>&hellip;</td><td>&hellip;</td><td>&hellip;</td><td>&hellip;</td><td>&hellip;</td><td>&hellip;</td><td>&hellip;</td><td>&hellip;</td><td>&hellip;</td><td>&hellip;</td><td>&hellip;</td><td>&hellip;</td><td>&hellip;</td><td>&hellip;</td><td>&hellip;</td><td>&hellip;</td><td>&hellip;</td><td>&hellip;</td><td>&hellip;</td><td>&hellip;</td><td>&hellip;</td><td>&hellip;</td><td>&hellip;</td><td>&hellip;</td><td>&hellip;</td><td>&hellip;</td><td>&hellip;</td><td>&hellip;</td><td>&hellip;</td><td>&hellip;</td><td>&hellip;</td><td>&hellip;</td></tr><tr><td>995</td><td>true</td><td>42622</td><td>null</td><td>null</td><td>36</td><td>false</td><td>false</td><td>&quot;2024-05-21T07:15:00&quot;</td><td>&quot;2024-05-20T17:45:00&quot;</td><td>&quot;11:30:00&quot;</td><td>&quot;32A&quot;</td><td>&quot;MOW&quot;</td><td>&quot;DME&quot;</td><td>0.0</td><td>0.0</td><td>1.0</td><td>&quot;OVB&quot;</td><td>&quot;04:20:00&quot;</td><td>&quot;2516&quot;</td><td>&quot;S7&quot;</td><td>&quot;S7&quot;</td><td>9.0</td><td>&quot;32N&quot;</td><td>&quot;HTA&quot;</td><td>&quot;HTA&quot;</td><td>0.0</td><td>0.0</td><td>1.0</td><td>&quot;DME&quot;</td><td>&quot;06:10:00&quot;</td><td>&quot;3045&quot;</td><td>&quot;S7&quot;</td><td>&quot;S7&quot;</td><td>1.0</td><td>null</td><td>null</td><td>&hellip;</td><td>null</td><td>null</td><td>null</td><td>null</td><td>null</td><td>null</td><td>null</td><td>null</td><td>null</td><td>null</td><td>null</td><td>null</td><td>null</td><td>null</td><td>null</td><td>null</td><td>null</td><td>null</td><td>null</td><td>null</td><td>4000.0</td><td>null</td><td>1.0</td><td>0.0</td><td>null</td><td>0.0</td><td>0.0</td><td>1</td><td>2812817</td><td>&quot;1e9c2a3788a74ab7b80890ef712773…</td><td>2024-05-17 06:39:30</td><td>&quot;OVBHTA/HTAOVB&quot;</td><td>true</td><td>2612.0</td><td>54837.0</td><td>0</td><td>995</td></tr><tr><td>996</td><td>true</td><td>42622</td><td>115</td><td>null</td><td>36</td><td>true</td><td>false</td><td>&quot;2024-05-21T07:15:00&quot;</td><td>&quot;2024-05-20T17:45:00&quot;</td><td>&quot;11:30:00&quot;</td><td>&quot;32A&quot;</td><td>&quot;MOW&quot;</td><td>&quot;DME&quot;</td><td>1.0</td><td>0.0</td><td>1.0</td><td>&quot;OVB&quot;</td><td>&quot;04:20:00&quot;</td><td>&quot;2516&quot;</td><td>&quot;S7&quot;</td><td>&quot;S7&quot;</td><td>9.0</td><td>&quot;32N&quot;</td><td>&quot;HTA&quot;</td><td>&quot;HTA&quot;</td><td>1.0</td><td>0.0</td><td>1.0</td><td>&quot;DME&quot;</td><td>&quot;06:10:00&quot;</td><td>&quot;3045&quot;</td><td>&quot;S7&quot;</td><td>&quot;S7&quot;</td><td>1.0</td><td>null</td><td>null</td><td>&hellip;</td><td>null</td><td>null</td><td>null</td><td>null</td><td>null</td><td>null</td><td>null</td><td>null</td><td>null</td><td>null</td><td>null</td><td>null</td><td>null</td><td>null</td><td>null</td><td>null</td><td>null</td><td>null</td><td>null</td><td>null</td><td>2300.0</td><td>null</td><td>1.0</td><td>3500.0</td><td>null</td><td>1.0</td><td>0.0</td><td>1</td><td>2812817</td><td>&quot;1e9c2a3788a74ab7b80890ef712773…</td><td>2024-05-17 06:39:30</td><td>&quot;OVBHTA/HTAOVB&quot;</td><td>true</td><td>2612.0</td><td>71662.0</td><td>0</td><td>996</td></tr><tr><td>997</td><td>true</td><td>42622</td><td>null</td><td>null</td><td>36</td><td>false</td><td>false</td><td>&quot;2024-05-21T07:15:00&quot;</td><td>&quot;2024-05-20T17:45:00&quot;</td><td>&quot;11:30:00&quot;</td><td>&quot;32A&quot;</td><td>&quot;MOW&quot;</td><td>&quot;DME&quot;</td><td>1.0</td><td>0.0</td><td>1.0</td><td>&quot;OVB&quot;</td><td>&quot;04:20:00&quot;</td><td>&quot;2516&quot;</td><td>&quot;S7&quot;</td><td>&quot;S7&quot;</td><td>9.0</td><td>&quot;32N&quot;</td><td>&quot;HTA&quot;</td><td>&quot;HTA&quot;</td><td>1.0</td><td>0.0</td><td>1.0</td><td>&quot;DME&quot;</td><td>&quot;06:10:00&quot;</td><td>&quot;3045&quot;</td><td>&quot;S7&quot;</td><td>&quot;S7&quot;</td><td>1.0</td><td>null</td><td>null</td><td>&hellip;</td><td>null</td><td>null</td><td>null</td><td>null</td><td>null</td><td>null</td><td>null</td><td>null</td><td>null</td><td>null</td><td>null</td><td>null</td><td>null</td><td>null</td><td>null</td><td>null</td><td>null</td><td>null</td><td>null</td><td>null</td><td>2300.0</td><td>null</td><td>1.0</td><td>3500.0</td><td>null</td><td>1.0</td><td>0.0</td><td>1</td><td>2812817</td><td>&quot;1e9c2a3788a74ab7b80890ef712773…</td><td>2024-05-17 06:39:30</td><td>&quot;OVBHTA/HTAOVB&quot;</td><td>true</td><td>2612.0</td><td>76067.0</td><td>0</td><td>997</td></tr><tr><td>998</td><td>true</td><td>42622</td><td>115</td><td>null</td><td>36</td><td>true</td><td>false</td><td>&quot;2024-05-21T07:15:00&quot;</td><td>&quot;2024-05-20T17:45:00&quot;</td><td>&quot;11:30:00&quot;</td><td>&quot;32A&quot;</td><td>&quot;MOW&quot;</td><td>&quot;DME&quot;</td><td>1.0</td><td>0.0</td><td>1.0</td><td>&quot;OVB&quot;</td><td>&quot;04:20:00&quot;</td><td>&quot;2516&quot;</td><td>&quot;S7&quot;</td><td>&quot;S7&quot;</td><td>9.0</td><td>&quot;32N&quot;</td><td>&quot;HTA&quot;</td><td>&quot;HTA&quot;</td><td>1.0</td><td>0.0</td><td>1.0</td><td>&quot;DME&quot;</td><td>&quot;06:10:00&quot;</td><td>&quot;3045&quot;</td><td>&quot;S7&quot;</td><td>&quot;S7&quot;</td><td>1.0</td><td>null</td><td>null</td><td>&hellip;</td><td>null</td><td>null</td><td>null</td><td>null</td><td>null</td><td>null</td><td>null</td><td>null</td><td>null</td><td>null</td><td>null</td><td>null</td><td>null</td><td>null</td><td>null</td><td>null</td><td>null</td><td>null</td><td>null</td><td>null</td><td>0.0</td><td>null</td><td>1.0</td><td>0.0</td><td>null</td><td>1.0</td><td>0.0</td><td>1</td><td>2812817</td><td>&quot;1e9c2a3788a74ab7b80890ef712773…</td><td>2024-05-17 06:39:30</td><td>&quot;OVBHTA/HTAOVB&quot;</td><td>true</td><td>2612.0</td><td>116322.0</td><td>0</td><td>998</td></tr><tr><td>999</td><td>true</td><td>42622</td><td>null</td><td>null</td><td>36</td><td>false</td><td>false</td><td>&quot;2024-05-21T07:15:00&quot;</td><td>&quot;2024-05-20T17:45:00&quot;</td><td>&quot;11:30:00&quot;</td><td>&quot;32A&quot;</td><td>&quot;MOW&quot;</td><td>&quot;DME&quot;</td><td>1.0</td><td>0.0</td><td>1.0</td><td>&quot;OVB&quot;</td><td>&quot;04:20:00&quot;</td><td>&quot;2516&quot;</td><td>&quot;S7&quot;</td><td>&quot;S7&quot;</td><td>9.0</td><td>&quot;32N&quot;</td><td>&quot;HTA&quot;</td><td>&quot;HTA&quot;</td><td>1.0</td><td>0.0</td><td>1.0</td><td>&quot;DME&quot;</td><td>&quot;06:10:00&quot;</td><td>&quot;3045&quot;</td><td>&quot;S7&quot;</td><td>&quot;S7&quot;</td><td>1.0</td><td>null</td><td>null</td><td>&hellip;</td><td>null</td><td>null</td><td>null</td><td>null</td><td>null</td><td>null</td><td>null</td><td>null</td><td>null</td><td>null</td><td>null</td><td>null</td><td>null</td><td>null</td><td>null</td><td>null</td><td>null</td><td>null</td><td>null</td><td>null</td><td>0.0</td><td>null</td><td>1.0</td><td>0.0</td><td>null</td><td>1.0</td><td>0.0</td><td>1</td><td>2812817</td><td>&quot;1e9c2a3788a74ab7b80890ef712773…</td><td>2024-05-17 06:39:30</td><td>&quot;OVBHTA/HTAOVB&quot;</td><td>true</td><td>2612.0</td><td>123577.0</td><td>0</td><td>999</td></tr></tbody></table></div>"
      ]
     },
     "execution_count": 3,
     "metadata": {},
     "output_type": "execute_result"
    }
   ],
   "execution_count": 3
  },
  {
   "metadata": {
    "ExecuteTime": {
     "end_time": "2025-09-01T20:14:42.643564Z",
     "start_time": "2025-09-01T20:14:42.118745Z"
    }
   },
   "cell_type": "code",
   "source": [
    "print(f\"the number of new profiles in train data is {len(data.select(\"profileId\").unique())}\")\n",
    "print(f'the number of searches in train data is {len(data.select('ranker_id').unique())}')"
   ],
   "id": "e92b1d5c59e1b5ca",
   "outputs": [
    {
     "name": "stdout",
     "output_type": "stream",
     "text": [
      "the number of new profiles in train data is 32922\n",
      "the number of searches in train data is 105539\n"
     ]
    }
   ],
   "execution_count": 4
  },
  {
   "metadata": {
    "ExecuteTime": {
     "end_time": "2025-09-01T20:15:29.738235Z",
     "start_time": "2025-09-01T20:15:09.332500Z"
    }
   },
   "cell_type": "code",
   "source": [
    "flight_counts = data.group_by('ranker_id').agg(pl.len().alias('flight_count'))\n",
    "\n",
    "print(f'The minimum number of searches in train data is {flight_counts['flight_count'].min()}')\n",
    "print(f'The maximum number of searches in train data is {flight_counts['flight_count'].max()}')\n",
    "\n",
    "del flight_counts\n",
    "gc.collect()"
   ],
   "id": "52750287287f682a",
   "outputs": [
    {
     "name": "stdout",
     "output_type": "stream",
     "text": [
      "The minimum number of searches in train data is 1\n",
      "The maximum number of searches in train data is 8236\n"
     ]
    },
    {
     "data": {
      "text/plain": [
       "12"
      ]
     },
     "execution_count": 6,
     "metadata": {},
     "output_type": "execute_result"
    }
   ],
   "execution_count": 6
  },
  {
   "metadata": {},
   "cell_type": "markdown",
   "source": "### Split into Train and Test Data Sets",
   "id": "7672cedb64a71719"
  },
  {
   "metadata": {
    "ExecuteTime": {
     "end_time": "2025-09-01T20:15:36.934348Z",
     "start_time": "2025-09-01T20:15:36.914446Z"
    }
   },
   "cell_type": "code",
   "source": [
    "def stratified_flight_count_split(df, test_size=0.2, random_state=42):\n",
    "    \"\"\"\n",
    "    Stratified split based on number of flights per search (ranker_id).\n",
    "    Ensures train/test sets have similar distributions of search sizes.\n",
    "    \"\"\"\n",
    "\n",
    "    # Calculate flights per search\n",
    "    search_flight_counts = (\n",
    "        df\n",
    "        .group_by('ranker_id')\n",
    "        .agg(pl.len().alias('flight_count'))\n",
    "    )\n",
    "\n",
    "    # Create stratification bins based on your distribution\n",
    "    # Adjust these thresholds based on your specific data\n",
    "    search_flight_counts = search_flight_counts.with_columns(\n",
    "        pl.when(pl.col('flight_count') <= 50).then(pl.lit('very_small'))     # Most searches\n",
    "        .when(pl.col('flight_count') <= 200).then(pl.lit('small'))\n",
    "        .when(pl.col('flight_count') <= 500).then(pl.lit('medium'))\n",
    "        .when(pl.col('flight_count') <= 1000).then(pl.lit('large'))\n",
    "        .otherwise(pl.lit('very_large'))                                     # High-flight searches\n",
    "        .alias('size_category')\n",
    "    )\n",
    "\n",
    "    # Print distribution for verification\n",
    "    size_dist = search_flight_counts.group_by('size_category').len().sort('size_category')\n",
    "    print(\"Search size distribution:\")\n",
    "    for row in size_dist.iter_rows(named=True):\n",
    "        print(f\"  {row['size_category']}: {row['len']:,} searches\")\n",
    "\n",
    "    # Split within each size category\n",
    "    train_searches = []\n",
    "    test_searches = []\n",
    "\n",
    "    for category in ['very_small', 'small', 'medium', 'large', 'very_large']:\n",
    "        category_searches = (\n",
    "            search_flight_counts\n",
    "            .filter(pl.col('size_category') == category)\n",
    "            .select('ranker_id')\n",
    "            .to_pandas()['ranker_id'].tolist()\n",
    "        )\n",
    "\n",
    "        if len(category_searches) > 1:\n",
    "            train_cat, test_cat = train_test_split(\n",
    "                category_searches,\n",
    "                test_size=test_size,\n",
    "                random_state=random_state,\n",
    "                stratify=None  # No further stratification within category\n",
    "            )\n",
    "            train_searches.extend(train_cat)\n",
    "            test_searches.extend(test_cat)\n",
    "        elif len(category_searches) == 1:\n",
    "            # Single search goes to train\n",
    "            train_searches.extend(category_searches)\n",
    "\n",
    "    # Filter original data\n",
    "    train_data = df.filter(pl.col('ranker_id').is_in(train_searches))\n",
    "    test_data = df.filter(pl.col('ranker_id').is_in(test_searches))\n",
    "\n",
    "    # Verification: Check distribution preservation\n",
    "    print(f\"\\nSplit results:\")\n",
    "    print(f\"Train searches: {len(train_searches):,}\")\n",
    "    print(f\"Test searches: {len(test_searches):,}\")\n",
    "    print(f\"Train rows: {train_data.height:,}\")\n",
    "    print(f\"Test rows: {test_data.height:,}\")\n",
    "\n",
    "    # Verify stratification worked\n",
    "    train_size_dist = (\n",
    "        train_data\n",
    "        .group_by('ranker_id')\n",
    "        .agg(pl.len().alias('flight_count'))\n",
    "        .with_columns(\n",
    "            pl.when(pl.col('flight_count') <= 50).then(pl.lit('very_small'))\n",
    "            .when(pl.col('flight_count') <= 200).then(pl.lit('small'))\n",
    "            .when(pl.col('flight_count') <= 500).then(pl.lit('medium'))\n",
    "            .when(pl.col('flight_count') <= 1000).then(pl.lit('large'))\n",
    "            .otherwise(pl.lit('very_large'))\n",
    "            .alias('size_category')\n",
    "        )\n",
    "        .group_by('size_category')\n",
    "        .len()\n",
    "        .sort('size_category')\n",
    "    )\n",
    "\n",
    "    test_size_dist = (\n",
    "        test_data\n",
    "        .group_by('ranker_id')\n",
    "        .agg(pl.len().alias('flight_count'))\n",
    "        .with_columns(\n",
    "            pl.when(pl.col('flight_count') <= 50).then(pl.lit('very_small'))\n",
    "            .when(pl.col('flight_count') <= 200).then(pl.lit('small'))\n",
    "            .when(pl.col('flight_count') <= 500).then(pl.lit('medium'))\n",
    "            .when(pl.col('flight_count') <= 1000).then(pl.lit('large'))\n",
    "            .otherwise(pl.lit('very_large'))\n",
    "            .alias('size_category')\n",
    "        )\n",
    "        .group_by('size_category')\n",
    "        .len()\n",
    "        .sort('size_category')\n",
    "    )\n",
    "\n",
    "    print(f\"\\nTrain set distribution:\")\n",
    "    for row in train_size_dist.iter_rows(named=True):\n",
    "        print(f\"  {row['size_category']}: {row['len']:,} searches\")\n",
    "\n",
    "    print(f\"\\nTest set distribution:\")\n",
    "    for row in test_size_dist.iter_rows(named=True):\n",
    "        print(f\"  {row['size_category']}: {row['len']:,} searches\")\n",
    "\n",
    "    return train_data, test_data\n"
   ],
   "id": "7e0f4c0409b8e937",
   "outputs": [],
   "execution_count": 7
  },
  {
   "metadata": {
    "ExecuteTime": {
     "end_time": "2025-09-01T20:16:48.100004Z",
     "start_time": "2025-09-01T20:15:41.120304Z"
    }
   },
   "cell_type": "code",
   "source": "train_df, test_df = stratified_flight_count_split(data)",
   "id": "162b7708a81ea7a7",
   "outputs": [
    {
     "name": "stdout",
     "output_type": "stream",
     "text": [
      "Search size distribution:\n",
      "  large: 5,035 searches\n",
      "  medium: 13,896 searches\n",
      "  small: 30,360 searches\n",
      "  very_large: 3,141 searches\n",
      "  very_small: 53,107 searches\n",
      "\n",
      "Split results:\n",
      "Train searches: 84,429\n",
      "Test searches: 21,110\n",
      "Train rows: 14,515,468\n",
      "Test rows: 3,629,904\n",
      "\n",
      "Train set distribution:\n",
      "  large: 4,028 searches\n",
      "  medium: 11,116 searches\n",
      "  small: 24,288 searches\n",
      "  very_large: 2,512 searches\n",
      "  very_small: 42,485 searches\n",
      "\n",
      "Test set distribution:\n",
      "  large: 1,007 searches\n",
      "  medium: 2,780 searches\n",
      "  small: 6,072 searches\n",
      "  very_large: 629 searches\n",
      "  very_small: 10,622 searches\n"
     ]
    }
   ],
   "execution_count": 8
  },
  {
   "metadata": {
    "ExecuteTime": {
     "end_time": "2025-09-01T20:17:34.085327Z",
     "start_time": "2025-09-01T20:17:10.669278Z"
    }
   },
   "cell_type": "code",
   "source": [
    "# Save the train/test splits\n",
    "train_df.write_parquet('data/train_df.parquet')\n",
    "test_df.write_parquet('data/test_df.parquet')\n",
    "\n",
    "# Remove test data from memory\n",
    "del test_df\n",
    "gc.collect()"
   ],
   "id": "3116e5a65018ed8",
   "outputs": [
    {
     "data": {
      "text/plain": [
       "0"
      ]
     },
     "execution_count": 9,
     "metadata": {},
     "output_type": "execute_result"
    }
   ],
   "execution_count": 9
  },
  {
   "metadata": {
    "ExecuteTime": {
     "end_time": "2025-09-01T20:17:51.815457Z",
     "start_time": "2025-09-01T20:17:51.726761Z"
    }
   },
   "cell_type": "code",
   "source": [
    "del data\n",
    "gc.collect()"
   ],
   "id": "7ccedceeab9d5ebc",
   "outputs": [
    {
     "data": {
      "text/plain": [
       "0"
      ]
     },
     "execution_count": 10,
     "metadata": {},
     "output_type": "execute_result"
    }
   ],
   "execution_count": 10
  },
  {
   "metadata": {},
   "cell_type": "markdown",
   "source": "### Utilities",
   "id": "b0c89c99f0e7fb36"
  },
  {
   "metadata": {
    "ExecuteTime": {
     "end_time": "2025-09-01T03:51:06.061597Z",
     "start_time": "2025-09-01T03:51:06.052083Z"
    }
   },
   "cell_type": "code",
   "source": [
    "MAJOR_HUBS = ['ATL','DXB','DFW','HND','LHR','DEN','ORD','IST','PVG','ICN','CDG', 'JFK','CLT','MEX','SFO','EWR','MIA','BKK','GRU','HKG']\n",
    "\n",
    "def camel_to_snake(name):\n",
    "    \"\"\"Convert camelCase or PascalCase to snake_case\"\"\"\n",
    "    s1 = re.sub('(.)([A-Z][a-z]+)', r'\\1_\\2', name)\n",
    "    s2 = re.sub('([a-z0-9])([A-Z])', r'\\1_\\2', s1)\n",
    "    return s2.lower()\n",
    "\n",
    "\n",
    "def convert_columns_to_snake_case(df):\n",
    "    \"\"\"Convert all column names in a polars DataFrame to snake_case\"\"\"\n",
    "    return df.rename({col: camel_to_snake(col) for col in df.columns})\n",
    "\n",
    "\n",
    "def parse_duration_to_minutes(duration_col: str) -> pl.Expr:\n",
    "    \"\"\"Parse duration string to minutes (handles format like '2.04:20' - D.HH:MM).\"\"\"\n",
    "    return (\n",
    "        pl.when(pl.col(duration_col).is_not_null() & (pl.col(duration_col) != \"\"))\n",
    "        .then(\n",
    "            pl.when(pl.col(duration_col).str.contains(r'\\.'))\n",
    "            .then(\n",
    "                # Format: D.HH:MM:SS (e.g., \"1.00:30:00\", \"2.09:45:00\")\n",
    "                pl.col(duration_col).str.extract(r'^(\\d+)\\.(\\d{2}):(\\d{2}):(\\d{2})$', 1).cast(pl.Int32, strict=False).fill_null(0) * 1440 +  # Days\n",
    "                pl.col(duration_col).str.extract(r'^(\\d+)\\.(\\d{2}):(\\d{2}):(\\d{2})$', 2).cast(pl.Int32, strict=False).fill_null(0) * 60 +   # Hours\n",
    "                pl.col(duration_col).str.extract(r'^(\\d+)\\.(\\d{2}):(\\d{2}):(\\d{2})$', 3).cast(pl.Int32, strict=False).fill_null(0) +        # Minutes\n",
    "                (pl.col(duration_col).str.extract(r'^(\\d+)\\.(\\d{2}):(\\d{2}):(\\d{2})$', 4).cast(pl.Int32, strict=False).fill_null(0) / 60).round(0).cast(pl.Int32, strict=False)  # Seconds\n",
    "            )\n",
    "            .otherwise(\n",
    "                # Format: HH:MM:SS (e.g., \"07:25:00\", \"17:55:00\")\n",
    "                pl.col(duration_col).str.extract(r'^(\\d{2}):(\\d{2}):(\\d{2})$', 1).cast(pl.Int32, strict=False).fill_null(0) * 60 +   # Hours\n",
    "                pl.col(duration_col).str.extract(r'^(\\d{2}):(\\d{2}):(\\d{2})$', 2).cast(pl.Int32, strict=False).fill_null(0) +        # Minutes\n",
    "                (pl.col(duration_col).str.extract(r'^(\\d{2}):(\\d{2}):(\\d{2})$', 3).cast(pl.Int32, strict=False).fill_null(0) / 60).round(0).cast(pl.Int32, strict=False)  # Seconds\n",
    "            )\n",
    "        )\n",
    "        .otherwise(0)\n",
    "    )"
   ],
   "id": "8bf30151412e2a94",
   "outputs": [],
   "execution_count": 5
  },
  {
   "metadata": {},
   "cell_type": "markdown",
   "source": "### Engineer Customer Features",
   "id": "a806b9bf6beed247"
  },
  {
   "metadata": {
    "ExecuteTime": {
     "end_time": "2025-09-01T03:51:09.313039Z",
     "start_time": "2025-09-01T03:51:09.287668Z"
    }
   },
   "cell_type": "code",
   "source": [
    "# Customer attributes for clustering analysis\n",
    "\n",
    "def create_customer_aggregation_features() -> List[pl.Expr]:\n",
    "    \"\"\"Create customer aggregation expressions for basic attributes and search behavior.\"\"\"\n",
    "    return [\n",
    "        # Basic customer attributes (take first non-null value per customer)\n",
    "        pl.col('companyID').drop_nulls().first().alias('company_id'),\n",
    "        pl.col('sex').drop_nulls().first().cast(pl.Int8).alias('sex'),\n",
    "        pl.col('nationality').drop_nulls().first().alias('nationality'),\n",
    "        pl.col('frequentFlyer').drop_nulls().first().str.replace('- ЮТэйр ЗАО', 'UT').fill_null('').alias('frequent_flyer'),\n",
    "        pl.col('isVip').drop_nulls().first().cast(pl.Int8).alias('is_vip'),\n",
    "        pl.col('bySelf').drop_nulls().first().cast(pl.Int8).alias('by_self'),\n",
    "        pl.col('corporateTariffCode').is_not_null().cast(pl.Int8).max().alias('has_corp_codes'),\n",
    "\n",
    "        # Search behavior metrics\n",
    "        pl.len().alias('total_searches'),\n",
    "        pl.col('legs1_departureAt').is_not_null().mean().alias('roundtrip_preference'),\n",
    "        pl.col('searchRoute').drop_nulls().n_unique().alias('unique_routes_searched'),\n",
    "    ]\n",
    "\n",
    "\n",
    "def create_booking_lead_time_features() -> List[pl.Expr]:\n",
    "    \"\"\"Create booking lead time statistics.\"\"\"\n",
    "    # Calculate booking lead time in days\n",
    "    booking_lead_expr = (\n",
    "        (pl.col('legs0_departureAt').str.to_datetime() -\n",
    "         pl.col('requestDate').cast(pl.Datetime)) / pl.duration(days=1)\n",
    "    ).cast(pl.Int32)\n",
    "\n",
    "    return [\n",
    "        booking_lead_expr.min().alias('min_booking_lead_days'),\n",
    "        booking_lead_expr.max().alias('max_booking_lead_days'),\n",
    "        booking_lead_expr.mean().alias('avg_booking_lead_days'),\n",
    "        booking_lead_expr.median().alias('median_booking_lead_days'),\n",
    "    ]\n",
    "\n",
    "\n",
    "def create_travel_preference_features() -> List[pl.Expr]:\n",
    "    \"\"\"Create travel preference features for most common airports and carriers.\"\"\"\n",
    "    return [\n",
    "        # Most common departure airport\n",
    "        pl.col('legs0_segments0_departureFrom_airport_iata').drop_nulls().mode().first().alias('most_common_departure_airport'),\n",
    "        pl.col('legs0_segments0_departureFrom_airport_iata').drop_nulls().n_unique().alias('unique_departure_airports'),\n",
    "\n",
    "        # Most common marketing carrier\n",
    "        pl.col('legs0_segments0_marketingCarrier_code').drop_nulls().mode().first().alias('most_common_carrier'),\n",
    "        pl.col('legs0_segments0_marketingCarrier_code').drop_nulls().n_unique().alias('unique_carriers_used'),\n",
    "    ]\n",
    "\n",
    "\n",
    "def create_cabin_class_features(cabin_class_cols: List[str]) -> List[pl.Expr]:\n",
    "    \"\"\"Create cabin class preference statistics.\"\"\"\n",
    "    if not cabin_class_cols:\n",
    "        # Return default values if no cabin class columns found\n",
    "        return [\n",
    "            pl.lit(None).alias('min_cabin_class'),\n",
    "            pl.lit(None).alias('max_cabin_class'),\n",
    "            pl.lit(None).alias('avg_cabin_class'),\n",
    "        ]\n",
    "\n",
    "    return [\n",
    "        # Cabin class statistics across all segments\n",
    "        pl.min_horizontal([pl.col(col) for col in cabin_class_cols]).min().alias('min_cabin_class'),\n",
    "        pl.max_horizontal([pl.col(col) for col in cabin_class_cols]).max().alias('max_cabin_class'),\n",
    "        pl.mean_horizontal([pl.col(col) for col in cabin_class_cols]).mean().alias('avg_cabin_class'),\n",
    "    ]\n",
    "\n",
    "\n",
    "def create_temporal_preference_features() -> List[pl.Expr]:\n",
    "    \"\"\"Create temporal preference features for departure patterns.\"\"\"\n",
    "    return [\n",
    "        # Weekday preference (most common day of week for departures)\n",
    "        pl.col('legs0_departureAt').str.to_datetime().dt.weekday()\n",
    "          .mode().first().alias('weekday_preference'),\n",
    "\n",
    "        # Weekend travel rate (percentage of weekend departures - 5=Sat, 6=Sun)\n",
    "        pl.col('legs0_departureAt').str.to_datetime().dt.weekday()\n",
    "          .map_elements(lambda x: 1 if x >= 5 else 0, return_dtype=pl.Int8)\n",
    "          .mean().alias('weekend_travel_rate'),\n",
    "\n",
    "        # Time of day variance (how consistent are their departure times)\n",
    "        pl.col('legs0_departureAt').str.to_datetime().dt.hour()\n",
    "          .std().alias('time_of_day_variance'),\n",
    "\n",
    "        # Night flight preference (flights departing 22:00-06:00)\n",
    "        pl.col('legs0_departureAt').str.to_datetime().dt.hour()\n",
    "          .map_elements(lambda x: 1 if (x >= 22 or x < 6) else 0, return_dtype=pl.Int8)\n",
    "          .mean().alias('night_flight_preference')\n",
    "    ]\n",
    "\n",
    "\n",
    "def create_route_specific_features() -> List[pl.Expr]:\n",
    "    \"\"\"Create features related to route preferences and characteristics.\"\"\"\n",
    "    return [\n",
    "        # Route loyalty\n",
    "        (1 - (pl.col('searchRoute').n_unique() / pl.len().clip(1, None))).alias('route_loyalty'),\n",
    "\n",
    "        # Hub preference (preference for major hub airports)\n",
    "        (\n",
    "            pl.col('legs0_segments0_departureFrom_airport_iata').is_in(MAJOR_HUBS) |\n",
    "            pl.col('legs0_segments0_arrivalTo_airport_iata').is_in(MAJOR_HUBS)\n",
    "        ).cast(pl.Int8).mean().alias('hub_preference'),\n",
    "\n",
    "        # Short haul preference\n",
    "        ((1 - (pl.col('leg0_duration_minutes').mean() / 180)) * 0.7 +\n",
    "         pl.when(pl.col('leg0_duration_minutes') <= 180).then(1).otherwise(0).mean() * 0.3)\n",
    "        .clip(0, 1).alias('short_haul_preference'),\n",
    "\n",
    "        # Connection tolerance (average segments)\n",
    "        pl.sum_horizontal([\n",
    "            pl.col(f'legs0_segments{i}_departureFrom_airport_iata').is_not_null().cast(pl.Int8)\n",
    "            for i in range(4)  # assuming max 4 segments\n",
    "        ]).mean().alias('connection_tolerance'),\n",
    "\n",
    "        # Preference for longer vs shorter flights (duration quartile preference)\n",
    "        pl.when(pl.col('leg0_duration_minutes') <= pl.col('leg0_duration_q25'))\n",
    "        .then(1)  # Short flights\n",
    "        .when(pl.col('leg0_duration_minutes') <= pl.col('leg0_duration_q50'))\n",
    "        .then(2)  # Medium-short flights\n",
    "        .when(pl.col('leg0_duration_minutes') <= pl.col('leg0_duration_q75'))\n",
    "        .then(3)  # Medium-long flights\n",
    "        .otherwise(4)  # Long flights\n",
    "        .mode().first().alias('preferred_duration_quartile')\n",
    "    ]\n",
    "\n",
    "\n",
    "def create_price_sensitivity_features() -> List[pl.Expr]:\n",
    "    \"\"\"Create features related to price sensitivity and patterns.\"\"\"\n",
    "    return [\n",
    "        # Basic correlation between price and duration\n",
    "        pl.corr(\n",
    "            pl.col('totalPrice'),\n",
    "            pl.col('trip_duration_minutes')\n",
    "        ).fill_null(0).alias('price_to_duration_sensitivity'),\n",
    "\n",
    "        # Price per minute metric (average across all flights)\n",
    "        (pl.col('totalPrice') / pl.col('trip_duration_minutes').clip(1, None)).mean().alias('avg_price_per_minute'),\n",
    "\n",
    "        # Consistency of price-per-minute (lower std = more consistent valuation)\n",
    "        (pl.col('totalPrice') / pl.col('trip_duration_minutes').clip(1, None)).std().fill_null(0).alias('price_per_minute_variance'),\n",
    "\n",
    "        # Price position within searches (percentile rank)\n",
    "        pl.col('price_percentile').mean().alias('price_position_preference'),\n",
    "\n",
    "        # Premium economy preference (assuming cabin class 2 is premium economy)\n",
    "        pl.mean_horizontal([\n",
    "            pl.col(f'legs0_segments{i}_cabinClass') == 2\n",
    "            for i in range(4)\n",
    "        ]).mean().alias('premium_economy_preference'),\n",
    "\n",
    "        # Consistent price tier\n",
    "        (1 - (\n",
    "            pl.when(pl.col('totalPrice') <= pl.col('price_q25'))\n",
    "            .then(1)  # Budget tier\n",
    "            .when(pl.col('totalPrice') <= pl.col('price_q50'))\n",
    "            .then(2)  # Economy tier\n",
    "            .when(pl.col('totalPrice') <= pl.col('price_q75'))\n",
    "            .then(3)  # Premium tier\n",
    "            .otherwise(4)  # Luxury tier\n",
    "            .std()\n",
    "            .fill_null(0)  # Handle null case\n",
    "            / 3\n",
    "        ).clip(0, 1)).alias('consistent_price_tier'),\n",
    "\n",
    "        # Most common price tier\n",
    "        pl.when(pl.col('totalPrice') <= pl.col('price_q25'))\n",
    "        .then(1)  # Budget tier\n",
    "        .when(pl.col('totalPrice') <= pl.col('price_q50'))\n",
    "        .then(2)  # Economy tier\n",
    "        .when(pl.col('totalPrice') <= pl.col('price_q75'))\n",
    "        .then(3)  # Premium tier\n",
    "        .otherwise(4)  # Luxury tier\n",
    "        .mode().first().alias('preferred_price_tier'),\n",
    "    ]\n",
    "\n",
    "\n",
    "def create_service_preference_features() -> List[pl.Expr]:\n",
    "    \"\"\"Create features related to service preferences.\"\"\"\n",
    "    # First get all the relevant column names for type and quantity\n",
    "    type_cols = [\n",
    "        f'legs{leg}_segments{seg}_baggageAllowance_weightMeasurementType'\n",
    "        for leg in range(2) for seg in range(4)\n",
    "    ]\n",
    "    qty_cols = [\n",
    "        f'legs{leg}_segments{seg}_baggageAllowance_quantity'\n",
    "        for leg in range(2) for seg in range(4)\n",
    "    ]\n",
    "\n",
    "    return [\n",
    "        # Baggage quantity preference (average of minimum bags allowed per flight option)\n",
    "        pl.min_horizontal([\n",
    "            pl.when(pl.col(type_col) == 0)\n",
    "            .then(pl.col(qty_col))\n",
    "            .otherwise(pl.lit(None))\n",
    "            for type_col, qty_col in zip(type_cols, qty_cols)\n",
    "        ]).mean().fill_null(0).alias('baggage_qty_preference'),\n",
    "\n",
    "        # Baggage weight preference (average of minimum weight allowed per flight option)\n",
    "        pl.min_horizontal([\n",
    "            pl.when(pl.col(type_col) == 1)\n",
    "            .then(pl.col(qty_col))\n",
    "            .otherwise(pl.lit(None))\n",
    "            for type_col, qty_col in zip(type_cols, qty_cols)\n",
    "        ]).mean().fill_null(0).fill_nan(0).alias('baggage_weight_preference'),\n",
    "\n",
    "        # Loyalty program utilization\n",
    "        pl.col('frequentFlyer').is_not_null().mean().alias('loyalty_program_utilization')\n",
    "    ]\n",
    "\n",
    "\n",
    "def create_derived_metrics() -> List[pl.Expr]:\n",
    "    \"\"\"Create complex derived metrics from combinations of features.\"\"\"\n",
    "    return [\n",
    "        # Convenience priority score (higher = more emphasis on convenient times)\n",
    "        ((1 - pl.col('time_of_day_variance')) * 10 +\n",
    "         pl.col('price_to_duration_sensitivity') * 5)\n",
    "        .alias('convenience_priority_score'),\n",
    "\n",
    "        # Loyalty vs price index (higher = more loyal, less price sensitive)\n",
    "        (pl.col('loyalty_program_utilization') * 10 -\n",
    "         pl.col('price_position_preference') / 10)\n",
    "        .alias('loyalty_vs_price_index'),\n",
    "\n",
    "        # Planning consistency score (inverse of lead time variance)\n",
    "        (1 / (pl.col('max_booking_lead_days') - pl.col('min_booking_lead_days') + 1))\n",
    "        .alias('planning_consistency_score'),\n",
    "\n",
    "        # Luxury index (combination of cabin class and price tier)\n",
    "        (pl.col('avg_cabin_class') * 20 +\n",
    "         pl.col('price_position_preference') / 2)\n",
    "        .alias('luxury_index'),\n",
    "\n",
    "        # Create advanced features\n",
    "        (pl.col('total_searches') / pl.col('unique_routes_searched').clip(1)).alias('search_intensity_per_route'),\n",
    "        (pl.col('max_booking_lead_days') - pl.col('min_booking_lead_days')).alias('lead_time_variance'),\n",
    "        (pl.col('avg_booking_lead_days') / pl.col('median_booking_lead_days').clip(1)).alias('lead_time_skew'),\n",
    "        (pl.col('unique_carriers_used') / pl.col('total_searches').clip(1)).alias('carrier_diversity'),\n",
    "        (pl.col('unique_departure_airports') / pl.col('total_searches').clip(1)).alias('airport_diversity'),\n",
    "        (pl.col('max_cabin_class') - pl.col('min_cabin_class')).alias('cabin_class_range'),\n",
    "        (pl.col('is_vip').cast(pl.Int8) * 2 + pl.col('has_corp_codes').is_not_null().cast(pl.Int8)).alias('customer_tier'),\n",
    "    ]\n",
    "\n",
    "\n",
    "def add_trip_duration(df: pl.DataFrame) -> pl.DataFrame:\n",
    "    \"\"\"Add trip duration to the DataFrame.\"\"\"\n",
    "    leg0_duration_minutes = parse_duration_to_minutes('legs0_duration')\n",
    "    leg1_duration_minutes = parse_duration_to_minutes('legs1_duration')\n",
    "    trip_duration_minutes = leg0_duration_minutes + leg1_duration_minutes\n",
    "\n",
    "    return df.with_columns([\n",
    "        leg0_duration_minutes.alias('leg0_duration_minutes'),\n",
    "        leg1_duration_minutes.alias('leg1_duration_minutes'),\n",
    "        trip_duration_minutes.alias('trip_duration_minutes'),\n",
    "    ])\n",
    "\n",
    "\n",
    "def create_windows_based_features(df) -> pl.DataFrame:\n",
    "    # Add window-based features like price_percentile if they don't exist\n",
    "    return (df.with_columns([\n",
    "        # calculate price percentile over search session\n",
    "        ((pl.col('totalPrice').rank(method='min').over('ranker_id') - 1) /\n",
    "        (pl.col('totalPrice').count().over('ranker_id') - 1) * 100)\n",
    "        .fill_null(50.0).alias('price_percentile'),\n",
    "\n",
    "        # calculate price quartiles over profileId\n",
    "        pl.col('totalPrice').quantile(0.25).over('profileId').alias('price_q25'),\n",
    "        pl.col('totalPrice').quantile(0.50).over('profileId').alias('price_q50'),\n",
    "        pl.col('totalPrice').quantile(0.75).over('profileId').alias('price_q75'),\n",
    "\n",
    "        # calculate leg0_duration quartiles over profileId\n",
    "        pl.col('leg0_duration_minutes').quantile(0.25).over('profileId').alias('leg0_duration_q25'),\n",
    "        pl.col('leg0_duration_minutes').quantile(0.50).over('profileId').alias('leg0_duration_q50'),\n",
    "        pl.col('leg0_duration_minutes').quantile(0.75).over('profileId').alias('leg0_duration_q75'),\n",
    "    ]))\n",
    "\n",
    "\n",
    "def create_interaction_features() -> List[pl.Expr]:\n",
    "    # Create customer/business interaction features\n",
    "    return [\n",
    "        # Create VIP interactions\n",
    "        (pl.col('search_intensity_per_route') * pl.col('is_vip')).alias('vip_search_intensity'),\n",
    "        (pl.col('carrier_diversity') * pl.col('is_vip')).alias('vip_carrier_diversity'),\n",
    "        (pl.col('avg_cabin_class') * pl.col('is_vip')).alias('vip_cabin_preference'),\n",
    "\n",
    "        # Create corporate interactions\n",
    "        (pl.col('total_searches') * pl.col('has_corp_codes')).alias('corp_search_volume'),\n",
    "        (pl.col('roundtrip_preference') * pl.col('has_corp_codes')).alias('corp_roundtrip_pref'),\n",
    "        (pl.col('lead_time_variance') * pl.col('has_corp_codes')).alias('corp_planning_variance'),\n",
    "    ]\n",
    "\n",
    "def extract_customer_features(df: pl.DataFrame) -> pl.DataFrame:\n",
    "    \"\"\"\n",
    "    Extract customer features for clustering analysis.\n",
    "    Aggregates by profileId to create customer-level features.\n",
    "    \"\"\"\n",
    "    # Check if already processed\n",
    "    if df.height > 0 and 'total_searches' in df.columns:\n",
    "        return df\n",
    "\n",
    "    # Get cabin class columns\n",
    "    cabin_class_cols = [col for col in df.columns if col.startswith('legs') and col.endswith('_cabinClass')]\n",
    "\n",
    "    # Create lazy frame and group by profileId\n",
    "    lazy_df = create_windows_based_features(add_trip_duration(df)).lazy().group_by('profileId')\n",
    "\n",
    "    # Apply customer feature groups\n",
    "    lazy_df = lazy_df.agg([\n",
    "        *create_customer_aggregation_features(),\n",
    "        *create_booking_lead_time_features(),\n",
    "        *create_travel_preference_features(),\n",
    "        *create_cabin_class_features(cabin_class_cols),\n",
    "        *create_temporal_preference_features(),\n",
    "        *create_route_specific_features(),\n",
    "        *create_price_sensitivity_features(),\n",
    "        *create_service_preference_features()\n",
    "    ])\n",
    "\n",
    "    # Materialize to generate the basic features\n",
    "    # base_features = customer_features.collect()\n",
    "\n",
    "    # Add the derived metrics that depend on the generated features\n",
    "    lazy_df = lazy_df.with_columns(create_derived_metrics())\n",
    "\n",
    "    # Add interactive features\n",
    "    lazy_df = lazy_df.with_columns(create_interaction_features())\n",
    "\n",
    "    # print(f\"Generated {len(enhanced_features.columns)} customer features for {len(enhanced_features)} customers\")\n",
    "    return lazy_df.collect().fill_null(0).fill_nan(0)"
   ],
   "id": "e03ccbc10cb46941",
   "outputs": [],
   "execution_count": 6
  },
  {
   "metadata": {
    "ExecuteTime": {
     "end_time": "2025-09-01T03:51:29.180391Z",
     "start_time": "2025-09-01T03:51:11.767099Z"
    }
   },
   "cell_type": "code",
   "source": [
    "# 1. Feature Engineering\n",
    "cust_data = extract_customer_features(data)\n",
    "print(f'Generated {len(cust_data.columns)} customer features for {len(cust_data)} customers')"
   ],
   "id": "8965d9b2e68d1b2e",
   "outputs": [
    {
     "name": "stdout",
     "output_type": "stream",
     "text": [
      "Generated 58 customer features for 32922 customers\n"
     ]
    }
   ],
   "execution_count": 7
  },
  {
   "metadata": {
    "ExecuteTime": {
     "end_time": "2025-09-01T03:51:33.626462Z",
     "start_time": "2025-09-01T03:51:33.616779Z"
    }
   },
   "cell_type": "code",
   "source": "cust_data.head(100)",
   "id": "5076d039d8291db",
   "outputs": [
    {
     "data": {
      "text/plain": [
       "shape: (100, 58)\n",
       "┌───────────┬────────────┬─────┬────────────┬───┬────────────┬────────────┬────────────┬───────────┐\n",
       "│ profileId ┆ company_id ┆ sex ┆ nationalit ┆ … ┆ vip_cabin_ ┆ corp_searc ┆ corp_round ┆ corp_plan │\n",
       "│ ---       ┆ ---        ┆ --- ┆ y          ┆   ┆ preference ┆ h_volume   ┆ trip_pref  ┆ ning_vari │\n",
       "│ i64       ┆ i64        ┆ i8  ┆ ---        ┆   ┆ ---        ┆ ---        ┆ ---        ┆ ance      │\n",
       "│           ┆            ┆     ┆ i64        ┆   ┆ f64        ┆ i64        ┆ f64        ┆ ---       │\n",
       "│           ┆            ┆     ┆            ┆   ┆            ┆            ┆            ┆ i32       │\n",
       "╞═══════════╪════════════╪═════╪════════════╪═══╪════════════╪════════════╪════════════╪═══════════╡\n",
       "│ 2187737   ┆ 61081      ┆ 1   ┆ 36         ┆ … ┆ 0.0        ┆ 945        ┆ 1.0        ┆ 1         │\n",
       "│ 2103048   ┆ 57074      ┆ 1   ┆ 36         ┆ … ┆ 0.0        ┆ 0          ┆ 0.0        ┆ 0         │\n",
       "│ 2395632   ┆ 59096      ┆ 1   ┆ 36         ┆ … ┆ 0.0        ┆ 0          ┆ 0.0        ┆ 0         │\n",
       "│ 3536933   ┆ 60628      ┆ 1   ┆ 36         ┆ … ┆ 0.0        ┆ 0          ┆ 0.0        ┆ 0         │\n",
       "│ 634576    ┆ 42620      ┆ 0   ┆ 36         ┆ … ┆ 0.0        ┆ 13         ┆ 1.0        ┆ 1         │\n",
       "│ …         ┆ …          ┆ …   ┆ …          ┆ … ┆ …          ┆ …          ┆ …          ┆ …         │\n",
       "│ 2359702   ┆ 51409      ┆ 1   ┆ 36         ┆ … ┆ 0.0        ┆ 0          ┆ 0.0        ┆ 0         │\n",
       "│ 3409127   ┆ 57323      ┆ 1   ┆ 36         ┆ … ┆ 0.0        ┆ 57         ┆ 0.701754   ┆ 25        │\n",
       "│ 2408860   ┆ 60844      ┆ 1   ┆ 36         ┆ … ┆ 0.0        ┆ 0          ┆ 0.0        ┆ 0         │\n",
       "│ 2139225   ┆ 25667      ┆ 1   ┆ 36         ┆ … ┆ 0.0        ┆ 654        ┆ 0.928135   ┆ 47        │\n",
       "│ 3424597   ┆ 54163      ┆ 1   ┆ 36         ┆ … ┆ 0.0        ┆ 211        ┆ 1.0        ┆ 1         │\n",
       "└───────────┴────────────┴─────┴────────────┴───┴────────────┴────────────┴────────────┴───────────┘"
      ],
      "text/html": [
       "<div><style>\n",
       ".dataframe > thead > tr,\n",
       ".dataframe > tbody > tr {\n",
       "  text-align: right;\n",
       "  white-space: pre-wrap;\n",
       "}\n",
       "</style>\n",
       "<small>shape: (100, 58)</small><table border=\"1\" class=\"dataframe\"><thead><tr><th>profileId</th><th>company_id</th><th>sex</th><th>nationality</th><th>frequent_flyer</th><th>is_vip</th><th>by_self</th><th>has_corp_codes</th><th>total_searches</th><th>roundtrip_preference</th><th>unique_routes_searched</th><th>min_booking_lead_days</th><th>max_booking_lead_days</th><th>avg_booking_lead_days</th><th>median_booking_lead_days</th><th>most_common_departure_airport</th><th>unique_departure_airports</th><th>most_common_carrier</th><th>unique_carriers_used</th><th>min_cabin_class</th><th>max_cabin_class</th><th>avg_cabin_class</th><th>weekday_preference</th><th>weekend_travel_rate</th><th>time_of_day_variance</th><th>night_flight_preference</th><th>route_loyalty</th><th>hub_preference</th><th>short_haul_preference</th><th>connection_tolerance</th><th>preferred_duration_quartile</th><th>price_to_duration_sensitivity</th><th>avg_price_per_minute</th><th>price_per_minute_variance</th><th>price_position_preference</th><th>premium_economy_preference</th><th>consistent_price_tier</th><th>preferred_price_tier</th><th>baggage_qty_preference</th><th>baggage_weight_preference</th><th>loyalty_program_utilization</th><th>convenience_priority_score</th><th>loyalty_vs_price_index</th><th>planning_consistency_score</th><th>luxury_index</th><th>search_intensity_per_route</th><th>lead_time_variance</th><th>lead_time_skew</th><th>carrier_diversity</th><th>airport_diversity</th><th>cabin_class_range</th><th>customer_tier</th><th>vip_search_intensity</th><th>vip_carrier_diversity</th><th>vip_cabin_preference</th><th>corp_search_volume</th><th>corp_roundtrip_pref</th><th>corp_planning_variance</th></tr><tr><td>i64</td><td>i64</td><td>i8</td><td>i64</td><td>str</td><td>i8</td><td>i8</td><td>i8</td><td>u32</td><td>f64</td><td>u32</td><td>i32</td><td>i32</td><td>f64</td><td>f64</td><td>str</td><td>u32</td><td>str</td><td>u32</td><td>f64</td><td>f64</td><td>f64</td><td>i8</td><td>f64</td><td>f64</td><td>f64</td><td>f64</td><td>f64</td><td>f64</td><td>f64</td><td>i32</td><td>f64</td><td>f64</td><td>f64</td><td>f64</td><td>f64</td><td>f64</td><td>i32</td><td>f64</td><td>f64</td><td>f64</td><td>f64</td><td>f64</td><td>f64</td><td>f64</td><td>f64</td><td>i32</td><td>f64</td><td>f64</td><td>f64</td><td>f64</td><td>i8</td><td>f64</td><td>f64</td><td>f64</td><td>i64</td><td>f64</td><td>i32</td></tr></thead><tbody><tr><td>2187737</td><td>61081</td><td>1</td><td>36</td><td>&quot;&quot;</td><td>0</td><td>1</td><td>1</td><td>945</td><td>1.0</td><td>1</td><td>40</td><td>41</td><td>40.732275</td><td>41.0</td><td>&quot;SVX&quot;</td><td>1</td><td>&quot;SU&quot;</td><td>6</td><td>1.0</td><td>2.0</td><td>1.370899</td><td>3</td><td>0.0</td><td>7.066779</td><td>0.206349</td><td>0.998942</td><td>0.0</td><td>0.244042</td><td>1.058201</td><td>1</td><td>-0.006646</td><td>143.49524</td><td>109.121191</td><td>48.000852</td><td>0.370899</td><td>0.629458</td><td>2</td><td>1.17037</td><td>0.0</td><td>0.0</td><td>-60.70102</td><td>-4.800085</td><td>0.5</td><td>51.418415</td><td>945.0</td><td>1</td><td>0.99347</td><td>0.006349</td><td>0.001058</td><td>1.0</td><td>1</td><td>0.0</td><td>0.0</td><td>0.0</td><td>945</td><td>1.0</td><td>1</td></tr><tr><td>2103048</td><td>57074</td><td>1</td><td>36</td><td>&quot;&quot;</td><td>0</td><td>1</td><td>0</td><td>522</td><td>0.0</td><td>3</td><td>0</td><td>6</td><td>0.597701</td><td>1.0</td><td>&quot;LED&quot;</td><td>4</td><td>&quot;SU&quot;</td><td>9</td><td>1.0</td><td>4.0</td><td>1.450192</td><td>3</td><td>0.0</td><td>5.031274</td><td>0.139847</td><td>0.994253</td><td>0.007663</td><td>0.635792</td><td>1.001916</td><td>1</td><td>0.000759</td><td>291.066118</td><td>230.135664</td><td>49.171021</td><td>0.415709</td><td>0.626398</td><td>1</td><td>1.130268</td><td>0.0</td><td>0.0</td><td>-40.308946</td><td>-4.917102</td><td>0.142857</td><td>53.589342</td><td>174.0</td><td>6</td><td>0.597701</td><td>0.017241</td><td>0.007663</td><td>3.0</td><td>1</td><td>0.0</td><td>0.0</td><td>0.0</td><td>0</td><td>0.0</td><td>0</td></tr><tr><td>2395632</td><td>59096</td><td>1</td><td>36</td><td>&quot;SU&quot;</td><td>0</td><td>1</td><td>0</td><td>2948</td><td>0.523745</td><td>17</td><td>3</td><td>37</td><td>15.892809</td><td>21.0</td><td>&quot;LED&quot;</td><td>10</td><td>&quot;SU&quot;</td><td>17</td><td>1.0</td><td>4.0</td><td>1.358265</td><td>1</td><td>0.474898</td><td>5.633266</td><td>0.157056</td><td>0.994233</td><td>0.009498</td><td>0.087378</td><td>1.21133</td><td>1</td><td>0.432401</td><td>197.470881</td><td>184.515556</td><td>48.434932</td><td>0.354308</td><td>0.623995</td><td>1</td><td>0.976992</td><td>29.375</td><td>1.0</td><td>-44.170655</td><td>5.156507</td><td>0.028571</td><td>51.382776</td><td>173.411765</td><td>34</td><td>0.7568</td><td>0.005767</td><td>0.003392</td><td>3.0</td><td>1</td><td>0.0</td><td>0.0</td><td>0.0</td><td>0</td><td>0.0</td><td>0</td></tr><tr><td>3536933</td><td>60628</td><td>1</td><td>36</td><td>&quot;&quot;</td><td>0</td><td>1</td><td>0</td><td>10</td><td>0.0</td><td>1</td><td>4</td><td>4</td><td>4.0</td><td>4.0</td><td>&quot;UFA&quot;</td><td>1</td><td>&quot;S7&quot;</td><td>3</td><td>1.0</td><td>1.0</td><td>1.0</td><td>2</td><td>0.0</td><td>3.529243</td><td>0.1</td><td>0.9</td><td>0.0</td><td>0.0</td><td>2.0</td><td>2</td><td>0.373171</td><td>81.742386</td><td>26.024476</td><td>47.777778</td><td>0.0</td><td>0.613499</td><td>2</td><td>1.0</td><td>0.0</td><td>0.0</td><td>-23.426576</td><td>-4.777778</td><td>1.0</td><td>43.888889</td><td>10.0</td><td>0</td><td>1.0</td><td>0.3</td><td>0.1</td><td>0.0</td><td>1</td><td>0.0</td><td>0.0</td><td>0.0</td><td>0</td><td>0.0</td><td>0</td></tr><tr><td>634576</td><td>42620</td><td>0</td><td>36</td><td>&quot;&quot;</td><td>0</td><td>1</td><td>1</td><td>13</td><td>1.0</td><td>1</td><td>57</td><td>58</td><td>57.461538</td><td>57.0</td><td>&quot;KUF&quot;</td><td>1</td><td>&quot;SU&quot;</td><td>4</td><td>1.0</td><td>2.0</td><td>1.307692</td><td>3</td><td>0.0</td><td>3.782551</td><td>0.0</td><td>0.923077</td><td>0.0</td><td>0.0</td><td>1.0</td><td>2</td><td>0.299916</td><td>114.562559</td><td>83.135223</td><td>50.0</td><td>0.307692</td><td>0.602357</td><td>1</td><td>1.384615</td><td>0.0</td><td>0.0</td><td>-26.325933</td><td>-5.0</td><td>0.5</td><td>51.153846</td><td>13.0</td><td>1</td><td>1.008097</td><td>0.307692</td><td>0.076923</td><td>1.0</td><td>1</td><td>0.0</td><td>0.0</td><td>0.0</td><td>13</td><td>1.0</td><td>1</td></tr><tr><td>&hellip;</td><td>&hellip;</td><td>&hellip;</td><td>&hellip;</td><td>&hellip;</td><td>&hellip;</td><td>&hellip;</td><td>&hellip;</td><td>&hellip;</td><td>&hellip;</td><td>&hellip;</td><td>&hellip;</td><td>&hellip;</td><td>&hellip;</td><td>&hellip;</td><td>&hellip;</td><td>&hellip;</td><td>&hellip;</td><td>&hellip;</td><td>&hellip;</td><td>&hellip;</td><td>&hellip;</td><td>&hellip;</td><td>&hellip;</td><td>&hellip;</td><td>&hellip;</td><td>&hellip;</td><td>&hellip;</td><td>&hellip;</td><td>&hellip;</td><td>&hellip;</td><td>&hellip;</td><td>&hellip;</td><td>&hellip;</td><td>&hellip;</td><td>&hellip;</td><td>&hellip;</td><td>&hellip;</td><td>&hellip;</td><td>&hellip;</td><td>&hellip;</td><td>&hellip;</td><td>&hellip;</td><td>&hellip;</td><td>&hellip;</td><td>&hellip;</td><td>&hellip;</td><td>&hellip;</td><td>&hellip;</td><td>&hellip;</td><td>&hellip;</td><td>&hellip;</td><td>&hellip;</td><td>&hellip;</td><td>&hellip;</td><td>&hellip;</td><td>&hellip;</td><td>&hellip;</td></tr><tr><td>2359702</td><td>51409</td><td>1</td><td>36</td><td>&quot;&quot;</td><td>0</td><td>1</td><td>0</td><td>1324</td><td>0.419184</td><td>3</td><td>0</td><td>49</td><td>27.710725</td><td>13.0</td><td>&quot;SVO&quot;</td><td>5</td><td>&quot;SU&quot;</td><td>8</td><td>1.0</td><td>2.0</td><td>1.007553</td><td>1</td><td>0.0</td><td>5.441444</td><td>0.148792</td><td>0.997734</td><td>0.0</td><td>0.358115</td><td>1.075529</td><td>1</td><td>0.518454</td><td>105.722217</td><td>82.016626</td><td>47.812388</td><td>0.007553</td><td>0.62641</td><td>1</td><td>0.77719</td><td>0.0</td><td>0.0</td><td>-41.822168</td><td>-4.781239</td><td>0.02</td><td>44.057252</td><td>441.333333</td><td>49</td><td>2.131594</td><td>0.006042</td><td>0.003776</td><td>1.0</td><td>1</td><td>0.0</td><td>0.0</td><td>0.0</td><td>0</td><td>0.0</td><td>0</td></tr><tr><td>3409127</td><td>57323</td><td>1</td><td>36</td><td>&quot;&quot;</td><td>0</td><td>1</td><td>1</td><td>57</td><td>0.701754</td><td>2</td><td>29</td><td>54</td><td>46.54386</td><td>54.0</td><td>&quot;IJK&quot;</td><td>2</td><td>&quot;SU&quot;</td><td>2</td><td>1.0</td><td>2.0</td><td>1.473684</td><td>7</td><td>0.701754</td><td>4.853299</td><td>0.052632</td><td>0.964912</td><td>0.0</td><td>0.0</td><td>1.964912</td><td>1</td><td>0.456482</td><td>77.664534</td><td>51.221153</td><td>43.373257</td><td>0.473684</td><td>0.639476</td><td>3</td><td>1.54386</td><td>0.0</td><td>0.0</td><td>-36.250581</td><td>-4.337326</td><td>0.038462</td><td>51.160313</td><td>28.5</td><td>25</td><td>0.861923</td><td>0.035088</td><td>0.035088</td><td>1.0</td><td>1</td><td>0.0</td><td>0.0</td><td>0.0</td><td>57</td><td>0.701754</td><td>25</td></tr><tr><td>2408860</td><td>60844</td><td>1</td><td>36</td><td>&quot;&quot;</td><td>0</td><td>1</td><td>0</td><td>897</td><td>0.337793</td><td>8</td><td>6</td><td>50</td><td>33.408027</td><td>40.0</td><td>&quot;SVO&quot;</td><td>10</td><td>&quot;SU&quot;</td><td>14</td><td>1.0</td><td>2.0</td><td>1.352843</td><td>2</td><td>0.276477</td><td>5.929663</td><td>0.113712</td><td>0.991081</td><td>0.0</td><td>0.063229</td><td>1.19398</td><td>1</td><td>0.027138</td><td>202.665938</td><td>186.50378</td><td>47.088763</td><td>0.352843</td><td>0.631352</td><td>3</td><td>1.141583</td><td>0.0</td><td>0.0</td><td>-49.160941</td><td>-4.708876</td><td>0.022222</td><td>50.601238</td><td>112.125</td><td>44</td><td>0.835201</td><td>0.015608</td><td>0.011148</td><td>1.0</td><td>1</td><td>0.0</td><td>0.0</td><td>0.0</td><td>0</td><td>0.0</td><td>0</td></tr><tr><td>2139225</td><td>25667</td><td>1</td><td>36</td><td>&quot;SU&quot;</td><td>0</td><td>1</td><td>1</td><td>654</td><td>0.928135</td><td>9</td><td>2</td><td>49</td><td>29.984709</td><td>42.0</td><td>&quot;VVO&quot;</td><td>3</td><td>&quot;S7&quot;</td><td>8</td><td>1.0</td><td>4.0</td><td>1.179664</td><td>3</td><td>0.321101</td><td>4.212571</td><td>0.036697</td><td>0.986239</td><td>0.0</td><td>0.0</td><td>1.671254</td><td>1</td><td>0.471027</td><td>62.472372</td><td>49.458475</td><td>47.74407</td><td>0.085627</td><td>0.627496</td><td>3</td><td>0.900612</td><td>20.0</td><td>1.0</td><td>-29.770569</td><td>5.225593</td><td>0.020833</td><td>47.465307</td><td>72.666667</td><td>47</td><td>0.713922</td><td>0.012232</td><td>0.004587</td><td>3.0</td><td>1</td><td>0.0</td><td>0.0</td><td>0.0</td><td>654</td><td>0.928135</td><td>47</td></tr><tr><td>3424597</td><td>54163</td><td>1</td><td>36</td><td>&quot;SU&quot;</td><td>0</td><td>1</td><td>1</td><td>211</td><td>1.0</td><td>1</td><td>0</td><td>1</td><td>0.654028</td><td>1.0</td><td>&quot;SVO&quot;</td><td>3</td><td>&quot;SU&quot;</td><td>4</td><td>1.0</td><td>2.0</td><td>1.405213</td><td>4</td><td>0.0</td><td>7.008683</td><td>0.407583</td><td>0.995261</td><td>0.0</td><td>0.0</td><td>1.113744</td><td>1</td><td>-0.188769</td><td>224.555265</td><td>165.318067</td><td>49.645678</td><td>0.454976</td><td>0.623052</td><td>1</td><td>0.971564</td><td>0.0</td><td>1.0</td><td>-61.030679</td><td>5.035432</td><td>0.5</td><td>52.927104</td><td>211.0</td><td>1</td><td>0.654028</td><td>0.018957</td><td>0.014218</td><td>1.0</td><td>1</td><td>0.0</td><td>0.0</td><td>0.0</td><td>211</td><td>1.0</td><td>1</td></tr></tbody></table></div>"
      ]
     },
     "execution_count": 8,
     "metadata": {},
     "output_type": "execute_result"
    }
   ],
   "execution_count": 8
  },
  {
   "metadata": {
    "ExecuteTime": {
     "end_time": "2025-09-01T03:51:37.077298Z",
     "start_time": "2025-09-01T03:51:37.065718Z"
    }
   },
   "cell_type": "code",
   "source": [
    "def remove_outliers(df, method='isolation_forest', contamination=0.05):\n",
    "    \"\"\"Remove outliers using various methods\"\"\"\n",
    "\n",
    "    # Get numeric columns only\n",
    "    numeric_cols = [col for col, dtype in df.schema.items() if dtype.is_numeric()]\n",
    "    df_numeric = df.select(numeric_cols)\n",
    "\n",
    "    if method == 'isolation_forest':\n",
    "        iso_forest = IsolationForest(contamination=contamination, random_state=42)\n",
    "        outlier_labels = iso_forest.fit_predict(df_numeric.to_pandas())\n",
    "        mask = outlier_labels == 1\n",
    "\n",
    "    elif method == 'zscore':\n",
    "        # Remove rows where any feature has |z-score| > 3\n",
    "        df_pd = df_numeric.to_pandas()\n",
    "        z_scores = np.abs(zscore(df_pd, nan_policy='omit'))\n",
    "        mask = (z_scores < 3).all(axis=1)\n",
    "\n",
    "    elif method == 'iqr':\n",
    "        # Remove rows outside 1.5*IQR for any feature\n",
    "        df_pd = df_numeric.to_pandas()\n",
    "        Q1 = df_pd.quantile(0.25)\n",
    "        Q3 = df_pd.quantile(0.75)\n",
    "        IQR = Q3 - Q1\n",
    "        mask = ~((df_pd < (Q1 - 1.5 * IQR)) | (df_pd > (Q3 + 1.5 * IQR))).any(axis=1)\n",
    "\n",
    "    # Get outlier indices\n",
    "    outlier_indices = np.where(~mask)[0]\n",
    "\n",
    "    cleaned_df = df.filter(pl.Series('mask', mask))\n",
    "    print(f\"Removed {len(df) - len(cleaned_df):,} outliers ({(len(df) - len(cleaned_df))/len(df)*100:.1f}%)\")\n",
    "\n",
    "    return cleaned_df, outlier_indices\n",
    "\n",
    "def encode_features(df):\n",
    "    # Get categorical columns\n",
    "    categorical_cols = [col for col, dtype in df.schema.items() if not dtype.is_numeric() and col not in ['id', 'ranker_id', 'request_date']]\n",
    "\n",
    "    encoded_df = df.clone()\n",
    "    encoders = {}\n",
    "\n",
    "    for col in categorical_cols:\n",
    "        if col == 'frequent_flyer':\n",
    "            # Special handling for frequent flyer programs (list feature)\n",
    "            # Create binary features for most common programs\n",
    "            all_programs = []\n",
    "            for programs in df[col].to_list():\n",
    "                if isinstance(programs, list):\n",
    "                    all_programs.extend(programs)\n",
    "\n",
    "            from collections import Counter\n",
    "            top_programs = Counter(all_programs).most_common(10)\n",
    "\n",
    "            for program, _ in top_programs:\n",
    "                encoded_df = encoded_df.with_columns([\n",
    "                    pl.col(col).map_elements(\n",
    "                        lambda x: 1 if isinstance(x, list) and program in x else 0,\n",
    "                        return_dtype=pl.Int8\n",
    "                    ).alias(f'ff_{program}')\n",
    "                ])\n",
    "\n",
    "            # Add count of total programs\n",
    "            encoded_df = encoded_df.with_columns([\n",
    "                pl.col(col).map_elements(\n",
    "                    lambda x: len(x) if isinstance(x, list) else 0,\n",
    "                    return_dtype=pl.Int8\n",
    "                ).alias('ff_program_count')\n",
    "            ])\n",
    "\n",
    "        else:\n",
    "            # Target encoding for high-cardinality categoricals like airports/carriers\n",
    "            if col in ['most_common_departure_airport', 'most_common_carrier']:\n",
    "                # Use frequency encoding\n",
    "                value_counts = df[col].value_counts()\n",
    "                freq_map = {row[0]: row[1] for row in value_counts.rows()}\n",
    "\n",
    "                encoded_df = encoded_df.with_columns([\n",
    "                    pl.col(col).replace_strict(freq_map, default=0).alias(f'{col}_frequency')\n",
    "                ])\n",
    "            else:\n",
    "                # Standard label encoding for low-cardinality features\n",
    "                unique_values = df[col].fill_null('MISSING').unique().sort().to_list()\n",
    "                encoders[col] = {val: idx for idx, val in enumerate(unique_values)}\n",
    "\n",
    "                encoded_df = encoded_df.with_columns([\n",
    "                    pl.col(col).fill_null('MISSING').replace(encoders[col]).alias(f'{col}_encoded')\n",
    "\n",
    "                ])\n",
    "\n",
    "    # Remove original categorical columns\n",
    "    final_df = encoded_df.select(pl.exclude(categorical_cols + ['frequent_flyer', 'most_common_departure_airport', 'most_common_carrier']))\n",
    "\n",
    "    return final_df.fill_null(0), encoders\n",
    "\n",
    "def dimensionality_reduction(scaled_features, method='pca', n_components=50):\n",
    "    \"\"\"Apply dimensionality reduction before clustering\"\"\"\n",
    "\n",
    "    if method == 'pca':\n",
    "        reducer = PCA(n_components=n_components, random_state=42)\n",
    "\n",
    "    elif method == 'truncated_svd':\n",
    "        reducer = TruncatedSVD(n_components=n_components, random_state=42)\n",
    "\n",
    "    elif method == 'umap':\n",
    "        reducer = umap.UMAP(n_components=n_components, random_state=42, n_neighbors=15)\n",
    "\n",
    "    reduced_features = reducer.fit_transform(scaled_features)\n",
    "\n",
    "    if hasattr(reducer, 'explained_variance_ratio_'):\n",
    "        total_variance = reducer.explained_variance_ratio_.sum()\n",
    "        print(f\"{method.upper()} retained {total_variance:.3f} of total variance with {n_components} components\")\n",
    "\n",
    "    return reduced_features, reducer\n",
    "\n",
    "\n",
    "def generate_clusters(features, n_clusters=10):\n",
    "    agg = AgglomerativeClustering(n_clusters=n_clusters, linkage='ward')\n",
    "    agg_segments = agg.fit_predict(features)\n",
    "\n",
    "    # Create pseudo-centroids for use in prediction, since AgglomerativeClustering doesn't have centroids\n",
    "    unique_segments = np.unique(agg_segments)\n",
    "    centroids = []\n",
    "    for segment_id in unique_segments:\n",
    "        segment_mask = agg_segments == segment_id\n",
    "        centroid = features[segment_mask].mean(axis=0)\n",
    "        centroids.append(centroid)\n",
    "\n",
    "    centroids = np.array(centroids)\n",
    "\n",
    "    score = silhouette_score(features, agg_segments)\n",
    "\n",
    "    return {\n",
    "        \"labels\": agg_segments,\n",
    "        \"centroids\": centroids,\n",
    "        \"model\": agg,\n",
    "        \"silhouette\": score,\n",
    "        \"n_clusters\": n_clusters\n",
    "    }"
   ],
   "id": "f099f076ab642e51",
   "outputs": [],
   "execution_count": 9
  },
  {
   "metadata": {
    "ExecuteTime": {
     "end_time": "2025-09-01T03:51:39.375902Z",
     "start_time": "2025-09-01T03:51:39.369296Z"
    }
   },
   "cell_type": "code",
   "source": [
    "def analyze_clusters(original_df, cluster_labels, outlier_indices=None):\n",
    "    \"\"\"Analyze the final clusters\"\"\"\n",
    "    # Add cluster labels to original dataframe for analysis\n",
    "    if original_df is not None:\n",
    "\n",
    "        # Check if sizes match\n",
    "        if len(cluster_labels) != (len(original_df) - (len(outlier_indices) if outlier_indices is not None else 0)):\n",
    "            print(f\"Warning: Cluster labels size ({len(cluster_labels)}) doesn't match DataFrame size ({len(original_df)})\")\n",
    "            print(\"This likely happened because outliers were removed during clustering and outlier indices not provided or incorrect.\")\n",
    "\n",
    "        else:\n",
    "            if outlier_indices is not None and len(outlier_indices) > 0:\n",
    "                mask = ~pl.Series(range(len(original_df))).is_in(outlier_indices)\n",
    "                analysis_df = original_df.filter(mask)\n",
    "            else:\n",
    "                analysis_df = original_df.head(len(cluster_labels))\n",
    "\n",
    "            # Now add cluster labels safely\n",
    "            analysis_df = analysis_df.with_columns(pl.Series('cluster', cluster_labels))\n",
    "\n",
    "            # Cluster profiling\n",
    "            print(\"\\n📊 CLUSTER PROFILES:\")\n",
    "            print(\"=\" * 50)\n",
    "\n",
    "            cluster_profiles = analysis_df.group_by('cluster').agg([\n",
    "                pl.col('total_searches').mean().alias('avg_searches'),\n",
    "                pl.col('is_vip').mean().alias('vip_rate'),\n",
    "                pl.col('roundtrip_preference').mean().alias('roundtrip_rate'),\n",
    "                pl.col('avg_booking_lead_days').mean().alias('avg_lead_days'),\n",
    "                pl.col('unique_carriers_used').mean().alias('avg_carriers'),\n",
    "                pl.len().alias('size')\n",
    "            ]).sort('cluster')\n",
    "\n",
    "            print(cluster_profiles)"
   ],
   "id": "9aa29f210384bce7",
   "outputs": [],
   "execution_count": 10
  },
  {
   "metadata": {},
   "cell_type": "markdown",
   "source": "### Generate Customer Clusters",
   "id": "88a507eb3aa0ffb8"
  },
  {
   "metadata": {
    "ExecuteTime": {
     "end_time": "2025-09-01T03:51:43.659208Z",
     "start_time": "2025-09-01T03:51:43.144108Z"
    }
   },
   "cell_type": "code",
   "source": [
    "# 2. Remove outliers\n",
    "cust_data_cleaned, outlier_indices = remove_outliers(cust_data, method='isolation_forest', contamination=0.05)\n",
    "# cust_data_cleaned, outlier_indices = remove_outliers(cust_data, method='zscore')\n",
    "# cust_data_cleaned, outlier_indices = remove_outliers(cust_data, method='iqr')"
   ],
   "id": "c2bdbc014c2a3139",
   "outputs": [
    {
     "name": "stdout",
     "output_type": "stream",
     "text": [
      "Removed 1,647 outliers (5.0%)\n"
     ]
    }
   ],
   "execution_count": 11
  },
  {
   "metadata": {
    "ExecuteTime": {
     "end_time": "2025-08-31T01:45:56.351141Z",
     "start_time": "2025-08-31T01:45:56.324987Z"
    }
   },
   "cell_type": "code",
   "source": [
    "# 2b. Remove specific customer profiles that result in 1 or 2 member clusters\n",
    "# Add profileId to removal list and get its index\n",
    "# profiles_to_remove = [1361953]\n",
    "# profile_mask = cust_data_cleaned['profileId'].is_in(profiles_to_remove)\n",
    "# profile_indices = cust_data_cleaned.with_row_index().filter(profile_mask)['index'].to_list()\n",
    "\n",
    "# Remove from cleaned data and add indices to outlier list\n",
    "# cust_data_cleaned = cust_data_cleaned.filter(~profile_mask)\n",
    "# outlier_indices = list(outlier_indices) + profile_indices"
   ],
   "id": "de1227e4fc145c7d",
   "outputs": [],
   "execution_count": 140
  },
  {
   "metadata": {
    "ExecuteTime": {
     "end_time": "2025-09-01T03:51:47.233137Z",
     "start_time": "2025-09-01T03:51:47.199717Z"
    }
   },
   "cell_type": "code",
   "source": [
    "# 3. Advanced encoding\n",
    "cust_data_encoded, encoders = encode_features(cust_data_cleaned)"
   ],
   "id": "c762a8a8c24396e9",
   "outputs": [],
   "execution_count": 12
  },
  {
   "metadata": {
    "ExecuteTime": {
     "end_time": "2025-08-31T00:13:59.303605Z",
     "start_time": "2025-08-31T00:13:59.266071Z"
    }
   },
   "cell_type": "code",
   "source": [
    "# 3b. Do not remove outliers\n",
    "# outlier_indices = []\n",
    "# cust_data_encoded, encoders = encode_features(cust_data)"
   ],
   "id": "91f10e1a50e9dd49",
   "outputs": [],
   "execution_count": 62
  },
  {
   "metadata": {
    "ExecuteTime": {
     "end_time": "2025-09-01T03:51:49.248845Z",
     "start_time": "2025-09-01T03:51:49.177657Z"
    }
   },
   "cell_type": "code",
   "source": [
    "# 4. Feature scaling with robust scaler\n",
    "scaler = RobustScaler()  # Less sensitive to outliers than StandardScaler\n",
    "scaled_features = scaler.fit_transform(cust_data_encoded.to_pandas())"
   ],
   "id": "c94e8e5e0944dbac",
   "outputs": [],
   "execution_count": 13
  },
  {
   "metadata": {
    "ExecuteTime": {
     "end_time": "2025-09-01T03:51:51.197653Z",
     "start_time": "2025-09-01T03:51:51.174040Z"
    }
   },
   "cell_type": "code",
   "source": [
    "# 5. Dimensionality reduction\n",
    "n_components = 0.95  # retain components that explain 95% of variance\n",
    "# n_components = 30    # retain 30 components\n",
    "\n",
    "reducer = PCA(n_components=n_components, random_state=42)\n",
    "reduced_features = reducer.fit_transform(scaled_features)\n",
    "\n",
    "if hasattr(reducer, 'explained_variance_ratio_'):\n",
    "    total_variance = reducer.explained_variance_ratio_.sum()\n",
    "    print(f\"PCA retained {total_variance:.3f} of total variance with {reduced_features.shape[1]} components\")"
   ],
   "id": "3d0178616ca57c7a",
   "outputs": [
    {
     "name": "stdout",
     "output_type": "stream",
     "text": [
      "PCA retained 0.958 of total variance with 3 components\n"
     ]
    }
   ],
   "execution_count": 14
  },
  {
   "metadata": {
    "ExecuteTime": {
     "end_time": "2025-09-01T03:41:59.864525Z",
     "start_time": "2025-09-01T03:41:16.829553Z"
    }
   },
   "cell_type": "code",
   "source": [
    "# 6. Apply clustering algorithm\n",
    "# clustering_results = generate_clusters(reduced_features)\n",
    "clustering_results = generate_clusters(reduced_features, n_clusters=14)\n",
    "\n",
    "# 7. Clustering results\n",
    "print(\"\\n🏆 CLUSTERING RESULTS:\")\n",
    "print(f\"  Clusters: {clustering_results['n_clusters']:2d}| Silhouette: {clustering_results['silhouette']:.4f} | \")"
   ],
   "id": "c824f3ff16079a95",
   "outputs": [
    {
     "name": "stdout",
     "output_type": "stream",
     "text": [
      "\n",
      "🏆 CLUSTERING RESULTS:\n",
      "  Clusters: 14| Silhouette: 0.5808 | \n"
     ]
    }
   ],
   "execution_count": 18
  },
  {
   "metadata": {
    "ExecuteTime": {
     "end_time": "2025-09-01T03:40:46.097831Z",
     "start_time": "2025-09-01T03:40:46.071527Z"
    }
   },
   "cell_type": "code",
   "source": "analyze_clusters(cust_data_cleaned, clustering_results['labels'])",
   "id": "420bdbd5a24891d5",
   "outputs": [
    {
     "name": "stdout",
     "output_type": "stream",
     "text": [
      "\n",
      "📊 CLUSTER PROFILES:\n",
      "==================================================\n",
      "shape: (14, 7)\n",
      "┌─────────┬──────────────┬──────────┬────────────────┬───────────────┬──────────────┬───────┐\n",
      "│ cluster ┆ avg_searches ┆ vip_rate ┆ roundtrip_rate ┆ avg_lead_days ┆ avg_carriers ┆ size  │\n",
      "│ ---     ┆ ---          ┆ ---      ┆ ---            ┆ ---           ┆ ---          ┆ ---   │\n",
      "│ i64     ┆ f64          ┆ f64      ┆ f64            ┆ f64           ┆ f64          ┆ u32   │\n",
      "╞═════════╪══════════════╪══════════╪════════════════╪═══════════════╪══════════════╪═══════╡\n",
      "│ 0       ┆ 580.375      ┆ 0.0      ┆ 0.520211       ┆ 11.457576     ┆ 6.240625     ┆ 320   │\n",
      "│ 1       ┆ 1391.428571  ┆ 1.0      ┆ 1.0            ┆ 18.328623     ┆ 5.714286     ┆ 7     │\n",
      "│ 2       ┆ 1001.214286  ┆ 1.0      ┆ 0.9144         ┆ 10.075906     ┆ 6.142857     ┆ 14    │\n",
      "│ 3       ┆ 477.23813    ┆ 0.0      ┆ 0.465066       ┆ 15.622722     ┆ 8.107378     ┆ 2738  │\n",
      "│ 4       ┆ 340.87718    ┆ 0.003067 ┆ 0.570304       ┆ 14.834675     ┆ 4.741422     ┆ 20868 │\n",
      "│ …       ┆ …            ┆ …        ┆ …              ┆ …             ┆ …            ┆ …     │\n",
      "│ 9       ┆ 774.779698   ┆ 0.0      ┆ 0.678885       ┆ 16.205855     ┆ 5.383286     ┆ 4571  │\n",
      "│ 10      ┆ 904.447368   ┆ 0.0      ┆ 0.655282       ┆ 16.815201     ┆ 11.457237    ┆ 912   │\n",
      "│ 11      ┆ 2096.0       ┆ 1.0      ┆ 1.0            ┆ 20.774425     ┆ 8.0          ┆ 2     │\n",
      "│ 12      ┆ 5.048507     ┆ 0.0      ┆ 0.481825       ┆ 14.594799     ┆ 1.323383     ┆ 804   │\n",
      "│ 13      ┆ 483.962963   ┆ 1.0      ┆ 0.799965       ┆ 14.465985     ┆ 6.185185     ┆ 27    │\n",
      "└─────────┴──────────────┴──────────┴────────────────┴───────────────┴──────────────┴───────┘\n"
     ]
    }
   ],
   "execution_count": 16
  },
  {
   "metadata": {
    "ExecuteTime": {
     "end_time": "2025-08-31T00:55:12.542543Z",
     "start_time": "2025-08-31T00:55:12.514853Z"
    }
   },
   "cell_type": "code",
   "source": "cust_data_cleaned.with_columns(pl.Series('customer_segment', clustering_results['labels'])).filter(pl.col('customer_segment') == 7).head(100)",
   "id": "9649a730d541c4a4",
   "outputs": [
    {
     "data": {
      "text/plain": [
       "shape: (1, 59)\n",
       "┌───────────┬────────────┬─────┬────────────┬───┬────────────┬────────────┬────────────┬───────────┐\n",
       "│ profileId ┆ company_id ┆ sex ┆ nationalit ┆ … ┆ corp_searc ┆ corp_round ┆ corp_plann ┆ customer_ │\n",
       "│ ---       ┆ ---        ┆ --- ┆ y          ┆   ┆ h_volume   ┆ trip_pref  ┆ ing_varian ┆ segment   │\n",
       "│ i64       ┆ i64        ┆ i8  ┆ ---        ┆   ┆ ---        ┆ ---        ┆ ce         ┆ ---       │\n",
       "│           ┆            ┆     ┆ i64        ┆   ┆ i64        ┆ f64        ┆ ---        ┆ i64       │\n",
       "│           ┆            ┆     ┆            ┆   ┆            ┆            ┆ i32        ┆           │\n",
       "╞═══════════╪════════════╪═════╪════════════╪═══╪════════════╪════════════╪════════════╪═══════════╡\n",
       "│ 1361953   ┆ 43628      ┆ 0   ┆ 36         ┆ … ┆ 0          ┆ 0.0        ┆ 0          ┆ 7         │\n",
       "└───────────┴────────────┴─────┴────────────┴───┴────────────┴────────────┴────────────┴───────────┘"
      ],
      "text/html": [
       "<div><style>\n",
       ".dataframe > thead > tr,\n",
       ".dataframe > tbody > tr {\n",
       "  text-align: right;\n",
       "  white-space: pre-wrap;\n",
       "}\n",
       "</style>\n",
       "<small>shape: (1, 59)</small><table border=\"1\" class=\"dataframe\"><thead><tr><th>profileId</th><th>company_id</th><th>sex</th><th>nationality</th><th>frequent_flyer</th><th>is_vip</th><th>by_self</th><th>has_corp_codes</th><th>total_searches</th><th>roundtrip_preference</th><th>unique_routes_searched</th><th>min_booking_lead_days</th><th>max_booking_lead_days</th><th>avg_booking_lead_days</th><th>median_booking_lead_days</th><th>most_common_departure_airport</th><th>unique_departure_airports</th><th>most_common_carrier</th><th>unique_carriers_used</th><th>min_cabin_class</th><th>max_cabin_class</th><th>avg_cabin_class</th><th>weekday_preference</th><th>weekend_travel_rate</th><th>time_of_day_variance</th><th>night_flight_preference</th><th>route_loyalty</th><th>hub_preference</th><th>short_haul_preference</th><th>connection_tolerance</th><th>preferred_duration_quartile</th><th>price_to_duration_sensitivity</th><th>avg_price_per_minute</th><th>price_per_minute_variance</th><th>price_position_preference</th><th>premium_economy_preference</th><th>consistent_price_tier</th><th>preferred_price_tier</th><th>baggage_qty_preference</th><th>baggage_weight_preference</th><th>loyalty_program_utilization</th><th>convenience_priority_score</th><th>loyalty_vs_price_index</th><th>planning_consistency_score</th><th>luxury_index</th><th>search_intensity_per_route</th><th>lead_time_variance</th><th>lead_time_skew</th><th>carrier_diversity</th><th>airport_diversity</th><th>cabin_class_range</th><th>customer_tier</th><th>vip_search_intensity</th><th>vip_carrier_diversity</th><th>vip_cabin_preference</th><th>corp_search_volume</th><th>corp_roundtrip_pref</th><th>corp_planning_variance</th><th>customer_segment</th></tr><tr><td>i64</td><td>i64</td><td>i8</td><td>i64</td><td>str</td><td>i8</td><td>i8</td><td>i8</td><td>u32</td><td>f64</td><td>u32</td><td>i32</td><td>i32</td><td>f64</td><td>f64</td><td>str</td><td>u32</td><td>str</td><td>u32</td><td>f64</td><td>f64</td><td>f64</td><td>i8</td><td>f64</td><td>f64</td><td>f64</td><td>f64</td><td>f64</td><td>f64</td><td>f64</td><td>i32</td><td>f64</td><td>f64</td><td>f64</td><td>f64</td><td>f64</td><td>f64</td><td>i32</td><td>f64</td><td>f64</td><td>f64</td><td>f64</td><td>f64</td><td>f64</td><td>f64</td><td>f64</td><td>i32</td><td>f64</td><td>f64</td><td>f64</td><td>f64</td><td>i8</td><td>f64</td><td>f64</td><td>f64</td><td>i64</td><td>f64</td><td>i32</td><td>i64</td></tr></thead><tbody><tr><td>1361953</td><td>43628</td><td>0</td><td>36</td><td>&quot;&quot;</td><td>1</td><td>1</td><td>0</td><td>7502</td><td>1.0</td><td>1</td><td>11</td><td>12</td><td>11.844308</td><td>12.0</td><td>&quot;SVO&quot;</td><td>3</td><td>&quot;SU&quot;</td><td>4</td><td>1.0</td><td>1.0</td><td>1.0</td><td>3</td><td>0.0</td><td>5.358169</td><td>0.143962</td><td>0.999867</td><td>0.0</td><td>0.650583</td><td>1.0</td><td>1</td><td>0.011864</td><td>74.821299</td><td>29.334728</td><td>48.613918</td><td>0.0</td><td>0.623578</td><td>1</td><td>0.730738</td><td>0.0</td><td>0.0</td><td>-43.522373</td><td>-4.861392</td><td>0.5</td><td>44.306959</td><td>7502.0</td><td>1</td><td>0.987026</td><td>0.000533</td><td>0.0004</td><td>0.0</td><td>3</td><td>7502.0</td><td>0.000533</td><td>1.0</td><td>0</td><td>0.0</td><td>0</td><td>7</td></tr></tbody></table></div>"
      ]
     },
     "execution_count": 101,
     "metadata": {},
     "output_type": "execute_result"
    }
   ],
   "execution_count": 101
  },
  {
   "metadata": {
    "ExecuteTime": {
     "end_time": "2025-08-31T01:15:53.120355Z",
     "start_time": "2025-08-31T01:15:53.106501Z"
    }
   },
   "cell_type": "code",
   "source": [
    "def alternative_clustering_methods(features):\n",
    "    \"\"\"Try different clustering algorithms\"\"\"\n",
    "\n",
    "    results = {}\n",
    "\n",
    "    # 1. Gaussian Mixture Models\n",
    "    print(\"Testing Gaussian Mixture Models...\")\n",
    "    best_gmm_score = -1\n",
    "    best_gmm_n = 0\n",
    "\n",
    "    for n_clusters in [6, 7, 8, 9, 10, 11]:\n",
    "        gmm = GaussianMixture(\n",
    "            n_components=n_clusters,\n",
    "            max_iter=200,\n",
    "            random_state=42,\n",
    "            covariance_type='full')\n",
    "        labels = gmm.fit_predict(features)\n",
    "\n",
    "        if len(set(labels)) > 1:  # Ensure we have multiple clusters\n",
    "            score = silhouette_score(features, labels)\n",
    "            if score > best_gmm_score:\n",
    "                best_gmm_score = score\n",
    "                best_gmm_n = n_clusters\n",
    "\n",
    "    # Fit best GMM\n",
    "    best_gmm = GaussianMixture(n_components=best_gmm_n, random_state=42, covariance_type='full')\n",
    "    gmm_labels = best_gmm.fit_predict(features)\n",
    "    results['gmm'] = {\n",
    "        'labels': gmm_labels,\n",
    "        'silhouette': silhouette_score(features, gmm_labels),\n",
    "        'n_clusters': len(set(gmm_labels))\n",
    "    }\n",
    "\n",
    "    # 2. DBSCAN\n",
    "    print(\"Testing DBSCAN...\")\n",
    "    # Test different eps values\n",
    "    best_dbscan_score = -1\n",
    "    best_dbscan_eps = 0\n",
    "\n",
    "    # Determine eps values based on feature data\n",
    "    neighbors = NearestNeighbors(n_neighbors=50)\n",
    "    distances, _ = neighbors.fit(features).kneighbors(features)\n",
    "    k_distances = np.sort(distances[:, -1])\n",
    "\n",
    "    # Use percentiles of actual distances in your data\n",
    "    eps_values = [\n",
    "        np.percentile(k_distances, 50),   # Median distance\n",
    "        np.percentile(k_distances, 70),   # 70th percentile\n",
    "        np.percentile(k_distances, 85),   # 85th percentile\n",
    "        np.percentile(k_distances, 95),   # 95th percentile\n",
    "    ]\n",
    "    print(f\"Suggested eps values based on feature data: {[f'{eps:.3f}' for eps in eps_values]}\")\n",
    "\n",
    "    for eps in eps_values:\n",
    "        dbscan = DBSCAN(eps=eps, min_samples=50)\n",
    "        labels = dbscan.fit_predict(features)\n",
    "\n",
    "        if len(set(labels)) > 1 and -1 not in labels:  # Ensure valid clustering\n",
    "            score = silhouette_score(features, labels)\n",
    "            if score > best_dbscan_score:\n",
    "                best_dbscan_score = score\n",
    "                best_dbscan_eps = eps\n",
    "            else:\n",
    "                print(f'DBSCAN results score {score:.4f} with eps {eps:.2f} was not better than {best_dbscan_score:.4f}')\n",
    "        else:\n",
    "            print(f\"DBSCAN did not produce any clusters for eps={eps}\")\n",
    "\n",
    "    if best_dbscan_eps > 0:\n",
    "        best_dbscan = DBSCAN(eps=best_dbscan_eps, min_samples=50)\n",
    "        dbscan_labels = best_dbscan.fit_predict(features)\n",
    "        results['dbscan'] = {\n",
    "            'labels': dbscan_labels,\n",
    "            'silhouette': silhouette_score(features, dbscan_labels),\n",
    "            'n_clusters': len(set(dbscan_labels)) - (1 if -1 in dbscan_labels else 0)\n",
    "        }\n",
    "    else:\n",
    "        print('DBSCAN did not produce any clusters...')\n",
    "\n",
    "    # 3. Agglomerative Clustering\n",
    "    print(\"Testing Agglomerative Clustering...\")\n",
    "    best_agg_score = -1\n",
    "    best_agg_n = 0\n",
    "\n",
    "    for n_clusters in [6, 7, 8, 9, 10, 11]:\n",
    "        agg = AgglomerativeClustering(n_clusters=n_clusters, linkage='ward')\n",
    "        labels = agg.fit_predict(features)\n",
    "\n",
    "        score = silhouette_score(features, labels)\n",
    "        if score > best_agg_score:\n",
    "            best_agg_score = score\n",
    "            best_agg_n = n_clusters\n",
    "\n",
    "    best_agg = AgglomerativeClustering(n_clusters=best_agg_n, linkage='ward')\n",
    "    agg_labels = best_agg.fit_predict(features)\n",
    "    results['agglomerative'] = {\n",
    "        'labels': agg_labels,\n",
    "        'silhouette': silhouette_score(features, agg_labels),\n",
    "        'n_clusters': len(set(agg_labels))\n",
    "    }\n",
    "\n",
    "    try:\n",
    "        for method, m_results in results.items():\n",
    "            print(f\"{method.upper():15s} | Silhouette: {m_results['silhouette']:.4f} | Clusters: {m_results['n_clusters']:2d}\")\n",
    "\n",
    "        # Select best method\n",
    "        best_method = max(results.items(), key=lambda x: x[1]['silhouette'])\n",
    "        print(f\"\\n🥇 Best method: {best_method[0].upper()} (Silhouette: {best_method[1]['silhouette']:.4f})\")\n",
    "    except Exception as e:\n",
    "        print(f\"Error: {e}\")\n",
    "\n",
    "    return results\n"
   ],
   "id": "28702e885dc9e703",
   "outputs": [],
   "execution_count": 117
  },
  {
   "metadata": {
    "ExecuteTime": {
     "end_time": "2025-09-01T03:52:09.441970Z",
     "start_time": "2025-09-01T03:52:09.436440Z"
    }
   },
   "cell_type": "code",
   "source": [
    "def optimum_num_clusters(features):\n",
    "    best_agg_score = -1\n",
    "    best_agg_n = 0\n",
    "\n",
    "    for n_clusters in [9, 10, 11, 12, 13, 14, 15, 16, 17]:\n",
    "        agg = AgglomerativeClustering(n_clusters=n_clusters, linkage='ward')\n",
    "        labels = agg.fit_predict(features)\n",
    "\n",
    "        score = silhouette_score(features, labels)\n",
    "        if score > best_agg_score:\n",
    "            best_agg_score = score\n",
    "            best_agg_n = n_clusters\n",
    "\n",
    "    best_agg = AgglomerativeClustering(n_clusters=best_agg_n, linkage='ward')\n",
    "    agg_labels = best_agg.fit_predict(features)\n",
    "\n",
    "    print(f\"Best number of clusters: {best_agg_n}, with Silhouette score: {best_agg_score:.4f}\")\n",
    "\n",
    "    return {\n",
    "        'labels': agg_labels,\n",
    "        'silhouette': silhouette_score(features, agg_labels),\n",
    "        'n_clusters': len(set(agg_labels))\n",
    "    }"
   ],
   "id": "a5c930b63ab64129",
   "outputs": [],
   "execution_count": 15
  },
  {
   "metadata": {
    "ExecuteTime": {
     "end_time": "2025-09-01T03:58:08.156850Z",
     "start_time": "2025-09-01T03:52:12.185070Z"
    }
   },
   "cell_type": "code",
   "source": "opt_results = optimum_num_clusters(reduced_features)",
   "id": "ba3b403935482731",
   "outputs": [
    {
     "name": "stdout",
     "output_type": "stream",
     "text": [
      "Best number of clusters: 14, with Silhouette score: 0.9000\n"
     ]
    }
   ],
   "execution_count": 16
  },
  {
   "metadata": {
    "ExecuteTime": {
     "end_time": "2025-09-01T04:06:48.553435Z",
     "start_time": "2025-09-01T04:06:48.524965Z"
    }
   },
   "cell_type": "code",
   "source": "analyze_clusters(cust_data_encoded, opt_results['labels'])",
   "id": "494ca6470251a93f",
   "outputs": [
    {
     "name": "stdout",
     "output_type": "stream",
     "text": [
      "\n",
      "📊 CLUSTER PROFILES:\n",
      "==================================================\n",
      "shape: (14, 7)\n",
      "┌─────────┬──────────────┬──────────┬────────────────┬───────────────┬──────────────┬───────┐\n",
      "│ cluster ┆ avg_searches ┆ vip_rate ┆ roundtrip_rate ┆ avg_lead_days ┆ avg_carriers ┆ size  │\n",
      "│ ---     ┆ ---          ┆ ---      ┆ ---            ┆ ---           ┆ ---          ┆ ---   │\n",
      "│ i64     ┆ f64          ┆ f64      ┆ f64            ┆ f64           ┆ f64          ┆ u32   │\n",
      "╞═════════╪══════════════╪══════════╪════════════════╪═══════════════╪══════════════╪═══════╡\n",
      "│ 0       ┆ 507.730658   ┆ 0.000362 ┆ 0.466978       ┆ 15.340529     ┆ 8.086768     ┆ 2766  │\n",
      "│ 1       ┆ 127.217822   ┆ 1.0      ┆ 0.436559       ┆ 13.501157     ┆ 4.475248     ┆ 101   │\n",
      "│ 2       ┆ 835.2        ┆ 1.0      ┆ 0.840812       ┆ 12.870281     ┆ 7.15         ┆ 20    │\n",
      "│ 3       ┆ 1517.888889  ┆ 1.0      ┆ 0.988383       ┆ 13.803028     ┆ 7.777778     ┆ 9     │\n",
      "│ 4       ┆ 875.488869   ┆ 0.0      ┆ 0.607001       ┆ 17.168671     ┆ 10.642921    ┆ 1123  │\n",
      "│ …       ┆ …            ┆ …        ┆ …              ┆ …             ┆ …            ┆ …     │\n",
      "│ 9       ┆ 2093.666667  ┆ 1.0      ┆ 1.0            ┆ 14.128538     ┆ 6.666667     ┆ 3     │\n",
      "│ 10      ┆ 791.2        ┆ 1.0      ┆ 0.762833       ┆ 10.184565     ┆ 6.32         ┆ 25    │\n",
      "│ 11      ┆ 445.980456   ┆ 0.0      ┆ 0.57341        ┆ 14.610317     ┆ 4.674746     ┆ 22155 │\n",
      "│ 12      ┆ 1216.4       ┆ 1.0      ┆ 1.0            ┆ 14.959586     ┆ 6.6          ┆ 5     │\n",
      "│ 13      ┆ 1273.0       ┆ 1.0      ┆ 1.0            ┆ 24.787233     ┆ 9.0          ┆ 2     │\n",
      "└─────────┴──────────────┴──────────┴────────────────┴───────────────┴──────────────┴───────┘\n"
     ]
    }
   ],
   "execution_count": 17
  },
  {
   "metadata": {
    "ExecuteTime": {
     "end_time": "2025-09-01T04:07:16.271218Z",
     "start_time": "2025-09-01T04:07:16.267370Z"
    }
   },
   "cell_type": "code",
   "source": "cust_data_cleaned = cust_data_cleaned.with_columns(pl.Series('customer_segment', opt_results['labels']))",
   "id": "817fab4badbe13de",
   "outputs": [],
   "execution_count": 19
  },
  {
   "metadata": {
    "ExecuteTime": {
     "end_time": "2025-09-01T04:07:20.151334Z",
     "start_time": "2025-09-01T04:07:20.137857Z"
    }
   },
   "cell_type": "code",
   "source": "cust_data_cleaned.group_by('customer_segment').len()",
   "id": "ef21aaffb6dd7706",
   "outputs": [
    {
     "data": {
      "text/plain": [
       "shape: (14, 2)\n",
       "┌──────────────────┬──────┐\n",
       "│ customer_segment ┆ len  │\n",
       "│ ---              ┆ ---  │\n",
       "│ i64              ┆ u32  │\n",
       "╞══════════════════╪══════╡\n",
       "│ 3                ┆ 9    │\n",
       "│ 2                ┆ 20   │\n",
       "│ 6                ┆ 5005 │\n",
       "│ 7                ┆ 1    │\n",
       "│ 5                ┆ 19   │\n",
       "│ …                ┆ …    │\n",
       "│ 10               ┆ 25   │\n",
       "│ 1                ┆ 101  │\n",
       "│ 0                ┆ 2766 │\n",
       "│ 8                ┆ 41   │\n",
       "│ 9                ┆ 3    │\n",
       "└──────────────────┴──────┘"
      ],
      "text/html": [
       "<div><style>\n",
       ".dataframe > thead > tr,\n",
       ".dataframe > tbody > tr {\n",
       "  text-align: right;\n",
       "  white-space: pre-wrap;\n",
       "}\n",
       "</style>\n",
       "<small>shape: (14, 2)</small><table border=\"1\" class=\"dataframe\"><thead><tr><th>customer_segment</th><th>len</th></tr><tr><td>i64</td><td>u32</td></tr></thead><tbody><tr><td>3</td><td>9</td></tr><tr><td>2</td><td>20</td></tr><tr><td>6</td><td>5005</td></tr><tr><td>7</td><td>1</td></tr><tr><td>5</td><td>19</td></tr><tr><td>&hellip;</td><td>&hellip;</td></tr><tr><td>10</td><td>25</td></tr><tr><td>1</td><td>101</td></tr><tr><td>0</td><td>2766</td></tr><tr><td>8</td><td>41</td></tr><tr><td>9</td><td>3</td></tr></tbody></table></div>"
      ]
     },
     "execution_count": 20,
     "metadata": {},
     "output_type": "execute_result"
    }
   ],
   "execution_count": 20
  },
  {
   "metadata": {
    "ExecuteTime": {
     "end_time": "2025-09-01T04:07:35.838106Z",
     "start_time": "2025-09-01T04:07:35.807445Z"
    }
   },
   "cell_type": "code",
   "source": [
    "# Get profileId for lone member of cluster 7\n",
    "cust_data_cleaned.filter(pl.col('customer_segment') == 7)['profileId']"
   ],
   "id": "c10b24659f13ec2f",
   "outputs": [
    {
     "data": {
      "text/plain": [
       "shape: (1,)\n",
       "Series: 'profileId' [i64]\n",
       "[\n",
       "\t1361953\n",
       "]"
      ],
      "text/html": [
       "<div><style>\n",
       ".dataframe > thead > tr,\n",
       ".dataframe > tbody > tr {\n",
       "  text-align: right;\n",
       "  white-space: pre-wrap;\n",
       "}\n",
       "</style>\n",
       "<small>shape: (1,)</small><table border=\"1\" class=\"dataframe\"><thead><tr><th>profileId</th></tr><tr><td>i64</td></tr></thead><tbody><tr><td>1361953</td></tr></tbody></table></div>"
      ]
     },
     "execution_count": 21,
     "metadata": {},
     "output_type": "execute_result"
    }
   ],
   "execution_count": 21
  },
  {
   "metadata": {
    "ExecuteTime": {
     "end_time": "2025-09-01T04:07:40.976255Z",
     "start_time": "2025-09-01T04:07:40.935297Z"
    }
   },
   "cell_type": "code",
   "source": [
    "# Check how many searches exist for the customer\n",
    "data.filter(pl.col('profileId') == 1361953)['ranker_id'].unique()"
   ],
   "id": "b7678f774ecf85a5",
   "outputs": [
    {
     "data": {
      "text/plain": [
       "shape: (1,)\n",
       "Series: 'ranker_id' [str]\n",
       "[\n",
       "\t\"d81120a52d824f00aa68939334a7d9…\n",
       "]"
      ],
      "text/html": [
       "<div><style>\n",
       ".dataframe > thead > tr,\n",
       ".dataframe > tbody > tr {\n",
       "  text-align: right;\n",
       "  white-space: pre-wrap;\n",
       "}\n",
       "</style>\n",
       "<small>shape: (1,)</small><table border=\"1\" class=\"dataframe\"><thead><tr><th>ranker_id</th></tr><tr><td>str</td></tr></thead><tbody><tr><td>&quot;d81120a52d824f00aa68939334a7d9…</td></tr></tbody></table></div>"
      ]
     },
     "execution_count": 22,
     "metadata": {},
     "output_type": "execute_result"
    }
   ],
   "execution_count": 22
  },
  {
   "metadata": {
    "ExecuteTime": {
     "end_time": "2025-09-01T04:07:46.561560Z",
     "start_time": "2025-09-01T04:07:45.901307Z"
    }
   },
   "cell_type": "code",
   "source": [
    "# Get customer data for lone member of cluster 7\n",
    "dup_cust_data = data.filter(pl.col('profileId') == 1361953)\n",
    "dup_cust = cust_data_cleaned.filter(pl.col('profileId') == 1361953)\n",
    "\n",
    "# Generate new profileId and ranker_id for adding duplicate data\n",
    "new_profile_id = (max(data['profileId'].unique()) + 1)\n",
    "new_ranker_id = str(uuid.uuid4()).replace('-', '')\n",
    "assert new_profile_id not in data['profileId'].unique().to_list(), f\"ProfileId {new_profile_id} already exists\"\n",
    "assert new_ranker_id not in data['ranker_id'].unique().to_list(), f\"RankerId {new_ranker_id} already exists\"\n",
    "\n",
    "# Create data sets for duplicated customer data rows and features\n",
    "new_cust_data = dup_cust_data.with_columns([\n",
    "    pl.lit(new_profile_id).cast(pl.Int64).alias('profileId'),\n",
    "    pl.lit(new_ranker_id).alias('ranker_id')\n",
    "])\n",
    "new_cust = dup_cust.with_columns([\n",
    "    pl.lit(new_profile_id).cast(pl.Int64).alias('profileId')\n",
    "])\n",
    "\n",
    "# Append new customer data to original data\n",
    "data = data.vstack(new_cust_data)\n",
    "cust_data_cleaned = cust_data_cleaned.vstack(new_cust)\n"
   ],
   "id": "8a48160ba6cb8725",
   "outputs": [],
   "execution_count": 23
  },
  {
   "metadata": {
    "ExecuteTime": {
     "end_time": "2025-09-01T04:08:00.272740Z",
     "start_time": "2025-09-01T04:08:00.183231Z"
    }
   },
   "cell_type": "code",
   "source": [
    "# Save customer features\n",
    "cust_data_cleaned.write_parquet('data/customer_features.parquet')"
   ],
   "id": "10a30fd623b9b51b",
   "outputs": [],
   "execution_count": 24
  },
  {
   "metadata": {
    "ExecuteTime": {
     "end_time": "2025-08-31T01:51:46.372245Z",
     "start_time": "2025-08-31T01:51:46.186841Z"
    }
   },
   "cell_type": "code",
   "source": [
    "del cust_data\n",
    "del cust_data_cleaned\n",
    "del cust_data_encoded\n",
    "del scaled_features\n",
    "del reduced_features\n",
    "del scaler\n",
    "gc.collect()"
   ],
   "id": "786d5f4e554c8cef",
   "outputs": [
    {
     "data": {
      "text/plain": [
       "1752"
      ]
     },
     "execution_count": 147,
     "metadata": {},
     "output_type": "execute_result"
    }
   ],
   "execution_count": 147
  },
  {
   "metadata": {},
   "cell_type": "markdown",
   "source": "### Engineer Flight Features",
   "id": "848a02e6f5a92295"
  },
  {
   "metadata": {
    "ExecuteTime": {
     "end_time": "2025-08-31T01:51:50.173941Z",
     "start_time": "2025-08-31T01:51:50.149584Z"
    }
   },
   "cell_type": "code",
   "source": [
    "CUSTOMER_FEATURES = ['companyID', 'sex', 'nationality', 'isVip', 'bySelf']\n",
    "UNNEEDED_FEATURES = [\n",
    "    'frequentFlyer', 'frequent_flyer', 'isAccess3D', 'requestDate', 'searchRoute', 'totalPrice', 'taxes', 'legs0_arrivalAt', 'legs0_duration'\n",
    "]\n",
    "UNNEEDED_FEATURES_REGEX = r'^legs[01].*$|^leg0_duration_q.*$|^price_q.*$'\n",
    "POLARS_INDEX_COL = ['__index_level_0__']\n",
    "\n",
    "\n",
    "# function to get column groups for the flight segments features that will be used in engineering the new features\n",
    "def get_column_groups(df: pl.DataFrame) -> Dict[str, List[str]]:\n",
    "    columns = df.columns\n",
    "    return {\n",
    "        'leg0_duration': [col for col in columns if col.startswith('legs0_segments') and col.endswith('_duration')],\n",
    "        'leg1_duration': [col for col in columns if col.startswith('legs1_segments') and col.endswith('_duration')],\n",
    "        'mkt_carrier': [col for col in columns if col.endswith('marketingCarrier_code')],\n",
    "        'op_carrier': [col for col in columns if col.endswith('operatingCarrier_code')],\n",
    "        'aircraft': [col for col in columns if col.endswith('aircraft_code')],\n",
    "        'airport': [col for col in columns if 'airport_iata' in col or 'airport_city_iata' in col],\n",
    "        'seats_avail': [col for col in columns if col.endswith('seatsAvailable')],\n",
    "        'baggage_type': [col for col in columns if 'baggageAllowance_weightMeasurementType' in col],\n",
    "        'baggage_allowance': [col for col in columns if 'baggageAllowance_quantity' in col],\n",
    "        'cabin_class': [col for col in columns if 'cabinClass' in col]\n",
    "    }\n",
    "\n",
    "\n",
    "def create_basic_features(col_groups: Dict[str, List[str]]) -> List[pl.Expr]:\n",
    "    \"\"\"Create basic customer and route characteristics features.\"\"\"\n",
    "    return [\n",
    "        pl.col('isAccess3D').cast(pl.Int32).alias('is_access3D'),\n",
    "\n",
    "        # Normalized frequentFlyer program, addressing null values as null strings, and translating UT program\n",
    "        pl.col('frequentFlyer').str.replace('- ЮТэйр ЗАО', 'UT').fill_null('').alias('frequent_flyer'),\n",
    "\n",
    "        # Route characteristics\n",
    "        pl.col('legs1_departureAt').is_not_null().cast(pl.Int8).alias('is_roundtrip'),\n",
    "        pl.col('searchRoute').str.slice(0, 3).alias('route_origin'),\n",
    "\n",
    "        # Hub features\n",
    "        pl.col('searchRoute').str.slice(0, 3).is_in(MAJOR_HUBS).cast(pl.Int32).alias('origin_is_major_hub'),\n",
    "        pl.col('searchRoute').str.slice(3, 3).is_in(MAJOR_HUBS).cast(pl.Int32).alias('destination_is_major_hub'),\n",
    "        pl.max_horizontal([\n",
    "            pl.col(col).is_in(MAJOR_HUBS) for col in col_groups['airport']\n",
    "        ]).cast(pl.Int32).alias('includes_major_hub'),\n",
    "    ]\n",
    "\n",
    "\n",
    "def create_segment_features(col_groups: Dict[str, List[str]]) -> List[pl.Expr]:\n",
    "    \"\"\"Create flight segment related features.\"\"\"\n",
    "    return [\n",
    "        # Number of segments per leg\n",
    "        pl.concat_list([pl.col(col) for col in col_groups['leg0_duration']])\n",
    "        .list.drop_nulls().list.len().alias('leg0_num_segments'),\n",
    "\n",
    "        pl.concat_list([pl.col(col) for col in col_groups['leg1_duration']])\n",
    "        .list.drop_nulls().list.len().alias('leg1_num_segments'),\n",
    "\n",
    "        # Total segments\n",
    "        pl.sum_horizontal([pl.col(col).is_not_null() for col in col_groups['aircraft']])\n",
    "        .alias('total_segments'),\n",
    "\n",
    "        # Flight time in minutes (sum of segment durations)\n",
    "        pl.sum_horizontal([\n",
    "            parse_duration_to_minutes(col)\n",
    "            for col in col_groups['leg0_duration']\n",
    "        ]).alias('leg0_flight_time_min'),\n",
    "\n",
    "        pl.sum_horizontal([\n",
    "            parse_duration_to_minutes(col)\n",
    "            for col in col_groups['leg1_duration']\n",
    "        ]).alias('leg1_flight_time_min'),\n",
    "    ]\n",
    "\n",
    "\n",
    "def create_time_features() -> List[pl.Expr]:\n",
    "    \"\"\"Create time-based features.\"\"\"\n",
    "    return [\n",
    "        # Booking lead time\n",
    "        ((pl.col('legs0_departureAt').str.to_datetime() -\n",
    "            pl.col('requestDate').cast(pl.Datetime)) / pl.duration(days=1)).cast(pl.Int32).alias('booking_lead_days'),\n",
    "\n",
    "        # Trip duration features\n",
    "        parse_duration_to_minutes('legs0_duration').alias('leg0_duration_minutes'),\n",
    "        parse_duration_to_minutes('legs1_duration').alias('leg1_duration_minutes'),\n",
    "        (parse_duration_to_minutes('legs0_duration') + parse_duration_to_minutes('legs1_duration')).alias('trip_duration_minutes'),\n",
    "\n",
    "        # Departure/arrival hours\n",
    "        pl.col('legs0_departureAt').str.to_datetime().dt.hour().alias('leg0_departure_hour'),\n",
    "        pl.col('legs0_departureAt').str.to_datetime().dt.weekday().alias('leg0_departure_weekday'),\n",
    "        pl.col('legs0_arrivalAt').str.to_datetime().dt.hour().alias('leg0_arrival_hour'),\n",
    "        pl.col('legs0_arrivalAt').str.to_datetime().dt.weekday().alias('leg0_arrival_weekday'),\n",
    "        pl.col('legs1_departureAt').str.to_datetime().dt.hour().alias('leg1_departure_hour'),\n",
    "        pl.col('legs1_arrivalAt').str.to_datetime().dt.hour().alias('leg1_arrival_hour'),\n",
    "        pl.col('legs1_departureAt').str.to_datetime().dt.weekday().alias('leg1_departure_weekday'),\n",
    "        pl.col('legs1_arrivalAt').str.to_datetime().dt.weekday().alias('leg1_arrival_weekday'),\n",
    "    ]\n",
    "\n",
    "\n",
    "def create_carrier_features(col_groups: Dict[str, List[str]]) -> List[pl.Expr]:\n",
    "    \"\"\"Create carrier and aircraft features.\"\"\"\n",
    "    # Create combined carrier column group for carrier features\n",
    "    all_carrier_cols = col_groups['mkt_carrier'] + col_groups['op_carrier']\n",
    "\n",
    "    # Create frequent flyer matching expressions\n",
    "    ff_matches_mkt = [\n",
    "        pl.when(pl.col(col).is_not_null() & (pl.col(col) != ''))\n",
    "        .then(pl.col('frequent_flyer').str.contains(pl.col(col)))\n",
    "        .otherwise(False)\n",
    "        for col in col_groups['mkt_carrier']\n",
    "    ]\n",
    "    ff_matches_op = [\n",
    "        pl.when(pl.col(col).is_not_null() & (pl.col(col) != ''))\n",
    "        .then(pl.col('frequent_flyer').str.contains(pl.col(col)))\n",
    "        .otherwise(False)\n",
    "        for col in col_groups['op_carrier']\n",
    "    ]\n",
    "\n",
    "    return [\n",
    "        # Carrier features\n",
    "        pl.concat_list([pl.col(col) for col in all_carrier_cols])\n",
    "        .list.drop_nulls().list.unique().list.len().alias('unique_carriers'),\n",
    "\n",
    "        pl.coalesce([pl.col(col) for col in all_carrier_cols]).alias('primary_carrier'),\n",
    "        pl.col('legs0_segments0_marketingCarrier_code').alias('marketing_carrier'),\n",
    "\n",
    "        # Frequent flyer matching (check if FF programs match carriers)\n",
    "        pl.max_horizontal(ff_matches_mkt).cast(pl.Int32).alias('has_mkt_ff'),\n",
    "        pl.max_horizontal(ff_matches_op).cast(pl.Int32).alias('has_op_ff'),\n",
    "\n",
    "        # Aircraft features\n",
    "        pl.concat_list([pl.col(col) for col in col_groups['aircraft']])\n",
    "        .list.drop_nulls().list.unique().list.len().alias('aircraft_diversity'),\n",
    "\n",
    "        pl.coalesce([pl.col(col) for col in col_groups['aircraft']]).alias('primary_aircraft'),\n",
    "    ]\n",
    "\n",
    "\n",
    "def create_service_features(col_groups: Dict[str, List[str]]) -> List[pl.Expr]:\n",
    "    \"\"\"Create service-related features (fees, cabin, seats, baggage).\"\"\"\n",
    "    return [\n",
    "        # Cancellation/exchange fees\n",
    "        (\n",
    "            ((pl.col('miniRules0_monetaryAmount') > 0) & pl.col('miniRules0_monetaryAmount').is_not_null()) |\n",
    "            ((pl.col('miniRules0_percentage') > 0) & pl.col('miniRules0_percentage').is_not_null())\n",
    "        ).cast(pl.Int32).alias('has_cancellation_fee'),\n",
    "\n",
    "        (\n",
    "            ((pl.col('miniRules1_monetaryAmount') > 0) & pl.col('miniRules1_monetaryAmount').is_not_null()) |\n",
    "            ((pl.col('miniRules1_percentage') > 0) & pl.col('miniRules1_percentage').is_not_null())\n",
    "        ).cast(pl.Int32).alias('has_exchange_fee'),\n",
    "\n",
    "        # Cabin class features\n",
    "        pl.max_horizontal([pl.col(col) for col in col_groups['cabin_class']]).alias('max_cabin_class'),\n",
    "        pl.mean_horizontal([pl.col(col) for col in col_groups['cabin_class']]).alias('avg_cabin_class'),\n",
    "\n",
    "        # Seat availability (using for understanding popularity/scarcity)\n",
    "        pl.min_horizontal([pl.col(col) for col in col_groups['seats_avail']]).alias('min_seats_available'),\n",
    "        pl.sum_horizontal([pl.col(col).fill_null(0) for col in col_groups['seats_avail']]).alias('total_seats_available'),\n",
    "\n",
    "        # Baggage allowance\n",
    "        pl.min_horizontal([\n",
    "            pl.when(pl.col(type_col) == 0).then(pl.col(qty_col)).otherwise(pl.lit(None))\n",
    "            for type_col, qty_col in zip(col_groups['baggage_type'], col_groups['baggage_allowance'])\n",
    "        ]).fill_null(0).alias(\"baggage_allowance_quantity\"),\n",
    "\n",
    "        pl.min_horizontal([\n",
    "            pl.when(pl.col(type_col) == 1).then(pl.col(qty_col)).otherwise(pl.lit(None))\n",
    "            for type_col, qty_col in zip(col_groups['baggage_type'], col_groups['baggage_allowance'])\n",
    "        ]).fill_null(0).alias(\"baggage_allowance_weight\")\n",
    "    ]\n",
    "\n",
    "\n",
    "def add_route_popularity(lazy_df: pl.LazyFrame) -> pl.LazyFrame:\n",
    "    \"\"\"Add search route popularity features.\"\"\"\n",
    "    return lazy_df.with_columns([\n",
    "        pl.len().over('searchRoute').alias('route_popularity')\n",
    "    ]).with_columns([\n",
    "        pl.col('route_popularity').log1p().alias('route_popularity_log')\n",
    "    ])\n",
    "\n",
    "\n",
    "def create_window_based_flight_features(lazy_df: pl.LazyFrame) -> pl.LazyFrame:\n",
    "    return lazy_df.with_columns([\n",
    "        # calculate price percentile over search session\n",
    "        ((pl.col('totalPrice').rank(method='min').over('ranker_id') - 1) /\n",
    "        (pl.col('totalPrice').count().over('ranker_id') - 1) * 100)\n",
    "        .fill_null(50.0).alias('price_percentile'),\n",
    "\n",
    "        # Price features (always relative to search session)\n",
    "        (pl.col('totalPrice').rank(method='ordinal').over('ranker_id') /\n",
    "         pl.col('totalPrice').count().over('ranker_id')).alias('price_rank_pct'),\n",
    "        (pl.col('totalPrice') / pl.col('totalPrice').min().over('ranker_id')).alias('price_ratio_to_min'),\n",
    "    ]).with_columns([\n",
    "\n",
    "        # Route popularity features\n",
    "        pl.len().over('searchRoute').alias('route_popularity')\n",
    "    ]).with_columns([\n",
    "        pl.col('route_popularity').log1p().alias('route_popularity_log')\n",
    "    ])\n",
    "\n",
    "\n",
    "def create_derived_flight_features() -> List[pl.Expr]:\n",
    "    return [\n",
    "        pl.col('leg0_departure_hour').is_between(6, 22).cast(pl.Int8).alias('is_daytime'),\n",
    "        (pl.col('leg1_departure_weekday') >= 5).cast(pl.Int8).alias('is_weekend'),\n",
    "        (pl.col('leg0_departure_hour').is_between(6, 22) &\n",
    "         (~pl.col('leg0_arrival_hour').is_between(6, 22)))\n",
    "        .cast(pl.Int8).alias('is_redeye'),\n",
    "        (pl.col('total_segments') > 1).cast(pl.Int8).alias('has_connections'),\n",
    "    ]\n",
    "\n",
    "def extract_flight_features(df: pl.DataFrame) -> pl.DataFrame:\n",
    "    \"\"\" Create flight-level features\"\"\"\n",
    "    # Check if already processed\n",
    "    if df.height > 0 and 'total_duration_mins' in df.columns:\n",
    "        return df\n",
    "\n",
    "\n",
    "    # Get column groups\n",
    "    col_groups = get_column_groups(df)\n",
    "\n",
    "    # Start with lazy frame, dropping unnecessary columns\n",
    "    lazy_df = df.drop(CUSTOMER_FEATURES + POLARS_INDEX_COL, strict=False).lazy()\n",
    "    lazy_df = create_window_based_flight_features(lazy_df)\n",
    "\n",
    "    # Apply all feature groups\n",
    "    lazy_df = lazy_df.with_columns([\n",
    "        *create_basic_features(col_groups),\n",
    "        *create_segment_features(col_groups),\n",
    "        *create_time_features(),\n",
    "        *create_service_features(col_groups)\n",
    "    ])\n",
    "\n",
    "    # Add carrier features (requires frequent_flyer from create_basic_features() step)\n",
    "    lazy_df = lazy_df.with_columns(create_carrier_features(col_groups))\n",
    "\n",
    "    # Add derived features\n",
    "    lazy_df = lazy_df.with_columns(create_derived_flight_features())\n",
    "\n",
    "    # Add window based derived flight features\n",
    "    lazy_df = create_window_based_flight_features(lazy_df)\n",
    "\n",
    "    # Materialize to generate new features, drop unused features, and fill nulls\n",
    "    return (lazy_df\n",
    "            .collect()\n",
    "            .select(~cs.matches(UNNEEDED_FEATURES_REGEX) & ~cs.by_name(UNNEEDED_FEATURES))\n",
    "            .fill_null(0)\n",
    "            )\n"
   ],
   "id": "e12350661ea1aef",
   "outputs": [],
   "execution_count": 148
  },
  {
   "metadata": {
    "ExecuteTime": {
     "end_time": "2025-08-31T01:54:21.531600Z",
     "start_time": "2025-08-31T01:51:54.149168Z"
    }
   },
   "cell_type": "code",
   "source": "data = extract_flight_features(data)",
   "id": "a442e9536a45a9b9",
   "outputs": [],
   "execution_count": 149
  },
  {
   "metadata": {
    "ExecuteTime": {
     "end_time": "2025-08-31T01:54:39.305381Z",
     "start_time": "2025-08-31T01:54:39.282132Z"
    }
   },
   "cell_type": "code",
   "source": "data.head(100)",
   "id": "4c74cb059ba49825",
   "outputs": [
    {
     "data": {
      "text/plain": [
       "shape: (100, 60)\n",
       "┌─────┬────────────┬────────────┬────────────┬───┬────────────┬────────────┬───────────┬───────────┐\n",
       "│ Id  ┆ corporateT ┆ miniRules0 ┆ miniRules0 ┆ … ┆ is_daytime ┆ is_weekend ┆ is_redeye ┆ has_conne │\n",
       "│ --- ┆ ariffCode  ┆ _monetaryA ┆ _percentag ┆   ┆ ---        ┆ ---        ┆ ---       ┆ ctions    │\n",
       "│ i64 ┆ ---        ┆ mount      ┆ e          ┆   ┆ i8         ┆ i8         ┆ i8        ┆ ---       │\n",
       "│     ┆ i64        ┆ ---        ┆ ---        ┆   ┆            ┆            ┆           ┆ i8        │\n",
       "│     ┆            ┆ f64        ┆ f64        ┆   ┆            ┆            ┆           ┆           │\n",
       "╞═════╪════════════╪════════════╪════════════╪═══╪════════════╪════════════╪═══════════╪═══════════╡\n",
       "│ 0   ┆ 0          ┆ 0.0        ┆ 0.0        ┆ … ┆ 1          ┆ 0          ┆ 0         ┆ 1         │\n",
       "│ 1   ┆ 123        ┆ 2300.0     ┆ 0.0        ┆ … ┆ 1          ┆ 0          ┆ 0         ┆ 1         │\n",
       "│ 2   ┆ 0          ┆ 2300.0     ┆ 0.0        ┆ … ┆ 1          ┆ 0          ┆ 0         ┆ 1         │\n",
       "│ 3   ┆ 123        ┆ 0.0        ┆ 0.0        ┆ … ┆ 1          ┆ 0          ┆ 0         ┆ 1         │\n",
       "│ 4   ┆ 0          ┆ 0.0        ┆ 0.0        ┆ … ┆ 1          ┆ 0          ┆ 0         ┆ 1         │\n",
       "│ …   ┆ …          ┆ …          ┆ …          ┆ … ┆ …          ┆ …          ┆ …         ┆ …         │\n",
       "│ 95  ┆ 0          ┆ 2300.0     ┆ 0.0        ┆ … ┆ 1          ┆ 0          ┆ 0         ┆ 1         │\n",
       "│ 96  ┆ 139        ┆ 4000.0     ┆ 0.0        ┆ … ┆ 1          ┆ 0          ┆ 0         ┆ 1         │\n",
       "│ 97  ┆ 0          ┆ 4000.0     ┆ 0.0        ┆ … ┆ 1          ┆ 0          ┆ 0         ┆ 1         │\n",
       "│ 98  ┆ 139        ┆ 2300.0     ┆ 0.0        ┆ … ┆ 1          ┆ 0          ┆ 0         ┆ 1         │\n",
       "│ 99  ┆ 139        ┆ 0.0        ┆ 0.0        ┆ … ┆ 1          ┆ 0          ┆ 0         ┆ 1         │\n",
       "└─────┴────────────┴────────────┴────────────┴───┴────────────┴────────────┴───────────┴───────────┘"
      ],
      "text/html": [
       "<div><style>\n",
       ".dataframe > thead > tr,\n",
       ".dataframe > tbody > tr {\n",
       "  text-align: right;\n",
       "  white-space: pre-wrap;\n",
       "}\n",
       "</style>\n",
       "<small>shape: (100, 60)</small><table border=\"1\" class=\"dataframe\"><thead><tr><th>Id</th><th>corporateTariffCode</th><th>miniRules0_monetaryAmount</th><th>miniRules0_percentage</th><th>miniRules0_statusInfos</th><th>miniRules1_monetaryAmount</th><th>miniRules1_percentage</th><th>miniRules1_statusInfos</th><th>pricingInfo_isAccessTP</th><th>pricingInfo_passengerCount</th><th>profileId</th><th>ranker_id</th><th>selected</th><th>price_percentile</th><th>price_rank_pct</th><th>price_ratio_to_min</th><th>route_popularity</th><th>route_popularity_log</th><th>is_access3D</th><th>is_roundtrip</th><th>route_origin</th><th>origin_is_major_hub</th><th>destination_is_major_hub</th><th>includes_major_hub</th><th>leg0_num_segments</th><th>leg1_num_segments</th><th>total_segments</th><th>leg0_flight_time_min</th><th>leg1_flight_time_min</th><th>booking_lead_days</th><th>leg0_duration_minutes</th><th>leg1_duration_minutes</th><th>trip_duration_minutes</th><th>leg0_departure_hour</th><th>leg0_departure_weekday</th><th>leg0_arrival_hour</th><th>leg0_arrival_weekday</th><th>leg1_departure_hour</th><th>leg1_arrival_hour</th><th>leg1_departure_weekday</th><th>leg1_arrival_weekday</th><th>has_cancellation_fee</th><th>has_exchange_fee</th><th>max_cabin_class</th><th>avg_cabin_class</th><th>min_seats_available</th><th>total_seats_available</th><th>baggage_allowance_quantity</th><th>baggage_allowance_weight</th><th>unique_carriers</th><th>primary_carrier</th><th>marketing_carrier</th><th>has_mkt_ff</th><th>has_op_ff</th><th>aircraft_diversity</th><th>primary_aircraft</th><th>is_daytime</th><th>is_weekend</th><th>is_redeye</th><th>has_connections</th></tr><tr><td>i64</td><td>i64</td><td>f64</td><td>f64</td><td>f64</td><td>f64</td><td>f64</td><td>f64</td><td>f64</td><td>i64</td><td>i64</td><td>str</td><td>i64</td><td>f64</td><td>f64</td><td>f64</td><td>u32</td><td>f64</td><td>i32</td><td>i8</td><td>str</td><td>i32</td><td>i32</td><td>i32</td><td>u32</td><td>u32</td><td>u32</td><td>i32</td><td>i32</td><td>i32</td><td>i32</td><td>i32</td><td>i32</td><td>i8</td><td>i8</td><td>i8</td><td>i8</td><td>i8</td><td>i8</td><td>i8</td><td>i8</td><td>i32</td><td>i32</td><td>f64</td><td>f64</td><td>f64</td><td>f64</td><td>f64</td><td>f64</td><td>u32</td><td>str</td><td>str</td><td>i32</td><td>i32</td><td>u32</td><td>str</td><td>i8</td><td>i8</td><td>i8</td><td>i8</td></tr></thead><tbody><tr><td>0</td><td>0</td><td>0.0</td><td>0.0</td><td>0.0</td><td>0.0</td><td>0.0</td><td>0.0</td><td>1.0</td><td>1</td><td>2087645</td><td>&quot;98ce0dabf6964640b63079fbafd42c…</td><td>1</td><td>0.0</td><td>0.04</td><td>1.0</td><td>25</td><td>3.258097</td><td>0</td><td>1</td><td>&quot;TLK&quot;</td><td>0</td><td>0</td><td>0</td><td>1</td><td>1</td><td>2</td><td>160</td><td>155</td><td>29</td><td>160</td><td>155</td><td>315</td><td>15</td><td>6</td><td>16</td><td>6</td><td>9</td><td>14</td><td>2</td><td>2</td><td>0</td><td>0</td><td>1.0</td><td>1.0</td><td>9.0</td><td>18.0</td><td>1.0</td><td>0.0</td><td>1</td><td>&quot;KV&quot;</td><td>&quot;KV&quot;</td><td>0</td><td>0</td><td>1</td><td>&quot;YK2&quot;</td><td>1</td><td>0</td><td>0</td><td>1</td></tr><tr><td>1</td><td>123</td><td>2300.0</td><td>0.0</td><td>1.0</td><td>3500.0</td><td>0.0</td><td>1.0</td><td>1.0</td><td>1</td><td>2087645</td><td>&quot;98ce0dabf6964640b63079fbafd42c…</td><td>0</td><td>4.166667</td><td>0.08</td><td>3.028015</td><td>25</td><td>3.258097</td><td>1</td><td>1</td><td>&quot;TLK&quot;</td><td>0</td><td>0</td><td>0</td><td>2</td><td>2</td><td>4</td><td>250</td><td>245</td><td>29</td><td>445</td><td>505</td><td>950</td><td>9</td><td>6</td><td>14</td><td>6</td><td>22</td><td>8</td><td>2</td><td>3</td><td>1</td><td>1</td><td>1.0</td><td>1.0</td><td>4.0</td><td>26.0</td><td>1.0</td><td>0.0</td><td>1</td><td>&quot;S7&quot;</td><td>&quot;S7&quot;</td><td>1</td><td>1</td><td>1</td><td>&quot;E70&quot;</td><td>1</td><td>0</td><td>0</td><td>1</td></tr><tr><td>2</td><td>0</td><td>2300.0</td><td>0.0</td><td>1.0</td><td>3500.0</td><td>0.0</td><td>1.0</td><td>1.0</td><td>1</td><td>2087645</td><td>&quot;98ce0dabf6964640b63079fbafd42c…</td><td>0</td><td>29.166667</td><td>0.32</td><td>3.18023</td><td>25</td><td>3.258097</td><td>0</td><td>1</td><td>&quot;TLK&quot;</td><td>0</td><td>0</td><td>0</td><td>2</td><td>2</td><td>4</td><td>250</td><td>245</td><td>29</td><td>445</td><td>505</td><td>950</td><td>9</td><td>6</td><td>14</td><td>6</td><td>22</td><td>8</td><td>2</td><td>3</td><td>1</td><td>1</td><td>1.0</td><td>1.0</td><td>4.0</td><td>26.0</td><td>1.0</td><td>0.0</td><td>1</td><td>&quot;S7&quot;</td><td>&quot;S7&quot;</td><td>1</td><td>1</td><td>1</td><td>&quot;E70&quot;</td><td>1</td><td>0</td><td>0</td><td>1</td></tr><tr><td>3</td><td>123</td><td>0.0</td><td>0.0</td><td>1.0</td><td>0.0</td><td>0.0</td><td>1.0</td><td>1.0</td><td>1</td><td>2087645</td><td>&quot;98ce0dabf6964640b63079fbafd42c…</td><td>0</td><td>54.166667</td><td>0.56</td><td>4.849562</td><td>25</td><td>3.258097</td><td>1</td><td>1</td><td>&quot;TLK&quot;</td><td>0</td><td>0</td><td>0</td><td>2</td><td>2</td><td>4</td><td>250</td><td>245</td><td>29</td><td>445</td><td>505</td><td>950</td><td>9</td><td>6</td><td>14</td><td>6</td><td>22</td><td>8</td><td>2</td><td>3</td><td>0</td><td>0</td><td>1.0</td><td>1.0</td><td>4.0</td><td>26.0</td><td>1.0</td><td>0.0</td><td>1</td><td>&quot;S7&quot;</td><td>&quot;S7&quot;</td><td>1</td><td>1</td><td>1</td><td>&quot;E70&quot;</td><td>1</td><td>0</td><td>0</td><td>1</td></tr><tr><td>4</td><td>0</td><td>0.0</td><td>0.0</td><td>1.0</td><td>0.0</td><td>0.0</td><td>1.0</td><td>1.0</td><td>1</td><td>2087645</td><td>&quot;98ce0dabf6964640b63079fbafd42c…</td><td>0</td><td>79.166667</td><td>0.8</td><td>5.097726</td><td>25</td><td>3.258097</td><td>0</td><td>1</td><td>&quot;TLK&quot;</td><td>0</td><td>0</td><td>0</td><td>2</td><td>2</td><td>4</td><td>250</td><td>245</td><td>29</td><td>445</td><td>505</td><td>950</td><td>9</td><td>6</td><td>14</td><td>6</td><td>22</td><td>8</td><td>2</td><td>3</td><td>0</td><td>0</td><td>1.0</td><td>1.0</td><td>4.0</td><td>26.0</td><td>1.0</td><td>0.0</td><td>1</td><td>&quot;S7&quot;</td><td>&quot;S7&quot;</td><td>1</td><td>1</td><td>1</td><td>&quot;E70&quot;</td><td>1</td><td>0</td><td>0</td><td>1</td></tr><tr><td>&hellip;</td><td>&hellip;</td><td>&hellip;</td><td>&hellip;</td><td>&hellip;</td><td>&hellip;</td><td>&hellip;</td><td>&hellip;</td><td>&hellip;</td><td>&hellip;</td><td>&hellip;</td><td>&hellip;</td><td>&hellip;</td><td>&hellip;</td><td>&hellip;</td><td>&hellip;</td><td>&hellip;</td><td>&hellip;</td><td>&hellip;</td><td>&hellip;</td><td>&hellip;</td><td>&hellip;</td><td>&hellip;</td><td>&hellip;</td><td>&hellip;</td><td>&hellip;</td><td>&hellip;</td><td>&hellip;</td><td>&hellip;</td><td>&hellip;</td><td>&hellip;</td><td>&hellip;</td><td>&hellip;</td><td>&hellip;</td><td>&hellip;</td><td>&hellip;</td><td>&hellip;</td><td>&hellip;</td><td>&hellip;</td><td>&hellip;</td><td>&hellip;</td><td>&hellip;</td><td>&hellip;</td><td>&hellip;</td><td>&hellip;</td><td>&hellip;</td><td>&hellip;</td><td>&hellip;</td><td>&hellip;</td><td>&hellip;</td><td>&hellip;</td><td>&hellip;</td><td>&hellip;</td><td>&hellip;</td><td>&hellip;</td><td>&hellip;</td><td>&hellip;</td><td>&hellip;</td><td>&hellip;</td><td>&hellip;</td></tr><tr><td>95</td><td>0</td><td>2300.0</td><td>0.0</td><td>1.0</td><td>3500.0</td><td>0.0</td><td>1.0</td><td>0.0</td><td>1</td><td>3382768</td><td>&quot;e04b757602824a4dbe227f1e67dbdb…</td><td>0</td><td>75.757576</td><td>0.764706</td><td>12.361303</td><td>291</td><td>5.676754</td><td>0</td><td>0</td><td>&quot;KHV&quot;</td><td>0</td><td>0</td><td>0</td><td>2</td><td>0</td><td>2</td><td>645</td><td>0</td><td>3</td><td>1410</td><td>0</td><td>1410</td><td>8</td><td>1</td><td>8</td><td>2</td><td>0</td><td>0</td><td>0</td><td>0</td><td>1</td><td>1</td><td>2.0</td><td>1.5</td><td>3.0</td><td>12.0</td><td>1.0</td><td>0.0</td><td>1</td><td>&quot;S7&quot;</td><td>&quot;S7&quot;</td><td>0</td><td>0</td><td>1</td><td>&quot;321&quot;</td><td>1</td><td>0</td><td>0</td><td>1</td></tr><tr><td>96</td><td>139</td><td>4000.0</td><td>0.0</td><td>1.0</td><td>0.0</td><td>0.0</td><td>0.0</td><td>0.0</td><td>1</td><td>3382768</td><td>&quot;e04b757602824a4dbe227f1e67dbdb…</td><td>0</td><td>78.787879</td><td>0.794118</td><td>12.817417</td><td>291</td><td>5.676754</td><td>1</td><td>0</td><td>&quot;KHV&quot;</td><td>0</td><td>0</td><td>0</td><td>2</td><td>0</td><td>2</td><td>645</td><td>0</td><td>3</td><td>1410</td><td>0</td><td>1410</td><td>8</td><td>1</td><td>8</td><td>2</td><td>0</td><td>0</td><td>0</td><td>0</td><td>1</td><td>0</td><td>2.0</td><td>2.0</td><td>3.0</td><td>6.0</td><td>1.0</td><td>0.0</td><td>1</td><td>&quot;S7&quot;</td><td>&quot;S7&quot;</td><td>0</td><td>0</td><td>1</td><td>&quot;321&quot;</td><td>1</td><td>0</td><td>0</td><td>1</td></tr><tr><td>97</td><td>0</td><td>4000.0</td><td>0.0</td><td>1.0</td><td>0.0</td><td>0.0</td><td>0.0</td><td>0.0</td><td>1</td><td>3382768</td><td>&quot;e04b757602824a4dbe227f1e67dbdb…</td><td>0</td><td>81.818182</td><td>0.823529</td><td>13.343914</td><td>291</td><td>5.676754</td><td>0</td><td>0</td><td>&quot;KHV&quot;</td><td>0</td><td>0</td><td>0</td><td>2</td><td>0</td><td>2</td><td>645</td><td>0</td><td>3</td><td>1410</td><td>0</td><td>1410</td><td>8</td><td>1</td><td>8</td><td>2</td><td>0</td><td>0</td><td>0</td><td>0</td><td>1</td><td>0</td><td>2.0</td><td>2.0</td><td>3.0</td><td>6.0</td><td>1.0</td><td>0.0</td><td>1</td><td>&quot;S7&quot;</td><td>&quot;S7&quot;</td><td>0</td><td>0</td><td>1</td><td>&quot;321&quot;</td><td>1</td><td>0</td><td>0</td><td>1</td></tr><tr><td>98</td><td>139</td><td>2300.0</td><td>0.0</td><td>1.0</td><td>3500.0</td><td>0.0</td><td>1.0</td><td>0.0</td><td>1</td><td>3382768</td><td>&quot;e04b757602824a4dbe227f1e67dbdb…</td><td>0</td><td>84.848485</td><td>0.852941</td><td>16.305548</td><td>291</td><td>5.676754</td><td>1</td><td>0</td><td>&quot;KHV&quot;</td><td>0</td><td>0</td><td>0</td><td>2</td><td>0</td><td>2</td><td>645</td><td>0</td><td>3</td><td>1410</td><td>0</td><td>1410</td><td>8</td><td>1</td><td>8</td><td>2</td><td>0</td><td>0</td><td>0</td><td>0</td><td>1</td><td>1</td><td>2.0</td><td>2.0</td><td>3.0</td><td>6.0</td><td>1.0</td><td>0.0</td><td>1</td><td>&quot;S7&quot;</td><td>&quot;S7&quot;</td><td>0</td><td>0</td><td>1</td><td>&quot;321&quot;</td><td>1</td><td>0</td><td>0</td><td>1</td></tr><tr><td>99</td><td>139</td><td>0.0</td><td>0.0</td><td>1.0</td><td>0.0</td><td>0.0</td><td>1.0</td><td>0.0</td><td>1</td><td>3382768</td><td>&quot;e04b757602824a4dbe227f1e67dbdb…</td><td>0</td><td>87.878788</td><td>0.882353</td><td>16.589843</td><td>291</td><td>5.676754</td><td>1</td><td>0</td><td>&quot;KHV&quot;</td><td>0</td><td>0</td><td>0</td><td>2</td><td>0</td><td>2</td><td>645</td><td>0</td><td>3</td><td>1410</td><td>0</td><td>1410</td><td>8</td><td>1</td><td>8</td><td>2</td><td>0</td><td>0</td><td>0</td><td>0</td><td>0</td><td>0</td><td>2.0</td><td>2.0</td><td>3.0</td><td>3.0</td><td>2.0</td><td>0.0</td><td>1</td><td>&quot;S7&quot;</td><td>&quot;S7&quot;</td><td>0</td><td>0</td><td>1</td><td>&quot;321&quot;</td><td>1</td><td>0</td><td>0</td><td>1</td></tr></tbody></table></div>"
      ]
     },
     "execution_count": 150,
     "metadata": {},
     "output_type": "execute_result"
    }
   ],
   "execution_count": 150
  },
  {
   "metadata": {},
   "cell_type": "markdown",
   "source": [
    "### Prepare Training Data\n",
    "\n",
    "Now combining customer features with clustering segmentation results and flight features"
   ],
   "id": "5108e633dd82e57b"
  },
  {
   "metadata": {
    "ExecuteTime": {
     "end_time": "2025-08-31T01:54:44.354806Z",
     "start_time": "2025-08-31T01:54:44.345178Z"
    }
   },
   "cell_type": "code",
   "source": [
    "def stratified_split(X, test_size=0.2, random_state=42):\n",
    "    # Get unique search sessions and associated customer_segment\n",
    "    search_sessions = (\n",
    "        X\n",
    "        .group_by('ranker_id')\n",
    "        .agg(pl.col('customer_segment').first().alias('customer_segment'))\n",
    "        .to_pandas()\n",
    "    )\n",
    "\n",
    "    print(f\"Total unique search sessions: {len(search_sessions)}\")\n",
    "    print(\"Segment distribution:\")\n",
    "    segment_counts = search_sessions['customer_segment'].value_counts().sort_index()\n",
    "    print(segment_counts)\n",
    "\n",
    "    # Split on search sessions (ranker_id), stratify by customer_segment\n",
    "    train_searches, test_searches = train_test_split(\n",
    "        search_sessions['ranker_id'].values,\n",
    "        test_size=test_size,\n",
    "        stratify=search_sessions['customer_segment'].values,\n",
    "        random_state=random_state\n",
    "    )\n",
    "\n",
    "    print(f\"\\nTrain searches: {len(train_searches)}\")\n",
    "    print(f\"Test searches: {len(test_searches)}\")\n",
    "\n",
    "    # Filter feature data on search session splits\n",
    "    X_train_mask = X['ranker_id'].is_in(train_searches)\n",
    "    X_test_mask = X['ranker_id'].is_in(test_searches)\n",
    "\n",
    "    X_train = X.filter(X_train_mask)\n",
    "    X_test = X.filter(X_test_mask)\n",
    "\n",
    "    return X_train, X_test\n"
   ],
   "id": "e474cdf7ca5bbe8d",
   "outputs": [],
   "execution_count": 151
  },
  {
   "metadata": {
    "ExecuteTime": {
     "end_time": "2025-08-31T01:54:45.417491Z",
     "start_time": "2025-08-31T01:54:45.407848Z"
    }
   },
   "cell_type": "code",
   "source": [
    "def prepare_training_data(flight_features, cust_data, cust_segments=None, outlier_indices=None, test_size=0.2):\n",
    "    # if outliers were removed for clustering, then remove them for training\n",
    "    if outlier_indices is not None and len(outlier_indices) > 0:\n",
    "        mask = ~pl.Series(range(len(cust_data))).is_in(outlier_indices)\n",
    "        cust_features = cust_data.filter(mask).lazy()\n",
    "    else:\n",
    "        cust_features = cust_data.lazy()\n",
    "\n",
    "    # Add the cluster labels to the customer features if not already in the dataframe\n",
    "    if cust_segments is not None and 'customer_segment' not in cust_features.columns:\n",
    "        cust_features = cust_features.with_columns([\n",
    "            pl.Series('customer_segment', cust_segments)\n",
    "        ])\n",
    "\n",
    "    # Join the customer features with the flight features, removing outlier profiles\n",
    "    flight_features = flight_features.lazy().join(cust_features, on='profileId', how='inner').drop(pl.col('profileId'))\n",
    "    flight_features = flight_features.with_columns([\n",
    "        (pl.col('is_daytime') * (1.0 - pl.col('night_flight_preference').fill_null(0.5))).alias('daytime_alignment'),\n",
    "        (pl.col('is_weekend') * pl.col('weekend_travel_rate').fill_null(0.5)).alias('weekend_alignment'),\n",
    "        (pl.col('price_rank_pct') * pl.col('price_position_preference').fill_null(0.5)).alias('price_preference_match'),\n",
    "        (pl.col('primary_carrier') == pl.col('most_common_carrier').fill_null('unknown')).cast(pl.Int8).alias('carrier_loyalty_match'),\n",
    "    ])\n",
    "\n",
    "    # Materialize the data\n",
    "    X = flight_features.collect()\n",
    "\n",
    "    # Generate and return Train/Test splits\n",
    "    return stratified_split(X, test_size=test_size)"
   ],
   "id": "fbc1a29ddd9de297",
   "outputs": [],
   "execution_count": 152
  },
  {
   "metadata": {
    "ExecuteTime": {
     "end_time": "2025-08-31T01:54:53.986564Z",
     "start_time": "2025-08-31T01:54:47.474210Z"
    }
   },
   "cell_type": "code",
   "source": "X_train, X_test = prepare_training_data(data, pl.read_parquet('data/customer_features.parquet'))",
   "id": "bffcceab88541a57",
   "outputs": [
    {
     "name": "stdout",
     "output_type": "stream",
     "text": [
      "Total unique search sessions: 94543\n",
      "Segment distribution:\n",
      "customer_segment\n",
      "0    16335\n",
      "1    55546\n",
      "2      186\n",
      "3       10\n",
      "4       50\n",
      "5        3\n",
      "6    19093\n",
      "7     2483\n",
      "8       79\n",
      "9      758\n",
      "Name: count, dtype: int64\n",
      "\n",
      "Train searches: 75634\n",
      "Test searches: 18909\n"
     ]
    }
   ],
   "execution_count": 153
  },
  {
   "metadata": {
    "ExecuteTime": {
     "end_time": "2025-08-31T01:55:06.446625Z",
     "start_time": "2025-08-31T01:55:06.433548Z"
    }
   },
   "cell_type": "code",
   "source": "X_train.head(100)",
   "id": "cc1bf20f72dfb0a",
   "outputs": [
    {
     "data": {
      "text/plain": [
       "shape: (100, 121)\n",
       "┌─────┬────────────┬────────────┬────────────┬───┬────────────┬────────────┬───────────┬───────────┐\n",
       "│ Id  ┆ corporateT ┆ miniRules0 ┆ miniRules0 ┆ … ┆ daytime_al ┆ weekend_al ┆ price_pre ┆ carrier_l │\n",
       "│ --- ┆ ariffCode  ┆ _monetaryA ┆ _percentag ┆   ┆ ignment    ┆ ignment    ┆ ference_m ┆ oyalty_ma │\n",
       "│ i64 ┆ ---        ┆ mount      ┆ e          ┆   ┆ ---        ┆ ---        ┆ atch      ┆ tch       │\n",
       "│     ┆ i64        ┆ ---        ┆ ---        ┆   ┆ f64        ┆ f64        ┆ ---       ┆ ---       │\n",
       "│     ┆            ┆ f64        ┆ f64        ┆   ┆            ┆            ┆ f64       ┆ i8        │\n",
       "╞═════╪════════════╪════════════╪════════════╪═══╪════════════╪════════════╪═══════════╪═══════════╡\n",
       "│ 25  ┆ 123        ┆ 4000.0     ┆ 0.0        ┆ … ┆ 0.857143   ┆ 0.0        ┆ 3.333333  ┆ 1         │\n",
       "│ 26  ┆ 0          ┆ 4000.0     ┆ 0.0        ┆ … ┆ 0.857143   ┆ 0.0        ┆ 6.666667  ┆ 1         │\n",
       "│ 27  ┆ 123        ┆ 2300.0     ┆ 0.0        ┆ … ┆ 0.857143   ┆ 0.0        ┆ 20.0      ┆ 1         │\n",
       "│ 28  ┆ 0          ┆ 2300.0     ┆ 0.0        ┆ … ┆ 0.857143   ┆ 0.0        ┆ 23.333333 ┆ 1         │\n",
       "│ 29  ┆ 123        ┆ 0.0        ┆ 0.0        ┆ … ┆ 0.857143   ┆ 0.0        ┆ 40.0      ┆ 1         │\n",
       "│ …   ┆ …          ┆ …          ┆ …          ┆ … ┆ …          ┆ …          ┆ …         ┆ …         │\n",
       "│ 120 ┆ 0          ┆ 2300.0     ┆ 0.0        ┆ … ┆ 0.701923   ┆ 0.0        ┆ 4.112522  ┆ 0         │\n",
       "│ 121 ┆ 0          ┆ 0.0        ┆ 0.0        ┆ … ┆ 0.701923   ┆ 0.0        ┆ 24.675132 ┆ 0         │\n",
       "│ 122 ┆ 0          ┆ 4000.0     ┆ 0.0        ┆ … ┆ 0.701923   ┆ 0.0        ┆ 26.731393 ┆ 0         │\n",
       "│ 123 ┆ 0          ┆ 2300.0     ┆ 0.0        ┆ … ┆ 0.701923   ┆ 0.0        ┆ 30.843915 ┆ 0         │\n",
       "│ 124 ┆ 0          ┆ 0.0        ┆ 0.0        ┆ … ┆ 0.701923   ┆ 0.0        ┆ 37.012699 ┆ 0         │\n",
       "└─────┴────────────┴────────────┴────────────┴───┴────────────┴────────────┴───────────┴───────────┘"
      ],
      "text/html": [
       "<div><style>\n",
       ".dataframe > thead > tr,\n",
       ".dataframe > tbody > tr {\n",
       "  text-align: right;\n",
       "  white-space: pre-wrap;\n",
       "}\n",
       "</style>\n",
       "<small>shape: (100, 121)</small><table border=\"1\" class=\"dataframe\"><thead><tr><th>Id</th><th>corporateTariffCode</th><th>miniRules0_monetaryAmount</th><th>miniRules0_percentage</th><th>miniRules0_statusInfos</th><th>miniRules1_monetaryAmount</th><th>miniRules1_percentage</th><th>miniRules1_statusInfos</th><th>pricingInfo_isAccessTP</th><th>pricingInfo_passengerCount</th><th>ranker_id</th><th>selected</th><th>price_percentile</th><th>price_rank_pct</th><th>price_ratio_to_min</th><th>route_popularity</th><th>route_popularity_log</th><th>is_access3D</th><th>is_roundtrip</th><th>route_origin</th><th>origin_is_major_hub</th><th>destination_is_major_hub</th><th>includes_major_hub</th><th>leg0_num_segments</th><th>leg1_num_segments</th><th>total_segments</th><th>leg0_flight_time_min</th><th>leg1_flight_time_min</th><th>booking_lead_days</th><th>leg0_duration_minutes</th><th>leg1_duration_minutes</th><th>trip_duration_minutes</th><th>leg0_departure_hour</th><th>leg0_departure_weekday</th><th>leg0_arrival_hour</th><th>leg0_arrival_weekday</th><th>leg1_departure_hour</th><th>&hellip;</th><th>route_loyalty</th><th>hub_preference</th><th>short_haul_preference</th><th>connection_tolerance</th><th>preferred_duration_quartile</th><th>price_to_duration_sensitivity</th><th>avg_price_per_minute</th><th>price_per_minute_variance</th><th>price_position_preference</th><th>premium_economy_preference</th><th>consistent_price_tier</th><th>preferred_price_tier</th><th>baggage_qty_preference</th><th>baggage_weight_preference</th><th>loyalty_program_utilization</th><th>convenience_priority_score</th><th>loyalty_vs_price_index</th><th>planning_consistency_score</th><th>luxury_index</th><th>search_intensity_per_route</th><th>lead_time_variance</th><th>lead_time_skew</th><th>carrier_diversity</th><th>airport_diversity</th><th>cabin_class_range</th><th>customer_tier</th><th>vip_search_intensity</th><th>vip_carrier_diversity</th><th>vip_cabin_preference</th><th>corp_search_volume</th><th>corp_roundtrip_pref</th><th>corp_planning_variance</th><th>customer_segment</th><th>daytime_alignment</th><th>weekend_alignment</th><th>price_preference_match</th><th>carrier_loyalty_match</th></tr><tr><td>i64</td><td>i64</td><td>f64</td><td>f64</td><td>f64</td><td>f64</td><td>f64</td><td>f64</td><td>f64</td><td>i64</td><td>str</td><td>i64</td><td>f64</td><td>f64</td><td>f64</td><td>u32</td><td>f64</td><td>i32</td><td>i8</td><td>str</td><td>i32</td><td>i32</td><td>i32</td><td>u32</td><td>u32</td><td>u32</td><td>i32</td><td>i32</td><td>i32</td><td>i32</td><td>i32</td><td>i32</td><td>i8</td><td>i8</td><td>i8</td><td>i8</td><td>i8</td><td>&hellip;</td><td>f64</td><td>f64</td><td>f64</td><td>f64</td><td>i32</td><td>f64</td><td>f64</td><td>f64</td><td>f64</td><td>f64</td><td>f64</td><td>i32</td><td>f64</td><td>f64</td><td>f64</td><td>f64</td><td>f64</td><td>f64</td><td>f64</td><td>f64</td><td>i32</td><td>f64</td><td>f64</td><td>f64</td><td>f64</td><td>i8</td><td>f64</td><td>f64</td><td>f64</td><td>i64</td><td>f64</td><td>i32</td><td>i64</td><td>f64</td><td>f64</td><td>f64</td><td>i8</td></tr></thead><tbody><tr><td>25</td><td>123</td><td>4000.0</td><td>0.0</td><td>1.0</td><td>0.0</td><td>0.0</td><td>0.0</td><td>1.0</td><td>1</td><td>&quot;905909166d934c618ad55ab7f5cea5…</td><td>0</td><td>0.0</td><td>0.066667</td><td>1.0</td><td>32</td><td>3.496508</td><td>1</td><td>0</td><td>&quot;TOF&quot;</td><td>0</td><td>0</td><td>0</td><td>2</td><td>0</td><td>2</td><td>140</td><td>0</td><td>29</td><td>730</td><td>0</td><td>730</td><td>11</td><td>6</td><td>21</td><td>6</td><td>0</td><td>&hellip;</td><td>0.928571</td><td>0.0</td><td>0.0</td><td>1.75</td><td>1</td><td>0.326639</td><td>52.734974</td><td>58.652095</td><td>50.0</td><td>0.0</td><td>0.601038</td><td>1</td><td>0.642857</td><td>0.0</td><td>0.0</td><td>-27.570182</td><td>-5.0</td><td>0.1</td><td>45.0</td><td>14.0</td><td>9</td><td>0.918719</td><td>0.071429</td><td>0.071429</td><td>0.0</td><td>1</td><td>0.0</td><td>0.0</td><td>0.0</td><td>28</td><td>0.0</td><td>9</td><td>1</td><td>0.857143</td><td>0.0</td><td>3.333333</td><td>1</td></tr><tr><td>26</td><td>0</td><td>4000.0</td><td>0.0</td><td>1.0</td><td>0.0</td><td>0.0</td><td>0.0</td><td>1.0</td><td>1</td><td>&quot;905909166d934c618ad55ab7f5cea5…</td><td>0</td><td>7.142857</td><td>0.133333</td><td>1.050282</td><td>32</td><td>3.496508</td><td>0</td><td>0</td><td>&quot;TOF&quot;</td><td>0</td><td>0</td><td>0</td><td>2</td><td>0</td><td>2</td><td>140</td><td>0</td><td>29</td><td>730</td><td>0</td><td>730</td><td>11</td><td>6</td><td>21</td><td>6</td><td>0</td><td>&hellip;</td><td>0.928571</td><td>0.0</td><td>0.0</td><td>1.75</td><td>1</td><td>0.326639</td><td>52.734974</td><td>58.652095</td><td>50.0</td><td>0.0</td><td>0.601038</td><td>1</td><td>0.642857</td><td>0.0</td><td>0.0</td><td>-27.570182</td><td>-5.0</td><td>0.1</td><td>45.0</td><td>14.0</td><td>9</td><td>0.918719</td><td>0.071429</td><td>0.071429</td><td>0.0</td><td>1</td><td>0.0</td><td>0.0</td><td>0.0</td><td>28</td><td>0.0</td><td>9</td><td>1</td><td>0.857143</td><td>0.0</td><td>6.666667</td><td>1</td></tr><tr><td>27</td><td>123</td><td>2300.0</td><td>0.0</td><td>1.0</td><td>3500.0</td><td>0.0</td><td>1.0</td><td>1.0</td><td>1</td><td>&quot;905909166d934c618ad55ab7f5cea5…</td><td>0</td><td>35.714286</td><td>0.4</td><td>1.235318</td><td>32</td><td>3.496508</td><td>1</td><td>0</td><td>&quot;TOF&quot;</td><td>0</td><td>0</td><td>0</td><td>2</td><td>0</td><td>2</td><td>140</td><td>0</td><td>29</td><td>730</td><td>0</td><td>730</td><td>11</td><td>6</td><td>21</td><td>6</td><td>0</td><td>&hellip;</td><td>0.928571</td><td>0.0</td><td>0.0</td><td>1.75</td><td>1</td><td>0.326639</td><td>52.734974</td><td>58.652095</td><td>50.0</td><td>0.0</td><td>0.601038</td><td>1</td><td>0.642857</td><td>0.0</td><td>0.0</td><td>-27.570182</td><td>-5.0</td><td>0.1</td><td>45.0</td><td>14.0</td><td>9</td><td>0.918719</td><td>0.071429</td><td>0.071429</td><td>0.0</td><td>1</td><td>0.0</td><td>0.0</td><td>0.0</td><td>28</td><td>0.0</td><td>9</td><td>1</td><td>0.857143</td><td>0.0</td><td>20.0</td><td>1</td></tr><tr><td>28</td><td>0</td><td>2300.0</td><td>0.0</td><td>1.0</td><td>3500.0</td><td>0.0</td><td>1.0</td><td>1.0</td><td>1</td><td>&quot;905909166d934c618ad55ab7f5cea5…</td><td>0</td><td>42.857143</td><td>0.466667</td><td>1.297667</td><td>32</td><td>3.496508</td><td>0</td><td>0</td><td>&quot;TOF&quot;</td><td>0</td><td>0</td><td>0</td><td>2</td><td>0</td><td>2</td><td>140</td><td>0</td><td>29</td><td>730</td><td>0</td><td>730</td><td>11</td><td>6</td><td>21</td><td>6</td><td>0</td><td>&hellip;</td><td>0.928571</td><td>0.0</td><td>0.0</td><td>1.75</td><td>1</td><td>0.326639</td><td>52.734974</td><td>58.652095</td><td>50.0</td><td>0.0</td><td>0.601038</td><td>1</td><td>0.642857</td><td>0.0</td><td>0.0</td><td>-27.570182</td><td>-5.0</td><td>0.1</td><td>45.0</td><td>14.0</td><td>9</td><td>0.918719</td><td>0.071429</td><td>0.071429</td><td>0.0</td><td>1</td><td>0.0</td><td>0.0</td><td>0.0</td><td>28</td><td>0.0</td><td>9</td><td>1</td><td>0.857143</td><td>0.0</td><td>23.333333</td><td>1</td></tr><tr><td>29</td><td>123</td><td>0.0</td><td>0.0</td><td>1.0</td><td>0.0</td><td>0.0</td><td>1.0</td><td>1.0</td><td>1</td><td>&quot;905909166d934c618ad55ab7f5cea5…</td><td>0</td><td>78.571429</td><td>0.8</td><td>2.648331</td><td>32</td><td>3.496508</td><td>1</td><td>0</td><td>&quot;TOF&quot;</td><td>0</td><td>0</td><td>0</td><td>2</td><td>0</td><td>2</td><td>140</td><td>0</td><td>29</td><td>730</td><td>0</td><td>730</td><td>11</td><td>6</td><td>21</td><td>6</td><td>0</td><td>&hellip;</td><td>0.928571</td><td>0.0</td><td>0.0</td><td>1.75</td><td>1</td><td>0.326639</td><td>52.734974</td><td>58.652095</td><td>50.0</td><td>0.0</td><td>0.601038</td><td>1</td><td>0.642857</td><td>0.0</td><td>0.0</td><td>-27.570182</td><td>-5.0</td><td>0.1</td><td>45.0</td><td>14.0</td><td>9</td><td>0.918719</td><td>0.071429</td><td>0.071429</td><td>0.0</td><td>1</td><td>0.0</td><td>0.0</td><td>0.0</td><td>28</td><td>0.0</td><td>9</td><td>1</td><td>0.857143</td><td>0.0</td><td>40.0</td><td>1</td></tr><tr><td>&hellip;</td><td>&hellip;</td><td>&hellip;</td><td>&hellip;</td><td>&hellip;</td><td>&hellip;</td><td>&hellip;</td><td>&hellip;</td><td>&hellip;</td><td>&hellip;</td><td>&hellip;</td><td>&hellip;</td><td>&hellip;</td><td>&hellip;</td><td>&hellip;</td><td>&hellip;</td><td>&hellip;</td><td>&hellip;</td><td>&hellip;</td><td>&hellip;</td><td>&hellip;</td><td>&hellip;</td><td>&hellip;</td><td>&hellip;</td><td>&hellip;</td><td>&hellip;</td><td>&hellip;</td><td>&hellip;</td><td>&hellip;</td><td>&hellip;</td><td>&hellip;</td><td>&hellip;</td><td>&hellip;</td><td>&hellip;</td><td>&hellip;</td><td>&hellip;</td><td>&hellip;</td><td>&hellip;</td><td>&hellip;</td><td>&hellip;</td><td>&hellip;</td><td>&hellip;</td><td>&hellip;</td><td>&hellip;</td><td>&hellip;</td><td>&hellip;</td><td>&hellip;</td><td>&hellip;</td><td>&hellip;</td><td>&hellip;</td><td>&hellip;</td><td>&hellip;</td><td>&hellip;</td><td>&hellip;</td><td>&hellip;</td><td>&hellip;</td><td>&hellip;</td><td>&hellip;</td><td>&hellip;</td><td>&hellip;</td><td>&hellip;</td><td>&hellip;</td><td>&hellip;</td><td>&hellip;</td><td>&hellip;</td><td>&hellip;</td><td>&hellip;</td><td>&hellip;</td><td>&hellip;</td><td>&hellip;</td><td>&hellip;</td><td>&hellip;</td><td>&hellip;</td><td>&hellip;</td><td>&hellip;</td></tr><tr><td>120</td><td>0</td><td>2300.0</td><td>0.0</td><td>1.0</td><td>3500.0</td><td>0.0</td><td>1.0</td><td>1.0</td><td>1</td><td>&quot;e0f9319a8b3048cdb1c974395e599e…</td><td>1</td><td>4.347826</td><td>0.083333</td><td>1.293048</td><td>535</td><td>6.284134</td><td>0</td><td>0</td><td>&quot;GDX&quot;</td><td>0</td><td>0</td><td>0</td><td>1</td><td>0</td><td>1</td><td>330</td><td>0</td><td>42</td><td>330</td><td>0</td><td>330</td><td>10</td><td>5</td><td>11</td><td>5</td><td>0</td><td>&hellip;</td><td>0.971154</td><td>0.0</td><td>0.0</td><td>1.740385</td><td>2</td><td>0.375849</td><td>98.484632</td><td>62.123105</td><td>49.350265</td><td>0.461538</td><td>0.619922</td><td>1</td><td>1.144231</td><td>0.0</td><td>0.0</td><td>-34.951512</td><td>-4.935026</td><td>0.022222</td><td>53.905902</td><td>34.666667</td><td>44</td><td>0.875862</td><td>0.019231</td><td>0.019231</td><td>1.0</td><td>1</td><td>0.0</td><td>0.0</td><td>0.0</td><td>0</td><td>0.0</td><td>0</td><td>1</td><td>0.701923</td><td>0.0</td><td>4.112522</td><td>0</td></tr><tr><td>121</td><td>0</td><td>0.0</td><td>0.0</td><td>1.0</td><td>0.0</td><td>0.0</td><td>1.0</td><td>1.0</td><td>1</td><td>&quot;e0f9319a8b3048cdb1c974395e599e…</td><td>0</td><td>47.826087</td><td>0.5</td><td>1.98212</td><td>535</td><td>6.284134</td><td>0</td><td>0</td><td>&quot;GDX&quot;</td><td>0</td><td>0</td><td>0</td><td>1</td><td>0</td><td>1</td><td>330</td><td>0</td><td>42</td><td>330</td><td>0</td><td>330</td><td>10</td><td>5</td><td>11</td><td>5</td><td>0</td><td>&hellip;</td><td>0.971154</td><td>0.0</td><td>0.0</td><td>1.740385</td><td>2</td><td>0.375849</td><td>98.484632</td><td>62.123105</td><td>49.350265</td><td>0.461538</td><td>0.619922</td><td>1</td><td>1.144231</td><td>0.0</td><td>0.0</td><td>-34.951512</td><td>-4.935026</td><td>0.022222</td><td>53.905902</td><td>34.666667</td><td>44</td><td>0.875862</td><td>0.019231</td><td>0.019231</td><td>1.0</td><td>1</td><td>0.0</td><td>0.0</td><td>0.0</td><td>0</td><td>0.0</td><td>0</td><td>1</td><td>0.701923</td><td>0.0</td><td>24.675132</td><td>0</td></tr><tr><td>122</td><td>0</td><td>4000.0</td><td>0.0</td><td>1.0</td><td>0.0</td><td>0.0</td><td>0.0</td><td>0.0</td><td>1</td><td>&quot;e0f9319a8b3048cdb1c974395e599e…</td><td>0</td><td>52.173913</td><td>0.541667</td><td>2.263128</td><td>535</td><td>6.284134</td><td>0</td><td>0</td><td>&quot;GDX&quot;</td><td>0</td><td>0</td><td>0</td><td>1</td><td>0</td><td>1</td><td>330</td><td>0</td><td>42</td><td>330</td><td>0</td><td>330</td><td>10</td><td>5</td><td>11</td><td>5</td><td>0</td><td>&hellip;</td><td>0.971154</td><td>0.0</td><td>0.0</td><td>1.740385</td><td>2</td><td>0.375849</td><td>98.484632</td><td>62.123105</td><td>49.350265</td><td>0.461538</td><td>0.619922</td><td>1</td><td>1.144231</td><td>0.0</td><td>0.0</td><td>-34.951512</td><td>-4.935026</td><td>0.022222</td><td>53.905902</td><td>34.666667</td><td>44</td><td>0.875862</td><td>0.019231</td><td>0.019231</td><td>1.0</td><td>1</td><td>0.0</td><td>0.0</td><td>0.0</td><td>0</td><td>0.0</td><td>0</td><td>1</td><td>0.701923</td><td>0.0</td><td>26.731393</td><td>0</td></tr><tr><td>123</td><td>0</td><td>2300.0</td><td>0.0</td><td>1.0</td><td>3500.0</td><td>0.0</td><td>1.0</td><td>0.0</td><td>1</td><td>&quot;e0f9319a8b3048cdb1c974395e599e…</td><td>0</td><td>60.869565</td><td>0.625</td><td>2.901737</td><td>535</td><td>6.284134</td><td>0</td><td>0</td><td>&quot;GDX&quot;</td><td>0</td><td>0</td><td>0</td><td>1</td><td>0</td><td>1</td><td>330</td><td>0</td><td>42</td><td>330</td><td>0</td><td>330</td><td>10</td><td>5</td><td>11</td><td>5</td><td>0</td><td>&hellip;</td><td>0.971154</td><td>0.0</td><td>0.0</td><td>1.740385</td><td>2</td><td>0.375849</td><td>98.484632</td><td>62.123105</td><td>49.350265</td><td>0.461538</td><td>0.619922</td><td>1</td><td>1.144231</td><td>0.0</td><td>0.0</td><td>-34.951512</td><td>-4.935026</td><td>0.022222</td><td>53.905902</td><td>34.666667</td><td>44</td><td>0.875862</td><td>0.019231</td><td>0.019231</td><td>1.0</td><td>1</td><td>0.0</td><td>0.0</td><td>0.0</td><td>0</td><td>0.0</td><td>0</td><td>1</td><td>0.701923</td><td>0.0</td><td>30.843915</td><td>0</td></tr><tr><td>124</td><td>0</td><td>0.0</td><td>0.0</td><td>1.0</td><td>0.0</td><td>0.0</td><td>1.0</td><td>0.0</td><td>1</td><td>&quot;e0f9319a8b3048cdb1c974395e599e…</td><td>0</td><td>73.913043</td><td>0.75</td><td>3.991957</td><td>535</td><td>6.284134</td><td>0</td><td>0</td><td>&quot;GDX&quot;</td><td>0</td><td>0</td><td>0</td><td>1</td><td>0</td><td>1</td><td>330</td><td>0</td><td>42</td><td>330</td><td>0</td><td>330</td><td>10</td><td>5</td><td>11</td><td>5</td><td>0</td><td>&hellip;</td><td>0.971154</td><td>0.0</td><td>0.0</td><td>1.740385</td><td>2</td><td>0.375849</td><td>98.484632</td><td>62.123105</td><td>49.350265</td><td>0.461538</td><td>0.619922</td><td>1</td><td>1.144231</td><td>0.0</td><td>0.0</td><td>-34.951512</td><td>-4.935026</td><td>0.022222</td><td>53.905902</td><td>34.666667</td><td>44</td><td>0.875862</td><td>0.019231</td><td>0.019231</td><td>1.0</td><td>1</td><td>0.0</td><td>0.0</td><td>0.0</td><td>0</td><td>0.0</td><td>0</td><td>1</td><td>0.701923</td><td>0.0</td><td>37.012699</td><td>0</td></tr></tbody></table></div>"
      ]
     },
     "execution_count": 154,
     "metadata": {},
     "output_type": "execute_result"
    }
   ],
   "execution_count": 154
  },
  {
   "metadata": {
    "ExecuteTime": {
     "end_time": "2025-08-31T01:55:17.897693Z",
     "start_time": "2025-08-31T01:55:17.890653Z"
    }
   },
   "cell_type": "code",
   "source": "X_train.shape",
   "id": "cc48dba264e64bd",
   "outputs": [
    {
     "data": {
      "text/plain": [
       "(12880729, 121)"
      ]
     },
     "execution_count": 155,
     "metadata": {},
     "output_type": "execute_result"
    }
   ],
   "execution_count": 155
  },
  {
   "metadata": {
    "ExecuteTime": {
     "end_time": "2025-08-31T01:58:18.507363Z",
     "start_time": "2025-08-31T01:58:18.089297Z"
    }
   },
   "cell_type": "code",
   "source": [
    "del data\n",
    "gc.collect()"
   ],
   "id": "e07c4505df036ef0",
   "outputs": [
    {
     "data": {
      "text/plain": [
       "12"
      ]
     },
     "execution_count": 160,
     "metadata": {},
     "output_type": "execute_result"
    }
   ],
   "execution_count": 160
  },
  {
   "metadata": {
    "ExecuteTime": {
     "end_time": "2025-08-31T19:38:39.409418Z",
     "start_time": "2025-08-31T19:38:39.401229Z"
    }
   },
   "cell_type": "code",
   "source": [
    "def prepare_ranking_data(X):\n",
    "    # Sort the data sets for ranking\n",
    "    sort_indices = X['ranker_id'].arg_sort()\n",
    "    X = X[sort_indices]\n",
    "    y = X['selected'].to_numpy()\n",
    "\n",
    "    # Get search group sizes for chunked ranking\n",
    "    group_sizes = (\n",
    "        X\n",
    "        .group_by('ranker_id', maintain_order=True)\n",
    "        .len()\n",
    "        .select('len')\n",
    "        .to_numpy()\n",
    "        .flatten()\n",
    "    )\n",
    "\n",
    "    return X.drop(['ranker_id','selected']), y, group_sizes\n",
    "\n",
    "\n",
    "def train_lgb_ranker(X, y, group_sizes):\n",
    "    \"\"\"\n",
    "    Train LGBRanker with proper group structure\n",
    "    \"\"\"\n",
    "    categorical_features = [col for col in X.columns if not X[col].dtype.is_numeric()]\n",
    "    X = X.with_columns([pl.col(col).cast(pl.Categorical) for col in categorical_features])\n",
    "\n",
    "    # Convert to pandas for LightGBM compatibility\n",
    "    X = X.to_pandas()\n",
    "\n",
    "    train_data = lgb.Dataset(\n",
    "        X, label=y,\n",
    "        group=group_sizes,  # This tells LGB how many samples per search\n",
    "        categorical_feature=categorical_features\n",
    "    )\n",
    "\n",
    "    params = {\n",
    "        'objective': 'lambdarank',\n",
    "        'metric': 'ndcg',\n",
    "        'ndcg_eval_at': [3],\n",
    "        'boosting_type': 'gbdt',\n",
    "        'num_leaves': 255,\n",
    "        'learning_rate': 0.1,\n",
    "        'feature_fraction': 0.8,\n",
    "        'bagging_fraction': 0.8,\n",
    "        'bagging_freq': 5,\n",
    "        'min_data_in_leaf': 50,\n",
    "        'num_threads': -1,\n",
    "        'verbose': -1\n",
    "    }\n",
    "\n",
    "    model = lgb.train(\n",
    "        params,\n",
    "        train_data,\n",
    "        num_boost_round=1000,\n",
    "        # callbacks=[lgb.early_stopping(100), lgb.log_evaluation(100)]\n",
    "        callbacks=[lgb.log_evaluation(100)]\n",
    "    )\n",
    "\n",
    "    return model"
   ],
   "id": "57548739a11c23f9",
   "outputs": [],
   "execution_count": 4
  },
  {
   "metadata": {
    "ExecuteTime": {
     "end_time": "2025-08-31T19:38:40.263204Z",
     "start_time": "2025-08-31T19:38:40.254895Z"
    }
   },
   "cell_type": "code",
   "source": [
    "def calculate_hit_rate_at_k(y_true, y_pred, groups, k=3):\n",
    "    \"\"\"\n",
    "    Calculate Hit Rate @ K for ranking model\n",
    "\n",
    "    Parameters:\n",
    "    - y_true: actual binary labels (1 if selected, 0 if not)\n",
    "    - y_pred: predicted scores from ranker\n",
    "    - groups: group sizes (number of flights per search)\n",
    "    - k: number of top predictions to consider (3 in your case)\n",
    "\n",
    "    Returns:\n",
    "    - hit_rate: fraction of searches where at least 1 of top-k predictions was correct\n",
    "    \"\"\"\n",
    "    hits = 0\n",
    "    total_searches = 0\n",
    "    start_idx = 0\n",
    "\n",
    "    for group_size in groups:\n",
    "        # Extract data for this search group\n",
    "        group_true = y_true[start_idx:start_idx + group_size]\n",
    "        group_pred = y_pred[start_idx:start_idx + group_size]\n",
    "\n",
    "        # Get indices of actual selections\n",
    "        actual_selections = set(np.where(group_true == 1)[0])\n",
    "\n",
    "        # Get top-k predictions (indices sorted by prediction score)\n",
    "        top_k_indices = np.argsort(group_pred)[-k:]  # Get indices of top-k scores\n",
    "        top_k_indices = set(top_k_indices)\n",
    "\n",
    "        # Check if any top-k prediction matches actual selection\n",
    "        if len(actual_selections.intersection(top_k_indices)) > 0:\n",
    "            hits += 1\n",
    "\n",
    "        total_searches += 1\n",
    "        start_idx += group_size\n",
    "\n",
    "    hit_rate = hits / total_searches if total_searches > 0 else 0\n",
    "    return hit_rate\n",
    "\n",
    "def detailed_hit_rate_evaluation(y_true, y_pred, groups, ranker_ids=None, k=3):\n",
    "    \"\"\"\n",
    "    More detailed evaluation with additional metrics\n",
    "    \"\"\"\n",
    "    hits = 0\n",
    "    total_searches = 0\n",
    "    hit_details = []\n",
    "    start_idx = 0\n",
    "\n",
    "    for i, group_size in enumerate(groups):\n",
    "        group_true = y_true[start_idx:start_idx + group_size]\n",
    "        group_pred = y_pred[start_idx:start_idx + group_size]\n",
    "\n",
    "        # Actual selections\n",
    "        actual_selections = np.where(group_true == 1)[0]\n",
    "        num_actual_selections = len(actual_selections)\n",
    "\n",
    "        # Top-k predictions\n",
    "        top_k_indices = np.argsort(group_pred)[-k:]\n",
    "\n",
    "        # Calculate hit\n",
    "        hit = len(set(actual_selections).intersection(set(top_k_indices))) > 0\n",
    "\n",
    "        if hit:\n",
    "            hits += 1\n",
    "\n",
    "        # Store details for analysis\n",
    "        search_id = ranker_ids[i] if ranker_ids is not None else i\n",
    "        hit_details.append({\n",
    "            'search_id': search_id,\n",
    "            'group_size': group_size,\n",
    "            'num_actual_selections': num_actual_selections,\n",
    "            'hit': hit,\n",
    "            'top_k_scores': group_pred[top_k_indices].tolist(),\n",
    "            'actual_selections_scores': group_pred[actual_selections].tolist() if len(actual_selections) > 0 else []\n",
    "        })\n",
    "\n",
    "        total_searches += 1\n",
    "        start_idx += group_size\n",
    "\n",
    "    hit_rate = hits / total_searches\n",
    "\n",
    "    return hit_rate, hit_details"
   ],
   "id": "286f359e845c1fce",
   "outputs": [],
   "execution_count": 5
  },
  {
   "metadata": {
    "ExecuteTime": {
     "end_time": "2025-08-31T19:38:41.007355Z",
     "start_time": "2025-08-31T19:38:40.999659Z"
    }
   },
   "cell_type": "code",
   "source": [
    "def evaluate_model_hit_rate(model, X_val, y_val, group_sizes_val, k=3):\n",
    "    \"\"\"\n",
    "    Evaluate trained LGBRanker model using HitRate@K\n",
    "    \"\"\"\n",
    "    # Get predictions\n",
    "    y_pred = model.predict(X_val)\n",
    "\n",
    "    # Calculate hit rate\n",
    "    hit_rate = calculate_hit_rate_at_k(y_val, y_pred, group_sizes_val, k=k)\n",
    "\n",
    "    print(f\"Hit Rate @ {k}: {hit_rate:.4f}\")\n",
    "    return hit_rate\n",
    "\n",
    "def cross_validate_with_hit_rate(df, n_folds=5):\n",
    "    \"\"\"\n",
    "    Cross-validation preserving search groups and calculating HitRate@3\n",
    "    \"\"\"\n",
    "    # Get unique search IDs\n",
    "    unique_searches = df['ranker_id'].unique()\n",
    "    np.random.shuffle(unique_searches)\n",
    "\n",
    "    fold_size = len(unique_searches) // n_folds\n",
    "    hit_rates = []\n",
    "\n",
    "    for fold in range(n_folds):\n",
    "        print(f\"\\nFold {fold + 1}/{n_folds}\")\n",
    "\n",
    "        # Split search IDs\n",
    "        start_idx = fold * fold_size\n",
    "        end_idx = start_idx + fold_size if fold < n_folds - 1 else len(unique_searches)\n",
    "        val_searches = unique_searches[start_idx:end_idx]\n",
    "        train_searches = np.setdiff1d(unique_searches, val_searches)\n",
    "\n",
    "        # Split data\n",
    "        train_df = df[df['ranker_id'].isin(train_searches)]\n",
    "        val_df = df[df['ranker_id'].isin(val_searches)]\n",
    "\n",
    "        # Prepare training data\n",
    "        X_train, y_train, groups_train = prepare_ranking_data(train_df)\n",
    "        X_val, y_val, groups_val = prepare_ranking_data(val_df)\n",
    "\n",
    "        # Train model\n",
    "        model = train_lgb_ranker(X_train, y_train, groups_train)\n",
    "\n",
    "        # Evaluate\n",
    "        hit_rate = evaluate_model_hit_rate(model, X_val, y_val, groups_val)\n",
    "        hit_rates.append(hit_rate)\n",
    "\n",
    "    print(f\"\\nCross-validation results:\")\n",
    "    print(f\"Mean Hit Rate @ 3: {np.mean(hit_rates):.4f} (+/- {np.std(hit_rates)*2:.4f})\")\n",
    "    return hit_rates"
   ],
   "id": "7358fe64c007b7b5",
   "outputs": [],
   "execution_count": 6
  },
  {
   "metadata": {},
   "cell_type": "code",
   "outputs": [],
   "execution_count": null,
   "source": [
    "X_train.write_parquet('data/X_train.parquet')\n",
    "X_test.write_parquet('data/X_test.parquet')"
   ],
   "id": "93022e918c97bc65"
  },
  {
   "metadata": {},
   "cell_type": "code",
   "outputs": [],
   "execution_count": null,
   "source": [
    "del X_test\n",
    "gc.collect()"
   ],
   "id": "d03ef3a41e11d4a8"
  },
  {
   "metadata": {
    "ExecuteTime": {
     "end_time": "2025-08-31T19:38:17.803416Z",
     "start_time": "2025-08-31T19:38:16.517717Z"
    }
   },
   "cell_type": "code",
   "source": "X_train = pl.read_parquet('data/X_train.parquet')",
   "id": "5ceb7c9a04ec5a16",
   "outputs": [],
   "execution_count": 2
  },
  {
   "metadata": {
    "ExecuteTime": {
     "end_time": "2025-08-31T19:38:47.653282Z",
     "start_time": "2025-08-31T19:38:45.185330Z"
    }
   },
   "cell_type": "code",
   "source": [
    "# Prepare Train data for ranking\n",
    "X, y, group_sizes = prepare_ranking_data(X_train)\n",
    "\n",
    "del X_train\n",
    "gc.collect()"
   ],
   "id": "867fa0d32504bc09",
   "outputs": [
    {
     "data": {
      "text/plain": [
       "26609"
      ]
     },
     "execution_count": 7,
     "metadata": {},
     "output_type": "execute_result"
    }
   ],
   "execution_count": 7
  },
  {
   "metadata": {
    "ExecuteTime": {
     "end_time": "2025-08-31T19:52:14.450862Z",
     "start_time": "2025-08-31T19:39:02.660832Z"
    }
   },
   "cell_type": "code",
   "source": [
    "# Train model\n",
    "model = train_lgb_ranker(X, y, group_sizes)"
   ],
   "id": "e59cbf74491075f9",
   "outputs": [],
   "execution_count": 8
  },
  {
   "metadata": {
    "ExecuteTime": {
     "end_time": "2025-08-31T19:55:58.791383Z",
     "start_time": "2025-08-31T19:55:58.781950Z"
    }
   },
   "cell_type": "code",
   "source": [
    "# After training your model\n",
    "def complete_evaluation(model, test_df):\n",
    "    \"\"\"\n",
    "    Complete evaluation workflow\n",
    "    \"\"\"\n",
    "    print(\"Preparing test data...\")\n",
    "    X_test, y_test, groups_test = prepare_ranking_data(test_df)\n",
    "\n",
    "    # Prepare testing data for ranking\n",
    "    categorical_features = [col for col in X_test.columns if not X_test[col].dtype.is_numeric()]\n",
    "    X_test = X_test.with_columns([pl.col(col).cast(pl.Categorical) for col in categorical_features])\n",
    "\n",
    "    # Convert to pandas for LightGBM compatibility\n",
    "    X_test = X_test.to_pandas()\n",
    "\n",
    "    print(\"Making predictions...\")\n",
    "    y_pred = model.predict(X_test)\n",
    "\n",
    "    print(\"Calculating Hit Rate @ 3...\")\n",
    "    hit_rate, details = detailed_hit_rate_evaluation(\n",
    "        y_test,\n",
    "        y_pred,\n",
    "        groups_test,\n",
    "        ranker_ids=test_df['ranker_id'].unique()\n",
    "    )\n",
    "\n",
    "    print(f\"Overall Hit Rate @ 3: {hit_rate:.4f}\")\n",
    "\n",
    "    return hit_rate, details, y_pred\n"
   ],
   "id": "db4d4025460520cf",
   "outputs": [],
   "execution_count": 9
  },
  {
   "metadata": {
    "ExecuteTime": {
     "end_time": "2025-08-31T19:57:06.795741Z",
     "start_time": "2025-08-31T19:57:06.284998Z"
    }
   },
   "cell_type": "code",
   "source": [
    "del X\n",
    "del y\n",
    "del group_sizes\n",
    "gc.collect()"
   ],
   "id": "e715e737e718ef8c",
   "outputs": [
    {
     "data": {
      "text/plain": [
       "53"
      ]
     },
     "execution_count": 10,
     "metadata": {},
     "output_type": "execute_result"
    }
   ],
   "execution_count": 10
  },
  {
   "metadata": {
    "ExecuteTime": {
     "end_time": "2025-08-31T19:57:16.969856Z",
     "start_time": "2025-08-31T19:57:16.655792Z"
    }
   },
   "cell_type": "code",
   "source": "test_df = pl.read_parquet('data/X_test.parquet')",
   "id": "141a9fd3fd2d4af9",
   "outputs": [],
   "execution_count": 11
  },
  {
   "metadata": {
    "ExecuteTime": {
     "end_time": "2025-08-31T19:58:07.405086Z",
     "start_time": "2025-08-31T19:57:18.831579Z"
    }
   },
   "cell_type": "code",
   "source": [
    "# Usage\n",
    "hit_rate, details, y_pred = complete_evaluation(model, test_df)"
   ],
   "id": "c24a0479464ef754",
   "outputs": [
    {
     "name": "stdout",
     "output_type": "stream",
     "text": [
      "Preparing test data...\n",
      "Making predictions...\n",
      "Calculating Hit Rate @ 3...\n",
      "Overall Hit Rate @ 3: 0.6454\n"
     ]
    }
   ],
   "execution_count": 12
  },
  {
   "metadata": {
    "ExecuteTime": {
     "end_time": "2025-08-31T20:00:42.366130Z",
     "start_time": "2025-08-31T20:00:42.358344Z"
    }
   },
   "cell_type": "code",
   "source": "y_pred",
   "id": "faa7d74d32419459",
   "outputs": [
    {
     "data": {
      "text/plain": [
       "array([ -4.69552722,  -3.93674295,  -4.02498223, ..., -12.10126926,\n",
       "       -11.08110956, -12.51480663], shape=(3126995,))"
      ]
     },
     "execution_count": 13,
     "metadata": {},
     "output_type": "execute_result"
    }
   ],
   "execution_count": 13
  },
  {
   "metadata": {
    "ExecuteTime": {
     "end_time": "2025-08-31T03:31:09.048948Z",
     "start_time": "2025-08-31T03:31:09.029046Z"
    }
   },
   "cell_type": "code",
   "source": "test_df.head(100)",
   "id": "81e70b949d94ee20",
   "outputs": [
    {
     "data": {
      "text/plain": [
       "shape: (100, 121)\n",
       "┌─────┬────────────┬────────────┬────────────┬───┬────────────┬────────────┬───────────┬───────────┐\n",
       "│ Id  ┆ corporateT ┆ miniRules0 ┆ miniRules0 ┆ … ┆ daytime_al ┆ weekend_al ┆ price_pre ┆ carrier_l │\n",
       "│ --- ┆ ariffCode  ┆ _monetaryA ┆ _percentag ┆   ┆ ignment    ┆ ignment    ┆ ference_m ┆ oyalty_ma │\n",
       "│ i64 ┆ ---        ┆ mount      ┆ e          ┆   ┆ ---        ┆ ---        ┆ atch      ┆ tch       │\n",
       "│     ┆ i64        ┆ ---        ┆ ---        ┆   ┆ f64        ┆ f64        ┆ ---       ┆ ---       │\n",
       "│     ┆            ┆ f64        ┆ f64        ┆   ┆            ┆            ┆ f64       ┆ i8        │\n",
       "╞═════╪════════════╪════════════╪════════════╪═══╪════════════╪════════════╪═══════════╪═══════════╡\n",
       "│ 0   ┆ 0          ┆ 0.0        ┆ 0.0        ┆ … ┆ 1.0        ┆ 0.0        ┆ 1.80224   ┆ 0         │\n",
       "│ 1   ┆ 123        ┆ 2300.0     ┆ 0.0        ┆ … ┆ 1.0        ┆ 0.0        ┆ 3.60448   ┆ 1         │\n",
       "│ 2   ┆ 0          ┆ 2300.0     ┆ 0.0        ┆ … ┆ 1.0        ┆ 0.0        ┆ 14.417919 ┆ 1         │\n",
       "│ 3   ┆ 123        ┆ 0.0        ┆ 0.0        ┆ … ┆ 1.0        ┆ 0.0        ┆ 25.231359 ┆ 1         │\n",
       "│ 4   ┆ 0          ┆ 0.0        ┆ 0.0        ┆ … ┆ 1.0        ┆ 0.0        ┆ 36.044799 ┆ 1         │\n",
       "│ …   ┆ …          ┆ …          ┆ …          ┆ … ┆ …          ┆ …          ┆ …         ┆ …         │\n",
       "│ 378 ┆ 44         ┆ 4000.0     ┆ 0.0        ┆ … ┆ 0.709677   ┆ 0.0        ┆ 43.58549  ┆ 0         │\n",
       "│ 379 ┆ 0          ┆ 4000.0     ┆ 0.0        ┆ … ┆ 0.709677   ┆ 0.0        ┆ 44.350148 ┆ 0         │\n",
       "│ 380 ┆ 115        ┆ 4000.0     ┆ 0.0        ┆ … ┆ 0.0        ┆ 0.0        ┆ 27.527678 ┆ 1         │\n",
       "│ 381 ┆ 0          ┆ 4000.0     ┆ 0.0        ┆ … ┆ 0.0        ┆ 0.0        ┆ 33.64494  ┆ 1         │\n",
       "│ 382 ┆ 115        ┆ 2300.0     ┆ 0.0        ┆ … ┆ 0.0        ┆ 0.0        ┆ 41.291517 ┆ 1         │\n",
       "└─────┴────────────┴────────────┴────────────┴───┴────────────┴────────────┴───────────┴───────────┘"
      ],
      "text/html": [
       "<div><style>\n",
       ".dataframe > thead > tr,\n",
       ".dataframe > tbody > tr {\n",
       "  text-align: right;\n",
       "  white-space: pre-wrap;\n",
       "}\n",
       "</style>\n",
       "<small>shape: (100, 121)</small><table border=\"1\" class=\"dataframe\"><thead><tr><th>Id</th><th>corporateTariffCode</th><th>miniRules0_monetaryAmount</th><th>miniRules0_percentage</th><th>miniRules0_statusInfos</th><th>miniRules1_monetaryAmount</th><th>miniRules1_percentage</th><th>miniRules1_statusInfos</th><th>pricingInfo_isAccessTP</th><th>pricingInfo_passengerCount</th><th>ranker_id</th><th>selected</th><th>price_percentile</th><th>price_rank_pct</th><th>price_ratio_to_min</th><th>route_popularity</th><th>route_popularity_log</th><th>is_access3D</th><th>is_roundtrip</th><th>route_origin</th><th>origin_is_major_hub</th><th>destination_is_major_hub</th><th>includes_major_hub</th><th>leg0_num_segments</th><th>leg1_num_segments</th><th>total_segments</th><th>leg0_flight_time_min</th><th>leg1_flight_time_min</th><th>booking_lead_days</th><th>leg0_duration_minutes</th><th>leg1_duration_minutes</th><th>trip_duration_minutes</th><th>leg0_departure_hour</th><th>leg0_departure_weekday</th><th>leg0_arrival_hour</th><th>leg0_arrival_weekday</th><th>leg1_departure_hour</th><th>&hellip;</th><th>route_loyalty</th><th>hub_preference</th><th>short_haul_preference</th><th>connection_tolerance</th><th>preferred_duration_quartile</th><th>price_to_duration_sensitivity</th><th>avg_price_per_minute</th><th>price_per_minute_variance</th><th>price_position_preference</th><th>premium_economy_preference</th><th>consistent_price_tier</th><th>preferred_price_tier</th><th>baggage_qty_preference</th><th>baggage_weight_preference</th><th>loyalty_program_utilization</th><th>convenience_priority_score</th><th>loyalty_vs_price_index</th><th>planning_consistency_score</th><th>luxury_index</th><th>search_intensity_per_route</th><th>lead_time_variance</th><th>lead_time_skew</th><th>carrier_diversity</th><th>airport_diversity</th><th>cabin_class_range</th><th>customer_tier</th><th>vip_search_intensity</th><th>vip_carrier_diversity</th><th>vip_cabin_preference</th><th>corp_search_volume</th><th>corp_roundtrip_pref</th><th>corp_planning_variance</th><th>customer_segment</th><th>daytime_alignment</th><th>weekend_alignment</th><th>price_preference_match</th><th>carrier_loyalty_match</th></tr><tr><td>i64</td><td>i64</td><td>f64</td><td>f64</td><td>f64</td><td>f64</td><td>f64</td><td>f64</td><td>f64</td><td>i64</td><td>str</td><td>i64</td><td>f64</td><td>f64</td><td>f64</td><td>u32</td><td>f64</td><td>i32</td><td>i8</td><td>str</td><td>i32</td><td>i32</td><td>i32</td><td>u32</td><td>u32</td><td>u32</td><td>i32</td><td>i32</td><td>i32</td><td>i32</td><td>i32</td><td>i32</td><td>i8</td><td>i8</td><td>i8</td><td>i8</td><td>i8</td><td>&hellip;</td><td>f64</td><td>f64</td><td>f64</td><td>f64</td><td>i32</td><td>f64</td><td>f64</td><td>f64</td><td>f64</td><td>f64</td><td>f64</td><td>i32</td><td>f64</td><td>f64</td><td>f64</td><td>f64</td><td>f64</td><td>f64</td><td>f64</td><td>f64</td><td>i32</td><td>f64</td><td>f64</td><td>f64</td><td>f64</td><td>i8</td><td>f64</td><td>f64</td><td>f64</td><td>i64</td><td>f64</td><td>i32</td><td>i64</td><td>f64</td><td>f64</td><td>f64</td><td>i8</td></tr></thead><tbody><tr><td>0</td><td>0</td><td>0.0</td><td>0.0</td><td>0.0</td><td>0.0</td><td>0.0</td><td>0.0</td><td>1.0</td><td>1</td><td>&quot;98ce0dabf6964640b63079fbafd42c…</td><td>1</td><td>0.0</td><td>0.04</td><td>1.0</td><td>25</td><td>3.258097</td><td>0</td><td>1</td><td>&quot;TLK&quot;</td><td>0</td><td>0</td><td>0</td><td>1</td><td>1</td><td>2</td><td>160</td><td>155</td><td>29</td><td>160</td><td>155</td><td>315</td><td>15</td><td>6</td><td>16</td><td>6</td><td>9</td><td>&hellip;</td><td>0.962264</td><td>0.0</td><td>0.0</td><td>1.981132</td><td>1</td><td>-0.253891</td><td>93.370333</td><td>68.147027</td><td>45.055998</td><td>0.141509</td><td>0.619049</td><td>1</td><td>1.018868</td><td>0.0</td><td>1.0</td><td>-32.58008</td><td>5.4944</td><td>0.052632</td><td>45.358188</td><td>26.5</td><td>18</td><td>1.433237</td><td>0.056604</td><td>0.028302</td><td>1.0</td><td>1</td><td>0.0</td><td>0.0</td><td>0.0</td><td>106</td><td>0.235849</td><td>18</td><td>6</td><td>1.0</td><td>0.0</td><td>1.80224</td><td>0</td></tr><tr><td>1</td><td>123</td><td>2300.0</td><td>0.0</td><td>1.0</td><td>3500.0</td><td>0.0</td><td>1.0</td><td>1.0</td><td>1</td><td>&quot;98ce0dabf6964640b63079fbafd42c…</td><td>0</td><td>4.166667</td><td>0.08</td><td>3.028015</td><td>25</td><td>3.258097</td><td>1</td><td>1</td><td>&quot;TLK&quot;</td><td>0</td><td>0</td><td>0</td><td>2</td><td>2</td><td>4</td><td>250</td><td>245</td><td>29</td><td>445</td><td>505</td><td>950</td><td>9</td><td>6</td><td>14</td><td>6</td><td>22</td><td>&hellip;</td><td>0.962264</td><td>0.0</td><td>0.0</td><td>1.981132</td><td>1</td><td>-0.253891</td><td>93.370333</td><td>68.147027</td><td>45.055998</td><td>0.141509</td><td>0.619049</td><td>1</td><td>1.018868</td><td>0.0</td><td>1.0</td><td>-32.58008</td><td>5.4944</td><td>0.052632</td><td>45.358188</td><td>26.5</td><td>18</td><td>1.433237</td><td>0.056604</td><td>0.028302</td><td>1.0</td><td>1</td><td>0.0</td><td>0.0</td><td>0.0</td><td>106</td><td>0.235849</td><td>18</td><td>6</td><td>1.0</td><td>0.0</td><td>3.60448</td><td>1</td></tr><tr><td>2</td><td>0</td><td>2300.0</td><td>0.0</td><td>1.0</td><td>3500.0</td><td>0.0</td><td>1.0</td><td>1.0</td><td>1</td><td>&quot;98ce0dabf6964640b63079fbafd42c…</td><td>0</td><td>29.166667</td><td>0.32</td><td>3.18023</td><td>25</td><td>3.258097</td><td>0</td><td>1</td><td>&quot;TLK&quot;</td><td>0</td><td>0</td><td>0</td><td>2</td><td>2</td><td>4</td><td>250</td><td>245</td><td>29</td><td>445</td><td>505</td><td>950</td><td>9</td><td>6</td><td>14</td><td>6</td><td>22</td><td>&hellip;</td><td>0.962264</td><td>0.0</td><td>0.0</td><td>1.981132</td><td>1</td><td>-0.253891</td><td>93.370333</td><td>68.147027</td><td>45.055998</td><td>0.141509</td><td>0.619049</td><td>1</td><td>1.018868</td><td>0.0</td><td>1.0</td><td>-32.58008</td><td>5.4944</td><td>0.052632</td><td>45.358188</td><td>26.5</td><td>18</td><td>1.433237</td><td>0.056604</td><td>0.028302</td><td>1.0</td><td>1</td><td>0.0</td><td>0.0</td><td>0.0</td><td>106</td><td>0.235849</td><td>18</td><td>6</td><td>1.0</td><td>0.0</td><td>14.417919</td><td>1</td></tr><tr><td>3</td><td>123</td><td>0.0</td><td>0.0</td><td>1.0</td><td>0.0</td><td>0.0</td><td>1.0</td><td>1.0</td><td>1</td><td>&quot;98ce0dabf6964640b63079fbafd42c…</td><td>0</td><td>54.166667</td><td>0.56</td><td>4.849562</td><td>25</td><td>3.258097</td><td>1</td><td>1</td><td>&quot;TLK&quot;</td><td>0</td><td>0</td><td>0</td><td>2</td><td>2</td><td>4</td><td>250</td><td>245</td><td>29</td><td>445</td><td>505</td><td>950</td><td>9</td><td>6</td><td>14</td><td>6</td><td>22</td><td>&hellip;</td><td>0.962264</td><td>0.0</td><td>0.0</td><td>1.981132</td><td>1</td><td>-0.253891</td><td>93.370333</td><td>68.147027</td><td>45.055998</td><td>0.141509</td><td>0.619049</td><td>1</td><td>1.018868</td><td>0.0</td><td>1.0</td><td>-32.58008</td><td>5.4944</td><td>0.052632</td><td>45.358188</td><td>26.5</td><td>18</td><td>1.433237</td><td>0.056604</td><td>0.028302</td><td>1.0</td><td>1</td><td>0.0</td><td>0.0</td><td>0.0</td><td>106</td><td>0.235849</td><td>18</td><td>6</td><td>1.0</td><td>0.0</td><td>25.231359</td><td>1</td></tr><tr><td>4</td><td>0</td><td>0.0</td><td>0.0</td><td>1.0</td><td>0.0</td><td>0.0</td><td>1.0</td><td>1.0</td><td>1</td><td>&quot;98ce0dabf6964640b63079fbafd42c…</td><td>0</td><td>79.166667</td><td>0.8</td><td>5.097726</td><td>25</td><td>3.258097</td><td>0</td><td>1</td><td>&quot;TLK&quot;</td><td>0</td><td>0</td><td>0</td><td>2</td><td>2</td><td>4</td><td>250</td><td>245</td><td>29</td><td>445</td><td>505</td><td>950</td><td>9</td><td>6</td><td>14</td><td>6</td><td>22</td><td>&hellip;</td><td>0.962264</td><td>0.0</td><td>0.0</td><td>1.981132</td><td>1</td><td>-0.253891</td><td>93.370333</td><td>68.147027</td><td>45.055998</td><td>0.141509</td><td>0.619049</td><td>1</td><td>1.018868</td><td>0.0</td><td>1.0</td><td>-32.58008</td><td>5.4944</td><td>0.052632</td><td>45.358188</td><td>26.5</td><td>18</td><td>1.433237</td><td>0.056604</td><td>0.028302</td><td>1.0</td><td>1</td><td>0.0</td><td>0.0</td><td>0.0</td><td>106</td><td>0.235849</td><td>18</td><td>6</td><td>1.0</td><td>0.0</td><td>36.044799</td><td>1</td></tr><tr><td>&hellip;</td><td>&hellip;</td><td>&hellip;</td><td>&hellip;</td><td>&hellip;</td><td>&hellip;</td><td>&hellip;</td><td>&hellip;</td><td>&hellip;</td><td>&hellip;</td><td>&hellip;</td><td>&hellip;</td><td>&hellip;</td><td>&hellip;</td><td>&hellip;</td><td>&hellip;</td><td>&hellip;</td><td>&hellip;</td><td>&hellip;</td><td>&hellip;</td><td>&hellip;</td><td>&hellip;</td><td>&hellip;</td><td>&hellip;</td><td>&hellip;</td><td>&hellip;</td><td>&hellip;</td><td>&hellip;</td><td>&hellip;</td><td>&hellip;</td><td>&hellip;</td><td>&hellip;</td><td>&hellip;</td><td>&hellip;</td><td>&hellip;</td><td>&hellip;</td><td>&hellip;</td><td>&hellip;</td><td>&hellip;</td><td>&hellip;</td><td>&hellip;</td><td>&hellip;</td><td>&hellip;</td><td>&hellip;</td><td>&hellip;</td><td>&hellip;</td><td>&hellip;</td><td>&hellip;</td><td>&hellip;</td><td>&hellip;</td><td>&hellip;</td><td>&hellip;</td><td>&hellip;</td><td>&hellip;</td><td>&hellip;</td><td>&hellip;</td><td>&hellip;</td><td>&hellip;</td><td>&hellip;</td><td>&hellip;</td><td>&hellip;</td><td>&hellip;</td><td>&hellip;</td><td>&hellip;</td><td>&hellip;</td><td>&hellip;</td><td>&hellip;</td><td>&hellip;</td><td>&hellip;</td><td>&hellip;</td><td>&hellip;</td><td>&hellip;</td><td>&hellip;</td><td>&hellip;</td><td>&hellip;</td></tr><tr><td>378</td><td>44</td><td>4000.0</td><td>0.0</td><td>1.0</td><td>4000.0</td><td>0.0</td><td>1.0</td><td>0.0</td><td>1</td><td>&quot;8539a5b6f7474362bd51378d180245…</td><td>0</td><td>91.803279</td><td>0.919355</td><td>4.921193</td><td>4522</td><td>8.416931</td><td>1</td><td>0</td><td>&quot;OVB&quot;</td><td>0</td><td>0</td><td>0</td><td>2</td><td>0</td><td>2</td><td>445</td><td>0</td><td>15</td><td>835</td><td>0</td><td>835</td><td>21</td><td>6</td><td>10</td><td>7</td><td>0</td><td>&hellip;</td><td>0.983871</td><td>0.0</td><td>0.0</td><td>1.290323</td><td>1</td><td>0.684296</td><td>88.889925</td><td>69.170345</td><td>47.408778</td><td>0.0</td><td>0.624162</td><td>1</td><td>0.66129</td><td>0.0</td><td>0.0</td><td>-57.009692</td><td>-4.740878</td><td>0.5</td><td>43.704389</td><td>62.0</td><td>1</td><td>0.987097</td><td>0.048387</td><td>0.016129</td><td>0.0</td><td>1</td><td>0.0</td><td>0.0</td><td>0.0</td><td>62</td><td>0.0</td><td>1</td><td>1</td><td>0.709677</td><td>0.0</td><td>43.58549</td><td>0</td></tr><tr><td>379</td><td>0</td><td>4000.0</td><td>0.0</td><td>1.0</td><td>4000.0</td><td>0.0</td><td>1.0</td><td>0.0</td><td>1</td><td>&quot;8539a5b6f7474362bd51378d180245…</td><td>0</td><td>93.442623</td><td>0.935484</td><td>5.415335</td><td>4522</td><td>8.416931</td><td>0</td><td>0</td><td>&quot;OVB&quot;</td><td>0</td><td>0</td><td>0</td><td>2</td><td>0</td><td>2</td><td>445</td><td>0</td><td>15</td><td>835</td><td>0</td><td>835</td><td>21</td><td>6</td><td>10</td><td>7</td><td>0</td><td>&hellip;</td><td>0.983871</td><td>0.0</td><td>0.0</td><td>1.290323</td><td>1</td><td>0.684296</td><td>88.889925</td><td>69.170345</td><td>47.408778</td><td>0.0</td><td>0.624162</td><td>1</td><td>0.66129</td><td>0.0</td><td>0.0</td><td>-57.009692</td><td>-4.740878</td><td>0.5</td><td>43.704389</td><td>62.0</td><td>1</td><td>0.987097</td><td>0.048387</td><td>0.016129</td><td>0.0</td><td>1</td><td>0.0</td><td>0.0</td><td>0.0</td><td>62</td><td>0.0</td><td>1</td><td>1</td><td>0.709677</td><td>0.0</td><td>44.350148</td><td>0</td></tr><tr><td>380</td><td>115</td><td>4000.0</td><td>0.0</td><td>1.0</td><td>0.0</td><td>0.0</td><td>0.0</td><td>0.0</td><td>1</td><td>&quot;8539a5b6f7474362bd51378d180245…</td><td>0</td><td>55.737705</td><td>0.580645</td><td>3.461768</td><td>4522</td><td>8.416931</td><td>1</td><td>0</td><td>&quot;OVB&quot;</td><td>0</td><td>0</td><td>0</td><td>2</td><td>0</td><td>2</td><td>240</td><td>0</td><td>15</td><td>1135</td><td>0</td><td>1135</td><td>23</td><td>6</td><td>18</td><td>7</td><td>0</td><td>&hellip;</td><td>0.983871</td><td>0.0</td><td>0.0</td><td>1.290323</td><td>1</td><td>0.684296</td><td>88.889925</td><td>69.170345</td><td>47.408778</td><td>0.0</td><td>0.624162</td><td>1</td><td>0.66129</td><td>0.0</td><td>0.0</td><td>-57.009692</td><td>-4.740878</td><td>0.5</td><td>43.704389</td><td>62.0</td><td>1</td><td>0.987097</td><td>0.048387</td><td>0.016129</td><td>0.0</td><td>1</td><td>0.0</td><td>0.0</td><td>0.0</td><td>62</td><td>0.0</td><td>1</td><td>1</td><td>0.0</td><td>0.0</td><td>27.527678</td><td>1</td></tr><tr><td>381</td><td>0</td><td>4000.0</td><td>0.0</td><td>1.0</td><td>0.0</td><td>0.0</td><td>0.0</td><td>0.0</td><td>1</td><td>&quot;8539a5b6f7474362bd51378d180245…</td><td>0</td><td>68.852459</td><td>0.709677</td><td>3.670501</td><td>4522</td><td>8.416931</td><td>0</td><td>0</td><td>&quot;OVB&quot;</td><td>0</td><td>0</td><td>0</td><td>2</td><td>0</td><td>2</td><td>240</td><td>0</td><td>15</td><td>1135</td><td>0</td><td>1135</td><td>23</td><td>6</td><td>18</td><td>7</td><td>0</td><td>&hellip;</td><td>0.983871</td><td>0.0</td><td>0.0</td><td>1.290323</td><td>1</td><td>0.684296</td><td>88.889925</td><td>69.170345</td><td>47.408778</td><td>0.0</td><td>0.624162</td><td>1</td><td>0.66129</td><td>0.0</td><td>0.0</td><td>-57.009692</td><td>-4.740878</td><td>0.5</td><td>43.704389</td><td>62.0</td><td>1</td><td>0.987097</td><td>0.048387</td><td>0.016129</td><td>0.0</td><td>1</td><td>0.0</td><td>0.0</td><td>0.0</td><td>62</td><td>0.0</td><td>1</td><td>1</td><td>0.0</td><td>0.0</td><td>33.64494</td><td>1</td></tr><tr><td>382</td><td>115</td><td>2300.0</td><td>0.0</td><td>1.0</td><td>3500.0</td><td>0.0</td><td>1.0</td><td>0.0</td><td>1</td><td>&quot;8539a5b6f7474362bd51378d180245…</td><td>0</td><td>85.245902</td><td>0.870968</td><td>4.202982</td><td>4522</td><td>8.416931</td><td>1</td><td>0</td><td>&quot;OVB&quot;</td><td>0</td><td>0</td><td>0</td><td>2</td><td>0</td><td>2</td><td>240</td><td>0</td><td>15</td><td>1135</td><td>0</td><td>1135</td><td>23</td><td>6</td><td>18</td><td>7</td><td>0</td><td>&hellip;</td><td>0.983871</td><td>0.0</td><td>0.0</td><td>1.290323</td><td>1</td><td>0.684296</td><td>88.889925</td><td>69.170345</td><td>47.408778</td><td>0.0</td><td>0.624162</td><td>1</td><td>0.66129</td><td>0.0</td><td>0.0</td><td>-57.009692</td><td>-4.740878</td><td>0.5</td><td>43.704389</td><td>62.0</td><td>1</td><td>0.987097</td><td>0.048387</td><td>0.016129</td><td>0.0</td><td>1</td><td>0.0</td><td>0.0</td><td>0.0</td><td>62</td><td>0.0</td><td>1</td><td>1</td><td>0.0</td><td>0.0</td><td>41.291517</td><td>1</td></tr></tbody></table></div>"
      ]
     },
     "execution_count": 32,
     "metadata": {},
     "output_type": "execute_result"
    }
   ],
   "execution_count": 32
  },
  {
   "metadata": {
    "ExecuteTime": {
     "end_time": "2025-08-31T20:00:46.349827Z",
     "start_time": "2025-08-31T20:00:46.335528Z"
    }
   },
   "cell_type": "code",
   "source": "test_df = test_df.with_columns(pl.Series('y_pred', y_pred))",
   "id": "1f13f64cf68635d7",
   "outputs": [],
   "execution_count": 14
  },
  {
   "metadata": {
    "ExecuteTime": {
     "end_time": "2025-08-31T20:07:58.513891Z",
     "start_time": "2025-08-31T20:07:58.344654Z"
    }
   },
   "cell_type": "code",
   "source": "test_df = test_df.with_columns(pl.col('y_pred').rank(method='ordinal', descending=True).over('ranker_id').alias('flight_rank'))",
   "id": "249bc007d1058924",
   "outputs": [],
   "execution_count": 21
  },
  {
   "metadata": {
    "ExecuteTime": {
     "end_time": "2025-08-31T20:08:00.738135Z",
     "start_time": "2025-08-31T20:08:00.726225Z"
    }
   },
   "cell_type": "code",
   "source": "test_df.head(100)",
   "id": "1e0c4d7e77e696f",
   "outputs": [
    {
     "data": {
      "text/plain": [
       "shape: (100, 123)\n",
       "┌─────┬────────────┬────────────┬────────────┬───┬────────────┬────────────┬───────────┬───────────┐\n",
       "│ Id  ┆ corporateT ┆ miniRules0 ┆ miniRules0 ┆ … ┆ price_pref ┆ carrier_lo ┆ y_pred    ┆ flight_ra │\n",
       "│ --- ┆ ariffCode  ┆ _monetaryA ┆ _percentag ┆   ┆ erence_mat ┆ yalty_matc ┆ ---       ┆ nk        │\n",
       "│ i64 ┆ ---        ┆ mount      ┆ e          ┆   ┆ ch         ┆ h          ┆ f64       ┆ ---       │\n",
       "│     ┆ i64        ┆ ---        ┆ ---        ┆   ┆ ---        ┆ ---        ┆           ┆ u32       │\n",
       "│     ┆            ┆ f64        ┆ f64        ┆   ┆ f64        ┆ i8         ┆           ┆           │\n",
       "╞═════╪════════════╪════════════╪════════════╪═══╪════════════╪════════════╪═══════════╪═══════════╡\n",
       "│ 0   ┆ 0          ┆ 0.0        ┆ 0.0        ┆ … ┆ 1.80224    ┆ 0          ┆ -4.695527 ┆ 13        │\n",
       "│ 1   ┆ 123        ┆ 2300.0     ┆ 0.0        ┆ … ┆ 3.60448    ┆ 1          ┆ -3.936743 ┆ 6         │\n",
       "│ 2   ┆ 0          ┆ 2300.0     ┆ 0.0        ┆ … ┆ 14.417919  ┆ 1          ┆ -4.024982 ┆ 7         │\n",
       "│ 3   ┆ 123        ┆ 0.0        ┆ 0.0        ┆ … ┆ 25.231359  ┆ 1          ┆ -4.133711 ┆ 8         │\n",
       "│ 4   ┆ 0          ┆ 0.0        ┆ 0.0        ┆ … ┆ 36.044799  ┆ 1          ┆ -2.884729 ┆ 1         │\n",
       "│ …   ┆ …          ┆ …          ┆ …          ┆ … ┆ …          ┆ …          ┆ …         ┆ …         │\n",
       "│ 378 ┆ 44         ┆ 4000.0     ┆ 0.0        ┆ … ┆ 43.58549   ┆ 0          ┆ -4.244531 ┆ 18        │\n",
       "│ 379 ┆ 0          ┆ 4000.0     ┆ 0.0        ┆ … ┆ 44.350148  ┆ 0          ┆ -4.711212 ┆ 24        │\n",
       "│ 380 ┆ 115        ┆ 4000.0     ┆ 0.0        ┆ … ┆ 27.527678  ┆ 1          ┆ -5.123382 ┆ 28        │\n",
       "│ 381 ┆ 0          ┆ 4000.0     ┆ 0.0        ┆ … ┆ 33.64494   ┆ 1          ┆ -2.004948 ┆ 5         │\n",
       "│ 382 ┆ 115        ┆ 2300.0     ┆ 0.0        ┆ … ┆ 41.291517  ┆ 1          ┆ -2.698749 ┆ 10        │\n",
       "└─────┴────────────┴────────────┴────────────┴───┴────────────┴────────────┴───────────┴───────────┘"
      ],
      "text/html": [
       "<div><style>\n",
       ".dataframe > thead > tr,\n",
       ".dataframe > tbody > tr {\n",
       "  text-align: right;\n",
       "  white-space: pre-wrap;\n",
       "}\n",
       "</style>\n",
       "<small>shape: (100, 123)</small><table border=\"1\" class=\"dataframe\"><thead><tr><th>Id</th><th>corporateTariffCode</th><th>miniRules0_monetaryAmount</th><th>miniRules0_percentage</th><th>miniRules0_statusInfos</th><th>miniRules1_monetaryAmount</th><th>miniRules1_percentage</th><th>miniRules1_statusInfos</th><th>pricingInfo_isAccessTP</th><th>pricingInfo_passengerCount</th><th>ranker_id</th><th>selected</th><th>price_percentile</th><th>price_rank_pct</th><th>price_ratio_to_min</th><th>route_popularity</th><th>route_popularity_log</th><th>is_access3D</th><th>is_roundtrip</th><th>route_origin</th><th>origin_is_major_hub</th><th>destination_is_major_hub</th><th>includes_major_hub</th><th>leg0_num_segments</th><th>leg1_num_segments</th><th>total_segments</th><th>leg0_flight_time_min</th><th>leg1_flight_time_min</th><th>booking_lead_days</th><th>leg0_duration_minutes</th><th>leg1_duration_minutes</th><th>trip_duration_minutes</th><th>leg0_departure_hour</th><th>leg0_departure_weekday</th><th>leg0_arrival_hour</th><th>leg0_arrival_weekday</th><th>leg1_departure_hour</th><th>&hellip;</th><th>short_haul_preference</th><th>connection_tolerance</th><th>preferred_duration_quartile</th><th>price_to_duration_sensitivity</th><th>avg_price_per_minute</th><th>price_per_minute_variance</th><th>price_position_preference</th><th>premium_economy_preference</th><th>consistent_price_tier</th><th>preferred_price_tier</th><th>baggage_qty_preference</th><th>baggage_weight_preference</th><th>loyalty_program_utilization</th><th>convenience_priority_score</th><th>loyalty_vs_price_index</th><th>planning_consistency_score</th><th>luxury_index</th><th>search_intensity_per_route</th><th>lead_time_variance</th><th>lead_time_skew</th><th>carrier_diversity</th><th>airport_diversity</th><th>cabin_class_range</th><th>customer_tier</th><th>vip_search_intensity</th><th>vip_carrier_diversity</th><th>vip_cabin_preference</th><th>corp_search_volume</th><th>corp_roundtrip_pref</th><th>corp_planning_variance</th><th>customer_segment</th><th>daytime_alignment</th><th>weekend_alignment</th><th>price_preference_match</th><th>carrier_loyalty_match</th><th>y_pred</th><th>flight_rank</th></tr><tr><td>i64</td><td>i64</td><td>f64</td><td>f64</td><td>f64</td><td>f64</td><td>f64</td><td>f64</td><td>f64</td><td>i64</td><td>str</td><td>i64</td><td>f64</td><td>f64</td><td>f64</td><td>u32</td><td>f64</td><td>i32</td><td>i8</td><td>str</td><td>i32</td><td>i32</td><td>i32</td><td>u32</td><td>u32</td><td>u32</td><td>i32</td><td>i32</td><td>i32</td><td>i32</td><td>i32</td><td>i32</td><td>i8</td><td>i8</td><td>i8</td><td>i8</td><td>i8</td><td>&hellip;</td><td>f64</td><td>f64</td><td>i32</td><td>f64</td><td>f64</td><td>f64</td><td>f64</td><td>f64</td><td>f64</td><td>i32</td><td>f64</td><td>f64</td><td>f64</td><td>f64</td><td>f64</td><td>f64</td><td>f64</td><td>f64</td><td>i32</td><td>f64</td><td>f64</td><td>f64</td><td>f64</td><td>i8</td><td>f64</td><td>f64</td><td>f64</td><td>i64</td><td>f64</td><td>i32</td><td>i64</td><td>f64</td><td>f64</td><td>f64</td><td>i8</td><td>f64</td><td>u32</td></tr></thead><tbody><tr><td>0</td><td>0</td><td>0.0</td><td>0.0</td><td>0.0</td><td>0.0</td><td>0.0</td><td>0.0</td><td>1.0</td><td>1</td><td>&quot;98ce0dabf6964640b63079fbafd42c…</td><td>1</td><td>0.0</td><td>0.04</td><td>1.0</td><td>25</td><td>3.258097</td><td>0</td><td>1</td><td>&quot;TLK&quot;</td><td>0</td><td>0</td><td>0</td><td>1</td><td>1</td><td>2</td><td>160</td><td>155</td><td>29</td><td>160</td><td>155</td><td>315</td><td>15</td><td>6</td><td>16</td><td>6</td><td>9</td><td>&hellip;</td><td>0.0</td><td>1.981132</td><td>1</td><td>-0.253891</td><td>93.370333</td><td>68.147027</td><td>45.055998</td><td>0.141509</td><td>0.619049</td><td>1</td><td>1.018868</td><td>0.0</td><td>1.0</td><td>-32.58008</td><td>5.4944</td><td>0.052632</td><td>45.358188</td><td>26.5</td><td>18</td><td>1.433237</td><td>0.056604</td><td>0.028302</td><td>1.0</td><td>1</td><td>0.0</td><td>0.0</td><td>0.0</td><td>106</td><td>0.235849</td><td>18</td><td>6</td><td>1.0</td><td>0.0</td><td>1.80224</td><td>0</td><td>-4.695527</td><td>13</td></tr><tr><td>1</td><td>123</td><td>2300.0</td><td>0.0</td><td>1.0</td><td>3500.0</td><td>0.0</td><td>1.0</td><td>1.0</td><td>1</td><td>&quot;98ce0dabf6964640b63079fbafd42c…</td><td>0</td><td>4.166667</td><td>0.08</td><td>3.028015</td><td>25</td><td>3.258097</td><td>1</td><td>1</td><td>&quot;TLK&quot;</td><td>0</td><td>0</td><td>0</td><td>2</td><td>2</td><td>4</td><td>250</td><td>245</td><td>29</td><td>445</td><td>505</td><td>950</td><td>9</td><td>6</td><td>14</td><td>6</td><td>22</td><td>&hellip;</td><td>0.0</td><td>1.981132</td><td>1</td><td>-0.253891</td><td>93.370333</td><td>68.147027</td><td>45.055998</td><td>0.141509</td><td>0.619049</td><td>1</td><td>1.018868</td><td>0.0</td><td>1.0</td><td>-32.58008</td><td>5.4944</td><td>0.052632</td><td>45.358188</td><td>26.5</td><td>18</td><td>1.433237</td><td>0.056604</td><td>0.028302</td><td>1.0</td><td>1</td><td>0.0</td><td>0.0</td><td>0.0</td><td>106</td><td>0.235849</td><td>18</td><td>6</td><td>1.0</td><td>0.0</td><td>3.60448</td><td>1</td><td>-3.936743</td><td>6</td></tr><tr><td>2</td><td>0</td><td>2300.0</td><td>0.0</td><td>1.0</td><td>3500.0</td><td>0.0</td><td>1.0</td><td>1.0</td><td>1</td><td>&quot;98ce0dabf6964640b63079fbafd42c…</td><td>0</td><td>29.166667</td><td>0.32</td><td>3.18023</td><td>25</td><td>3.258097</td><td>0</td><td>1</td><td>&quot;TLK&quot;</td><td>0</td><td>0</td><td>0</td><td>2</td><td>2</td><td>4</td><td>250</td><td>245</td><td>29</td><td>445</td><td>505</td><td>950</td><td>9</td><td>6</td><td>14</td><td>6</td><td>22</td><td>&hellip;</td><td>0.0</td><td>1.981132</td><td>1</td><td>-0.253891</td><td>93.370333</td><td>68.147027</td><td>45.055998</td><td>0.141509</td><td>0.619049</td><td>1</td><td>1.018868</td><td>0.0</td><td>1.0</td><td>-32.58008</td><td>5.4944</td><td>0.052632</td><td>45.358188</td><td>26.5</td><td>18</td><td>1.433237</td><td>0.056604</td><td>0.028302</td><td>1.0</td><td>1</td><td>0.0</td><td>0.0</td><td>0.0</td><td>106</td><td>0.235849</td><td>18</td><td>6</td><td>1.0</td><td>0.0</td><td>14.417919</td><td>1</td><td>-4.024982</td><td>7</td></tr><tr><td>3</td><td>123</td><td>0.0</td><td>0.0</td><td>1.0</td><td>0.0</td><td>0.0</td><td>1.0</td><td>1.0</td><td>1</td><td>&quot;98ce0dabf6964640b63079fbafd42c…</td><td>0</td><td>54.166667</td><td>0.56</td><td>4.849562</td><td>25</td><td>3.258097</td><td>1</td><td>1</td><td>&quot;TLK&quot;</td><td>0</td><td>0</td><td>0</td><td>2</td><td>2</td><td>4</td><td>250</td><td>245</td><td>29</td><td>445</td><td>505</td><td>950</td><td>9</td><td>6</td><td>14</td><td>6</td><td>22</td><td>&hellip;</td><td>0.0</td><td>1.981132</td><td>1</td><td>-0.253891</td><td>93.370333</td><td>68.147027</td><td>45.055998</td><td>0.141509</td><td>0.619049</td><td>1</td><td>1.018868</td><td>0.0</td><td>1.0</td><td>-32.58008</td><td>5.4944</td><td>0.052632</td><td>45.358188</td><td>26.5</td><td>18</td><td>1.433237</td><td>0.056604</td><td>0.028302</td><td>1.0</td><td>1</td><td>0.0</td><td>0.0</td><td>0.0</td><td>106</td><td>0.235849</td><td>18</td><td>6</td><td>1.0</td><td>0.0</td><td>25.231359</td><td>1</td><td>-4.133711</td><td>8</td></tr><tr><td>4</td><td>0</td><td>0.0</td><td>0.0</td><td>1.0</td><td>0.0</td><td>0.0</td><td>1.0</td><td>1.0</td><td>1</td><td>&quot;98ce0dabf6964640b63079fbafd42c…</td><td>0</td><td>79.166667</td><td>0.8</td><td>5.097726</td><td>25</td><td>3.258097</td><td>0</td><td>1</td><td>&quot;TLK&quot;</td><td>0</td><td>0</td><td>0</td><td>2</td><td>2</td><td>4</td><td>250</td><td>245</td><td>29</td><td>445</td><td>505</td><td>950</td><td>9</td><td>6</td><td>14</td><td>6</td><td>22</td><td>&hellip;</td><td>0.0</td><td>1.981132</td><td>1</td><td>-0.253891</td><td>93.370333</td><td>68.147027</td><td>45.055998</td><td>0.141509</td><td>0.619049</td><td>1</td><td>1.018868</td><td>0.0</td><td>1.0</td><td>-32.58008</td><td>5.4944</td><td>0.052632</td><td>45.358188</td><td>26.5</td><td>18</td><td>1.433237</td><td>0.056604</td><td>0.028302</td><td>1.0</td><td>1</td><td>0.0</td><td>0.0</td><td>0.0</td><td>106</td><td>0.235849</td><td>18</td><td>6</td><td>1.0</td><td>0.0</td><td>36.044799</td><td>1</td><td>-2.884729</td><td>1</td></tr><tr><td>&hellip;</td><td>&hellip;</td><td>&hellip;</td><td>&hellip;</td><td>&hellip;</td><td>&hellip;</td><td>&hellip;</td><td>&hellip;</td><td>&hellip;</td><td>&hellip;</td><td>&hellip;</td><td>&hellip;</td><td>&hellip;</td><td>&hellip;</td><td>&hellip;</td><td>&hellip;</td><td>&hellip;</td><td>&hellip;</td><td>&hellip;</td><td>&hellip;</td><td>&hellip;</td><td>&hellip;</td><td>&hellip;</td><td>&hellip;</td><td>&hellip;</td><td>&hellip;</td><td>&hellip;</td><td>&hellip;</td><td>&hellip;</td><td>&hellip;</td><td>&hellip;</td><td>&hellip;</td><td>&hellip;</td><td>&hellip;</td><td>&hellip;</td><td>&hellip;</td><td>&hellip;</td><td>&hellip;</td><td>&hellip;</td><td>&hellip;</td><td>&hellip;</td><td>&hellip;</td><td>&hellip;</td><td>&hellip;</td><td>&hellip;</td><td>&hellip;</td><td>&hellip;</td><td>&hellip;</td><td>&hellip;</td><td>&hellip;</td><td>&hellip;</td><td>&hellip;</td><td>&hellip;</td><td>&hellip;</td><td>&hellip;</td><td>&hellip;</td><td>&hellip;</td><td>&hellip;</td><td>&hellip;</td><td>&hellip;</td><td>&hellip;</td><td>&hellip;</td><td>&hellip;</td><td>&hellip;</td><td>&hellip;</td><td>&hellip;</td><td>&hellip;</td><td>&hellip;</td><td>&hellip;</td><td>&hellip;</td><td>&hellip;</td><td>&hellip;</td><td>&hellip;</td><td>&hellip;</td><td>&hellip;</td></tr><tr><td>378</td><td>44</td><td>4000.0</td><td>0.0</td><td>1.0</td><td>4000.0</td><td>0.0</td><td>1.0</td><td>0.0</td><td>1</td><td>&quot;8539a5b6f7474362bd51378d180245…</td><td>0</td><td>91.803279</td><td>0.919355</td><td>4.921193</td><td>4522</td><td>8.416931</td><td>1</td><td>0</td><td>&quot;OVB&quot;</td><td>0</td><td>0</td><td>0</td><td>2</td><td>0</td><td>2</td><td>445</td><td>0</td><td>15</td><td>835</td><td>0</td><td>835</td><td>21</td><td>6</td><td>10</td><td>7</td><td>0</td><td>&hellip;</td><td>0.0</td><td>1.290323</td><td>1</td><td>0.684296</td><td>88.889925</td><td>69.170345</td><td>47.408778</td><td>0.0</td><td>0.624162</td><td>1</td><td>0.66129</td><td>0.0</td><td>0.0</td><td>-57.009692</td><td>-4.740878</td><td>0.5</td><td>43.704389</td><td>62.0</td><td>1</td><td>0.987097</td><td>0.048387</td><td>0.016129</td><td>0.0</td><td>1</td><td>0.0</td><td>0.0</td><td>0.0</td><td>62</td><td>0.0</td><td>1</td><td>1</td><td>0.709677</td><td>0.0</td><td>43.58549</td><td>0</td><td>-4.244531</td><td>18</td></tr><tr><td>379</td><td>0</td><td>4000.0</td><td>0.0</td><td>1.0</td><td>4000.0</td><td>0.0</td><td>1.0</td><td>0.0</td><td>1</td><td>&quot;8539a5b6f7474362bd51378d180245…</td><td>0</td><td>93.442623</td><td>0.935484</td><td>5.415335</td><td>4522</td><td>8.416931</td><td>0</td><td>0</td><td>&quot;OVB&quot;</td><td>0</td><td>0</td><td>0</td><td>2</td><td>0</td><td>2</td><td>445</td><td>0</td><td>15</td><td>835</td><td>0</td><td>835</td><td>21</td><td>6</td><td>10</td><td>7</td><td>0</td><td>&hellip;</td><td>0.0</td><td>1.290323</td><td>1</td><td>0.684296</td><td>88.889925</td><td>69.170345</td><td>47.408778</td><td>0.0</td><td>0.624162</td><td>1</td><td>0.66129</td><td>0.0</td><td>0.0</td><td>-57.009692</td><td>-4.740878</td><td>0.5</td><td>43.704389</td><td>62.0</td><td>1</td><td>0.987097</td><td>0.048387</td><td>0.016129</td><td>0.0</td><td>1</td><td>0.0</td><td>0.0</td><td>0.0</td><td>62</td><td>0.0</td><td>1</td><td>1</td><td>0.709677</td><td>0.0</td><td>44.350148</td><td>0</td><td>-4.711212</td><td>24</td></tr><tr><td>380</td><td>115</td><td>4000.0</td><td>0.0</td><td>1.0</td><td>0.0</td><td>0.0</td><td>0.0</td><td>0.0</td><td>1</td><td>&quot;8539a5b6f7474362bd51378d180245…</td><td>0</td><td>55.737705</td><td>0.580645</td><td>3.461768</td><td>4522</td><td>8.416931</td><td>1</td><td>0</td><td>&quot;OVB&quot;</td><td>0</td><td>0</td><td>0</td><td>2</td><td>0</td><td>2</td><td>240</td><td>0</td><td>15</td><td>1135</td><td>0</td><td>1135</td><td>23</td><td>6</td><td>18</td><td>7</td><td>0</td><td>&hellip;</td><td>0.0</td><td>1.290323</td><td>1</td><td>0.684296</td><td>88.889925</td><td>69.170345</td><td>47.408778</td><td>0.0</td><td>0.624162</td><td>1</td><td>0.66129</td><td>0.0</td><td>0.0</td><td>-57.009692</td><td>-4.740878</td><td>0.5</td><td>43.704389</td><td>62.0</td><td>1</td><td>0.987097</td><td>0.048387</td><td>0.016129</td><td>0.0</td><td>1</td><td>0.0</td><td>0.0</td><td>0.0</td><td>62</td><td>0.0</td><td>1</td><td>1</td><td>0.0</td><td>0.0</td><td>27.527678</td><td>1</td><td>-5.123382</td><td>28</td></tr><tr><td>381</td><td>0</td><td>4000.0</td><td>0.0</td><td>1.0</td><td>0.0</td><td>0.0</td><td>0.0</td><td>0.0</td><td>1</td><td>&quot;8539a5b6f7474362bd51378d180245…</td><td>0</td><td>68.852459</td><td>0.709677</td><td>3.670501</td><td>4522</td><td>8.416931</td><td>0</td><td>0</td><td>&quot;OVB&quot;</td><td>0</td><td>0</td><td>0</td><td>2</td><td>0</td><td>2</td><td>240</td><td>0</td><td>15</td><td>1135</td><td>0</td><td>1135</td><td>23</td><td>6</td><td>18</td><td>7</td><td>0</td><td>&hellip;</td><td>0.0</td><td>1.290323</td><td>1</td><td>0.684296</td><td>88.889925</td><td>69.170345</td><td>47.408778</td><td>0.0</td><td>0.624162</td><td>1</td><td>0.66129</td><td>0.0</td><td>0.0</td><td>-57.009692</td><td>-4.740878</td><td>0.5</td><td>43.704389</td><td>62.0</td><td>1</td><td>0.987097</td><td>0.048387</td><td>0.016129</td><td>0.0</td><td>1</td><td>0.0</td><td>0.0</td><td>0.0</td><td>62</td><td>0.0</td><td>1</td><td>1</td><td>0.0</td><td>0.0</td><td>33.64494</td><td>1</td><td>-2.004948</td><td>5</td></tr><tr><td>382</td><td>115</td><td>2300.0</td><td>0.0</td><td>1.0</td><td>3500.0</td><td>0.0</td><td>1.0</td><td>0.0</td><td>1</td><td>&quot;8539a5b6f7474362bd51378d180245…</td><td>0</td><td>85.245902</td><td>0.870968</td><td>4.202982</td><td>4522</td><td>8.416931</td><td>1</td><td>0</td><td>&quot;OVB&quot;</td><td>0</td><td>0</td><td>0</td><td>2</td><td>0</td><td>2</td><td>240</td><td>0</td><td>15</td><td>1135</td><td>0</td><td>1135</td><td>23</td><td>6</td><td>18</td><td>7</td><td>0</td><td>&hellip;</td><td>0.0</td><td>1.290323</td><td>1</td><td>0.684296</td><td>88.889925</td><td>69.170345</td><td>47.408778</td><td>0.0</td><td>0.624162</td><td>1</td><td>0.66129</td><td>0.0</td><td>0.0</td><td>-57.009692</td><td>-4.740878</td><td>0.5</td><td>43.704389</td><td>62.0</td><td>1</td><td>0.987097</td><td>0.048387</td><td>0.016129</td><td>0.0</td><td>1</td><td>0.0</td><td>0.0</td><td>0.0</td><td>62</td><td>0.0</td><td>1</td><td>1</td><td>0.0</td><td>0.0</td><td>41.291517</td><td>1</td><td>-2.698749</td><td>10</td></tr></tbody></table></div>"
      ]
     },
     "execution_count": 22,
     "metadata": {},
     "output_type": "execute_result"
    }
   ],
   "execution_count": 22
  },
  {
   "metadata": {
    "ExecuteTime": {
     "end_time": "2025-08-31T20:01:08.167330Z",
     "start_time": "2025-08-31T20:01:07.828378Z"
    }
   },
   "cell_type": "code",
   "source": "test_df.group_by(pl.col('ranker_id')).agg(pl.len().alias('count')).sort('count', descending=False).filter(pl.col('count') > 10).head(1000)",
   "id": "b614518d60251441",
   "outputs": [
    {
     "data": {
      "text/plain": [
       "shape: (1_000, 2)\n",
       "┌─────────────────────────────────┬───────┐\n",
       "│ ranker_id                       ┆ count │\n",
       "│ ---                             ┆ ---   │\n",
       "│ str                             ┆ u32   │\n",
       "╞═════════════════════════════════╪═══════╡\n",
       "│ 000f30002ec442d1b76b722e9d45a0… ┆ 11    │\n",
       "│ e2cacfc868714ec7b345a43c6e9648… ┆ 11    │\n",
       "│ d97b0f1e1d454a60850087480f148f… ┆ 11    │\n",
       "│ 8f1d7c8ef9414b8fb0a86ac35cc8d3… ┆ 11    │\n",
       "│ ab5bf3d4476e44a181cad76796c318… ┆ 11    │\n",
       "│ …                               ┆ …     │\n",
       "│ 1ada8b80c5ab4e928fe535a69178ee… ┆ 15    │\n",
       "│ 303e009248f84e6ba96307bcdd932d… ┆ 15    │\n",
       "│ 2e45ea85166e4161933a3861c4a067… ┆ 15    │\n",
       "│ 0f8fddc4bca0471591779c357e2887… ┆ 15    │\n",
       "│ 863cf054b5004ed6a597799060df65… ┆ 15    │\n",
       "└─────────────────────────────────┴───────┘"
      ],
      "text/html": [
       "<div><style>\n",
       ".dataframe > thead > tr,\n",
       ".dataframe > tbody > tr {\n",
       "  text-align: right;\n",
       "  white-space: pre-wrap;\n",
       "}\n",
       "</style>\n",
       "<small>shape: (1_000, 2)</small><table border=\"1\" class=\"dataframe\"><thead><tr><th>ranker_id</th><th>count</th></tr><tr><td>str</td><td>u32</td></tr></thead><tbody><tr><td>&quot;000f30002ec442d1b76b722e9d45a0…</td><td>11</td></tr><tr><td>&quot;e2cacfc868714ec7b345a43c6e9648…</td><td>11</td></tr><tr><td>&quot;d97b0f1e1d454a60850087480f148f…</td><td>11</td></tr><tr><td>&quot;8f1d7c8ef9414b8fb0a86ac35cc8d3…</td><td>11</td></tr><tr><td>&quot;ab5bf3d4476e44a181cad76796c318…</td><td>11</td></tr><tr><td>&hellip;</td><td>&hellip;</td></tr><tr><td>&quot;1ada8b80c5ab4e928fe535a69178ee…</td><td>15</td></tr><tr><td>&quot;303e009248f84e6ba96307bcdd932d…</td><td>15</td></tr><tr><td>&quot;2e45ea85166e4161933a3861c4a067…</td><td>15</td></tr><tr><td>&quot;0f8fddc4bca0471591779c357e2887…</td><td>15</td></tr><tr><td>&quot;863cf054b5004ed6a597799060df65…</td><td>15</td></tr></tbody></table></div>"
      ]
     },
     "execution_count": 16,
     "metadata": {},
     "output_type": "execute_result"
    }
   ],
   "execution_count": 16
  },
  {
   "metadata": {
    "ExecuteTime": {
     "end_time": "2025-08-31T20:09:21.520181Z",
     "start_time": "2025-08-31T20:09:21.244727Z"
    }
   },
   "cell_type": "code",
   "source": "test_df.filter(pl.col('ranker_id') == \"000f30002ec442d1b76b722e9d45a000\")['selected','y_pred', 'flight_rank'].head(100)",
   "id": "ed606fd0e1011958",
   "outputs": [
    {
     "data": {
      "text/plain": [
       "shape: (11, 3)\n",
       "┌──────────┬────────────┬─────────────┐\n",
       "│ selected ┆ y_pred     ┆ flight_rank │\n",
       "│ ---      ┆ ---        ┆ ---         │\n",
       "│ i64      ┆ f64        ┆ u32         │\n",
       "╞══════════╪════════════╪═════════════╡\n",
       "│ 1        ┆ -11.687449 ┆ 1           │\n",
       "│ 0        ┆ -14.752849 ┆ 8           │\n",
       "│ 0        ┆ -13.130669 ┆ 3           │\n",
       "│ 0        ┆ -13.614557 ┆ 5           │\n",
       "│ 0        ┆ -14.768519 ┆ 9           │\n",
       "│ …        ┆ …          ┆ …           │\n",
       "│ 0        ┆ -12.664439 ┆ 2           │\n",
       "│ 0        ┆ -15.01319  ┆ 10          │\n",
       "│ 0        ┆ -13.679878 ┆ 6           │\n",
       "│ 0        ┆ -14.401925 ┆ 7           │\n",
       "│ 0        ┆ -15.39698  ┆ 11          │\n",
       "└──────────┴────────────┴─────────────┘"
      ],
      "text/html": [
       "<div><style>\n",
       ".dataframe > thead > tr,\n",
       ".dataframe > tbody > tr {\n",
       "  text-align: right;\n",
       "  white-space: pre-wrap;\n",
       "}\n",
       "</style>\n",
       "<small>shape: (11, 3)</small><table border=\"1\" class=\"dataframe\"><thead><tr><th>selected</th><th>y_pred</th><th>flight_rank</th></tr><tr><td>i64</td><td>f64</td><td>u32</td></tr></thead><tbody><tr><td>1</td><td>-11.687449</td><td>1</td></tr><tr><td>0</td><td>-14.752849</td><td>8</td></tr><tr><td>0</td><td>-13.130669</td><td>3</td></tr><tr><td>0</td><td>-13.614557</td><td>5</td></tr><tr><td>0</td><td>-14.768519</td><td>9</td></tr><tr><td>&hellip;</td><td>&hellip;</td><td>&hellip;</td></tr><tr><td>0</td><td>-12.664439</td><td>2</td></tr><tr><td>0</td><td>-15.01319</td><td>10</td></tr><tr><td>0</td><td>-13.679878</td><td>6</td></tr><tr><td>0</td><td>-14.401925</td><td>7</td></tr><tr><td>0</td><td>-15.39698</td><td>11</td></tr></tbody></table></div>"
      ]
     },
     "execution_count": 24,
     "metadata": {},
     "output_type": "execute_result"
    }
   ],
   "execution_count": 24
  },
  {
   "metadata": {
    "ExecuteTime": {
     "end_time": "2025-08-31T20:02:28.886533Z",
     "start_time": "2025-08-31T20:02:28.878961Z"
    }
   },
   "cell_type": "code",
   "source": "next((item for item in details if item['search_id'] == \"000f30002ec442d1b76b722e9d45a000\"), None)",
   "id": "cfa73be8e6366c0b",
   "outputs": [
    {
     "data": {
      "text/plain": [
       "{'search_id': '000f30002ec442d1b76b722e9d45a000',\n",
       " 'group_size': np.uint32(451),\n",
       " 'num_actual_selections': 1,\n",
       " 'hit': True,\n",
       " 'top_k_scores': [-1.5757630599375563,\n",
       "  -1.5121979278197502,\n",
       "  -0.5738580460759077],\n",
       " 'actual_selections_scores': [-1.5757630599375563]}"
      ]
     },
     "execution_count": 19,
     "metadata": {},
     "output_type": "execute_result"
    }
   ],
   "execution_count": 19
  },
  {
   "metadata": {
    "ExecuteTime": {
     "end_time": "2025-08-31T22:00:26.852775Z",
     "start_time": "2025-08-31T22:00:26.604112Z"
    }
   },
   "cell_type": "code",
   "source": "sample = pl.read_parquet('/kaggle/input/aeroclub-recsys-2025/sample_submission.parquet')",
   "id": "13a9fa698ea2dc49",
   "outputs": [],
   "execution_count": 2
  },
  {
   "metadata": {
    "ExecuteTime": {
     "end_time": "2025-08-31T22:00:35.921804Z",
     "start_time": "2025-08-31T22:00:35.912391Z"
    }
   },
   "cell_type": "code",
   "source": "sample.head(100)",
   "id": "cd91381757aa2c98",
   "outputs": [
    {
     "data": {
      "text/plain": [
       "shape: (100, 4)\n",
       "┌──────────┬─────────────────────────────────┬──────────┬───────────────────┐\n",
       "│ Id       ┆ ranker_id                       ┆ selected ┆ __index_level_0__ │\n",
       "│ ---      ┆ ---                             ┆ ---      ┆ ---               │\n",
       "│ i64      ┆ str                             ┆ i64      ┆ i64               │\n",
       "╞══════════╪═════════════════════════════════╪══════════╪═══════════════════╡\n",
       "│ 18144679 ┆ c9373e5f772e43d593dd6ad2fa90f6… ┆ 178      ┆ 18144679          │\n",
       "│ 18144680 ┆ c9373e5f772e43d593dd6ad2fa90f6… ┆ 363      ┆ 18144680          │\n",
       "│ 18144681 ┆ c9373e5f772e43d593dd6ad2fa90f6… ┆ 277      ┆ 18144681          │\n",
       "│ 18144682 ┆ c9373e5f772e43d593dd6ad2fa90f6… ┆ 183      ┆ 18144682          │\n",
       "│ 18144683 ┆ c9373e5f772e43d593dd6ad2fa90f6… ┆ 55       ┆ 18144683          │\n",
       "│ …        ┆ …                               ┆ …        ┆ …                 │\n",
       "│ 18144774 ┆ c9373e5f772e43d593dd6ad2fa90f6… ┆ 324      ┆ 18144774          │\n",
       "│ 18144775 ┆ c9373e5f772e43d593dd6ad2fa90f6… ┆ 59       ┆ 18144775          │\n",
       "│ 18144776 ┆ c9373e5f772e43d593dd6ad2fa90f6… ┆ 147      ┆ 18144776          │\n",
       "│ 18144777 ┆ c9373e5f772e43d593dd6ad2fa90f6… ┆ 233      ┆ 18144777          │\n",
       "│ 18144778 ┆ c9373e5f772e43d593dd6ad2fa90f6… ┆ 47       ┆ 18144778          │\n",
       "└──────────┴─────────────────────────────────┴──────────┴───────────────────┘"
      ],
      "text/html": [
       "<div><style>\n",
       ".dataframe > thead > tr,\n",
       ".dataframe > tbody > tr {\n",
       "  text-align: right;\n",
       "  white-space: pre-wrap;\n",
       "}\n",
       "</style>\n",
       "<small>shape: (100, 4)</small><table border=\"1\" class=\"dataframe\"><thead><tr><th>Id</th><th>ranker_id</th><th>selected</th><th>__index_level_0__</th></tr><tr><td>i64</td><td>str</td><td>i64</td><td>i64</td></tr></thead><tbody><tr><td>18144679</td><td>&quot;c9373e5f772e43d593dd6ad2fa90f6…</td><td>178</td><td>18144679</td></tr><tr><td>18144680</td><td>&quot;c9373e5f772e43d593dd6ad2fa90f6…</td><td>363</td><td>18144680</td></tr><tr><td>18144681</td><td>&quot;c9373e5f772e43d593dd6ad2fa90f6…</td><td>277</td><td>18144681</td></tr><tr><td>18144682</td><td>&quot;c9373e5f772e43d593dd6ad2fa90f6…</td><td>183</td><td>18144682</td></tr><tr><td>18144683</td><td>&quot;c9373e5f772e43d593dd6ad2fa90f6…</td><td>55</td><td>18144683</td></tr><tr><td>&hellip;</td><td>&hellip;</td><td>&hellip;</td><td>&hellip;</td></tr><tr><td>18144774</td><td>&quot;c9373e5f772e43d593dd6ad2fa90f6…</td><td>324</td><td>18144774</td></tr><tr><td>18144775</td><td>&quot;c9373e5f772e43d593dd6ad2fa90f6…</td><td>59</td><td>18144775</td></tr><tr><td>18144776</td><td>&quot;c9373e5f772e43d593dd6ad2fa90f6…</td><td>147</td><td>18144776</td></tr><tr><td>18144777</td><td>&quot;c9373e5f772e43d593dd6ad2fa90f6…</td><td>233</td><td>18144777</td></tr><tr><td>18144778</td><td>&quot;c9373e5f772e43d593dd6ad2fa90f6…</td><td>47</td><td>18144778</td></tr></tbody></table></div>"
      ]
     },
     "execution_count": 3,
     "metadata": {},
     "output_type": "execute_result"
    }
   ],
   "execution_count": 3
  },
  {
   "metadata": {
    "ExecuteTime": {
     "end_time": "2025-08-31T22:02:05.175256Z",
     "start_time": "2025-08-31T22:02:05.161007Z"
    }
   },
   "cell_type": "code",
   "source": "sample.filter(pl.col('ranker_id') == \"c9373e5f772e43d593dd6ad2fa90f67a\").sort(\"selected\", descending=False)",
   "id": "25cbb5c9e0bcb0f8",
   "outputs": [
    {
     "data": {
      "text/plain": [
       "shape: (412, 4)\n",
       "┌──────────┬─────────────────────────────────┬──────────┬───────────────────┐\n",
       "│ Id       ┆ ranker_id                       ┆ selected ┆ __index_level_0__ │\n",
       "│ ---      ┆ ---                             ┆ ---      ┆ ---               │\n",
       "│ i64      ┆ str                             ┆ i64      ┆ i64               │\n",
       "╞══════════╪═════════════════════════════════╪══════════╪═══════════════════╡\n",
       "│ 18144870 ┆ c9373e5f772e43d593dd6ad2fa90f6… ┆ 1        ┆ 18144870          │\n",
       "│ 18145030 ┆ c9373e5f772e43d593dd6ad2fa90f6… ┆ 2        ┆ 18145030          │\n",
       "│ 18144936 ┆ c9373e5f772e43d593dd6ad2fa90f6… ┆ 3        ┆ 18144936          │\n",
       "│ 18144748 ┆ c9373e5f772e43d593dd6ad2fa90f6… ┆ 4        ┆ 18144748          │\n",
       "│ 18144823 ┆ c9373e5f772e43d593dd6ad2fa90f6… ┆ 5        ┆ 18144823          │\n",
       "│ …        ┆ …                               ┆ …        ┆ …                 │\n",
       "│ 18145000 ┆ c9373e5f772e43d593dd6ad2fa90f6… ┆ 408      ┆ 18145000          │\n",
       "│ 18144751 ┆ c9373e5f772e43d593dd6ad2fa90f6… ┆ 409      ┆ 18144751          │\n",
       "│ 18144918 ┆ c9373e5f772e43d593dd6ad2fa90f6… ┆ 410      ┆ 18144918          │\n",
       "│ 18144688 ┆ c9373e5f772e43d593dd6ad2fa90f6… ┆ 411      ┆ 18144688          │\n",
       "│ 18144773 ┆ c9373e5f772e43d593dd6ad2fa90f6… ┆ 412      ┆ 18144773          │\n",
       "└──────────┴─────────────────────────────────┴──────────┴───────────────────┘"
      ],
      "text/html": [
       "<div><style>\n",
       ".dataframe > thead > tr,\n",
       ".dataframe > tbody > tr {\n",
       "  text-align: right;\n",
       "  white-space: pre-wrap;\n",
       "}\n",
       "</style>\n",
       "<small>shape: (412, 4)</small><table border=\"1\" class=\"dataframe\"><thead><tr><th>Id</th><th>ranker_id</th><th>selected</th><th>__index_level_0__</th></tr><tr><td>i64</td><td>str</td><td>i64</td><td>i64</td></tr></thead><tbody><tr><td>18144870</td><td>&quot;c9373e5f772e43d593dd6ad2fa90f6…</td><td>1</td><td>18144870</td></tr><tr><td>18145030</td><td>&quot;c9373e5f772e43d593dd6ad2fa90f6…</td><td>2</td><td>18145030</td></tr><tr><td>18144936</td><td>&quot;c9373e5f772e43d593dd6ad2fa90f6…</td><td>3</td><td>18144936</td></tr><tr><td>18144748</td><td>&quot;c9373e5f772e43d593dd6ad2fa90f6…</td><td>4</td><td>18144748</td></tr><tr><td>18144823</td><td>&quot;c9373e5f772e43d593dd6ad2fa90f6…</td><td>5</td><td>18144823</td></tr><tr><td>&hellip;</td><td>&hellip;</td><td>&hellip;</td><td>&hellip;</td></tr><tr><td>18145000</td><td>&quot;c9373e5f772e43d593dd6ad2fa90f6…</td><td>408</td><td>18145000</td></tr><tr><td>18144751</td><td>&quot;c9373e5f772e43d593dd6ad2fa90f6…</td><td>409</td><td>18144751</td></tr><tr><td>18144918</td><td>&quot;c9373e5f772e43d593dd6ad2fa90f6…</td><td>410</td><td>18144918</td></tr><tr><td>18144688</td><td>&quot;c9373e5f772e43d593dd6ad2fa90f6…</td><td>411</td><td>18144688</td></tr><tr><td>18144773</td><td>&quot;c9373e5f772e43d593dd6ad2fa90f6…</td><td>412</td><td>18144773</td></tr></tbody></table></div>"
      ]
     },
     "execution_count": 5,
     "metadata": {},
     "output_type": "execute_result"
    }
   ],
   "execution_count": 5
  },
  {
   "metadata": {},
   "cell_type": "code",
   "outputs": [],
   "execution_count": null,
   "source": "",
   "id": "474e3050d8de1a21"
  }
 ],
 "metadata": {
  "kernelspec": {
   "display_name": "Python 3",
   "language": "python",
   "name": "python3"
  },
  "language_info": {
   "codemirror_mode": {
    "name": "ipython",
    "version": 2
   },
   "file_extension": ".py",
   "mimetype": "text/x-python",
   "name": "python",
   "nbconvert_exporter": "python",
   "pygments_lexer": "ipython2",
   "version": "2.7.6"
  }
 },
 "nbformat": 4,
 "nbformat_minor": 5
}
