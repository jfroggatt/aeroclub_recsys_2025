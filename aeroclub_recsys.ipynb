{
 "cells": [
  {
   "metadata": {},
   "cell_type": "markdown",
   "source": [
    "# This is a sample Jupyter Notebook\n",
    "\n",
    "Below is an example of a code cell. \n",
    "Put your cursor into the cell and press Shift+Enter to execute it and select the next one, or click 'Run Cell' button.\n",
    "\n",
    "Press Double Shift to search everywhere for classes, files, tool windows, actions, and settings.\n",
    "\n",
    "To learn more about Jupyter Notebooks in PyCharm, see [help](https://www.jetbrains.com/help/pycharm/ipython-notebook-support.html).\n",
    "For an overview of PyCharm, go to Help -> Learn IDE features or refer to [our documentation](https://www.jetbrains.com/help/pycharm/getting-started.html)."
   ],
   "id": "8a77807f92f26ee"
  },
  {
   "metadata": {
    "ExecuteTime": {
     "end_time": "2025-08-11T23:17:05.320544Z",
     "start_time": "2025-08-11T23:17:02.647939Z"
    }
   },
   "cell_type": "code",
   "source": [
    "import gc\n",
    "import os\n",
    "\n",
    "import numpy as np\n",
    "import pandas as pd\n",
    "import polars as pl\n",
    "import polars.selectors as cs\n",
    "\n",
    "from sklearn.cluster import KMeans, DBSCAN\n",
    "from sklearn.decomposition import PCA\n",
    "from sklearn.ensemble import RandomForestClassifier, GradientBoostingClassifier\n",
    "from sklearn.metrics import classification_report, roc_auc_score\n",
    "from sklearn.model_selection import train_test_split, cross_val_score\n",
    "from sklearn.preprocessing import StandardScaler, LabelEncoder\n",
    "\n",
    "# import warnings\n",
    "# warnings.filterwarnings('ignore')"
   ],
   "id": "fbc121e30a2defb3",
   "outputs": [],
   "execution_count": 1
  },
  {
   "metadata": {
    "ExecuteTime": {
     "end_time": "2025-08-11T23:17:22.197438Z",
     "start_time": "2025-08-11T23:17:12.053670Z"
    }
   },
   "cell_type": "code",
   "source": [
    "# load files\n",
    "# train = pl.read_parquet('/kaggle/input/aeroclub-recsys-2025/train.parquet')\n",
    "# train_y = train['selected']\n",
    "# train = train.drop('selected')\n",
    "\n",
    "# data = pl.concat([train, pl.read_parquet('/kaggle/input/aeroclub-recsys-2025/test.parquet')])\n",
    "data = pl.read_parquet('/kaggle/input/aeroclub-recsys-2025/train.parquet').drop('selected')\n",
    "\n",
    "# del train\n",
    "gc.collect()\n",
    "# sample_submission = pl.read_parquet('/kaggle/input/aeroclub-recsys-2025/sample_submission.parquet')"
   ],
   "id": "20204af1762921bf",
   "outputs": [
    {
     "data": {
      "text/plain": [
       "64"
      ]
     },
     "execution_count": 2,
     "metadata": {},
     "output_type": "execute_result"
    }
   ],
   "execution_count": 2
  },
  {
   "metadata": {
    "ExecuteTime": {
     "end_time": "2025-08-09T20:56:38.645514Z",
     "start_time": "2025-08-09T20:56:38.612553Z"
    }
   },
   "cell_type": "code",
   "source": "# sample_submission.head()",
   "id": "2f5dc8b4732a3183",
   "outputs": [
    {
     "data": {
      "text/plain": [
       "                Id                         ranker_id  selected\n",
       "18144679  18144679  c9373e5f772e43d593dd6ad2fa90f67a       178\n",
       "18144680  18144680  c9373e5f772e43d593dd6ad2fa90f67a       363\n",
       "18144681  18144681  c9373e5f772e43d593dd6ad2fa90f67a       277\n",
       "18144682  18144682  c9373e5f772e43d593dd6ad2fa90f67a       183\n",
       "18144683  18144683  c9373e5f772e43d593dd6ad2fa90f67a        55"
      ],
      "text/html": [
       "<div>\n",
       "<style scoped>\n",
       "    .dataframe tbody tr th:only-of-type {\n",
       "        vertical-align: middle;\n",
       "    }\n",
       "\n",
       "    .dataframe tbody tr th {\n",
       "        vertical-align: top;\n",
       "    }\n",
       "\n",
       "    .dataframe thead th {\n",
       "        text-align: right;\n",
       "    }\n",
       "</style>\n",
       "<table border=\"1\" class=\"dataframe\">\n",
       "  <thead>\n",
       "    <tr style=\"text-align: right;\">\n",
       "      <th></th>\n",
       "      <th>Id</th>\n",
       "      <th>ranker_id</th>\n",
       "      <th>selected</th>\n",
       "    </tr>\n",
       "  </thead>\n",
       "  <tbody>\n",
       "    <tr>\n",
       "      <th>18144679</th>\n",
       "      <td>18144679</td>\n",
       "      <td>c9373e5f772e43d593dd6ad2fa90f67a</td>\n",
       "      <td>178</td>\n",
       "    </tr>\n",
       "    <tr>\n",
       "      <th>18144680</th>\n",
       "      <td>18144680</td>\n",
       "      <td>c9373e5f772e43d593dd6ad2fa90f67a</td>\n",
       "      <td>363</td>\n",
       "    </tr>\n",
       "    <tr>\n",
       "      <th>18144681</th>\n",
       "      <td>18144681</td>\n",
       "      <td>c9373e5f772e43d593dd6ad2fa90f67a</td>\n",
       "      <td>277</td>\n",
       "    </tr>\n",
       "    <tr>\n",
       "      <th>18144682</th>\n",
       "      <td>18144682</td>\n",
       "      <td>c9373e5f772e43d593dd6ad2fa90f67a</td>\n",
       "      <td>183</td>\n",
       "    </tr>\n",
       "    <tr>\n",
       "      <th>18144683</th>\n",
       "      <td>18144683</td>\n",
       "      <td>c9373e5f772e43d593dd6ad2fa90f67a</td>\n",
       "      <td>55</td>\n",
       "    </tr>\n",
       "  </tbody>\n",
       "</table>\n",
       "</div>"
      ]
     },
     "execution_count": 16,
     "metadata": {},
     "output_type": "execute_result"
    }
   ],
   "execution_count": 16
  },
  {
   "metadata": {
    "ExecuteTime": {
     "end_time": "2025-08-11T23:17:26.910339Z",
     "start_time": "2025-08-11T23:17:26.894166Z"
    }
   },
   "cell_type": "code",
   "source": "data.head()",
   "id": "904deec5a1c5ec33",
   "outputs": [
    {
     "data": {
      "text/plain": [
       "shape: (5, 126)\n",
       "┌─────┬────────┬───────────┬───────────────────┬───┬──────┬────────┬────────────┬──────────────────┐\n",
       "│ Id  ┆ bySelf ┆ companyID ┆ corporateTariffCo ┆ … ┆ sex  ┆ taxes  ┆ totalPrice ┆ __index_level_0_ │\n",
       "│ --- ┆ ---    ┆ ---       ┆ de                ┆   ┆ ---  ┆ ---    ┆ ---        ┆ _                │\n",
       "│ i64 ┆ bool   ┆ i64       ┆ ---               ┆   ┆ bool ┆ f64    ┆ f64        ┆ ---              │\n",
       "│     ┆        ┆           ┆ i64               ┆   ┆      ┆        ┆            ┆ i64              │\n",
       "╞═════╪════════╪═══════════╪═══════════════════╪═══╪══════╪════════╪════════════╪══════════════════╡\n",
       "│ 0   ┆ true   ┆ 57323     ┆ null              ┆ … ┆ true ┆ 370.0  ┆ 16884.0    ┆ 0                │\n",
       "│ 1   ┆ true   ┆ 57323     ┆ 123               ┆ … ┆ true ┆ 2240.0 ┆ 51125.0    ┆ 1                │\n",
       "│ 2   ┆ true   ┆ 57323     ┆ null              ┆ … ┆ true ┆ 2240.0 ┆ 53695.0    ┆ 2                │\n",
       "│ 3   ┆ true   ┆ 57323     ┆ 123               ┆ … ┆ true ┆ 2240.0 ┆ 81880.0    ┆ 3                │\n",
       "│ 4   ┆ true   ┆ 57323     ┆ null              ┆ … ┆ true ┆ 2240.0 ┆ 86070.0    ┆ 4                │\n",
       "└─────┴────────┴───────────┴───────────────────┴───┴──────┴────────┴────────────┴──────────────────┘"
      ],
      "text/html": [
       "<div><style>\n",
       ".dataframe > thead > tr,\n",
       ".dataframe > tbody > tr {\n",
       "  text-align: right;\n",
       "  white-space: pre-wrap;\n",
       "}\n",
       "</style>\n",
       "<small>shape: (5, 126)</small><table border=\"1\" class=\"dataframe\"><thead><tr><th>Id</th><th>bySelf</th><th>companyID</th><th>corporateTariffCode</th><th>frequentFlyer</th><th>nationality</th><th>isAccess3D</th><th>isVip</th><th>legs0_arrivalAt</th><th>legs0_departureAt</th><th>legs0_duration</th><th>legs0_segments0_aircraft_code</th><th>legs0_segments0_arrivalTo_airport_city_iata</th><th>legs0_segments0_arrivalTo_airport_iata</th><th>legs0_segments0_baggageAllowance_quantity</th><th>legs0_segments0_baggageAllowance_weightMeasurementType</th><th>legs0_segments0_cabinClass</th><th>legs0_segments0_departureFrom_airport_iata</th><th>legs0_segments0_duration</th><th>legs0_segments0_flightNumber</th><th>legs0_segments0_marketingCarrier_code</th><th>legs0_segments0_operatingCarrier_code</th><th>legs0_segments0_seatsAvailable</th><th>legs0_segments1_aircraft_code</th><th>legs0_segments1_arrivalTo_airport_city_iata</th><th>legs0_segments1_arrivalTo_airport_iata</th><th>legs0_segments1_baggageAllowance_quantity</th><th>legs0_segments1_baggageAllowance_weightMeasurementType</th><th>legs0_segments1_cabinClass</th><th>legs0_segments1_departureFrom_airport_iata</th><th>legs0_segments1_duration</th><th>legs0_segments1_flightNumber</th><th>legs0_segments1_marketingCarrier_code</th><th>legs0_segments1_operatingCarrier_code</th><th>legs0_segments1_seatsAvailable</th><th>legs0_segments2_aircraft_code</th><th>legs0_segments2_arrivalTo_airport_city_iata</th><th>&hellip;</th><th>legs1_segments2_baggageAllowance_quantity</th><th>legs1_segments2_baggageAllowance_weightMeasurementType</th><th>legs1_segments2_cabinClass</th><th>legs1_segments2_departureFrom_airport_iata</th><th>legs1_segments2_duration</th><th>legs1_segments2_flightNumber</th><th>legs1_segments2_marketingCarrier_code</th><th>legs1_segments2_operatingCarrier_code</th><th>legs1_segments2_seatsAvailable</th><th>legs1_segments3_aircraft_code</th><th>legs1_segments3_arrivalTo_airport_city_iata</th><th>legs1_segments3_arrivalTo_airport_iata</th><th>legs1_segments3_baggageAllowance_quantity</th><th>legs1_segments3_baggageAllowance_weightMeasurementType</th><th>legs1_segments3_cabinClass</th><th>legs1_segments3_departureFrom_airport_iata</th><th>legs1_segments3_duration</th><th>legs1_segments3_flightNumber</th><th>legs1_segments3_marketingCarrier_code</th><th>legs1_segments3_operatingCarrier_code</th><th>legs1_segments3_seatsAvailable</th><th>miniRules0_monetaryAmount</th><th>miniRules0_percentage</th><th>miniRules0_statusInfos</th><th>miniRules1_monetaryAmount</th><th>miniRules1_percentage</th><th>miniRules1_statusInfos</th><th>pricingInfo_isAccessTP</th><th>pricingInfo_passengerCount</th><th>profileId</th><th>ranker_id</th><th>requestDate</th><th>searchRoute</th><th>sex</th><th>taxes</th><th>totalPrice</th><th>__index_level_0__</th></tr><tr><td>i64</td><td>bool</td><td>i64</td><td>i64</td><td>str</td><td>i64</td><td>bool</td><td>bool</td><td>str</td><td>str</td><td>str</td><td>str</td><td>str</td><td>str</td><td>f64</td><td>f64</td><td>f64</td><td>str</td><td>str</td><td>str</td><td>str</td><td>str</td><td>f64</td><td>str</td><td>str</td><td>str</td><td>f64</td><td>f64</td><td>f64</td><td>str</td><td>str</td><td>str</td><td>str</td><td>str</td><td>f64</td><td>str</td><td>str</td><td>&hellip;</td><td>f64</td><td>f64</td><td>f64</td><td>str</td><td>str</td><td>str</td><td>str</td><td>str</td><td>f64</td><td>str</td><td>str</td><td>str</td><td>f64</td><td>f64</td><td>f64</td><td>str</td><td>str</td><td>str</td><td>str</td><td>str</td><td>f64</td><td>f64</td><td>f64</td><td>f64</td><td>f64</td><td>f64</td><td>f64</td><td>f64</td><td>i64</td><td>i64</td><td>str</td><td>datetime[ns]</td><td>str</td><td>bool</td><td>f64</td><td>f64</td><td>i64</td></tr></thead><tbody><tr><td>0</td><td>true</td><td>57323</td><td>null</td><td>&quot;S7/SU/UT&quot;</td><td>36</td><td>false</td><td>false</td><td>&quot;2024-06-15T16:20:00&quot;</td><td>&quot;2024-06-15T15:40:00&quot;</td><td>&quot;02:40:00&quot;</td><td>&quot;YK2&quot;</td><td>&quot;KJA&quot;</td><td>&quot;KJA&quot;</td><td>1.0</td><td>0.0</td><td>1.0</td><td>&quot;TLK&quot;</td><td>&quot;02:40:00&quot;</td><td>&quot;216&quot;</td><td>&quot;KV&quot;</td><td>&quot;KV&quot;</td><td>9.0</td><td>null</td><td>null</td><td>null</td><td>null</td><td>null</td><td>null</td><td>null</td><td>null</td><td>null</td><td>null</td><td>null</td><td>null</td><td>null</td><td>null</td><td>&hellip;</td><td>null</td><td>null</td><td>null</td><td>null</td><td>null</td><td>null</td><td>null</td><td>null</td><td>null</td><td>null</td><td>null</td><td>null</td><td>null</td><td>null</td><td>null</td><td>null</td><td>null</td><td>null</td><td>null</td><td>null</td><td>null</td><td>null</td><td>null</td><td>null</td><td>null</td><td>null</td><td>null</td><td>1.0</td><td>1</td><td>2087645</td><td>&quot;98ce0dabf6964640b63079fbafd42c…</td><td>2024-05-17 03:03:08</td><td>&quot;TLKKJA/KJATLK&quot;</td><td>true</td><td>370.0</td><td>16884.0</td><td>0</td></tr><tr><td>1</td><td>true</td><td>57323</td><td>123</td><td>&quot;S7/SU/UT&quot;</td><td>36</td><td>true</td><td>false</td><td>&quot;2024-06-15T14:50:00&quot;</td><td>&quot;2024-06-15T09:25:00&quot;</td><td>&quot;07:25:00&quot;</td><td>&quot;E70&quot;</td><td>&quot;OVB&quot;</td><td>&quot;OVB&quot;</td><td>1.0</td><td>0.0</td><td>1.0</td><td>&quot;TLK&quot;</td><td>&quot;02:50:00&quot;</td><td>&quot;5358&quot;</td><td>&quot;S7&quot;</td><td>&quot;S7&quot;</td><td>4.0</td><td>&quot;E70&quot;</td><td>&quot;KJA&quot;</td><td>&quot;KJA&quot;</td><td>1.0</td><td>0.0</td><td>1.0</td><td>&quot;OVB&quot;</td><td>&quot;01:20:00&quot;</td><td>&quot;5311&quot;</td><td>&quot;S7&quot;</td><td>&quot;S7&quot;</td><td>4.0</td><td>null</td><td>null</td><td>&hellip;</td><td>null</td><td>null</td><td>null</td><td>null</td><td>null</td><td>null</td><td>null</td><td>null</td><td>null</td><td>null</td><td>null</td><td>null</td><td>null</td><td>null</td><td>null</td><td>null</td><td>null</td><td>null</td><td>null</td><td>null</td><td>null</td><td>2300.0</td><td>null</td><td>1.0</td><td>3500.0</td><td>null</td><td>1.0</td><td>1.0</td><td>1</td><td>2087645</td><td>&quot;98ce0dabf6964640b63079fbafd42c…</td><td>2024-05-17 03:03:08</td><td>&quot;TLKKJA/KJATLK&quot;</td><td>true</td><td>2240.0</td><td>51125.0</td><td>1</td></tr><tr><td>2</td><td>true</td><td>57323</td><td>null</td><td>&quot;S7/SU/UT&quot;</td><td>36</td><td>false</td><td>false</td><td>&quot;2024-06-15T14:50:00&quot;</td><td>&quot;2024-06-15T09:25:00&quot;</td><td>&quot;07:25:00&quot;</td><td>&quot;E70&quot;</td><td>&quot;OVB&quot;</td><td>&quot;OVB&quot;</td><td>1.0</td><td>0.0</td><td>1.0</td><td>&quot;TLK&quot;</td><td>&quot;02:50:00&quot;</td><td>&quot;5358&quot;</td><td>&quot;S7&quot;</td><td>&quot;S7&quot;</td><td>4.0</td><td>&quot;E70&quot;</td><td>&quot;KJA&quot;</td><td>&quot;KJA&quot;</td><td>1.0</td><td>0.0</td><td>1.0</td><td>&quot;OVB&quot;</td><td>&quot;01:20:00&quot;</td><td>&quot;5311&quot;</td><td>&quot;S7&quot;</td><td>&quot;S7&quot;</td><td>4.0</td><td>null</td><td>null</td><td>&hellip;</td><td>null</td><td>null</td><td>null</td><td>null</td><td>null</td><td>null</td><td>null</td><td>null</td><td>null</td><td>null</td><td>null</td><td>null</td><td>null</td><td>null</td><td>null</td><td>null</td><td>null</td><td>null</td><td>null</td><td>null</td><td>null</td><td>2300.0</td><td>null</td><td>1.0</td><td>3500.0</td><td>null</td><td>1.0</td><td>1.0</td><td>1</td><td>2087645</td><td>&quot;98ce0dabf6964640b63079fbafd42c…</td><td>2024-05-17 03:03:08</td><td>&quot;TLKKJA/KJATLK&quot;</td><td>true</td><td>2240.0</td><td>53695.0</td><td>2</td></tr><tr><td>3</td><td>true</td><td>57323</td><td>123</td><td>&quot;S7/SU/UT&quot;</td><td>36</td><td>true</td><td>false</td><td>&quot;2024-06-15T14:50:00&quot;</td><td>&quot;2024-06-15T09:25:00&quot;</td><td>&quot;07:25:00&quot;</td><td>&quot;E70&quot;</td><td>&quot;OVB&quot;</td><td>&quot;OVB&quot;</td><td>1.0</td><td>0.0</td><td>1.0</td><td>&quot;TLK&quot;</td><td>&quot;02:50:00&quot;</td><td>&quot;5358&quot;</td><td>&quot;S7&quot;</td><td>&quot;S7&quot;</td><td>4.0</td><td>&quot;E70&quot;</td><td>&quot;KJA&quot;</td><td>&quot;KJA&quot;</td><td>1.0</td><td>0.0</td><td>1.0</td><td>&quot;OVB&quot;</td><td>&quot;01:20:00&quot;</td><td>&quot;5311&quot;</td><td>&quot;S7&quot;</td><td>&quot;S7&quot;</td><td>4.0</td><td>null</td><td>null</td><td>&hellip;</td><td>null</td><td>null</td><td>null</td><td>null</td><td>null</td><td>null</td><td>null</td><td>null</td><td>null</td><td>null</td><td>null</td><td>null</td><td>null</td><td>null</td><td>null</td><td>null</td><td>null</td><td>null</td><td>null</td><td>null</td><td>null</td><td>0.0</td><td>null</td><td>1.0</td><td>0.0</td><td>null</td><td>1.0</td><td>1.0</td><td>1</td><td>2087645</td><td>&quot;98ce0dabf6964640b63079fbafd42c…</td><td>2024-05-17 03:03:08</td><td>&quot;TLKKJA/KJATLK&quot;</td><td>true</td><td>2240.0</td><td>81880.0</td><td>3</td></tr><tr><td>4</td><td>true</td><td>57323</td><td>null</td><td>&quot;S7/SU/UT&quot;</td><td>36</td><td>false</td><td>false</td><td>&quot;2024-06-15T14:50:00&quot;</td><td>&quot;2024-06-15T09:25:00&quot;</td><td>&quot;07:25:00&quot;</td><td>&quot;E70&quot;</td><td>&quot;OVB&quot;</td><td>&quot;OVB&quot;</td><td>1.0</td><td>0.0</td><td>1.0</td><td>&quot;TLK&quot;</td><td>&quot;02:50:00&quot;</td><td>&quot;5358&quot;</td><td>&quot;S7&quot;</td><td>&quot;S7&quot;</td><td>4.0</td><td>&quot;E70&quot;</td><td>&quot;KJA&quot;</td><td>&quot;KJA&quot;</td><td>1.0</td><td>0.0</td><td>1.0</td><td>&quot;OVB&quot;</td><td>&quot;01:20:00&quot;</td><td>&quot;5311&quot;</td><td>&quot;S7&quot;</td><td>&quot;S7&quot;</td><td>4.0</td><td>null</td><td>null</td><td>&hellip;</td><td>null</td><td>null</td><td>null</td><td>null</td><td>null</td><td>null</td><td>null</td><td>null</td><td>null</td><td>null</td><td>null</td><td>null</td><td>null</td><td>null</td><td>null</td><td>null</td><td>null</td><td>null</td><td>null</td><td>null</td><td>null</td><td>0.0</td><td>null</td><td>1.0</td><td>0.0</td><td>null</td><td>1.0</td><td>1.0</td><td>1</td><td>2087645</td><td>&quot;98ce0dabf6964640b63079fbafd42c…</td><td>2024-05-17 03:03:08</td><td>&quot;TLKKJA/KJATLK&quot;</td><td>true</td><td>2240.0</td><td>86070.0</td><td>4</td></tr></tbody></table></div>"
      ]
     },
     "execution_count": 3,
     "metadata": {},
     "output_type": "execute_result"
    }
   ],
   "execution_count": 3
  },
  {
   "metadata": {
    "ExecuteTime": {
     "end_time": "2025-08-11T22:01:52.609492Z",
     "start_time": "2025-08-11T22:01:52.600670Z"
    }
   },
   "cell_type": "code",
   "source": "data.tail()",
   "id": "40d8c2a8c4848be8",
   "outputs": [
    {
     "data": {
      "text/plain": [
       "shape: (5, 126)\n",
       "┌──────────┬────────┬───────────┬────────────────┬───┬──────┬────────┬────────────┬────────────────┐\n",
       "│ Id       ┆ bySelf ┆ companyID ┆ corporateTarif ┆ … ┆ sex  ┆ taxes  ┆ totalPrice ┆ __index_level_ │\n",
       "│ ---      ┆ ---    ┆ ---       ┆ fCode          ┆   ┆ ---  ┆ ---    ┆ ---        ┆ 0__            │\n",
       "│ i64      ┆ bool   ┆ i64       ┆ ---            ┆   ┆ bool ┆ f64    ┆ f64        ┆ ---            │\n",
       "│          ┆        ┆           ┆ i64            ┆   ┆      ┆        ┆            ┆ i64            │\n",
       "╞══════════╪════════╪═══════════╪════════════════╪═══╪══════╪════════╪════════════╪════════════════╡\n",
       "│ 18146427 ┆ true   ┆ 54154     ┆ 44             ┆ … ┆ true ┆ 5560.0 ┆ 30730.0    ┆ 18146427       │\n",
       "│ 18146428 ┆ true   ┆ 54154     ┆ 44             ┆ … ┆ true ┆ 5560.0 ┆ 27660.0    ┆ 18146428       │\n",
       "│ 18146429 ┆ true   ┆ 54154     ┆ 44             ┆ … ┆ true ┆ 5460.0 ┆ 24460.0    ┆ 18146429       │\n",
       "│ 18146430 ┆ true   ┆ 54154     ┆ 44             ┆ … ┆ true ┆ 5560.0 ┆ 25360.0    ┆ 18146430       │\n",
       "│ 18146431 ┆ true   ┆ 54154     ┆ 44             ┆ … ┆ true ┆ 5460.0 ┆ 22160.0    ┆ 18146431       │\n",
       "└──────────┴────────┴───────────┴────────────────┴───┴──────┴────────┴────────────┴────────────────┘"
      ],
      "text/html": [
       "<div><style>\n",
       ".dataframe > thead > tr,\n",
       ".dataframe > tbody > tr {\n",
       "  text-align: right;\n",
       "  white-space: pre-wrap;\n",
       "}\n",
       "</style>\n",
       "<small>shape: (5, 126)</small><table border=\"1\" class=\"dataframe\"><thead><tr><th>Id</th><th>bySelf</th><th>companyID</th><th>corporateTariffCode</th><th>frequentFlyer</th><th>nationality</th><th>isAccess3D</th><th>isVip</th><th>legs0_arrivalAt</th><th>legs0_departureAt</th><th>legs0_duration</th><th>legs0_segments0_aircraft_code</th><th>legs0_segments0_arrivalTo_airport_city_iata</th><th>legs0_segments0_arrivalTo_airport_iata</th><th>legs0_segments0_baggageAllowance_quantity</th><th>legs0_segments0_baggageAllowance_weightMeasurementType</th><th>legs0_segments0_cabinClass</th><th>legs0_segments0_departureFrom_airport_iata</th><th>legs0_segments0_duration</th><th>legs0_segments0_flightNumber</th><th>legs0_segments0_marketingCarrier_code</th><th>legs0_segments0_operatingCarrier_code</th><th>legs0_segments0_seatsAvailable</th><th>legs0_segments1_aircraft_code</th><th>legs0_segments1_arrivalTo_airport_city_iata</th><th>legs0_segments1_arrivalTo_airport_iata</th><th>legs0_segments1_baggageAllowance_quantity</th><th>legs0_segments1_baggageAllowance_weightMeasurementType</th><th>legs0_segments1_cabinClass</th><th>legs0_segments1_departureFrom_airport_iata</th><th>legs0_segments1_duration</th><th>legs0_segments1_flightNumber</th><th>legs0_segments1_marketingCarrier_code</th><th>legs0_segments1_operatingCarrier_code</th><th>legs0_segments1_seatsAvailable</th><th>legs0_segments2_aircraft_code</th><th>legs0_segments2_arrivalTo_airport_city_iata</th><th>&hellip;</th><th>legs1_segments2_baggageAllowance_quantity</th><th>legs1_segments2_baggageAllowance_weightMeasurementType</th><th>legs1_segments2_cabinClass</th><th>legs1_segments2_departureFrom_airport_iata</th><th>legs1_segments2_duration</th><th>legs1_segments2_flightNumber</th><th>legs1_segments2_marketingCarrier_code</th><th>legs1_segments2_operatingCarrier_code</th><th>legs1_segments2_seatsAvailable</th><th>legs1_segments3_aircraft_code</th><th>legs1_segments3_arrivalTo_airport_city_iata</th><th>legs1_segments3_arrivalTo_airport_iata</th><th>legs1_segments3_baggageAllowance_quantity</th><th>legs1_segments3_baggageAllowance_weightMeasurementType</th><th>legs1_segments3_cabinClass</th><th>legs1_segments3_departureFrom_airport_iata</th><th>legs1_segments3_duration</th><th>legs1_segments3_flightNumber</th><th>legs1_segments3_marketingCarrier_code</th><th>legs1_segments3_operatingCarrier_code</th><th>legs1_segments3_seatsAvailable</th><th>miniRules0_monetaryAmount</th><th>miniRules0_percentage</th><th>miniRules0_statusInfos</th><th>miniRules1_monetaryAmount</th><th>miniRules1_percentage</th><th>miniRules1_statusInfos</th><th>pricingInfo_isAccessTP</th><th>pricingInfo_passengerCount</th><th>profileId</th><th>ranker_id</th><th>requestDate</th><th>searchRoute</th><th>sex</th><th>taxes</th><th>totalPrice</th><th>__index_level_0__</th></tr><tr><td>i64</td><td>bool</td><td>i64</td><td>i64</td><td>str</td><td>i64</td><td>bool</td><td>bool</td><td>str</td><td>str</td><td>str</td><td>str</td><td>str</td><td>str</td><td>f64</td><td>f64</td><td>f64</td><td>str</td><td>str</td><td>str</td><td>str</td><td>str</td><td>f64</td><td>str</td><td>str</td><td>str</td><td>f64</td><td>f64</td><td>f64</td><td>str</td><td>str</td><td>str</td><td>str</td><td>str</td><td>f64</td><td>str</td><td>str</td><td>&hellip;</td><td>f64</td><td>f64</td><td>f64</td><td>str</td><td>str</td><td>str</td><td>str</td><td>str</td><td>f64</td><td>str</td><td>str</td><td>str</td><td>f64</td><td>f64</td><td>f64</td><td>str</td><td>str</td><td>str</td><td>str</td><td>str</td><td>f64</td><td>f64</td><td>f64</td><td>f64</td><td>f64</td><td>f64</td><td>f64</td><td>f64</td><td>i64</td><td>i64</td><td>str</td><td>datetime[ns]</td><td>str</td><td>bool</td><td>f64</td><td>f64</td><td>i64</td></tr></thead><tbody><tr><td>18146427</td><td>true</td><td>54154</td><td>44</td><td>null</td><td>36</td><td>true</td><td>false</td><td>&quot;2024-11-06T09:45:00&quot;</td><td>&quot;2024-11-05T20:50:00&quot;</td><td>&quot;10:55:00&quot;</td><td>&quot;738&quot;</td><td>&quot;SGC&quot;</td><td>&quot;SGC&quot;</td><td>0.0</td><td>0.0</td><td>1.0</td><td>&quot;VKO&quot;</td><td>&quot;03:20:00&quot;</td><td>&quot;247&quot;</td><td>&quot;UT&quot;</td><td>&quot;UT&quot;</td><td>3.0</td><td>&quot;AT7&quot;</td><td>&quot;SVX&quot;</td><td>&quot;SVX&quot;</td><td>0.0</td><td>0.0</td><td>1.0</td><td>&quot;SGC&quot;</td><td>&quot;02:30:00&quot;</td><td>&quot;111&quot;</td><td>&quot;UT&quot;</td><td>&quot;UT&quot;</td><td>5.0</td><td>null</td><td>null</td><td>&hellip;</td><td>null</td><td>null</td><td>null</td><td>null</td><td>null</td><td>null</td><td>null</td><td>null</td><td>null</td><td>null</td><td>null</td><td>null</td><td>null</td><td>null</td><td>null</td><td>null</td><td>null</td><td>null</td><td>null</td><td>null</td><td>null</td><td>24000.0</td><td>null</td><td>1.0</td><td>0.0</td><td>null</td><td>0.0</td><td>0.0</td><td>1</td><td>3046852</td><td>&quot;88f8c53a28bf4f438941fd67338009…</td><td>2024-10-29 12:46:20</td><td>&quot;MOWSVX/SVXMOW&quot;</td><td>true</td><td>5560.0</td><td>30730.0</td><td>18146427</td></tr><tr><td>18146428</td><td>true</td><td>54154</td><td>44</td><td>null</td><td>36</td><td>true</td><td>false</td><td>&quot;2024-11-05T20:00:00&quot;</td><td>&quot;2024-11-05T00:20:00&quot;</td><td>&quot;17:40:00&quot;</td><td>&quot;738&quot;</td><td>&quot;UFA&quot;</td><td>&quot;UFA&quot;</td><td>0.0</td><td>0.0</td><td>1.0</td><td>&quot;VKO&quot;</td><td>&quot;02:05:00&quot;</td><td>&quot;363&quot;</td><td>&quot;UT&quot;</td><td>&quot;UT&quot;</td><td>3.0</td><td>&quot;AT7&quot;</td><td>&quot;SVX&quot;</td><td>&quot;SVX&quot;</td><td>0.0</td><td>0.0</td><td>1.0</td><td>&quot;UFA&quot;</td><td>&quot;01:30:00&quot;</td><td>&quot;106&quot;</td><td>&quot;UT&quot;</td><td>&quot;UT&quot;</td><td>9.0</td><td>null</td><td>null</td><td>&hellip;</td><td>null</td><td>null</td><td>null</td><td>null</td><td>null</td><td>null</td><td>null</td><td>null</td><td>null</td><td>null</td><td>null</td><td>null</td><td>null</td><td>null</td><td>null</td><td>null</td><td>null</td><td>null</td><td>null</td><td>null</td><td>null</td><td>24000.0</td><td>null</td><td>1.0</td><td>0.0</td><td>null</td><td>0.0</td><td>0.0</td><td>1</td><td>3046852</td><td>&quot;88f8c53a28bf4f438941fd67338009…</td><td>2024-10-29 12:46:20</td><td>&quot;MOWSVX/SVXMOW&quot;</td><td>true</td><td>5560.0</td><td>27660.0</td><td>18146428</td></tr><tr><td>18146429</td><td>true</td><td>54154</td><td>44</td><td>null</td><td>36</td><td>true</td><td>false</td><td>&quot;2024-11-05T20:00:00&quot;</td><td>&quot;2024-11-05T00:20:00&quot;</td><td>&quot;17:40:00&quot;</td><td>&quot;738&quot;</td><td>&quot;UFA&quot;</td><td>&quot;UFA&quot;</td><td>0.0</td><td>0.0</td><td>1.0</td><td>&quot;VKO&quot;</td><td>&quot;02:05:00&quot;</td><td>&quot;363&quot;</td><td>&quot;UT&quot;</td><td>&quot;UT&quot;</td><td>3.0</td><td>&quot;AT7&quot;</td><td>&quot;SVX&quot;</td><td>&quot;SVX&quot;</td><td>0.0</td><td>0.0</td><td>1.0</td><td>&quot;UFA&quot;</td><td>&quot;01:30:00&quot;</td><td>&quot;106&quot;</td><td>&quot;UT&quot;</td><td>&quot;UT&quot;</td><td>9.0</td><td>null</td><td>null</td><td>&hellip;</td><td>null</td><td>null</td><td>null</td><td>null</td><td>null</td><td>null</td><td>null</td><td>null</td><td>null</td><td>null</td><td>null</td><td>null</td><td>null</td><td>null</td><td>null</td><td>null</td><td>null</td><td>null</td><td>null</td><td>null</td><td>null</td><td>24000.0</td><td>null</td><td>1.0</td><td>0.0</td><td>null</td><td>0.0</td><td>0.0</td><td>1</td><td>3046852</td><td>&quot;88f8c53a28bf4f438941fd67338009…</td><td>2024-10-29 12:46:20</td><td>&quot;MOWSVX/SVXMOW&quot;</td><td>true</td><td>5460.0</td><td>24460.0</td><td>18146429</td></tr><tr><td>18146430</td><td>true</td><td>54154</td><td>44</td><td>null</td><td>36</td><td>true</td><td>false</td><td>&quot;2024-11-06T17:10:00&quot;</td><td>&quot;2024-11-05T19:30:00&quot;</td><td>&quot;19:40:00&quot;</td><td>&quot;738&quot;</td><td>&quot;KUF&quot;</td><td>&quot;KUF&quot;</td><td>0.0</td><td>0.0</td><td>1.0</td><td>&quot;VKO&quot;</td><td>&quot;01:45:00&quot;</td><td>&quot;357&quot;</td><td>&quot;UT&quot;</td><td>&quot;UT&quot;</td><td>4.0</td><td>&quot;AT7&quot;</td><td>&quot;SVX&quot;</td><td>&quot;SVX&quot;</td><td>0.0</td><td>0.0</td><td>1.0</td><td>&quot;KUF&quot;</td><td>&quot;02:05:00&quot;</td><td>&quot;282&quot;</td><td>&quot;UT&quot;</td><td>&quot;UT&quot;</td><td>2.0</td><td>null</td><td>null</td><td>&hellip;</td><td>null</td><td>null</td><td>null</td><td>null</td><td>null</td><td>null</td><td>null</td><td>null</td><td>null</td><td>null</td><td>null</td><td>null</td><td>null</td><td>null</td><td>null</td><td>null</td><td>null</td><td>null</td><td>null</td><td>null</td><td>null</td><td>24000.0</td><td>null</td><td>1.0</td><td>0.0</td><td>null</td><td>0.0</td><td>0.0</td><td>1</td><td>3046852</td><td>&quot;88f8c53a28bf4f438941fd67338009…</td><td>2024-10-29 12:46:20</td><td>&quot;MOWSVX/SVXMOW&quot;</td><td>true</td><td>5560.0</td><td>25360.0</td><td>18146430</td></tr><tr><td>18146431</td><td>true</td><td>54154</td><td>44</td><td>null</td><td>36</td><td>true</td><td>false</td><td>&quot;2024-11-06T17:10:00&quot;</td><td>&quot;2024-11-05T19:30:00&quot;</td><td>&quot;19:40:00&quot;</td><td>&quot;738&quot;</td><td>&quot;KUF&quot;</td><td>&quot;KUF&quot;</td><td>0.0</td><td>0.0</td><td>1.0</td><td>&quot;VKO&quot;</td><td>&quot;01:45:00&quot;</td><td>&quot;357&quot;</td><td>&quot;UT&quot;</td><td>&quot;UT&quot;</td><td>9.0</td><td>&quot;AT7&quot;</td><td>&quot;SVX&quot;</td><td>&quot;SVX&quot;</td><td>0.0</td><td>0.0</td><td>1.0</td><td>&quot;KUF&quot;</td><td>&quot;02:05:00&quot;</td><td>&quot;282&quot;</td><td>&quot;UT&quot;</td><td>&quot;UT&quot;</td><td>2.0</td><td>null</td><td>null</td><td>&hellip;</td><td>null</td><td>null</td><td>null</td><td>null</td><td>null</td><td>null</td><td>null</td><td>null</td><td>null</td><td>null</td><td>null</td><td>null</td><td>null</td><td>null</td><td>null</td><td>null</td><td>null</td><td>null</td><td>null</td><td>null</td><td>null</td><td>24000.0</td><td>null</td><td>1.0</td><td>0.0</td><td>null</td><td>0.0</td><td>0.0</td><td>1</td><td>3046852</td><td>&quot;88f8c53a28bf4f438941fd67338009…</td><td>2024-10-29 12:46:20</td><td>&quot;MOWSVX/SVXMOW&quot;</td><td>true</td><td>5460.0</td><td>22160.0</td><td>18146431</td></tr></tbody></table></div>"
      ]
     },
     "execution_count": 4,
     "metadata": {},
     "output_type": "execute_result"
    }
   ],
   "execution_count": 4
  },
  {
   "metadata": {
    "ExecuteTime": {
     "end_time": "2025-08-11T23:17:33.276101Z",
     "start_time": "2025-08-11T23:17:33.270299Z"
    }
   },
   "cell_type": "code",
   "source": "data.shape",
   "id": "aada5ddbe67c146e",
   "outputs": [
    {
     "data": {
      "text/plain": [
       "(18145372, 126)"
      ]
     },
     "execution_count": 4,
     "metadata": {},
     "output_type": "execute_result"
    }
   ],
   "execution_count": 4
  },
  {
   "metadata": {
    "ExecuteTime": {
     "end_time": "2025-08-11T20:47:40.286247Z",
     "start_time": "2025-08-11T20:47:40.236575Z"
    }
   },
   "cell_type": "code",
   "source": [
    "# determine the number of null values for each feature\n",
    "results = []\n",
    "for col in data.columns:\n",
    "    null_count = data.select(pl.col(col).is_null().sum()).item()\n",
    "    results.append({\n",
    "        'column': col,\n",
    "        'data_type': str(data.schema[col]),\n",
    "        'null_count': null_count,\n",
    "        'null_percentage': round(null_count / len(data) * 100, 2)\n",
    "    })\n",
    "null_summary = pl.DataFrame(results)"
   ],
   "id": "2b4eb10ee520b203",
   "outputs": [],
   "execution_count": 5
  },
  {
   "metadata": {
    "ExecuteTime": {
     "end_time": "2025-08-11T20:47:41.955698Z",
     "start_time": "2025-08-11T20:47:41.925709Z"
    }
   },
   "cell_type": "code",
   "source": [
    "# features with no NULL values:\n",
    "null_summary.filter(pl.col('null_count') == 0)"
   ],
   "id": "598871b26d02c3e7",
   "outputs": [
    {
     "data": {
      "text/plain": [
       "shape: (23, 4)\n",
       "┌───────────────────┬───────────┬────────────┬─────────────────┐\n",
       "│ column            ┆ data_type ┆ null_count ┆ null_percentage │\n",
       "│ ---               ┆ ---       ┆ ---        ┆ ---             │\n",
       "│ str               ┆ str       ┆ i64        ┆ f64             │\n",
       "╞═══════════════════╪═══════════╪════════════╪═════════════════╡\n",
       "│ Id                ┆ Int64     ┆ 0          ┆ 0.0             │\n",
       "│ bySelf            ┆ Boolean   ┆ 0          ┆ 0.0             │\n",
       "│ companyID         ┆ Int64     ┆ 0          ┆ 0.0             │\n",
       "│ nationality       ┆ Int64     ┆ 0          ┆ 0.0             │\n",
       "│ isAccess3D        ┆ Boolean   ┆ 0          ┆ 0.0             │\n",
       "│ …                 ┆ …         ┆ …          ┆ …               │\n",
       "│ searchRoute       ┆ String    ┆ 0          ┆ 0.0             │\n",
       "│ sex               ┆ Boolean   ┆ 0          ┆ 0.0             │\n",
       "│ taxes             ┆ Float64   ┆ 0          ┆ 0.0             │\n",
       "│ totalPrice        ┆ Float64   ┆ 0          ┆ 0.0             │\n",
       "│ __index_level_0__ ┆ Int64     ┆ 0          ┆ 0.0             │\n",
       "└───────────────────┴───────────┴────────────┴─────────────────┘"
      ],
      "text/html": [
       "<div><style>\n",
       ".dataframe > thead > tr,\n",
       ".dataframe > tbody > tr {\n",
       "  text-align: right;\n",
       "  white-space: pre-wrap;\n",
       "}\n",
       "</style>\n",
       "<small>shape: (23, 4)</small><table border=\"1\" class=\"dataframe\"><thead><tr><th>column</th><th>data_type</th><th>null_count</th><th>null_percentage</th></tr><tr><td>str</td><td>str</td><td>i64</td><td>f64</td></tr></thead><tbody><tr><td>&quot;Id&quot;</td><td>&quot;Int64&quot;</td><td>0</td><td>0.0</td></tr><tr><td>&quot;bySelf&quot;</td><td>&quot;Boolean&quot;</td><td>0</td><td>0.0</td></tr><tr><td>&quot;companyID&quot;</td><td>&quot;Int64&quot;</td><td>0</td><td>0.0</td></tr><tr><td>&quot;nationality&quot;</td><td>&quot;Int64&quot;</td><td>0</td><td>0.0</td></tr><tr><td>&quot;isAccess3D&quot;</td><td>&quot;Boolean&quot;</td><td>0</td><td>0.0</td></tr><tr><td>&hellip;</td><td>&hellip;</td><td>&hellip;</td><td>&hellip;</td></tr><tr><td>&quot;searchRoute&quot;</td><td>&quot;String&quot;</td><td>0</td><td>0.0</td></tr><tr><td>&quot;sex&quot;</td><td>&quot;Boolean&quot;</td><td>0</td><td>0.0</td></tr><tr><td>&quot;taxes&quot;</td><td>&quot;Float64&quot;</td><td>0</td><td>0.0</td></tr><tr><td>&quot;totalPrice&quot;</td><td>&quot;Float64&quot;</td><td>0</td><td>0.0</td></tr><tr><td>&quot;__index_level_0__&quot;</td><td>&quot;Int64&quot;</td><td>0</td><td>0.0</td></tr></tbody></table></div>"
      ]
     },
     "execution_count": 6,
     "metadata": {},
     "output_type": "execute_result"
    }
   ],
   "execution_count": 6
  },
  {
   "metadata": {
    "ExecuteTime": {
     "end_time": "2025-08-11T20:47:43.181844Z",
     "start_time": "2025-08-11T20:47:43.158348Z"
    }
   },
   "cell_type": "code",
   "source": [
    "# features with NULL values < 10%\n",
    "null_summary.filter((pl.col(\"null_count\") > 0) & (pl.col(\"null_percentage\") < 10.0)).sort(\"null_count\")"
   ],
   "id": "303928e2f3089ba4",
   "outputs": [
    {
     "data": {
      "text/plain": [
       "shape: (12, 4)\n",
       "┌─────────────────────────────────┬───────────┬────────────┬─────────────────┐\n",
       "│ column                          ┆ data_type ┆ null_count ┆ null_percentage │\n",
       "│ ---                             ┆ ---       ┆ ---        ┆ ---             │\n",
       "│ str                             ┆ str       ┆ i64        ┆ f64             │\n",
       "╞═════════════════════════════════╪═══════════╪════════════╪═════════════════╡\n",
       "│ legs0_segments0_departureFrom_… ┆ String    ┆ 2          ┆ 0.0             │\n",
       "│ legs0_segments0_arrivalTo_airp… ┆ String    ┆ 6          ┆ 0.0             │\n",
       "│ legs0_segments0_aircraft_code   ┆ String    ┆ 14         ┆ 0.0             │\n",
       "│ legs0_segments0_arrivalTo_airp… ┆ String    ┆ 113        ┆ 0.0             │\n",
       "│ legs0_segments0_baggageAllowan… ┆ Float64   ┆ 1064       ┆ 0.01            │\n",
       "│ …                               ┆ …         ┆ …          ┆ …               │\n",
       "│ pricingInfo_isAccessTP          ┆ Float64   ┆ 905045     ┆ 4.99            │\n",
       "│ miniRules0_monetaryAmount       ┆ Float64   ┆ 1395743    ┆ 7.69            │\n",
       "│ miniRules1_monetaryAmount       ┆ Float64   ┆ 1395743    ┆ 7.69            │\n",
       "│ miniRules0_statusInfos          ┆ Float64   ┆ 1469953    ┆ 8.1             │\n",
       "│ miniRules1_statusInfos          ┆ Float64   ┆ 1518169    ┆ 8.37            │\n",
       "└─────────────────────────────────┴───────────┴────────────┴─────────────────┘"
      ],
      "text/html": [
       "<div><style>\n",
       ".dataframe > thead > tr,\n",
       ".dataframe > tbody > tr {\n",
       "  text-align: right;\n",
       "  white-space: pre-wrap;\n",
       "}\n",
       "</style>\n",
       "<small>shape: (12, 4)</small><table border=\"1\" class=\"dataframe\"><thead><tr><th>column</th><th>data_type</th><th>null_count</th><th>null_percentage</th></tr><tr><td>str</td><td>str</td><td>i64</td><td>f64</td></tr></thead><tbody><tr><td>&quot;legs0_segments0_departureFrom_…</td><td>&quot;String&quot;</td><td>2</td><td>0.0</td></tr><tr><td>&quot;legs0_segments0_arrivalTo_airp…</td><td>&quot;String&quot;</td><td>6</td><td>0.0</td></tr><tr><td>&quot;legs0_segments0_aircraft_code&quot;</td><td>&quot;String&quot;</td><td>14</td><td>0.0</td></tr><tr><td>&quot;legs0_segments0_arrivalTo_airp…</td><td>&quot;String&quot;</td><td>113</td><td>0.0</td></tr><tr><td>&quot;legs0_segments0_baggageAllowan…</td><td>&quot;Float64&quot;</td><td>1064</td><td>0.01</td></tr><tr><td>&hellip;</td><td>&hellip;</td><td>&hellip;</td><td>&hellip;</td></tr><tr><td>&quot;pricingInfo_isAccessTP&quot;</td><td>&quot;Float64&quot;</td><td>905045</td><td>4.99</td></tr><tr><td>&quot;miniRules0_monetaryAmount&quot;</td><td>&quot;Float64&quot;</td><td>1395743</td><td>7.69</td></tr><tr><td>&quot;miniRules1_monetaryAmount&quot;</td><td>&quot;Float64&quot;</td><td>1395743</td><td>7.69</td></tr><tr><td>&quot;miniRules0_statusInfos&quot;</td><td>&quot;Float64&quot;</td><td>1469953</td><td>8.1</td></tr><tr><td>&quot;miniRules1_statusInfos&quot;</td><td>&quot;Float64&quot;</td><td>1518169</td><td>8.37</td></tr></tbody></table></div>"
      ]
     },
     "execution_count": 7,
     "metadata": {},
     "output_type": "execute_result"
    }
   ],
   "execution_count": 7
  },
  {
   "metadata": {
    "ExecuteTime": {
     "end_time": "2025-08-11T20:47:44.192533Z",
     "start_time": "2025-08-11T20:47:44.179643Z"
    }
   },
   "cell_type": "code",
   "source": [
    "# features with NULL values 10% - 50%\n",
    "null_summary.filter((pl.col(\"null_percentage\") >= 10.0) & (pl.col(\"null_percentage\") < 50.0)).sort(\"null_count\")"
   ],
   "id": "20c444ee804f78fe",
   "outputs": [
    {
     "data": {
      "text/plain": [
       "shape: (15, 4)\n",
       "┌─────────────────────────────────┬───────────┬────────────┬─────────────────┐\n",
       "│ column                          ┆ data_type ┆ null_count ┆ null_percentage │\n",
       "│ ---                             ┆ ---       ┆ ---        ┆ ---             │\n",
       "│ str                             ┆ str       ┆ i64        ┆ f64             │\n",
       "╞═════════════════════════════════╪═══════════╪════════════╪═════════════════╡\n",
       "│ legs1_arrivalAt                 ┆ String    ┆ 4387201    ┆ 24.18           │\n",
       "│ legs1_departureAt               ┆ String    ┆ 4387201    ┆ 24.18           │\n",
       "│ legs1_duration                  ┆ String    ┆ 4387201    ┆ 24.18           │\n",
       "│ legs1_segments0_aircraft_code   ┆ String    ┆ 4387201    ┆ 24.18           │\n",
       "│ legs1_segments0_arrivalTo_airp… ┆ String    ┆ 4387201    ┆ 24.18           │\n",
       "│ …                               ┆ …         ┆ …          ┆ …               │\n",
       "│ legs1_segments0_arrivalTo_airp… ┆ String    ┆ 4387237    ┆ 24.18           │\n",
       "│ legs1_segments0_cabinClass      ┆ Float64   ┆ 4525013    ┆ 24.94           │\n",
       "│ legs1_segments0_baggageAllowan… ┆ Float64   ┆ 4527297    ┆ 24.95           │\n",
       "│ legs1_segments0_baggageAllowan… ┆ Float64   ┆ 4527297    ┆ 24.95           │\n",
       "│ legs1_segments0_seatsAvailable  ┆ Float64   ┆ 4580895    ┆ 25.25           │\n",
       "└─────────────────────────────────┴───────────┴────────────┴─────────────────┘"
      ],
      "text/html": [
       "<div><style>\n",
       ".dataframe > thead > tr,\n",
       ".dataframe > tbody > tr {\n",
       "  text-align: right;\n",
       "  white-space: pre-wrap;\n",
       "}\n",
       "</style>\n",
       "<small>shape: (15, 4)</small><table border=\"1\" class=\"dataframe\"><thead><tr><th>column</th><th>data_type</th><th>null_count</th><th>null_percentage</th></tr><tr><td>str</td><td>str</td><td>i64</td><td>f64</td></tr></thead><tbody><tr><td>&quot;legs1_arrivalAt&quot;</td><td>&quot;String&quot;</td><td>4387201</td><td>24.18</td></tr><tr><td>&quot;legs1_departureAt&quot;</td><td>&quot;String&quot;</td><td>4387201</td><td>24.18</td></tr><tr><td>&quot;legs1_duration&quot;</td><td>&quot;String&quot;</td><td>4387201</td><td>24.18</td></tr><tr><td>&quot;legs1_segments0_aircraft_code&quot;</td><td>&quot;String&quot;</td><td>4387201</td><td>24.18</td></tr><tr><td>&quot;legs1_segments0_arrivalTo_airp…</td><td>&quot;String&quot;</td><td>4387201</td><td>24.18</td></tr><tr><td>&hellip;</td><td>&hellip;</td><td>&hellip;</td><td>&hellip;</td></tr><tr><td>&quot;legs1_segments0_arrivalTo_airp…</td><td>&quot;String&quot;</td><td>4387237</td><td>24.18</td></tr><tr><td>&quot;legs1_segments0_cabinClass&quot;</td><td>&quot;Float64&quot;</td><td>4525013</td><td>24.94</td></tr><tr><td>&quot;legs1_segments0_baggageAllowan…</td><td>&quot;Float64&quot;</td><td>4527297</td><td>24.95</td></tr><tr><td>&quot;legs1_segments0_baggageAllowan…</td><td>&quot;Float64&quot;</td><td>4527297</td><td>24.95</td></tr><tr><td>&quot;legs1_segments0_seatsAvailable&quot;</td><td>&quot;Float64&quot;</td><td>4580895</td><td>25.25</td></tr></tbody></table></div>"
      ]
     },
     "execution_count": 8,
     "metadata": {},
     "output_type": "execute_result"
    }
   ],
   "execution_count": 8
  },
  {
   "metadata": {},
   "cell_type": "markdown",
   "source": "At first glance, I would suspect these nulls indicate one-way tickets. Might need to figure out how to handle return flight selection.",
   "id": "35f5ce3bd55ca0a"
  },
  {
   "metadata": {
    "ExecuteTime": {
     "end_time": "2025-08-11T20:47:46.802968Z",
     "start_time": "2025-08-11T20:47:46.794897Z"
    }
   },
   "cell_type": "code",
   "source": [
    "# features with NULL values > 50%\n",
    "null_summary.filter((pl.col(\"null_percentage\") >= 50.0)).sort(\"null_count\")"
   ],
   "id": "1d1482cabce5dbf2",
   "outputs": [
    {
     "data": {
      "text/plain": [
       "shape: (76, 4)\n",
       "┌─────────────────────────────────┬───────────┬────────────┬─────────────────┐\n",
       "│ column                          ┆ data_type ┆ null_count ┆ null_percentage │\n",
       "│ ---                             ┆ ---       ┆ ---        ┆ ---             │\n",
       "│ str                             ┆ str       ┆ i64        ┆ f64             │\n",
       "╞═════════════════════════════════╪═══════════╪════════════╪═════════════════╡\n",
       "│ corporateTariffCode             ┆ Int64     ┆ 9233925    ┆ 50.89           │\n",
       "│ frequentFlyer                   ┆ String    ┆ 12012727   ┆ 66.2            │\n",
       "│ legs0_segments1_arrivalTo_airp… ┆ String    ┆ 14311665   ┆ 78.87           │\n",
       "│ legs0_segments1_departureFrom_… ┆ String    ┆ 14311665   ┆ 78.87           │\n",
       "│ legs0_segments1_duration        ┆ String    ┆ 14311665   ┆ 78.87           │\n",
       "│ …                               ┆ …         ┆ …          ┆ …               │\n",
       "│ legs1_segments3_duration        ┆ String    ┆ 18145366   ┆ 100.0           │\n",
       "│ legs1_segments3_flightNumber    ┆ String    ┆ 18145366   ┆ 100.0           │\n",
       "│ legs1_segments3_marketingCarri… ┆ String    ┆ 18145366   ┆ 100.0           │\n",
       "│ legs1_segments3_operatingCarri… ┆ String    ┆ 18145366   ┆ 100.0           │\n",
       "│ legs1_segments3_seatsAvailable  ┆ Float64   ┆ 18145366   ┆ 100.0           │\n",
       "└─────────────────────────────────┴───────────┴────────────┴─────────────────┘"
      ],
      "text/html": [
       "<div><style>\n",
       ".dataframe > thead > tr,\n",
       ".dataframe > tbody > tr {\n",
       "  text-align: right;\n",
       "  white-space: pre-wrap;\n",
       "}\n",
       "</style>\n",
       "<small>shape: (76, 4)</small><table border=\"1\" class=\"dataframe\"><thead><tr><th>column</th><th>data_type</th><th>null_count</th><th>null_percentage</th></tr><tr><td>str</td><td>str</td><td>i64</td><td>f64</td></tr></thead><tbody><tr><td>&quot;corporateTariffCode&quot;</td><td>&quot;Int64&quot;</td><td>9233925</td><td>50.89</td></tr><tr><td>&quot;frequentFlyer&quot;</td><td>&quot;String&quot;</td><td>12012727</td><td>66.2</td></tr><tr><td>&quot;legs0_segments1_arrivalTo_airp…</td><td>&quot;String&quot;</td><td>14311665</td><td>78.87</td></tr><tr><td>&quot;legs0_segments1_departureFrom_…</td><td>&quot;String&quot;</td><td>14311665</td><td>78.87</td></tr><tr><td>&quot;legs0_segments1_duration&quot;</td><td>&quot;String&quot;</td><td>14311665</td><td>78.87</td></tr><tr><td>&hellip;</td><td>&hellip;</td><td>&hellip;</td><td>&hellip;</td></tr><tr><td>&quot;legs1_segments3_duration&quot;</td><td>&quot;String&quot;</td><td>18145366</td><td>100.0</td></tr><tr><td>&quot;legs1_segments3_flightNumber&quot;</td><td>&quot;String&quot;</td><td>18145366</td><td>100.0</td></tr><tr><td>&quot;legs1_segments3_marketingCarri…</td><td>&quot;String&quot;</td><td>18145366</td><td>100.0</td></tr><tr><td>&quot;legs1_segments3_operatingCarri…</td><td>&quot;String&quot;</td><td>18145366</td><td>100.0</td></tr><tr><td>&quot;legs1_segments3_seatsAvailable&quot;</td><td>&quot;Float64&quot;</td><td>18145366</td><td>100.0</td></tr></tbody></table></div>"
      ]
     },
     "execution_count": 9,
     "metadata": {},
     "output_type": "execute_result"
    }
   ],
   "execution_count": 9
  },
  {
   "metadata": {},
   "cell_type": "markdown",
   "source": [
    "These features are missing a large percentage of values. Given the description provided, we will do the following:\n",
    "* corporateTariffCode (Corporate tariff code for businesss travel policies): impute to 0 (zero)\n",
    "* frequentFlyer (Frequent flyer program status): impute to 'NONE'\n",
    "* miniRules0_percentage (Percentage penalty for cancellation): impute to 0.0 (zero)\n",
    "* miniRules1_percentage (Percentage penalty for exchange): impute to 0.0 (zero)\n",
    "* legs[0,1]_segments[1-3]_* (flight segments): evaluate whether to ignore all but segment 1 or impute from segment 1"
   ],
   "id": "645baa446cf2fd0d"
  },
  {
   "metadata": {
    "ExecuteTime": {
     "end_time": "2025-08-11T01:56:51.213509Z",
     "start_time": "2025-08-11T01:56:50.707259Z"
    }
   },
   "cell_type": "code",
   "source": [
    "# check how many unique search sessions there are\n",
    "print(f\"unique sessions (ranker_id): {data['ranker_id'].unique().count()}\")"
   ],
   "id": "f06e7ea94678144d",
   "outputs": [
    {
     "name": "stdout",
     "output_type": "stream",
     "text": [
      "unique sessions (ranker_id): 150770\n"
     ]
    }
   ],
   "execution_count": 11
  },
  {
   "metadata": {
    "jupyter": {
     "is_executing": true
    },
    "ExecuteTime": {
     "end_time": "2025-08-11T01:51:18.085373500Z",
     "start_time": "2025-08-11T01:38:55.131184Z"
    }
   },
   "cell_type": "code",
   "source": [
    "# let's look at carrier codes\n",
    "unique_carrier_codes = (\n",
    "    data.select(cs.contains(\"Carrier_code\"))\n",
    "    .unpivot()\n",
    "    .select(\"value\")\n",
    "    .filter(pl.col(\"value\").is_not_null())\n",
    "    .unique().to_series().to_list()\n",
    ")\n",
    "print(unique_carrier_codes)"
   ],
   "id": "27a0cccde35714eb",
   "outputs": [],
   "execution_count": null
  },
  {
   "metadata": {
    "jupyter": {
     "is_executing": true
    },
    "ExecuteTime": {
     "end_time": "2025-08-11T02:06:26.684052300Z",
     "start_time": "2025-08-11T02:01:19.325150Z"
    }
   },
   "cell_type": "code",
   "source": [
    "carrier_cols = [col for col in data.columns if \"Carrier_code\" in col]\n",
    "unique_carrier_codes = (\n",
    "    data\n",
    "    .select(\n",
    "        pl.concat_list([pl.col(col) for col in carrier_cols])\n",
    "        .alias(\"carrier_codes\")\n",
    "    )\n",
    "    .select(\n",
    "        pl.col(\"carrier_codes\")\n",
    "        .list.explode()\n",
    "        .filter(pl.col(\"carrier_codes\").is_not_null())\n",
    "        .unique()\n",
    "    )\n",
    "    .to_series()\n",
    "    .to_list()\n",
    ")\n",
    "print(unique_carrier_codes)"
   ],
   "id": "a09693cd5f0c9c9c",
   "outputs": [],
   "execution_count": null
  },
  {
   "metadata": {
    "ExecuteTime": {
     "end_time": "2025-08-09T22:44:18.615401Z",
     "start_time": "2025-08-09T22:44:18.279321Z"
    }
   },
   "cell_type": "code",
   "outputs": [
    {
     "data": {
      "text/plain": [
       "shape: (372,)\n",
       "Series: 'frequentFlyer' [str]\n",
       "[\n",
       "\t\"SU/U6/S7\"\n",
       "\t\"- ЮТэйр ЗАО\"\n",
       "\t\"SU/UT/S7/DL/LH\"\n",
       "\t\"SU/DP/S7/UT\"\n",
       "\t\"SU/S7/UT\"\n",
       "\t…\n",
       "\t\"UT/S7/U6/SU\"\n",
       "\t\"SU/AI\"\n",
       "\t\"KC/C7/SU\"\n",
       "\t\"SU/S7/DL\"\n",
       "\t\"SU/AB\"\n",
       "]"
      ],
      "text/html": [
       "<div><style>\n",
       ".dataframe > thead > tr,\n",
       ".dataframe > tbody > tr {\n",
       "  text-align: right;\n",
       "  white-space: pre-wrap;\n",
       "}\n",
       "</style>\n",
       "<small>shape: (372,)</small><table border=\"1\" class=\"dataframe\"><thead><tr><th>frequentFlyer</th></tr><tr><td>str</td></tr></thead><tbody><tr><td>&quot;SU/U6/S7&quot;</td></tr><tr><td>&quot;- ЮТэйр ЗАО&quot;</td></tr><tr><td>&quot;SU/UT/S7/DL/LH&quot;</td></tr><tr><td>&quot;SU/DP/S7/UT&quot;</td></tr><tr><td>&quot;SU/S7/UT&quot;</td></tr><tr><td>&hellip;</td></tr><tr><td>&quot;UT/S7/U6/SU&quot;</td></tr><tr><td>&quot;SU/AI&quot;</td></tr><tr><td>&quot;KC/C7/SU&quot;</td></tr><tr><td>&quot;SU/S7/DL&quot;</td></tr><tr><td>&quot;SU/AB&quot;</td></tr></tbody></table></div>"
      ]
     },
     "execution_count": 25,
     "metadata": {},
     "output_type": "execute_result"
    }
   ],
   "execution_count": 25,
   "source": "data['frequentFlyer'].unique()",
   "id": "5d35e49777a55c6c"
  },
  {
   "metadata": {},
   "cell_type": "markdown",
   "source": "Frequent flyer code '- ЮТэйр ЗАО' translates to 'UTair JSC', which has no matching carrier under carrier codes.",
   "id": "104edcc068fd273e"
  },
  {
   "metadata": {
    "ExecuteTime": {
     "end_time": "2025-08-09T22:56:32.085441Z",
     "start_time": "2025-08-09T22:56:31.648382Z"
    }
   },
   "cell_type": "code",
   "source": [
    "# create a list of the unique frequent flyer codes\n",
    "unique_ff_codes = (\n",
    "    data.select(\"frequentFlyer\")\n",
    "    .filter(pl.col(\"frequentFlyer\").is_not_null())  # Remove nulls\n",
    "    .with_columns(\n",
    "        pl.col(\"frequentFlyer\").str.split(\"/\").alias(\"ff_codes\")  # Split by \"/\"\n",
    "    )\n",
    "    .select(\"ff_codes\")\n",
    "    .explode(\"ff_codes\")  # Flatten the lists into individual rows\n",
    "    .unique()  # Get unique codes\n",
    "    .sort(\"ff_codes\")  # Optional: sort them\n",
    "    .to_series()\n",
    "    .to_list()\n",
    ")\n",
    "print(unique_ff_codes)\n",
    "\n",
    "# let's see if any do not have an associated carrier code\n",
    "ff_not_in_carrier = set(unique_ff_codes) - set(unique_carrier_codes)\n",
    "print(\"FF codes not in carrier list:\", ff_not_in_carrier)\n"
   ],
   "id": "d599e66a740e9748",
   "outputs": [
    {
     "name": "stdout",
     "output_type": "stream",
     "text": [
      "['- ЮТэйр ЗАО', '2G', '5N', '6R', '6W', '9X', 'A3', 'A4', 'AA', 'AB', 'AF', 'AI', 'AM', 'AT', 'AY', 'AZ', 'B2', 'BA', 'BD', 'C7', 'CA', 'CX', 'CZ', 'D2', 'D9', 'DL', 'DP', 'DV', 'EK', 'ET', 'EY', 'FV', 'FZ', 'GF', 'HU', 'HY', 'I8', 'J2', 'JP', 'JU', 'KC', 'KE', 'KL', 'LH', 'LO', 'LX', 'MS', 'MU', 'N4', 'OK', 'OS', 'OZ', 'PY', 'QR', 'R3', 'RT', 'S7', 'SK', 'SN', 'SQ', 'SU', 'SV', 'TK', 'U6', 'UA', 'UN', 'UT', 'VS', 'WY', 'Y7']\n",
      "FF codes not in carrier list: {'AB', 'D9', '2G', 'UN', '- ЮТэйр ЗАО', 'JP', '6W', 'VS', 'BD', 'C7', 'PY', '9X'}\n"
     ]
    }
   ],
   "execution_count": 27
  },
  {
   "metadata": {},
   "cell_type": "markdown",
   "source": [
    "Clean-up\n",
    "1."
   ],
   "id": "8bb14691d0232d25"
  },
  {
   "metadata": {
    "ExecuteTime": {
     "end_time": "2025-08-11T23:17:42.857018Z",
     "start_time": "2025-08-11T23:17:42.839482Z"
    }
   },
   "cell_type": "code",
   "source": [
    "def extract_flight_features(df):\n",
    "    # Features that will be removed from the resulting dataframe\n",
    "    customer_features = [\n",
    "        'profileId', 'companyID', 'sex', 'nationality', 'frequentFlyer', 'isVip', 'bySelf', 'isAccess3D', 'corporateTariffCode'\n",
    "    ]\n",
    "    polars_index_col = ['__index_level_0__']  # We don't need a reference to the original data index\n",
    "    # flight features that will not be used after new features engineered\n",
    "    unused_flight_features = [\n",
    "        'legs0_arrivalAt', 'legs0_departureAt', 'legs1_arrivalAt', 'legs1_departureAt',  # getting hour for these attributes\n",
    "        'legs0_duration', 'legs1_duration',  # getting duration in minutes for these attributes\n",
    "        r'^legs[01]_segments[012]_(flightNumber|duration)$',  # flight segment details\n",
    "        r'^legs[01]_segments[012]_(baggageAllowance_quantity|baggageAllowance_weightMeasurementType)$',  # segments baggage allowance\n",
    "        r'^legs[01]_segments3_.*$'  # drop segment 3 features, since they are 100% null\n",
    "    ]\n",
    "\n",
    "    # If the new feature 'total_duration' is already in the dataframe, then it has already been processed\n",
    "    if 'total_duration' in df.columns:\n",
    "        return df\n",
    "\n",
    "    # Using lazy computations to avoid memory issues\n",
    "    lazy_df = df.drop(customer_features + polars_index_col, strict=False).lazy()\n",
    "\n",
    "    # Get column lists for flight segment features\n",
    "    leg0_duration_cols = [col for col in df.columns if col.startswith('legs0_segments') and col.endswith('_duration')]\n",
    "    leg1_duration_cols = [col for col in df.columns if col.startswith('legs1_segments') and col.endswith('_duration')]\n",
    "    carrier_cols = [col for col in df.columns if col.endswith('marketingCarrier_code')]\n",
    "    seats_avail_cols = [col for col in df.columns if col.endswith('seatsAvailable')]\n",
    "    type_cols = [col for col in df.columns if 'baggageAllowance_weightMeasurementType' in col]\n",
    "    allowance_cols = [col for col in df.columns if 'baggageAllowance_quantity' in col]\n",
    "    cabin_cols = [col for col in df.columns if 'cabinClass' in col]\n",
    "\n",
    "    # New features\n",
    "    features = [\n",
    "        # Basic flight info\n",
    "        pl.col('totalPrice').alias('total_price'),\n",
    "        pl.col('taxes').alias('taxes'),\n",
    "        pl.col('pricingInfo_passengerCount').alias('passenger_count'),\n",
    "\n",
    "        # Travel time durations in minutes\n",
    "        pl.when(pl.col('legs0_duration').is_not_null())\n",
    "        .then(\n",
    "            pl.col('legs0_duration').str.extract(r'^(?:(\\d+)\\.)?', 1).fill_null('0').cast(pl.Int32) * 1440 +\n",
    "            pl.col('legs0_duration').str.extract(r'(\\d+):(\\d+):(\\d+)$', 1).fill_null('0').cast(pl.Int32) * 60 +\n",
    "            pl.col('legs0_duration').str.extract(r'(\\d+):(\\d+):(\\d+)$', 2).fill_null('0').cast(pl.Int32) +\n",
    "            (pl.col('legs0_duration').str.extract(r'(\\d+):(\\d+):(\\d+)$', 3).fill_null('0').cast(pl.Int32) / 60).round(0)\n",
    "        )\n",
    "        .otherwise(0)\n",
    "        .alias('leg0_duration_min'),\n",
    "        pl.when(pl.col('legs1_duration').is_not_null())\n",
    "        .then(\n",
    "            pl.col('legs1_duration').str.extract(r'^(?:(\\d+)\\.)?', 1).fill_null('0').cast(pl.Int32) * 1440 +\n",
    "            pl.col('legs1_duration').str.extract(r'(\\d+):(\\d+):(\\d+)$', 1).fill_null('0').cast(pl.Int32) * 60 +\n",
    "            pl.col('legs1_duration').str.extract(r'(\\d+):(\\d+):(\\d+)$', 2).fill_null('0').cast(pl.Int32) +\n",
    "            (pl.col('legs1_duration').str.extract(r'(\\d+):(\\d+):(\\d+)$', 3).fill_null('0').cast(pl.Int32) / 60).round(0)\n",
    "        )\n",
    "        .otherwise(0)\n",
    "        .alias('leg1_duration_min'),\n",
    "\n",
    "        # Flight time in minutes (sum of all segment durations)\n",
    "        pl.sum_horizontal([\n",
    "            pl.col(col).str.extract(r'^(\\d+):(\\d+)', 1).cast(pl.Int32, strict=False).fill_null(0).mul(60)\n",
    "            .add(pl.col(col).str.extract(r'^(\\d+):(\\d+)', 2).cast(pl.Int32, strict=False).fill_null(0))\n",
    "            for col in leg0_duration_cols\n",
    "        ]).alias('leg0_flight_time_min'),\n",
    "        pl.sum_horizontal([\n",
    "            pl.col(col).str.extract(r'^(\\d+):(\\d+)', 1).cast(pl.Int32, strict=False).fill_null(0).mul(60)\n",
    "            .add(pl.col(col).str.extract(r'^(\\d+):(\\d+)', 2).cast(pl.Int32, strict=False).fill_null(0))\n",
    "            for col in leg1_duration_cols\n",
    "        ]).alias('leg1_flight_time_min'),\n",
    "\n",
    "        # Arrival/departure hours\n",
    "        pl.col('legs0_departureAt').str.to_datetime().dt.hour().alias('leg0_departure_hour'),\n",
    "        pl.col('legs0_arrivalAt').str.to_datetime().dt.hour().alias('leg0_arrival_hour'),\n",
    "        pl.col('legs1_departureAt').str.to_datetime().dt.hour().alias('leg1_departure_hour'),\n",
    "        pl.col('legs1_arrivalAt').str.to_datetime().dt.hour().alias('leg1_arrival_hour'),\n",
    "\n",
    "        # has cancellation/exchange fee\n",
    "        (\n",
    "            ((pl.col('miniRules0_monetaryAmount') > 0) & pl.col('miniRules0_monetaryAmount').is_not_null()) |\n",
    "            ((pl.col('miniRules0_percentage') > 0) & pl.col('miniRules0_percentage').is_not_null())\n",
    "        ).cast(pl.Int32).alias('has_cancellation_fee'),\n",
    "\n",
    "        (\n",
    "            ((pl.col('miniRules1_monetaryAmount') > 0) & pl.col('miniRules1_monetaryAmount').is_not_null()) |\n",
    "            ((pl.col('miniRules1_percentage') > 0) & pl.col('miniRules1_percentage').is_not_null())\n",
    "        ).cast(pl.Int32).alias('has_exchange_fee'),\n",
    "\n",
    "        # Number of unique carriers\n",
    "        pl.concat_list([pl.col(col) for col in carrier_cols])\n",
    "        .list.drop_nulls()\n",
    "        .list.unique()\n",
    "        .list.len()\n",
    "        .alias('unique_carriers'),\n",
    "\n",
    "        # Total segments\n",
    "        pl.sum_horizontal([pl.col(col).is_not_null() for col in carrier_cols])\n",
    "        .alias('total_segments'),\n",
    "\n",
    "        # Add highest and average cabin class\n",
    "        pl.max_horizontal([pl.col(col) for col in cabin_cols])\n",
    "        .alias('max_cabin_class'),\n",
    "        pl.mean_horizontal([pl.col(col) for col in cabin_cols])\n",
    "        .alias('avg_cabin_class'),\n",
    "\n",
    "        # Add minimum and total available seats as a measure of flight popularity/scarcity\n",
    "        pl.min_horizontal([pl.col(col) for col in seats_avail_cols])\n",
    "        .alias('min_seats_available'),\n",
    "        pl.sum_horizontal([pl.col(col).fill_null(0) for col in seats_avail_cols])\n",
    "        .alias('total_seats_available'),\n",
    "\n",
    "        # Baggage quantity allowance (min where type = 0)\n",
    "        pl.min_horizontal([\n",
    "            pl.when(pl.col(type_col) == 0)\n",
    "            .then(pl.col(qty_col))\n",
    "            .otherwise(pl.lit(None))\n",
    "            for type_col, qty_col in zip(type_cols, allowance_cols)\n",
    "        ]).fill_null(0).alias(\"baggage_allowance_quantity\"),\n",
    "\n",
    "        # Baggage weight allowance (min where type = 1)\n",
    "        pl.min_horizontal([\n",
    "            pl.when(pl.col(type_col) == 1)\n",
    "            .then(pl.col(qty_col))\n",
    "            .otherwise(pl.lit(None))\n",
    "            for type_col, qty_col in zip(type_cols, allowance_cols)\n",
    "        ]).fill_null(0).alias(\"baggage_allowance_weight\")\n",
    "    ]\n",
    "\n",
    "    # Apply all features\n",
    "    lazy_df = lazy_df.with_columns(features).with_columns([\n",
    "        pl.when(pl.col('leg1_duration_min').is_null())  # case for one-way flights\n",
    "            .then(pl.col('leg0_duration_min'))\n",
    "            .otherwise(pl.col('leg0_duration_min') + pl.col('leg1_duration_min'))\n",
    "            .alias('total_duration')\n",
    "    ]).fill_null(0)\n",
    "\n",
    "    # Materialize the lazy computations and return the dataframe with the new features added and drop unused features\n",
    "    return lazy_df.select(pl.exclude(unused_flight_features)).collect()"
   ],
   "id": "123769ced7fafaa",
   "outputs": [],
   "execution_count": 5
  },
  {
   "metadata": {
    "ExecuteTime": {
     "end_time": "2025-08-11T23:19:31.180072Z",
     "start_time": "2025-08-11T23:17:43.953413Z"
    }
   },
   "cell_type": "code",
   "source": "data = extract_flight_features(data)",
   "id": "9c21329734700dba",
   "outputs": [],
   "execution_count": 6
  },
  {
   "metadata": {
    "ExecuteTime": {
     "end_time": "2025-08-11T23:42:43.495636Z",
     "start_time": "2025-08-11T23:42:43.467693Z"
    }
   },
   "cell_type": "code",
   "source": "data.head(20)",
   "id": "29e44e976f093f08",
   "outputs": [
    {
     "data": {
      "text/plain": [
       "shape: (20, 83)\n",
       "┌─────┬────────────┬────────────┬────────────┬───┬────────────┬────────────┬───────────┬───────────┐\n",
       "│ Id  ┆ legs0_segm ┆ legs0_segm ┆ legs0_segm ┆ … ┆ total_seat ┆ baggage_al ┆ baggage_a ┆ total_dur │\n",
       "│ --- ┆ ents0_airc ┆ ents0_arri ┆ ents0_arri ┆   ┆ s_availabl ┆ lowance_qu ┆ llowance_ ┆ ation     │\n",
       "│ i64 ┆ raft_code  ┆ valTo_airp ┆ valTo_airp ┆   ┆ e          ┆ antity     ┆ weight    ┆ ---       │\n",
       "│     ┆ ---        ┆ …          ┆ …          ┆   ┆ ---        ┆ ---        ┆ ---       ┆ f64       │\n",
       "│     ┆ str        ┆ ---        ┆ ---        ┆   ┆ f64        ┆ f64        ┆ f64       ┆           │\n",
       "│     ┆            ┆ str        ┆ str        ┆   ┆            ┆            ┆           ┆           │\n",
       "╞═════╪════════════╪════════════╪════════════╪═══╪════════════╪════════════╪═══════════╪═══════════╡\n",
       "│ 0   ┆ YK2        ┆ KJA        ┆ KJA        ┆ … ┆ 18.0       ┆ 1.0        ┆ 0.0       ┆ 315.0     │\n",
       "│ 1   ┆ E70        ┆ OVB        ┆ OVB        ┆ … ┆ 26.0       ┆ 1.0        ┆ 0.0       ┆ 950.0     │\n",
       "│ 2   ┆ E70        ┆ OVB        ┆ OVB        ┆ … ┆ 26.0       ┆ 1.0        ┆ 0.0       ┆ 950.0     │\n",
       "│ 3   ┆ E70        ┆ OVB        ┆ OVB        ┆ … ┆ 26.0       ┆ 1.0        ┆ 0.0       ┆ 950.0     │\n",
       "│ 4   ┆ E70        ┆ OVB        ┆ OVB        ┆ … ┆ 26.0       ┆ 1.0        ┆ 0.0       ┆ 950.0     │\n",
       "│ …   ┆ …          ┆ …          ┆ …          ┆ … ┆ …          ┆ …          ┆ …         ┆ …         │\n",
       "│ 15  ┆ E70        ┆ OVB        ┆ OVB        ┆ … ┆ 26.0       ┆ 1.0        ┆ 0.0       ┆ 1200.0    │\n",
       "│ 16  ┆ E70        ┆ OVB        ┆ OVB        ┆ … ┆ 26.0       ┆ 1.0        ┆ 0.0       ┆ 1200.0    │\n",
       "│ 17  ┆ E70        ┆ OVB        ┆ OVB        ┆ … ┆ 26.0       ┆ 1.0        ┆ 0.0       ┆ 1250.0    │\n",
       "│ 18  ┆ E70        ┆ OVB        ┆ OVB        ┆ … ┆ 26.0       ┆ 1.0        ┆ 0.0       ┆ 1250.0    │\n",
       "│ 19  ┆ E70        ┆ OVB        ┆ OVB        ┆ … ┆ 26.0       ┆ 1.0        ┆ 0.0       ┆ 1250.0    │\n",
       "└─────┴────────────┴────────────┴────────────┴───┴────────────┴────────────┴───────────┴───────────┘"
      ],
      "text/html": [
       "<div><style>\n",
       ".dataframe > thead > tr,\n",
       ".dataframe > tbody > tr {\n",
       "  text-align: right;\n",
       "  white-space: pre-wrap;\n",
       "}\n",
       "</style>\n",
       "<small>shape: (20, 83)</small><table border=\"1\" class=\"dataframe\"><thead><tr><th>Id</th><th>legs0_segments0_aircraft_code</th><th>legs0_segments0_arrivalTo_airport_city_iata</th><th>legs0_segments0_arrivalTo_airport_iata</th><th>legs0_segments0_cabinClass</th><th>legs0_segments0_departureFrom_airport_iata</th><th>legs0_segments0_marketingCarrier_code</th><th>legs0_segments0_operatingCarrier_code</th><th>legs0_segments0_seatsAvailable</th><th>legs0_segments1_aircraft_code</th><th>legs0_segments1_arrivalTo_airport_city_iata</th><th>legs0_segments1_arrivalTo_airport_iata</th><th>legs0_segments1_cabinClass</th><th>legs0_segments1_departureFrom_airport_iata</th><th>legs0_segments1_marketingCarrier_code</th><th>legs0_segments1_operatingCarrier_code</th><th>legs0_segments1_seatsAvailable</th><th>legs0_segments2_aircraft_code</th><th>legs0_segments2_arrivalTo_airport_city_iata</th><th>legs0_segments2_arrivalTo_airport_iata</th><th>legs0_segments2_cabinClass</th><th>legs0_segments2_departureFrom_airport_iata</th><th>legs0_segments2_marketingCarrier_code</th><th>legs0_segments2_operatingCarrier_code</th><th>legs0_segments2_seatsAvailable</th><th>legs1_segments0_aircraft_code</th><th>legs1_segments0_arrivalTo_airport_city_iata</th><th>legs1_segments0_arrivalTo_airport_iata</th><th>legs1_segments0_cabinClass</th><th>legs1_segments0_departureFrom_airport_iata</th><th>legs1_segments0_marketingCarrier_code</th><th>legs1_segments0_operatingCarrier_code</th><th>legs1_segments0_seatsAvailable</th><th>legs1_segments1_aircraft_code</th><th>legs1_segments1_arrivalTo_airport_city_iata</th><th>legs1_segments1_arrivalTo_airport_iata</th><th>legs1_segments1_cabinClass</th><th>&hellip;</th><th>legs1_segments2_marketingCarrier_code</th><th>legs1_segments2_operatingCarrier_code</th><th>legs1_segments2_seatsAvailable</th><th>miniRules0_monetaryAmount</th><th>miniRules0_percentage</th><th>miniRules0_statusInfos</th><th>miniRules1_monetaryAmount</th><th>miniRules1_percentage</th><th>miniRules1_statusInfos</th><th>pricingInfo_isAccessTP</th><th>pricingInfo_passengerCount</th><th>ranker_id</th><th>requestDate</th><th>searchRoute</th><th>taxes</th><th>totalPrice</th><th>total_price</th><th>passenger_count</th><th>leg0_duration_min</th><th>leg1_duration_min</th><th>leg0_flight_time_min</th><th>leg1_flight_time_min</th><th>leg0_departure_hour</th><th>leg0_arrival_hour</th><th>leg1_departure_hour</th><th>leg1_arrival_hour</th><th>has_cancellation_fee</th><th>has_exchange_fee</th><th>unique_carriers</th><th>total_segments</th><th>max_cabin_class</th><th>avg_cabin_class</th><th>min_seats_available</th><th>total_seats_available</th><th>baggage_allowance_quantity</th><th>baggage_allowance_weight</th><th>total_duration</th></tr><tr><td>i64</td><td>str</td><td>str</td><td>str</td><td>f64</td><td>str</td><td>str</td><td>str</td><td>f64</td><td>str</td><td>str</td><td>str</td><td>f64</td><td>str</td><td>str</td><td>str</td><td>f64</td><td>str</td><td>str</td><td>str</td><td>f64</td><td>str</td><td>str</td><td>str</td><td>f64</td><td>str</td><td>str</td><td>str</td><td>f64</td><td>str</td><td>str</td><td>str</td><td>f64</td><td>str</td><td>str</td><td>str</td><td>f64</td><td>&hellip;</td><td>str</td><td>str</td><td>f64</td><td>f64</td><td>f64</td><td>f64</td><td>f64</td><td>f64</td><td>f64</td><td>f64</td><td>i64</td><td>str</td><td>datetime[ns]</td><td>str</td><td>f64</td><td>f64</td><td>f64</td><td>i64</td><td>f64</td><td>f64</td><td>i32</td><td>i32</td><td>i8</td><td>i8</td><td>i8</td><td>i8</td><td>i32</td><td>i32</td><td>u32</td><td>u32</td><td>f64</td><td>f64</td><td>f64</td><td>f64</td><td>f64</td><td>f64</td><td>f64</td></tr></thead><tbody><tr><td>0</td><td>&quot;YK2&quot;</td><td>&quot;KJA&quot;</td><td>&quot;KJA&quot;</td><td>1.0</td><td>&quot;TLK&quot;</td><td>&quot;KV&quot;</td><td>&quot;KV&quot;</td><td>9.0</td><td>null</td><td>null</td><td>null</td><td>0.0</td><td>null</td><td>null</td><td>null</td><td>0.0</td><td>null</td><td>null</td><td>null</td><td>0.0</td><td>null</td><td>null</td><td>null</td><td>0.0</td><td>&quot;YK2&quot;</td><td>&quot;TLK&quot;</td><td>&quot;TLK&quot;</td><td>1.0</td><td>&quot;KJA&quot;</td><td>&quot;KV&quot;</td><td>&quot;KV&quot;</td><td>9.0</td><td>null</td><td>null</td><td>null</td><td>0.0</td><td>&hellip;</td><td>null</td><td>null</td><td>0.0</td><td>0.0</td><td>0.0</td><td>0.0</td><td>0.0</td><td>0.0</td><td>0.0</td><td>1.0</td><td>1</td><td>&quot;98ce0dabf6964640b63079fbafd42c…</td><td>2024-05-17 03:03:08</td><td>&quot;TLKKJA/KJATLK&quot;</td><td>370.0</td><td>16884.0</td><td>16884.0</td><td>1</td><td>160.0</td><td>155.0</td><td>160</td><td>155</td><td>15</td><td>16</td><td>9</td><td>14</td><td>0</td><td>0</td><td>1</td><td>2</td><td>1.0</td><td>1.0</td><td>9.0</td><td>18.0</td><td>1.0</td><td>0.0</td><td>315.0</td></tr><tr><td>1</td><td>&quot;E70&quot;</td><td>&quot;OVB&quot;</td><td>&quot;OVB&quot;</td><td>1.0</td><td>&quot;TLK&quot;</td><td>&quot;S7&quot;</td><td>&quot;S7&quot;</td><td>4.0</td><td>&quot;E70&quot;</td><td>&quot;KJA&quot;</td><td>&quot;KJA&quot;</td><td>1.0</td><td>&quot;OVB&quot;</td><td>&quot;S7&quot;</td><td>&quot;S7&quot;</td><td>4.0</td><td>null</td><td>null</td><td>null</td><td>0.0</td><td>null</td><td>null</td><td>null</td><td>0.0</td><td>&quot;E70&quot;</td><td>&quot;OVB&quot;</td><td>&quot;OVB&quot;</td><td>1.0</td><td>&quot;KJA&quot;</td><td>&quot;S7&quot;</td><td>&quot;S7&quot;</td><td>9.0</td><td>&quot;E70&quot;</td><td>&quot;TLK&quot;</td><td>&quot;TLK&quot;</td><td>1.0</td><td>&hellip;</td><td>null</td><td>null</td><td>0.0</td><td>2300.0</td><td>0.0</td><td>1.0</td><td>3500.0</td><td>0.0</td><td>1.0</td><td>1.0</td><td>1</td><td>&quot;98ce0dabf6964640b63079fbafd42c…</td><td>2024-05-17 03:03:08</td><td>&quot;TLKKJA/KJATLK&quot;</td><td>2240.0</td><td>51125.0</td><td>51125.0</td><td>1</td><td>445.0</td><td>505.0</td><td>250</td><td>245</td><td>9</td><td>14</td><td>22</td><td>8</td><td>1</td><td>1</td><td>1</td><td>4</td><td>1.0</td><td>1.0</td><td>4.0</td><td>26.0</td><td>1.0</td><td>0.0</td><td>950.0</td></tr><tr><td>2</td><td>&quot;E70&quot;</td><td>&quot;OVB&quot;</td><td>&quot;OVB&quot;</td><td>1.0</td><td>&quot;TLK&quot;</td><td>&quot;S7&quot;</td><td>&quot;S7&quot;</td><td>4.0</td><td>&quot;E70&quot;</td><td>&quot;KJA&quot;</td><td>&quot;KJA&quot;</td><td>1.0</td><td>&quot;OVB&quot;</td><td>&quot;S7&quot;</td><td>&quot;S7&quot;</td><td>4.0</td><td>null</td><td>null</td><td>null</td><td>0.0</td><td>null</td><td>null</td><td>null</td><td>0.0</td><td>&quot;E70&quot;</td><td>&quot;OVB&quot;</td><td>&quot;OVB&quot;</td><td>1.0</td><td>&quot;KJA&quot;</td><td>&quot;S7&quot;</td><td>&quot;S7&quot;</td><td>9.0</td><td>&quot;E70&quot;</td><td>&quot;TLK&quot;</td><td>&quot;TLK&quot;</td><td>1.0</td><td>&hellip;</td><td>null</td><td>null</td><td>0.0</td><td>2300.0</td><td>0.0</td><td>1.0</td><td>3500.0</td><td>0.0</td><td>1.0</td><td>1.0</td><td>1</td><td>&quot;98ce0dabf6964640b63079fbafd42c…</td><td>2024-05-17 03:03:08</td><td>&quot;TLKKJA/KJATLK&quot;</td><td>2240.0</td><td>53695.0</td><td>53695.0</td><td>1</td><td>445.0</td><td>505.0</td><td>250</td><td>245</td><td>9</td><td>14</td><td>22</td><td>8</td><td>1</td><td>1</td><td>1</td><td>4</td><td>1.0</td><td>1.0</td><td>4.0</td><td>26.0</td><td>1.0</td><td>0.0</td><td>950.0</td></tr><tr><td>3</td><td>&quot;E70&quot;</td><td>&quot;OVB&quot;</td><td>&quot;OVB&quot;</td><td>1.0</td><td>&quot;TLK&quot;</td><td>&quot;S7&quot;</td><td>&quot;S7&quot;</td><td>4.0</td><td>&quot;E70&quot;</td><td>&quot;KJA&quot;</td><td>&quot;KJA&quot;</td><td>1.0</td><td>&quot;OVB&quot;</td><td>&quot;S7&quot;</td><td>&quot;S7&quot;</td><td>4.0</td><td>null</td><td>null</td><td>null</td><td>0.0</td><td>null</td><td>null</td><td>null</td><td>0.0</td><td>&quot;E70&quot;</td><td>&quot;OVB&quot;</td><td>&quot;OVB&quot;</td><td>1.0</td><td>&quot;KJA&quot;</td><td>&quot;S7&quot;</td><td>&quot;S7&quot;</td><td>9.0</td><td>&quot;E70&quot;</td><td>&quot;TLK&quot;</td><td>&quot;TLK&quot;</td><td>1.0</td><td>&hellip;</td><td>null</td><td>null</td><td>0.0</td><td>0.0</td><td>0.0</td><td>1.0</td><td>0.0</td><td>0.0</td><td>1.0</td><td>1.0</td><td>1</td><td>&quot;98ce0dabf6964640b63079fbafd42c…</td><td>2024-05-17 03:03:08</td><td>&quot;TLKKJA/KJATLK&quot;</td><td>2240.0</td><td>81880.0</td><td>81880.0</td><td>1</td><td>445.0</td><td>505.0</td><td>250</td><td>245</td><td>9</td><td>14</td><td>22</td><td>8</td><td>0</td><td>0</td><td>1</td><td>4</td><td>1.0</td><td>1.0</td><td>4.0</td><td>26.0</td><td>1.0</td><td>0.0</td><td>950.0</td></tr><tr><td>4</td><td>&quot;E70&quot;</td><td>&quot;OVB&quot;</td><td>&quot;OVB&quot;</td><td>1.0</td><td>&quot;TLK&quot;</td><td>&quot;S7&quot;</td><td>&quot;S7&quot;</td><td>4.0</td><td>&quot;E70&quot;</td><td>&quot;KJA&quot;</td><td>&quot;KJA&quot;</td><td>1.0</td><td>&quot;OVB&quot;</td><td>&quot;S7&quot;</td><td>&quot;S7&quot;</td><td>4.0</td><td>null</td><td>null</td><td>null</td><td>0.0</td><td>null</td><td>null</td><td>null</td><td>0.0</td><td>&quot;E70&quot;</td><td>&quot;OVB&quot;</td><td>&quot;OVB&quot;</td><td>1.0</td><td>&quot;KJA&quot;</td><td>&quot;S7&quot;</td><td>&quot;S7&quot;</td><td>9.0</td><td>&quot;E70&quot;</td><td>&quot;TLK&quot;</td><td>&quot;TLK&quot;</td><td>1.0</td><td>&hellip;</td><td>null</td><td>null</td><td>0.0</td><td>0.0</td><td>0.0</td><td>1.0</td><td>0.0</td><td>0.0</td><td>1.0</td><td>1.0</td><td>1</td><td>&quot;98ce0dabf6964640b63079fbafd42c…</td><td>2024-05-17 03:03:08</td><td>&quot;TLKKJA/KJATLK&quot;</td><td>2240.0</td><td>86070.0</td><td>86070.0</td><td>1</td><td>445.0</td><td>505.0</td><td>250</td><td>245</td><td>9</td><td>14</td><td>22</td><td>8</td><td>0</td><td>0</td><td>1</td><td>4</td><td>1.0</td><td>1.0</td><td>4.0</td><td>26.0</td><td>1.0</td><td>0.0</td><td>950.0</td></tr><tr><td>&hellip;</td><td>&hellip;</td><td>&hellip;</td><td>&hellip;</td><td>&hellip;</td><td>&hellip;</td><td>&hellip;</td><td>&hellip;</td><td>&hellip;</td><td>&hellip;</td><td>&hellip;</td><td>&hellip;</td><td>&hellip;</td><td>&hellip;</td><td>&hellip;</td><td>&hellip;</td><td>&hellip;</td><td>&hellip;</td><td>&hellip;</td><td>&hellip;</td><td>&hellip;</td><td>&hellip;</td><td>&hellip;</td><td>&hellip;</td><td>&hellip;</td><td>&hellip;</td><td>&hellip;</td><td>&hellip;</td><td>&hellip;</td><td>&hellip;</td><td>&hellip;</td><td>&hellip;</td><td>&hellip;</td><td>&hellip;</td><td>&hellip;</td><td>&hellip;</td><td>&hellip;</td><td>&hellip;</td><td>&hellip;</td><td>&hellip;</td><td>&hellip;</td><td>&hellip;</td><td>&hellip;</td><td>&hellip;</td><td>&hellip;</td><td>&hellip;</td><td>&hellip;</td><td>&hellip;</td><td>&hellip;</td><td>&hellip;</td><td>&hellip;</td><td>&hellip;</td><td>&hellip;</td><td>&hellip;</td><td>&hellip;</td><td>&hellip;</td><td>&hellip;</td><td>&hellip;</td><td>&hellip;</td><td>&hellip;</td><td>&hellip;</td><td>&hellip;</td><td>&hellip;</td><td>&hellip;</td><td>&hellip;</td><td>&hellip;</td><td>&hellip;</td><td>&hellip;</td><td>&hellip;</td><td>&hellip;</td><td>&hellip;</td><td>&hellip;</td><td>&hellip;</td><td>&hellip;</td><td>&hellip;</td></tr><tr><td>15</td><td>&quot;E70&quot;</td><td>&quot;OVB&quot;</td><td>&quot;OVB&quot;</td><td>1.0</td><td>&quot;TLK&quot;</td><td>&quot;S7&quot;</td><td>&quot;S7&quot;</td><td>4.0</td><td>&quot;E70&quot;</td><td>&quot;KJA&quot;</td><td>&quot;KJA&quot;</td><td>1.0</td><td>&quot;OVB&quot;</td><td>&quot;S7&quot;</td><td>&quot;S7&quot;</td><td>4.0</td><td>null</td><td>null</td><td>null</td><td>0.0</td><td>null</td><td>null</td><td>null</td><td>0.0</td><td>&quot;E70&quot;</td><td>&quot;OVB&quot;</td><td>&quot;OVB&quot;</td><td>1.0</td><td>&quot;KJA&quot;</td><td>&quot;S7&quot;</td><td>&quot;S7&quot;</td><td>9.0</td><td>&quot;E70&quot;</td><td>&quot;TLK&quot;</td><td>&quot;TLK&quot;</td><td>1.0</td><td>&hellip;</td><td>null</td><td>null</td><td>0.0</td><td>0.0</td><td>0.0</td><td>1.0</td><td>0.0</td><td>0.0</td><td>1.0</td><td>1.0</td><td>1</td><td>&quot;98ce0dabf6964640b63079fbafd42c…</td><td>2024-05-17 03:03:08</td><td>&quot;TLKKJA/KJATLK&quot;</td><td>2240.0</td><td>81880.0</td><td>81880.0</td><td>1</td><td>445.0</td><td>755.0</td><td>250</td><td>245</td><td>9</td><td>14</td><td>17</td><td>8</td><td>0</td><td>0</td><td>1</td><td>4</td><td>1.0</td><td>1.0</td><td>4.0</td><td>26.0</td><td>1.0</td><td>0.0</td><td>1200.0</td></tr><tr><td>16</td><td>&quot;E70&quot;</td><td>&quot;OVB&quot;</td><td>&quot;OVB&quot;</td><td>1.0</td><td>&quot;TLK&quot;</td><td>&quot;S7&quot;</td><td>&quot;S7&quot;</td><td>4.0</td><td>&quot;E70&quot;</td><td>&quot;KJA&quot;</td><td>&quot;KJA&quot;</td><td>1.0</td><td>&quot;OVB&quot;</td><td>&quot;S7&quot;</td><td>&quot;S7&quot;</td><td>4.0</td><td>null</td><td>null</td><td>null</td><td>0.0</td><td>null</td><td>null</td><td>null</td><td>0.0</td><td>&quot;E70&quot;</td><td>&quot;OVB&quot;</td><td>&quot;OVB&quot;</td><td>1.0</td><td>&quot;KJA&quot;</td><td>&quot;S7&quot;</td><td>&quot;S7&quot;</td><td>9.0</td><td>&quot;E70&quot;</td><td>&quot;TLK&quot;</td><td>&quot;TLK&quot;</td><td>1.0</td><td>&hellip;</td><td>null</td><td>null</td><td>0.0</td><td>0.0</td><td>0.0</td><td>1.0</td><td>0.0</td><td>0.0</td><td>1.0</td><td>1.0</td><td>1</td><td>&quot;98ce0dabf6964640b63079fbafd42c…</td><td>2024-05-17 03:03:08</td><td>&quot;TLKKJA/KJATLK&quot;</td><td>2240.0</td><td>86070.0</td><td>86070.0</td><td>1</td><td>445.0</td><td>755.0</td><td>250</td><td>245</td><td>9</td><td>14</td><td>17</td><td>8</td><td>0</td><td>0</td><td>1</td><td>4</td><td>1.0</td><td>1.0</td><td>4.0</td><td>26.0</td><td>1.0</td><td>0.0</td><td>1200.0</td></tr><tr><td>17</td><td>&quot;E70&quot;</td><td>&quot;OVB&quot;</td><td>&quot;OVB&quot;</td><td>1.0</td><td>&quot;TLK&quot;</td><td>&quot;S7&quot;</td><td>&quot;S7&quot;</td><td>4.0</td><td>&quot;E70&quot;</td><td>&quot;KJA&quot;</td><td>&quot;KJA&quot;</td><td>1.0</td><td>&quot;OVB&quot;</td><td>&quot;S7&quot;</td><td>&quot;S7&quot;</td><td>4.0</td><td>null</td><td>null</td><td>null</td><td>0.0</td><td>null</td><td>null</td><td>null</td><td>0.0</td><td>&quot;E70&quot;</td><td>&quot;OVB&quot;</td><td>&quot;OVB&quot;</td><td>1.0</td><td>&quot;KJA&quot;</td><td>&quot;S7&quot;</td><td>&quot;S7&quot;</td><td>9.0</td><td>&quot;E70&quot;</td><td>&quot;TLK&quot;</td><td>&quot;TLK&quot;</td><td>1.0</td><td>&hellip;</td><td>null</td><td>null</td><td>0.0</td><td>2300.0</td><td>0.0</td><td>1.0</td><td>3500.0</td><td>0.0</td><td>1.0</td><td>1.0</td><td>1</td><td>&quot;98ce0dabf6964640b63079fbafd42c…</td><td>2024-05-17 03:03:08</td><td>&quot;TLKKJA/KJATLK&quot;</td><td>2240.0</td><td>51125.0</td><td>51125.0</td><td>1</td><td>595.0</td><td>655.0</td><td>250</td><td>245</td><td>9</td><td>17</td><td>19</td><td>8</td><td>1</td><td>1</td><td>1</td><td>4</td><td>1.0</td><td>1.0</td><td>4.0</td><td>26.0</td><td>1.0</td><td>0.0</td><td>1250.0</td></tr><tr><td>18</td><td>&quot;E70&quot;</td><td>&quot;OVB&quot;</td><td>&quot;OVB&quot;</td><td>1.0</td><td>&quot;TLK&quot;</td><td>&quot;S7&quot;</td><td>&quot;S7&quot;</td><td>4.0</td><td>&quot;E70&quot;</td><td>&quot;KJA&quot;</td><td>&quot;KJA&quot;</td><td>1.0</td><td>&quot;OVB&quot;</td><td>&quot;S7&quot;</td><td>&quot;S7&quot;</td><td>4.0</td><td>null</td><td>null</td><td>null</td><td>0.0</td><td>null</td><td>null</td><td>null</td><td>0.0</td><td>&quot;E70&quot;</td><td>&quot;OVB&quot;</td><td>&quot;OVB&quot;</td><td>1.0</td><td>&quot;KJA&quot;</td><td>&quot;S7&quot;</td><td>&quot;S7&quot;</td><td>9.0</td><td>&quot;E70&quot;</td><td>&quot;TLK&quot;</td><td>&quot;TLK&quot;</td><td>1.0</td><td>&hellip;</td><td>null</td><td>null</td><td>0.0</td><td>2300.0</td><td>0.0</td><td>1.0</td><td>3500.0</td><td>0.0</td><td>1.0</td><td>1.0</td><td>1</td><td>&quot;98ce0dabf6964640b63079fbafd42c…</td><td>2024-05-17 03:03:08</td><td>&quot;TLKKJA/KJATLK&quot;</td><td>2240.0</td><td>53695.0</td><td>53695.0</td><td>1</td><td>595.0</td><td>655.0</td><td>250</td><td>245</td><td>9</td><td>17</td><td>19</td><td>8</td><td>1</td><td>1</td><td>1</td><td>4</td><td>1.0</td><td>1.0</td><td>4.0</td><td>26.0</td><td>1.0</td><td>0.0</td><td>1250.0</td></tr><tr><td>19</td><td>&quot;E70&quot;</td><td>&quot;OVB&quot;</td><td>&quot;OVB&quot;</td><td>1.0</td><td>&quot;TLK&quot;</td><td>&quot;S7&quot;</td><td>&quot;S7&quot;</td><td>4.0</td><td>&quot;E70&quot;</td><td>&quot;KJA&quot;</td><td>&quot;KJA&quot;</td><td>1.0</td><td>&quot;OVB&quot;</td><td>&quot;S7&quot;</td><td>&quot;S7&quot;</td><td>4.0</td><td>null</td><td>null</td><td>null</td><td>0.0</td><td>null</td><td>null</td><td>null</td><td>0.0</td><td>&quot;E70&quot;</td><td>&quot;OVB&quot;</td><td>&quot;OVB&quot;</td><td>1.0</td><td>&quot;KJA&quot;</td><td>&quot;S7&quot;</td><td>&quot;S7&quot;</td><td>9.0</td><td>&quot;E70&quot;</td><td>&quot;TLK&quot;</td><td>&quot;TLK&quot;</td><td>1.0</td><td>&hellip;</td><td>null</td><td>null</td><td>0.0</td><td>0.0</td><td>0.0</td><td>1.0</td><td>0.0</td><td>0.0</td><td>1.0</td><td>1.0</td><td>1</td><td>&quot;98ce0dabf6964640b63079fbafd42c…</td><td>2024-05-17 03:03:08</td><td>&quot;TLKKJA/KJATLK&quot;</td><td>2240.0</td><td>81880.0</td><td>81880.0</td><td>1</td><td>595.0</td><td>655.0</td><td>250</td><td>245</td><td>9</td><td>17</td><td>19</td><td>8</td><td>0</td><td>0</td><td>1</td><td>4</td><td>1.0</td><td>1.0</td><td>4.0</td><td>26.0</td><td>1.0</td><td>0.0</td><td>1250.0</td></tr></tbody></table></div>"
      ]
     },
     "execution_count": 7,
     "metadata": {},
     "output_type": "execute_result"
    }
   ],
   "execution_count": 7
  },
  {
   "metadata": {
    "ExecuteTime": {
     "end_time": "2025-08-11T23:42:46.527668Z",
     "start_time": "2025-08-11T23:42:46.511505Z"
    }
   },
   "cell_type": "code",
   "source": [
    "def add_search_price_features(df):\n",
    "\n",
    "    lazy_df = df.lazy().with_columns([\n",
    "        # Basic ranking and percentile features\n",
    "        pl.col('totalPrice').rank(method='min').over('ranker_id').alias('price_rank'),\n",
    "\n",
    "        # Price percentile (0-100, lower = cheaper)\n",
    "        ((pl.col('totalPrice').rank(method='min').over('ranker_id') - 1) /\n",
    "         (pl.col('totalPrice').count().over('ranker_id') - 1) * 100)\n",
    "        .fill_null(50.0).alias('price_percentile'),\n",
    "\n",
    "        # Z-score within search group\n",
    "        pl.when(pl.col('totalPrice').std().over('ranker_id') > 0)\n",
    "        .then(\n",
    "            (pl.col('totalPrice') - pl.col('totalPrice').mean().over('ranker_id')) /\n",
    "            pl.col('totalPrice').std().over('ranker_id')\n",
    "        )\n",
    "        .otherwise(0.0)\n",
    "        .alias('price_zscore'),\n",
    "\n",
    "        # Group statistics for ratio calculations\n",
    "        pl.col('totalPrice').min().over('ranker_id').alias('_min_price'),\n",
    "        pl.col('totalPrice').max().over('ranker_id').alias('_max_price'),\n",
    "        pl.col('totalPrice').median().over('ranker_id').alias('_median_price'),\n",
    "        pl.col('totalPrice').mean().over('ranker_id').alias('_mean_price'),\n",
    "        pl.col('totalPrice').std().over('ranker_id').alias('_std_price'),\n",
    "        pl.col('totalPrice').count().over('ranker_id').alias('options_count'),\n",
    "\n",
    "    ]).with_columns([\n",
    "        # Ratio features\n",
    "        (pl.col('totalPrice') / pl.col('_min_price')).alias('price_ratio_to_min'),\n",
    "        (pl.col('totalPrice') / pl.col('_max_price')).alias('price_ratio_to_max'),\n",
    "        (pl.col('totalPrice') / pl.col('_median_price')).alias('price_ratio_to_median'),\n",
    "\n",
    "        # Binary position features\n",
    "        (pl.col('totalPrice') == pl.col('_min_price')).cast(pl.Int32).alias('is_cheapest'),\n",
    "        (pl.col('totalPrice') == pl.col('_max_price')).cast(pl.Int32).alias('is_most_expensive'),\n",
    "        (pl.col('totalPrice') < pl.col('_median_price')).cast(pl.Int32).alias('is_below_median'),\n",
    "\n",
    "        # Price range and variability\n",
    "        (pl.col('_max_price') - pl.col('_min_price')).alias('price_range'),\n",
    "        pl.col('_std_price').alias('price_std'),\n",
    "\n",
    "        # Coefficient of variation\n",
    "        pl.when(pl.col('_mean_price') > 0)\n",
    "        .then(pl.col('_std_price') / pl.col('_mean_price'))\n",
    "        .otherwise(0.0)\n",
    "        .alias('price_cv'),\n",
    "\n",
    "    ]).with_columns([\n",
    "        # Sort prices to calculate price gap\n",
    "        pl.col('totalPrice').sort().over('ranker_id').alias('_sorted_prices'),\n",
    "\n",
    "    ]).with_columns([\n",
    "        # Calculate price gap using window functions\n",
    "        pl.when(pl.col('price_rank') < pl.col('options_count'))\n",
    "        .then(\n",
    "            # Get the next higher price in the sorted list\n",
    "            pl.col('_sorted_prices').shift(-1).over('ranker_id') - pl.col('totalPrice')\n",
    "        )\n",
    "        .otherwise(0.0)\n",
    "        .alias('price_gap_to_next_cheapest')\n",
    "\n",
    "    ]).drop(['^_.*$']).fill_null(0)  # Remove the temporary columns\n",
    "\n",
    "    return lazy_df.collect()"
   ],
   "id": "bebca0c9ed10d22b",
   "outputs": [],
   "execution_count": 8
  },
  {
   "metadata": {
    "ExecuteTime": {
     "end_time": "2025-08-11T23:43:03.450645Z",
     "start_time": "2025-08-11T23:42:56.779785Z"
    }
   },
   "cell_type": "code",
   "source": "data = add_search_price_features(data)",
   "id": "ca3129f9d0164247",
   "outputs": [],
   "execution_count": 9
  },
  {
   "metadata": {
    "ExecuteTime": {
     "end_time": "2025-08-11T23:43:22.123255Z",
     "start_time": "2025-08-11T23:43:21.934073Z"
    }
   },
   "cell_type": "code",
   "source": [
    "gc.collect()\n",
    "data.head(20)"
   ],
   "id": "8002f2099264ae85",
   "outputs": [
    {
     "data": {
      "text/plain": [
       "shape: (20, 97)\n",
       "┌─────┬────────────┬────────────┬────────────┬───┬────────────┬────────────┬──────────┬────────────┐\n",
       "│ Id  ┆ legs0_segm ┆ legs0_segm ┆ legs0_segm ┆ … ┆ price_rang ┆ price_std  ┆ price_cv ┆ price_gap_ │\n",
       "│ --- ┆ ents0_airc ┆ ents0_arri ┆ ents0_arri ┆   ┆ e          ┆ ---        ┆ ---      ┆ to_next_ch │\n",
       "│ i64 ┆ raft_code  ┆ valTo_airp ┆ valTo_airp ┆   ┆ ---        ┆ f64        ┆ f64      ┆ eapest     │\n",
       "│     ┆ ---        ┆ …          ┆ …          ┆   ┆ f64        ┆            ┆          ┆ ---        │\n",
       "│     ┆ str        ┆ ---        ┆ ---        ┆   ┆            ┆            ┆          ┆ f64        │\n",
       "│     ┆            ┆ str        ┆ str        ┆   ┆            ┆            ┆          ┆            │\n",
       "╞═════╪════════════╪════════════╪════════════╪═══╪════════════╪════════════╪══════════╪════════════╡\n",
       "│ 0   ┆ YK2        ┆ KJA        ┆ KJA        ┆ … ┆ 69186.0    ┆ 18905.2881 ┆ 0.285837 ┆ 34241.0    │\n",
       "│ 1   ┆ E70        ┆ OVB        ┆ OVB        ┆ … ┆ 69186.0    ┆ 18905.2881 ┆ 0.285837 ┆ 0.0        │\n",
       "│ 2   ┆ E70        ┆ OVB        ┆ OVB        ┆ … ┆ 69186.0    ┆ 18905.2881 ┆ 0.285837 ┆ -2570.0    │\n",
       "│ 3   ┆ E70        ┆ OVB        ┆ OVB        ┆ … ┆ 69186.0    ┆ 18905.2881 ┆ 0.285837 ┆ -30755.0   │\n",
       "│ 4   ┆ E70        ┆ OVB        ┆ OVB        ┆ … ┆ 69186.0    ┆ 18905.2881 ┆ 0.285837 ┆ -34945.0   │\n",
       "│ …   ┆ …          ┆ …          ┆ …          ┆ … ┆ …          ┆ …          ┆ …        ┆ …          │\n",
       "│ 15  ┆ E70        ┆ OVB        ┆ OVB        ┆ … ┆ 69186.0    ┆ 18905.2881 ┆ 0.285837 ┆ 0.0        │\n",
       "│ 16  ┆ E70        ┆ OVB        ┆ OVB        ┆ … ┆ 69186.0    ┆ 18905.2881 ┆ 0.285837 ┆ -4190.0    │\n",
       "│ 17  ┆ E70        ┆ OVB        ┆ OVB        ┆ … ┆ 69186.0    ┆ 18905.2881 ┆ 0.285837 ┆ 30755.0    │\n",
       "│ 18  ┆ E70        ┆ OVB        ┆ OVB        ┆ … ┆ 69186.0    ┆ 18905.2881 ┆ 0.285837 ┆ 32375.0    │\n",
       "│ 19  ┆ E70        ┆ OVB        ┆ OVB        ┆ … ┆ 69186.0    ┆ 18905.2881 ┆ 0.285837 ┆ 4190.0     │\n",
       "└─────┴────────────┴────────────┴────────────┴───┴────────────┴────────────┴──────────┴────────────┘"
      ],
      "text/html": [
       "<div><style>\n",
       ".dataframe > thead > tr,\n",
       ".dataframe > tbody > tr {\n",
       "  text-align: right;\n",
       "  white-space: pre-wrap;\n",
       "}\n",
       "</style>\n",
       "<small>shape: (20, 97)</small><table border=\"1\" class=\"dataframe\"><thead><tr><th>Id</th><th>legs0_segments0_aircraft_code</th><th>legs0_segments0_arrivalTo_airport_city_iata</th><th>legs0_segments0_arrivalTo_airport_iata</th><th>legs0_segments0_cabinClass</th><th>legs0_segments0_departureFrom_airport_iata</th><th>legs0_segments0_marketingCarrier_code</th><th>legs0_segments0_operatingCarrier_code</th><th>legs0_segments0_seatsAvailable</th><th>legs0_segments1_aircraft_code</th><th>legs0_segments1_arrivalTo_airport_city_iata</th><th>legs0_segments1_arrivalTo_airport_iata</th><th>legs0_segments1_cabinClass</th><th>legs0_segments1_departureFrom_airport_iata</th><th>legs0_segments1_marketingCarrier_code</th><th>legs0_segments1_operatingCarrier_code</th><th>legs0_segments1_seatsAvailable</th><th>legs0_segments2_aircraft_code</th><th>legs0_segments2_arrivalTo_airport_city_iata</th><th>legs0_segments2_arrivalTo_airport_iata</th><th>legs0_segments2_cabinClass</th><th>legs0_segments2_departureFrom_airport_iata</th><th>legs0_segments2_marketingCarrier_code</th><th>legs0_segments2_operatingCarrier_code</th><th>legs0_segments2_seatsAvailable</th><th>legs1_segments0_aircraft_code</th><th>legs1_segments0_arrivalTo_airport_city_iata</th><th>legs1_segments0_arrivalTo_airport_iata</th><th>legs1_segments0_cabinClass</th><th>legs1_segments0_departureFrom_airport_iata</th><th>legs1_segments0_marketingCarrier_code</th><th>legs1_segments0_operatingCarrier_code</th><th>legs1_segments0_seatsAvailable</th><th>legs1_segments1_aircraft_code</th><th>legs1_segments1_arrivalTo_airport_city_iata</th><th>legs1_segments1_arrivalTo_airport_iata</th><th>legs1_segments1_cabinClass</th><th>&hellip;</th><th>taxes</th><th>totalPrice</th><th>total_price</th><th>passenger_count</th><th>leg0_duration_min</th><th>leg1_duration_min</th><th>leg0_flight_time_min</th><th>leg1_flight_time_min</th><th>leg0_departure_hour</th><th>leg0_arrival_hour</th><th>leg1_departure_hour</th><th>leg1_arrival_hour</th><th>has_cancellation_fee</th><th>has_exchange_fee</th><th>unique_carriers</th><th>total_segments</th><th>max_cabin_class</th><th>avg_cabin_class</th><th>min_seats_available</th><th>total_seats_available</th><th>baggage_allowance_quantity</th><th>baggage_allowance_weight</th><th>total_duration</th><th>price_rank</th><th>price_percentile</th><th>price_zscore</th><th>options_count</th><th>price_ratio_to_min</th><th>price_ratio_to_max</th><th>price_ratio_to_median</th><th>is_cheapest</th><th>is_most_expensive</th><th>is_below_median</th><th>price_range</th><th>price_std</th><th>price_cv</th><th>price_gap_to_next_cheapest</th></tr><tr><td>i64</td><td>str</td><td>str</td><td>str</td><td>f64</td><td>str</td><td>str</td><td>str</td><td>f64</td><td>str</td><td>str</td><td>str</td><td>f64</td><td>str</td><td>str</td><td>str</td><td>f64</td><td>str</td><td>str</td><td>str</td><td>f64</td><td>str</td><td>str</td><td>str</td><td>f64</td><td>str</td><td>str</td><td>str</td><td>f64</td><td>str</td><td>str</td><td>str</td><td>f64</td><td>str</td><td>str</td><td>str</td><td>f64</td><td>&hellip;</td><td>f64</td><td>f64</td><td>f64</td><td>i64</td><td>f64</td><td>f64</td><td>i32</td><td>i32</td><td>i8</td><td>i8</td><td>i8</td><td>i8</td><td>i32</td><td>i32</td><td>u32</td><td>u32</td><td>f64</td><td>f64</td><td>f64</td><td>f64</td><td>f64</td><td>f64</td><td>f64</td><td>u32</td><td>f64</td><td>f64</td><td>u32</td><td>f64</td><td>f64</td><td>f64</td><td>i32</td><td>i32</td><td>i32</td><td>f64</td><td>f64</td><td>f64</td><td>f64</td></tr></thead><tbody><tr><td>0</td><td>&quot;YK2&quot;</td><td>&quot;KJA&quot;</td><td>&quot;KJA&quot;</td><td>1.0</td><td>&quot;TLK&quot;</td><td>&quot;KV&quot;</td><td>&quot;KV&quot;</td><td>9.0</td><td>null</td><td>null</td><td>null</td><td>0.0</td><td>null</td><td>null</td><td>null</td><td>0.0</td><td>null</td><td>null</td><td>null</td><td>0.0</td><td>null</td><td>null</td><td>null</td><td>0.0</td><td>&quot;YK2&quot;</td><td>&quot;TLK&quot;</td><td>&quot;TLK&quot;</td><td>1.0</td><td>&quot;KJA&quot;</td><td>&quot;KV&quot;</td><td>&quot;KV&quot;</td><td>9.0</td><td>null</td><td>null</td><td>null</td><td>0.0</td><td>&hellip;</td><td>370.0</td><td>16884.0</td><td>16884.0</td><td>1</td><td>160.0</td><td>155.0</td><td>160</td><td>155</td><td>15</td><td>16</td><td>9</td><td>14</td><td>0</td><td>0</td><td>1</td><td>2</td><td>1.0</td><td>1.0</td><td>9.0</td><td>18.0</td><td>1.0</td><td>0.0</td><td>315.0</td><td>1</td><td>0.0</td><td>-2.605417</td><td>25</td><td>1.0</td><td>0.196166</td><td>0.314443</td><td>1</td><td>0</td><td>1</td><td>69186.0</td><td>18905.2881</td><td>0.285837</td><td>34241.0</td></tr><tr><td>1</td><td>&quot;E70&quot;</td><td>&quot;OVB&quot;</td><td>&quot;OVB&quot;</td><td>1.0</td><td>&quot;TLK&quot;</td><td>&quot;S7&quot;</td><td>&quot;S7&quot;</td><td>4.0</td><td>&quot;E70&quot;</td><td>&quot;KJA&quot;</td><td>&quot;KJA&quot;</td><td>1.0</td><td>&quot;OVB&quot;</td><td>&quot;S7&quot;</td><td>&quot;S7&quot;</td><td>4.0</td><td>null</td><td>null</td><td>null</td><td>0.0</td><td>null</td><td>null</td><td>null</td><td>0.0</td><td>&quot;E70&quot;</td><td>&quot;OVB&quot;</td><td>&quot;OVB&quot;</td><td>1.0</td><td>&quot;KJA&quot;</td><td>&quot;S7&quot;</td><td>&quot;S7&quot;</td><td>9.0</td><td>&quot;E70&quot;</td><td>&quot;TLK&quot;</td><td>&quot;TLK&quot;</td><td>1.0</td><td>&hellip;</td><td>2240.0</td><td>51125.0</td><td>51125.0</td><td>1</td><td>445.0</td><td>505.0</td><td>250</td><td>245</td><td>9</td><td>14</td><td>22</td><td>8</td><td>1</td><td>1</td><td>1</td><td>4</td><td>1.0</td><td>1.0</td><td>4.0</td><td>26.0</td><td>1.0</td><td>0.0</td><td>950.0</td><td>2</td><td>4.166667</td><td>-0.794231</td><td>25</td><td>3.028015</td><td>0.593993</td><td>0.952137</td><td>0</td><td>0</td><td>1</td><td>69186.0</td><td>18905.2881</td><td>0.285837</td><td>0.0</td></tr><tr><td>2</td><td>&quot;E70&quot;</td><td>&quot;OVB&quot;</td><td>&quot;OVB&quot;</td><td>1.0</td><td>&quot;TLK&quot;</td><td>&quot;S7&quot;</td><td>&quot;S7&quot;</td><td>4.0</td><td>&quot;E70&quot;</td><td>&quot;KJA&quot;</td><td>&quot;KJA&quot;</td><td>1.0</td><td>&quot;OVB&quot;</td><td>&quot;S7&quot;</td><td>&quot;S7&quot;</td><td>4.0</td><td>null</td><td>null</td><td>null</td><td>0.0</td><td>null</td><td>null</td><td>null</td><td>0.0</td><td>&quot;E70&quot;</td><td>&quot;OVB&quot;</td><td>&quot;OVB&quot;</td><td>1.0</td><td>&quot;KJA&quot;</td><td>&quot;S7&quot;</td><td>&quot;S7&quot;</td><td>9.0</td><td>&quot;E70&quot;</td><td>&quot;TLK&quot;</td><td>&quot;TLK&quot;</td><td>1.0</td><td>&hellip;</td><td>2240.0</td><td>53695.0</td><td>53695.0</td><td>1</td><td>445.0</td><td>505.0</td><td>250</td><td>245</td><td>9</td><td>14</td><td>22</td><td>8</td><td>1</td><td>1</td><td>1</td><td>4</td><td>1.0</td><td>1.0</td><td>4.0</td><td>26.0</td><td>1.0</td><td>0.0</td><td>950.0</td><td>8</td><td>29.166667</td><td>-0.65829</td><td>25</td><td>3.18023</td><td>0.623853</td><td>1.0</td><td>0</td><td>0</td><td>0</td><td>69186.0</td><td>18905.2881</td><td>0.285837</td><td>-2570.0</td></tr><tr><td>3</td><td>&quot;E70&quot;</td><td>&quot;OVB&quot;</td><td>&quot;OVB&quot;</td><td>1.0</td><td>&quot;TLK&quot;</td><td>&quot;S7&quot;</td><td>&quot;S7&quot;</td><td>4.0</td><td>&quot;E70&quot;</td><td>&quot;KJA&quot;</td><td>&quot;KJA&quot;</td><td>1.0</td><td>&quot;OVB&quot;</td><td>&quot;S7&quot;</td><td>&quot;S7&quot;</td><td>4.0</td><td>null</td><td>null</td><td>null</td><td>0.0</td><td>null</td><td>null</td><td>null</td><td>0.0</td><td>&quot;E70&quot;</td><td>&quot;OVB&quot;</td><td>&quot;OVB&quot;</td><td>1.0</td><td>&quot;KJA&quot;</td><td>&quot;S7&quot;</td><td>&quot;S7&quot;</td><td>9.0</td><td>&quot;E70&quot;</td><td>&quot;TLK&quot;</td><td>&quot;TLK&quot;</td><td>1.0</td><td>&hellip;</td><td>2240.0</td><td>81880.0</td><td>81880.0</td><td>1</td><td>445.0</td><td>505.0</td><td>250</td><td>245</td><td>9</td><td>14</td><td>22</td><td>8</td><td>0</td><td>0</td><td>1</td><td>4</td><td>1.0</td><td>1.0</td><td>4.0</td><td>26.0</td><td>1.0</td><td>0.0</td><td>950.0</td><td>14</td><td>54.166667</td><td>0.832563</td><td>25</td><td>4.849562</td><td>0.951319</td><td>1.524909</td><td>0</td><td>0</td><td>0</td><td>69186.0</td><td>18905.2881</td><td>0.285837</td><td>-30755.0</td></tr><tr><td>4</td><td>&quot;E70&quot;</td><td>&quot;OVB&quot;</td><td>&quot;OVB&quot;</td><td>1.0</td><td>&quot;TLK&quot;</td><td>&quot;S7&quot;</td><td>&quot;S7&quot;</td><td>4.0</td><td>&quot;E70&quot;</td><td>&quot;KJA&quot;</td><td>&quot;KJA&quot;</td><td>1.0</td><td>&quot;OVB&quot;</td><td>&quot;S7&quot;</td><td>&quot;S7&quot;</td><td>4.0</td><td>null</td><td>null</td><td>null</td><td>0.0</td><td>null</td><td>null</td><td>null</td><td>0.0</td><td>&quot;E70&quot;</td><td>&quot;OVB&quot;</td><td>&quot;OVB&quot;</td><td>1.0</td><td>&quot;KJA&quot;</td><td>&quot;S7&quot;</td><td>&quot;S7&quot;</td><td>9.0</td><td>&quot;E70&quot;</td><td>&quot;TLK&quot;</td><td>&quot;TLK&quot;</td><td>1.0</td><td>&hellip;</td><td>2240.0</td><td>86070.0</td><td>86070.0</td><td>1</td><td>445.0</td><td>505.0</td><td>250</td><td>245</td><td>9</td><td>14</td><td>22</td><td>8</td><td>0</td><td>0</td><td>1</td><td>4</td><td>1.0</td><td>1.0</td><td>4.0</td><td>26.0</td><td>1.0</td><td>0.0</td><td>950.0</td><td>20</td><td>79.166667</td><td>1.054194</td><td>25</td><td>5.097726</td><td>1.0</td><td>1.602943</td><td>0</td><td>1</td><td>0</td><td>69186.0</td><td>18905.2881</td><td>0.285837</td><td>-34945.0</td></tr><tr><td>&hellip;</td><td>&hellip;</td><td>&hellip;</td><td>&hellip;</td><td>&hellip;</td><td>&hellip;</td><td>&hellip;</td><td>&hellip;</td><td>&hellip;</td><td>&hellip;</td><td>&hellip;</td><td>&hellip;</td><td>&hellip;</td><td>&hellip;</td><td>&hellip;</td><td>&hellip;</td><td>&hellip;</td><td>&hellip;</td><td>&hellip;</td><td>&hellip;</td><td>&hellip;</td><td>&hellip;</td><td>&hellip;</td><td>&hellip;</td><td>&hellip;</td><td>&hellip;</td><td>&hellip;</td><td>&hellip;</td><td>&hellip;</td><td>&hellip;</td><td>&hellip;</td><td>&hellip;</td><td>&hellip;</td><td>&hellip;</td><td>&hellip;</td><td>&hellip;</td><td>&hellip;</td><td>&hellip;</td><td>&hellip;</td><td>&hellip;</td><td>&hellip;</td><td>&hellip;</td><td>&hellip;</td><td>&hellip;</td><td>&hellip;</td><td>&hellip;</td><td>&hellip;</td><td>&hellip;</td><td>&hellip;</td><td>&hellip;</td><td>&hellip;</td><td>&hellip;</td><td>&hellip;</td><td>&hellip;</td><td>&hellip;</td><td>&hellip;</td><td>&hellip;</td><td>&hellip;</td><td>&hellip;</td><td>&hellip;</td><td>&hellip;</td><td>&hellip;</td><td>&hellip;</td><td>&hellip;</td><td>&hellip;</td><td>&hellip;</td><td>&hellip;</td><td>&hellip;</td><td>&hellip;</td><td>&hellip;</td><td>&hellip;</td><td>&hellip;</td><td>&hellip;</td><td>&hellip;</td><td>&hellip;</td></tr><tr><td>15</td><td>&quot;E70&quot;</td><td>&quot;OVB&quot;</td><td>&quot;OVB&quot;</td><td>1.0</td><td>&quot;TLK&quot;</td><td>&quot;S7&quot;</td><td>&quot;S7&quot;</td><td>4.0</td><td>&quot;E70&quot;</td><td>&quot;KJA&quot;</td><td>&quot;KJA&quot;</td><td>1.0</td><td>&quot;OVB&quot;</td><td>&quot;S7&quot;</td><td>&quot;S7&quot;</td><td>4.0</td><td>null</td><td>null</td><td>null</td><td>0.0</td><td>null</td><td>null</td><td>null</td><td>0.0</td><td>&quot;E70&quot;</td><td>&quot;OVB&quot;</td><td>&quot;OVB&quot;</td><td>1.0</td><td>&quot;KJA&quot;</td><td>&quot;S7&quot;</td><td>&quot;S7&quot;</td><td>9.0</td><td>&quot;E70&quot;</td><td>&quot;TLK&quot;</td><td>&quot;TLK&quot;</td><td>1.0</td><td>&hellip;</td><td>2240.0</td><td>81880.0</td><td>81880.0</td><td>1</td><td>445.0</td><td>755.0</td><td>250</td><td>245</td><td>9</td><td>14</td><td>17</td><td>8</td><td>0</td><td>0</td><td>1</td><td>4</td><td>1.0</td><td>1.0</td><td>4.0</td><td>26.0</td><td>1.0</td><td>0.0</td><td>1200.0</td><td>14</td><td>54.166667</td><td>0.832563</td><td>25</td><td>4.849562</td><td>0.951319</td><td>1.524909</td><td>0</td><td>0</td><td>0</td><td>69186.0</td><td>18905.2881</td><td>0.285837</td><td>0.0</td></tr><tr><td>16</td><td>&quot;E70&quot;</td><td>&quot;OVB&quot;</td><td>&quot;OVB&quot;</td><td>1.0</td><td>&quot;TLK&quot;</td><td>&quot;S7&quot;</td><td>&quot;S7&quot;</td><td>4.0</td><td>&quot;E70&quot;</td><td>&quot;KJA&quot;</td><td>&quot;KJA&quot;</td><td>1.0</td><td>&quot;OVB&quot;</td><td>&quot;S7&quot;</td><td>&quot;S7&quot;</td><td>4.0</td><td>null</td><td>null</td><td>null</td><td>0.0</td><td>null</td><td>null</td><td>null</td><td>0.0</td><td>&quot;E70&quot;</td><td>&quot;OVB&quot;</td><td>&quot;OVB&quot;</td><td>1.0</td><td>&quot;KJA&quot;</td><td>&quot;S7&quot;</td><td>&quot;S7&quot;</td><td>9.0</td><td>&quot;E70&quot;</td><td>&quot;TLK&quot;</td><td>&quot;TLK&quot;</td><td>1.0</td><td>&hellip;</td><td>2240.0</td><td>86070.0</td><td>86070.0</td><td>1</td><td>445.0</td><td>755.0</td><td>250</td><td>245</td><td>9</td><td>14</td><td>17</td><td>8</td><td>0</td><td>0</td><td>1</td><td>4</td><td>1.0</td><td>1.0</td><td>4.0</td><td>26.0</td><td>1.0</td><td>0.0</td><td>1200.0</td><td>20</td><td>79.166667</td><td>1.054194</td><td>25</td><td>5.097726</td><td>1.0</td><td>1.602943</td><td>0</td><td>1</td><td>0</td><td>69186.0</td><td>18905.2881</td><td>0.285837</td><td>-4190.0</td></tr><tr><td>17</td><td>&quot;E70&quot;</td><td>&quot;OVB&quot;</td><td>&quot;OVB&quot;</td><td>1.0</td><td>&quot;TLK&quot;</td><td>&quot;S7&quot;</td><td>&quot;S7&quot;</td><td>4.0</td><td>&quot;E70&quot;</td><td>&quot;KJA&quot;</td><td>&quot;KJA&quot;</td><td>1.0</td><td>&quot;OVB&quot;</td><td>&quot;S7&quot;</td><td>&quot;S7&quot;</td><td>4.0</td><td>null</td><td>null</td><td>null</td><td>0.0</td><td>null</td><td>null</td><td>null</td><td>0.0</td><td>&quot;E70&quot;</td><td>&quot;OVB&quot;</td><td>&quot;OVB&quot;</td><td>1.0</td><td>&quot;KJA&quot;</td><td>&quot;S7&quot;</td><td>&quot;S7&quot;</td><td>9.0</td><td>&quot;E70&quot;</td><td>&quot;TLK&quot;</td><td>&quot;TLK&quot;</td><td>1.0</td><td>&hellip;</td><td>2240.0</td><td>51125.0</td><td>51125.0</td><td>1</td><td>595.0</td><td>655.0</td><td>250</td><td>245</td><td>9</td><td>17</td><td>19</td><td>8</td><td>1</td><td>1</td><td>1</td><td>4</td><td>1.0</td><td>1.0</td><td>4.0</td><td>26.0</td><td>1.0</td><td>0.0</td><td>1250.0</td><td>2</td><td>4.166667</td><td>-0.794231</td><td>25</td><td>3.028015</td><td>0.593993</td><td>0.952137</td><td>0</td><td>0</td><td>1</td><td>69186.0</td><td>18905.2881</td><td>0.285837</td><td>30755.0</td></tr><tr><td>18</td><td>&quot;E70&quot;</td><td>&quot;OVB&quot;</td><td>&quot;OVB&quot;</td><td>1.0</td><td>&quot;TLK&quot;</td><td>&quot;S7&quot;</td><td>&quot;S7&quot;</td><td>4.0</td><td>&quot;E70&quot;</td><td>&quot;KJA&quot;</td><td>&quot;KJA&quot;</td><td>1.0</td><td>&quot;OVB&quot;</td><td>&quot;S7&quot;</td><td>&quot;S7&quot;</td><td>4.0</td><td>null</td><td>null</td><td>null</td><td>0.0</td><td>null</td><td>null</td><td>null</td><td>0.0</td><td>&quot;E70&quot;</td><td>&quot;OVB&quot;</td><td>&quot;OVB&quot;</td><td>1.0</td><td>&quot;KJA&quot;</td><td>&quot;S7&quot;</td><td>&quot;S7&quot;</td><td>9.0</td><td>&quot;E70&quot;</td><td>&quot;TLK&quot;</td><td>&quot;TLK&quot;</td><td>1.0</td><td>&hellip;</td><td>2240.0</td><td>53695.0</td><td>53695.0</td><td>1</td><td>595.0</td><td>655.0</td><td>250</td><td>245</td><td>9</td><td>17</td><td>19</td><td>8</td><td>1</td><td>1</td><td>1</td><td>4</td><td>1.0</td><td>1.0</td><td>4.0</td><td>26.0</td><td>1.0</td><td>0.0</td><td>1250.0</td><td>8</td><td>29.166667</td><td>-0.65829</td><td>25</td><td>3.18023</td><td>0.623853</td><td>1.0</td><td>0</td><td>0</td><td>0</td><td>69186.0</td><td>18905.2881</td><td>0.285837</td><td>32375.0</td></tr><tr><td>19</td><td>&quot;E70&quot;</td><td>&quot;OVB&quot;</td><td>&quot;OVB&quot;</td><td>1.0</td><td>&quot;TLK&quot;</td><td>&quot;S7&quot;</td><td>&quot;S7&quot;</td><td>4.0</td><td>&quot;E70&quot;</td><td>&quot;KJA&quot;</td><td>&quot;KJA&quot;</td><td>1.0</td><td>&quot;OVB&quot;</td><td>&quot;S7&quot;</td><td>&quot;S7&quot;</td><td>4.0</td><td>null</td><td>null</td><td>null</td><td>0.0</td><td>null</td><td>null</td><td>null</td><td>0.0</td><td>&quot;E70&quot;</td><td>&quot;OVB&quot;</td><td>&quot;OVB&quot;</td><td>1.0</td><td>&quot;KJA&quot;</td><td>&quot;S7&quot;</td><td>&quot;S7&quot;</td><td>9.0</td><td>&quot;E70&quot;</td><td>&quot;TLK&quot;</td><td>&quot;TLK&quot;</td><td>1.0</td><td>&hellip;</td><td>2240.0</td><td>81880.0</td><td>81880.0</td><td>1</td><td>595.0</td><td>655.0</td><td>250</td><td>245</td><td>9</td><td>17</td><td>19</td><td>8</td><td>0</td><td>0</td><td>1</td><td>4</td><td>1.0</td><td>1.0</td><td>4.0</td><td>26.0</td><td>1.0</td><td>0.0</td><td>1250.0</td><td>14</td><td>54.166667</td><td>0.832563</td><td>25</td><td>4.849562</td><td>0.951319</td><td>1.524909</td><td>0</td><td>0</td><td>0</td><td>69186.0</td><td>18905.2881</td><td>0.285837</td><td>4190.0</td></tr></tbody></table></div>"
      ]
     },
     "execution_count": 10,
     "metadata": {},
     "output_type": "execute_result"
    }
   ],
   "execution_count": 10
  },
  {
   "metadata": {
    "jupyter": {
     "is_executing": true
    },
    "ExecuteTime": {
     "start_time": "2025-08-11T23:44:17.553302Z"
    }
   },
   "cell_type": "code",
   "source": [
    "# build cluster model for flight features\n",
    "\n",
    "# Scale features\n",
    "flight_scaler = StandardScaler()\n",
    "scaled_features = flight_scaler.fit_transform(data)\n",
    "\n",
    "# Fit clustering\n",
    "n_flight_clusters = 10\n",
    "flight_clusterer = KMeans(n_clusters=n_flight_clusters, random_state=42)\n",
    "flight_clusters = flight_clusterer.fit_predict(scaled_features)\n"
   ],
   "id": "6030aac39e7af4ab",
   "outputs": [],
   "execution_count": null
  },
  {
   "metadata": {},
   "cell_type": "code",
   "outputs": [],
   "execution_count": null,
   "source": [
    "class FlightSelectionPredictor:\n",
    "    def __init__(self, n_flight_clusters=20, n_customer_clusters=10):\n",
    "        self.n_flight_clusters = n_flight_clusters\n",
    "        self.n_customer_clusters = n_customer_clusters\n",
    "\n",
    "        # Clustering models\n",
    "        self.flight_clusterer = KMeans(n_clusters=n_flight_clusters, random_state=42)\n",
    "        self.customer_clusterer = KMeans(n_clusters=n_customer_clusters, random_state=42)\n",
    "\n",
    "        # Scalers\n",
    "        self.flight_scaler = StandardScaler()\n",
    "        self.customer_scaler = StandardScaler()\n",
    "\n",
    "        # Prediction model\n",
    "        self.predictor = GradientBoostingClassifier(n_estimators=200, random_state=42)\n",
    "\n",
    "        # Label encoders for categorical variables\n",
    "        self.label_encoders = {}\n",
    "\n",
    "    def extract_flight_features(self, df):\n",
    "        \"\"\"Extract and engineer flight-specific features\"\"\"\n",
    "        features = pd.DataFrame(index=df.index)\n",
    "\n",
    "        # Basic flight info\n",
    "        features['total_price'] = df['totalPrice']\n",
    "        features['taxes'] = df['taxes']\n",
    "        features['passenger_count'] = df['pricingInfo_passengerCount']\n",
    "\n",
    "        # Duration features (convert to minutes)\n",
    "        features['leg0_duration_min'] = pd.to_timedelta(df['legs0_duration']).dt.total_seconds() / 60\n",
    "        features['leg1_duration_min'] = pd.to_timedelta(df['legs1_duration']).dt.total_seconds() / 60\n",
    "        features['total_duration'] = features['leg0_duration_min'] + features['leg1_duration_min']\n",
    "\n",
    "        # Time features\n",
    "        features['leg0_departure_hour'] = pd.to_datetime(df['legs0_departureAt']).dt.hour\n",
    "        features['leg0_arrival_hour'] = pd.to_datetime(df['legs0_arrivalAt']).dt.hour\n",
    "        features['leg1_departure_hour'] = pd.to_datetime(df['legs1_departureAt']).dt.hour\n",
    "        features['leg1_arrival_hour'] = pd.to_datetime(df['legs1_arrivalAt']).dt.hour\n",
    "\n",
    "        # Number of segments (connections)\n",
    "        features['leg0_segments'] = (~df['legs0_segments1_aircraft_code'].isna()).astype(int) + 1\n",
    "        features['leg1_segments'] = (~df['legs1_segments1_aircraft_code'].isna()).astype(int) + 1\n",
    "        features['total_segments'] = features['leg0_segments'] + features['leg1_segments']\n",
    "\n",
    "        # Carrier diversity (different airlines)\n",
    "        carriers = []\n",
    "        for i in range(4):  # up to 4 segments per leg\n",
    "            for leg in ['legs0', 'legs1']:\n",
    "                carrier_col = f'{leg}_segments{i}_marketingCarrier_code'\n",
    "                if carrier_col in df.columns:\n",
    "                    carriers.append(df[carrier_col])\n",
    "\n",
    "        if carriers:\n",
    "            carrier_df = pd.concat(carriers, axis=1)\n",
    "            features['unique_carriers'] = carrier_df.nunique(axis=1)\n",
    "        else:\n",
    "            features['unique_carriers'] = 1\n",
    "\n",
    "        # Seat availability (proxy for popularity/scarcity)\n",
    "        seat_cols = [col for col in df.columns if 'seatsAvailable' in col]\n",
    "        if seat_cols:\n",
    "            features['min_seats_available'] = df[seat_cols].min(axis=1)\n",
    "            features['total_seats_available'] = df[seat_cols].sum(axis=1)\n",
    "\n",
    "        # Baggage allowance\n",
    "        baggage_cols = [col for col in df.columns if 'baggageAllowance_quantity' in col]\n",
    "        if baggage_cols:\n",
    "            features['total_baggage'] = df[baggage_cols].sum(axis=1)\n",
    "\n",
    "        # Cabin class (assuming 1=economy, higher=premium)\n",
    "        cabin_cols = [col for col in df.columns if 'cabinClass' in col]\n",
    "        if cabin_cols:\n",
    "            features['max_cabin_class'] = df[cabin_cols].max(axis=1)\n",
    "            features['avg_cabin_class'] = df[cabin_cols].mean(axis=1)\n",
    "\n",
    "        # Pricing rules complexity\n",
    "        features['has_cancellation_fee'] = (df['miniRules0_monetaryAmount'] > 0).astype(int)\n",
    "        features['has_change_fee'] = (df['miniRules1_monetaryAmount'] > 0).astype(int)\n",
    "\n",
    "        # Fill missing values\n",
    "        features = features.fillna(0)\n",
    "\n",
    "        return features\n",
    "\n",
    "    def extract_customer_features(self, df):\n",
    "        \"\"\"Extract customer-specific features\"\"\"\n",
    "        features = pd.DataFrame(index=df.index)\n",
    "\n",
    "        # Basic customer info\n",
    "        features['by_self'] = df['bySelf'].astype(int)\n",
    "        features['frequent_flyer'] = (~df['frequentFlyer'].isna()).astype(int)\n",
    "        features['nationality'] = df['nationality']\n",
    "        features['is_access_3d'] = df['isAccess3D'].astype(int)\n",
    "        features['is_vip'] = df['isVip'].astype(int)\n",
    "        features['sex'] = df['sex'].astype(int)\n",
    "        features['company_id'] = df['companyID'].fillna(-1)\n",
    "        features['has_corporate_tariff'] = (~df['corporateTariffCode'].isna()).astype(int)\n",
    "\n",
    "        # Request timing\n",
    "        features['request_date'] = pd.to_datetime(df['requestDate'])\n",
    "        features['request_hour'] = features['request_date'].dt.hour\n",
    "        features['request_day_of_week'] = features['request_date'].dt.dayofweek\n",
    "        features['days_in_advance'] = (pd.to_datetime(df['legs0_departureAt']) - features['request_date']).dt.days\n",
    "\n",
    "        # Route complexity\n",
    "        features['search_route'] = df['searchRoute']\n",
    "\n",
    "        return features.drop('request_date', axis=1)\n",
    "\n",
    "    def fit_flight_clusters(self, flight_features):\n",
    "        \"\"\"Cluster flights based on their characteristics\"\"\"\n",
    "        # Scale features\n",
    "        scaled_features = self.flight_scaler.fit_transform(flight_features)\n",
    "\n",
    "        # Fit clustering\n",
    "        flight_clusters = self.flight_clusterer.fit_predict(scaled_features)\n",
    "\n",
    "        return flight_clusters\n",
    "\n",
    "    def fit_customer_clusters(self, customer_features):\n",
    "        \"\"\"Cluster customers based on their characteristics\"\"\"\n",
    "        # Encode categorical variables\n",
    "        encoded_features = customer_features.copy()\n",
    "\n",
    "        categorical_cols = ['search_route']\n",
    "        for col in categorical_cols:\n",
    "            if col in encoded_features.columns:\n",
    "                if col not in self.label_encoders:\n",
    "                    self.label_encoders[col] = LabelEncoder()\n",
    "                encoded_features[col] = self.label_encoders[col].fit_transform(encoded_features[col].astype(str))\n",
    "\n",
    "        # Scale features\n",
    "        scaled_features = self.customer_scaler.fit_transform(encoded_features)\n",
    "\n",
    "        # Fit clustering\n",
    "        customer_clusters = self.customer_clusterer.fit_predict(scaled_features)\n",
    "\n",
    "        return customer_clusters\n",
    "\n",
    "    def create_customer_flight_preferences(self, df, customer_clusters, flight_clusters):\n",
    "        \"\"\"Create features representing customer preferences within flight clusters\"\"\"\n",
    "        preference_features = pd.DataFrame(index=df.index)\n",
    "\n",
    "        # Group by customer cluster and calculate flight cluster preferences\n",
    "        for customer_cluster in range(self.n_customer_clusters):\n",
    "            customer_mask = customer_clusters == customer_cluster\n",
    "            customer_data = df[customer_mask]\n",
    "\n",
    "            # Calculate selection rates for each flight cluster within this customer cluster\n",
    "            for flight_cluster in range(self.n_flight_clusters):\n",
    "                flight_mask = flight_clusters[customer_mask] == flight_cluster\n",
    "\n",
    "                if flight_mask.sum() > 0:\n",
    "                    # This would need actual selection data - for now, using price as proxy\n",
    "                    selection_rate = 1.0 / (1.0 + customer_data[flight_mask]['totalPrice'].mean() / 10000)\n",
    "                else:\n",
    "                    selection_rate = 0.0\n",
    "\n",
    "                preference_features[f'customer_cluster_{customer_cluster}_flight_cluster_{flight_cluster}_pref'] = \\\n",
    "                    ((customer_clusters == customer_cluster) & (flight_clusters == flight_cluster)).astype(float) * selection_rate\n",
    "\n",
    "        return preference_features\n",
    "\n",
    "    def fit(self, df, selections=None):\n",
    "        \"\"\"Fit the complete model\"\"\"\n",
    "        print(\"Extracting flight features...\")\n",
    "        flight_features = self.extract_flight_features(df)\n",
    "\n",
    "        print(\"Extracting customer features...\")\n",
    "        customer_features = self.extract_customer_features(df)\n",
    "\n",
    "        print(\"Clustering flights...\")\n",
    "        flight_clusters = self.fit_flight_clusters(flight_features)\n",
    "\n",
    "        print(\"Clustering customers...\")\n",
    "        customer_clusters = self.fit_customer_clusters(customer_features)\n",
    "\n",
    "        print(\"Creating preference features...\")\n",
    "        preference_features = self.create_customer_flight_preferences(df, customer_clusters, flight_clusters)\n",
    "\n",
    "        # Combine all features\n",
    "        all_features = pd.concat([\n",
    "            flight_features,\n",
    "            customer_features,\n",
    "            preference_features,\n",
    "            pd.Series(flight_clusters, name='flight_cluster', index=df.index),\n",
    "            pd.Series(customer_clusters, name='customer_cluster', index=df.index)\n",
    "        ], axis=1)\n",
    "\n",
    "        # If we have selection data, train the predictor\n",
    "        if selections is not None:\n",
    "            print(\"Training prediction model...\")\n",
    "            # For now, create synthetic selection data based on price (lower price = higher selection probability)\n",
    "            # In practice, you'd use your actual selection data\n",
    "            y = (df['totalPrice'] < df['totalPrice'].median()).astype(int)\n",
    "\n",
    "            X_train, X_test, y_train, y_test = train_test_split(\n",
    "                all_features, y, test_size=0.2, random_state=42, stratify=y\n",
    "            )\n",
    "\n",
    "            self.predictor.fit(X_train, y_train)\n",
    "\n",
    "            # Evaluate\n",
    "            train_score = self.predictor.score(X_train, y_train)\n",
    "            test_score = self.predictor.score(X_test, y_test)\n",
    "\n",
    "            print(f\"Training accuracy: {train_score:.3f}\")\n",
    "            print(f\"Test accuracy: {test_score:.3f}\")\n",
    "\n",
    "            # Feature importance\n",
    "            feature_importance = pd.DataFrame({\n",
    "                'feature': all_features.columns,\n",
    "                'importance': self.predictor.feature_importances_\n",
    "            }).sort_values('importance', ascending=False)\n",
    "\n",
    "            print(\"\\nTop 10 most important features:\")\n",
    "            print(feature_importance.head(10))\n",
    "\n",
    "        self.is_fitted = True\n",
    "        return self\n",
    "\n",
    "    def predict_probabilities(self, df):\n",
    "        \"\"\"Predict selection probabilities for flights\"\"\"\n",
    "        if not hasattr(self, 'is_fitted'):\n",
    "            raise ValueError(\"Model must be fitted before making predictions\")\n",
    "\n",
    "        # Extract features using the same process as training\n",
    "        flight_features = self.extract_flight_features(df)\n",
    "        customer_features = self.extract_customer_features(df)\n",
    "\n",
    "        # Apply clustering\n",
    "        scaled_flight_features = self.flight_scaler.transform(flight_features)\n",
    "        flight_clusters = self.flight_clusterer.predict(scaled_flight_features)\n",
    "\n",
    "        # Encode categorical variables in customer features\n",
    "        encoded_customer_features = customer_features.copy()\n",
    "        for col, encoder in self.label_encoders.items():\n",
    "            if col in encoded_customer_features.columns:\n",
    "                encoded_customer_features[col] = encoder.transform(encoded_customer_features[col].astype(str))\n",
    "\n",
    "        scaled_customer_features = self.customer_scaler.transform(encoded_customer_features)\n",
    "        customer_clusters = self.customer_clusterer.predict(scaled_customer_features)\n",
    "\n",
    "        # Create preference features\n",
    "        preference_features = self.create_customer_flight_preferences(df, customer_clusters, flight_clusters)\n",
    "\n",
    "        # Combine features\n",
    "        all_features = pd.concat([\n",
    "            flight_features,\n",
    "            customer_features,\n",
    "            preference_features,\n",
    "            pd.Series(flight_clusters, name='flight_cluster', index=df.index),\n",
    "            pd.Series(customer_clusters, name='customer_cluster', index=df.index)\n",
    "        ], axis=1)\n",
    "\n",
    "        # Predict probabilities\n",
    "        probabilities = self.predictor.predict_proba(all_features)[:, 1]\n",
    "\n",
    "        return probabilities\n",
    "\n",
    "# Example usage\n",
    "def example_usage():\n",
    "    \"\"\"Example of how to use the FlightSelectionPredictor\"\"\"\n",
    "\n",
    "    # Load your data\n",
    "    # df = pd.read_csv('your_flight_data.csv')\n",
    "\n",
    "    # Initialize and fit the model\n",
    "    predictor = FlightSelectionPredictor(n_flight_clusters=15, n_customer_clusters=8)\n",
    "\n",
    "    # Fit the model (you'd pass actual selection data here)\n",
    "    # predictor.fit(df, selections=your_selection_data)\n",
    "\n",
    "    # Make predictions for new flight options\n",
    "    # probabilities = predictor.predict_probabilities(new_flight_options)\n",
    "\n",
    "    print(\"Model setup complete. Use predictor.fit() with your data to train the model.\")\n",
    "\n",
    "if __name__ == \"__main__\":\n",
    "    example_usage()"
   ],
   "id": "ab4f2ab059065a18"
  }
 ],
 "metadata": {
  "kernelspec": {
   "display_name": "Python 3",
   "language": "python",
   "name": "python3"
  },
  "language_info": {
   "codemirror_mode": {
    "name": "ipython",
    "version": 2
   },
   "file_extension": ".py",
   "mimetype": "text/x-python",
   "name": "python",
   "nbconvert_exporter": "python",
   "pygments_lexer": "ipython2",
   "version": "2.7.6"
  }
 },
 "nbformat": 4,
 "nbformat_minor": 5
}
