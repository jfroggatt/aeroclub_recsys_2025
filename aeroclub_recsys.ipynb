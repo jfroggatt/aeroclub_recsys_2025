{
 "cells": [
  {
   "metadata": {},
   "cell_type": "markdown",
   "source": [
    "# CSCA-5632: Project Final\n",
    "## Airline Flight Search Ranker\n",
    "### Project Description\n",
    "The focus of this project is to build machine learning models that can rank and predict which flight options a traveler will choose when presented with the flight search results. This is a group-wise ranking problem in that the target of the model is to rank the search results within each unique search session for each traveler.\n",
    "\n",
    "The dataset is provided through a Kaggle competition, hosted by the Aeroclub IT ([FlightRank 2025: Aeroclub RecSysCup](#acknowledgements)). The data is provided as a parquet file containing approximately 18 million rows of flight search results for ~33 thousand travelers over a seven month period. Given the size of the dataset, the project will be broken into multiple steps, each with a specific focus.\n",
    "\n",
    "The goal is to build a machine learning model, based on the historical data, that can rank the results of a flight search and predict based on the ranking of the search results. The model will be evaluated on a holdout set of data, and the final model will be used to rank the flight search results for the test set.\n",
    "\n",
    "The approach for this project is to perform the final predictions by breaking the problem into two parts:\n",
    "\n",
    "1. **Traveler Clustering**: For the first part, we will use unsupervised learning to cluster the travelers into groups based on profile, search, and behavioral features.\n",
    "2. **Flight Ranker**: For the second part, we will use a ranking model to predict the rank of the flight search results for each traveler search session, with a separate model trained for each traveler segment.\n",
    "\n",
    "The results will be evaluated using the HitRate@3 metric to compare the selected flight to the top 3 ranking search results for each search session.\n",
    "\n",
    "$HitRate@3 = \\frac{1}{|Q|} \\sum_{i=1}^{|Q|} 1(rank_i \\leq 3)$\n",
    "\n",
    "Where:\n",
    "* $|Q|$ is the number of searches within a search session\n",
    "* $rank_i$ is the rank of the $i^{th}$ search\n",
    "* $1(rank_i \\leq 3)$ is 1 if the correct flight is in the top-3, 0 otherwise\n",
    "\n",
    "### Project Setup\n",
    "Instructions for setting up the project can be found in [**README.md**](./README.md)\n",
    "\n",
    "\n",
    "### Project Summary\n",
    "A summary of the project and steps can be found in [**README.md**](./README.md)"
   ],
   "id": "8a77807f92f26ee"
  },
  {
   "metadata": {},
   "cell_type": "markdown",
   "source": [
    "## Table of Contents\n",
    "\n",
    "- [Imports](#imports)\n",
    "- [Data Source](#data-source)\n",
    "- [Exploratory Data Analysis](#exploratory-data-analysis)\n",
    "- [Traveler Segmentation](#traveler-segmentation)\n",
    "    - [Feature Engineering](#feature-engineering)\n",
    "    - [Models](#models)\n",
    "    - [Model Selection](#model-selection)\n",
    "- [Flight Ranking](#flight-ranking)\n",
    "    - [Feature Engineering](#feature-engineering-1)\n",
    "    - [Models](#models-1)\n",
    "    - [Model Selection](#model-selection-1)\n",
    "- [Final Results](#final-results)\n",
    "- [Next Steps](#next-steps)\n",
    "- [License](#license)\n",
    "- [Acknowledgements](#acknowledgements)"
   ],
   "id": "ff235a3292280b7c"
  },
  {
   "metadata": {},
   "cell_type": "markdown",
   "source": [
    "### Imports\n",
    "Import the libraries and functions needed for the project"
   ],
   "id": "9743265660c41e16"
  },
  {
   "metadata": {
    "ExecuteTime": {
     "end_time": "2025-09-23T00:10:02.347929Z",
     "start_time": "2025-09-23T00:10:01.331747Z"
    }
   },
   "cell_type": "code",
   "source": [
    "import gc\n",
    "import joblib\n",
    "import numpy as np\n",
    "import polars as pl\n",
    "import polars.selectors as cs\n",
    "\n",
    "import matplotlib.pyplot as plt\n",
    "import seaborn as sns\n",
    "\n",
    "# project functions\n",
    "from src.utils import stratified_flight_count_split\n",
    "\n",
    "%load_ext autoreload\n",
    "%autoreload 2"
   ],
   "id": "fbc121e30a2defb3",
   "outputs": [],
   "execution_count": 1
  },
  {
   "metadata": {},
   "cell_type": "markdown",
   "source": [
    "### Dataset Source\n",
    "The dataset used for this project was provided by the [FlightRank 2025: Aeroclub RecSysCup](#acknowledgements) competition on [Kaggle](https://www.kaggle.com). The dataset files are too large to maintain within the [GitHut](https://github.com/jfroggatt/aeroclub_recsys_2025) project respository, so the competition project archive is downloaded to the local working directory, '/kaggle/input/aeroclub-recsys-2025/', and the `train.parquet` file is extracted. No other files are needed from the competition project archive."
   ],
   "id": "f14343b2850e502"
  },
  {
   "metadata": {
    "ExecuteTime": {
     "end_time": "2025-09-23T00:10:09.302729Z",
     "start_time": "2025-09-23T00:10:05.154740Z"
    }
   },
   "cell_type": "code",
   "source": [
    "# load train data file\n",
    "train_df = pl.read_parquet('/kaggle/input/aeroclub-recsys-2025/train.parquet')"
   ],
   "id": "20204af1762921bf",
   "outputs": [],
   "execution_count": 2
  },
  {
   "metadata": {},
   "cell_type": "markdown",
   "source": [
    "### Exploratory Data Analysis\n",
    "\n",
    "In this section, we will explore the flight search data set from the `train.parquet` project file.\n",
    "\n",
    "First, let's look at the shape, examine the first 100 rows of the data."
   ],
   "id": "87704a3ce2eaf081"
  },
  {
   "metadata": {
    "ExecuteTime": {
     "end_time": "2025-09-23T00:10:13.193479Z",
     "start_time": "2025-09-23T00:10:13.074900Z"
    }
   },
   "cell_type": "code",
   "source": [
    "print(f'train data shape: {train_df.shape}')\n",
    "train_df.head()"
   ],
   "id": "257969c53a7f70b9",
   "outputs": [
    {
     "name": "stdout",
     "output_type": "stream",
     "text": [
      "train data shape: (18145372, 127)\n"
     ]
    },
    {
     "data": {
      "text/plain": [
       "shape: (5, 127)\n",
       "┌─────┬────────┬───────────┬─────────────────┬───┬────────┬────────────┬──────────┬────────────────┐\n",
       "│ Id  ┆ bySelf ┆ companyID ┆ corporateTariff ┆ … ┆ taxes  ┆ totalPrice ┆ selected ┆ __index_level_ │\n",
       "│ --- ┆ ---    ┆ ---       ┆ Code            ┆   ┆ ---    ┆ ---        ┆ ---      ┆ 0__            │\n",
       "│ i64 ┆ bool   ┆ i64       ┆ ---             ┆   ┆ f64    ┆ f64        ┆ i64      ┆ ---            │\n",
       "│     ┆        ┆           ┆ i64             ┆   ┆        ┆            ┆          ┆ i64            │\n",
       "╞═════╪════════╪═══════════╪═════════════════╪═══╪════════╪════════════╪══════════╪════════════════╡\n",
       "│ 0   ┆ true   ┆ 57323     ┆ null            ┆ … ┆ 370.0  ┆ 16884.0    ┆ 1        ┆ 0              │\n",
       "│ 1   ┆ true   ┆ 57323     ┆ 123             ┆ … ┆ 2240.0 ┆ 51125.0    ┆ 0        ┆ 1              │\n",
       "│ 2   ┆ true   ┆ 57323     ┆ null            ┆ … ┆ 2240.0 ┆ 53695.0    ┆ 0        ┆ 2              │\n",
       "│ 3   ┆ true   ┆ 57323     ┆ 123             ┆ … ┆ 2240.0 ┆ 81880.0    ┆ 0        ┆ 3              │\n",
       "│ 4   ┆ true   ┆ 57323     ┆ null            ┆ … ┆ 2240.0 ┆ 86070.0    ┆ 0        ┆ 4              │\n",
       "└─────┴────────┴───────────┴─────────────────┴───┴────────┴────────────┴──────────┴────────────────┘"
      ],
      "text/html": [
       "<div><style>\n",
       ".dataframe > thead > tr,\n",
       ".dataframe > tbody > tr {\n",
       "  text-align: right;\n",
       "  white-space: pre-wrap;\n",
       "}\n",
       "</style>\n",
       "<small>shape: (5, 127)</small><table border=\"1\" class=\"dataframe\"><thead><tr><th>Id</th><th>bySelf</th><th>companyID</th><th>corporateTariffCode</th><th>frequentFlyer</th><th>nationality</th><th>isAccess3D</th><th>isVip</th><th>legs0_arrivalAt</th><th>legs0_departureAt</th><th>legs0_duration</th><th>legs0_segments0_aircraft_code</th><th>legs0_segments0_arrivalTo_airport_city_iata</th><th>legs0_segments0_arrivalTo_airport_iata</th><th>legs0_segments0_baggageAllowance_quantity</th><th>legs0_segments0_baggageAllowance_weightMeasurementType</th><th>legs0_segments0_cabinClass</th><th>legs0_segments0_departureFrom_airport_iata</th><th>legs0_segments0_duration</th><th>legs0_segments0_flightNumber</th><th>legs0_segments0_marketingCarrier_code</th><th>legs0_segments0_operatingCarrier_code</th><th>legs0_segments0_seatsAvailable</th><th>legs0_segments1_aircraft_code</th><th>legs0_segments1_arrivalTo_airport_city_iata</th><th>legs0_segments1_arrivalTo_airport_iata</th><th>legs0_segments1_baggageAllowance_quantity</th><th>legs0_segments1_baggageAllowance_weightMeasurementType</th><th>legs0_segments1_cabinClass</th><th>legs0_segments1_departureFrom_airport_iata</th><th>legs0_segments1_duration</th><th>legs0_segments1_flightNumber</th><th>legs0_segments1_marketingCarrier_code</th><th>legs0_segments1_operatingCarrier_code</th><th>legs0_segments1_seatsAvailable</th><th>legs0_segments2_aircraft_code</th><th>legs0_segments2_arrivalTo_airport_city_iata</th><th>&hellip;</th><th>legs1_segments2_baggageAllowance_weightMeasurementType</th><th>legs1_segments2_cabinClass</th><th>legs1_segments2_departureFrom_airport_iata</th><th>legs1_segments2_duration</th><th>legs1_segments2_flightNumber</th><th>legs1_segments2_marketingCarrier_code</th><th>legs1_segments2_operatingCarrier_code</th><th>legs1_segments2_seatsAvailable</th><th>legs1_segments3_aircraft_code</th><th>legs1_segments3_arrivalTo_airport_city_iata</th><th>legs1_segments3_arrivalTo_airport_iata</th><th>legs1_segments3_baggageAllowance_quantity</th><th>legs1_segments3_baggageAllowance_weightMeasurementType</th><th>legs1_segments3_cabinClass</th><th>legs1_segments3_departureFrom_airport_iata</th><th>legs1_segments3_duration</th><th>legs1_segments3_flightNumber</th><th>legs1_segments3_marketingCarrier_code</th><th>legs1_segments3_operatingCarrier_code</th><th>legs1_segments3_seatsAvailable</th><th>miniRules0_monetaryAmount</th><th>miniRules0_percentage</th><th>miniRules0_statusInfos</th><th>miniRules1_monetaryAmount</th><th>miniRules1_percentage</th><th>miniRules1_statusInfos</th><th>pricingInfo_isAccessTP</th><th>pricingInfo_passengerCount</th><th>profileId</th><th>ranker_id</th><th>requestDate</th><th>searchRoute</th><th>sex</th><th>taxes</th><th>totalPrice</th><th>selected</th><th>__index_level_0__</th></tr><tr><td>i64</td><td>bool</td><td>i64</td><td>i64</td><td>str</td><td>i64</td><td>bool</td><td>bool</td><td>str</td><td>str</td><td>str</td><td>str</td><td>str</td><td>str</td><td>f64</td><td>f64</td><td>f64</td><td>str</td><td>str</td><td>str</td><td>str</td><td>str</td><td>f64</td><td>str</td><td>str</td><td>str</td><td>f64</td><td>f64</td><td>f64</td><td>str</td><td>str</td><td>str</td><td>str</td><td>str</td><td>f64</td><td>str</td><td>str</td><td>&hellip;</td><td>f64</td><td>f64</td><td>str</td><td>str</td><td>str</td><td>str</td><td>str</td><td>f64</td><td>str</td><td>str</td><td>str</td><td>f64</td><td>f64</td><td>f64</td><td>str</td><td>str</td><td>str</td><td>str</td><td>str</td><td>f64</td><td>f64</td><td>f64</td><td>f64</td><td>f64</td><td>f64</td><td>f64</td><td>f64</td><td>i64</td><td>i64</td><td>str</td><td>datetime[ns]</td><td>str</td><td>bool</td><td>f64</td><td>f64</td><td>i64</td><td>i64</td></tr></thead><tbody><tr><td>0</td><td>true</td><td>57323</td><td>null</td><td>&quot;S7/SU/UT&quot;</td><td>36</td><td>false</td><td>false</td><td>&quot;2024-06-15T16:20:00&quot;</td><td>&quot;2024-06-15T15:40:00&quot;</td><td>&quot;02:40:00&quot;</td><td>&quot;YK2&quot;</td><td>&quot;KJA&quot;</td><td>&quot;KJA&quot;</td><td>1.0</td><td>0.0</td><td>1.0</td><td>&quot;TLK&quot;</td><td>&quot;02:40:00&quot;</td><td>&quot;216&quot;</td><td>&quot;KV&quot;</td><td>&quot;KV&quot;</td><td>9.0</td><td>null</td><td>null</td><td>null</td><td>null</td><td>null</td><td>null</td><td>null</td><td>null</td><td>null</td><td>null</td><td>null</td><td>null</td><td>null</td><td>null</td><td>&hellip;</td><td>null</td><td>null</td><td>null</td><td>null</td><td>null</td><td>null</td><td>null</td><td>null</td><td>null</td><td>null</td><td>null</td><td>null</td><td>null</td><td>null</td><td>null</td><td>null</td><td>null</td><td>null</td><td>null</td><td>null</td><td>null</td><td>null</td><td>null</td><td>null</td><td>null</td><td>null</td><td>1.0</td><td>1</td><td>2087645</td><td>&quot;98ce0dabf6964640b63079fbafd42c…</td><td>2024-05-17 03:03:08</td><td>&quot;TLKKJA/KJATLK&quot;</td><td>true</td><td>370.0</td><td>16884.0</td><td>1</td><td>0</td></tr><tr><td>1</td><td>true</td><td>57323</td><td>123</td><td>&quot;S7/SU/UT&quot;</td><td>36</td><td>true</td><td>false</td><td>&quot;2024-06-15T14:50:00&quot;</td><td>&quot;2024-06-15T09:25:00&quot;</td><td>&quot;07:25:00&quot;</td><td>&quot;E70&quot;</td><td>&quot;OVB&quot;</td><td>&quot;OVB&quot;</td><td>1.0</td><td>0.0</td><td>1.0</td><td>&quot;TLK&quot;</td><td>&quot;02:50:00&quot;</td><td>&quot;5358&quot;</td><td>&quot;S7&quot;</td><td>&quot;S7&quot;</td><td>4.0</td><td>&quot;E70&quot;</td><td>&quot;KJA&quot;</td><td>&quot;KJA&quot;</td><td>1.0</td><td>0.0</td><td>1.0</td><td>&quot;OVB&quot;</td><td>&quot;01:20:00&quot;</td><td>&quot;5311&quot;</td><td>&quot;S7&quot;</td><td>&quot;S7&quot;</td><td>4.0</td><td>null</td><td>null</td><td>&hellip;</td><td>null</td><td>null</td><td>null</td><td>null</td><td>null</td><td>null</td><td>null</td><td>null</td><td>null</td><td>null</td><td>null</td><td>null</td><td>null</td><td>null</td><td>null</td><td>null</td><td>null</td><td>null</td><td>null</td><td>null</td><td>2300.0</td><td>null</td><td>1.0</td><td>3500.0</td><td>null</td><td>1.0</td><td>1.0</td><td>1</td><td>2087645</td><td>&quot;98ce0dabf6964640b63079fbafd42c…</td><td>2024-05-17 03:03:08</td><td>&quot;TLKKJA/KJATLK&quot;</td><td>true</td><td>2240.0</td><td>51125.0</td><td>0</td><td>1</td></tr><tr><td>2</td><td>true</td><td>57323</td><td>null</td><td>&quot;S7/SU/UT&quot;</td><td>36</td><td>false</td><td>false</td><td>&quot;2024-06-15T14:50:00&quot;</td><td>&quot;2024-06-15T09:25:00&quot;</td><td>&quot;07:25:00&quot;</td><td>&quot;E70&quot;</td><td>&quot;OVB&quot;</td><td>&quot;OVB&quot;</td><td>1.0</td><td>0.0</td><td>1.0</td><td>&quot;TLK&quot;</td><td>&quot;02:50:00&quot;</td><td>&quot;5358&quot;</td><td>&quot;S7&quot;</td><td>&quot;S7&quot;</td><td>4.0</td><td>&quot;E70&quot;</td><td>&quot;KJA&quot;</td><td>&quot;KJA&quot;</td><td>1.0</td><td>0.0</td><td>1.0</td><td>&quot;OVB&quot;</td><td>&quot;01:20:00&quot;</td><td>&quot;5311&quot;</td><td>&quot;S7&quot;</td><td>&quot;S7&quot;</td><td>4.0</td><td>null</td><td>null</td><td>&hellip;</td><td>null</td><td>null</td><td>null</td><td>null</td><td>null</td><td>null</td><td>null</td><td>null</td><td>null</td><td>null</td><td>null</td><td>null</td><td>null</td><td>null</td><td>null</td><td>null</td><td>null</td><td>null</td><td>null</td><td>null</td><td>2300.0</td><td>null</td><td>1.0</td><td>3500.0</td><td>null</td><td>1.0</td><td>1.0</td><td>1</td><td>2087645</td><td>&quot;98ce0dabf6964640b63079fbafd42c…</td><td>2024-05-17 03:03:08</td><td>&quot;TLKKJA/KJATLK&quot;</td><td>true</td><td>2240.0</td><td>53695.0</td><td>0</td><td>2</td></tr><tr><td>3</td><td>true</td><td>57323</td><td>123</td><td>&quot;S7/SU/UT&quot;</td><td>36</td><td>true</td><td>false</td><td>&quot;2024-06-15T14:50:00&quot;</td><td>&quot;2024-06-15T09:25:00&quot;</td><td>&quot;07:25:00&quot;</td><td>&quot;E70&quot;</td><td>&quot;OVB&quot;</td><td>&quot;OVB&quot;</td><td>1.0</td><td>0.0</td><td>1.0</td><td>&quot;TLK&quot;</td><td>&quot;02:50:00&quot;</td><td>&quot;5358&quot;</td><td>&quot;S7&quot;</td><td>&quot;S7&quot;</td><td>4.0</td><td>&quot;E70&quot;</td><td>&quot;KJA&quot;</td><td>&quot;KJA&quot;</td><td>1.0</td><td>0.0</td><td>1.0</td><td>&quot;OVB&quot;</td><td>&quot;01:20:00&quot;</td><td>&quot;5311&quot;</td><td>&quot;S7&quot;</td><td>&quot;S7&quot;</td><td>4.0</td><td>null</td><td>null</td><td>&hellip;</td><td>null</td><td>null</td><td>null</td><td>null</td><td>null</td><td>null</td><td>null</td><td>null</td><td>null</td><td>null</td><td>null</td><td>null</td><td>null</td><td>null</td><td>null</td><td>null</td><td>null</td><td>null</td><td>null</td><td>null</td><td>0.0</td><td>null</td><td>1.0</td><td>0.0</td><td>null</td><td>1.0</td><td>1.0</td><td>1</td><td>2087645</td><td>&quot;98ce0dabf6964640b63079fbafd42c…</td><td>2024-05-17 03:03:08</td><td>&quot;TLKKJA/KJATLK&quot;</td><td>true</td><td>2240.0</td><td>81880.0</td><td>0</td><td>3</td></tr><tr><td>4</td><td>true</td><td>57323</td><td>null</td><td>&quot;S7/SU/UT&quot;</td><td>36</td><td>false</td><td>false</td><td>&quot;2024-06-15T14:50:00&quot;</td><td>&quot;2024-06-15T09:25:00&quot;</td><td>&quot;07:25:00&quot;</td><td>&quot;E70&quot;</td><td>&quot;OVB&quot;</td><td>&quot;OVB&quot;</td><td>1.0</td><td>0.0</td><td>1.0</td><td>&quot;TLK&quot;</td><td>&quot;02:50:00&quot;</td><td>&quot;5358&quot;</td><td>&quot;S7&quot;</td><td>&quot;S7&quot;</td><td>4.0</td><td>&quot;E70&quot;</td><td>&quot;KJA&quot;</td><td>&quot;KJA&quot;</td><td>1.0</td><td>0.0</td><td>1.0</td><td>&quot;OVB&quot;</td><td>&quot;01:20:00&quot;</td><td>&quot;5311&quot;</td><td>&quot;S7&quot;</td><td>&quot;S7&quot;</td><td>4.0</td><td>null</td><td>null</td><td>&hellip;</td><td>null</td><td>null</td><td>null</td><td>null</td><td>null</td><td>null</td><td>null</td><td>null</td><td>null</td><td>null</td><td>null</td><td>null</td><td>null</td><td>null</td><td>null</td><td>null</td><td>null</td><td>null</td><td>null</td><td>null</td><td>0.0</td><td>null</td><td>1.0</td><td>0.0</td><td>null</td><td>1.0</td><td>1.0</td><td>1</td><td>2087645</td><td>&quot;98ce0dabf6964640b63079fbafd42c…</td><td>2024-05-17 03:03:08</td><td>&quot;TLKKJA/KJATLK&quot;</td><td>true</td><td>2240.0</td><td>86070.0</td><td>0</td><td>4</td></tr></tbody></table></div>"
      ]
     },
     "execution_count": 3,
     "metadata": {},
     "output_type": "execute_result"
    }
   ],
   "execution_count": 3
  },
  {
   "metadata": {},
   "cell_type": "markdown",
   "source": "Let's look at the number of flight search responses, unique searches, and travelers",
   "id": "872befd9af98d323"
  },
  {
   "metadata": {
    "ExecuteTime": {
     "end_time": "2025-09-23T00:10:24.627703Z",
     "start_time": "2025-09-23T00:10:24.042720Z"
    }
   },
   "cell_type": "code",
   "source": [
    "print(f'Number of flights: {len(train_df)}')\n",
    "print(f'Number of unique searches: {train_df[\"ranker_id\"].unique().count()}')\n",
    "print(f'Number of unique travelers: {train_df[\"profileId\"].unique().count()}')"
   ],
   "id": "3f9badd281383239",
   "outputs": [
    {
     "name": "stdout",
     "output_type": "stream",
     "text": [
      "Number of flights: 18145372\n",
      "Number of unique searches: 105539\n",
      "Number of unique travelers: 32922\n"
     ]
    }
   ],
   "execution_count": 4
  },
  {
   "metadata": {},
   "cell_type": "markdown",
   "source": "Let's look at the distribution of the count of flight search results by unique search session",
   "id": "b4aa046286011a77"
  },
  {
   "metadata": {
    "ExecuteTime": {
     "end_time": "2025-09-23T00:10:43.192402Z",
     "start_time": "2025-09-23T00:10:29.572842Z"
    }
   },
   "cell_type": "code",
   "source": [
    "# Distribution of the flight counts per search\n",
    "flight_counts = train_df.group_by('ranker_id').len().sort(by='len', descending=True)\n",
    "\n",
    "flight_counts.head(100)"
   ],
   "id": "a256d5f4558d1365",
   "outputs": [
    {
     "data": {
      "text/plain": [
       "shape: (100, 2)\n",
       "┌─────────────────────────────────┬──────┐\n",
       "│ ranker_id                       ┆ len  │\n",
       "│ ---                             ┆ ---  │\n",
       "│ str                             ┆ u32  │\n",
       "╞═════════════════════════════════╪══════╡\n",
       "│ f9833fe7d58441c8a8feed74fec32a… ┆ 8236 │\n",
       "│ 796854b386874b40b4a8843f70a2b0… ┆ 7841 │\n",
       "│ 4d0bee7eede2454187405709ea1877… ┆ 7793 │\n",
       "│ db85d3d24c164a798b518be8fbce1f… ┆ 7678 │\n",
       "│ 92e54e4a04f94eec9c30a59cb729ed… ┆ 7676 │\n",
       "│ …                               ┆ …    │\n",
       "│ cc4bb1a67186494d8e9e896650ca09… ┆ 5900 │\n",
       "│ 8c9acffad7244c8d8538ceaf1ac8d9… ┆ 5896 │\n",
       "│ 60b3b8945eec402bb56a8ebdbd1b1e… ┆ 5895 │\n",
       "│ deaf507ac4ac484ab6e841cbee3432… ┆ 5895 │\n",
       "│ dbeed958e02e493497bc8f63f1452d… ┆ 5894 │\n",
       "└─────────────────────────────────┴──────┘"
      ],
      "text/html": [
       "<div><style>\n",
       ".dataframe > thead > tr,\n",
       ".dataframe > tbody > tr {\n",
       "  text-align: right;\n",
       "  white-space: pre-wrap;\n",
       "}\n",
       "</style>\n",
       "<small>shape: (100, 2)</small><table border=\"1\" class=\"dataframe\"><thead><tr><th>ranker_id</th><th>len</th></tr><tr><td>str</td><td>u32</td></tr></thead><tbody><tr><td>&quot;f9833fe7d58441c8a8feed74fec32a…</td><td>8236</td></tr><tr><td>&quot;796854b386874b40b4a8843f70a2b0…</td><td>7841</td></tr><tr><td>&quot;4d0bee7eede2454187405709ea1877…</td><td>7793</td></tr><tr><td>&quot;db85d3d24c164a798b518be8fbce1f…</td><td>7678</td></tr><tr><td>&quot;92e54e4a04f94eec9c30a59cb729ed…</td><td>7676</td></tr><tr><td>&hellip;</td><td>&hellip;</td></tr><tr><td>&quot;cc4bb1a67186494d8e9e896650ca09…</td><td>5900</td></tr><tr><td>&quot;8c9acffad7244c8d8538ceaf1ac8d9…</td><td>5896</td></tr><tr><td>&quot;60b3b8945eec402bb56a8ebdbd1b1e…</td><td>5895</td></tr><tr><td>&quot;deaf507ac4ac484ab6e841cbee3432…</td><td>5895</td></tr><tr><td>&quot;dbeed958e02e493497bc8f63f1452d…</td><td>5894</td></tr></tbody></table></div>"
      ]
     },
     "execution_count": 5,
     "metadata": {},
     "output_type": "execute_result"
    }
   ],
   "execution_count": 5
  },
  {
   "metadata": {
    "ExecuteTime": {
     "end_time": "2025-09-23T00:10:48.991213Z",
     "start_time": "2025-09-23T00:10:48.858418Z"
    }
   },
   "cell_type": "code",
   "source": "flight_counts.tail(100)",
   "id": "1974542ac4a9aba",
   "outputs": [
    {
     "data": {
      "text/plain": [
       "shape: (100, 2)\n",
       "┌─────────────────────────────────┬─────┐\n",
       "│ ranker_id                       ┆ len │\n",
       "│ ---                             ┆ --- │\n",
       "│ str                             ┆ u32 │\n",
       "╞═════════════════════════════════╪═════╡\n",
       "│ 96e27c0d59fa46a2960f1d0863f49a… ┆ 1   │\n",
       "│ be8bfe2b14db4fc9b217114e2d768a… ┆ 1   │\n",
       "│ 52582309a1b44cfa897e4cc961026f… ┆ 1   │\n",
       "│ 8cb8e6d902644ee6a12aa91af1e3ca… ┆ 1   │\n",
       "│ 145b35caecef4845ad19a8a7669586… ┆ 1   │\n",
       "│ …                               ┆ …   │\n",
       "│ 118a0ac83a904ae9b5ed7b28631267… ┆ 1   │\n",
       "│ 5bfad885a3224b9581833d5b1c13a8… ┆ 1   │\n",
       "│ 3c2414750ce64fb7b8376162800885… ┆ 1   │\n",
       "│ 22b6e6b4ffd249a2a0562d377bd5c7… ┆ 1   │\n",
       "│ cd0645c9d7864b5b86ff7c92d88a8a… ┆ 1   │\n",
       "└─────────────────────────────────┴─────┘"
      ],
      "text/html": [
       "<div><style>\n",
       ".dataframe > thead > tr,\n",
       ".dataframe > tbody > tr {\n",
       "  text-align: right;\n",
       "  white-space: pre-wrap;\n",
       "}\n",
       "</style>\n",
       "<small>shape: (100, 2)</small><table border=\"1\" class=\"dataframe\"><thead><tr><th>ranker_id</th><th>len</th></tr><tr><td>str</td><td>u32</td></tr></thead><tbody><tr><td>&quot;96e27c0d59fa46a2960f1d0863f49a…</td><td>1</td></tr><tr><td>&quot;be8bfe2b14db4fc9b217114e2d768a…</td><td>1</td></tr><tr><td>&quot;52582309a1b44cfa897e4cc961026f…</td><td>1</td></tr><tr><td>&quot;8cb8e6d902644ee6a12aa91af1e3ca…</td><td>1</td></tr><tr><td>&quot;145b35caecef4845ad19a8a7669586…</td><td>1</td></tr><tr><td>&hellip;</td><td>&hellip;</td></tr><tr><td>&quot;118a0ac83a904ae9b5ed7b28631267…</td><td>1</td></tr><tr><td>&quot;5bfad885a3224b9581833d5b1c13a8…</td><td>1</td></tr><tr><td>&quot;3c2414750ce64fb7b8376162800885…</td><td>1</td></tr><tr><td>&quot;22b6e6b4ffd249a2a0562d377bd5c7…</td><td>1</td></tr><tr><td>&quot;cd0645c9d7864b5b86ff7c92d88a8a…</td><td>1</td></tr></tbody></table></div>"
      ]
     },
     "execution_count": 6,
     "metadata": {},
     "output_type": "execute_result"
    }
   ],
   "execution_count": 6
  },
  {
   "metadata": {
    "ExecuteTime": {
     "end_time": "2025-09-23T00:10:51.842825Z",
     "start_time": "2025-09-23T00:10:51.695744Z"
    }
   },
   "cell_type": "code",
   "source": [
    "# Check statistics of the flight counts per search\n",
    "flight_counts['len'].describe()"
   ],
   "id": "35df95046a42dc87",
   "outputs": [
    {
     "data": {
      "text/plain": [
       "shape: (9, 2)\n",
       "┌────────────┬────────────┐\n",
       "│ statistic  ┆ value      │\n",
       "│ ---        ┆ ---        │\n",
       "│ str        ┆ f64        │\n",
       "╞════════════╪════════════╡\n",
       "│ count      ┆ 105539.0   │\n",
       "│ null_count ┆ 0.0        │\n",
       "│ mean       ┆ 171.93049  │\n",
       "│ std        ┆ 445.940118 │\n",
       "│ min        ┆ 1.0        │\n",
       "│ 25%        ┆ 19.0       │\n",
       "│ 50%        ┆ 50.0       │\n",
       "│ 75%        ┆ 154.0      │\n",
       "│ max        ┆ 8236.0     │\n",
       "└────────────┴────────────┘"
      ],
      "text/html": [
       "<div><style>\n",
       ".dataframe > thead > tr,\n",
       ".dataframe > tbody > tr {\n",
       "  text-align: right;\n",
       "  white-space: pre-wrap;\n",
       "}\n",
       "</style>\n",
       "<small>shape: (9, 2)</small><table border=\"1\" class=\"dataframe\"><thead><tr><th>statistic</th><th>value</th></tr><tr><td>str</td><td>f64</td></tr></thead><tbody><tr><td>&quot;count&quot;</td><td>105539.0</td></tr><tr><td>&quot;null_count&quot;</td><td>0.0</td></tr><tr><td>&quot;mean&quot;</td><td>171.93049</td></tr><tr><td>&quot;std&quot;</td><td>445.940118</td></tr><tr><td>&quot;min&quot;</td><td>1.0</td></tr><tr><td>&quot;25%&quot;</td><td>19.0</td></tr><tr><td>&quot;50%&quot;</td><td>50.0</td></tr><tr><td>&quot;75%&quot;</td><td>154.0</td></tr><tr><td>&quot;max&quot;</td><td>8236.0</td></tr></tbody></table></div>"
      ]
     },
     "execution_count": 7,
     "metadata": {},
     "output_type": "execute_result"
    }
   ],
   "execution_count": 7
  },
  {
   "metadata": {
    "ExecuteTime": {
     "end_time": "2025-09-23T00:10:55.145190Z",
     "start_time": "2025-09-23T00:10:54.693393Z"
    }
   },
   "cell_type": "code",
   "source": [
    "# Plot the distribution of the flight counts per search\n",
    "plt.figure(figsize=(10, 6))\n",
    "sns.boxplot(flight_counts['len'])\n",
    "plt.title('Flight Counts per Search')\n",
    "plt.ylabel('Number of Flights')\n",
    "plt.show()"
   ],
   "id": "98c50c6b0574790a",
   "outputs": [
    {
     "data": {
      "text/plain": [
       "<Figure size 1000x600 with 1 Axes>"
      ],
      "image/png": "[encoded data removed]"
     },
     "metadata": {},
     "output_type": "display_data",
     "jetTransient": {
      "display_id": null
     }
    }
   ],
   "execution_count": 8
  },
  {
   "metadata": {
    "ExecuteTime": {
     "end_time": "2025-09-23T00:10:56.900964Z",
     "start_time": "2025-09-23T00:10:56.463154Z"
    }
   },
   "cell_type": "code",
   "source": [
    "plt.figure(figsize=(10, 6))\n",
    "sns.histplot(flight_counts['len'], bins=50, edgecolor='black', alpha=0.7)\n",
    "plt.title('Distribution of Flight Counts per Search')\n",
    "plt.xlabel('Number of Flights')\n",
    "plt.ylabel('Number of Searches')\n",
    "plt.show()"
   ],
   "id": "1036f211a15209d",
   "outputs": [
    {
     "data": {
      "text/plain": [
       "<Figure size 1000x600 with 1 Axes>"
      ],
      "image/png": "[encoded data removed]"
     },
     "metadata": {},
     "output_type": "display_data",
     "jetTransient": {
      "display_id": null
     }
    }
   ],
   "execution_count": 9
  },
  {
   "metadata": {},
   "cell_type": "markdown",
   "source": "While the number of flight search results per session is generally less than 150 (3rd Quartile), there are significantly large outliers that we will likely need to address.",
   "id": "7a230d243dfec15b"
  },
  {
   "metadata": {},
   "cell_type": "markdown",
   "source": "Let's look at the distribution of searches per unique traveler",
   "id": "bb226ae717dfbc7c"
  },
  {
   "metadata": {
    "ExecuteTime": {
     "end_time": "2025-09-23T00:11:24.386218Z",
     "start_time": "2025-09-23T00:11:04.457856Z"
    }
   },
   "cell_type": "code",
   "source": [
    "# Plot the distribution of searches per customer\n",
    "cust_searches = train_df.group_by('profileId').len().sort(by='len', descending=True)\n",
    "plt.figure(figsize=(10, 6))\n",
    "sns.boxplot(cust_searches['len'])\n",
    "plt.title('Searches per Traveler')\n",
    "plt.ylabel('Number of Searches')\n",
    "plt.show()"
   ],
   "id": "f0a82b36d1281d8",
   "outputs": [
    {
     "data": {
      "text/plain": [
       "<Figure size 1000x600 with 1 Axes>"
      ],
      "image/png": "[encoded data removed]"
     },
     "metadata": {},
     "output_type": "display_data",
     "jetTransient": {
      "display_id": null
     }
    }
   ],
   "execution_count": 10
  },
  {
   "metadata": {
    "ExecuteTime": {
     "end_time": "2025-09-23T00:11:26.574595Z",
     "start_time": "2025-09-23T00:11:26.311058Z"
    }
   },
   "cell_type": "code",
   "source": [
    "plt.figure(figsize=(10, 6))\n",
    "sns.histplot(cust_searches['len'], bins=50, edgecolor='black', alpha=0.7)\n",
    "plt.title('Distribution of Flight Searches per Traveler')\n",
    "plt.xlabel('Number of Searches')\n",
    "plt.ylabel('Number of Travelers')\n",
    "plt.show()"
   ],
   "id": "f007fc43248411aa",
   "outputs": [
    {
     "data": {
      "text/plain": [
       "<Figure size 1000x600 with 1 Axes>"
      ],
      "image/png": "[encoded data removed]"
     },
     "metadata": {},
     "output_type": "display_data",
     "jetTransient": {
      "display_id": null
     }
    }
   ],
   "execution_count": 11
  },
  {
   "metadata": {
    "ExecuteTime": {
     "end_time": "2025-09-23T00:11:29.510808Z",
     "start_time": "2025-09-23T00:11:29.403828Z"
    }
   },
   "cell_type": "code",
   "source": "cust_searches['len'].describe()",
   "id": "2ee736c27e106bd2",
   "outputs": [
    {
     "data": {
      "text/plain": [
       "shape: (9, 2)\n",
       "┌────────────┬─────────────┐\n",
       "│ statistic  ┆ value       │\n",
       "│ ---        ┆ ---         │\n",
       "│ str        ┆ f64         │\n",
       "╞════════════╪═════════════╡\n",
       "│ count      ┆ 32922.0     │\n",
       "│ null_count ┆ 0.0         │\n",
       "│ mean       ┆ 551.162505  │\n",
       "│ std        ┆ 1290.835383 │\n",
       "│ min        ┆ 1.0         │\n",
       "│ 25%        ┆ 53.0        │\n",
       "│ 50%        ┆ 168.0       │\n",
       "│ 75%        ┆ 505.0       │\n",
       "│ max        ┆ 28718.0     │\n",
       "└────────────┴─────────────┘"
      ],
      "text/html": [
       "<div><style>\n",
       ".dataframe > thead > tr,\n",
       ".dataframe > tbody > tr {\n",
       "  text-align: right;\n",
       "  white-space: pre-wrap;\n",
       "}\n",
       "</style>\n",
       "<small>shape: (9, 2)</small><table border=\"1\" class=\"dataframe\"><thead><tr><th>statistic</th><th>value</th></tr><tr><td>str</td><td>f64</td></tr></thead><tbody><tr><td>&quot;count&quot;</td><td>32922.0</td></tr><tr><td>&quot;null_count&quot;</td><td>0.0</td></tr><tr><td>&quot;mean&quot;</td><td>551.162505</td></tr><tr><td>&quot;std&quot;</td><td>1290.835383</td></tr><tr><td>&quot;min&quot;</td><td>1.0</td></tr><tr><td>&quot;25%&quot;</td><td>53.0</td></tr><tr><td>&quot;50%&quot;</td><td>168.0</td></tr><tr><td>&quot;75%&quot;</td><td>505.0</td></tr><tr><td>&quot;max&quot;</td><td>28718.0</td></tr></tbody></table></div>"
      ]
     },
     "execution_count": 12,
     "metadata": {},
     "output_type": "execute_result"
    }
   ],
   "execution_count": 12
  },
  {
   "metadata": {},
   "cell_type": "markdown",
   "source": "While the majority of travelers generally have less than ~500 searches (3rd Quartile) there are definitely outliers here.",
   "id": "bd1941a9b44dbac"
  },
  {
   "metadata": {},
   "cell_type": "markdown",
   "source": "Now let's check the data types and attributes with NULL/Empty values.",
   "id": "28f6ed1fb0a7ab24"
  },
  {
   "metadata": {
    "ExecuteTime": {
     "end_time": "2025-09-23T00:11:36.187323Z",
     "start_time": "2025-09-23T00:11:36.078624Z"
    }
   },
   "cell_type": "code",
   "source": [
    "# Check data types\n",
    "pl.DataFrame({'data_type': [str(dtype) for dtype in train_df.schema.values()]}).group_by('data_type').len().sort('len', descending=True)"
   ],
   "id": "3770463b86cfc14d",
   "outputs": [
    {
     "data": {
      "text/plain": [
       "shape: (5, 2)\n",
       "┌─────────────────────────────────┬─────┐\n",
       "│ data_type                       ┆ len │\n",
       "│ ---                             ┆ --- │\n",
       "│ str                             ┆ u32 │\n",
       "╞═════════════════════════════════╪═════╡\n",
       "│ String                          ┆ 73  │\n",
       "│ Float64                         ┆ 41  │\n",
       "│ Int64                           ┆ 8   │\n",
       "│ Boolean                         ┆ 4   │\n",
       "│ Datetime(time_unit='ns', time_… ┆ 1   │\n",
       "└─────────────────────────────────┴─────┘"
      ],
      "text/html": [
       "<div><style>\n",
       ".dataframe > thead > tr,\n",
       ".dataframe > tbody > tr {\n",
       "  text-align: right;\n",
       "  white-space: pre-wrap;\n",
       "}\n",
       "</style>\n",
       "<small>shape: (5, 2)</small><table border=\"1\" class=\"dataframe\"><thead><tr><th>data_type</th><th>len</th></tr><tr><td>str</td><td>u32</td></tr></thead><tbody><tr><td>&quot;String&quot;</td><td>73</td></tr><tr><td>&quot;Float64&quot;</td><td>41</td></tr><tr><td>&quot;Int64&quot;</td><td>8</td></tr><tr><td>&quot;Boolean&quot;</td><td>4</td></tr><tr><td>&quot;Datetime(time_unit=&#x27;ns&#x27;, time_…</td><td>1</td></tr></tbody></table></div>"
      ]
     },
     "execution_count": 13,
     "metadata": {},
     "output_type": "execute_result"
    }
   ],
   "execution_count": 13
  },
  {
   "metadata": {
    "ExecuteTime": {
     "end_time": "2025-09-23T00:11:56.024634Z",
     "start_time": "2025-09-23T00:11:48.359586Z"
    }
   },
   "cell_type": "code",
   "source": [
    "# Determine the number and percentage of NULL/Empty values for each feature\n",
    "results = []\n",
    "for col in train_df.columns:\n",
    "    # Get null count\n",
    "    null_count = train_df.select(pl.col(col).is_null().sum()).item()\n",
    "    # Get empty string count\n",
    "    if train_df.schema[col] == pl.String:\n",
    "        empty_count = train_df.select((pl.col(col) == \"\").sum()).item()\n",
    "        missing_count = train_df.select((pl.col(col).is_null() | (pl.col(col) == \"\")).sum()).item()\n",
    "    else:\n",
    "        empty_count = 0\n",
    "        missing_count = null_count\n",
    "\n",
    "    results.append({\n",
    "        'column': col,\n",
    "        'data_type': str(train_df.schema[col]),\n",
    "        'null_count': null_count,\n",
    "        'empty_count': empty_count,\n",
    "        'missing_count': missing_count,\n",
    "        'missing_percentage': round(missing_count / len(train_df) * 100, 2)\n",
    "    })\n",
    "null_summary = pl.DataFrame(results)"
   ],
   "id": "2b4eb10ee520b203",
   "outputs": [],
   "execution_count": 14
  },
  {
   "metadata": {
    "ExecuteTime": {
     "end_time": "2025-09-23T00:12:03.151923Z",
     "start_time": "2025-09-23T00:12:03.030617Z"
    }
   },
   "cell_type": "code",
   "source": [
    "# features with no NULL/Empty values:\n",
    "null_summary.filter(pl.col('missing_count') == 0)"
   ],
   "id": "598871b26d02c3e7",
   "outputs": [
    {
     "data": {
      "text/plain": [
       "shape: (24, 6)\n",
       "┌───────────────────┬───────────┬────────────┬─────────────┬───────────────┬────────────────────┐\n",
       "│ column            ┆ data_type ┆ null_count ┆ empty_count ┆ missing_count ┆ missing_percentage │\n",
       "│ ---               ┆ ---       ┆ ---        ┆ ---         ┆ ---           ┆ ---                │\n",
       "│ str               ┆ str       ┆ i64        ┆ i64         ┆ i64           ┆ f64                │\n",
       "╞═══════════════════╪═══════════╪════════════╪═════════════╪═══════════════╪════════════════════╡\n",
       "│ Id                ┆ Int64     ┆ 0          ┆ 0           ┆ 0             ┆ 0.0                │\n",
       "│ bySelf            ┆ Boolean   ┆ 0          ┆ 0           ┆ 0             ┆ 0.0                │\n",
       "│ companyID         ┆ Int64     ┆ 0          ┆ 0           ┆ 0             ┆ 0.0                │\n",
       "│ nationality       ┆ Int64     ┆ 0          ┆ 0           ┆ 0             ┆ 0.0                │\n",
       "│ isAccess3D        ┆ Boolean   ┆ 0          ┆ 0           ┆ 0             ┆ 0.0                │\n",
       "│ …                 ┆ …         ┆ …          ┆ …           ┆ …             ┆ …                  │\n",
       "│ sex               ┆ Boolean   ┆ 0          ┆ 0           ┆ 0             ┆ 0.0                │\n",
       "│ taxes             ┆ Float64   ┆ 0          ┆ 0           ┆ 0             ┆ 0.0                │\n",
       "│ totalPrice        ┆ Float64   ┆ 0          ┆ 0           ┆ 0             ┆ 0.0                │\n",
       "│ selected          ┆ Int64     ┆ 0          ┆ 0           ┆ 0             ┆ 0.0                │\n",
       "│ __index_level_0__ ┆ Int64     ┆ 0          ┆ 0           ┆ 0             ┆ 0.0                │\n",
       "└───────────────────┴───────────┴────────────┴─────────────┴───────────────┴────────────────────┘"
      ],
      "text/html": [
       "<div><style>\n",
       ".dataframe > thead > tr,\n",
       ".dataframe > tbody > tr {\n",
       "  text-align: right;\n",
       "  white-space: pre-wrap;\n",
       "}\n",
       "</style>\n",
       "<small>shape: (24, 6)</small><table border=\"1\" class=\"dataframe\"><thead><tr><th>column</th><th>data_type</th><th>null_count</th><th>empty_count</th><th>missing_count</th><th>missing_percentage</th></tr><tr><td>str</td><td>str</td><td>i64</td><td>i64</td><td>i64</td><td>f64</td></tr></thead><tbody><tr><td>&quot;Id&quot;</td><td>&quot;Int64&quot;</td><td>0</td><td>0</td><td>0</td><td>0.0</td></tr><tr><td>&quot;bySelf&quot;</td><td>&quot;Boolean&quot;</td><td>0</td><td>0</td><td>0</td><td>0.0</td></tr><tr><td>&quot;companyID&quot;</td><td>&quot;Int64&quot;</td><td>0</td><td>0</td><td>0</td><td>0.0</td></tr><tr><td>&quot;nationality&quot;</td><td>&quot;Int64&quot;</td><td>0</td><td>0</td><td>0</td><td>0.0</td></tr><tr><td>&quot;isAccess3D&quot;</td><td>&quot;Boolean&quot;</td><td>0</td><td>0</td><td>0</td><td>0.0</td></tr><tr><td>&hellip;</td><td>&hellip;</td><td>&hellip;</td><td>&hellip;</td><td>&hellip;</td><td>&hellip;</td></tr><tr><td>&quot;sex&quot;</td><td>&quot;Boolean&quot;</td><td>0</td><td>0</td><td>0</td><td>0.0</td></tr><tr><td>&quot;taxes&quot;</td><td>&quot;Float64&quot;</td><td>0</td><td>0</td><td>0</td><td>0.0</td></tr><tr><td>&quot;totalPrice&quot;</td><td>&quot;Float64&quot;</td><td>0</td><td>0</td><td>0</td><td>0.0</td></tr><tr><td>&quot;selected&quot;</td><td>&quot;Int64&quot;</td><td>0</td><td>0</td><td>0</td><td>0.0</td></tr><tr><td>&quot;__index_level_0__&quot;</td><td>&quot;Int64&quot;</td><td>0</td><td>0</td><td>0</td><td>0.0</td></tr></tbody></table></div>"
      ]
     },
     "execution_count": 15,
     "metadata": {},
     "output_type": "execute_result"
    }
   ],
   "execution_count": 15
  },
  {
   "metadata": {
    "ExecuteTime": {
     "end_time": "2025-09-23T00:12:07.488428Z",
     "start_time": "2025-09-23T00:12:07.370673Z"
    }
   },
   "cell_type": "code",
   "source": [
    "# Features with NULL values < 10%\n",
    "null_summary.filter((pl.col('missing_count') > 0) & (pl.col('missing_percentage') < 10.0)).sort('missing_count')"
   ],
   "id": "303928e2f3089ba4",
   "outputs": [
    {
     "data": {
      "text/plain": [
       "shape: (12, 6)\n",
       "┌──────────────────────┬───────────┬────────────┬─────────────┬───────────────┬────────────────────┐\n",
       "│ column               ┆ data_type ┆ null_count ┆ empty_count ┆ missing_count ┆ missing_percentage │\n",
       "│ ---                  ┆ ---       ┆ ---        ┆ ---         ┆ ---           ┆ ---                │\n",
       "│ str                  ┆ str       ┆ i64        ┆ i64         ┆ i64           ┆ f64                │\n",
       "╞══════════════════════╪═══════════╪════════════╪═════════════╪═══════════════╪════════════════════╡\n",
       "│ legs0_segments0_arri ┆ String    ┆ 6          ┆ 2           ┆ 8             ┆ 0.0                │\n",
       "│ valTo_airp…          ┆           ┆            ┆             ┆               ┆                    │\n",
       "│ legs0_segments0_airc ┆ String    ┆ 14         ┆ 0           ┆ 14            ┆ 0.0                │\n",
       "│ raft_code            ┆           ┆            ┆             ┆               ┆                    │\n",
       "│ legs0_segments0_depa ┆ String    ┆ 2          ┆ 39          ┆ 41            ┆ 0.0                │\n",
       "│ rtureFrom_…          ┆           ┆            ┆             ┆               ┆                    │\n",
       "│ legs0_segments0_arri ┆ String    ┆ 113        ┆ 1           ┆ 114           ┆ 0.0                │\n",
       "│ valTo_airp…          ┆           ┆            ┆             ┆               ┆                    │\n",
       "│ legs0_segments0_bagg ┆ Float64   ┆ 1064       ┆ 0           ┆ 1064          ┆ 0.01               │\n",
       "│ ageAllowan…          ┆           ┆            ┆             ┆               ┆                    │\n",
       "│ …                    ┆ …         ┆ …          ┆ …           ┆ …             ┆ …                  │\n",
       "│ pricingInfo_isAccess ┆ Float64   ┆ 905045     ┆ 0           ┆ 905045        ┆ 4.99               │\n",
       "│ TP                   ┆           ┆            ┆             ┆               ┆                    │\n",
       "│ miniRules0_monetaryA ┆ Float64   ┆ 1395743    ┆ 0           ┆ 1395743       ┆ 7.69               │\n",
       "│ mount                ┆           ┆            ┆             ┆               ┆                    │\n",
       "│ miniRules1_monetaryA ┆ Float64   ┆ 1395743    ┆ 0           ┆ 1395743       ┆ 7.69               │\n",
       "│ mount                ┆           ┆            ┆             ┆               ┆                    │\n",
       "│ miniRules0_statusInf ┆ Float64   ┆ 1469953    ┆ 0           ┆ 1469953       ┆ 8.1                │\n",
       "│ os                   ┆           ┆            ┆             ┆               ┆                    │\n",
       "│ miniRules1_statusInf ┆ Float64   ┆ 1518169    ┆ 0           ┆ 1518169       ┆ 8.37               │\n",
       "│ os                   ┆           ┆            ┆             ┆               ┆                    │\n",
       "└──────────────────────┴───────────┴────────────┴─────────────┴───────────────┴────────────────────┘"
      ],
      "text/html": [
       "<div><style>\n",
       ".dataframe > thead > tr,\n",
       ".dataframe > tbody > tr {\n",
       "  text-align: right;\n",
       "  white-space: pre-wrap;\n",
       "}\n",
       "</style>\n",
       "<small>shape: (12, 6)</small><table border=\"1\" class=\"dataframe\"><thead><tr><th>column</th><th>data_type</th><th>null_count</th><th>empty_count</th><th>missing_count</th><th>missing_percentage</th></tr><tr><td>str</td><td>str</td><td>i64</td><td>i64</td><td>i64</td><td>f64</td></tr></thead><tbody><tr><td>&quot;legs0_segments0_arrivalTo_airp…</td><td>&quot;String&quot;</td><td>6</td><td>2</td><td>8</td><td>0.0</td></tr><tr><td>&quot;legs0_segments0_aircraft_code&quot;</td><td>&quot;String&quot;</td><td>14</td><td>0</td><td>14</td><td>0.0</td></tr><tr><td>&quot;legs0_segments0_departureFrom_…</td><td>&quot;String&quot;</td><td>2</td><td>39</td><td>41</td><td>0.0</td></tr><tr><td>&quot;legs0_segments0_arrivalTo_airp…</td><td>&quot;String&quot;</td><td>113</td><td>1</td><td>114</td><td>0.0</td></tr><tr><td>&quot;legs0_segments0_baggageAllowan…</td><td>&quot;Float64&quot;</td><td>1064</td><td>0</td><td>1064</td><td>0.01</td></tr><tr><td>&hellip;</td><td>&hellip;</td><td>&hellip;</td><td>&hellip;</td><td>&hellip;</td><td>&hellip;</td></tr><tr><td>&quot;pricingInfo_isAccessTP&quot;</td><td>&quot;Float64&quot;</td><td>905045</td><td>0</td><td>905045</td><td>4.99</td></tr><tr><td>&quot;miniRules0_monetaryAmount&quot;</td><td>&quot;Float64&quot;</td><td>1395743</td><td>0</td><td>1395743</td><td>7.69</td></tr><tr><td>&quot;miniRules1_monetaryAmount&quot;</td><td>&quot;Float64&quot;</td><td>1395743</td><td>0</td><td>1395743</td><td>7.69</td></tr><tr><td>&quot;miniRules0_statusInfos&quot;</td><td>&quot;Float64&quot;</td><td>1469953</td><td>0</td><td>1469953</td><td>8.1</td></tr><tr><td>&quot;miniRules1_statusInfos&quot;</td><td>&quot;Float64&quot;</td><td>1518169</td><td>0</td><td>1518169</td><td>8.37</td></tr></tbody></table></div>"
      ]
     },
     "execution_count": 16,
     "metadata": {},
     "output_type": "execute_result"
    }
   ],
   "execution_count": 16
  },
  {
   "metadata": {
    "ExecuteTime": {
     "end_time": "2025-09-23T00:12:08.744923Z",
     "start_time": "2025-09-23T00:12:08.631442Z"
    }
   },
   "cell_type": "code",
   "source": [
    "# Features with NULL/Empty values 10% - 50%\n",
    "null_summary.filter((pl.col('missing_percentage') >= 10.0) & (pl.col('missing_percentage') < 50.0)).sort('missing_count')"
   ],
   "id": "20c444ee804f78fe",
   "outputs": [
    {
     "data": {
      "text/plain": [
       "shape: (15, 6)\n",
       "┌──────────────────────┬───────────┬────────────┬─────────────┬───────────────┬────────────────────┐\n",
       "│ column               ┆ data_type ┆ null_count ┆ empty_count ┆ missing_count ┆ missing_percentage │\n",
       "│ ---                  ┆ ---       ┆ ---        ┆ ---         ┆ ---           ┆ ---                │\n",
       "│ str                  ┆ str       ┆ i64        ┆ i64         ┆ i64           ┆ f64                │\n",
       "╞══════════════════════╪═══════════╪════════════╪═════════════╪═══════════════╪════════════════════╡\n",
       "│ legs1_arrivalAt      ┆ String    ┆ 4387201    ┆ 0           ┆ 4387201       ┆ 24.18              │\n",
       "│ legs1_departureAt    ┆ String    ┆ 4387201    ┆ 0           ┆ 4387201       ┆ 24.18              │\n",
       "│ legs1_duration       ┆ String    ┆ 4387201    ┆ 0           ┆ 4387201       ┆ 24.18              │\n",
       "│ legs1_segments0_airc ┆ String    ┆ 4387201    ┆ 0           ┆ 4387201       ┆ 24.18              │\n",
       "│ raft_code            ┆           ┆            ┆             ┆               ┆                    │\n",
       "│ legs1_segments0_dura ┆ String    ┆ 4387201    ┆ 0           ┆ 4387201       ┆ 24.18              │\n",
       "│ tion                 ┆           ┆            ┆             ┆               ┆                    │\n",
       "│ …                    ┆ …         ┆ …          ┆ …           ┆ …             ┆ …                  │\n",
       "│ legs1_segments0_arri ┆ String    ┆ 4387237    ┆ 0           ┆ 4387237       ┆ 24.18              │\n",
       "│ valTo_airp…          ┆           ┆            ┆             ┆               ┆                    │\n",
       "│ legs1_segments0_cabi ┆ Float64   ┆ 4525013    ┆ 0           ┆ 4525013       ┆ 24.94              │\n",
       "│ nClass               ┆           ┆            ┆             ┆               ┆                    │\n",
       "│ legs1_segments0_bagg ┆ Float64   ┆ 4527297    ┆ 0           ┆ 4527297       ┆ 24.95              │\n",
       "│ ageAllowan…          ┆           ┆            ┆             ┆               ┆                    │\n",
       "│ legs1_segments0_bagg ┆ Float64   ┆ 4527297    ┆ 0           ┆ 4527297       ┆ 24.95              │\n",
       "│ ageAllowan…          ┆           ┆            ┆             ┆               ┆                    │\n",
       "│ legs1_segments0_seat ┆ Float64   ┆ 4580895    ┆ 0           ┆ 4580895       ┆ 25.25              │\n",
       "│ sAvailable           ┆           ┆            ┆             ┆               ┆                    │\n",
       "└──────────────────────┴───────────┴────────────┴─────────────┴───────────────┴────────────────────┘"
      ],
      "text/html": [
       "<div><style>\n",
       ".dataframe > thead > tr,\n",
       ".dataframe > tbody > tr {\n",
       "  text-align: right;\n",
       "  white-space: pre-wrap;\n",
       "}\n",
       "</style>\n",
       "<small>shape: (15, 6)</small><table border=\"1\" class=\"dataframe\"><thead><tr><th>column</th><th>data_type</th><th>null_count</th><th>empty_count</th><th>missing_count</th><th>missing_percentage</th></tr><tr><td>str</td><td>str</td><td>i64</td><td>i64</td><td>i64</td><td>f64</td></tr></thead><tbody><tr><td>&quot;legs1_arrivalAt&quot;</td><td>&quot;String&quot;</td><td>4387201</td><td>0</td><td>4387201</td><td>24.18</td></tr><tr><td>&quot;legs1_departureAt&quot;</td><td>&quot;String&quot;</td><td>4387201</td><td>0</td><td>4387201</td><td>24.18</td></tr><tr><td>&quot;legs1_duration&quot;</td><td>&quot;String&quot;</td><td>4387201</td><td>0</td><td>4387201</td><td>24.18</td></tr><tr><td>&quot;legs1_segments0_aircraft_code&quot;</td><td>&quot;String&quot;</td><td>4387201</td><td>0</td><td>4387201</td><td>24.18</td></tr><tr><td>&quot;legs1_segments0_duration&quot;</td><td>&quot;String&quot;</td><td>4387201</td><td>0</td><td>4387201</td><td>24.18</td></tr><tr><td>&hellip;</td><td>&hellip;</td><td>&hellip;</td><td>&hellip;</td><td>&hellip;</td><td>&hellip;</td></tr><tr><td>&quot;legs1_segments0_arrivalTo_airp…</td><td>&quot;String&quot;</td><td>4387237</td><td>0</td><td>4387237</td><td>24.18</td></tr><tr><td>&quot;legs1_segments0_cabinClass&quot;</td><td>&quot;Float64&quot;</td><td>4525013</td><td>0</td><td>4525013</td><td>24.94</td></tr><tr><td>&quot;legs1_segments0_baggageAllowan…</td><td>&quot;Float64&quot;</td><td>4527297</td><td>0</td><td>4527297</td><td>24.95</td></tr><tr><td>&quot;legs1_segments0_baggageAllowan…</td><td>&quot;Float64&quot;</td><td>4527297</td><td>0</td><td>4527297</td><td>24.95</td></tr><tr><td>&quot;legs1_segments0_seatsAvailable&quot;</td><td>&quot;Float64&quot;</td><td>4580895</td><td>0</td><td>4580895</td><td>25.25</td></tr></tbody></table></div>"
      ]
     },
     "execution_count": 17,
     "metadata": {},
     "output_type": "execute_result"
    }
   ],
   "execution_count": 17
  },
  {
   "metadata": {},
   "cell_type": "markdown",
   "source": "At first glance, I would suspect that the 24% related to missing legs1* features indicate one-way tickets.",
   "id": "35f5ce3bd55ca0a"
  },
  {
   "metadata": {
    "ExecuteTime": {
     "end_time": "2025-09-23T00:12:13.568246Z",
     "start_time": "2025-09-23T00:12:13.458608Z"
    }
   },
   "cell_type": "code",
   "source": [
    "# Features with NULL values > 50%\n",
    "null_summary.filter((pl.col('missing_percentage') >= 50.0)).sort('missing_count')"
   ],
   "id": "1d1482cabce5dbf2",
   "outputs": [
    {
     "data": {
      "text/plain": [
       "shape: (76, 6)\n",
       "┌──────────────────────┬───────────┬────────────┬─────────────┬───────────────┬────────────────────┐\n",
       "│ column               ┆ data_type ┆ null_count ┆ empty_count ┆ missing_count ┆ missing_percentage │\n",
       "│ ---                  ┆ ---       ┆ ---        ┆ ---         ┆ ---           ┆ ---                │\n",
       "│ str                  ┆ str       ┆ i64        ┆ i64         ┆ i64           ┆ f64                │\n",
       "╞══════════════════════╪═══════════╪════════════╪═════════════╪═══════════════╪════════════════════╡\n",
       "│ corporateTariffCode  ┆ Int64     ┆ 9233925    ┆ 0           ┆ 9233925       ┆ 50.89              │\n",
       "│ frequentFlyer        ┆ String    ┆ 12012727   ┆ 0           ┆ 12012727      ┆ 66.2               │\n",
       "│ legs0_segments1_arri ┆ String    ┆ 14311665   ┆ 0           ┆ 14311665      ┆ 78.87              │\n",
       "│ valTo_airp…          ┆           ┆            ┆             ┆               ┆                    │\n",
       "│ legs0_segments1_dura ┆ String    ┆ 14311665   ┆ 0           ┆ 14311665      ┆ 78.87              │\n",
       "│ tion                 ┆           ┆            ┆             ┆               ┆                    │\n",
       "│ legs0_segments1_flig ┆ String    ┆ 14311665   ┆ 0           ┆ 14311665      ┆ 78.87              │\n",
       "│ htNumber             ┆           ┆            ┆             ┆               ┆                    │\n",
       "│ …                    ┆ …         ┆ …          ┆ …           ┆ …             ┆ …                  │\n",
       "│ legs1_segments3_dura ┆ String    ┆ 18145366   ┆ 0           ┆ 18145366      ┆ 100.0              │\n",
       "│ tion                 ┆           ┆            ┆             ┆               ┆                    │\n",
       "│ legs1_segments3_flig ┆ String    ┆ 18145366   ┆ 0           ┆ 18145366      ┆ 100.0              │\n",
       "│ htNumber             ┆           ┆            ┆             ┆               ┆                    │\n",
       "│ legs1_segments3_mark ┆ String    ┆ 18145366   ┆ 0           ┆ 18145366      ┆ 100.0              │\n",
       "│ etingCarri…          ┆           ┆            ┆             ┆               ┆                    │\n",
       "│ legs1_segments3_oper ┆ String    ┆ 18145366   ┆ 0           ┆ 18145366      ┆ 100.0              │\n",
       "│ atingCarri…          ┆           ┆            ┆             ┆               ┆                    │\n",
       "│ legs1_segments3_seat ┆ Float64   ┆ 18145366   ┆ 0           ┆ 18145366      ┆ 100.0              │\n",
       "│ sAvailable           ┆           ┆            ┆             ┆               ┆                    │\n",
       "└──────────────────────┴───────────┴────────────┴─────────────┴───────────────┴────────────────────┘"
      ],
      "text/html": [
       "<div><style>\n",
       ".dataframe > thead > tr,\n",
       ".dataframe > tbody > tr {\n",
       "  text-align: right;\n",
       "  white-space: pre-wrap;\n",
       "}\n",
       "</style>\n",
       "<small>shape: (76, 6)</small><table border=\"1\" class=\"dataframe\"><thead><tr><th>column</th><th>data_type</th><th>null_count</th><th>empty_count</th><th>missing_count</th><th>missing_percentage</th></tr><tr><td>str</td><td>str</td><td>i64</td><td>i64</td><td>i64</td><td>f64</td></tr></thead><tbody><tr><td>&quot;corporateTariffCode&quot;</td><td>&quot;Int64&quot;</td><td>9233925</td><td>0</td><td>9233925</td><td>50.89</td></tr><tr><td>&quot;frequentFlyer&quot;</td><td>&quot;String&quot;</td><td>12012727</td><td>0</td><td>12012727</td><td>66.2</td></tr><tr><td>&quot;legs0_segments1_arrivalTo_airp…</td><td>&quot;String&quot;</td><td>14311665</td><td>0</td><td>14311665</td><td>78.87</td></tr><tr><td>&quot;legs0_segments1_duration&quot;</td><td>&quot;String&quot;</td><td>14311665</td><td>0</td><td>14311665</td><td>78.87</td></tr><tr><td>&quot;legs0_segments1_flightNumber&quot;</td><td>&quot;String&quot;</td><td>14311665</td><td>0</td><td>14311665</td><td>78.87</td></tr><tr><td>&hellip;</td><td>&hellip;</td><td>&hellip;</td><td>&hellip;</td><td>&hellip;</td><td>&hellip;</td></tr><tr><td>&quot;legs1_segments3_duration&quot;</td><td>&quot;String&quot;</td><td>18145366</td><td>0</td><td>18145366</td><td>100.0</td></tr><tr><td>&quot;legs1_segments3_flightNumber&quot;</td><td>&quot;String&quot;</td><td>18145366</td><td>0</td><td>18145366</td><td>100.0</td></tr><tr><td>&quot;legs1_segments3_marketingCarri…</td><td>&quot;String&quot;</td><td>18145366</td><td>0</td><td>18145366</td><td>100.0</td></tr><tr><td>&quot;legs1_segments3_operatingCarri…</td><td>&quot;String&quot;</td><td>18145366</td><td>0</td><td>18145366</td><td>100.0</td></tr><tr><td>&quot;legs1_segments3_seatsAvailable&quot;</td><td>&quot;Float64&quot;</td><td>18145366</td><td>0</td><td>18145366</td><td>100.0</td></tr></tbody></table></div>"
      ]
     },
     "execution_count": 18,
     "metadata": {},
     "output_type": "execute_result"
    }
   ],
   "execution_count": 18
  },
  {
   "metadata": {},
   "cell_type": "markdown",
   "source": "Here we see segments3 is 100% empty, meaning none of our flight search results have more than two layovers.",
   "id": "a9c58487c1bdc5a0"
  },
  {
   "metadata": {},
   "cell_type": "markdown",
   "source": [
    "Based on the inspection, some of these features are missing a large percentage of values. Given the description provided for the features, we will do the following:\n",
    "* corporateTariffCode (Corporate tariff code for businesss travel policies): impute to 0 (zero)\n",
    "* frequentFlyer (Frequent flyer program status): impute to 'NONE'\n",
    "* miniRules0_percentage (Percentage penalty for cancellation): impute to 0.0 (zero)\n",
    "* miniRules1_percentage (Percentage penalty for exchange): impute to 0.0 (zero)\n",
    "* legs[0,1]_segments[1-3]_* (flight segments): we will remove legs*_segments3_*, since none of the flights have more than two layovers. The remaining NULL values will be imputed to 0 or \"\", depending on the data type, as these will likely provide behavioral related matching."
   ],
   "id": "645baa446cf2fd0d"
  },
  {
   "metadata": {},
   "cell_type": "markdown",
   "source": "Let's look at carrier and frequent flyer codes.",
   "id": "bb5816654ff2caa4"
  },
  {
   "metadata": {
    "ExecuteTime": {
     "end_time": "2025-09-23T00:12:27.521629Z",
     "start_time": "2025-09-23T00:12:19.492822Z"
    }
   },
   "cell_type": "code",
   "source": [
    "# let's look at carrier codes\n",
    "unique_carrier_codes = (\n",
    "    train_df.select(cs.contains(\"Carrier_code\"))\n",
    "    .unpivot()\n",
    "    .select(\"value\")\n",
    "    .filter(pl.col(\"value\").is_not_null())\n",
    "    .unique().to_series().to_list()\n",
    ")\n",
    "print(unique_carrier_codes)"
   ],
   "id": "27a0cccde35714eb",
   "outputs": [
    {
     "name": "stdout",
     "output_type": "stream",
     "text": [
      "['QS', 'SA', 'V3', '2L', 'PR', 'VZ', '7T', 'KN', 'LH', 'TU', 'AD', 'HU', 'HH', 'AI', 'XC', 'YU', 'CY', 'JI', 'H1', 'UL', 'FB', 'VJ', 'U6', 'R6', 'XY', 'KM', 'ZN', 'AV', 'QR', 'TK', 'IX', 'AH', '8R', 'C3', 'A9', 'PI', 'HZ', 'VN', 'HO', 'SZ', 'N4', 'K6', 'B2', 'FZ', 'LA', 'EH', 'SG', 'G9', 'NH', 'JM', '0V', '8M', 'KB', 'TG', 'T5', '7C', 'AY', 'CX', 'TF', 'LY', 'DP', 'D2', 'JL', 'PK', 'TW', '3F', 'MH', 'TP', 'SN', 'WZ', 'WB', 'ИК', 'MF', 'WK', 'GF', 'YX', '6R', 'A3', 'OO', 'I2', 'OU', 'AT', 'SQ', 'QF', 'PW', 'IO', 'СЛ', 'A5', 'BG', 'LO', 'KA', '3U', 'BR', 'SM', 'GW', 'НИ', 'GA', 'N7', 'VA', 'ДЕ', 'Y7', '4G', 'OS', 'AA', 'BJ', 'KU', 'LV', 'СИ', '5F', '3K', 'FM', 'NX', 'PC', 'WY', '9F', 'A0', 'IZ', 'IQ', '5N', 'OK', 'KL', 'HY', 'AC', 'DY', 'OD', 'BL', 'ME', 'W2', 'BT', 'MQ', 'BA', 'J2', '9B', 'CA', 'KE', 'TC', 'KC', 'SV', 'FV', 'OZ', '7R', '4Y', 'WX', 'JJ', 'NL', 'DV', 'VF', 'AS', 'LX', 'X9', 'JU', 'A4', '5G', '6H', 'T7', 'I8', 'YW', '3L', 'ET', '2P', 'RT', 'TR', 'BI', '7G', 'EI', 'B6', 'F6', 'RM', 'ZF', 'GS', 'EE', 'UA', 'V7', 'CJ', 'AF', 'CI', 'ЮЭ', '4Z', 'LJ', 'LG', 'MU', 'F7', '4R', 'SK', 'RO', 'EO', 'DL', 'RE', 'CD', 'D8', 'I5', 'VL', 'OM', 'RJ', 'H9', 'ТГ', 'PG', 'EW', 'YC', 'VY', 'KQ', 'WS', 'UT', 'UO', 'XQ', 'QV', 'AZ', 'CL', 'NP', 'YK', 'S7', 'OV', 'KP', 'GM', 'MS', 'B7', 'EN', 'UK', '6E', 'DE', 'CM', 'IB', 'JD', 'KV', '2C', 'GQ', 'FY', 'HX', 'UX', 'EY', 'R3', 'ИГ', 'NI', 'ZH', 'EK', 'SU', 'HV', 'ВГ', '5O', 'CZ', 'G3', 'AM']\n"
     ]
    }
   ],
   "execution_count": 19
  },
  {
   "metadata": {
    "ExecuteTime": {
     "end_time": "2025-09-23T00:12:44.994571Z",
     "start_time": "2025-09-23T00:12:31.287901Z"
    }
   },
   "cell_type": "code",
   "source": [
    "carrier_cols = [col for col in train_df.columns if \"Carrier_code\" in col]\n",
    "carrier_code_counts = (\n",
    "    train_df\n",
    "    .select(pl.concat_list([pl.col(col) for col in carrier_cols]).alias(\"carrier_codes\"))\n",
    "    .select(pl.col(\"carrier_codes\").explode())\n",
    "    .filter(pl.col(\"carrier_codes\").is_not_null())\n",
    "    .select(pl.col(\"carrier_codes\").value_counts())\n",
    "    .unnest(\"carrier_codes\")\n",
    "    .sort(\"count\", descending=True)\n",
    "    .to_pandas()\n",
    ")\n",
    "\n",
    "print(carrier_code_counts)"
   ],
   "id": "a09693cd5f0c9c9c",
   "outputs": [
    {
     "name": "stdout",
     "output_type": "stream",
     "text": [
      "    carrier_codes     count\n",
      "0              SU  32936951\n",
      "1              FV  13793095\n",
      "2              S7   7072584\n",
      "3              U6   6108252\n",
      "4              TK   5200093\n",
      "..            ...       ...\n",
      "237            PK         1\n",
      "238            GQ         1\n",
      "239            XC         1\n",
      "240            GM         1\n",
      "241            K6         1\n",
      "\n",
      "[242 rows x 2 columns]\n"
     ]
    }
   ],
   "execution_count": 20
  },
  {
   "metadata": {
    "ExecuteTime": {
     "end_time": "2025-09-23T00:12:47.250328Z",
     "start_time": "2025-09-23T00:12:46.846369Z"
    }
   },
   "cell_type": "code",
   "source": [
    "# Show the top 20 carrier codes\n",
    "plt.figure(figsize=(15, 8))\n",
    "top_carriers = carrier_code_counts.head(20)\n",
    "sns.barplot(data=top_carriers, x=\"carrier_codes\", y=\"count\", palette=\"viridis\", hue=\"carrier_codes\")\n",
    "plt.title(\"Top 20 Carrier Codes by Frequency\")\n",
    "plt.xlabel(\"Carrier Code\")\n",
    "plt.ylabel(\"Frequency Count\")\n",
    "plt.xticks(rotation=45)\n",
    "plt.tight_layout()\n",
    "plt.show()"
   ],
   "id": "824b2ccd2502473f",
   "outputs": [
    {
     "data": {
      "text/plain": [
       "<Figure size 1500x800 with 1 Axes>"
      ],
      "image/png": "[encoded data removed]"
     },
     "metadata": {},
     "output_type": "display_data",
     "jetTransient": {
      "display_id": null
     }
    }
   ],
   "execution_count": 21
  },
  {
   "metadata": {
    "ExecuteTime": {
     "end_time": "2025-09-23T00:12:54.998669Z",
     "start_time": "2025-09-23T00:12:54.739261Z"
    }
   },
   "cell_type": "code",
   "source": [
    "# Show frequent flyer codes\n",
    "train_df['frequentFlyer'].unique()"
   ],
   "id": "5d35e49777a55c6c",
   "outputs": [
    {
     "data": {
      "text/plain": [
       "shape: (372,)\n",
       "Series: 'frequentFlyer' [str]\n",
       "[\n",
       "\t\"SU/U6/S7/UT\"\n",
       "\t\"SU/UT/DP\"\n",
       "\t\"SU/SU\"\n",
       "\t\"SU/QR\"\n",
       "\t\"SU/S7/6R/UT/U6\"\n",
       "\t…\n",
       "\t\"S7/B2/SU\"\n",
       "\t\"S7/DL/SU\"\n",
       "\t\"SU/TK/EY/LH\"\n",
       "\t\"DL/SU\"\n",
       "\t\"SU/5N/S7\"\n",
       "]"
      ],
      "text/html": [
       "<div><style>\n",
       ".dataframe > thead > tr,\n",
       ".dataframe > tbody > tr {\n",
       "  text-align: right;\n",
       "  white-space: pre-wrap;\n",
       "}\n",
       "</style>\n",
       "<small>shape: (372,)</small><table border=\"1\" class=\"dataframe\"><thead><tr><th>frequentFlyer</th></tr><tr><td>str</td></tr></thead><tbody><tr><td>&quot;SU/U6/S7/UT&quot;</td></tr><tr><td>&quot;SU/UT/DP&quot;</td></tr><tr><td>&quot;SU/SU&quot;</td></tr><tr><td>&quot;SU/QR&quot;</td></tr><tr><td>&quot;SU/S7/6R/UT/U6&quot;</td></tr><tr><td>&hellip;</td></tr><tr><td>&quot;S7/B2/SU&quot;</td></tr><tr><td>&quot;S7/DL/SU&quot;</td></tr><tr><td>&quot;SU/TK/EY/LH&quot;</td></tr><tr><td>&quot;DL/SU&quot;</td></tr><tr><td>&quot;SU/5N/S7&quot;</td></tr></tbody></table></div>"
      ]
     },
     "execution_count": 22,
     "metadata": {},
     "output_type": "execute_result"
    }
   ],
   "execution_count": 22
  },
  {
   "metadata": {
    "ExecuteTime": {
     "end_time": "2025-09-23T00:13:00.583498Z",
     "start_time": "2025-09-23T00:12:59.955070Z"
    }
   },
   "cell_type": "code",
   "source": [
    "# create a list of the unique frequent flyer codes\n",
    "unique_ff_codes = (\n",
    "    train_df.select(\"frequentFlyer\")\n",
    "    .filter(pl.col(\"frequentFlyer\").is_not_null())  # Remove nulls\n",
    "    .with_columns(\n",
    "        pl.col(\"frequentFlyer\").str.split(\"/\").alias(\"ff_codes\")  # Split by \"/\"\n",
    "    )\n",
    "    .select(\"ff_codes\")\n",
    "    .explode(\"ff_codes\")  # Flatten the lists into individual rows\n",
    "    .unique()  # Get unique codes\n",
    "    .sort(\"ff_codes\")  # Optional: sort them\n",
    "    .to_series()\n",
    "    .to_list()\n",
    ")\n",
    "print(unique_ff_codes)\n",
    "\n",
    "# let's see if any do not have an associated carrier code\n",
    "ff_not_in_carrier = set(unique_ff_codes) - set(unique_carrier_codes)\n",
    "print(\"\\nFF codes not in carrier list:\", ff_not_in_carrier)\n"
   ],
   "id": "d599e66a740e9748",
   "outputs": [
    {
     "name": "stdout",
     "output_type": "stream",
     "text": [
      "['- ЮТэйр ЗАО', '2G', '5N', '6R', '6W', '9X', 'A3', 'A4', 'AA', 'AB', 'AF', 'AI', 'AM', 'AT', 'AY', 'AZ', 'B2', 'BA', 'BD', 'C7', 'CA', 'CX', 'CZ', 'D2', 'D9', 'DL', 'DP', 'DV', 'EK', 'ET', 'EY', 'FV', 'FZ', 'GF', 'HU', 'HY', 'I8', 'J2', 'JP', 'JU', 'KC', 'KE', 'KL', 'LH', 'LO', 'LX', 'MS', 'MU', 'N4', 'OK', 'OS', 'OZ', 'PY', 'QR', 'R3', 'RT', 'S7', 'SK', 'SN', 'SQ', 'SU', 'SV', 'TK', 'U6', 'UA', 'UN', 'UT', 'VS', 'WY', 'Y7']\n",
      "\n",
      "FF codes not in carrier list: {'D9', '6W', 'PY', '2G', 'AB', 'C7', 'BD', 'VS', 'JP', '- ЮТэйр ЗАО', '9X', 'UN'}\n"
     ]
    }
   ],
   "execution_count": 23
  },
  {
   "metadata": {},
   "cell_type": "markdown",
   "source": [
    "Frequent Flyer codes to Airlines:\n",
    "* ЮТэйр ЗАО (translates to 'UTair JSC'):  UTair / UT\n",
    "* AB: Air Berlin / AB\n",
    "* D9: Daallo Airlines Somalia / D9\n",
    "* 2G: Northwest Seaplanes / None\n",
    "* UN: Transaero Airlines / UN (no longer in service)\n",
    "* JP: Adria Airways / JP (no longer in service)\n",
    "* 6W: Unknown\n",
    "* VS: Virgin Atlantic Airways / VS\n",
    "* BD: BMI British Midland / BD (integrated into British Airways)\n",
    "* C7: Cinnamon Air / C7\n",
    "* PY: Surinam Airways / PY\n",
    "* 9X: Air Columbia / Unknown\n",
    "\n",
    "So, translate 'ЮТэйр ЗАО' to UT and we'll keeps the others as they are."
   ],
   "id": "a35a20f6db560115"
  },
  {
   "metadata": {},
   "cell_type": "markdown",
   "source": "Let's take a look at the airport codes.",
   "id": "4f70bc7b9a6ffcff"
  },
  {
   "metadata": {
    "ExecuteTime": {
     "end_time": "2025-09-23T00:14:43.056189Z",
     "start_time": "2025-09-23T00:13:07.803883Z"
    }
   },
   "cell_type": "code",
   "source": [
    "iata_cols = [col for col in train_df.columns if \"_iata\" in col]\n",
    "\n",
    "unique_iata_codes = (\n",
    "    train_df\n",
    "    .select([\n",
    "        pl.concat_list([pl.col(col) for col in iata_cols])\n",
    "        .list.explode()\n",
    "        .drop_nulls()\n",
    "        .unique()\n",
    "        .alias('unique_iata_codes')\n",
    "    ])\n",
    "    .get_column('unique_iata_codes')\n",
    "    .to_list()\n",
    ")\n",
    "\n",
    "print(f\"Found {len(unique_iata_codes)} unique IATA codes\")\n",
    "print(unique_iata_codes)\n"
   ],
   "id": "2bfe79578a2ecece",
   "outputs": [
    {
     "name": "stdout",
     "output_type": "stream",
     "text": [
      "Found 679 unique IATA codes\n",
      "['EZV', 'SZX', 'RMO', '', 'YYZ', 'SKX', 'NYM', 'TGO', 'JJN', 'ZDN', 'PNR', 'IRT', 'UUA', 'FEG', 'WVB', 'KCK', 'NNM', 'AEP', 'JXA', 'ZYR', 'TAS', 'ECN', 'BUR', 'TOX', 'BPE', 'XIC', 'RAK', 'PEZ', 'CJB', 'LHR', 'IGU', 'XUZ', 'VCE', 'LOS', 'BDQ', 'LAD', 'AGP', 'ZVJ', 'ASB', 'LKO', 'BJS', 'KBR', 'DUB', 'VCP', 'TRV', 'BZX', 'SAW', 'MLE', 'BCN', 'UUS', 'HYN', 'REN', 'MIA', 'LYA', 'ZUH', 'LYG', 'FCO', 'AMS', 'KZN', 'BRE', 'JED', 'XIL', 'YJV', 'ADA', 'PKC', 'ASF', 'INC', 'HTA', 'LHW', 'VOG', 'GVA', 'IXB', 'OLZ', 'PTY', 'VNS', 'BQS', 'GZT', 'TSR', 'BRI', 'VKO', 'MSP', 'DYG', 'NCU', 'ATH', 'DLM', 'NUE', 'STR', 'VGA', 'BAK', 'YKS', 'YNJ', 'KPW', 'IAD', 'RIO', 'XSP', 'ODO', 'BHX', 'JNZ', 'BXU', 'AAE', 'GOI', 'HEL', 'LLV', 'BUD', 'BHZ', 'GOX', 'DDG', 'ZVR', 'ZIA', 'BLR', 'YBP', 'BTK', 'NGO', 'JGN', 'IJK', 'SZG', 'OSA', 'KQT', 'VVO', 'FUK', 'SVO', 'ARN', 'CGB', 'HLD', 'JGA', 'CTU', 'SEZ', 'DLU', 'EUN', 'SHJ', 'AER', 'HAM', 'SYX', 'XXQ', 'SCW', 'HMA', 'TYD', 'TLV', 'KGF', 'MXP', 'HAJ', 'IWA', 'MLG', 'TBW', 'NOZ', 'COV', 'HHL', 'LIS', 'HEK', 'SLL', 'SCO', 'DEN', 'SHA', 'HZD', 'SKP', 'SDU', 'ANK', 'TRN', 'XIX', 'NLU', 'KHV', 'KJA', 'LZO', 'REC', 'MDE', 'KRO', 'AUH', 'CCJ', 'SWA', 'QKU', 'MQF', 'ZAG', 'AGA', 'RIZ', 'MOW', 'LIM', 'RIX', 'USK', 'HFE', 'KYZ', 'GRZ', 'HGH', 'XVQ', 'BTH', 'MED', 'KUL', 'TOF', 'UDR', 'MAA', 'LJU', 'DHC', 'NIM', 'BEG', 'PPS', 'NBO', 'HTG', 'PLZ', 'IMR', 'CPH', 'LGK', 'HRB', 'ZWS', 'URC', 'OSI', 'TIV', 'YNT', 'OUD', 'ITM', 'TVS', 'YIW', 'BWN', 'SGN', 'KTM', 'WNZ', 'STO', 'DEL', 'PMI', 'FRU', 'PMF', 'RMZ', 'LUX', 'HER', 'ALG', 'EDI', 'ZRH', 'TNH', 'CJU', 'XVY', 'ADB', 'PYJ', 'WUB', 'BOG', 'JMK', 'DUR', 'ZLP', 'CIT', 'RAJ', 'CXR', 'SOF', 'DAR', 'HNY', 'ZSB', 'OAX', 'DTW', 'DIY', 'BKK', 'DVO', 'NLI', 'KGL', 'LYS', 'BRQ', 'ARH', 'WAW', 'IAO', 'SKD', 'VLC', 'CMN', 'KVX', 'IGT', 'KMG', 'CSX', 'CWB', 'LUN', 'KSZ', 'PXU', 'SZB', 'ULK', 'YJB', 'ORY', 'GES', 'NYA', 'LBV', 'KWL', 'LAX', 'EYA', 'HRG', 'VKT', 'DMS', 'ZFQ', 'VNO', 'SSH', 'JAI', 'KLF', 'HUI', 'SFO', 'BEY', 'NAG', 'DYU', 'SLY', 'SJW', 'CRL', 'SAO', 'UGC', 'WHA', 'MFM', 'CSY', 'DAD', 'PES', 'CGK', 'VII', 'GOJ', 'NAV', 'OVS', 'LED', 'PEN', 'LXA', 'PER', 'YTO', 'MLH', 'BGW', 'CHI', 'XRJ', 'ZHA', 'URJ', 'YVR', 'CEK', 'KVK', 'KGP', 'DMB', 'MYY', 'DOH', 'EWR', 'MLA', 'BKI', 'KIX', 'XTI', 'YNZ', 'ABA', 'HRE', 'UCT', 'ZNZ', 'MNL', 'TLS', 'HAK', 'CUN', 'BSB', 'MCX', 'HYD', 'TSA', 'MAD', 'ORN', 'LJG', 'AKX', 'SJO', 'LCY', 'NCE', 'KWI', 'BUE', 'PQC', 'OPO', 'CEE', 'MRS', 'DSN', 'PKX', 'ZYA', 'DWC', 'EVN', 'ULY', 'EYK', 'MPH', 'ZAQ', 'LFW', 'DFW', 'CGH', 'NGB', 'URA', 'VIL', 'GUW', 'KGD', 'SVX', 'HOU', 'ICN', 'ILO', 'XOC', 'INN', 'LLW', 'ZAD', 'WDS', 'DAC', 'GRV', 'HAN', 'JMU', 'EAP', 'DMK', 'ATQ', 'BHK', 'BCD', 'SHE', 'GVN', 'ALA', 'VUS', 'GMP', 'XIK', 'KCH', 'BAH', 'IAH', 'MUC', 'IXC', 'CPT', 'ULV', 'MJY', 'YJM', 'STN', 'QLS', 'SKG', 'LCA', 'UIH', 'TPE', 'TZX', 'XWC', 'ZDH', 'ATL', 'TNA', 'JGS', 'TIA', 'IZM', 'YCU', 'IMF', 'THR', 'ZBA', 'WUS', 'OSS', 'CZR', 'INP', 'KHI', 'CZL', 'IBZ', 'PHX', 'BRU', 'GDN', 'TIF', 'PNH', 'BQT', 'CLO', 'NYC', 'MMK', 'KCY', 'YTY', 'UIK', 'OSW', 'LGW', 'JKT', 'HKG', 'JHG', 'VEO', 'SGC', 'MIL', 'UDI', 'LGA', 'ADD', 'SAL', 'BOM', 'BUS', 'ABJ', 'KHH', 'NZG', 'CNF', 'OSL', 'SIA', 'CGR', 'FRA', 'UKX', 'NUX', 'BLZ', 'NNY', 'RTW', 'PHL', 'IBT', 'BGS', 'AMD', 'PFB', 'UUD', 'QPP', 'YUL', 'CLT', 'TFU', 'RHO', 'OGZ', 'HND', 'GYE', 'TJM', 'XMN', 'GRU', 'CDG', 'QKL', 'OUA', 'OHH', 'QQM', 'NNG', 'MSQ', 'KMW', 'KRK', 'WAS', 'ROM', 'VRN', 'OTP', 'DXB', 'NER', 'GYD', 'OMS', 'HET', 'QIN', 'TKM', 'FUG', 'KZO', 'WUH', 'TMJ', 'BAX', 'MJZ', 'TBS', 'SPU', 'NRT', 'PNQ', 'SEL', 'PMO', 'SJJ', 'CTA', 'LYI', 'FLR', 'TLL', 'CAN', 'KHN', 'BMV', 'DMM', 'NBC', 'NHA', 'CZX', 'PEE', 'PAR', 'DLC', 'IAR', 'NMA', 'ONT', 'UYN', 'HKT', 'FOC', 'KSN', 'TLK', 'MRV', 'OVB', 'KWE', 'PEK', 'DOY', 'PVG', 'HSN', 'DPS', 'BOD', 'NJC', 'WUX', 'DYR', 'CKY', 'PWE', 'UFA', 'TAO', 'HIA', 'YLX', 'BNX', 'BLQ', 'KUF', 'LON', 'BSL', 'DUS', 'NTG', 'MCT', 'WEH', 'BUH', 'CAC', 'SAN', 'VTZ', 'VGD', 'GDX', 'IST', 'AMM', 'LZY', 'LIN', 'ESB', 'UIO', 'BBI', 'USU', 'SIN', 'TYO', 'KSQ', 'IKA', 'NQZ', 'ULN', 'UBN', 'HMI', 'XNB', 'ZMU', 'NAP', 'WDH', 'YIH', 'DTT', 'EZE', 'TSN', 'VAN', 'ABV', 'MRU', 'ORD', 'CGQ', 'NKG', 'LBD', 'GIG', 'TAC', 'DME', 'QDU', 'XYG', 'KNY', 'BGY', 'JNB', 'DBV', 'BER', 'FIH', 'UKK', 'COK', 'DQA', 'CGY', 'BAV', 'NSK', 'BHY', 'YMQ', 'CFU', 'RGK', 'SYD', 'BKO', 'VTE', 'ASR', 'XNN', 'CCU', 'SEA', 'ESL', 'SXR', 'NOJ', 'KEJ', 'TGD', 'PUY', 'VIE', 'CEB', 'PUS', 'KYA', 'CMB', 'SZF', 'JFK', 'GME', 'AGY', 'JDZ', 'MTY', 'HSR', 'GAU', 'GOT', 'PKV', 'GSV', 'MBA', 'DLI', 'NAL', 'STW', 'TYN', 'BOS', 'XIY', 'RUH', 'CGO', 'PRG', 'VRA', 'HAV', 'ITU', 'BJV', 'AYT', 'IKT', 'QRO', 'TUN', 'MAN', 'MEX', 'JHB', 'XYD', 'CAI', 'CGN', 'CKG', 'SNA', 'NHR']\n"
     ]
    }
   ],
   "execution_count": 24
  },
  {
   "metadata": {},
   "cell_type": "markdown",
   "source": "Finally, let's look at the baggage feature",
   "id": "c4cc9abf2e77f59e"
  },
  {
   "metadata": {
    "ExecuteTime": {
     "end_time": "2025-09-23T00:15:58.131509Z",
     "start_time": "2025-09-23T00:15:58.006818Z"
    }
   },
   "cell_type": "code",
   "source": [
    "baggage_df = train_df.select([\"legs0_segments0_baggageAllowance_weightMeasurementType\", \"legs0_segments0_baggageAllowance_quantity\"])\n",
    "baggage_df_lazy = baggage_df.lazy()\n",
    "baggage_df_filtered = baggage_df_lazy.filter(~(pl.col(\"legs0_segments0_baggageAllowance_weightMeasurementType\").is_null()) & ~(pl.col(\"legs0_segments0_baggageAllowance_quantity\").is_null())).collect()"
   ],
   "id": "5c272a5a9a316e49",
   "outputs": [],
   "execution_count": 34
  },
  {
   "metadata": {
    "ExecuteTime": {
     "end_time": "2025-09-23T00:14:58.378799Z",
     "start_time": "2025-09-23T00:14:58.119344Z"
    }
   },
   "cell_type": "code",
   "source": "baggage_df_filtered[\"legs0_segments0_baggageAllowance_weightMeasurementType\"].unique()",
   "id": "12d77d88d58c8663",
   "outputs": [
    {
     "data": {
      "text/plain": [
       "shape: (2,)\n",
       "Series: 'legs0_segments0_baggageAllowance_weightMeasurementType' [f64]\n",
       "[\n",
       "\t0.0\n",
       "\t1.0\n",
       "]"
      ],
      "text/html": [
       "<div><style>\n",
       ".dataframe > thead > tr,\n",
       ".dataframe > tbody > tr {\n",
       "  text-align: right;\n",
       "  white-space: pre-wrap;\n",
       "}\n",
       "</style>\n",
       "<small>shape: (2,)</small><table border=\"1\" class=\"dataframe\"><thead><tr><th>legs0_segments0_baggageAllowance_weightMeasurementType</th></tr><tr><td>f64</td></tr></thead><tbody><tr><td>0.0</td></tr><tr><td>1.0</td></tr></tbody></table></div>"
      ]
     },
     "execution_count": 27,
     "metadata": {},
     "output_type": "execute_result"
    }
   ],
   "execution_count": 27
  },
  {
   "metadata": {
    "ExecuteTime": {
     "end_time": "2025-09-23T00:14:59.700215Z",
     "start_time": "2025-09-23T00:14:59.381928Z"
    }
   },
   "cell_type": "code",
   "source": "baggage_df_filtered[\"legs0_segments0_baggageAllowance_quantity\"].unique()",
   "id": "1f501671ea5b7919",
   "outputs": [
    {
     "data": {
      "text/plain": [
       "shape: (18,)\n",
       "Series: 'legs0_segments0_baggageAllowance_quantity' [f64]\n",
       "[\n",
       "\t0.0\n",
       "\t1.0\n",
       "\t2.0\n",
       "\t3.0\n",
       "\t10.0\n",
       "\t…\n",
       "\t40.0\n",
       "\t45.0\n",
       "\t46.0\n",
       "\t50.0\n",
       "\t60.0\n",
       "]"
      ],
      "text/html": [
       "<div><style>\n",
       ".dataframe > thead > tr,\n",
       ".dataframe > tbody > tr {\n",
       "  text-align: right;\n",
       "  white-space: pre-wrap;\n",
       "}\n",
       "</style>\n",
       "<small>shape: (18,)</small><table border=\"1\" class=\"dataframe\"><thead><tr><th>legs0_segments0_baggageAllowance_quantity</th></tr><tr><td>f64</td></tr></thead><tbody><tr><td>0.0</td></tr><tr><td>1.0</td></tr><tr><td>2.0</td></tr><tr><td>3.0</td></tr><tr><td>10.0</td></tr><tr><td>&hellip;</td></tr><tr><td>40.0</td></tr><tr><td>45.0</td></tr><tr><td>46.0</td></tr><tr><td>50.0</td></tr><tr><td>60.0</td></tr></tbody></table></div>"
      ]
     },
     "execution_count": 28,
     "metadata": {},
     "output_type": "execute_result"
    }
   ],
   "execution_count": 28
  },
  {
   "metadata": {
    "ExecuteTime": {
     "end_time": "2025-09-23T00:15:02.591798Z",
     "start_time": "2025-09-23T00:15:02.318233Z"
    }
   },
   "cell_type": "code",
   "source": [
    "filtered_data = baggage_df_filtered.filter(pl.col(\"legs0_segments0_baggageAllowance_weightMeasurementType\") == 0)\n",
    "filtered_data[\"legs0_segments0_baggageAllowance_quantity\"].unique()"
   ],
   "id": "52a490a83cd0d32d",
   "outputs": [
    {
     "data": {
      "text/plain": [
       "shape: (4,)\n",
       "Series: 'legs0_segments0_baggageAllowance_quantity' [f64]\n",
       "[\n",
       "\t0.0\n",
       "\t1.0\n",
       "\t2.0\n",
       "\t3.0\n",
       "]"
      ],
      "text/html": [
       "<div><style>\n",
       ".dataframe > thead > tr,\n",
       ".dataframe > tbody > tr {\n",
       "  text-align: right;\n",
       "  white-space: pre-wrap;\n",
       "}\n",
       "</style>\n",
       "<small>shape: (4,)</small><table border=\"1\" class=\"dataframe\"><thead><tr><th>legs0_segments0_baggageAllowance_quantity</th></tr><tr><td>f64</td></tr></thead><tbody><tr><td>0.0</td></tr><tr><td>1.0</td></tr><tr><td>2.0</td></tr><tr><td>3.0</td></tr></tbody></table></div>"
      ]
     },
     "execution_count": 29,
     "metadata": {},
     "output_type": "execute_result"
    }
   ],
   "execution_count": 29
  },
  {
   "metadata": {
    "ExecuteTime": {
     "end_time": "2025-09-23T00:15:03.387715Z",
     "start_time": "2025-09-23T00:15:03.254769Z"
    }
   },
   "cell_type": "code",
   "source": [
    "filtered_data = baggage_df_filtered.filter(pl.col(\"legs0_segments0_baggageAllowance_weightMeasurementType\") == 1)\n",
    "filtered_data[\"legs0_segments0_baggageAllowance_quantity\"].unique()"
   ],
   "id": "b6b2b7dc2758b2f7",
   "outputs": [
    {
     "data": {
      "text/plain": [
       "shape: (15,)\n",
       "Series: 'legs0_segments0_baggageAllowance_quantity' [f64]\n",
       "[\n",
       "\t0.0\n",
       "\t10.0\n",
       "\t15.0\n",
       "\t20.0\n",
       "\t23.0\n",
       "\t…\n",
       "\t40.0\n",
       "\t45.0\n",
       "\t46.0\n",
       "\t50.0\n",
       "\t60.0\n",
       "]"
      ],
      "text/html": [
       "<div><style>\n",
       ".dataframe > thead > tr,\n",
       ".dataframe > tbody > tr {\n",
       "  text-align: right;\n",
       "  white-space: pre-wrap;\n",
       "}\n",
       "</style>\n",
       "<small>shape: (15,)</small><table border=\"1\" class=\"dataframe\"><thead><tr><th>legs0_segments0_baggageAllowance_quantity</th></tr><tr><td>f64</td></tr></thead><tbody><tr><td>0.0</td></tr><tr><td>10.0</td></tr><tr><td>15.0</td></tr><tr><td>20.0</td></tr><tr><td>23.0</td></tr><tr><td>&hellip;</td></tr><tr><td>40.0</td></tr><tr><td>45.0</td></tr><tr><td>46.0</td></tr><tr><td>50.0</td></tr><tr><td>60.0</td></tr></tbody></table></div>"
      ]
     },
     "execution_count": 30,
     "metadata": {},
     "output_type": "execute_result"
    }
   ],
   "execution_count": 30
  },
  {
   "metadata": {},
   "cell_type": "markdown",
   "source": "Based on this, it looks like a MeasurementType = 0 indicates the Allowance_quantity is the number of bags limit, and when MeasurementType = 1, the Allowance_quanityt is a weight limit.",
   "id": "77f25250bba54b7e"
  },
  {
   "metadata": {
    "ExecuteTime": {
     "end_time": "2025-09-23T00:16:03.013970Z",
     "start_time": "2025-09-23T00:16:02.824589Z"
    }
   },
   "cell_type": "code",
   "source": [
    "# Let's clean-up the data objects we generated for the EDA process\n",
    "del baggage_df\n",
    "del baggage_df_filtered\n",
    "del baggage_df_lazy\n",
    "del carrier_code_counts\n",
    "del carrier_cols\n",
    "del cust_searches\n",
    "del ff_not_in_carrier\n",
    "del filtered_data\n",
    "del flight_counts\n",
    "del iata_cols\n",
    "del null_summary\n",
    "del results\n",
    "del top_carriers\n",
    "del unique_carrier_codes\n",
    "del unique_ff_codes\n",
    "del unique_iata_codes\n",
    "gc.collect()"
   ],
   "id": "7340dd9afe5a4f6e",
   "outputs": [
    {
     "data": {
      "text/plain": [
       "21256"
      ]
     },
     "execution_count": 35,
     "metadata": {},
     "output_type": "execute_result"
    }
   ],
   "execution_count": 35
  },
  {
   "metadata": {},
   "cell_type": "markdown",
   "source": "### Split Data into Training and Test Data Sets",
   "id": "34f9d779a84360e5"
  },
  {
   "metadata": {
    "ExecuteTime": {
     "end_time": "2025-09-23T00:17:24.973201Z",
     "start_time": "2025-09-23T00:16:11.602345Z"
    }
   },
   "cell_type": "code",
   "source": "train_df, test_df = stratified_flight_count_split(train_df)",
   "id": "30e8ff875ae94471",
   "outputs": [
    {
     "name": "stdout",
     "output_type": "stream",
     "text": [
      "Search size distribution:\n",
      "  large: 5,035 searches\n",
      "  medium: 13,896 searches\n",
      "  small: 30,360 searches\n",
      "  very_large: 3,141 searches\n",
      "  very_small: 53,107 searches\n",
      "\n",
      "Split results:\n",
      "Train searches: 84,429\n",
      "Test searches: 21,110\n",
      "Train rows: 14,515,517\n",
      "Test rows: 3,629,855\n",
      "\n",
      "Train set distribution:\n",
      "  large: 4,028 searches\n",
      "  medium: 11,116 searches\n",
      "  small: 24,288 searches\n",
      "  very_large: 2,512 searches\n",
      "  very_small: 42,485 searches\n",
      "\n",
      "Test set distribution:\n",
      "  large: 1,007 searches\n",
      "  medium: 2,780 searches\n",
      "  small: 6,072 searches\n",
      "  very_large: 629 searches\n",
      "  very_small: 10,622 searches\n"
     ]
    }
   ],
   "execution_count": 36
  },
  {
   "metadata": {},
   "cell_type": "markdown",
   "source": "Since the data set is so large, we will need to manage memory throughout the process. To assist with this, I am saving the training and test splits as parquet files that we can reload as needed without having to regenerate new splits.",
   "id": "8f07cfe761ed71b2"
  },
  {
   "metadata": {
    "ExecuteTime": {
     "end_time": "2025-09-23T00:18:35.767686Z",
     "start_time": "2025-09-23T00:18:07.886532Z"
    }
   },
   "cell_type": "code",
   "source": [
    "# Save the train/test splits\n",
    "train_df.write_parquet('data/train_df.parquet')\n",
    "test_df.write_parquet('data/test_df.parquet')\n",
    "\n",
    "# Remove test data from memory\n",
    "del test_df\n",
    "gc.collect()"
   ],
   "id": "aee88011a0d51e8",
   "outputs": [
    {
     "data": {
      "text/plain": [
       "0"
      ]
     },
     "execution_count": 37,
     "metadata": {},
     "output_type": "execute_result"
    }
   ],
   "execution_count": 37
  },
  {
   "metadata": {
    "ExecuteTime": {
     "end_time": "2025-09-23T00:19:20.841166Z",
     "start_time": "2025-09-23T00:19:20.700815Z"
    }
   },
   "cell_type": "code",
   "source": [
    "# Here we can check if train_df exists and load if we restarted the process at this point.\n",
    "try:\n",
    "    train_df.head()\n",
    "except NameError:\n",
    "    train_df = pl.read_parquet('data/train_df.parquet')\n",
    "    print(f'loaded train_df: {train_df.shape}')\n",
    "\n",
    "train_df.head(100)"
   ],
   "id": "c143e78fa1aafb4e",
   "outputs": [
    {
     "data": {
      "text/plain": [
       "shape: (100, 127)\n",
       "┌─────┬────────┬───────────┬─────────────────┬───┬────────┬────────────┬──────────┬────────────────┐\n",
       "│ Id  ┆ bySelf ┆ companyID ┆ corporateTariff ┆ … ┆ taxes  ┆ totalPrice ┆ selected ┆ __index_level_ │\n",
       "│ --- ┆ ---    ┆ ---       ┆ Code            ┆   ┆ ---    ┆ ---        ┆ ---      ┆ 0__            │\n",
       "│ i64 ┆ bool   ┆ i64       ┆ ---             ┆   ┆ f64    ┆ f64        ┆ i64      ┆ ---            │\n",
       "│     ┆        ┆           ┆ i64             ┆   ┆        ┆            ┆          ┆ i64            │\n",
       "╞═════╪════════╪═══════════╪═════════════════╪═══╪════════╪════════════╪══════════╪════════════════╡\n",
       "│ 0   ┆ true   ┆ 57323     ┆ null            ┆ … ┆ 370.0  ┆ 16884.0    ┆ 1        ┆ 0              │\n",
       "│ 1   ┆ true   ┆ 57323     ┆ 123             ┆ … ┆ 2240.0 ┆ 51125.0    ┆ 0        ┆ 1              │\n",
       "│ 2   ┆ true   ┆ 57323     ┆ null            ┆ … ┆ 2240.0 ┆ 53695.0    ┆ 0        ┆ 2              │\n",
       "│ 3   ┆ true   ┆ 57323     ┆ 123             ┆ … ┆ 2240.0 ┆ 81880.0    ┆ 0        ┆ 3              │\n",
       "│ 4   ┆ true   ┆ 57323     ┆ null            ┆ … ┆ 2240.0 ┆ 86070.0    ┆ 0        ┆ 4              │\n",
       "│ …   ┆ …      ┆ …         ┆ …               ┆ … ┆ …      ┆ …          ┆ …        ┆ …              │\n",
       "│ 159 ┆ true   ┆ 53407     ┆ null            ┆ … ┆ 886.0  ┆ 16066.0    ┆ 0        ┆ 159            │\n",
       "│ 160 ┆ true   ┆ 53407     ┆ 131             ┆ … ┆ 886.0  ┆ 18581.0    ┆ 0        ┆ 160            │\n",
       "│ 161 ┆ true   ┆ 53407     ┆ null            ┆ … ┆ 886.0  ┆ 19706.0    ┆ 0        ┆ 161            │\n",
       "│ 162 ┆ true   ┆ 53407     ┆ 131             ┆ … ┆ 886.0  ┆ 32041.0    ┆ 0        ┆ 162            │\n",
       "│ 163 ┆ true   ┆ 53407     ┆ null            ┆ … ┆ 886.0  ┆ 34026.0    ┆ 0        ┆ 163            │\n",
       "└─────┴────────┴───────────┴─────────────────┴───┴────────┴────────────┴──────────┴────────────────┘"
      ],
      "text/html": [
       "<div><style>\n",
       ".dataframe > thead > tr,\n",
       ".dataframe > tbody > tr {\n",
       "  text-align: right;\n",
       "  white-space: pre-wrap;\n",
       "}\n",
       "</style>\n",
       "<small>shape: (100, 127)</small><table border=\"1\" class=\"dataframe\"><thead><tr><th>Id</th><th>bySelf</th><th>companyID</th><th>corporateTariffCode</th><th>frequentFlyer</th><th>nationality</th><th>isAccess3D</th><th>isVip</th><th>legs0_arrivalAt</th><th>legs0_departureAt</th><th>legs0_duration</th><th>legs0_segments0_aircraft_code</th><th>legs0_segments0_arrivalTo_airport_city_iata</th><th>legs0_segments0_arrivalTo_airport_iata</th><th>legs0_segments0_baggageAllowance_quantity</th><th>legs0_segments0_baggageAllowance_weightMeasurementType</th><th>legs0_segments0_cabinClass</th><th>legs0_segments0_departureFrom_airport_iata</th><th>legs0_segments0_duration</th><th>legs0_segments0_flightNumber</th><th>legs0_segments0_marketingCarrier_code</th><th>legs0_segments0_operatingCarrier_code</th><th>legs0_segments0_seatsAvailable</th><th>legs0_segments1_aircraft_code</th><th>legs0_segments1_arrivalTo_airport_city_iata</th><th>legs0_segments1_arrivalTo_airport_iata</th><th>legs0_segments1_baggageAllowance_quantity</th><th>legs0_segments1_baggageAllowance_weightMeasurementType</th><th>legs0_segments1_cabinClass</th><th>legs0_segments1_departureFrom_airport_iata</th><th>legs0_segments1_duration</th><th>legs0_segments1_flightNumber</th><th>legs0_segments1_marketingCarrier_code</th><th>legs0_segments1_operatingCarrier_code</th><th>legs0_segments1_seatsAvailable</th><th>legs0_segments2_aircraft_code</th><th>legs0_segments2_arrivalTo_airport_city_iata</th><th>&hellip;</th><th>legs1_segments2_baggageAllowance_weightMeasurementType</th><th>legs1_segments2_cabinClass</th><th>legs1_segments2_departureFrom_airport_iata</th><th>legs1_segments2_duration</th><th>legs1_segments2_flightNumber</th><th>legs1_segments2_marketingCarrier_code</th><th>legs1_segments2_operatingCarrier_code</th><th>legs1_segments2_seatsAvailable</th><th>legs1_segments3_aircraft_code</th><th>legs1_segments3_arrivalTo_airport_city_iata</th><th>legs1_segments3_arrivalTo_airport_iata</th><th>legs1_segments3_baggageAllowance_quantity</th><th>legs1_segments3_baggageAllowance_weightMeasurementType</th><th>legs1_segments3_cabinClass</th><th>legs1_segments3_departureFrom_airport_iata</th><th>legs1_segments3_duration</th><th>legs1_segments3_flightNumber</th><th>legs1_segments3_marketingCarrier_code</th><th>legs1_segments3_operatingCarrier_code</th><th>legs1_segments3_seatsAvailable</th><th>miniRules0_monetaryAmount</th><th>miniRules0_percentage</th><th>miniRules0_statusInfos</th><th>miniRules1_monetaryAmount</th><th>miniRules1_percentage</th><th>miniRules1_statusInfos</th><th>pricingInfo_isAccessTP</th><th>pricingInfo_passengerCount</th><th>profileId</th><th>ranker_id</th><th>requestDate</th><th>searchRoute</th><th>sex</th><th>taxes</th><th>totalPrice</th><th>selected</th><th>__index_level_0__</th></tr><tr><td>i64</td><td>bool</td><td>i64</td><td>i64</td><td>str</td><td>i64</td><td>bool</td><td>bool</td><td>str</td><td>str</td><td>str</td><td>str</td><td>str</td><td>str</td><td>f64</td><td>f64</td><td>f64</td><td>str</td><td>str</td><td>str</td><td>str</td><td>str</td><td>f64</td><td>str</td><td>str</td><td>str</td><td>f64</td><td>f64</td><td>f64</td><td>str</td><td>str</td><td>str</td><td>str</td><td>str</td><td>f64</td><td>str</td><td>str</td><td>&hellip;</td><td>f64</td><td>f64</td><td>str</td><td>str</td><td>str</td><td>str</td><td>str</td><td>f64</td><td>str</td><td>str</td><td>str</td><td>f64</td><td>f64</td><td>f64</td><td>str</td><td>str</td><td>str</td><td>str</td><td>str</td><td>f64</td><td>f64</td><td>f64</td><td>f64</td><td>f64</td><td>f64</td><td>f64</td><td>f64</td><td>i64</td><td>i64</td><td>str</td><td>datetime[ns]</td><td>str</td><td>bool</td><td>f64</td><td>f64</td><td>i64</td><td>i64</td></tr></thead><tbody><tr><td>0</td><td>true</td><td>57323</td><td>null</td><td>&quot;S7/SU/UT&quot;</td><td>36</td><td>false</td><td>false</td><td>&quot;2024-06-15T16:20:00&quot;</td><td>&quot;2024-06-15T15:40:00&quot;</td><td>&quot;02:40:00&quot;</td><td>&quot;YK2&quot;</td><td>&quot;KJA&quot;</td><td>&quot;KJA&quot;</td><td>1.0</td><td>0.0</td><td>1.0</td><td>&quot;TLK&quot;</td><td>&quot;02:40:00&quot;</td><td>&quot;216&quot;</td><td>&quot;KV&quot;</td><td>&quot;KV&quot;</td><td>9.0</td><td>null</td><td>null</td><td>null</td><td>null</td><td>null</td><td>null</td><td>null</td><td>null</td><td>null</td><td>null</td><td>null</td><td>null</td><td>null</td><td>null</td><td>&hellip;</td><td>null</td><td>null</td><td>null</td><td>null</td><td>null</td><td>null</td><td>null</td><td>null</td><td>null</td><td>null</td><td>null</td><td>null</td><td>null</td><td>null</td><td>null</td><td>null</td><td>null</td><td>null</td><td>null</td><td>null</td><td>null</td><td>null</td><td>null</td><td>null</td><td>null</td><td>null</td><td>1.0</td><td>1</td><td>2087645</td><td>&quot;98ce0dabf6964640b63079fbafd42c…</td><td>2024-05-17 03:03:08</td><td>&quot;TLKKJA/KJATLK&quot;</td><td>true</td><td>370.0</td><td>16884.0</td><td>1</td><td>0</td></tr><tr><td>1</td><td>true</td><td>57323</td><td>123</td><td>&quot;S7/SU/UT&quot;</td><td>36</td><td>true</td><td>false</td><td>&quot;2024-06-15T14:50:00&quot;</td><td>&quot;2024-06-15T09:25:00&quot;</td><td>&quot;07:25:00&quot;</td><td>&quot;E70&quot;</td><td>&quot;OVB&quot;</td><td>&quot;OVB&quot;</td><td>1.0</td><td>0.0</td><td>1.0</td><td>&quot;TLK&quot;</td><td>&quot;02:50:00&quot;</td><td>&quot;5358&quot;</td><td>&quot;S7&quot;</td><td>&quot;S7&quot;</td><td>4.0</td><td>&quot;E70&quot;</td><td>&quot;KJA&quot;</td><td>&quot;KJA&quot;</td><td>1.0</td><td>0.0</td><td>1.0</td><td>&quot;OVB&quot;</td><td>&quot;01:20:00&quot;</td><td>&quot;5311&quot;</td><td>&quot;S7&quot;</td><td>&quot;S7&quot;</td><td>4.0</td><td>null</td><td>null</td><td>&hellip;</td><td>null</td><td>null</td><td>null</td><td>null</td><td>null</td><td>null</td><td>null</td><td>null</td><td>null</td><td>null</td><td>null</td><td>null</td><td>null</td><td>null</td><td>null</td><td>null</td><td>null</td><td>null</td><td>null</td><td>null</td><td>2300.0</td><td>null</td><td>1.0</td><td>3500.0</td><td>null</td><td>1.0</td><td>1.0</td><td>1</td><td>2087645</td><td>&quot;98ce0dabf6964640b63079fbafd42c…</td><td>2024-05-17 03:03:08</td><td>&quot;TLKKJA/KJATLK&quot;</td><td>true</td><td>2240.0</td><td>51125.0</td><td>0</td><td>1</td></tr><tr><td>2</td><td>true</td><td>57323</td><td>null</td><td>&quot;S7/SU/UT&quot;</td><td>36</td><td>false</td><td>false</td><td>&quot;2024-06-15T14:50:00&quot;</td><td>&quot;2024-06-15T09:25:00&quot;</td><td>&quot;07:25:00&quot;</td><td>&quot;E70&quot;</td><td>&quot;OVB&quot;</td><td>&quot;OVB&quot;</td><td>1.0</td><td>0.0</td><td>1.0</td><td>&quot;TLK&quot;</td><td>&quot;02:50:00&quot;</td><td>&quot;5358&quot;</td><td>&quot;S7&quot;</td><td>&quot;S7&quot;</td><td>4.0</td><td>&quot;E70&quot;</td><td>&quot;KJA&quot;</td><td>&quot;KJA&quot;</td><td>1.0</td><td>0.0</td><td>1.0</td><td>&quot;OVB&quot;</td><td>&quot;01:20:00&quot;</td><td>&quot;5311&quot;</td><td>&quot;S7&quot;</td><td>&quot;S7&quot;</td><td>4.0</td><td>null</td><td>null</td><td>&hellip;</td><td>null</td><td>null</td><td>null</td><td>null</td><td>null</td><td>null</td><td>null</td><td>null</td><td>null</td><td>null</td><td>null</td><td>null</td><td>null</td><td>null</td><td>null</td><td>null</td><td>null</td><td>null</td><td>null</td><td>null</td><td>2300.0</td><td>null</td><td>1.0</td><td>3500.0</td><td>null</td><td>1.0</td><td>1.0</td><td>1</td><td>2087645</td><td>&quot;98ce0dabf6964640b63079fbafd42c…</td><td>2024-05-17 03:03:08</td><td>&quot;TLKKJA/KJATLK&quot;</td><td>true</td><td>2240.0</td><td>53695.0</td><td>0</td><td>2</td></tr><tr><td>3</td><td>true</td><td>57323</td><td>123</td><td>&quot;S7/SU/UT&quot;</td><td>36</td><td>true</td><td>false</td><td>&quot;2024-06-15T14:50:00&quot;</td><td>&quot;2024-06-15T09:25:00&quot;</td><td>&quot;07:25:00&quot;</td><td>&quot;E70&quot;</td><td>&quot;OVB&quot;</td><td>&quot;OVB&quot;</td><td>1.0</td><td>0.0</td><td>1.0</td><td>&quot;TLK&quot;</td><td>&quot;02:50:00&quot;</td><td>&quot;5358&quot;</td><td>&quot;S7&quot;</td><td>&quot;S7&quot;</td><td>4.0</td><td>&quot;E70&quot;</td><td>&quot;KJA&quot;</td><td>&quot;KJA&quot;</td><td>1.0</td><td>0.0</td><td>1.0</td><td>&quot;OVB&quot;</td><td>&quot;01:20:00&quot;</td><td>&quot;5311&quot;</td><td>&quot;S7&quot;</td><td>&quot;S7&quot;</td><td>4.0</td><td>null</td><td>null</td><td>&hellip;</td><td>null</td><td>null</td><td>null</td><td>null</td><td>null</td><td>null</td><td>null</td><td>null</td><td>null</td><td>null</td><td>null</td><td>null</td><td>null</td><td>null</td><td>null</td><td>null</td><td>null</td><td>null</td><td>null</td><td>null</td><td>0.0</td><td>null</td><td>1.0</td><td>0.0</td><td>null</td><td>1.0</td><td>1.0</td><td>1</td><td>2087645</td><td>&quot;98ce0dabf6964640b63079fbafd42c…</td><td>2024-05-17 03:03:08</td><td>&quot;TLKKJA/KJATLK&quot;</td><td>true</td><td>2240.0</td><td>81880.0</td><td>0</td><td>3</td></tr><tr><td>4</td><td>true</td><td>57323</td><td>null</td><td>&quot;S7/SU/UT&quot;</td><td>36</td><td>false</td><td>false</td><td>&quot;2024-06-15T14:50:00&quot;</td><td>&quot;2024-06-15T09:25:00&quot;</td><td>&quot;07:25:00&quot;</td><td>&quot;E70&quot;</td><td>&quot;OVB&quot;</td><td>&quot;OVB&quot;</td><td>1.0</td><td>0.0</td><td>1.0</td><td>&quot;TLK&quot;</td><td>&quot;02:50:00&quot;</td><td>&quot;5358&quot;</td><td>&quot;S7&quot;</td><td>&quot;S7&quot;</td><td>4.0</td><td>&quot;E70&quot;</td><td>&quot;KJA&quot;</td><td>&quot;KJA&quot;</td><td>1.0</td><td>0.0</td><td>1.0</td><td>&quot;OVB&quot;</td><td>&quot;01:20:00&quot;</td><td>&quot;5311&quot;</td><td>&quot;S7&quot;</td><td>&quot;S7&quot;</td><td>4.0</td><td>null</td><td>null</td><td>&hellip;</td><td>null</td><td>null</td><td>null</td><td>null</td><td>null</td><td>null</td><td>null</td><td>null</td><td>null</td><td>null</td><td>null</td><td>null</td><td>null</td><td>null</td><td>null</td><td>null</td><td>null</td><td>null</td><td>null</td><td>null</td><td>0.0</td><td>null</td><td>1.0</td><td>0.0</td><td>null</td><td>1.0</td><td>1.0</td><td>1</td><td>2087645</td><td>&quot;98ce0dabf6964640b63079fbafd42c…</td><td>2024-05-17 03:03:08</td><td>&quot;TLKKJA/KJATLK&quot;</td><td>true</td><td>2240.0</td><td>86070.0</td><td>0</td><td>4</td></tr><tr><td>&hellip;</td><td>&hellip;</td><td>&hellip;</td><td>&hellip;</td><td>&hellip;</td><td>&hellip;</td><td>&hellip;</td><td>&hellip;</td><td>&hellip;</td><td>&hellip;</td><td>&hellip;</td><td>&hellip;</td><td>&hellip;</td><td>&hellip;</td><td>&hellip;</td><td>&hellip;</td><td>&hellip;</td><td>&hellip;</td><td>&hellip;</td><td>&hellip;</td><td>&hellip;</td><td>&hellip;</td><td>&hellip;</td><td>&hellip;</td><td>&hellip;</td><td>&hellip;</td><td>&hellip;</td><td>&hellip;</td><td>&hellip;</td><td>&hellip;</td><td>&hellip;</td><td>&hellip;</td><td>&hellip;</td><td>&hellip;</td><td>&hellip;</td><td>&hellip;</td><td>&hellip;</td><td>&hellip;</td><td>&hellip;</td><td>&hellip;</td><td>&hellip;</td><td>&hellip;</td><td>&hellip;</td><td>&hellip;</td><td>&hellip;</td><td>&hellip;</td><td>&hellip;</td><td>&hellip;</td><td>&hellip;</td><td>&hellip;</td><td>&hellip;</td><td>&hellip;</td><td>&hellip;</td><td>&hellip;</td><td>&hellip;</td><td>&hellip;</td><td>&hellip;</td><td>&hellip;</td><td>&hellip;</td><td>&hellip;</td><td>&hellip;</td><td>&hellip;</td><td>&hellip;</td><td>&hellip;</td><td>&hellip;</td><td>&hellip;</td><td>&hellip;</td><td>&hellip;</td><td>&hellip;</td><td>&hellip;</td><td>&hellip;</td><td>&hellip;</td><td>&hellip;</td><td>&hellip;</td><td>&hellip;</td></tr><tr><td>159</td><td>true</td><td>53407</td><td>null</td><td>null</td><td>36</td><td>false</td><td>false</td><td>&quot;2024-05-24T03:10:00&quot;</td><td>&quot;2024-05-23T19:35:00&quot;</td><td>&quot;06:35:00&quot;</td><td>&quot;E70&quot;</td><td>&quot;OVB&quot;</td><td>&quot;OVB&quot;</td><td>0.0</td><td>0.0</td><td>1.0</td><td>&quot;KJA&quot;</td><td>&quot;01:25:00&quot;</td><td>&quot;5308&quot;</td><td>&quot;S7&quot;</td><td>&quot;S7&quot;</td><td>9.0</td><td>&quot;E70&quot;</td><td>&quot;IKT&quot;</td><td>&quot;IKT&quot;</td><td>0.0</td><td>0.0</td><td>1.0</td><td>&quot;OVB&quot;</td><td>&quot;02:20:00&quot;</td><td>&quot;5231&quot;</td><td>&quot;S7&quot;</td><td>&quot;S7&quot;</td><td>9.0</td><td>null</td><td>null</td><td>&hellip;</td><td>null</td><td>null</td><td>null</td><td>null</td><td>null</td><td>null</td><td>null</td><td>null</td><td>null</td><td>null</td><td>null</td><td>null</td><td>null</td><td>null</td><td>null</td><td>null</td><td>null</td><td>null</td><td>null</td><td>null</td><td>4000.0</td><td>null</td><td>1.0</td><td>0.0</td><td>null</td><td>0.0</td><td>1.0</td><td>1</td><td>2503394</td><td>&quot;e109b50aca4a43908dd146c55733e3…</td><td>2024-05-17 04:06:51</td><td>&quot;KJAIKT&quot;</td><td>true</td><td>886.0</td><td>16066.0</td><td>0</td><td>159</td></tr><tr><td>160</td><td>true</td><td>53407</td><td>131</td><td>null</td><td>36</td><td>true</td><td>false</td><td>&quot;2024-05-24T03:10:00&quot;</td><td>&quot;2024-05-23T19:35:00&quot;</td><td>&quot;06:35:00&quot;</td><td>&quot;E70&quot;</td><td>&quot;OVB&quot;</td><td>&quot;OVB&quot;</td><td>1.0</td><td>0.0</td><td>1.0</td><td>&quot;KJA&quot;</td><td>&quot;01:25:00&quot;</td><td>&quot;5308&quot;</td><td>&quot;S7&quot;</td><td>&quot;S7&quot;</td><td>9.0</td><td>&quot;E70&quot;</td><td>&quot;IKT&quot;</td><td>&quot;IKT&quot;</td><td>1.0</td><td>0.0</td><td>1.0</td><td>&quot;OVB&quot;</td><td>&quot;02:20:00&quot;</td><td>&quot;5231&quot;</td><td>&quot;S7&quot;</td><td>&quot;S7&quot;</td><td>9.0</td><td>null</td><td>null</td><td>&hellip;</td><td>null</td><td>null</td><td>null</td><td>null</td><td>null</td><td>null</td><td>null</td><td>null</td><td>null</td><td>null</td><td>null</td><td>null</td><td>null</td><td>null</td><td>null</td><td>null</td><td>null</td><td>null</td><td>null</td><td>null</td><td>2300.0</td><td>null</td><td>1.0</td><td>3500.0</td><td>null</td><td>1.0</td><td>1.0</td><td>1</td><td>2503394</td><td>&quot;e109b50aca4a43908dd146c55733e3…</td><td>2024-05-17 04:06:51</td><td>&quot;KJAIKT&quot;</td><td>true</td><td>886.0</td><td>18581.0</td><td>0</td><td>160</td></tr><tr><td>161</td><td>true</td><td>53407</td><td>null</td><td>null</td><td>36</td><td>false</td><td>false</td><td>&quot;2024-05-24T03:10:00&quot;</td><td>&quot;2024-05-23T19:35:00&quot;</td><td>&quot;06:35:00&quot;</td><td>&quot;E70&quot;</td><td>&quot;OVB&quot;</td><td>&quot;OVB&quot;</td><td>1.0</td><td>0.0</td><td>1.0</td><td>&quot;KJA&quot;</td><td>&quot;01:25:00&quot;</td><td>&quot;5308&quot;</td><td>&quot;S7&quot;</td><td>&quot;S7&quot;</td><td>9.0</td><td>&quot;E70&quot;</td><td>&quot;IKT&quot;</td><td>&quot;IKT&quot;</td><td>1.0</td><td>0.0</td><td>1.0</td><td>&quot;OVB&quot;</td><td>&quot;02:20:00&quot;</td><td>&quot;5231&quot;</td><td>&quot;S7&quot;</td><td>&quot;S7&quot;</td><td>9.0</td><td>null</td><td>null</td><td>&hellip;</td><td>null</td><td>null</td><td>null</td><td>null</td><td>null</td><td>null</td><td>null</td><td>null</td><td>null</td><td>null</td><td>null</td><td>null</td><td>null</td><td>null</td><td>null</td><td>null</td><td>null</td><td>null</td><td>null</td><td>null</td><td>2300.0</td><td>null</td><td>1.0</td><td>3500.0</td><td>null</td><td>1.0</td><td>1.0</td><td>1</td><td>2503394</td><td>&quot;e109b50aca4a43908dd146c55733e3…</td><td>2024-05-17 04:06:51</td><td>&quot;KJAIKT&quot;</td><td>true</td><td>886.0</td><td>19706.0</td><td>0</td><td>161</td></tr><tr><td>162</td><td>true</td><td>53407</td><td>131</td><td>null</td><td>36</td><td>true</td><td>false</td><td>&quot;2024-05-24T03:10:00&quot;</td><td>&quot;2024-05-23T19:35:00&quot;</td><td>&quot;06:35:00&quot;</td><td>&quot;E70&quot;</td><td>&quot;OVB&quot;</td><td>&quot;OVB&quot;</td><td>1.0</td><td>0.0</td><td>1.0</td><td>&quot;KJA&quot;</td><td>&quot;01:25:00&quot;</td><td>&quot;5308&quot;</td><td>&quot;S7&quot;</td><td>&quot;S7&quot;</td><td>9.0</td><td>&quot;E70&quot;</td><td>&quot;IKT&quot;</td><td>&quot;IKT&quot;</td><td>1.0</td><td>0.0</td><td>1.0</td><td>&quot;OVB&quot;</td><td>&quot;02:20:00&quot;</td><td>&quot;5231&quot;</td><td>&quot;S7&quot;</td><td>&quot;S7&quot;</td><td>9.0</td><td>null</td><td>null</td><td>&hellip;</td><td>null</td><td>null</td><td>null</td><td>null</td><td>null</td><td>null</td><td>null</td><td>null</td><td>null</td><td>null</td><td>null</td><td>null</td><td>null</td><td>null</td><td>null</td><td>null</td><td>null</td><td>null</td><td>null</td><td>null</td><td>0.0</td><td>null</td><td>1.0</td><td>0.0</td><td>null</td><td>1.0</td><td>1.0</td><td>1</td><td>2503394</td><td>&quot;e109b50aca4a43908dd146c55733e3…</td><td>2024-05-17 04:06:51</td><td>&quot;KJAIKT&quot;</td><td>true</td><td>886.0</td><td>32041.0</td><td>0</td><td>162</td></tr><tr><td>163</td><td>true</td><td>53407</td><td>null</td><td>null</td><td>36</td><td>false</td><td>false</td><td>&quot;2024-05-24T03:10:00&quot;</td><td>&quot;2024-05-23T19:35:00&quot;</td><td>&quot;06:35:00&quot;</td><td>&quot;E70&quot;</td><td>&quot;OVB&quot;</td><td>&quot;OVB&quot;</td><td>1.0</td><td>0.0</td><td>1.0</td><td>&quot;KJA&quot;</td><td>&quot;01:25:00&quot;</td><td>&quot;5308&quot;</td><td>&quot;S7&quot;</td><td>&quot;S7&quot;</td><td>9.0</td><td>&quot;E70&quot;</td><td>&quot;IKT&quot;</td><td>&quot;IKT&quot;</td><td>1.0</td><td>0.0</td><td>1.0</td><td>&quot;OVB&quot;</td><td>&quot;02:20:00&quot;</td><td>&quot;5231&quot;</td><td>&quot;S7&quot;</td><td>&quot;S7&quot;</td><td>9.0</td><td>null</td><td>null</td><td>&hellip;</td><td>null</td><td>null</td><td>null</td><td>null</td><td>null</td><td>null</td><td>null</td><td>null</td><td>null</td><td>null</td><td>null</td><td>null</td><td>null</td><td>null</td><td>null</td><td>null</td><td>null</td><td>null</td><td>null</td><td>null</td><td>0.0</td><td>null</td><td>1.0</td><td>0.0</td><td>null</td><td>1.0</td><td>1.0</td><td>1</td><td>2503394</td><td>&quot;e109b50aca4a43908dd146c55733e3…</td><td>2024-05-17 04:06:51</td><td>&quot;KJAIKT&quot;</td><td>true</td><td>886.0</td><td>34026.0</td><td>0</td><td>163</td></tr></tbody></table></div>"
      ]
     },
     "execution_count": 38,
     "metadata": {},
     "output_type": "execute_result"
    }
   ],
   "execution_count": 38
  },
  {
   "metadata": {},
   "cell_type": "markdown",
   "source": [
    "### Traveler Segmentation\n",
    "\n",
    "This section will perform the traveler segmentation. The goal is to generate the groups of similar travelers based on their profile attributes and search history. We will engineer additional features to try and provide additional behavioral insights.\n",
    "\n",
    "#### Feature Engineering\n",
    "\n",
    "The first step for the traveler segmentation is feature en"
   ],
   "id": "8bb14691d0232d25"
  },
  {
   "metadata": {
    "ExecuteTime": {
     "end_time": "2025-09-23T03:54:29.565394Z",
     "start_time": "2025-09-23T03:54:29.455979Z"
    }
   },
   "cell_type": "code",
   "source": [
    "# Import libraries and functions needed for Travel Clustering\n",
    "from sklearn.cluster import DBSCAN, AgglomerativeClustering\n",
    "from sklearn.decomposition import PCA\n",
    "from sklearn.mixture import GaussianMixture\n",
    "from sklearn.metrics import silhouette_score\n",
    "from sklearn.preprocessing import RobustScaler\n",
    "\n",
    "# Import project functions\n",
    "from src.cluster_cust_data import (\n",
    "    encode_features, remove_outliers, alternative_clustering_methods, gen_optimum_num_clusters,\n",
    "    analyze_clusters, predict_cluster_with_centroids\n",
    ")\n",
    "from src.cust_feature_eng import extract_customer_features\n",
    "from src.flt_feature_eng import extract_flight_features, prepare_combined_data\n",
    "from src.ranking import train_segment_based_ranker\n",
    "from src.ranking_eval import  test_lgb_ranker, test_segment_based_ranker\n"
   ],
   "id": "5136e71e221d4bf7",
   "outputs": [],
   "execution_count": 63
  },
  {
   "metadata": {
    "ExecuteTime": {
     "end_time": "2025-09-23T00:44:55.170464Z",
     "start_time": "2025-09-23T00:44:39.194398Z"
    }
   },
   "cell_type": "code",
   "source": [
    "# 1. Feature Engineering\n",
    "cust_data = extract_customer_features(train_df)\n",
    "print(f'Generated {len(cust_data.columns)} customer features for {len(cust_data)} customers')"
   ],
   "id": "6595902c51644a2c",
   "outputs": [
    {
     "name": "stdout",
     "output_type": "stream",
     "text": [
      "Generated 58 customer features for 30152 customers\n"
     ]
    }
   ],
   "execution_count": 40
  },
  {
   "metadata": {
    "ExecuteTime": {
     "end_time": "2025-09-23T00:46:37.220126Z",
     "start_time": "2025-09-23T00:46:36.554571Z"
    }
   },
   "cell_type": "code",
   "source": [
    "# 2. Remove outliers\n",
    "cust_data_cleaned, outlier_indices = remove_outliers(cust_data, contamination=0.05)"
   ],
   "id": "13101ba26f2ecea3",
   "outputs": [
    {
     "name": "stdout",
     "output_type": "stream",
     "text": [
      "Removed 1,508 outliers (5.0%)\n"
     ]
    }
   ],
   "execution_count": 41
  },
  {
   "metadata": {
    "ExecuteTime": {
     "end_time": "2025-09-23T00:46:40.572394Z",
     "start_time": "2025-09-23T00:46:40.376616Z"
    }
   },
   "cell_type": "code",
   "source": [
    "# 3. Feature encoding\n",
    "cust_data_encoded, encoders = encode_features(cust_data_cleaned)"
   ],
   "id": "50bc13f06bd001e0",
   "outputs": [],
   "execution_count": 42
  },
  {
   "metadata": {
    "ExecuteTime": {
     "end_time": "2025-09-23T00:46:43.238316Z",
     "start_time": "2025-09-23T00:46:43.067924Z"
    }
   },
   "cell_type": "code",
   "source": [
    "# 4. Feature scaling\n",
    "scaler = RobustScaler()\n",
    "scaled_features = scaler.fit_transform(cust_data_encoded.to_pandas())"
   ],
   "id": "4da3a61a5ceedfbd",
   "outputs": [],
   "execution_count": 43
  },
  {
   "metadata": {
    "ExecuteTime": {
     "end_time": "2025-09-23T00:46:47.995062Z",
     "start_time": "2025-09-23T00:46:47.852802Z"
    }
   },
   "cell_type": "code",
   "source": [
    "# 5. Dimensionality reduction\n",
    "n_components = 0.95  # retain components that explain 95% of variance\n",
    "# n_components = 30    # retain 30 components\n",
    "\n",
    "reducer = PCA(n_components=n_components, random_state=42)\n",
    "reduced_features = reducer.fit_transform(scaled_features)\n",
    "\n",
    "if hasattr(reducer, 'explained_variance_ratio_'):\n",
    "    total_variance = reducer.explained_variance_ratio_.sum()\n",
    "    print(f\"PCA retained {total_variance:.3f} of total variance with {reduced_features.shape[1]} components\")"
   ],
   "id": "9e67d2a4f2635db5",
   "outputs": [
    {
     "name": "stdout",
     "output_type": "stream",
     "text": [
      "PCA retained 0.957 of total variance with 10 components\n"
     ]
    }
   ],
   "execution_count": 44
  },
  {
   "metadata": {},
   "cell_type": "markdown",
   "source": "Let's save the processed customer features, so that we can return to this point if needed.",
   "id": "c0e262fa77425029"
  },
  {
   "metadata": {},
   "cell_type": "markdown",
   "source": "Now we will test clustering using Gaussian Mixture Model, DBScan, and Agglomerative Clustering methods",
   "id": "564a7855290f20dd"
  },
  {
   "metadata": {
    "ExecuteTime": {
     "end_time": "2025-09-23T01:49:25.423564Z",
     "start_time": "2025-09-23T01:42:31.099280Z"
    }
   },
   "cell_type": "code",
   "source": [
    "# 6. Try alternative clustering methods\n",
    "clustering_results = alternative_clustering_methods(reduced_features)"
   ],
   "id": "ebb0b7ea7eb6fca0",
   "outputs": [
    {
     "name": "stdout",
     "output_type": "stream",
     "text": [
      "Testing Gaussian Mixture Models...\n",
      "Testing DBSCAN...\n",
      "eps: 0.70 | Clusters: 6 | Noise: 78.29% | Silhouette: 0.7726\n",
      "eps: 1.00 | Clusters: 8 | Noise: 57.63% | Silhouette: 0.4292\n",
      "eps: 1.50 | Clusters: 7 | Noise: 39.58% | Silhouette: 0.5649\n",
      "Testing Agglomerative Clustering...\n"
     ]
    }
   ],
   "execution_count": 58
  },
  {
   "metadata": {},
   "cell_type": "markdown",
   "source": "... and compare the results",
   "id": "7f42c86dc7923ecc"
  },
  {
   "metadata": {
    "ExecuteTime": {
     "end_time": "2025-09-23T01:57:21.385958Z",
     "start_time": "2025-09-23T01:57:21.247167Z"
    }
   },
   "cell_type": "code",
   "source": [
    "# Iterate through each method's results\n",
    "for method, results in clustering_results.items():\n",
    "    print(f\"{method.upper():15s} | Silhouette: {results['silhouette']:.4f} | Clusters: {results['n_clusters']:2d}\")"
   ],
   "id": "35643cfef49a4d5a",
   "outputs": [
    {
     "name": "stdout",
     "output_type": "stream",
     "text": [
      "GMM             | Silhouette: 0.3495 | Clusters: 15\n",
      "DBSCAN          | Silhouette: -0.2920 | Clusters:  6\n",
      "AGGLOMERATIVE   | Silhouette: 0.6589 | Clusters: 15\n"
     ]
    }
   ],
   "execution_count": 59
  },
  {
   "metadata": {},
   "cell_type": "markdown",
   "source": "DBSCAN didn't fare well, as the Noise ratio for all configurations that generated reasonable clusters is excessively high. Out of the three methods, Agglomerative Clustering performed the best. As such, we will optimize the hyperparameter configuration and go with that model for our unsupervised learning method.",
   "id": "9c37b1daaea61e4b"
  },
  {
   "metadata": {
    "ExecuteTime": {
     "end_time": "2025-09-23T03:41:12.261077Z",
     "start_time": "2025-09-23T02:10:38.978794Z"
    }
   },
   "cell_type": "code",
   "source": [
    "# 7. Perform hyperparameter optimization\n",
    "clustering_results = gen_optimum_num_clusters(reduced_features)\n",
    "\n",
    "# 7. Clustering results\n",
    "print(\"\\n🏆 CLUSTERING RESULTS:\")\n",
    "print(f\"  Clusters: {clustering_results['n_clusters']:2d}| Silhouette: {clustering_results['silhouette']:.4f} | \")"
   ],
   "id": "68613c41d19144f6",
   "outputs": [
    {
     "name": "stdout",
     "output_type": "stream",
     "text": [
      "Best number of clusters: 2, with Silhouette score: 0.9771\n",
      "\n",
      "🏆 CLUSTERING RESULTS:\n",
      "  Clusters:  2| Silhouette: 0.9460 | \n"
     ]
    }
   ],
   "execution_count": 62
  },
  {
   "metadata": {
    "ExecuteTime": {
     "end_time": "2025-09-23T03:54:42.598172Z",
     "start_time": "2025-09-23T03:54:42.459049Z"
    }
   },
   "cell_type": "code",
   "source": [
    "# Analyze the cluster results\n",
    "analyze_clusters(cust_data_cleaned, clustering_results['labels'])"
   ],
   "id": "904c81e497a8aee0",
   "outputs": [
    {
     "name": "stdout",
     "output_type": "stream",
     "text": [
      "\n",
      "📊 CLUSTER PROFILES:\n",
      "==================================================\n",
      "shape: (2, 7)\n",
      "┌─────────┬──────────────┬──────────┬────────────────┬───────────────┬──────────────┬───────┐\n",
      "│ cluster ┆ avg_searches ┆ vip_rate ┆ roundtrip_rate ┆ avg_lead_days ┆ avg_carriers ┆ size  │\n",
      "│ ---     ┆ ---          ┆ ---      ┆ ---            ┆ ---           ┆ ---          ┆ ---   │\n",
      "│ i64     ┆ f64          ┆ f64      ┆ f64            ┆ f64           ┆ f64          ┆ u32   │\n",
      "╞═════════╪══════════════╪══════════╪════════════════╪═══════════════╪══════════════╪═══════╡\n",
      "│ 0       ┆ 448.158268   ┆ 0.004301 ┆ 0.5611         ┆ 15.076692     ┆ 5.134699     ┆ 28597 │\n",
      "│ 1       ┆ 584.638298   ┆ 1.0      ┆ 0.699307       ┆ 13.297656     ┆ 6.531915     ┆ 47    │\n",
      "└─────────┴──────────────┴──────────┴────────────────┴───────────────┴──────────────┴───────┘\n"
     ]
    }
   ],
   "execution_count": 64
  },
  {
   "metadata": {
    "ExecuteTime": {
     "end_time": "2025-09-23T03:59:07.164542Z",
     "start_time": "2025-09-23T03:59:07.049546Z"
    }
   },
   "cell_type": "code",
   "source": [
    "# Add cluster labels to the customer data set\n",
    "cust_data_cleaned = cust_data_cleaned.with_columns(pl.Series('customer_segment', clustering_results['labels']))"
   ],
   "id": "55b94d4e209c3e32",
   "outputs": [],
   "execution_count": 65
  },
  {
   "metadata": {
    "ExecuteTime": {
     "end_time": "2025-09-23T03:59:08.065165Z",
     "start_time": "2025-09-23T03:59:07.945751Z"
    }
   },
   "cell_type": "code",
   "source": "cust_data_cleaned.group_by('customer_segment').len()",
   "id": "41fb6ea7ae850bfc",
   "outputs": [
    {
     "data": {
      "text/plain": [
       "shape: (2, 2)\n",
       "┌──────────────────┬───────┐\n",
       "│ customer_segment ┆ len   │\n",
       "│ ---              ┆ ---   │\n",
       "│ i64              ┆ u32   │\n",
       "╞══════════════════╪═══════╡\n",
       "│ 1                ┆ 47    │\n",
       "│ 0                ┆ 28597 │\n",
       "└──────────────────┴───────┘"
      ],
      "text/html": [
       "<div><style>\n",
       ".dataframe > thead > tr,\n",
       ".dataframe > tbody > tr {\n",
       "  text-align: right;\n",
       "  white-space: pre-wrap;\n",
       "}\n",
       "</style>\n",
       "<small>shape: (2, 2)</small><table border=\"1\" class=\"dataframe\"><thead><tr><th>customer_segment</th><th>len</th></tr><tr><td>i64</td><td>u32</td></tr></thead><tbody><tr><td>1</td><td>47</td></tr><tr><td>0</td><td>28597</td></tr></tbody></table></div>"
      ]
     },
     "execution_count": 66,
     "metadata": {},
     "output_type": "execute_result"
    }
   ],
   "execution_count": 66
  },
  {
   "metadata": {
    "ExecuteTime": {
     "end_time": "2025-09-23T03:59:15.586291Z",
     "start_time": "2025-09-23T03:59:15.419704Z"
    }
   },
   "cell_type": "code",
   "source": [
    "# Save customer features\n",
    "cust_data_cleaned.write_parquet('data/train_customer_features.parquet')"
   ],
   "id": "9d33f4a9dc69c94",
   "outputs": [],
   "execution_count": 67
  },
  {
   "metadata": {
    "ExecuteTime": {
     "end_time": "2025-09-23T03:59:18.523323Z",
     "start_time": "2025-09-23T03:59:18.411012Z"
    }
   },
   "cell_type": "code",
   "source": [
    "# Save the best Agglomerative model\n",
    "joblib.dump(clustering_results, 'data/agglomerative_model.joblib')\n",
    "\n",
    "# Save the data encoders/scaler/reducer\n",
    "joblib.dump({\n",
    "    'encoders': encoders,\n",
    "    'scaler': scaler,\n",
    "    'reducer': reducer\n",
    "}, 'data/data_encoders_scaler_reducer.joblib')"
   ],
   "id": "f6610cfd0e5220ac",
   "outputs": [
    {
     "data": {
      "text/plain": [
       "['data/data_encoders_scaler_reducer.joblib']"
      ]
     },
     "execution_count": 68,
     "metadata": {},
     "output_type": "execute_result"
    }
   ],
   "execution_count": 68
  },
  {
   "metadata": {
    "ExecuteTime": {
     "end_time": "2025-09-23T04:02:07.038296Z",
     "start_time": "2025-09-23T04:02:06.799374Z"
    }
   },
   "cell_type": "code",
   "source": [
    "# Remove unneeded objects to free memory\n",
    "del GaussianMixture\n",
    "del PCA\n",
    "del clustering_results\n",
    "del cust_data\n",
    "del cust_data_encoded\n",
    "del encoders\n",
    "del reduced_features\n",
    "del reducer\n",
    "del results\n",
    "del scaled_features\n",
    "del scaler\n",
    "gc.collect()"
   ],
   "id": "dbbe50639ab8c600",
   "outputs": [
    {
     "data": {
      "text/plain": [
       "490"
      ]
     },
     "execution_count": 69,
     "metadata": {},
     "output_type": "execute_result"
    }
   ],
   "execution_count": 69
  },
  {
   "metadata": {},
   "cell_type": "markdown",
   "source": [
    "### Flight Ranking\n",
    "\n",
    "#### Feature Engineering"
   ],
   "id": "7dbb7ab68a45fe99"
  },
  {
   "metadata": {
    "ExecuteTime": {
     "end_time": "2025-09-23T04:03:52.915068Z",
     "start_time": "2025-09-23T04:03:52.813037Z"
    }
   },
   "cell_type": "code",
   "source": [
    "# Load training data if not already loaded\n",
    "try:\n",
    "    train_df.head()\n",
    "except NameError:\n",
    "    train_df = pl.read_parquet('data/train_df.parquet')"
   ],
   "id": "31d8bc7bdf4aca59",
   "outputs": [],
   "execution_count": 70
  },
  {
   "metadata": {},
   "cell_type": "code",
   "outputs": [],
   "execution_count": null,
   "source": "train_df = extract_flight_features(train_df)",
   "id": "934de2df8f5e2fa8"
  },
  {
   "metadata": {},
   "cell_type": "code",
   "outputs": [],
   "execution_count": null,
   "source": "train_df.head(100)",
   "id": "855fd6b86c1a1e47"
  },
  {
   "metadata": {},
   "cell_type": "code",
   "outputs": [],
   "execution_count": null,
   "source": [
    "# Save flight features for train data\n",
    "train_df.write_parquet('data/train_flight_features.parquet')"
   ],
   "id": "fcebc43c5c5ccd0a"
  },
  {
   "metadata": {},
   "cell_type": "markdown",
   "source": "#### Prepare Training Data",
   "id": "7bc9161638d370b0"
  },
  {
   "metadata": {},
   "cell_type": "code",
   "outputs": [],
   "execution_count": null,
   "source": [
    "# Prepare training data by combining customer features with flight features\n",
    "train_df = prepare_combined_data(train_df, pl.scan_parquet('data/train_customer_features.parquet'))  # loading cust_features lazy"
   ],
   "id": "aee684e73dda26a8"
  },
  {
   "metadata": {},
   "cell_type": "code",
   "outputs": [],
   "execution_count": null,
   "source": "train_df.head(100)",
   "id": "9a34f4cc686317b"
  },
  {
   "metadata": {},
   "cell_type": "code",
   "outputs": [],
   "execution_count": null,
   "source": "train_df.shape",
   "id": "918f65d7c39bf436"
  },
  {
   "metadata": {},
   "cell_type": "code",
   "outputs": [],
   "execution_count": null,
   "source": "train_df.write_parquet('data/train_combined_features.parquet')",
   "id": "54d9f635d9ffc85f"
  },
  {
   "metadata": {},
   "cell_type": "code",
   "outputs": [],
   "execution_count": null,
   "source": "train_df.group_by('customer_segment').len().select(['customer_segment', 'len']).rows()",
   "id": "1cf4523af4507ef"
  },
  {
   "metadata": {},
   "cell_type": "code",
   "outputs": [],
   "execution_count": null,
   "source": [
    "segment_stats = (\n",
    "    train_df\n",
    "    .group_by(['customer_segment', 'ranker_id'])\n",
    "    .agg([\n",
    "        pl.first('total_searches').alias('customer_total_searches'),\n",
    "        pl.len().alias('flights_per_search')\n",
    "    ])\n",
    "    .group_by('customer_segment')\n",
    "    .agg([\n",
    "        pl.len().alias('total_searches'),                    # Count of search sessions\n",
    "        pl.col('customer_total_searches').n_unique().alias('num_customers'),  # Since each unique total_searches value represents a customer\n",
    "        pl.col('flights_per_search').min().alias('min_flights_per_search'),\n",
    "        pl.col('flights_per_search').max().alias('max_flights_per_search'),\n",
    "        pl.col('flights_per_search').mean().alias('avg_flights_per_search')\n",
    "    ])\n",
    "    .sort('customer_segment')\n",
    ")\n",
    "segment_stats"
   ],
   "id": "ee1881daf0a1786d"
  },
  {
   "metadata": {},
   "cell_type": "code",
   "outputs": [],
   "execution_count": null,
   "source": [
    "try:\n",
    "    train_df.head()\n",
    "except NameError:\n",
    "    train_df = pl.read_parquet('data/train_combined_features.parquet')\n",
    "    print(f'loaded combined features from parquet file: {train_df.shape}')"
   ],
   "id": "3d5c9b060b45a94"
  },
  {
   "metadata": {},
   "cell_type": "code",
   "outputs": [],
   "execution_count": null,
   "source": "ranker_models = train_segment_based_ranker(train_df)",
   "id": "4264a5c77cb28bcc"
  },
  {
   "metadata": {},
   "cell_type": "code",
   "outputs": [],
   "execution_count": null,
   "source": [
    "joblib.dump(ranker_models, 'data/segment_ranker_models.joblib')\n",
    "ranker_models"
   ],
   "id": "403db91171f90619"
  },
  {
   "metadata": {},
   "cell_type": "code",
   "outputs": [],
   "execution_count": null,
   "source": [
    "# Remove the feature dataframe to free up memory\n",
    "del train_df\n",
    "gc.collect()"
   ],
   "id": "5593f559192a6dd1"
  },
  {
   "metadata": {},
   "cell_type": "markdown",
   "source": "### Test Ranking",
   "id": "4d329a7742afefb3"
  },
  {
   "metadata": {},
   "cell_type": "code",
   "outputs": [],
   "execution_count": null,
   "source": [
    "# Get Test data set\n",
    "test_df = pl.read_parquet('data/test_df.parquet')\n",
    "test_df.head()"
   ],
   "id": "c525cb60da7830e9"
  },
  {
   "metadata": {},
   "cell_type": "code",
   "outputs": [],
   "execution_count": null,
   "source": [
    "# Customer Feature Engineering\n",
    "cust_data = extract_customer_features(test_df)\n",
    "print(f'Generated {len(cust_data.columns)} customer features for {len(cust_data)} customers')"
   ],
   "id": "4a49c1d9df653735"
  },
  {
   "metadata": {},
   "cell_type": "code",
   "outputs": [],
   "execution_count": null,
   "source": [
    "# Get the encoders, scaler, and reducer from the joblib file for the Train data clustering process\n",
    "data_encoders_scaler_reducer = joblib.load('data/data_encoders_scaler_reducer.joblib')\n",
    "print('loaded encoders, sclaer, reducer from joblib file')\n",
    "\n",
    "encoders = data_encoders_scaler_reducer['encoders']\n",
    "scaler = data_encoders_scaler_reducer['scaler']\n",
    "reducer = data_encoders_scaler_reducer['reducer']"
   ],
   "id": "514c4ea212730299"
  },
  {
   "metadata": {},
   "cell_type": "code",
   "outputs": [],
   "execution_count": null,
   "source": [
    "# Encode customer features\n",
    "cust_data_encoded, _ = encode_features(cust_data, encoders)"
   ],
   "id": "2e12704ba0728b54"
  },
  {
   "metadata": {},
   "cell_type": "code",
   "outputs": [],
   "execution_count": null,
   "source": [
    "# Scale customer features\n",
    "scaled_features = scaler.transform(cust_data_encoded.to_pandas())"
   ],
   "id": "d6aaa8d358b5eab6"
  },
  {
   "metadata": {},
   "cell_type": "code",
   "outputs": [],
   "execution_count": null,
   "source": [
    "# Dimensionality reduction\n",
    "reduced_features = reducer.transform(scaled_features)"
   ],
   "id": "36fda3e0357fb6de"
  },
  {
   "metadata": {},
   "cell_type": "code",
   "outputs": [],
   "execution_count": null,
   "source": [
    "# Load Agglomeratvie clustering results from Train to get model centroids\n",
    "clustering_results = joblib.load('data/agglomerative_model.joblib')\n",
    "print(f'Loaded Agglomerative Clustering results from joblib file for {clustering_results['n_clusters']} clusters')"
   ],
   "id": "852493363bb923f3"
  },
  {
   "metadata": {},
   "cell_type": "code",
   "outputs": [],
   "execution_count": null,
   "source": [
    "# Generate cluster label predictions for Test data\n",
    "cluster_segments = predict_cluster_with_centroids(reduced_features, clustering_results['centroids'])"
   ],
   "id": "1390501b75d198c9"
  },
  {
   "metadata": {},
   "cell_type": "code",
   "outputs": [],
   "execution_count": null,
   "source": [
    "# Add predicted cluster labels to the customer data\n",
    "cust_data = cust_data.with_columns(pl.Series('customer_segment', cluster_segments[0]))\n",
    "cust_data.head(1000)"
   ],
   "id": "b6ce3befe1adbddb"
  },
  {
   "metadata": {},
   "cell_type": "code",
   "outputs": [],
   "execution_count": null,
   "source": [
    "# Extract Flight Features\n",
    "test_df = extract_flight_features(test_df)"
   ],
   "id": "d55f22d8d4eb550e"
  },
  {
   "metadata": {},
   "cell_type": "code",
   "outputs": [],
   "execution_count": null,
   "source": [
    "# Combine customer and flight features data\n",
    "test_df = prepare_combined_data(test_df, cust_data)\n",
    "test_df.head(100)"
   ],
   "id": "26f0beb2c99d57a5"
  },
  {
   "metadata": {},
   "cell_type": "code",
   "outputs": [],
   "execution_count": null,
   "source": [
    "# Get models if not already loaded\n",
    "try:\n",
    "    ranker_models\n",
    "except NameError:\n",
    "    ranker_models = joblib.load('data/segment_ranker_models.joblib')"
   ],
   "id": "a801e51884b819a6"
  },
  {
   "metadata": {},
   "cell_type": "code",
   "outputs": [],
   "execution_count": null,
   "source": "results, test_df = test_segment_based_ranker(ranker_models, test_df)",
   "id": "9f738d011f71659e"
  },
  {
   "metadata": {},
   "cell_type": "code",
   "outputs": [],
   "execution_count": null,
   "source": "test_df.head(100)",
   "id": "c1bb346da3726554"
  },
  {
   "metadata": {},
   "cell_type": "code",
   "outputs": [],
   "execution_count": null,
   "source": [
    "# Evaluate overall hit rate for segmented prediction\n",
    "from src.ranking_eval import calculate_hit_rate_at_k\n",
    "\n",
    "y_true = test_df['selected'].to_numpy()\n",
    "y_pred = test_df['y_pred'].to_numpy()\n",
    "group_sizes = (\n",
    "        test_df\n",
    "        .group_by('ranker_id', maintain_order=True)\n",
    "        .len()\n",
    "        .select('len')\n",
    "        .to_numpy()\n",
    "        .flatten()\n",
    "    )\n",
    "ranker_ids = test_df['ranker_id'].unique().sort()\n",
    "hitrate, details = calculate_hit_rate_at_k(y_true, y_pred, group_sizes, ranker_ids, k=3)"
   ],
   "id": "3be4a088013c974b"
  },
  {
   "metadata": {},
   "cell_type": "code",
   "outputs": [],
   "execution_count": null,
   "source": "hitrate",
   "id": "43ab8118a784a083"
  },
  {
   "metadata": {},
   "cell_type": "code",
   "outputs": [],
   "execution_count": null,
   "source": [
    "# Test if full model is better for predicting on segments with low results scores\n",
    "_ = test_lgb_ranker(ranker_models[99], test_df.filter(pl.col('customer_segment') == 7).drop('y_pred'))"
   ],
   "id": "6a392021d0ba6e04"
  },
  {
   "metadata": {},
   "cell_type": "code",
   "outputs": [],
   "execution_count": null,
   "source": "test_df = test_df.drop('y_pred')",
   "id": "b58d79fc33ec5352"
  },
  {
   "metadata": {},
   "cell_type": "code",
   "outputs": [],
   "execution_count": null,
   "source": [
    "# Except for segment 7, all other segments performed better under the full training model\n",
    "test_results = test_lgb_ranker(ranker_models[99], test_df, k=3, min_size=10)"
   ],
   "id": "25cea20866217b15"
  },
  {
   "metadata": {},
   "cell_type": "code",
   "outputs": [],
   "execution_count": null,
   "source": [
    "# Let's compare segmented prediction vs. general model hit rates, not counting groups smaller than 10 flights\n",
    "for i in range(len(ranker_models) - 1):\n",
    "    print(f'Results for segment {i} using segment model:')\n",
    "    _ = test_lgb_ranker(ranker_models[i], test_df.filter(pl.col('customer_segment') == i), k=3, min_size=10)\n",
    "    print(f'Results for segment {i} using general model:')\n",
    "    _ = test_lgb_ranker(ranker_models[99], test_df.filter(pl.col('customer_segment') == i), k=3, min_size=10)"
   ],
   "id": "3febf2638faaf1dc"
  },
  {
   "metadata": {
    "ExecuteTime": {
     "end_time": "2025-09-19T22:11:32.941877Z",
     "start_time": "2025-09-19T22:11:32.933550Z"
    }
   },
   "cell_type": "markdown",
   "source": [
    "## Acknowledgements\n",
    "\n",
    " - [FlightRank 2025: Aeroclub RecSys Cup](https://www.kaggle.com/competitions/aeroclub-recsys-2025)\n",
    " - [IEEE-CIS Fraud Detection Data Description](https://www.kaggle.com/c/ieee-fraud-detection/discussion/101203)\n",
    " - [Vesta Corporation](https://www.vesta.io/)\n",
    "    -  provided the competition project dataset files\n",
    " - [NT Project Summary: Part 3](https://www.kaggle.com/code/mariajunior/nt-project-summary-part-3/notebook)\n",
    "    -  provided some starting parameters for evaluating LightGBM\n",
    " - [readme.so Editor](https://readme.so/editor)\n",
    "    -  a handy online README.md editor by [Katherine Oelsner](https://www.katherineoelsner.com/)"
   ],
   "id": "2fcba4268e3f6645"
  },
  {
   "metadata": {},
   "cell_type": "code",
   "outputs": [],
   "execution_count": null,
   "source": "",
   "id": "c16570e09630e64"
  }
 ],
 "metadata": {
  "kernelspec": {
   "display_name": "Python 3",
   "language": "python",
   "name": "python3"
  },
  "language_info": {
   "codemirror_mode": {
    "name": "ipython",
    "version": 2
   },
   "file_extension": ".py",
   "mimetype": "text/x-python",
   "name": "python",
   "nbconvert_exporter": "python",
   "pygments_lexer": "ipython2",
   "version": "2.7.6"
  }
 },
 "nbformat": 4,
 "nbformat_minor": 5
}
