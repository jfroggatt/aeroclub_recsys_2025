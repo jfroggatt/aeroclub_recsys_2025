{
 "cells": [
  {
   "metadata": {},
   "cell_type": "markdown",
   "source": "### Imports",
   "id": "fee1b6cd2daa8d0f"
  },
  {
   "cell_type": "code",
   "id": "initial_id",
   "metadata": {
    "collapsed": true,
    "ExecuteTime": {
     "end_time": "2025-09-01T23:39:03.565084Z",
     "start_time": "2025-09-01T23:39:03.557744Z"
    }
   },
   "source": [
    "import gc\n",
    "import re\n",
    "from typing import List, Dict, Tuple\n",
    "\n",
    "import numpy as np\n",
    "import polars as pl\n",
    "import polars.selectors as cs\n",
    "\n",
    "import joblib\n",
    "import lightgbm as lgb\n",
    "from scipy.stats import zscore\n",
    "from sklearn.cluster import AgglomerativeClustering\n",
    "from sklearn.decomposition import PCA, TruncatedSVD\n",
    "from sklearn.ensemble import IsolationForest\n",
    "from sklearn.metrics import silhouette_score, calinski_harabasz_score, davies_bouldin_score\n",
    "from sklearn.metrics.pairwise import euclidean_distances\n",
    "from sklearn.model_selection import train_test_split\n",
    "from sklearn.preprocessing import RobustScaler\n",
    "import umap"
   ],
   "outputs": [],
   "execution_count": 58
  },
  {
   "metadata": {},
   "cell_type": "markdown",
   "source": "### Get the Training Data Set",
   "id": "8d3738c2184ad5c8"
  },
  {
   "metadata": {
    "ExecuteTime": {
     "end_time": "2025-09-01T21:59:20.740917Z",
     "start_time": "2025-09-01T21:59:17.312566Z"
    }
   },
   "cell_type": "code",
   "source": [
    "# data = pl.concat([train, pl.read_parquet('/kaggle/input/aeroclub-recsys-2025/test.parquet')])\n",
    "train_df = pl.read_parquet('/kaggle/input/aeroclub-recsys-2025/train.parquet')"
   ],
   "id": "53fdb480e9d9cf87",
   "outputs": [],
   "execution_count": 2
  },
  {
   "metadata": {
    "ExecuteTime": {
     "end_time": "2025-09-01T21:59:22.023807Z",
     "start_time": "2025-09-01T21:59:22.005768Z"
    }
   },
   "cell_type": "code",
   "source": "train_df.head(1000)",
   "id": "e0b7a933478bbe02",
   "outputs": [
    {
     "data": {
      "text/plain": [
       "shape: (1_000, 127)\n",
       "┌─────┬────────┬───────────┬─────────────────┬───┬────────┬────────────┬──────────┬────────────────┐\n",
       "│ Id  ┆ bySelf ┆ companyID ┆ corporateTariff ┆ … ┆ taxes  ┆ totalPrice ┆ selected ┆ __index_level_ │\n",
       "│ --- ┆ ---    ┆ ---       ┆ Code            ┆   ┆ ---    ┆ ---        ┆ ---      ┆ 0__            │\n",
       "│ i64 ┆ bool   ┆ i64       ┆ ---             ┆   ┆ f64    ┆ f64        ┆ i64      ┆ ---            │\n",
       "│     ┆        ┆           ┆ i64             ┆   ┆        ┆            ┆          ┆ i64            │\n",
       "╞═════╪════════╪═══════════╪═════════════════╪═══╪════════╪════════════╪══════════╪════════════════╡\n",
       "│ 0   ┆ true   ┆ 57323     ┆ null            ┆ … ┆ 370.0  ┆ 16884.0    ┆ 1        ┆ 0              │\n",
       "│ 1   ┆ true   ┆ 57323     ┆ 123             ┆ … ┆ 2240.0 ┆ 51125.0    ┆ 0        ┆ 1              │\n",
       "│ 2   ┆ true   ┆ 57323     ┆ null            ┆ … ┆ 2240.0 ┆ 53695.0    ┆ 0        ┆ 2              │\n",
       "│ 3   ┆ true   ┆ 57323     ┆ 123             ┆ … ┆ 2240.0 ┆ 81880.0    ┆ 0        ┆ 3              │\n",
       "│ 4   ┆ true   ┆ 57323     ┆ null            ┆ … ┆ 2240.0 ┆ 86070.0    ┆ 0        ┆ 4              │\n",
       "│ …   ┆ …      ┆ …         ┆ …               ┆ … ┆ …      ┆ …          ┆ …        ┆ …              │\n",
       "│ 995 ┆ true   ┆ 42622     ┆ null            ┆ … ┆ 2612.0 ┆ 54837.0    ┆ 0        ┆ 995            │\n",
       "│ 996 ┆ true   ┆ 42622     ┆ 115             ┆ … ┆ 2612.0 ┆ 71662.0    ┆ 0        ┆ 996            │\n",
       "│ 997 ┆ true   ┆ 42622     ┆ null            ┆ … ┆ 2612.0 ┆ 76067.0    ┆ 0        ┆ 997            │\n",
       "│ 998 ┆ true   ┆ 42622     ┆ 115             ┆ … ┆ 2612.0 ┆ 116322.0   ┆ 0        ┆ 998            │\n",
       "│ 999 ┆ true   ┆ 42622     ┆ null            ┆ … ┆ 2612.0 ┆ 123577.0   ┆ 0        ┆ 999            │\n",
       "└─────┴────────┴───────────┴─────────────────┴───┴────────┴────────────┴──────────┴────────────────┘"
      ],
      "text/html": [
       "<div><style>\n",
       ".dataframe > thead > tr,\n",
       ".dataframe > tbody > tr {\n",
       "  text-align: right;\n",
       "  white-space: pre-wrap;\n",
       "}\n",
       "</style>\n",
       "<small>shape: (1_000, 127)</small><table border=\"1\" class=\"dataframe\"><thead><tr><th>Id</th><th>bySelf</th><th>companyID</th><th>corporateTariffCode</th><th>frequentFlyer</th><th>nationality</th><th>isAccess3D</th><th>isVip</th><th>legs0_arrivalAt</th><th>legs0_departureAt</th><th>legs0_duration</th><th>legs0_segments0_aircraft_code</th><th>legs0_segments0_arrivalTo_airport_city_iata</th><th>legs0_segments0_arrivalTo_airport_iata</th><th>legs0_segments0_baggageAllowance_quantity</th><th>legs0_segments0_baggageAllowance_weightMeasurementType</th><th>legs0_segments0_cabinClass</th><th>legs0_segments0_departureFrom_airport_iata</th><th>legs0_segments0_duration</th><th>legs0_segments0_flightNumber</th><th>legs0_segments0_marketingCarrier_code</th><th>legs0_segments0_operatingCarrier_code</th><th>legs0_segments0_seatsAvailable</th><th>legs0_segments1_aircraft_code</th><th>legs0_segments1_arrivalTo_airport_city_iata</th><th>legs0_segments1_arrivalTo_airport_iata</th><th>legs0_segments1_baggageAllowance_quantity</th><th>legs0_segments1_baggageAllowance_weightMeasurementType</th><th>legs0_segments1_cabinClass</th><th>legs0_segments1_departureFrom_airport_iata</th><th>legs0_segments1_duration</th><th>legs0_segments1_flightNumber</th><th>legs0_segments1_marketingCarrier_code</th><th>legs0_segments1_operatingCarrier_code</th><th>legs0_segments1_seatsAvailable</th><th>legs0_segments2_aircraft_code</th><th>legs0_segments2_arrivalTo_airport_city_iata</th><th>&hellip;</th><th>legs1_segments2_baggageAllowance_weightMeasurementType</th><th>legs1_segments2_cabinClass</th><th>legs1_segments2_departureFrom_airport_iata</th><th>legs1_segments2_duration</th><th>legs1_segments2_flightNumber</th><th>legs1_segments2_marketingCarrier_code</th><th>legs1_segments2_operatingCarrier_code</th><th>legs1_segments2_seatsAvailable</th><th>legs1_segments3_aircraft_code</th><th>legs1_segments3_arrivalTo_airport_city_iata</th><th>legs1_segments3_arrivalTo_airport_iata</th><th>legs1_segments3_baggageAllowance_quantity</th><th>legs1_segments3_baggageAllowance_weightMeasurementType</th><th>legs1_segments3_cabinClass</th><th>legs1_segments3_departureFrom_airport_iata</th><th>legs1_segments3_duration</th><th>legs1_segments3_flightNumber</th><th>legs1_segments3_marketingCarrier_code</th><th>legs1_segments3_operatingCarrier_code</th><th>legs1_segments3_seatsAvailable</th><th>miniRules0_monetaryAmount</th><th>miniRules0_percentage</th><th>miniRules0_statusInfos</th><th>miniRules1_monetaryAmount</th><th>miniRules1_percentage</th><th>miniRules1_statusInfos</th><th>pricingInfo_isAccessTP</th><th>pricingInfo_passengerCount</th><th>profileId</th><th>ranker_id</th><th>requestDate</th><th>searchRoute</th><th>sex</th><th>taxes</th><th>totalPrice</th><th>selected</th><th>__index_level_0__</th></tr><tr><td>i64</td><td>bool</td><td>i64</td><td>i64</td><td>str</td><td>i64</td><td>bool</td><td>bool</td><td>str</td><td>str</td><td>str</td><td>str</td><td>str</td><td>str</td><td>f64</td><td>f64</td><td>f64</td><td>str</td><td>str</td><td>str</td><td>str</td><td>str</td><td>f64</td><td>str</td><td>str</td><td>str</td><td>f64</td><td>f64</td><td>f64</td><td>str</td><td>str</td><td>str</td><td>str</td><td>str</td><td>f64</td><td>str</td><td>str</td><td>&hellip;</td><td>f64</td><td>f64</td><td>str</td><td>str</td><td>str</td><td>str</td><td>str</td><td>f64</td><td>str</td><td>str</td><td>str</td><td>f64</td><td>f64</td><td>f64</td><td>str</td><td>str</td><td>str</td><td>str</td><td>str</td><td>f64</td><td>f64</td><td>f64</td><td>f64</td><td>f64</td><td>f64</td><td>f64</td><td>f64</td><td>i64</td><td>i64</td><td>str</td><td>datetime[ns]</td><td>str</td><td>bool</td><td>f64</td><td>f64</td><td>i64</td><td>i64</td></tr></thead><tbody><tr><td>0</td><td>true</td><td>57323</td><td>null</td><td>&quot;S7/SU/UT&quot;</td><td>36</td><td>false</td><td>false</td><td>&quot;2024-06-15T16:20:00&quot;</td><td>&quot;2024-06-15T15:40:00&quot;</td><td>&quot;02:40:00&quot;</td><td>&quot;YK2&quot;</td><td>&quot;KJA&quot;</td><td>&quot;KJA&quot;</td><td>1.0</td><td>0.0</td><td>1.0</td><td>&quot;TLK&quot;</td><td>&quot;02:40:00&quot;</td><td>&quot;216&quot;</td><td>&quot;KV&quot;</td><td>&quot;KV&quot;</td><td>9.0</td><td>null</td><td>null</td><td>null</td><td>null</td><td>null</td><td>null</td><td>null</td><td>null</td><td>null</td><td>null</td><td>null</td><td>null</td><td>null</td><td>null</td><td>&hellip;</td><td>null</td><td>null</td><td>null</td><td>null</td><td>null</td><td>null</td><td>null</td><td>null</td><td>null</td><td>null</td><td>null</td><td>null</td><td>null</td><td>null</td><td>null</td><td>null</td><td>null</td><td>null</td><td>null</td><td>null</td><td>null</td><td>null</td><td>null</td><td>null</td><td>null</td><td>null</td><td>1.0</td><td>1</td><td>2087645</td><td>&quot;98ce0dabf6964640b63079fbafd42c…</td><td>2024-05-17 03:03:08</td><td>&quot;TLKKJA/KJATLK&quot;</td><td>true</td><td>370.0</td><td>16884.0</td><td>1</td><td>0</td></tr><tr><td>1</td><td>true</td><td>57323</td><td>123</td><td>&quot;S7/SU/UT&quot;</td><td>36</td><td>true</td><td>false</td><td>&quot;2024-06-15T14:50:00&quot;</td><td>&quot;2024-06-15T09:25:00&quot;</td><td>&quot;07:25:00&quot;</td><td>&quot;E70&quot;</td><td>&quot;OVB&quot;</td><td>&quot;OVB&quot;</td><td>1.0</td><td>0.0</td><td>1.0</td><td>&quot;TLK&quot;</td><td>&quot;02:50:00&quot;</td><td>&quot;5358&quot;</td><td>&quot;S7&quot;</td><td>&quot;S7&quot;</td><td>4.0</td><td>&quot;E70&quot;</td><td>&quot;KJA&quot;</td><td>&quot;KJA&quot;</td><td>1.0</td><td>0.0</td><td>1.0</td><td>&quot;OVB&quot;</td><td>&quot;01:20:00&quot;</td><td>&quot;5311&quot;</td><td>&quot;S7&quot;</td><td>&quot;S7&quot;</td><td>4.0</td><td>null</td><td>null</td><td>&hellip;</td><td>null</td><td>null</td><td>null</td><td>null</td><td>null</td><td>null</td><td>null</td><td>null</td><td>null</td><td>null</td><td>null</td><td>null</td><td>null</td><td>null</td><td>null</td><td>null</td><td>null</td><td>null</td><td>null</td><td>null</td><td>2300.0</td><td>null</td><td>1.0</td><td>3500.0</td><td>null</td><td>1.0</td><td>1.0</td><td>1</td><td>2087645</td><td>&quot;98ce0dabf6964640b63079fbafd42c…</td><td>2024-05-17 03:03:08</td><td>&quot;TLKKJA/KJATLK&quot;</td><td>true</td><td>2240.0</td><td>51125.0</td><td>0</td><td>1</td></tr><tr><td>2</td><td>true</td><td>57323</td><td>null</td><td>&quot;S7/SU/UT&quot;</td><td>36</td><td>false</td><td>false</td><td>&quot;2024-06-15T14:50:00&quot;</td><td>&quot;2024-06-15T09:25:00&quot;</td><td>&quot;07:25:00&quot;</td><td>&quot;E70&quot;</td><td>&quot;OVB&quot;</td><td>&quot;OVB&quot;</td><td>1.0</td><td>0.0</td><td>1.0</td><td>&quot;TLK&quot;</td><td>&quot;02:50:00&quot;</td><td>&quot;5358&quot;</td><td>&quot;S7&quot;</td><td>&quot;S7&quot;</td><td>4.0</td><td>&quot;E70&quot;</td><td>&quot;KJA&quot;</td><td>&quot;KJA&quot;</td><td>1.0</td><td>0.0</td><td>1.0</td><td>&quot;OVB&quot;</td><td>&quot;01:20:00&quot;</td><td>&quot;5311&quot;</td><td>&quot;S7&quot;</td><td>&quot;S7&quot;</td><td>4.0</td><td>null</td><td>null</td><td>&hellip;</td><td>null</td><td>null</td><td>null</td><td>null</td><td>null</td><td>null</td><td>null</td><td>null</td><td>null</td><td>null</td><td>null</td><td>null</td><td>null</td><td>null</td><td>null</td><td>null</td><td>null</td><td>null</td><td>null</td><td>null</td><td>2300.0</td><td>null</td><td>1.0</td><td>3500.0</td><td>null</td><td>1.0</td><td>1.0</td><td>1</td><td>2087645</td><td>&quot;98ce0dabf6964640b63079fbafd42c…</td><td>2024-05-17 03:03:08</td><td>&quot;TLKKJA/KJATLK&quot;</td><td>true</td><td>2240.0</td><td>53695.0</td><td>0</td><td>2</td></tr><tr><td>3</td><td>true</td><td>57323</td><td>123</td><td>&quot;S7/SU/UT&quot;</td><td>36</td><td>true</td><td>false</td><td>&quot;2024-06-15T14:50:00&quot;</td><td>&quot;2024-06-15T09:25:00&quot;</td><td>&quot;07:25:00&quot;</td><td>&quot;E70&quot;</td><td>&quot;OVB&quot;</td><td>&quot;OVB&quot;</td><td>1.0</td><td>0.0</td><td>1.0</td><td>&quot;TLK&quot;</td><td>&quot;02:50:00&quot;</td><td>&quot;5358&quot;</td><td>&quot;S7&quot;</td><td>&quot;S7&quot;</td><td>4.0</td><td>&quot;E70&quot;</td><td>&quot;KJA&quot;</td><td>&quot;KJA&quot;</td><td>1.0</td><td>0.0</td><td>1.0</td><td>&quot;OVB&quot;</td><td>&quot;01:20:00&quot;</td><td>&quot;5311&quot;</td><td>&quot;S7&quot;</td><td>&quot;S7&quot;</td><td>4.0</td><td>null</td><td>null</td><td>&hellip;</td><td>null</td><td>null</td><td>null</td><td>null</td><td>null</td><td>null</td><td>null</td><td>null</td><td>null</td><td>null</td><td>null</td><td>null</td><td>null</td><td>null</td><td>null</td><td>null</td><td>null</td><td>null</td><td>null</td><td>null</td><td>0.0</td><td>null</td><td>1.0</td><td>0.0</td><td>null</td><td>1.0</td><td>1.0</td><td>1</td><td>2087645</td><td>&quot;98ce0dabf6964640b63079fbafd42c…</td><td>2024-05-17 03:03:08</td><td>&quot;TLKKJA/KJATLK&quot;</td><td>true</td><td>2240.0</td><td>81880.0</td><td>0</td><td>3</td></tr><tr><td>4</td><td>true</td><td>57323</td><td>null</td><td>&quot;S7/SU/UT&quot;</td><td>36</td><td>false</td><td>false</td><td>&quot;2024-06-15T14:50:00&quot;</td><td>&quot;2024-06-15T09:25:00&quot;</td><td>&quot;07:25:00&quot;</td><td>&quot;E70&quot;</td><td>&quot;OVB&quot;</td><td>&quot;OVB&quot;</td><td>1.0</td><td>0.0</td><td>1.0</td><td>&quot;TLK&quot;</td><td>&quot;02:50:00&quot;</td><td>&quot;5358&quot;</td><td>&quot;S7&quot;</td><td>&quot;S7&quot;</td><td>4.0</td><td>&quot;E70&quot;</td><td>&quot;KJA&quot;</td><td>&quot;KJA&quot;</td><td>1.0</td><td>0.0</td><td>1.0</td><td>&quot;OVB&quot;</td><td>&quot;01:20:00&quot;</td><td>&quot;5311&quot;</td><td>&quot;S7&quot;</td><td>&quot;S7&quot;</td><td>4.0</td><td>null</td><td>null</td><td>&hellip;</td><td>null</td><td>null</td><td>null</td><td>null</td><td>null</td><td>null</td><td>null</td><td>null</td><td>null</td><td>null</td><td>null</td><td>null</td><td>null</td><td>null</td><td>null</td><td>null</td><td>null</td><td>null</td><td>null</td><td>null</td><td>0.0</td><td>null</td><td>1.0</td><td>0.0</td><td>null</td><td>1.0</td><td>1.0</td><td>1</td><td>2087645</td><td>&quot;98ce0dabf6964640b63079fbafd42c…</td><td>2024-05-17 03:03:08</td><td>&quot;TLKKJA/KJATLK&quot;</td><td>true</td><td>2240.0</td><td>86070.0</td><td>0</td><td>4</td></tr><tr><td>&hellip;</td><td>&hellip;</td><td>&hellip;</td><td>&hellip;</td><td>&hellip;</td><td>&hellip;</td><td>&hellip;</td><td>&hellip;</td><td>&hellip;</td><td>&hellip;</td><td>&hellip;</td><td>&hellip;</td><td>&hellip;</td><td>&hellip;</td><td>&hellip;</td><td>&hellip;</td><td>&hellip;</td><td>&hellip;</td><td>&hellip;</td><td>&hellip;</td><td>&hellip;</td><td>&hellip;</td><td>&hellip;</td><td>&hellip;</td><td>&hellip;</td><td>&hellip;</td><td>&hellip;</td><td>&hellip;</td><td>&hellip;</td><td>&hellip;</td><td>&hellip;</td><td>&hellip;</td><td>&hellip;</td><td>&hellip;</td><td>&hellip;</td><td>&hellip;</td><td>&hellip;</td><td>&hellip;</td><td>&hellip;</td><td>&hellip;</td><td>&hellip;</td><td>&hellip;</td><td>&hellip;</td><td>&hellip;</td><td>&hellip;</td><td>&hellip;</td><td>&hellip;</td><td>&hellip;</td><td>&hellip;</td><td>&hellip;</td><td>&hellip;</td><td>&hellip;</td><td>&hellip;</td><td>&hellip;</td><td>&hellip;</td><td>&hellip;</td><td>&hellip;</td><td>&hellip;</td><td>&hellip;</td><td>&hellip;</td><td>&hellip;</td><td>&hellip;</td><td>&hellip;</td><td>&hellip;</td><td>&hellip;</td><td>&hellip;</td><td>&hellip;</td><td>&hellip;</td><td>&hellip;</td><td>&hellip;</td><td>&hellip;</td><td>&hellip;</td><td>&hellip;</td><td>&hellip;</td><td>&hellip;</td></tr><tr><td>995</td><td>true</td><td>42622</td><td>null</td><td>null</td><td>36</td><td>false</td><td>false</td><td>&quot;2024-05-21T07:15:00&quot;</td><td>&quot;2024-05-20T17:45:00&quot;</td><td>&quot;11:30:00&quot;</td><td>&quot;32A&quot;</td><td>&quot;MOW&quot;</td><td>&quot;DME&quot;</td><td>0.0</td><td>0.0</td><td>1.0</td><td>&quot;OVB&quot;</td><td>&quot;04:20:00&quot;</td><td>&quot;2516&quot;</td><td>&quot;S7&quot;</td><td>&quot;S7&quot;</td><td>9.0</td><td>&quot;32N&quot;</td><td>&quot;HTA&quot;</td><td>&quot;HTA&quot;</td><td>0.0</td><td>0.0</td><td>1.0</td><td>&quot;DME&quot;</td><td>&quot;06:10:00&quot;</td><td>&quot;3045&quot;</td><td>&quot;S7&quot;</td><td>&quot;S7&quot;</td><td>1.0</td><td>null</td><td>null</td><td>&hellip;</td><td>null</td><td>null</td><td>null</td><td>null</td><td>null</td><td>null</td><td>null</td><td>null</td><td>null</td><td>null</td><td>null</td><td>null</td><td>null</td><td>null</td><td>null</td><td>null</td><td>null</td><td>null</td><td>null</td><td>null</td><td>4000.0</td><td>null</td><td>1.0</td><td>0.0</td><td>null</td><td>0.0</td><td>0.0</td><td>1</td><td>2812817</td><td>&quot;1e9c2a3788a74ab7b80890ef712773…</td><td>2024-05-17 06:39:30</td><td>&quot;OVBHTA/HTAOVB&quot;</td><td>true</td><td>2612.0</td><td>54837.0</td><td>0</td><td>995</td></tr><tr><td>996</td><td>true</td><td>42622</td><td>115</td><td>null</td><td>36</td><td>true</td><td>false</td><td>&quot;2024-05-21T07:15:00&quot;</td><td>&quot;2024-05-20T17:45:00&quot;</td><td>&quot;11:30:00&quot;</td><td>&quot;32A&quot;</td><td>&quot;MOW&quot;</td><td>&quot;DME&quot;</td><td>1.0</td><td>0.0</td><td>1.0</td><td>&quot;OVB&quot;</td><td>&quot;04:20:00&quot;</td><td>&quot;2516&quot;</td><td>&quot;S7&quot;</td><td>&quot;S7&quot;</td><td>9.0</td><td>&quot;32N&quot;</td><td>&quot;HTA&quot;</td><td>&quot;HTA&quot;</td><td>1.0</td><td>0.0</td><td>1.0</td><td>&quot;DME&quot;</td><td>&quot;06:10:00&quot;</td><td>&quot;3045&quot;</td><td>&quot;S7&quot;</td><td>&quot;S7&quot;</td><td>1.0</td><td>null</td><td>null</td><td>&hellip;</td><td>null</td><td>null</td><td>null</td><td>null</td><td>null</td><td>null</td><td>null</td><td>null</td><td>null</td><td>null</td><td>null</td><td>null</td><td>null</td><td>null</td><td>null</td><td>null</td><td>null</td><td>null</td><td>null</td><td>null</td><td>2300.0</td><td>null</td><td>1.0</td><td>3500.0</td><td>null</td><td>1.0</td><td>0.0</td><td>1</td><td>2812817</td><td>&quot;1e9c2a3788a74ab7b80890ef712773…</td><td>2024-05-17 06:39:30</td><td>&quot;OVBHTA/HTAOVB&quot;</td><td>true</td><td>2612.0</td><td>71662.0</td><td>0</td><td>996</td></tr><tr><td>997</td><td>true</td><td>42622</td><td>null</td><td>null</td><td>36</td><td>false</td><td>false</td><td>&quot;2024-05-21T07:15:00&quot;</td><td>&quot;2024-05-20T17:45:00&quot;</td><td>&quot;11:30:00&quot;</td><td>&quot;32A&quot;</td><td>&quot;MOW&quot;</td><td>&quot;DME&quot;</td><td>1.0</td><td>0.0</td><td>1.0</td><td>&quot;OVB&quot;</td><td>&quot;04:20:00&quot;</td><td>&quot;2516&quot;</td><td>&quot;S7&quot;</td><td>&quot;S7&quot;</td><td>9.0</td><td>&quot;32N&quot;</td><td>&quot;HTA&quot;</td><td>&quot;HTA&quot;</td><td>1.0</td><td>0.0</td><td>1.0</td><td>&quot;DME&quot;</td><td>&quot;06:10:00&quot;</td><td>&quot;3045&quot;</td><td>&quot;S7&quot;</td><td>&quot;S7&quot;</td><td>1.0</td><td>null</td><td>null</td><td>&hellip;</td><td>null</td><td>null</td><td>null</td><td>null</td><td>null</td><td>null</td><td>null</td><td>null</td><td>null</td><td>null</td><td>null</td><td>null</td><td>null</td><td>null</td><td>null</td><td>null</td><td>null</td><td>null</td><td>null</td><td>null</td><td>2300.0</td><td>null</td><td>1.0</td><td>3500.0</td><td>null</td><td>1.0</td><td>0.0</td><td>1</td><td>2812817</td><td>&quot;1e9c2a3788a74ab7b80890ef712773…</td><td>2024-05-17 06:39:30</td><td>&quot;OVBHTA/HTAOVB&quot;</td><td>true</td><td>2612.0</td><td>76067.0</td><td>0</td><td>997</td></tr><tr><td>998</td><td>true</td><td>42622</td><td>115</td><td>null</td><td>36</td><td>true</td><td>false</td><td>&quot;2024-05-21T07:15:00&quot;</td><td>&quot;2024-05-20T17:45:00&quot;</td><td>&quot;11:30:00&quot;</td><td>&quot;32A&quot;</td><td>&quot;MOW&quot;</td><td>&quot;DME&quot;</td><td>1.0</td><td>0.0</td><td>1.0</td><td>&quot;OVB&quot;</td><td>&quot;04:20:00&quot;</td><td>&quot;2516&quot;</td><td>&quot;S7&quot;</td><td>&quot;S7&quot;</td><td>9.0</td><td>&quot;32N&quot;</td><td>&quot;HTA&quot;</td><td>&quot;HTA&quot;</td><td>1.0</td><td>0.0</td><td>1.0</td><td>&quot;DME&quot;</td><td>&quot;06:10:00&quot;</td><td>&quot;3045&quot;</td><td>&quot;S7&quot;</td><td>&quot;S7&quot;</td><td>1.0</td><td>null</td><td>null</td><td>&hellip;</td><td>null</td><td>null</td><td>null</td><td>null</td><td>null</td><td>null</td><td>null</td><td>null</td><td>null</td><td>null</td><td>null</td><td>null</td><td>null</td><td>null</td><td>null</td><td>null</td><td>null</td><td>null</td><td>null</td><td>null</td><td>0.0</td><td>null</td><td>1.0</td><td>0.0</td><td>null</td><td>1.0</td><td>0.0</td><td>1</td><td>2812817</td><td>&quot;1e9c2a3788a74ab7b80890ef712773…</td><td>2024-05-17 06:39:30</td><td>&quot;OVBHTA/HTAOVB&quot;</td><td>true</td><td>2612.0</td><td>116322.0</td><td>0</td><td>998</td></tr><tr><td>999</td><td>true</td><td>42622</td><td>null</td><td>null</td><td>36</td><td>false</td><td>false</td><td>&quot;2024-05-21T07:15:00&quot;</td><td>&quot;2024-05-20T17:45:00&quot;</td><td>&quot;11:30:00&quot;</td><td>&quot;32A&quot;</td><td>&quot;MOW&quot;</td><td>&quot;DME&quot;</td><td>1.0</td><td>0.0</td><td>1.0</td><td>&quot;OVB&quot;</td><td>&quot;04:20:00&quot;</td><td>&quot;2516&quot;</td><td>&quot;S7&quot;</td><td>&quot;S7&quot;</td><td>9.0</td><td>&quot;32N&quot;</td><td>&quot;HTA&quot;</td><td>&quot;HTA&quot;</td><td>1.0</td><td>0.0</td><td>1.0</td><td>&quot;DME&quot;</td><td>&quot;06:10:00&quot;</td><td>&quot;3045&quot;</td><td>&quot;S7&quot;</td><td>&quot;S7&quot;</td><td>1.0</td><td>null</td><td>null</td><td>&hellip;</td><td>null</td><td>null</td><td>null</td><td>null</td><td>null</td><td>null</td><td>null</td><td>null</td><td>null</td><td>null</td><td>null</td><td>null</td><td>null</td><td>null</td><td>null</td><td>null</td><td>null</td><td>null</td><td>null</td><td>null</td><td>0.0</td><td>null</td><td>1.0</td><td>0.0</td><td>null</td><td>1.0</td><td>0.0</td><td>1</td><td>2812817</td><td>&quot;1e9c2a3788a74ab7b80890ef712773…</td><td>2024-05-17 06:39:30</td><td>&quot;OVBHTA/HTAOVB&quot;</td><td>true</td><td>2612.0</td><td>123577.0</td><td>0</td><td>999</td></tr></tbody></table></div>"
      ]
     },
     "execution_count": 3,
     "metadata": {},
     "output_type": "execute_result"
    }
   ],
   "execution_count": 3
  },
  {
   "metadata": {
    "ExecuteTime": {
     "end_time": "2025-09-01T21:59:24.273230Z",
     "start_time": "2025-09-01T21:59:24.268243Z"
    }
   },
   "cell_type": "code",
   "source": "train_df.shape",
   "id": "df79037042e9043e",
   "outputs": [
    {
     "data": {
      "text/plain": [
       "(18145372, 127)"
      ]
     },
     "execution_count": 4,
     "metadata": {},
     "output_type": "execute_result"
    }
   ],
   "execution_count": 4
  },
  {
   "metadata": {
    "ExecuteTime": {
     "end_time": "2025-09-01T21:59:27.518828Z",
     "start_time": "2025-09-01T21:59:27.022865Z"
    }
   },
   "cell_type": "code",
   "source": [
    "print(f\"the number of new profiles in train data is {len(train_df.select(\"profileId\").unique())}\")\n",
    "print(f'the number of searches in train data is {len(train_df.select('ranker_id').unique())}')"
   ],
   "id": "e92b1d5c59e1b5ca",
   "outputs": [
    {
     "name": "stdout",
     "output_type": "stream",
     "text": [
      "the number of new profiles in train data is 32922\n",
      "the number of searches in train data is 105539\n"
     ]
    }
   ],
   "execution_count": 5
  },
  {
   "metadata": {
    "ExecuteTime": {
     "end_time": "2025-09-01T21:59:44.120535Z",
     "start_time": "2025-09-01T21:59:29.840630Z"
    }
   },
   "cell_type": "code",
   "source": [
    "flight_counts = train_df.group_by('ranker_id').agg(pl.len().alias('flight_count'))\n",
    "\n",
    "print(f'The minimum number of searches in train data is {flight_counts['flight_count'].min()}')\n",
    "print(f'The maximum number of searches in train data is {flight_counts['flight_count'].max()}')\n",
    "\n",
    "del flight_counts\n",
    "_ = gc.collect()"
   ],
   "id": "52750287287f682a",
   "outputs": [
    {
     "name": "stdout",
     "output_type": "stream",
     "text": [
      "The minimum number of searches in train data is 1\n",
      "The maximum number of searches in train data is 8236\n"
     ]
    }
   ],
   "execution_count": 6
  },
  {
   "metadata": {},
   "cell_type": "markdown",
   "source": "### Split into Train and Test Data Sets",
   "id": "7672cedb64a71719"
  },
  {
   "metadata": {
    "ExecuteTime": {
     "end_time": "2025-09-01T22:07:22.060544Z",
     "start_time": "2025-09-01T22:07:22.049987Z"
    }
   },
   "cell_type": "code",
   "source": [
    "def stratified_flight_count_split(df, test_size=0.2, random_state=42):\n",
    "    \"\"\"\n",
    "    Stratified split based on number of flights per search (ranker_id).\n",
    "    Ensures train/test sets have similar distributions of search sizes.\n",
    "    \"\"\"\n",
    "\n",
    "    # Calculate flights per search\n",
    "    search_flight_counts = (\n",
    "        df\n",
    "        .group_by('ranker_id')\n",
    "        .agg(pl.len().alias('flight_count'))\n",
    "    )\n",
    "\n",
    "    # Create stratification bins based on your distribution\n",
    "    # Adjust these thresholds based on your specific data\n",
    "    search_flight_counts = search_flight_counts.with_columns(\n",
    "        pl.when(pl.col('flight_count') <= 50).then(pl.lit('very_small'))     # Most searches\n",
    "        .when(pl.col('flight_count') <= 200).then(pl.lit('small'))\n",
    "        .when(pl.col('flight_count') <= 500).then(pl.lit('medium'))\n",
    "        .when(pl.col('flight_count') <= 1000).then(pl.lit('large'))\n",
    "        .otherwise(pl.lit('very_large'))                                     # High-flight searches\n",
    "        .alias('size_category')\n",
    "    )\n",
    "\n",
    "    # Print distribution for verification\n",
    "    size_dist = search_flight_counts.group_by('size_category').len().sort('size_category')\n",
    "    print(\"Search size distribution:\")\n",
    "    for row in size_dist.iter_rows(named=True):\n",
    "        print(f\"  {row['size_category']}: {row['len']:,} searches\")\n",
    "\n",
    "    # Split within each size category\n",
    "    train_searches = []\n",
    "    test_searches = []\n",
    "\n",
    "    for category in ['very_small', 'small', 'medium', 'large', 'very_large']:\n",
    "        category_searches = (\n",
    "            search_flight_counts\n",
    "            .filter(pl.col('size_category') == category)\n",
    "            .select('ranker_id')\n",
    "            .to_pandas()['ranker_id'].tolist()\n",
    "        )\n",
    "\n",
    "        if len(category_searches) > 1:\n",
    "            train_cat, test_cat = train_test_split(\n",
    "                category_searches,\n",
    "                test_size=test_size,\n",
    "                random_state=random_state,\n",
    "                stratify=None  # No further stratification within category\n",
    "            )\n",
    "            train_searches.extend(train_cat)\n",
    "            test_searches.extend(test_cat)\n",
    "        elif len(category_searches) == 1:\n",
    "            # Single search goes to train\n",
    "            train_searches.extend(category_searches)\n",
    "\n",
    "    # Filter original data\n",
    "    train_data = df.filter(pl.col('ranker_id').is_in(train_searches))\n",
    "    test_data = df.filter(pl.col('ranker_id').is_in(test_searches))\n",
    "\n",
    "    # Verification: Check distribution preservation\n",
    "    print(f\"\\nSplit results:\")\n",
    "    print(f\"Train searches: {len(train_searches):,}\")\n",
    "    print(f\"Test searches: {len(test_searches):,}\")\n",
    "    print(f\"Train rows: {train_data.height:,}\")\n",
    "    print(f\"Test rows: {test_data.height:,}\")\n",
    "\n",
    "    # Verify stratification worked\n",
    "    train_size_dist = (\n",
    "        train_data\n",
    "        .group_by('ranker_id')\n",
    "        .agg(pl.len().alias('flight_count'))\n",
    "        .with_columns(\n",
    "            pl.when(pl.col('flight_count') <= 50).then(pl.lit('very_small'))\n",
    "            .when(pl.col('flight_count') <= 200).then(pl.lit('small'))\n",
    "            .when(pl.col('flight_count') <= 500).then(pl.lit('medium'))\n",
    "            .when(pl.col('flight_count') <= 1000).then(pl.lit('large'))\n",
    "            .otherwise(pl.lit('very_large'))\n",
    "            .alias('size_category')\n",
    "        )\n",
    "        .group_by('size_category')\n",
    "        .len()\n",
    "        .sort('size_category')\n",
    "    )\n",
    "\n",
    "    test_size_dist = (\n",
    "        test_data\n",
    "        .group_by('ranker_id')\n",
    "        .agg(pl.len().alias('flight_count'))\n",
    "        .with_columns(\n",
    "            pl.when(pl.col('flight_count') <= 50).then(pl.lit('very_small'))\n",
    "            .when(pl.col('flight_count') <= 200).then(pl.lit('small'))\n",
    "            .when(pl.col('flight_count') <= 500).then(pl.lit('medium'))\n",
    "            .when(pl.col('flight_count') <= 1000).then(pl.lit('large'))\n",
    "            .otherwise(pl.lit('very_large'))\n",
    "            .alias('size_category')\n",
    "        )\n",
    "        .group_by('size_category')\n",
    "        .len()\n",
    "        .sort('size_category')\n",
    "    )\n",
    "\n",
    "    print(f\"\\nTrain set distribution:\")\n",
    "    for row in train_size_dist.iter_rows(named=True):\n",
    "        print(f\"  {row['size_category']}: {row['len']:,} searches\")\n",
    "\n",
    "    print(f\"\\nTest set distribution:\")\n",
    "    for row in test_size_dist.iter_rows(named=True):\n",
    "        print(f\"  {row['size_category']}: {row['len']:,} searches\")\n",
    "\n",
    "    return train_data, test_data\n"
   ],
   "id": "7e0f4c0409b8e937",
   "outputs": [],
   "execution_count": 7
  },
  {
   "metadata": {
    "ExecuteTime": {
     "end_time": "2025-09-01T22:08:28.637398Z",
     "start_time": "2025-09-01T22:07:25.864838Z"
    }
   },
   "cell_type": "code",
   "source": "train_df, test_df = stratified_flight_count_split(train_df)",
   "id": "162b7708a81ea7a7",
   "outputs": [
    {
     "name": "stdout",
     "output_type": "stream",
     "text": [
      "Search size distribution:\n",
      "  large: 5,035 searches\n",
      "  medium: 13,896 searches\n",
      "  small: 30,360 searches\n",
      "  very_large: 3,141 searches\n",
      "  very_small: 53,107 searches\n",
      "\n",
      "Split results:\n",
      "Train searches: 84,429\n",
      "Test searches: 21,110\n",
      "Train rows: 14,567,293\n",
      "Test rows: 3,578,079\n",
      "\n",
      "Train set distribution:\n",
      "  large: 4,028 searches\n",
      "  medium: 11,116 searches\n",
      "  small: 24,288 searches\n",
      "  very_large: 2,512 searches\n",
      "  very_small: 42,485 searches\n",
      "\n",
      "Test set distribution:\n",
      "  large: 1,007 searches\n",
      "  medium: 2,780 searches\n",
      "  small: 6,072 searches\n",
      "  very_large: 629 searches\n",
      "  very_small: 10,622 searches\n"
     ]
    }
   ],
   "execution_count": 8
  },
  {
   "metadata": {
    "ExecuteTime": {
     "end_time": "2025-09-01T22:09:58.463130Z",
     "start_time": "2025-09-01T22:09:35.658280Z"
    }
   },
   "cell_type": "code",
   "source": [
    "# Save the train/test splits\n",
    "train_df.write_parquet('data/train_df.parquet')\n",
    "test_df.write_parquet('data/test_df.parquet')\n",
    "\n",
    "# Remove test data from memory\n",
    "del test_df\n",
    "gc.collect()"
   ],
   "id": "3116e5a65018ed8",
   "outputs": [
    {
     "data": {
      "text/plain": [
       "0"
      ]
     },
     "execution_count": 9,
     "metadata": {},
     "output_type": "execute_result"
    }
   ],
   "execution_count": 9
  },
  {
   "metadata": {
    "ExecuteTime": {
     "end_time": "2025-09-01T22:10:13.465236Z",
     "start_time": "2025-09-01T22:10:13.444312Z"
    }
   },
   "cell_type": "code",
   "source": [
    "# Check if train_df exists and load if not\n",
    "try:\n",
    "    train_df.head()\n",
    "except NameError:\n",
    "    train_df = pl.read_parquet('data/train_df.parquet')\n",
    "    print(f'loaded train_df: {train_df.shape}')\n",
    "\n",
    "train_df.head(100)"
   ],
   "id": "7ccedceeab9d5ebc",
   "outputs": [
    {
     "data": {
      "text/plain": [
       "shape: (100, 127)\n",
       "┌─────┬────────┬───────────┬─────────────────┬───┬───────┬────────────┬──────────┬─────────────────┐\n",
       "│ Id  ┆ bySelf ┆ companyID ┆ corporateTariff ┆ … ┆ taxes ┆ totalPrice ┆ selected ┆ __index_level_0 │\n",
       "│ --- ┆ ---    ┆ ---       ┆ Code            ┆   ┆ ---   ┆ ---        ┆ ---      ┆ __              │\n",
       "│ i64 ┆ bool   ┆ i64       ┆ ---             ┆   ┆ f64   ┆ f64        ┆ i64      ┆ ---             │\n",
       "│     ┆        ┆           ┆ i64             ┆   ┆       ┆            ┆          ┆ i64             │\n",
       "╞═════╪════════╪═══════════╪═════════════════╪═══╪═══════╪════════════╪══════════╪═════════════════╡\n",
       "│ 25  ┆ true   ┆ 57323     ┆ 123             ┆ … ┆ 444.0 ┆ 9944.0     ┆ 0        ┆ 25              │\n",
       "│ 26  ┆ true   ┆ 57323     ┆ null            ┆ … ┆ 444.0 ┆ 10444.0    ┆ 0        ┆ 26              │\n",
       "│ 27  ┆ true   ┆ 57323     ┆ 123             ┆ … ┆ 444.0 ┆ 12284.0    ┆ 0        ┆ 27              │\n",
       "│ 28  ┆ true   ┆ 57323     ┆ null            ┆ … ┆ 444.0 ┆ 12904.0    ┆ 0        ┆ 28              │\n",
       "│ 29  ┆ true   ┆ 57323     ┆ 123             ┆ … ┆ 870.0 ┆ 26335.0    ┆ 0        ┆ 29              │\n",
       "│ …   ┆ …      ┆ …         ┆ …               ┆ … ┆ …     ┆ …          ┆ …        ┆ …               │\n",
       "│ 120 ┆ true   ┆ 59096     ┆ null            ┆ … ┆ 719.0 ┆ 25239.0    ┆ 1        ┆ 120             │\n",
       "│ 121 ┆ true   ┆ 59096     ┆ null            ┆ … ┆ 719.0 ┆ 38689.0    ┆ 0        ┆ 121             │\n",
       "│ 122 ┆ true   ┆ 59096     ┆ null            ┆ … ┆ 719.0 ┆ 44174.0    ┆ 0        ┆ 122             │\n",
       "│ 123 ┆ true   ┆ 59096     ┆ null            ┆ … ┆ 719.0 ┆ 56639.0    ┆ 0        ┆ 123             │\n",
       "│ 124 ┆ true   ┆ 59096     ┆ null            ┆ … ┆ 719.0 ┆ 77919.0    ┆ 0        ┆ 124             │\n",
       "└─────┴────────┴───────────┴─────────────────┴───┴───────┴────────────┴──────────┴─────────────────┘"
      ],
      "text/html": [
       "<div><style>\n",
       ".dataframe > thead > tr,\n",
       ".dataframe > tbody > tr {\n",
       "  text-align: right;\n",
       "  white-space: pre-wrap;\n",
       "}\n",
       "</style>\n",
       "<small>shape: (100, 127)</small><table border=\"1\" class=\"dataframe\"><thead><tr><th>Id</th><th>bySelf</th><th>companyID</th><th>corporateTariffCode</th><th>frequentFlyer</th><th>nationality</th><th>isAccess3D</th><th>isVip</th><th>legs0_arrivalAt</th><th>legs0_departureAt</th><th>legs0_duration</th><th>legs0_segments0_aircraft_code</th><th>legs0_segments0_arrivalTo_airport_city_iata</th><th>legs0_segments0_arrivalTo_airport_iata</th><th>legs0_segments0_baggageAllowance_quantity</th><th>legs0_segments0_baggageAllowance_weightMeasurementType</th><th>legs0_segments0_cabinClass</th><th>legs0_segments0_departureFrom_airport_iata</th><th>legs0_segments0_duration</th><th>legs0_segments0_flightNumber</th><th>legs0_segments0_marketingCarrier_code</th><th>legs0_segments0_operatingCarrier_code</th><th>legs0_segments0_seatsAvailable</th><th>legs0_segments1_aircraft_code</th><th>legs0_segments1_arrivalTo_airport_city_iata</th><th>legs0_segments1_arrivalTo_airport_iata</th><th>legs0_segments1_baggageAllowance_quantity</th><th>legs0_segments1_baggageAllowance_weightMeasurementType</th><th>legs0_segments1_cabinClass</th><th>legs0_segments1_departureFrom_airport_iata</th><th>legs0_segments1_duration</th><th>legs0_segments1_flightNumber</th><th>legs0_segments1_marketingCarrier_code</th><th>legs0_segments1_operatingCarrier_code</th><th>legs0_segments1_seatsAvailable</th><th>legs0_segments2_aircraft_code</th><th>legs0_segments2_arrivalTo_airport_city_iata</th><th>&hellip;</th><th>legs1_segments2_baggageAllowance_weightMeasurementType</th><th>legs1_segments2_cabinClass</th><th>legs1_segments2_departureFrom_airport_iata</th><th>legs1_segments2_duration</th><th>legs1_segments2_flightNumber</th><th>legs1_segments2_marketingCarrier_code</th><th>legs1_segments2_operatingCarrier_code</th><th>legs1_segments2_seatsAvailable</th><th>legs1_segments3_aircraft_code</th><th>legs1_segments3_arrivalTo_airport_city_iata</th><th>legs1_segments3_arrivalTo_airport_iata</th><th>legs1_segments3_baggageAllowance_quantity</th><th>legs1_segments3_baggageAllowance_weightMeasurementType</th><th>legs1_segments3_cabinClass</th><th>legs1_segments3_departureFrom_airport_iata</th><th>legs1_segments3_duration</th><th>legs1_segments3_flightNumber</th><th>legs1_segments3_marketingCarrier_code</th><th>legs1_segments3_operatingCarrier_code</th><th>legs1_segments3_seatsAvailable</th><th>miniRules0_monetaryAmount</th><th>miniRules0_percentage</th><th>miniRules0_statusInfos</th><th>miniRules1_monetaryAmount</th><th>miniRules1_percentage</th><th>miniRules1_statusInfos</th><th>pricingInfo_isAccessTP</th><th>pricingInfo_passengerCount</th><th>profileId</th><th>ranker_id</th><th>requestDate</th><th>searchRoute</th><th>sex</th><th>taxes</th><th>totalPrice</th><th>selected</th><th>__index_level_0__</th></tr><tr><td>i64</td><td>bool</td><td>i64</td><td>i64</td><td>str</td><td>i64</td><td>bool</td><td>bool</td><td>str</td><td>str</td><td>str</td><td>str</td><td>str</td><td>str</td><td>f64</td><td>f64</td><td>f64</td><td>str</td><td>str</td><td>str</td><td>str</td><td>str</td><td>f64</td><td>str</td><td>str</td><td>str</td><td>f64</td><td>f64</td><td>f64</td><td>str</td><td>str</td><td>str</td><td>str</td><td>str</td><td>f64</td><td>str</td><td>str</td><td>&hellip;</td><td>f64</td><td>f64</td><td>str</td><td>str</td><td>str</td><td>str</td><td>str</td><td>f64</td><td>str</td><td>str</td><td>str</td><td>f64</td><td>f64</td><td>f64</td><td>str</td><td>str</td><td>str</td><td>str</td><td>str</td><td>f64</td><td>f64</td><td>f64</td><td>f64</td><td>f64</td><td>f64</td><td>f64</td><td>f64</td><td>i64</td><td>i64</td><td>str</td><td>datetime[ns]</td><td>str</td><td>bool</td><td>f64</td><td>f64</td><td>i64</td><td>i64</td></tr></thead><tbody><tr><td>25</td><td>true</td><td>57323</td><td>123</td><td>null</td><td>36</td><td>true</td><td>false</td><td>&quot;2024-06-15T21:35:00&quot;</td><td>&quot;2024-06-15T11:25:00&quot;</td><td>&quot;12:10:00&quot;</td><td>&quot;E70&quot;</td><td>&quot;OVB&quot;</td><td>&quot;OVB&quot;</td><td>0.0</td><td>0.0</td><td>1.0</td><td>&quot;TOF&quot;</td><td>&quot;00:50:00&quot;</td><td>&quot;5322&quot;</td><td>&quot;S7&quot;</td><td>&quot;S7&quot;</td><td>9.0</td><td>&quot;E70&quot;</td><td>&quot;NJC&quot;</td><td>&quot;NJC&quot;</td><td>0.0</td><td>0.0</td><td>1.0</td><td>&quot;OVB&quot;</td><td>&quot;01:30:00&quot;</td><td>&quot;5329&quot;</td><td>&quot;S7&quot;</td><td>&quot;S7&quot;</td><td>1.0</td><td>null</td><td>null</td><td>&hellip;</td><td>null</td><td>null</td><td>null</td><td>null</td><td>null</td><td>null</td><td>null</td><td>null</td><td>null</td><td>null</td><td>null</td><td>null</td><td>null</td><td>null</td><td>null</td><td>null</td><td>null</td><td>null</td><td>null</td><td>null</td><td>4000.0</td><td>null</td><td>1.0</td><td>0.0</td><td>null</td><td>0.0</td><td>1.0</td><td>1</td><td>2087904</td><td>&quot;905909166d934c618ad55ab7f5cea5…</td><td>2024-05-17 03:09:59</td><td>&quot;TOFNJC&quot;</td><td>true</td><td>444.0</td><td>9944.0</td><td>0</td><td>25</td></tr><tr><td>26</td><td>true</td><td>57323</td><td>null</td><td>null</td><td>36</td><td>false</td><td>false</td><td>&quot;2024-06-15T21:35:00&quot;</td><td>&quot;2024-06-15T11:25:00&quot;</td><td>&quot;12:10:00&quot;</td><td>&quot;E70&quot;</td><td>&quot;OVB&quot;</td><td>&quot;OVB&quot;</td><td>0.0</td><td>0.0</td><td>1.0</td><td>&quot;TOF&quot;</td><td>&quot;00:50:00&quot;</td><td>&quot;5322&quot;</td><td>&quot;S7&quot;</td><td>&quot;S7&quot;</td><td>9.0</td><td>&quot;E70&quot;</td><td>&quot;NJC&quot;</td><td>&quot;NJC&quot;</td><td>0.0</td><td>0.0</td><td>1.0</td><td>&quot;OVB&quot;</td><td>&quot;01:30:00&quot;</td><td>&quot;5329&quot;</td><td>&quot;S7&quot;</td><td>&quot;S7&quot;</td><td>1.0</td><td>null</td><td>null</td><td>&hellip;</td><td>null</td><td>null</td><td>null</td><td>null</td><td>null</td><td>null</td><td>null</td><td>null</td><td>null</td><td>null</td><td>null</td><td>null</td><td>null</td><td>null</td><td>null</td><td>null</td><td>null</td><td>null</td><td>null</td><td>null</td><td>4000.0</td><td>null</td><td>1.0</td><td>0.0</td><td>null</td><td>0.0</td><td>1.0</td><td>1</td><td>2087904</td><td>&quot;905909166d934c618ad55ab7f5cea5…</td><td>2024-05-17 03:09:59</td><td>&quot;TOFNJC&quot;</td><td>true</td><td>444.0</td><td>10444.0</td><td>0</td><td>26</td></tr><tr><td>27</td><td>true</td><td>57323</td><td>123</td><td>null</td><td>36</td><td>true</td><td>false</td><td>&quot;2024-06-15T21:35:00&quot;</td><td>&quot;2024-06-15T11:25:00&quot;</td><td>&quot;12:10:00&quot;</td><td>&quot;E70&quot;</td><td>&quot;OVB&quot;</td><td>&quot;OVB&quot;</td><td>1.0</td><td>0.0</td><td>1.0</td><td>&quot;TOF&quot;</td><td>&quot;00:50:00&quot;</td><td>&quot;5322&quot;</td><td>&quot;S7&quot;</td><td>&quot;S7&quot;</td><td>9.0</td><td>&quot;E70&quot;</td><td>&quot;NJC&quot;</td><td>&quot;NJC&quot;</td><td>1.0</td><td>0.0</td><td>1.0</td><td>&quot;OVB&quot;</td><td>&quot;01:30:00&quot;</td><td>&quot;5329&quot;</td><td>&quot;S7&quot;</td><td>&quot;S7&quot;</td><td>1.0</td><td>null</td><td>null</td><td>&hellip;</td><td>null</td><td>null</td><td>null</td><td>null</td><td>null</td><td>null</td><td>null</td><td>null</td><td>null</td><td>null</td><td>null</td><td>null</td><td>null</td><td>null</td><td>null</td><td>null</td><td>null</td><td>null</td><td>null</td><td>null</td><td>2300.0</td><td>null</td><td>1.0</td><td>3500.0</td><td>null</td><td>1.0</td><td>1.0</td><td>1</td><td>2087904</td><td>&quot;905909166d934c618ad55ab7f5cea5…</td><td>2024-05-17 03:09:59</td><td>&quot;TOFNJC&quot;</td><td>true</td><td>444.0</td><td>12284.0</td><td>0</td><td>27</td></tr><tr><td>28</td><td>true</td><td>57323</td><td>null</td><td>null</td><td>36</td><td>false</td><td>false</td><td>&quot;2024-06-15T21:35:00&quot;</td><td>&quot;2024-06-15T11:25:00&quot;</td><td>&quot;12:10:00&quot;</td><td>&quot;E70&quot;</td><td>&quot;OVB&quot;</td><td>&quot;OVB&quot;</td><td>1.0</td><td>0.0</td><td>1.0</td><td>&quot;TOF&quot;</td><td>&quot;00:50:00&quot;</td><td>&quot;5322&quot;</td><td>&quot;S7&quot;</td><td>&quot;S7&quot;</td><td>9.0</td><td>&quot;E70&quot;</td><td>&quot;NJC&quot;</td><td>&quot;NJC&quot;</td><td>1.0</td><td>0.0</td><td>1.0</td><td>&quot;OVB&quot;</td><td>&quot;01:30:00&quot;</td><td>&quot;5329&quot;</td><td>&quot;S7&quot;</td><td>&quot;S7&quot;</td><td>1.0</td><td>null</td><td>null</td><td>&hellip;</td><td>null</td><td>null</td><td>null</td><td>null</td><td>null</td><td>null</td><td>null</td><td>null</td><td>null</td><td>null</td><td>null</td><td>null</td><td>null</td><td>null</td><td>null</td><td>null</td><td>null</td><td>null</td><td>null</td><td>null</td><td>2300.0</td><td>null</td><td>1.0</td><td>3500.0</td><td>null</td><td>1.0</td><td>1.0</td><td>1</td><td>2087904</td><td>&quot;905909166d934c618ad55ab7f5cea5…</td><td>2024-05-17 03:09:59</td><td>&quot;TOFNJC&quot;</td><td>true</td><td>444.0</td><td>12904.0</td><td>0</td><td>28</td></tr><tr><td>29</td><td>true</td><td>57323</td><td>123</td><td>null</td><td>36</td><td>true</td><td>false</td><td>&quot;2024-06-15T21:35:00&quot;</td><td>&quot;2024-06-15T11:25:00&quot;</td><td>&quot;12:10:00&quot;</td><td>&quot;E70&quot;</td><td>&quot;OVB&quot;</td><td>&quot;OVB&quot;</td><td>1.0</td><td>0.0</td><td>1.0</td><td>&quot;TOF&quot;</td><td>&quot;00:50:00&quot;</td><td>&quot;5322&quot;</td><td>&quot;S7&quot;</td><td>&quot;S7&quot;</td><td>9.0</td><td>&quot;E70&quot;</td><td>&quot;NJC&quot;</td><td>&quot;NJC&quot;</td><td>1.0</td><td>0.0</td><td>1.0</td><td>&quot;OVB&quot;</td><td>&quot;01:30:00&quot;</td><td>&quot;5329&quot;</td><td>&quot;S7&quot;</td><td>&quot;S7&quot;</td><td>9.0</td><td>null</td><td>null</td><td>&hellip;</td><td>null</td><td>null</td><td>null</td><td>null</td><td>null</td><td>null</td><td>null</td><td>null</td><td>null</td><td>null</td><td>null</td><td>null</td><td>null</td><td>null</td><td>null</td><td>null</td><td>null</td><td>null</td><td>null</td><td>null</td><td>0.0</td><td>null</td><td>1.0</td><td>0.0</td><td>null</td><td>1.0</td><td>1.0</td><td>1</td><td>2087904</td><td>&quot;905909166d934c618ad55ab7f5cea5…</td><td>2024-05-17 03:09:59</td><td>&quot;TOFNJC&quot;</td><td>true</td><td>870.0</td><td>26335.0</td><td>0</td><td>29</td></tr><tr><td>&hellip;</td><td>&hellip;</td><td>&hellip;</td><td>&hellip;</td><td>&hellip;</td><td>&hellip;</td><td>&hellip;</td><td>&hellip;</td><td>&hellip;</td><td>&hellip;</td><td>&hellip;</td><td>&hellip;</td><td>&hellip;</td><td>&hellip;</td><td>&hellip;</td><td>&hellip;</td><td>&hellip;</td><td>&hellip;</td><td>&hellip;</td><td>&hellip;</td><td>&hellip;</td><td>&hellip;</td><td>&hellip;</td><td>&hellip;</td><td>&hellip;</td><td>&hellip;</td><td>&hellip;</td><td>&hellip;</td><td>&hellip;</td><td>&hellip;</td><td>&hellip;</td><td>&hellip;</td><td>&hellip;</td><td>&hellip;</td><td>&hellip;</td><td>&hellip;</td><td>&hellip;</td><td>&hellip;</td><td>&hellip;</td><td>&hellip;</td><td>&hellip;</td><td>&hellip;</td><td>&hellip;</td><td>&hellip;</td><td>&hellip;</td><td>&hellip;</td><td>&hellip;</td><td>&hellip;</td><td>&hellip;</td><td>&hellip;</td><td>&hellip;</td><td>&hellip;</td><td>&hellip;</td><td>&hellip;</td><td>&hellip;</td><td>&hellip;</td><td>&hellip;</td><td>&hellip;</td><td>&hellip;</td><td>&hellip;</td><td>&hellip;</td><td>&hellip;</td><td>&hellip;</td><td>&hellip;</td><td>&hellip;</td><td>&hellip;</td><td>&hellip;</td><td>&hellip;</td><td>&hellip;</td><td>&hellip;</td><td>&hellip;</td><td>&hellip;</td><td>&hellip;</td><td>&hellip;</td><td>&hellip;</td></tr><tr><td>120</td><td>true</td><td>59096</td><td>null</td><td>null</td><td>36</td><td>false</td><td>false</td><td>&quot;2024-06-28T11:40:00&quot;</td><td>&quot;2024-06-28T10:10:00&quot;</td><td>&quot;05:30:00&quot;</td><td>&quot;73H&quot;</td><td>&quot;OVB&quot;</td><td>&quot;OVB&quot;</td><td>1.0</td><td>0.0</td><td>1.0</td><td>&quot;GDX&quot;</td><td>&quot;05:30:00&quot;</td><td>&quot;5220&quot;</td><td>&quot;S7&quot;</td><td>&quot;S7&quot;</td><td>6.0</td><td>null</td><td>null</td><td>null</td><td>null</td><td>null</td><td>null</td><td>null</td><td>null</td><td>null</td><td>null</td><td>null</td><td>null</td><td>null</td><td>null</td><td>&hellip;</td><td>null</td><td>null</td><td>null</td><td>null</td><td>null</td><td>null</td><td>null</td><td>null</td><td>null</td><td>null</td><td>null</td><td>null</td><td>null</td><td>null</td><td>null</td><td>null</td><td>null</td><td>null</td><td>null</td><td>null</td><td>2300.0</td><td>null</td><td>1.0</td><td>3500.0</td><td>null</td><td>1.0</td><td>1.0</td><td>1</td><td>3380969</td><td>&quot;e0f9319a8b3048cdb1c974395e599e…</td><td>2024-05-17 04:02:26</td><td>&quot;GDXOVB&quot;</td><td>true</td><td>719.0</td><td>25239.0</td><td>1</td><td>120</td></tr><tr><td>121</td><td>true</td><td>59096</td><td>null</td><td>null</td><td>36</td><td>false</td><td>false</td><td>&quot;2024-06-28T11:40:00&quot;</td><td>&quot;2024-06-28T10:10:00&quot;</td><td>&quot;05:30:00&quot;</td><td>&quot;73H&quot;</td><td>&quot;OVB&quot;</td><td>&quot;OVB&quot;</td><td>1.0</td><td>0.0</td><td>1.0</td><td>&quot;GDX&quot;</td><td>&quot;05:30:00&quot;</td><td>&quot;5220&quot;</td><td>&quot;S7&quot;</td><td>&quot;S7&quot;</td><td>6.0</td><td>null</td><td>null</td><td>null</td><td>null</td><td>null</td><td>null</td><td>null</td><td>null</td><td>null</td><td>null</td><td>null</td><td>null</td><td>null</td><td>null</td><td>&hellip;</td><td>null</td><td>null</td><td>null</td><td>null</td><td>null</td><td>null</td><td>null</td><td>null</td><td>null</td><td>null</td><td>null</td><td>null</td><td>null</td><td>null</td><td>null</td><td>null</td><td>null</td><td>null</td><td>null</td><td>null</td><td>0.0</td><td>null</td><td>1.0</td><td>0.0</td><td>null</td><td>1.0</td><td>1.0</td><td>1</td><td>3380969</td><td>&quot;e0f9319a8b3048cdb1c974395e599e…</td><td>2024-05-17 04:02:26</td><td>&quot;GDXOVB&quot;</td><td>true</td><td>719.0</td><td>38689.0</td><td>0</td><td>121</td></tr><tr><td>122</td><td>true</td><td>59096</td><td>null</td><td>null</td><td>36</td><td>false</td><td>false</td><td>&quot;2024-06-28T11:40:00&quot;</td><td>&quot;2024-06-28T10:10:00&quot;</td><td>&quot;05:30:00&quot;</td><td>&quot;73H&quot;</td><td>&quot;OVB&quot;</td><td>&quot;OVB&quot;</td><td>1.0</td><td>0.0</td><td>2.0</td><td>&quot;GDX&quot;</td><td>&quot;05:30:00&quot;</td><td>&quot;5220&quot;</td><td>&quot;S7&quot;</td><td>&quot;S7&quot;</td><td>4.0</td><td>null</td><td>null</td><td>null</td><td>null</td><td>null</td><td>null</td><td>null</td><td>null</td><td>null</td><td>null</td><td>null</td><td>null</td><td>null</td><td>null</td><td>&hellip;</td><td>null</td><td>null</td><td>null</td><td>null</td><td>null</td><td>null</td><td>null</td><td>null</td><td>null</td><td>null</td><td>null</td><td>null</td><td>null</td><td>null</td><td>null</td><td>null</td><td>null</td><td>null</td><td>null</td><td>null</td><td>4000.0</td><td>null</td><td>1.0</td><td>0.0</td><td>null</td><td>0.0</td><td>0.0</td><td>1</td><td>3380969</td><td>&quot;e0f9319a8b3048cdb1c974395e599e…</td><td>2024-05-17 04:02:26</td><td>&quot;GDXOVB&quot;</td><td>true</td><td>719.0</td><td>44174.0</td><td>0</td><td>122</td></tr><tr><td>123</td><td>true</td><td>59096</td><td>null</td><td>null</td><td>36</td><td>false</td><td>false</td><td>&quot;2024-06-28T11:40:00&quot;</td><td>&quot;2024-06-28T10:10:00&quot;</td><td>&quot;05:30:00&quot;</td><td>&quot;73H&quot;</td><td>&quot;OVB&quot;</td><td>&quot;OVB&quot;</td><td>1.0</td><td>0.0</td><td>2.0</td><td>&quot;GDX&quot;</td><td>&quot;05:30:00&quot;</td><td>&quot;5220&quot;</td><td>&quot;S7&quot;</td><td>&quot;S7&quot;</td><td>4.0</td><td>null</td><td>null</td><td>null</td><td>null</td><td>null</td><td>null</td><td>null</td><td>null</td><td>null</td><td>null</td><td>null</td><td>null</td><td>null</td><td>null</td><td>&hellip;</td><td>null</td><td>null</td><td>null</td><td>null</td><td>null</td><td>null</td><td>null</td><td>null</td><td>null</td><td>null</td><td>null</td><td>null</td><td>null</td><td>null</td><td>null</td><td>null</td><td>null</td><td>null</td><td>null</td><td>null</td><td>2300.0</td><td>null</td><td>1.0</td><td>3500.0</td><td>null</td><td>1.0</td><td>0.0</td><td>1</td><td>3380969</td><td>&quot;e0f9319a8b3048cdb1c974395e599e…</td><td>2024-05-17 04:02:26</td><td>&quot;GDXOVB&quot;</td><td>true</td><td>719.0</td><td>56639.0</td><td>0</td><td>123</td></tr><tr><td>124</td><td>true</td><td>59096</td><td>null</td><td>null</td><td>36</td><td>false</td><td>false</td><td>&quot;2024-06-28T11:40:00&quot;</td><td>&quot;2024-06-28T10:10:00&quot;</td><td>&quot;05:30:00&quot;</td><td>&quot;73H&quot;</td><td>&quot;OVB&quot;</td><td>&quot;OVB&quot;</td><td>2.0</td><td>0.0</td><td>2.0</td><td>&quot;GDX&quot;</td><td>&quot;05:30:00&quot;</td><td>&quot;5220&quot;</td><td>&quot;S7&quot;</td><td>&quot;S7&quot;</td><td>4.0</td><td>null</td><td>null</td><td>null</td><td>null</td><td>null</td><td>null</td><td>null</td><td>null</td><td>null</td><td>null</td><td>null</td><td>null</td><td>null</td><td>null</td><td>&hellip;</td><td>null</td><td>null</td><td>null</td><td>null</td><td>null</td><td>null</td><td>null</td><td>null</td><td>null</td><td>null</td><td>null</td><td>null</td><td>null</td><td>null</td><td>null</td><td>null</td><td>null</td><td>null</td><td>null</td><td>null</td><td>0.0</td><td>null</td><td>1.0</td><td>0.0</td><td>null</td><td>1.0</td><td>0.0</td><td>1</td><td>3380969</td><td>&quot;e0f9319a8b3048cdb1c974395e599e…</td><td>2024-05-17 04:02:26</td><td>&quot;GDXOVB&quot;</td><td>true</td><td>719.0</td><td>77919.0</td><td>0</td><td>124</td></tr></tbody></table></div>"
      ]
     },
     "execution_count": 10,
     "metadata": {},
     "output_type": "execute_result"
    }
   ],
   "execution_count": 10
  },
  {
   "metadata": {},
   "cell_type": "markdown",
   "source": "### Utilities",
   "id": "b0c89c99f0e7fb36"
  },
  {
   "metadata": {
    "ExecuteTime": {
     "end_time": "2025-09-01T22:10:23.089581Z",
     "start_time": "2025-09-01T22:10:23.077763Z"
    }
   },
   "cell_type": "code",
   "source": [
    "MAJOR_HUBS = ['ATL','DXB','DFW','HND','LHR','DEN','ORD','IST','PVG','ICN','CDG', 'JFK','CLT','MEX','SFO','EWR','MIA','BKK','GRU','HKG']\n",
    "\n",
    "def camel_to_snake(name):\n",
    "    \"\"\"Convert camelCase or PascalCase to snake_case\"\"\"\n",
    "    s1 = re.sub('(.)([A-Z][a-z]+)', r'\\1_\\2', name)\n",
    "    s2 = re.sub('([a-z0-9])([A-Z])', r'\\1_\\2', s1)\n",
    "    return s2.lower()\n",
    "\n",
    "\n",
    "def convert_columns_to_snake_case(df):\n",
    "    \"\"\"Convert all column names in a polars DataFrame to snake_case\"\"\"\n",
    "    return df.rename({col: camel_to_snake(col) for col in df.columns})\n",
    "\n",
    "\n",
    "def parse_duration_to_minutes(duration_col: str) -> pl.Expr:\n",
    "    \"\"\"Parse duration string to minutes (handles format like '2.04:20' - D.HH:MM).\"\"\"\n",
    "    return (\n",
    "        pl.when(pl.col(duration_col).is_not_null() & (pl.col(duration_col) != \"\"))\n",
    "        .then(\n",
    "            pl.when(pl.col(duration_col).str.contains(r'\\.'))\n",
    "            .then(\n",
    "                # Format: D.HH:MM:SS (e.g., \"1.00:30:00\", \"2.09:45:00\")\n",
    "                pl.col(duration_col).str.extract(r'^(\\d+)\\.(\\d{2}):(\\d{2}):(\\d{2})$', 1).cast(pl.Int32, strict=False).fill_null(0) * 1440 +  # Days\n",
    "                pl.col(duration_col).str.extract(r'^(\\d+)\\.(\\d{2}):(\\d{2}):(\\d{2})$', 2).cast(pl.Int32, strict=False).fill_null(0) * 60 +   # Hours\n",
    "                pl.col(duration_col).str.extract(r'^(\\d+)\\.(\\d{2}):(\\d{2}):(\\d{2})$', 3).cast(pl.Int32, strict=False).fill_null(0) +        # Minutes\n",
    "                (pl.col(duration_col).str.extract(r'^(\\d+)\\.(\\d{2}):(\\d{2}):(\\d{2})$', 4).cast(pl.Int32, strict=False).fill_null(0) / 60).round(0).cast(pl.Int32, strict=False)  # Seconds\n",
    "            )\n",
    "            .otherwise(\n",
    "                # Format: HH:MM:SS (e.g., \"07:25:00\", \"17:55:00\")\n",
    "                pl.col(duration_col).str.extract(r'^(\\d{2}):(\\d{2}):(\\d{2})$', 1).cast(pl.Int32, strict=False).fill_null(0) * 60 +   # Hours\n",
    "                pl.col(duration_col).str.extract(r'^(\\d{2}):(\\d{2}):(\\d{2})$', 2).cast(pl.Int32, strict=False).fill_null(0) +        # Minutes\n",
    "                (pl.col(duration_col).str.extract(r'^(\\d{2}):(\\d{2}):(\\d{2})$', 3).cast(pl.Int32, strict=False).fill_null(0) / 60).round(0).cast(pl.Int32, strict=False)  # Seconds\n",
    "            )\n",
    "        )\n",
    "        .otherwise(0)\n",
    "    )"
   ],
   "id": "8bf30151412e2a94",
   "outputs": [],
   "execution_count": 11
  },
  {
   "metadata": {},
   "cell_type": "markdown",
   "source": "### Engineer Customer Features",
   "id": "a806b9bf6beed247"
  },
  {
   "metadata": {
    "ExecuteTime": {
     "end_time": "2025-09-01T22:10:31.191740Z",
     "start_time": "2025-09-01T22:10:31.159701Z"
    }
   },
   "cell_type": "code",
   "source": [
    "# Customer attributes for clustering analysis\n",
    "\n",
    "def create_customer_aggregation_features() -> List[pl.Expr]:\n",
    "    \"\"\"Create customer aggregation expressions for basic attributes and search behavior.\"\"\"\n",
    "    return [\n",
    "        # Basic customer attributes (take first non-null value per customer)\n",
    "        pl.col('companyID').drop_nulls().first().alias('company_id'),\n",
    "        pl.col('sex').drop_nulls().first().cast(pl.Int8).alias('sex'),\n",
    "        pl.col('nationality').drop_nulls().first().alias('nationality'),\n",
    "        pl.col('frequentFlyer').drop_nulls().first().str.replace('- ЮТэйр ЗАО', 'UT').fill_null('').alias('frequent_flyer'),\n",
    "        pl.col('isVip').drop_nulls().first().cast(pl.Int8).alias('is_vip'),\n",
    "        pl.col('bySelf').drop_nulls().first().cast(pl.Int8).alias('by_self'),\n",
    "        pl.col('corporateTariffCode').is_not_null().cast(pl.Int8).max().alias('has_corp_codes'),\n",
    "\n",
    "        # Search behavior metrics\n",
    "        pl.len().alias('total_searches'),\n",
    "        pl.col('legs1_departureAt').is_not_null().mean().alias('roundtrip_preference'),\n",
    "        pl.col('searchRoute').drop_nulls().n_unique().alias('unique_routes_searched'),\n",
    "    ]\n",
    "\n",
    "\n",
    "def create_booking_lead_time_features() -> List[pl.Expr]:\n",
    "    \"\"\"Create booking lead time statistics.\"\"\"\n",
    "    # Calculate booking lead time in days\n",
    "    booking_lead_expr = (\n",
    "        (pl.col('legs0_departureAt').str.to_datetime() -\n",
    "         pl.col('requestDate').cast(pl.Datetime)) / pl.duration(days=1)\n",
    "    ).cast(pl.Int32)\n",
    "\n",
    "    return [\n",
    "        booking_lead_expr.min().alias('min_booking_lead_days'),\n",
    "        booking_lead_expr.max().alias('max_booking_lead_days'),\n",
    "        booking_lead_expr.mean().alias('avg_booking_lead_days'),\n",
    "        booking_lead_expr.median().alias('median_booking_lead_days'),\n",
    "    ]\n",
    "\n",
    "\n",
    "def create_travel_preference_features() -> List[pl.Expr]:\n",
    "    \"\"\"Create travel preference features for most common airports and carriers.\"\"\"\n",
    "    return [\n",
    "        # Most common departure airport\n",
    "        pl.col('legs0_segments0_departureFrom_airport_iata').drop_nulls().mode().first().alias('most_common_departure_airport'),\n",
    "        pl.col('legs0_segments0_departureFrom_airport_iata').drop_nulls().n_unique().alias('unique_departure_airports'),\n",
    "\n",
    "        # Most common marketing carrier\n",
    "        pl.col('legs0_segments0_marketingCarrier_code').drop_nulls().mode().first().alias('most_common_carrier'),\n",
    "        pl.col('legs0_segments0_marketingCarrier_code').drop_nulls().n_unique().alias('unique_carriers_used'),\n",
    "    ]\n",
    "\n",
    "\n",
    "def create_cabin_class_features(cabin_class_cols: List[str]) -> List[pl.Expr]:\n",
    "    \"\"\"Create cabin class preference statistics.\"\"\"\n",
    "    if not cabin_class_cols:\n",
    "        # Return default values if no cabin class columns found\n",
    "        return [\n",
    "            pl.lit(None).alias('min_cabin_class'),\n",
    "            pl.lit(None).alias('max_cabin_class'),\n",
    "            pl.lit(None).alias('avg_cabin_class'),\n",
    "        ]\n",
    "\n",
    "    return [\n",
    "        # Cabin class statistics across all segments\n",
    "        pl.min_horizontal([pl.col(col) for col in cabin_class_cols]).min().alias('min_cabin_class'),\n",
    "        pl.max_horizontal([pl.col(col) for col in cabin_class_cols]).max().alias('max_cabin_class'),\n",
    "        pl.mean_horizontal([pl.col(col) for col in cabin_class_cols]).mean().alias('avg_cabin_class'),\n",
    "    ]\n",
    "\n",
    "\n",
    "def create_temporal_preference_features() -> List[pl.Expr]:\n",
    "    \"\"\"Create temporal preference features for departure patterns.\"\"\"\n",
    "    return [\n",
    "        # Weekday preference (most common day of week for departures)\n",
    "        pl.col('legs0_departureAt').str.to_datetime().dt.weekday()\n",
    "          .mode().first().alias('weekday_preference'),\n",
    "\n",
    "        # Weekend travel rate (percentage of weekend departures - 5=Sat, 6=Sun)\n",
    "        pl.col('legs0_departureAt').str.to_datetime().dt.weekday()\n",
    "          .map_elements(lambda x: 1 if x >= 5 else 0, return_dtype=pl.Int8)\n",
    "          .mean().alias('weekend_travel_rate'),\n",
    "\n",
    "        # Time of day variance (how consistent are their departure times)\n",
    "        pl.col('legs0_departureAt').str.to_datetime().dt.hour()\n",
    "          .std().alias('time_of_day_variance'),\n",
    "\n",
    "        # Night flight preference (flights departing 22:00-06:00)\n",
    "        pl.col('legs0_departureAt').str.to_datetime().dt.hour()\n",
    "          .map_elements(lambda x: 1 if (x >= 22 or x < 6) else 0, return_dtype=pl.Int8)\n",
    "          .mean().alias('night_flight_preference')\n",
    "    ]\n",
    "\n",
    "\n",
    "def create_route_specific_features() -> List[pl.Expr]:\n",
    "    \"\"\"Create features related to route preferences and characteristics.\"\"\"\n",
    "    return [\n",
    "        # Route loyalty\n",
    "        (1 - (pl.col('searchRoute').n_unique() / pl.len().clip(1, None))).alias('route_loyalty'),\n",
    "\n",
    "        # Hub preference (preference for major hub airports)\n",
    "        (\n",
    "            pl.col('legs0_segments0_departureFrom_airport_iata').is_in(MAJOR_HUBS) |\n",
    "            pl.col('legs0_segments0_arrivalTo_airport_iata').is_in(MAJOR_HUBS)\n",
    "        ).cast(pl.Int8).mean().alias('hub_preference'),\n",
    "\n",
    "        # Short haul preference\n",
    "        ((1 - (pl.col('leg0_duration_minutes').mean() / 180)) * 0.7 +\n",
    "         pl.when(pl.col('leg0_duration_minutes') <= 180).then(1).otherwise(0).mean() * 0.3)\n",
    "        .clip(0, 1).alias('short_haul_preference'),\n",
    "\n",
    "        # Connection tolerance (average segments)\n",
    "        pl.sum_horizontal([\n",
    "            pl.col(f'legs0_segments{i}_departureFrom_airport_iata').is_not_null().cast(pl.Int8)\n",
    "            for i in range(4)  # assuming max 4 segments\n",
    "        ]).mean().alias('connection_tolerance'),\n",
    "\n",
    "        # Preference for longer vs shorter flights (duration quartile preference)\n",
    "        pl.when(pl.col('leg0_duration_minutes') <= pl.col('leg0_duration_q25'))\n",
    "        .then(1)  # Short flights\n",
    "        .when(pl.col('leg0_duration_minutes') <= pl.col('leg0_duration_q50'))\n",
    "        .then(2)  # Medium-short flights\n",
    "        .when(pl.col('leg0_duration_minutes') <= pl.col('leg0_duration_q75'))\n",
    "        .then(3)  # Medium-long flights\n",
    "        .otherwise(4)  # Long flights\n",
    "        .mode().first().alias('preferred_duration_quartile')\n",
    "    ]\n",
    "\n",
    "\n",
    "def create_price_sensitivity_features() -> List[pl.Expr]:\n",
    "    \"\"\"Create features related to price sensitivity and patterns.\"\"\"\n",
    "    return [\n",
    "        # Basic correlation between price and duration\n",
    "        pl.corr(\n",
    "            pl.col('totalPrice'),\n",
    "            pl.col('trip_duration_minutes')\n",
    "        ).fill_null(0).alias('price_to_duration_sensitivity'),\n",
    "\n",
    "        # Price per minute metric (average across all flights)\n",
    "        (pl.col('totalPrice') / pl.col('trip_duration_minutes').clip(1, None)).mean().alias('avg_price_per_minute'),\n",
    "\n",
    "        # Consistency of price-per-minute (lower std = more consistent valuation)\n",
    "        (pl.col('totalPrice') / pl.col('trip_duration_minutes').clip(1, None)).std().fill_null(0).alias('price_per_minute_variance'),\n",
    "\n",
    "        # Price position within searches (percentile rank)\n",
    "        pl.col('price_percentile').mean().alias('price_position_preference'),\n",
    "\n",
    "        # Premium economy preference (assuming cabin class 2 is premium economy)\n",
    "        pl.mean_horizontal([\n",
    "            pl.col(f'legs0_segments{i}_cabinClass') == 2\n",
    "            for i in range(4)\n",
    "        ]).mean().alias('premium_economy_preference'),\n",
    "\n",
    "        # Consistent price tier\n",
    "        (1 - (\n",
    "            pl.when(pl.col('totalPrice') <= pl.col('price_q25'))\n",
    "            .then(1)  # Budget tier\n",
    "            .when(pl.col('totalPrice') <= pl.col('price_q50'))\n",
    "            .then(2)  # Economy tier\n",
    "            .when(pl.col('totalPrice') <= pl.col('price_q75'))\n",
    "            .then(3)  # Premium tier\n",
    "            .otherwise(4)  # Luxury tier\n",
    "            .std()\n",
    "            .fill_null(0)  # Handle null case\n",
    "            / 3\n",
    "        ).clip(0, 1)).alias('consistent_price_tier'),\n",
    "\n",
    "        # Most common price tier\n",
    "        pl.when(pl.col('totalPrice') <= pl.col('price_q25'))\n",
    "        .then(1)  # Budget tier\n",
    "        .when(pl.col('totalPrice') <= pl.col('price_q50'))\n",
    "        .then(2)  # Economy tier\n",
    "        .when(pl.col('totalPrice') <= pl.col('price_q75'))\n",
    "        .then(3)  # Premium tier\n",
    "        .otherwise(4)  # Luxury tier\n",
    "        .mode().first().alias('preferred_price_tier'),\n",
    "    ]\n",
    "\n",
    "\n",
    "def create_service_preference_features() -> List[pl.Expr]:\n",
    "    \"\"\"Create features related to service preferences.\"\"\"\n",
    "    # First get all the relevant column names for type and quantity\n",
    "    type_cols = [\n",
    "        f'legs{leg}_segments{seg}_baggageAllowance_weightMeasurementType'\n",
    "        for leg in range(2) for seg in range(4)\n",
    "    ]\n",
    "    qty_cols = [\n",
    "        f'legs{leg}_segments{seg}_baggageAllowance_quantity'\n",
    "        for leg in range(2) for seg in range(4)\n",
    "    ]\n",
    "\n",
    "    return [\n",
    "        # Baggage quantity preference (average of minimum bags allowed per flight option)\n",
    "        pl.min_horizontal([\n",
    "            pl.when(pl.col(type_col) == 0)\n",
    "            .then(pl.col(qty_col))\n",
    "            .otherwise(pl.lit(None))\n",
    "            for type_col, qty_col in zip(type_cols, qty_cols)\n",
    "        ]).mean().fill_null(0).alias('baggage_qty_preference'),\n",
    "\n",
    "        # Baggage weight preference (average of minimum weight allowed per flight option)\n",
    "        pl.min_horizontal([\n",
    "            pl.when(pl.col(type_col) == 1)\n",
    "            .then(pl.col(qty_col))\n",
    "            .otherwise(pl.lit(None))\n",
    "            for type_col, qty_col in zip(type_cols, qty_cols)\n",
    "        ]).mean().fill_null(0).fill_nan(0).alias('baggage_weight_preference'),\n",
    "\n",
    "        # Loyalty program utilization\n",
    "        pl.col('frequentFlyer').is_not_null().mean().alias('loyalty_program_utilization')\n",
    "    ]\n",
    "\n",
    "\n",
    "def create_derived_metrics() -> List[pl.Expr]:\n",
    "    \"\"\"Create complex derived metrics from combinations of features.\"\"\"\n",
    "    return [\n",
    "        # Convenience priority score (higher = more emphasis on convenient times)\n",
    "        ((1 - pl.col('time_of_day_variance')) * 10 +\n",
    "         pl.col('price_to_duration_sensitivity') * 5)\n",
    "        .alias('convenience_priority_score'),\n",
    "\n",
    "        # Loyalty vs price index (higher = more loyal, less price sensitive)\n",
    "        (pl.col('loyalty_program_utilization') * 10 -\n",
    "         pl.col('price_position_preference') / 10)\n",
    "        .alias('loyalty_vs_price_index'),\n",
    "\n",
    "        # Planning consistency score (inverse of lead time variance)\n",
    "        (1 / (pl.col('max_booking_lead_days') - pl.col('min_booking_lead_days') + 1))\n",
    "        .alias('planning_consistency_score'),\n",
    "\n",
    "        # Luxury index (combination of cabin class and price tier)\n",
    "        (pl.col('avg_cabin_class') * 20 +\n",
    "         pl.col('price_position_preference') / 2)\n",
    "        .alias('luxury_index'),\n",
    "\n",
    "        # Create advanced features\n",
    "        (pl.col('total_searches') / pl.col('unique_routes_searched').clip(1)).alias('search_intensity_per_route'),\n",
    "        (pl.col('max_booking_lead_days') - pl.col('min_booking_lead_days')).alias('lead_time_variance'),\n",
    "        (pl.col('avg_booking_lead_days') / pl.col('median_booking_lead_days').clip(1)).alias('lead_time_skew'),\n",
    "        (pl.col('unique_carriers_used') / pl.col('total_searches').clip(1)).alias('carrier_diversity'),\n",
    "        (pl.col('unique_departure_airports') / pl.col('total_searches').clip(1)).alias('airport_diversity'),\n",
    "        (pl.col('max_cabin_class') - pl.col('min_cabin_class')).alias('cabin_class_range'),\n",
    "        (pl.col('is_vip').cast(pl.Int8) * 2 + pl.col('has_corp_codes').is_not_null().cast(pl.Int8)).alias('customer_tier'),\n",
    "    ]\n",
    "\n",
    "\n",
    "def add_trip_duration(df: pl.DataFrame) -> pl.DataFrame:\n",
    "    \"\"\"Add trip duration to the DataFrame.\"\"\"\n",
    "    leg0_duration_minutes = parse_duration_to_minutes('legs0_duration')\n",
    "    leg1_duration_minutes = parse_duration_to_minutes('legs1_duration')\n",
    "    trip_duration_minutes = leg0_duration_minutes + leg1_duration_minutes\n",
    "\n",
    "    return df.with_columns([\n",
    "        leg0_duration_minutes.alias('leg0_duration_minutes'),\n",
    "        leg1_duration_minutes.alias('leg1_duration_minutes'),\n",
    "        trip_duration_minutes.alias('trip_duration_minutes'),\n",
    "    ])\n",
    "\n",
    "\n",
    "def create_windows_based_features(df) -> pl.DataFrame:\n",
    "    # Add window-based features like price_percentile if they don't exist\n",
    "    return (df.with_columns([\n",
    "        # calculate price percentile over search session\n",
    "        ((pl.col('totalPrice').rank(method='min').over('ranker_id') - 1) /\n",
    "        (pl.col('totalPrice').count().over('ranker_id') - 1) * 100)\n",
    "        .fill_null(50.0).alias('price_percentile'),\n",
    "\n",
    "        # calculate price quartiles over profileId\n",
    "        pl.col('totalPrice').quantile(0.25).over('profileId').alias('price_q25'),\n",
    "        pl.col('totalPrice').quantile(0.50).over('profileId').alias('price_q50'),\n",
    "        pl.col('totalPrice').quantile(0.75).over('profileId').alias('price_q75'),\n",
    "\n",
    "        # calculate leg0_duration quartiles over profileId\n",
    "        pl.col('leg0_duration_minutes').quantile(0.25).over('profileId').alias('leg0_duration_q25'),\n",
    "        pl.col('leg0_duration_minutes').quantile(0.50).over('profileId').alias('leg0_duration_q50'),\n",
    "        pl.col('leg0_duration_minutes').quantile(0.75).over('profileId').alias('leg0_duration_q75'),\n",
    "    ]))\n",
    "\n",
    "\n",
    "def create_interaction_features() -> List[pl.Expr]:\n",
    "    # Create customer/business interaction features\n",
    "    return [\n",
    "        # Create VIP interactions\n",
    "        (pl.col('search_intensity_per_route') * pl.col('is_vip')).alias('vip_search_intensity'),\n",
    "        (pl.col('carrier_diversity') * pl.col('is_vip')).alias('vip_carrier_diversity'),\n",
    "        (pl.col('avg_cabin_class') * pl.col('is_vip')).alias('vip_cabin_preference'),\n",
    "\n",
    "        # Create corporate interactions\n",
    "        (pl.col('total_searches') * pl.col('has_corp_codes')).alias('corp_search_volume'),\n",
    "        (pl.col('roundtrip_preference') * pl.col('has_corp_codes')).alias('corp_roundtrip_pref'),\n",
    "        (pl.col('lead_time_variance') * pl.col('has_corp_codes')).alias('corp_planning_variance'),\n",
    "    ]\n",
    "\n",
    "def extract_customer_features(df: pl.DataFrame) -> pl.DataFrame:\n",
    "    \"\"\"\n",
    "    Extract customer features for clustering analysis.\n",
    "    Aggregates by profileId to create customer-level features.\n",
    "    \"\"\"\n",
    "    # Check if already processed\n",
    "    if df.height > 0 and 'total_searches' in df.columns:\n",
    "        return df\n",
    "\n",
    "    # Get cabin class columns\n",
    "    cabin_class_cols = [col for col in df.columns if col.startswith('legs') and col.endswith('_cabinClass')]\n",
    "\n",
    "    # Create lazy frame and group by profileId\n",
    "    lazy_df = create_windows_based_features(add_trip_duration(df)).lazy().group_by('profileId')\n",
    "\n",
    "    # Apply customer feature groups\n",
    "    lazy_df = lazy_df.agg([\n",
    "        *create_customer_aggregation_features(),\n",
    "        *create_booking_lead_time_features(),\n",
    "        *create_travel_preference_features(),\n",
    "        *create_cabin_class_features(cabin_class_cols),\n",
    "        *create_temporal_preference_features(),\n",
    "        *create_route_specific_features(),\n",
    "        *create_price_sensitivity_features(),\n",
    "        *create_service_preference_features()\n",
    "    ])\n",
    "\n",
    "    # Materialize to generate the basic features\n",
    "    # base_features = customer_features.collect()\n",
    "\n",
    "    # Add the derived metrics that depend on the generated features\n",
    "    lazy_df = lazy_df.with_columns(create_derived_metrics())\n",
    "\n",
    "    # Add interactive features\n",
    "    lazy_df = lazy_df.with_columns(create_interaction_features())\n",
    "\n",
    "    # print(f\"Generated {len(enhanced_features.columns)} customer features for {len(enhanced_features)} customers\")\n",
    "    return lazy_df.collect().fill_null(0).fill_nan(0)"
   ],
   "id": "e03ccbc10cb46941",
   "outputs": [],
   "execution_count": 12
  },
  {
   "metadata": {
    "ExecuteTime": {
     "end_time": "2025-09-01T22:10:49.781208Z",
     "start_time": "2025-09-01T22:10:36.619129Z"
    }
   },
   "cell_type": "code",
   "source": [
    "# 1. Feature Engineering\n",
    "cust_data = extract_customer_features(train_df)\n",
    "print(f'Generated {len(cust_data.columns)} customer features for {len(cust_data)} customers')"
   ],
   "id": "8965d9b2e68d1b2e",
   "outputs": [
    {
     "name": "stdout",
     "output_type": "stream",
     "text": [
      "Generated 58 customer features for 30134 customers\n"
     ]
    }
   ],
   "execution_count": 13
  },
  {
   "metadata": {
    "ExecuteTime": {
     "end_time": "2025-09-01T22:11:19.445643Z",
     "start_time": "2025-09-01T22:11:19.431698Z"
    }
   },
   "cell_type": "code",
   "source": "cust_data.head(100)",
   "id": "5076d039d8291db",
   "outputs": [
    {
     "data": {
      "text/plain": [
       "shape: (100, 58)\n",
       "┌───────────┬────────────┬─────┬────────────┬───┬────────────┬────────────┬────────────┬───────────┐\n",
       "│ profileId ┆ company_id ┆ sex ┆ nationalit ┆ … ┆ vip_cabin_ ┆ corp_searc ┆ corp_round ┆ corp_plan │\n",
       "│ ---       ┆ ---        ┆ --- ┆ y          ┆   ┆ preference ┆ h_volume   ┆ trip_pref  ┆ ning_vari │\n",
       "│ i64       ┆ i64        ┆ i8  ┆ ---        ┆   ┆ ---        ┆ ---        ┆ ---        ┆ ance      │\n",
       "│           ┆            ┆     ┆ i64        ┆   ┆ f64        ┆ i64        ┆ f64        ┆ ---       │\n",
       "│           ┆            ┆     ┆            ┆   ┆            ┆            ┆            ┆ i32       │\n",
       "╞═══════════╪════════════╪═════╪════════════╪═══╪════════════╪════════════╪════════════╪═══════════╡\n",
       "│ 3113429   ┆ 59946      ┆ 1   ┆ 36         ┆ … ┆ 0.0        ┆ 0          ┆ 0.0        ┆ 0         │\n",
       "│ 3549259   ┆ 57320      ┆ 1   ┆ 36         ┆ … ┆ 0.0        ┆ 33         ┆ 0.0        ┆ 1         │\n",
       "│ 1119689   ┆ 27507      ┆ 1   ┆ 36         ┆ … ┆ 0.0        ┆ 10         ┆ 0.0        ┆ 1         │\n",
       "│ 3548342   ┆ 63016      ┆ 1   ┆ 36         ┆ … ┆ 0.0        ┆ 0          ┆ 0.0        ┆ 0         │\n",
       "│ 495090    ┆ 45562      ┆ 1   ┆ 36         ┆ … ┆ 0.0        ┆ 471        ┆ 0.774947   ┆ 12        │\n",
       "│ …         ┆ …          ┆ …   ┆ …          ┆ … ┆ …          ┆ …          ┆ …          ┆ …         │\n",
       "│ 2370715   ┆ 57323      ┆ 1   ┆ 36         ┆ … ┆ 0.0        ┆ 181        ┆ 0.0        ┆ 2         │\n",
       "│ 3412414   ┆ 42174      ┆ 1   ┆ 36         ┆ … ┆ 0.0        ┆ 51         ┆ 0.196078   ┆ 14        │\n",
       "│ 3547026   ┆ 62262      ┆ 1   ┆ 36         ┆ … ┆ 0.0        ┆ 0          ┆ 0.0        ┆ 0         │\n",
       "│ 1237003   ┆ 25312      ┆ 0   ┆ 36         ┆ … ┆ 0.0        ┆ 12         ┆ 1.0        ┆ 0         │\n",
       "│ 2001335   ┆ 42620      ┆ 0   ┆ 36         ┆ … ┆ 0.0        ┆ 51         ┆ 0.0        ┆ 3         │\n",
       "└───────────┴────────────┴─────┴────────────┴───┴────────────┴────────────┴────────────┴───────────┘"
      ],
      "text/html": [
       "<div><style>\n",
       ".dataframe > thead > tr,\n",
       ".dataframe > tbody > tr {\n",
       "  text-align: right;\n",
       "  white-space: pre-wrap;\n",
       "}\n",
       "</style>\n",
       "<small>shape: (100, 58)</small><table border=\"1\" class=\"dataframe\"><thead><tr><th>profileId</th><th>company_id</th><th>sex</th><th>nationality</th><th>frequent_flyer</th><th>is_vip</th><th>by_self</th><th>has_corp_codes</th><th>total_searches</th><th>roundtrip_preference</th><th>unique_routes_searched</th><th>min_booking_lead_days</th><th>max_booking_lead_days</th><th>avg_booking_lead_days</th><th>median_booking_lead_days</th><th>most_common_departure_airport</th><th>unique_departure_airports</th><th>most_common_carrier</th><th>unique_carriers_used</th><th>min_cabin_class</th><th>max_cabin_class</th><th>avg_cabin_class</th><th>weekday_preference</th><th>weekend_travel_rate</th><th>time_of_day_variance</th><th>night_flight_preference</th><th>route_loyalty</th><th>hub_preference</th><th>short_haul_preference</th><th>connection_tolerance</th><th>preferred_duration_quartile</th><th>price_to_duration_sensitivity</th><th>avg_price_per_minute</th><th>price_per_minute_variance</th><th>price_position_preference</th><th>premium_economy_preference</th><th>consistent_price_tier</th><th>preferred_price_tier</th><th>baggage_qty_preference</th><th>baggage_weight_preference</th><th>loyalty_program_utilization</th><th>convenience_priority_score</th><th>loyalty_vs_price_index</th><th>planning_consistency_score</th><th>luxury_index</th><th>search_intensity_per_route</th><th>lead_time_variance</th><th>lead_time_skew</th><th>carrier_diversity</th><th>airport_diversity</th><th>cabin_class_range</th><th>customer_tier</th><th>vip_search_intensity</th><th>vip_carrier_diversity</th><th>vip_cabin_preference</th><th>corp_search_volume</th><th>corp_roundtrip_pref</th><th>corp_planning_variance</th></tr><tr><td>i64</td><td>i64</td><td>i8</td><td>i64</td><td>str</td><td>i8</td><td>i8</td><td>i8</td><td>u32</td><td>f64</td><td>u32</td><td>i32</td><td>i32</td><td>f64</td><td>f64</td><td>str</td><td>u32</td><td>str</td><td>u32</td><td>f64</td><td>f64</td><td>f64</td><td>i8</td><td>f64</td><td>f64</td><td>f64</td><td>f64</td><td>f64</td><td>f64</td><td>f64</td><td>i32</td><td>f64</td><td>f64</td><td>f64</td><td>f64</td><td>f64</td><td>f64</td><td>i32</td><td>f64</td><td>f64</td><td>f64</td><td>f64</td><td>f64</td><td>f64</td><td>f64</td><td>f64</td><td>i32</td><td>f64</td><td>f64</td><td>f64</td><td>f64</td><td>i8</td><td>f64</td><td>f64</td><td>f64</td><td>i64</td><td>f64</td><td>i32</td></tr></thead><tbody><tr><td>3113429</td><td>59946</td><td>1</td><td>36</td><td>&quot;SU&quot;</td><td>0</td><td>1</td><td>0</td><td>644</td><td>0.0</td><td>2</td><td>3</td><td>7</td><td>5.259317</td><td>4.0</td><td>&quot;LED&quot;</td><td>4</td><td>&quot;SU&quot;</td><td>8</td><td>1.0</td><td>2.0</td><td>1.012422</td><td>1</td><td>0.0</td><td>5.527011</td><td>0.142857</td><td>0.996894</td><td>0.0</td><td>0.60292</td><td>1.015528</td><td>1</td><td>0.072807</td><td>102.757725</td><td>56.887385</td><td>48.538632</td><td>0.012422</td><td>0.623435</td><td>1</td><td>0.762422</td><td>0.0</td><td>1.0</td><td>-44.906072</td><td>5.146137</td><td>0.2</td><td>44.517763</td><td>322.0</td><td>4</td><td>1.314829</td><td>0.012422</td><td>0.006211</td><td>1.0</td><td>1</td><td>0.0</td><td>0.0</td><td>0.0</td><td>0</td><td>0.0</td><td>0</td></tr><tr><td>3549259</td><td>57320</td><td>1</td><td>36</td><td>&quot;&quot;</td><td>0</td><td>1</td><td>1</td><td>33</td><td>0.0</td><td>1</td><td>5</td><td>6</td><td>5.757576</td><td>6.0</td><td>&quot;PEE&quot;</td><td>1</td><td>&quot;SU&quot;</td><td>4</td><td>1.0</td><td>2.0</td><td>1.363636</td><td>7</td><td>1.0</td><td>6.863937</td><td>0.545455</td><td>0.969697</td><td>0.0</td><td>0.0</td><td>2.0</td><td>2</td><td>0.024393</td><td>89.819134</td><td>58.589391</td><td>47.727273</td><td>0.363636</td><td>0.617843</td><td>2</td><td>1.121212</td><td>0.0</td><td>0.0</td><td>-58.517406</td><td>-4.772727</td><td>0.5</td><td>51.136364</td><td>33.0</td><td>1</td><td>0.959596</td><td>0.121212</td><td>0.030303</td><td>1.0</td><td>1</td><td>0.0</td><td>0.0</td><td>0.0</td><td>33</td><td>0.0</td><td>1</td></tr><tr><td>1119689</td><td>27507</td><td>1</td><td>36</td><td>&quot;&quot;</td><td>0</td><td>1</td><td>1</td><td>10</td><td>0.0</td><td>1</td><td>7</td><td>8</td><td>7.7</td><td>8.0</td><td>&quot;NBC&quot;</td><td>1</td><td>&quot;SU&quot;</td><td>3</td><td>1.0</td><td>1.0</td><td>1.0</td><td>4</td><td>0.0</td><td>5.606544</td><td>0.3</td><td>0.9</td><td>0.0</td><td>0.0075</td><td>1.1</td><td>2</td><td>0.869421</td><td>67.663817</td><td>31.925174</td><td>46.666667</td><td>0.0</td><td>0.648636</td><td>1</td><td>0.8</td><td>0.0</td><td>0.0</td><td>-41.718332</td><td>-4.666667</td><td>0.5</td><td>43.333333</td><td>10.0</td><td>1</td><td>0.9625</td><td>0.3</td><td>0.1</td><td>0.0</td><td>1</td><td>0.0</td><td>0.0</td><td>0.0</td><td>10</td><td>0.0</td><td>1</td></tr><tr><td>3548342</td><td>63016</td><td>1</td><td>36</td><td>&quot;&quot;</td><td>0</td><td>1</td><td>0</td><td>34</td><td>0.0</td><td>1</td><td>1</td><td>1</td><td>1.0</td><td>1.0</td><td>&quot;BQS&quot;</td><td>1</td><td>&quot;U6&quot;</td><td>3</td><td>1.0</td><td>2.0</td><td>1.176471</td><td>5</td><td>1.0</td><td>1.711084</td><td>0.0</td><td>0.970588</td><td>0.0</td><td>0.0</td><td>1.676471</td><td>1</td><td>0.101882</td><td>55.218442</td><td>36.147153</td><td>49.108734</td><td>0.176471</td><td>0.622897</td><td>2</td><td>1.117647</td><td>0.0</td><td>0.0</td><td>-6.601426</td><td>-4.910873</td><td>1.0</td><td>48.083779</td><td>34.0</td><td>0</td><td>1.0</td><td>0.088235</td><td>0.029412</td><td>1.0</td><td>1</td><td>0.0</td><td>0.0</td><td>0.0</td><td>0</td><td>0.0</td><td>0</td></tr><tr><td>495090</td><td>45562</td><td>1</td><td>36</td><td>&quot;SU&quot;</td><td>0</td><td>1</td><td>1</td><td>471</td><td>0.774947</td><td>4</td><td>10</td><td>22</td><td>12.452229</td><td>11.0</td><td>&quot;SVO&quot;</td><td>7</td><td>&quot;MU&quot;</td><td>14</td><td>1.0</td><td>1.0</td><td>1.0</td><td>1</td><td>0.163482</td><td>4.693865</td><td>0.07431</td><td>0.991507</td><td>0.460722</td><td>0.0</td><td>1.868365</td><td>1</td><td>0.473284</td><td>67.448329</td><td>45.614359</td><td>47.443058</td><td>0.0</td><td>0.639223</td><td>3</td><td>0.725552</td><td>26.298701</td><td>1.0</td><td>-34.572231</td><td>5.255694</td><td>0.076923</td><td>43.721529</td><td>117.75</td><td>12</td><td>1.132021</td><td>0.029724</td><td>0.014862</td><td>0.0</td><td>1</td><td>0.0</td><td>0.0</td><td>0.0</td><td>471</td><td>0.774947</td><td>12</td></tr><tr><td>&hellip;</td><td>&hellip;</td><td>&hellip;</td><td>&hellip;</td><td>&hellip;</td><td>&hellip;</td><td>&hellip;</td><td>&hellip;</td><td>&hellip;</td><td>&hellip;</td><td>&hellip;</td><td>&hellip;</td><td>&hellip;</td><td>&hellip;</td><td>&hellip;</td><td>&hellip;</td><td>&hellip;</td><td>&hellip;</td><td>&hellip;</td><td>&hellip;</td><td>&hellip;</td><td>&hellip;</td><td>&hellip;</td><td>&hellip;</td><td>&hellip;</td><td>&hellip;</td><td>&hellip;</td><td>&hellip;</td><td>&hellip;</td><td>&hellip;</td><td>&hellip;</td><td>&hellip;</td><td>&hellip;</td><td>&hellip;</td><td>&hellip;</td><td>&hellip;</td><td>&hellip;</td><td>&hellip;</td><td>&hellip;</td><td>&hellip;</td><td>&hellip;</td><td>&hellip;</td><td>&hellip;</td><td>&hellip;</td><td>&hellip;</td><td>&hellip;</td><td>&hellip;</td><td>&hellip;</td><td>&hellip;</td><td>&hellip;</td><td>&hellip;</td><td>&hellip;</td><td>&hellip;</td><td>&hellip;</td><td>&hellip;</td><td>&hellip;</td><td>&hellip;</td><td>&hellip;</td></tr><tr><td>2370715</td><td>57323</td><td>1</td><td>36</td><td>&quot;&quot;</td><td>0</td><td>1</td><td>1</td><td>181</td><td>0.0</td><td>2</td><td>3</td><td>5</td><td>4.40884</td><td>4.0</td><td>&quot;SVO&quot;</td><td>5</td><td>&quot;SU&quot;</td><td>8</td><td>1.0</td><td>2.0</td><td>1.287293</td><td>5</td><td>1.0</td><td>5.05067</td><td>0.116022</td><td>0.98895</td><td>0.0</td><td>0.0</td><td>1.259669</td><td>1</td><td>0.424391</td><td>186.720993</td><td>165.467673</td><td>48.154652</td><td>0.287293</td><td>0.634413</td><td>3</td><td>1.243094</td><td>0.0</td><td>0.0</td><td>-38.384746</td><td>-4.815465</td><td>0.333333</td><td>49.823182</td><td>90.5</td><td>2</td><td>1.10221</td><td>0.044199</td><td>0.027624</td><td>1.0</td><td>1</td><td>0.0</td><td>0.0</td><td>0.0</td><td>181</td><td>0.0</td><td>2</td></tr><tr><td>3412414</td><td>42174</td><td>1</td><td>36</td><td>&quot;S7/SU&quot;</td><td>0</td><td>1</td><td>1</td><td>51</td><td>0.196078</td><td>4</td><td>26</td><td>40</td><td>34.784314</td><td>33.0</td><td>&quot;BQS&quot;</td><td>3</td><td>&quot;SU&quot;</td><td>3</td><td>1.0</td><td>1.0</td><td>1.0</td><td>6</td><td>1.0</td><td>5.446064</td><td>0.176471</td><td>0.921569</td><td>0.0</td><td>0.0</td><td>1.764706</td><td>1</td><td>0.303648</td><td>41.04609</td><td>28.687825</td><td>49.705882</td><td>0.0</td><td>0.627293</td><td>3</td><td>0.823529</td><td>0.0</td><td>1.0</td><td>-42.942393</td><td>5.029412</td><td>0.066667</td><td>44.852941</td><td>12.75</td><td>14</td><td>1.05407</td><td>0.058824</td><td>0.058824</td><td>0.0</td><td>1</td><td>0.0</td><td>0.0</td><td>0.0</td><td>51</td><td>0.196078</td><td>14</td></tr><tr><td>3547026</td><td>62262</td><td>1</td><td>36</td><td>&quot;SU&quot;</td><td>0</td><td>1</td><td>0</td><td>464</td><td>1.0</td><td>1</td><td>30</td><td>31</td><td>30.549569</td><td>31.0</td><td>&quot;DME&quot;</td><td>4</td><td>&quot;U6&quot;</td><td>5</td><td>1.0</td><td>2.0</td><td>1.072917</td><td>4</td><td>0.0</td><td>6.617567</td><td>0.344828</td><td>0.997845</td><td>0.0</td><td>0.0</td><td>1.700431</td><td>1</td><td>0.154816</td><td>49.496154</td><td>61.528717</td><td>49.050421</td><td>0.067888</td><td>0.634882</td><td>3</td><td>0.918103</td><td>0.0</td><td>1.0</td><td>-55.401591</td><td>5.094958</td><td>0.5</td><td>45.983544</td><td>464.0</td><td>1</td><td>0.98547</td><td>0.010776</td><td>0.008621</td><td>1.0</td><td>1</td><td>0.0</td><td>0.0</td><td>0.0</td><td>0</td><td>0.0</td><td>0</td></tr><tr><td>1237003</td><td>25312</td><td>0</td><td>36</td><td>&quot;&quot;</td><td>0</td><td>1</td><td>1</td><td>12</td><td>1.0</td><td>1</td><td>61</td><td>61</td><td>61.0</td><td>61.0</td><td>&quot;VOG&quot;</td><td>1</td><td>&quot;SU&quot;</td><td>1</td><td>1.0</td><td>1.0</td><td>1.0</td><td>7</td><td>1.0</td><td>3.074824</td><td>0.0</td><td>0.916667</td><td>0.0</td><td>0.403704</td><td>1.0</td><td>2</td><td>0.038906</td><td>81.504759</td><td>15.298634</td><td>46.969697</td><td>0.0</td><td>0.628453</td><td>1</td><td>1.5</td><td>0.0</td><td>0.0</td><td>-20.553714</td><td>-4.69697</td><td>1.0</td><td>43.484848</td><td>12.0</td><td>0</td><td>1.0</td><td>0.083333</td><td>0.083333</td><td>0.0</td><td>1</td><td>0.0</td><td>0.0</td><td>0.0</td><td>12</td><td>1.0</td><td>0</td></tr><tr><td>2001335</td><td>42620</td><td>0</td><td>36</td><td>&quot;&quot;</td><td>0</td><td>1</td><td>1</td><td>51</td><td>0.0</td><td>2</td><td>18</td><td>21</td><td>19.823529</td><td>20.0</td><td>&quot;LED&quot;</td><td>2</td><td>&quot;5N&quot;</td><td>2</td><td>1.0</td><td>1.0</td><td>1.0</td><td>5</td><td>0.588235</td><td>4.813217</td><td>0.117647</td><td>0.960784</td><td>0.0</td><td>0.382516</td><td>1.117647</td><td>1</td><td>0.457021</td><td>75.026959</td><td>31.899159</td><td>48.02521</td><td>0.0</td><td>0.615553</td><td>1</td><td>0.823529</td><td>0.0</td><td>0.0</td><td>-35.847068</td><td>-4.802521</td><td>0.25</td><td>44.012605</td><td>25.5</td><td>3</td><td>0.991176</td><td>0.039216</td><td>0.039216</td><td>0.0</td><td>1</td><td>0.0</td><td>0.0</td><td>0.0</td><td>51</td><td>0.0</td><td>3</td></tr></tbody></table></div>"
      ]
     },
     "execution_count": 14,
     "metadata": {},
     "output_type": "execute_result"
    }
   ],
   "execution_count": 14
  },
  {
   "metadata": {
    "ExecuteTime": {
     "end_time": "2025-09-01T22:11:24.194351Z",
     "start_time": "2025-09-01T22:11:24.180019Z"
    }
   },
   "cell_type": "code",
   "source": [
    "def remove_outliers(df, method='isolation_forest', contamination=0.05):\n",
    "    \"\"\"Remove outliers using various methods\"\"\"\n",
    "\n",
    "    # Get numeric columns only\n",
    "    numeric_cols = [col for col, dtype in df.schema.items() if dtype.is_numeric()]\n",
    "    df_numeric = df.select(numeric_cols)\n",
    "\n",
    "    if method == 'isolation_forest':\n",
    "        iso_forest = IsolationForest(contamination=contamination, random_state=42)\n",
    "        outlier_labels = iso_forest.fit_predict(df_numeric.to_pandas())\n",
    "        mask = outlier_labels == 1\n",
    "\n",
    "    elif method == 'zscore':\n",
    "        # Remove rows where any feature has |z-score| > 3\n",
    "        df_pd = df_numeric.to_pandas()\n",
    "        z_scores = np.abs(zscore(df_pd, nan_policy='omit'))\n",
    "        mask = (z_scores < 3).all(axis=1)\n",
    "\n",
    "    elif method == 'iqr':\n",
    "        # Remove rows outside 1.5*IQR for any feature\n",
    "        df_pd = df_numeric.to_pandas()\n",
    "        Q1 = df_pd.quantile(0.25)\n",
    "        Q3 = df_pd.quantile(0.75)\n",
    "        IQR = Q3 - Q1\n",
    "        mask = ~((df_pd < (Q1 - 1.5 * IQR)) | (df_pd > (Q3 + 1.5 * IQR))).any(axis=1)\n",
    "\n",
    "    # Get outlier indices\n",
    "    outlier_indices = np.where(~mask)[0]\n",
    "\n",
    "    cleaned_df = df.filter(pl.Series('mask', mask))\n",
    "    print(f\"Removed {len(df) - len(cleaned_df):,} outliers ({(len(df) - len(cleaned_df))/len(df)*100:.1f}%)\")\n",
    "\n",
    "    return cleaned_df, outlier_indices\n",
    "\n",
    "def encode_features(df):\n",
    "    # Get categorical columns\n",
    "    categorical_cols = [col for col, dtype in df.schema.items() if not dtype.is_numeric() and col not in ['id', 'ranker_id', 'request_date']]\n",
    "\n",
    "    encoded_df = df.clone()\n",
    "    encoders = {}\n",
    "\n",
    "    for col in categorical_cols:\n",
    "        if col == 'frequent_flyer':\n",
    "            # Special handling for frequent flyer programs (list feature)\n",
    "            # Create binary features for most common programs\n",
    "            all_programs = []\n",
    "            for programs in df[col].to_list():\n",
    "                if isinstance(programs, list):\n",
    "                    all_programs.extend(programs)\n",
    "\n",
    "            from collections import Counter\n",
    "            top_programs = Counter(all_programs).most_common(10)\n",
    "\n",
    "            for program, _ in top_programs:\n",
    "                encoded_df = encoded_df.with_columns([\n",
    "                    pl.col(col).map_elements(\n",
    "                        lambda x: 1 if isinstance(x, list) and program in x else 0,\n",
    "                        return_dtype=pl.Int8\n",
    "                    ).alias(f'ff_{program}')\n",
    "                ])\n",
    "\n",
    "            # Add count of total programs\n",
    "            encoded_df = encoded_df.with_columns([\n",
    "                pl.col(col).map_elements(\n",
    "                    lambda x: len(x) if isinstance(x, list) else 0,\n",
    "                    return_dtype=pl.Int8\n",
    "                ).alias('ff_program_count')\n",
    "            ])\n",
    "\n",
    "        else:\n",
    "            # Target encoding for high-cardinality categoricals like airports/carriers\n",
    "            if col in ['most_common_departure_airport', 'most_common_carrier']:\n",
    "                # Use frequency encoding\n",
    "                value_counts = df[col].value_counts()\n",
    "                freq_map = {row[0]: row[1] for row in value_counts.rows()}\n",
    "\n",
    "                encoded_df = encoded_df.with_columns([\n",
    "                    pl.col(col).replace_strict(freq_map, default=0).alias(f'{col}_frequency')\n",
    "                ])\n",
    "            else:\n",
    "                # Standard label encoding for low-cardinality features\n",
    "                unique_values = df[col].fill_null('MISSING').unique().sort().to_list()\n",
    "                encoders[col] = {val: idx for idx, val in enumerate(unique_values)}\n",
    "\n",
    "                encoded_df = encoded_df.with_columns([\n",
    "                    pl.col(col).fill_null('MISSING').replace(encoders[col]).alias(f'{col}_encoded')\n",
    "\n",
    "                ])\n",
    "\n",
    "    # Remove original categorical columns\n",
    "    final_df = encoded_df.select(pl.exclude(categorical_cols + ['frequent_flyer', 'most_common_departure_airport', 'most_common_carrier']))\n",
    "\n",
    "    return final_df.fill_null(0), encoders\n",
    "\n",
    "def dimensionality_reduction(scaled_features, method='pca', n_components=50):\n",
    "    \"\"\"Apply dimensionality reduction before clustering\"\"\"\n",
    "\n",
    "    if method == 'pca':\n",
    "        reducer = PCA(n_components=n_components, random_state=42)\n",
    "\n",
    "    elif method == 'truncated_svd':\n",
    "        reducer = TruncatedSVD(n_components=n_components, random_state=42)\n",
    "\n",
    "    elif method == 'umap':\n",
    "        reducer = umap.UMAP(n_components=n_components, random_state=42, n_neighbors=15)\n",
    "\n",
    "    reduced_features = reducer.fit_transform(scaled_features)\n",
    "\n",
    "    if hasattr(reducer, 'explained_variance_ratio_'):\n",
    "        total_variance = reducer.explained_variance_ratio_.sum()\n",
    "        print(f\"{method.upper()} retained {total_variance:.3f} of total variance with {n_components} components\")\n",
    "\n",
    "    return reduced_features, reducer\n",
    "\n",
    "\n",
    "def generate_clusters(features, n_clusters=10):\n",
    "    agg = AgglomerativeClustering(n_clusters=n_clusters, linkage='ward')\n",
    "    labels = agg.fit_predict(features)\n",
    "\n",
    "    # Create pseudo-centroids for use in prediction, since AgglomerativeClustering doesn't have centroids\n",
    "    unique_segments = np.unique(labels)\n",
    "    centroids = []\n",
    "    for segment_id in unique_segments:\n",
    "        segment_mask = labels == segment_id\n",
    "        centroid = features[segment_mask].mean(axis=0)\n",
    "        centroids.append(centroid)\n",
    "\n",
    "    centroids = np.array(centroids)\n",
    "\n",
    "    score = silhouette_score(features, labels)\n",
    "\n",
    "    return {\n",
    "        \"labels\": labels,\n",
    "        \"centroids\": centroids,\n",
    "        \"model\": agg,\n",
    "        \"silhouette\": score,\n",
    "        \"n_clusters\": n_clusters\n",
    "    }\n",
    "\n",
    "\n",
    "def gen_optimum_num_clusters(features):\n",
    "    best_agg_score = -1\n",
    "    best_agg_n = 0\n",
    "    best_centroids = None\n",
    "\n",
    "    for n_clusters in [9, 10, 11, 12, 13, 14, 15, 16, 17]:\n",
    "        agg = AgglomerativeClustering(n_clusters=n_clusters, linkage='ward')\n",
    "        labels = agg.fit_predict(features)\n",
    "\n",
    "        score = silhouette_score(features, labels)\n",
    "        if score > best_agg_score:\n",
    "            best_agg_score = score\n",
    "            best_agg_n = n_clusters\n",
    "\n",
    "            # Create pseudo-centroids for use in prediction, since AgglomerativeClustering doesn't have centroids\n",
    "            unique_segments = np.unique(labels)\n",
    "            centroids = []\n",
    "            for segment_id in unique_segments:\n",
    "                segment_mask = labels == segment_id\n",
    "                centroid = features[segment_mask].mean(axis=0)\n",
    "                centroids.append(centroid)\n",
    "            best_centroids = np.array(centroids)\n",
    "\n",
    "    best_agg = AgglomerativeClustering(n_clusters=best_agg_n, linkage='ward')\n",
    "    agg_labels = best_agg.fit_predict(features)\n",
    "\n",
    "    print(f\"Best number of clusters: {best_agg_n}, with Silhouette score: {best_agg_score:.4f}\")\n",
    "\n",
    "    return {\n",
    "        'labels': agg_labels,\n",
    "        'centroids': best_centroids,\n",
    "        'model': best_agg,\n",
    "        'silhouette': silhouette_score(features, agg_labels),\n",
    "        'n_clusters': len(set(agg_labels))\n",
    "    }"
   ],
   "id": "f099f076ab642e51",
   "outputs": [],
   "execution_count": 15
  },
  {
   "metadata": {
    "ExecuteTime": {
     "end_time": "2025-09-01T22:11:24.884847Z",
     "start_time": "2025-09-01T22:11:24.878919Z"
    }
   },
   "cell_type": "code",
   "source": [
    "def analyze_clusters(original_df, cluster_labels, outlier_indices=None):\n",
    "    \"\"\"Analyze the final clusters\"\"\"\n",
    "    # Add cluster labels to original dataframe for analysis\n",
    "    if original_df is not None:\n",
    "\n",
    "        # Check if sizes match\n",
    "        if len(cluster_labels) != (len(original_df) - (len(outlier_indices) if outlier_indices is not None else 0)):\n",
    "            print(f\"Warning: Cluster labels size ({len(cluster_labels)}) doesn't match DataFrame size ({len(original_df)})\")\n",
    "            print(\"This likely happened because outliers were removed during clustering and outlier indices not provided or incorrect.\")\n",
    "\n",
    "        else:\n",
    "            if outlier_indices is not None and len(outlier_indices) > 0:\n",
    "                mask = ~pl.Series(range(len(original_df))).is_in(outlier_indices)\n",
    "                analysis_df = original_df.filter(mask)\n",
    "            else:\n",
    "                analysis_df = original_df.head(len(cluster_labels))\n",
    "\n",
    "            # Now add cluster labels safely\n",
    "            analysis_df = analysis_df.with_columns(pl.Series('cluster', cluster_labels))\n",
    "\n",
    "            # Cluster profiling\n",
    "            print(\"\\n📊 CLUSTER PROFILES:\")\n",
    "            print(\"=\" * 50)\n",
    "\n",
    "            cluster_profiles = analysis_df.group_by('cluster').agg([\n",
    "                pl.col('total_searches').mean().alias('avg_searches'),\n",
    "                pl.col('is_vip').mean().alias('vip_rate'),\n",
    "                pl.col('roundtrip_preference').mean().alias('roundtrip_rate'),\n",
    "                pl.col('avg_booking_lead_days').mean().alias('avg_lead_days'),\n",
    "                pl.col('unique_carriers_used').mean().alias('avg_carriers'),\n",
    "                pl.len().alias('size')\n",
    "            ]).sort('cluster')\n",
    "\n",
    "            print(cluster_profiles)"
   ],
   "id": "9aa29f210384bce7",
   "outputs": [],
   "execution_count": 16
  },
  {
   "metadata": {},
   "cell_type": "markdown",
   "source": "### Generate Customer Clusters",
   "id": "88a507eb3aa0ffb8"
  },
  {
   "metadata": {
    "ExecuteTime": {
     "end_time": "2025-09-01T22:11:32.761976Z",
     "start_time": "2025-09-01T22:11:32.227865Z"
    }
   },
   "cell_type": "code",
   "source": [
    "# 2. Remove outliers\n",
    "cust_data_cleaned, outlier_indices = remove_outliers(cust_data, method='isolation_forest', contamination=0.05)\n",
    "# cust_data_cleaned, outlier_indices = remove_outliers(cust_data, method='zscore')\n",
    "# cust_data_cleaned, outlier_indices = remove_outliers(cust_data, method='iqr')"
   ],
   "id": "c2bdbc014c2a3139",
   "outputs": [
    {
     "name": "stdout",
     "output_type": "stream",
     "text": [
      "Removed 1,507 outliers (5.0%)\n"
     ]
    }
   ],
   "execution_count": 17
  },
  {
   "metadata": {
    "ExecuteTime": {
     "end_time": "2025-09-01T22:11:42.488654Z",
     "start_time": "2025-09-01T22:11:42.453609Z"
    }
   },
   "cell_type": "code",
   "source": [
    "# 3. Advanced encoding\n",
    "cust_data_encoded, encoders = encode_features(cust_data_cleaned)"
   ],
   "id": "c762a8a8c24396e9",
   "outputs": [],
   "execution_count": 18
  },
  {
   "metadata": {
    "ExecuteTime": {
     "end_time": "2025-09-01T22:11:49.394251Z",
     "start_time": "2025-09-01T22:11:49.334179Z"
    }
   },
   "cell_type": "code",
   "source": [
    "# 4. Feature scaling with robust scaler\n",
    "scaler = RobustScaler()  # Less sensitive to outliers than StandardScaler\n",
    "scaled_features = scaler.fit_transform(cust_data_encoded.to_pandas())"
   ],
   "id": "c94e8e5e0944dbac",
   "outputs": [],
   "execution_count": 19
  },
  {
   "metadata": {
    "ExecuteTime": {
     "end_time": "2025-09-01T22:11:53.241831Z",
     "start_time": "2025-09-01T22:11:53.204346Z"
    }
   },
   "cell_type": "code",
   "source": [
    "# 5. Dimensionality reduction\n",
    "n_components = 0.95  # retain components that explain 95% of variance\n",
    "# n_components = 30    # retain 30 components\n",
    "\n",
    "reducer = PCA(n_components=n_components, random_state=42)\n",
    "reduced_features = reducer.fit_transform(scaled_features)\n",
    "\n",
    "if hasattr(reducer, 'explained_variance_ratio_'):\n",
    "    total_variance = reducer.explained_variance_ratio_.sum()\n",
    "    print(f\"PCA retained {total_variance:.3f} of total variance with {reduced_features.shape[1]} components\")"
   ],
   "id": "3d0178616ca57c7a",
   "outputs": [
    {
     "name": "stdout",
     "output_type": "stream",
     "text": [
      "PCA retained 0.960 of total variance with 4 components\n"
     ]
    }
   ],
   "execution_count": 20
  },
  {
   "metadata": {
    "ExecuteTime": {
     "end_time": "2025-09-01T22:17:27.362380Z",
     "start_time": "2025-09-01T22:11:59.845298Z"
    }
   },
   "cell_type": "code",
   "source": [
    "# 6. Apply clustering algorithm\n",
    "# clustering_results = generate_clusters(reduced_features)\n",
    "clustering_results = gen_optimum_num_clusters(reduced_features)\n",
    "\n",
    "# 7. Clustering results\n",
    "print(\"\\n🏆 CLUSTERING RESULTS:\")\n",
    "print(f\"  Clusters: {clustering_results['n_clusters']:2d}| Silhouette: {clustering_results['silhouette']:.4f} | \")"
   ],
   "id": "c824f3ff16079a95",
   "outputs": [
    {
     "name": "stdout",
     "output_type": "stream",
     "text": [
      "Best number of clusters: 13, with Silhouette score: 0.8090\n",
      "\n",
      "🏆 CLUSTERING RESULTS:\n",
      "  Clusters: 13| Silhouette: 0.8090 | \n"
     ]
    }
   ],
   "execution_count": 21
  },
  {
   "metadata": {
    "ExecuteTime": {
     "end_time": "2025-09-01T22:17:44.799169Z",
     "start_time": "2025-09-01T22:17:44.768025Z"
    }
   },
   "cell_type": "code",
   "source": "analyze_clusters(cust_data_cleaned, clustering_results['labels'])",
   "id": "420bdbd5a24891d5",
   "outputs": [
    {
     "name": "stdout",
     "output_type": "stream",
     "text": [
      "\n",
      "📊 CLUSTER PROFILES:\n",
      "==================================================\n",
      "shape: (13, 7)\n",
      "┌─────────┬──────────────┬──────────┬────────────────┬───────────────┬──────────────┬───────┐\n",
      "│ cluster ┆ avg_searches ┆ vip_rate ┆ roundtrip_rate ┆ avg_lead_days ┆ avg_carriers ┆ size  │\n",
      "│ ---     ┆ ---          ┆ ---      ┆ ---            ┆ ---           ┆ ---          ┆ ---   │\n",
      "│ i64     ┆ f64          ┆ f64      ┆ f64            ┆ f64           ┆ f64          ┆ u32   │\n",
      "╞═════════╪══════════════╪══════════╪════════════════╪═══════════════╪══════════════╪═══════╡\n",
      "│ 0       ┆ 820.364922   ┆ 0.0      ┆ 0.483473       ┆ 11.265869     ┆ 6.323904     ┆ 707   │\n",
      "│ 1       ┆ 293.627119   ┆ 1.0      ┆ 0.731554       ┆ 13.552792     ┆ 4.983051     ┆ 59    │\n",
      "│ 2       ┆ 390.175765   ┆ 0.0      ┆ 0.449503       ┆ 15.455421     ┆ 7.692308     ┆ 2418  │\n",
      "│ 3       ┆ 535.615385   ┆ 1.0      ┆ 0.86867        ┆ 11.837962     ┆ 5.730769     ┆ 26    │\n",
      "│ 4       ┆ 295.227273   ┆ 0.0      ┆ 0.406171       ┆ 17.016755     ┆ 5.613636     ┆ 44    │\n",
      "│ …       ┆ …            ┆ …        ┆ …              ┆ …             ┆ …            ┆ …     │\n",
      "│ 8       ┆ 873.4        ┆ 1.0      ┆ 1.0            ┆ 16.346625     ┆ 4.8          ┆ 5     │\n",
      "│ 9       ┆ 674.008247   ┆ 0.0      ┆ 0.588458       ┆ 17.879114     ┆ 9.993814     ┆ 970   │\n",
      "│ 10      ┆ 379.622388   ┆ 0.000051 ┆ 0.559316       ┆ 14.794494     ┆ 4.528228     ┆ 19573 │\n",
      "│ 11      ┆ 1012.5       ┆ 1.0      ┆ 1.0            ┆ 12.741822     ┆ 4.5          ┆ 2     │\n",
      "│ 12      ┆ 96.512195    ┆ 1.0      ┆ 0.390029       ┆ 12.33669      ┆ 4.182927     ┆ 82    │\n",
      "└─────────┴──────────────┴──────────┴────────────────┴───────────────┴──────────────┴───────┘\n"
     ]
    }
   ],
   "execution_count": 22
  },
  {
   "metadata": {
    "ExecuteTime": {
     "end_time": "2025-09-01T22:17:56.189380Z",
     "start_time": "2025-09-01T22:17:56.184867Z"
    }
   },
   "cell_type": "code",
   "source": [
    "# Add cluster labels to the customer data set\n",
    "cust_data_cleaned = cust_data_cleaned.with_columns(pl.Series('customer_segment', clustering_results['labels']))"
   ],
   "id": "817fab4badbe13de",
   "outputs": [],
   "execution_count": 23
  },
  {
   "metadata": {
    "ExecuteTime": {
     "end_time": "2025-09-01T22:18:00.351632Z",
     "start_time": "2025-09-01T22:18:00.343631Z"
    }
   },
   "cell_type": "code",
   "source": "cust_data_cleaned.group_by('customer_segment').len()",
   "id": "ef21aaffb6dd7706",
   "outputs": [
    {
     "data": {
      "text/plain": [
       "shape: (13, 2)\n",
       "┌──────────────────┬───────┐\n",
       "│ customer_segment ┆ len   │\n",
       "│ ---              ┆ ---   │\n",
       "│ i64              ┆ u32   │\n",
       "╞══════════════════╪═══════╡\n",
       "│ 0                ┆ 707   │\n",
       "│ 12               ┆ 82    │\n",
       "│ 8                ┆ 5     │\n",
       "│ 1                ┆ 59    │\n",
       "│ 4                ┆ 44    │\n",
       "│ …                ┆ …     │\n",
       "│ 5                ┆ 4739  │\n",
       "│ 11               ┆ 2     │\n",
       "│ 10               ┆ 19573 │\n",
       "│ 9                ┆ 970   │\n",
       "│ 6                ┆ 1     │\n",
       "└──────────────────┴───────┘"
      ],
      "text/html": [
       "<div><style>\n",
       ".dataframe > thead > tr,\n",
       ".dataframe > tbody > tr {\n",
       "  text-align: right;\n",
       "  white-space: pre-wrap;\n",
       "}\n",
       "</style>\n",
       "<small>shape: (13, 2)</small><table border=\"1\" class=\"dataframe\"><thead><tr><th>customer_segment</th><th>len</th></tr><tr><td>i64</td><td>u32</td></tr></thead><tbody><tr><td>0</td><td>707</td></tr><tr><td>12</td><td>82</td></tr><tr><td>8</td><td>5</td></tr><tr><td>1</td><td>59</td></tr><tr><td>4</td><td>44</td></tr><tr><td>&hellip;</td><td>&hellip;</td></tr><tr><td>5</td><td>4739</td></tr><tr><td>11</td><td>2</td></tr><tr><td>10</td><td>19573</td></tr><tr><td>9</td><td>970</td></tr><tr><td>6</td><td>1</td></tr></tbody></table></div>"
      ]
     },
     "execution_count": 24,
     "metadata": {},
     "output_type": "execute_result"
    }
   ],
   "execution_count": 24
  },
  {
   "metadata": {
    "ExecuteTime": {
     "end_time": "2025-09-01T22:18:27.064677Z",
     "start_time": "2025-09-01T22:18:27.008563Z"
    }
   },
   "cell_type": "code",
   "source": [
    "# Save customer features\n",
    "cust_data_cleaned.write_parquet('data/train_customer_features.parquet')"
   ],
   "id": "10a30fd623b9b51b",
   "outputs": [],
   "execution_count": 25
  },
  {
   "metadata": {
    "ExecuteTime": {
     "end_time": "2025-09-01T22:18:28.969199Z",
     "start_time": "2025-09-01T22:18:28.958219Z"
    }
   },
   "cell_type": "code",
   "source": [
    "# Save the best Agglomerative model\n",
    "joblib.dump(clustering_results, 'data/agglomerative_model.joblib')"
   ],
   "id": "d3ae296a7ee89e04",
   "outputs": [
    {
     "data": {
      "text/plain": [
       "['data/agglomerative_model.joblib']"
      ]
     },
     "execution_count": 26,
     "metadata": {},
     "output_type": "execute_result"
    }
   ],
   "execution_count": 26
  },
  {
   "metadata": {
    "ExecuteTime": {
     "end_time": "2025-09-01T22:19:02.194401Z",
     "start_time": "2025-09-01T22:19:02.097391Z"
    }
   },
   "cell_type": "code",
   "source": [
    "# Remove unneeded objects to free memory\n",
    "del cust_data\n",
    "del cust_data_cleaned\n",
    "del cust_data_encoded\n",
    "del scaled_features\n",
    "del reduced_features\n",
    "del scaler\n",
    "del clustering_results\n",
    "gc.collect()"
   ],
   "id": "786d5f4e554c8cef",
   "outputs": [
    {
     "data": {
      "text/plain": [
       "12"
      ]
     },
     "execution_count": 27,
     "metadata": {},
     "output_type": "execute_result"
    }
   ],
   "execution_count": 27
  },
  {
   "metadata": {},
   "cell_type": "markdown",
   "source": "### Engineer Flight Features",
   "id": "848a02e6f5a92295"
  },
  {
   "metadata": {
    "ExecuteTime": {
     "end_time": "2025-09-01T22:21:55.534187Z",
     "start_time": "2025-09-01T22:21:55.508272Z"
    }
   },
   "cell_type": "code",
   "source": [
    "CUSTOMER_FEATURES = ['companyID', 'sex', 'nationality', 'isVip', 'bySelf']\n",
    "UNNEEDED_FEATURES = [\n",
    "    'frequentFlyer', 'frequent_flyer', 'isAccess3D', 'requestDate', 'searchRoute', 'totalPrice', 'taxes', 'legs0_arrivalAt', 'legs0_duration'\n",
    "]\n",
    "UNNEEDED_FEATURES_REGEX = r'^legs[01].*$|^leg0_duration_q.*$|^price_q.*$'\n",
    "POLARS_INDEX_COL = ['__index_level_0__']\n",
    "\n",
    "\n",
    "# function to get column groups for the flight segments features that will be used in engineering the new features\n",
    "def get_column_groups(df: pl.DataFrame) -> Dict[str, List[str]]:\n",
    "    columns = df.columns\n",
    "    return {\n",
    "        'leg0_duration': [col for col in columns if col.startswith('legs0_segments') and col.endswith('_duration')],\n",
    "        'leg1_duration': [col for col in columns if col.startswith('legs1_segments') and col.endswith('_duration')],\n",
    "        'mkt_carrier': [col for col in columns if col.endswith('marketingCarrier_code')],\n",
    "        'op_carrier': [col for col in columns if col.endswith('operatingCarrier_code')],\n",
    "        'aircraft': [col for col in columns if col.endswith('aircraft_code')],\n",
    "        'airport': [col for col in columns if 'airport_iata' in col or 'airport_city_iata' in col],\n",
    "        'seats_avail': [col for col in columns if col.endswith('seatsAvailable')],\n",
    "        'baggage_type': [col for col in columns if 'baggageAllowance_weightMeasurementType' in col],\n",
    "        'baggage_allowance': [col for col in columns if 'baggageAllowance_quantity' in col],\n",
    "        'cabin_class': [col for col in columns if 'cabinClass' in col]\n",
    "    }\n",
    "\n",
    "\n",
    "def create_basic_features(col_groups: Dict[str, List[str]]) -> List[pl.Expr]:\n",
    "    \"\"\"Create basic customer and route characteristics features.\"\"\"\n",
    "    return [\n",
    "        pl.col('isAccess3D').cast(pl.Int32).alias('is_access3D'),\n",
    "\n",
    "        # Normalized frequentFlyer program, addressing null values as null strings, and translating UT program\n",
    "        pl.col('frequentFlyer').str.replace('- ЮТэйр ЗАО', 'UT').fill_null('').alias('frequent_flyer'),\n",
    "\n",
    "        # Route characteristics\n",
    "        pl.col('legs1_departureAt').is_not_null().cast(pl.Int8).alias('is_roundtrip'),\n",
    "        pl.col('searchRoute').str.slice(0, 3).alias('route_origin'),\n",
    "\n",
    "        # Hub features\n",
    "        pl.col('searchRoute').str.slice(0, 3).is_in(MAJOR_HUBS).cast(pl.Int32).alias('origin_is_major_hub'),\n",
    "        pl.col('searchRoute').str.slice(3, 3).is_in(MAJOR_HUBS).cast(pl.Int32).alias('destination_is_major_hub'),\n",
    "        pl.max_horizontal([\n",
    "            pl.col(col).is_in(MAJOR_HUBS) for col in col_groups['airport']\n",
    "        ]).cast(pl.Int32).alias('includes_major_hub'),\n",
    "    ]\n",
    "\n",
    "\n",
    "def create_segment_features(col_groups: Dict[str, List[str]]) -> List[pl.Expr]:\n",
    "    \"\"\"Create flight segment related features.\"\"\"\n",
    "    return [\n",
    "        # Number of segments per leg\n",
    "        pl.concat_list([pl.col(col) for col in col_groups['leg0_duration']])\n",
    "        .list.drop_nulls().list.len().alias('leg0_num_segments'),\n",
    "\n",
    "        pl.concat_list([pl.col(col) for col in col_groups['leg1_duration']])\n",
    "        .list.drop_nulls().list.len().alias('leg1_num_segments'),\n",
    "\n",
    "        # Total segments\n",
    "        pl.sum_horizontal([pl.col(col).is_not_null() for col in col_groups['aircraft']])\n",
    "        .alias('total_segments'),\n",
    "\n",
    "        # Flight time in minutes (sum of segment durations)\n",
    "        pl.sum_horizontal([\n",
    "            parse_duration_to_minutes(col)\n",
    "            for col in col_groups['leg0_duration']\n",
    "        ]).alias('leg0_flight_time_min'),\n",
    "\n",
    "        pl.sum_horizontal([\n",
    "            parse_duration_to_minutes(col)\n",
    "            for col in col_groups['leg1_duration']\n",
    "        ]).alias('leg1_flight_time_min'),\n",
    "    ]\n",
    "\n",
    "\n",
    "def create_time_features() -> List[pl.Expr]:\n",
    "    \"\"\"Create time-based features.\"\"\"\n",
    "    return [\n",
    "        # Booking lead time\n",
    "        ((pl.col('legs0_departureAt').str.to_datetime() -\n",
    "            pl.col('requestDate').cast(pl.Datetime)) / pl.duration(days=1)).cast(pl.Int32).alias('booking_lead_days'),\n",
    "\n",
    "        # Trip duration features\n",
    "        parse_duration_to_minutes('legs0_duration').alias('leg0_duration_minutes'),\n",
    "        parse_duration_to_minutes('legs1_duration').alias('leg1_duration_minutes'),\n",
    "        (parse_duration_to_minutes('legs0_duration') + parse_duration_to_minutes('legs1_duration')).alias('trip_duration_minutes'),\n",
    "\n",
    "        # Departure/arrival hours\n",
    "        pl.col('legs0_departureAt').str.to_datetime().dt.hour().alias('leg0_departure_hour'),\n",
    "        pl.col('legs0_departureAt').str.to_datetime().dt.weekday().alias('leg0_departure_weekday'),\n",
    "        pl.col('legs0_arrivalAt').str.to_datetime().dt.hour().alias('leg0_arrival_hour'),\n",
    "        pl.col('legs0_arrivalAt').str.to_datetime().dt.weekday().alias('leg0_arrival_weekday'),\n",
    "        pl.col('legs1_departureAt').str.to_datetime().dt.hour().alias('leg1_departure_hour'),\n",
    "        pl.col('legs1_arrivalAt').str.to_datetime().dt.hour().alias('leg1_arrival_hour'),\n",
    "        pl.col('legs1_departureAt').str.to_datetime().dt.weekday().alias('leg1_departure_weekday'),\n",
    "        pl.col('legs1_arrivalAt').str.to_datetime().dt.weekday().alias('leg1_arrival_weekday'),\n",
    "    ]\n",
    "\n",
    "\n",
    "def create_carrier_features(col_groups: Dict[str, List[str]]) -> List[pl.Expr]:\n",
    "    \"\"\"Create carrier and aircraft features.\"\"\"\n",
    "    # Create combined carrier column group for carrier features\n",
    "    all_carrier_cols = col_groups['mkt_carrier'] + col_groups['op_carrier']\n",
    "\n",
    "    # Create frequent flyer matching expressions\n",
    "    ff_matches_mkt = [\n",
    "        pl.when(pl.col(col).is_not_null() & (pl.col(col) != ''))\n",
    "        .then(pl.col('frequent_flyer').str.contains(pl.col(col)))\n",
    "        .otherwise(False)\n",
    "        for col in col_groups['mkt_carrier']\n",
    "    ]\n",
    "    ff_matches_op = [\n",
    "        pl.when(pl.col(col).is_not_null() & (pl.col(col) != ''))\n",
    "        .then(pl.col('frequent_flyer').str.contains(pl.col(col)))\n",
    "        .otherwise(False)\n",
    "        for col in col_groups['op_carrier']\n",
    "    ]\n",
    "\n",
    "    return [\n",
    "        # Carrier features\n",
    "        pl.concat_list([pl.col(col) for col in all_carrier_cols])\n",
    "        .list.drop_nulls().list.unique().list.len().alias('unique_carriers'),\n",
    "\n",
    "        pl.coalesce([pl.col(col) for col in all_carrier_cols]).alias('primary_carrier'),\n",
    "        pl.col('legs0_segments0_marketingCarrier_code').alias('marketing_carrier'),\n",
    "\n",
    "        # Frequent flyer matching (check if FF programs match carriers)\n",
    "        pl.max_horizontal(ff_matches_mkt).cast(pl.Int32).alias('has_mkt_ff'),\n",
    "        pl.max_horizontal(ff_matches_op).cast(pl.Int32).alias('has_op_ff'),\n",
    "\n",
    "        # Aircraft features\n",
    "        pl.concat_list([pl.col(col) for col in col_groups['aircraft']])\n",
    "        .list.drop_nulls().list.unique().list.len().alias('aircraft_diversity'),\n",
    "\n",
    "        pl.coalesce([pl.col(col) for col in col_groups['aircraft']]).alias('primary_aircraft'),\n",
    "    ]\n",
    "\n",
    "\n",
    "def create_service_features(col_groups: Dict[str, List[str]]) -> List[pl.Expr]:\n",
    "    \"\"\"Create service-related features (fees, cabin, seats, baggage).\"\"\"\n",
    "    return [\n",
    "        # Cancellation/exchange fees\n",
    "        (\n",
    "            ((pl.col('miniRules0_monetaryAmount') > 0) & pl.col('miniRules0_monetaryAmount').is_not_null()) |\n",
    "            ((pl.col('miniRules0_percentage') > 0) & pl.col('miniRules0_percentage').is_not_null())\n",
    "        ).cast(pl.Int32).alias('has_cancellation_fee'),\n",
    "\n",
    "        (\n",
    "            ((pl.col('miniRules1_monetaryAmount') > 0) & pl.col('miniRules1_monetaryAmount').is_not_null()) |\n",
    "            ((pl.col('miniRules1_percentage') > 0) & pl.col('miniRules1_percentage').is_not_null())\n",
    "        ).cast(pl.Int32).alias('has_exchange_fee'),\n",
    "\n",
    "        # Cabin class features\n",
    "        pl.max_horizontal([pl.col(col) for col in col_groups['cabin_class']]).alias('max_cabin_class'),\n",
    "        pl.mean_horizontal([pl.col(col) for col in col_groups['cabin_class']]).alias('avg_cabin_class'),\n",
    "\n",
    "        # Seat availability (using for understanding popularity/scarcity)\n",
    "        pl.min_horizontal([pl.col(col) for col in col_groups['seats_avail']]).alias('min_seats_available'),\n",
    "        pl.sum_horizontal([pl.col(col).fill_null(0) for col in col_groups['seats_avail']]).alias('total_seats_available'),\n",
    "\n",
    "        # Baggage allowance\n",
    "        pl.min_horizontal([\n",
    "            pl.when(pl.col(type_col) == 0).then(pl.col(qty_col)).otherwise(pl.lit(None))\n",
    "            for type_col, qty_col in zip(col_groups['baggage_type'], col_groups['baggage_allowance'])\n",
    "        ]).fill_null(0).alias(\"baggage_allowance_quantity\"),\n",
    "\n",
    "        pl.min_horizontal([\n",
    "            pl.when(pl.col(type_col) == 1).then(pl.col(qty_col)).otherwise(pl.lit(None))\n",
    "            for type_col, qty_col in zip(col_groups['baggage_type'], col_groups['baggage_allowance'])\n",
    "        ]).fill_null(0).alias(\"baggage_allowance_weight\")\n",
    "    ]\n",
    "\n",
    "\n",
    "def add_route_popularity(lazy_df: pl.LazyFrame) -> pl.LazyFrame:\n",
    "    \"\"\"Add search route popularity features.\"\"\"\n",
    "    return lazy_df.with_columns([\n",
    "        pl.len().over('searchRoute').alias('route_popularity')\n",
    "    ]).with_columns([\n",
    "        pl.col('route_popularity').log1p().alias('route_popularity_log')\n",
    "    ])\n",
    "\n",
    "\n",
    "def create_window_based_flight_features(lazy_df: pl.LazyFrame) -> pl.LazyFrame:\n",
    "    return lazy_df.with_columns([\n",
    "        # calculate price percentile over search session\n",
    "        ((pl.col('totalPrice').rank(method='min').over('ranker_id') - 1) /\n",
    "        (pl.col('totalPrice').count().over('ranker_id') - 1) * 100)\n",
    "        .fill_null(50.0).alias('price_percentile'),\n",
    "\n",
    "        # Price features (always relative to search session)\n",
    "        (pl.col('totalPrice').rank(method='ordinal').over('ranker_id') /\n",
    "         pl.col('totalPrice').count().over('ranker_id')).alias('price_rank_pct'),\n",
    "        (pl.col('totalPrice') / pl.col('totalPrice').min().over('ranker_id')).alias('price_ratio_to_min'),\n",
    "    ]).with_columns([\n",
    "\n",
    "        # Route popularity features\n",
    "        pl.len().over('searchRoute').alias('route_popularity')\n",
    "    ]).with_columns([\n",
    "        pl.col('route_popularity').log1p().alias('route_popularity_log')\n",
    "    ])\n",
    "\n",
    "\n",
    "def create_derived_flight_features() -> List[pl.Expr]:\n",
    "    return [\n",
    "        pl.col('leg0_departure_hour').is_between(6, 22).cast(pl.Int8).alias('is_daytime'),\n",
    "        (pl.col('leg1_departure_weekday') >= 5).cast(pl.Int8).alias('is_weekend'),\n",
    "        (pl.col('leg0_departure_hour').is_between(6, 22) &\n",
    "         (~pl.col('leg0_arrival_hour').is_between(6, 22)))\n",
    "        .cast(pl.Int8).alias('is_redeye'),\n",
    "        (pl.col('total_segments') > 1).cast(pl.Int8).alias('has_connections'),\n",
    "    ]\n",
    "\n",
    "def extract_flight_features(df: pl.DataFrame) -> pl.DataFrame:\n",
    "    \"\"\" Create flight-level features\"\"\"\n",
    "    # Check if already processed\n",
    "    if df.height > 0 and 'total_duration_mins' in df.columns:\n",
    "        return df\n",
    "\n",
    "\n",
    "    # Get column groups\n",
    "    col_groups = get_column_groups(df)\n",
    "\n",
    "    # Start with lazy frame, dropping unnecessary columns\n",
    "    lazy_df = df.drop(CUSTOMER_FEATURES + POLARS_INDEX_COL, strict=False).lazy()\n",
    "    lazy_df = create_window_based_flight_features(lazy_df)\n",
    "\n",
    "    # Apply all feature groups\n",
    "    lazy_df = lazy_df.with_columns([\n",
    "        *create_basic_features(col_groups),\n",
    "        *create_segment_features(col_groups),\n",
    "        *create_time_features(),\n",
    "        *create_service_features(col_groups)\n",
    "    ])\n",
    "\n",
    "    # Add carrier features (requires frequent_flyer from create_basic_features() step)\n",
    "    lazy_df = lazy_df.with_columns(create_carrier_features(col_groups))\n",
    "\n",
    "    # Add derived features\n",
    "    lazy_df = lazy_df.with_columns(create_derived_flight_features())\n",
    "\n",
    "    # Add window based derived flight features\n",
    "    lazy_df = create_window_based_flight_features(lazy_df)\n",
    "\n",
    "    # Materialize to generate new features, drop unused features, and fill nulls\n",
    "    return (lazy_df\n",
    "            .collect()\n",
    "            .select(~cs.matches(UNNEEDED_FEATURES_REGEX) & ~cs.by_name(UNNEEDED_FEATURES))\n",
    "            .fill_null(0)\n",
    "            )\n"
   ],
   "id": "e12350661ea1aef",
   "outputs": [],
   "execution_count": 28
  },
  {
   "metadata": {
    "ExecuteTime": {
     "end_time": "2025-09-01T22:23:44.585281Z",
     "start_time": "2025-09-01T22:22:05.064331Z"
    }
   },
   "cell_type": "code",
   "source": "train_df = extract_flight_features(train_df)",
   "id": "a442e9536a45a9b9",
   "outputs": [],
   "execution_count": 29
  },
  {
   "metadata": {
    "ExecuteTime": {
     "end_time": "2025-09-01T22:24:34.137737Z",
     "start_time": "2025-09-01T22:24:34.105525Z"
    }
   },
   "cell_type": "code",
   "source": "train_df.head(100)",
   "id": "4c74cb059ba49825",
   "outputs": [
    {
     "data": {
      "text/plain": [
       "shape: (100, 60)\n",
       "┌─────┬────────────┬────────────┬────────────┬───┬────────────┬────────────┬───────────┬───────────┐\n",
       "│ Id  ┆ corporateT ┆ miniRules0 ┆ miniRules0 ┆ … ┆ is_daytime ┆ is_weekend ┆ is_redeye ┆ has_conne │\n",
       "│ --- ┆ ariffCode  ┆ _monetaryA ┆ _percentag ┆   ┆ ---        ┆ ---        ┆ ---       ┆ ctions    │\n",
       "│ i64 ┆ ---        ┆ mount      ┆ e          ┆   ┆ i8         ┆ i8         ┆ i8        ┆ ---       │\n",
       "│     ┆ i64        ┆ ---        ┆ ---        ┆   ┆            ┆            ┆           ┆ i8        │\n",
       "│     ┆            ┆ f64        ┆ f64        ┆   ┆            ┆            ┆           ┆           │\n",
       "╞═════╪════════════╪════════════╪════════════╪═══╪════════════╪════════════╪═══════════╪═══════════╡\n",
       "│ 25  ┆ 123        ┆ 4000.0     ┆ 0.0        ┆ … ┆ 1          ┆ 0          ┆ 0         ┆ 1         │\n",
       "│ 26  ┆ 0          ┆ 4000.0     ┆ 0.0        ┆ … ┆ 1          ┆ 0          ┆ 0         ┆ 1         │\n",
       "│ 27  ┆ 123        ┆ 2300.0     ┆ 0.0        ┆ … ┆ 1          ┆ 0          ┆ 0         ┆ 1         │\n",
       "│ 28  ┆ 0          ┆ 2300.0     ┆ 0.0        ┆ … ┆ 1          ┆ 0          ┆ 0         ┆ 1         │\n",
       "│ 29  ┆ 123        ┆ 0.0        ┆ 0.0        ┆ … ┆ 1          ┆ 0          ┆ 0         ┆ 1         │\n",
       "│ …   ┆ …          ┆ …          ┆ …          ┆ … ┆ …          ┆ …          ┆ …         ┆ …         │\n",
       "│ 120 ┆ 0          ┆ 2300.0     ┆ 0.0        ┆ … ┆ 1          ┆ 0          ┆ 0         ┆ 0         │\n",
       "│ 121 ┆ 0          ┆ 0.0        ┆ 0.0        ┆ … ┆ 1          ┆ 0          ┆ 0         ┆ 0         │\n",
       "│ 122 ┆ 0          ┆ 4000.0     ┆ 0.0        ┆ … ┆ 1          ┆ 0          ┆ 0         ┆ 0         │\n",
       "│ 123 ┆ 0          ┆ 2300.0     ┆ 0.0        ┆ … ┆ 1          ┆ 0          ┆ 0         ┆ 0         │\n",
       "│ 124 ┆ 0          ┆ 0.0        ┆ 0.0        ┆ … ┆ 1          ┆ 0          ┆ 0         ┆ 0         │\n",
       "└─────┴────────────┴────────────┴────────────┴───┴────────────┴────────────┴───────────┴───────────┘"
      ],
      "text/html": [
       "<div><style>\n",
       ".dataframe > thead > tr,\n",
       ".dataframe > tbody > tr {\n",
       "  text-align: right;\n",
       "  white-space: pre-wrap;\n",
       "}\n",
       "</style>\n",
       "<small>shape: (100, 60)</small><table border=\"1\" class=\"dataframe\"><thead><tr><th>Id</th><th>corporateTariffCode</th><th>miniRules0_monetaryAmount</th><th>miniRules0_percentage</th><th>miniRules0_statusInfos</th><th>miniRules1_monetaryAmount</th><th>miniRules1_percentage</th><th>miniRules1_statusInfos</th><th>pricingInfo_isAccessTP</th><th>pricingInfo_passengerCount</th><th>profileId</th><th>ranker_id</th><th>selected</th><th>price_percentile</th><th>price_rank_pct</th><th>price_ratio_to_min</th><th>route_popularity</th><th>route_popularity_log</th><th>is_access3D</th><th>is_roundtrip</th><th>route_origin</th><th>origin_is_major_hub</th><th>destination_is_major_hub</th><th>includes_major_hub</th><th>leg0_num_segments</th><th>leg1_num_segments</th><th>total_segments</th><th>leg0_flight_time_min</th><th>leg1_flight_time_min</th><th>booking_lead_days</th><th>leg0_duration_minutes</th><th>leg1_duration_minutes</th><th>trip_duration_minutes</th><th>leg0_departure_hour</th><th>leg0_departure_weekday</th><th>leg0_arrival_hour</th><th>leg0_arrival_weekday</th><th>leg1_departure_hour</th><th>leg1_arrival_hour</th><th>leg1_departure_weekday</th><th>leg1_arrival_weekday</th><th>has_cancellation_fee</th><th>has_exchange_fee</th><th>max_cabin_class</th><th>avg_cabin_class</th><th>min_seats_available</th><th>total_seats_available</th><th>baggage_allowance_quantity</th><th>baggage_allowance_weight</th><th>unique_carriers</th><th>primary_carrier</th><th>marketing_carrier</th><th>has_mkt_ff</th><th>has_op_ff</th><th>aircraft_diversity</th><th>primary_aircraft</th><th>is_daytime</th><th>is_weekend</th><th>is_redeye</th><th>has_connections</th></tr><tr><td>i64</td><td>i64</td><td>f64</td><td>f64</td><td>f64</td><td>f64</td><td>f64</td><td>f64</td><td>f64</td><td>i64</td><td>i64</td><td>str</td><td>i64</td><td>f64</td><td>f64</td><td>f64</td><td>u32</td><td>f64</td><td>i32</td><td>i8</td><td>str</td><td>i32</td><td>i32</td><td>i32</td><td>u32</td><td>u32</td><td>u32</td><td>i32</td><td>i32</td><td>i32</td><td>i32</td><td>i32</td><td>i32</td><td>i8</td><td>i8</td><td>i8</td><td>i8</td><td>i8</td><td>i8</td><td>i8</td><td>i8</td><td>i32</td><td>i32</td><td>f64</td><td>f64</td><td>f64</td><td>f64</td><td>f64</td><td>f64</td><td>u32</td><td>str</td><td>str</td><td>i32</td><td>i32</td><td>u32</td><td>str</td><td>i8</td><td>i8</td><td>i8</td><td>i8</td></tr></thead><tbody><tr><td>25</td><td>123</td><td>4000.0</td><td>0.0</td><td>1.0</td><td>0.0</td><td>0.0</td><td>0.0</td><td>1.0</td><td>1</td><td>2087904</td><td>&quot;905909166d934c618ad55ab7f5cea5…</td><td>0</td><td>0.0</td><td>0.066667</td><td>1.0</td><td>32</td><td>3.496508</td><td>1</td><td>0</td><td>&quot;TOF&quot;</td><td>0</td><td>0</td><td>0</td><td>2</td><td>0</td><td>2</td><td>140</td><td>0</td><td>29</td><td>730</td><td>0</td><td>730</td><td>11</td><td>6</td><td>21</td><td>6</td><td>0</td><td>0</td><td>0</td><td>0</td><td>1</td><td>0</td><td>1.0</td><td>1.0</td><td>1.0</td><td>10.0</td><td>0.0</td><td>0.0</td><td>1</td><td>&quot;S7&quot;</td><td>&quot;S7&quot;</td><td>0</td><td>0</td><td>1</td><td>&quot;E70&quot;</td><td>1</td><td>0</td><td>0</td><td>1</td></tr><tr><td>26</td><td>0</td><td>4000.0</td><td>0.0</td><td>1.0</td><td>0.0</td><td>0.0</td><td>0.0</td><td>1.0</td><td>1</td><td>2087904</td><td>&quot;905909166d934c618ad55ab7f5cea5…</td><td>0</td><td>7.142857</td><td>0.133333</td><td>1.050282</td><td>32</td><td>3.496508</td><td>0</td><td>0</td><td>&quot;TOF&quot;</td><td>0</td><td>0</td><td>0</td><td>2</td><td>0</td><td>2</td><td>140</td><td>0</td><td>29</td><td>730</td><td>0</td><td>730</td><td>11</td><td>6</td><td>21</td><td>6</td><td>0</td><td>0</td><td>0</td><td>0</td><td>1</td><td>0</td><td>1.0</td><td>1.0</td><td>1.0</td><td>10.0</td><td>0.0</td><td>0.0</td><td>1</td><td>&quot;S7&quot;</td><td>&quot;S7&quot;</td><td>0</td><td>0</td><td>1</td><td>&quot;E70&quot;</td><td>1</td><td>0</td><td>0</td><td>1</td></tr><tr><td>27</td><td>123</td><td>2300.0</td><td>0.0</td><td>1.0</td><td>3500.0</td><td>0.0</td><td>1.0</td><td>1.0</td><td>1</td><td>2087904</td><td>&quot;905909166d934c618ad55ab7f5cea5…</td><td>0</td><td>35.714286</td><td>0.4</td><td>1.235318</td><td>32</td><td>3.496508</td><td>1</td><td>0</td><td>&quot;TOF&quot;</td><td>0</td><td>0</td><td>0</td><td>2</td><td>0</td><td>2</td><td>140</td><td>0</td><td>29</td><td>730</td><td>0</td><td>730</td><td>11</td><td>6</td><td>21</td><td>6</td><td>0</td><td>0</td><td>0</td><td>0</td><td>1</td><td>1</td><td>1.0</td><td>1.0</td><td>1.0</td><td>10.0</td><td>1.0</td><td>0.0</td><td>1</td><td>&quot;S7&quot;</td><td>&quot;S7&quot;</td><td>0</td><td>0</td><td>1</td><td>&quot;E70&quot;</td><td>1</td><td>0</td><td>0</td><td>1</td></tr><tr><td>28</td><td>0</td><td>2300.0</td><td>0.0</td><td>1.0</td><td>3500.0</td><td>0.0</td><td>1.0</td><td>1.0</td><td>1</td><td>2087904</td><td>&quot;905909166d934c618ad55ab7f5cea5…</td><td>0</td><td>42.857143</td><td>0.466667</td><td>1.297667</td><td>32</td><td>3.496508</td><td>0</td><td>0</td><td>&quot;TOF&quot;</td><td>0</td><td>0</td><td>0</td><td>2</td><td>0</td><td>2</td><td>140</td><td>0</td><td>29</td><td>730</td><td>0</td><td>730</td><td>11</td><td>6</td><td>21</td><td>6</td><td>0</td><td>0</td><td>0</td><td>0</td><td>1</td><td>1</td><td>1.0</td><td>1.0</td><td>1.0</td><td>10.0</td><td>1.0</td><td>0.0</td><td>1</td><td>&quot;S7&quot;</td><td>&quot;S7&quot;</td><td>0</td><td>0</td><td>1</td><td>&quot;E70&quot;</td><td>1</td><td>0</td><td>0</td><td>1</td></tr><tr><td>29</td><td>123</td><td>0.0</td><td>0.0</td><td>1.0</td><td>0.0</td><td>0.0</td><td>1.0</td><td>1.0</td><td>1</td><td>2087904</td><td>&quot;905909166d934c618ad55ab7f5cea5…</td><td>0</td><td>78.571429</td><td>0.8</td><td>2.648331</td><td>32</td><td>3.496508</td><td>1</td><td>0</td><td>&quot;TOF&quot;</td><td>0</td><td>0</td><td>0</td><td>2</td><td>0</td><td>2</td><td>140</td><td>0</td><td>29</td><td>730</td><td>0</td><td>730</td><td>11</td><td>6</td><td>21</td><td>6</td><td>0</td><td>0</td><td>0</td><td>0</td><td>0</td><td>0</td><td>1.0</td><td>1.0</td><td>9.0</td><td>18.0</td><td>1.0</td><td>0.0</td><td>1</td><td>&quot;S7&quot;</td><td>&quot;S7&quot;</td><td>0</td><td>0</td><td>1</td><td>&quot;E70&quot;</td><td>1</td><td>0</td><td>0</td><td>1</td></tr><tr><td>&hellip;</td><td>&hellip;</td><td>&hellip;</td><td>&hellip;</td><td>&hellip;</td><td>&hellip;</td><td>&hellip;</td><td>&hellip;</td><td>&hellip;</td><td>&hellip;</td><td>&hellip;</td><td>&hellip;</td><td>&hellip;</td><td>&hellip;</td><td>&hellip;</td><td>&hellip;</td><td>&hellip;</td><td>&hellip;</td><td>&hellip;</td><td>&hellip;</td><td>&hellip;</td><td>&hellip;</td><td>&hellip;</td><td>&hellip;</td><td>&hellip;</td><td>&hellip;</td><td>&hellip;</td><td>&hellip;</td><td>&hellip;</td><td>&hellip;</td><td>&hellip;</td><td>&hellip;</td><td>&hellip;</td><td>&hellip;</td><td>&hellip;</td><td>&hellip;</td><td>&hellip;</td><td>&hellip;</td><td>&hellip;</td><td>&hellip;</td><td>&hellip;</td><td>&hellip;</td><td>&hellip;</td><td>&hellip;</td><td>&hellip;</td><td>&hellip;</td><td>&hellip;</td><td>&hellip;</td><td>&hellip;</td><td>&hellip;</td><td>&hellip;</td><td>&hellip;</td><td>&hellip;</td><td>&hellip;</td><td>&hellip;</td><td>&hellip;</td><td>&hellip;</td><td>&hellip;</td><td>&hellip;</td><td>&hellip;</td></tr><tr><td>120</td><td>0</td><td>2300.0</td><td>0.0</td><td>1.0</td><td>3500.0</td><td>0.0</td><td>1.0</td><td>1.0</td><td>1</td><td>3380969</td><td>&quot;e0f9319a8b3048cdb1c974395e599e…</td><td>1</td><td>4.347826</td><td>0.083333</td><td>1.293048</td><td>452</td><td>6.115892</td><td>0</td><td>0</td><td>&quot;GDX&quot;</td><td>0</td><td>0</td><td>0</td><td>1</td><td>0</td><td>1</td><td>330</td><td>0</td><td>42</td><td>330</td><td>0</td><td>330</td><td>10</td><td>5</td><td>11</td><td>5</td><td>0</td><td>0</td><td>0</td><td>0</td><td>1</td><td>1</td><td>1.0</td><td>1.0</td><td>6.0</td><td>6.0</td><td>1.0</td><td>0.0</td><td>1</td><td>&quot;S7&quot;</td><td>&quot;S7&quot;</td><td>0</td><td>0</td><td>1</td><td>&quot;73H&quot;</td><td>1</td><td>0</td><td>0</td><td>0</td></tr><tr><td>121</td><td>0</td><td>0.0</td><td>0.0</td><td>1.0</td><td>0.0</td><td>0.0</td><td>1.0</td><td>1.0</td><td>1</td><td>3380969</td><td>&quot;e0f9319a8b3048cdb1c974395e599e…</td><td>0</td><td>47.826087</td><td>0.5</td><td>1.98212</td><td>452</td><td>6.115892</td><td>0</td><td>0</td><td>&quot;GDX&quot;</td><td>0</td><td>0</td><td>0</td><td>1</td><td>0</td><td>1</td><td>330</td><td>0</td><td>42</td><td>330</td><td>0</td><td>330</td><td>10</td><td>5</td><td>11</td><td>5</td><td>0</td><td>0</td><td>0</td><td>0</td><td>0</td><td>0</td><td>1.0</td><td>1.0</td><td>6.0</td><td>6.0</td><td>1.0</td><td>0.0</td><td>1</td><td>&quot;S7&quot;</td><td>&quot;S7&quot;</td><td>0</td><td>0</td><td>1</td><td>&quot;73H&quot;</td><td>1</td><td>0</td><td>0</td><td>0</td></tr><tr><td>122</td><td>0</td><td>4000.0</td><td>0.0</td><td>1.0</td><td>0.0</td><td>0.0</td><td>0.0</td><td>0.0</td><td>1</td><td>3380969</td><td>&quot;e0f9319a8b3048cdb1c974395e599e…</td><td>0</td><td>52.173913</td><td>0.541667</td><td>2.263128</td><td>452</td><td>6.115892</td><td>0</td><td>0</td><td>&quot;GDX&quot;</td><td>0</td><td>0</td><td>0</td><td>1</td><td>0</td><td>1</td><td>330</td><td>0</td><td>42</td><td>330</td><td>0</td><td>330</td><td>10</td><td>5</td><td>11</td><td>5</td><td>0</td><td>0</td><td>0</td><td>0</td><td>1</td><td>0</td><td>2.0</td><td>2.0</td><td>4.0</td><td>4.0</td><td>1.0</td><td>0.0</td><td>1</td><td>&quot;S7&quot;</td><td>&quot;S7&quot;</td><td>0</td><td>0</td><td>1</td><td>&quot;73H&quot;</td><td>1</td><td>0</td><td>0</td><td>0</td></tr><tr><td>123</td><td>0</td><td>2300.0</td><td>0.0</td><td>1.0</td><td>3500.0</td><td>0.0</td><td>1.0</td><td>0.0</td><td>1</td><td>3380969</td><td>&quot;e0f9319a8b3048cdb1c974395e599e…</td><td>0</td><td>60.869565</td><td>0.625</td><td>2.901737</td><td>452</td><td>6.115892</td><td>0</td><td>0</td><td>&quot;GDX&quot;</td><td>0</td><td>0</td><td>0</td><td>1</td><td>0</td><td>1</td><td>330</td><td>0</td><td>42</td><td>330</td><td>0</td><td>330</td><td>10</td><td>5</td><td>11</td><td>5</td><td>0</td><td>0</td><td>0</td><td>0</td><td>1</td><td>1</td><td>2.0</td><td>2.0</td><td>4.0</td><td>4.0</td><td>1.0</td><td>0.0</td><td>1</td><td>&quot;S7&quot;</td><td>&quot;S7&quot;</td><td>0</td><td>0</td><td>1</td><td>&quot;73H&quot;</td><td>1</td><td>0</td><td>0</td><td>0</td></tr><tr><td>124</td><td>0</td><td>0.0</td><td>0.0</td><td>1.0</td><td>0.0</td><td>0.0</td><td>1.0</td><td>0.0</td><td>1</td><td>3380969</td><td>&quot;e0f9319a8b3048cdb1c974395e599e…</td><td>0</td><td>73.913043</td><td>0.75</td><td>3.991957</td><td>452</td><td>6.115892</td><td>0</td><td>0</td><td>&quot;GDX&quot;</td><td>0</td><td>0</td><td>0</td><td>1</td><td>0</td><td>1</td><td>330</td><td>0</td><td>42</td><td>330</td><td>0</td><td>330</td><td>10</td><td>5</td><td>11</td><td>5</td><td>0</td><td>0</td><td>0</td><td>0</td><td>0</td><td>0</td><td>2.0</td><td>2.0</td><td>4.0</td><td>4.0</td><td>2.0</td><td>0.0</td><td>1</td><td>&quot;S7&quot;</td><td>&quot;S7&quot;</td><td>0</td><td>0</td><td>1</td><td>&quot;73H&quot;</td><td>1</td><td>0</td><td>0</td><td>0</td></tr></tbody></table></div>"
      ]
     },
     "execution_count": 30,
     "metadata": {},
     "output_type": "execute_result"
    }
   ],
   "execution_count": 30
  },
  {
   "metadata": {
    "ExecuteTime": {
     "end_time": "2025-09-01T22:24:52.856903Z",
     "start_time": "2025-09-01T22:24:47.509442Z"
    }
   },
   "cell_type": "code",
   "source": [
    "# Save flight features for train data\n",
    "train_df.write_parquet('data/train_flight_features.parquet')"
   ],
   "id": "a3403653caec0baf",
   "outputs": [],
   "execution_count": 31
  },
  {
   "metadata": {},
   "cell_type": "markdown",
   "source": [
    "### Prepare Training Data\n",
    "\n",
    "Now combining customer features with clustering segmentation results and flight features"
   ],
   "id": "5108e633dd82e57b"
  },
  {
   "metadata": {
    "ExecuteTime": {
     "end_time": "2025-09-01T23:51:12.270191Z",
     "start_time": "2025-09-01T23:51:12.264686Z"
    }
   },
   "cell_type": "code",
   "source": [
    "def interactive_features()  -> List[pl.Expr]:\n",
    "    return [\n",
    "        (pl.col('is_daytime') * (1.0 - pl.col('night_flight_preference').fill_null(0.5))).alias('daytime_alignment'),\n",
    "        (pl.col('is_weekend') * pl.col('weekend_travel_rate').fill_null(0.5)).alias('weekend_alignment'),\n",
    "        (pl.col('price_rank_pct') * pl.col('price_position_preference').fill_null(0.5)).alias('price_preference_match'),\n",
    "        (pl.col('primary_carrier') == pl.col('most_common_carrier').fill_null('unknown')).cast(pl.Int8).alias('carrier_loyalty_match'),\n",
    "    ]\n",
    "\n",
    "def prepare_combined_data(flight_features, cust_features):\n",
    "    if not isinstance(cust_features, pl.LazyFrame):\n",
    "        cust_features = cust_features.lazy()\n",
    "\n",
    "    # Join the customer features with the flight features, removing outlier profiles\n",
    "    flight_features = (\n",
    "        flight_features.lazy()\n",
    "        .join(cust_features, on='profileId', how='inner').drop(pl.col('profileId'))\n",
    "        .with_columns([\n",
    "            *interactive_features(),  # Additional interactive features between customer and flight search data sets\n",
    "        ])\n",
    "        .collect()\n",
    "    )\n",
    "\n",
    "    return flight_features"
   ],
   "id": "fbc1a29ddd9de297",
   "outputs": [],
   "execution_count": 67
  },
  {
   "metadata": {
    "ExecuteTime": {
     "end_time": "2025-09-01T22:28:06.249680Z",
     "start_time": "2025-09-01T22:28:04.418807Z"
    }
   },
   "cell_type": "code",
   "source": [
    "# Prepare training data by combining customer features with flight features\n",
    "train_df = prepare_combined_data(train_df, pl.scan_parquet('data/train_customer_features.parquet'))  # loading cust_features lazy"
   ],
   "id": "bffcceab88541a57",
   "outputs": [
    {
     "ename": "FileNotFoundError",
     "evalue": "The system cannot find the file specified. (os error 2): data/train_full_features.parquet\n\nResolved plan until failure:\n\n\t---> FAILED HERE RESOLVING 'sink' <---\nDF [\"Id\", \"corporateTariffCode\", \"miniRules0_monetaryAmount\", \"miniRules0_percentage\", ...]; PROJECT */121 COLUMNS",
     "output_type": "error",
     "traceback": [
      "\u001B[31m---------------------------------------------------------------------------\u001B[39m",
      "\u001B[31mFileNotFoundError\u001B[39m                         Traceback (most recent call last)",
      "\u001B[36mCell\u001B[39m\u001B[36m \u001B[39m\u001B[32mIn[39]\u001B[39m\u001B[32m, line 2\u001B[39m\n\u001B[32m      1\u001B[39m \u001B[38;5;66;03m# Prepare training data by combining customer features with flight features\u001B[39;00m\n\u001B[32m----> \u001B[39m\u001B[32m2\u001B[39m train_df = \u001B[43mprepare_training_data\u001B[49m\u001B[43m(\u001B[49m\u001B[43mtrain_df\u001B[49m\u001B[43m,\u001B[49m\u001B[43m \u001B[49m\u001B[43mpl\u001B[49m\u001B[43m.\u001B[49m\u001B[43mscan_parquet\u001B[49m\u001B[43m(\u001B[49m\u001B[33;43m'\u001B[39;49m\u001B[33;43mdata/train_full_features.parquet\u001B[39;49m\u001B[33;43m'\u001B[39;49m\u001B[43m)\u001B[49m\u001B[43m)\u001B[49m  \u001B[38;5;66;03m# loading cust_features lazy\u001B[39;00m\n",
      "\u001B[36mCell\u001B[39m\u001B[36m \u001B[39m\u001B[32mIn[32]\u001B[39m\u001B[32m, line 20\u001B[39m, in \u001B[36mprepare_training_data\u001B[39m\u001B[34m(flight_features, cust_features)\u001B[39m\n\u001B[32m     11\u001B[39m     cust_features = cust_features.lazy()\n\u001B[32m     13\u001B[39m \u001B[38;5;66;03m# Join the customer features with the flight features, removing outlier profiles\u001B[39;00m\n\u001B[32m     14\u001B[39m flight_features = (\n\u001B[32m     15\u001B[39m     \u001B[43mflight_features\u001B[49m\u001B[43m.\u001B[49m\u001B[43mlazy\u001B[49m\u001B[43m(\u001B[49m\u001B[43m)\u001B[49m\n\u001B[32m     16\u001B[39m \u001B[43m    \u001B[49m\u001B[43m.\u001B[49m\u001B[43mjoin\u001B[49m\u001B[43m(\u001B[49m\u001B[43mcust_features\u001B[49m\u001B[43m,\u001B[49m\u001B[43m \u001B[49m\u001B[43mon\u001B[49m\u001B[43m=\u001B[49m\u001B[33;43m'\u001B[39;49m\u001B[33;43mprofileId\u001B[39;49m\u001B[33;43m'\u001B[39;49m\u001B[43m,\u001B[49m\u001B[43m \u001B[49m\u001B[43mhow\u001B[49m\u001B[43m=\u001B[49m\u001B[33;43m'\u001B[39;49m\u001B[33;43minner\u001B[39;49m\u001B[33;43m'\u001B[39;49m\u001B[43m)\u001B[49m\u001B[43m.\u001B[49m\u001B[43mdrop\u001B[49m\u001B[43m(\u001B[49m\u001B[43mpl\u001B[49m\u001B[43m.\u001B[49m\u001B[43mcol\u001B[49m\u001B[43m(\u001B[49m\u001B[33;43m'\u001B[39;49m\u001B[33;43mprofileId\u001B[39;49m\u001B[33;43m'\u001B[39;49m\u001B[43m)\u001B[49m\u001B[43m)\u001B[49m\n\u001B[32m     17\u001B[39m \u001B[43m    \u001B[49m\u001B[43m.\u001B[49m\u001B[43mwith_columns\u001B[49m\u001B[43m(\u001B[49m\u001B[43m[\u001B[49m\n\u001B[32m     18\u001B[39m \u001B[43m        \u001B[49m\u001B[43m*\u001B[49m\u001B[43minteractive_features\u001B[49m\u001B[43m(\u001B[49m\u001B[43m)\u001B[49m\u001B[43m,\u001B[49m\u001B[43m  \u001B[49m\u001B[38;5;66;43;03m# Additional interactive features between customer and flight search data sets\u001B[39;49;00m\n\u001B[32m     19\u001B[39m \u001B[43m    \u001B[49m\u001B[43m]\u001B[49m\u001B[43m)\u001B[49m\n\u001B[32m---> \u001B[39m\u001B[32m20\u001B[39m \u001B[43m    \u001B[49m\u001B[43m.\u001B[49m\u001B[43mcollect\u001B[49m\u001B[43m(\u001B[49m\u001B[43m)\u001B[49m\n\u001B[32m     21\u001B[39m )\n\u001B[32m     23\u001B[39m \u001B[38;5;28;01mreturn\u001B[39;00m flight_features\n",
      "\u001B[36mFile \u001B[39m\u001B[32mS:\\CUBoulder\\MachineLearning\\Unsupervised\\aeroclub_recsys_2025\\.venv\\Lib\\site-packages\\polars\\_utils\\deprecation.py:97\u001B[39m, in \u001B[36mdeprecate_streaming_parameter.<locals>.decorate.<locals>.wrapper\u001B[39m\u001B[34m(*args, **kwargs)\u001B[39m\n\u001B[32m     93\u001B[39m         kwargs[\u001B[33m\"\u001B[39m\u001B[33mengine\u001B[39m\u001B[33m\"\u001B[39m] = \u001B[33m\"\u001B[39m\u001B[33min-memory\u001B[39m\u001B[33m\"\u001B[39m\n\u001B[32m     95\u001B[39m     \u001B[38;5;28;01mdel\u001B[39;00m kwargs[\u001B[33m\"\u001B[39m\u001B[33mstreaming\u001B[39m\u001B[33m\"\u001B[39m]\n\u001B[32m---> \u001B[39m\u001B[32m97\u001B[39m \u001B[38;5;28;01mreturn\u001B[39;00m \u001B[43mfunction\u001B[49m\u001B[43m(\u001B[49m\u001B[43m*\u001B[49m\u001B[43margs\u001B[49m\u001B[43m,\u001B[49m\u001B[43m \u001B[49m\u001B[43m*\u001B[49m\u001B[43m*\u001B[49m\u001B[43mkwargs\u001B[49m\u001B[43m)\u001B[49m\n",
      "\u001B[36mFile \u001B[39m\u001B[32mS:\\CUBoulder\\MachineLearning\\Unsupervised\\aeroclub_recsys_2025\\.venv\\Lib\\site-packages\\polars\\lazyframe\\opt_flags.py:330\u001B[39m, in \u001B[36mforward_old_opt_flags.<locals>.decorate.<locals>.wrapper\u001B[39m\u001B[34m(*args, **kwargs)\u001B[39m\n\u001B[32m    327\u001B[39m         optflags = cb(optflags, kwargs.pop(key))  \u001B[38;5;66;03m# type: ignore[no-untyped-call,unused-ignore]\u001B[39;00m\n\u001B[32m    329\u001B[39m kwargs[\u001B[33m\"\u001B[39m\u001B[33moptimizations\u001B[39m\u001B[33m\"\u001B[39m] = optflags\n\u001B[32m--> \u001B[39m\u001B[32m330\u001B[39m \u001B[38;5;28;01mreturn\u001B[39;00m \u001B[43mfunction\u001B[49m\u001B[43m(\u001B[49m\u001B[43m*\u001B[49m\u001B[43margs\u001B[49m\u001B[43m,\u001B[49m\u001B[43m \u001B[49m\u001B[43m*\u001B[49m\u001B[43m*\u001B[49m\u001B[43mkwargs\u001B[49m\u001B[43m)\u001B[49m\n",
      "\u001B[36mFile \u001B[39m\u001B[32mS:\\CUBoulder\\MachineLearning\\Unsupervised\\aeroclub_recsys_2025\\.venv\\Lib\\site-packages\\polars\\lazyframe\\frame.py:2335\u001B[39m, in \u001B[36mLazyFrame.collect\u001B[39m\u001B[34m(self, type_coercion, predicate_pushdown, projection_pushdown, simplify_expression, slice_pushdown, comm_subplan_elim, comm_subexpr_elim, cluster_with_columns, collapse_joins, no_optimization, engine, background, optimizations, **_kwargs)\u001B[39m\n\u001B[32m   2333\u001B[39m \u001B[38;5;66;03m# Only for testing purposes\u001B[39;00m\n\u001B[32m   2334\u001B[39m callback = _kwargs.get(\u001B[33m\"\u001B[39m\u001B[33mpost_opt_callback\u001B[39m\u001B[33m\"\u001B[39m, callback)\n\u001B[32m-> \u001B[39m\u001B[32m2335\u001B[39m \u001B[38;5;28;01mreturn\u001B[39;00m wrap_df(\u001B[43mldf\u001B[49m\u001B[43m.\u001B[49m\u001B[43mcollect\u001B[49m\u001B[43m(\u001B[49m\u001B[43mengine\u001B[49m\u001B[43m,\u001B[49m\u001B[43m \u001B[49m\u001B[43mcallback\u001B[49m\u001B[43m)\u001B[49m)\n",
      "\u001B[31mFileNotFoundError\u001B[39m: The system cannot find the file specified. (os error 2): data/train_full_features.parquet\n\nResolved plan until failure:\n\n\t---> FAILED HERE RESOLVING 'sink' <---\nDF [\"Id\", \"corporateTariffCode\", \"miniRules0_monetaryAmount\", \"miniRules0_percentage\", ...]; PROJECT */121 COLUMNS"
     ]
    }
   ],
   "execution_count": 39
  },
  {
   "metadata": {
    "ExecuteTime": {
     "end_time": "2025-09-01T22:25:22.218765Z",
     "start_time": "2025-09-01T22:25:22.207095Z"
    }
   },
   "cell_type": "code",
   "source": "train_df.head(100)",
   "id": "cc1bf20f72dfb0a",
   "outputs": [
    {
     "data": {
      "text/plain": [
       "shape: (100, 121)\n",
       "┌─────┬────────────┬────────────┬────────────┬───┬────────────┬────────────┬───────────┬───────────┐\n",
       "│ Id  ┆ corporateT ┆ miniRules0 ┆ miniRules0 ┆ … ┆ daytime_al ┆ weekend_al ┆ price_pre ┆ carrier_l │\n",
       "│ --- ┆ ariffCode  ┆ _monetaryA ┆ _percentag ┆   ┆ ignment    ┆ ignment    ┆ ference_m ┆ oyalty_ma │\n",
       "│ i64 ┆ ---        ┆ mount      ┆ e          ┆   ┆ ---        ┆ ---        ┆ atch      ┆ tch       │\n",
       "│     ┆ i64        ┆ ---        ┆ ---        ┆   ┆ f64        ┆ f64        ┆ ---       ┆ ---       │\n",
       "│     ┆            ┆ f64        ┆ f64        ┆   ┆            ┆            ┆ f64       ┆ i8        │\n",
       "╞═════╪════════════╪════════════╪════════════╪═══╪════════════╪════════════╪═══════════╪═══════════╡\n",
       "│ 25  ┆ 123        ┆ 4000.0     ┆ 0.0        ┆ … ┆ 1.0        ┆ 0.0        ┆ 3.333333  ┆ 1         │\n",
       "│ 26  ┆ 0          ┆ 4000.0     ┆ 0.0        ┆ … ┆ 1.0        ┆ 0.0        ┆ 6.666667  ┆ 1         │\n",
       "│ 27  ┆ 123        ┆ 2300.0     ┆ 0.0        ┆ … ┆ 1.0        ┆ 0.0        ┆ 20.0      ┆ 1         │\n",
       "│ 28  ┆ 0          ┆ 2300.0     ┆ 0.0        ┆ … ┆ 1.0        ┆ 0.0        ┆ 23.333333 ┆ 1         │\n",
       "│ 29  ┆ 123        ┆ 0.0        ┆ 0.0        ┆ … ┆ 1.0        ┆ 0.0        ┆ 40.0      ┆ 1         │\n",
       "│ …   ┆ …          ┆ …          ┆ …          ┆ … ┆ …          ┆ …          ┆ …         ┆ …         │\n",
       "│ 120 ┆ 0          ┆ 2300.0     ┆ 0.0        ┆ … ┆ 0.701923   ┆ 0.0        ┆ 4.112522  ┆ 0         │\n",
       "│ 121 ┆ 0          ┆ 0.0        ┆ 0.0        ┆ … ┆ 0.701923   ┆ 0.0        ┆ 24.675132 ┆ 0         │\n",
       "│ 122 ┆ 0          ┆ 4000.0     ┆ 0.0        ┆ … ┆ 0.701923   ┆ 0.0        ┆ 26.731393 ┆ 0         │\n",
       "│ 123 ┆ 0          ┆ 2300.0     ┆ 0.0        ┆ … ┆ 0.701923   ┆ 0.0        ┆ 30.843915 ┆ 0         │\n",
       "│ 124 ┆ 0          ┆ 0.0        ┆ 0.0        ┆ … ┆ 0.701923   ┆ 0.0        ┆ 37.012699 ┆ 0         │\n",
       "└─────┴────────────┴────────────┴────────────┴───┴────────────┴────────────┴───────────┴───────────┘"
      ],
      "text/html": [
       "<div><style>\n",
       ".dataframe > thead > tr,\n",
       ".dataframe > tbody > tr {\n",
       "  text-align: right;\n",
       "  white-space: pre-wrap;\n",
       "}\n",
       "</style>\n",
       "<small>shape: (100, 121)</small><table border=\"1\" class=\"dataframe\"><thead><tr><th>Id</th><th>corporateTariffCode</th><th>miniRules0_monetaryAmount</th><th>miniRules0_percentage</th><th>miniRules0_statusInfos</th><th>miniRules1_monetaryAmount</th><th>miniRules1_percentage</th><th>miniRules1_statusInfos</th><th>pricingInfo_isAccessTP</th><th>pricingInfo_passengerCount</th><th>ranker_id</th><th>selected</th><th>price_percentile</th><th>price_rank_pct</th><th>price_ratio_to_min</th><th>route_popularity</th><th>route_popularity_log</th><th>is_access3D</th><th>is_roundtrip</th><th>route_origin</th><th>origin_is_major_hub</th><th>destination_is_major_hub</th><th>includes_major_hub</th><th>leg0_num_segments</th><th>leg1_num_segments</th><th>total_segments</th><th>leg0_flight_time_min</th><th>leg1_flight_time_min</th><th>booking_lead_days</th><th>leg0_duration_minutes</th><th>leg1_duration_minutes</th><th>trip_duration_minutes</th><th>leg0_departure_hour</th><th>leg0_departure_weekday</th><th>leg0_arrival_hour</th><th>leg0_arrival_weekday</th><th>leg1_departure_hour</th><th>&hellip;</th><th>route_loyalty</th><th>hub_preference</th><th>short_haul_preference</th><th>connection_tolerance</th><th>preferred_duration_quartile</th><th>price_to_duration_sensitivity</th><th>avg_price_per_minute</th><th>price_per_minute_variance</th><th>price_position_preference</th><th>premium_economy_preference</th><th>consistent_price_tier</th><th>preferred_price_tier</th><th>baggage_qty_preference</th><th>baggage_weight_preference</th><th>loyalty_program_utilization</th><th>convenience_priority_score</th><th>loyalty_vs_price_index</th><th>planning_consistency_score</th><th>luxury_index</th><th>search_intensity_per_route</th><th>lead_time_variance</th><th>lead_time_skew</th><th>carrier_diversity</th><th>airport_diversity</th><th>cabin_class_range</th><th>customer_tier</th><th>vip_search_intensity</th><th>vip_carrier_diversity</th><th>vip_cabin_preference</th><th>corp_search_volume</th><th>corp_roundtrip_pref</th><th>corp_planning_variance</th><th>customer_segment</th><th>daytime_alignment</th><th>weekend_alignment</th><th>price_preference_match</th><th>carrier_loyalty_match</th></tr><tr><td>i64</td><td>i64</td><td>f64</td><td>f64</td><td>f64</td><td>f64</td><td>f64</td><td>f64</td><td>f64</td><td>i64</td><td>str</td><td>i64</td><td>f64</td><td>f64</td><td>f64</td><td>u32</td><td>f64</td><td>i32</td><td>i8</td><td>str</td><td>i32</td><td>i32</td><td>i32</td><td>u32</td><td>u32</td><td>u32</td><td>i32</td><td>i32</td><td>i32</td><td>i32</td><td>i32</td><td>i32</td><td>i8</td><td>i8</td><td>i8</td><td>i8</td><td>i8</td><td>&hellip;</td><td>f64</td><td>f64</td><td>f64</td><td>f64</td><td>i32</td><td>f64</td><td>f64</td><td>f64</td><td>f64</td><td>f64</td><td>f64</td><td>i32</td><td>f64</td><td>f64</td><td>f64</td><td>f64</td><td>f64</td><td>f64</td><td>f64</td><td>f64</td><td>i32</td><td>f64</td><td>f64</td><td>f64</td><td>f64</td><td>i8</td><td>f64</td><td>f64</td><td>f64</td><td>i64</td><td>f64</td><td>i32</td><td>i64</td><td>f64</td><td>f64</td><td>f64</td><td>i8</td></tr></thead><tbody><tr><td>25</td><td>123</td><td>4000.0</td><td>0.0</td><td>1.0</td><td>0.0</td><td>0.0</td><td>0.0</td><td>1.0</td><td>1</td><td>&quot;905909166d934c618ad55ab7f5cea5…</td><td>0</td><td>0.0</td><td>0.066667</td><td>1.0</td><td>32</td><td>3.496508</td><td>1</td><td>0</td><td>&quot;TOF&quot;</td><td>0</td><td>0</td><td>0</td><td>2</td><td>0</td><td>2</td><td>140</td><td>0</td><td>29</td><td>730</td><td>0</td><td>730</td><td>11</td><td>6</td><td>21</td><td>6</td><td>0</td><td>&hellip;</td><td>0.958333</td><td>0.0</td><td>0.0</td><td>1.75</td><td>1</td><td>0.283051</td><td>56.281214</td><td>62.121473</td><td>50.0</td><td>0.0</td><td>0.609132</td><td>2</td><td>0.666667</td><td>0.0</td><td>0.0</td><td>2.568737</td><td>-5.0</td><td>0.2</td><td>45.0</td><td>24.0</td><td>4</td><td>0.956897</td><td>0.083333</td><td>0.041667</td><td>0.0</td><td>1</td><td>0.0</td><td>0.0</td><td>0.0</td><td>24</td><td>0.0</td><td>4</td><td>10</td><td>1.0</td><td>0.0</td><td>3.333333</td><td>1</td></tr><tr><td>26</td><td>0</td><td>4000.0</td><td>0.0</td><td>1.0</td><td>0.0</td><td>0.0</td><td>0.0</td><td>1.0</td><td>1</td><td>&quot;905909166d934c618ad55ab7f5cea5…</td><td>0</td><td>7.142857</td><td>0.133333</td><td>1.050282</td><td>32</td><td>3.496508</td><td>0</td><td>0</td><td>&quot;TOF&quot;</td><td>0</td><td>0</td><td>0</td><td>2</td><td>0</td><td>2</td><td>140</td><td>0</td><td>29</td><td>730</td><td>0</td><td>730</td><td>11</td><td>6</td><td>21</td><td>6</td><td>0</td><td>&hellip;</td><td>0.958333</td><td>0.0</td><td>0.0</td><td>1.75</td><td>1</td><td>0.283051</td><td>56.281214</td><td>62.121473</td><td>50.0</td><td>0.0</td><td>0.609132</td><td>2</td><td>0.666667</td><td>0.0</td><td>0.0</td><td>2.568737</td><td>-5.0</td><td>0.2</td><td>45.0</td><td>24.0</td><td>4</td><td>0.956897</td><td>0.083333</td><td>0.041667</td><td>0.0</td><td>1</td><td>0.0</td><td>0.0</td><td>0.0</td><td>24</td><td>0.0</td><td>4</td><td>10</td><td>1.0</td><td>0.0</td><td>6.666667</td><td>1</td></tr><tr><td>27</td><td>123</td><td>2300.0</td><td>0.0</td><td>1.0</td><td>3500.0</td><td>0.0</td><td>1.0</td><td>1.0</td><td>1</td><td>&quot;905909166d934c618ad55ab7f5cea5…</td><td>0</td><td>35.714286</td><td>0.4</td><td>1.235318</td><td>32</td><td>3.496508</td><td>1</td><td>0</td><td>&quot;TOF&quot;</td><td>0</td><td>0</td><td>0</td><td>2</td><td>0</td><td>2</td><td>140</td><td>0</td><td>29</td><td>730</td><td>0</td><td>730</td><td>11</td><td>6</td><td>21</td><td>6</td><td>0</td><td>&hellip;</td><td>0.958333</td><td>0.0</td><td>0.0</td><td>1.75</td><td>1</td><td>0.283051</td><td>56.281214</td><td>62.121473</td><td>50.0</td><td>0.0</td><td>0.609132</td><td>2</td><td>0.666667</td><td>0.0</td><td>0.0</td><td>2.568737</td><td>-5.0</td><td>0.2</td><td>45.0</td><td>24.0</td><td>4</td><td>0.956897</td><td>0.083333</td><td>0.041667</td><td>0.0</td><td>1</td><td>0.0</td><td>0.0</td><td>0.0</td><td>24</td><td>0.0</td><td>4</td><td>10</td><td>1.0</td><td>0.0</td><td>20.0</td><td>1</td></tr><tr><td>28</td><td>0</td><td>2300.0</td><td>0.0</td><td>1.0</td><td>3500.0</td><td>0.0</td><td>1.0</td><td>1.0</td><td>1</td><td>&quot;905909166d934c618ad55ab7f5cea5…</td><td>0</td><td>42.857143</td><td>0.466667</td><td>1.297667</td><td>32</td><td>3.496508</td><td>0</td><td>0</td><td>&quot;TOF&quot;</td><td>0</td><td>0</td><td>0</td><td>2</td><td>0</td><td>2</td><td>140</td><td>0</td><td>29</td><td>730</td><td>0</td><td>730</td><td>11</td><td>6</td><td>21</td><td>6</td><td>0</td><td>&hellip;</td><td>0.958333</td><td>0.0</td><td>0.0</td><td>1.75</td><td>1</td><td>0.283051</td><td>56.281214</td><td>62.121473</td><td>50.0</td><td>0.0</td><td>0.609132</td><td>2</td><td>0.666667</td><td>0.0</td><td>0.0</td><td>2.568737</td><td>-5.0</td><td>0.2</td><td>45.0</td><td>24.0</td><td>4</td><td>0.956897</td><td>0.083333</td><td>0.041667</td><td>0.0</td><td>1</td><td>0.0</td><td>0.0</td><td>0.0</td><td>24</td><td>0.0</td><td>4</td><td>10</td><td>1.0</td><td>0.0</td><td>23.333333</td><td>1</td></tr><tr><td>29</td><td>123</td><td>0.0</td><td>0.0</td><td>1.0</td><td>0.0</td><td>0.0</td><td>1.0</td><td>1.0</td><td>1</td><td>&quot;905909166d934c618ad55ab7f5cea5…</td><td>0</td><td>78.571429</td><td>0.8</td><td>2.648331</td><td>32</td><td>3.496508</td><td>1</td><td>0</td><td>&quot;TOF&quot;</td><td>0</td><td>0</td><td>0</td><td>2</td><td>0</td><td>2</td><td>140</td><td>0</td><td>29</td><td>730</td><td>0</td><td>730</td><td>11</td><td>6</td><td>21</td><td>6</td><td>0</td><td>&hellip;</td><td>0.958333</td><td>0.0</td><td>0.0</td><td>1.75</td><td>1</td><td>0.283051</td><td>56.281214</td><td>62.121473</td><td>50.0</td><td>0.0</td><td>0.609132</td><td>2</td><td>0.666667</td><td>0.0</td><td>0.0</td><td>2.568737</td><td>-5.0</td><td>0.2</td><td>45.0</td><td>24.0</td><td>4</td><td>0.956897</td><td>0.083333</td><td>0.041667</td><td>0.0</td><td>1</td><td>0.0</td><td>0.0</td><td>0.0</td><td>24</td><td>0.0</td><td>4</td><td>10</td><td>1.0</td><td>0.0</td><td>40.0</td><td>1</td></tr><tr><td>&hellip;</td><td>&hellip;</td><td>&hellip;</td><td>&hellip;</td><td>&hellip;</td><td>&hellip;</td><td>&hellip;</td><td>&hellip;</td><td>&hellip;</td><td>&hellip;</td><td>&hellip;</td><td>&hellip;</td><td>&hellip;</td><td>&hellip;</td><td>&hellip;</td><td>&hellip;</td><td>&hellip;</td><td>&hellip;</td><td>&hellip;</td><td>&hellip;</td><td>&hellip;</td><td>&hellip;</td><td>&hellip;</td><td>&hellip;</td><td>&hellip;</td><td>&hellip;</td><td>&hellip;</td><td>&hellip;</td><td>&hellip;</td><td>&hellip;</td><td>&hellip;</td><td>&hellip;</td><td>&hellip;</td><td>&hellip;</td><td>&hellip;</td><td>&hellip;</td><td>&hellip;</td><td>&hellip;</td><td>&hellip;</td><td>&hellip;</td><td>&hellip;</td><td>&hellip;</td><td>&hellip;</td><td>&hellip;</td><td>&hellip;</td><td>&hellip;</td><td>&hellip;</td><td>&hellip;</td><td>&hellip;</td><td>&hellip;</td><td>&hellip;</td><td>&hellip;</td><td>&hellip;</td><td>&hellip;</td><td>&hellip;</td><td>&hellip;</td><td>&hellip;</td><td>&hellip;</td><td>&hellip;</td><td>&hellip;</td><td>&hellip;</td><td>&hellip;</td><td>&hellip;</td><td>&hellip;</td><td>&hellip;</td><td>&hellip;</td><td>&hellip;</td><td>&hellip;</td><td>&hellip;</td><td>&hellip;</td><td>&hellip;</td><td>&hellip;</td><td>&hellip;</td><td>&hellip;</td><td>&hellip;</td></tr><tr><td>120</td><td>0</td><td>2300.0</td><td>0.0</td><td>1.0</td><td>3500.0</td><td>0.0</td><td>1.0</td><td>1.0</td><td>1</td><td>&quot;e0f9319a8b3048cdb1c974395e599e…</td><td>1</td><td>4.347826</td><td>0.083333</td><td>1.293048</td><td>452</td><td>6.115892</td><td>0</td><td>0</td><td>&quot;GDX&quot;</td><td>0</td><td>0</td><td>0</td><td>1</td><td>0</td><td>1</td><td>330</td><td>0</td><td>42</td><td>330</td><td>0</td><td>330</td><td>10</td><td>5</td><td>11</td><td>5</td><td>0</td><td>&hellip;</td><td>0.971154</td><td>0.0</td><td>0.0</td><td>1.740385</td><td>2</td><td>0.375849</td><td>98.484632</td><td>62.123105</td><td>49.350265</td><td>0.461538</td><td>0.619922</td><td>1</td><td>1.144231</td><td>0.0</td><td>0.0</td><td>-34.951512</td><td>-4.935026</td><td>0.022222</td><td>53.905902</td><td>34.666667</td><td>44</td><td>0.875862</td><td>0.019231</td><td>0.019231</td><td>1.0</td><td>1</td><td>0.0</td><td>0.0</td><td>0.0</td><td>0</td><td>0.0</td><td>0</td><td>10</td><td>0.701923</td><td>0.0</td><td>4.112522</td><td>0</td></tr><tr><td>121</td><td>0</td><td>0.0</td><td>0.0</td><td>1.0</td><td>0.0</td><td>0.0</td><td>1.0</td><td>1.0</td><td>1</td><td>&quot;e0f9319a8b3048cdb1c974395e599e…</td><td>0</td><td>47.826087</td><td>0.5</td><td>1.98212</td><td>452</td><td>6.115892</td><td>0</td><td>0</td><td>&quot;GDX&quot;</td><td>0</td><td>0</td><td>0</td><td>1</td><td>0</td><td>1</td><td>330</td><td>0</td><td>42</td><td>330</td><td>0</td><td>330</td><td>10</td><td>5</td><td>11</td><td>5</td><td>0</td><td>&hellip;</td><td>0.971154</td><td>0.0</td><td>0.0</td><td>1.740385</td><td>2</td><td>0.375849</td><td>98.484632</td><td>62.123105</td><td>49.350265</td><td>0.461538</td><td>0.619922</td><td>1</td><td>1.144231</td><td>0.0</td><td>0.0</td><td>-34.951512</td><td>-4.935026</td><td>0.022222</td><td>53.905902</td><td>34.666667</td><td>44</td><td>0.875862</td><td>0.019231</td><td>0.019231</td><td>1.0</td><td>1</td><td>0.0</td><td>0.0</td><td>0.0</td><td>0</td><td>0.0</td><td>0</td><td>10</td><td>0.701923</td><td>0.0</td><td>24.675132</td><td>0</td></tr><tr><td>122</td><td>0</td><td>4000.0</td><td>0.0</td><td>1.0</td><td>0.0</td><td>0.0</td><td>0.0</td><td>0.0</td><td>1</td><td>&quot;e0f9319a8b3048cdb1c974395e599e…</td><td>0</td><td>52.173913</td><td>0.541667</td><td>2.263128</td><td>452</td><td>6.115892</td><td>0</td><td>0</td><td>&quot;GDX&quot;</td><td>0</td><td>0</td><td>0</td><td>1</td><td>0</td><td>1</td><td>330</td><td>0</td><td>42</td><td>330</td><td>0</td><td>330</td><td>10</td><td>5</td><td>11</td><td>5</td><td>0</td><td>&hellip;</td><td>0.971154</td><td>0.0</td><td>0.0</td><td>1.740385</td><td>2</td><td>0.375849</td><td>98.484632</td><td>62.123105</td><td>49.350265</td><td>0.461538</td><td>0.619922</td><td>1</td><td>1.144231</td><td>0.0</td><td>0.0</td><td>-34.951512</td><td>-4.935026</td><td>0.022222</td><td>53.905902</td><td>34.666667</td><td>44</td><td>0.875862</td><td>0.019231</td><td>0.019231</td><td>1.0</td><td>1</td><td>0.0</td><td>0.0</td><td>0.0</td><td>0</td><td>0.0</td><td>0</td><td>10</td><td>0.701923</td><td>0.0</td><td>26.731393</td><td>0</td></tr><tr><td>123</td><td>0</td><td>2300.0</td><td>0.0</td><td>1.0</td><td>3500.0</td><td>0.0</td><td>1.0</td><td>0.0</td><td>1</td><td>&quot;e0f9319a8b3048cdb1c974395e599e…</td><td>0</td><td>60.869565</td><td>0.625</td><td>2.901737</td><td>452</td><td>6.115892</td><td>0</td><td>0</td><td>&quot;GDX&quot;</td><td>0</td><td>0</td><td>0</td><td>1</td><td>0</td><td>1</td><td>330</td><td>0</td><td>42</td><td>330</td><td>0</td><td>330</td><td>10</td><td>5</td><td>11</td><td>5</td><td>0</td><td>&hellip;</td><td>0.971154</td><td>0.0</td><td>0.0</td><td>1.740385</td><td>2</td><td>0.375849</td><td>98.484632</td><td>62.123105</td><td>49.350265</td><td>0.461538</td><td>0.619922</td><td>1</td><td>1.144231</td><td>0.0</td><td>0.0</td><td>-34.951512</td><td>-4.935026</td><td>0.022222</td><td>53.905902</td><td>34.666667</td><td>44</td><td>0.875862</td><td>0.019231</td><td>0.019231</td><td>1.0</td><td>1</td><td>0.0</td><td>0.0</td><td>0.0</td><td>0</td><td>0.0</td><td>0</td><td>10</td><td>0.701923</td><td>0.0</td><td>30.843915</td><td>0</td></tr><tr><td>124</td><td>0</td><td>0.0</td><td>0.0</td><td>1.0</td><td>0.0</td><td>0.0</td><td>1.0</td><td>0.0</td><td>1</td><td>&quot;e0f9319a8b3048cdb1c974395e599e…</td><td>0</td><td>73.913043</td><td>0.75</td><td>3.991957</td><td>452</td><td>6.115892</td><td>0</td><td>0</td><td>&quot;GDX&quot;</td><td>0</td><td>0</td><td>0</td><td>1</td><td>0</td><td>1</td><td>330</td><td>0</td><td>42</td><td>330</td><td>0</td><td>330</td><td>10</td><td>5</td><td>11</td><td>5</td><td>0</td><td>&hellip;</td><td>0.971154</td><td>0.0</td><td>0.0</td><td>1.740385</td><td>2</td><td>0.375849</td><td>98.484632</td><td>62.123105</td><td>49.350265</td><td>0.461538</td><td>0.619922</td><td>1</td><td>1.144231</td><td>0.0</td><td>0.0</td><td>-34.951512</td><td>-4.935026</td><td>0.022222</td><td>53.905902</td><td>34.666667</td><td>44</td><td>0.875862</td><td>0.019231</td><td>0.019231</td><td>1.0</td><td>1</td><td>0.0</td><td>0.0</td><td>0.0</td><td>0</td><td>0.0</td><td>0</td><td>10</td><td>0.701923</td><td>0.0</td><td>37.012699</td><td>0</td></tr></tbody></table></div>"
      ]
     },
     "execution_count": 34,
     "metadata": {},
     "output_type": "execute_result"
    }
   ],
   "execution_count": 34
  },
  {
   "metadata": {
    "ExecuteTime": {
     "end_time": "2025-09-01T22:25:26.117582Z",
     "start_time": "2025-09-01T22:25:26.111062Z"
    }
   },
   "cell_type": "code",
   "source": "train_df.shape",
   "id": "cc48dba264e64bd",
   "outputs": [
    {
     "data": {
      "text/plain": [
       "(12796940, 121)"
      ]
     },
     "execution_count": 35,
     "metadata": {},
     "output_type": "execute_result"
    }
   ],
   "execution_count": 35
  },
  {
   "metadata": {
    "ExecuteTime": {
     "end_time": "2025-09-01T22:25:34.555976Z",
     "start_time": "2025-09-01T22:25:34.546436Z"
    }
   },
   "cell_type": "code",
   "source": [
    "def prepare_ranking_data(df):\n",
    "    # Sort the data sets for ranking\n",
    "    sort_indices = df['ranker_id'].arg_sort()\n",
    "    X = df[sort_indices]\n",
    "    y = X['selected'].to_numpy()\n",
    "\n",
    "    # Get search group sizes for chunked ranking\n",
    "    group_sizes = (\n",
    "        X\n",
    "        .group_by('ranker_id', maintain_order=True)\n",
    "        .len()\n",
    "        .select('len')\n",
    "        .to_numpy()\n",
    "        .flatten()\n",
    "    )\n",
    "\n",
    "    return X.drop(['ranker_id','selected']), y, group_sizes\n",
    "\n",
    "\n",
    "def train_lgb_ranker(X, y, group_sizes):\n",
    "    \"\"\"\n",
    "    Train LGBRanker with proper group structure\n",
    "    \"\"\"\n",
    "    categorical_features = [col for col in X.columns if not X[col].dtype.is_numeric()]\n",
    "    X = X.with_columns([pl.col(col).cast(pl.Categorical) for col in categorical_features])\n",
    "\n",
    "    # Convert to pandas for LightGBM compatibility\n",
    "    X = X.to_pandas()\n",
    "\n",
    "    train_data = lgb.Dataset(\n",
    "        X, label=y,\n",
    "        group=group_sizes,  # This tells LGB how many samples per search\n",
    "        categorical_feature=categorical_features\n",
    "    )\n",
    "\n",
    "    params = {\n",
    "        'objective': 'lambdarank',\n",
    "        'metric': 'ndcg',\n",
    "        'ndcg_eval_at': [3],\n",
    "        'boosting_type': 'gbdt',\n",
    "        'num_leaves': 255,\n",
    "        'learning_rate': 0.1,\n",
    "        'feature_fraction': 0.8,\n",
    "        'bagging_fraction': 0.8,\n",
    "        'bagging_freq': 5,\n",
    "        'min_data_in_leaf': 50,\n",
    "        'num_threads': -1,\n",
    "        'verbose': -1\n",
    "    }\n",
    "\n",
    "    model = lgb.train(\n",
    "        params,\n",
    "        train_data,\n",
    "        num_boost_round=1000,\n",
    "        # callbacks=[lgb.early_stopping(100), lgb.log_evaluation(100)]\n",
    "        callbacks=[lgb.log_evaluation(100)]\n",
    "    )\n",
    "\n",
    "    return model"
   ],
   "id": "57548739a11c23f9",
   "outputs": [],
   "execution_count": 36
  },
  {
   "metadata": {
    "ExecuteTime": {
     "end_time": "2025-09-01T22:25:36.595361Z",
     "start_time": "2025-09-01T22:25:36.585245Z"
    }
   },
   "cell_type": "code",
   "source": [
    "def calculate_hit_rate_at_k(y_true, y_pred, groups, k=3):\n",
    "    \"\"\"\n",
    "    Calculate Hit Rate @ K for ranking model\n",
    "\n",
    "    Parameters:\n",
    "    - y_true: actual binary labels (1 if selected, 0 if not)\n",
    "    - y_pred: predicted scores from ranker\n",
    "    - groups: group sizes (number of flights per search)\n",
    "    - k: number of top predictions to consider (3 in your case)\n",
    "\n",
    "    Returns:\n",
    "    - hit_rate: fraction of searches where at least 1 of top-k predictions was correct\n",
    "    \"\"\"\n",
    "    hits = 0\n",
    "    total_searches = 0\n",
    "    start_idx = 0\n",
    "\n",
    "    for group_size in groups:\n",
    "        # Extract data for this search group\n",
    "        group_true = y_true[start_idx:start_idx + group_size]\n",
    "        group_pred = y_pred[start_idx:start_idx + group_size]\n",
    "\n",
    "        # Get indices of actual selections\n",
    "        actual_selections = set(np.where(group_true == 1)[0])\n",
    "\n",
    "        # Get top-k predictions (indices sorted by prediction score)\n",
    "        top_k_indices = np.argsort(group_pred)[-k:]  # Get indices of top-k scores\n",
    "        top_k_indices = set(top_k_indices)\n",
    "\n",
    "        # Check if any top-k prediction matches actual selection\n",
    "        if len(actual_selections.intersection(top_k_indices)) > 0:\n",
    "            hits += 1\n",
    "\n",
    "        total_searches += 1\n",
    "        start_idx += group_size\n",
    "\n",
    "    hit_rate = hits / total_searches if total_searches > 0 else 0\n",
    "    return hit_rate\n",
    "\n",
    "def detailed_hit_rate_evaluation(y_true, y_pred, groups, ranker_ids=None, k=3):\n",
    "    \"\"\"\n",
    "    More detailed evaluation with additional metrics\n",
    "    \"\"\"\n",
    "    hits = 0\n",
    "    total_searches = 0\n",
    "    hit_details = []\n",
    "    start_idx = 0\n",
    "\n",
    "    for i, group_size in enumerate(groups):\n",
    "        group_true = y_true[start_idx:start_idx + group_size]\n",
    "        group_pred = y_pred[start_idx:start_idx + group_size]\n",
    "\n",
    "        # Actual selections\n",
    "        actual_selections = np.where(group_true == 1)[0]\n",
    "        num_actual_selections = len(actual_selections)\n",
    "\n",
    "        # Top-k predictions\n",
    "        top_k_indices = np.argsort(group_pred)[-k:]\n",
    "\n",
    "        # Calculate hit\n",
    "        hit = len(set(actual_selections).intersection(set(top_k_indices))) > 0\n",
    "\n",
    "        if hit:\n",
    "            hits += 1\n",
    "\n",
    "        # Store details for analysis\n",
    "        search_id = ranker_ids[i] if ranker_ids is not None else i\n",
    "        hit_details.append({\n",
    "            'search_id': search_id,\n",
    "            'group_size': group_size,\n",
    "            'num_actual_selections': num_actual_selections,\n",
    "            'hit': hit,\n",
    "            'top_k_scores': group_pred[top_k_indices].tolist(),\n",
    "            'actual_selections_scores': group_pred[actual_selections].tolist() if len(actual_selections) > 0 else []\n",
    "        })\n",
    "\n",
    "        total_searches += 1\n",
    "        start_idx += group_size\n",
    "\n",
    "    hit_rate = hits / total_searches\n",
    "\n",
    "    return hit_rate, hit_details"
   ],
   "id": "286f359e845c1fce",
   "outputs": [],
   "execution_count": 37
  },
  {
   "metadata": {
    "ExecuteTime": {
     "end_time": "2025-09-01T22:25:38.396820Z",
     "start_time": "2025-09-01T22:25:38.384516Z"
    }
   },
   "cell_type": "code",
   "source": [
    "def evaluate_model_hit_rate(model, X_val, y_val, group_sizes_val, k=3):\n",
    "    \"\"\"\n",
    "    Evaluate trained LGBRanker model using HitRate@K\n",
    "    \"\"\"\n",
    "    # Get predictions\n",
    "    y_pred = model.predict(X_val)\n",
    "\n",
    "    # Calculate hit rate\n",
    "    hit_rate = calculate_hit_rate_at_k(y_val, y_pred, group_sizes_val, k=k)\n",
    "\n",
    "    print(f\"Hit Rate @ {k}: {hit_rate:.4f}\")\n",
    "    return hit_rate\n",
    "\n",
    "def cross_validate_with_hit_rate(df, n_folds=5):\n",
    "    \"\"\"\n",
    "    Cross-validation preserving search groups and calculating HitRate@3\n",
    "    \"\"\"\n",
    "    # Get unique search IDs\n",
    "    unique_searches = df['ranker_id'].unique()\n",
    "    np.random.shuffle(unique_searches)\n",
    "\n",
    "    fold_size = len(unique_searches) // n_folds\n",
    "    hit_rates = []\n",
    "\n",
    "    for fold in range(n_folds):\n",
    "        print(f\"\\nFold {fold + 1}/{n_folds}\")\n",
    "\n",
    "        # Split search IDs\n",
    "        start_idx = fold * fold_size\n",
    "        end_idx = start_idx + fold_size if fold < n_folds - 1 else len(unique_searches)\n",
    "        val_searches = unique_searches[start_idx:end_idx]\n",
    "        train_searches = np.setdiff1d(unique_searches, val_searches)\n",
    "\n",
    "        # Split data\n",
    "        train = df[df['ranker_id'].isin(train_searches)]\n",
    "        val = df[df['ranker_id'].isin(val_searches)]\n",
    "\n",
    "        # Prepare training data\n",
    "        X_train, y_train, groups_train = prepare_ranking_data(train)\n",
    "        X_val, y_val, groups_val = prepare_ranking_data(val)\n",
    "\n",
    "        # Train model\n",
    "        model = train_lgb_ranker(X_train, y_train, groups_train)\n",
    "\n",
    "        # Evaluate\n",
    "        hit_rate = evaluate_model_hit_rate(model, X_val, y_val, groups_val)\n",
    "        hit_rates.append(hit_rate)\n",
    "\n",
    "    print(f\"\\nCross-validation results:\")\n",
    "    print(f\"Mean Hit Rate @ 3: {np.mean(hit_rates):.4f} (+/- {np.std(hit_rates)*2:.4f})\")\n",
    "    return hit_rates"
   ],
   "id": "7358fe64c007b7b5",
   "outputs": [],
   "execution_count": 38
  },
  {
   "metadata": {
    "ExecuteTime": {
     "end_time": "2025-09-01T22:29:57.067271Z",
     "start_time": "2025-09-01T22:29:57.062842Z"
    }
   },
   "cell_type": "code",
   "source": [
    "try:\n",
    "    train_df.head()\n",
    "except NameError:\n",
    "    train_df = pl.read_parquet('data/train_flight_features.parquet')\n",
    "    print(f'loaded flight features from parquet file: {train_df.shape}')"
   ],
   "id": "5ceb7c9a04ec5a16",
   "outputs": [],
   "execution_count": 40
  },
  {
   "metadata": {
    "ExecuteTime": {
     "end_time": "2025-09-01T22:37:32.616314Z",
     "start_time": "2025-09-01T22:37:30.562704Z"
    }
   },
   "cell_type": "code",
   "source": [
    "# Prepare Train data for ranking\n",
    "X, y, group_sizes = prepare_ranking_data(train_df)"
   ],
   "id": "867fa0d32504bc09",
   "outputs": [],
   "execution_count": 41
  },
  {
   "metadata": {
    "ExecuteTime": {
     "end_time": "2025-09-01T22:37:47.032031Z",
     "start_time": "2025-09-01T22:37:46.769295Z"
    }
   },
   "cell_type": "code",
   "source": [
    "# Remove the feature dataframe to free up memory\n",
    "del train_df\n",
    "gc.collect()"
   ],
   "id": "5d1e927bc981df82",
   "outputs": [
    {
     "data": {
      "text/plain": [
       "2866"
      ]
     },
     "execution_count": 42,
     "metadata": {},
     "output_type": "execute_result"
    }
   ],
   "execution_count": 42
  },
  {
   "metadata": {
    "ExecuteTime": {
     "end_time": "2025-09-01T22:52:23.261251Z",
     "start_time": "2025-09-01T22:39:18.284032Z"
    }
   },
   "cell_type": "code",
   "source": [
    "# Train model\n",
    "model = train_lgb_ranker(X, y, group_sizes)"
   ],
   "id": "e59cbf74491075f9",
   "outputs": [],
   "execution_count": 43
  },
  {
   "metadata": {
    "ExecuteTime": {
     "end_time": "2025-09-01T23:05:18.040666Z",
     "start_time": "2025-09-01T23:05:17.715477Z"
    }
   },
   "cell_type": "code",
   "source": [
    "# Save the trained flight selection model\n",
    "joblib.dump({'lgb_ranker_model': model}, 'data/lgb_ranker_model.joblib')"
   ],
   "id": "cbb676896ff718d9",
   "outputs": [
    {
     "data": {
      "text/plain": [
       "['data/lgb_ranker_model.joblib']"
      ]
     },
     "execution_count": 45,
     "metadata": {},
     "output_type": "execute_result"
    }
   ],
   "execution_count": 45
  },
  {
   "metadata": {
    "ExecuteTime": {
     "end_time": "2025-09-01T23:05:27.033943Z",
     "start_time": "2025-09-01T23:05:26.569742Z"
    }
   },
   "cell_type": "code",
   "source": [
    "del X\n",
    "del y\n",
    "del group_sizes\n",
    "gc.collect()"
   ],
   "id": "e715e737e718ef8c",
   "outputs": [
    {
     "data": {
      "text/plain": [
       "8"
      ]
     },
     "execution_count": 46,
     "metadata": {},
     "output_type": "execute_result"
    }
   ],
   "execution_count": 46
  },
  {
   "metadata": {},
   "cell_type": "markdown",
   "source": "### Prepare Testing Data",
   "id": "677226f929def51e"
  },
  {
   "metadata": {
    "ExecuteTime": {
     "end_time": "2025-09-01T23:08:53.043899Z",
     "start_time": "2025-09-01T23:08:51.971502Z"
    }
   },
   "cell_type": "code",
   "source": [
    "# Load Test data set\n",
    "try:\n",
    "    test_df.head()\n",
    "except NameError:\n",
    "    test_df = pl.read_parquet('data/test_df.parquet')\n",
    "    print(f'loaded test data set features from parquet file: {test_df.shape}')\n",
    "\n",
    "test_df.head()"
   ],
   "id": "ac4a10cd5f1cfd92",
   "outputs": [
    {
     "name": "stdout",
     "output_type": "stream",
     "text": [
      "loaded test data set features from parquet file: (3578079, 127)\n"
     ]
    },
    {
     "data": {
      "text/plain": [
       "shape: (5, 127)\n",
       "┌─────┬────────┬───────────┬─────────────────┬───┬────────┬────────────┬──────────┬────────────────┐\n",
       "│ Id  ┆ bySelf ┆ companyID ┆ corporateTariff ┆ … ┆ taxes  ┆ totalPrice ┆ selected ┆ __index_level_ │\n",
       "│ --- ┆ ---    ┆ ---       ┆ Code            ┆   ┆ ---    ┆ ---        ┆ ---      ┆ 0__            │\n",
       "│ i64 ┆ bool   ┆ i64       ┆ ---             ┆   ┆ f64    ┆ f64        ┆ i64      ┆ ---            │\n",
       "│     ┆        ┆           ┆ i64             ┆   ┆        ┆            ┆          ┆ i64            │\n",
       "╞═════╪════════╪═══════════╪═════════════════╪═══╪════════╪════════════╪══════════╪════════════════╡\n",
       "│ 0   ┆ true   ┆ 57323     ┆ null            ┆ … ┆ 370.0  ┆ 16884.0    ┆ 1        ┆ 0              │\n",
       "│ 1   ┆ true   ┆ 57323     ┆ 123             ┆ … ┆ 2240.0 ┆ 51125.0    ┆ 0        ┆ 1              │\n",
       "│ 2   ┆ true   ┆ 57323     ┆ null            ┆ … ┆ 2240.0 ┆ 53695.0    ┆ 0        ┆ 2              │\n",
       "│ 3   ┆ true   ┆ 57323     ┆ 123             ┆ … ┆ 2240.0 ┆ 81880.0    ┆ 0        ┆ 3              │\n",
       "│ 4   ┆ true   ┆ 57323     ┆ null            ┆ … ┆ 2240.0 ┆ 86070.0    ┆ 0        ┆ 4              │\n",
       "└─────┴────────┴───────────┴─────────────────┴───┴────────┴────────────┴──────────┴────────────────┘"
      ],
      "text/html": [
       "<div><style>\n",
       ".dataframe > thead > tr,\n",
       ".dataframe > tbody > tr {\n",
       "  text-align: right;\n",
       "  white-space: pre-wrap;\n",
       "}\n",
       "</style>\n",
       "<small>shape: (5, 127)</small><table border=\"1\" class=\"dataframe\"><thead><tr><th>Id</th><th>bySelf</th><th>companyID</th><th>corporateTariffCode</th><th>frequentFlyer</th><th>nationality</th><th>isAccess3D</th><th>isVip</th><th>legs0_arrivalAt</th><th>legs0_departureAt</th><th>legs0_duration</th><th>legs0_segments0_aircraft_code</th><th>legs0_segments0_arrivalTo_airport_city_iata</th><th>legs0_segments0_arrivalTo_airport_iata</th><th>legs0_segments0_baggageAllowance_quantity</th><th>legs0_segments0_baggageAllowance_weightMeasurementType</th><th>legs0_segments0_cabinClass</th><th>legs0_segments0_departureFrom_airport_iata</th><th>legs0_segments0_duration</th><th>legs0_segments0_flightNumber</th><th>legs0_segments0_marketingCarrier_code</th><th>legs0_segments0_operatingCarrier_code</th><th>legs0_segments0_seatsAvailable</th><th>legs0_segments1_aircraft_code</th><th>legs0_segments1_arrivalTo_airport_city_iata</th><th>legs0_segments1_arrivalTo_airport_iata</th><th>legs0_segments1_baggageAllowance_quantity</th><th>legs0_segments1_baggageAllowance_weightMeasurementType</th><th>legs0_segments1_cabinClass</th><th>legs0_segments1_departureFrom_airport_iata</th><th>legs0_segments1_duration</th><th>legs0_segments1_flightNumber</th><th>legs0_segments1_marketingCarrier_code</th><th>legs0_segments1_operatingCarrier_code</th><th>legs0_segments1_seatsAvailable</th><th>legs0_segments2_aircraft_code</th><th>legs0_segments2_arrivalTo_airport_city_iata</th><th>&hellip;</th><th>legs1_segments2_baggageAllowance_weightMeasurementType</th><th>legs1_segments2_cabinClass</th><th>legs1_segments2_departureFrom_airport_iata</th><th>legs1_segments2_duration</th><th>legs1_segments2_flightNumber</th><th>legs1_segments2_marketingCarrier_code</th><th>legs1_segments2_operatingCarrier_code</th><th>legs1_segments2_seatsAvailable</th><th>legs1_segments3_aircraft_code</th><th>legs1_segments3_arrivalTo_airport_city_iata</th><th>legs1_segments3_arrivalTo_airport_iata</th><th>legs1_segments3_baggageAllowance_quantity</th><th>legs1_segments3_baggageAllowance_weightMeasurementType</th><th>legs1_segments3_cabinClass</th><th>legs1_segments3_departureFrom_airport_iata</th><th>legs1_segments3_duration</th><th>legs1_segments3_flightNumber</th><th>legs1_segments3_marketingCarrier_code</th><th>legs1_segments3_operatingCarrier_code</th><th>legs1_segments3_seatsAvailable</th><th>miniRules0_monetaryAmount</th><th>miniRules0_percentage</th><th>miniRules0_statusInfos</th><th>miniRules1_monetaryAmount</th><th>miniRules1_percentage</th><th>miniRules1_statusInfos</th><th>pricingInfo_isAccessTP</th><th>pricingInfo_passengerCount</th><th>profileId</th><th>ranker_id</th><th>requestDate</th><th>searchRoute</th><th>sex</th><th>taxes</th><th>totalPrice</th><th>selected</th><th>__index_level_0__</th></tr><tr><td>i64</td><td>bool</td><td>i64</td><td>i64</td><td>str</td><td>i64</td><td>bool</td><td>bool</td><td>str</td><td>str</td><td>str</td><td>str</td><td>str</td><td>str</td><td>f64</td><td>f64</td><td>f64</td><td>str</td><td>str</td><td>str</td><td>str</td><td>str</td><td>f64</td><td>str</td><td>str</td><td>str</td><td>f64</td><td>f64</td><td>f64</td><td>str</td><td>str</td><td>str</td><td>str</td><td>str</td><td>f64</td><td>str</td><td>str</td><td>&hellip;</td><td>f64</td><td>f64</td><td>str</td><td>str</td><td>str</td><td>str</td><td>str</td><td>f64</td><td>str</td><td>str</td><td>str</td><td>f64</td><td>f64</td><td>f64</td><td>str</td><td>str</td><td>str</td><td>str</td><td>str</td><td>f64</td><td>f64</td><td>f64</td><td>f64</td><td>f64</td><td>f64</td><td>f64</td><td>f64</td><td>i64</td><td>i64</td><td>str</td><td>datetime[ns]</td><td>str</td><td>bool</td><td>f64</td><td>f64</td><td>i64</td><td>i64</td></tr></thead><tbody><tr><td>0</td><td>true</td><td>57323</td><td>null</td><td>&quot;S7/SU/UT&quot;</td><td>36</td><td>false</td><td>false</td><td>&quot;2024-06-15T16:20:00&quot;</td><td>&quot;2024-06-15T15:40:00&quot;</td><td>&quot;02:40:00&quot;</td><td>&quot;YK2&quot;</td><td>&quot;KJA&quot;</td><td>&quot;KJA&quot;</td><td>1.0</td><td>0.0</td><td>1.0</td><td>&quot;TLK&quot;</td><td>&quot;02:40:00&quot;</td><td>&quot;216&quot;</td><td>&quot;KV&quot;</td><td>&quot;KV&quot;</td><td>9.0</td><td>null</td><td>null</td><td>null</td><td>null</td><td>null</td><td>null</td><td>null</td><td>null</td><td>null</td><td>null</td><td>null</td><td>null</td><td>null</td><td>null</td><td>&hellip;</td><td>null</td><td>null</td><td>null</td><td>null</td><td>null</td><td>null</td><td>null</td><td>null</td><td>null</td><td>null</td><td>null</td><td>null</td><td>null</td><td>null</td><td>null</td><td>null</td><td>null</td><td>null</td><td>null</td><td>null</td><td>null</td><td>null</td><td>null</td><td>null</td><td>null</td><td>null</td><td>1.0</td><td>1</td><td>2087645</td><td>&quot;98ce0dabf6964640b63079fbafd42c…</td><td>2024-05-17 03:03:08</td><td>&quot;TLKKJA/KJATLK&quot;</td><td>true</td><td>370.0</td><td>16884.0</td><td>1</td><td>0</td></tr><tr><td>1</td><td>true</td><td>57323</td><td>123</td><td>&quot;S7/SU/UT&quot;</td><td>36</td><td>true</td><td>false</td><td>&quot;2024-06-15T14:50:00&quot;</td><td>&quot;2024-06-15T09:25:00&quot;</td><td>&quot;07:25:00&quot;</td><td>&quot;E70&quot;</td><td>&quot;OVB&quot;</td><td>&quot;OVB&quot;</td><td>1.0</td><td>0.0</td><td>1.0</td><td>&quot;TLK&quot;</td><td>&quot;02:50:00&quot;</td><td>&quot;5358&quot;</td><td>&quot;S7&quot;</td><td>&quot;S7&quot;</td><td>4.0</td><td>&quot;E70&quot;</td><td>&quot;KJA&quot;</td><td>&quot;KJA&quot;</td><td>1.0</td><td>0.0</td><td>1.0</td><td>&quot;OVB&quot;</td><td>&quot;01:20:00&quot;</td><td>&quot;5311&quot;</td><td>&quot;S7&quot;</td><td>&quot;S7&quot;</td><td>4.0</td><td>null</td><td>null</td><td>&hellip;</td><td>null</td><td>null</td><td>null</td><td>null</td><td>null</td><td>null</td><td>null</td><td>null</td><td>null</td><td>null</td><td>null</td><td>null</td><td>null</td><td>null</td><td>null</td><td>null</td><td>null</td><td>null</td><td>null</td><td>null</td><td>2300.0</td><td>null</td><td>1.0</td><td>3500.0</td><td>null</td><td>1.0</td><td>1.0</td><td>1</td><td>2087645</td><td>&quot;98ce0dabf6964640b63079fbafd42c…</td><td>2024-05-17 03:03:08</td><td>&quot;TLKKJA/KJATLK&quot;</td><td>true</td><td>2240.0</td><td>51125.0</td><td>0</td><td>1</td></tr><tr><td>2</td><td>true</td><td>57323</td><td>null</td><td>&quot;S7/SU/UT&quot;</td><td>36</td><td>false</td><td>false</td><td>&quot;2024-06-15T14:50:00&quot;</td><td>&quot;2024-06-15T09:25:00&quot;</td><td>&quot;07:25:00&quot;</td><td>&quot;E70&quot;</td><td>&quot;OVB&quot;</td><td>&quot;OVB&quot;</td><td>1.0</td><td>0.0</td><td>1.0</td><td>&quot;TLK&quot;</td><td>&quot;02:50:00&quot;</td><td>&quot;5358&quot;</td><td>&quot;S7&quot;</td><td>&quot;S7&quot;</td><td>4.0</td><td>&quot;E70&quot;</td><td>&quot;KJA&quot;</td><td>&quot;KJA&quot;</td><td>1.0</td><td>0.0</td><td>1.0</td><td>&quot;OVB&quot;</td><td>&quot;01:20:00&quot;</td><td>&quot;5311&quot;</td><td>&quot;S7&quot;</td><td>&quot;S7&quot;</td><td>4.0</td><td>null</td><td>null</td><td>&hellip;</td><td>null</td><td>null</td><td>null</td><td>null</td><td>null</td><td>null</td><td>null</td><td>null</td><td>null</td><td>null</td><td>null</td><td>null</td><td>null</td><td>null</td><td>null</td><td>null</td><td>null</td><td>null</td><td>null</td><td>null</td><td>2300.0</td><td>null</td><td>1.0</td><td>3500.0</td><td>null</td><td>1.0</td><td>1.0</td><td>1</td><td>2087645</td><td>&quot;98ce0dabf6964640b63079fbafd42c…</td><td>2024-05-17 03:03:08</td><td>&quot;TLKKJA/KJATLK&quot;</td><td>true</td><td>2240.0</td><td>53695.0</td><td>0</td><td>2</td></tr><tr><td>3</td><td>true</td><td>57323</td><td>123</td><td>&quot;S7/SU/UT&quot;</td><td>36</td><td>true</td><td>false</td><td>&quot;2024-06-15T14:50:00&quot;</td><td>&quot;2024-06-15T09:25:00&quot;</td><td>&quot;07:25:00&quot;</td><td>&quot;E70&quot;</td><td>&quot;OVB&quot;</td><td>&quot;OVB&quot;</td><td>1.0</td><td>0.0</td><td>1.0</td><td>&quot;TLK&quot;</td><td>&quot;02:50:00&quot;</td><td>&quot;5358&quot;</td><td>&quot;S7&quot;</td><td>&quot;S7&quot;</td><td>4.0</td><td>&quot;E70&quot;</td><td>&quot;KJA&quot;</td><td>&quot;KJA&quot;</td><td>1.0</td><td>0.0</td><td>1.0</td><td>&quot;OVB&quot;</td><td>&quot;01:20:00&quot;</td><td>&quot;5311&quot;</td><td>&quot;S7&quot;</td><td>&quot;S7&quot;</td><td>4.0</td><td>null</td><td>null</td><td>&hellip;</td><td>null</td><td>null</td><td>null</td><td>null</td><td>null</td><td>null</td><td>null</td><td>null</td><td>null</td><td>null</td><td>null</td><td>null</td><td>null</td><td>null</td><td>null</td><td>null</td><td>null</td><td>null</td><td>null</td><td>null</td><td>0.0</td><td>null</td><td>1.0</td><td>0.0</td><td>null</td><td>1.0</td><td>1.0</td><td>1</td><td>2087645</td><td>&quot;98ce0dabf6964640b63079fbafd42c…</td><td>2024-05-17 03:03:08</td><td>&quot;TLKKJA/KJATLK&quot;</td><td>true</td><td>2240.0</td><td>81880.0</td><td>0</td><td>3</td></tr><tr><td>4</td><td>true</td><td>57323</td><td>null</td><td>&quot;S7/SU/UT&quot;</td><td>36</td><td>false</td><td>false</td><td>&quot;2024-06-15T14:50:00&quot;</td><td>&quot;2024-06-15T09:25:00&quot;</td><td>&quot;07:25:00&quot;</td><td>&quot;E70&quot;</td><td>&quot;OVB&quot;</td><td>&quot;OVB&quot;</td><td>1.0</td><td>0.0</td><td>1.0</td><td>&quot;TLK&quot;</td><td>&quot;02:50:00&quot;</td><td>&quot;5358&quot;</td><td>&quot;S7&quot;</td><td>&quot;S7&quot;</td><td>4.0</td><td>&quot;E70&quot;</td><td>&quot;KJA&quot;</td><td>&quot;KJA&quot;</td><td>1.0</td><td>0.0</td><td>1.0</td><td>&quot;OVB&quot;</td><td>&quot;01:20:00&quot;</td><td>&quot;5311&quot;</td><td>&quot;S7&quot;</td><td>&quot;S7&quot;</td><td>4.0</td><td>null</td><td>null</td><td>&hellip;</td><td>null</td><td>null</td><td>null</td><td>null</td><td>null</td><td>null</td><td>null</td><td>null</td><td>null</td><td>null</td><td>null</td><td>null</td><td>null</td><td>null</td><td>null</td><td>null</td><td>null</td><td>null</td><td>null</td><td>null</td><td>0.0</td><td>null</td><td>1.0</td><td>0.0</td><td>null</td><td>1.0</td><td>1.0</td><td>1</td><td>2087645</td><td>&quot;98ce0dabf6964640b63079fbafd42c…</td><td>2024-05-17 03:03:08</td><td>&quot;TLKKJA/KJATLK&quot;</td><td>true</td><td>2240.0</td><td>86070.0</td><td>0</td><td>4</td></tr></tbody></table></div>"
      ]
     },
     "execution_count": 47,
     "metadata": {},
     "output_type": "execute_result"
    }
   ],
   "execution_count": 47
  },
  {
   "metadata": {
    "ExecuteTime": {
     "end_time": "2025-09-01T23:10:31.950932Z",
     "start_time": "2025-09-01T23:10:28.612040Z"
    }
   },
   "cell_type": "code",
   "source": [
    "# 1. Customer Feature Engineering\n",
    "cust_data = extract_customer_features(test_df)\n",
    "print(f'Generated {len(cust_data.columns)} customer features for {len(cust_data)} customers')"
   ],
   "id": "386efc2e239883cf",
   "outputs": [
    {
     "name": "stdout",
     "output_type": "stream",
     "text": [
      "Generated 58 customer features for 13737 customers\n"
     ]
    }
   ],
   "execution_count": 48
  },
  {
   "metadata": {
    "ExecuteTime": {
     "end_time": "2025-09-01T23:35:46.346529Z",
     "start_time": "2025-09-01T23:35:46.313004Z"
    }
   },
   "cell_type": "code",
   "source": [
    "# 2. Encode customer features\n",
    "cust_data_encoded, encoders = encode_features(cust_data)"
   ],
   "id": "aefbf3afb823a4",
   "outputs": [],
   "execution_count": 49
  },
  {
   "metadata": {
    "ExecuteTime": {
     "end_time": "2025-09-01T23:35:50.532351Z",
     "start_time": "2025-09-01T23:35:50.478431Z"
    }
   },
   "cell_type": "code",
   "source": [
    "# 3. Feature scaling with robust scaler\n",
    "scaler = RobustScaler()  # Less sensitive to outliers than StandardScaler\n",
    "scaled_features = scaler.fit_transform(cust_data_encoded.to_pandas())"
   ],
   "id": "69e1fe579a220cc5",
   "outputs": [],
   "execution_count": 50
  },
  {
   "metadata": {
    "ExecuteTime": {
     "end_time": "2025-09-01T23:35:53.638801Z",
     "start_time": "2025-09-01T23:35:53.620713Z"
    }
   },
   "cell_type": "code",
   "source": [
    "# 5. Dimensionality reduction\n",
    "reduced_features = reducer.transform(scaled_features)"
   ],
   "id": "94c095e4028b1e24",
   "outputs": [],
   "execution_count": 51
  },
  {
   "metadata": {
    "ExecuteTime": {
     "end_time": "2025-09-01T23:35:59.117464Z",
     "start_time": "2025-09-01T23:35:59.113058Z"
    }
   },
   "cell_type": "code",
   "source": [
    "def predict_cluster_with_centroids(X, centroids):\n",
    "    \"\"\"\n",
    "    Predict clusters by assigning to nearest centroid\n",
    "    \"\"\"\n",
    "    # Calculate distances to all centroids\n",
    "    distances = euclidean_distances(X, centroids)\n",
    "\n",
    "    # Assign to nearest centroid\n",
    "    predictions = np.argmin(distances, axis=1)\n",
    "\n",
    "    # Get minimum distances as confidence measure\n",
    "    min_distances = np.min(distances, axis=1)\n",
    "\n",
    "    return predictions, min_distances"
   ],
   "id": "500cda2ed9478de0",
   "outputs": [],
   "execution_count": 52
  },
  {
   "metadata": {
    "ExecuteTime": {
     "end_time": "2025-09-01T23:36:29.117754Z",
     "start_time": "2025-09-01T23:36:29.101641Z"
    }
   },
   "cell_type": "code",
   "source": [
    "# Load Agglomeratvie clustering results\n",
    "try:\n",
    "    clustering_results\n",
    "except NameError:\n",
    "    clustering_results = joblib.load('data/agglomerative_model.joblib')\n",
    "    print(f'Loaded Agglomerative Clustering results from joblib file for {clustering_results['n_clusters']} clusters')"
   ],
   "id": "62fb039aadcfb4a6",
   "outputs": [
    {
     "name": "stdout",
     "output_type": "stream",
     "text": [
      "Loaded Agglomerative Clustering results from joblib file for 13 clusters\n"
     ]
    }
   ],
   "execution_count": 55
  },
  {
   "metadata": {
    "ExecuteTime": {
     "end_time": "2025-09-01T23:36:46.634879Z",
     "start_time": "2025-09-01T23:36:46.629271Z"
    }
   },
   "cell_type": "code",
   "source": "clustering_results['centroids']",
   "id": "2f43276088aad8a9",
   "outputs": [
    {
     "data": {
      "text/plain": [
       "array([[-1.24273156e+00, -3.03288865e-01,  2.28449450e-01,\n",
       "         1.97093818e+01],\n",
       "       [ 1.43168141e+02,  5.77070263e+00, -4.73924696e+00,\n",
       "        -3.42338477e-01],\n",
       "       [-1.26560328e+00,  5.20151388e+00,  2.19157665e+01,\n",
       "        -8.58971982e-01],\n",
       "       [ 3.26875577e+02,  3.57270664e+00, -2.01288788e+00,\n",
       "        -8.16860155e-01],\n",
       "       [-1.27178258e+00,  7.65988756e+00,  2.10366181e+00,\n",
       "         9.46996169e+01],\n",
       "       [-1.23395722e+00,  1.49329056e+01, -1.01125054e+01,\n",
       "        -1.05501720e+00],\n",
       "       [ 2.14578443e+03, -5.28202443e+00,  1.22952358e+00,\n",
       "         1.25320408e-01],\n",
       "       [ 7.50084935e+03, -4.11633599e+00,  6.08475708e+00,\n",
       "         1.21818876e+00],\n",
       "       [ 6.47464083e+02, -3.70442198e+00,  3.36457252e+00,\n",
       "        -5.81744011e-01],\n",
       "       [-1.25811816e+00,  2.50306922e+01,  1.26782596e+01,\n",
       "        -2.06504145e+00],\n",
       "       [-1.24038775e+00, -5.51903054e+00, -8.84127860e-01,\n",
       "        -4.58817192e-01],\n",
       "       [ 1.01127126e+03, -5.50154576e+00,  8.06479583e-02,\n",
       "        -3.16182799e-01],\n",
       "       [ 4.25466298e+01, -1.42847236e+00, -1.03174229e-01,\n",
       "         3.11913179e-02]])"
      ]
     },
     "execution_count": 56,
     "metadata": {},
     "output_type": "execute_result"
    }
   ],
   "execution_count": 56
  },
  {
   "metadata": {
    "ExecuteTime": {
     "end_time": "2025-09-01T23:47:15.797200Z",
     "start_time": "2025-09-01T23:47:15.788694Z"
    }
   },
   "cell_type": "code",
   "source": [
    "# 6. Apply clustering algorithm\n",
    "# clustering_results = generate_clusters(reduced_features)\n",
    "cluster_segments = predict_cluster_with_centroids(reduced_features, clustering_results['centroids'])"
   ],
   "id": "aab85fd8afc5fc9d",
   "outputs": [],
   "execution_count": 62
  },
  {
   "metadata": {
    "ExecuteTime": {
     "end_time": "2025-09-01T23:47:18.998243Z",
     "start_time": "2025-09-01T23:47:18.991531Z"
    }
   },
   "cell_type": "code",
   "source": "cluster_segments",
   "id": "1e66f3dcd1f7a553",
   "outputs": [
    {
     "data": {
      "text/plain": [
       "(array([10, 10, 10, ..., 10, 10, 10], shape=(13737,)),\n",
       " array([1.05595054, 0.05719075, 0.70023978, ..., 0.89272074, 0.35659446,\n",
       "        3.97282917], shape=(13737,)))"
      ]
     },
     "execution_count": 63,
     "metadata": {},
     "output_type": "execute_result"
    }
   ],
   "execution_count": 63
  },
  {
   "metadata": {
    "ExecuteTime": {
     "end_time": "2025-09-01T23:47:26.530249Z",
     "start_time": "2025-09-01T23:47:26.519474Z"
    }
   },
   "cell_type": "code",
   "source": [
    "# Add predicted cluster labels to the customer data\n",
    "cust_data = cust_data.with_columns(pl.Series('customer_segment', cluster_segments[0]))"
   ],
   "id": "113a123bf2c8cb80",
   "outputs": [],
   "execution_count": 64
  },
  {
   "metadata": {
    "ExecuteTime": {
     "end_time": "2025-09-01T23:47:36.316116Z",
     "start_time": "2025-09-01T23:47:36.306601Z"
    }
   },
   "cell_type": "code",
   "source": "cust_data.head(1000)",
   "id": "72d834baa617b03a",
   "outputs": [
    {
     "data": {
      "text/plain": [
       "shape: (1_000, 59)\n",
       "┌───────────┬────────────┬─────┬────────────┬───┬────────────┬────────────┬────────────┬───────────┐\n",
       "│ profileId ┆ company_id ┆ sex ┆ nationalit ┆ … ┆ corp_searc ┆ corp_round ┆ corp_plann ┆ customer_ │\n",
       "│ ---       ┆ ---        ┆ --- ┆ y          ┆   ┆ h_volume   ┆ trip_pref  ┆ ing_varian ┆ segment   │\n",
       "│ i64       ┆ i64        ┆ i8  ┆ ---        ┆   ┆ ---        ┆ ---        ┆ ce         ┆ ---       │\n",
       "│           ┆            ┆     ┆ i64        ┆   ┆ i64        ┆ f64        ┆ ---        ┆ i64       │\n",
       "│           ┆            ┆     ┆            ┆   ┆            ┆            ┆ i32        ┆           │\n",
       "╞═══════════╪════════════╪═════╪════════════╪═══╪════════════╪════════════╪════════════╪═══════════╡\n",
       "│ 3559623   ┆ 60537      ┆ 1   ┆ 36         ┆ … ┆ 0          ┆ 0.0        ┆ 0          ┆ 10        │\n",
       "│ 1279879   ┆ 42174      ┆ 1   ┆ 36         ┆ … ┆ 39         ┆ 1.0        ┆ 1          ┆ 10        │\n",
       "│ 3477700   ┆ 61081      ┆ 1   ┆ 36         ┆ … ┆ 647        ┆ 0.877898   ┆ 3          ┆ 10        │\n",
       "│ 1835911   ┆ 42620      ┆ 0   ┆ 36         ┆ … ┆ 918        ┆ 1.0        ┆ 1          ┆ 10        │\n",
       "│ 3420140   ┆ 57323      ┆ 1   ┆ 36         ┆ … ┆ 120        ┆ 0.0        ┆ 4          ┆ 10        │\n",
       "│ …         ┆ …          ┆ …   ┆ …          ┆ … ┆ …          ┆ …          ┆ …          ┆ …         │\n",
       "│ 2869628   ┆ 61061      ┆ 1   ┆ 36         ┆ … ┆ 52         ┆ 1.0        ┆ 0          ┆ 10        │\n",
       "│ 2073838   ┆ 53375      ┆ 1   ┆ 36         ┆ … ┆ 35         ┆ 0.0        ┆ 7          ┆ 0         │\n",
       "│ 3454242   ┆ 42174      ┆ 1   ┆ 36         ┆ … ┆ 41         ┆ 0.0        ┆ 0          ┆ 10        │\n",
       "│ 1699474   ┆ 24728      ┆ 1   ┆ 36         ┆ … ┆ 169        ┆ 1.0        ┆ 1          ┆ 10        │\n",
       "│ 730939    ┆ 42004      ┆ 1   ┆ 39         ┆ … ┆ 0          ┆ 0.0        ┆ 0          ┆ 2         │\n",
       "└───────────┴────────────┴─────┴────────────┴───┴────────────┴────────────┴────────────┴───────────┘"
      ],
      "text/html": [
       "<div><style>\n",
       ".dataframe > thead > tr,\n",
       ".dataframe > tbody > tr {\n",
       "  text-align: right;\n",
       "  white-space: pre-wrap;\n",
       "}\n",
       "</style>\n",
       "<small>shape: (1_000, 59)</small><table border=\"1\" class=\"dataframe\"><thead><tr><th>profileId</th><th>company_id</th><th>sex</th><th>nationality</th><th>frequent_flyer</th><th>is_vip</th><th>by_self</th><th>has_corp_codes</th><th>total_searches</th><th>roundtrip_preference</th><th>unique_routes_searched</th><th>min_booking_lead_days</th><th>max_booking_lead_days</th><th>avg_booking_lead_days</th><th>median_booking_lead_days</th><th>most_common_departure_airport</th><th>unique_departure_airports</th><th>most_common_carrier</th><th>unique_carriers_used</th><th>min_cabin_class</th><th>max_cabin_class</th><th>avg_cabin_class</th><th>weekday_preference</th><th>weekend_travel_rate</th><th>time_of_day_variance</th><th>night_flight_preference</th><th>route_loyalty</th><th>hub_preference</th><th>short_haul_preference</th><th>connection_tolerance</th><th>preferred_duration_quartile</th><th>price_to_duration_sensitivity</th><th>avg_price_per_minute</th><th>price_per_minute_variance</th><th>price_position_preference</th><th>premium_economy_preference</th><th>consistent_price_tier</th><th>preferred_price_tier</th><th>baggage_qty_preference</th><th>baggage_weight_preference</th><th>loyalty_program_utilization</th><th>convenience_priority_score</th><th>loyalty_vs_price_index</th><th>planning_consistency_score</th><th>luxury_index</th><th>search_intensity_per_route</th><th>lead_time_variance</th><th>lead_time_skew</th><th>carrier_diversity</th><th>airport_diversity</th><th>cabin_class_range</th><th>customer_tier</th><th>vip_search_intensity</th><th>vip_carrier_diversity</th><th>vip_cabin_preference</th><th>corp_search_volume</th><th>corp_roundtrip_pref</th><th>corp_planning_variance</th><th>customer_segment</th></tr><tr><td>i64</td><td>i64</td><td>i8</td><td>i64</td><td>str</td><td>i8</td><td>i8</td><td>i8</td><td>u32</td><td>f64</td><td>u32</td><td>i32</td><td>i32</td><td>f64</td><td>f64</td><td>str</td><td>u32</td><td>str</td><td>u32</td><td>f64</td><td>f64</td><td>f64</td><td>i8</td><td>f64</td><td>f64</td><td>f64</td><td>f64</td><td>f64</td><td>f64</td><td>f64</td><td>i32</td><td>f64</td><td>f64</td><td>f64</td><td>f64</td><td>f64</td><td>f64</td><td>i32</td><td>f64</td><td>f64</td><td>f64</td><td>f64</td><td>f64</td><td>f64</td><td>f64</td><td>f64</td><td>i32</td><td>f64</td><td>f64</td><td>f64</td><td>f64</td><td>i8</td><td>f64</td><td>f64</td><td>f64</td><td>i64</td><td>f64</td><td>i32</td><td>i64</td></tr></thead><tbody><tr><td>3559623</td><td>60537</td><td>1</td><td>36</td><td>&quot;&quot;</td><td>0</td><td>1</td><td>0</td><td>492</td><td>1.0</td><td>1</td><td>6</td><td>7</td><td>6.597561</td><td>7.0</td><td>&quot;SVX&quot;</td><td>1</td><td>&quot;SU&quot;</td><td>5</td><td>1.0</td><td>1.0</td><td>1.0</td><td>4</td><td>0.0</td><td>6.371772</td><td>0.164634</td><td>0.997967</td><td>0.0</td><td>0.0</td><td>1.091463</td><td>1</td><td>0.643154</td><td>66.247593</td><td>25.158026</td><td>49.398937</td><td>0.0</td><td>0.626457</td><td>1</td><td>0.97561</td><td>0.0</td><td>0.0</td><td>-50.501944</td><td>-4.939894</td><td>0.5</td><td>44.699468</td><td>492.0</td><td>1</td><td>0.942509</td><td>0.010163</td><td>0.002033</td><td>0.0</td><td>1</td><td>0.0</td><td>0.0</td><td>0.0</td><td>0</td><td>0.0</td><td>0</td><td>10</td></tr><tr><td>1279879</td><td>42174</td><td>1</td><td>36</td><td>&quot;&quot;</td><td>0</td><td>1</td><td>1</td><td>39</td><td>1.0</td><td>1</td><td>63</td><td>64</td><td>63.384615</td><td>63.0</td><td>&quot;BQS&quot;</td><td>1</td><td>&quot;S7&quot;</td><td>2</td><td>1.0</td><td>2.0</td><td>1.34188</td><td>6</td><td>1.0</td><td>1.478592</td><td>0.0</td><td>0.974359</td><td>0.0</td><td>0.0</td><td>2.0</td><td>1</td><td>0.133988</td><td>42.440184</td><td>26.446119</td><td>47.165992</td><td>0.307692</td><td>0.627574</td><td>1</td><td>0.897436</td><td>0.0</td><td>0.0</td><td>-4.115981</td><td>-4.716599</td><td>0.5</td><td>50.420603</td><td>39.0</td><td>1</td><td>1.006105</td><td>0.051282</td><td>0.025641</td><td>1.0</td><td>1</td><td>0.0</td><td>0.0</td><td>0.0</td><td>39</td><td>1.0</td><td>1</td><td>10</td></tr><tr><td>3477700</td><td>61081</td><td>1</td><td>36</td><td>&quot;&quot;</td><td>0</td><td>1</td><td>1</td><td>647</td><td>0.877898</td><td>2</td><td>9</td><td>12</td><td>9.867079</td><td>10.0</td><td>&quot;UFA&quot;</td><td>1</td><td>&quot;SU&quot;</td><td>4</td><td>1.0</td><td>2.0</td><td>1.420402</td><td>7</td><td>0.877898</td><td>5.924169</td><td>0.126739</td><td>0.996909</td><td>0.0</td><td>0.362223</td><td>1.041731</td><td>1</td><td>-0.067285</td><td>184.236894</td><td>130.986442</td><td>47.917913</td><td>0.420402</td><td>0.629689</td><td>2</td><td>1.210201</td><td>0.0</td><td>0.0</td><td>-49.578112</td><td>-4.791791</td><td>0.25</td><td>52.366994</td><td>323.5</td><td>3</td><td>0.986708</td><td>0.006182</td><td>0.001546</td><td>1.0</td><td>1</td><td>0.0</td><td>0.0</td><td>0.0</td><td>647</td><td>0.877898</td><td>3</td><td>10</td></tr><tr><td>1835911</td><td>42620</td><td>0</td><td>36</td><td>&quot;&quot;</td><td>0</td><td>1</td><td>1</td><td>918</td><td>1.0</td><td>1</td><td>19</td><td>20</td><td>19.663399</td><td>20.0</td><td>&quot;SVX&quot;</td><td>1</td><td>&quot;SU&quot;</td><td>6</td><td>1.0</td><td>2.0</td><td>1.37845</td><td>3</td><td>0.0</td><td>7.036581</td><td>0.265795</td><td>0.998911</td><td>0.0</td><td>0.243791</td><td>1.057734</td><td>1</td><td>0.053755</td><td>140.333237</td><td>113.00584</td><td>48.330732</td><td>0.379085</td><td>0.628769</td><td>2</td><td>1.162309</td><td>0.0</td><td>0.0</td><td>-60.097034</td><td>-4.833073</td><td>0.5</td><td>51.734356</td><td>918.0</td><td>1</td><td>0.98317</td><td>0.006536</td><td>0.001089</td><td>1.0</td><td>1</td><td>0.0</td><td>0.0</td><td>0.0</td><td>918</td><td>1.0</td><td>1</td><td>10</td></tr><tr><td>3420140</td><td>57323</td><td>1</td><td>36</td><td>&quot;&quot;</td><td>0</td><td>1</td><td>1</td><td>120</td><td>0.0</td><td>2</td><td>19</td><td>23</td><td>20.916667</td><td>22.0</td><td>&quot;KUF&quot;</td><td>5</td><td>&quot;SU&quot;</td><td>6</td><td>1.0</td><td>2.0</td><td>1.466667</td><td>2</td><td>0.0</td><td>5.141663</td><td>0.125</td><td>0.983333</td><td>0.0</td><td>0.248588</td><td>1.083333</td><td>1</td><td>0.05234</td><td>251.258222</td><td>191.3653</td><td>46.899002</td><td>0.466667</td><td>0.657184</td><td>3</td><td>1.475</td><td>0.0</td><td>0.0</td><td>-41.154924</td><td>-4.6899</td><td>0.2</td><td>52.782834</td><td>60.0</td><td>4</td><td>0.950758</td><td>0.05</td><td>0.041667</td><td>1.0</td><td>1</td><td>0.0</td><td>0.0</td><td>0.0</td><td>120</td><td>0.0</td><td>4</td><td>10</td></tr><tr><td>&hellip;</td><td>&hellip;</td><td>&hellip;</td><td>&hellip;</td><td>&hellip;</td><td>&hellip;</td><td>&hellip;</td><td>&hellip;</td><td>&hellip;</td><td>&hellip;</td><td>&hellip;</td><td>&hellip;</td><td>&hellip;</td><td>&hellip;</td><td>&hellip;</td><td>&hellip;</td><td>&hellip;</td><td>&hellip;</td><td>&hellip;</td><td>&hellip;</td><td>&hellip;</td><td>&hellip;</td><td>&hellip;</td><td>&hellip;</td><td>&hellip;</td><td>&hellip;</td><td>&hellip;</td><td>&hellip;</td><td>&hellip;</td><td>&hellip;</td><td>&hellip;</td><td>&hellip;</td><td>&hellip;</td><td>&hellip;</td><td>&hellip;</td><td>&hellip;</td><td>&hellip;</td><td>&hellip;</td><td>&hellip;</td><td>&hellip;</td><td>&hellip;</td><td>&hellip;</td><td>&hellip;</td><td>&hellip;</td><td>&hellip;</td><td>&hellip;</td><td>&hellip;</td><td>&hellip;</td><td>&hellip;</td><td>&hellip;</td><td>&hellip;</td><td>&hellip;</td><td>&hellip;</td><td>&hellip;</td><td>&hellip;</td><td>&hellip;</td><td>&hellip;</td><td>&hellip;</td><td>&hellip;</td></tr><tr><td>2869628</td><td>61061</td><td>1</td><td>36</td><td>&quot;&quot;</td><td>0</td><td>1</td><td>1</td><td>52</td><td>1.0</td><td>1</td><td>6</td><td>6</td><td>6.0</td><td>6.0</td><td>&quot;NBC&quot;</td><td>1</td><td>&quot;SU&quot;</td><td>1</td><td>1.0</td><td>1.0</td><td>1.0</td><td>1</td><td>0.0</td><td>0.0</td><td>0.0</td><td>0.980769</td><td>0.0</td><td>0.0</td><td>2.0</td><td>1</td><td>-0.213242</td><td>53.957156</td><td>19.934868</td><td>46.53092</td><td>0.0</td><td>0.604576</td><td>1</td><td>0.923077</td><td>0.0</td><td>0.0</td><td>8.933789</td><td>-4.653092</td><td>1.0</td><td>43.26546</td><td>52.0</td><td>0</td><td>1.0</td><td>0.019231</td><td>0.019231</td><td>0.0</td><td>1</td><td>0.0</td><td>0.0</td><td>0.0</td><td>52</td><td>1.0</td><td>0</td><td>10</td></tr><tr><td>2073838</td><td>53375</td><td>1</td><td>36</td><td>&quot;&quot;</td><td>0</td><td>1</td><td>1</td><td>35</td><td>0.0</td><td>2</td><td>2</td><td>9</td><td>5.142857</td><td>2.0</td><td>&quot;KJA&quot;</td><td>2</td><td>&quot;S7&quot;</td><td>3</td><td>1.0</td><td>2.0</td><td>1.157143</td><td>3</td><td>0.0</td><td>5.450002</td><td>0.257143</td><td>0.942857</td><td>0.0</td><td>0.0</td><td>2.0</td><td>1</td><td>-0.318778</td><td>78.941272</td><td>44.809153</td><td>46.37013</td><td>0.157143</td><td>0.627761</td><td>3</td><td>0.685714</td><td>0.0</td><td>0.0</td><td>-46.09391</td><td>-4.637013</td><td>0.125</td><td>46.327922</td><td>17.5</td><td>7</td><td>2.571429</td><td>0.085714</td><td>0.057143</td><td>1.0</td><td>1</td><td>0.0</td><td>0.0</td><td>0.0</td><td>35</td><td>0.0</td><td>7</td><td>0</td></tr><tr><td>3454242</td><td>42174</td><td>1</td><td>36</td><td>&quot;&quot;</td><td>0</td><td>1</td><td>1</td><td>41</td><td>0.0</td><td>1</td><td>104</td><td>104</td><td>104.0</td><td>104.0</td><td>&quot;LED&quot;</td><td>1</td><td>&quot;U6&quot;</td><td>4</td><td>1.0</td><td>2.0</td><td>1.097561</td><td>2</td><td>0.0</td><td>4.283832</td><td>0.097561</td><td>0.97561</td><td>0.0</td><td>0.0</td><td>2.0</td><td>3</td><td>-0.112272</td><td>38.56369</td><td>34.596927</td><td>49.268293</td><td>0.097561</td><td>0.612877</td><td>1</td><td>0.97561</td><td>0.0</td><td>0.0</td><td>-33.399685</td><td>-4.926829</td><td>1.0</td><td>46.585366</td><td>41.0</td><td>0</td><td>1.0</td><td>0.097561</td><td>0.02439</td><td>1.0</td><td>1</td><td>0.0</td><td>0.0</td><td>0.0</td><td>41</td><td>0.0</td><td>0</td><td>10</td></tr><tr><td>1699474</td><td>24728</td><td>1</td><td>36</td><td>&quot;SU&quot;</td><td>0</td><td>1</td><td>1</td><td>169</td><td>1.0</td><td>1</td><td>5</td><td>6</td><td>5.733728</td><td>6.0</td><td>&quot;SVO&quot;</td><td>4</td><td>&quot;SU&quot;</td><td>5</td><td>1.0</td><td>1.0</td><td>1.0</td><td>7</td><td>1.0</td><td>7.053782</td><td>0.514793</td><td>0.994083</td><td>0.0</td><td>0.0</td><td>1.597633</td><td>1</td><td>0.496965</td><td>50.249449</td><td>20.170251</td><td>49.510425</td><td>0.0</td><td>0.62946</td><td>2</td><td>0.739645</td><td>0.0</td><td>1.0</td><td>-58.052997</td><td>5.048957</td><td>0.5</td><td>44.755213</td><td>169.0</td><td>1</td><td>0.955621</td><td>0.029586</td><td>0.023669</td><td>0.0</td><td>1</td><td>0.0</td><td>0.0</td><td>0.0</td><td>169</td><td>1.0</td><td>1</td><td>10</td></tr><tr><td>730939</td><td>42004</td><td>1</td><td>39</td><td>&quot;&quot;</td><td>0</td><td>1</td><td>0</td><td>912</td><td>1.0</td><td>3</td><td>4</td><td>16</td><td>8.993421</td><td>8.0</td><td>&quot;LJU&quot;</td><td>3</td><td>&quot;LH&quot;</td><td>13</td><td>1.0</td><td>2.0</td><td>1.097862</td><td>2</td><td>0.645833</td><td>5.1943</td><td>0.071272</td><td>0.996711</td><td>0.432018</td><td>0.0</td><td>1.703947</td><td>1</td><td>-0.079588</td><td>163.589225</td><td>193.429138</td><td>49.038185</td><td>0.099781</td><td>0.627454</td><td>1</td><td>1.014641</td><td>25.791822</td><td>0.0</td><td>-42.340943</td><td>-4.903819</td><td>0.076923</td><td>46.476329</td><td>304.0</td><td>12</td><td>1.124178</td><td>0.014254</td><td>0.003289</td><td>1.0</td><td>1</td><td>0.0</td><td>0.0</td><td>0.0</td><td>0</td><td>0.0</td><td>0</td><td>2</td></tr></tbody></table></div>"
      ]
     },
     "execution_count": 65,
     "metadata": {},
     "output_type": "execute_result"
    }
   ],
   "execution_count": 65
  },
  {
   "metadata": {
    "ExecuteTime": {
     "end_time": "2025-09-01T23:49:01.355389Z",
     "start_time": "2025-09-01T23:49:01.339250Z"
    }
   },
   "cell_type": "code",
   "source": "cust_data.group_by('customer_segment').len()",
   "id": "e5c5e84dc8adea7c",
   "outputs": [
    {
     "data": {
      "text/plain": [
       "shape: (10, 2)\n",
       "┌──────────────────┬───────┐\n",
       "│ customer_segment ┆ len   │\n",
       "│ ---              ┆ ---   │\n",
       "│ i64              ┆ u32   │\n",
       "╞══════════════════╪═══════╡\n",
       "│ 6                ┆ 3     │\n",
       "│ 12               ┆ 147   │\n",
       "│ 1                ┆ 115   │\n",
       "│ 8                ┆ 30    │\n",
       "│ 0                ┆ 446   │\n",
       "│ 2                ┆ 1479  │\n",
       "│ 10               ┆ 11368 │\n",
       "│ 3                ┆ 66    │\n",
       "│ 4                ┆ 61    │\n",
       "│ 11               ┆ 22    │\n",
       "└──────────────────┴───────┘"
      ],
      "text/html": [
       "<div><style>\n",
       ".dataframe > thead > tr,\n",
       ".dataframe > tbody > tr {\n",
       "  text-align: right;\n",
       "  white-space: pre-wrap;\n",
       "}\n",
       "</style>\n",
       "<small>shape: (10, 2)</small><table border=\"1\" class=\"dataframe\"><thead><tr><th>customer_segment</th><th>len</th></tr><tr><td>i64</td><td>u32</td></tr></thead><tbody><tr><td>6</td><td>3</td></tr><tr><td>12</td><td>147</td></tr><tr><td>1</td><td>115</td></tr><tr><td>8</td><td>30</td></tr><tr><td>0</td><td>446</td></tr><tr><td>2</td><td>1479</td></tr><tr><td>10</td><td>11368</td></tr><tr><td>3</td><td>66</td></tr><tr><td>4</td><td>61</td></tr><tr><td>11</td><td>22</td></tr></tbody></table></div>"
      ]
     },
     "execution_count": 66,
     "metadata": {},
     "output_type": "execute_result"
    }
   ],
   "execution_count": 66
  },
  {
   "metadata": {
    "ExecuteTime": {
     "end_time": "2025-09-01T23:52:34.312545Z",
     "start_time": "2025-09-01T23:52:14.936551Z"
    }
   },
   "cell_type": "code",
   "source": [
    "# Extract Flight Features\n",
    "test_df = extract_flight_features(test_df)"
   ],
   "id": "1731982b5faf07bd",
   "outputs": [],
   "execution_count": 68
  },
  {
   "metadata": {
    "ExecuteTime": {
     "end_time": "2025-09-01T23:56:05.498171Z",
     "start_time": "2025-09-01T23:56:04.947611Z"
    }
   },
   "cell_type": "code",
   "source": [
    "# Combine customer and flight data\n",
    "test_df = prepare_combined_data(test_df, cust_data)"
   ],
   "id": "935e42bf66da354d",
   "outputs": [],
   "execution_count": 69
  },
  {
   "metadata": {
    "ExecuteTime": {
     "end_time": "2025-09-01T23:58:36.787455Z",
     "start_time": "2025-09-01T23:58:36.775263Z"
    }
   },
   "cell_type": "code",
   "source": "test_df.head(1000)",
   "id": "e51d7fbc0e068d42",
   "outputs": [
    {
     "data": {
      "text/plain": [
       "shape: (1_000, 121)\n",
       "┌──────┬────────────┬────────────┬────────────┬───┬────────────┬───────────┬───────────┬───────────┐\n",
       "│ Id   ┆ corporateT ┆ miniRules0 ┆ miniRules0 ┆ … ┆ daytime_al ┆ weekend_a ┆ price_pre ┆ carrier_l │\n",
       "│ ---  ┆ ariffCode  ┆ _monetaryA ┆ _percentag ┆   ┆ ignment    ┆ lignment  ┆ ference_m ┆ oyalty_ma │\n",
       "│ i64  ┆ ---        ┆ mount      ┆ e          ┆   ┆ ---        ┆ ---       ┆ atch      ┆ tch       │\n",
       "│      ┆ i64        ┆ ---        ┆ ---        ┆   ┆ f64        ┆ f64       ┆ ---       ┆ ---       │\n",
       "│      ┆            ┆ f64        ┆ f64        ┆   ┆            ┆           ┆ f64       ┆ i8        │\n",
       "╞══════╪════════════╪════════════╪════════════╪═══╪════════════╪═══════════╪═══════════╪═══════════╡\n",
       "│ 0    ┆ 0          ┆ 0.0        ┆ 0.0        ┆ … ┆ 1.0        ┆ 0.0       ┆ 1.850789  ┆ 0         │\n",
       "│ 1    ┆ 123        ┆ 2300.0     ┆ 0.0        ┆ … ┆ 1.0        ┆ 0.0       ┆ 3.701578  ┆ 1         │\n",
       "│ 2    ┆ 0          ┆ 2300.0     ┆ 0.0        ┆ … ┆ 1.0        ┆ 0.0       ┆ 14.806313 ┆ 1         │\n",
       "│ 3    ┆ 123        ┆ 0.0        ┆ 0.0        ┆ … ┆ 1.0        ┆ 0.0       ┆ 25.911047 ┆ 1         │\n",
       "│ 4    ┆ 0          ┆ 0.0        ┆ 0.0        ┆ … ┆ 1.0        ┆ 0.0       ┆ 37.015782 ┆ 1         │\n",
       "│ …    ┆ …          ┆ …          ┆ …          ┆ … ┆ …          ┆ …         ┆ …         ┆ …         │\n",
       "│ 8200 ┆ 101        ┆ 0.0        ┆ 0.0        ┆ … ┆ 0.868432   ┆ 0.0       ┆ 35.76867  ┆ 1         │\n",
       "│ 8201 ┆ 101        ┆ 4600.0     ┆ 0.0        ┆ … ┆ 0.868432   ┆ 0.0       ┆ 40.828054 ┆ 1         │\n",
       "│ 8202 ┆ 101        ┆ 4600.0     ┆ 0.0        ┆ … ┆ 0.868432   ┆ 0.0       ┆ 43.004766 ┆ 1         │\n",
       "│ 8203 ┆ 101        ┆ 0.0        ┆ 0.0        ┆ … ┆ 0.868432   ┆ 0.0       ┆ 45.652119 ┆ 1         │\n",
       "│ 8204 ┆ 101        ┆ 4600.0     ┆ 0.0        ┆ … ┆ 0.868432   ┆ 0.0       ┆ 0.705961  ┆ 1         │\n",
       "└──────┴────────────┴────────────┴────────────┴───┴────────────┴───────────┴───────────┴───────────┘"
      ],
      "text/html": [
       "<div><style>\n",
       ".dataframe > thead > tr,\n",
       ".dataframe > tbody > tr {\n",
       "  text-align: right;\n",
       "  white-space: pre-wrap;\n",
       "}\n",
       "</style>\n",
       "<small>shape: (1_000, 121)</small><table border=\"1\" class=\"dataframe\"><thead><tr><th>Id</th><th>corporateTariffCode</th><th>miniRules0_monetaryAmount</th><th>miniRules0_percentage</th><th>miniRules0_statusInfos</th><th>miniRules1_monetaryAmount</th><th>miniRules1_percentage</th><th>miniRules1_statusInfos</th><th>pricingInfo_isAccessTP</th><th>pricingInfo_passengerCount</th><th>ranker_id</th><th>selected</th><th>price_percentile</th><th>price_rank_pct</th><th>price_ratio_to_min</th><th>route_popularity</th><th>route_popularity_log</th><th>is_access3D</th><th>is_roundtrip</th><th>route_origin</th><th>origin_is_major_hub</th><th>destination_is_major_hub</th><th>includes_major_hub</th><th>leg0_num_segments</th><th>leg1_num_segments</th><th>total_segments</th><th>leg0_flight_time_min</th><th>leg1_flight_time_min</th><th>booking_lead_days</th><th>leg0_duration_minutes</th><th>leg1_duration_minutes</th><th>trip_duration_minutes</th><th>leg0_departure_hour</th><th>leg0_departure_weekday</th><th>leg0_arrival_hour</th><th>leg0_arrival_weekday</th><th>leg1_departure_hour</th><th>&hellip;</th><th>route_loyalty</th><th>hub_preference</th><th>short_haul_preference</th><th>connection_tolerance</th><th>preferred_duration_quartile</th><th>price_to_duration_sensitivity</th><th>avg_price_per_minute</th><th>price_per_minute_variance</th><th>price_position_preference</th><th>premium_economy_preference</th><th>consistent_price_tier</th><th>preferred_price_tier</th><th>baggage_qty_preference</th><th>baggage_weight_preference</th><th>loyalty_program_utilization</th><th>convenience_priority_score</th><th>loyalty_vs_price_index</th><th>planning_consistency_score</th><th>luxury_index</th><th>search_intensity_per_route</th><th>lead_time_variance</th><th>lead_time_skew</th><th>carrier_diversity</th><th>airport_diversity</th><th>cabin_class_range</th><th>customer_tier</th><th>vip_search_intensity</th><th>vip_carrier_diversity</th><th>vip_cabin_preference</th><th>corp_search_volume</th><th>corp_roundtrip_pref</th><th>corp_planning_variance</th><th>customer_segment</th><th>daytime_alignment</th><th>weekend_alignment</th><th>price_preference_match</th><th>carrier_loyalty_match</th></tr><tr><td>i64</td><td>i64</td><td>f64</td><td>f64</td><td>f64</td><td>f64</td><td>f64</td><td>f64</td><td>f64</td><td>i64</td><td>str</td><td>i64</td><td>f64</td><td>f64</td><td>f64</td><td>u32</td><td>f64</td><td>i32</td><td>i8</td><td>str</td><td>i32</td><td>i32</td><td>i32</td><td>u32</td><td>u32</td><td>u32</td><td>i32</td><td>i32</td><td>i32</td><td>i32</td><td>i32</td><td>i32</td><td>i8</td><td>i8</td><td>i8</td><td>i8</td><td>i8</td><td>&hellip;</td><td>f64</td><td>f64</td><td>f64</td><td>f64</td><td>i32</td><td>f64</td><td>f64</td><td>f64</td><td>f64</td><td>f64</td><td>f64</td><td>i32</td><td>f64</td><td>f64</td><td>f64</td><td>f64</td><td>f64</td><td>f64</td><td>f64</td><td>f64</td><td>i32</td><td>f64</td><td>f64</td><td>f64</td><td>f64</td><td>i8</td><td>f64</td><td>f64</td><td>f64</td><td>i64</td><td>f64</td><td>i32</td><td>i64</td><td>f64</td><td>f64</td><td>f64</td><td>i8</td></tr></thead><tbody><tr><td>0</td><td>0</td><td>0.0</td><td>0.0</td><td>0.0</td><td>0.0</td><td>0.0</td><td>0.0</td><td>1.0</td><td>1</td><td>&quot;98ce0dabf6964640b63079fbafd42c…</td><td>1</td><td>0.0</td><td>0.04</td><td>1.0</td><td>25</td><td>3.258097</td><td>0</td><td>1</td><td>&quot;TLK&quot;</td><td>0</td><td>0</td><td>0</td><td>1</td><td>1</td><td>2</td><td>160</td><td>155</td><td>29</td><td>160</td><td>155</td><td>315</td><td>15</td><td>6</td><td>16</td><td>6</td><td>9</td><td>&hellip;</td><td>0.963415</td><td>0.0</td><td>0.0</td><td>1.97561</td><td>2</td><td>-0.333777</td><td>93.40632</td><td>72.972179</td><td>46.269727</td><td>0.182927</td><td>0.633535</td><td>2</td><td>1.02439</td><td>0.0</td><td>1.0</td><td>-33.657433</td><td>5.373027</td><td>0.052632</td><td>46.7934</td><td>27.333333</td><td>18</td><td>1.421748</td><td>0.073171</td><td>0.036585</td><td>1.0</td><td>1</td><td>0.0</td><td>0.0</td><td>0.0</td><td>82</td><td>0.304878</td><td>18</td><td>0</td><td>1.0</td><td>0.0</td><td>1.850789</td><td>0</td></tr><tr><td>1</td><td>123</td><td>2300.0</td><td>0.0</td><td>1.0</td><td>3500.0</td><td>0.0</td><td>1.0</td><td>1.0</td><td>1</td><td>&quot;98ce0dabf6964640b63079fbafd42c…</td><td>0</td><td>4.166667</td><td>0.08</td><td>3.028015</td><td>25</td><td>3.258097</td><td>1</td><td>1</td><td>&quot;TLK&quot;</td><td>0</td><td>0</td><td>0</td><td>2</td><td>2</td><td>4</td><td>250</td><td>245</td><td>29</td><td>445</td><td>505</td><td>950</td><td>9</td><td>6</td><td>14</td><td>6</td><td>22</td><td>&hellip;</td><td>0.963415</td><td>0.0</td><td>0.0</td><td>1.97561</td><td>2</td><td>-0.333777</td><td>93.40632</td><td>72.972179</td><td>46.269727</td><td>0.182927</td><td>0.633535</td><td>2</td><td>1.02439</td><td>0.0</td><td>1.0</td><td>-33.657433</td><td>5.373027</td><td>0.052632</td><td>46.7934</td><td>27.333333</td><td>18</td><td>1.421748</td><td>0.073171</td><td>0.036585</td><td>1.0</td><td>1</td><td>0.0</td><td>0.0</td><td>0.0</td><td>82</td><td>0.304878</td><td>18</td><td>0</td><td>1.0</td><td>0.0</td><td>3.701578</td><td>1</td></tr><tr><td>2</td><td>0</td><td>2300.0</td><td>0.0</td><td>1.0</td><td>3500.0</td><td>0.0</td><td>1.0</td><td>1.0</td><td>1</td><td>&quot;98ce0dabf6964640b63079fbafd42c…</td><td>0</td><td>29.166667</td><td>0.32</td><td>3.18023</td><td>25</td><td>3.258097</td><td>0</td><td>1</td><td>&quot;TLK&quot;</td><td>0</td><td>0</td><td>0</td><td>2</td><td>2</td><td>4</td><td>250</td><td>245</td><td>29</td><td>445</td><td>505</td><td>950</td><td>9</td><td>6</td><td>14</td><td>6</td><td>22</td><td>&hellip;</td><td>0.963415</td><td>0.0</td><td>0.0</td><td>1.97561</td><td>2</td><td>-0.333777</td><td>93.40632</td><td>72.972179</td><td>46.269727</td><td>0.182927</td><td>0.633535</td><td>2</td><td>1.02439</td><td>0.0</td><td>1.0</td><td>-33.657433</td><td>5.373027</td><td>0.052632</td><td>46.7934</td><td>27.333333</td><td>18</td><td>1.421748</td><td>0.073171</td><td>0.036585</td><td>1.0</td><td>1</td><td>0.0</td><td>0.0</td><td>0.0</td><td>82</td><td>0.304878</td><td>18</td><td>0</td><td>1.0</td><td>0.0</td><td>14.806313</td><td>1</td></tr><tr><td>3</td><td>123</td><td>0.0</td><td>0.0</td><td>1.0</td><td>0.0</td><td>0.0</td><td>1.0</td><td>1.0</td><td>1</td><td>&quot;98ce0dabf6964640b63079fbafd42c…</td><td>0</td><td>54.166667</td><td>0.56</td><td>4.849562</td><td>25</td><td>3.258097</td><td>1</td><td>1</td><td>&quot;TLK&quot;</td><td>0</td><td>0</td><td>0</td><td>2</td><td>2</td><td>4</td><td>250</td><td>245</td><td>29</td><td>445</td><td>505</td><td>950</td><td>9</td><td>6</td><td>14</td><td>6</td><td>22</td><td>&hellip;</td><td>0.963415</td><td>0.0</td><td>0.0</td><td>1.97561</td><td>2</td><td>-0.333777</td><td>93.40632</td><td>72.972179</td><td>46.269727</td><td>0.182927</td><td>0.633535</td><td>2</td><td>1.02439</td><td>0.0</td><td>1.0</td><td>-33.657433</td><td>5.373027</td><td>0.052632</td><td>46.7934</td><td>27.333333</td><td>18</td><td>1.421748</td><td>0.073171</td><td>0.036585</td><td>1.0</td><td>1</td><td>0.0</td><td>0.0</td><td>0.0</td><td>82</td><td>0.304878</td><td>18</td><td>0</td><td>1.0</td><td>0.0</td><td>25.911047</td><td>1</td></tr><tr><td>4</td><td>0</td><td>0.0</td><td>0.0</td><td>1.0</td><td>0.0</td><td>0.0</td><td>1.0</td><td>1.0</td><td>1</td><td>&quot;98ce0dabf6964640b63079fbafd42c…</td><td>0</td><td>79.166667</td><td>0.8</td><td>5.097726</td><td>25</td><td>3.258097</td><td>0</td><td>1</td><td>&quot;TLK&quot;</td><td>0</td><td>0</td><td>0</td><td>2</td><td>2</td><td>4</td><td>250</td><td>245</td><td>29</td><td>445</td><td>505</td><td>950</td><td>9</td><td>6</td><td>14</td><td>6</td><td>22</td><td>&hellip;</td><td>0.963415</td><td>0.0</td><td>0.0</td><td>1.97561</td><td>2</td><td>-0.333777</td><td>93.40632</td><td>72.972179</td><td>46.269727</td><td>0.182927</td><td>0.633535</td><td>2</td><td>1.02439</td><td>0.0</td><td>1.0</td><td>-33.657433</td><td>5.373027</td><td>0.052632</td><td>46.7934</td><td>27.333333</td><td>18</td><td>1.421748</td><td>0.073171</td><td>0.036585</td><td>1.0</td><td>1</td><td>0.0</td><td>0.0</td><td>0.0</td><td>82</td><td>0.304878</td><td>18</td><td>0</td><td>1.0</td><td>0.0</td><td>37.015782</td><td>1</td></tr><tr><td>&hellip;</td><td>&hellip;</td><td>&hellip;</td><td>&hellip;</td><td>&hellip;</td><td>&hellip;</td><td>&hellip;</td><td>&hellip;</td><td>&hellip;</td><td>&hellip;</td><td>&hellip;</td><td>&hellip;</td><td>&hellip;</td><td>&hellip;</td><td>&hellip;</td><td>&hellip;</td><td>&hellip;</td><td>&hellip;</td><td>&hellip;</td><td>&hellip;</td><td>&hellip;</td><td>&hellip;</td><td>&hellip;</td><td>&hellip;</td><td>&hellip;</td><td>&hellip;</td><td>&hellip;</td><td>&hellip;</td><td>&hellip;</td><td>&hellip;</td><td>&hellip;</td><td>&hellip;</td><td>&hellip;</td><td>&hellip;</td><td>&hellip;</td><td>&hellip;</td><td>&hellip;</td><td>&hellip;</td><td>&hellip;</td><td>&hellip;</td><td>&hellip;</td><td>&hellip;</td><td>&hellip;</td><td>&hellip;</td><td>&hellip;</td><td>&hellip;</td><td>&hellip;</td><td>&hellip;</td><td>&hellip;</td><td>&hellip;</td><td>&hellip;</td><td>&hellip;</td><td>&hellip;</td><td>&hellip;</td><td>&hellip;</td><td>&hellip;</td><td>&hellip;</td><td>&hellip;</td><td>&hellip;</td><td>&hellip;</td><td>&hellip;</td><td>&hellip;</td><td>&hellip;</td><td>&hellip;</td><td>&hellip;</td><td>&hellip;</td><td>&hellip;</td><td>&hellip;</td><td>&hellip;</td><td>&hellip;</td><td>&hellip;</td><td>&hellip;</td><td>&hellip;</td><td>&hellip;</td><td>&hellip;</td></tr><tr><td>8200</td><td>101</td><td>0.0</td><td>0.0</td><td>1.0</td><td>0.0</td><td>0.0</td><td>1.0</td><td>0.0</td><td>1</td><td>&quot;5ba369d9c3e94218b9987f7618da47…</td><td>0</td><td>73.929009</td><td>0.743276</td><td>3.040191</td><td>584293</td><td>13.27816</td><td>1</td><td>1</td><td>&quot;MOW&quot;</td><td>0</td><td>0</td><td>0</td><td>1</td><td>1</td><td>2</td><td>90</td><td>85</td><td>3</td><td>90</td><td>85</td><td>175</td><td>16</td><td>1</td><td>18</td><td>1</td><td>23</td><td>&hellip;</td><td>0.999369</td><td>0.0</td><td>0.62215</td><td>1.0</td><td>1</td><td>0.511022</td><td>154.587657</td><td>128.950598</td><td>48.122981</td><td>0.404161</td><td>0.628129</td><td>3</td><td>0.858344</td><td>0.0</td><td>0.0</td><td>-45.061876</td><td>-4.812298</td><td>0.083333</td><td>52.184651</td><td>1586.0</td><td>11</td><td>0.856572</td><td>0.001051</td><td>0.000631</td><td>3.0</td><td>1</td><td>0.0</td><td>0.0</td><td>0.0</td><td>4758</td><td>1.0</td><td>11</td><td>10</td><td>0.868432</td><td>0.0</td><td>35.76867</td><td>1</td></tr><tr><td>8201</td><td>101</td><td>4600.0</td><td>0.0</td><td>1.0</td><td>0.0</td><td>0.0</td><td>0.0</td><td>0.0</td><td>1</td><td>&quot;5ba369d9c3e94218b9987f7618da47…</td><td>0</td><td>84.455324</td><td>0.848411</td><td>9.0733</td><td>584293</td><td>13.27816</td><td>1</td><td>1</td><td>&quot;MOW&quot;</td><td>0</td><td>0</td><td>0</td><td>1</td><td>1</td><td>2</td><td>90</td><td>85</td><td>3</td><td>90</td><td>85</td><td>175</td><td>16</td><td>1</td><td>18</td><td>1</td><td>23</td><td>&hellip;</td><td>0.999369</td><td>0.0</td><td>0.62215</td><td>1.0</td><td>1</td><td>0.511022</td><td>154.587657</td><td>128.950598</td><td>48.122981</td><td>0.404161</td><td>0.628129</td><td>3</td><td>0.858344</td><td>0.0</td><td>0.0</td><td>-45.061876</td><td>-4.812298</td><td>0.083333</td><td>52.184651</td><td>1586.0</td><td>11</td><td>0.856572</td><td>0.001051</td><td>0.000631</td><td>3.0</td><td>1</td><td>0.0</td><td>0.0</td><td>0.0</td><td>4758</td><td>1.0</td><td>11</td><td>10</td><td>0.868432</td><td>0.0</td><td>40.828054</td><td>1</td></tr><tr><td>8202</td><td>101</td><td>4600.0</td><td>0.0</td><td>1.0</td><td>4600.0</td><td>0.0</td><td>1.0</td><td>0.0</td><td>1</td><td>&quot;5ba369d9c3e94218b9987f7618da47…</td><td>0</td><td>88.984088</td><td>0.893643</td><td>10.418909</td><td>584293</td><td>13.27816</td><td>1</td><td>1</td><td>&quot;MOW&quot;</td><td>0</td><td>0</td><td>0</td><td>1</td><td>1</td><td>2</td><td>90</td><td>85</td><td>3</td><td>90</td><td>85</td><td>175</td><td>16</td><td>1</td><td>18</td><td>1</td><td>23</td><td>&hellip;</td><td>0.999369</td><td>0.0</td><td>0.62215</td><td>1.0</td><td>1</td><td>0.511022</td><td>154.587657</td><td>128.950598</td><td>48.122981</td><td>0.404161</td><td>0.628129</td><td>3</td><td>0.858344</td><td>0.0</td><td>0.0</td><td>-45.061876</td><td>-4.812298</td><td>0.083333</td><td>52.184651</td><td>1586.0</td><td>11</td><td>0.856572</td><td>0.001051</td><td>0.000631</td><td>3.0</td><td>1</td><td>0.0</td><td>0.0</td><td>0.0</td><td>4758</td><td>1.0</td><td>11</td><td>10</td><td>0.868432</td><td>0.0</td><td>43.004766</td><td>1</td></tr><tr><td>8203</td><td>101</td><td>0.0</td><td>0.0</td><td>1.0</td><td>0.0</td><td>0.0</td><td>1.0</td><td>0.0</td><td>1</td><td>&quot;5ba369d9c3e94218b9987f7618da47…</td><td>0</td><td>94.492044</td><td>0.948655</td><td>14.880666</td><td>584293</td><td>13.27816</td><td>1</td><td>1</td><td>&quot;MOW&quot;</td><td>0</td><td>0</td><td>0</td><td>1</td><td>1</td><td>2</td><td>90</td><td>85</td><td>3</td><td>90</td><td>85</td><td>175</td><td>16</td><td>1</td><td>18</td><td>1</td><td>23</td><td>&hellip;</td><td>0.999369</td><td>0.0</td><td>0.62215</td><td>1.0</td><td>1</td><td>0.511022</td><td>154.587657</td><td>128.950598</td><td>48.122981</td><td>0.404161</td><td>0.628129</td><td>3</td><td>0.858344</td><td>0.0</td><td>0.0</td><td>-45.061876</td><td>-4.812298</td><td>0.083333</td><td>52.184651</td><td>1586.0</td><td>11</td><td>0.856572</td><td>0.001051</td><td>0.000631</td><td>3.0</td><td>1</td><td>0.0</td><td>0.0</td><td>0.0</td><td>4758</td><td>1.0</td><td>11</td><td>10</td><td>0.868432</td><td>0.0</td><td>45.652119</td><td>1</td></tr><tr><td>8204</td><td>101</td><td>4600.0</td><td>0.0</td><td>1.0</td><td>0.0</td><td>0.0</td><td>0.0</td><td>1.0</td><td>1</td><td>&quot;5ba369d9c3e94218b9987f7618da47…</td><td>0</td><td>0.856793</td><td>0.01467</td><td>1.121813</td><td>584293</td><td>13.27816</td><td>1</td><td>1</td><td>&quot;MOW&quot;</td><td>0</td><td>0</td><td>0</td><td>1</td><td>1</td><td>2</td><td>90</td><td>85</td><td>3</td><td>90</td><td>85</td><td>175</td><td>18</td><td>1</td><td>19</td><td>1</td><td>1</td><td>&hellip;</td><td>0.999369</td><td>0.0</td><td>0.62215</td><td>1.0</td><td>1</td><td>0.511022</td><td>154.587657</td><td>128.950598</td><td>48.122981</td><td>0.404161</td><td>0.628129</td><td>3</td><td>0.858344</td><td>0.0</td><td>0.0</td><td>-45.061876</td><td>-4.812298</td><td>0.083333</td><td>52.184651</td><td>1586.0</td><td>11</td><td>0.856572</td><td>0.001051</td><td>0.000631</td><td>3.0</td><td>1</td><td>0.0</td><td>0.0</td><td>0.0</td><td>4758</td><td>1.0</td><td>11</td><td>10</td><td>0.868432</td><td>0.0</td><td>0.705961</td><td>1</td></tr></tbody></table></div>"
      ]
     },
     "execution_count": 72,
     "metadata": {},
     "output_type": "execute_result"
    }
   ],
   "execution_count": 72
  },
  {
   "metadata": {
    "ExecuteTime": {
     "end_time": "2025-09-01T23:57:26.008799Z",
     "start_time": "2025-09-01T23:57:26.000658Z"
    }
   },
   "cell_type": "code",
   "source": [
    "# After training your model\n",
    "def complete_evaluation(model, test_df):\n",
    "    \"\"\"\n",
    "    Complete evaluation workflow\n",
    "    \"\"\"\n",
    "    print(\"Preparing test data...\")\n",
    "    X_test, y_test, groups_test = prepare_ranking_data(test_df)\n",
    "\n",
    "    # Prepare testing data for ranking\n",
    "    categorical_features = [col for col in X_test.columns if not X_test[col].dtype.is_numeric()]\n",
    "    X_test = X_test.with_columns([pl.col(col).cast(pl.Categorical) for col in categorical_features])\n",
    "\n",
    "    # Convert to pandas for LightGBM compatibility\n",
    "    X_test = X_test.to_pandas()\n",
    "\n",
    "    print(\"Making predictions...\")\n",
    "    y_pred = model.predict(X_test)\n",
    "\n",
    "    print(\"Calculating Hit Rate @ 3...\")\n",
    "    hit_rate, details = detailed_hit_rate_evaluation(\n",
    "        y_test,\n",
    "        y_pred,\n",
    "        groups_test,\n",
    "        ranker_ids=test_df['ranker_id'].unique()\n",
    "    )\n",
    "\n",
    "    print(f\"Overall Hit Rate @ 3: {hit_rate:.4f}\")\n",
    "\n",
    "    return hit_rate, details, y_pred\n"
   ],
   "id": "d6eebdebd756992f",
   "outputs": [],
   "execution_count": 70
  },
  {
   "metadata": {
    "ExecuteTime": {
     "end_time": "2025-09-01T23:59:59.850195Z",
     "start_time": "2025-09-01T23:59:05.258591Z"
    }
   },
   "cell_type": "code",
   "source": [
    "# Usage\n",
    "hit_rate, details, y_pred = complete_evaluation(model, test_df)"
   ],
   "id": "c24a0479464ef754",
   "outputs": [
    {
     "name": "stdout",
     "output_type": "stream",
     "text": [
      "Preparing test data...\n",
      "Making predictions...\n",
      "Calculating Hit Rate @ 3...\n",
      "Overall Hit Rate @ 3: 0.5848\n"
     ]
    }
   ],
   "execution_count": 73
  },
  {
   "metadata": {
    "ExecuteTime": {
     "end_time": "2025-09-02T00:01:25.864414Z",
     "start_time": "2025-09-02T00:01:25.858551Z"
    }
   },
   "cell_type": "code",
   "source": "test_df = test_df.with_columns(pl.Series('y_pred', y_pred))",
   "id": "1f13f64cf68635d7",
   "outputs": [],
   "execution_count": 74
  },
  {
   "metadata": {
    "ExecuteTime": {
     "end_time": "2025-09-02T00:01:38.539040Z",
     "start_time": "2025-09-02T00:01:38.371061Z"
    }
   },
   "cell_type": "code",
   "source": "test_df = test_df.with_columns(pl.col('y_pred').rank(method='ordinal', descending=True).over('ranker_id').alias('flight_rank'))",
   "id": "249bc007d1058924",
   "outputs": [],
   "execution_count": 75
  },
  {
   "metadata": {
    "ExecuteTime": {
     "end_time": "2025-09-02T00:01:40.240839Z",
     "start_time": "2025-09-02T00:01:40.227344Z"
    }
   },
   "cell_type": "code",
   "source": "test_df.head(100)",
   "id": "1e0c4d7e77e696f",
   "outputs": [
    {
     "data": {
      "text/plain": [
       "shape: (100, 123)\n",
       "┌──────┬────────────┬────────────┬────────────┬───┬────────────┬───────────┬───────────┬───────────┐\n",
       "│ Id   ┆ corporateT ┆ miniRules0 ┆ miniRules0 ┆ … ┆ price_pref ┆ carrier_l ┆ y_pred    ┆ flight_ra │\n",
       "│ ---  ┆ ariffCode  ┆ _monetaryA ┆ _percentag ┆   ┆ erence_mat ┆ oyalty_ma ┆ ---       ┆ nk        │\n",
       "│ i64  ┆ ---        ┆ mount      ┆ e          ┆   ┆ ch         ┆ tch       ┆ f64       ┆ ---       │\n",
       "│      ┆ i64        ┆ ---        ┆ ---        ┆   ┆ ---        ┆ ---       ┆           ┆ u32       │\n",
       "│      ┆            ┆ f64        ┆ f64        ┆   ┆ f64        ┆ i8        ┆           ┆           │\n",
       "╞══════╪════════════╪════════════╪════════════╪═══╪════════════╪═══════════╪═══════════╪═══════════╡\n",
       "│ 0    ┆ 0          ┆ 0.0        ┆ 0.0        ┆ … ┆ 1.850789   ┆ 0         ┆ -6.17485  ┆ 23        │\n",
       "│ 1    ┆ 123        ┆ 2300.0     ┆ 0.0        ┆ … ┆ 3.701578   ┆ 1         ┆ -12.45169 ┆ 25        │\n",
       "│      ┆            ┆            ┆            ┆   ┆            ┆           ┆ 4         ┆           │\n",
       "│ 2    ┆ 0          ┆ 2300.0     ┆ 0.0        ┆ … ┆ 14.806313  ┆ 1         ┆ -2.238555 ┆ 4         │\n",
       "│ 3    ┆ 123        ┆ 0.0        ┆ 0.0        ┆ … ┆ 25.911047  ┆ 1         ┆ -1.800006 ┆ 2         │\n",
       "│ 4    ┆ 0          ┆ 0.0        ┆ 0.0        ┆ … ┆ 37.015782  ┆ 1         ┆ -2.841849 ┆ 6         │\n",
       "│ …    ┆ …          ┆ …          ┆ …          ┆ … ┆ …          ┆ …         ┆ …         ┆ …         │\n",
       "│ 1358 ┆ 177        ┆ 0.0        ┆ 0.0        ┆ … ┆ 33.213952  ┆ 1         ┆ -1.656742 ┆ 12        │\n",
       "│ 1359 ┆ 177        ┆ 4600.0     ┆ 0.0        ┆ … ┆ 38.134538  ┆ 1         ┆ -5.032743 ┆ 26        │\n",
       "│ 1360 ┆ 177        ┆ 4600.0     ┆ 0.0        ┆ … ┆ 43.055123  ┆ 1         ┆ -0.098127 ┆ 5         │\n",
       "│ 1361 ┆ 177        ┆ 0.0        ┆ 0.0        ┆ … ┆ 47.975709  ┆ 1         ┆ 0.027688  ┆ 4         │\n",
       "│ 1362 ┆ 42         ┆ 4000.0     ┆ 0.0        ┆ … ┆ 7.380878   ┆ 0         ┆ -3.385539 ┆ 19        │\n",
       "└──────┴────────────┴────────────┴────────────┴───┴────────────┴───────────┴───────────┴───────────┘"
      ],
      "text/html": [
       "<div><style>\n",
       ".dataframe > thead > tr,\n",
       ".dataframe > tbody > tr {\n",
       "  text-align: right;\n",
       "  white-space: pre-wrap;\n",
       "}\n",
       "</style>\n",
       "<small>shape: (100, 123)</small><table border=\"1\" class=\"dataframe\"><thead><tr><th>Id</th><th>corporateTariffCode</th><th>miniRules0_monetaryAmount</th><th>miniRules0_percentage</th><th>miniRules0_statusInfos</th><th>miniRules1_monetaryAmount</th><th>miniRules1_percentage</th><th>miniRules1_statusInfos</th><th>pricingInfo_isAccessTP</th><th>pricingInfo_passengerCount</th><th>ranker_id</th><th>selected</th><th>price_percentile</th><th>price_rank_pct</th><th>price_ratio_to_min</th><th>route_popularity</th><th>route_popularity_log</th><th>is_access3D</th><th>is_roundtrip</th><th>route_origin</th><th>origin_is_major_hub</th><th>destination_is_major_hub</th><th>includes_major_hub</th><th>leg0_num_segments</th><th>leg1_num_segments</th><th>total_segments</th><th>leg0_flight_time_min</th><th>leg1_flight_time_min</th><th>booking_lead_days</th><th>leg0_duration_minutes</th><th>leg1_duration_minutes</th><th>trip_duration_minutes</th><th>leg0_departure_hour</th><th>leg0_departure_weekday</th><th>leg0_arrival_hour</th><th>leg0_arrival_weekday</th><th>leg1_departure_hour</th><th>&hellip;</th><th>short_haul_preference</th><th>connection_tolerance</th><th>preferred_duration_quartile</th><th>price_to_duration_sensitivity</th><th>avg_price_per_minute</th><th>price_per_minute_variance</th><th>price_position_preference</th><th>premium_economy_preference</th><th>consistent_price_tier</th><th>preferred_price_tier</th><th>baggage_qty_preference</th><th>baggage_weight_preference</th><th>loyalty_program_utilization</th><th>convenience_priority_score</th><th>loyalty_vs_price_index</th><th>planning_consistency_score</th><th>luxury_index</th><th>search_intensity_per_route</th><th>lead_time_variance</th><th>lead_time_skew</th><th>carrier_diversity</th><th>airport_diversity</th><th>cabin_class_range</th><th>customer_tier</th><th>vip_search_intensity</th><th>vip_carrier_diversity</th><th>vip_cabin_preference</th><th>corp_search_volume</th><th>corp_roundtrip_pref</th><th>corp_planning_variance</th><th>customer_segment</th><th>daytime_alignment</th><th>weekend_alignment</th><th>price_preference_match</th><th>carrier_loyalty_match</th><th>y_pred</th><th>flight_rank</th></tr><tr><td>i64</td><td>i64</td><td>f64</td><td>f64</td><td>f64</td><td>f64</td><td>f64</td><td>f64</td><td>f64</td><td>i64</td><td>str</td><td>i64</td><td>f64</td><td>f64</td><td>f64</td><td>u32</td><td>f64</td><td>i32</td><td>i8</td><td>str</td><td>i32</td><td>i32</td><td>i32</td><td>u32</td><td>u32</td><td>u32</td><td>i32</td><td>i32</td><td>i32</td><td>i32</td><td>i32</td><td>i32</td><td>i8</td><td>i8</td><td>i8</td><td>i8</td><td>i8</td><td>&hellip;</td><td>f64</td><td>f64</td><td>i32</td><td>f64</td><td>f64</td><td>f64</td><td>f64</td><td>f64</td><td>f64</td><td>i32</td><td>f64</td><td>f64</td><td>f64</td><td>f64</td><td>f64</td><td>f64</td><td>f64</td><td>f64</td><td>i32</td><td>f64</td><td>f64</td><td>f64</td><td>f64</td><td>i8</td><td>f64</td><td>f64</td><td>f64</td><td>i64</td><td>f64</td><td>i32</td><td>i64</td><td>f64</td><td>f64</td><td>f64</td><td>i8</td><td>f64</td><td>u32</td></tr></thead><tbody><tr><td>0</td><td>0</td><td>0.0</td><td>0.0</td><td>0.0</td><td>0.0</td><td>0.0</td><td>0.0</td><td>1.0</td><td>1</td><td>&quot;98ce0dabf6964640b63079fbafd42c…</td><td>1</td><td>0.0</td><td>0.04</td><td>1.0</td><td>25</td><td>3.258097</td><td>0</td><td>1</td><td>&quot;TLK&quot;</td><td>0</td><td>0</td><td>0</td><td>1</td><td>1</td><td>2</td><td>160</td><td>155</td><td>29</td><td>160</td><td>155</td><td>315</td><td>15</td><td>6</td><td>16</td><td>6</td><td>9</td><td>&hellip;</td><td>0.0</td><td>1.97561</td><td>2</td><td>-0.333777</td><td>93.40632</td><td>72.972179</td><td>46.269727</td><td>0.182927</td><td>0.633535</td><td>2</td><td>1.02439</td><td>0.0</td><td>1.0</td><td>-33.657433</td><td>5.373027</td><td>0.052632</td><td>46.7934</td><td>27.333333</td><td>18</td><td>1.421748</td><td>0.073171</td><td>0.036585</td><td>1.0</td><td>1</td><td>0.0</td><td>0.0</td><td>0.0</td><td>82</td><td>0.304878</td><td>18</td><td>0</td><td>1.0</td><td>0.0</td><td>1.850789</td><td>0</td><td>-6.17485</td><td>23</td></tr><tr><td>1</td><td>123</td><td>2300.0</td><td>0.0</td><td>1.0</td><td>3500.0</td><td>0.0</td><td>1.0</td><td>1.0</td><td>1</td><td>&quot;98ce0dabf6964640b63079fbafd42c…</td><td>0</td><td>4.166667</td><td>0.08</td><td>3.028015</td><td>25</td><td>3.258097</td><td>1</td><td>1</td><td>&quot;TLK&quot;</td><td>0</td><td>0</td><td>0</td><td>2</td><td>2</td><td>4</td><td>250</td><td>245</td><td>29</td><td>445</td><td>505</td><td>950</td><td>9</td><td>6</td><td>14</td><td>6</td><td>22</td><td>&hellip;</td><td>0.0</td><td>1.97561</td><td>2</td><td>-0.333777</td><td>93.40632</td><td>72.972179</td><td>46.269727</td><td>0.182927</td><td>0.633535</td><td>2</td><td>1.02439</td><td>0.0</td><td>1.0</td><td>-33.657433</td><td>5.373027</td><td>0.052632</td><td>46.7934</td><td>27.333333</td><td>18</td><td>1.421748</td><td>0.073171</td><td>0.036585</td><td>1.0</td><td>1</td><td>0.0</td><td>0.0</td><td>0.0</td><td>82</td><td>0.304878</td><td>18</td><td>0</td><td>1.0</td><td>0.0</td><td>3.701578</td><td>1</td><td>-12.451694</td><td>25</td></tr><tr><td>2</td><td>0</td><td>2300.0</td><td>0.0</td><td>1.0</td><td>3500.0</td><td>0.0</td><td>1.0</td><td>1.0</td><td>1</td><td>&quot;98ce0dabf6964640b63079fbafd42c…</td><td>0</td><td>29.166667</td><td>0.32</td><td>3.18023</td><td>25</td><td>3.258097</td><td>0</td><td>1</td><td>&quot;TLK&quot;</td><td>0</td><td>0</td><td>0</td><td>2</td><td>2</td><td>4</td><td>250</td><td>245</td><td>29</td><td>445</td><td>505</td><td>950</td><td>9</td><td>6</td><td>14</td><td>6</td><td>22</td><td>&hellip;</td><td>0.0</td><td>1.97561</td><td>2</td><td>-0.333777</td><td>93.40632</td><td>72.972179</td><td>46.269727</td><td>0.182927</td><td>0.633535</td><td>2</td><td>1.02439</td><td>0.0</td><td>1.0</td><td>-33.657433</td><td>5.373027</td><td>0.052632</td><td>46.7934</td><td>27.333333</td><td>18</td><td>1.421748</td><td>0.073171</td><td>0.036585</td><td>1.0</td><td>1</td><td>0.0</td><td>0.0</td><td>0.0</td><td>82</td><td>0.304878</td><td>18</td><td>0</td><td>1.0</td><td>0.0</td><td>14.806313</td><td>1</td><td>-2.238555</td><td>4</td></tr><tr><td>3</td><td>123</td><td>0.0</td><td>0.0</td><td>1.0</td><td>0.0</td><td>0.0</td><td>1.0</td><td>1.0</td><td>1</td><td>&quot;98ce0dabf6964640b63079fbafd42c…</td><td>0</td><td>54.166667</td><td>0.56</td><td>4.849562</td><td>25</td><td>3.258097</td><td>1</td><td>1</td><td>&quot;TLK&quot;</td><td>0</td><td>0</td><td>0</td><td>2</td><td>2</td><td>4</td><td>250</td><td>245</td><td>29</td><td>445</td><td>505</td><td>950</td><td>9</td><td>6</td><td>14</td><td>6</td><td>22</td><td>&hellip;</td><td>0.0</td><td>1.97561</td><td>2</td><td>-0.333777</td><td>93.40632</td><td>72.972179</td><td>46.269727</td><td>0.182927</td><td>0.633535</td><td>2</td><td>1.02439</td><td>0.0</td><td>1.0</td><td>-33.657433</td><td>5.373027</td><td>0.052632</td><td>46.7934</td><td>27.333333</td><td>18</td><td>1.421748</td><td>0.073171</td><td>0.036585</td><td>1.0</td><td>1</td><td>0.0</td><td>0.0</td><td>0.0</td><td>82</td><td>0.304878</td><td>18</td><td>0</td><td>1.0</td><td>0.0</td><td>25.911047</td><td>1</td><td>-1.800006</td><td>2</td></tr><tr><td>4</td><td>0</td><td>0.0</td><td>0.0</td><td>1.0</td><td>0.0</td><td>0.0</td><td>1.0</td><td>1.0</td><td>1</td><td>&quot;98ce0dabf6964640b63079fbafd42c…</td><td>0</td><td>79.166667</td><td>0.8</td><td>5.097726</td><td>25</td><td>3.258097</td><td>0</td><td>1</td><td>&quot;TLK&quot;</td><td>0</td><td>0</td><td>0</td><td>2</td><td>2</td><td>4</td><td>250</td><td>245</td><td>29</td><td>445</td><td>505</td><td>950</td><td>9</td><td>6</td><td>14</td><td>6</td><td>22</td><td>&hellip;</td><td>0.0</td><td>1.97561</td><td>2</td><td>-0.333777</td><td>93.40632</td><td>72.972179</td><td>46.269727</td><td>0.182927</td><td>0.633535</td><td>2</td><td>1.02439</td><td>0.0</td><td>1.0</td><td>-33.657433</td><td>5.373027</td><td>0.052632</td><td>46.7934</td><td>27.333333</td><td>18</td><td>1.421748</td><td>0.073171</td><td>0.036585</td><td>1.0</td><td>1</td><td>0.0</td><td>0.0</td><td>0.0</td><td>82</td><td>0.304878</td><td>18</td><td>0</td><td>1.0</td><td>0.0</td><td>37.015782</td><td>1</td><td>-2.841849</td><td>6</td></tr><tr><td>&hellip;</td><td>&hellip;</td><td>&hellip;</td><td>&hellip;</td><td>&hellip;</td><td>&hellip;</td><td>&hellip;</td><td>&hellip;</td><td>&hellip;</td><td>&hellip;</td><td>&hellip;</td><td>&hellip;</td><td>&hellip;</td><td>&hellip;</td><td>&hellip;</td><td>&hellip;</td><td>&hellip;</td><td>&hellip;</td><td>&hellip;</td><td>&hellip;</td><td>&hellip;</td><td>&hellip;</td><td>&hellip;</td><td>&hellip;</td><td>&hellip;</td><td>&hellip;</td><td>&hellip;</td><td>&hellip;</td><td>&hellip;</td><td>&hellip;</td><td>&hellip;</td><td>&hellip;</td><td>&hellip;</td><td>&hellip;</td><td>&hellip;</td><td>&hellip;</td><td>&hellip;</td><td>&hellip;</td><td>&hellip;</td><td>&hellip;</td><td>&hellip;</td><td>&hellip;</td><td>&hellip;</td><td>&hellip;</td><td>&hellip;</td><td>&hellip;</td><td>&hellip;</td><td>&hellip;</td><td>&hellip;</td><td>&hellip;</td><td>&hellip;</td><td>&hellip;</td><td>&hellip;</td><td>&hellip;</td><td>&hellip;</td><td>&hellip;</td><td>&hellip;</td><td>&hellip;</td><td>&hellip;</td><td>&hellip;</td><td>&hellip;</td><td>&hellip;</td><td>&hellip;</td><td>&hellip;</td><td>&hellip;</td><td>&hellip;</td><td>&hellip;</td><td>&hellip;</td><td>&hellip;</td><td>&hellip;</td><td>&hellip;</td><td>&hellip;</td><td>&hellip;</td><td>&hellip;</td><td>&hellip;</td></tr><tr><td>1358</td><td>177</td><td>0.0</td><td>0.0</td><td>1.0</td><td>0.0</td><td>0.0</td><td>1.0</td><td>1.0</td><td>1</td><td>&quot;629321276e5748a5a7ea5e3f91642f…</td><td>0</td><td>60.526316</td><td>0.692308</td><td>2.730658</td><td>649</td><td>6.476972</td><td>1</td><td>0</td><td>&quot;SGC&quot;</td><td>0</td><td>0</td><td>0</td><td>2</td><td>0</td><td>2</td><td>340</td><td>0</td><td>0</td><td>665</td><td>0</td><td>665</td><td>4</td><td>6</td><td>15</td><td>6</td><td>0</td><td>&hellip;</td><td>0.0</td><td>1.871795</td><td>1</td><td>-0.04197</td><td>103.538343</td><td>60.999025</td><td>47.975709</td><td>0.307692</td><td>0.62838</td><td>1</td><td>1.307692</td><td>0.0</td><td>0.0</td><td>-38.244081</td><td>-4.797571</td><td>0.5</td><td>50.1417</td><td>39.0</td><td>1</td><td>0.74359</td><td>0.076923</td><td>0.025641</td><td>1.0</td><td>1</td><td>0.0</td><td>0.0</td><td>0.0</td><td>39</td><td>0.0</td><td>1</td><td>10</td><td>0.0</td><td>0.0</td><td>33.213952</td><td>1</td><td>-1.656742</td><td>12</td></tr><tr><td>1359</td><td>177</td><td>4600.0</td><td>0.0</td><td>1.0</td><td>0.0</td><td>0.0</td><td>0.0</td><td>0.0</td><td>1</td><td>&quot;629321276e5748a5a7ea5e3f91642f…</td><td>0</td><td>71.052632</td><td>0.794872</td><td>3.731367</td><td>649</td><td>6.476972</td><td>1</td><td>0</td><td>&quot;SGC&quot;</td><td>0</td><td>0</td><td>0</td><td>2</td><td>0</td><td>2</td><td>340</td><td>0</td><td>0</td><td>665</td><td>0</td><td>665</td><td>4</td><td>6</td><td>15</td><td>6</td><td>0</td><td>&hellip;</td><td>0.0</td><td>1.871795</td><td>1</td><td>-0.04197</td><td>103.538343</td><td>60.999025</td><td>47.975709</td><td>0.307692</td><td>0.62838</td><td>1</td><td>1.307692</td><td>0.0</td><td>0.0</td><td>-38.244081</td><td>-4.797571</td><td>0.5</td><td>50.1417</td><td>39.0</td><td>1</td><td>0.74359</td><td>0.076923</td><td>0.025641</td><td>1.0</td><td>1</td><td>0.0</td><td>0.0</td><td>0.0</td><td>39</td><td>0.0</td><td>1</td><td>10</td><td>0.0</td><td>0.0</td><td>38.134538</td><td>1</td><td>-5.032743</td><td>26</td></tr><tr><td>1360</td><td>177</td><td>4600.0</td><td>0.0</td><td>1.0</td><td>4600.0</td><td>0.0</td><td>1.0</td><td>0.0</td><td>1</td><td>&quot;629321276e5748a5a7ea5e3f91642f…</td><td>0</td><td>81.578947</td><td>0.897436</td><td>3.944961</td><td>649</td><td>6.476972</td><td>1</td><td>0</td><td>&quot;SGC&quot;</td><td>0</td><td>0</td><td>0</td><td>2</td><td>0</td><td>2</td><td>340</td><td>0</td><td>0</td><td>665</td><td>0</td><td>665</td><td>4</td><td>6</td><td>15</td><td>6</td><td>0</td><td>&hellip;</td><td>0.0</td><td>1.871795</td><td>1</td><td>-0.04197</td><td>103.538343</td><td>60.999025</td><td>47.975709</td><td>0.307692</td><td>0.62838</td><td>1</td><td>1.307692</td><td>0.0</td><td>0.0</td><td>-38.244081</td><td>-4.797571</td><td>0.5</td><td>50.1417</td><td>39.0</td><td>1</td><td>0.74359</td><td>0.076923</td><td>0.025641</td><td>1.0</td><td>1</td><td>0.0</td><td>0.0</td><td>0.0</td><td>39</td><td>0.0</td><td>1</td><td>10</td><td>0.0</td><td>0.0</td><td>43.055123</td><td>1</td><td>-0.098127</td><td>5</td></tr><tr><td>1361</td><td>177</td><td>0.0</td><td>0.0</td><td>1.0</td><td>0.0</td><td>0.0</td><td>1.0</td><td>0.0</td><td>1</td><td>&quot;629321276e5748a5a7ea5e3f91642f…</td><td>0</td><td>92.105263</td><td>1.0</td><td>4.961246</td><td>649</td><td>6.476972</td><td>1</td><td>0</td><td>&quot;SGC&quot;</td><td>0</td><td>0</td><td>0</td><td>2</td><td>0</td><td>2</td><td>340</td><td>0</td><td>0</td><td>665</td><td>0</td><td>665</td><td>4</td><td>6</td><td>15</td><td>6</td><td>0</td><td>&hellip;</td><td>0.0</td><td>1.871795</td><td>1</td><td>-0.04197</td><td>103.538343</td><td>60.999025</td><td>47.975709</td><td>0.307692</td><td>0.62838</td><td>1</td><td>1.307692</td><td>0.0</td><td>0.0</td><td>-38.244081</td><td>-4.797571</td><td>0.5</td><td>50.1417</td><td>39.0</td><td>1</td><td>0.74359</td><td>0.076923</td><td>0.025641</td><td>1.0</td><td>1</td><td>0.0</td><td>0.0</td><td>0.0</td><td>39</td><td>0.0</td><td>1</td><td>10</td><td>0.0</td><td>0.0</td><td>47.975709</td><td>1</td><td>0.027688</td><td>4</td></tr><tr><td>1362</td><td>42</td><td>4000.0</td><td>0.0</td><td>1.0</td><td>0.0</td><td>0.0</td><td>0.0</td><td>1.0</td><td>1</td><td>&quot;629321276e5748a5a7ea5e3f91642f…</td><td>0</td><td>13.157895</td><td>0.153846</td><td>1.208402</td><td>649</td><td>6.476972</td><td>1</td><td>0</td><td>&quot;SGC&quot;</td><td>0</td><td>0</td><td>0</td><td>2</td><td>0</td><td>2</td><td>340</td><td>0</td><td>1</td><td>705</td><td>0</td><td>705</td><td>18</td><td>6</td><td>5</td><td>7</td><td>0</td><td>&hellip;</td><td>0.0</td><td>1.871795</td><td>1</td><td>-0.04197</td><td>103.538343</td><td>60.999025</td><td>47.975709</td><td>0.307692</td><td>0.62838</td><td>1</td><td>1.307692</td><td>0.0</td><td>0.0</td><td>-38.244081</td><td>-4.797571</td><td>0.5</td><td>50.1417</td><td>39.0</td><td>1</td><td>0.74359</td><td>0.076923</td><td>0.025641</td><td>1.0</td><td>1</td><td>0.0</td><td>0.0</td><td>0.0</td><td>39</td><td>0.0</td><td>1</td><td>10</td><td>0.74359</td><td>0.0</td><td>7.380878</td><td>0</td><td>-3.385539</td><td>19</td></tr></tbody></table></div>"
      ]
     },
     "execution_count": 76,
     "metadata": {},
     "output_type": "execute_result"
    }
   ],
   "execution_count": 76
  },
  {
   "metadata": {
    "ExecuteTime": {
     "end_time": "2025-09-02T00:02:23.048463Z",
     "start_time": "2025-09-02T00:02:22.983469Z"
    }
   },
   "cell_type": "code",
   "source": "test_df.group_by(pl.col('ranker_id')).agg(pl.len().alias('count')).sort('count', descending=False).filter(pl.col('count') > 10).head(1000)",
   "id": "b614518d60251441",
   "outputs": [
    {
     "data": {
      "text/plain": [
       "shape: (1_000, 2)\n",
       "┌─────────────────────────────────┬───────┐\n",
       "│ ranker_id                       ┆ count │\n",
       "│ ---                             ┆ ---   │\n",
       "│ str                             ┆ u32   │\n",
       "╞═════════════════════════════════╪═══════╡\n",
       "│ ef446e20cacb468982678f62dd2a8b… ┆ 11    │\n",
       "│ b60508f3e0a6478991fc22bcb7c2a9… ┆ 11    │\n",
       "│ 1577560fb50c4b90a403d44fd28d0c… ┆ 11    │\n",
       "│ 0d918b652375456883b9534046f84e… ┆ 11    │\n",
       "│ fb231c505f8d4aa3a625ea8e975a1b… ┆ 11    │\n",
       "│ …                               ┆ …     │\n",
       "│ 5d1ba56f95794ccba0ab61efa837ca… ┆ 15    │\n",
       "│ 2bcbd7dea6954a9b9d794cc2beb372… ┆ 15    │\n",
       "│ 724ed6663bf744cb9bc9c547c72a6b… ┆ 15    │\n",
       "│ 1ec0016042d94b8eaa79801e22dc42… ┆ 15    │\n",
       "│ 881d536e98d0491298b9a49e0f8dd6… ┆ 15    │\n",
       "└─────────────────────────────────┴───────┘"
      ],
      "text/html": [
       "<div><style>\n",
       ".dataframe > thead > tr,\n",
       ".dataframe > tbody > tr {\n",
       "  text-align: right;\n",
       "  white-space: pre-wrap;\n",
       "}\n",
       "</style>\n",
       "<small>shape: (1_000, 2)</small><table border=\"1\" class=\"dataframe\"><thead><tr><th>ranker_id</th><th>count</th></tr><tr><td>str</td><td>u32</td></tr></thead><tbody><tr><td>&quot;ef446e20cacb468982678f62dd2a8b…</td><td>11</td></tr><tr><td>&quot;b60508f3e0a6478991fc22bcb7c2a9…</td><td>11</td></tr><tr><td>&quot;1577560fb50c4b90a403d44fd28d0c…</td><td>11</td></tr><tr><td>&quot;0d918b652375456883b9534046f84e…</td><td>11</td></tr><tr><td>&quot;fb231c505f8d4aa3a625ea8e975a1b…</td><td>11</td></tr><tr><td>&hellip;</td><td>&hellip;</td></tr><tr><td>&quot;5d1ba56f95794ccba0ab61efa837ca…</td><td>15</td></tr><tr><td>&quot;2bcbd7dea6954a9b9d794cc2beb372…</td><td>15</td></tr><tr><td>&quot;724ed6663bf744cb9bc9c547c72a6b…</td><td>15</td></tr><tr><td>&quot;1ec0016042d94b8eaa79801e22dc42…</td><td>15</td></tr><tr><td>&quot;881d536e98d0491298b9a49e0f8dd6…</td><td>15</td></tr></tbody></table></div>"
      ]
     },
     "execution_count": 77,
     "metadata": {},
     "output_type": "execute_result"
    }
   ],
   "execution_count": 77
  },
  {
   "metadata": {
    "ExecuteTime": {
     "end_time": "2025-09-02T00:02:57.865700Z",
     "start_time": "2025-09-02T00:02:57.856732Z"
    }
   },
   "cell_type": "code",
   "source": "next((item for item in details if item['search_id'] == \"ef446e20cacb468982678f62dd2a8b71\"), None)",
   "id": "cfa73be8e6366c0b",
   "outputs": [
    {
     "data": {
      "text/plain": [
       "{'search_id': 'ef446e20cacb468982678f62dd2a8b71',\n",
       " 'group_size': np.uint32(3),\n",
       " 'num_actual_selections': 1,\n",
       " 'hit': True,\n",
       " 'top_k_scores': [-7.444889495298393, -6.945598460298722, -0.5184594304742536],\n",
       " 'actual_selections_scores': [-0.5184594304742536]}"
      ]
     },
     "execution_count": 78,
     "metadata": {},
     "output_type": "execute_result"
    }
   ],
   "execution_count": 78
  },
  {
   "metadata": {
    "ExecuteTime": {
     "end_time": "2025-09-02T00:03:09.294347Z",
     "start_time": "2025-09-02T00:03:09.275100Z"
    }
   },
   "cell_type": "code",
   "source": "test_df.filter(pl.col('ranker_id') == \"ef446e20cacb468982678f62dd2a8b71\")['selected','y_pred', 'flight_rank'].head(100)",
   "id": "ea69dd84eb3db2ec",
   "outputs": [
    {
     "data": {
      "text/plain": [
       "shape: (11, 3)\n",
       "┌──────────┬────────────┬─────────────┐\n",
       "│ selected ┆ y_pred     ┆ flight_rank │\n",
       "│ ---      ┆ ---        ┆ ---         │\n",
       "│ i64      ┆ f64        ┆ u32         │\n",
       "╞══════════╪════════════╪═════════════╡\n",
       "│ 1        ┆ -11.855496 ┆ 3           │\n",
       "│ 0        ┆ -13.001767 ┆ 9           │\n",
       "│ 0        ┆ -11.868254 ┆ 4           │\n",
       "│ 0        ┆ -11.693528 ┆ 2           │\n",
       "│ 0        ┆ -12.63086  ┆ 7           │\n",
       "│ …        ┆ …          ┆ …           │\n",
       "│ 0        ┆ -14.169297 ┆ 11          │\n",
       "│ 0        ┆ -13.331807 ┆ 10          │\n",
       "│ 0        ┆ -11.34904  ┆ 1           │\n",
       "│ 0        ┆ -12.039074 ┆ 6           │\n",
       "│ 0        ┆ -11.884707 ┆ 5           │\n",
       "└──────────┴────────────┴─────────────┘"
      ],
      "text/html": [
       "<div><style>\n",
       ".dataframe > thead > tr,\n",
       ".dataframe > tbody > tr {\n",
       "  text-align: right;\n",
       "  white-space: pre-wrap;\n",
       "}\n",
       "</style>\n",
       "<small>shape: (11, 3)</small><table border=\"1\" class=\"dataframe\"><thead><tr><th>selected</th><th>y_pred</th><th>flight_rank</th></tr><tr><td>i64</td><td>f64</td><td>u32</td></tr></thead><tbody><tr><td>1</td><td>-11.855496</td><td>3</td></tr><tr><td>0</td><td>-13.001767</td><td>9</td></tr><tr><td>0</td><td>-11.868254</td><td>4</td></tr><tr><td>0</td><td>-11.693528</td><td>2</td></tr><tr><td>0</td><td>-12.63086</td><td>7</td></tr><tr><td>&hellip;</td><td>&hellip;</td><td>&hellip;</td></tr><tr><td>0</td><td>-14.169297</td><td>11</td></tr><tr><td>0</td><td>-13.331807</td><td>10</td></tr><tr><td>0</td><td>-11.34904</td><td>1</td></tr><tr><td>0</td><td>-12.039074</td><td>6</td></tr><tr><td>0</td><td>-11.884707</td><td>5</td></tr></tbody></table></div>"
      ]
     },
     "execution_count": 79,
     "metadata": {},
     "output_type": "execute_result"
    }
   ],
   "execution_count": 79
  },
  {
   "metadata": {},
   "cell_type": "markdown",
   "source": "### Review Sample Submission Format",
   "id": "3ae1071c9e205c5c"
  },
  {
   "metadata": {
    "ExecuteTime": {
     "end_time": "2025-08-31T22:00:26.852775Z",
     "start_time": "2025-08-31T22:00:26.604112Z"
    }
   },
   "cell_type": "code",
   "source": "sample = pl.read_parquet('/kaggle/input/aeroclub-recsys-2025/sample_submission.parquet')",
   "id": "13a9fa698ea2dc49",
   "outputs": [],
   "execution_count": 2
  },
  {
   "metadata": {
    "ExecuteTime": {
     "end_time": "2025-08-31T22:00:35.921804Z",
     "start_time": "2025-08-31T22:00:35.912391Z"
    }
   },
   "cell_type": "code",
   "source": "sample.head(100)",
   "id": "cd91381757aa2c98",
   "outputs": [
    {
     "data": {
      "text/plain": [
       "shape: (100, 4)\n",
       "┌──────────┬─────────────────────────────────┬──────────┬───────────────────┐\n",
       "│ Id       ┆ ranker_id                       ┆ selected ┆ __index_level_0__ │\n",
       "│ ---      ┆ ---                             ┆ ---      ┆ ---               │\n",
       "│ i64      ┆ str                             ┆ i64      ┆ i64               │\n",
       "╞══════════╪═════════════════════════════════╪══════════╪═══════════════════╡\n",
       "│ 18144679 ┆ c9373e5f772e43d593dd6ad2fa90f6… ┆ 178      ┆ 18144679          │\n",
       "│ 18144680 ┆ c9373e5f772e43d593dd6ad2fa90f6… ┆ 363      ┆ 18144680          │\n",
       "│ 18144681 ┆ c9373e5f772e43d593dd6ad2fa90f6… ┆ 277      ┆ 18144681          │\n",
       "│ 18144682 ┆ c9373e5f772e43d593dd6ad2fa90f6… ┆ 183      ┆ 18144682          │\n",
       "│ 18144683 ┆ c9373e5f772e43d593dd6ad2fa90f6… ┆ 55       ┆ 18144683          │\n",
       "│ …        ┆ …                               ┆ …        ┆ …                 │\n",
       "│ 18144774 ┆ c9373e5f772e43d593dd6ad2fa90f6… ┆ 324      ┆ 18144774          │\n",
       "│ 18144775 ┆ c9373e5f772e43d593dd6ad2fa90f6… ┆ 59       ┆ 18144775          │\n",
       "│ 18144776 ┆ c9373e5f772e43d593dd6ad2fa90f6… ┆ 147      ┆ 18144776          │\n",
       "│ 18144777 ┆ c9373e5f772e43d593dd6ad2fa90f6… ┆ 233      ┆ 18144777          │\n",
       "│ 18144778 ┆ c9373e5f772e43d593dd6ad2fa90f6… ┆ 47       ┆ 18144778          │\n",
       "└──────────┴─────────────────────────────────┴──────────┴───────────────────┘"
      ],
      "text/html": [
       "<div><style>\n",
       ".dataframe > thead > tr,\n",
       ".dataframe > tbody > tr {\n",
       "  text-align: right;\n",
       "  white-space: pre-wrap;\n",
       "}\n",
       "</style>\n",
       "<small>shape: (100, 4)</small><table border=\"1\" class=\"dataframe\"><thead><tr><th>Id</th><th>ranker_id</th><th>selected</th><th>__index_level_0__</th></tr><tr><td>i64</td><td>str</td><td>i64</td><td>i64</td></tr></thead><tbody><tr><td>18144679</td><td>&quot;c9373e5f772e43d593dd6ad2fa90f6…</td><td>178</td><td>18144679</td></tr><tr><td>18144680</td><td>&quot;c9373e5f772e43d593dd6ad2fa90f6…</td><td>363</td><td>18144680</td></tr><tr><td>18144681</td><td>&quot;c9373e5f772e43d593dd6ad2fa90f6…</td><td>277</td><td>18144681</td></tr><tr><td>18144682</td><td>&quot;c9373e5f772e43d593dd6ad2fa90f6…</td><td>183</td><td>18144682</td></tr><tr><td>18144683</td><td>&quot;c9373e5f772e43d593dd6ad2fa90f6…</td><td>55</td><td>18144683</td></tr><tr><td>&hellip;</td><td>&hellip;</td><td>&hellip;</td><td>&hellip;</td></tr><tr><td>18144774</td><td>&quot;c9373e5f772e43d593dd6ad2fa90f6…</td><td>324</td><td>18144774</td></tr><tr><td>18144775</td><td>&quot;c9373e5f772e43d593dd6ad2fa90f6…</td><td>59</td><td>18144775</td></tr><tr><td>18144776</td><td>&quot;c9373e5f772e43d593dd6ad2fa90f6…</td><td>147</td><td>18144776</td></tr><tr><td>18144777</td><td>&quot;c9373e5f772e43d593dd6ad2fa90f6…</td><td>233</td><td>18144777</td></tr><tr><td>18144778</td><td>&quot;c9373e5f772e43d593dd6ad2fa90f6…</td><td>47</td><td>18144778</td></tr></tbody></table></div>"
      ]
     },
     "execution_count": 3,
     "metadata": {},
     "output_type": "execute_result"
    }
   ],
   "execution_count": 3
  },
  {
   "metadata": {
    "ExecuteTime": {
     "end_time": "2025-08-31T22:02:05.175256Z",
     "start_time": "2025-08-31T22:02:05.161007Z"
    }
   },
   "cell_type": "code",
   "source": "sample.filter(pl.col('ranker_id') == \"c9373e5f772e43d593dd6ad2fa90f67a\").sort(\"selected\", descending=False)",
   "id": "25cbb5c9e0bcb0f8",
   "outputs": [
    {
     "data": {
      "text/plain": [
       "shape: (412, 4)\n",
       "┌──────────┬─────────────────────────────────┬──────────┬───────────────────┐\n",
       "│ Id       ┆ ranker_id                       ┆ selected ┆ __index_level_0__ │\n",
       "│ ---      ┆ ---                             ┆ ---      ┆ ---               │\n",
       "│ i64      ┆ str                             ┆ i64      ┆ i64               │\n",
       "╞══════════╪═════════════════════════════════╪══════════╪═══════════════════╡\n",
       "│ 18144870 ┆ c9373e5f772e43d593dd6ad2fa90f6… ┆ 1        ┆ 18144870          │\n",
       "│ 18145030 ┆ c9373e5f772e43d593dd6ad2fa90f6… ┆ 2        ┆ 18145030          │\n",
       "│ 18144936 ┆ c9373e5f772e43d593dd6ad2fa90f6… ┆ 3        ┆ 18144936          │\n",
       "│ 18144748 ┆ c9373e5f772e43d593dd6ad2fa90f6… ┆ 4        ┆ 18144748          │\n",
       "│ 18144823 ┆ c9373e5f772e43d593dd6ad2fa90f6… ┆ 5        ┆ 18144823          │\n",
       "│ …        ┆ …                               ┆ …        ┆ …                 │\n",
       "│ 18145000 ┆ c9373e5f772e43d593dd6ad2fa90f6… ┆ 408      ┆ 18145000          │\n",
       "│ 18144751 ┆ c9373e5f772e43d593dd6ad2fa90f6… ┆ 409      ┆ 18144751          │\n",
       "│ 18144918 ┆ c9373e5f772e43d593dd6ad2fa90f6… ┆ 410      ┆ 18144918          │\n",
       "│ 18144688 ┆ c9373e5f772e43d593dd6ad2fa90f6… ┆ 411      ┆ 18144688          │\n",
       "│ 18144773 ┆ c9373e5f772e43d593dd6ad2fa90f6… ┆ 412      ┆ 18144773          │\n",
       "└──────────┴─────────────────────────────────┴──────────┴───────────────────┘"
      ],
      "text/html": [
       "<div><style>\n",
       ".dataframe > thead > tr,\n",
       ".dataframe > tbody > tr {\n",
       "  text-align: right;\n",
       "  white-space: pre-wrap;\n",
       "}\n",
       "</style>\n",
       "<small>shape: (412, 4)</small><table border=\"1\" class=\"dataframe\"><thead><tr><th>Id</th><th>ranker_id</th><th>selected</th><th>__index_level_0__</th></tr><tr><td>i64</td><td>str</td><td>i64</td><td>i64</td></tr></thead><tbody><tr><td>18144870</td><td>&quot;c9373e5f772e43d593dd6ad2fa90f6…</td><td>1</td><td>18144870</td></tr><tr><td>18145030</td><td>&quot;c9373e5f772e43d593dd6ad2fa90f6…</td><td>2</td><td>18145030</td></tr><tr><td>18144936</td><td>&quot;c9373e5f772e43d593dd6ad2fa90f6…</td><td>3</td><td>18144936</td></tr><tr><td>18144748</td><td>&quot;c9373e5f772e43d593dd6ad2fa90f6…</td><td>4</td><td>18144748</td></tr><tr><td>18144823</td><td>&quot;c9373e5f772e43d593dd6ad2fa90f6…</td><td>5</td><td>18144823</td></tr><tr><td>&hellip;</td><td>&hellip;</td><td>&hellip;</td><td>&hellip;</td></tr><tr><td>18145000</td><td>&quot;c9373e5f772e43d593dd6ad2fa90f6…</td><td>408</td><td>18145000</td></tr><tr><td>18144751</td><td>&quot;c9373e5f772e43d593dd6ad2fa90f6…</td><td>409</td><td>18144751</td></tr><tr><td>18144918</td><td>&quot;c9373e5f772e43d593dd6ad2fa90f6…</td><td>410</td><td>18144918</td></tr><tr><td>18144688</td><td>&quot;c9373e5f772e43d593dd6ad2fa90f6…</td><td>411</td><td>18144688</td></tr><tr><td>18144773</td><td>&quot;c9373e5f772e43d593dd6ad2fa90f6…</td><td>412</td><td>18144773</td></tr></tbody></table></div>"
      ]
     },
     "execution_count": 5,
     "metadata": {},
     "output_type": "execute_result"
    }
   ],
   "execution_count": 5
  },
  {
   "metadata": {},
   "cell_type": "code",
   "outputs": [],
   "execution_count": null,
   "source": "",
   "id": "474e3050d8de1a21"
  }
 ],
 "metadata": {
  "kernelspec": {
   "display_name": "Python 3",
   "language": "python",
   "name": "python3"
  },
  "language_info": {
   "codemirror_mode": {
    "name": "ipython",
    "version": 2
   },
   "file_extension": ".py",
   "mimetype": "text/x-python",
   "name": "python",
   "nbconvert_exporter": "python",
   "pygments_lexer": "ipython2",
   "version": "2.7.6"
  }
 },
 "nbformat": 4,
 "nbformat_minor": 5
}
