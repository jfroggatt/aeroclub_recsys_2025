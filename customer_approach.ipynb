{
 "cells": [
  {
   "metadata": {},
   "cell_type": "markdown",
   "source": "### Imports",
   "id": "fee1b6cd2daa8d0f"
  },
  {
   "cell_type": "code",
   "id": "initial_id",
   "metadata": {
    "collapsed": true,
    "ExecuteTime": {
     "end_time": "2025-09-02T01:18:22.870608Z",
     "start_time": "2025-09-02T01:18:22.205900Z"
    }
   },
   "source": [
    "import gc\n",
    "import re\n",
    "from typing import List, Dict\n",
    "\n",
    "import numpy as np\n",
    "import polars as pl\n",
    "import polars.selectors as cs\n",
    "\n",
    "import joblib\n",
    "import lightgbm as lgb\n",
    "from sklearn.cluster import AgglomerativeClustering\n",
    "from sklearn.decomposition import PCA\n",
    "from sklearn.ensemble import IsolationForest\n",
    "from sklearn.metrics import silhouette_score\n",
    "from sklearn.metrics.pairwise import euclidean_distances\n",
    "from sklearn.model_selection import train_test_split\n",
    "from sklearn.preprocessing import RobustScaler"
   ],
   "outputs": [],
   "execution_count": 1
  },
  {
   "metadata": {},
   "cell_type": "markdown",
   "source": "### Get the Training Data Set",
   "id": "8d3738c2184ad5c8"
  },
  {
   "metadata": {
    "ExecuteTime": {
     "end_time": "2025-09-02T00:52:01.983331Z",
     "start_time": "2025-09-02T00:51:59.258445Z"
    }
   },
   "cell_type": "code",
   "source": [
    "# data = pl.concat([train, pl.read_parquet('/kaggle/input/aeroclub-recsys-2025/test.parquet')])\n",
    "train_df = pl.read_parquet('/kaggle/input/aeroclub-recsys-2025/train.parquet')"
   ],
   "id": "53fdb480e9d9cf87",
   "outputs": [],
   "execution_count": 2
  },
  {
   "metadata": {
    "ExecuteTime": {
     "end_time": "2025-09-02T00:52:03.467758Z",
     "start_time": "2025-09-02T00:52:03.452677Z"
    }
   },
   "cell_type": "code",
   "source": "train_df.head(1000)",
   "id": "e0b7a933478bbe02",
   "outputs": [
    {
     "data": {
      "text/plain": [
       "shape: (1_000, 127)\n",
       "┌─────┬────────┬───────────┬─────────────────┬───┬────────┬────────────┬──────────┬────────────────┐\n",
       "│ Id  ┆ bySelf ┆ companyID ┆ corporateTariff ┆ … ┆ taxes  ┆ totalPrice ┆ selected ┆ __index_level_ │\n",
       "│ --- ┆ ---    ┆ ---       ┆ Code            ┆   ┆ ---    ┆ ---        ┆ ---      ┆ 0__            │\n",
       "│ i64 ┆ bool   ┆ i64       ┆ ---             ┆   ┆ f64    ┆ f64        ┆ i64      ┆ ---            │\n",
       "│     ┆        ┆           ┆ i64             ┆   ┆        ┆            ┆          ┆ i64            │\n",
       "╞═════╪════════╪═══════════╪═════════════════╪═══╪════════╪════════════╪══════════╪════════════════╡\n",
       "│ 0   ┆ true   ┆ 57323     ┆ null            ┆ … ┆ 370.0  ┆ 16884.0    ┆ 1        ┆ 0              │\n",
       "│ 1   ┆ true   ┆ 57323     ┆ 123             ┆ … ┆ 2240.0 ┆ 51125.0    ┆ 0        ┆ 1              │\n",
       "│ 2   ┆ true   ┆ 57323     ┆ null            ┆ … ┆ 2240.0 ┆ 53695.0    ┆ 0        ┆ 2              │\n",
       "│ 3   ┆ true   ┆ 57323     ┆ 123             ┆ … ┆ 2240.0 ┆ 81880.0    ┆ 0        ┆ 3              │\n",
       "│ 4   ┆ true   ┆ 57323     ┆ null            ┆ … ┆ 2240.0 ┆ 86070.0    ┆ 0        ┆ 4              │\n",
       "│ …   ┆ …      ┆ …         ┆ …               ┆ … ┆ …      ┆ …          ┆ …        ┆ …              │\n",
       "│ 995 ┆ true   ┆ 42622     ┆ null            ┆ … ┆ 2612.0 ┆ 54837.0    ┆ 0        ┆ 995            │\n",
       "│ 996 ┆ true   ┆ 42622     ┆ 115             ┆ … ┆ 2612.0 ┆ 71662.0    ┆ 0        ┆ 996            │\n",
       "│ 997 ┆ true   ┆ 42622     ┆ null            ┆ … ┆ 2612.0 ┆ 76067.0    ┆ 0        ┆ 997            │\n",
       "│ 998 ┆ true   ┆ 42622     ┆ 115             ┆ … ┆ 2612.0 ┆ 116322.0   ┆ 0        ┆ 998            │\n",
       "│ 999 ┆ true   ┆ 42622     ┆ null            ┆ … ┆ 2612.0 ┆ 123577.0   ┆ 0        ┆ 999            │\n",
       "└─────┴────────┴───────────┴─────────────────┴───┴────────┴────────────┴──────────┴────────────────┘"
      ],
      "text/html": [
       "<div><style>\n",
       ".dataframe > thead > tr,\n",
       ".dataframe > tbody > tr {\n",
       "  text-align: right;\n",
       "  white-space: pre-wrap;\n",
       "}\n",
       "</style>\n",
       "<small>shape: (1_000, 127)</small><table border=\"1\" class=\"dataframe\"><thead><tr><th>Id</th><th>bySelf</th><th>companyID</th><th>corporateTariffCode</th><th>frequentFlyer</th><th>nationality</th><th>isAccess3D</th><th>isVip</th><th>legs0_arrivalAt</th><th>legs0_departureAt</th><th>legs0_duration</th><th>legs0_segments0_aircraft_code</th><th>legs0_segments0_arrivalTo_airport_city_iata</th><th>legs0_segments0_arrivalTo_airport_iata</th><th>legs0_segments0_baggageAllowance_quantity</th><th>legs0_segments0_baggageAllowance_weightMeasurementType</th><th>legs0_segments0_cabinClass</th><th>legs0_segments0_departureFrom_airport_iata</th><th>legs0_segments0_duration</th><th>legs0_segments0_flightNumber</th><th>legs0_segments0_marketingCarrier_code</th><th>legs0_segments0_operatingCarrier_code</th><th>legs0_segments0_seatsAvailable</th><th>legs0_segments1_aircraft_code</th><th>legs0_segments1_arrivalTo_airport_city_iata</th><th>legs0_segments1_arrivalTo_airport_iata</th><th>legs0_segments1_baggageAllowance_quantity</th><th>legs0_segments1_baggageAllowance_weightMeasurementType</th><th>legs0_segments1_cabinClass</th><th>legs0_segments1_departureFrom_airport_iata</th><th>legs0_segments1_duration</th><th>legs0_segments1_flightNumber</th><th>legs0_segments1_marketingCarrier_code</th><th>legs0_segments1_operatingCarrier_code</th><th>legs0_segments1_seatsAvailable</th><th>legs0_segments2_aircraft_code</th><th>legs0_segments2_arrivalTo_airport_city_iata</th><th>&hellip;</th><th>legs1_segments2_baggageAllowance_weightMeasurementType</th><th>legs1_segments2_cabinClass</th><th>legs1_segments2_departureFrom_airport_iata</th><th>legs1_segments2_duration</th><th>legs1_segments2_flightNumber</th><th>legs1_segments2_marketingCarrier_code</th><th>legs1_segments2_operatingCarrier_code</th><th>legs1_segments2_seatsAvailable</th><th>legs1_segments3_aircraft_code</th><th>legs1_segments3_arrivalTo_airport_city_iata</th><th>legs1_segments3_arrivalTo_airport_iata</th><th>legs1_segments3_baggageAllowance_quantity</th><th>legs1_segments3_baggageAllowance_weightMeasurementType</th><th>legs1_segments3_cabinClass</th><th>legs1_segments3_departureFrom_airport_iata</th><th>legs1_segments3_duration</th><th>legs1_segments3_flightNumber</th><th>legs1_segments3_marketingCarrier_code</th><th>legs1_segments3_operatingCarrier_code</th><th>legs1_segments3_seatsAvailable</th><th>miniRules0_monetaryAmount</th><th>miniRules0_percentage</th><th>miniRules0_statusInfos</th><th>miniRules1_monetaryAmount</th><th>miniRules1_percentage</th><th>miniRules1_statusInfos</th><th>pricingInfo_isAccessTP</th><th>pricingInfo_passengerCount</th><th>profileId</th><th>ranker_id</th><th>requestDate</th><th>searchRoute</th><th>sex</th><th>taxes</th><th>totalPrice</th><th>selected</th><th>__index_level_0__</th></tr><tr><td>i64</td><td>bool</td><td>i64</td><td>i64</td><td>str</td><td>i64</td><td>bool</td><td>bool</td><td>str</td><td>str</td><td>str</td><td>str</td><td>str</td><td>str</td><td>f64</td><td>f64</td><td>f64</td><td>str</td><td>str</td><td>str</td><td>str</td><td>str</td><td>f64</td><td>str</td><td>str</td><td>str</td><td>f64</td><td>f64</td><td>f64</td><td>str</td><td>str</td><td>str</td><td>str</td><td>str</td><td>f64</td><td>str</td><td>str</td><td>&hellip;</td><td>f64</td><td>f64</td><td>str</td><td>str</td><td>str</td><td>str</td><td>str</td><td>f64</td><td>str</td><td>str</td><td>str</td><td>f64</td><td>f64</td><td>f64</td><td>str</td><td>str</td><td>str</td><td>str</td><td>str</td><td>f64</td><td>f64</td><td>f64</td><td>f64</td><td>f64</td><td>f64</td><td>f64</td><td>f64</td><td>i64</td><td>i64</td><td>str</td><td>datetime[ns]</td><td>str</td><td>bool</td><td>f64</td><td>f64</td><td>i64</td><td>i64</td></tr></thead><tbody><tr><td>0</td><td>true</td><td>57323</td><td>null</td><td>&quot;S7/SU/UT&quot;</td><td>36</td><td>false</td><td>false</td><td>&quot;2024-06-15T16:20:00&quot;</td><td>&quot;2024-06-15T15:40:00&quot;</td><td>&quot;02:40:00&quot;</td><td>&quot;YK2&quot;</td><td>&quot;KJA&quot;</td><td>&quot;KJA&quot;</td><td>1.0</td><td>0.0</td><td>1.0</td><td>&quot;TLK&quot;</td><td>&quot;02:40:00&quot;</td><td>&quot;216&quot;</td><td>&quot;KV&quot;</td><td>&quot;KV&quot;</td><td>9.0</td><td>null</td><td>null</td><td>null</td><td>null</td><td>null</td><td>null</td><td>null</td><td>null</td><td>null</td><td>null</td><td>null</td><td>null</td><td>null</td><td>null</td><td>&hellip;</td><td>null</td><td>null</td><td>null</td><td>null</td><td>null</td><td>null</td><td>null</td><td>null</td><td>null</td><td>null</td><td>null</td><td>null</td><td>null</td><td>null</td><td>null</td><td>null</td><td>null</td><td>null</td><td>null</td><td>null</td><td>null</td><td>null</td><td>null</td><td>null</td><td>null</td><td>null</td><td>1.0</td><td>1</td><td>2087645</td><td>&quot;98ce0dabf6964640b63079fbafd42c…</td><td>2024-05-17 03:03:08</td><td>&quot;TLKKJA/KJATLK&quot;</td><td>true</td><td>370.0</td><td>16884.0</td><td>1</td><td>0</td></tr><tr><td>1</td><td>true</td><td>57323</td><td>123</td><td>&quot;S7/SU/UT&quot;</td><td>36</td><td>true</td><td>false</td><td>&quot;2024-06-15T14:50:00&quot;</td><td>&quot;2024-06-15T09:25:00&quot;</td><td>&quot;07:25:00&quot;</td><td>&quot;E70&quot;</td><td>&quot;OVB&quot;</td><td>&quot;OVB&quot;</td><td>1.0</td><td>0.0</td><td>1.0</td><td>&quot;TLK&quot;</td><td>&quot;02:50:00&quot;</td><td>&quot;5358&quot;</td><td>&quot;S7&quot;</td><td>&quot;S7&quot;</td><td>4.0</td><td>&quot;E70&quot;</td><td>&quot;KJA&quot;</td><td>&quot;KJA&quot;</td><td>1.0</td><td>0.0</td><td>1.0</td><td>&quot;OVB&quot;</td><td>&quot;01:20:00&quot;</td><td>&quot;5311&quot;</td><td>&quot;S7&quot;</td><td>&quot;S7&quot;</td><td>4.0</td><td>null</td><td>null</td><td>&hellip;</td><td>null</td><td>null</td><td>null</td><td>null</td><td>null</td><td>null</td><td>null</td><td>null</td><td>null</td><td>null</td><td>null</td><td>null</td><td>null</td><td>null</td><td>null</td><td>null</td><td>null</td><td>null</td><td>null</td><td>null</td><td>2300.0</td><td>null</td><td>1.0</td><td>3500.0</td><td>null</td><td>1.0</td><td>1.0</td><td>1</td><td>2087645</td><td>&quot;98ce0dabf6964640b63079fbafd42c…</td><td>2024-05-17 03:03:08</td><td>&quot;TLKKJA/KJATLK&quot;</td><td>true</td><td>2240.0</td><td>51125.0</td><td>0</td><td>1</td></tr><tr><td>2</td><td>true</td><td>57323</td><td>null</td><td>&quot;S7/SU/UT&quot;</td><td>36</td><td>false</td><td>false</td><td>&quot;2024-06-15T14:50:00&quot;</td><td>&quot;2024-06-15T09:25:00&quot;</td><td>&quot;07:25:00&quot;</td><td>&quot;E70&quot;</td><td>&quot;OVB&quot;</td><td>&quot;OVB&quot;</td><td>1.0</td><td>0.0</td><td>1.0</td><td>&quot;TLK&quot;</td><td>&quot;02:50:00&quot;</td><td>&quot;5358&quot;</td><td>&quot;S7&quot;</td><td>&quot;S7&quot;</td><td>4.0</td><td>&quot;E70&quot;</td><td>&quot;KJA&quot;</td><td>&quot;KJA&quot;</td><td>1.0</td><td>0.0</td><td>1.0</td><td>&quot;OVB&quot;</td><td>&quot;01:20:00&quot;</td><td>&quot;5311&quot;</td><td>&quot;S7&quot;</td><td>&quot;S7&quot;</td><td>4.0</td><td>null</td><td>null</td><td>&hellip;</td><td>null</td><td>null</td><td>null</td><td>null</td><td>null</td><td>null</td><td>null</td><td>null</td><td>null</td><td>null</td><td>null</td><td>null</td><td>null</td><td>null</td><td>null</td><td>null</td><td>null</td><td>null</td><td>null</td><td>null</td><td>2300.0</td><td>null</td><td>1.0</td><td>3500.0</td><td>null</td><td>1.0</td><td>1.0</td><td>1</td><td>2087645</td><td>&quot;98ce0dabf6964640b63079fbafd42c…</td><td>2024-05-17 03:03:08</td><td>&quot;TLKKJA/KJATLK&quot;</td><td>true</td><td>2240.0</td><td>53695.0</td><td>0</td><td>2</td></tr><tr><td>3</td><td>true</td><td>57323</td><td>123</td><td>&quot;S7/SU/UT&quot;</td><td>36</td><td>true</td><td>false</td><td>&quot;2024-06-15T14:50:00&quot;</td><td>&quot;2024-06-15T09:25:00&quot;</td><td>&quot;07:25:00&quot;</td><td>&quot;E70&quot;</td><td>&quot;OVB&quot;</td><td>&quot;OVB&quot;</td><td>1.0</td><td>0.0</td><td>1.0</td><td>&quot;TLK&quot;</td><td>&quot;02:50:00&quot;</td><td>&quot;5358&quot;</td><td>&quot;S7&quot;</td><td>&quot;S7&quot;</td><td>4.0</td><td>&quot;E70&quot;</td><td>&quot;KJA&quot;</td><td>&quot;KJA&quot;</td><td>1.0</td><td>0.0</td><td>1.0</td><td>&quot;OVB&quot;</td><td>&quot;01:20:00&quot;</td><td>&quot;5311&quot;</td><td>&quot;S7&quot;</td><td>&quot;S7&quot;</td><td>4.0</td><td>null</td><td>null</td><td>&hellip;</td><td>null</td><td>null</td><td>null</td><td>null</td><td>null</td><td>null</td><td>null</td><td>null</td><td>null</td><td>null</td><td>null</td><td>null</td><td>null</td><td>null</td><td>null</td><td>null</td><td>null</td><td>null</td><td>null</td><td>null</td><td>0.0</td><td>null</td><td>1.0</td><td>0.0</td><td>null</td><td>1.0</td><td>1.0</td><td>1</td><td>2087645</td><td>&quot;98ce0dabf6964640b63079fbafd42c…</td><td>2024-05-17 03:03:08</td><td>&quot;TLKKJA/KJATLK&quot;</td><td>true</td><td>2240.0</td><td>81880.0</td><td>0</td><td>3</td></tr><tr><td>4</td><td>true</td><td>57323</td><td>null</td><td>&quot;S7/SU/UT&quot;</td><td>36</td><td>false</td><td>false</td><td>&quot;2024-06-15T14:50:00&quot;</td><td>&quot;2024-06-15T09:25:00&quot;</td><td>&quot;07:25:00&quot;</td><td>&quot;E70&quot;</td><td>&quot;OVB&quot;</td><td>&quot;OVB&quot;</td><td>1.0</td><td>0.0</td><td>1.0</td><td>&quot;TLK&quot;</td><td>&quot;02:50:00&quot;</td><td>&quot;5358&quot;</td><td>&quot;S7&quot;</td><td>&quot;S7&quot;</td><td>4.0</td><td>&quot;E70&quot;</td><td>&quot;KJA&quot;</td><td>&quot;KJA&quot;</td><td>1.0</td><td>0.0</td><td>1.0</td><td>&quot;OVB&quot;</td><td>&quot;01:20:00&quot;</td><td>&quot;5311&quot;</td><td>&quot;S7&quot;</td><td>&quot;S7&quot;</td><td>4.0</td><td>null</td><td>null</td><td>&hellip;</td><td>null</td><td>null</td><td>null</td><td>null</td><td>null</td><td>null</td><td>null</td><td>null</td><td>null</td><td>null</td><td>null</td><td>null</td><td>null</td><td>null</td><td>null</td><td>null</td><td>null</td><td>null</td><td>null</td><td>null</td><td>0.0</td><td>null</td><td>1.0</td><td>0.0</td><td>null</td><td>1.0</td><td>1.0</td><td>1</td><td>2087645</td><td>&quot;98ce0dabf6964640b63079fbafd42c…</td><td>2024-05-17 03:03:08</td><td>&quot;TLKKJA/KJATLK&quot;</td><td>true</td><td>2240.0</td><td>86070.0</td><td>0</td><td>4</td></tr><tr><td>&hellip;</td><td>&hellip;</td><td>&hellip;</td><td>&hellip;</td><td>&hellip;</td><td>&hellip;</td><td>&hellip;</td><td>&hellip;</td><td>&hellip;</td><td>&hellip;</td><td>&hellip;</td><td>&hellip;</td><td>&hellip;</td><td>&hellip;</td><td>&hellip;</td><td>&hellip;</td><td>&hellip;</td><td>&hellip;</td><td>&hellip;</td><td>&hellip;</td><td>&hellip;</td><td>&hellip;</td><td>&hellip;</td><td>&hellip;</td><td>&hellip;</td><td>&hellip;</td><td>&hellip;</td><td>&hellip;</td><td>&hellip;</td><td>&hellip;</td><td>&hellip;</td><td>&hellip;</td><td>&hellip;</td><td>&hellip;</td><td>&hellip;</td><td>&hellip;</td><td>&hellip;</td><td>&hellip;</td><td>&hellip;</td><td>&hellip;</td><td>&hellip;</td><td>&hellip;</td><td>&hellip;</td><td>&hellip;</td><td>&hellip;</td><td>&hellip;</td><td>&hellip;</td><td>&hellip;</td><td>&hellip;</td><td>&hellip;</td><td>&hellip;</td><td>&hellip;</td><td>&hellip;</td><td>&hellip;</td><td>&hellip;</td><td>&hellip;</td><td>&hellip;</td><td>&hellip;</td><td>&hellip;</td><td>&hellip;</td><td>&hellip;</td><td>&hellip;</td><td>&hellip;</td><td>&hellip;</td><td>&hellip;</td><td>&hellip;</td><td>&hellip;</td><td>&hellip;</td><td>&hellip;</td><td>&hellip;</td><td>&hellip;</td><td>&hellip;</td><td>&hellip;</td><td>&hellip;</td><td>&hellip;</td></tr><tr><td>995</td><td>true</td><td>42622</td><td>null</td><td>null</td><td>36</td><td>false</td><td>false</td><td>&quot;2024-05-21T07:15:00&quot;</td><td>&quot;2024-05-20T17:45:00&quot;</td><td>&quot;11:30:00&quot;</td><td>&quot;32A&quot;</td><td>&quot;MOW&quot;</td><td>&quot;DME&quot;</td><td>0.0</td><td>0.0</td><td>1.0</td><td>&quot;OVB&quot;</td><td>&quot;04:20:00&quot;</td><td>&quot;2516&quot;</td><td>&quot;S7&quot;</td><td>&quot;S7&quot;</td><td>9.0</td><td>&quot;32N&quot;</td><td>&quot;HTA&quot;</td><td>&quot;HTA&quot;</td><td>0.0</td><td>0.0</td><td>1.0</td><td>&quot;DME&quot;</td><td>&quot;06:10:00&quot;</td><td>&quot;3045&quot;</td><td>&quot;S7&quot;</td><td>&quot;S7&quot;</td><td>1.0</td><td>null</td><td>null</td><td>&hellip;</td><td>null</td><td>null</td><td>null</td><td>null</td><td>null</td><td>null</td><td>null</td><td>null</td><td>null</td><td>null</td><td>null</td><td>null</td><td>null</td><td>null</td><td>null</td><td>null</td><td>null</td><td>null</td><td>null</td><td>null</td><td>4000.0</td><td>null</td><td>1.0</td><td>0.0</td><td>null</td><td>0.0</td><td>0.0</td><td>1</td><td>2812817</td><td>&quot;1e9c2a3788a74ab7b80890ef712773…</td><td>2024-05-17 06:39:30</td><td>&quot;OVBHTA/HTAOVB&quot;</td><td>true</td><td>2612.0</td><td>54837.0</td><td>0</td><td>995</td></tr><tr><td>996</td><td>true</td><td>42622</td><td>115</td><td>null</td><td>36</td><td>true</td><td>false</td><td>&quot;2024-05-21T07:15:00&quot;</td><td>&quot;2024-05-20T17:45:00&quot;</td><td>&quot;11:30:00&quot;</td><td>&quot;32A&quot;</td><td>&quot;MOW&quot;</td><td>&quot;DME&quot;</td><td>1.0</td><td>0.0</td><td>1.0</td><td>&quot;OVB&quot;</td><td>&quot;04:20:00&quot;</td><td>&quot;2516&quot;</td><td>&quot;S7&quot;</td><td>&quot;S7&quot;</td><td>9.0</td><td>&quot;32N&quot;</td><td>&quot;HTA&quot;</td><td>&quot;HTA&quot;</td><td>1.0</td><td>0.0</td><td>1.0</td><td>&quot;DME&quot;</td><td>&quot;06:10:00&quot;</td><td>&quot;3045&quot;</td><td>&quot;S7&quot;</td><td>&quot;S7&quot;</td><td>1.0</td><td>null</td><td>null</td><td>&hellip;</td><td>null</td><td>null</td><td>null</td><td>null</td><td>null</td><td>null</td><td>null</td><td>null</td><td>null</td><td>null</td><td>null</td><td>null</td><td>null</td><td>null</td><td>null</td><td>null</td><td>null</td><td>null</td><td>null</td><td>null</td><td>2300.0</td><td>null</td><td>1.0</td><td>3500.0</td><td>null</td><td>1.0</td><td>0.0</td><td>1</td><td>2812817</td><td>&quot;1e9c2a3788a74ab7b80890ef712773…</td><td>2024-05-17 06:39:30</td><td>&quot;OVBHTA/HTAOVB&quot;</td><td>true</td><td>2612.0</td><td>71662.0</td><td>0</td><td>996</td></tr><tr><td>997</td><td>true</td><td>42622</td><td>null</td><td>null</td><td>36</td><td>false</td><td>false</td><td>&quot;2024-05-21T07:15:00&quot;</td><td>&quot;2024-05-20T17:45:00&quot;</td><td>&quot;11:30:00&quot;</td><td>&quot;32A&quot;</td><td>&quot;MOW&quot;</td><td>&quot;DME&quot;</td><td>1.0</td><td>0.0</td><td>1.0</td><td>&quot;OVB&quot;</td><td>&quot;04:20:00&quot;</td><td>&quot;2516&quot;</td><td>&quot;S7&quot;</td><td>&quot;S7&quot;</td><td>9.0</td><td>&quot;32N&quot;</td><td>&quot;HTA&quot;</td><td>&quot;HTA&quot;</td><td>1.0</td><td>0.0</td><td>1.0</td><td>&quot;DME&quot;</td><td>&quot;06:10:00&quot;</td><td>&quot;3045&quot;</td><td>&quot;S7&quot;</td><td>&quot;S7&quot;</td><td>1.0</td><td>null</td><td>null</td><td>&hellip;</td><td>null</td><td>null</td><td>null</td><td>null</td><td>null</td><td>null</td><td>null</td><td>null</td><td>null</td><td>null</td><td>null</td><td>null</td><td>null</td><td>null</td><td>null</td><td>null</td><td>null</td><td>null</td><td>null</td><td>null</td><td>2300.0</td><td>null</td><td>1.0</td><td>3500.0</td><td>null</td><td>1.0</td><td>0.0</td><td>1</td><td>2812817</td><td>&quot;1e9c2a3788a74ab7b80890ef712773…</td><td>2024-05-17 06:39:30</td><td>&quot;OVBHTA/HTAOVB&quot;</td><td>true</td><td>2612.0</td><td>76067.0</td><td>0</td><td>997</td></tr><tr><td>998</td><td>true</td><td>42622</td><td>115</td><td>null</td><td>36</td><td>true</td><td>false</td><td>&quot;2024-05-21T07:15:00&quot;</td><td>&quot;2024-05-20T17:45:00&quot;</td><td>&quot;11:30:00&quot;</td><td>&quot;32A&quot;</td><td>&quot;MOW&quot;</td><td>&quot;DME&quot;</td><td>1.0</td><td>0.0</td><td>1.0</td><td>&quot;OVB&quot;</td><td>&quot;04:20:00&quot;</td><td>&quot;2516&quot;</td><td>&quot;S7&quot;</td><td>&quot;S7&quot;</td><td>9.0</td><td>&quot;32N&quot;</td><td>&quot;HTA&quot;</td><td>&quot;HTA&quot;</td><td>1.0</td><td>0.0</td><td>1.0</td><td>&quot;DME&quot;</td><td>&quot;06:10:00&quot;</td><td>&quot;3045&quot;</td><td>&quot;S7&quot;</td><td>&quot;S7&quot;</td><td>1.0</td><td>null</td><td>null</td><td>&hellip;</td><td>null</td><td>null</td><td>null</td><td>null</td><td>null</td><td>null</td><td>null</td><td>null</td><td>null</td><td>null</td><td>null</td><td>null</td><td>null</td><td>null</td><td>null</td><td>null</td><td>null</td><td>null</td><td>null</td><td>null</td><td>0.0</td><td>null</td><td>1.0</td><td>0.0</td><td>null</td><td>1.0</td><td>0.0</td><td>1</td><td>2812817</td><td>&quot;1e9c2a3788a74ab7b80890ef712773…</td><td>2024-05-17 06:39:30</td><td>&quot;OVBHTA/HTAOVB&quot;</td><td>true</td><td>2612.0</td><td>116322.0</td><td>0</td><td>998</td></tr><tr><td>999</td><td>true</td><td>42622</td><td>null</td><td>null</td><td>36</td><td>false</td><td>false</td><td>&quot;2024-05-21T07:15:00&quot;</td><td>&quot;2024-05-20T17:45:00&quot;</td><td>&quot;11:30:00&quot;</td><td>&quot;32A&quot;</td><td>&quot;MOW&quot;</td><td>&quot;DME&quot;</td><td>1.0</td><td>0.0</td><td>1.0</td><td>&quot;OVB&quot;</td><td>&quot;04:20:00&quot;</td><td>&quot;2516&quot;</td><td>&quot;S7&quot;</td><td>&quot;S7&quot;</td><td>9.0</td><td>&quot;32N&quot;</td><td>&quot;HTA&quot;</td><td>&quot;HTA&quot;</td><td>1.0</td><td>0.0</td><td>1.0</td><td>&quot;DME&quot;</td><td>&quot;06:10:00&quot;</td><td>&quot;3045&quot;</td><td>&quot;S7&quot;</td><td>&quot;S7&quot;</td><td>1.0</td><td>null</td><td>null</td><td>&hellip;</td><td>null</td><td>null</td><td>null</td><td>null</td><td>null</td><td>null</td><td>null</td><td>null</td><td>null</td><td>null</td><td>null</td><td>null</td><td>null</td><td>null</td><td>null</td><td>null</td><td>null</td><td>null</td><td>null</td><td>null</td><td>0.0</td><td>null</td><td>1.0</td><td>0.0</td><td>null</td><td>1.0</td><td>0.0</td><td>1</td><td>2812817</td><td>&quot;1e9c2a3788a74ab7b80890ef712773…</td><td>2024-05-17 06:39:30</td><td>&quot;OVBHTA/HTAOVB&quot;</td><td>true</td><td>2612.0</td><td>123577.0</td><td>0</td><td>999</td></tr></tbody></table></div>"
      ]
     },
     "execution_count": 3,
     "metadata": {},
     "output_type": "execute_result"
    }
   ],
   "execution_count": 3
  },
  {
   "metadata": {
    "ExecuteTime": {
     "end_time": "2025-09-02T00:52:06.780291Z",
     "start_time": "2025-09-02T00:52:06.773833Z"
    }
   },
   "cell_type": "code",
   "source": "train_df.shape",
   "id": "df79037042e9043e",
   "outputs": [
    {
     "data": {
      "text/plain": [
       "(18145372, 127)"
      ]
     },
     "execution_count": 4,
     "metadata": {},
     "output_type": "execute_result"
    }
   ],
   "execution_count": 4
  },
  {
   "metadata": {
    "ExecuteTime": {
     "end_time": "2025-09-02T00:52:08.201953Z",
     "start_time": "2025-09-02T00:52:07.660332Z"
    }
   },
   "cell_type": "code",
   "source": [
    "print(f\"the number of new profiles in train data is {len(train_df.select(\"profileId\").unique())}\")\n",
    "print(f'the number of searches in train data is {len(train_df.select('ranker_id').unique())}')"
   ],
   "id": "e92b1d5c59e1b5ca",
   "outputs": [
    {
     "name": "stdout",
     "output_type": "stream",
     "text": [
      "the number of new profiles in train data is 32922\n",
      "the number of searches in train data is 105539\n"
     ]
    }
   ],
   "execution_count": 5
  },
  {
   "metadata": {
    "ExecuteTime": {
     "end_time": "2025-09-01T21:59:44.120535Z",
     "start_time": "2025-09-01T21:59:29.840630Z"
    }
   },
   "cell_type": "code",
   "source": [
    "flight_counts = train_df.group_by('ranker_id').agg(pl.len().alias('flight_count'))\n",
    "\n",
    "print(f'The minimum number of searches in train data is {flight_counts['flight_count'].min()}')\n",
    "print(f'The maximum number of searches in train data is {flight_counts['flight_count'].max()}')\n",
    "\n",
    "del flight_counts\n",
    "_ = gc.collect()"
   ],
   "id": "52750287287f682a",
   "outputs": [
    {
     "name": "stdout",
     "output_type": "stream",
     "text": [
      "The minimum number of searches in train data is 1\n",
      "The maximum number of searches in train data is 8236\n"
     ]
    }
   ],
   "execution_count": 6
  },
  {
   "metadata": {},
   "cell_type": "markdown",
   "source": "### Split into Train and Test Data Sets",
   "id": "7672cedb64a71719"
  },
  {
   "metadata": {
    "ExecuteTime": {
     "end_time": "2025-09-02T01:18:43.217703Z",
     "start_time": "2025-09-02T01:18:43.207200Z"
    }
   },
   "cell_type": "code",
   "source": [
    "def stratified_flight_count_split(df, test_size=0.2, random_state=42):\n",
    "    # Calculate flights per search\n",
    "    search_flight_counts = (\n",
    "        df\n",
    "        .group_by('ranker_id')\n",
    "        .agg(pl.len().alias('flight_count'))\n",
    "    )\n",
    "\n",
    "    # Create stratification bins\n",
    "    search_flight_counts = search_flight_counts.with_columns(\n",
    "        pl.when(pl.col('flight_count') <= 50).then(pl.lit('very_small'))     # Most searches\n",
    "        .when(pl.col('flight_count') <= 200).then(pl.lit('small'))\n",
    "        .when(pl.col('flight_count') <= 500).then(pl.lit('medium'))\n",
    "        .when(pl.col('flight_count') <= 1000).then(pl.lit('large'))\n",
    "        .otherwise(pl.lit('very_large'))                                     # High-flight searches\n",
    "        .alias('size_category')\n",
    "    )\n",
    "\n",
    "    # Print distribution for verification\n",
    "    size_dist = search_flight_counts.group_by('size_category').len().sort('size_category')\n",
    "    print(\"Search size distribution:\")\n",
    "    for row in size_dist.iter_rows(named=True):\n",
    "        print(f\"  {row['size_category']}: {row['len']:,} searches\")\n",
    "\n",
    "    # Split within each size category\n",
    "    train_searches = []\n",
    "    test_searches = []\n",
    "\n",
    "    for category in ['very_small', 'small', 'medium', 'large', 'very_large']:\n",
    "        category_searches = (\n",
    "            search_flight_counts\n",
    "            .filter(pl.col('size_category') == category)\n",
    "            .select('ranker_id')\n",
    "            .to_pandas()['ranker_id'].tolist()\n",
    "        )\n",
    "\n",
    "        if len(category_searches) > 1:\n",
    "            train_cat, test_cat = train_test_split(\n",
    "                category_searches,\n",
    "                test_size=test_size,\n",
    "                random_state=random_state,\n",
    "                stratify=None  # No further stratification within category\n",
    "            )\n",
    "            train_searches.extend(train_cat)\n",
    "            test_searches.extend(test_cat)\n",
    "        elif len(category_searches) == 1:\n",
    "            # Single search goes to train\n",
    "            train_searches.extend(category_searches)\n",
    "\n",
    "    # Filter original data\n",
    "    train_data = df.filter(pl.col('ranker_id').is_in(train_searches))\n",
    "    test_data = df.filter(pl.col('ranker_id').is_in(test_searches))\n",
    "\n",
    "    # Verification: Check distribution preservation\n",
    "    print(f\"\\nSplit results:\")\n",
    "    print(f\"Train searches: {len(train_searches):,}\")\n",
    "    print(f\"Test searches: {len(test_searches):,}\")\n",
    "    print(f\"Train rows: {train_data.height:,}\")\n",
    "    print(f\"Test rows: {test_data.height:,}\")\n",
    "\n",
    "    # Verify stratification worked\n",
    "    train_size_dist = (\n",
    "        train_data\n",
    "        .group_by('ranker_id')\n",
    "        .agg(pl.len().alias('flight_count'))\n",
    "        .with_columns(\n",
    "            pl.when(pl.col('flight_count') <= 50).then(pl.lit('very_small'))\n",
    "            .when(pl.col('flight_count') <= 200).then(pl.lit('small'))\n",
    "            .when(pl.col('flight_count') <= 500).then(pl.lit('medium'))\n",
    "            .when(pl.col('flight_count') <= 1000).then(pl.lit('large'))\n",
    "            .otherwise(pl.lit('very_large'))\n",
    "            .alias('size_category')\n",
    "        )\n",
    "        .group_by('size_category')\n",
    "        .len()\n",
    "        .sort('size_category')\n",
    "    )\n",
    "\n",
    "    test_size_dist = (\n",
    "        test_data\n",
    "        .group_by('ranker_id')\n",
    "        .agg(pl.len().alias('flight_count'))\n",
    "        .with_columns(\n",
    "            pl.when(pl.col('flight_count') <= 50).then(pl.lit('very_small'))\n",
    "            .when(pl.col('flight_count') <= 200).then(pl.lit('small'))\n",
    "            .when(pl.col('flight_count') <= 500).then(pl.lit('medium'))\n",
    "            .when(pl.col('flight_count') <= 1000).then(pl.lit('large'))\n",
    "            .otherwise(pl.lit('very_large'))\n",
    "            .alias('size_category')\n",
    "        )\n",
    "        .group_by('size_category')\n",
    "        .len()\n",
    "        .sort('size_category')\n",
    "    )\n",
    "\n",
    "    print(f\"\\nTrain set distribution:\")\n",
    "    for row in train_size_dist.iter_rows(named=True):\n",
    "        print(f\"  {row['size_category']}: {row['len']:,} searches\")\n",
    "\n",
    "    print(f\"\\nTest set distribution:\")\n",
    "    for row in test_size_dist.iter_rows(named=True):\n",
    "        print(f\"  {row['size_category']}: {row['len']:,} searches\")\n",
    "\n",
    "    return train_data, test_data\n"
   ],
   "id": "7e0f4c0409b8e937",
   "outputs": [],
   "execution_count": 2
  },
  {
   "metadata": {
    "ExecuteTime": {
     "end_time": "2025-09-02T00:53:17.025263Z",
     "start_time": "2025-09-02T00:52:20.494446Z"
    }
   },
   "cell_type": "code",
   "source": "train_df, test_df = stratified_flight_count_split(train_df)",
   "id": "162b7708a81ea7a7",
   "outputs": [
    {
     "name": "stdout",
     "output_type": "stream",
     "text": [
      "Search size distribution:\n",
      "  large: 5,035 searches\n",
      "  medium: 13,896 searches\n",
      "  small: 30,360 searches\n",
      "  very_large: 3,141 searches\n",
      "  very_small: 53,107 searches\n",
      "\n",
      "Split results:\n",
      "Train searches: 84,429\n",
      "Test searches: 21,110\n",
      "Train rows: 14,484,256\n",
      "Test rows: 3,661,116\n",
      "\n",
      "Train set distribution:\n",
      "  large: 4,028 searches\n",
      "  medium: 11,116 searches\n",
      "  small: 24,288 searches\n",
      "  very_large: 2,512 searches\n",
      "  very_small: 42,485 searches\n",
      "\n",
      "Test set distribution:\n",
      "  large: 1,007 searches\n",
      "  medium: 2,780 searches\n",
      "  small: 6,072 searches\n",
      "  very_large: 629 searches\n",
      "  very_small: 10,622 searches\n"
     ]
    }
   ],
   "execution_count": 7
  },
  {
   "metadata": {
    "ExecuteTime": {
     "end_time": "2025-09-02T00:53:56.339515Z",
     "start_time": "2025-09-02T00:53:36.833609Z"
    }
   },
   "cell_type": "code",
   "source": [
    "# Save the train/test splits\n",
    "train_df.write_parquet('data/train_df.parquet')\n",
    "test_df.write_parquet('data/test_df.parquet')\n",
    "\n",
    "# Remove test data from memory\n",
    "del test_df\n",
    "gc.collect()"
   ],
   "id": "3116e5a65018ed8",
   "outputs": [
    {
     "data": {
      "text/plain": [
       "64"
      ]
     },
     "execution_count": 8,
     "metadata": {},
     "output_type": "execute_result"
    }
   ],
   "execution_count": 8
  },
  {
   "metadata": {
    "ExecuteTime": {
     "end_time": "2025-09-02T00:54:19.569221Z",
     "start_time": "2025-09-02T00:54:19.549514Z"
    }
   },
   "cell_type": "code",
   "source": [
    "# Check if train_df exists and load if not\n",
    "try:\n",
    "    train_df.head()\n",
    "except NameError:\n",
    "    train_df = pl.read_parquet('data/train_df.parquet')\n",
    "    print(f'loaded train_df: {train_df.shape}')\n",
    "\n",
    "train_df.head(100)"
   ],
   "id": "7ccedceeab9d5ebc",
   "outputs": [
    {
     "data": {
      "text/plain": [
       "shape: (100, 127)\n",
       "┌─────┬────────┬───────────┬─────────────────┬───┬────────┬────────────┬──────────┬────────────────┐\n",
       "│ Id  ┆ bySelf ┆ companyID ┆ corporateTariff ┆ … ┆ taxes  ┆ totalPrice ┆ selected ┆ __index_level_ │\n",
       "│ --- ┆ ---    ┆ ---       ┆ Code            ┆   ┆ ---    ┆ ---        ┆ ---      ┆ 0__            │\n",
       "│ i64 ┆ bool   ┆ i64       ┆ ---             ┆   ┆ f64    ┆ f64        ┆ i64      ┆ ---            │\n",
       "│     ┆        ┆           ┆ i64             ┆   ┆        ┆            ┆          ┆ i64            │\n",
       "╞═════╪════════╪═══════════╪═════════════════╪═══╪════════╪════════════╪══════════╪════════════════╡\n",
       "│ 0   ┆ true   ┆ 57323     ┆ null            ┆ … ┆ 370.0  ┆ 16884.0    ┆ 1        ┆ 0              │\n",
       "│ 1   ┆ true   ┆ 57323     ┆ 123             ┆ … ┆ 2240.0 ┆ 51125.0    ┆ 0        ┆ 1              │\n",
       "│ 2   ┆ true   ┆ 57323     ┆ null            ┆ … ┆ 2240.0 ┆ 53695.0    ┆ 0        ┆ 2              │\n",
       "│ 3   ┆ true   ┆ 57323     ┆ 123             ┆ … ┆ 2240.0 ┆ 81880.0    ┆ 0        ┆ 3              │\n",
       "│ 4   ┆ true   ┆ 57323     ┆ null            ┆ … ┆ 2240.0 ┆ 86070.0    ┆ 0        ┆ 4              │\n",
       "│ …   ┆ …      ┆ …         ┆ …               ┆ … ┆ …      ┆ …          ┆ …        ┆ …              │\n",
       "│ 144 ┆ true   ┆ 53407     ┆ null            ┆ … ┆ 1215.0 ┆ 5315.0     ┆ 0        ┆ 144            │\n",
       "│ 145 ┆ true   ┆ 53407     ┆ null            ┆ … ┆ 1215.0 ┆ 8515.0     ┆ 0        ┆ 145            │\n",
       "│ 146 ┆ true   ┆ 53407     ┆ 101             ┆ … ┆ 417.0  ┆ 4417.0     ┆ 0        ┆ 146            │\n",
       "│ 147 ┆ true   ┆ 53407     ┆ 101             ┆ … ┆ 417.0  ┆ 5907.0     ┆ 0        ┆ 147            │\n",
       "│ 148 ┆ true   ┆ 53407     ┆ 101             ┆ … ┆ 417.0  ┆ 9687.0     ┆ 0        ┆ 148            │\n",
       "└─────┴────────┴───────────┴─────────────────┴───┴────────┴────────────┴──────────┴────────────────┘"
      ],
      "text/html": [
       "<div><style>\n",
       ".dataframe > thead > tr,\n",
       ".dataframe > tbody > tr {\n",
       "  text-align: right;\n",
       "  white-space: pre-wrap;\n",
       "}\n",
       "</style>\n",
       "<small>shape: (100, 127)</small><table border=\"1\" class=\"dataframe\"><thead><tr><th>Id</th><th>bySelf</th><th>companyID</th><th>corporateTariffCode</th><th>frequentFlyer</th><th>nationality</th><th>isAccess3D</th><th>isVip</th><th>legs0_arrivalAt</th><th>legs0_departureAt</th><th>legs0_duration</th><th>legs0_segments0_aircraft_code</th><th>legs0_segments0_arrivalTo_airport_city_iata</th><th>legs0_segments0_arrivalTo_airport_iata</th><th>legs0_segments0_baggageAllowance_quantity</th><th>legs0_segments0_baggageAllowance_weightMeasurementType</th><th>legs0_segments0_cabinClass</th><th>legs0_segments0_departureFrom_airport_iata</th><th>legs0_segments0_duration</th><th>legs0_segments0_flightNumber</th><th>legs0_segments0_marketingCarrier_code</th><th>legs0_segments0_operatingCarrier_code</th><th>legs0_segments0_seatsAvailable</th><th>legs0_segments1_aircraft_code</th><th>legs0_segments1_arrivalTo_airport_city_iata</th><th>legs0_segments1_arrivalTo_airport_iata</th><th>legs0_segments1_baggageAllowance_quantity</th><th>legs0_segments1_baggageAllowance_weightMeasurementType</th><th>legs0_segments1_cabinClass</th><th>legs0_segments1_departureFrom_airport_iata</th><th>legs0_segments1_duration</th><th>legs0_segments1_flightNumber</th><th>legs0_segments1_marketingCarrier_code</th><th>legs0_segments1_operatingCarrier_code</th><th>legs0_segments1_seatsAvailable</th><th>legs0_segments2_aircraft_code</th><th>legs0_segments2_arrivalTo_airport_city_iata</th><th>&hellip;</th><th>legs1_segments2_baggageAllowance_weightMeasurementType</th><th>legs1_segments2_cabinClass</th><th>legs1_segments2_departureFrom_airport_iata</th><th>legs1_segments2_duration</th><th>legs1_segments2_flightNumber</th><th>legs1_segments2_marketingCarrier_code</th><th>legs1_segments2_operatingCarrier_code</th><th>legs1_segments2_seatsAvailable</th><th>legs1_segments3_aircraft_code</th><th>legs1_segments3_arrivalTo_airport_city_iata</th><th>legs1_segments3_arrivalTo_airport_iata</th><th>legs1_segments3_baggageAllowance_quantity</th><th>legs1_segments3_baggageAllowance_weightMeasurementType</th><th>legs1_segments3_cabinClass</th><th>legs1_segments3_departureFrom_airport_iata</th><th>legs1_segments3_duration</th><th>legs1_segments3_flightNumber</th><th>legs1_segments3_marketingCarrier_code</th><th>legs1_segments3_operatingCarrier_code</th><th>legs1_segments3_seatsAvailable</th><th>miniRules0_monetaryAmount</th><th>miniRules0_percentage</th><th>miniRules0_statusInfos</th><th>miniRules1_monetaryAmount</th><th>miniRules1_percentage</th><th>miniRules1_statusInfos</th><th>pricingInfo_isAccessTP</th><th>pricingInfo_passengerCount</th><th>profileId</th><th>ranker_id</th><th>requestDate</th><th>searchRoute</th><th>sex</th><th>taxes</th><th>totalPrice</th><th>selected</th><th>__index_level_0__</th></tr><tr><td>i64</td><td>bool</td><td>i64</td><td>i64</td><td>str</td><td>i64</td><td>bool</td><td>bool</td><td>str</td><td>str</td><td>str</td><td>str</td><td>str</td><td>str</td><td>f64</td><td>f64</td><td>f64</td><td>str</td><td>str</td><td>str</td><td>str</td><td>str</td><td>f64</td><td>str</td><td>str</td><td>str</td><td>f64</td><td>f64</td><td>f64</td><td>str</td><td>str</td><td>str</td><td>str</td><td>str</td><td>f64</td><td>str</td><td>str</td><td>&hellip;</td><td>f64</td><td>f64</td><td>str</td><td>str</td><td>str</td><td>str</td><td>str</td><td>f64</td><td>str</td><td>str</td><td>str</td><td>f64</td><td>f64</td><td>f64</td><td>str</td><td>str</td><td>str</td><td>str</td><td>str</td><td>f64</td><td>f64</td><td>f64</td><td>f64</td><td>f64</td><td>f64</td><td>f64</td><td>f64</td><td>i64</td><td>i64</td><td>str</td><td>datetime[ns]</td><td>str</td><td>bool</td><td>f64</td><td>f64</td><td>i64</td><td>i64</td></tr></thead><tbody><tr><td>0</td><td>true</td><td>57323</td><td>null</td><td>&quot;S7/SU/UT&quot;</td><td>36</td><td>false</td><td>false</td><td>&quot;2024-06-15T16:20:00&quot;</td><td>&quot;2024-06-15T15:40:00&quot;</td><td>&quot;02:40:00&quot;</td><td>&quot;YK2&quot;</td><td>&quot;KJA&quot;</td><td>&quot;KJA&quot;</td><td>1.0</td><td>0.0</td><td>1.0</td><td>&quot;TLK&quot;</td><td>&quot;02:40:00&quot;</td><td>&quot;216&quot;</td><td>&quot;KV&quot;</td><td>&quot;KV&quot;</td><td>9.0</td><td>null</td><td>null</td><td>null</td><td>null</td><td>null</td><td>null</td><td>null</td><td>null</td><td>null</td><td>null</td><td>null</td><td>null</td><td>null</td><td>null</td><td>&hellip;</td><td>null</td><td>null</td><td>null</td><td>null</td><td>null</td><td>null</td><td>null</td><td>null</td><td>null</td><td>null</td><td>null</td><td>null</td><td>null</td><td>null</td><td>null</td><td>null</td><td>null</td><td>null</td><td>null</td><td>null</td><td>null</td><td>null</td><td>null</td><td>null</td><td>null</td><td>null</td><td>1.0</td><td>1</td><td>2087645</td><td>&quot;98ce0dabf6964640b63079fbafd42c…</td><td>2024-05-17 03:03:08</td><td>&quot;TLKKJA/KJATLK&quot;</td><td>true</td><td>370.0</td><td>16884.0</td><td>1</td><td>0</td></tr><tr><td>1</td><td>true</td><td>57323</td><td>123</td><td>&quot;S7/SU/UT&quot;</td><td>36</td><td>true</td><td>false</td><td>&quot;2024-06-15T14:50:00&quot;</td><td>&quot;2024-06-15T09:25:00&quot;</td><td>&quot;07:25:00&quot;</td><td>&quot;E70&quot;</td><td>&quot;OVB&quot;</td><td>&quot;OVB&quot;</td><td>1.0</td><td>0.0</td><td>1.0</td><td>&quot;TLK&quot;</td><td>&quot;02:50:00&quot;</td><td>&quot;5358&quot;</td><td>&quot;S7&quot;</td><td>&quot;S7&quot;</td><td>4.0</td><td>&quot;E70&quot;</td><td>&quot;KJA&quot;</td><td>&quot;KJA&quot;</td><td>1.0</td><td>0.0</td><td>1.0</td><td>&quot;OVB&quot;</td><td>&quot;01:20:00&quot;</td><td>&quot;5311&quot;</td><td>&quot;S7&quot;</td><td>&quot;S7&quot;</td><td>4.0</td><td>null</td><td>null</td><td>&hellip;</td><td>null</td><td>null</td><td>null</td><td>null</td><td>null</td><td>null</td><td>null</td><td>null</td><td>null</td><td>null</td><td>null</td><td>null</td><td>null</td><td>null</td><td>null</td><td>null</td><td>null</td><td>null</td><td>null</td><td>null</td><td>2300.0</td><td>null</td><td>1.0</td><td>3500.0</td><td>null</td><td>1.0</td><td>1.0</td><td>1</td><td>2087645</td><td>&quot;98ce0dabf6964640b63079fbafd42c…</td><td>2024-05-17 03:03:08</td><td>&quot;TLKKJA/KJATLK&quot;</td><td>true</td><td>2240.0</td><td>51125.0</td><td>0</td><td>1</td></tr><tr><td>2</td><td>true</td><td>57323</td><td>null</td><td>&quot;S7/SU/UT&quot;</td><td>36</td><td>false</td><td>false</td><td>&quot;2024-06-15T14:50:00&quot;</td><td>&quot;2024-06-15T09:25:00&quot;</td><td>&quot;07:25:00&quot;</td><td>&quot;E70&quot;</td><td>&quot;OVB&quot;</td><td>&quot;OVB&quot;</td><td>1.0</td><td>0.0</td><td>1.0</td><td>&quot;TLK&quot;</td><td>&quot;02:50:00&quot;</td><td>&quot;5358&quot;</td><td>&quot;S7&quot;</td><td>&quot;S7&quot;</td><td>4.0</td><td>&quot;E70&quot;</td><td>&quot;KJA&quot;</td><td>&quot;KJA&quot;</td><td>1.0</td><td>0.0</td><td>1.0</td><td>&quot;OVB&quot;</td><td>&quot;01:20:00&quot;</td><td>&quot;5311&quot;</td><td>&quot;S7&quot;</td><td>&quot;S7&quot;</td><td>4.0</td><td>null</td><td>null</td><td>&hellip;</td><td>null</td><td>null</td><td>null</td><td>null</td><td>null</td><td>null</td><td>null</td><td>null</td><td>null</td><td>null</td><td>null</td><td>null</td><td>null</td><td>null</td><td>null</td><td>null</td><td>null</td><td>null</td><td>null</td><td>null</td><td>2300.0</td><td>null</td><td>1.0</td><td>3500.0</td><td>null</td><td>1.0</td><td>1.0</td><td>1</td><td>2087645</td><td>&quot;98ce0dabf6964640b63079fbafd42c…</td><td>2024-05-17 03:03:08</td><td>&quot;TLKKJA/KJATLK&quot;</td><td>true</td><td>2240.0</td><td>53695.0</td><td>0</td><td>2</td></tr><tr><td>3</td><td>true</td><td>57323</td><td>123</td><td>&quot;S7/SU/UT&quot;</td><td>36</td><td>true</td><td>false</td><td>&quot;2024-06-15T14:50:00&quot;</td><td>&quot;2024-06-15T09:25:00&quot;</td><td>&quot;07:25:00&quot;</td><td>&quot;E70&quot;</td><td>&quot;OVB&quot;</td><td>&quot;OVB&quot;</td><td>1.0</td><td>0.0</td><td>1.0</td><td>&quot;TLK&quot;</td><td>&quot;02:50:00&quot;</td><td>&quot;5358&quot;</td><td>&quot;S7&quot;</td><td>&quot;S7&quot;</td><td>4.0</td><td>&quot;E70&quot;</td><td>&quot;KJA&quot;</td><td>&quot;KJA&quot;</td><td>1.0</td><td>0.0</td><td>1.0</td><td>&quot;OVB&quot;</td><td>&quot;01:20:00&quot;</td><td>&quot;5311&quot;</td><td>&quot;S7&quot;</td><td>&quot;S7&quot;</td><td>4.0</td><td>null</td><td>null</td><td>&hellip;</td><td>null</td><td>null</td><td>null</td><td>null</td><td>null</td><td>null</td><td>null</td><td>null</td><td>null</td><td>null</td><td>null</td><td>null</td><td>null</td><td>null</td><td>null</td><td>null</td><td>null</td><td>null</td><td>null</td><td>null</td><td>0.0</td><td>null</td><td>1.0</td><td>0.0</td><td>null</td><td>1.0</td><td>1.0</td><td>1</td><td>2087645</td><td>&quot;98ce0dabf6964640b63079fbafd42c…</td><td>2024-05-17 03:03:08</td><td>&quot;TLKKJA/KJATLK&quot;</td><td>true</td><td>2240.0</td><td>81880.0</td><td>0</td><td>3</td></tr><tr><td>4</td><td>true</td><td>57323</td><td>null</td><td>&quot;S7/SU/UT&quot;</td><td>36</td><td>false</td><td>false</td><td>&quot;2024-06-15T14:50:00&quot;</td><td>&quot;2024-06-15T09:25:00&quot;</td><td>&quot;07:25:00&quot;</td><td>&quot;E70&quot;</td><td>&quot;OVB&quot;</td><td>&quot;OVB&quot;</td><td>1.0</td><td>0.0</td><td>1.0</td><td>&quot;TLK&quot;</td><td>&quot;02:50:00&quot;</td><td>&quot;5358&quot;</td><td>&quot;S7&quot;</td><td>&quot;S7&quot;</td><td>4.0</td><td>&quot;E70&quot;</td><td>&quot;KJA&quot;</td><td>&quot;KJA&quot;</td><td>1.0</td><td>0.0</td><td>1.0</td><td>&quot;OVB&quot;</td><td>&quot;01:20:00&quot;</td><td>&quot;5311&quot;</td><td>&quot;S7&quot;</td><td>&quot;S7&quot;</td><td>4.0</td><td>null</td><td>null</td><td>&hellip;</td><td>null</td><td>null</td><td>null</td><td>null</td><td>null</td><td>null</td><td>null</td><td>null</td><td>null</td><td>null</td><td>null</td><td>null</td><td>null</td><td>null</td><td>null</td><td>null</td><td>null</td><td>null</td><td>null</td><td>null</td><td>0.0</td><td>null</td><td>1.0</td><td>0.0</td><td>null</td><td>1.0</td><td>1.0</td><td>1</td><td>2087645</td><td>&quot;98ce0dabf6964640b63079fbafd42c…</td><td>2024-05-17 03:03:08</td><td>&quot;TLKKJA/KJATLK&quot;</td><td>true</td><td>2240.0</td><td>86070.0</td><td>0</td><td>4</td></tr><tr><td>&hellip;</td><td>&hellip;</td><td>&hellip;</td><td>&hellip;</td><td>&hellip;</td><td>&hellip;</td><td>&hellip;</td><td>&hellip;</td><td>&hellip;</td><td>&hellip;</td><td>&hellip;</td><td>&hellip;</td><td>&hellip;</td><td>&hellip;</td><td>&hellip;</td><td>&hellip;</td><td>&hellip;</td><td>&hellip;</td><td>&hellip;</td><td>&hellip;</td><td>&hellip;</td><td>&hellip;</td><td>&hellip;</td><td>&hellip;</td><td>&hellip;</td><td>&hellip;</td><td>&hellip;</td><td>&hellip;</td><td>&hellip;</td><td>&hellip;</td><td>&hellip;</td><td>&hellip;</td><td>&hellip;</td><td>&hellip;</td><td>&hellip;</td><td>&hellip;</td><td>&hellip;</td><td>&hellip;</td><td>&hellip;</td><td>&hellip;</td><td>&hellip;</td><td>&hellip;</td><td>&hellip;</td><td>&hellip;</td><td>&hellip;</td><td>&hellip;</td><td>&hellip;</td><td>&hellip;</td><td>&hellip;</td><td>&hellip;</td><td>&hellip;</td><td>&hellip;</td><td>&hellip;</td><td>&hellip;</td><td>&hellip;</td><td>&hellip;</td><td>&hellip;</td><td>&hellip;</td><td>&hellip;</td><td>&hellip;</td><td>&hellip;</td><td>&hellip;</td><td>&hellip;</td><td>&hellip;</td><td>&hellip;</td><td>&hellip;</td><td>&hellip;</td><td>&hellip;</td><td>&hellip;</td><td>&hellip;</td><td>&hellip;</td><td>&hellip;</td><td>&hellip;</td><td>&hellip;</td><td>&hellip;</td></tr><tr><td>144</td><td>true</td><td>53407</td><td>null</td><td>null</td><td>36</td><td>false</td><td>false</td><td>&quot;2024-05-23T14:50:00&quot;</td><td>&quot;2024-05-23T11:35:00&quot;</td><td>&quot;02:15:00&quot;</td><td>&quot;AT7&quot;</td><td>&quot;IKT&quot;</td><td>&quot;IKT&quot;</td><td>1.0</td><td>0.0</td><td>1.0</td><td>&quot;KJA&quot;</td><td>&quot;02:15:00&quot;</td><td>&quot;137&quot;</td><td>&quot;UT&quot;</td><td>&quot;UT&quot;</td><td>5.0</td><td>null</td><td>null</td><td>null</td><td>null</td><td>null</td><td>null</td><td>null</td><td>null</td><td>null</td><td>null</td><td>null</td><td>null</td><td>null</td><td>null</td><td>&hellip;</td><td>null</td><td>null</td><td>null</td><td>null</td><td>null</td><td>null</td><td>null</td><td>null</td><td>null</td><td>null</td><td>null</td><td>null</td><td>null</td><td>null</td><td>null</td><td>null</td><td>null</td><td>null</td><td>null</td><td>null</td><td>2000.0</td><td>null</td><td>1.0</td><td>0.0</td><td>null</td><td>0.0</td><td>1.0</td><td>1</td><td>2503394</td><td>&quot;e109b50aca4a43908dd146c55733e3…</td><td>2024-05-17 04:06:51</td><td>&quot;KJAIKT&quot;</td><td>true</td><td>1215.0</td><td>5315.0</td><td>0</td><td>144</td></tr><tr><td>145</td><td>true</td><td>53407</td><td>null</td><td>null</td><td>36</td><td>false</td><td>false</td><td>&quot;2024-05-23T14:50:00&quot;</td><td>&quot;2024-05-23T11:35:00&quot;</td><td>&quot;02:15:00&quot;</td><td>&quot;AT7&quot;</td><td>&quot;IKT&quot;</td><td>&quot;IKT&quot;</td><td>1.0</td><td>0.0</td><td>1.0</td><td>&quot;KJA&quot;</td><td>&quot;02:15:00&quot;</td><td>&quot;137&quot;</td><td>&quot;UT&quot;</td><td>&quot;UT&quot;</td><td>5.0</td><td>null</td><td>null</td><td>null</td><td>null</td><td>null</td><td>null</td><td>null</td><td>null</td><td>null</td><td>null</td><td>null</td><td>null</td><td>null</td><td>null</td><td>&hellip;</td><td>null</td><td>null</td><td>null</td><td>null</td><td>null</td><td>null</td><td>null</td><td>null</td><td>null</td><td>null</td><td>null</td><td>null</td><td>null</td><td>null</td><td>null</td><td>null</td><td>null</td><td>null</td><td>null</td><td>null</td><td>2000.0</td><td>null</td><td>1.0</td><td>2000.0</td><td>null</td><td>1.0</td><td>1.0</td><td>1</td><td>2503394</td><td>&quot;e109b50aca4a43908dd146c55733e3…</td><td>2024-05-17 04:06:51</td><td>&quot;KJAIKT&quot;</td><td>true</td><td>1215.0</td><td>8515.0</td><td>0</td><td>145</td></tr><tr><td>146</td><td>true</td><td>53407</td><td>101</td><td>null</td><td>36</td><td>true</td><td>false</td><td>&quot;2024-05-23T11:10:00&quot;</td><td>&quot;2024-05-23T08:25:00&quot;</td><td>&quot;01:45:00&quot;</td><td>&quot;SU9&quot;</td><td>&quot;IKT&quot;</td><td>&quot;IKT&quot;</td><td>0.0</td><td>0.0</td><td>1.0</td><td>&quot;KJA&quot;</td><td>&quot;01:45:00&quot;</td><td>&quot;6881&quot;</td><td>&quot;SU&quot;</td><td>&quot;FV&quot;</td><td>9.0</td><td>null</td><td>null</td><td>null</td><td>null</td><td>null</td><td>null</td><td>null</td><td>null</td><td>null</td><td>null</td><td>null</td><td>null</td><td>null</td><td>null</td><td>&hellip;</td><td>null</td><td>null</td><td>null</td><td>null</td><td>null</td><td>null</td><td>null</td><td>null</td><td>null</td><td>null</td><td>null</td><td>null</td><td>null</td><td>null</td><td>null</td><td>null</td><td>null</td><td>null</td><td>null</td><td>null</td><td>4600.0</td><td>null</td><td>1.0</td><td>0.0</td><td>null</td><td>0.0</td><td>1.0</td><td>1</td><td>2503394</td><td>&quot;e109b50aca4a43908dd146c55733e3…</td><td>2024-05-17 04:06:51</td><td>&quot;KJAIKT&quot;</td><td>true</td><td>417.0</td><td>4417.0</td><td>0</td><td>146</td></tr><tr><td>147</td><td>true</td><td>53407</td><td>101</td><td>null</td><td>36</td><td>true</td><td>false</td><td>&quot;2024-05-23T11:10:00&quot;</td><td>&quot;2024-05-23T08:25:00&quot;</td><td>&quot;01:45:00&quot;</td><td>&quot;SU9&quot;</td><td>&quot;IKT&quot;</td><td>&quot;IKT&quot;</td><td>1.0</td><td>0.0</td><td>1.0</td><td>&quot;KJA&quot;</td><td>&quot;01:45:00&quot;</td><td>&quot;6881&quot;</td><td>&quot;SU&quot;</td><td>&quot;FV&quot;</td><td>9.0</td><td>null</td><td>null</td><td>null</td><td>null</td><td>null</td><td>null</td><td>null</td><td>null</td><td>null</td><td>null</td><td>null</td><td>null</td><td>null</td><td>null</td><td>&hellip;</td><td>null</td><td>null</td><td>null</td><td>null</td><td>null</td><td>null</td><td>null</td><td>null</td><td>null</td><td>null</td><td>null</td><td>null</td><td>null</td><td>null</td><td>null</td><td>null</td><td>null</td><td>null</td><td>null</td><td>null</td><td>4600.0</td><td>null</td><td>1.0</td><td>4600.0</td><td>null</td><td>1.0</td><td>1.0</td><td>1</td><td>2503394</td><td>&quot;e109b50aca4a43908dd146c55733e3…</td><td>2024-05-17 04:06:51</td><td>&quot;KJAIKT&quot;</td><td>true</td><td>417.0</td><td>5907.0</td><td>0</td><td>147</td></tr><tr><td>148</td><td>true</td><td>53407</td><td>101</td><td>null</td><td>36</td><td>true</td><td>false</td><td>&quot;2024-05-23T11:10:00&quot;</td><td>&quot;2024-05-23T08:25:00&quot;</td><td>&quot;01:45:00&quot;</td><td>&quot;SU9&quot;</td><td>&quot;IKT&quot;</td><td>&quot;IKT&quot;</td><td>2.0</td><td>0.0</td><td>1.0</td><td>&quot;KJA&quot;</td><td>&quot;01:45:00&quot;</td><td>&quot;6881&quot;</td><td>&quot;SU&quot;</td><td>&quot;FV&quot;</td><td>9.0</td><td>null</td><td>null</td><td>null</td><td>null</td><td>null</td><td>null</td><td>null</td><td>null</td><td>null</td><td>null</td><td>null</td><td>null</td><td>null</td><td>null</td><td>&hellip;</td><td>null</td><td>null</td><td>null</td><td>null</td><td>null</td><td>null</td><td>null</td><td>null</td><td>null</td><td>null</td><td>null</td><td>null</td><td>null</td><td>null</td><td>null</td><td>null</td><td>null</td><td>null</td><td>null</td><td>null</td><td>0.0</td><td>null</td><td>1.0</td><td>0.0</td><td>null</td><td>1.0</td><td>0.0</td><td>1</td><td>2503394</td><td>&quot;e109b50aca4a43908dd146c55733e3…</td><td>2024-05-17 04:06:51</td><td>&quot;KJAIKT&quot;</td><td>true</td><td>417.0</td><td>9687.0</td><td>0</td><td>148</td></tr></tbody></table></div>"
      ]
     },
     "execution_count": 9,
     "metadata": {},
     "output_type": "execute_result"
    }
   ],
   "execution_count": 9
  },
  {
   "metadata": {},
   "cell_type": "markdown",
   "source": "### Utilities",
   "id": "b0c89c99f0e7fb36"
  },
  {
   "metadata": {
    "ExecuteTime": {
     "end_time": "2025-09-02T01:18:48.573864Z",
     "start_time": "2025-09-02T01:18:48.566803Z"
    }
   },
   "cell_type": "code",
   "source": [
    "MAJOR_HUBS = ['ATL','DXB','DFW','HND','LHR','DEN','ORD','IST','PVG','ICN','CDG', 'JFK','CLT','MEX','SFO','EWR','MIA','BKK','GRU','HKG']\n",
    "\n",
    "def camel_to_snake(name):\n",
    "    \"\"\"Convert camelCase or PascalCase to snake_case\"\"\"\n",
    "    s1 = re.sub('(.)([A-Z][a-z]+)', r'\\1_\\2', name)\n",
    "    s2 = re.sub('([a-z0-9])([A-Z])', r'\\1_\\2', s1)\n",
    "    return s2.lower()\n",
    "\n",
    "\n",
    "def convert_columns_to_snake_case(df):\n",
    "    \"\"\"Convert all column names in a polars DataFrame to snake_case\"\"\"\n",
    "    return df.rename({col: camel_to_snake(col) for col in df.columns})\n",
    "\n",
    "\n",
    "def parse_duration_to_minutes(duration_col: str) -> pl.Expr:\n",
    "    \"\"\"Parse duration string to minutes (handles format like '2.04:20' - D.HH:MM).\"\"\"\n",
    "    return (\n",
    "        pl.when(pl.col(duration_col).is_not_null() & (pl.col(duration_col) != \"\"))\n",
    "        .then(\n",
    "            pl.when(pl.col(duration_col).str.contains(r'\\.'))\n",
    "            .then(\n",
    "                # Format: D.HH:MM:SS (e.g., \"1.00:30:00\", \"2.09:45:00\")\n",
    "                pl.col(duration_col).str.extract(r'^(\\d+)\\.(\\d{2}):(\\d{2}):(\\d{2})$', 1).cast(pl.Int32, strict=False).fill_null(0) * 1440 +  # Days\n",
    "                pl.col(duration_col).str.extract(r'^(\\d+)\\.(\\d{2}):(\\d{2}):(\\d{2})$', 2).cast(pl.Int32, strict=False).fill_null(0) * 60 +   # Hours\n",
    "                pl.col(duration_col).str.extract(r'^(\\d+)\\.(\\d{2}):(\\d{2}):(\\d{2})$', 3).cast(pl.Int32, strict=False).fill_null(0) +        # Minutes\n",
    "                (pl.col(duration_col).str.extract(r'^(\\d+)\\.(\\d{2}):(\\d{2}):(\\d{2})$', 4).cast(pl.Int32, strict=False).fill_null(0) / 60).round(0).cast(pl.Int32, strict=False)  # Seconds\n",
    "            )\n",
    "            .otherwise(\n",
    "                # Format: HH:MM:SS (e.g., \"07:25:00\", \"17:55:00\")\n",
    "                pl.col(duration_col).str.extract(r'^(\\d{2}):(\\d{2}):(\\d{2})$', 1).cast(pl.Int32, strict=False).fill_null(0) * 60 +   # Hours\n",
    "                pl.col(duration_col).str.extract(r'^(\\d{2}):(\\d{2}):(\\d{2})$', 2).cast(pl.Int32, strict=False).fill_null(0) +        # Minutes\n",
    "                (pl.col(duration_col).str.extract(r'^(\\d{2}):(\\d{2}):(\\d{2})$', 3).cast(pl.Int32, strict=False).fill_null(0) / 60).round(0).cast(pl.Int32, strict=False)  # Seconds\n",
    "            )\n",
    "        )\n",
    "        .otherwise(0)\n",
    "    )"
   ],
   "id": "8bf30151412e2a94",
   "outputs": [],
   "execution_count": 3
  },
  {
   "metadata": {},
   "cell_type": "markdown",
   "source": "### Engineer Customer Features",
   "id": "a806b9bf6beed247"
  },
  {
   "metadata": {
    "ExecuteTime": {
     "end_time": "2025-09-02T01:18:51.639777Z",
     "start_time": "2025-09-02T01:18:51.616657Z"
    }
   },
   "cell_type": "code",
   "source": [
    "# Customer attributes for clustering analysis\n",
    "\n",
    "def create_customer_aggregation_features() -> List[pl.Expr]:\n",
    "    \"\"\"Create customer aggregation expressions for basic attributes and search behavior.\"\"\"\n",
    "    return [\n",
    "        # Basic customer attributes (take first non-null value per customer)\n",
    "        pl.col('companyID').drop_nulls().first().alias('company_id'),\n",
    "        pl.col('sex').drop_nulls().first().cast(pl.Int8).alias('sex'),\n",
    "        pl.col('nationality').drop_nulls().first().alias('nationality'),\n",
    "        pl.col('frequentFlyer').drop_nulls().first().str.replace('- ЮТэйр ЗАО', 'UT').fill_null('').alias('frequent_flyer'),\n",
    "        pl.col('isVip').drop_nulls().first().cast(pl.Int8).alias('is_vip'),\n",
    "        pl.col('bySelf').drop_nulls().first().cast(pl.Int8).alias('by_self'),\n",
    "        pl.col('corporateTariffCode').is_not_null().cast(pl.Int8).max().alias('has_corp_codes'),\n",
    "\n",
    "        # Search behavior metrics\n",
    "        pl.len().alias('total_searches'),\n",
    "        pl.col('legs1_departureAt').is_not_null().mean().alias('roundtrip_preference'),\n",
    "        pl.col('searchRoute').drop_nulls().n_unique().alias('unique_routes_searched'),\n",
    "    ]\n",
    "\n",
    "\n",
    "def create_booking_lead_time_features() -> List[pl.Expr]:\n",
    "    \"\"\"Create booking lead time statistics.\"\"\"\n",
    "    # Calculate booking lead time in days\n",
    "    booking_lead_expr = (\n",
    "        (pl.col('legs0_departureAt').str.to_datetime() -\n",
    "         pl.col('requestDate').cast(pl.Datetime)) / pl.duration(days=1)\n",
    "    ).cast(pl.Int32)\n",
    "\n",
    "    return [\n",
    "        booking_lead_expr.min().alias('min_booking_lead_days'),\n",
    "        booking_lead_expr.max().alias('max_booking_lead_days'),\n",
    "        booking_lead_expr.mean().alias('avg_booking_lead_days'),\n",
    "        booking_lead_expr.median().alias('median_booking_lead_days'),\n",
    "    ]\n",
    "\n",
    "\n",
    "def create_travel_preference_features() -> List[pl.Expr]:\n",
    "    \"\"\"Create travel preference features for most common airports and carriers.\"\"\"\n",
    "    return [\n",
    "        # Most common departure airport\n",
    "        pl.col('legs0_segments0_departureFrom_airport_iata').drop_nulls().mode().first().alias('most_common_departure_airport'),\n",
    "        pl.col('legs0_segments0_departureFrom_airport_iata').drop_nulls().n_unique().alias('unique_departure_airports'),\n",
    "\n",
    "        # Most common marketing carrier\n",
    "        pl.col('legs0_segments0_marketingCarrier_code').drop_nulls().mode().first().alias('most_common_carrier'),\n",
    "        pl.col('legs0_segments0_marketingCarrier_code').drop_nulls().n_unique().alias('unique_carriers_used'),\n",
    "    ]\n",
    "\n",
    "\n",
    "def create_cabin_class_features(cabin_class_cols: List[str]) -> List[pl.Expr]:\n",
    "    \"\"\"Create cabin class preference statistics.\"\"\"\n",
    "    if not cabin_class_cols:\n",
    "        # Return default values if no cabin class columns found\n",
    "        return [\n",
    "            pl.lit(None).alias('min_cabin_class'),\n",
    "            pl.lit(None).alias('max_cabin_class'),\n",
    "            pl.lit(None).alias('avg_cabin_class'),\n",
    "        ]\n",
    "\n",
    "    return [\n",
    "        # Cabin class statistics across all segments\n",
    "        pl.min_horizontal([pl.col(col) for col in cabin_class_cols]).min().alias('min_cabin_class'),\n",
    "        pl.max_horizontal([pl.col(col) for col in cabin_class_cols]).max().alias('max_cabin_class'),\n",
    "        pl.mean_horizontal([pl.col(col) for col in cabin_class_cols]).mean().alias('avg_cabin_class'),\n",
    "    ]\n",
    "\n",
    "\n",
    "def create_temporal_preference_features() -> List[pl.Expr]:\n",
    "    \"\"\"Create temporal preference features for departure patterns.\"\"\"\n",
    "    return [\n",
    "        # Weekday preference (most common day of week for departures)\n",
    "        pl.col('legs0_departureAt').str.to_datetime().dt.weekday()\n",
    "          .mode().first().alias('weekday_preference'),\n",
    "\n",
    "        # Weekend travel rate (percentage of weekend departures - 5=Sat, 6=Sun)\n",
    "        pl.col('legs0_departureAt').str.to_datetime().dt.weekday()\n",
    "          .map_elements(lambda x: 1 if x >= 5 else 0, return_dtype=pl.Int8)\n",
    "          .mean().alias('weekend_travel_rate'),\n",
    "\n",
    "        # Time of day variance (how consistent are their departure times)\n",
    "        pl.col('legs0_departureAt').str.to_datetime().dt.hour()\n",
    "          .std().alias('time_of_day_variance'),\n",
    "\n",
    "        # Night flight preference (flights departing 22:00-06:00)\n",
    "        pl.col('legs0_departureAt').str.to_datetime().dt.hour()\n",
    "          .map_elements(lambda x: 1 if (x >= 22 or x < 6) else 0, return_dtype=pl.Int8)\n",
    "          .mean().alias('night_flight_preference')\n",
    "    ]\n",
    "\n",
    "\n",
    "def create_route_specific_features() -> List[pl.Expr]:\n",
    "    \"\"\"Create features related to route preferences and characteristics.\"\"\"\n",
    "    return [\n",
    "        # Route loyalty\n",
    "        (1 - (pl.col('searchRoute').n_unique() / pl.len().clip(1, None))).alias('route_loyalty'),\n",
    "\n",
    "        # Hub preference (preference for major hub airports)\n",
    "        (\n",
    "            pl.col('legs0_segments0_departureFrom_airport_iata').is_in(MAJOR_HUBS) |\n",
    "            pl.col('legs0_segments0_arrivalTo_airport_iata').is_in(MAJOR_HUBS)\n",
    "        ).cast(pl.Int8).mean().alias('hub_preference'),\n",
    "\n",
    "        # Short haul preference\n",
    "        ((1 - (pl.col('leg0_duration_minutes').mean() / 180)) * 0.7 +\n",
    "         pl.when(pl.col('leg0_duration_minutes') <= 180).then(1).otherwise(0).mean() * 0.3)\n",
    "        .clip(0, 1).alias('short_haul_preference'),\n",
    "\n",
    "        # Connection tolerance (average segments)\n",
    "        pl.sum_horizontal([\n",
    "            pl.col(f'legs0_segments{i}_departureFrom_airport_iata').is_not_null().cast(pl.Int8)\n",
    "            for i in range(4)  # assuming max 4 segments\n",
    "        ]).mean().alias('connection_tolerance'),\n",
    "\n",
    "        # Preference for longer vs shorter flights (duration quartile preference)\n",
    "        pl.when(pl.col('leg0_duration_minutes') <= pl.col('leg0_duration_q25'))\n",
    "        .then(1)  # Short flights\n",
    "        .when(pl.col('leg0_duration_minutes') <= pl.col('leg0_duration_q50'))\n",
    "        .then(2)  # Medium-short flights\n",
    "        .when(pl.col('leg0_duration_minutes') <= pl.col('leg0_duration_q75'))\n",
    "        .then(3)  # Medium-long flights\n",
    "        .otherwise(4)  # Long flights\n",
    "        .mode().first().alias('preferred_duration_quartile')\n",
    "    ]\n",
    "\n",
    "\n",
    "def create_price_sensitivity_features() -> List[pl.Expr]:\n",
    "    \"\"\"Create features related to price sensitivity and patterns.\"\"\"\n",
    "    return [\n",
    "        # Basic correlation between price and duration\n",
    "        pl.corr(\n",
    "            pl.col('totalPrice'),\n",
    "            pl.col('trip_duration_minutes')\n",
    "        ).fill_null(0).alias('price_to_duration_sensitivity'),\n",
    "\n",
    "        # Price per minute metric (average across all flights)\n",
    "        (pl.col('totalPrice') / pl.col('trip_duration_minutes').clip(1, None)).mean().alias('avg_price_per_minute'),\n",
    "\n",
    "        # Consistency of price-per-minute (lower std = more consistent valuation)\n",
    "        (pl.col('totalPrice') / pl.col('trip_duration_minutes').clip(1, None)).std().fill_null(0).alias('price_per_minute_variance'),\n",
    "\n",
    "        # Price position within searches (percentile rank)\n",
    "        pl.col('price_percentile').mean().alias('price_position_preference'),\n",
    "\n",
    "        # Premium economy preference (assuming cabin class 2 is premium economy)\n",
    "        pl.mean_horizontal([\n",
    "            pl.col(f'legs0_segments{i}_cabinClass') == 2\n",
    "            for i in range(4)\n",
    "        ]).mean().alias('premium_economy_preference'),\n",
    "\n",
    "        # Consistent price tier\n",
    "        (1 - (\n",
    "            pl.when(pl.col('totalPrice') <= pl.col('price_q25'))\n",
    "            .then(1)  # Budget tier\n",
    "            .when(pl.col('totalPrice') <= pl.col('price_q50'))\n",
    "            .then(2)  # Economy tier\n",
    "            .when(pl.col('totalPrice') <= pl.col('price_q75'))\n",
    "            .then(3)  # Premium tier\n",
    "            .otherwise(4)  # Luxury tier\n",
    "            .std()\n",
    "            .fill_null(0)  # Handle null case\n",
    "            / 3\n",
    "        ).clip(0, 1)).alias('consistent_price_tier'),\n",
    "\n",
    "        # Most common price tier\n",
    "        pl.when(pl.col('totalPrice') <= pl.col('price_q25'))\n",
    "        .then(1)  # Budget tier\n",
    "        .when(pl.col('totalPrice') <= pl.col('price_q50'))\n",
    "        .then(2)  # Economy tier\n",
    "        .when(pl.col('totalPrice') <= pl.col('price_q75'))\n",
    "        .then(3)  # Premium tier\n",
    "        .otherwise(4)  # Luxury tier\n",
    "        .mode().first().alias('preferred_price_tier'),\n",
    "    ]\n",
    "\n",
    "\n",
    "def create_service_preference_features() -> List[pl.Expr]:\n",
    "    \"\"\"Create features related to service preferences.\"\"\"\n",
    "    # First get all the relevant column names for type and quantity\n",
    "    type_cols = [\n",
    "        f'legs{leg}_segments{seg}_baggageAllowance_weightMeasurementType'\n",
    "        for leg in range(2) for seg in range(4)\n",
    "    ]\n",
    "    qty_cols = [\n",
    "        f'legs{leg}_segments{seg}_baggageAllowance_quantity'\n",
    "        for leg in range(2) for seg in range(4)\n",
    "    ]\n",
    "\n",
    "    return [\n",
    "        # Baggage quantity preference (average of minimum bags allowed per flight option)\n",
    "        pl.min_horizontal([\n",
    "            pl.when(pl.col(type_col) == 0)\n",
    "            .then(pl.col(qty_col))\n",
    "            .otherwise(pl.lit(None))\n",
    "            for type_col, qty_col in zip(type_cols, qty_cols)\n",
    "        ]).mean().fill_null(0).alias('baggage_qty_preference'),\n",
    "\n",
    "        # Baggage weight preference (average of minimum weight allowed per flight option)\n",
    "        pl.min_horizontal([\n",
    "            pl.when(pl.col(type_col) == 1)\n",
    "            .then(pl.col(qty_col))\n",
    "            .otherwise(pl.lit(None))\n",
    "            for type_col, qty_col in zip(type_cols, qty_cols)\n",
    "        ]).mean().fill_null(0).fill_nan(0).alias('baggage_weight_preference'),\n",
    "\n",
    "        # Loyalty program utilization\n",
    "        pl.col('frequentFlyer').is_not_null().mean().alias('loyalty_program_utilization')\n",
    "    ]\n",
    "\n",
    "\n",
    "def create_derived_metrics() -> List[pl.Expr]:\n",
    "    \"\"\"Create derived metrics from combinations of features.\"\"\"\n",
    "    return [\n",
    "        # Convenience priority score (higher = more emphasis on convenient times)\n",
    "        ((1 - pl.col('time_of_day_variance')) * 10 +\n",
    "         pl.col('price_to_duration_sensitivity') * 5)\n",
    "        .alias('convenience_priority_score'),\n",
    "\n",
    "        # Loyalty vs price index (higher = more loyal, less price sensitive)\n",
    "        (pl.col('loyalty_program_utilization') * 10 -\n",
    "         pl.col('price_position_preference') / 10)\n",
    "        .alias('loyalty_vs_price_index'),\n",
    "\n",
    "        # Planning consistency score (inverse of lead time variance)\n",
    "        (1 / (pl.col('max_booking_lead_days') - pl.col('min_booking_lead_days') + 1))\n",
    "        .alias('planning_consistency_score'),\n",
    "\n",
    "        # Luxury index (combination of cabin class and price tier)\n",
    "        (pl.col('avg_cabin_class') * 20 +\n",
    "         pl.col('price_position_preference') / 2)\n",
    "        .alias('luxury_index'),\n",
    "\n",
    "        # Create advanced features\n",
    "        (pl.col('total_searches') / pl.col('unique_routes_searched').clip(1)).alias('search_intensity_per_route'),\n",
    "        (pl.col('max_booking_lead_days') - pl.col('min_booking_lead_days')).alias('lead_time_variance'),\n",
    "        (pl.col('avg_booking_lead_days') / pl.col('median_booking_lead_days').clip(1)).alias('lead_time_skew'),\n",
    "        (pl.col('unique_carriers_used') / pl.col('total_searches').clip(1)).alias('carrier_diversity'),\n",
    "        (pl.col('unique_departure_airports') / pl.col('total_searches').clip(1)).alias('airport_diversity'),\n",
    "        (pl.col('max_cabin_class') - pl.col('min_cabin_class')).alias('cabin_class_range'),\n",
    "        (pl.col('is_vip').cast(pl.Int8) * 2 + pl.col('has_corp_codes').is_not_null().cast(pl.Int8)).alias('customer_tier'),\n",
    "    ]\n",
    "\n",
    "\n",
    "def add_trip_duration(df: pl.DataFrame) -> pl.DataFrame:\n",
    "    \"\"\"Add trip duration to the DataFrame.\"\"\"\n",
    "    leg0_duration_minutes = parse_duration_to_minutes('legs0_duration')\n",
    "    leg1_duration_minutes = parse_duration_to_minutes('legs1_duration')\n",
    "    trip_duration_minutes = leg0_duration_minutes + leg1_duration_minutes\n",
    "\n",
    "    return df.with_columns([\n",
    "        leg0_duration_minutes.alias('leg0_duration_minutes'),\n",
    "        leg1_duration_minutes.alias('leg1_duration_minutes'),\n",
    "        trip_duration_minutes.alias('trip_duration_minutes'),\n",
    "    ])\n",
    "\n",
    "\n",
    "def create_windows_based_features(df) -> pl.DataFrame:\n",
    "    # Add window-based features like price_percentile if they don't exist\n",
    "    return (df.with_columns([\n",
    "        # calculate price percentile over search session\n",
    "        ((pl.col('totalPrice').rank(method='min').over('ranker_id') - 1) /\n",
    "        (pl.col('totalPrice').count().over('ranker_id') - 1) * 100)\n",
    "        .fill_null(50.0).alias('price_percentile'),\n",
    "\n",
    "        # calculate price quartiles over profileId\n",
    "        pl.col('totalPrice').quantile(0.25).over('profileId').alias('price_q25'),\n",
    "        pl.col('totalPrice').quantile(0.50).over('profileId').alias('price_q50'),\n",
    "        pl.col('totalPrice').quantile(0.75).over('profileId').alias('price_q75'),\n",
    "\n",
    "        # calculate leg0_duration quartiles over profileId\n",
    "        pl.col('leg0_duration_minutes').quantile(0.25).over('profileId').alias('leg0_duration_q25'),\n",
    "        pl.col('leg0_duration_minutes').quantile(0.50).over('profileId').alias('leg0_duration_q50'),\n",
    "        pl.col('leg0_duration_minutes').quantile(0.75).over('profileId').alias('leg0_duration_q75'),\n",
    "    ]))\n",
    "\n",
    "\n",
    "def create_interaction_features() -> List[pl.Expr]:\n",
    "    # Create customer/business interaction features\n",
    "    return [\n",
    "        # Create VIP interactions\n",
    "        (pl.col('search_intensity_per_route') * pl.col('is_vip')).alias('vip_search_intensity'),\n",
    "        (pl.col('carrier_diversity') * pl.col('is_vip')).alias('vip_carrier_diversity'),\n",
    "        (pl.col('avg_cabin_class') * pl.col('is_vip')).alias('vip_cabin_preference'),\n",
    "\n",
    "        # Create corporate interactions\n",
    "        (pl.col('total_searches') * pl.col('has_corp_codes')).alias('corp_search_volume'),\n",
    "        (pl.col('roundtrip_preference') * pl.col('has_corp_codes')).alias('corp_roundtrip_pref'),\n",
    "        (pl.col('lead_time_variance') * pl.col('has_corp_codes')).alias('corp_planning_variance'),\n",
    "    ]\n",
    "\n",
    "def extract_customer_features(df: pl.DataFrame) -> pl.DataFrame:\n",
    "    \"\"\"\n",
    "    Extract customer features for clustering analysis.\n",
    "    Aggregates by profileId to create customer-level features.\n",
    "    \"\"\"\n",
    "    # Check if already processed\n",
    "    if df.height > 0 and 'total_searches' in df.columns:\n",
    "        return df\n",
    "\n",
    "    # Get cabin class columns\n",
    "    cabin_class_cols = [col for col in df.columns if col.startswith('legs') and col.endswith('_cabinClass')]\n",
    "\n",
    "    # Create lazy frame and group by profileId\n",
    "    lazy_df = create_windows_based_features(add_trip_duration(df)).lazy().group_by('profileId')\n",
    "\n",
    "    # Apply customer feature groups\n",
    "    lazy_df = lazy_df.agg([\n",
    "        *create_customer_aggregation_features(),\n",
    "        *create_booking_lead_time_features(),\n",
    "        *create_travel_preference_features(),\n",
    "        *create_cabin_class_features(cabin_class_cols),\n",
    "        *create_temporal_preference_features(),\n",
    "        *create_route_specific_features(),\n",
    "        *create_price_sensitivity_features(),\n",
    "        *create_service_preference_features()\n",
    "    ])\n",
    "\n",
    "    # Materialize to generate the basic features\n",
    "    # base_features = customer_features.collect()\n",
    "\n",
    "    # Add the derived metrics that depend on the generated features\n",
    "    lazy_df = lazy_df.with_columns(create_derived_metrics())\n",
    "\n",
    "    # Add interactive features\n",
    "    lazy_df = lazy_df.with_columns(create_interaction_features())\n",
    "\n",
    "    # print(f\"Generated {len(enhanced_features.columns)} customer features for {len(enhanced_features)} customers\")\n",
    "    return lazy_df.collect().fill_null(0).fill_nan(0)"
   ],
   "id": "e03ccbc10cb46941",
   "outputs": [],
   "execution_count": 4
  },
  {
   "metadata": {
    "ExecuteTime": {
     "end_time": "2025-09-02T00:56:06.504561Z",
     "start_time": "2025-09-02T00:55:53.147091Z"
    }
   },
   "cell_type": "code",
   "source": [
    "# 1. Feature Engineering\n",
    "cust_data = extract_customer_features(train_df)\n",
    "print(f'Generated {len(cust_data.columns)} customer features for {len(cust_data)} customers')"
   ],
   "id": "8965d9b2e68d1b2e",
   "outputs": [
    {
     "name": "stdout",
     "output_type": "stream",
     "text": [
      "Generated 58 customer features for 30155 customers\n"
     ]
    }
   ],
   "execution_count": 13
  },
  {
   "metadata": {
    "ExecuteTime": {
     "end_time": "2025-09-02T00:57:12.544408Z",
     "start_time": "2025-09-02T00:57:12.529345Z"
    }
   },
   "cell_type": "code",
   "source": "cust_data.head(100)",
   "id": "5076d039d8291db",
   "outputs": [
    {
     "data": {
      "text/plain": [
       "shape: (100, 58)\n",
       "┌───────────┬────────────┬─────┬────────────┬───┬────────────┬────────────┬────────────┬───────────┐\n",
       "│ profileId ┆ company_id ┆ sex ┆ nationalit ┆ … ┆ vip_cabin_ ┆ corp_searc ┆ corp_round ┆ corp_plan │\n",
       "│ ---       ┆ ---        ┆ --- ┆ y          ┆   ┆ preference ┆ h_volume   ┆ trip_pref  ┆ ning_vari │\n",
       "│ i64       ┆ i64        ┆ i8  ┆ ---        ┆   ┆ ---        ┆ ---        ┆ ---        ┆ ance      │\n",
       "│           ┆            ┆     ┆ i64        ┆   ┆ f64        ┆ i64        ┆ f64        ┆ ---       │\n",
       "│           ┆            ┆     ┆            ┆   ┆            ┆            ┆            ┆ i32       │\n",
       "╞═══════════╪════════════╪═════╪════════════╪═══╪════════════╪════════════╪════════════╪═══════════╡\n",
       "│ 2897662   ┆ 61295      ┆ 0   ┆ 36         ┆ … ┆ 0.0        ┆ 32         ┆ 1.0        ┆ 1         │\n",
       "│ 3356042   ┆ 62752      ┆ 1   ┆ 36         ┆ … ┆ 0.0        ┆ 23         ┆ 0.0        ┆ 1         │\n",
       "│ 3070696   ┆ 42188      ┆ 1   ┆ 36         ┆ … ┆ 0.0        ┆ 307        ┆ 0.0        ┆ 18        │\n",
       "│ 3463004   ┆ 60290      ┆ 0   ┆ 36         ┆ … ┆ 0.0        ┆ 60         ┆ 0.0        ┆ 1         │\n",
       "│ 3462620   ┆ 56905      ┆ 1   ┆ 36         ┆ … ┆ 0.0        ┆ 0          ┆ 0.0        ┆ 0         │\n",
       "│ …         ┆ …          ┆ …   ┆ …          ┆ … ┆ …          ┆ …          ┆ …          ┆ …         │\n",
       "│ 62139     ┆ 25312      ┆ 1   ┆ 36         ┆ … ┆ 0.0        ┆ 734        ┆ 0.0        ┆ 24        │\n",
       "│ 2087977   ┆ 57323      ┆ 1   ┆ 36         ┆ … ┆ 0.0        ┆ 208        ┆ 0.0        ┆ 38        │\n",
       "│ 3378866   ┆ 59766      ┆ 0   ┆ 36         ┆ … ┆ 0.0        ┆ 443        ┆ 0.650113   ┆ 8         │\n",
       "│ 3133600   ┆ 54163      ┆ 1   ┆ 36         ┆ … ┆ 0.0        ┆ 6          ┆ 1.0        ┆ 0         │\n",
       "│ 3200854   ┆ 42620      ┆ 1   ┆ 36         ┆ … ┆ 0.0        ┆ 138        ┆ 1.0        ┆ 1         │\n",
       "└───────────┴────────────┴─────┴────────────┴───┴────────────┴────────────┴────────────┴───────────┘"
      ],
      "text/html": [
       "<div><style>\n",
       ".dataframe > thead > tr,\n",
       ".dataframe > tbody > tr {\n",
       "  text-align: right;\n",
       "  white-space: pre-wrap;\n",
       "}\n",
       "</style>\n",
       "<small>shape: (100, 58)</small><table border=\"1\" class=\"dataframe\"><thead><tr><th>profileId</th><th>company_id</th><th>sex</th><th>nationality</th><th>frequent_flyer</th><th>is_vip</th><th>by_self</th><th>has_corp_codes</th><th>total_searches</th><th>roundtrip_preference</th><th>unique_routes_searched</th><th>min_booking_lead_days</th><th>max_booking_lead_days</th><th>avg_booking_lead_days</th><th>median_booking_lead_days</th><th>most_common_departure_airport</th><th>unique_departure_airports</th><th>most_common_carrier</th><th>unique_carriers_used</th><th>min_cabin_class</th><th>max_cabin_class</th><th>avg_cabin_class</th><th>weekday_preference</th><th>weekend_travel_rate</th><th>time_of_day_variance</th><th>night_flight_preference</th><th>route_loyalty</th><th>hub_preference</th><th>short_haul_preference</th><th>connection_tolerance</th><th>preferred_duration_quartile</th><th>price_to_duration_sensitivity</th><th>avg_price_per_minute</th><th>price_per_minute_variance</th><th>price_position_preference</th><th>premium_economy_preference</th><th>consistent_price_tier</th><th>preferred_price_tier</th><th>baggage_qty_preference</th><th>baggage_weight_preference</th><th>loyalty_program_utilization</th><th>convenience_priority_score</th><th>loyalty_vs_price_index</th><th>planning_consistency_score</th><th>luxury_index</th><th>search_intensity_per_route</th><th>lead_time_variance</th><th>lead_time_skew</th><th>carrier_diversity</th><th>airport_diversity</th><th>cabin_class_range</th><th>customer_tier</th><th>vip_search_intensity</th><th>vip_carrier_diversity</th><th>vip_cabin_preference</th><th>corp_search_volume</th><th>corp_roundtrip_pref</th><th>corp_planning_variance</th></tr><tr><td>i64</td><td>i64</td><td>i8</td><td>i64</td><td>str</td><td>i8</td><td>i8</td><td>i8</td><td>u32</td><td>f64</td><td>u32</td><td>i32</td><td>i32</td><td>f64</td><td>f64</td><td>str</td><td>u32</td><td>str</td><td>u32</td><td>f64</td><td>f64</td><td>f64</td><td>i8</td><td>f64</td><td>f64</td><td>f64</td><td>f64</td><td>f64</td><td>f64</td><td>f64</td><td>i32</td><td>f64</td><td>f64</td><td>f64</td><td>f64</td><td>f64</td><td>f64</td><td>i32</td><td>f64</td><td>f64</td><td>f64</td><td>f64</td><td>f64</td><td>f64</td><td>f64</td><td>f64</td><td>i32</td><td>f64</td><td>f64</td><td>f64</td><td>f64</td><td>i8</td><td>f64</td><td>f64</td><td>f64</td><td>i64</td><td>f64</td><td>i32</td></tr></thead><tbody><tr><td>2897662</td><td>61295</td><td>0</td><td>36</td><td>&quot;&quot;</td><td>0</td><td>1</td><td>1</td><td>32</td><td>1.0</td><td>1</td><td>4</td><td>5</td><td>4.75</td><td>5.0</td><td>&quot;IJK&quot;</td><td>1</td><td>&quot;SU&quot;</td><td>1</td><td>1.0</td><td>1.0</td><td>1.0</td><td>2</td><td>0.0</td><td>4.819316</td><td>0.0</td><td>0.96875</td><td>0.0</td><td>0.513889</td><td>1.0</td><td>1</td><td>-0.167147</td><td>87.575619</td><td>20.309069</td><td>49.193548</td><td>0.0</td><td>0.612586</td><td>1</td><td>1.5</td><td>0.0</td><td>0.0</td><td>-39.028893</td><td>-4.919355</td><td>0.5</td><td>44.596774</td><td>32.0</td><td>1</td><td>0.95</td><td>0.03125</td><td>0.03125</td><td>0.0</td><td>1</td><td>0.0</td><td>0.0</td><td>0.0</td><td>32</td><td>1.0</td><td>1</td></tr><tr><td>3356042</td><td>62752</td><td>1</td><td>36</td><td>&quot;&quot;</td><td>0</td><td>1</td><td>1</td><td>23</td><td>0.0</td><td>1</td><td>0</td><td>1</td><td>0.652174</td><td>1.0</td><td>&quot;IKT&quot;</td><td>1</td><td>&quot;SU&quot;</td><td>2</td><td>1.0</td><td>2.0</td><td>1.391304</td><td>3</td><td>0.0</td><td>5.399824</td><td>0.391304</td><td>0.956522</td><td>0.0</td><td>0.0</td><td>2.0</td><td>1</td><td>0.316532</td><td>99.078396</td><td>59.326625</td><td>47.035573</td><td>0.391304</td><td>0.634611</td><td>3</td><td>1.217391</td><td>0.0</td><td>0.0</td><td>-42.415583</td><td>-4.703557</td><td>0.5</td><td>51.343874</td><td>23.0</td><td>1</td><td>0.652174</td><td>0.086957</td><td>0.043478</td><td>1.0</td><td>1</td><td>0.0</td><td>0.0</td><td>0.0</td><td>23</td><td>0.0</td><td>1</td></tr><tr><td>3070696</td><td>42188</td><td>1</td><td>36</td><td>&quot;&quot;</td><td>0</td><td>1</td><td>1</td><td>307</td><td>0.0</td><td>2</td><td>9</td><td>27</td><td>18.257329</td><td>19.0</td><td>&quot;DME&quot;</td><td>5</td><td>&quot;SU&quot;</td><td>7</td><td>1.0</td><td>2.0</td><td>1.117264</td><td>3</td><td>0.335505</td><td>6.562156</td><td>0.221498</td><td>0.993485</td><td>0.0</td><td>0.0</td><td>1.185668</td><td>2</td><td>0.484243</td><td>95.253104</td><td>71.25748</td><td>48.809355</td><td>0.117264</td><td>0.626237</td><td>1</td><td>1.016287</td><td>0.0</td><td>0.0</td><td>-53.200343</td><td>-4.880936</td><td>0.052632</td><td>46.749955</td><td>153.5</td><td>18</td><td>0.960912</td><td>0.022801</td><td>0.016287</td><td>1.0</td><td>1</td><td>0.0</td><td>0.0</td><td>0.0</td><td>307</td><td>0.0</td><td>18</td></tr><tr><td>3463004</td><td>60290</td><td>0</td><td>36</td><td>&quot;&quot;</td><td>0</td><td>1</td><td>1</td><td>60</td><td>0.0</td><td>1</td><td>7</td><td>8</td><td>7.5</td><td>7.5</td><td>&quot;PEE&quot;</td><td>1</td><td>&quot;SU&quot;</td><td>3</td><td>1.0</td><td>2.0</td><td>1.375</td><td>3</td><td>0.0</td><td>5.562663</td><td>0.15</td><td>0.983333</td><td>0.0</td><td>0.0</td><td>1.3</td><td>1</td><td>0.28749</td><td>208.642199</td><td>247.180809</td><td>48.389831</td><td>0.375</td><td>0.625222</td><td>2</td><td>1.066667</td><td>0.0</td><td>0.0</td><td>-44.189183</td><td>-4.838983</td><td>0.5</td><td>51.694915</td><td>60.0</td><td>1</td><td>1.0</td><td>0.05</td><td>0.016667</td><td>1.0</td><td>1</td><td>0.0</td><td>0.0</td><td>0.0</td><td>60</td><td>0.0</td><td>1</td></tr><tr><td>3462620</td><td>56905</td><td>1</td><td>36</td><td>&quot;&quot;</td><td>0</td><td>1</td><td>0</td><td>1141</td><td>0.930762</td><td>4</td><td>5</td><td>18</td><td>5.845749</td><td>5.0</td><td>&quot;OMS&quot;</td><td>4</td><td>&quot;U6&quot;</td><td>7</td><td>1.0</td><td>2.0</td><td>1.043675</td><td>1</td><td>0.010517</td><td>4.314205</td><td>0.700263</td><td>0.996494</td><td>0.0</td><td>0.0</td><td>1.794917</td><td>1</td><td>0.240411</td><td>50.280991</td><td>41.777173</td><td>49.108275</td><td>0.032866</td><td>0.623186</td><td>1</td><td>0.859772</td><td>0.0</td><td>0.0</td><td>-31.939997</td><td>-4.910827</td><td>0.071429</td><td>45.42764</td><td>285.25</td><td>13</td><td>1.16915</td><td>0.006135</td><td>0.003506</td><td>1.0</td><td>1</td><td>0.0</td><td>0.0</td><td>0.0</td><td>0</td><td>0.0</td><td>0</td></tr><tr><td>&hellip;</td><td>&hellip;</td><td>&hellip;</td><td>&hellip;</td><td>&hellip;</td><td>&hellip;</td><td>&hellip;</td><td>&hellip;</td><td>&hellip;</td><td>&hellip;</td><td>&hellip;</td><td>&hellip;</td><td>&hellip;</td><td>&hellip;</td><td>&hellip;</td><td>&hellip;</td><td>&hellip;</td><td>&hellip;</td><td>&hellip;</td><td>&hellip;</td><td>&hellip;</td><td>&hellip;</td><td>&hellip;</td><td>&hellip;</td><td>&hellip;</td><td>&hellip;</td><td>&hellip;</td><td>&hellip;</td><td>&hellip;</td><td>&hellip;</td><td>&hellip;</td><td>&hellip;</td><td>&hellip;</td><td>&hellip;</td><td>&hellip;</td><td>&hellip;</td><td>&hellip;</td><td>&hellip;</td><td>&hellip;</td><td>&hellip;</td><td>&hellip;</td><td>&hellip;</td><td>&hellip;</td><td>&hellip;</td><td>&hellip;</td><td>&hellip;</td><td>&hellip;</td><td>&hellip;</td><td>&hellip;</td><td>&hellip;</td><td>&hellip;</td><td>&hellip;</td><td>&hellip;</td><td>&hellip;</td><td>&hellip;</td><td>&hellip;</td><td>&hellip;</td><td>&hellip;</td></tr><tr><td>62139</td><td>25312</td><td>1</td><td>36</td><td>&quot;&quot;</td><td>0</td><td>1</td><td>1</td><td>734</td><td>0.0</td><td>2</td><td>0</td><td>24</td><td>10.216621</td><td>7.0</td><td>&quot;SVO&quot;</td><td>5</td><td>&quot;SU&quot;</td><td>9</td><td>1.0</td><td>2.0</td><td>1.00545</td><td>4</td><td>0.313351</td><td>5.558423</td><td>0.158038</td><td>0.997275</td><td>0.0</td><td>0.596246</td><td>1.016349</td><td>1</td><td>0.11396</td><td>105.704864</td><td>62.886586</td><td>48.975671</td><td>0.00545</td><td>0.633328</td><td>3</td><td>0.735695</td><td>0.0</td><td>0.0</td><td>-45.014426</td><td>-4.897567</td><td>0.04</td><td>44.596827</td><td>367.0</td><td>24</td><td>1.459517</td><td>0.012262</td><td>0.006812</td><td>1.0</td><td>1</td><td>0.0</td><td>0.0</td><td>0.0</td><td>734</td><td>0.0</td><td>24</td></tr><tr><td>2087977</td><td>57323</td><td>1</td><td>36</td><td>&quot;&quot;</td><td>0</td><td>1</td><td>1</td><td>208</td><td>0.0</td><td>2</td><td>53</td><td>91</td><td>69.519231</td><td>66.5</td><td>&quot;SVO&quot;</td><td>5</td><td>&quot;SU&quot;</td><td>5</td><td>1.0</td><td>2.0</td><td>1.290865</td><td>1</td><td>0.278846</td><td>7.90208</td><td>0.548077</td><td>0.990385</td><td>0.0</td><td>0.0</td><td>1.769231</td><td>1</td><td>-0.135955</td><td>115.489558</td><td>105.227422</td><td>48.873393</td><td>0.290865</td><td>0.625268</td><td>1</td><td>1.264423</td><td>0.0</td><td>0.0</td><td>-69.700574</td><td>-4.887339</td><td>0.025641</td><td>50.254004</td><td>104.0</td><td>38</td><td>1.045402</td><td>0.024038</td><td>0.024038</td><td>1.0</td><td>1</td><td>0.0</td><td>0.0</td><td>0.0</td><td>208</td><td>0.0</td><td>38</td></tr><tr><td>3378866</td><td>59766</td><td>0</td><td>36</td><td>&quot;S7/SU&quot;</td><td>0</td><td>1</td><td>1</td><td>443</td><td>0.650113</td><td>5</td><td>1</td><td>9</td><td>5.343115</td><td>6.0</td><td>&quot;SVO&quot;</td><td>5</td><td>&quot;SU&quot;</td><td>10</td><td>1.0</td><td>2.0</td><td>1.015801</td><td>3</td><td>0.275395</td><td>5.823743</td><td>0.130926</td><td>0.988713</td><td>0.0</td><td>0.157681</td><td>1.112867</td><td>2</td><td>0.37173</td><td>112.230231</td><td>83.306403</td><td>49.216108</td><td>0.015801</td><td>0.625934</td><td>1</td><td>0.812641</td><td>0.0</td><td>1.0</td><td>-46.378783</td><td>5.078389</td><td>0.111111</td><td>44.924081</td><td>88.6</td><td>8</td><td>0.890519</td><td>0.022573</td><td>0.011287</td><td>1.0</td><td>1</td><td>0.0</td><td>0.0</td><td>0.0</td><td>443</td><td>0.650113</td><td>8</td></tr><tr><td>3133600</td><td>54163</td><td>1</td><td>36</td><td>&quot;&quot;</td><td>0</td><td>1</td><td>1</td><td>6</td><td>1.0</td><td>1</td><td>12</td><td>12</td><td>12.0</td><td>12.0</td><td>&quot;DME&quot;</td><td>1</td><td>&quot;S7&quot;</td><td>1</td><td>2.0</td><td>2.0</td><td>2.0</td><td>2</td><td>0.0</td><td>2.738613</td><td>0.0</td><td>0.833333</td><td>0.0</td><td>0.0</td><td>1.5</td><td>2</td><td>0.435971</td><td>137.204257</td><td>36.738221</td><td>50.0</td><td>1.0</td><td>0.610318</td><td>1</td><td>1.333333</td><td>0.0</td><td>0.0</td><td>-15.206274</td><td>-5.0</td><td>1.0</td><td>65.0</td><td>6.0</td><td>0</td><td>1.0</td><td>0.166667</td><td>0.166667</td><td>0.0</td><td>1</td><td>0.0</td><td>0.0</td><td>0.0</td><td>6</td><td>1.0</td><td>0</td></tr><tr><td>3200854</td><td>42620</td><td>1</td><td>36</td><td>&quot;&quot;</td><td>0</td><td>1</td><td>1</td><td>138</td><td>1.0</td><td>1</td><td>28</td><td>29</td><td>28.652174</td><td>29.0</td><td>&quot;GSV&quot;</td><td>1</td><td>&quot;SU&quot;</td><td>3</td><td>1.0</td><td>2.0</td><td>1.347826</td><td>3</td><td>0.0</td><td>5.311043</td><td>0.07971</td><td>0.992754</td><td>0.0</td><td>0.590821</td><td>1.0</td><td>1</td><td>0.083648</td><td>209.057163</td><td>167.216467</td><td>47.228393</td><td>0.347826</td><td>0.630454</td><td>3</td><td>1.355072</td><td>0.0</td><td>0.0</td><td>-42.692196</td><td>-4.722839</td><td>0.5</td><td>50.570718</td><td>138.0</td><td>1</td><td>0.988006</td><td>0.021739</td><td>0.007246</td><td>1.0</td><td>1</td><td>0.0</td><td>0.0</td><td>0.0</td><td>138</td><td>1.0</td><td>1</td></tr></tbody></table></div>"
      ]
     },
     "execution_count": 14,
     "metadata": {},
     "output_type": "execute_result"
    }
   ],
   "execution_count": 14
  },
  {
   "metadata": {
    "ExecuteTime": {
     "end_time": "2025-09-02T01:18:57.977167Z",
     "start_time": "2025-09-02T01:18:57.966089Z"
    }
   },
   "cell_type": "code",
   "source": [
    "def remove_outliers(df, contamination=0.05):\n",
    "    # Get numeric columns only\n",
    "    numeric_cols = [col for col, dtype in df.schema.items() if dtype.is_numeric()]\n",
    "    df_numeric = df.select(numeric_cols)\n",
    "\n",
    "    iso_forest = IsolationForest(contamination=contamination, random_state=42)\n",
    "    outlier_labels = iso_forest.fit_predict(df_numeric.to_pandas())\n",
    "    mask = outlier_labels == 1\n",
    "\n",
    "    # Get outlier indices\n",
    "    outlier_indices = np.where(~mask)[0]\n",
    "\n",
    "    cleaned_df = df.filter(pl.Series('mask', mask))\n",
    "    print(f\"Removed {len(df) - len(cleaned_df):,} outliers ({(len(df) - len(cleaned_df))/len(df)*100:.1f}%)\")\n",
    "\n",
    "    return cleaned_df, outlier_indices\n",
    "\n",
    "\n",
    "def encode_features(df, saved_encoders=None, save_encoders=False):\n",
    "    \"\"\"\n",
    "    Encode categorical features with option to save/load encoders\n",
    "    \"\"\"\n",
    "    # Get categorical columns\n",
    "    categorical_cols = [col for col, dtype in df.schema.items()\n",
    "                       if not dtype.is_numeric() and col not in ['id', 'ranker_id', 'request_date']]\n",
    "\n",
    "    encoded_df = df.clone()\n",
    "    encoders = saved_encoders if saved_encoders else {}\n",
    "\n",
    "    for col in categorical_cols:\n",
    "        if col == 'frequent_flyer':\n",
    "            # Handle string format: \"S7/SU/UT\" or \"S7\" or \"\"\n",
    "            if save_encoders or 'frequent_flyer' not in encoders:\n",
    "                # Training phase - determine top programs\n",
    "                all_programs = []\n",
    "                for ff_string in df[col].to_list():\n",
    "                    if ff_string and ff_string != '':\n",
    "                        programs = ff_string.split('/')\n",
    "                        all_programs.extend(programs)\n",
    "\n",
    "                from collections import Counter\n",
    "                top_programs = Counter(all_programs).most_common(10)\n",
    "                top_program_names = [prog[0] for prog in top_programs]\n",
    "                encoders['frequent_flyer'] = {\n",
    "                    'top_programs': top_program_names,\n",
    "                    'program_counts': dict(top_programs)\n",
    "                }\n",
    "\n",
    "            # Apply encoding using saved/created encoder\n",
    "            top_programs = encoders['frequent_flyer']['top_programs']\n",
    "\n",
    "            # Create binary features for top programs\n",
    "            for program in top_programs:\n",
    "                encoded_df = encoded_df.with_columns([\n",
    "                    pl.col(col).map_elements(\n",
    "                        lambda x: 1 if x and program in str(x).split('/') else 0,\n",
    "                        return_dtype=pl.Int8\n",
    "                    ).alias(f'ff_{program}')\n",
    "                ])\n",
    "\n",
    "            # Add count of total programs\n",
    "            encoded_df = encoded_df.with_columns([\n",
    "                pl.col(col).map_elements(\n",
    "                    lambda x: len(str(x).split('/')) if x and x != '' else 0,\n",
    "                    return_dtype=pl.Int8\n",
    "                ).alias('ff_program_count')\n",
    "            ])\n",
    "\n",
    "        else:\n",
    "            # Handle other categorical columns with frequency encoding\n",
    "            if save_encoders or col not in encoders:\n",
    "                # Training phase - create frequency mapping\n",
    "                value_counts = df[col].value_counts()\n",
    "                freq_map = {row[0]: row[1] for row in value_counts.rows()}\n",
    "                encoders[col] = {'freq_map': freq_map}\n",
    "\n",
    "            # Apply frequency encoding\n",
    "            freq_map = encoders[col]['freq_map']\n",
    "            encoded_df = encoded_df.with_columns([\n",
    "                pl.col(col).map_elements(\n",
    "                    lambda x: freq_map.get(x, 0),  # Use 0 for unseen values\n",
    "                    return_dtype=pl.Int32\n",
    "                ).alias(f'{col}_frequency')\n",
    "            ])\n",
    "\n",
    "    # Remove original categorical columns\n",
    "    final_df = encoded_df.select(pl.exclude(categorical_cols))\n",
    "\n",
    "    return final_df.fill_null(0), encoders\n",
    "\n",
    "\n",
    "def generate_clusters(features, n_clusters=10):\n",
    "    agg = AgglomerativeClustering(n_clusters=n_clusters, linkage='ward')\n",
    "    labels = agg.fit_predict(features)\n",
    "\n",
    "    # Create pseudo-centroids for use in prediction, since AgglomerativeClustering doesn't have centroids\n",
    "    unique_segments = np.unique(labels)\n",
    "    centroids = []\n",
    "    for segment_id in unique_segments:\n",
    "        segment_mask = labels == segment_id\n",
    "        centroid = features[segment_mask].mean(axis=0)\n",
    "        centroids.append(centroid)\n",
    "\n",
    "    centroids = np.array(centroids)\n",
    "\n",
    "    score = silhouette_score(features, labels)\n",
    "\n",
    "    return {\n",
    "        \"labels\": labels,\n",
    "        \"centroids\": centroids,\n",
    "        \"model\": agg,\n",
    "        \"silhouette\": score,\n",
    "        \"n_clusters\": n_clusters\n",
    "    }\n",
    "\n",
    "\n",
    "def gen_optimum_num_clusters(features):\n",
    "    best_agg_score = -1\n",
    "    best_agg_n = 0\n",
    "    best_centroids = None\n",
    "\n",
    "    for n_clusters in [9, 10, 11, 12, 13, 14, 15, 16, 17]:\n",
    "        agg = AgglomerativeClustering(n_clusters=n_clusters, linkage='ward')\n",
    "        labels = agg.fit_predict(features)\n",
    "\n",
    "        score = silhouette_score(features, labels)\n",
    "        if score > best_agg_score:\n",
    "            best_agg_score = score\n",
    "            best_agg_n = n_clusters\n",
    "\n",
    "            # Create pseudo-centroids for use in prediction, since AgglomerativeClustering doesn't have centroids\n",
    "            unique_segments = np.unique(labels)\n",
    "            centroids = []\n",
    "            for segment_id in unique_segments:\n",
    "                segment_mask = labels == segment_id\n",
    "                centroid = features[segment_mask].mean(axis=0)\n",
    "                centroids.append(centroid)\n",
    "            best_centroids = np.array(centroids)\n",
    "\n",
    "    best_agg = AgglomerativeClustering(n_clusters=best_agg_n, linkage='ward')\n",
    "    agg_labels = best_agg.fit_predict(features)\n",
    "\n",
    "    print(f\"Best number of clusters: {best_agg_n}, with Silhouette score: {best_agg_score:.4f}\")\n",
    "\n",
    "    return {\n",
    "        'labels': agg_labels,\n",
    "        'centroids': best_centroids,\n",
    "        'model': best_agg,\n",
    "        'silhouette': silhouette_score(features, agg_labels),\n",
    "        'n_clusters': len(set(agg_labels))\n",
    "    }"
   ],
   "id": "f099f076ab642e51",
   "outputs": [],
   "execution_count": 5
  },
  {
   "metadata": {
    "ExecuteTime": {
     "end_time": "2025-09-02T01:18:59.908282Z",
     "start_time": "2025-09-02T01:18:59.902651Z"
    }
   },
   "cell_type": "code",
   "source": [
    "def analyze_clusters(original_df, cluster_labels, outlier_indices=None):\n",
    "    \"\"\"Analyze the final clusters\"\"\"\n",
    "    # Add cluster labels to original dataframe for analysis\n",
    "    if original_df is not None:\n",
    "\n",
    "        # Check if sizes match\n",
    "        if len(cluster_labels) != (len(original_df) - (len(outlier_indices) if outlier_indices is not None else 0)):\n",
    "            print(f\"Warning: Cluster labels size ({len(cluster_labels)}) doesn't match DataFrame size ({len(original_df)})\")\n",
    "            print(\"This likely happened because outliers were removed during clustering and outlier indices not provided or incorrect.\")\n",
    "\n",
    "        else:\n",
    "            if outlier_indices is not None and len(outlier_indices) > 0:\n",
    "                mask = ~pl.Series(range(len(original_df))).is_in(outlier_indices)\n",
    "                analysis_df = original_df.filter(mask)\n",
    "            else:\n",
    "                analysis_df = original_df.head(len(cluster_labels))\n",
    "\n",
    "            # Now add cluster labels safely\n",
    "            analysis_df = analysis_df.with_columns(pl.Series('cluster', cluster_labels))\n",
    "\n",
    "            # Cluster profiling\n",
    "            print(\"\\n📊 CLUSTER PROFILES:\")\n",
    "            print(\"=\" * 50)\n",
    "\n",
    "            cluster_profiles = analysis_df.group_by('cluster').agg([\n",
    "                pl.col('total_searches').mean().alias('avg_searches'),\n",
    "                pl.col('is_vip').mean().alias('vip_rate'),\n",
    "                pl.col('roundtrip_preference').mean().alias('roundtrip_rate'),\n",
    "                pl.col('avg_booking_lead_days').mean().alias('avg_lead_days'),\n",
    "                pl.col('unique_carriers_used').mean().alias('avg_carriers'),\n",
    "                pl.len().alias('size')\n",
    "            ]).sort('cluster')\n",
    "\n",
    "            print(cluster_profiles)"
   ],
   "id": "9aa29f210384bce7",
   "outputs": [],
   "execution_count": 6
  },
  {
   "metadata": {},
   "cell_type": "markdown",
   "source": "### Generate Customer Clusters",
   "id": "88a507eb3aa0ffb8"
  },
  {
   "metadata": {
    "ExecuteTime": {
     "end_time": "2025-09-02T00:57:28.172817Z",
     "start_time": "2025-09-02T00:57:27.651596Z"
    }
   },
   "cell_type": "code",
   "source": [
    "# 2. Remove outliers\n",
    "cust_data_cleaned, outlier_indices = remove_outliers(cust_data, contamination=0.05)"
   ],
   "id": "c2bdbc014c2a3139",
   "outputs": [
    {
     "name": "stdout",
     "output_type": "stream",
     "text": [
      "Removed 1,508 outliers (5.0%)\n"
     ]
    }
   ],
   "execution_count": 17
  },
  {
   "metadata": {
    "ExecuteTime": {
     "end_time": "2025-09-02T00:58:15.608877Z",
     "start_time": "2025-09-02T00:58:15.531948Z"
    }
   },
   "cell_type": "code",
   "source": [
    "# 3. Advanced encoding\n",
    "cust_data_encoded, encoders = encode_features(cust_data_cleaned)"
   ],
   "id": "c762a8a8c24396e9",
   "outputs": [],
   "execution_count": 18
  },
  {
   "metadata": {
    "ExecuteTime": {
     "end_time": "2025-09-02T00:58:20.370020Z",
     "start_time": "2025-09-02T00:58:20.306540Z"
    }
   },
   "cell_type": "code",
   "source": [
    "# 4. Feature scaling with robust scaler\n",
    "scaler = RobustScaler()  # Less sensitive to outliers than StandardScaler\n",
    "scaled_features = scaler.fit_transform(cust_data_encoded.to_pandas())"
   ],
   "id": "c94e8e5e0944dbac",
   "outputs": [],
   "execution_count": 19
  },
  {
   "metadata": {
    "ExecuteTime": {
     "end_time": "2025-09-02T00:58:25.096782Z",
     "start_time": "2025-09-02T00:58:25.058163Z"
    }
   },
   "cell_type": "code",
   "source": [
    "# 5. Dimensionality reduction\n",
    "n_components = 0.95  # retain components that explain 95% of variance\n",
    "# n_components = 30    # retain 30 components\n",
    "\n",
    "reducer = PCA(n_components=n_components, random_state=42)\n",
    "reduced_features = reducer.fit_transform(scaled_features)\n",
    "\n",
    "if hasattr(reducer, 'explained_variance_ratio_'):\n",
    "    total_variance = reducer.explained_variance_ratio_.sum()\n",
    "    print(f\"PCA retained {total_variance:.3f} of total variance with {reduced_features.shape[1]} components\")"
   ],
   "id": "3d0178616ca57c7a",
   "outputs": [
    {
     "name": "stdout",
     "output_type": "stream",
     "text": [
      "PCA retained 0.955 of total variance with 7 components\n"
     ]
    }
   ],
   "execution_count": 20
  },
  {
   "metadata": {
    "ExecuteTime": {
     "end_time": "2025-09-02T01:04:12.003115Z",
     "start_time": "2025-09-02T00:58:33.219324Z"
    }
   },
   "cell_type": "code",
   "source": [
    "# 6. Apply clustering algorithm\n",
    "# clustering_results = generate_clusters(reduced_features)\n",
    "clustering_results = gen_optimum_num_clusters(reduced_features)\n",
    "\n",
    "# 7. Clustering results\n",
    "print(\"\\n🏆 CLUSTERING RESULTS:\")\n",
    "print(f\"  Clusters: {clustering_results['n_clusters']:2d}| Silhouette: {clustering_results['silhouette']:.4f} | \")"
   ],
   "id": "c824f3ff16079a95",
   "outputs": [
    {
     "name": "stdout",
     "output_type": "stream",
     "text": [
      "Best number of clusters: 12, with Silhouette score: 0.6975\n",
      "\n",
      "🏆 CLUSTERING RESULTS:\n",
      "  Clusters: 12| Silhouette: 0.6975 | \n"
     ]
    }
   ],
   "execution_count": 21
  },
  {
   "metadata": {
    "ExecuteTime": {
     "end_time": "2025-09-01T22:17:44.799169Z",
     "start_time": "2025-09-01T22:17:44.768025Z"
    }
   },
   "cell_type": "code",
   "source": "analyze_clusters(cust_data_cleaned, clustering_results['labels'])",
   "id": "420bdbd5a24891d5",
   "outputs": [
    {
     "name": "stdout",
     "output_type": "stream",
     "text": [
      "\n",
      "📊 CLUSTER PROFILES:\n",
      "==================================================\n",
      "shape: (13, 7)\n",
      "┌─────────┬──────────────┬──────────┬────────────────┬───────────────┬──────────────┬───────┐\n",
      "│ cluster ┆ avg_searches ┆ vip_rate ┆ roundtrip_rate ┆ avg_lead_days ┆ avg_carriers ┆ size  │\n",
      "│ ---     ┆ ---          ┆ ---      ┆ ---            ┆ ---           ┆ ---          ┆ ---   │\n",
      "│ i64     ┆ f64          ┆ f64      ┆ f64            ┆ f64           ┆ f64          ┆ u32   │\n",
      "╞═════════╪══════════════╪══════════╪════════════════╪═══════════════╪══════════════╪═══════╡\n",
      "│ 0       ┆ 820.364922   ┆ 0.0      ┆ 0.483473       ┆ 11.265869     ┆ 6.323904     ┆ 707   │\n",
      "│ 1       ┆ 293.627119   ┆ 1.0      ┆ 0.731554       ┆ 13.552792     ┆ 4.983051     ┆ 59    │\n",
      "│ 2       ┆ 390.175765   ┆ 0.0      ┆ 0.449503       ┆ 15.455421     ┆ 7.692308     ┆ 2418  │\n",
      "│ 3       ┆ 535.615385   ┆ 1.0      ┆ 0.86867        ┆ 11.837962     ┆ 5.730769     ┆ 26    │\n",
      "│ 4       ┆ 295.227273   ┆ 0.0      ┆ 0.406171       ┆ 17.016755     ┆ 5.613636     ┆ 44    │\n",
      "│ …       ┆ …            ┆ …        ┆ …              ┆ …             ┆ …            ┆ …     │\n",
      "│ 8       ┆ 873.4        ┆ 1.0      ┆ 1.0            ┆ 16.346625     ┆ 4.8          ┆ 5     │\n",
      "│ 9       ┆ 674.008247   ┆ 0.0      ┆ 0.588458       ┆ 17.879114     ┆ 9.993814     ┆ 970   │\n",
      "│ 10      ┆ 379.622388   ┆ 0.000051 ┆ 0.559316       ┆ 14.794494     ┆ 4.528228     ┆ 19573 │\n",
      "│ 11      ┆ 1012.5       ┆ 1.0      ┆ 1.0            ┆ 12.741822     ┆ 4.5          ┆ 2     │\n",
      "│ 12      ┆ 96.512195    ┆ 1.0      ┆ 0.390029       ┆ 12.33669      ┆ 4.182927     ┆ 82    │\n",
      "└─────────┴──────────────┴──────────┴────────────────┴───────────────┴──────────────┴───────┘\n"
     ]
    }
   ],
   "execution_count": 22
  },
  {
   "metadata": {
    "ExecuteTime": {
     "end_time": "2025-09-02T01:07:11.324954Z",
     "start_time": "2025-09-02T01:07:11.314954Z"
    }
   },
   "cell_type": "code",
   "source": [
    "# Add cluster labels to the customer data set\n",
    "cust_data_cleaned = cust_data_cleaned.with_columns(pl.Series('customer_segment', clustering_results['labels']))"
   ],
   "id": "817fab4badbe13de",
   "outputs": [],
   "execution_count": 22
  },
  {
   "metadata": {
    "ExecuteTime": {
     "end_time": "2025-09-02T01:07:12.871604Z",
     "start_time": "2025-09-02T01:07:12.858541Z"
    }
   },
   "cell_type": "code",
   "source": "cust_data_cleaned.group_by('customer_segment').len()",
   "id": "ef21aaffb6dd7706",
   "outputs": [
    {
     "data": {
      "text/plain": [
       "shape: (12, 2)\n",
       "┌──────────────────┬───────┐\n",
       "│ customer_segment ┆ len   │\n",
       "│ ---              ┆ ---   │\n",
       "│ i64              ┆ u32   │\n",
       "╞══════════════════╪═══════╡\n",
       "│ 3                ┆ 2381  │\n",
       "│ 11               ┆ 224   │\n",
       "│ 6                ┆ 48    │\n",
       "│ 0                ┆ 19782 │\n",
       "│ 10               ┆ 7     │\n",
       "│ …                ┆ …     │\n",
       "│ 8                ┆ 408   │\n",
       "│ 1                ┆ 541   │\n",
       "│ 7                ┆ 3     │\n",
       "│ 4                ┆ 38    │\n",
       "│ 2                ┆ 4     │\n",
       "└──────────────────┴───────┘"
      ],
      "text/html": [
       "<div><style>\n",
       ".dataframe > thead > tr,\n",
       ".dataframe > tbody > tr {\n",
       "  text-align: right;\n",
       "  white-space: pre-wrap;\n",
       "}\n",
       "</style>\n",
       "<small>shape: (12, 2)</small><table border=\"1\" class=\"dataframe\"><thead><tr><th>customer_segment</th><th>len</th></tr><tr><td>i64</td><td>u32</td></tr></thead><tbody><tr><td>3</td><td>2381</td></tr><tr><td>11</td><td>224</td></tr><tr><td>6</td><td>48</td></tr><tr><td>0</td><td>19782</td></tr><tr><td>10</td><td>7</td></tr><tr><td>&hellip;</td><td>&hellip;</td></tr><tr><td>8</td><td>408</td></tr><tr><td>1</td><td>541</td></tr><tr><td>7</td><td>3</td></tr><tr><td>4</td><td>38</td></tr><tr><td>2</td><td>4</td></tr></tbody></table></div>"
      ]
     },
     "execution_count": 23,
     "metadata": {},
     "output_type": "execute_result"
    }
   ],
   "execution_count": 23
  },
  {
   "metadata": {
    "ExecuteTime": {
     "end_time": "2025-09-02T01:07:22.355322Z",
     "start_time": "2025-09-02T01:07:22.304477Z"
    }
   },
   "cell_type": "code",
   "source": [
    "# Save customer features\n",
    "cust_data_cleaned.write_parquet('data/train_customer_features.parquet')"
   ],
   "id": "10a30fd623b9b51b",
   "outputs": [],
   "execution_count": 24
  },
  {
   "metadata": {
    "ExecuteTime": {
     "end_time": "2025-09-02T01:07:24.421078Z",
     "start_time": "2025-09-02T01:07:24.406538Z"
    }
   },
   "cell_type": "code",
   "source": [
    "# Save the best Agglomerative model\n",
    "joblib.dump(clustering_results, 'data/agglomerative_model.joblib')\n",
    "\n",
    "# Save the data encoders/scaler/reducer\n",
    "joblib.dump({\n",
    "    'encoders': encoders,\n",
    "    'scaler': scaler,\n",
    "    'reducer': reducer\n",
    "}, 'data/data_encoders_scaler_reducer.joblib')"
   ],
   "id": "d3ae296a7ee89e04",
   "outputs": [
    {
     "data": {
      "text/plain": [
       "['data/data_encoders_scaler_reducer.joblib']"
      ]
     },
     "execution_count": 25,
     "metadata": {},
     "output_type": "execute_result"
    }
   ],
   "execution_count": 25
  },
  {
   "metadata": {
    "ExecuteTime": {
     "end_time": "2025-09-02T01:07:59.875105Z",
     "start_time": "2025-09-02T01:07:59.802380Z"
    }
   },
   "cell_type": "code",
   "source": [
    "# Remove unneeded objects to free memory\n",
    "del cust_data\n",
    "del cust_data_cleaned\n",
    "del cust_data_encoded\n",
    "del scaled_features\n",
    "del reduced_features\n",
    "del clustering_results\n",
    "gc.collect()"
   ],
   "id": "786d5f4e554c8cef",
   "outputs": [
    {
     "data": {
      "text/plain": [
       "12"
      ]
     },
     "execution_count": 26,
     "metadata": {},
     "output_type": "execute_result"
    }
   ],
   "execution_count": 26
  },
  {
   "metadata": {},
   "cell_type": "markdown",
   "source": "### Engineer Flight Features",
   "id": "848a02e6f5a92295"
  },
  {
   "metadata": {
    "ExecuteTime": {
     "end_time": "2025-09-02T01:19:29.027367Z",
     "start_time": "2025-09-02T01:19:29.007238Z"
    }
   },
   "cell_type": "code",
   "source": [
    "CUSTOMER_FEATURES = ['companyID', 'sex', 'nationality', 'isVip', 'bySelf']\n",
    "UNNEEDED_FEATURES = [\n",
    "    'frequentFlyer', 'frequent_flyer', 'isAccess3D', 'requestDate', 'searchRoute', 'totalPrice', 'taxes', 'legs0_arrivalAt', 'legs0_duration'\n",
    "]\n",
    "UNNEEDED_FEATURES_REGEX = r'^legs[01].*$|^leg0_duration_q.*$|^price_q.*$'\n",
    "POLARS_INDEX_COL = ['__index_level_0__']\n",
    "\n",
    "\n",
    "# function to get column groups for the flight segments features that will be used in engineering the new features\n",
    "def get_column_groups(df: pl.DataFrame) -> Dict[str, List[str]]:\n",
    "    columns = df.columns\n",
    "    return {\n",
    "        'leg0_duration': [col for col in columns if col.startswith('legs0_segments') and col.endswith('_duration')],\n",
    "        'leg1_duration': [col for col in columns if col.startswith('legs1_segments') and col.endswith('_duration')],\n",
    "        'mkt_carrier': [col for col in columns if col.endswith('marketingCarrier_code')],\n",
    "        'op_carrier': [col for col in columns if col.endswith('operatingCarrier_code')],\n",
    "        'aircraft': [col for col in columns if col.endswith('aircraft_code')],\n",
    "        'airport': [col for col in columns if 'airport_iata' in col or 'airport_city_iata' in col],\n",
    "        'seats_avail': [col for col in columns if col.endswith('seatsAvailable')],\n",
    "        'baggage_type': [col for col in columns if 'baggageAllowance_weightMeasurementType' in col],\n",
    "        'baggage_allowance': [col for col in columns if 'baggageAllowance_quantity' in col],\n",
    "        'cabin_class': [col for col in columns if 'cabinClass' in col]\n",
    "    }\n",
    "\n",
    "\n",
    "def create_basic_features(col_groups: Dict[str, List[str]]) -> List[pl.Expr]:\n",
    "    \"\"\"Create basic customer and route characteristics features.\"\"\"\n",
    "    return [\n",
    "        pl.col('isAccess3D').cast(pl.Int32).alias('is_access3D'),\n",
    "\n",
    "        # Normalized frequentFlyer program, addressing null values as null strings, and translating UT program\n",
    "        pl.col('frequentFlyer').str.replace('- ЮТэйр ЗАО', 'UT').fill_null('').alias('frequent_flyer'),\n",
    "\n",
    "        # Route characteristics\n",
    "        pl.col('legs1_departureAt').is_not_null().cast(pl.Int8).alias('is_roundtrip'),\n",
    "        pl.col('searchRoute').str.slice(0, 3).alias('route_origin'),\n",
    "\n",
    "        # Hub features\n",
    "        pl.col('searchRoute').str.slice(0, 3).is_in(MAJOR_HUBS).cast(pl.Int32).alias('origin_is_major_hub'),\n",
    "        pl.col('searchRoute').str.slice(3, 3).is_in(MAJOR_HUBS).cast(pl.Int32).alias('destination_is_major_hub'),\n",
    "        pl.max_horizontal([\n",
    "            pl.col(col).is_in(MAJOR_HUBS) for col in col_groups['airport']\n",
    "        ]).cast(pl.Int32).alias('includes_major_hub'),\n",
    "    ]\n",
    "\n",
    "\n",
    "def create_segment_features(col_groups: Dict[str, List[str]]) -> List[pl.Expr]:\n",
    "    \"\"\"Create flight segment related features.\"\"\"\n",
    "    return [\n",
    "        # Number of segments per leg\n",
    "        pl.concat_list([pl.col(col) for col in col_groups['leg0_duration']])\n",
    "        .list.drop_nulls().list.len().alias('leg0_num_segments'),\n",
    "\n",
    "        pl.concat_list([pl.col(col) for col in col_groups['leg1_duration']])\n",
    "        .list.drop_nulls().list.len().alias('leg1_num_segments'),\n",
    "\n",
    "        # Total segments\n",
    "        pl.sum_horizontal([pl.col(col).is_not_null() for col in col_groups['aircraft']])\n",
    "        .alias('total_segments'),\n",
    "\n",
    "        # Flight time in minutes (sum of segment durations)\n",
    "        pl.sum_horizontal([\n",
    "            parse_duration_to_minutes(col)\n",
    "            for col in col_groups['leg0_duration']\n",
    "        ]).alias('leg0_flight_time_min'),\n",
    "\n",
    "        pl.sum_horizontal([\n",
    "            parse_duration_to_minutes(col)\n",
    "            for col in col_groups['leg1_duration']\n",
    "        ]).alias('leg1_flight_time_min'),\n",
    "    ]\n",
    "\n",
    "\n",
    "def create_time_features() -> List[pl.Expr]:\n",
    "    \"\"\"Create time-based features.\"\"\"\n",
    "    return [\n",
    "        # Booking lead time\n",
    "        ((pl.col('legs0_departureAt').str.to_datetime() -\n",
    "            pl.col('requestDate').cast(pl.Datetime)) / pl.duration(days=1)).cast(pl.Int32).alias('booking_lead_days'),\n",
    "\n",
    "        # Trip duration features\n",
    "        parse_duration_to_minutes('legs0_duration').alias('leg0_duration_minutes'),\n",
    "        parse_duration_to_minutes('legs1_duration').alias('leg1_duration_minutes'),\n",
    "        (parse_duration_to_minutes('legs0_duration') + parse_duration_to_minutes('legs1_duration')).alias('trip_duration_minutes'),\n",
    "\n",
    "        # Departure/arrival hours\n",
    "        pl.col('legs0_departureAt').str.to_datetime().dt.hour().alias('leg0_departure_hour'),\n",
    "        pl.col('legs0_departureAt').str.to_datetime().dt.weekday().alias('leg0_departure_weekday'),\n",
    "        pl.col('legs0_arrivalAt').str.to_datetime().dt.hour().alias('leg0_arrival_hour'),\n",
    "        pl.col('legs0_arrivalAt').str.to_datetime().dt.weekday().alias('leg0_arrival_weekday'),\n",
    "        pl.col('legs1_departureAt').str.to_datetime().dt.hour().alias('leg1_departure_hour'),\n",
    "        pl.col('legs1_arrivalAt').str.to_datetime().dt.hour().alias('leg1_arrival_hour'),\n",
    "        pl.col('legs1_departureAt').str.to_datetime().dt.weekday().alias('leg1_departure_weekday'),\n",
    "        pl.col('legs1_arrivalAt').str.to_datetime().dt.weekday().alias('leg1_arrival_weekday'),\n",
    "    ]\n",
    "\n",
    "\n",
    "def create_carrier_features(col_groups: Dict[str, List[str]]) -> List[pl.Expr]:\n",
    "    \"\"\"Create carrier and aircraft features.\"\"\"\n",
    "    # Create combined carrier column group for carrier features\n",
    "    all_carrier_cols = col_groups['mkt_carrier'] + col_groups['op_carrier']\n",
    "\n",
    "    # Create frequent flyer matching expressions\n",
    "    ff_matches_mkt = [\n",
    "        pl.when(pl.col(col).is_not_null() & (pl.col(col) != ''))\n",
    "        .then(pl.col('frequent_flyer').str.contains(pl.col(col)))\n",
    "        .otherwise(False)\n",
    "        for col in col_groups['mkt_carrier']\n",
    "    ]\n",
    "    ff_matches_op = [\n",
    "        pl.when(pl.col(col).is_not_null() & (pl.col(col) != ''))\n",
    "        .then(pl.col('frequent_flyer').str.contains(pl.col(col)))\n",
    "        .otherwise(False)\n",
    "        for col in col_groups['op_carrier']\n",
    "    ]\n",
    "\n",
    "    return [\n",
    "        # Carrier features\n",
    "        pl.concat_list([pl.col(col) for col in all_carrier_cols])\n",
    "        .list.drop_nulls().list.unique().list.len().alias('unique_carriers'),\n",
    "\n",
    "        pl.coalesce([pl.col(col) for col in all_carrier_cols]).alias('primary_carrier'),\n",
    "        pl.col('legs0_segments0_marketingCarrier_code').alias('marketing_carrier'),\n",
    "\n",
    "        # Frequent flyer matching (check if FF programs match carriers)\n",
    "        pl.max_horizontal(ff_matches_mkt).cast(pl.Int32).alias('has_mkt_ff'),\n",
    "        pl.max_horizontal(ff_matches_op).cast(pl.Int32).alias('has_op_ff'),\n",
    "\n",
    "        # Aircraft features\n",
    "        pl.concat_list([pl.col(col) for col in col_groups['aircraft']])\n",
    "        .list.drop_nulls().list.unique().list.len().alias('aircraft_diversity'),\n",
    "\n",
    "        pl.coalesce([pl.col(col) for col in col_groups['aircraft']]).alias('primary_aircraft'),\n",
    "    ]\n",
    "\n",
    "\n",
    "def create_service_features(col_groups: Dict[str, List[str]]) -> List[pl.Expr]:\n",
    "    \"\"\"Create service-related features (fees, cabin, seats, baggage).\"\"\"\n",
    "    return [\n",
    "        # Cancellation/exchange fees\n",
    "        (\n",
    "            ((pl.col('miniRules0_monetaryAmount') > 0) & pl.col('miniRules0_monetaryAmount').is_not_null()) |\n",
    "            ((pl.col('miniRules0_percentage') > 0) & pl.col('miniRules0_percentage').is_not_null())\n",
    "        ).cast(pl.Int32).alias('has_cancellation_fee'),\n",
    "\n",
    "        (\n",
    "            ((pl.col('miniRules1_monetaryAmount') > 0) & pl.col('miniRules1_monetaryAmount').is_not_null()) |\n",
    "            ((pl.col('miniRules1_percentage') > 0) & pl.col('miniRules1_percentage').is_not_null())\n",
    "        ).cast(pl.Int32).alias('has_exchange_fee'),\n",
    "\n",
    "        # Cabin class features\n",
    "        pl.max_horizontal([pl.col(col) for col in col_groups['cabin_class']]).alias('max_cabin_class'),\n",
    "        pl.mean_horizontal([pl.col(col) for col in col_groups['cabin_class']]).alias('avg_cabin_class'),\n",
    "\n",
    "        # Seat availability (using for understanding popularity/scarcity)\n",
    "        pl.min_horizontal([pl.col(col) for col in col_groups['seats_avail']]).alias('min_seats_available'),\n",
    "        pl.sum_horizontal([pl.col(col).fill_null(0) for col in col_groups['seats_avail']]).alias('total_seats_available'),\n",
    "\n",
    "        # Baggage allowance\n",
    "        pl.min_horizontal([\n",
    "            pl.when(pl.col(type_col) == 0).then(pl.col(qty_col)).otherwise(pl.lit(None))\n",
    "            for type_col, qty_col in zip(col_groups['baggage_type'], col_groups['baggage_allowance'])\n",
    "        ]).fill_null(0).alias(\"baggage_allowance_quantity\"),\n",
    "\n",
    "        pl.min_horizontal([\n",
    "            pl.when(pl.col(type_col) == 1).then(pl.col(qty_col)).otherwise(pl.lit(None))\n",
    "            for type_col, qty_col in zip(col_groups['baggage_type'], col_groups['baggage_allowance'])\n",
    "        ]).fill_null(0).alias(\"baggage_allowance_weight\")\n",
    "    ]\n",
    "\n",
    "\n",
    "def add_route_popularity(lazy_df: pl.LazyFrame) -> pl.LazyFrame:\n",
    "    \"\"\"Add search route popularity features.\"\"\"\n",
    "    return lazy_df.with_columns([\n",
    "        pl.len().over('searchRoute').alias('route_popularity')\n",
    "    ]).with_columns([\n",
    "        pl.col('route_popularity').log1p().alias('route_popularity_log')\n",
    "    ])\n",
    "\n",
    "\n",
    "def create_window_based_flight_features(lazy_df: pl.LazyFrame) -> pl.LazyFrame:\n",
    "    return lazy_df.with_columns([\n",
    "        # calculate price percentile over search session\n",
    "        ((pl.col('totalPrice').rank(method='min').over('ranker_id') - 1) /\n",
    "        (pl.col('totalPrice').count().over('ranker_id') - 1) * 100)\n",
    "        .fill_null(50.0).alias('price_percentile'),\n",
    "\n",
    "        # Price features (always relative to search session)\n",
    "        (pl.col('totalPrice').rank(method='ordinal').over('ranker_id') /\n",
    "         pl.col('totalPrice').count().over('ranker_id')).alias('price_rank_pct'),\n",
    "        (pl.col('totalPrice') / pl.col('totalPrice').min().over('ranker_id')).alias('price_ratio_to_min'),\n",
    "    ]).with_columns([\n",
    "\n",
    "        # Route popularity features\n",
    "        pl.len().over('searchRoute').alias('route_popularity')\n",
    "    ]).with_columns([\n",
    "        pl.col('route_popularity').log1p().alias('route_popularity_log')\n",
    "    ])\n",
    "\n",
    "\n",
    "def create_derived_flight_features() -> List[pl.Expr]:\n",
    "    return [\n",
    "        pl.col('leg0_departure_hour').is_between(6, 22).cast(pl.Int8).alias('is_daytime'),\n",
    "        (pl.col('leg1_departure_weekday') >= 5).cast(pl.Int8).alias('is_weekend'),\n",
    "        (pl.col('leg0_departure_hour').is_between(6, 22) &\n",
    "         (~pl.col('leg0_arrival_hour').is_between(6, 22)))\n",
    "        .cast(pl.Int8).alias('is_redeye'),\n",
    "        (pl.col('total_segments') > 1).cast(pl.Int8).alias('has_connections'),\n",
    "    ]\n",
    "\n",
    "def extract_flight_features(df: pl.DataFrame) -> pl.DataFrame:\n",
    "    \"\"\" Create flight-level features\"\"\"\n",
    "    # Check if already processed\n",
    "    if df.height > 0 and 'total_duration_mins' in df.columns:\n",
    "        return df\n",
    "\n",
    "\n",
    "    # Get column groups\n",
    "    col_groups = get_column_groups(df)\n",
    "\n",
    "    # Start with lazy frame, dropping unnecessary columns\n",
    "    lazy_df = df.drop(CUSTOMER_FEATURES + POLARS_INDEX_COL, strict=False).lazy()\n",
    "    lazy_df = create_window_based_flight_features(lazy_df)\n",
    "\n",
    "    # Apply all feature groups\n",
    "    lazy_df = lazy_df.with_columns([\n",
    "        *create_basic_features(col_groups),\n",
    "        *create_segment_features(col_groups),\n",
    "        *create_time_features(),\n",
    "        *create_service_features(col_groups)\n",
    "    ])\n",
    "\n",
    "    # Add carrier features (requires frequent_flyer from create_basic_features() step)\n",
    "    lazy_df = lazy_df.with_columns(create_carrier_features(col_groups))\n",
    "\n",
    "    # Add derived features\n",
    "    lazy_df = lazy_df.with_columns(create_derived_flight_features())\n",
    "\n",
    "    # Add window based derived flight features\n",
    "    lazy_df = create_window_based_flight_features(lazy_df)\n",
    "\n",
    "    # Materialize to generate new features, drop unused features, and fill nulls\n",
    "    return (lazy_df\n",
    "            .collect()\n",
    "            .select(~cs.matches(UNNEEDED_FEATURES_REGEX) & ~cs.by_name(UNNEEDED_FEATURES))\n",
    "            .fill_null(0)\n",
    "            )\n"
   ],
   "id": "e12350661ea1aef",
   "outputs": [],
   "execution_count": 7
  },
  {
   "metadata": {
    "ExecuteTime": {
     "end_time": "2025-09-02T01:20:30.337483Z",
     "start_time": "2025-09-02T01:20:27.881749Z"
    }
   },
   "cell_type": "code",
   "source": [
    "try:\n",
    "    train_df.head()\n",
    "except NameError:\n",
    "    train_df = pl.read_parquet('data/train_df.parquet')"
   ],
   "id": "964e357c7a20f749",
   "outputs": [],
   "execution_count": 9
  },
  {
   "metadata": {
    "ExecuteTime": {
     "end_time": "2025-09-02T01:22:03.783813Z",
     "start_time": "2025-09-02T01:20:35.116018Z"
    }
   },
   "cell_type": "code",
   "source": "train_df = extract_flight_features(train_df)",
   "id": "a442e9536a45a9b9",
   "outputs": [],
   "execution_count": 10
  },
  {
   "metadata": {
    "ExecuteTime": {
     "end_time": "2025-09-02T01:22:34.090198Z",
     "start_time": "2025-09-02T01:22:34.060033Z"
    }
   },
   "cell_type": "code",
   "source": "train_df.head(100)",
   "id": "4c74cb059ba49825",
   "outputs": [
    {
     "data": {
      "text/plain": [
       "shape: (100, 60)\n",
       "┌─────┬────────────┬────────────┬────────────┬───┬────────────┬────────────┬───────────┬───────────┐\n",
       "│ Id  ┆ corporateT ┆ miniRules0 ┆ miniRules0 ┆ … ┆ is_daytime ┆ is_weekend ┆ is_redeye ┆ has_conne │\n",
       "│ --- ┆ ariffCode  ┆ _monetaryA ┆ _percentag ┆   ┆ ---        ┆ ---        ┆ ---       ┆ ctions    │\n",
       "│ i64 ┆ ---        ┆ mount      ┆ e          ┆   ┆ i8         ┆ i8         ┆ i8        ┆ ---       │\n",
       "│     ┆ i64        ┆ ---        ┆ ---        ┆   ┆            ┆            ┆           ┆ i8        │\n",
       "│     ┆            ┆ f64        ┆ f64        ┆   ┆            ┆            ┆           ┆           │\n",
       "╞═════╪════════════╪════════════╪════════════╪═══╪════════════╪════════════╪═══════════╪═══════════╡\n",
       "│ 0   ┆ 0          ┆ 0.0        ┆ 0.0        ┆ … ┆ 1          ┆ 0          ┆ 0         ┆ 1         │\n",
       "│ 1   ┆ 123        ┆ 2300.0     ┆ 0.0        ┆ … ┆ 1          ┆ 0          ┆ 0         ┆ 1         │\n",
       "│ 2   ┆ 0          ┆ 2300.0     ┆ 0.0        ┆ … ┆ 1          ┆ 0          ┆ 0         ┆ 1         │\n",
       "│ 3   ┆ 123        ┆ 0.0        ┆ 0.0        ┆ … ┆ 1          ┆ 0          ┆ 0         ┆ 1         │\n",
       "│ 4   ┆ 0          ┆ 0.0        ┆ 0.0        ┆ … ┆ 1          ┆ 0          ┆ 0         ┆ 1         │\n",
       "│ …   ┆ …          ┆ …          ┆ …          ┆ … ┆ …          ┆ …          ┆ …         ┆ …         │\n",
       "│ 144 ┆ 0          ┆ 2000.0     ┆ 0.0        ┆ … ┆ 1          ┆ 0          ┆ 0         ┆ 0         │\n",
       "│ 145 ┆ 0          ┆ 2000.0     ┆ 0.0        ┆ … ┆ 1          ┆ 0          ┆ 0         ┆ 0         │\n",
       "│ 146 ┆ 101        ┆ 4600.0     ┆ 0.0        ┆ … ┆ 1          ┆ 0          ┆ 0         ┆ 0         │\n",
       "│ 147 ┆ 101        ┆ 4600.0     ┆ 0.0        ┆ … ┆ 1          ┆ 0          ┆ 0         ┆ 0         │\n",
       "│ 148 ┆ 101        ┆ 0.0        ┆ 0.0        ┆ … ┆ 1          ┆ 0          ┆ 0         ┆ 0         │\n",
       "└─────┴────────────┴────────────┴────────────┴───┴────────────┴────────────┴───────────┴───────────┘"
      ],
      "text/html": [
       "<div><style>\n",
       ".dataframe > thead > tr,\n",
       ".dataframe > tbody > tr {\n",
       "  text-align: right;\n",
       "  white-space: pre-wrap;\n",
       "}\n",
       "</style>\n",
       "<small>shape: (100, 60)</small><table border=\"1\" class=\"dataframe\"><thead><tr><th>Id</th><th>corporateTariffCode</th><th>miniRules0_monetaryAmount</th><th>miniRules0_percentage</th><th>miniRules0_statusInfos</th><th>miniRules1_monetaryAmount</th><th>miniRules1_percentage</th><th>miniRules1_statusInfos</th><th>pricingInfo_isAccessTP</th><th>pricingInfo_passengerCount</th><th>profileId</th><th>ranker_id</th><th>selected</th><th>price_percentile</th><th>price_rank_pct</th><th>price_ratio_to_min</th><th>route_popularity</th><th>route_popularity_log</th><th>is_access3D</th><th>is_roundtrip</th><th>route_origin</th><th>origin_is_major_hub</th><th>destination_is_major_hub</th><th>includes_major_hub</th><th>leg0_num_segments</th><th>leg1_num_segments</th><th>total_segments</th><th>leg0_flight_time_min</th><th>leg1_flight_time_min</th><th>booking_lead_days</th><th>leg0_duration_minutes</th><th>leg1_duration_minutes</th><th>trip_duration_minutes</th><th>leg0_departure_hour</th><th>leg0_departure_weekday</th><th>leg0_arrival_hour</th><th>leg0_arrival_weekday</th><th>leg1_departure_hour</th><th>leg1_arrival_hour</th><th>leg1_departure_weekday</th><th>leg1_arrival_weekday</th><th>has_cancellation_fee</th><th>has_exchange_fee</th><th>max_cabin_class</th><th>avg_cabin_class</th><th>min_seats_available</th><th>total_seats_available</th><th>baggage_allowance_quantity</th><th>baggage_allowance_weight</th><th>unique_carriers</th><th>primary_carrier</th><th>marketing_carrier</th><th>has_mkt_ff</th><th>has_op_ff</th><th>aircraft_diversity</th><th>primary_aircraft</th><th>is_daytime</th><th>is_weekend</th><th>is_redeye</th><th>has_connections</th></tr><tr><td>i64</td><td>i64</td><td>f64</td><td>f64</td><td>f64</td><td>f64</td><td>f64</td><td>f64</td><td>f64</td><td>i64</td><td>i64</td><td>str</td><td>i64</td><td>f64</td><td>f64</td><td>f64</td><td>u32</td><td>f64</td><td>i32</td><td>i8</td><td>str</td><td>i32</td><td>i32</td><td>i32</td><td>u32</td><td>u32</td><td>u32</td><td>i32</td><td>i32</td><td>i32</td><td>i32</td><td>i32</td><td>i32</td><td>i8</td><td>i8</td><td>i8</td><td>i8</td><td>i8</td><td>i8</td><td>i8</td><td>i8</td><td>i32</td><td>i32</td><td>f64</td><td>f64</td><td>f64</td><td>f64</td><td>f64</td><td>f64</td><td>u32</td><td>str</td><td>str</td><td>i32</td><td>i32</td><td>u32</td><td>str</td><td>i8</td><td>i8</td><td>i8</td><td>i8</td></tr></thead><tbody><tr><td>0</td><td>0</td><td>0.0</td><td>0.0</td><td>0.0</td><td>0.0</td><td>0.0</td><td>0.0</td><td>1.0</td><td>1</td><td>2087645</td><td>&quot;98ce0dabf6964640b63079fbafd42c…</td><td>1</td><td>0.0</td><td>0.04</td><td>1.0</td><td>25</td><td>3.258097</td><td>0</td><td>1</td><td>&quot;TLK&quot;</td><td>0</td><td>0</td><td>0</td><td>1</td><td>1</td><td>2</td><td>160</td><td>155</td><td>29</td><td>160</td><td>155</td><td>315</td><td>15</td><td>6</td><td>16</td><td>6</td><td>9</td><td>14</td><td>2</td><td>2</td><td>0</td><td>0</td><td>1.0</td><td>1.0</td><td>9.0</td><td>18.0</td><td>1.0</td><td>0.0</td><td>1</td><td>&quot;KV&quot;</td><td>&quot;KV&quot;</td><td>0</td><td>0</td><td>1</td><td>&quot;YK2&quot;</td><td>1</td><td>0</td><td>0</td><td>1</td></tr><tr><td>1</td><td>123</td><td>2300.0</td><td>0.0</td><td>1.0</td><td>3500.0</td><td>0.0</td><td>1.0</td><td>1.0</td><td>1</td><td>2087645</td><td>&quot;98ce0dabf6964640b63079fbafd42c…</td><td>0</td><td>4.166667</td><td>0.08</td><td>3.028015</td><td>25</td><td>3.258097</td><td>1</td><td>1</td><td>&quot;TLK&quot;</td><td>0</td><td>0</td><td>0</td><td>2</td><td>2</td><td>4</td><td>250</td><td>245</td><td>29</td><td>445</td><td>505</td><td>950</td><td>9</td><td>6</td><td>14</td><td>6</td><td>22</td><td>8</td><td>2</td><td>3</td><td>1</td><td>1</td><td>1.0</td><td>1.0</td><td>4.0</td><td>26.0</td><td>1.0</td><td>0.0</td><td>1</td><td>&quot;S7&quot;</td><td>&quot;S7&quot;</td><td>1</td><td>1</td><td>1</td><td>&quot;E70&quot;</td><td>1</td><td>0</td><td>0</td><td>1</td></tr><tr><td>2</td><td>0</td><td>2300.0</td><td>0.0</td><td>1.0</td><td>3500.0</td><td>0.0</td><td>1.0</td><td>1.0</td><td>1</td><td>2087645</td><td>&quot;98ce0dabf6964640b63079fbafd42c…</td><td>0</td><td>29.166667</td><td>0.32</td><td>3.18023</td><td>25</td><td>3.258097</td><td>0</td><td>1</td><td>&quot;TLK&quot;</td><td>0</td><td>0</td><td>0</td><td>2</td><td>2</td><td>4</td><td>250</td><td>245</td><td>29</td><td>445</td><td>505</td><td>950</td><td>9</td><td>6</td><td>14</td><td>6</td><td>22</td><td>8</td><td>2</td><td>3</td><td>1</td><td>1</td><td>1.0</td><td>1.0</td><td>4.0</td><td>26.0</td><td>1.0</td><td>0.0</td><td>1</td><td>&quot;S7&quot;</td><td>&quot;S7&quot;</td><td>1</td><td>1</td><td>1</td><td>&quot;E70&quot;</td><td>1</td><td>0</td><td>0</td><td>1</td></tr><tr><td>3</td><td>123</td><td>0.0</td><td>0.0</td><td>1.0</td><td>0.0</td><td>0.0</td><td>1.0</td><td>1.0</td><td>1</td><td>2087645</td><td>&quot;98ce0dabf6964640b63079fbafd42c…</td><td>0</td><td>54.166667</td><td>0.56</td><td>4.849562</td><td>25</td><td>3.258097</td><td>1</td><td>1</td><td>&quot;TLK&quot;</td><td>0</td><td>0</td><td>0</td><td>2</td><td>2</td><td>4</td><td>250</td><td>245</td><td>29</td><td>445</td><td>505</td><td>950</td><td>9</td><td>6</td><td>14</td><td>6</td><td>22</td><td>8</td><td>2</td><td>3</td><td>0</td><td>0</td><td>1.0</td><td>1.0</td><td>4.0</td><td>26.0</td><td>1.0</td><td>0.0</td><td>1</td><td>&quot;S7&quot;</td><td>&quot;S7&quot;</td><td>1</td><td>1</td><td>1</td><td>&quot;E70&quot;</td><td>1</td><td>0</td><td>0</td><td>1</td></tr><tr><td>4</td><td>0</td><td>0.0</td><td>0.0</td><td>1.0</td><td>0.0</td><td>0.0</td><td>1.0</td><td>1.0</td><td>1</td><td>2087645</td><td>&quot;98ce0dabf6964640b63079fbafd42c…</td><td>0</td><td>79.166667</td><td>0.8</td><td>5.097726</td><td>25</td><td>3.258097</td><td>0</td><td>1</td><td>&quot;TLK&quot;</td><td>0</td><td>0</td><td>0</td><td>2</td><td>2</td><td>4</td><td>250</td><td>245</td><td>29</td><td>445</td><td>505</td><td>950</td><td>9</td><td>6</td><td>14</td><td>6</td><td>22</td><td>8</td><td>2</td><td>3</td><td>0</td><td>0</td><td>1.0</td><td>1.0</td><td>4.0</td><td>26.0</td><td>1.0</td><td>0.0</td><td>1</td><td>&quot;S7&quot;</td><td>&quot;S7&quot;</td><td>1</td><td>1</td><td>1</td><td>&quot;E70&quot;</td><td>1</td><td>0</td><td>0</td><td>1</td></tr><tr><td>&hellip;</td><td>&hellip;</td><td>&hellip;</td><td>&hellip;</td><td>&hellip;</td><td>&hellip;</td><td>&hellip;</td><td>&hellip;</td><td>&hellip;</td><td>&hellip;</td><td>&hellip;</td><td>&hellip;</td><td>&hellip;</td><td>&hellip;</td><td>&hellip;</td><td>&hellip;</td><td>&hellip;</td><td>&hellip;</td><td>&hellip;</td><td>&hellip;</td><td>&hellip;</td><td>&hellip;</td><td>&hellip;</td><td>&hellip;</td><td>&hellip;</td><td>&hellip;</td><td>&hellip;</td><td>&hellip;</td><td>&hellip;</td><td>&hellip;</td><td>&hellip;</td><td>&hellip;</td><td>&hellip;</td><td>&hellip;</td><td>&hellip;</td><td>&hellip;</td><td>&hellip;</td><td>&hellip;</td><td>&hellip;</td><td>&hellip;</td><td>&hellip;</td><td>&hellip;</td><td>&hellip;</td><td>&hellip;</td><td>&hellip;</td><td>&hellip;</td><td>&hellip;</td><td>&hellip;</td><td>&hellip;</td><td>&hellip;</td><td>&hellip;</td><td>&hellip;</td><td>&hellip;</td><td>&hellip;</td><td>&hellip;</td><td>&hellip;</td><td>&hellip;</td><td>&hellip;</td><td>&hellip;</td><td>&hellip;</td></tr><tr><td>144</td><td>0</td><td>2000.0</td><td>0.0</td><td>1.0</td><td>0.0</td><td>0.0</td><td>0.0</td><td>1.0</td><td>1</td><td>2503394</td><td>&quot;e109b50aca4a43908dd146c55733e3…</td><td>0</td><td>9.375</td><td>0.121212</td><td>1.512091</td><td>6334</td><td>8.753845</td><td>0</td><td>0</td><td>&quot;KJA&quot;</td><td>0</td><td>0</td><td>0</td><td>1</td><td>0</td><td>1</td><td>135</td><td>0</td><td>6</td><td>135</td><td>0</td><td>135</td><td>11</td><td>4</td><td>14</td><td>4</td><td>0</td><td>0</td><td>0</td><td>0</td><td>1</td><td>0</td><td>1.0</td><td>1.0</td><td>5.0</td><td>5.0</td><td>1.0</td><td>0.0</td><td>1</td><td>&quot;UT&quot;</td><td>&quot;UT&quot;</td><td>0</td><td>0</td><td>1</td><td>&quot;AT7&quot;</td><td>1</td><td>0</td><td>0</td><td>0</td></tr><tr><td>145</td><td>0</td><td>2000.0</td><td>0.0</td><td>1.0</td><td>2000.0</td><td>0.0</td><td>1.0</td><td>1.0</td><td>1</td><td>2503394</td><td>&quot;e109b50aca4a43908dd146c55733e3…</td><td>0</td><td>18.75</td><td>0.212121</td><td>2.422475</td><td>6334</td><td>8.753845</td><td>0</td><td>0</td><td>&quot;KJA&quot;</td><td>0</td><td>0</td><td>0</td><td>1</td><td>0</td><td>1</td><td>135</td><td>0</td><td>6</td><td>135</td><td>0</td><td>135</td><td>11</td><td>4</td><td>14</td><td>4</td><td>0</td><td>0</td><td>0</td><td>0</td><td>1</td><td>1</td><td>1.0</td><td>1.0</td><td>5.0</td><td>5.0</td><td>1.0</td><td>0.0</td><td>1</td><td>&quot;UT&quot;</td><td>&quot;UT&quot;</td><td>0</td><td>0</td><td>1</td><td>&quot;AT7&quot;</td><td>1</td><td>0</td><td>0</td><td>0</td></tr><tr><td>146</td><td>101</td><td>4600.0</td><td>0.0</td><td>1.0</td><td>0.0</td><td>0.0</td><td>0.0</td><td>1.0</td><td>1</td><td>2503394</td><td>&quot;e109b50aca4a43908dd146c55733e3…</td><td>0</td><td>3.125</td><td>0.060606</td><td>1.256615</td><td>6334</td><td>8.753845</td><td>1</td><td>0</td><td>&quot;KJA&quot;</td><td>0</td><td>0</td><td>0</td><td>1</td><td>0</td><td>1</td><td>105</td><td>0</td><td>6</td><td>105</td><td>0</td><td>105</td><td>8</td><td>4</td><td>11</td><td>4</td><td>0</td><td>0</td><td>0</td><td>0</td><td>1</td><td>0</td><td>1.0</td><td>1.0</td><td>9.0</td><td>9.0</td><td>0.0</td><td>0.0</td><td>2</td><td>&quot;SU&quot;</td><td>&quot;SU&quot;</td><td>0</td><td>0</td><td>1</td><td>&quot;SU9&quot;</td><td>1</td><td>0</td><td>0</td><td>0</td></tr><tr><td>147</td><td>101</td><td>4600.0</td><td>0.0</td><td>1.0</td><td>4600.0</td><td>0.0</td><td>1.0</td><td>1.0</td><td>1</td><td>2503394</td><td>&quot;e109b50aca4a43908dd146c55733e3…</td><td>0</td><td>12.5</td><td>0.151515</td><td>1.680512</td><td>6334</td><td>8.753845</td><td>1</td><td>0</td><td>&quot;KJA&quot;</td><td>0</td><td>0</td><td>0</td><td>1</td><td>0</td><td>1</td><td>105</td><td>0</td><td>6</td><td>105</td><td>0</td><td>105</td><td>8</td><td>4</td><td>11</td><td>4</td><td>0</td><td>0</td><td>0</td><td>0</td><td>1</td><td>1</td><td>1.0</td><td>1.0</td><td>9.0</td><td>9.0</td><td>1.0</td><td>0.0</td><td>2</td><td>&quot;SU&quot;</td><td>&quot;SU&quot;</td><td>0</td><td>0</td><td>1</td><td>&quot;SU9&quot;</td><td>1</td><td>0</td><td>0</td><td>0</td></tr><tr><td>148</td><td>101</td><td>0.0</td><td>0.0</td><td>1.0</td><td>0.0</td><td>0.0</td><td>1.0</td><td>0.0</td><td>1</td><td>2503394</td><td>&quot;e109b50aca4a43908dd146c55733e3…</td><td>0</td><td>25.0</td><td>0.272727</td><td>2.755903</td><td>6334</td><td>8.753845</td><td>1</td><td>0</td><td>&quot;KJA&quot;</td><td>0</td><td>0</td><td>0</td><td>1</td><td>0</td><td>1</td><td>105</td><td>0</td><td>6</td><td>105</td><td>0</td><td>105</td><td>8</td><td>4</td><td>11</td><td>4</td><td>0</td><td>0</td><td>0</td><td>0</td><td>0</td><td>0</td><td>1.0</td><td>1.0</td><td>9.0</td><td>9.0</td><td>2.0</td><td>0.0</td><td>2</td><td>&quot;SU&quot;</td><td>&quot;SU&quot;</td><td>0</td><td>0</td><td>1</td><td>&quot;SU9&quot;</td><td>1</td><td>0</td><td>0</td><td>0</td></tr></tbody></table></div>"
      ]
     },
     "execution_count": 11,
     "metadata": {},
     "output_type": "execute_result"
    }
   ],
   "execution_count": 11
  },
  {
   "metadata": {
    "ExecuteTime": {
     "end_time": "2025-09-02T01:22:46.601506Z",
     "start_time": "2025-09-02T01:22:40.170907Z"
    }
   },
   "cell_type": "code",
   "source": [
    "# Save flight features for train data\n",
    "train_df.write_parquet('data/train_flight_features.parquet')"
   ],
   "id": "a3403653caec0baf",
   "outputs": [],
   "execution_count": 12
  },
  {
   "metadata": {},
   "cell_type": "markdown",
   "source": [
    "### Prepare Training Data\n",
    "\n",
    "Now combining customer features with clustering segmentation results and flight features"
   ],
   "id": "5108e633dd82e57b"
  },
  {
   "metadata": {
    "ExecuteTime": {
     "end_time": "2025-09-02T01:22:53.563216Z",
     "start_time": "2025-09-02T01:22:53.556304Z"
    }
   },
   "cell_type": "code",
   "source": [
    "def interactive_features()  -> List[pl.Expr]:\n",
    "    return [\n",
    "        (pl.col('is_daytime') * (1.0 - pl.col('night_flight_preference').fill_null(0.5))).alias('daytime_alignment'),\n",
    "        (pl.col('is_weekend') * pl.col('weekend_travel_rate').fill_null(0.5)).alias('weekend_alignment'),\n",
    "        (pl.col('price_rank_pct') * pl.col('price_position_preference').fill_null(0.5)).alias('price_preference_match'),\n",
    "        (pl.col('primary_carrier') == pl.col('most_common_carrier').fill_null('unknown')).cast(pl.Int8).alias('carrier_loyalty_match'),\n",
    "    ]\n",
    "\n",
    "def prepare_combined_data(flight_features, cust_features):\n",
    "    if not isinstance(cust_features, pl.LazyFrame):\n",
    "        cust_features = cust_features.lazy()\n",
    "\n",
    "    # Join the customer features with the flight features, removing outlier profiles\n",
    "    flight_features = (\n",
    "        flight_features.lazy()\n",
    "        .join(cust_features, on='profileId', how='inner').drop(pl.col('profileId'))\n",
    "        .with_columns([\n",
    "            *interactive_features(),  # Additional interactive features between customer and flight search data sets\n",
    "        ])\n",
    "        .collect()\n",
    "    )\n",
    "\n",
    "    return flight_features"
   ],
   "id": "fbc1a29ddd9de297",
   "outputs": [],
   "execution_count": 13
  },
  {
   "metadata": {
    "ExecuteTime": {
     "end_time": "2025-09-02T01:23:09.942288Z",
     "start_time": "2025-09-02T01:23:08.242659Z"
    }
   },
   "cell_type": "code",
   "source": [
    "# Prepare training data by combining customer features with flight features\n",
    "train_df = prepare_combined_data(train_df, pl.scan_parquet('data/train_customer_features.parquet'))  # loading cust_features lazy"
   ],
   "id": "bffcceab88541a57",
   "outputs": [],
   "execution_count": 14
  },
  {
   "metadata": {
    "ExecuteTime": {
     "end_time": "2025-09-02T01:23:13.539166Z",
     "start_time": "2025-09-02T01:23:13.527656Z"
    }
   },
   "cell_type": "code",
   "source": "train_df.head(100)",
   "id": "cc1bf20f72dfb0a",
   "outputs": [
    {
     "data": {
      "text/plain": [
       "shape: (100, 121)\n",
       "┌─────┬────────────┬────────────┬────────────┬───┬────────────┬────────────┬───────────┬───────────┐\n",
       "│ Id  ┆ corporateT ┆ miniRules0 ┆ miniRules0 ┆ … ┆ daytime_al ┆ weekend_al ┆ price_pre ┆ carrier_l │\n",
       "│ --- ┆ ariffCode  ┆ _monetaryA ┆ _percentag ┆   ┆ ignment    ┆ ignment    ┆ ference_m ┆ oyalty_ma │\n",
       "│ i64 ┆ ---        ┆ mount      ┆ e          ┆   ┆ ---        ┆ ---        ┆ atch      ┆ tch       │\n",
       "│     ┆ i64        ┆ ---        ┆ ---        ┆   ┆ f64        ┆ f64        ┆ ---       ┆ ---       │\n",
       "│     ┆            ┆ f64        ┆ f64        ┆   ┆            ┆            ┆ f64       ┆ i8        │\n",
       "╞═════╪════════════╪════════════╪════════════╪═══╪════════════╪════════════╪═══════════╪═══════════╡\n",
       "│ 0   ┆ 0          ┆ 0.0        ┆ 0.0        ┆ … ┆ 1.0        ┆ 0.0        ┆ 1.80224   ┆ 0         │\n",
       "│ 1   ┆ 123        ┆ 2300.0     ┆ 0.0        ┆ … ┆ 1.0        ┆ 0.0        ┆ 3.60448   ┆ 1         │\n",
       "│ 2   ┆ 0          ┆ 2300.0     ┆ 0.0        ┆ … ┆ 1.0        ┆ 0.0        ┆ 14.417919 ┆ 1         │\n",
       "│ 3   ┆ 123        ┆ 0.0        ┆ 0.0        ┆ … ┆ 1.0        ┆ 0.0        ┆ 25.231359 ┆ 1         │\n",
       "│ 4   ┆ 0          ┆ 0.0        ┆ 0.0        ┆ … ┆ 1.0        ┆ 0.0        ┆ 36.044799 ┆ 1         │\n",
       "│ …   ┆ …          ┆ …          ┆ …          ┆ … ┆ …          ┆ …          ┆ …         ┆ …         │\n",
       "│ 144 ┆ 0          ┆ 2000.0     ┆ 0.0        ┆ … ┆ 0.8125     ┆ 0.0        ┆ 5.801035  ┆ 0         │\n",
       "│ 145 ┆ 0          ┆ 2000.0     ┆ 0.0        ┆ … ┆ 0.8125     ┆ 0.0        ┆ 10.151811 ┆ 0         │\n",
       "│ 146 ┆ 101        ┆ 4600.0     ┆ 0.0        ┆ … ┆ 0.8125     ┆ 0.0        ┆ 2.900517  ┆ 0         │\n",
       "│ 147 ┆ 101        ┆ 4600.0     ┆ 0.0        ┆ … ┆ 0.8125     ┆ 0.0        ┆ 7.251294  ┆ 0         │\n",
       "│ 148 ┆ 101        ┆ 0.0        ┆ 0.0        ┆ … ┆ 0.8125     ┆ 0.0        ┆ 13.052329 ┆ 0         │\n",
       "└─────┴────────────┴────────────┴────────────┴───┴────────────┴────────────┴───────────┴───────────┘"
      ],
      "text/html": [
       "<div><style>\n",
       ".dataframe > thead > tr,\n",
       ".dataframe > tbody > tr {\n",
       "  text-align: right;\n",
       "  white-space: pre-wrap;\n",
       "}\n",
       "</style>\n",
       "<small>shape: (100, 121)</small><table border=\"1\" class=\"dataframe\"><thead><tr><th>Id</th><th>corporateTariffCode</th><th>miniRules0_monetaryAmount</th><th>miniRules0_percentage</th><th>miniRules0_statusInfos</th><th>miniRules1_monetaryAmount</th><th>miniRules1_percentage</th><th>miniRules1_statusInfos</th><th>pricingInfo_isAccessTP</th><th>pricingInfo_passengerCount</th><th>ranker_id</th><th>selected</th><th>price_percentile</th><th>price_rank_pct</th><th>price_ratio_to_min</th><th>route_popularity</th><th>route_popularity_log</th><th>is_access3D</th><th>is_roundtrip</th><th>route_origin</th><th>origin_is_major_hub</th><th>destination_is_major_hub</th><th>includes_major_hub</th><th>leg0_num_segments</th><th>leg1_num_segments</th><th>total_segments</th><th>leg0_flight_time_min</th><th>leg1_flight_time_min</th><th>booking_lead_days</th><th>leg0_duration_minutes</th><th>leg1_duration_minutes</th><th>trip_duration_minutes</th><th>leg0_departure_hour</th><th>leg0_departure_weekday</th><th>leg0_arrival_hour</th><th>leg0_arrival_weekday</th><th>leg1_departure_hour</th><th>&hellip;</th><th>route_loyalty</th><th>hub_preference</th><th>short_haul_preference</th><th>connection_tolerance</th><th>preferred_duration_quartile</th><th>price_to_duration_sensitivity</th><th>avg_price_per_minute</th><th>price_per_minute_variance</th><th>price_position_preference</th><th>premium_economy_preference</th><th>consistent_price_tier</th><th>preferred_price_tier</th><th>baggage_qty_preference</th><th>baggage_weight_preference</th><th>loyalty_program_utilization</th><th>convenience_priority_score</th><th>loyalty_vs_price_index</th><th>planning_consistency_score</th><th>luxury_index</th><th>search_intensity_per_route</th><th>lead_time_variance</th><th>lead_time_skew</th><th>carrier_diversity</th><th>airport_diversity</th><th>cabin_class_range</th><th>customer_tier</th><th>vip_search_intensity</th><th>vip_carrier_diversity</th><th>vip_cabin_preference</th><th>corp_search_volume</th><th>corp_roundtrip_pref</th><th>corp_planning_variance</th><th>customer_segment</th><th>daytime_alignment</th><th>weekend_alignment</th><th>price_preference_match</th><th>carrier_loyalty_match</th></tr><tr><td>i64</td><td>i64</td><td>f64</td><td>f64</td><td>f64</td><td>f64</td><td>f64</td><td>f64</td><td>f64</td><td>i64</td><td>str</td><td>i64</td><td>f64</td><td>f64</td><td>f64</td><td>u32</td><td>f64</td><td>i32</td><td>i8</td><td>str</td><td>i32</td><td>i32</td><td>i32</td><td>u32</td><td>u32</td><td>u32</td><td>i32</td><td>i32</td><td>i32</td><td>i32</td><td>i32</td><td>i32</td><td>i8</td><td>i8</td><td>i8</td><td>i8</td><td>i8</td><td>&hellip;</td><td>f64</td><td>f64</td><td>f64</td><td>f64</td><td>i32</td><td>f64</td><td>f64</td><td>f64</td><td>f64</td><td>f64</td><td>f64</td><td>i32</td><td>f64</td><td>f64</td><td>f64</td><td>f64</td><td>f64</td><td>f64</td><td>f64</td><td>f64</td><td>i32</td><td>f64</td><td>f64</td><td>f64</td><td>f64</td><td>i8</td><td>f64</td><td>f64</td><td>f64</td><td>i64</td><td>f64</td><td>i32</td><td>i64</td><td>f64</td><td>f64</td><td>f64</td><td>i8</td></tr></thead><tbody><tr><td>0</td><td>0</td><td>0.0</td><td>0.0</td><td>0.0</td><td>0.0</td><td>0.0</td><td>0.0</td><td>1.0</td><td>1</td><td>&quot;98ce0dabf6964640b63079fbafd42c…</td><td>1</td><td>0.0</td><td>0.04</td><td>1.0</td><td>25</td><td>3.258097</td><td>0</td><td>1</td><td>&quot;TLK&quot;</td><td>0</td><td>0</td><td>0</td><td>1</td><td>1</td><td>2</td><td>160</td><td>155</td><td>29</td><td>160</td><td>155</td><td>315</td><td>15</td><td>6</td><td>16</td><td>6</td><td>9</td><td>&hellip;</td><td>0.962264</td><td>0.0</td><td>0.0</td><td>1.981132</td><td>1</td><td>-0.253891</td><td>93.370333</td><td>68.147027</td><td>45.055998</td><td>0.141509</td><td>0.619049</td><td>1</td><td>1.018868</td><td>0.0</td><td>1.0</td><td>-32.58008</td><td>5.4944</td><td>0.052632</td><td>45.358188</td><td>26.5</td><td>18</td><td>1.433237</td><td>0.056604</td><td>0.028302</td><td>1.0</td><td>1</td><td>0.0</td><td>0.0</td><td>0.0</td><td>106</td><td>0.235849</td><td>18</td><td>5</td><td>1.0</td><td>0.0</td><td>1.80224</td><td>0</td></tr><tr><td>1</td><td>123</td><td>2300.0</td><td>0.0</td><td>1.0</td><td>3500.0</td><td>0.0</td><td>1.0</td><td>1.0</td><td>1</td><td>&quot;98ce0dabf6964640b63079fbafd42c…</td><td>0</td><td>4.166667</td><td>0.08</td><td>3.028015</td><td>25</td><td>3.258097</td><td>1</td><td>1</td><td>&quot;TLK&quot;</td><td>0</td><td>0</td><td>0</td><td>2</td><td>2</td><td>4</td><td>250</td><td>245</td><td>29</td><td>445</td><td>505</td><td>950</td><td>9</td><td>6</td><td>14</td><td>6</td><td>22</td><td>&hellip;</td><td>0.962264</td><td>0.0</td><td>0.0</td><td>1.981132</td><td>1</td><td>-0.253891</td><td>93.370333</td><td>68.147027</td><td>45.055998</td><td>0.141509</td><td>0.619049</td><td>1</td><td>1.018868</td><td>0.0</td><td>1.0</td><td>-32.58008</td><td>5.4944</td><td>0.052632</td><td>45.358188</td><td>26.5</td><td>18</td><td>1.433237</td><td>0.056604</td><td>0.028302</td><td>1.0</td><td>1</td><td>0.0</td><td>0.0</td><td>0.0</td><td>106</td><td>0.235849</td><td>18</td><td>5</td><td>1.0</td><td>0.0</td><td>3.60448</td><td>1</td></tr><tr><td>2</td><td>0</td><td>2300.0</td><td>0.0</td><td>1.0</td><td>3500.0</td><td>0.0</td><td>1.0</td><td>1.0</td><td>1</td><td>&quot;98ce0dabf6964640b63079fbafd42c…</td><td>0</td><td>29.166667</td><td>0.32</td><td>3.18023</td><td>25</td><td>3.258097</td><td>0</td><td>1</td><td>&quot;TLK&quot;</td><td>0</td><td>0</td><td>0</td><td>2</td><td>2</td><td>4</td><td>250</td><td>245</td><td>29</td><td>445</td><td>505</td><td>950</td><td>9</td><td>6</td><td>14</td><td>6</td><td>22</td><td>&hellip;</td><td>0.962264</td><td>0.0</td><td>0.0</td><td>1.981132</td><td>1</td><td>-0.253891</td><td>93.370333</td><td>68.147027</td><td>45.055998</td><td>0.141509</td><td>0.619049</td><td>1</td><td>1.018868</td><td>0.0</td><td>1.0</td><td>-32.58008</td><td>5.4944</td><td>0.052632</td><td>45.358188</td><td>26.5</td><td>18</td><td>1.433237</td><td>0.056604</td><td>0.028302</td><td>1.0</td><td>1</td><td>0.0</td><td>0.0</td><td>0.0</td><td>106</td><td>0.235849</td><td>18</td><td>5</td><td>1.0</td><td>0.0</td><td>14.417919</td><td>1</td></tr><tr><td>3</td><td>123</td><td>0.0</td><td>0.0</td><td>1.0</td><td>0.0</td><td>0.0</td><td>1.0</td><td>1.0</td><td>1</td><td>&quot;98ce0dabf6964640b63079fbafd42c…</td><td>0</td><td>54.166667</td><td>0.56</td><td>4.849562</td><td>25</td><td>3.258097</td><td>1</td><td>1</td><td>&quot;TLK&quot;</td><td>0</td><td>0</td><td>0</td><td>2</td><td>2</td><td>4</td><td>250</td><td>245</td><td>29</td><td>445</td><td>505</td><td>950</td><td>9</td><td>6</td><td>14</td><td>6</td><td>22</td><td>&hellip;</td><td>0.962264</td><td>0.0</td><td>0.0</td><td>1.981132</td><td>1</td><td>-0.253891</td><td>93.370333</td><td>68.147027</td><td>45.055998</td><td>0.141509</td><td>0.619049</td><td>1</td><td>1.018868</td><td>0.0</td><td>1.0</td><td>-32.58008</td><td>5.4944</td><td>0.052632</td><td>45.358188</td><td>26.5</td><td>18</td><td>1.433237</td><td>0.056604</td><td>0.028302</td><td>1.0</td><td>1</td><td>0.0</td><td>0.0</td><td>0.0</td><td>106</td><td>0.235849</td><td>18</td><td>5</td><td>1.0</td><td>0.0</td><td>25.231359</td><td>1</td></tr><tr><td>4</td><td>0</td><td>0.0</td><td>0.0</td><td>1.0</td><td>0.0</td><td>0.0</td><td>1.0</td><td>1.0</td><td>1</td><td>&quot;98ce0dabf6964640b63079fbafd42c…</td><td>0</td><td>79.166667</td><td>0.8</td><td>5.097726</td><td>25</td><td>3.258097</td><td>0</td><td>1</td><td>&quot;TLK&quot;</td><td>0</td><td>0</td><td>0</td><td>2</td><td>2</td><td>4</td><td>250</td><td>245</td><td>29</td><td>445</td><td>505</td><td>950</td><td>9</td><td>6</td><td>14</td><td>6</td><td>22</td><td>&hellip;</td><td>0.962264</td><td>0.0</td><td>0.0</td><td>1.981132</td><td>1</td><td>-0.253891</td><td>93.370333</td><td>68.147027</td><td>45.055998</td><td>0.141509</td><td>0.619049</td><td>1</td><td>1.018868</td><td>0.0</td><td>1.0</td><td>-32.58008</td><td>5.4944</td><td>0.052632</td><td>45.358188</td><td>26.5</td><td>18</td><td>1.433237</td><td>0.056604</td><td>0.028302</td><td>1.0</td><td>1</td><td>0.0</td><td>0.0</td><td>0.0</td><td>106</td><td>0.235849</td><td>18</td><td>5</td><td>1.0</td><td>0.0</td><td>36.044799</td><td>1</td></tr><tr><td>&hellip;</td><td>&hellip;</td><td>&hellip;</td><td>&hellip;</td><td>&hellip;</td><td>&hellip;</td><td>&hellip;</td><td>&hellip;</td><td>&hellip;</td><td>&hellip;</td><td>&hellip;</td><td>&hellip;</td><td>&hellip;</td><td>&hellip;</td><td>&hellip;</td><td>&hellip;</td><td>&hellip;</td><td>&hellip;</td><td>&hellip;</td><td>&hellip;</td><td>&hellip;</td><td>&hellip;</td><td>&hellip;</td><td>&hellip;</td><td>&hellip;</td><td>&hellip;</td><td>&hellip;</td><td>&hellip;</td><td>&hellip;</td><td>&hellip;</td><td>&hellip;</td><td>&hellip;</td><td>&hellip;</td><td>&hellip;</td><td>&hellip;</td><td>&hellip;</td><td>&hellip;</td><td>&hellip;</td><td>&hellip;</td><td>&hellip;</td><td>&hellip;</td><td>&hellip;</td><td>&hellip;</td><td>&hellip;</td><td>&hellip;</td><td>&hellip;</td><td>&hellip;</td><td>&hellip;</td><td>&hellip;</td><td>&hellip;</td><td>&hellip;</td><td>&hellip;</td><td>&hellip;</td><td>&hellip;</td><td>&hellip;</td><td>&hellip;</td><td>&hellip;</td><td>&hellip;</td><td>&hellip;</td><td>&hellip;</td><td>&hellip;</td><td>&hellip;</td><td>&hellip;</td><td>&hellip;</td><td>&hellip;</td><td>&hellip;</td><td>&hellip;</td><td>&hellip;</td><td>&hellip;</td><td>&hellip;</td><td>&hellip;</td><td>&hellip;</td><td>&hellip;</td><td>&hellip;</td><td>&hellip;</td></tr><tr><td>144</td><td>0</td><td>2000.0</td><td>0.0</td><td>1.0</td><td>0.0</td><td>0.0</td><td>0.0</td><td>1.0</td><td>1</td><td>&quot;e109b50aca4a43908dd146c55733e3…</td><td>0</td><td>9.375</td><td>0.121212</td><td>1.512091</td><td>6334</td><td>8.753845</td><td>0</td><td>0</td><td>&quot;KJA&quot;</td><td>0</td><td>0</td><td>0</td><td>1</td><td>0</td><td>1</td><td>135</td><td>0</td><td>6</td><td>135</td><td>0</td><td>135</td><td>11</td><td>4</td><td>14</td><td>4</td><td>0</td><td>&hellip;</td><td>0.9375</td><td>0.0</td><td>0.0</td><td>1.703125</td><td>1</td><td>0.585742</td><td>74.945627</td><td>62.844359</td><td>47.858538</td><td>0.1640625</td><td>0.615422</td><td>1</td><td>0.737705</td><td>20.0</td><td>0.0</td><td>-41.868896</td><td>-4.785854</td><td>0.142857</td><td>52.835519</td><td>16.0</td><td>6</td><td>0.729167</td><td>0.078125</td><td>0.046875</td><td>3.0</td><td>1</td><td>0.0</td><td>0.0</td><td>0.0</td><td>64</td><td>0.0</td><td>6</td><td>3</td><td>0.8125</td><td>0.0</td><td>5.801035</td><td>0</td></tr><tr><td>145</td><td>0</td><td>2000.0</td><td>0.0</td><td>1.0</td><td>2000.0</td><td>0.0</td><td>1.0</td><td>1.0</td><td>1</td><td>&quot;e109b50aca4a43908dd146c55733e3…</td><td>0</td><td>18.75</td><td>0.212121</td><td>2.422475</td><td>6334</td><td>8.753845</td><td>0</td><td>0</td><td>&quot;KJA&quot;</td><td>0</td><td>0</td><td>0</td><td>1</td><td>0</td><td>1</td><td>135</td><td>0</td><td>6</td><td>135</td><td>0</td><td>135</td><td>11</td><td>4</td><td>14</td><td>4</td><td>0</td><td>&hellip;</td><td>0.9375</td><td>0.0</td><td>0.0</td><td>1.703125</td><td>1</td><td>0.585742</td><td>74.945627</td><td>62.844359</td><td>47.858538</td><td>0.1640625</td><td>0.615422</td><td>1</td><td>0.737705</td><td>20.0</td><td>0.0</td><td>-41.868896</td><td>-4.785854</td><td>0.142857</td><td>52.835519</td><td>16.0</td><td>6</td><td>0.729167</td><td>0.078125</td><td>0.046875</td><td>3.0</td><td>1</td><td>0.0</td><td>0.0</td><td>0.0</td><td>64</td><td>0.0</td><td>6</td><td>3</td><td>0.8125</td><td>0.0</td><td>10.151811</td><td>0</td></tr><tr><td>146</td><td>101</td><td>4600.0</td><td>0.0</td><td>1.0</td><td>0.0</td><td>0.0</td><td>0.0</td><td>1.0</td><td>1</td><td>&quot;e109b50aca4a43908dd146c55733e3…</td><td>0</td><td>3.125</td><td>0.060606</td><td>1.256615</td><td>6334</td><td>8.753845</td><td>1</td><td>0</td><td>&quot;KJA&quot;</td><td>0</td><td>0</td><td>0</td><td>1</td><td>0</td><td>1</td><td>105</td><td>0</td><td>6</td><td>105</td><td>0</td><td>105</td><td>8</td><td>4</td><td>11</td><td>4</td><td>0</td><td>&hellip;</td><td>0.9375</td><td>0.0</td><td>0.0</td><td>1.703125</td><td>1</td><td>0.585742</td><td>74.945627</td><td>62.844359</td><td>47.858538</td><td>0.1640625</td><td>0.615422</td><td>1</td><td>0.737705</td><td>20.0</td><td>0.0</td><td>-41.868896</td><td>-4.785854</td><td>0.142857</td><td>52.835519</td><td>16.0</td><td>6</td><td>0.729167</td><td>0.078125</td><td>0.046875</td><td>3.0</td><td>1</td><td>0.0</td><td>0.0</td><td>0.0</td><td>64</td><td>0.0</td><td>6</td><td>3</td><td>0.8125</td><td>0.0</td><td>2.900517</td><td>0</td></tr><tr><td>147</td><td>101</td><td>4600.0</td><td>0.0</td><td>1.0</td><td>4600.0</td><td>0.0</td><td>1.0</td><td>1.0</td><td>1</td><td>&quot;e109b50aca4a43908dd146c55733e3…</td><td>0</td><td>12.5</td><td>0.151515</td><td>1.680512</td><td>6334</td><td>8.753845</td><td>1</td><td>0</td><td>&quot;KJA&quot;</td><td>0</td><td>0</td><td>0</td><td>1</td><td>0</td><td>1</td><td>105</td><td>0</td><td>6</td><td>105</td><td>0</td><td>105</td><td>8</td><td>4</td><td>11</td><td>4</td><td>0</td><td>&hellip;</td><td>0.9375</td><td>0.0</td><td>0.0</td><td>1.703125</td><td>1</td><td>0.585742</td><td>74.945627</td><td>62.844359</td><td>47.858538</td><td>0.1640625</td><td>0.615422</td><td>1</td><td>0.737705</td><td>20.0</td><td>0.0</td><td>-41.868896</td><td>-4.785854</td><td>0.142857</td><td>52.835519</td><td>16.0</td><td>6</td><td>0.729167</td><td>0.078125</td><td>0.046875</td><td>3.0</td><td>1</td><td>0.0</td><td>0.0</td><td>0.0</td><td>64</td><td>0.0</td><td>6</td><td>3</td><td>0.8125</td><td>0.0</td><td>7.251294</td><td>0</td></tr><tr><td>148</td><td>101</td><td>0.0</td><td>0.0</td><td>1.0</td><td>0.0</td><td>0.0</td><td>1.0</td><td>0.0</td><td>1</td><td>&quot;e109b50aca4a43908dd146c55733e3…</td><td>0</td><td>25.0</td><td>0.272727</td><td>2.755903</td><td>6334</td><td>8.753845</td><td>1</td><td>0</td><td>&quot;KJA&quot;</td><td>0</td><td>0</td><td>0</td><td>1</td><td>0</td><td>1</td><td>105</td><td>0</td><td>6</td><td>105</td><td>0</td><td>105</td><td>8</td><td>4</td><td>11</td><td>4</td><td>0</td><td>&hellip;</td><td>0.9375</td><td>0.0</td><td>0.0</td><td>1.703125</td><td>1</td><td>0.585742</td><td>74.945627</td><td>62.844359</td><td>47.858538</td><td>0.1640625</td><td>0.615422</td><td>1</td><td>0.737705</td><td>20.0</td><td>0.0</td><td>-41.868896</td><td>-4.785854</td><td>0.142857</td><td>52.835519</td><td>16.0</td><td>6</td><td>0.729167</td><td>0.078125</td><td>0.046875</td><td>3.0</td><td>1</td><td>0.0</td><td>0.0</td><td>0.0</td><td>64</td><td>0.0</td><td>6</td><td>3</td><td>0.8125</td><td>0.0</td><td>13.052329</td><td>0</td></tr></tbody></table></div>"
      ]
     },
     "execution_count": 15,
     "metadata": {},
     "output_type": "execute_result"
    }
   ],
   "execution_count": 15
  },
  {
   "metadata": {
    "ExecuteTime": {
     "end_time": "2025-09-02T01:23:21.852910Z",
     "start_time": "2025-09-02T01:23:21.847462Z"
    }
   },
   "cell_type": "code",
   "source": "train_df.shape",
   "id": "cc48dba264e64bd",
   "outputs": [
    {
     "data": {
      "text/plain": [
       "(12645935, 121)"
      ]
     },
     "execution_count": 16,
     "metadata": {},
     "output_type": "execute_result"
    }
   ],
   "execution_count": 16
  },
  {
   "metadata": {
    "ExecuteTime": {
     "end_time": "2025-09-02T01:24:33.806925Z",
     "start_time": "2025-09-02T01:24:26.337363Z"
    }
   },
   "cell_type": "code",
   "source": "train_df.write_parquet('data/train_combined_features.parquet')",
   "id": "4dc5e3ab74af1775",
   "outputs": [],
   "execution_count": 20
  },
  {
   "metadata": {
    "ExecuteTime": {
     "end_time": "2025-09-02T01:23:22.969296Z",
     "start_time": "2025-09-02T01:23:22.962517Z"
    }
   },
   "cell_type": "code",
   "source": [
    "def prepare_ranking_data(df):\n",
    "    # Sort the data sets for ranking\n",
    "    sort_indices = df['ranker_id'].arg_sort()\n",
    "    X = df[sort_indices]\n",
    "    y = X['selected'].to_numpy()\n",
    "\n",
    "    # Get search group sizes for chunked ranking\n",
    "    group_sizes = (\n",
    "        X\n",
    "        .group_by('ranker_id', maintain_order=True)\n",
    "        .len()\n",
    "        .select('len')\n",
    "        .to_numpy()\n",
    "        .flatten()\n",
    "    )\n",
    "\n",
    "    return X.drop(['ranker_id','selected']), y, group_sizes\n",
    "\n",
    "\n",
    "def train_lgb_ranker(X, y, group_sizes):\n",
    "    \"\"\"\n",
    "    Train LGBRanker with proper group structure\n",
    "    \"\"\"\n",
    "    categorical_features = [col for col in X.columns if not X[col].dtype.is_numeric()]\n",
    "    X = X.with_columns([pl.col(col).cast(pl.Categorical) for col in categorical_features])\n",
    "\n",
    "    # Convert to pandas for LightGBM compatibility\n",
    "    X = X.to_pandas()\n",
    "\n",
    "    train_data = lgb.Dataset(\n",
    "        X, label=y,\n",
    "        group=group_sizes,  # This tells LGB how many samples per search\n",
    "        categorical_feature=categorical_features\n",
    "    )\n",
    "\n",
    "    params = {\n",
    "        'objective': 'lambdarank',\n",
    "        'metric': 'ndcg',\n",
    "        'ndcg_eval_at': [3],\n",
    "        'boosting_type': 'gbdt',\n",
    "        'num_leaves': 255,\n",
    "        'learning_rate': 0.1,\n",
    "        'feature_fraction': 0.8,\n",
    "        'bagging_fraction': 0.8,\n",
    "        'bagging_freq': 5,\n",
    "        'min_data_in_leaf': 50,\n",
    "        'num_threads': -1,\n",
    "        'verbose': -1\n",
    "    }\n",
    "\n",
    "    model = lgb.train(\n",
    "        params,\n",
    "        train_data,\n",
    "        num_boost_round=1000,\n",
    "        # callbacks=[lgb.early_stopping(100), lgb.log_evaluation(100)]\n",
    "        callbacks=[lgb.log_evaluation(100)]\n",
    "    )\n",
    "\n",
    "    return model"
   ],
   "id": "57548739a11c23f9",
   "outputs": [],
   "execution_count": 17
  },
  {
   "metadata": {
    "ExecuteTime": {
     "end_time": "2025-09-02T01:23:25.090750Z",
     "start_time": "2025-09-02T01:23:25.081398Z"
    }
   },
   "cell_type": "code",
   "source": [
    "def calculate_hit_rate_at_k(y_true, y_pred, groups, k=3):\n",
    "    \"\"\"\n",
    "    Calculate Hit Rate @ K for ranking model\n",
    "\n",
    "    Parameters:\n",
    "    - y_true: actual binary labels (1 if selected, 0 if not)\n",
    "    - y_pred: predicted scores from ranker\n",
    "    - groups: group sizes (number of flights per search)\n",
    "    - k: number of top predictions to consider (3 in your case)\n",
    "\n",
    "    Returns:\n",
    "    - hit_rate: fraction of searches where at least 1 of top-k predictions was correct\n",
    "    \"\"\"\n",
    "    hits = 0\n",
    "    total_searches = 0\n",
    "    start_idx = 0\n",
    "\n",
    "    for group_size in groups:\n",
    "        # Extract data for this search group\n",
    "        group_true = y_true[start_idx:start_idx + group_size]\n",
    "        group_pred = y_pred[start_idx:start_idx + group_size]\n",
    "\n",
    "        # Get indices of actual selections\n",
    "        actual_selections = set(np.where(group_true == 1)[0])\n",
    "\n",
    "        # Get top-k predictions (indices sorted by prediction score)\n",
    "        top_k_indices = np.argsort(group_pred)[-k:]  # Get indices of top-k scores\n",
    "        top_k_indices = set(top_k_indices)\n",
    "\n",
    "        # Check if any top-k prediction matches actual selection\n",
    "        if len(actual_selections.intersection(top_k_indices)) > 0:\n",
    "            hits += 1\n",
    "\n",
    "        total_searches += 1\n",
    "        start_idx += group_size\n",
    "\n",
    "    hit_rate = hits / total_searches if total_searches > 0 else 0\n",
    "    return hit_rate\n",
    "\n",
    "def detailed_hit_rate_evaluation(y_true, y_pred, groups, ranker_ids=None, k=3):\n",
    "    \"\"\"\n",
    "    More detailed evaluation with additional metrics\n",
    "    \"\"\"\n",
    "    hits = 0\n",
    "    total_searches = 0\n",
    "    hit_details = []\n",
    "    start_idx = 0\n",
    "\n",
    "    for i, group_size in enumerate(groups):\n",
    "        group_true = y_true[start_idx:start_idx + group_size]\n",
    "        group_pred = y_pred[start_idx:start_idx + group_size]\n",
    "\n",
    "        # Actual selections\n",
    "        actual_selections = np.where(group_true == 1)[0]\n",
    "        num_actual_selections = len(actual_selections)\n",
    "\n",
    "        # Top-k predictions\n",
    "        top_k_indices = np.argsort(group_pred)[-k:]\n",
    "\n",
    "        # Calculate hit\n",
    "        hit = len(set(actual_selections).intersection(set(top_k_indices))) > 0\n",
    "\n",
    "        if hit:\n",
    "            hits += 1\n",
    "\n",
    "        # Store details for analysis\n",
    "        search_id = ranker_ids[i] if ranker_ids is not None else i\n",
    "        hit_details.append({\n",
    "            'search_id': search_id,\n",
    "            'group_size': group_size,\n",
    "            'num_actual_selections': num_actual_selections,\n",
    "            'hit': hit,\n",
    "            'top_k_scores': group_pred[top_k_indices].tolist(),\n",
    "            'actual_selections_scores': group_pred[actual_selections].tolist() if len(actual_selections) > 0 else []\n",
    "        })\n",
    "\n",
    "        total_searches += 1\n",
    "        start_idx += group_size\n",
    "\n",
    "    hit_rate = hits / total_searches\n",
    "\n",
    "    return hit_rate, hit_details"
   ],
   "id": "286f359e845c1fce",
   "outputs": [],
   "execution_count": 18
  },
  {
   "metadata": {
    "ExecuteTime": {
     "end_time": "2025-09-02T01:23:25.898228Z",
     "start_time": "2025-09-02T01:23:25.891797Z"
    }
   },
   "cell_type": "code",
   "source": [
    "def evaluate_model_hit_rate(model, X_val, y_val, group_sizes_val, k=3):\n",
    "    \"\"\"\n",
    "    Evaluate trained LGBRanker model using HitRate@K\n",
    "    \"\"\"\n",
    "    # Get predictions\n",
    "    y_pred = model.predict(X_val)\n",
    "\n",
    "    # Calculate hit rate\n",
    "    hit_rate = calculate_hit_rate_at_k(y_val, y_pred, group_sizes_val, k=k)\n",
    "\n",
    "    print(f\"Hit Rate @ {k}: {hit_rate:.4f}\")\n",
    "    return hit_rate\n",
    "\n",
    "def cross_validate_with_hit_rate(df, n_folds=5):\n",
    "    \"\"\"\n",
    "    Cross-validation preserving search groups and calculating HitRate@3\n",
    "    \"\"\"\n",
    "    # Get unique search IDs\n",
    "    unique_searches = df['ranker_id'].unique()\n",
    "    np.random.shuffle(unique_searches)\n",
    "\n",
    "    fold_size = len(unique_searches) // n_folds\n",
    "    hit_rates = []\n",
    "\n",
    "    for fold in range(n_folds):\n",
    "        print(f\"\\nFold {fold + 1}/{n_folds}\")\n",
    "\n",
    "        # Split search IDs\n",
    "        start_idx = fold * fold_size\n",
    "        end_idx = start_idx + fold_size if fold < n_folds - 1 else len(unique_searches)\n",
    "        val_searches = unique_searches[start_idx:end_idx]\n",
    "        train_searches = np.setdiff1d(unique_searches, val_searches)\n",
    "\n",
    "        # Split data\n",
    "        train = df[df['ranker_id'].isin(train_searches)]\n",
    "        val = df[df['ranker_id'].isin(val_searches)]\n",
    "\n",
    "        # Prepare training data\n",
    "        X_train, y_train, groups_train = prepare_ranking_data(train)\n",
    "        X_val, y_val, groups_val = prepare_ranking_data(val)\n",
    "\n",
    "        # Train model\n",
    "        model = train_lgb_ranker(X_train, y_train, groups_train)\n",
    "\n",
    "        # Evaluate\n",
    "        hit_rate = evaluate_model_hit_rate(model, X_val, y_val, groups_val)\n",
    "        hit_rates.append(hit_rate)\n",
    "\n",
    "    print(f\"\\nCross-validation results:\")\n",
    "    print(f\"Mean Hit Rate @ 3: {np.mean(hit_rates):.4f} (+/- {np.std(hit_rates)*2:.4f})\")\n",
    "    return hit_rates"
   ],
   "id": "7358fe64c007b7b5",
   "outputs": [],
   "execution_count": 19
  },
  {
   "metadata": {
    "ExecuteTime": {
     "end_time": "2025-09-01T22:29:57.067271Z",
     "start_time": "2025-09-01T22:29:57.062842Z"
    }
   },
   "cell_type": "code",
   "source": [
    "try:\n",
    "    train_df.head()\n",
    "except NameError:\n",
    "    train_df = pl.read_parquet('data/train_combined_features.parquet')\n",
    "    print(f'loaded combined features from parquet file: {train_df.shape}')"
   ],
   "id": "5ceb7c9a04ec5a16",
   "outputs": [],
   "execution_count": 40
  },
  {
   "metadata": {
    "ExecuteTime": {
     "end_time": "2025-09-02T01:25:19.177534Z",
     "start_time": "2025-09-02T01:25:16.890652Z"
    }
   },
   "cell_type": "code",
   "source": [
    "# Prepare Train data for ranking\n",
    "X, y, group_sizes = prepare_ranking_data(train_df)"
   ],
   "id": "867fa0d32504bc09",
   "outputs": [],
   "execution_count": 21
  },
  {
   "metadata": {
    "ExecuteTime": {
     "end_time": "2025-09-02T01:25:36.413125Z",
     "start_time": "2025-09-02T01:25:36.130792Z"
    }
   },
   "cell_type": "code",
   "source": [
    "# Remove the feature dataframe to free up memory\n",
    "del train_df\n",
    "gc.collect()"
   ],
   "id": "5d1e927bc981df82",
   "outputs": [
    {
     "data": {
      "text/plain": [
       "1057"
      ]
     },
     "execution_count": 22,
     "metadata": {},
     "output_type": "execute_result"
    }
   ],
   "execution_count": 22
  },
  {
   "metadata": {
    "ExecuteTime": {
     "end_time": "2025-09-02T01:39:29.688353Z",
     "start_time": "2025-09-02T01:26:37.917174Z"
    }
   },
   "cell_type": "code",
   "source": [
    "# Train model\n",
    "model = train_lgb_ranker(X, y, group_sizes)"
   ],
   "id": "e59cbf74491075f9",
   "outputs": [],
   "execution_count": 23
  },
  {
   "metadata": {
    "ExecuteTime": {
     "end_time": "2025-09-02T01:49:55.921887Z",
     "start_time": "2025-09-02T01:49:55.584986Z"
    }
   },
   "cell_type": "code",
   "source": [
    "# Save the trained flight selection model\n",
    "joblib.dump({'lgb_ranker_model': model}, 'data/lgb_ranker_model.joblib')"
   ],
   "id": "cbb676896ff718d9",
   "outputs": [
    {
     "data": {
      "text/plain": [
       "['data/lgb_ranker_model.joblib']"
      ]
     },
     "execution_count": 24,
     "metadata": {},
     "output_type": "execute_result"
    }
   ],
   "execution_count": 24
  },
  {
   "metadata": {
    "ExecuteTime": {
     "end_time": "2025-09-02T01:49:57.951311Z",
     "start_time": "2025-09-02T01:49:57.706284Z"
    }
   },
   "cell_type": "code",
   "source": [
    "del X\n",
    "del y\n",
    "del group_sizes\n",
    "gc.collect()"
   ],
   "id": "e715e737e718ef8c",
   "outputs": [
    {
     "data": {
      "text/plain": [
       "0"
      ]
     },
     "execution_count": 25,
     "metadata": {},
     "output_type": "execute_result"
    }
   ],
   "execution_count": 25
  },
  {
   "metadata": {},
   "cell_type": "markdown",
   "source": "### Prepare Testing Data",
   "id": "677226f929def51e"
  },
  {
   "metadata": {
    "ExecuteTime": {
     "end_time": "2025-09-02T01:50:17.128284Z",
     "start_time": "2025-09-02T01:50:16.446149Z"
    }
   },
   "cell_type": "code",
   "source": [
    "# Load Test data set\n",
    "try:\n",
    "    test_df.head()\n",
    "except NameError:\n",
    "    test_df = pl.read_parquet('data/test_df.parquet')\n",
    "    print(f'loaded test data set features from parquet file: {test_df.shape}')\n",
    "\n",
    "test_df.head()"
   ],
   "id": "ac4a10cd5f1cfd92",
   "outputs": [
    {
     "name": "stdout",
     "output_type": "stream",
     "text": [
      "loaded test data set features from parquet file: (3661116, 127)\n"
     ]
    },
    {
     "data": {
      "text/plain": [
       "shape: (5, 127)\n",
       "┌─────┬────────┬───────────┬─────────────────┬───┬───────┬────────────┬──────────┬─────────────────┐\n",
       "│ Id  ┆ bySelf ┆ companyID ┆ corporateTariff ┆ … ┆ taxes ┆ totalPrice ┆ selected ┆ __index_level_0 │\n",
       "│ --- ┆ ---    ┆ ---       ┆ Code            ┆   ┆ ---   ┆ ---        ┆ ---      ┆ __              │\n",
       "│ i64 ┆ bool   ┆ i64       ┆ ---             ┆   ┆ f64   ┆ f64        ┆ i64      ┆ ---             │\n",
       "│     ┆        ┆           ┆ i64             ┆   ┆       ┆            ┆          ┆ i64             │\n",
       "╞═════╪════════╪═══════════╪═════════════════╪═══╪═══════╪════════════╪══════════╪═════════════════╡\n",
       "│ 70  ┆ true   ┆ 62836     ┆ 81              ┆ … ┆ 946.0 ┆ 7246.0     ┆ 0        ┆ 70              │\n",
       "│ 71  ┆ true   ┆ 62836     ┆ 81              ┆ … ┆ 946.0 ┆ 9126.0     ┆ 1        ┆ 71              │\n",
       "│ 72  ┆ true   ┆ 62836     ┆ 81              ┆ … ┆ 946.0 ┆ 13636.0    ┆ 0        ┆ 72              │\n",
       "│ 73  ┆ true   ┆ 62836     ┆ 81              ┆ … ┆ 946.0 ┆ 26846.0    ┆ 0        ┆ 73              │\n",
       "│ 74  ┆ true   ┆ 62836     ┆ 81              ┆ … ┆ 946.0 ┆ 31876.0    ┆ 0        ┆ 74              │\n",
       "└─────┴────────┴───────────┴─────────────────┴───┴───────┴────────────┴──────────┴─────────────────┘"
      ],
      "text/html": [
       "<div><style>\n",
       ".dataframe > thead > tr,\n",
       ".dataframe > tbody > tr {\n",
       "  text-align: right;\n",
       "  white-space: pre-wrap;\n",
       "}\n",
       "</style>\n",
       "<small>shape: (5, 127)</small><table border=\"1\" class=\"dataframe\"><thead><tr><th>Id</th><th>bySelf</th><th>companyID</th><th>corporateTariffCode</th><th>frequentFlyer</th><th>nationality</th><th>isAccess3D</th><th>isVip</th><th>legs0_arrivalAt</th><th>legs0_departureAt</th><th>legs0_duration</th><th>legs0_segments0_aircraft_code</th><th>legs0_segments0_arrivalTo_airport_city_iata</th><th>legs0_segments0_arrivalTo_airport_iata</th><th>legs0_segments0_baggageAllowance_quantity</th><th>legs0_segments0_baggageAllowance_weightMeasurementType</th><th>legs0_segments0_cabinClass</th><th>legs0_segments0_departureFrom_airport_iata</th><th>legs0_segments0_duration</th><th>legs0_segments0_flightNumber</th><th>legs0_segments0_marketingCarrier_code</th><th>legs0_segments0_operatingCarrier_code</th><th>legs0_segments0_seatsAvailable</th><th>legs0_segments1_aircraft_code</th><th>legs0_segments1_arrivalTo_airport_city_iata</th><th>legs0_segments1_arrivalTo_airport_iata</th><th>legs0_segments1_baggageAllowance_quantity</th><th>legs0_segments1_baggageAllowance_weightMeasurementType</th><th>legs0_segments1_cabinClass</th><th>legs0_segments1_departureFrom_airport_iata</th><th>legs0_segments1_duration</th><th>legs0_segments1_flightNumber</th><th>legs0_segments1_marketingCarrier_code</th><th>legs0_segments1_operatingCarrier_code</th><th>legs0_segments1_seatsAvailable</th><th>legs0_segments2_aircraft_code</th><th>legs0_segments2_arrivalTo_airport_city_iata</th><th>&hellip;</th><th>legs1_segments2_baggageAllowance_weightMeasurementType</th><th>legs1_segments2_cabinClass</th><th>legs1_segments2_departureFrom_airport_iata</th><th>legs1_segments2_duration</th><th>legs1_segments2_flightNumber</th><th>legs1_segments2_marketingCarrier_code</th><th>legs1_segments2_operatingCarrier_code</th><th>legs1_segments2_seatsAvailable</th><th>legs1_segments3_aircraft_code</th><th>legs1_segments3_arrivalTo_airport_city_iata</th><th>legs1_segments3_arrivalTo_airport_iata</th><th>legs1_segments3_baggageAllowance_quantity</th><th>legs1_segments3_baggageAllowance_weightMeasurementType</th><th>legs1_segments3_cabinClass</th><th>legs1_segments3_departureFrom_airport_iata</th><th>legs1_segments3_duration</th><th>legs1_segments3_flightNumber</th><th>legs1_segments3_marketingCarrier_code</th><th>legs1_segments3_operatingCarrier_code</th><th>legs1_segments3_seatsAvailable</th><th>miniRules0_monetaryAmount</th><th>miniRules0_percentage</th><th>miniRules0_statusInfos</th><th>miniRules1_monetaryAmount</th><th>miniRules1_percentage</th><th>miniRules1_statusInfos</th><th>pricingInfo_isAccessTP</th><th>pricingInfo_passengerCount</th><th>profileId</th><th>ranker_id</th><th>requestDate</th><th>searchRoute</th><th>sex</th><th>taxes</th><th>totalPrice</th><th>selected</th><th>__index_level_0__</th></tr><tr><td>i64</td><td>bool</td><td>i64</td><td>i64</td><td>str</td><td>i64</td><td>bool</td><td>bool</td><td>str</td><td>str</td><td>str</td><td>str</td><td>str</td><td>str</td><td>f64</td><td>f64</td><td>f64</td><td>str</td><td>str</td><td>str</td><td>str</td><td>str</td><td>f64</td><td>str</td><td>str</td><td>str</td><td>f64</td><td>f64</td><td>f64</td><td>str</td><td>str</td><td>str</td><td>str</td><td>str</td><td>f64</td><td>str</td><td>str</td><td>&hellip;</td><td>f64</td><td>f64</td><td>str</td><td>str</td><td>str</td><td>str</td><td>str</td><td>f64</td><td>str</td><td>str</td><td>str</td><td>f64</td><td>f64</td><td>f64</td><td>str</td><td>str</td><td>str</td><td>str</td><td>str</td><td>f64</td><td>f64</td><td>f64</td><td>f64</td><td>f64</td><td>f64</td><td>f64</td><td>f64</td><td>i64</td><td>i64</td><td>str</td><td>datetime[ns]</td><td>str</td><td>bool</td><td>f64</td><td>f64</td><td>i64</td><td>i64</td></tr></thead><tbody><tr><td>70</td><td>true</td><td>62836</td><td>81</td><td>null</td><td>36</td><td>true</td><td>false</td><td>&quot;2024-05-20T15:40:00&quot;</td><td>&quot;2024-05-20T13:20:00&quot;</td><td>&quot;01:20:00&quot;</td><td>&quot;319&quot;</td><td>&quot;UUS&quot;</td><td>&quot;UUS&quot;</td><td>0.0</td><td>0.0</td><td>1.0</td><td>&quot;KHV&quot;</td><td>&quot;01:20:00&quot;</td><td>&quot;5628&quot;</td><td>&quot;SU&quot;</td><td>&quot;HZ&quot;</td><td>2.0</td><td>null</td><td>null</td><td>null</td><td>null</td><td>null</td><td>null</td><td>null</td><td>null</td><td>null</td><td>null</td><td>null</td><td>null</td><td>null</td><td>null</td><td>&hellip;</td><td>null</td><td>null</td><td>null</td><td>null</td><td>null</td><td>null</td><td>null</td><td>null</td><td>null</td><td>null</td><td>null</td><td>null</td><td>null</td><td>null</td><td>null</td><td>null</td><td>null</td><td>null</td><td>null</td><td>null</td><td>4600.0</td><td>null</td><td>1.0</td><td>0.0</td><td>null</td><td>0.0</td><td>0.0</td><td>1</td><td>3382768</td><td>&quot;e04b757602824a4dbe227f1e67dbdb…</td><td>2024-05-17 03:40:53</td><td>&quot;KHVUUS&quot;</td><td>true</td><td>946.0</td><td>7246.0</td><td>0</td><td>70</td></tr><tr><td>71</td><td>true</td><td>62836</td><td>81</td><td>null</td><td>36</td><td>true</td><td>false</td><td>&quot;2024-05-20T15:40:00&quot;</td><td>&quot;2024-05-20T13:20:00&quot;</td><td>&quot;01:20:00&quot;</td><td>&quot;319&quot;</td><td>&quot;UUS&quot;</td><td>&quot;UUS&quot;</td><td>1.0</td><td>0.0</td><td>1.0</td><td>&quot;KHV&quot;</td><td>&quot;01:20:00&quot;</td><td>&quot;5628&quot;</td><td>&quot;SU&quot;</td><td>&quot;HZ&quot;</td><td>2.0</td><td>null</td><td>null</td><td>null</td><td>null</td><td>null</td><td>null</td><td>null</td><td>null</td><td>null</td><td>null</td><td>null</td><td>null</td><td>null</td><td>null</td><td>&hellip;</td><td>null</td><td>null</td><td>null</td><td>null</td><td>null</td><td>null</td><td>null</td><td>null</td><td>null</td><td>null</td><td>null</td><td>null</td><td>null</td><td>null</td><td>null</td><td>null</td><td>null</td><td>null</td><td>null</td><td>null</td><td>4600.0</td><td>null</td><td>1.0</td><td>4600.0</td><td>null</td><td>1.0</td><td>0.0</td><td>1</td><td>3382768</td><td>&quot;e04b757602824a4dbe227f1e67dbdb…</td><td>2024-05-17 03:40:53</td><td>&quot;KHVUUS&quot;</td><td>true</td><td>946.0</td><td>9126.0</td><td>1</td><td>71</td></tr><tr><td>72</td><td>true</td><td>62836</td><td>81</td><td>null</td><td>36</td><td>true</td><td>false</td><td>&quot;2024-05-20T15:40:00&quot;</td><td>&quot;2024-05-20T13:20:00&quot;</td><td>&quot;01:20:00&quot;</td><td>&quot;319&quot;</td><td>&quot;UUS&quot;</td><td>&quot;UUS&quot;</td><td>2.0</td><td>0.0</td><td>1.0</td><td>&quot;KHV&quot;</td><td>&quot;01:20:00&quot;</td><td>&quot;5628&quot;</td><td>&quot;SU&quot;</td><td>&quot;HZ&quot;</td><td>2.0</td><td>null</td><td>null</td><td>null</td><td>null</td><td>null</td><td>null</td><td>null</td><td>null</td><td>null</td><td>null</td><td>null</td><td>null</td><td>null</td><td>null</td><td>&hellip;</td><td>null</td><td>null</td><td>null</td><td>null</td><td>null</td><td>null</td><td>null</td><td>null</td><td>null</td><td>null</td><td>null</td><td>null</td><td>null</td><td>null</td><td>null</td><td>null</td><td>null</td><td>null</td><td>null</td><td>null</td><td>0.0</td><td>null</td><td>1.0</td><td>0.0</td><td>null</td><td>1.0</td><td>0.0</td><td>1</td><td>3382768</td><td>&quot;e04b757602824a4dbe227f1e67dbdb…</td><td>2024-05-17 03:40:53</td><td>&quot;KHVUUS&quot;</td><td>true</td><td>946.0</td><td>13636.0</td><td>0</td><td>72</td></tr><tr><td>73</td><td>true</td><td>62836</td><td>81</td><td>null</td><td>36</td><td>true</td><td>false</td><td>&quot;2024-05-20T15:40:00&quot;</td><td>&quot;2024-05-20T13:20:00&quot;</td><td>&quot;01:20:00&quot;</td><td>&quot;319&quot;</td><td>&quot;UUS&quot;</td><td>&quot;UUS&quot;</td><td>1.0</td><td>0.0</td><td>2.0</td><td>&quot;KHV&quot;</td><td>&quot;01:20:00&quot;</td><td>&quot;5628&quot;</td><td>&quot;SU&quot;</td><td>&quot;HZ&quot;</td><td>2.0</td><td>null</td><td>null</td><td>null</td><td>null</td><td>null</td><td>null</td><td>null</td><td>null</td><td>null</td><td>null</td><td>null</td><td>null</td><td>null</td><td>null</td><td>&hellip;</td><td>null</td><td>null</td><td>null</td><td>null</td><td>null</td><td>null</td><td>null</td><td>null</td><td>null</td><td>null</td><td>null</td><td>null</td><td>null</td><td>null</td><td>null</td><td>null</td><td>null</td><td>null</td><td>null</td><td>null</td><td>4600.0</td><td>null</td><td>1.0</td><td>0.0</td><td>null</td><td>0.0</td><td>0.0</td><td>1</td><td>3382768</td><td>&quot;e04b757602824a4dbe227f1e67dbdb…</td><td>2024-05-17 03:40:53</td><td>&quot;KHVUUS&quot;</td><td>true</td><td>946.0</td><td>26846.0</td><td>0</td><td>73</td></tr><tr><td>74</td><td>true</td><td>62836</td><td>81</td><td>null</td><td>36</td><td>true</td><td>false</td><td>&quot;2024-05-20T15:40:00&quot;</td><td>&quot;2024-05-20T13:20:00&quot;</td><td>&quot;01:20:00&quot;</td><td>&quot;319&quot;</td><td>&quot;UUS&quot;</td><td>&quot;UUS&quot;</td><td>2.0</td><td>0.0</td><td>2.0</td><td>&quot;KHV&quot;</td><td>&quot;01:20:00&quot;</td><td>&quot;5628&quot;</td><td>&quot;SU&quot;</td><td>&quot;HZ&quot;</td><td>2.0</td><td>null</td><td>null</td><td>null</td><td>null</td><td>null</td><td>null</td><td>null</td><td>null</td><td>null</td><td>null</td><td>null</td><td>null</td><td>null</td><td>null</td><td>&hellip;</td><td>null</td><td>null</td><td>null</td><td>null</td><td>null</td><td>null</td><td>null</td><td>null</td><td>null</td><td>null</td><td>null</td><td>null</td><td>null</td><td>null</td><td>null</td><td>null</td><td>null</td><td>null</td><td>null</td><td>null</td><td>4600.0</td><td>null</td><td>1.0</td><td>4600.0</td><td>null</td><td>1.0</td><td>0.0</td><td>1</td><td>3382768</td><td>&quot;e04b757602824a4dbe227f1e67dbdb…</td><td>2024-05-17 03:40:53</td><td>&quot;KHVUUS&quot;</td><td>true</td><td>946.0</td><td>31876.0</td><td>0</td><td>74</td></tr></tbody></table></div>"
      ]
     },
     "execution_count": 26,
     "metadata": {},
     "output_type": "execute_result"
    }
   ],
   "execution_count": 26
  },
  {
   "metadata": {
    "ExecuteTime": {
     "end_time": "2025-09-02T01:50:29.854391Z",
     "start_time": "2025-09-02T01:50:26.468362Z"
    }
   },
   "cell_type": "code",
   "source": [
    "# 1. Customer Feature Engineering\n",
    "cust_data = extract_customer_features(test_df)\n",
    "print(f'Generated {len(cust_data.columns)} customer features for {len(cust_data)} customers')"
   ],
   "id": "386efc2e239883cf",
   "outputs": [
    {
     "name": "stdout",
     "output_type": "stream",
     "text": [
      "Generated 58 customer features for 13781 customers\n"
     ]
    }
   ],
   "execution_count": 27
  },
  {
   "metadata": {
    "ExecuteTime": {
     "end_time": "2025-09-02T01:59:19.890753Z",
     "start_time": "2025-09-02T01:59:19.882134Z"
    }
   },
   "cell_type": "code",
   "source": [
    "try:\n",
    "    encoders\n",
    "except NameError:\n",
    "    # get the encoder from the joblib file\n",
    "    data_encoders_scaler_reducer = joblib.load('data/data_encoders_scaler_reducer.joblib')\n",
    "    print('loaded encoders, sclaer, reducer from joblib file')\n",
    "\n",
    "    encoders = data_encoders_scaler_reducer['encoders']\n",
    "    scaler = data_encoders_scaler_reducer['scaler']\n",
    "    reducer = data_encoders_scaler_reducer['reducer']\n"
   ],
   "id": "529e69c5c32a9de7",
   "outputs": [
    {
     "name": "stdout",
     "output_type": "stream",
     "text": [
      "loaded encoders, sclaer, reducer from joblib file\n"
     ]
    }
   ],
   "execution_count": 31
  },
  {
   "metadata": {
    "ExecuteTime": {
     "end_time": "2025-09-02T02:00:45.561502Z",
     "start_time": "2025-09-02T02:00:45.510331Z"
    }
   },
   "cell_type": "code",
   "source": [
    "# 2. Encode customer features\n",
    "cust_data_encoded, _ = encode_features(cust_data, encoders)"
   ],
   "id": "aefbf3afb823a4",
   "outputs": [],
   "execution_count": 34
  },
  {
   "metadata": {
    "ExecuteTime": {
     "end_time": "2025-09-02T02:00:47.273078Z",
     "start_time": "2025-09-02T02:00:47.260522Z"
    }
   },
   "cell_type": "code",
   "source": "cust_data_encoded.head(1000)",
   "id": "333f4802979e2645",
   "outputs": [
    {
     "data": {
      "text/plain": [
       "shape: (1_000, 68)\n",
       "┌───────────┬────────────┬─────┬─────────────┬───┬───────┬─────────────┬─────────────┬─────────────┐\n",
       "│ profileId ┆ company_id ┆ sex ┆ nationality ┆ … ┆ ff_Y7 ┆ ff_program_ ┆ most_common ┆ most_common │\n",
       "│ ---       ┆ ---        ┆ --- ┆ ---         ┆   ┆ ---   ┆ count       ┆ _departure_ ┆ _carrier_fr │\n",
       "│ i64       ┆ i64        ┆ i8  ┆ i64         ┆   ┆ i8    ┆ ---         ┆ airport_…   ┆ equency     │\n",
       "│           ┆            ┆     ┆             ┆   ┆       ┆ i8          ┆ ---         ┆ ---         │\n",
       "│           ┆            ┆     ┆             ┆   ┆       ┆             ┆ i32         ┆ i32         │\n",
       "╞═══════════╪════════════╪═════╪═════════════╪═══╪═══════╪═════════════╪═════════════╪═════════════╡\n",
       "│ 2886786   ┆ 53375      ┆ 0   ┆ 36          ┆ … ┆ 0     ┆ 2           ┆ 3382        ┆ 19608       │\n",
       "│ 3568400   ┆ 61145      ┆ 1   ┆ 36          ┆ … ┆ 0     ┆ 0           ┆ 1100        ┆ 19608       │\n",
       "│ 3539556   ┆ 24728      ┆ 0   ┆ 36          ┆ … ┆ 0     ┆ 0           ┆ 0           ┆ 187         │\n",
       "│ 2683482   ┆ 27637      ┆ 1   ┆ 36          ┆ … ┆ 0     ┆ 0           ┆ 3           ┆ 474         │\n",
       "│ 3463004   ┆ 60290      ┆ 0   ┆ 36          ┆ … ┆ 0     ┆ 0           ┆ 6159        ┆ 19608       │\n",
       "│ …         ┆ …          ┆ …   ┆ …           ┆ … ┆ …     ┆ …           ┆ …           ┆ …           │\n",
       "│ 3470507   ┆ 46526      ┆ 0   ┆ 36          ┆ … ┆ 0     ┆ 0           ┆ 3382        ┆ 19608       │\n",
       "│ 3277686   ┆ 63394      ┆ 0   ┆ 36          ┆ … ┆ 0     ┆ 0           ┆ 3382        ┆ 19608       │\n",
       "│ 2820205   ┆ 61295      ┆ 1   ┆ 36          ┆ … ┆ 0     ┆ 0           ┆ 2           ┆ 1           │\n",
       "│ 3479802   ┆ 62344      ┆ 1   ┆ 36          ┆ … ┆ 0     ┆ 2           ┆ 38          ┆ 101         │\n",
       "│ 2780232   ┆ 57323      ┆ 1   ┆ 36          ┆ … ┆ 0     ┆ 0           ┆ 6159        ┆ 19608       │\n",
       "└───────────┴────────────┴─────┴─────────────┴───┴───────┴─────────────┴─────────────┴─────────────┘"
      ],
      "text/html": [
       "<div><style>\n",
       ".dataframe > thead > tr,\n",
       ".dataframe > tbody > tr {\n",
       "  text-align: right;\n",
       "  white-space: pre-wrap;\n",
       "}\n",
       "</style>\n",
       "<small>shape: (1_000, 68)</small><table border=\"1\" class=\"dataframe\"><thead><tr><th>profileId</th><th>company_id</th><th>sex</th><th>nationality</th><th>is_vip</th><th>by_self</th><th>has_corp_codes</th><th>total_searches</th><th>roundtrip_preference</th><th>unique_routes_searched</th><th>min_booking_lead_days</th><th>max_booking_lead_days</th><th>avg_booking_lead_days</th><th>median_booking_lead_days</th><th>unique_departure_airports</th><th>unique_carriers_used</th><th>min_cabin_class</th><th>max_cabin_class</th><th>avg_cabin_class</th><th>weekday_preference</th><th>weekend_travel_rate</th><th>time_of_day_variance</th><th>night_flight_preference</th><th>route_loyalty</th><th>hub_preference</th><th>short_haul_preference</th><th>connection_tolerance</th><th>preferred_duration_quartile</th><th>price_to_duration_sensitivity</th><th>avg_price_per_minute</th><th>price_per_minute_variance</th><th>price_position_preference</th><th>premium_economy_preference</th><th>consistent_price_tier</th><th>preferred_price_tier</th><th>baggage_qty_preference</th><th>baggage_weight_preference</th><th>loyalty_program_utilization</th><th>convenience_priority_score</th><th>loyalty_vs_price_index</th><th>planning_consistency_score</th><th>luxury_index</th><th>search_intensity_per_route</th><th>lead_time_variance</th><th>lead_time_skew</th><th>carrier_diversity</th><th>airport_diversity</th><th>cabin_class_range</th><th>customer_tier</th><th>vip_search_intensity</th><th>vip_carrier_diversity</th><th>vip_cabin_preference</th><th>corp_search_volume</th><th>corp_roundtrip_pref</th><th>corp_planning_variance</th><th>ff_SU</th><th>ff_S7</th><th>ff_UT</th><th>ff_U6</th><th>ff_N4</th><th>ff_TK</th><th>ff_EK</th><th>ff_LH</th><th>ff_DP</th><th>ff_Y7</th><th>ff_program_count</th><th>most_common_departure_airport_frequency</th><th>most_common_carrier_frequency</th></tr><tr><td>i64</td><td>i64</td><td>i8</td><td>i64</td><td>i8</td><td>i8</td><td>i8</td><td>u32</td><td>f64</td><td>u32</td><td>i32</td><td>i32</td><td>f64</td><td>f64</td><td>u32</td><td>u32</td><td>f64</td><td>f64</td><td>f64</td><td>i8</td><td>f64</td><td>f64</td><td>f64</td><td>f64</td><td>f64</td><td>f64</td><td>f64</td><td>i32</td><td>f64</td><td>f64</td><td>f64</td><td>f64</td><td>f64</td><td>f64</td><td>i32</td><td>f64</td><td>f64</td><td>f64</td><td>f64</td><td>f64</td><td>f64</td><td>f64</td><td>f64</td><td>i32</td><td>f64</td><td>f64</td><td>f64</td><td>f64</td><td>i8</td><td>f64</td><td>f64</td><td>f64</td><td>i64</td><td>f64</td><td>i32</td><td>i8</td><td>i8</td><td>i8</td><td>i8</td><td>i8</td><td>i8</td><td>i8</td><td>i8</td><td>i8</td><td>i8</td><td>i8</td><td>i32</td><td>i32</td></tr></thead><tbody><tr><td>2886786</td><td>53375</td><td>0</td><td>36</td><td>0</td><td>1</td><td>1</td><td>196</td><td>0.719388</td><td>2</td><td>1</td><td>11</td><td>4.408163</td><td>1.0</td><td>1</td><td>3</td><td>1.0</td><td>2.0</td><td>1.081633</td><td>2</td><td>0.0</td><td>5.138572</td><td>0.137755</td><td>0.989796</td><td>0.0</td><td>0.0</td><td>1.821429</td><td>1</td><td>0.154615</td><td>81.352335</td><td>48.486704</td><td>49.848828</td><td>0.081633</td><td>0.624861</td><td>1</td><td>1.071429</td><td>0.0</td><td>1.0</td><td>-40.612639</td><td>5.015117</td><td>0.090909</td><td>46.557067</td><td>98.0</td><td>10</td><td>4.408163</td><td>0.015306</td><td>0.005102</td><td>1.0</td><td>1</td><td>0.0</td><td>0.0</td><td>0.0</td><td>196</td><td>0.719388</td><td>10</td><td>1</td><td>1</td><td>0</td><td>0</td><td>0</td><td>0</td><td>0</td><td>0</td><td>0</td><td>0</td><td>2</td><td>3382</td><td>19608</td></tr><tr><td>3568400</td><td>61145</td><td>1</td><td>36</td><td>0</td><td>1</td><td>1</td><td>175</td><td>1.0</td><td>1</td><td>4</td><td>5</td><td>4.274286</td><td>4.0</td><td>1</td><td>5</td><td>1.0</td><td>2.0</td><td>1.045714</td><td>3</td><td>0.0</td><td>5.480373</td><td>0.08</td><td>0.994286</td><td>0.0</td><td>0.016349</td><td>1.291429</td><td>1</td><td>0.596079</td><td>79.419596</td><td>36.26016</td><td>49.885057</td><td>0.045714</td><td>0.62543</td><td>1</td><td>0.862857</td><td>0.0</td><td>0.0</td><td>-41.823332</td><td>-4.988506</td><td>0.5</td><td>45.856814</td><td>175.0</td><td>1</td><td>1.068571</td><td>0.028571</td><td>0.005714</td><td>1.0</td><td>1</td><td>0.0</td><td>0.0</td><td>0.0</td><td>175</td><td>1.0</td><td>1</td><td>0</td><td>0</td><td>0</td><td>0</td><td>0</td><td>0</td><td>0</td><td>0</td><td>0</td><td>0</td><td>0</td><td>1100</td><td>19608</td></tr><tr><td>3539556</td><td>24728</td><td>0</td><td>36</td><td>0</td><td>1</td><td>0</td><td>44</td><td>0.0</td><td>1</td><td>7</td><td>8</td><td>7.772727</td><td>8.0</td><td>1</td><td>6</td><td>1.0</td><td>1.0</td><td>1.0</td><td>4</td><td>0.0</td><td>4.750598</td><td>0.113636</td><td>0.977273</td><td>0.204545</td><td>0.0</td><td>1.454545</td><td>1</td><td>-0.305469</td><td>258.789324</td><td>256.699799</td><td>44.767442</td><td>0.0</td><td>0.59276</td><td>1</td><td>0.0</td><td>20.0</td><td>0.0</td><td>-39.033325</td><td>-4.476744</td><td>0.5</td><td>42.383721</td><td>44.0</td><td>1</td><td>0.971591</td><td>0.136364</td><td>0.022727</td><td>0.0</td><td>1</td><td>0.0</td><td>0.0</td><td>0.0</td><td>0</td><td>0.0</td><td>0</td><td>0</td><td>0</td><td>0</td><td>0</td><td>0</td><td>0</td><td>0</td><td>0</td><td>0</td><td>0</td><td>0</td><td>0</td><td>187</td></tr><tr><td>2683482</td><td>27637</td><td>1</td><td>36</td><td>0</td><td>1</td><td>0</td><td>6</td><td>1.0</td><td>1</td><td>13</td><td>14</td><td>13.5</td><td>13.5</td><td>1</td><td>1</td><td>1.0</td><td>1.0</td><td>1.0</td><td>3</td><td>0.0</td><td>2.19089</td><td>0.0</td><td>0.833333</td><td>0.0</td><td>0.0</td><td>1.0</td><td>1</td><td>0.0</td><td>51.222807</td><td>11.47823</td><td>40.0</td><td>0.0</td><td>0.701858</td><td>3</td><td>0.666667</td><td>0.0</td><td>0.0</td><td>0.0</td><td>-4.0</td><td>0.5</td><td>40.0</td><td>6.0</td><td>1</td><td>1.0</td><td>0.166667</td><td>0.166667</td><td>0.0</td><td>1</td><td>0.0</td><td>0.0</td><td>0.0</td><td>0</td><td>0.0</td><td>0</td><td>0</td><td>0</td><td>0</td><td>0</td><td>0</td><td>0</td><td>0</td><td>0</td><td>0</td><td>0</td><td>0</td><td>3</td><td>474</td></tr><tr><td>3463004</td><td>60290</td><td>0</td><td>36</td><td>0</td><td>1</td><td>1</td><td>42</td><td>0.0</td><td>1</td><td>8</td><td>9</td><td>8.357143</td><td>8.0</td><td>2</td><td>2</td><td>1.0</td><td>2.0</td><td>1.428571</td><td>4</td><td>0.0</td><td>7.343133</td><td>0.285714</td><td>0.97619</td><td>0.0</td><td>0.511111</td><td>1.0</td><td>1</td><td>0.165768</td><td>291.203173</td><td>253.198007</td><td>48.25784</td><td>0.428571</td><td>0.616443</td><td>1</td><td>1.238095</td><td>0.0</td><td>0.0</td><td>-62.602488</td><td>-4.825784</td><td>0.5</td><td>52.700348</td><td>42.0</td><td>1</td><td>1.044643</td><td>0.047619</td><td>0.047619</td><td>1.0</td><td>1</td><td>0.0</td><td>0.0</td><td>0.0</td><td>42</td><td>0.0</td><td>1</td><td>0</td><td>0</td><td>0</td><td>0</td><td>0</td><td>0</td><td>0</td><td>0</td><td>0</td><td>0</td><td>0</td><td>6159</td><td>19608</td></tr><tr><td>&hellip;</td><td>&hellip;</td><td>&hellip;</td><td>&hellip;</td><td>&hellip;</td><td>&hellip;</td><td>&hellip;</td><td>&hellip;</td><td>&hellip;</td><td>&hellip;</td><td>&hellip;</td><td>&hellip;</td><td>&hellip;</td><td>&hellip;</td><td>&hellip;</td><td>&hellip;</td><td>&hellip;</td><td>&hellip;</td><td>&hellip;</td><td>&hellip;</td><td>&hellip;</td><td>&hellip;</td><td>&hellip;</td><td>&hellip;</td><td>&hellip;</td><td>&hellip;</td><td>&hellip;</td><td>&hellip;</td><td>&hellip;</td><td>&hellip;</td><td>&hellip;</td><td>&hellip;</td><td>&hellip;</td><td>&hellip;</td><td>&hellip;</td><td>&hellip;</td><td>&hellip;</td><td>&hellip;</td><td>&hellip;</td><td>&hellip;</td><td>&hellip;</td><td>&hellip;</td><td>&hellip;</td><td>&hellip;</td><td>&hellip;</td><td>&hellip;</td><td>&hellip;</td><td>&hellip;</td><td>&hellip;</td><td>&hellip;</td><td>&hellip;</td><td>&hellip;</td><td>&hellip;</td><td>&hellip;</td><td>&hellip;</td><td>&hellip;</td><td>&hellip;</td><td>&hellip;</td><td>&hellip;</td><td>&hellip;</td><td>&hellip;</td><td>&hellip;</td><td>&hellip;</td><td>&hellip;</td><td>&hellip;</td><td>&hellip;</td><td>&hellip;</td><td>&hellip;</td></tr><tr><td>3470507</td><td>46526</td><td>0</td><td>36</td><td>0</td><td>1</td><td>0</td><td>332</td><td>0.0</td><td>1</td><td>8</td><td>9</td><td>8.536145</td><td>9.0</td><td>1</td><td>8</td><td>1.0</td><td>2.0</td><td>1.003012</td><td>6</td><td>1.0</td><td>5.575085</td><td>0.153614</td><td>0.996988</td><td>0.0</td><td>0.61716</td><td>1.012048</td><td>1</td><td>0.078827</td><td>109.821482</td><td>40.556512</td><td>48.059913</td><td>0.003012</td><td>0.616593</td><td>1</td><td>0.753012</td><td>0.0</td><td>0.0</td><td>-45.356712</td><td>-4.805991</td><td>0.5</td><td>44.090198</td><td>332.0</td><td>1</td><td>0.948461</td><td>0.024096</td><td>0.003012</td><td>1.0</td><td>1</td><td>0.0</td><td>0.0</td><td>0.0</td><td>0</td><td>0.0</td><td>0</td><td>0</td><td>0</td><td>0</td><td>0</td><td>0</td><td>0</td><td>0</td><td>0</td><td>0</td><td>0</td><td>0</td><td>3382</td><td>19608</td></tr><tr><td>3277686</td><td>63394</td><td>0</td><td>36</td><td>0</td><td>1</td><td>1</td><td>555</td><td>0.0</td><td>1</td><td>3</td><td>4</td><td>3.288288</td><td>3.0</td><td>1</td><td>8</td><td>1.0</td><td>4.0</td><td>1.423423</td><td>5</td><td>1.0</td><td>5.267018</td><td>0.133333</td><td>0.998198</td><td>0.0</td><td>0.626797</td><td>1.005405</td><td>1</td><td>-0.047985</td><td>271.166661</td><td>211.498959</td><td>48.658406</td><td>0.390991</td><td>0.62816</td><td>2</td><td>1.108108</td><td>0.0</td><td>0.0</td><td>-42.910109</td><td>-4.865841</td><td>0.5</td><td>52.797671</td><td>555.0</td><td>1</td><td>1.096096</td><td>0.014414</td><td>0.001802</td><td>3.0</td><td>1</td><td>0.0</td><td>0.0</td><td>0.0</td><td>555</td><td>0.0</td><td>1</td><td>0</td><td>0</td><td>0</td><td>0</td><td>0</td><td>0</td><td>0</td><td>0</td><td>0</td><td>0</td><td>0</td><td>3382</td><td>19608</td></tr><tr><td>2820205</td><td>61295</td><td>1</td><td>36</td><td>0</td><td>1</td><td>0</td><td>212</td><td>0.726415</td><td>2</td><td>5</td><td>11</td><td>6.65566</td><td>5.0</td><td>1</td><td>18</td><td>1.0</td><td>2.0</td><td>1.021226</td><td>4</td><td>0.0</td><td>4.890729</td><td>0.0</td><td>0.990566</td><td>0.108491</td><td>0.0</td><td>1.834906</td><td>1</td><td>0.143758</td><td>129.272078</td><td>125.791908</td><td>49.471348</td><td>0.028302</td><td>0.627906</td><td>3</td><td>0.789744</td><td>17.882353</td><td>0.0</td><td>-38.1885</td><td>-4.947135</td><td>0.142857</td><td>45.160202</td><td>106.0</td><td>6</td><td>1.331132</td><td>0.084906</td><td>0.004717</td><td>1.0</td><td>1</td><td>0.0</td><td>0.0</td><td>0.0</td><td>0</td><td>0.0</td><td>0</td><td>0</td><td>0</td><td>0</td><td>0</td><td>0</td><td>0</td><td>0</td><td>0</td><td>0</td><td>0</td><td>0</td><td>2</td><td>1</td></tr><tr><td>3479802</td><td>62344</td><td>1</td><td>36</td><td>0</td><td>1</td><td>0</td><td>22</td><td>0.863636</td><td>2</td><td>2</td><td>5</td><td>4.227273</td><td>4.5</td><td>3</td><td>1</td><td>1.0</td><td>2.0</td><td>1.045455</td><td>2</td><td>0.136364</td><td>4.594604</td><td>0.0</td><td>0.909091</td><td>0.0</td><td>0.0</td><td>1.681818</td><td>2</td><td>0.782545</td><td>80.595843</td><td>70.54652</td><td>46.717172</td><td>0.045455</td><td>0.619815</td><td>1</td><td>0.181818</td><td>0.0</td><td>1.0</td><td>-32.033321</td><td>5.328283</td><td>0.25</td><td>44.267677</td><td>11.0</td><td>3</td><td>0.939394</td><td>0.045455</td><td>0.136364</td><td>1.0</td><td>1</td><td>0.0</td><td>0.0</td><td>0.0</td><td>0</td><td>0.0</td><td>0</td><td>1</td><td>1</td><td>0</td><td>0</td><td>0</td><td>0</td><td>0</td><td>0</td><td>0</td><td>0</td><td>2</td><td>38</td><td>101</td></tr><tr><td>2780232</td><td>57323</td><td>1</td><td>36</td><td>0</td><td>1</td><td>1</td><td>19</td><td>0.0</td><td>1</td><td>9</td><td>9</td><td>9.0</td><td>9.0</td><td>2</td><td>2</td><td>1.0</td><td>2.0</td><td>1.473684</td><td>3</td><td>0.0</td><td>4.524139</td><td>0.263158</td><td>0.947368</td><td>0.0</td><td>0.634649</td><td>1.0</td><td>1</td><td>0.269433</td><td>289.892721</td><td>199.784598</td><td>46.19883</td><td>0.473684</td><td>0.61764</td><td>1</td><td>1.473684</td><td>0.0</td><td>0.0</td><td>-33.894226</td><td>-4.619883</td><td>1.0</td><td>52.573099</td><td>19.0</td><td>0</td><td>1.0</td><td>0.105263</td><td>0.105263</td><td>1.0</td><td>1</td><td>0.0</td><td>0.0</td><td>0.0</td><td>19</td><td>0.0</td><td>0</td><td>0</td><td>0</td><td>0</td><td>0</td><td>0</td><td>0</td><td>0</td><td>0</td><td>0</td><td>0</td><td>0</td><td>6159</td><td>19608</td></tr></tbody></table></div>"
      ]
     },
     "execution_count": 35,
     "metadata": {},
     "output_type": "execute_result"
    }
   ],
   "execution_count": 35
  },
  {
   "metadata": {
    "ExecuteTime": {
     "end_time": "2025-09-02T02:01:36.837333Z",
     "start_time": "2025-09-02T02:01:36.816465Z"
    }
   },
   "cell_type": "code",
   "source": [
    "# 3. Feature scaling with robust scaler\n",
    "scaled_features = scaler.transform(cust_data_encoded.to_pandas())"
   ],
   "id": "69e1fe579a220cc5",
   "outputs": [],
   "execution_count": 37
  },
  {
   "metadata": {
    "ExecuteTime": {
     "end_time": "2025-09-02T02:01:42.956926Z",
     "start_time": "2025-09-02T02:01:42.942159Z"
    }
   },
   "cell_type": "code",
   "source": [
    "# 5. Dimensionality reduction\n",
    "reduced_features = reducer.transform(scaled_features)"
   ],
   "id": "94c095e4028b1e24",
   "outputs": [],
   "execution_count": 38
  },
  {
   "metadata": {
    "ExecuteTime": {
     "end_time": "2025-09-02T02:01:46.525047Z",
     "start_time": "2025-09-02T02:01:46.519525Z"
    }
   },
   "cell_type": "code",
   "source": [
    "def predict_cluster_with_centroids(X, centroids):\n",
    "    \"\"\"\n",
    "    Predict clusters by assigning to nearest centroid\n",
    "    \"\"\"\n",
    "    # Calculate distances to all centroids\n",
    "    distances = euclidean_distances(X, centroids)\n",
    "\n",
    "    # Assign to nearest centroid\n",
    "    predictions = np.argmin(distances, axis=1)\n",
    "\n",
    "    # Get minimum distances as confidence measure\n",
    "    min_distances = np.min(distances, axis=1)\n",
    "\n",
    "    return predictions, min_distances"
   ],
   "id": "500cda2ed9478de0",
   "outputs": [],
   "execution_count": 39
  },
  {
   "metadata": {
    "ExecuteTime": {
     "end_time": "2025-09-02T02:02:01.500509Z",
     "start_time": "2025-09-02T02:02:01.486431Z"
    }
   },
   "cell_type": "code",
   "source": [
    "# Load Agglomeratvie clustering results\n",
    "try:\n",
    "    clustering_results\n",
    "except NameError:\n",
    "    clustering_results = joblib.load('data/agglomerative_model.joblib')\n",
    "    print(f'Loaded Agglomerative Clustering results from joblib file for {clustering_results['n_clusters']} clusters')"
   ],
   "id": "62fb039aadcfb4a6",
   "outputs": [
    {
     "name": "stdout",
     "output_type": "stream",
     "text": [
      "Loaded Agglomerative Clustering results from joblib file for 12 clusters\n"
     ]
    }
   ],
   "execution_count": 40
  },
  {
   "metadata": {
    "ExecuteTime": {
     "end_time": "2025-09-02T02:02:04.403435Z",
     "start_time": "2025-09-02T02:02:04.398134Z"
    }
   },
   "cell_type": "code",
   "source": "clustering_results['centroids']",
   "id": "2f43276088aad8a9",
   "outputs": [
    {
     "data": {
      "text/plain": [
       "array([[-1.00893165e+00, -5.53396100e+00, -8.34627196e-01,\n",
       "        -3.21412823e-01, -3.31830710e-02,  2.48794479e-01,\n",
       "        -4.24417830e-02],\n",
       "       [-1.10752555e+00,  4.36544837e+00, -5.36481380e-01,\n",
       "         3.10377570e+01, -1.88157669e+00,  1.16222175e+00,\n",
       "         4.27929775e-01],\n",
       "       [ 9.04404472e+02, -4.20496622e+00,  2.45918498e+00,\n",
       "         2.84107942e+00,  7.28123691e-02, -7.43054370e-01,\n",
       "         7.08463271e-02],\n",
       "       [-1.19893653e+00,  5.38008472e+00,  2.19845276e+01,\n",
       "        -1.12351102e+00,  6.47266370e-02,  6.34193012e-01,\n",
       "         2.77447412e-01],\n",
       "       [ 2.80136433e+02,  1.66032172e+00, -2.52911383e+00,\n",
       "        -1.08919026e+00,  1.23155445e-01,  8.43568034e-01,\n",
       "        -6.61580551e-01],\n",
       "       [-1.09030294e+00,  1.55615688e+01, -1.07192514e+01,\n",
       "        -1.43822165e+00,  6.36417621e-01,  1.24060810e+00,\n",
       "         5.70593640e-01],\n",
       "       [ 1.11646234e+02,  5.30114179e+00, -2.77763646e+00,\n",
       "         3.42702188e-01, -4.98010153e-01,  1.88198045e+00,\n",
       "        -5.37218320e-01],\n",
       "       [ 2.14189783e+03, -3.00512078e+00,  6.85647076e+00,\n",
       "        -5.84258008e-01, -2.85408011e-01, -2.83389877e+00,\n",
       "         1.93703975e+00],\n",
       "       [-1.17036021e+00,  9.23488891e+00, -1.18936892e-01,\n",
       "        -1.25874509e+00, -1.91234867e+01, -2.32791915e+01,\n",
       "        -1.21823225e+01],\n",
       "       [-1.18554037e+00,  2.66171796e+01,  1.25720355e+01,\n",
       "        -1.72751476e+00,  1.15520243e+00,  1.64326289e+00,\n",
       "         7.45173240e-01],\n",
       "       [ 5.47262749e+02, -4.74858801e+00,  1.13420380e+00,\n",
       "         3.27101070e-01,  4.59409558e-01, -3.57946046e-01,\n",
       "        -7.66170878e-01],\n",
       "       [-9.88486072e-01, -3.22473747e+00, -1.40932606e+00,\n",
       "         2.33137302e+00,  2.48124965e+01, -2.00737340e+01,\n",
       "         8.20654940e+00]])"
      ]
     },
     "execution_count": 41,
     "metadata": {},
     "output_type": "execute_result"
    }
   ],
   "execution_count": 41
  },
  {
   "metadata": {
    "ExecuteTime": {
     "end_time": "2025-09-02T02:02:13.005458Z",
     "start_time": "2025-09-02T02:02:12.993117Z"
    }
   },
   "cell_type": "code",
   "source": [
    "# 6. Apply clustering algorithm\n",
    "# clustering_results = generate_clusters(reduced_features)\n",
    "cluster_segments = predict_cluster_with_centroids(reduced_features, clustering_results['centroids'])"
   ],
   "id": "aab85fd8afc5fc9d",
   "outputs": [],
   "execution_count": 42
  },
  {
   "metadata": {
    "ExecuteTime": {
     "end_time": "2025-09-02T02:02:15.178286Z",
     "start_time": "2025-09-02T02:02:15.173456Z"
    }
   },
   "cell_type": "code",
   "source": "cluster_segments",
   "id": "1e66f3dcd1f7a553",
   "outputs": [
    {
     "data": {
      "text/plain": [
       "(array([1, 0, 3, ..., 0, 0, 0], shape=(13781,)),\n",
       " array([17.95137008,  1.89434765,  6.05567578, ...,  1.51826297,\n",
       "         1.85771482, 11.78282402], shape=(13781,)))"
      ]
     },
     "execution_count": 43,
     "metadata": {},
     "output_type": "execute_result"
    }
   ],
   "execution_count": 43
  },
  {
   "metadata": {
    "ExecuteTime": {
     "end_time": "2025-09-02T02:02:19.721701Z",
     "start_time": "2025-09-02T02:02:19.712530Z"
    }
   },
   "cell_type": "code",
   "source": [
    "# Add predicted cluster labels to the customer data\n",
    "cust_data = cust_data.with_columns(pl.Series('customer_segment', cluster_segments[0]))"
   ],
   "id": "113a123bf2c8cb80",
   "outputs": [],
   "execution_count": 44
  },
  {
   "metadata": {
    "ExecuteTime": {
     "end_time": "2025-09-02T02:02:21.234987Z",
     "start_time": "2025-09-02T02:02:21.224478Z"
    }
   },
   "cell_type": "code",
   "source": "cust_data.head(1000)",
   "id": "72d834baa617b03a",
   "outputs": [
    {
     "data": {
      "text/plain": [
       "shape: (1_000, 59)\n",
       "┌───────────┬────────────┬─────┬────────────┬───┬────────────┬────────────┬────────────┬───────────┐\n",
       "│ profileId ┆ company_id ┆ sex ┆ nationalit ┆ … ┆ corp_searc ┆ corp_round ┆ corp_plann ┆ customer_ │\n",
       "│ ---       ┆ ---        ┆ --- ┆ y          ┆   ┆ h_volume   ┆ trip_pref  ┆ ing_varian ┆ segment   │\n",
       "│ i64       ┆ i64        ┆ i8  ┆ ---        ┆   ┆ ---        ┆ ---        ┆ ce         ┆ ---       │\n",
       "│           ┆            ┆     ┆ i64        ┆   ┆ i64        ┆ f64        ┆ ---        ┆ i64       │\n",
       "│           ┆            ┆     ┆            ┆   ┆            ┆            ┆ i32        ┆           │\n",
       "╞═══════════╪════════════╪═════╪════════════╪═══╪════════════╪════════════╪════════════╪═══════════╡\n",
       "│ 2886786   ┆ 53375      ┆ 0   ┆ 36         ┆ … ┆ 196        ┆ 0.719388   ┆ 10         ┆ 1         │\n",
       "│ 3568400   ┆ 61145      ┆ 1   ┆ 36         ┆ … ┆ 175        ┆ 1.0        ┆ 1          ┆ 0         │\n",
       "│ 3539556   ┆ 24728      ┆ 0   ┆ 36         ┆ … ┆ 0          ┆ 0.0        ┆ 0          ┆ 3         │\n",
       "│ 2683482   ┆ 27637      ┆ 1   ┆ 36         ┆ … ┆ 0          ┆ 0.0        ┆ 0          ┆ 0         │\n",
       "│ 3463004   ┆ 60290      ┆ 0   ┆ 36         ┆ … ┆ 42         ┆ 0.0        ┆ 1          ┆ 0         │\n",
       "│ …         ┆ …          ┆ …   ┆ …          ┆ … ┆ …          ┆ …          ┆ …          ┆ …         │\n",
       "│ 3470507   ┆ 46526      ┆ 0   ┆ 36         ┆ … ┆ 0          ┆ 0.0        ┆ 0          ┆ 0         │\n",
       "│ 3277686   ┆ 63394      ┆ 0   ┆ 36         ┆ … ┆ 555        ┆ 0.0        ┆ 1          ┆ 0         │\n",
       "│ 2820205   ┆ 61295      ┆ 1   ┆ 36         ┆ … ┆ 0          ┆ 0.0        ┆ 0          ┆ 3         │\n",
       "│ 3479802   ┆ 62344      ┆ 1   ┆ 36         ┆ … ┆ 0          ┆ 0.0        ┆ 0          ┆ 5         │\n",
       "│ 2780232   ┆ 57323      ┆ 1   ┆ 36         ┆ … ┆ 19         ┆ 0.0        ┆ 0          ┆ 0         │\n",
       "└───────────┴────────────┴─────┴────────────┴───┴────────────┴────────────┴────────────┴───────────┘"
      ],
      "text/html": [
       "<div><style>\n",
       ".dataframe > thead > tr,\n",
       ".dataframe > tbody > tr {\n",
       "  text-align: right;\n",
       "  white-space: pre-wrap;\n",
       "}\n",
       "</style>\n",
       "<small>shape: (1_000, 59)</small><table border=\"1\" class=\"dataframe\"><thead><tr><th>profileId</th><th>company_id</th><th>sex</th><th>nationality</th><th>frequent_flyer</th><th>is_vip</th><th>by_self</th><th>has_corp_codes</th><th>total_searches</th><th>roundtrip_preference</th><th>unique_routes_searched</th><th>min_booking_lead_days</th><th>max_booking_lead_days</th><th>avg_booking_lead_days</th><th>median_booking_lead_days</th><th>most_common_departure_airport</th><th>unique_departure_airports</th><th>most_common_carrier</th><th>unique_carriers_used</th><th>min_cabin_class</th><th>max_cabin_class</th><th>avg_cabin_class</th><th>weekday_preference</th><th>weekend_travel_rate</th><th>time_of_day_variance</th><th>night_flight_preference</th><th>route_loyalty</th><th>hub_preference</th><th>short_haul_preference</th><th>connection_tolerance</th><th>preferred_duration_quartile</th><th>price_to_duration_sensitivity</th><th>avg_price_per_minute</th><th>price_per_minute_variance</th><th>price_position_preference</th><th>premium_economy_preference</th><th>consistent_price_tier</th><th>preferred_price_tier</th><th>baggage_qty_preference</th><th>baggage_weight_preference</th><th>loyalty_program_utilization</th><th>convenience_priority_score</th><th>loyalty_vs_price_index</th><th>planning_consistency_score</th><th>luxury_index</th><th>search_intensity_per_route</th><th>lead_time_variance</th><th>lead_time_skew</th><th>carrier_diversity</th><th>airport_diversity</th><th>cabin_class_range</th><th>customer_tier</th><th>vip_search_intensity</th><th>vip_carrier_diversity</th><th>vip_cabin_preference</th><th>corp_search_volume</th><th>corp_roundtrip_pref</th><th>corp_planning_variance</th><th>customer_segment</th></tr><tr><td>i64</td><td>i64</td><td>i8</td><td>i64</td><td>str</td><td>i8</td><td>i8</td><td>i8</td><td>u32</td><td>f64</td><td>u32</td><td>i32</td><td>i32</td><td>f64</td><td>f64</td><td>str</td><td>u32</td><td>str</td><td>u32</td><td>f64</td><td>f64</td><td>f64</td><td>i8</td><td>f64</td><td>f64</td><td>f64</td><td>f64</td><td>f64</td><td>f64</td><td>f64</td><td>i32</td><td>f64</td><td>f64</td><td>f64</td><td>f64</td><td>f64</td><td>f64</td><td>i32</td><td>f64</td><td>f64</td><td>f64</td><td>f64</td><td>f64</td><td>f64</td><td>f64</td><td>f64</td><td>i32</td><td>f64</td><td>f64</td><td>f64</td><td>f64</td><td>i8</td><td>f64</td><td>f64</td><td>f64</td><td>i64</td><td>f64</td><td>i32</td><td>i64</td></tr></thead><tbody><tr><td>2886786</td><td>53375</td><td>0</td><td>36</td><td>&quot;SU/S7&quot;</td><td>0</td><td>1</td><td>1</td><td>196</td><td>0.719388</td><td>2</td><td>1</td><td>11</td><td>4.408163</td><td>1.0</td><td>&quot;LED&quot;</td><td>1</td><td>&quot;SU&quot;</td><td>3</td><td>1.0</td><td>2.0</td><td>1.081633</td><td>2</td><td>0.0</td><td>5.138572</td><td>0.137755</td><td>0.989796</td><td>0.0</td><td>0.0</td><td>1.821429</td><td>1</td><td>0.154615</td><td>81.352335</td><td>48.486704</td><td>49.848828</td><td>0.081633</td><td>0.624861</td><td>1</td><td>1.071429</td><td>0.0</td><td>1.0</td><td>-40.612639</td><td>5.015117</td><td>0.090909</td><td>46.557067</td><td>98.0</td><td>10</td><td>4.408163</td><td>0.015306</td><td>0.005102</td><td>1.0</td><td>1</td><td>0.0</td><td>0.0</td><td>0.0</td><td>196</td><td>0.719388</td><td>10</td><td>1</td></tr><tr><td>3568400</td><td>61145</td><td>1</td><td>36</td><td>&quot;&quot;</td><td>0</td><td>1</td><td>1</td><td>175</td><td>1.0</td><td>1</td><td>4</td><td>5</td><td>4.274286</td><td>4.0</td><td>&quot;SVX&quot;</td><td>1</td><td>&quot;SU&quot;</td><td>5</td><td>1.0</td><td>2.0</td><td>1.045714</td><td>3</td><td>0.0</td><td>5.480373</td><td>0.08</td><td>0.994286</td><td>0.0</td><td>0.016349</td><td>1.291429</td><td>1</td><td>0.596079</td><td>79.419596</td><td>36.26016</td><td>49.885057</td><td>0.045714</td><td>0.62543</td><td>1</td><td>0.862857</td><td>0.0</td><td>0.0</td><td>-41.823332</td><td>-4.988506</td><td>0.5</td><td>45.856814</td><td>175.0</td><td>1</td><td>1.068571</td><td>0.028571</td><td>0.005714</td><td>1.0</td><td>1</td><td>0.0</td><td>0.0</td><td>0.0</td><td>175</td><td>1.0</td><td>1</td><td>0</td></tr><tr><td>3539556</td><td>24728</td><td>0</td><td>36</td><td>&quot;&quot;</td><td>0</td><td>1</td><td>0</td><td>44</td><td>0.0</td><td>1</td><td>7</td><td>8</td><td>7.772727</td><td>8.0</td><td>&quot;TSN&quot;</td><td>1</td><td>&quot;MU&quot;</td><td>6</td><td>1.0</td><td>1.0</td><td>1.0</td><td>4</td><td>0.0</td><td>4.750598</td><td>0.113636</td><td>0.977273</td><td>0.204545</td><td>0.0</td><td>1.454545</td><td>1</td><td>-0.305469</td><td>258.789324</td><td>256.699799</td><td>44.767442</td><td>0.0</td><td>0.59276</td><td>1</td><td>0.0</td><td>20.0</td><td>0.0</td><td>-39.033325</td><td>-4.476744</td><td>0.5</td><td>42.383721</td><td>44.0</td><td>1</td><td>0.971591</td><td>0.136364</td><td>0.022727</td><td>0.0</td><td>1</td><td>0.0</td><td>0.0</td><td>0.0</td><td>0</td><td>0.0</td><td>0</td><td>3</td></tr><tr><td>2683482</td><td>27637</td><td>1</td><td>36</td><td>&quot;&quot;</td><td>0</td><td>1</td><td>0</td><td>6</td><td>1.0</td><td>1</td><td>13</td><td>14</td><td>13.5</td><td>13.5</td><td>&quot;NAL&quot;</td><td>1</td><td>&quot;DP&quot;</td><td>1</td><td>1.0</td><td>1.0</td><td>1.0</td><td>3</td><td>0.0</td><td>2.19089</td><td>0.0</td><td>0.833333</td><td>0.0</td><td>0.0</td><td>1.0</td><td>1</td><td>0.0</td><td>51.222807</td><td>11.47823</td><td>40.0</td><td>0.0</td><td>0.701858</td><td>3</td><td>0.666667</td><td>0.0</td><td>0.0</td><td>0.0</td><td>-4.0</td><td>0.5</td><td>40.0</td><td>6.0</td><td>1</td><td>1.0</td><td>0.166667</td><td>0.166667</td><td>0.0</td><td>1</td><td>0.0</td><td>0.0</td><td>0.0</td><td>0</td><td>0.0</td><td>0</td><td>0</td></tr><tr><td>3463004</td><td>60290</td><td>0</td><td>36</td><td>&quot;&quot;</td><td>0</td><td>1</td><td>1</td><td>42</td><td>0.0</td><td>1</td><td>8</td><td>9</td><td>8.357143</td><td>8.0</td><td>&quot;SVO&quot;</td><td>2</td><td>&quot;SU&quot;</td><td>2</td><td>1.0</td><td>2.0</td><td>1.428571</td><td>4</td><td>0.0</td><td>7.343133</td><td>0.285714</td><td>0.97619</td><td>0.0</td><td>0.511111</td><td>1.0</td><td>1</td><td>0.165768</td><td>291.203173</td><td>253.198007</td><td>48.25784</td><td>0.428571</td><td>0.616443</td><td>1</td><td>1.238095</td><td>0.0</td><td>0.0</td><td>-62.602488</td><td>-4.825784</td><td>0.5</td><td>52.700348</td><td>42.0</td><td>1</td><td>1.044643</td><td>0.047619</td><td>0.047619</td><td>1.0</td><td>1</td><td>0.0</td><td>0.0</td><td>0.0</td><td>42</td><td>0.0</td><td>1</td><td>0</td></tr><tr><td>&hellip;</td><td>&hellip;</td><td>&hellip;</td><td>&hellip;</td><td>&hellip;</td><td>&hellip;</td><td>&hellip;</td><td>&hellip;</td><td>&hellip;</td><td>&hellip;</td><td>&hellip;</td><td>&hellip;</td><td>&hellip;</td><td>&hellip;</td><td>&hellip;</td><td>&hellip;</td><td>&hellip;</td><td>&hellip;</td><td>&hellip;</td><td>&hellip;</td><td>&hellip;</td><td>&hellip;</td><td>&hellip;</td><td>&hellip;</td><td>&hellip;</td><td>&hellip;</td><td>&hellip;</td><td>&hellip;</td><td>&hellip;</td><td>&hellip;</td><td>&hellip;</td><td>&hellip;</td><td>&hellip;</td><td>&hellip;</td><td>&hellip;</td><td>&hellip;</td><td>&hellip;</td><td>&hellip;</td><td>&hellip;</td><td>&hellip;</td><td>&hellip;</td><td>&hellip;</td><td>&hellip;</td><td>&hellip;</td><td>&hellip;</td><td>&hellip;</td><td>&hellip;</td><td>&hellip;</td><td>&hellip;</td><td>&hellip;</td><td>&hellip;</td><td>&hellip;</td><td>&hellip;</td><td>&hellip;</td><td>&hellip;</td><td>&hellip;</td><td>&hellip;</td><td>&hellip;</td><td>&hellip;</td></tr><tr><td>3470507</td><td>46526</td><td>0</td><td>36</td><td>&quot;&quot;</td><td>0</td><td>1</td><td>0</td><td>332</td><td>0.0</td><td>1</td><td>8</td><td>9</td><td>8.536145</td><td>9.0</td><td>&quot;LED&quot;</td><td>1</td><td>&quot;SU&quot;</td><td>8</td><td>1.0</td><td>2.0</td><td>1.003012</td><td>6</td><td>1.0</td><td>5.575085</td><td>0.153614</td><td>0.996988</td><td>0.0</td><td>0.61716</td><td>1.012048</td><td>1</td><td>0.078827</td><td>109.821482</td><td>40.556512</td><td>48.059913</td><td>0.003012</td><td>0.616593</td><td>1</td><td>0.753012</td><td>0.0</td><td>0.0</td><td>-45.356712</td><td>-4.805991</td><td>0.5</td><td>44.090198</td><td>332.0</td><td>1</td><td>0.948461</td><td>0.024096</td><td>0.003012</td><td>1.0</td><td>1</td><td>0.0</td><td>0.0</td><td>0.0</td><td>0</td><td>0.0</td><td>0</td><td>0</td></tr><tr><td>3277686</td><td>63394</td><td>0</td><td>36</td><td>&quot;&quot;</td><td>0</td><td>1</td><td>1</td><td>555</td><td>0.0</td><td>1</td><td>3</td><td>4</td><td>3.288288</td><td>3.0</td><td>&quot;LED&quot;</td><td>1</td><td>&quot;SU&quot;</td><td>8</td><td>1.0</td><td>4.0</td><td>1.423423</td><td>5</td><td>1.0</td><td>5.267018</td><td>0.133333</td><td>0.998198</td><td>0.0</td><td>0.626797</td><td>1.005405</td><td>1</td><td>-0.047985</td><td>271.166661</td><td>211.498959</td><td>48.658406</td><td>0.390991</td><td>0.62816</td><td>2</td><td>1.108108</td><td>0.0</td><td>0.0</td><td>-42.910109</td><td>-4.865841</td><td>0.5</td><td>52.797671</td><td>555.0</td><td>1</td><td>1.096096</td><td>0.014414</td><td>0.001802</td><td>3.0</td><td>1</td><td>0.0</td><td>0.0</td><td>0.0</td><td>555</td><td>0.0</td><td>1</td><td>0</td></tr><tr><td>2820205</td><td>61295</td><td>1</td><td>36</td><td>&quot;&quot;</td><td>0</td><td>1</td><td>0</td><td>212</td><td>0.726415</td><td>2</td><td>5</td><td>11</td><td>6.65566</td><td>5.0</td><td>&quot;BUD&quot;</td><td>1</td><td>&quot;KL&quot;</td><td>18</td><td>1.0</td><td>2.0</td><td>1.021226</td><td>4</td><td>0.0</td><td>4.890729</td><td>0.0</td><td>0.990566</td><td>0.108491</td><td>0.0</td><td>1.834906</td><td>1</td><td>0.143758</td><td>129.272078</td><td>125.791908</td><td>49.471348</td><td>0.028302</td><td>0.627906</td><td>3</td><td>0.789744</td><td>17.882353</td><td>0.0</td><td>-38.1885</td><td>-4.947135</td><td>0.142857</td><td>45.160202</td><td>106.0</td><td>6</td><td>1.331132</td><td>0.084906</td><td>0.004717</td><td>1.0</td><td>1</td><td>0.0</td><td>0.0</td><td>0.0</td><td>0</td><td>0.0</td><td>0</td><td>3</td></tr><tr><td>3479802</td><td>62344</td><td>1</td><td>36</td><td>&quot;SU/S7&quot;</td><td>0</td><td>1</td><td>0</td><td>22</td><td>0.863636</td><td>2</td><td>2</td><td>5</td><td>4.227273</td><td>4.5</td><td>&quot;CEE&quot;</td><td>3</td><td>&quot;D2&quot;</td><td>1</td><td>1.0</td><td>2.0</td><td>1.045455</td><td>2</td><td>0.136364</td><td>4.594604</td><td>0.0</td><td>0.909091</td><td>0.0</td><td>0.0</td><td>1.681818</td><td>2</td><td>0.782545</td><td>80.595843</td><td>70.54652</td><td>46.717172</td><td>0.045455</td><td>0.619815</td><td>1</td><td>0.181818</td><td>0.0</td><td>1.0</td><td>-32.033321</td><td>5.328283</td><td>0.25</td><td>44.267677</td><td>11.0</td><td>3</td><td>0.939394</td><td>0.045455</td><td>0.136364</td><td>1.0</td><td>1</td><td>0.0</td><td>0.0</td><td>0.0</td><td>0</td><td>0.0</td><td>0</td><td>5</td></tr><tr><td>2780232</td><td>57323</td><td>1</td><td>36</td><td>&quot;&quot;</td><td>0</td><td>1</td><td>1</td><td>19</td><td>0.0</td><td>1</td><td>9</td><td>9</td><td>9.0</td><td>9.0</td><td>&quot;SVO&quot;</td><td>2</td><td>&quot;SU&quot;</td><td>2</td><td>1.0</td><td>2.0</td><td>1.473684</td><td>3</td><td>0.0</td><td>4.524139</td><td>0.263158</td><td>0.947368</td><td>0.0</td><td>0.634649</td><td>1.0</td><td>1</td><td>0.269433</td><td>289.892721</td><td>199.784598</td><td>46.19883</td><td>0.473684</td><td>0.61764</td><td>1</td><td>1.473684</td><td>0.0</td><td>0.0</td><td>-33.894226</td><td>-4.619883</td><td>1.0</td><td>52.573099</td><td>19.0</td><td>0</td><td>1.0</td><td>0.105263</td><td>0.105263</td><td>1.0</td><td>1</td><td>0.0</td><td>0.0</td><td>0.0</td><td>19</td><td>0.0</td><td>0</td><td>0</td></tr></tbody></table></div>"
      ]
     },
     "execution_count": 45,
     "metadata": {},
     "output_type": "execute_result"
    }
   ],
   "execution_count": 45
  },
  {
   "metadata": {
    "ExecuteTime": {
     "end_time": "2025-09-02T02:02:30.349307Z",
     "start_time": "2025-09-02T02:02:30.336761Z"
    }
   },
   "cell_type": "code",
   "source": "cust_data.group_by('customer_segment').len()",
   "id": "e5c5e84dc8adea7c",
   "outputs": [
    {
     "data": {
      "text/plain": [
       "shape: (12, 2)\n",
       "┌──────────────────┬──────┐\n",
       "│ customer_segment ┆ len  │\n",
       "│ ---              ┆ ---  │\n",
       "│ i64              ┆ u32  │\n",
       "╞══════════════════╪══════╡\n",
       "│ 4                ┆ 80   │\n",
       "│ 3                ┆ 1052 │\n",
       "│ 10               ┆ 47   │\n",
       "│ 7                ┆ 8    │\n",
       "│ 6                ┆ 147  │\n",
       "│ …                ┆ …    │\n",
       "│ 5                ┆ 2790 │\n",
       "│ 9                ┆ 452  │\n",
       "│ 2                ┆ 15   │\n",
       "│ 0                ┆ 8703 │\n",
       "│ 11               ┆ 82   │\n",
       "└──────────────────┴──────┘"
      ],
      "text/html": [
       "<div><style>\n",
       ".dataframe > thead > tr,\n",
       ".dataframe > tbody > tr {\n",
       "  text-align: right;\n",
       "  white-space: pre-wrap;\n",
       "}\n",
       "</style>\n",
       "<small>shape: (12, 2)</small><table border=\"1\" class=\"dataframe\"><thead><tr><th>customer_segment</th><th>len</th></tr><tr><td>i64</td><td>u32</td></tr></thead><tbody><tr><td>4</td><td>80</td></tr><tr><td>3</td><td>1052</td></tr><tr><td>10</td><td>47</td></tr><tr><td>7</td><td>8</td></tr><tr><td>6</td><td>147</td></tr><tr><td>&hellip;</td><td>&hellip;</td></tr><tr><td>5</td><td>2790</td></tr><tr><td>9</td><td>452</td></tr><tr><td>2</td><td>15</td></tr><tr><td>0</td><td>8703</td></tr><tr><td>11</td><td>82</td></tr></tbody></table></div>"
      ]
     },
     "execution_count": 46,
     "metadata": {},
     "output_type": "execute_result"
    }
   ],
   "execution_count": 46
  },
  {
   "metadata": {
    "ExecuteTime": {
     "end_time": "2025-09-02T02:02:59.840185Z",
     "start_time": "2025-09-02T02:02:40.199074Z"
    }
   },
   "cell_type": "code",
   "source": [
    "# Extract Flight Features\n",
    "test_df = extract_flight_features(test_df)"
   ],
   "id": "1731982b5faf07bd",
   "outputs": [],
   "execution_count": 47
  },
  {
   "metadata": {
    "ExecuteTime": {
     "end_time": "2025-09-02T02:03:09.191867Z",
     "start_time": "2025-09-02T02:03:08.716353Z"
    }
   },
   "cell_type": "code",
   "source": [
    "# Combine customer and flight data\n",
    "test_df = prepare_combined_data(test_df, cust_data)"
   ],
   "id": "935e42bf66da354d",
   "outputs": [],
   "execution_count": 48
  },
  {
   "metadata": {
    "ExecuteTime": {
     "end_time": "2025-09-02T02:03:10.268149Z",
     "start_time": "2025-09-02T02:03:10.257462Z"
    }
   },
   "cell_type": "code",
   "source": "test_df.head(1000)",
   "id": "e51d7fbc0e068d42",
   "outputs": [
    {
     "data": {
      "text/plain": [
       "shape: (1_000, 121)\n",
       "┌──────┬────────────┬────────────┬────────────┬───┬────────────┬───────────┬───────────┬───────────┐\n",
       "│ Id   ┆ corporateT ┆ miniRules0 ┆ miniRules0 ┆ … ┆ daytime_al ┆ weekend_a ┆ price_pre ┆ carrier_l │\n",
       "│ ---  ┆ ariffCode  ┆ _monetaryA ┆ _percentag ┆   ┆ ignment    ┆ lignment  ┆ ference_m ┆ oyalty_ma │\n",
       "│ i64  ┆ ---        ┆ mount      ┆ e          ┆   ┆ ---        ┆ ---       ┆ atch      ┆ tch       │\n",
       "│      ┆ i64        ┆ ---        ┆ ---        ┆   ┆ f64        ┆ f64       ┆ ---       ┆ ---       │\n",
       "│      ┆            ┆ f64        ┆ f64        ┆   ┆            ┆           ┆ f64       ┆ i8        │\n",
       "╞══════╪════════════╪════════════╪════════════╪═══╪════════════╪═══════════╪═══════════╪═══════════╡\n",
       "│ 70   ┆ 81         ┆ 4600.0     ┆ 0.0        ┆ … ┆ 1.0        ┆ 0.0       ┆ 1.412529  ┆ 1         │\n",
       "│ 71   ┆ 81         ┆ 4600.0     ┆ 0.0        ┆ … ┆ 1.0        ┆ 0.0       ┆ 2.825057  ┆ 1         │\n",
       "│ 72   ┆ 81         ┆ 0.0        ┆ 0.0        ┆ … ┆ 1.0        ┆ 0.0       ┆ 8.475172  ┆ 1         │\n",
       "│ 73   ┆ 81         ┆ 4600.0     ┆ 0.0        ┆ … ┆ 1.0        ┆ 0.0       ┆ 16.950344 ┆ 1         │\n",
       "│ 74   ┆ 81         ┆ 4600.0     ┆ 0.0        ┆ … ┆ 1.0        ┆ 0.0       ┆ 21.18793  ┆ 1         │\n",
       "│ …    ┆ …          ┆ …          ┆ …          ┆ … ┆ …          ┆ …         ┆ …         ┆ …         │\n",
       "│ 5033 ┆ 0          ┆ 0.0        ┆ 0.0        ┆ … ┆ 0.901024   ┆ 0.0       ┆ 5.399041  ┆ 0         │\n",
       "│ 5034 ┆ 0          ┆ 0.0        ┆ 0.0        ┆ … ┆ 0.901024   ┆ 0.0       ┆ 10.421405 ┆ 0         │\n",
       "│ 5035 ┆ 0          ┆ 0.0        ┆ 0.0        ┆ … ┆ 0.901024   ┆ 0.0       ┆ 3.641214  ┆ 0         │\n",
       "│ 5036 ┆ 0          ┆ 0.0        ┆ 0.0        ┆ … ┆ 0.901024   ┆ 0.0       ┆ 3.766773  ┆ 0         │\n",
       "│ 5037 ┆ 0          ┆ 0.0        ┆ 0.0        ┆ … ┆ 0.901024   ┆ 0.0       ┆ 3.892332  ┆ 0         │\n",
       "└──────┴────────────┴────────────┴────────────┴───┴────────────┴───────────┴───────────┴───────────┘"
      ],
      "text/html": [
       "<div><style>\n",
       ".dataframe > thead > tr,\n",
       ".dataframe > tbody > tr {\n",
       "  text-align: right;\n",
       "  white-space: pre-wrap;\n",
       "}\n",
       "</style>\n",
       "<small>shape: (1_000, 121)</small><table border=\"1\" class=\"dataframe\"><thead><tr><th>Id</th><th>corporateTariffCode</th><th>miniRules0_monetaryAmount</th><th>miniRules0_percentage</th><th>miniRules0_statusInfos</th><th>miniRules1_monetaryAmount</th><th>miniRules1_percentage</th><th>miniRules1_statusInfos</th><th>pricingInfo_isAccessTP</th><th>pricingInfo_passengerCount</th><th>ranker_id</th><th>selected</th><th>price_percentile</th><th>price_rank_pct</th><th>price_ratio_to_min</th><th>route_popularity</th><th>route_popularity_log</th><th>is_access3D</th><th>is_roundtrip</th><th>route_origin</th><th>origin_is_major_hub</th><th>destination_is_major_hub</th><th>includes_major_hub</th><th>leg0_num_segments</th><th>leg1_num_segments</th><th>total_segments</th><th>leg0_flight_time_min</th><th>leg1_flight_time_min</th><th>booking_lead_days</th><th>leg0_duration_minutes</th><th>leg1_duration_minutes</th><th>trip_duration_minutes</th><th>leg0_departure_hour</th><th>leg0_departure_weekday</th><th>leg0_arrival_hour</th><th>leg0_arrival_weekday</th><th>leg1_departure_hour</th><th>&hellip;</th><th>route_loyalty</th><th>hub_preference</th><th>short_haul_preference</th><th>connection_tolerance</th><th>preferred_duration_quartile</th><th>price_to_duration_sensitivity</th><th>avg_price_per_minute</th><th>price_per_minute_variance</th><th>price_position_preference</th><th>premium_economy_preference</th><th>consistent_price_tier</th><th>preferred_price_tier</th><th>baggage_qty_preference</th><th>baggage_weight_preference</th><th>loyalty_program_utilization</th><th>convenience_priority_score</th><th>loyalty_vs_price_index</th><th>planning_consistency_score</th><th>luxury_index</th><th>search_intensity_per_route</th><th>lead_time_variance</th><th>lead_time_skew</th><th>carrier_diversity</th><th>airport_diversity</th><th>cabin_class_range</th><th>customer_tier</th><th>vip_search_intensity</th><th>vip_carrier_diversity</th><th>vip_cabin_preference</th><th>corp_search_volume</th><th>corp_roundtrip_pref</th><th>corp_planning_variance</th><th>customer_segment</th><th>daytime_alignment</th><th>weekend_alignment</th><th>price_preference_match</th><th>carrier_loyalty_match</th></tr><tr><td>i64</td><td>i64</td><td>f64</td><td>f64</td><td>f64</td><td>f64</td><td>f64</td><td>f64</td><td>f64</td><td>i64</td><td>str</td><td>i64</td><td>f64</td><td>f64</td><td>f64</td><td>u32</td><td>f64</td><td>i32</td><td>i8</td><td>str</td><td>i32</td><td>i32</td><td>i32</td><td>u32</td><td>u32</td><td>u32</td><td>i32</td><td>i32</td><td>i32</td><td>i32</td><td>i32</td><td>i32</td><td>i8</td><td>i8</td><td>i8</td><td>i8</td><td>i8</td><td>&hellip;</td><td>f64</td><td>f64</td><td>f64</td><td>f64</td><td>i32</td><td>f64</td><td>f64</td><td>f64</td><td>f64</td><td>f64</td><td>f64</td><td>i32</td><td>f64</td><td>f64</td><td>f64</td><td>f64</td><td>f64</td><td>f64</td><td>f64</td><td>f64</td><td>i32</td><td>f64</td><td>f64</td><td>f64</td><td>f64</td><td>i8</td><td>f64</td><td>f64</td><td>f64</td><td>i64</td><td>f64</td><td>i32</td><td>i64</td><td>f64</td><td>f64</td><td>f64</td><td>i8</td></tr></thead><tbody><tr><td>70</td><td>81</td><td>4600.0</td><td>0.0</td><td>1.0</td><td>0.0</td><td>0.0</td><td>0.0</td><td>0.0</td><td>1</td><td>&quot;e04b757602824a4dbe227f1e67dbdb…</td><td>0</td><td>0.0</td><td>0.029412</td><td>1.0</td><td>41</td><td>3.73767</td><td>1</td><td>0</td><td>&quot;KHV&quot;</td><td>0</td><td>0</td><td>0</td><td>1</td><td>0</td><td>1</td><td>80</td><td>0</td><td>3</td><td>80</td><td>0</td><td>80</td><td>13</td><td>1</td><td>15</td><td>1</td><td>0</td><td>&hellip;</td><td>0.971429</td><td>0.0</td><td>0.0</td><td>1.257143</td><td>1</td><td>0.891595</td><td>228.853889</td><td>169.39112</td><td>48.025974</td><td>0.528571</td><td>0.626136</td><td>2</td><td>1.257143</td><td>0.0</td><td>0.0</td><td>-28.041566</td><td>-4.802597</td><td>0.333333</td><td>54.584416</td><td>35.0</td><td>2</td><td>1.971429</td><td>0.042857</td><td>0.028571</td><td>1.0</td><td>1</td><td>0.0</td><td>0.0</td><td>0.0</td><td>70</td><td>0.0</td><td>2</td><td>0</td><td>1.0</td><td>0.0</td><td>1.412529</td><td>1</td></tr><tr><td>71</td><td>81</td><td>4600.0</td><td>0.0</td><td>1.0</td><td>4600.0</td><td>0.0</td><td>1.0</td><td>0.0</td><td>1</td><td>&quot;e04b757602824a4dbe227f1e67dbdb…</td><td>1</td><td>3.030303</td><td>0.058824</td><td>1.259453</td><td>41</td><td>3.73767</td><td>1</td><td>0</td><td>&quot;KHV&quot;</td><td>0</td><td>0</td><td>0</td><td>1</td><td>0</td><td>1</td><td>80</td><td>0</td><td>3</td><td>80</td><td>0</td><td>80</td><td>13</td><td>1</td><td>15</td><td>1</td><td>0</td><td>&hellip;</td><td>0.971429</td><td>0.0</td><td>0.0</td><td>1.257143</td><td>1</td><td>0.891595</td><td>228.853889</td><td>169.39112</td><td>48.025974</td><td>0.528571</td><td>0.626136</td><td>2</td><td>1.257143</td><td>0.0</td><td>0.0</td><td>-28.041566</td><td>-4.802597</td><td>0.333333</td><td>54.584416</td><td>35.0</td><td>2</td><td>1.971429</td><td>0.042857</td><td>0.028571</td><td>1.0</td><td>1</td><td>0.0</td><td>0.0</td><td>0.0</td><td>70</td><td>0.0</td><td>2</td><td>0</td><td>1.0</td><td>0.0</td><td>2.825057</td><td>1</td></tr><tr><td>72</td><td>81</td><td>0.0</td><td>0.0</td><td>1.0</td><td>0.0</td><td>0.0</td><td>1.0</td><td>0.0</td><td>1</td><td>&quot;e04b757602824a4dbe227f1e67dbdb…</td><td>0</td><td>15.151515</td><td>0.176471</td><td>1.881866</td><td>41</td><td>3.73767</td><td>1</td><td>0</td><td>&quot;KHV&quot;</td><td>0</td><td>0</td><td>0</td><td>1</td><td>0</td><td>1</td><td>80</td><td>0</td><td>3</td><td>80</td><td>0</td><td>80</td><td>13</td><td>1</td><td>15</td><td>1</td><td>0</td><td>&hellip;</td><td>0.971429</td><td>0.0</td><td>0.0</td><td>1.257143</td><td>1</td><td>0.891595</td><td>228.853889</td><td>169.39112</td><td>48.025974</td><td>0.528571</td><td>0.626136</td><td>2</td><td>1.257143</td><td>0.0</td><td>0.0</td><td>-28.041566</td><td>-4.802597</td><td>0.333333</td><td>54.584416</td><td>35.0</td><td>2</td><td>1.971429</td><td>0.042857</td><td>0.028571</td><td>1.0</td><td>1</td><td>0.0</td><td>0.0</td><td>0.0</td><td>70</td><td>0.0</td><td>2</td><td>0</td><td>1.0</td><td>0.0</td><td>8.475172</td><td>1</td></tr><tr><td>73</td><td>81</td><td>4600.0</td><td>0.0</td><td>1.0</td><td>0.0</td><td>0.0</td><td>0.0</td><td>0.0</td><td>1</td><td>&quot;e04b757602824a4dbe227f1e67dbdb…</td><td>0</td><td>33.333333</td><td>0.352941</td><td>3.704941</td><td>41</td><td>3.73767</td><td>1</td><td>0</td><td>&quot;KHV&quot;</td><td>0</td><td>0</td><td>0</td><td>1</td><td>0</td><td>1</td><td>80</td><td>0</td><td>3</td><td>80</td><td>0</td><td>80</td><td>13</td><td>1</td><td>15</td><td>1</td><td>0</td><td>&hellip;</td><td>0.971429</td><td>0.0</td><td>0.0</td><td>1.257143</td><td>1</td><td>0.891595</td><td>228.853889</td><td>169.39112</td><td>48.025974</td><td>0.528571</td><td>0.626136</td><td>2</td><td>1.257143</td><td>0.0</td><td>0.0</td><td>-28.041566</td><td>-4.802597</td><td>0.333333</td><td>54.584416</td><td>35.0</td><td>2</td><td>1.971429</td><td>0.042857</td><td>0.028571</td><td>1.0</td><td>1</td><td>0.0</td><td>0.0</td><td>0.0</td><td>70</td><td>0.0</td><td>2</td><td>0</td><td>1.0</td><td>0.0</td><td>16.950344</td><td>1</td></tr><tr><td>74</td><td>81</td><td>4600.0</td><td>0.0</td><td>1.0</td><td>4600.0</td><td>0.0</td><td>1.0</td><td>0.0</td><td>1</td><td>&quot;e04b757602824a4dbe227f1e67dbdb…</td><td>0</td><td>42.424242</td><td>0.441176</td><td>4.399117</td><td>41</td><td>3.73767</td><td>1</td><td>0</td><td>&quot;KHV&quot;</td><td>0</td><td>0</td><td>0</td><td>1</td><td>0</td><td>1</td><td>80</td><td>0</td><td>3</td><td>80</td><td>0</td><td>80</td><td>13</td><td>1</td><td>15</td><td>1</td><td>0</td><td>&hellip;</td><td>0.971429</td><td>0.0</td><td>0.0</td><td>1.257143</td><td>1</td><td>0.891595</td><td>228.853889</td><td>169.39112</td><td>48.025974</td><td>0.528571</td><td>0.626136</td><td>2</td><td>1.257143</td><td>0.0</td><td>0.0</td><td>-28.041566</td><td>-4.802597</td><td>0.333333</td><td>54.584416</td><td>35.0</td><td>2</td><td>1.971429</td><td>0.042857</td><td>0.028571</td><td>1.0</td><td>1</td><td>0.0</td><td>0.0</td><td>0.0</td><td>70</td><td>0.0</td><td>2</td><td>0</td><td>1.0</td><td>0.0</td><td>21.18793</td><td>1</td></tr><tr><td>&hellip;</td><td>&hellip;</td><td>&hellip;</td><td>&hellip;</td><td>&hellip;</td><td>&hellip;</td><td>&hellip;</td><td>&hellip;</td><td>&hellip;</td><td>&hellip;</td><td>&hellip;</td><td>&hellip;</td><td>&hellip;</td><td>&hellip;</td><td>&hellip;</td><td>&hellip;</td><td>&hellip;</td><td>&hellip;</td><td>&hellip;</td><td>&hellip;</td><td>&hellip;</td><td>&hellip;</td><td>&hellip;</td><td>&hellip;</td><td>&hellip;</td><td>&hellip;</td><td>&hellip;</td><td>&hellip;</td><td>&hellip;</td><td>&hellip;</td><td>&hellip;</td><td>&hellip;</td><td>&hellip;</td><td>&hellip;</td><td>&hellip;</td><td>&hellip;</td><td>&hellip;</td><td>&hellip;</td><td>&hellip;</td><td>&hellip;</td><td>&hellip;</td><td>&hellip;</td><td>&hellip;</td><td>&hellip;</td><td>&hellip;</td><td>&hellip;</td><td>&hellip;</td><td>&hellip;</td><td>&hellip;</td><td>&hellip;</td><td>&hellip;</td><td>&hellip;</td><td>&hellip;</td><td>&hellip;</td><td>&hellip;</td><td>&hellip;</td><td>&hellip;</td><td>&hellip;</td><td>&hellip;</td><td>&hellip;</td><td>&hellip;</td><td>&hellip;</td><td>&hellip;</td><td>&hellip;</td><td>&hellip;</td><td>&hellip;</td><td>&hellip;</td><td>&hellip;</td><td>&hellip;</td><td>&hellip;</td><td>&hellip;</td><td>&hellip;</td><td>&hellip;</td><td>&hellip;</td><td>&hellip;</td></tr><tr><td>5033</td><td>0</td><td>0.0</td><td>0.0</td><td>0.0</td><td>0.0</td><td>0.0</td><td>0.0</td><td>1.0</td><td>1</td><td>&quot;1da6a88ffa144f09849a2db6b0d19c…</td><td>0</td><td>10.741688</td><td>0.109694</td><td>1.190398</td><td>392</td><td>5.97381</td><td>0</td><td>1</td><td>&quot;KJA&quot;</td><td>0</td><td>0</td><td>0</td><td>1</td><td>1</td><td>2</td><td>350</td><td>215</td><td>31</td><td>350</td><td>215</td><td>565</td><td>8</td><td>2</td><td>10</td><td>2</td><td>23</td><td>&hellip;</td><td>0.993174</td><td>0.0</td><td>0.0</td><td>1.616041</td><td>1</td><td>0.481331</td><td>65.127203</td><td>41.75886</td><td>49.219166</td><td>0.046928</td><td>0.623541</td><td>2</td><td>0.334471</td><td>0.0</td><td>0.0</td><td>-45.126899</td><td>-4.921917</td><td>0.034483</td><td>45.64485</td><td>146.5</td><td>28</td><td>0.787845</td><td>0.013652</td><td>0.003413</td><td>1.0</td><td>1</td><td>0.0</td><td>0.0</td><td>0.0</td><td>586</td><td>0.993174</td><td>28</td><td>0</td><td>0.901024</td><td>0.0</td><td>5.399041</td><td>0</td></tr><tr><td>5034</td><td>0</td><td>0.0</td><td>0.0</td><td>0.0</td><td>0.0</td><td>0.0</td><td>0.0</td><td>1.0</td><td>1</td><td>&quot;1da6a88ffa144f09849a2db6b0d19c…</td><td>0</td><td>20.971867</td><td>0.211735</td><td>1.403463</td><td>392</td><td>5.97381</td><td>0</td><td>1</td><td>&quot;KJA&quot;</td><td>0</td><td>0</td><td>0</td><td>1</td><td>1</td><td>2</td><td>350</td><td>215</td><td>31</td><td>350</td><td>215</td><td>565</td><td>8</td><td>2</td><td>10</td><td>2</td><td>23</td><td>&hellip;</td><td>0.993174</td><td>0.0</td><td>0.0</td><td>1.616041</td><td>1</td><td>0.481331</td><td>65.127203</td><td>41.75886</td><td>49.219166</td><td>0.046928</td><td>0.623541</td><td>2</td><td>0.334471</td><td>0.0</td><td>0.0</td><td>-45.126899</td><td>-4.921917</td><td>0.034483</td><td>45.64485</td><td>146.5</td><td>28</td><td>0.787845</td><td>0.013652</td><td>0.003413</td><td>1.0</td><td>1</td><td>0.0</td><td>0.0</td><td>0.0</td><td>586</td><td>0.993174</td><td>28</td><td>0</td><td>0.901024</td><td>0.0</td><td>10.421405</td><td>0</td></tr><tr><td>5035</td><td>0</td><td>0.0</td><td>0.0</td><td>0.0</td><td>0.0</td><td>0.0</td><td>0.0</td><td>1.0</td><td>1</td><td>&quot;1da6a88ffa144f09849a2db6b0d19c…</td><td>0</td><td>7.161125</td><td>0.07398</td><td>1.159572</td><td>392</td><td>5.97381</td><td>0</td><td>1</td><td>&quot;KJA&quot;</td><td>0</td><td>0</td><td>0</td><td>1</td><td>1</td><td>2</td><td>370</td><td>215</td><td>32</td><td>370</td><td>215</td><td>585</td><td>15</td><td>2</td><td>17</td><td>2</td><td>1</td><td>&hellip;</td><td>0.993174</td><td>0.0</td><td>0.0</td><td>1.616041</td><td>1</td><td>0.481331</td><td>65.127203</td><td>41.75886</td><td>49.219166</td><td>0.046928</td><td>0.623541</td><td>2</td><td>0.334471</td><td>0.0</td><td>0.0</td><td>-45.126899</td><td>-4.921917</td><td>0.034483</td><td>45.64485</td><td>146.5</td><td>28</td><td>0.787845</td><td>0.013652</td><td>0.003413</td><td>1.0</td><td>1</td><td>0.0</td><td>0.0</td><td>0.0</td><td>586</td><td>0.993174</td><td>28</td><td>0</td><td>0.901024</td><td>0.0</td><td>3.641214</td><td>0</td></tr><tr><td>5036</td><td>0</td><td>0.0</td><td>0.0</td><td>0.0</td><td>0.0</td><td>0.0</td><td>0.0</td><td>1.0</td><td>1</td><td>&quot;1da6a88ffa144f09849a2db6b0d19c…</td><td>0</td><td>7.161125</td><td>0.076531</td><td>1.159572</td><td>392</td><td>5.97381</td><td>0</td><td>1</td><td>&quot;KJA&quot;</td><td>0</td><td>0</td><td>0</td><td>1</td><td>1</td><td>2</td><td>370</td><td>215</td><td>32</td><td>370</td><td>215</td><td>585</td><td>15</td><td>2</td><td>17</td><td>2</td><td>9</td><td>&hellip;</td><td>0.993174</td><td>0.0</td><td>0.0</td><td>1.616041</td><td>1</td><td>0.481331</td><td>65.127203</td><td>41.75886</td><td>49.219166</td><td>0.046928</td><td>0.623541</td><td>2</td><td>0.334471</td><td>0.0</td><td>0.0</td><td>-45.126899</td><td>-4.921917</td><td>0.034483</td><td>45.64485</td><td>146.5</td><td>28</td><td>0.787845</td><td>0.013652</td><td>0.003413</td><td>1.0</td><td>1</td><td>0.0</td><td>0.0</td><td>0.0</td><td>586</td><td>0.993174</td><td>28</td><td>0</td><td>0.901024</td><td>0.0</td><td>3.766773</td><td>0</td></tr><tr><td>5037</td><td>0</td><td>0.0</td><td>0.0</td><td>0.0</td><td>0.0</td><td>0.0</td><td>0.0</td><td>1.0</td><td>1</td><td>&quot;1da6a88ffa144f09849a2db6b0d19c…</td><td>0</td><td>7.161125</td><td>0.079082</td><td>1.159572</td><td>392</td><td>5.97381</td><td>0</td><td>1</td><td>&quot;KJA&quot;</td><td>0</td><td>0</td><td>0</td><td>1</td><td>1</td><td>2</td><td>370</td><td>215</td><td>32</td><td>370</td><td>215</td><td>585</td><td>15</td><td>2</td><td>17</td><td>2</td><td>10</td><td>&hellip;</td><td>0.993174</td><td>0.0</td><td>0.0</td><td>1.616041</td><td>1</td><td>0.481331</td><td>65.127203</td><td>41.75886</td><td>49.219166</td><td>0.046928</td><td>0.623541</td><td>2</td><td>0.334471</td><td>0.0</td><td>0.0</td><td>-45.126899</td><td>-4.921917</td><td>0.034483</td><td>45.64485</td><td>146.5</td><td>28</td><td>0.787845</td><td>0.013652</td><td>0.003413</td><td>1.0</td><td>1</td><td>0.0</td><td>0.0</td><td>0.0</td><td>586</td><td>0.993174</td><td>28</td><td>0</td><td>0.901024</td><td>0.0</td><td>3.892332</td><td>0</td></tr></tbody></table></div>"
      ]
     },
     "execution_count": 49,
     "metadata": {},
     "output_type": "execute_result"
    }
   ],
   "execution_count": 49
  },
  {
   "metadata": {
    "ExecuteTime": {
     "end_time": "2025-09-02T02:03:20.734054Z",
     "start_time": "2025-09-02T02:03:20.728055Z"
    }
   },
   "cell_type": "code",
   "source": [
    "# After training your model\n",
    "def complete_evaluation(model, test_df):\n",
    "    \"\"\"\n",
    "    Complete evaluation workflow\n",
    "    \"\"\"\n",
    "    print(\"Preparing test data...\")\n",
    "    X_test, y_test, groups_test = prepare_ranking_data(test_df)\n",
    "\n",
    "    # Prepare testing data for ranking\n",
    "    categorical_features = [col for col in X_test.columns if not X_test[col].dtype.is_numeric()]\n",
    "    X_test = X_test.with_columns([pl.col(col).cast(pl.Categorical) for col in categorical_features])\n",
    "\n",
    "    # Convert to pandas for LightGBM compatibility\n",
    "    X_test = X_test.to_pandas()\n",
    "\n",
    "    print(\"Making predictions...\")\n",
    "    y_pred = model.predict(X_test)\n",
    "\n",
    "    print(\"Calculating Hit Rate @ 3...\")\n",
    "    hit_rate, details = detailed_hit_rate_evaluation(\n",
    "        y_test,\n",
    "        y_pred,\n",
    "        groups_test,\n",
    "        ranker_ids=test_df['ranker_id'].unique()\n",
    "    )\n",
    "\n",
    "    print(f\"Overall Hit Rate @ 3: {hit_rate:.4f}\")\n",
    "\n",
    "    return hit_rate, details, y_pred\n"
   ],
   "id": "d6eebdebd756992f",
   "outputs": [],
   "execution_count": 50
  },
  {
   "metadata": {
    "ExecuteTime": {
     "end_time": "2025-09-02T02:04:19.646308Z",
     "start_time": "2025-09-02T02:03:22.620081Z"
    }
   },
   "cell_type": "code",
   "source": [
    "# Usage\n",
    "hit_rate, details, y_pred = complete_evaluation(model, test_df)"
   ],
   "id": "c24a0479464ef754",
   "outputs": [
    {
     "name": "stdout",
     "output_type": "stream",
     "text": [
      "Preparing test data...\n",
      "Making predictions...\n",
      "Calculating Hit Rate @ 3...\n",
      "Overall Hit Rate @ 3: 0.5786\n"
     ]
    }
   ],
   "execution_count": 51
  },
  {
   "metadata": {
    "ExecuteTime": {
     "end_time": "2025-09-02T00:01:25.864414Z",
     "start_time": "2025-09-02T00:01:25.858551Z"
    }
   },
   "cell_type": "code",
   "source": "test_df = test_df.with_columns(pl.Series('y_pred', y_pred))",
   "id": "1f13f64cf68635d7",
   "outputs": [],
   "execution_count": 74
  },
  {
   "metadata": {
    "ExecuteTime": {
     "end_time": "2025-09-02T00:01:38.539040Z",
     "start_time": "2025-09-02T00:01:38.371061Z"
    }
   },
   "cell_type": "code",
   "source": "test_df = test_df.with_columns(pl.col('y_pred').rank(method='ordinal', descending=True).over('ranker_id').alias('flight_rank'))",
   "id": "249bc007d1058924",
   "outputs": [],
   "execution_count": 75
  },
  {
   "metadata": {
    "ExecuteTime": {
     "end_time": "2025-09-02T00:01:40.240839Z",
     "start_time": "2025-09-02T00:01:40.227344Z"
    }
   },
   "cell_type": "code",
   "source": "test_df.head(100)",
   "id": "1e0c4d7e77e696f",
   "outputs": [
    {
     "data": {
      "text/plain": [
       "shape: (100, 123)\n",
       "┌──────┬────────────┬────────────┬────────────┬───┬────────────┬───────────┬───────────┬───────────┐\n",
       "│ Id   ┆ corporateT ┆ miniRules0 ┆ miniRules0 ┆ … ┆ price_pref ┆ carrier_l ┆ y_pred    ┆ flight_ra │\n",
       "│ ---  ┆ ariffCode  ┆ _monetaryA ┆ _percentag ┆   ┆ erence_mat ┆ oyalty_ma ┆ ---       ┆ nk        │\n",
       "│ i64  ┆ ---        ┆ mount      ┆ e          ┆   ┆ ch         ┆ tch       ┆ f64       ┆ ---       │\n",
       "│      ┆ i64        ┆ ---        ┆ ---        ┆   ┆ ---        ┆ ---       ┆           ┆ u32       │\n",
       "│      ┆            ┆ f64        ┆ f64        ┆   ┆ f64        ┆ i8        ┆           ┆           │\n",
       "╞══════╪════════════╪════════════╪════════════╪═══╪════════════╪═══════════╪═══════════╪═══════════╡\n",
       "│ 0    ┆ 0          ┆ 0.0        ┆ 0.0        ┆ … ┆ 1.850789   ┆ 0         ┆ -6.17485  ┆ 23        │\n",
       "│ 1    ┆ 123        ┆ 2300.0     ┆ 0.0        ┆ … ┆ 3.701578   ┆ 1         ┆ -12.45169 ┆ 25        │\n",
       "│      ┆            ┆            ┆            ┆   ┆            ┆           ┆ 4         ┆           │\n",
       "│ 2    ┆ 0          ┆ 2300.0     ┆ 0.0        ┆ … ┆ 14.806313  ┆ 1         ┆ -2.238555 ┆ 4         │\n",
       "│ 3    ┆ 123        ┆ 0.0        ┆ 0.0        ┆ … ┆ 25.911047  ┆ 1         ┆ -1.800006 ┆ 2         │\n",
       "│ 4    ┆ 0          ┆ 0.0        ┆ 0.0        ┆ … ┆ 37.015782  ┆ 1         ┆ -2.841849 ┆ 6         │\n",
       "│ …    ┆ …          ┆ …          ┆ …          ┆ … ┆ …          ┆ …         ┆ …         ┆ …         │\n",
       "│ 1358 ┆ 177        ┆ 0.0        ┆ 0.0        ┆ … ┆ 33.213952  ┆ 1         ┆ -1.656742 ┆ 12        │\n",
       "│ 1359 ┆ 177        ┆ 4600.0     ┆ 0.0        ┆ … ┆ 38.134538  ┆ 1         ┆ -5.032743 ┆ 26        │\n",
       "│ 1360 ┆ 177        ┆ 4600.0     ┆ 0.0        ┆ … ┆ 43.055123  ┆ 1         ┆ -0.098127 ┆ 5         │\n",
       "│ 1361 ┆ 177        ┆ 0.0        ┆ 0.0        ┆ … ┆ 47.975709  ┆ 1         ┆ 0.027688  ┆ 4         │\n",
       "│ 1362 ┆ 42         ┆ 4000.0     ┆ 0.0        ┆ … ┆ 7.380878   ┆ 0         ┆ -3.385539 ┆ 19        │\n",
       "└──────┴────────────┴────────────┴────────────┴───┴────────────┴───────────┴───────────┴───────────┘"
      ],
      "text/html": [
       "<div><style>\n",
       ".dataframe > thead > tr,\n",
       ".dataframe > tbody > tr {\n",
       "  text-align: right;\n",
       "  white-space: pre-wrap;\n",
       "}\n",
       "</style>\n",
       "<small>shape: (100, 123)</small><table border=\"1\" class=\"dataframe\"><thead><tr><th>Id</th><th>corporateTariffCode</th><th>miniRules0_monetaryAmount</th><th>miniRules0_percentage</th><th>miniRules0_statusInfos</th><th>miniRules1_monetaryAmount</th><th>miniRules1_percentage</th><th>miniRules1_statusInfos</th><th>pricingInfo_isAccessTP</th><th>pricingInfo_passengerCount</th><th>ranker_id</th><th>selected</th><th>price_percentile</th><th>price_rank_pct</th><th>price_ratio_to_min</th><th>route_popularity</th><th>route_popularity_log</th><th>is_access3D</th><th>is_roundtrip</th><th>route_origin</th><th>origin_is_major_hub</th><th>destination_is_major_hub</th><th>includes_major_hub</th><th>leg0_num_segments</th><th>leg1_num_segments</th><th>total_segments</th><th>leg0_flight_time_min</th><th>leg1_flight_time_min</th><th>booking_lead_days</th><th>leg0_duration_minutes</th><th>leg1_duration_minutes</th><th>trip_duration_minutes</th><th>leg0_departure_hour</th><th>leg0_departure_weekday</th><th>leg0_arrival_hour</th><th>leg0_arrival_weekday</th><th>leg1_departure_hour</th><th>&hellip;</th><th>short_haul_preference</th><th>connection_tolerance</th><th>preferred_duration_quartile</th><th>price_to_duration_sensitivity</th><th>avg_price_per_minute</th><th>price_per_minute_variance</th><th>price_position_preference</th><th>premium_economy_preference</th><th>consistent_price_tier</th><th>preferred_price_tier</th><th>baggage_qty_preference</th><th>baggage_weight_preference</th><th>loyalty_program_utilization</th><th>convenience_priority_score</th><th>loyalty_vs_price_index</th><th>planning_consistency_score</th><th>luxury_index</th><th>search_intensity_per_route</th><th>lead_time_variance</th><th>lead_time_skew</th><th>carrier_diversity</th><th>airport_diversity</th><th>cabin_class_range</th><th>customer_tier</th><th>vip_search_intensity</th><th>vip_carrier_diversity</th><th>vip_cabin_preference</th><th>corp_search_volume</th><th>corp_roundtrip_pref</th><th>corp_planning_variance</th><th>customer_segment</th><th>daytime_alignment</th><th>weekend_alignment</th><th>price_preference_match</th><th>carrier_loyalty_match</th><th>y_pred</th><th>flight_rank</th></tr><tr><td>i64</td><td>i64</td><td>f64</td><td>f64</td><td>f64</td><td>f64</td><td>f64</td><td>f64</td><td>f64</td><td>i64</td><td>str</td><td>i64</td><td>f64</td><td>f64</td><td>f64</td><td>u32</td><td>f64</td><td>i32</td><td>i8</td><td>str</td><td>i32</td><td>i32</td><td>i32</td><td>u32</td><td>u32</td><td>u32</td><td>i32</td><td>i32</td><td>i32</td><td>i32</td><td>i32</td><td>i32</td><td>i8</td><td>i8</td><td>i8</td><td>i8</td><td>i8</td><td>&hellip;</td><td>f64</td><td>f64</td><td>i32</td><td>f64</td><td>f64</td><td>f64</td><td>f64</td><td>f64</td><td>f64</td><td>i32</td><td>f64</td><td>f64</td><td>f64</td><td>f64</td><td>f64</td><td>f64</td><td>f64</td><td>f64</td><td>i32</td><td>f64</td><td>f64</td><td>f64</td><td>f64</td><td>i8</td><td>f64</td><td>f64</td><td>f64</td><td>i64</td><td>f64</td><td>i32</td><td>i64</td><td>f64</td><td>f64</td><td>f64</td><td>i8</td><td>f64</td><td>u32</td></tr></thead><tbody><tr><td>0</td><td>0</td><td>0.0</td><td>0.0</td><td>0.0</td><td>0.0</td><td>0.0</td><td>0.0</td><td>1.0</td><td>1</td><td>&quot;98ce0dabf6964640b63079fbafd42c…</td><td>1</td><td>0.0</td><td>0.04</td><td>1.0</td><td>25</td><td>3.258097</td><td>0</td><td>1</td><td>&quot;TLK&quot;</td><td>0</td><td>0</td><td>0</td><td>1</td><td>1</td><td>2</td><td>160</td><td>155</td><td>29</td><td>160</td><td>155</td><td>315</td><td>15</td><td>6</td><td>16</td><td>6</td><td>9</td><td>&hellip;</td><td>0.0</td><td>1.97561</td><td>2</td><td>-0.333777</td><td>93.40632</td><td>72.972179</td><td>46.269727</td><td>0.182927</td><td>0.633535</td><td>2</td><td>1.02439</td><td>0.0</td><td>1.0</td><td>-33.657433</td><td>5.373027</td><td>0.052632</td><td>46.7934</td><td>27.333333</td><td>18</td><td>1.421748</td><td>0.073171</td><td>0.036585</td><td>1.0</td><td>1</td><td>0.0</td><td>0.0</td><td>0.0</td><td>82</td><td>0.304878</td><td>18</td><td>0</td><td>1.0</td><td>0.0</td><td>1.850789</td><td>0</td><td>-6.17485</td><td>23</td></tr><tr><td>1</td><td>123</td><td>2300.0</td><td>0.0</td><td>1.0</td><td>3500.0</td><td>0.0</td><td>1.0</td><td>1.0</td><td>1</td><td>&quot;98ce0dabf6964640b63079fbafd42c…</td><td>0</td><td>4.166667</td><td>0.08</td><td>3.028015</td><td>25</td><td>3.258097</td><td>1</td><td>1</td><td>&quot;TLK&quot;</td><td>0</td><td>0</td><td>0</td><td>2</td><td>2</td><td>4</td><td>250</td><td>245</td><td>29</td><td>445</td><td>505</td><td>950</td><td>9</td><td>6</td><td>14</td><td>6</td><td>22</td><td>&hellip;</td><td>0.0</td><td>1.97561</td><td>2</td><td>-0.333777</td><td>93.40632</td><td>72.972179</td><td>46.269727</td><td>0.182927</td><td>0.633535</td><td>2</td><td>1.02439</td><td>0.0</td><td>1.0</td><td>-33.657433</td><td>5.373027</td><td>0.052632</td><td>46.7934</td><td>27.333333</td><td>18</td><td>1.421748</td><td>0.073171</td><td>0.036585</td><td>1.0</td><td>1</td><td>0.0</td><td>0.0</td><td>0.0</td><td>82</td><td>0.304878</td><td>18</td><td>0</td><td>1.0</td><td>0.0</td><td>3.701578</td><td>1</td><td>-12.451694</td><td>25</td></tr><tr><td>2</td><td>0</td><td>2300.0</td><td>0.0</td><td>1.0</td><td>3500.0</td><td>0.0</td><td>1.0</td><td>1.0</td><td>1</td><td>&quot;98ce0dabf6964640b63079fbafd42c…</td><td>0</td><td>29.166667</td><td>0.32</td><td>3.18023</td><td>25</td><td>3.258097</td><td>0</td><td>1</td><td>&quot;TLK&quot;</td><td>0</td><td>0</td><td>0</td><td>2</td><td>2</td><td>4</td><td>250</td><td>245</td><td>29</td><td>445</td><td>505</td><td>950</td><td>9</td><td>6</td><td>14</td><td>6</td><td>22</td><td>&hellip;</td><td>0.0</td><td>1.97561</td><td>2</td><td>-0.333777</td><td>93.40632</td><td>72.972179</td><td>46.269727</td><td>0.182927</td><td>0.633535</td><td>2</td><td>1.02439</td><td>0.0</td><td>1.0</td><td>-33.657433</td><td>5.373027</td><td>0.052632</td><td>46.7934</td><td>27.333333</td><td>18</td><td>1.421748</td><td>0.073171</td><td>0.036585</td><td>1.0</td><td>1</td><td>0.0</td><td>0.0</td><td>0.0</td><td>82</td><td>0.304878</td><td>18</td><td>0</td><td>1.0</td><td>0.0</td><td>14.806313</td><td>1</td><td>-2.238555</td><td>4</td></tr><tr><td>3</td><td>123</td><td>0.0</td><td>0.0</td><td>1.0</td><td>0.0</td><td>0.0</td><td>1.0</td><td>1.0</td><td>1</td><td>&quot;98ce0dabf6964640b63079fbafd42c…</td><td>0</td><td>54.166667</td><td>0.56</td><td>4.849562</td><td>25</td><td>3.258097</td><td>1</td><td>1</td><td>&quot;TLK&quot;</td><td>0</td><td>0</td><td>0</td><td>2</td><td>2</td><td>4</td><td>250</td><td>245</td><td>29</td><td>445</td><td>505</td><td>950</td><td>9</td><td>6</td><td>14</td><td>6</td><td>22</td><td>&hellip;</td><td>0.0</td><td>1.97561</td><td>2</td><td>-0.333777</td><td>93.40632</td><td>72.972179</td><td>46.269727</td><td>0.182927</td><td>0.633535</td><td>2</td><td>1.02439</td><td>0.0</td><td>1.0</td><td>-33.657433</td><td>5.373027</td><td>0.052632</td><td>46.7934</td><td>27.333333</td><td>18</td><td>1.421748</td><td>0.073171</td><td>0.036585</td><td>1.0</td><td>1</td><td>0.0</td><td>0.0</td><td>0.0</td><td>82</td><td>0.304878</td><td>18</td><td>0</td><td>1.0</td><td>0.0</td><td>25.911047</td><td>1</td><td>-1.800006</td><td>2</td></tr><tr><td>4</td><td>0</td><td>0.0</td><td>0.0</td><td>1.0</td><td>0.0</td><td>0.0</td><td>1.0</td><td>1.0</td><td>1</td><td>&quot;98ce0dabf6964640b63079fbafd42c…</td><td>0</td><td>79.166667</td><td>0.8</td><td>5.097726</td><td>25</td><td>3.258097</td><td>0</td><td>1</td><td>&quot;TLK&quot;</td><td>0</td><td>0</td><td>0</td><td>2</td><td>2</td><td>4</td><td>250</td><td>245</td><td>29</td><td>445</td><td>505</td><td>950</td><td>9</td><td>6</td><td>14</td><td>6</td><td>22</td><td>&hellip;</td><td>0.0</td><td>1.97561</td><td>2</td><td>-0.333777</td><td>93.40632</td><td>72.972179</td><td>46.269727</td><td>0.182927</td><td>0.633535</td><td>2</td><td>1.02439</td><td>0.0</td><td>1.0</td><td>-33.657433</td><td>5.373027</td><td>0.052632</td><td>46.7934</td><td>27.333333</td><td>18</td><td>1.421748</td><td>0.073171</td><td>0.036585</td><td>1.0</td><td>1</td><td>0.0</td><td>0.0</td><td>0.0</td><td>82</td><td>0.304878</td><td>18</td><td>0</td><td>1.0</td><td>0.0</td><td>37.015782</td><td>1</td><td>-2.841849</td><td>6</td></tr><tr><td>&hellip;</td><td>&hellip;</td><td>&hellip;</td><td>&hellip;</td><td>&hellip;</td><td>&hellip;</td><td>&hellip;</td><td>&hellip;</td><td>&hellip;</td><td>&hellip;</td><td>&hellip;</td><td>&hellip;</td><td>&hellip;</td><td>&hellip;</td><td>&hellip;</td><td>&hellip;</td><td>&hellip;</td><td>&hellip;</td><td>&hellip;</td><td>&hellip;</td><td>&hellip;</td><td>&hellip;</td><td>&hellip;</td><td>&hellip;</td><td>&hellip;</td><td>&hellip;</td><td>&hellip;</td><td>&hellip;</td><td>&hellip;</td><td>&hellip;</td><td>&hellip;</td><td>&hellip;</td><td>&hellip;</td><td>&hellip;</td><td>&hellip;</td><td>&hellip;</td><td>&hellip;</td><td>&hellip;</td><td>&hellip;</td><td>&hellip;</td><td>&hellip;</td><td>&hellip;</td><td>&hellip;</td><td>&hellip;</td><td>&hellip;</td><td>&hellip;</td><td>&hellip;</td><td>&hellip;</td><td>&hellip;</td><td>&hellip;</td><td>&hellip;</td><td>&hellip;</td><td>&hellip;</td><td>&hellip;</td><td>&hellip;</td><td>&hellip;</td><td>&hellip;</td><td>&hellip;</td><td>&hellip;</td><td>&hellip;</td><td>&hellip;</td><td>&hellip;</td><td>&hellip;</td><td>&hellip;</td><td>&hellip;</td><td>&hellip;</td><td>&hellip;</td><td>&hellip;</td><td>&hellip;</td><td>&hellip;</td><td>&hellip;</td><td>&hellip;</td><td>&hellip;</td><td>&hellip;</td><td>&hellip;</td></tr><tr><td>1358</td><td>177</td><td>0.0</td><td>0.0</td><td>1.0</td><td>0.0</td><td>0.0</td><td>1.0</td><td>1.0</td><td>1</td><td>&quot;629321276e5748a5a7ea5e3f91642f…</td><td>0</td><td>60.526316</td><td>0.692308</td><td>2.730658</td><td>649</td><td>6.476972</td><td>1</td><td>0</td><td>&quot;SGC&quot;</td><td>0</td><td>0</td><td>0</td><td>2</td><td>0</td><td>2</td><td>340</td><td>0</td><td>0</td><td>665</td><td>0</td><td>665</td><td>4</td><td>6</td><td>15</td><td>6</td><td>0</td><td>&hellip;</td><td>0.0</td><td>1.871795</td><td>1</td><td>-0.04197</td><td>103.538343</td><td>60.999025</td><td>47.975709</td><td>0.307692</td><td>0.62838</td><td>1</td><td>1.307692</td><td>0.0</td><td>0.0</td><td>-38.244081</td><td>-4.797571</td><td>0.5</td><td>50.1417</td><td>39.0</td><td>1</td><td>0.74359</td><td>0.076923</td><td>0.025641</td><td>1.0</td><td>1</td><td>0.0</td><td>0.0</td><td>0.0</td><td>39</td><td>0.0</td><td>1</td><td>10</td><td>0.0</td><td>0.0</td><td>33.213952</td><td>1</td><td>-1.656742</td><td>12</td></tr><tr><td>1359</td><td>177</td><td>4600.0</td><td>0.0</td><td>1.0</td><td>0.0</td><td>0.0</td><td>0.0</td><td>0.0</td><td>1</td><td>&quot;629321276e5748a5a7ea5e3f91642f…</td><td>0</td><td>71.052632</td><td>0.794872</td><td>3.731367</td><td>649</td><td>6.476972</td><td>1</td><td>0</td><td>&quot;SGC&quot;</td><td>0</td><td>0</td><td>0</td><td>2</td><td>0</td><td>2</td><td>340</td><td>0</td><td>0</td><td>665</td><td>0</td><td>665</td><td>4</td><td>6</td><td>15</td><td>6</td><td>0</td><td>&hellip;</td><td>0.0</td><td>1.871795</td><td>1</td><td>-0.04197</td><td>103.538343</td><td>60.999025</td><td>47.975709</td><td>0.307692</td><td>0.62838</td><td>1</td><td>1.307692</td><td>0.0</td><td>0.0</td><td>-38.244081</td><td>-4.797571</td><td>0.5</td><td>50.1417</td><td>39.0</td><td>1</td><td>0.74359</td><td>0.076923</td><td>0.025641</td><td>1.0</td><td>1</td><td>0.0</td><td>0.0</td><td>0.0</td><td>39</td><td>0.0</td><td>1</td><td>10</td><td>0.0</td><td>0.0</td><td>38.134538</td><td>1</td><td>-5.032743</td><td>26</td></tr><tr><td>1360</td><td>177</td><td>4600.0</td><td>0.0</td><td>1.0</td><td>4600.0</td><td>0.0</td><td>1.0</td><td>0.0</td><td>1</td><td>&quot;629321276e5748a5a7ea5e3f91642f…</td><td>0</td><td>81.578947</td><td>0.897436</td><td>3.944961</td><td>649</td><td>6.476972</td><td>1</td><td>0</td><td>&quot;SGC&quot;</td><td>0</td><td>0</td><td>0</td><td>2</td><td>0</td><td>2</td><td>340</td><td>0</td><td>0</td><td>665</td><td>0</td><td>665</td><td>4</td><td>6</td><td>15</td><td>6</td><td>0</td><td>&hellip;</td><td>0.0</td><td>1.871795</td><td>1</td><td>-0.04197</td><td>103.538343</td><td>60.999025</td><td>47.975709</td><td>0.307692</td><td>0.62838</td><td>1</td><td>1.307692</td><td>0.0</td><td>0.0</td><td>-38.244081</td><td>-4.797571</td><td>0.5</td><td>50.1417</td><td>39.0</td><td>1</td><td>0.74359</td><td>0.076923</td><td>0.025641</td><td>1.0</td><td>1</td><td>0.0</td><td>0.0</td><td>0.0</td><td>39</td><td>0.0</td><td>1</td><td>10</td><td>0.0</td><td>0.0</td><td>43.055123</td><td>1</td><td>-0.098127</td><td>5</td></tr><tr><td>1361</td><td>177</td><td>0.0</td><td>0.0</td><td>1.0</td><td>0.0</td><td>0.0</td><td>1.0</td><td>0.0</td><td>1</td><td>&quot;629321276e5748a5a7ea5e3f91642f…</td><td>0</td><td>92.105263</td><td>1.0</td><td>4.961246</td><td>649</td><td>6.476972</td><td>1</td><td>0</td><td>&quot;SGC&quot;</td><td>0</td><td>0</td><td>0</td><td>2</td><td>0</td><td>2</td><td>340</td><td>0</td><td>0</td><td>665</td><td>0</td><td>665</td><td>4</td><td>6</td><td>15</td><td>6</td><td>0</td><td>&hellip;</td><td>0.0</td><td>1.871795</td><td>1</td><td>-0.04197</td><td>103.538343</td><td>60.999025</td><td>47.975709</td><td>0.307692</td><td>0.62838</td><td>1</td><td>1.307692</td><td>0.0</td><td>0.0</td><td>-38.244081</td><td>-4.797571</td><td>0.5</td><td>50.1417</td><td>39.0</td><td>1</td><td>0.74359</td><td>0.076923</td><td>0.025641</td><td>1.0</td><td>1</td><td>0.0</td><td>0.0</td><td>0.0</td><td>39</td><td>0.0</td><td>1</td><td>10</td><td>0.0</td><td>0.0</td><td>47.975709</td><td>1</td><td>0.027688</td><td>4</td></tr><tr><td>1362</td><td>42</td><td>4000.0</td><td>0.0</td><td>1.0</td><td>0.0</td><td>0.0</td><td>0.0</td><td>1.0</td><td>1</td><td>&quot;629321276e5748a5a7ea5e3f91642f…</td><td>0</td><td>13.157895</td><td>0.153846</td><td>1.208402</td><td>649</td><td>6.476972</td><td>1</td><td>0</td><td>&quot;SGC&quot;</td><td>0</td><td>0</td><td>0</td><td>2</td><td>0</td><td>2</td><td>340</td><td>0</td><td>1</td><td>705</td><td>0</td><td>705</td><td>18</td><td>6</td><td>5</td><td>7</td><td>0</td><td>&hellip;</td><td>0.0</td><td>1.871795</td><td>1</td><td>-0.04197</td><td>103.538343</td><td>60.999025</td><td>47.975709</td><td>0.307692</td><td>0.62838</td><td>1</td><td>1.307692</td><td>0.0</td><td>0.0</td><td>-38.244081</td><td>-4.797571</td><td>0.5</td><td>50.1417</td><td>39.0</td><td>1</td><td>0.74359</td><td>0.076923</td><td>0.025641</td><td>1.0</td><td>1</td><td>0.0</td><td>0.0</td><td>0.0</td><td>39</td><td>0.0</td><td>1</td><td>10</td><td>0.74359</td><td>0.0</td><td>7.380878</td><td>0</td><td>-3.385539</td><td>19</td></tr></tbody></table></div>"
      ]
     },
     "execution_count": 76,
     "metadata": {},
     "output_type": "execute_result"
    }
   ],
   "execution_count": 76
  },
  {
   "metadata": {
    "ExecuteTime": {
     "end_time": "2025-09-02T00:02:23.048463Z",
     "start_time": "2025-09-02T00:02:22.983469Z"
    }
   },
   "cell_type": "code",
   "source": "test_df.group_by(pl.col('ranker_id')).agg(pl.len().alias('count')).sort('count', descending=False).filter(pl.col('count') > 10).head(1000)",
   "id": "b614518d60251441",
   "outputs": [
    {
     "data": {
      "text/plain": [
       "shape: (1_000, 2)\n",
       "┌─────────────────────────────────┬───────┐\n",
       "│ ranker_id                       ┆ count │\n",
       "│ ---                             ┆ ---   │\n",
       "│ str                             ┆ u32   │\n",
       "╞═════════════════════════════════╪═══════╡\n",
       "│ ef446e20cacb468982678f62dd2a8b… ┆ 11    │\n",
       "│ b60508f3e0a6478991fc22bcb7c2a9… ┆ 11    │\n",
       "│ 1577560fb50c4b90a403d44fd28d0c… ┆ 11    │\n",
       "│ 0d918b652375456883b9534046f84e… ┆ 11    │\n",
       "│ fb231c505f8d4aa3a625ea8e975a1b… ┆ 11    │\n",
       "│ …                               ┆ …     │\n",
       "│ 5d1ba56f95794ccba0ab61efa837ca… ┆ 15    │\n",
       "│ 2bcbd7dea6954a9b9d794cc2beb372… ┆ 15    │\n",
       "│ 724ed6663bf744cb9bc9c547c72a6b… ┆ 15    │\n",
       "│ 1ec0016042d94b8eaa79801e22dc42… ┆ 15    │\n",
       "│ 881d536e98d0491298b9a49e0f8dd6… ┆ 15    │\n",
       "└─────────────────────────────────┴───────┘"
      ],
      "text/html": [
       "<div><style>\n",
       ".dataframe > thead > tr,\n",
       ".dataframe > tbody > tr {\n",
       "  text-align: right;\n",
       "  white-space: pre-wrap;\n",
       "}\n",
       "</style>\n",
       "<small>shape: (1_000, 2)</small><table border=\"1\" class=\"dataframe\"><thead><tr><th>ranker_id</th><th>count</th></tr><tr><td>str</td><td>u32</td></tr></thead><tbody><tr><td>&quot;ef446e20cacb468982678f62dd2a8b…</td><td>11</td></tr><tr><td>&quot;b60508f3e0a6478991fc22bcb7c2a9…</td><td>11</td></tr><tr><td>&quot;1577560fb50c4b90a403d44fd28d0c…</td><td>11</td></tr><tr><td>&quot;0d918b652375456883b9534046f84e…</td><td>11</td></tr><tr><td>&quot;fb231c505f8d4aa3a625ea8e975a1b…</td><td>11</td></tr><tr><td>&hellip;</td><td>&hellip;</td></tr><tr><td>&quot;5d1ba56f95794ccba0ab61efa837ca…</td><td>15</td></tr><tr><td>&quot;2bcbd7dea6954a9b9d794cc2beb372…</td><td>15</td></tr><tr><td>&quot;724ed6663bf744cb9bc9c547c72a6b…</td><td>15</td></tr><tr><td>&quot;1ec0016042d94b8eaa79801e22dc42…</td><td>15</td></tr><tr><td>&quot;881d536e98d0491298b9a49e0f8dd6…</td><td>15</td></tr></tbody></table></div>"
      ]
     },
     "execution_count": 77,
     "metadata": {},
     "output_type": "execute_result"
    }
   ],
   "execution_count": 77
  },
  {
   "metadata": {
    "ExecuteTime": {
     "end_time": "2025-09-02T00:02:57.865700Z",
     "start_time": "2025-09-02T00:02:57.856732Z"
    }
   },
   "cell_type": "code",
   "source": "next((item for item in details if item['search_id'] == \"ef446e20cacb468982678f62dd2a8b71\"), None)",
   "id": "cfa73be8e6366c0b",
   "outputs": [
    {
     "data": {
      "text/plain": [
       "{'search_id': 'ef446e20cacb468982678f62dd2a8b71',\n",
       " 'group_size': np.uint32(3),\n",
       " 'num_actual_selections': 1,\n",
       " 'hit': True,\n",
       " 'top_k_scores': [-7.444889495298393, -6.945598460298722, -0.5184594304742536],\n",
       " 'actual_selections_scores': [-0.5184594304742536]}"
      ]
     },
     "execution_count": 78,
     "metadata": {},
     "output_type": "execute_result"
    }
   ],
   "execution_count": 78
  },
  {
   "metadata": {
    "ExecuteTime": {
     "end_time": "2025-09-02T00:03:09.294347Z",
     "start_time": "2025-09-02T00:03:09.275100Z"
    }
   },
   "cell_type": "code",
   "source": "test_df.filter(pl.col('ranker_id') == \"ef446e20cacb468982678f62dd2a8b71\")['selected','y_pred', 'flight_rank'].head(100)",
   "id": "ea69dd84eb3db2ec",
   "outputs": [
    {
     "data": {
      "text/plain": [
       "shape: (11, 3)\n",
       "┌──────────┬────────────┬─────────────┐\n",
       "│ selected ┆ y_pred     ┆ flight_rank │\n",
       "│ ---      ┆ ---        ┆ ---         │\n",
       "│ i64      ┆ f64        ┆ u32         │\n",
       "╞══════════╪════════════╪═════════════╡\n",
       "│ 1        ┆ -11.855496 ┆ 3           │\n",
       "│ 0        ┆ -13.001767 ┆ 9           │\n",
       "│ 0        ┆ -11.868254 ┆ 4           │\n",
       "│ 0        ┆ -11.693528 ┆ 2           │\n",
       "│ 0        ┆ -12.63086  ┆ 7           │\n",
       "│ …        ┆ …          ┆ …           │\n",
       "│ 0        ┆ -14.169297 ┆ 11          │\n",
       "│ 0        ┆ -13.331807 ┆ 10          │\n",
       "│ 0        ┆ -11.34904  ┆ 1           │\n",
       "│ 0        ┆ -12.039074 ┆ 6           │\n",
       "│ 0        ┆ -11.884707 ┆ 5           │\n",
       "└──────────┴────────────┴─────────────┘"
      ],
      "text/html": [
       "<div><style>\n",
       ".dataframe > thead > tr,\n",
       ".dataframe > tbody > tr {\n",
       "  text-align: right;\n",
       "  white-space: pre-wrap;\n",
       "}\n",
       "</style>\n",
       "<small>shape: (11, 3)</small><table border=\"1\" class=\"dataframe\"><thead><tr><th>selected</th><th>y_pred</th><th>flight_rank</th></tr><tr><td>i64</td><td>f64</td><td>u32</td></tr></thead><tbody><tr><td>1</td><td>-11.855496</td><td>3</td></tr><tr><td>0</td><td>-13.001767</td><td>9</td></tr><tr><td>0</td><td>-11.868254</td><td>4</td></tr><tr><td>0</td><td>-11.693528</td><td>2</td></tr><tr><td>0</td><td>-12.63086</td><td>7</td></tr><tr><td>&hellip;</td><td>&hellip;</td><td>&hellip;</td></tr><tr><td>0</td><td>-14.169297</td><td>11</td></tr><tr><td>0</td><td>-13.331807</td><td>10</td></tr><tr><td>0</td><td>-11.34904</td><td>1</td></tr><tr><td>0</td><td>-12.039074</td><td>6</td></tr><tr><td>0</td><td>-11.884707</td><td>5</td></tr></tbody></table></div>"
      ]
     },
     "execution_count": 79,
     "metadata": {},
     "output_type": "execute_result"
    }
   ],
   "execution_count": 79
  },
  {
   "metadata": {},
   "cell_type": "markdown",
   "source": "### Review Sample Submission Format",
   "id": "3ae1071c9e205c5c"
  },
  {
   "metadata": {
    "ExecuteTime": {
     "end_time": "2025-08-31T22:00:26.852775Z",
     "start_time": "2025-08-31T22:00:26.604112Z"
    }
   },
   "cell_type": "code",
   "source": "sample = pl.read_parquet('/kaggle/input/aeroclub-recsys-2025/sample_submission.parquet')",
   "id": "13a9fa698ea2dc49",
   "outputs": [],
   "execution_count": 2
  },
  {
   "metadata": {
    "ExecuteTime": {
     "end_time": "2025-08-31T22:00:35.921804Z",
     "start_time": "2025-08-31T22:00:35.912391Z"
    }
   },
   "cell_type": "code",
   "source": "sample.head(100)",
   "id": "cd91381757aa2c98",
   "outputs": [
    {
     "data": {
      "text/plain": [
       "shape: (100, 4)\n",
       "┌──────────┬─────────────────────────────────┬──────────┬───────────────────┐\n",
       "│ Id       ┆ ranker_id                       ┆ selected ┆ __index_level_0__ │\n",
       "│ ---      ┆ ---                             ┆ ---      ┆ ---               │\n",
       "│ i64      ┆ str                             ┆ i64      ┆ i64               │\n",
       "╞══════════╪═════════════════════════════════╪══════════╪═══════════════════╡\n",
       "│ 18144679 ┆ c9373e5f772e43d593dd6ad2fa90f6… ┆ 178      ┆ 18144679          │\n",
       "│ 18144680 ┆ c9373e5f772e43d593dd6ad2fa90f6… ┆ 363      ┆ 18144680          │\n",
       "│ 18144681 ┆ c9373e5f772e43d593dd6ad2fa90f6… ┆ 277      ┆ 18144681          │\n",
       "│ 18144682 ┆ c9373e5f772e43d593dd6ad2fa90f6… ┆ 183      ┆ 18144682          │\n",
       "│ 18144683 ┆ c9373e5f772e43d593dd6ad2fa90f6… ┆ 55       ┆ 18144683          │\n",
       "│ …        ┆ …                               ┆ …        ┆ …                 │\n",
       "│ 18144774 ┆ c9373e5f772e43d593dd6ad2fa90f6… ┆ 324      ┆ 18144774          │\n",
       "│ 18144775 ┆ c9373e5f772e43d593dd6ad2fa90f6… ┆ 59       ┆ 18144775          │\n",
       "│ 18144776 ┆ c9373e5f772e43d593dd6ad2fa90f6… ┆ 147      ┆ 18144776          │\n",
       "│ 18144777 ┆ c9373e5f772e43d593dd6ad2fa90f6… ┆ 233      ┆ 18144777          │\n",
       "│ 18144778 ┆ c9373e5f772e43d593dd6ad2fa90f6… ┆ 47       ┆ 18144778          │\n",
       "└──────────┴─────────────────────────────────┴──────────┴───────────────────┘"
      ],
      "text/html": [
       "<div><style>\n",
       ".dataframe > thead > tr,\n",
       ".dataframe > tbody > tr {\n",
       "  text-align: right;\n",
       "  white-space: pre-wrap;\n",
       "}\n",
       "</style>\n",
       "<small>shape: (100, 4)</small><table border=\"1\" class=\"dataframe\"><thead><tr><th>Id</th><th>ranker_id</th><th>selected</th><th>__index_level_0__</th></tr><tr><td>i64</td><td>str</td><td>i64</td><td>i64</td></tr></thead><tbody><tr><td>18144679</td><td>&quot;c9373e5f772e43d593dd6ad2fa90f6…</td><td>178</td><td>18144679</td></tr><tr><td>18144680</td><td>&quot;c9373e5f772e43d593dd6ad2fa90f6…</td><td>363</td><td>18144680</td></tr><tr><td>18144681</td><td>&quot;c9373e5f772e43d593dd6ad2fa90f6…</td><td>277</td><td>18144681</td></tr><tr><td>18144682</td><td>&quot;c9373e5f772e43d593dd6ad2fa90f6…</td><td>183</td><td>18144682</td></tr><tr><td>18144683</td><td>&quot;c9373e5f772e43d593dd6ad2fa90f6…</td><td>55</td><td>18144683</td></tr><tr><td>&hellip;</td><td>&hellip;</td><td>&hellip;</td><td>&hellip;</td></tr><tr><td>18144774</td><td>&quot;c9373e5f772e43d593dd6ad2fa90f6…</td><td>324</td><td>18144774</td></tr><tr><td>18144775</td><td>&quot;c9373e5f772e43d593dd6ad2fa90f6…</td><td>59</td><td>18144775</td></tr><tr><td>18144776</td><td>&quot;c9373e5f772e43d593dd6ad2fa90f6…</td><td>147</td><td>18144776</td></tr><tr><td>18144777</td><td>&quot;c9373e5f772e43d593dd6ad2fa90f6…</td><td>233</td><td>18144777</td></tr><tr><td>18144778</td><td>&quot;c9373e5f772e43d593dd6ad2fa90f6…</td><td>47</td><td>18144778</td></tr></tbody></table></div>"
      ]
     },
     "execution_count": 3,
     "metadata": {},
     "output_type": "execute_result"
    }
   ],
   "execution_count": 3
  },
  {
   "metadata": {
    "ExecuteTime": {
     "end_time": "2025-08-31T22:02:05.175256Z",
     "start_time": "2025-08-31T22:02:05.161007Z"
    }
   },
   "cell_type": "code",
   "source": "sample.filter(pl.col('ranker_id') == \"c9373e5f772e43d593dd6ad2fa90f67a\").sort(\"selected\", descending=False)",
   "id": "25cbb5c9e0bcb0f8",
   "outputs": [
    {
     "data": {
      "text/plain": [
       "shape: (412, 4)\n",
       "┌──────────┬─────────────────────────────────┬──────────┬───────────────────┐\n",
       "│ Id       ┆ ranker_id                       ┆ selected ┆ __index_level_0__ │\n",
       "│ ---      ┆ ---                             ┆ ---      ┆ ---               │\n",
       "│ i64      ┆ str                             ┆ i64      ┆ i64               │\n",
       "╞══════════╪═════════════════════════════════╪══════════╪═══════════════════╡\n",
       "│ 18144870 ┆ c9373e5f772e43d593dd6ad2fa90f6… ┆ 1        ┆ 18144870          │\n",
       "│ 18145030 ┆ c9373e5f772e43d593dd6ad2fa90f6… ┆ 2        ┆ 18145030          │\n",
       "│ 18144936 ┆ c9373e5f772e43d593dd6ad2fa90f6… ┆ 3        ┆ 18144936          │\n",
       "│ 18144748 ┆ c9373e5f772e43d593dd6ad2fa90f6… ┆ 4        ┆ 18144748          │\n",
       "│ 18144823 ┆ c9373e5f772e43d593dd6ad2fa90f6… ┆ 5        ┆ 18144823          │\n",
       "│ …        ┆ …                               ┆ …        ┆ …                 │\n",
       "│ 18145000 ┆ c9373e5f772e43d593dd6ad2fa90f6… ┆ 408      ┆ 18145000          │\n",
       "│ 18144751 ┆ c9373e5f772e43d593dd6ad2fa90f6… ┆ 409      ┆ 18144751          │\n",
       "│ 18144918 ┆ c9373e5f772e43d593dd6ad2fa90f6… ┆ 410      ┆ 18144918          │\n",
       "│ 18144688 ┆ c9373e5f772e43d593dd6ad2fa90f6… ┆ 411      ┆ 18144688          │\n",
       "│ 18144773 ┆ c9373e5f772e43d593dd6ad2fa90f6… ┆ 412      ┆ 18144773          │\n",
       "└──────────┴─────────────────────────────────┴──────────┴───────────────────┘"
      ],
      "text/html": [
       "<div><style>\n",
       ".dataframe > thead > tr,\n",
       ".dataframe > tbody > tr {\n",
       "  text-align: right;\n",
       "  white-space: pre-wrap;\n",
       "}\n",
       "</style>\n",
       "<small>shape: (412, 4)</small><table border=\"1\" class=\"dataframe\"><thead><tr><th>Id</th><th>ranker_id</th><th>selected</th><th>__index_level_0__</th></tr><tr><td>i64</td><td>str</td><td>i64</td><td>i64</td></tr></thead><tbody><tr><td>18144870</td><td>&quot;c9373e5f772e43d593dd6ad2fa90f6…</td><td>1</td><td>18144870</td></tr><tr><td>18145030</td><td>&quot;c9373e5f772e43d593dd6ad2fa90f6…</td><td>2</td><td>18145030</td></tr><tr><td>18144936</td><td>&quot;c9373e5f772e43d593dd6ad2fa90f6…</td><td>3</td><td>18144936</td></tr><tr><td>18144748</td><td>&quot;c9373e5f772e43d593dd6ad2fa90f6…</td><td>4</td><td>18144748</td></tr><tr><td>18144823</td><td>&quot;c9373e5f772e43d593dd6ad2fa90f6…</td><td>5</td><td>18144823</td></tr><tr><td>&hellip;</td><td>&hellip;</td><td>&hellip;</td><td>&hellip;</td></tr><tr><td>18145000</td><td>&quot;c9373e5f772e43d593dd6ad2fa90f6…</td><td>408</td><td>18145000</td></tr><tr><td>18144751</td><td>&quot;c9373e5f772e43d593dd6ad2fa90f6…</td><td>409</td><td>18144751</td></tr><tr><td>18144918</td><td>&quot;c9373e5f772e43d593dd6ad2fa90f6…</td><td>410</td><td>18144918</td></tr><tr><td>18144688</td><td>&quot;c9373e5f772e43d593dd6ad2fa90f6…</td><td>411</td><td>18144688</td></tr><tr><td>18144773</td><td>&quot;c9373e5f772e43d593dd6ad2fa90f6…</td><td>412</td><td>18144773</td></tr></tbody></table></div>"
      ]
     },
     "execution_count": 5,
     "metadata": {},
     "output_type": "execute_result"
    }
   ],
   "execution_count": 5
  },
  {
   "metadata": {},
   "cell_type": "markdown",
   "source": "### Misc Explorations",
   "id": "e94e980aa4b901f5"
  },
  {
   "metadata": {
    "ExecuteTime": {
     "end_time": "2025-09-02T02:38:52.247190Z",
     "start_time": "2025-09-02T02:38:52.232691Z"
    }
   },
   "cell_type": "code",
   "source": "train_df_clusters = pl.read_parquet('data/train_customer_features.parquet', columns=[\"customer_segment\"])",
   "id": "57e5ba4a1fd9d4ec",
   "outputs": [],
   "execution_count": 53
  },
  {
   "metadata": {
    "ExecuteTime": {
     "end_time": "2025-09-02T02:39:06.060059Z",
     "start_time": "2025-09-02T02:39:06.053551Z"
    }
   },
   "cell_type": "code",
   "source": "train_df_clusters.head()",
   "id": "12ee22fadfa519d6",
   "outputs": [
    {
     "data": {
      "text/plain": [
       "shape: (5, 1)\n",
       "┌──────────────────┐\n",
       "│ customer_segment │\n",
       "│ ---              │\n",
       "│ i64              │\n",
       "╞══════════════════╡\n",
       "│ 0                │\n",
       "│ 0                │\n",
       "│ 0                │\n",
       "│ 0                │\n",
       "│ 0                │\n",
       "└──────────────────┘"
      ],
      "text/html": [
       "<div><style>\n",
       ".dataframe > thead > tr,\n",
       ".dataframe > tbody > tr {\n",
       "  text-align: right;\n",
       "  white-space: pre-wrap;\n",
       "}\n",
       "</style>\n",
       "<small>shape: (5, 1)</small><table border=\"1\" class=\"dataframe\"><thead><tr><th>customer_segment</th></tr><tr><td>i64</td></tr></thead><tbody><tr><td>0</td></tr><tr><td>0</td></tr><tr><td>0</td></tr><tr><td>0</td></tr><tr><td>0</td></tr></tbody></table></div>"
      ]
     },
     "execution_count": 54,
     "metadata": {},
     "output_type": "execute_result"
    }
   ],
   "execution_count": 54
  },
  {
   "metadata": {
    "ExecuteTime": {
     "end_time": "2025-09-02T02:39:34.602537Z",
     "start_time": "2025-09-02T02:39:34.593559Z"
    }
   },
   "cell_type": "code",
   "source": "train_df_clusters.group_by('customer_segment').len()",
   "id": "aaedc8722521c40",
   "outputs": [
    {
     "data": {
      "text/plain": [
       "shape: (12, 2)\n",
       "┌──────────────────┬───────┐\n",
       "│ customer_segment ┆ len   │\n",
       "│ ---              ┆ ---   │\n",
       "│ i64              ┆ u32   │\n",
       "╞══════════════════╪═══════╡\n",
       "│ 0                ┆ 19782 │\n",
       "│ 4                ┆ 38    │\n",
       "│ 2                ┆ 4     │\n",
       "│ 3                ┆ 2381  │\n",
       "│ 1                ┆ 541   │\n",
       "│ …                ┆ …     │\n",
       "│ 6                ┆ 48    │\n",
       "│ 11               ┆ 224   │\n",
       "│ 7                ┆ 3     │\n",
       "│ 5                ┆ 4315  │\n",
       "│ 10               ┆ 7     │\n",
       "└──────────────────┴───────┘"
      ],
      "text/html": [
       "<div><style>\n",
       ".dataframe > thead > tr,\n",
       ".dataframe > tbody > tr {\n",
       "  text-align: right;\n",
       "  white-space: pre-wrap;\n",
       "}\n",
       "</style>\n",
       "<small>shape: (12, 2)</small><table border=\"1\" class=\"dataframe\"><thead><tr><th>customer_segment</th><th>len</th></tr><tr><td>i64</td><td>u32</td></tr></thead><tbody><tr><td>0</td><td>19782</td></tr><tr><td>4</td><td>38</td></tr><tr><td>2</td><td>4</td></tr><tr><td>3</td><td>2381</td></tr><tr><td>1</td><td>541</td></tr><tr><td>&hellip;</td><td>&hellip;</td></tr><tr><td>6</td><td>48</td></tr><tr><td>11</td><td>224</td></tr><tr><td>7</td><td>3</td></tr><tr><td>5</td><td>4315</td></tr><tr><td>10</td><td>7</td></tr></tbody></table></div>"
      ]
     },
     "execution_count": 55,
     "metadata": {},
     "output_type": "execute_result"
    }
   ],
   "execution_count": 55
  },
  {
   "metadata": {},
   "cell_type": "code",
   "outputs": [],
   "execution_count": null,
   "source": "",
   "id": "33806a0673be41ee"
  }
 ],
 "metadata": {
  "kernelspec": {
   "display_name": "Python 3",
   "language": "python",
   "name": "python3"
  },
  "language_info": {
   "codemirror_mode": {
    "name": "ipython",
    "version": 2
   },
   "file_extension": ".py",
   "mimetype": "text/x-python",
   "name": "python",
   "nbconvert_exporter": "python",
   "pygments_lexer": "ipython2",
   "version": "2.7.6"
  }
 },
 "nbformat": 4,
 "nbformat_minor": 5
}
